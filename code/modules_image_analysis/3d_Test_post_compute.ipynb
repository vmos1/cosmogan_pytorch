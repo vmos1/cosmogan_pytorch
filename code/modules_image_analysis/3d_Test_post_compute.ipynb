{
 "cells": [
  {
   "cell_type": "markdown",
   "metadata": {},
   "source": [
    "# Test post compute 3D"
   ]
  },
  {
   "cell_type": "code",
   "execution_count": 1,
   "metadata": {},
   "outputs": [],
   "source": [
    "import numpy as np\n",
    "import matplotlib.pyplot as plt\n",
    "import pandas as pd\n",
    "\n",
    "import subprocess as sp\n",
    "import sys\n",
    "import os\n",
    "import glob\n",
    "import pickle \n",
    "import itertools\n",
    "\n",
    "from matplotlib.colors import LogNorm, PowerNorm, Normalize\n",
    "from ipywidgets import *"
   ]
  },
  {
   "cell_type": "code",
   "execution_count": 2,
   "metadata": {},
   "outputs": [],
   "source": [
    "%matplotlib widget"
   ]
  },
  {
   "cell_type": "code",
   "execution_count": 3,
   "metadata": {},
   "outputs": [],
   "source": [
    "### Transformation functions for image pixel values\n",
    "def f_transform(x):\n",
    "    return 2.*x/(x + 4.) - 1.\n",
    "\n",
    "def f_invtransform(s):\n",
    "    return 4.*(1. + s)/(1. - s)\n"
   ]
  },
  {
   "cell_type": "markdown",
   "metadata": {},
   "source": [
    "## Histogram modules"
   ]
  },
  {
   "cell_type": "code",
   "execution_count": 4,
   "metadata": {
    "jupyter": {
     "source_hidden": true
    }
   },
   "outputs": [],
   "source": [
    "def f_batch_histogram(img_arr,bins,norm,hist_range):\n",
    "    ''' Compute histogram statistics for a batch of images'''\n",
    "\n",
    "    ## Extracting the range. This is important to ensure that the different histograms are compared correctly\n",
    "    if hist_range==None : ulim,llim=np.max(img_arr),np.min(img_arr)\n",
    "    else: ulim,llim=hist_range[1],hist_range[0]\n",
    "#         print(ulim,llim)\n",
    "    ### array of histogram of each image\n",
    "    hist_arr=np.array([np.histogram(arr.flatten(), bins=bins, range=(llim,ulim), density=norm) for arr in img_arr]) ## range is important\n",
    "    hist=np.stack(hist_arr[:,0]) # First element is histogram array\n",
    "#         print(hist.shape)\n",
    "    bin_list=np.stack(hist_arr[:,1]) # Second element is bin value \n",
    "    ### Compute statistics over histograms of individual images\n",
    "    mean,err=np.mean(hist,axis=0),np.std(hist,axis=0)/np.sqrt(hist.shape[0])\n",
    "    bin_edges=bin_list[0]\n",
    "    centers = (bin_edges[:-1] + bin_edges[1:]) / 2\n",
    "\n",
    "    return mean,err,centers\n",
    "    \n",
    "\n",
    "def f_pixel_intensity(img_arr,bins=25,label='validation',mode='avg',normalize=False,log_scale=True,plot=True, hist_range=None):\n",
    "    '''\n",
    "    Module to compute and plot histogram for pixel intensity of images\n",
    "    Has 2 modes : simple and avg\n",
    "        simple mode: No errors. Just flatten the input image array and compute histogram of full data\n",
    "        avg mode(Default) : \n",
    "            - Compute histogram for each image in the image array\n",
    "            - Compute errors across each histogram \n",
    "    '''\n",
    "    \n",
    "    norm=normalize # Whether to normalize the histogram\n",
    "    \n",
    "    if plot: \n",
    "        plt.figure()\n",
    "        plt.xlabel('Pixel value')\n",
    "        plt.ylabel('Counts')\n",
    "        plt.title('Pixel Intensity Histogram')\n",
    "\n",
    "        if log_scale: plt.yscale('log')\n",
    "    \n",
    "    if mode=='simple':\n",
    "        hist, bin_edges = np.histogram(img_arr.flatten(), bins=bins, density=norm, range=hist_range)\n",
    "        centers = (bin_edges[:-1] + bin_edges[1:]) / 2\n",
    "\n",
    "        if plot: plt.errorbar(centers, hist, fmt='o-', label=label)\n",
    "        return hist,None\n",
    "    \n",
    "    elif mode=='avg': \n",
    "        ### Compute histogram for each image. \n",
    "        mean,err,centers=f_batch_histogram(img_arr,bins,norm,hist_range)\n",
    "\n",
    "        if plot: plt.errorbar(centers,mean,yerr=err,fmt='o-',label=label)  \n",
    "        return mean,err\n",
    "    \n",
    "def f_compare_pixel_intensity(img_lst,label_lst=['img1','img2'],bkgnd_arr=[],log_scale=True, normalize=True, mode='avg',bins=25, hist_range=None):\n",
    "    '''\n",
    "    Module to compute and plot histogram for pixel intensity of images\n",
    "    Has 2 modes : simple and avg\n",
    "    simple mode: No errors. Just flatten the input image array and compute histogram of full data\n",
    "    avg mode(Default) : \n",
    "        - Compute histogram for each image in the image array\n",
    "        - Compute errors across each histogram \n",
    "        \n",
    "    bkgnd_arr : histogram of this array is plotting with +/- sigma band\n",
    "    '''\n",
    "    \n",
    "    norm=normalize # Whether to normalize the histogram\n",
    "    \n",
    "    def f_batch_histogram(img_arr,bins,norm,hist_range):\n",
    "        ''' Compute histogram statistics for a batch of images'''\n",
    "        \n",
    "        ## Extracting the range. This is important to ensure that the different histograms are compared correctly\n",
    "        if hist_range==None : ulim,llim=np.max(img_arr),np.min(img_arr)\n",
    "        else: ulim,llim=hist_range[1],hist_range[0]\n",
    "#         print(ulim,llim)\n",
    "        ### array of histogram of each image\n",
    "        hist_arr=np.array([np.histogram(arr.flatten(), bins=bins, range=(llim,ulim), density=norm) for arr in img_arr]) ## range is important\n",
    "        hist=np.stack(hist_arr[:,0]) # First element is histogram array\n",
    "#         print(hist.shape)\n",
    "\n",
    "        bin_list=np.stack(hist_arr[:,1]) # Second element is bin value \n",
    "        ### Compute statistics over histograms of individual images\n",
    "        mean,err=np.mean(hist,axis=0),np.std(hist,axis=0)/np.sqrt(hist.shape[0])\n",
    "        bin_edges=bin_list[0]\n",
    "        centers = (bin_edges[:-1] + bin_edges[1:]) / 2\n",
    "#         print(bin_edges,centers)\n",
    "\n",
    "        return mean,err,centers\n",
    "    \n",
    "    plt.figure()\n",
    "    \n",
    "    ## Plot background distribution\n",
    "    if len(bkgnd_arr):\n",
    "        if mode=='simple':\n",
    "            hist, bin_edges = np.histogram(bkgnd_arr.flatten(), bins=bins, density=norm, range=hist_range)\n",
    "            centers = (bin_edges[:-1] + bin_edges[1:]) / 2\n",
    "            plt.errorbar(centers, hist, color='k',marker='*',linestyle=':', label='bkgnd')\n",
    "\n",
    "        elif mode=='avg':\n",
    "            ### Compute histogram for each image. \n",
    "            mean,err,centers=f_batch_histogram(bkgnd_arr,bins,norm,hist_range)\n",
    "            plt.plot(centers,mean,linestyle=':',color='k',label='bkgnd')\n",
    "            plt.fill_between(centers, mean - err, mean + err, color='k', alpha=0.4)\n",
    "    \n",
    "    ### Plot the rest of the datasets\n",
    "    for img,label,mrkr in zip(img_lst,label_lst,itertools.cycle('>^*sDHPdpx_')):     \n",
    "        if mode=='simple':\n",
    "            hist, bin_edges = np.histogram(img.flatten(), bins=bins, density=norm, range=hist_range)\n",
    "            centers = (bin_edges[:-1] + bin_edges[1:]) / 2\n",
    "            plt.errorbar(centers, hist, fmt=mrkr+'-', label=label)\n",
    "\n",
    "        elif mode=='avg':\n",
    "            ### Compute histogram for each image. \n",
    "            mean,err,centers=f_batch_histogram(img,bins,norm,hist_range)\n",
    "#             print('Centers',centers)\n",
    "            plt.errorbar(centers,mean,yerr=err,fmt=mrkr+'-',label=label)\n",
    "\n",
    "    if log_scale: \n",
    "        plt.yscale('log')\n",
    "        plt.xscale('symlog',linthreshx=50)\n",
    "\n",
    "    plt.legend()\n",
    "    plt.xlabel('Pixel value')\n",
    "    plt.ylabel('Counts')\n",
    "    plt.title('Pixel Intensity Histogram')"
   ]
  },
  {
   "cell_type": "markdown",
   "metadata": {},
   "source": [
    "### Spectral modules"
   ]
  },
  {
   "cell_type": "code",
   "execution_count": 5,
   "metadata": {},
   "outputs": [],
   "source": [
    "## numpy code\n",
    "def f_radial_profile_3d(data, center=(None,None)):\n",
    "    ''' Module to compute radial profile of a 2D image '''\n",
    "    \n",
    "    z, y, x = np.indices((data.shape)) # Get a grid of x and y values\n",
    "    \n",
    "    center=[]\n",
    "    if not center:\n",
    "        center = np.array([(x.max()-x.min())/2.0, (y.max()-y.min())/2.0, (z.max()-z.min())/2.0]) # compute centers\n",
    "        \n",
    "    # get radial values of every pair of points\n",
    "    r = np.sqrt((x - center[0])**2 + (y - center[1])**2+ + (z - center[2])**2)\n",
    "    r = r.astype(np.int)\n",
    "    \n",
    "    # Compute histogram of r values\n",
    "    tbin = np.bincount(r.ravel(), data.ravel())\n",
    "    nr = np.bincount(r.ravel()) \n",
    "    radialprofile = tbin / nr\n",
    "    \n",
    "    return radialprofile[1:-1]\n",
    "\n",
    "def f_compute_spectrum_3d(arr):\n",
    "    '''\n",
    "    compute spectrum for a 3D image\n",
    "    '''\n",
    "#     GLOBAL_MEAN=1.0\n",
    "#     arr=((arr - GLOBAL_MEAN)/GLOBAL_MEAN)\n",
    "    y1=np.fft.fftn(arr)\n",
    "    y1=np.fft.fftshift(y1)\n",
    "#     print(y1.shape)\n",
    "    y2=abs(y1)**2\n",
    "    z1=f_radial_profile_3d(y2)\n",
    "    return(z1)\n",
    "   \n",
    "def f_batch_spectrum_3d(arr):\n",
    "    batch_pk=np.array([f_compute_spectrum_3d(i) for i in arr])\n",
    "    return batch_pk\n",
    "\n",
    "### Code ###\n",
    "def f_image_spectrum_3d(x,num_channels):\n",
    "    '''\n",
    "    Compute spectrum when image has a channel index\n",
    "    Data has to be in the form (batch,channel,x,y)\n",
    "    '''\n",
    "    mean=[[] for i in range(num_channels)]    \n",
    "    sdev=[[] for i in range(num_channels)]    \n",
    "\n",
    "    for i in range(num_channels):\n",
    "        arr=x[:,i,:,:,:]\n",
    "#         print(i,arr.shape)\n",
    "        batch_pk=f_batch_spectrum_3d(arr)\n",
    "#         print(batch_pk)\n",
    "        mean[i]=np.mean(batch_pk,axis=0)\n",
    "        sdev[i]=np.var(batch_pk,axis=0)\n",
    "    mean=np.array(mean)\n",
    "    sdev=np.array(sdev)\n",
    "    return mean,sdev\n",
    "\n",
    "\n",
    "def f_plot_spectrum_3d(img_arr,plot=False,label='input',log_scale=True):\n",
    "    '''\n",
    "    Module to compute Average of the 1D spectrum for a batch of 3d images\n",
    "    '''\n",
    "    num = img_arr.shape[0]\n",
    "    Pk = f_batch_spectrum_3d(img_arr)\n",
    "\n",
    "    #mean,std = np.mean(Pk, axis=0),np.std(Pk, axis=0)/np.sqrt(Pk.shape[0])\n",
    "    mean,std = np.mean(Pk, axis=0),np.std(Pk, axis=0)\n",
    "    k=np.arange(len(mean))\n",
    "    \n",
    "    if plot: \n",
    "        plt.figure()\n",
    "        plt.plot(k, mean, 'k:')\n",
    "        plt.plot(k, mean + std, 'k-',label=label)\n",
    "        plt.plot(k, mean - std, 'k-')\n",
    "    #     plt.xscale('log')\n",
    "        if log_scale: plt.yscale('log')\n",
    "        plt.ylabel(r'$P(k)$')\n",
    "        plt.xlabel(r'$k$')\n",
    "        plt.title('Power Spectrum')\n",
    "        plt.legend()\n",
    "\n",
    "    return mean,std\n",
    "\n",
    "\n",
    "def f_compare_spectrum_3d(img_lst,label_lst=['img1','img2'],bkgnd_arr=[],log_scale=True):\n",
    "    '''\n",
    "    Compare the spectrum of 2 sets s: \n",
    "    img_lst contains the set of images arrays, Each is of the form (num_images,height,width)\n",
    "    label_lst contains the labels used in the plot\n",
    "    '''\n",
    "    plt.figure()\n",
    "    \n",
    "    ## Plot background distribution\n",
    "    if len(bkgnd_arr):\n",
    "        Pk= f_batch_spectrum_3d(bkgnd_arr)\n",
    "        mean,err = np.mean(Pk, axis=0),np.std(Pk, axis=0)/np.sqrt(Pk.shape[0])\n",
    "        k=np.arange(len(mean))\n",
    "        plt.plot(k, mean,color='k',linestyle='-',label='bkgnd')    \n",
    "        plt.fill_between(k, mean - err, mean + err, color='k',alpha=0.8)\n",
    "    \n",
    "    \n",
    "    for img_arr,label,mrkr in zip(img_lst,label_lst,itertools.cycle('>^*sDHPdpx_')): \n",
    "        Pk= f_batch_spectrum_3d(img_arr)\n",
    "        mean,err = np.mean(Pk, axis=0),np.std(Pk, axis=0)/np.sqrt(Pk.shape[0])\n",
    "\n",
    "        k=np.arange(len(mean))\n",
    "#         print(mean.shape,std.shape)\n",
    "        plt.fill_between(k, mean - err, mean + err, alpha=0.4)\n",
    "        plt.plot(k, mean, marker=mrkr, linestyle=':',label=label)\n",
    "\n",
    "    if log_scale: plt.yscale('log')\n",
    "    plt.ylabel(r'$P(k)$')\n",
    "    plt.xlabel(r'$k$')\n",
    "    plt.title('Power Spectrum')\n",
    "    plt.legend()  \n",
    "    \n"
   ]
  },
  {
   "cell_type": "markdown",
   "metadata": {},
   "source": [
    "### Read data"
   ]
  },
  {
   "cell_type": "code",
   "execution_count": 9,
   "metadata": {},
   "outputs": [
    {
     "name": "stdout",
     "output_type": "stream",
     "text": [
      "(32, 64, 64, 64) (500, 64, 64, 64)\n"
     ]
    }
   ],
   "source": [
    "# fname='/global/cfs/cdirs/m3363/vayyar/cosmogan_data/results_from_other_code/pytorch/results/3d/20210111_104029_3d_/images/best_hist_epoch-8_step-13530.npy'\n",
    "fname='/global/cfs/cdirs/m3363/vayyar/cosmogan_data/results_from_other_code/pytorch/results/3d/20210210_060657_3d_l0.5_80k/images/gen_img_epoch-15_step-37730.npy'\n",
    "a1=np.load(fname)[:,0,:,:,:]\n",
    "\n",
    "fname='/global/cfs/cdirs/m3363/vayyar/cosmogan_data/raw_data/3d_data/dataset1_smoothing_const_params_64cube_100k/val.npy'\n",
    "val_arr=np.load(fname,mmap_mode='r')[-500:,0,:,:,:]\n",
    "print(a1.shape,val_arr.shape)\n",
    "\n",
    "val_arr=f_transform(val_arr)"
   ]
  },
  {
   "cell_type": "code",
   "execution_count": 10,
   "metadata": {},
   "outputs": [
    {
     "data": {
      "text/plain": [
       "(0.9906874, 0.9971457)"
      ]
     },
     "execution_count": 10,
     "metadata": {},
     "output_type": "execute_result"
    }
   ],
   "source": [
    "np.max(val_arr),np.max(a1)"
   ]
  },
  {
   "cell_type": "markdown",
   "metadata": {},
   "source": [
    "### Histogram"
   ]
  },
  {
   "cell_type": "code",
   "execution_count": 11,
   "metadata": {},
   "outputs": [
    {
     "data": {
      "application/vnd.jupyter.widget-view+json": {
       "model_id": "74b105e5e2cf438ea29a34ac1ad269a5",
       "version_major": 2,
       "version_minor": 0
      },
      "text/plain": [
       "Canvas(toolbar=Toolbar(toolitems=[('Home', 'Reset original view', 'home', 'home'), ('Back', 'Back to previous …"
      ]
     },
     "metadata": {},
     "output_type": "display_data"
    },
    {
     "name": "stderr",
     "output_type": "stream",
     "text": [
      "<ipython-input-4-1789f780f060>:9: VisibleDeprecationWarning: Creating an ndarray from ragged nested sequences (which is a list-or-tuple of lists-or-tuples-or ndarrays with different lengths or shapes) is deprecated. If you meant to do this, you must specify 'dtype=object' when creating the ndarray\n",
      "  hist_arr=np.array([np.histogram(arr.flatten(), bins=bins, range=(llim,ulim), density=norm) for arr in img_arr]) ## range is important\n"
     ]
    }
   ],
   "source": [
    "_,_=f_pixel_intensity(a1)"
   ]
  },
  {
   "cell_type": "code",
   "execution_count": 12,
   "metadata": {},
   "outputs": [
    {
     "data": {
      "application/vnd.jupyter.widget-view+json": {
       "model_id": "9f3526857fb340069c19fb415b32502d",
       "version_major": 2,
       "version_minor": 0
      },
      "text/plain": [
       "Canvas(toolbar=Toolbar(toolitems=[('Home', 'Reset original view', 'home', 'home'), ('Back', 'Back to previous …"
      ]
     },
     "metadata": {},
     "output_type": "display_data"
    },
    {
     "name": "stderr",
     "output_type": "stream",
     "text": [
      "<ipython-input-4-1789f780f060>:77: VisibleDeprecationWarning: Creating an ndarray from ragged nested sequences (which is a list-or-tuple of lists-or-tuples-or ndarrays with different lengths or shapes) is deprecated. If you meant to do this, you must specify 'dtype=object' when creating the ndarray\n",
      "  hist_arr=np.array([np.histogram(arr.flatten(), bins=bins, range=(llim,ulim), density=norm) for arr in img_arr]) ## range is important\n",
      "<ipython-input-4-1789f780f060>:120: MatplotlibDeprecationWarning: The 'linthreshx' parameter of __init__() has been renamed 'linthresh' since Matplotlib 3.3; support for the old name will be dropped two minor releases later.\n",
      "  plt.xscale('symlog',linthreshx=50)\n"
     ]
    }
   ],
   "source": [
    "img_lst=[a1,val_arr]\n",
    "label_lst=['a1','val']\n",
    "f_compare_pixel_intensity(img_lst,label_lst=label_lst,bkgnd_arr=[],log_scale=True, normalize=True, mode='avg',bins=25, hist_range=None)\n"
   ]
  },
  {
   "cell_type": "markdown",
   "metadata": {},
   "source": [
    "## Power spectrum"
   ]
  },
  {
   "cell_type": "code",
   "execution_count": 28,
   "metadata": {},
   "outputs": [
    {
     "data": {
      "text/plain": [
       "(32, 1, 64, 64, 64)"
      ]
     },
     "execution_count": 28,
     "metadata": {},
     "output_type": "execute_result"
    }
   ],
   "source": [
    "a1.shape"
   ]
  },
  {
   "cell_type": "code",
   "execution_count": 34,
   "metadata": {},
   "outputs": [
    {
     "data": {
      "text/plain": [
       "array([7.08387989e+06, 3.28201950e+06, 1.96989945e+06, 1.29067951e+06,\n",
       "       8.88855280e+05, 5.79303274e+05, 4.77015606e+05, 3.58533467e+05,\n",
       "       2.55271201e+05, 1.87804421e+05, 1.52941311e+05, 1.20373592e+05,\n",
       "       8.99020955e+04, 6.93547466e+04, 5.53105024e+04, 4.32803411e+04,\n",
       "       3.21364362e+04, 2.45587023e+04, 1.87231209e+04, 1.53876053e+04,\n",
       "       1.13001430e+04, 9.40523400e+03, 7.63251142e+03, 6.31246125e+03,\n",
       "       5.21533361e+03, 4.41272406e+03, 3.82497734e+03, 3.62602297e+03,\n",
       "       3.14059634e+03, 2.73483562e+03, 3.66875483e+03, 2.10761531e+03,\n",
       "       1.63054553e+03, 1.35017626e+03, 1.47162297e+03, 1.06022791e+03,\n",
       "       1.01064532e+03, 9.81427116e+02, 9.53277740e+02, 8.38876481e+02,\n",
       "       8.19499169e+02, 8.21931962e+02, 9.07073995e+02, 2.15897225e+03,\n",
       "       6.72364738e+02, 6.55671060e+02, 1.36135356e+03, 5.34185661e+02,\n",
       "       5.79213578e+02, 8.48842685e+02, 5.68254283e+02, 7.06984838e+02,\n",
       "       6.71464160e+02])"
      ]
     },
     "execution_count": 34,
     "metadata": {},
     "output_type": "execute_result"
    }
   ],
   "source": [
    "# f_image_spectrum_3d(a1,1)\n",
    "f_compute_spectrum_3d(a1[0])"
   ]
  },
  {
   "cell_type": "code",
   "execution_count": 35,
   "metadata": {},
   "outputs": [],
   "source": [
    "# f_image_spectrum_3d(a1,1)"
   ]
  },
  {
   "cell_type": "code",
   "execution_count": 13,
   "metadata": {},
   "outputs": [
    {
     "data": {
      "application/vnd.jupyter.widget-view+json": {
       "model_id": "4858d8526c9546a38d20d334a516cce6",
       "version_major": 2,
       "version_minor": 0
      },
      "text/plain": [
       "Canvas(toolbar=Toolbar(toolitems=[('Home', 'Reset original view', 'home', 'home'), ('Back', 'Back to previous …"
      ]
     },
     "metadata": {},
     "output_type": "display_data"
    }
   ],
   "source": [
    "_,_=f_plot_spectrum_3d(val_arr[:50],plot=True)"
   ]
  },
  {
   "cell_type": "code",
   "execution_count": 18,
   "metadata": {},
   "outputs": [
    {
     "data": {
      "application/vnd.jupyter.widget-view+json": {
       "model_id": "b1c4ff2911a34168a98a16ce9cbb95db",
       "version_major": 2,
       "version_minor": 0
      },
      "text/plain": [
       "Canvas(toolbar=Toolbar(toolitems=[('Home', 'Reset original view', 'home', 'home'), ('Back', 'Back to previous …"
      ]
     },
     "metadata": {},
     "output_type": "display_data"
    }
   ],
   "source": [
    "img_lst=[a1,val_arr]\n",
    "f_compare_spectrum_3d(img_lst)"
   ]
  },
  {
   "cell_type": "code",
   "execution_count": 13,
   "metadata": {},
   "outputs": [
    {
     "data": {
      "text/plain": [
       "(array([6.96167903e+06, 2.80630157e+06, 1.67154431e+06, 1.06305220e+06,\n",
       "        7.13692333e+05, 4.74283132e+05, 3.92096050e+05, 2.90817689e+05,\n",
       "        2.12122431e+05, 1.54404535e+05, 1.25565492e+05, 9.99182558e+04,\n",
       "        7.37214371e+04, 5.73612980e+04, 4.67560598e+04, 3.70876773e+04,\n",
       "        2.70082463e+04, 2.09121164e+04, 1.57593858e+04, 1.29648434e+04,\n",
       "        9.58378518e+03, 7.98290854e+03, 6.47732760e+03, 5.41248283e+03,\n",
       "        4.46644971e+03, 3.78834905e+03, 3.28060415e+03, 3.13369668e+03,\n",
       "        2.69492795e+03, 2.33735546e+03, 3.19385736e+03, 1.79852550e+03,\n",
       "        1.40233130e+03, 1.17182419e+03, 1.27015575e+03, 9.21219968e+02,\n",
       "        8.65756896e+02, 8.55088268e+02, 8.25483017e+02, 7.21995490e+02,\n",
       "        7.07217585e+02, 7.01261455e+02, 7.71470596e+02, 1.91281284e+03,\n",
       "        5.84742510e+02, 5.79849086e+02, 1.25191567e+03, 4.69943191e+02,\n",
       "        5.03094955e+02, 7.47896999e+02, 4.97527664e+02, 6.04793264e+02,\n",
       "        5.89144310e+02]),\n",
       " array([1.49123570e+06, 8.11238682e+05, 5.52316196e+05, 3.59554228e+05,\n",
       "        2.42991733e+05, 1.54106078e+05, 1.24827913e+05, 9.26860434e+04,\n",
       "        6.62236948e+04, 4.74282186e+04, 3.85181888e+04, 3.10730428e+04,\n",
       "        2.28541101e+04, 1.72817427e+04, 1.24844544e+04, 9.96941308e+03,\n",
       "        7.69371189e+03, 5.80982695e+03, 4.46138595e+03, 3.59591733e+03,\n",
       "        2.60462539e+03, 2.12559246e+03, 1.75439572e+03, 1.44888585e+03,\n",
       "        1.17828856e+03, 9.88832846e+02, 8.65736674e+02, 8.12906437e+02,\n",
       "        7.17754533e+02, 6.06360846e+02, 7.55335500e+02, 4.80169151e+02,\n",
       "        3.66075926e+02, 3.04164333e+02, 3.06323252e+02, 2.29177539e+02,\n",
       "        2.28472156e+02, 2.02451280e+02, 2.07954623e+02, 1.90228736e+02,\n",
       "        1.80317632e+02, 1.91755033e+02, 2.06276707e+02, 4.41178012e+02,\n",
       "        1.43725356e+02, 1.33201606e+02, 2.47058143e+02, 1.23693540e+02,\n",
       "        1.28300749e+02, 1.99806993e+02, 1.32567417e+02, 1.56643665e+02,\n",
       "        1.12050116e+02]))"
      ]
     },
     "execution_count": 13,
     "metadata": {},
     "output_type": "execute_result"
    }
   ],
   "source": [
    "f_plot_spectrum_3d(a1,plot=False,label='input',log_scale=True)"
   ]
  },
  {
   "cell_type": "code",
   "execution_count": 16,
   "metadata": {},
   "outputs": [
    {
     "data": {
      "text/plain": [
       "array([[7.08387989e+06, 3.28201950e+06, 1.96989945e+06, ...,\n",
       "        5.68254283e+02, 7.06984838e+02, 6.71464160e+02],\n",
       "       [6.14720807e+06, 3.14619459e+06, 1.80444738e+06, ...,\n",
       "        6.44194892e+02, 7.36690274e+02, 7.11681808e+02],\n",
       "       [8.05727954e+06, 2.48402353e+06, 1.41107729e+06, ...,\n",
       "        4.05522432e+02, 5.08364180e+02, 5.32853469e+02],\n",
       "       ...,\n",
       "       [6.63576575e+06, 2.25974970e+06, 1.28140746e+06, ...,\n",
       "        3.92831149e+02, 4.91930796e+02, 4.86510721e+02],\n",
       "       [8.26878881e+06, 3.62144638e+06, 2.23273761e+06, ...,\n",
       "        5.96735444e+02, 7.28725161e+02, 6.51105340e+02],\n",
       "       [7.46938330e+06, 2.79671083e+06, 1.73894088e+06, ...,\n",
       "        4.83933536e+02, 6.31198788e+02, 5.70291443e+02]])"
      ]
     },
     "execution_count": 16,
     "metadata": {},
     "output_type": "execute_result"
    }
   ],
   "source": [
    "f_batch_spectrum_3d(a1)"
   ]
  },
  {
   "cell_type": "code",
   "execution_count": 19,
   "metadata": {},
   "outputs": [
    {
     "data": {
      "text/plain": [
       "(32, 64, 64, 64)"
      ]
     },
     "execution_count": 19,
     "metadata": {},
     "output_type": "execute_result"
    }
   ],
   "source": [
    "a1.shape"
   ]
  },
  {
   "cell_type": "code",
   "execution_count": 21,
   "metadata": {},
   "outputs": [
    {
     "name": "stdout",
     "output_type": "stream",
     "text": [
      "(32, 64, 64, 64)\n"
     ]
    },
    {
     "data": {
      "text/plain": [
       "(array([6.96167903e+06, 2.80630157e+06, 1.67154431e+06, 1.06305220e+06,\n",
       "        7.13692333e+05, 4.74283132e+05, 3.92096050e+05, 2.90817689e+05,\n",
       "        2.12122431e+05, 1.54404535e+05, 1.25565492e+05, 9.99182558e+04,\n",
       "        7.37214371e+04, 5.73612980e+04, 4.67560598e+04, 3.70876773e+04,\n",
       "        2.70082463e+04, 2.09121164e+04, 1.57593858e+04, 1.29648434e+04,\n",
       "        9.58378518e+03, 7.98290854e+03, 6.47732760e+03, 5.41248283e+03,\n",
       "        4.46644971e+03, 3.78834905e+03, 3.28060415e+03, 3.13369668e+03,\n",
       "        2.69492795e+03, 2.33735546e+03, 3.19385736e+03, 1.79852550e+03,\n",
       "        1.40233130e+03, 1.17182419e+03, 1.27015575e+03, 9.21219968e+02,\n",
       "        8.65756896e+02, 8.55088268e+02, 8.25483017e+02, 7.21995490e+02,\n",
       "        7.07217585e+02, 7.01261455e+02, 7.71470596e+02, 1.91281284e+03,\n",
       "        5.84742510e+02, 5.79849086e+02, 1.25191567e+03, 4.69943191e+02,\n",
       "        5.03094955e+02, 7.47896999e+02, 4.97527664e+02, 6.04793264e+02,\n",
       "        5.89144310e+02]),\n",
       " array([1.49123570e+06, 8.11238682e+05, 5.52316196e+05, 3.59554228e+05,\n",
       "        2.42991733e+05, 1.54106078e+05, 1.24827913e+05, 9.26860434e+04,\n",
       "        6.62236948e+04, 4.74282186e+04, 3.85181888e+04, 3.10730428e+04,\n",
       "        2.28541101e+04, 1.72817427e+04, 1.24844544e+04, 9.96941308e+03,\n",
       "        7.69371189e+03, 5.80982695e+03, 4.46138595e+03, 3.59591733e+03,\n",
       "        2.60462539e+03, 2.12559246e+03, 1.75439572e+03, 1.44888585e+03,\n",
       "        1.17828856e+03, 9.88832846e+02, 8.65736674e+02, 8.12906437e+02,\n",
       "        7.17754533e+02, 6.06360846e+02, 7.55335500e+02, 4.80169151e+02,\n",
       "        3.66075926e+02, 3.04164333e+02, 3.06323252e+02, 2.29177539e+02,\n",
       "        2.28472156e+02, 2.02451280e+02, 2.07954623e+02, 1.90228736e+02,\n",
       "        1.80317632e+02, 1.91755033e+02, 2.06276707e+02, 4.41178012e+02,\n",
       "        1.43725356e+02, 1.33201606e+02, 2.47058143e+02, 1.23693540e+02,\n",
       "        1.28300749e+02, 1.99806993e+02, 1.32567417e+02, 1.56643665e+02,\n",
       "        1.12050116e+02]))"
      ]
     },
     "execution_count": 21,
     "metadata": {},
     "output_type": "execute_result"
    }
   ],
   "source": [
    "print(a1.shape)\n",
    "f_plot_spectrum_3d(a1,plot=False,label='input',log_scale=True)"
   ]
  },
  {
   "cell_type": "code",
   "execution_count": 22,
   "metadata": {},
   "outputs": [
    {
     "data": {
      "text/plain": [
       "array([7.08387989e+06, 3.28201950e+06, 1.96989945e+06, 1.29067951e+06,\n",
       "       8.88855280e+05, 5.79303274e+05, 4.77015606e+05, 3.58533467e+05,\n",
       "       2.55271201e+05, 1.87804421e+05, 1.52941311e+05, 1.20373592e+05,\n",
       "       8.99020955e+04, 6.93547466e+04, 5.53105024e+04, 4.32803411e+04,\n",
       "       3.21364362e+04, 2.45587023e+04, 1.87231209e+04, 1.53876053e+04,\n",
       "       1.13001430e+04, 9.40523400e+03, 7.63251142e+03, 6.31246125e+03,\n",
       "       5.21533361e+03, 4.41272406e+03, 3.82497734e+03, 3.62602297e+03,\n",
       "       3.14059634e+03, 2.73483562e+03, 3.66875483e+03, 2.10761531e+03,\n",
       "       1.63054553e+03, 1.35017626e+03, 1.47162297e+03, 1.06022791e+03,\n",
       "       1.01064532e+03, 9.81427116e+02, 9.53277740e+02, 8.38876481e+02,\n",
       "       8.19499169e+02, 8.21931962e+02, 9.07073995e+02, 2.15897225e+03,\n",
       "       6.72364738e+02, 6.55671060e+02, 1.36135356e+03, 5.34185661e+02,\n",
       "       5.79213578e+02, 8.48842685e+02, 5.68254283e+02, 7.06984838e+02,\n",
       "       6.71464160e+02])"
      ]
     },
     "execution_count": 22,
     "metadata": {},
     "output_type": "execute_result"
    }
   ],
   "source": [
    "f_compute_spectrum_3d(a1[0])"
   ]
  },
  {
   "cell_type": "code",
   "execution_count": 23,
   "metadata": {},
   "outputs": [
    {
     "data": {
      "text/plain": [
       "(64, 64, 64)"
      ]
     },
     "execution_count": 23,
     "metadata": {},
     "output_type": "execute_result"
    }
   ],
   "source": [
    "a1[0].shape"
   ]
  },
  {
   "cell_type": "code",
   "execution_count": null,
   "metadata": {},
   "outputs": [],
   "source": []
  }
 ],
 "metadata": {
  "kernelspec": {
   "display_name": "v3",
   "language": "python",
   "name": "v-jpt-3"
  },
  "language_info": {
   "codemirror_mode": {
    "name": "ipython",
    "version": 3
   },
   "file_extension": ".py",
   "mimetype": "text/x-python",
   "name": "python",
   "nbconvert_exporter": "python",
   "pygments_lexer": "ipython3",
   "version": "3.8.6"
  }
 },
 "nbformat": 4,
 "nbformat_minor": 4
}

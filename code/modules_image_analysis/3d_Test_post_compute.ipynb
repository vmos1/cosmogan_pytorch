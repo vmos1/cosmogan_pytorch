{
 "cells": [
  {
   "cell_type": "markdown",
   "metadata": {},
   "source": [
    "# Test post compute 3D"
   ]
  },
  {
   "cell_type": "code",
   "execution_count": 6,
   "metadata": {},
   "outputs": [],
   "source": [
    "import numpy as np\n",
    "import matplotlib.pyplot as plt\n",
    "import pandas as pd\n",
    "\n",
    "import subprocess as sp\n",
    "import sys\n",
    "import os\n",
    "import glob\n",
    "import pickle \n",
    "import itertools\n",
    "\n",
    "from matplotlib.colors import LogNorm, PowerNorm, Normalize\n",
    "from ipywidgets import *"
   ]
  },
  {
   "cell_type": "code",
   "execution_count": 7,
   "metadata": {},
   "outputs": [],
   "source": [
    "%matplotlib widget"
   ]
  },
  {
   "cell_type": "code",
   "execution_count": 8,
   "metadata": {},
   "outputs": [],
   "source": [
    "### Transformation functions for image pixel values\n",
    "def f_transform(x):\n",
    "    return 2.*x/(x + 4.) - 1.\n",
    "\n",
    "def f_invtransform(s):\n",
    "    return 4.*(1. + s)/(1. - s)\n"
   ]
  },
  {
   "cell_type": "markdown",
   "metadata": {},
   "source": [
    "## Histogram modules"
   ]
  },
  {
   "cell_type": "code",
   "execution_count": 9,
   "metadata": {
    "jupyter": {
     "source_hidden": true
    }
   },
   "outputs": [],
   "source": [
    "def f_batch_histogram(img_arr,bins,norm,hist_range):\n",
    "    ''' Compute histogram statistics for a batch of images'''\n",
    "\n",
    "    ## Extracting the range. This is important to ensure that the different histograms are compared correctly\n",
    "    if hist_range==None : ulim,llim=np.max(img_arr),np.min(img_arr)\n",
    "    else: ulim,llim=hist_range[1],hist_range[0]\n",
    "#         print(ulim,llim)\n",
    "    ### array of histogram of each image\n",
    "    hist_arr=np.array([np.histogram(arr.flatten(), bins=bins, range=(llim,ulim), density=norm) for arr in img_arr]) ## range is important\n",
    "    hist=np.stack(hist_arr[:,0]) # First element is histogram array\n",
    "#         print(hist.shape)\n",
    "    bin_list=np.stack(hist_arr[:,1]) # Second element is bin value \n",
    "    ### Compute statistics over histograms of individual images\n",
    "    mean,err=np.mean(hist,axis=0),np.std(hist,axis=0)/np.sqrt(hist.shape[0])\n",
    "    bin_edges=bin_list[0]\n",
    "    centers = (bin_edges[:-1] + bin_edges[1:]) / 2\n",
    "\n",
    "    return mean,err,centers\n",
    "    \n",
    "\n",
    "def f_pixel_intensity(img_arr,bins=25,label='validation',mode='avg',normalize=False,log_scale=True,plot=True, hist_range=None):\n",
    "    '''\n",
    "    Module to compute and plot histogram for pixel intensity of images\n",
    "    Has 2 modes : simple and avg\n",
    "        simple mode: No errors. Just flatten the input image array and compute histogram of full data\n",
    "        avg mode(Default) : \n",
    "            - Compute histogram for each image in the image array\n",
    "            - Compute errors across each histogram \n",
    "    '''\n",
    "    \n",
    "    norm=normalize # Whether to normalize the histogram\n",
    "    \n",
    "    if plot: \n",
    "        plt.figure()\n",
    "        plt.xlabel('Pixel value')\n",
    "        plt.ylabel('Counts')\n",
    "        plt.title('Pixel Intensity Histogram')\n",
    "\n",
    "        if log_scale: plt.yscale('log')\n",
    "    \n",
    "    if mode=='simple':\n",
    "        hist, bin_edges = np.histogram(img_arr.flatten(), bins=bins, density=norm, range=hist_range)\n",
    "        centers = (bin_edges[:-1] + bin_edges[1:]) / 2\n",
    "\n",
    "        if plot: plt.errorbar(centers, hist, fmt='o-', label=label)\n",
    "        return hist,None\n",
    "    \n",
    "    elif mode=='avg': \n",
    "        ### Compute histogram for each image. \n",
    "        mean,err,centers=f_batch_histogram(img_arr,bins,norm,hist_range)\n",
    "\n",
    "        if plot: plt.errorbar(centers,mean,yerr=err,fmt='o-',label=label)  \n",
    "        return mean,err\n",
    "    \n",
    "def f_compare_pixel_intensity(img_lst,label_lst=['img1','img2'],bkgnd_arr=[],log_scale=True, normalize=True, mode='avg',bins=25, hist_range=None):\n",
    "    '''\n",
    "    Module to compute and plot histogram for pixel intensity of images\n",
    "    Has 2 modes : simple and avg\n",
    "    simple mode: No errors. Just flatten the input image array and compute histogram of full data\n",
    "    avg mode(Default) : \n",
    "        - Compute histogram for each image in the image array\n",
    "        - Compute errors across each histogram \n",
    "        \n",
    "    bkgnd_arr : histogram of this array is plotting with +/- sigma band\n",
    "    '''\n",
    "    \n",
    "    norm=normalize # Whether to normalize the histogram\n",
    "    \n",
    "    def f_batch_histogram(img_arr,bins,norm,hist_range):\n",
    "        ''' Compute histogram statistics for a batch of images'''\n",
    "        \n",
    "        ## Extracting the range. This is important to ensure that the different histograms are compared correctly\n",
    "        if hist_range==None : ulim,llim=np.max(img_arr),np.min(img_arr)\n",
    "        else: ulim,llim=hist_range[1],hist_range[0]\n",
    "#         print(ulim,llim)\n",
    "        ### array of histogram of each image\n",
    "        hist_arr=np.array([np.histogram(arr.flatten(), bins=bins, range=(llim,ulim), density=norm) for arr in img_arr]) ## range is important\n",
    "        hist=np.stack(hist_arr[:,0]) # First element is histogram array\n",
    "#         print(hist.shape)\n",
    "\n",
    "        bin_list=np.stack(hist_arr[:,1]) # Second element is bin value \n",
    "        ### Compute statistics over histograms of individual images\n",
    "        mean,err=np.mean(hist,axis=0),np.std(hist,axis=0)/np.sqrt(hist.shape[0])\n",
    "        bin_edges=bin_list[0]\n",
    "        centers = (bin_edges[:-1] + bin_edges[1:]) / 2\n",
    "#         print(bin_edges,centers)\n",
    "\n",
    "        return mean,err,centers\n",
    "    \n",
    "    plt.figure()\n",
    "    \n",
    "    ## Plot background distribution\n",
    "    if len(bkgnd_arr):\n",
    "        if mode=='simple':\n",
    "            hist, bin_edges = np.histogram(bkgnd_arr.flatten(), bins=bins, density=norm, range=hist_range)\n",
    "            centers = (bin_edges[:-1] + bin_edges[1:]) / 2\n",
    "            plt.errorbar(centers, hist, color='k',marker='*',linestyle=':', label='bkgnd')\n",
    "\n",
    "        elif mode=='avg':\n",
    "            ### Compute histogram for each image. \n",
    "            mean,err,centers=f_batch_histogram(bkgnd_arr,bins,norm,hist_range)\n",
    "            plt.plot(centers,mean,linestyle=':',color='k',label='bkgnd')\n",
    "            plt.fill_between(centers, mean - err, mean + err, color='k', alpha=0.4)\n",
    "    \n",
    "    ### Plot the rest of the datasets\n",
    "    for img,label,mrkr in zip(img_lst,label_lst,itertools.cycle('>^*sDHPdpx_')):     \n",
    "        if mode=='simple':\n",
    "            hist, bin_edges = np.histogram(img.flatten(), bins=bins, density=norm, range=hist_range)\n",
    "            centers = (bin_edges[:-1] + bin_edges[1:]) / 2\n",
    "            plt.errorbar(centers, hist, fmt=mrkr+'-', label=label)\n",
    "\n",
    "        elif mode=='avg':\n",
    "            ### Compute histogram for each image. \n",
    "            mean,err,centers=f_batch_histogram(img,bins,norm,hist_range)\n",
    "#             print('Centers',centers)\n",
    "            plt.errorbar(centers,mean,yerr=err,fmt=mrkr+'-',label=label)\n",
    "\n",
    "    if log_scale: \n",
    "        plt.yscale('log')\n",
    "        plt.xscale('symlog',linthreshx=50)\n",
    "\n",
    "    plt.legend()\n",
    "    plt.xlabel('Pixel value')\n",
    "    plt.ylabel('Counts')\n",
    "    plt.title('Pixel Intensity Histogram')"
   ]
  },
  {
   "cell_type": "markdown",
   "metadata": {},
   "source": [
    "### Spectral modules"
   ]
  },
  {
   "cell_type": "code",
   "execution_count": 10,
   "metadata": {},
   "outputs": [],
   "source": [
    "## numpy code\n",
    "def f_radial_profile_3d(data, center=(None,None)):\n",
    "    ''' Module to compute radial profile of a 2D image '''\n",
    "    \n",
    "    z, y, x = np.indices((data.shape)) # Get a grid of x and y values\n",
    "    \n",
    "    center=[]\n",
    "    if not center:\n",
    "        center = np.array([(x.max()-x.min())/2.0, (y.max()-y.min())/2.0, (z.max()-z.min())/2.0]) # compute centers\n",
    "        \n",
    "    # get radial values of every pair of points\n",
    "    r = np.sqrt((x - center[0])**2 + (y - center[1])**2+ + (z - center[2])**2)\n",
    "    r = r.astype(np.int)\n",
    "    \n",
    "    # Compute histogram of r values\n",
    "    tbin = np.bincount(r.ravel(), data.ravel())\n",
    "    nr = np.bincount(r.ravel()) \n",
    "    radialprofile = tbin / nr\n",
    "    \n",
    "    return radialprofile[1:-1]\n",
    "\n",
    "def f_compute_spectrum_3d(arr):\n",
    "    '''\n",
    "    compute spectrum for a 3D image\n",
    "    '''\n",
    "#     GLOBAL_MEAN=1.0\n",
    "#     arr=((arr - GLOBAL_MEAN)/GLOBAL_MEAN)\n",
    "    y1=np.fft.fftn(arr)\n",
    "    y1=np.fft.fftshift(y1)\n",
    "#     print(y1.shape)\n",
    "    y2=abs(y1)**2\n",
    "    z1=f_radial_profile_3d(y2)\n",
    "    return(z1)\n",
    "   \n",
    "def f_batch_spectrum_3d(arr):\n",
    "    batch_pk=np.array([f_compute_spectrum_3d(i) for i in arr])\n",
    "    return batch_pk\n",
    "\n",
    "### Code ###\n",
    "def f_image_spectrum_3d(x,num_channels):\n",
    "    '''\n",
    "    Compute spectrum when image has a channel index\n",
    "    Data has to be in the form (batch,channel,x,y)\n",
    "    '''\n",
    "    mean=[[] for i in range(num_channels)]    \n",
    "    sdev=[[] for i in range(num_channels)]    \n",
    "\n",
    "    for i in range(num_channels):\n",
    "        arr=x[:,i,:,:,:]\n",
    "#         print(i,arr.shape)\n",
    "        batch_pk=f_batch_spectrum_3d(arr)\n",
    "#         print(batch_pk)\n",
    "        mean[i]=np.mean(batch_pk,axis=0)\n",
    "        sdev[i]=np.var(batch_pk,axis=0)\n",
    "    mean=np.array(mean)\n",
    "    sdev=np.array(sdev)\n",
    "    return mean,sdev\n",
    "\n",
    "\n",
    "def f_plot_spectrum_3d(img_arr,plot=False,label='input',log_scale=True):\n",
    "    '''\n",
    "    Module to compute Average of the 1D spectrum for a batch of 3d images\n",
    "    '''\n",
    "    num = img_arr.shape[0]\n",
    "    Pk = f_batch_spectrum_3d(img_arr)\n",
    "\n",
    "    #mean,std = np.mean(Pk, axis=0),np.std(Pk, axis=0)/np.sqrt(Pk.shape[0])\n",
    "    mean,std = np.mean(Pk, axis=0),np.std(Pk, axis=0)\n",
    "    k=np.arange(len(mean))\n",
    "    \n",
    "    if plot: \n",
    "        plt.figure()\n",
    "        plt.plot(k, mean, 'k:')\n",
    "        plt.plot(k, mean + std, 'k-',label=label)\n",
    "        plt.plot(k, mean - std, 'k-')\n",
    "    #     plt.xscale('log')\n",
    "        if log_scale: plt.yscale('log')\n",
    "        plt.ylabel(r'$P(k)$')\n",
    "        plt.xlabel(r'$k$')\n",
    "        plt.title('Power Spectrum')\n",
    "        plt.legend()\n",
    "\n",
    "    return mean,std\n",
    "\n",
    "\n",
    "def f_compare_spectrum_3d(img_lst,label_lst=['img1','img2'],bkgnd_arr=[],log_scale=True):\n",
    "    '''\n",
    "    Compare the spectrum of 2 sets s: \n",
    "    img_lst contains the set of images arrays, Each is of the form (num_images,height,width)\n",
    "    label_lst contains the labels used in the plot\n",
    "    '''\n",
    "    plt.figure()\n",
    "    \n",
    "    ## Plot background distribution\n",
    "    if len(bkgnd_arr):\n",
    "        Pk= f_batch_spectrum_3d(bkgnd_arr)\n",
    "        mean,err = np.mean(Pk, axis=0),np.std(Pk, axis=0)/np.sqrt(Pk.shape[0])\n",
    "        k=np.arange(len(mean))\n",
    "        plt.plot(k, mean,color='k',linestyle='-',label='bkgnd')    \n",
    "        plt.fill_between(k, mean - err, mean + err, color='k',alpha=0.8)\n",
    "    \n",
    "    \n",
    "    for img_arr,label,mrkr in zip(img_lst,label_lst,itertools.cycle('>^*sDHPdpx_')): \n",
    "        Pk= f_batch_spectrum_3d(img_arr)\n",
    "        mean,err = np.mean(Pk, axis=0),np.std(Pk, axis=0)/np.sqrt(Pk.shape[0])\n",
    "\n",
    "        k=np.arange(len(mean))\n",
    "#         print(mean.shape,std.shape)\n",
    "        plt.fill_between(k, mean - err, mean + err, alpha=0.4)\n",
    "        plt.plot(k, mean, marker=mrkr, linestyle=':',label=label)\n",
    "\n",
    "    if log_scale: plt.yscale('log')\n",
    "    plt.ylabel(r'$P(k)$')\n",
    "    plt.xlabel(r'$k$')\n",
    "    plt.title('Power Spectrum')\n",
    "    plt.legend()  \n",
    "    \n"
   ]
  },
  {
   "cell_type": "markdown",
   "metadata": {},
   "source": [
    "### Read data"
   ]
  },
  {
   "cell_type": "code",
   "execution_count": 33,
   "metadata": {},
   "outputs": [
    {
     "name": "stdout",
     "output_type": "stream",
     "text": [
      "(500, 64, 64, 64) (500, 64, 64, 64)\n"
     ]
    }
   ],
   "source": [
    "fname='/global/cfs/cdirs/m3363/vayyar/cosmogan_data/results_from_other_code/pytorch/results/3d/20210111_104029_3d_/images/best_spec_epoch-11_step-18638.npy'\n",
    "# fname='/global/cfs/cdirs/m3363/vayyar/cosmogan_data/results_from_other_code/pytorch/results/3d/20210111_104029_3d_/images/best_hist_epoch-8_step-13530.npy'\n",
    "a1=np.load(fname)\n",
    "\n",
    "fname='/global/cfs/cdirs/m3363/vayyar/cosmogan_data/raw_data/3d_data/dataset1_smoothing_const_params_100k/val.npy'\n",
    "val_arr=np.load(fname,mmap_mode='r')[-500:,0,:,:,:]\n",
    "print(a1.shape,val_arr.shape)\n",
    "\n",
    "val_arr=f_transform(val_arr)"
   ]
  },
  {
   "cell_type": "code",
   "execution_count": 34,
   "metadata": {},
   "outputs": [
    {
     "data": {
      "text/plain": [
       "(0.9906874, 0.54877317)"
      ]
     },
     "execution_count": 34,
     "metadata": {},
     "output_type": "execute_result"
    }
   ],
   "source": [
    "np.max(val_arr),np.max(a1)"
   ]
  },
  {
   "cell_type": "markdown",
   "metadata": {},
   "source": [
    "### Histogram"
   ]
  },
  {
   "cell_type": "code",
   "execution_count": 35,
   "metadata": {},
   "outputs": [
    {
     "data": {
      "application/vnd.jupyter.widget-view+json": {
       "model_id": "e6270c5e284d4acca168b7e55681a089",
       "version_major": 2,
       "version_minor": 0
      },
      "text/plain": [
       "Canvas(toolbar=Toolbar(toolitems=[('Home', 'Reset original view', 'home', 'home'), ('Back', 'Back to previous …"
      ]
     },
     "metadata": {},
     "output_type": "display_data"
    },
    {
     "name": "stderr",
     "output_type": "stream",
     "text": [
      "<ipython-input-9-1789f780f060>:9: VisibleDeprecationWarning: Creating an ndarray from ragged nested sequences (which is a list-or-tuple of lists-or-tuples-or ndarrays with different lengths or shapes) is deprecated. If you meant to do this, you must specify 'dtype=object' when creating the ndarray\n",
      "  hist_arr=np.array([np.histogram(arr.flatten(), bins=bins, range=(llim,ulim), density=norm) for arr in img_arr]) ## range is important\n"
     ]
    }
   ],
   "source": [
    "_,_=f_pixel_intensity(a1)"
   ]
  },
  {
   "cell_type": "code",
   "execution_count": 36,
   "metadata": {},
   "outputs": [
    {
     "data": {
      "application/vnd.jupyter.widget-view+json": {
       "model_id": "6eed98874fe14c7babcf9f84f4788248",
       "version_major": 2,
       "version_minor": 0
      },
      "text/plain": [
       "Canvas(toolbar=Toolbar(toolitems=[('Home', 'Reset original view', 'home', 'home'), ('Back', 'Back to previous …"
      ]
     },
     "metadata": {},
     "output_type": "display_data"
    },
    {
     "name": "stderr",
     "output_type": "stream",
     "text": [
      "<ipython-input-9-1789f780f060>:77: VisibleDeprecationWarning: Creating an ndarray from ragged nested sequences (which is a list-or-tuple of lists-or-tuples-or ndarrays with different lengths or shapes) is deprecated. If you meant to do this, you must specify 'dtype=object' when creating the ndarray\n",
      "  hist_arr=np.array([np.histogram(arr.flatten(), bins=bins, range=(llim,ulim), density=norm) for arr in img_arr]) ## range is important\n",
      "<ipython-input-9-1789f780f060>:120: MatplotlibDeprecationWarning: The 'linthreshx' parameter of __init__() has been renamed 'linthresh' since Matplotlib 3.3; support for the old name will be dropped two minor releases later.\n",
      "  plt.xscale('symlog',linthreshx=50)\n"
     ]
    }
   ],
   "source": [
    "img_lst=[a1,val_arr]\n",
    "label_lst=['a1','val']\n",
    "f_compare_pixel_intensity(img_lst,label_lst=label_lst,bkgnd_arr=[],log_scale=True, normalize=True, mode='avg',bins=25, hist_range=None)\n"
   ]
  },
  {
   "cell_type": "markdown",
   "metadata": {},
   "source": [
    "## Power spectrum"
   ]
  },
  {
   "cell_type": "code",
   "execution_count": 41,
   "metadata": {},
   "outputs": [],
   "source": [
    "# f_image_spectrum_3d(np.expand_dims(a1[:10],1),1)"
   ]
  },
  {
   "cell_type": "code",
   "execution_count": 37,
   "metadata": {},
   "outputs": [
    {
     "data": {
      "application/vnd.jupyter.widget-view+json": {
       "model_id": "cb8e61eab7644d22bbd41806b66a2e72",
       "version_major": 2,
       "version_minor": 0
      },
      "text/plain": [
       "Canvas(toolbar=Toolbar(toolitems=[('Home', 'Reset original view', 'home', 'home'), ('Back', 'Back to previous …"
      ]
     },
     "metadata": {},
     "output_type": "display_data"
    }
   ],
   "source": [
    "_,_=f_plot_spectrum_3d(val_arr[:50],plot=True)"
   ]
  },
  {
   "cell_type": "code",
   "execution_count": 38,
   "metadata": {},
   "outputs": [
    {
     "data": {
      "application/vnd.jupyter.widget-view+json": {
       "model_id": "8e14227b84a74a29ac1bfd8f6c77808a",
       "version_major": 2,
       "version_minor": 0
      },
      "text/plain": [
       "Canvas(toolbar=Toolbar(toolitems=[('Home', 'Reset original view', 'home', 'home'), ('Back', 'Back to previous …"
      ]
     },
     "metadata": {},
     "output_type": "display_data"
    }
   ],
   "source": [
    "img_lst=[a1,val_arr]\n",
    "f_compare_spectrum_3d(img_lst)"
   ]
  },
  {
   "cell_type": "code",
   "execution_count": null,
   "metadata": {},
   "outputs": [],
   "source": []
  }
 ],
 "metadata": {
  "kernelspec": {
   "display_name": "v3",
   "language": "python",
   "name": "v-jpt-3"
  },
  "language_info": {
   "codemirror_mode": {
    "name": "ipython",
    "version": 3
   },
   "file_extension": ".py",
   "mimetype": "text/x-python",
   "name": "python",
   "nbconvert_exporter": "python",
   "pygments_lexer": "ipython3",
   "version": "3.8.6"
  }
 },
 "nbformat": 4,
 "nbformat_minor": 4
}

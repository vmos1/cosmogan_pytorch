{
 "cells": [
  {
   "cell_type": "markdown",
   "metadata": {},
   "source": [
    "# Check datat read speeds for numpy vs hdf5 files\n",
    "April 22, 2021"
   ]
  },
  {
   "cell_type": "code",
   "execution_count": 1,
   "metadata": {},
   "outputs": [],
   "source": [
    "import numpy as np\n",
    "import matplotlib.pyplot as plt\n",
    "import pandas as pd\n",
    "import sys\n",
    "import os\n",
    "import glob\n",
    "import h5py\n",
    "\n",
    "import time"
   ]
  },
  {
   "cell_type": "markdown",
   "metadata": {},
   "source": [
    "5_Og=0.45_Sg=0.5_H0=100.0 \\\n",
    "22_Og=0.15_Sg=0.8_H0=100.0 \\\n",
    "24_Og=0.15_Sg=1.1_H0=100.0 \\\n",
    "26_Og=0.15_Sg=0.5_H0=100.0 \n",
    "\n",
    "Nov 11, 2020 \\\n",
    "Fix H_0=70.0, Omega_m = 0.3 \\\n",
    "Sigma_8=0.5, 0.8, 1.1 \n",
    "\n",
    "Nov 12, 2020 \\\n",
    "H_0=70.0 \\\n",
    "Omega_m= 0.15,0.3, Sigma_8 = 0.5,0.8, 1.1 \n"
   ]
  },
  {
   "cell_type": "code",
   "execution_count": 38,
   "metadata": {},
   "outputs": [],
   "source": [
    "main_dir='/global/cfs/cdirs/m3363/vayyar/cosmogan_data/raw_data/3d_data/dataset1_smoothing_const_params_64cube_100k/'\n",
    "# main_dir='/global/cscratch1/sd/vpa/proj/cosmogan/results_dir/128square/'\n",
    "fname=main_dir+'norm_1_train_val.npy'\n",
    "\n",
    "a1=np.load(fname,mmap_mode='r')[:10000]"
   ]
  },
  {
   "cell_type": "code",
   "execution_count": 39,
   "metadata": {},
   "outputs": [
    {
     "data": {
      "text/plain": [
       "(10000, 1, 64, 64, 64)"
      ]
     },
     "execution_count": 39,
     "metadata": {},
     "output_type": "execute_result"
    }
   ],
   "source": [
    "a1.shape"
   ]
  },
  {
   "cell_type": "code",
   "execution_count": 6,
   "metadata": {},
   "outputs": [],
   "source": [
    "def f_samples_random(ip_arr,rank=0,num_ranks=1):\n",
    "    '''\n",
    "    Module to get part of the numpy image file\n",
    "    '''\n",
    "    \n",
    "    data_size=ip_arr.shape[0]\n",
    "    size=data_size//num_ranks\n",
    "    \n",
    "#     if gdict['batch_size']>size:\n",
    "#         print(\"Caution: batchsize %s is greater than samples per GPU %s\"%(gdict['batch_size'],size))\n",
    "#         raise SystemExit\n",
    "        \n",
    "    ### Get a set of random indices from numpy array\n",
    "    t1=time.time()\n",
    "    idxs=np.arange(ip_arr.shape[0])\n",
    "    t2=time.time()\n",
    "    np.random.shuffle(idxs)\n",
    "    t3=time.time()\n",
    "    rnd_idxs=idxs[rank*(size):(rank+1)*size]\n",
    "    t4=time.time()\n",
    "    arr=ip_arr[rnd_idxs].copy()\n",
    "    t5=time.time()\n",
    "    \n",
    "    print(t5-t4,t4-t3,t4-t2,t2-t1)\n",
    "    return arr"
   ]
  },
  {
   "cell_type": "code",
   "execution_count": 40,
   "metadata": {},
   "outputs": [
    {
     "name": "stdout",
     "output_type": "stream",
     "text": [
      "1.7952494621276855 1.6689300537109375e-06 6.67572021484375e-05 1.6927719116210938e-05\n"
     ]
    }
   ],
   "source": [
    "# Time of reading slices\n",
    "\n",
    "N=1000\n",
    "\n",
    "## random indices\n",
    "\n",
    "_=f_samples_random(a1[:N],0,1)"
   ]
  },
  {
   "cell_type": "code",
   "execution_count": 41,
   "metadata": {
    "collapsed": true,
    "jupyter": {
     "outputs_hidden": true
    },
    "tags": []
   },
   "outputs": [
    {
     "data": {
      "text/plain": [
       "array([304, 583, 396, 974, 553, 743, 782, 778, 741, 514, 504, 134,  20,\n",
       "       467, 472, 107, 748, 709, 944, 347,  78, 879, 546, 426, 211, 844,\n",
       "       121, 750,  21, 541, 599, 574, 803, 163, 550, 231, 897, 166, 999,\n",
       "       958, 286, 224, 158, 724, 105, 182, 649,  22, 593, 120, 812,  72,\n",
       "       479, 135, 476, 594, 570, 391, 470, 669,  69, 332, 988, 930, 157,\n",
       "       783, 288, 279, 964, 555, 164, 890, 630, 273, 818, 717, 529, 346,\n",
       "       190, 170, 395, 691, 993, 563, 319, 315, 333, 640, 206, 616,  53,\n",
       "       935, 155, 491, 350, 772, 696, 129, 730, 980,   1,  77, 527, 910,\n",
       "       140, 781, 343, 791, 474, 813, 749, 950,  34, 639, 614, 377, 296,\n",
       "       280, 790, 591, 241, 362, 183, 537, 815, 239, 880, 259, 345, 670,\n",
       "       371, 381, 903, 774, 832, 159, 984, 970, 473, 620, 503, 522, 686,\n",
       "       576, 863, 708, 448, 463, 499, 957, 849, 189,  93, 902, 307, 587,\n",
       "       501, 664, 674, 446, 850, 747, 197, 336, 173, 117, 994, 763, 285,\n",
       "       851, 992,  89, 316,  37, 534, 882, 161, 956, 989, 205, 253, 218,\n",
       "        17, 299, 457, 310, 811, 428, 418, 720, 167, 972, 627, 119, 230,\n",
       "       440, 484, 647, 160, 453, 421, 246, 631, 387,  73, 745, 939, 865,\n",
       "       500, 412, 660, 394, 801, 531, 906, 657, 896, 452, 413, 707, 726,\n",
       "       955, 410, 494, 618, 794, 432, 536, 263, 700, 449, 168, 622,  82,\n",
       "       824, 509, 318, 193, 196, 677, 788, 264, 496,  67, 893, 770, 322,\n",
       "       739, 602, 666, 390, 690, 114, 617, 826, 311, 914, 258, 386, 735,\n",
       "        36, 721, 962, 682, 481, 597, 291, 817, 702, 946, 419,  28, 110,\n",
       "       454, 507, 515,  24, 734, 761, 468, 498, 598, 582, 725, 485, 483,\n",
       "       869,  63, 904, 603, 162, 852, 916, 384, 695,  19, 378, 590, 833,\n",
       "       829, 716, 502, 497, 676, 634, 560, 769, 268, 287, 495, 305, 146,\n",
       "       705, 796, 845, 309,  94, 505, 521,  32, 542, 420, 626, 298, 137,\n",
       "       283, 225, 641, 334, 399, 933, 488, 977, 180, 694, 926, 929, 595,\n",
       "        71, 341, 278, 805, 229, 308, 760,  58,  31, 573, 248, 203, 262,\n",
       "       512, 978, 816,  97, 223, 872, 922, 269, 638, 924, 681, 961, 404,\n",
       "       943, 482, 427, 174, 274, 780, 388,  43, 235, 313, 306, 123, 754,\n",
       "       125, 697, 149,  52, 740, 382, 679,  65, 643, 608, 919, 759, 293,\n",
       "       768, 663, 667, 247, 401, 435, 923, 352, 868, 545, 439, 493, 462,\n",
       "       357, 822, 891,  62, 779, 601, 633, 303, 575, 535, 409, 175, 169,\n",
       "       858, 128, 533, 237, 217, 289,  60, 918, 673,  56, 604, 921,  12,\n",
       "        84, 928, 266, 625, 284, 213, 586, 519, 981, 704, 466, 837,  48,\n",
       "       549, 656, 131, 871, 184,  96, 492, 566, 368, 969, 715, 220, 329,\n",
       "       967, 480, 276, 245,  86, 416, 326, 191, 898, 611, 186,  61, 111,\n",
       "       785, 698, 227, 518, 632, 610,   2, 949, 132, 294, 366,   3, 353,\n",
       "       513, 112, 887, 646, 767, 925, 517,   6, 126, 321, 222, 968, 364,\n",
       "       251,  50, 713, 250, 973, 438, 847, 991, 194, 776,  44, 417, 655,\n",
       "       758, 665,  81, 766, 795, 843,  23,  55, 414, 210, 181, 894,  66,\n",
       "       731, 312, 165, 451, 820, 888, 613, 516, 659,  15, 552, 637, 226,\n",
       "       389, 678, 233, 733, 151, 455, 330, 867, 461, 510, 187, 840, 376,\n",
       "        40, 314, 209, 443, 650, 559, 124, 931,  64, 579,  75, 138, 744,\n",
       "       459, 886, 172, 444, 360, 539, 301,  80, 757,  33, 861, 429, 471,\n",
       "       436, 568,  25, 693, 836, 380, 712, 952, 856, 275, 727, 109, 937,\n",
       "       118, 756, 889,  74, 232, 798, 684, 547, 786, 662, 605, 875, 940,\n",
       "       188, 846, 331,  13, 403, 215, 530, 544,   8, 738, 683, 834, 732,\n",
       "       277, 141, 415,  38, 358, 178, 271, 200, 945, 199,  90, 458, 764,\n",
       "        91, 965, 281, 177, 909, 340, 941,  29, 469, 198, 821, 701, 487,\n",
       "        11, 561, 985, 870,  47, 528, 746, 917, 624, 609, 115, 365, 320,\n",
       "       354, 520,  70, 201, 838, 100,   5, 234,   7, 892,  99, 765, 571,\n",
       "       787, 581, 374,  39,  76,  42, 344, 653, 793, 736, 784, 703, 337,\n",
       "       857, 300, 292, 351, 327, 526, 742, 959, 900,  45, 489, 256, 687,\n",
       "       878, 809, 710, 236, 606, 960, 355, 971, 800,  95, 147, 136, 265,\n",
       "       317, 823,  10, 379, 884, 752, 642,  57, 848, 154, 398, 441, 706,\n",
       "         4, 862,  26, 228, 562, 104,  98, 204, 901, 729, 475, 668,  83,\n",
       "       261, 295, 373, 983,  88, 490,   0, 645, 108,  41, 558, 556, 841,\n",
       "       153, 860, 899, 430, 804, 911, 565, 797, 986, 905, 130, 538, 143,\n",
       "       689, 524, 216, 185, 953,  68, 807, 254, 243, 873, 607, 947, 176,\n",
       "       671, 842, 238, 835, 874, 425,  85, 831,  51, 511, 658, 808, 806,\n",
       "       932, 385, 548, 478, 369, 144, 927, 323, 297, 290, 966, 920, 252,\n",
       "       948, 885, 584, 830, 771, 282, 628, 260, 145, 139, 711, 400, 612,\n",
       "       866, 148, 998, 392, 116, 192, 854, 349, 207, 644, 407, 907, 648,\n",
       "       997, 338, 589, 636,  59, 557, 543, 324, 680, 102, 142,  87,  27,\n",
       "       383, 883,   9,  92,  30, 827, 133, 221, 685, 877, 934, 722, 171,\n",
       "       853, 802, 572,  54, 777, 257, 212, 445, 122, 895, 938, 936, 242,\n",
       "       113, 578,  16, 942, 963, 302, 450, 219, 987, 465, 789, 431, 762,\n",
       "       372,  35, 339, 335, 635,  14, 433, 411, 975, 270, 714, 150, 540,\n",
       "       692, 464, 532, 328, 619, 996, 954, 982, 370, 240, 995, 127, 799,\n",
       "       506, 456, 651, 106, 408, 825, 661,  18, 810, 621, 814, 267, 654,\n",
       "       839, 460, 819, 359, 397, 363, 442, 588, 652, 577, 424, 699, 881,\n",
       "       855, 615, 195, 156, 951,  49, 675, 356, 179, 423, 422, 393, 477,\n",
       "       979, 912, 976, 596, 775, 592, 249, 434, 915, 567, 361,  46, 737,\n",
       "       723, 486, 367, 600, 272, 325, 152, 202, 554, 255, 990, 244, 876,\n",
       "       792, 101, 580, 523, 623, 342, 864, 569, 773, 908, 751, 406, 672,\n",
       "       913, 629, 508, 551, 859, 437, 103, 728, 214, 447,  79, 718, 719,\n",
       "       525, 755, 585, 688, 405, 348, 828, 753, 375, 208, 564, 402])"
      ]
     },
     "execution_count": 41,
     "metadata": {},
     "output_type": "execute_result"
    }
   ],
   "source": [
    "idxs=np.arange(N)\n",
    "np.random.shuffle(idxs)\n",
    "idxs\n"
   ]
  },
  {
   "cell_type": "code",
   "execution_count": 42,
   "metadata": {},
   "outputs": [
    {
     "name": "stdout",
     "output_type": "stream",
     "text": [
      "759 ms ± 13 ms per loop (mean ± std. dev. of 7 runs, 1 loop each)\n"
     ]
    }
   ],
   "source": [
    "%timeit a1[:N].copy()"
   ]
  },
  {
   "cell_type": "code",
   "execution_count": 43,
   "metadata": {},
   "outputs": [
    {
     "name": "stdout",
     "output_type": "stream",
     "text": [
      "763 ms ± 8.04 ms per loop (mean ± std. dev. of 7 runs, 1 loop each)\n"
     ]
    }
   ],
   "source": [
    "%%timeit \n",
    "a1[N:2*N].copy()\n"
   ]
  },
  {
   "cell_type": "code",
   "execution_count": 44,
   "metadata": {},
   "outputs": [
    {
     "name": "stdout",
     "output_type": "stream",
     "text": [
      "1.39 s ± 20.2 ms per loop (mean ± std. dev. of 7 runs, 1 loop each)\n"
     ]
    }
   ],
   "source": [
    "%timeit a1[idxs].copy()"
   ]
  },
  {
   "cell_type": "code",
   "execution_count": 49,
   "metadata": {},
   "outputs": [],
   "source": [
    "# hdf5\n",
    "fname=main_dir+'f.h5'\n",
    "with h5py.File(fname,'w') as hf:\n",
    "    hf.create_dataset(\"name_dataset\",data=a1.copy())\n"
   ]
  },
  {
   "cell_type": "code",
   "execution_count": 52,
   "metadata": {},
   "outputs": [
    {
     "name": "stdout",
     "output_type": "stream",
     "text": [
      "0.677337646484375\n",
      "(1000, 1, 64, 64, 64)\n"
     ]
    }
   ],
   "source": [
    "t1=time.time()\n",
    "with h5py.File(fname,'r') as hf:\n",
    "    a2=hf['name_dataset'][:N]\n",
    "t2=time.time()\n",
    "print(t2-t1)\n",
    "print(a2.shape)"
   ]
  },
  {
   "cell_type": "code",
   "execution_count": 53,
   "metadata": {},
   "outputs": [
    {
     "data": {
      "text/plain": [
       "True"
      ]
     },
     "execution_count": 53,
     "metadata": {},
     "output_type": "execute_result"
    }
   ],
   "source": [
    "np.allclose(a1[:N],a2)"
   ]
  },
  {
   "cell_type": "code",
   "execution_count": 55,
   "metadata": {},
   "outputs": [
    {
     "name": "stdout",
     "output_type": "stream",
     "text": [
      "552 ms ± 26.5 ms per loop (mean ± std. dev. of 7 runs, 1 loop each)\n"
     ]
    }
   ],
   "source": [
    "%%timeit \n",
    "with h5py.File(fname,'r') as hf:\n",
    "    a2=hf['name_dataset'][:N]"
   ]
  },
  {
   "cell_type": "code",
   "execution_count": null,
   "metadata": {},
   "outputs": [],
   "source": []
  }
 ],
 "metadata": {
  "kernelspec": {
   "display_name": "v3",
   "language": "python",
   "name": "v-jpt-3"
  },
  "language_info": {
   "codemirror_mode": {
    "name": "ipython",
    "version": 3
   },
   "file_extension": ".py",
   "mimetype": "text/x-python",
   "name": "python",
   "nbconvert_exporter": "python",
   "pygments_lexer": "ipython3",
   "version": "3.8.6"
  }
 },
 "nbformat": 4,
 "nbformat_minor": 4
}

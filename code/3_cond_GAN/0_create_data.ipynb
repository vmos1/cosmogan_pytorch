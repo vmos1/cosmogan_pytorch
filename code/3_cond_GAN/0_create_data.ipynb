{
 "cells": [
  {
   "cell_type": "markdown",
   "metadata": {},
   "source": [
    "### Create data slice for conditional GAN\n",
    "Nov 23, 2020\n"
   ]
  },
  {
   "cell_type": "code",
   "execution_count": null,
   "metadata": {},
   "outputs": [],
   "source": [
    "import argparse\n",
    "import os\n",
    "# import random\n",
    "import logging\n",
    "import sys\n",
    "\n",
    "import torch\n",
    "import torch.nn as nn\n",
    "import torch.nn.parallel\n",
    "import torch.backends.cudnn as cudnn\n",
    "import torch.optim as optim\n",
    "import torch.utils.data\n",
    "from torchsummary import summary\n",
    "from torch.utils.data import DataLoader, TensorDataset\n",
    "\n",
    "import numpy as np\n",
    "import pandas as pd\n",
    "import matplotlib.pyplot as plt\n",
    "import matplotlib.animation as animation\n",
    "from IPython.display import HTML\n",
    "\n",
    "import time\n",
    "from datetime import datetime\n",
    "import glob\n",
    "import pickle\n",
    "import yaml\n"
   ]
  },
  {
   "cell_type": "code",
   "execution_count": null,
   "metadata": {},
   "outputs": [],
   "source": [
    "main_dir='/global/cfs/cdirs/m3363/vayyar/cosmogan_data/raw_data/128_square/dataset_5_4univ_cgan/'"
   ]
  },
  {
   "cell_type": "code",
   "execution_count": null,
   "metadata": {},
   "outputs": [],
   "source": [
    "def f_get_data():\n",
    "    num_imgs=200\n",
    "    for count,sigma in enumerate([0.5,0.65,0.8,1.1]):\n",
    "        ip_fname=main_dir+'norm_1_sig_%s_train_val.npy'%(sigma)\n",
    "        x=np.load(ip_fname,mmap_mode='r')[:num_imgs].transpose(0,1,2,3)\n",
    "        size=x.shape[0]\n",
    "        y=count*np.ones(size)\n",
    "\n",
    "        if count ==0: \n",
    "            img=x[:]\n",
    "            lab=y[:]\n",
    "        else: \n",
    "            img=np.vstack([img,x])\n",
    "            lab=np.hstack([lab,y])\n",
    "\n",
    "    t_img=torch.from_numpy(img)\n",
    "    labels=torch.LongTensor(lab).view(size*4,1,1)\n",
    "    print(\"%s, %s\"%(labels.shape,t_img.shape))\n",
    "\n",
    "# dataset=TensorDataset(t_img,labels)\n",
    "# dataloader=DataLoader(dataset,batch_size=batch_size,shuffle=True,num_workers=1,drop_last=True)"
   ]
  }
 ],
 "metadata": {
  "kernelspec": {
   "display_name": "v3",
   "language": "python",
   "name": "v-jpt-3"
  },
  "language_info": {
   "codemirror_mode": {
    "name": "ipython",
    "version": 3
   },
   "file_extension": ".py",
   "mimetype": "text/x-python",
   "name": "python",
   "nbconvert_exporter": "python",
   "pygments_lexer": "ipython3",
   "version": "3.8.6"
  }
 },
 "nbformat": 4,
 "nbformat_minor": 4
}

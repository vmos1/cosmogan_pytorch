{
 "cells": [
  {
   "cell_type": "markdown",
   "metadata": {},
   "source": [
    "# Analyze results\n",
    "Aug 28, 2020"
   ]
  },
  {
   "cell_type": "code",
   "execution_count": 1,
   "metadata": {},
   "outputs": [],
   "source": [
    "import     numpy as np\n",
    "import matplotlib.pyplot as plt\n",
    "import pandas as pd\n",
    "\n",
    "import subprocess as sp\n",
    "import sys\n",
    "import os\n",
    "import glob\n",
    "import pickle \n",
    "\n",
    "from matplotlib.colors import LogNorm, PowerNorm, Normalize\n",
    "import seaborn as sns\n",
    "from functools import reduce"
   ]
  },
  {
   "cell_type": "code",
   "execution_count": 2,
   "metadata": {},
   "outputs": [],
   "source": [
    "from ipywidgets import *"
   ]
  },
  {
   "cell_type": "code",
   "execution_count": 3,
   "metadata": {},
   "outputs": [],
   "source": [
    "%matplotlib widget"
   ]
  },
  {
   "cell_type": "code",
   "execution_count": 4,
   "metadata": {},
   "outputs": [],
   "source": [
    "sys.path.append('/global/u1/v/vpa/project/jpt_notebooks/Cosmology/Cosmo_GAN/repositories/cosmogan_pytorch/code/modules_image_analysis/')\n",
    "from modules_img_analysis import *"
   ]
  },
  {
   "cell_type": "code",
   "execution_count": 5,
   "metadata": {},
   "outputs": [],
   "source": [
    "sys.path.append('/global/u1/v/vpa/project/jpt_notebooks/Cosmology/Cosmo_GAN/repositories/cosmogan_pytorch/code/3_cond_GAN/1_main_code/')\n",
    "import post_analysis_pandas as post\n"
   ]
  },
  {
   "cell_type": "code",
   "execution_count": 6,
   "metadata": {},
   "outputs": [],
   "source": [
    "### Transformation functions for image pixel values\n",
    "def f_transform(x):\n",
    "    return 2.*x/(x + 4.) - 1.\n",
    "\n",
    "def f_invtransform(s):\n",
    "    return 4.*(1. + s)/(1. - s)\n"
   ]
  },
  {
   "cell_type": "code",
   "execution_count": 7,
   "metadata": {},
   "outputs": [],
   "source": [
    "img_size=128"
   ]
  },
  {
   "cell_type": "markdown",
   "metadata": {},
   "source": [
    "### Read validation data"
   ]
  },
  {
   "cell_type": "code",
   "execution_count": 8,
   "metadata": {},
   "outputs": [
    {
     "name": "stdout",
     "output_type": "stream",
     "text": [
      "/global/cfs/cdirs/m3363/vayyar/cosmogan_data/raw_data/128_square/dataset_5_4univ_cgan/norm_1_sig_0.5_train_val.npy\n",
      "/global/cfs/cdirs/m3363/vayyar/cosmogan_data/raw_data/128_square/dataset_5_4univ_cgan/norm_1_sig_0.65_train_val.npy\n",
      "/global/cfs/cdirs/m3363/vayyar/cosmogan_data/raw_data/128_square/dataset_5_4univ_cgan/norm_1_sig_0.8_train_val.npy\n",
      "/global/cfs/cdirs/m3363/vayyar/cosmogan_data/raw_data/128_square/dataset_5_4univ_cgan/norm_1_sig_1.1_train_val.npy\n"
     ]
    }
   ],
   "source": [
    "# bins=np.concatenate([np.array([-0.5]),np.arange(0.5,20.5,1),np.arange(20.5,100.5,5),np.arange(100.5,1000.5,50),np.array([2000])]) #bin edges to use\n",
    "bins=np.concatenate([np.array([-0.5]),np.arange(0.5,100.5,5),np.arange(100.5,300.5,20),np.arange(300.5,1000.5,50),np.array([2000])]) #bin edges to use\n",
    "\n",
    "bins=f_transform(bins)   ### scale to (-1,1)\n",
    "# ### Extract validation data\n",
    "sigma_lst=[0.5,0.65,0.8,1.1]\n",
    "labels_lst=range(len(sigma_lst))\n",
    "bkgnd_dict={}\n",
    "num_bkgnd=2000\n",
    "\n",
    "for label in labels_lst:\n",
    "    fname='/global/cfs/cdirs/m3363/vayyar/cosmogan_data/raw_data/128_square/dataset_5_4univ_cgan/norm_1_sig_{0}_train_val.npy'.format(sigma_lst[label])\n",
    "    print(fname)\n",
    "    samples=np.load(fname,mmap_mode='r')[-num_bkgnd:][:,0,:,:]\n",
    "    \n",
    "    dict_val=post.f_compute_hist_spect(samples,bins)\n",
    "    bkgnd_dict[str(sigma_lst[label])]=dict_val\n",
    "    del samples"
   ]
  },
  {
   "cell_type": "code",
   "execution_count": 9,
   "metadata": {},
   "outputs": [],
   "source": [
    "# main_dir='/global/cfs/cdirs/m3363/vayyar/cosmogan_data/results_from_other_code/pytorch/results/128sq/'\n",
    "# results_dir=main_dir+'20201002_064327'"
   ]
  },
  {
   "cell_type": "markdown",
   "metadata": {},
   "source": [
    "## Read data"
   ]
  },
  {
   "cell_type": "code",
   "execution_count": 10,
   "metadata": {},
   "outputs": [],
   "source": [
    "dict1={'128':'/global/cfs/cdirs/m3363/vayyar/cosmogan_data/results_from_other_code/pytorch/results/128sq/',\n",
    "      '512':'/global/cfs/cdirs/m3363/vayyar/cosmogan_data/results_from_other_code/pytorch/results/512sq/'}\n",
    "\n",
    "u=interactive(lambda x: dict1[x], x=Select(options=dict1.keys()))\n",
    "# display(u)\n"
   ]
  },
  {
   "cell_type": "code",
   "execution_count": 11,
   "metadata": {},
   "outputs": [
    {
     "data": {
      "application/vnd.jupyter.widget-view+json": {
       "model_id": "47142a4c1633423fa300303fcec16577",
       "version_major": 2,
       "version_minor": 0
      },
      "text/plain": [
       "interactive(children=(Dropdown(description='x', options=('20210415_140527_gclip1.0', '20210415_180935_cgan_opt…"
      ]
     },
     "metadata": {},
     "output_type": "display_data"
    }
   ],
   "source": [
    "# parent_dir=u.result\n",
    "parent_dir=dict1['128']\n",
    "dir_lst=[i.split('/')[-1] for i in glob.glob(parent_dir+'20210*')]\n",
    "w=interactive(lambda x: x, x=Dropdown(options=dir_lst))\n",
    "display(w)"
   ]
  },
  {
   "cell_type": "code",
   "execution_count": 12,
   "metadata": {},
   "outputs": [
    {
     "name": "stdout",
     "output_type": "stream",
     "text": [
      "/global/cfs/cdirs/m3363/vayyar/cosmogan_data/results_from_other_code/pytorch/results/128sq/20210419_131246_2d_cgan\n"
     ]
    }
   ],
   "source": [
    "result=w.result\n",
    "result_dir=parent_dir+result\n",
    "print(result_dir)"
   ]
  },
  {
   "cell_type": "markdown",
   "metadata": {},
   "source": [
    "## Plot Losses"
   ]
  },
  {
   "cell_type": "code",
   "execution_count": 13,
   "metadata": {},
   "outputs": [],
   "source": [
    "df_metrics=pd.read_pickle(result_dir+'/df_metrics.pkle').astype(np.float64)\n"
   ]
  },
  {
   "cell_type": "code",
   "execution_count": 14,
   "metadata": {},
   "outputs": [
    {
     "data": {
      "text/html": [
       "<div>\n",
       "<style scoped>\n",
       "    .dataframe tbody tr th:only-of-type {\n",
       "        vertical-align: middle;\n",
       "    }\n",
       "\n",
       "    .dataframe tbody tr th {\n",
       "        vertical-align: top;\n",
       "    }\n",
       "\n",
       "    .dataframe thead th {\n",
       "        text-align: right;\n",
       "    }\n",
       "</style>\n",
       "<table border=\"1\" class=\"dataframe\">\n",
       "  <thead>\n",
       "    <tr style=\"text-align: right;\">\n",
       "      <th></th>\n",
       "      <th>step</th>\n",
       "      <th>epoch</th>\n",
       "      <th>Dreal</th>\n",
       "      <th>Dfake</th>\n",
       "      <th>Dfull</th>\n",
       "      <th>G_adv</th>\n",
       "      <th>G_full</th>\n",
       "      <th>spec_loss</th>\n",
       "      <th>hist_loss</th>\n",
       "      <th>spec_chi</th>\n",
       "      <th>hist_chi</th>\n",
       "      <th>gp_loss</th>\n",
       "      <th>fm_loss</th>\n",
       "      <th>D(x)</th>\n",
       "      <th>D_G_z1</th>\n",
       "      <th>D_G_z2</th>\n",
       "      <th>time</th>\n",
       "    </tr>\n",
       "  </thead>\n",
       "  <tbody>\n",
       "    <tr>\n",
       "      <th>12891</th>\n",
       "      <td>12891.0</td>\n",
       "      <td>49.0</td>\n",
       "      <td>0.252998</td>\n",
       "      <td>0.144245</td>\n",
       "      <td>0.397243</td>\n",
       "      <td>2.462096</td>\n",
       "      <td>85.953476</td>\n",
       "      <td>83.491379</td>\n",
       "      <td>-2.632512</td>\n",
       "      <td>83.753380</td>\n",
       "      <td>-2.213671</td>\n",
       "      <td>NaN</td>\n",
       "      <td>NaN</td>\n",
       "      <td>2.010919</td>\n",
       "      <td>-3.785270</td>\n",
       "      <td>-2.242470</td>\n",
       "      <td>0.192269</td>\n",
       "    </tr>\n",
       "    <tr>\n",
       "      <th>12892</th>\n",
       "      <td>12892.0</td>\n",
       "      <td>49.0</td>\n",
       "      <td>0.248059</td>\n",
       "      <td>0.389501</td>\n",
       "      <td>0.637560</td>\n",
       "      <td>5.218128</td>\n",
       "      <td>86.163666</td>\n",
       "      <td>80.945534</td>\n",
       "      <td>-2.402291</td>\n",
       "      <td>82.683517</td>\n",
       "      <td>-2.770610</td>\n",
       "      <td>NaN</td>\n",
       "      <td>NaN</td>\n",
       "      <td>3.873729</td>\n",
       "      <td>-1.307029</td>\n",
       "      <td>-5.200441</td>\n",
       "      <td>0.192432</td>\n",
       "    </tr>\n",
       "    <tr>\n",
       "      <th>12893</th>\n",
       "      <td>12893.0</td>\n",
       "      <td>49.0</td>\n",
       "      <td>0.636393</td>\n",
       "      <td>0.204791</td>\n",
       "      <td>0.841184</td>\n",
       "      <td>2.616820</td>\n",
       "      <td>84.996315</td>\n",
       "      <td>82.379494</td>\n",
       "      <td>-2.632317</td>\n",
       "      <td>82.732109</td>\n",
       "      <td>-2.565772</td>\n",
       "      <td>NaN</td>\n",
       "      <td>NaN</td>\n",
       "      <td>1.218997</td>\n",
       "      <td>-3.725570</td>\n",
       "      <td>-2.448271</td>\n",
       "      <td>0.192311</td>\n",
       "    </tr>\n",
       "    <tr>\n",
       "      <th>12894</th>\n",
       "      <td>12894.0</td>\n",
       "      <td>49.0</td>\n",
       "      <td>0.171067</td>\n",
       "      <td>0.367721</td>\n",
       "      <td>0.538789</td>\n",
       "      <td>3.746553</td>\n",
       "      <td>84.728722</td>\n",
       "      <td>80.982170</td>\n",
       "      <td>-2.559937</td>\n",
       "      <td>82.274033</td>\n",
       "      <td>-2.571218</td>\n",
       "      <td>NaN</td>\n",
       "      <td>NaN</td>\n",
       "      <td>3.403823</td>\n",
       "      <td>-1.589668</td>\n",
       "      <td>-3.696373</td>\n",
       "      <td>0.192089</td>\n",
       "    </tr>\n",
       "    <tr>\n",
       "      <th>12895</th>\n",
       "      <td>12895.0</td>\n",
       "      <td>49.0</td>\n",
       "      <td>0.187061</td>\n",
       "      <td>0.101483</td>\n",
       "      <td>0.288544</td>\n",
       "      <td>3.328250</td>\n",
       "      <td>86.216873</td>\n",
       "      <td>82.888626</td>\n",
       "      <td>-2.509381</td>\n",
       "      <td>83.585083</td>\n",
       "      <td>-2.398477</td>\n",
       "      <td>NaN</td>\n",
       "      <td>NaN</td>\n",
       "      <td>2.516068</td>\n",
       "      <td>-2.808276</td>\n",
       "      <td>-3.221586</td>\n",
       "      <td>0.192440</td>\n",
       "    </tr>\n",
       "    <tr>\n",
       "      <th>12896</th>\n",
       "      <td>12896.0</td>\n",
       "      <td>49.0</td>\n",
       "      <td>0.253801</td>\n",
       "      <td>0.475083</td>\n",
       "      <td>0.728885</td>\n",
       "      <td>4.993119</td>\n",
       "      <td>86.933182</td>\n",
       "      <td>81.940063</td>\n",
       "      <td>-2.541991</td>\n",
       "      <td>83.421371</td>\n",
       "      <td>-2.155802</td>\n",
       "      <td>NaN</td>\n",
       "      <td>NaN</td>\n",
       "      <td>2.811022</td>\n",
       "      <td>-1.622945</td>\n",
       "      <td>-4.974600</td>\n",
       "      <td>0.193264</td>\n",
       "    </tr>\n",
       "    <tr>\n",
       "      <th>12897</th>\n",
       "      <td>12897.0</td>\n",
       "      <td>49.0</td>\n",
       "      <td>0.470524</td>\n",
       "      <td>0.126727</td>\n",
       "      <td>0.597251</td>\n",
       "      <td>1.417826</td>\n",
       "      <td>84.818779</td>\n",
       "      <td>83.400955</td>\n",
       "      <td>-1.375048</td>\n",
       "      <td>82.348793</td>\n",
       "      <td>-2.171124</td>\n",
       "      <td>NaN</td>\n",
       "      <td>NaN</td>\n",
       "      <td>1.013710</td>\n",
       "      <td>-4.109894</td>\n",
       "      <td>-0.797927</td>\n",
       "      <td>0.192349</td>\n",
       "    </tr>\n",
       "    <tr>\n",
       "      <th>12898</th>\n",
       "      <td>12898.0</td>\n",
       "      <td>49.0</td>\n",
       "      <td>0.116412</td>\n",
       "      <td>0.695436</td>\n",
       "      <td>0.811848</td>\n",
       "      <td>6.690930</td>\n",
       "      <td>90.726196</td>\n",
       "      <td>84.035263</td>\n",
       "      <td>-2.276714</td>\n",
       "      <td>81.900108</td>\n",
       "      <td>-1.000986</td>\n",
       "      <td>NaN</td>\n",
       "      <td>NaN</td>\n",
       "      <td>3.886058</td>\n",
       "      <td>-0.387191</td>\n",
       "      <td>-6.686625</td>\n",
       "      <td>0.192322</td>\n",
       "    </tr>\n",
       "    <tr>\n",
       "      <th>12899</th>\n",
       "      <td>12899.0</td>\n",
       "      <td>49.0</td>\n",
       "      <td>0.752346</td>\n",
       "      <td>0.212293</td>\n",
       "      <td>0.964640</td>\n",
       "      <td>1.901226</td>\n",
       "      <td>86.715485</td>\n",
       "      <td>84.814255</td>\n",
       "      <td>-1.981815</td>\n",
       "      <td>85.100372</td>\n",
       "      <td>-2.082304</td>\n",
       "      <td>NaN</td>\n",
       "      <td>NaN</td>\n",
       "      <td>0.772751</td>\n",
       "      <td>-3.868260</td>\n",
       "      <td>-1.582191</td>\n",
       "      <td>0.192329</td>\n",
       "    </tr>\n",
       "    <tr>\n",
       "      <th>12900</th>\n",
       "      <td>NaN</td>\n",
       "      <td>NaN</td>\n",
       "      <td>NaN</td>\n",
       "      <td>NaN</td>\n",
       "      <td>NaN</td>\n",
       "      <td>NaN</td>\n",
       "      <td>NaN</td>\n",
       "      <td>NaN</td>\n",
       "      <td>NaN</td>\n",
       "      <td>84.518723</td>\n",
       "      <td>-1.955396</td>\n",
       "      <td>NaN</td>\n",
       "      <td>NaN</td>\n",
       "      <td>NaN</td>\n",
       "      <td>NaN</td>\n",
       "      <td>NaN</td>\n",
       "      <td>NaN</td>\n",
       "    </tr>\n",
       "  </tbody>\n",
       "</table>\n",
       "</div>"
      ],
      "text/plain": [
       "          step  epoch     Dreal     Dfake     Dfull     G_adv     G_full  \\\n",
       "12891  12891.0   49.0  0.252998  0.144245  0.397243  2.462096  85.953476   \n",
       "12892  12892.0   49.0  0.248059  0.389501  0.637560  5.218128  86.163666   \n",
       "12893  12893.0   49.0  0.636393  0.204791  0.841184  2.616820  84.996315   \n",
       "12894  12894.0   49.0  0.171067  0.367721  0.538789  3.746553  84.728722   \n",
       "12895  12895.0   49.0  0.187061  0.101483  0.288544  3.328250  86.216873   \n",
       "12896  12896.0   49.0  0.253801  0.475083  0.728885  4.993119  86.933182   \n",
       "12897  12897.0   49.0  0.470524  0.126727  0.597251  1.417826  84.818779   \n",
       "12898  12898.0   49.0  0.116412  0.695436  0.811848  6.690930  90.726196   \n",
       "12899  12899.0   49.0  0.752346  0.212293  0.964640  1.901226  86.715485   \n",
       "12900      NaN    NaN       NaN       NaN       NaN       NaN        NaN   \n",
       "\n",
       "       spec_loss  hist_loss   spec_chi  hist_chi  gp_loss  fm_loss      D(x)  \\\n",
       "12891  83.491379  -2.632512  83.753380 -2.213671      NaN      NaN  2.010919   \n",
       "12892  80.945534  -2.402291  82.683517 -2.770610      NaN      NaN  3.873729   \n",
       "12893  82.379494  -2.632317  82.732109 -2.565772      NaN      NaN  1.218997   \n",
       "12894  80.982170  -2.559937  82.274033 -2.571218      NaN      NaN  3.403823   \n",
       "12895  82.888626  -2.509381  83.585083 -2.398477      NaN      NaN  2.516068   \n",
       "12896  81.940063  -2.541991  83.421371 -2.155802      NaN      NaN  2.811022   \n",
       "12897  83.400955  -1.375048  82.348793 -2.171124      NaN      NaN  1.013710   \n",
       "12898  84.035263  -2.276714  81.900108 -1.000986      NaN      NaN  3.886058   \n",
       "12899  84.814255  -1.981815  85.100372 -2.082304      NaN      NaN  0.772751   \n",
       "12900        NaN        NaN  84.518723 -1.955396      NaN      NaN       NaN   \n",
       "\n",
       "         D_G_z1    D_G_z2      time  \n",
       "12891 -3.785270 -2.242470  0.192269  \n",
       "12892 -1.307029 -5.200441  0.192432  \n",
       "12893 -3.725570 -2.448271  0.192311  \n",
       "12894 -1.589668 -3.696373  0.192089  \n",
       "12895 -2.808276 -3.221586  0.192440  \n",
       "12896 -1.622945 -4.974600  0.193264  \n",
       "12897 -4.109894 -0.797927  0.192349  \n",
       "12898 -0.387191 -6.686625  0.192322  \n",
       "12899 -3.868260 -1.582191  0.192329  \n",
       "12900       NaN       NaN       NaN  "
      ]
     },
     "execution_count": 14,
     "metadata": {},
     "output_type": "execute_result"
    }
   ],
   "source": [
    "df_metrics.tail(10)"
   ]
  },
  {
   "cell_type": "code",
   "execution_count": 15,
   "metadata": {},
   "outputs": [
    {
     "data": {
      "application/vnd.jupyter.widget-view+json": {
       "model_id": "237d258157484f3796b7a83fe41ace9d",
       "version_major": 2,
       "version_minor": 0
      },
      "text/plain": [
       "interactive(children=(SelectMultiple(description='col_list', options=('step', 'epoch', 'Dreal', 'Dfake', 'Dful…"
      ]
     },
     "metadata": {},
     "output_type": "display_data"
    },
    {
     "data": {
      "text/plain": [
       "<function __main__.f_plot_metrics(df, col_list)>"
      ]
     },
     "execution_count": 15,
     "metadata": {},
     "output_type": "execute_result"
    }
   ],
   "source": [
    "def f_plot_metrics(df,col_list):\n",
    "    \n",
    "    plt.figure()\n",
    "    for key in col_list:\n",
    "        plt.plot(df_metrics[key],label=key,marker='*',linestyle='')\n",
    "    plt.legend()\n",
    "    \n",
    "#     col_list=list(col_list)\n",
    "#     df.plot(kind='line',x='step',y=col_list)\n",
    "    \n",
    "# f_plot_metrics(df_metrics,['spec_chi','hist_chi'])\n",
    "\n",
    "interact_manual(f_plot_metrics,df=fixed(df_metrics), col_list=SelectMultiple(options=df_metrics.columns.values))"
   ]
  },
  {
   "cell_type": "code",
   "execution_count": 16,
   "metadata": {},
   "outputs": [
    {
     "name": "stdout",
     "output_type": "stream",
     "text": [
      "-2.1617225170135494\n"
     ]
    },
    {
     "data": {
      "text/html": [
       "<div>\n",
       "<style scoped>\n",
       "    .dataframe tbody tr th:only-of-type {\n",
       "        vertical-align: middle;\n",
       "    }\n",
       "\n",
       "    .dataframe tbody tr th {\n",
       "        vertical-align: top;\n",
       "    }\n",
       "\n",
       "    .dataframe thead th {\n",
       "        text-align: right;\n",
       "    }\n",
       "</style>\n",
       "<table border=\"1\" class=\"dataframe\">\n",
       "  <thead>\n",
       "    <tr style=\"text-align: right;\">\n",
       "      <th></th>\n",
       "      <th>step</th>\n",
       "      <th>epoch</th>\n",
       "      <th>Dreal</th>\n",
       "      <th>Dfake</th>\n",
       "      <th>Dfull</th>\n",
       "      <th>G_adv</th>\n",
       "      <th>G_full</th>\n",
       "      <th>spec_loss</th>\n",
       "      <th>hist_loss</th>\n",
       "      <th>spec_chi</th>\n",
       "      <th>hist_chi</th>\n",
       "      <th>gp_loss</th>\n",
       "      <th>fm_loss</th>\n",
       "      <th>D(x)</th>\n",
       "      <th>D_G_z1</th>\n",
       "      <th>D_G_z2</th>\n",
       "      <th>time</th>\n",
       "    </tr>\n",
       "  </thead>\n",
       "  <tbody>\n",
       "    <tr>\n",
       "      <th>11774</th>\n",
       "      <td>11774.0</td>\n",
       "      <td>45.0</td>\n",
       "      <td>0.227282</td>\n",
       "      <td>0.231786</td>\n",
       "      <td>0.459067</td>\n",
       "      <td>4.288030</td>\n",
       "      <td>87.041252</td>\n",
       "      <td>82.753220</td>\n",
       "      <td>-2.790011</td>\n",
       "      <td>83.929855</td>\n",
       "      <td>-2.940370</td>\n",
       "      <td>NaN</td>\n",
       "      <td>NaN</td>\n",
       "      <td>2.690339</td>\n",
       "      <td>-2.116848</td>\n",
       "      <td>-4.245350</td>\n",
       "      <td>0.192759</td>\n",
       "    </tr>\n",
       "    <tr>\n",
       "      <th>11369</th>\n",
       "      <td>11369.0</td>\n",
       "      <td>44.0</td>\n",
       "      <td>0.432232</td>\n",
       "      <td>0.217898</td>\n",
       "      <td>0.650130</td>\n",
       "      <td>2.308746</td>\n",
       "      <td>83.500435</td>\n",
       "      <td>81.191689</td>\n",
       "      <td>-2.889254</td>\n",
       "      <td>82.708923</td>\n",
       "      <td>-2.929369</td>\n",
       "      <td>NaN</td>\n",
       "      <td>NaN</td>\n",
       "      <td>1.148004</td>\n",
       "      <td>-3.471130</td>\n",
       "      <td>-2.097504</td>\n",
       "      <td>0.192705</td>\n",
       "    </tr>\n",
       "    <tr>\n",
       "      <th>12706</th>\n",
       "      <td>12706.0</td>\n",
       "      <td>49.0</td>\n",
       "      <td>0.251346</td>\n",
       "      <td>0.310992</td>\n",
       "      <td>0.562338</td>\n",
       "      <td>4.504255</td>\n",
       "      <td>87.057228</td>\n",
       "      <td>82.552971</td>\n",
       "      <td>-2.768802</td>\n",
       "      <td>82.746628</td>\n",
       "      <td>-2.928578</td>\n",
       "      <td>NaN</td>\n",
       "      <td>NaN</td>\n",
       "      <td>3.108570</td>\n",
       "      <td>-2.121491</td>\n",
       "      <td>-4.480103</td>\n",
       "      <td>0.192297</td>\n",
       "    </tr>\n",
       "    <tr>\n",
       "      <th>12378</th>\n",
       "      <td>12378.0</td>\n",
       "      <td>47.0</td>\n",
       "      <td>0.162289</td>\n",
       "      <td>0.259125</td>\n",
       "      <td>0.421414</td>\n",
       "      <td>3.936887</td>\n",
       "      <td>83.305038</td>\n",
       "      <td>79.368149</td>\n",
       "      <td>-2.058059</td>\n",
       "      <td>83.266411</td>\n",
       "      <td>-2.926491</td>\n",
       "      <td>NaN</td>\n",
       "      <td>NaN</td>\n",
       "      <td>3.290879</td>\n",
       "      <td>-2.015199</td>\n",
       "      <td>-3.869696</td>\n",
       "      <td>0.192183</td>\n",
       "    </tr>\n",
       "    <tr>\n",
       "      <th>12705</th>\n",
       "      <td>12705.0</td>\n",
       "      <td>49.0</td>\n",
       "      <td>0.177833</td>\n",
       "      <td>0.272409</td>\n",
       "      <td>0.450242</td>\n",
       "      <td>3.919905</td>\n",
       "      <td>86.199814</td>\n",
       "      <td>82.279907</td>\n",
       "      <td>-2.858154</td>\n",
       "      <td>81.953224</td>\n",
       "      <td>-2.912012</td>\n",
       "      <td>NaN</td>\n",
       "      <td>NaN</td>\n",
       "      <td>3.558059</td>\n",
       "      <td>-2.217762</td>\n",
       "      <td>-3.875377</td>\n",
       "      <td>0.192265</td>\n",
       "    </tr>\n",
       "    <tr>\n",
       "      <th>11398</th>\n",
       "      <td>11398.0</td>\n",
       "      <td>44.0</td>\n",
       "      <td>0.174616</td>\n",
       "      <td>0.410698</td>\n",
       "      <td>0.585314</td>\n",
       "      <td>5.019153</td>\n",
       "      <td>88.475883</td>\n",
       "      <td>83.456734</td>\n",
       "      <td>-2.715740</td>\n",
       "      <td>81.682579</td>\n",
       "      <td>-2.911214</td>\n",
       "      <td>NaN</td>\n",
       "      <td>NaN</td>\n",
       "      <td>3.575341</td>\n",
       "      <td>-1.791586</td>\n",
       "      <td>-5.009792</td>\n",
       "      <td>0.192524</td>\n",
       "    </tr>\n",
       "    <tr>\n",
       "      <th>12720</th>\n",
       "      <td>12720.0</td>\n",
       "      <td>49.0</td>\n",
       "      <td>0.253769</td>\n",
       "      <td>1.027727</td>\n",
       "      <td>1.281496</td>\n",
       "      <td>7.653913</td>\n",
       "      <td>90.343178</td>\n",
       "      <td>82.689262</td>\n",
       "      <td>-2.722757</td>\n",
       "      <td>83.382919</td>\n",
       "      <td>-2.906236</td>\n",
       "      <td>NaN</td>\n",
       "      <td>NaN</td>\n",
       "      <td>6.038886</td>\n",
       "      <td>0.189667</td>\n",
       "      <td>-7.653045</td>\n",
       "      <td>0.192608</td>\n",
       "    </tr>\n",
       "    <tr>\n",
       "      <th>11338</th>\n",
       "      <td>11338.0</td>\n",
       "      <td>43.0</td>\n",
       "      <td>0.204751</td>\n",
       "      <td>0.406133</td>\n",
       "      <td>0.610884</td>\n",
       "      <td>4.504859</td>\n",
       "      <td>86.953865</td>\n",
       "      <td>82.449005</td>\n",
       "      <td>-2.789181</td>\n",
       "      <td>82.845825</td>\n",
       "      <td>-2.895721</td>\n",
       "      <td>NaN</td>\n",
       "      <td>NaN</td>\n",
       "      <td>3.146157</td>\n",
       "      <td>-1.419796</td>\n",
       "      <td>-4.488173</td>\n",
       "      <td>0.192703</td>\n",
       "    </tr>\n",
       "    <tr>\n",
       "      <th>11399</th>\n",
       "      <td>11399.0</td>\n",
       "      <td>44.0</td>\n",
       "      <td>0.409738</td>\n",
       "      <td>0.178700</td>\n",
       "      <td>0.588438</td>\n",
       "      <td>2.806426</td>\n",
       "      <td>84.523712</td>\n",
       "      <td>81.717285</td>\n",
       "      <td>-2.551895</td>\n",
       "      <td>83.300171</td>\n",
       "      <td>-2.890417</td>\n",
       "      <td>NaN</td>\n",
       "      <td>NaN</td>\n",
       "      <td>1.935240</td>\n",
       "      <td>-4.383035</td>\n",
       "      <td>-2.671738</td>\n",
       "      <td>0.192295</td>\n",
       "    </tr>\n",
       "    <tr>\n",
       "      <th>12721</th>\n",
       "      <td>12721.0</td>\n",
       "      <td>49.0</td>\n",
       "      <td>0.413387</td>\n",
       "      <td>0.134428</td>\n",
       "      <td>0.547815</td>\n",
       "      <td>4.933379</td>\n",
       "      <td>84.631775</td>\n",
       "      <td>79.698395</td>\n",
       "      <td>-2.404437</td>\n",
       "      <td>84.786987</td>\n",
       "      <td>-2.886954</td>\n",
       "      <td>NaN</td>\n",
       "      <td>NaN</td>\n",
       "      <td>1.456109</td>\n",
       "      <td>-5.496662</td>\n",
       "      <td>-4.852666</td>\n",
       "      <td>0.192082</td>\n",
       "    </tr>\n",
       "  </tbody>\n",
       "</table>\n",
       "</div>"
      ],
      "text/plain": [
       "          step  epoch     Dreal     Dfake     Dfull     G_adv     G_full  \\\n",
       "11774  11774.0   45.0  0.227282  0.231786  0.459067  4.288030  87.041252   \n",
       "11369  11369.0   44.0  0.432232  0.217898  0.650130  2.308746  83.500435   \n",
       "12706  12706.0   49.0  0.251346  0.310992  0.562338  4.504255  87.057228   \n",
       "12378  12378.0   47.0  0.162289  0.259125  0.421414  3.936887  83.305038   \n",
       "12705  12705.0   49.0  0.177833  0.272409  0.450242  3.919905  86.199814   \n",
       "11398  11398.0   44.0  0.174616  0.410698  0.585314  5.019153  88.475883   \n",
       "12720  12720.0   49.0  0.253769  1.027727  1.281496  7.653913  90.343178   \n",
       "11338  11338.0   43.0  0.204751  0.406133  0.610884  4.504859  86.953865   \n",
       "11399  11399.0   44.0  0.409738  0.178700  0.588438  2.806426  84.523712   \n",
       "12721  12721.0   49.0  0.413387  0.134428  0.547815  4.933379  84.631775   \n",
       "\n",
       "       spec_loss  hist_loss   spec_chi  hist_chi  gp_loss  fm_loss      D(x)  \\\n",
       "11774  82.753220  -2.790011  83.929855 -2.940370      NaN      NaN  2.690339   \n",
       "11369  81.191689  -2.889254  82.708923 -2.929369      NaN      NaN  1.148004   \n",
       "12706  82.552971  -2.768802  82.746628 -2.928578      NaN      NaN  3.108570   \n",
       "12378  79.368149  -2.058059  83.266411 -2.926491      NaN      NaN  3.290879   \n",
       "12705  82.279907  -2.858154  81.953224 -2.912012      NaN      NaN  3.558059   \n",
       "11398  83.456734  -2.715740  81.682579 -2.911214      NaN      NaN  3.575341   \n",
       "12720  82.689262  -2.722757  83.382919 -2.906236      NaN      NaN  6.038886   \n",
       "11338  82.449005  -2.789181  82.845825 -2.895721      NaN      NaN  3.146157   \n",
       "11399  81.717285  -2.551895  83.300171 -2.890417      NaN      NaN  1.935240   \n",
       "12721  79.698395  -2.404437  84.786987 -2.886954      NaN      NaN  1.456109   \n",
       "\n",
       "         D_G_z1    D_G_z2      time  \n",
       "11774 -2.116848 -4.245350  0.192759  \n",
       "11369 -3.471130 -2.097504  0.192705  \n",
       "12706 -2.121491 -4.480103  0.192297  \n",
       "12378 -2.015199 -3.869696  0.192183  \n",
       "12705 -2.217762 -3.875377  0.192265  \n",
       "11398 -1.791586 -5.009792  0.192524  \n",
       "12720  0.189667 -7.653045  0.192608  \n",
       "11338 -1.419796 -4.488173  0.192703  \n",
       "11399 -4.383035 -2.671738  0.192295  \n",
       "12721 -5.496662 -4.852666  0.192082  "
      ]
     },
     "execution_count": 16,
     "metadata": {},
     "output_type": "execute_result"
    }
   ],
   "source": [
    "\n",
    "chi=df_metrics.quantile(q=0.2,axis=0)['hist_chi']\n",
    "print(chi)\n",
    "df_metrics[(df_metrics['hist_chi']<=chi)&(df_metrics.epoch>1)].sort_values(by=['hist_chi']).head(10)"
   ]
  },
  {
   "cell_type": "code",
   "execution_count": 17,
   "metadata": {},
   "outputs": [],
   "source": [
    "# display(df_metrics.sort_values(by=['hist_chi']).head(8))\n",
    "# display(df_metrics.sort_values(by=['spec_chi']).head(8))"
   ]
  },
  {
   "cell_type": "markdown",
   "metadata": {},
   "source": [
    "<!-- ### Read validation data -->"
   ]
  },
  {
   "cell_type": "code",
   "execution_count": 18,
   "metadata": {},
   "outputs": [],
   "source": [
    "# # bins=np.concatenate([np.array([-0.5]),np.arange(0.5,20.5,1),np.arange(20.5,100.5,5),np.arange(100.5,1000.5,50),np.array([2000])]) #bin edges to use\n",
    "# bins=np.concatenate([np.array([-0.5]),np.arange(0.5,100.5,5),np.arange(100.5,300.5,20),np.arange(300.5,1000.5,50),np.array([2000])]) #bin edges to use\n",
    "\n",
    "# bins=f_transform(bins)   ### scale to (-1,1)\n",
    "# # ### Extract validation data\n",
    "# sigma_list=[0.5,0.65,0.8,1.1]\n",
    "# bkgnd_dict={}\n",
    "# num_bkgnd=2000\n",
    "\n",
    "# for label in labels_lst:\n",
    "#     fname='/global/cfs/cdirs/m3363/vayyar/cosmogan_data/raw_data/128_square/dataset_5_4univ_cgan/norm_1_sig_{0}_train_val.npy'.format(sigma_lst[label])\n",
    "#     print(fname)\n",
    "#     samples=np.load(fname,mmap_mode='r')[-num_bkgnd:][:,0,:,:]\n",
    "    \n",
    "#     dict_val=post.f_compute_hist_spect(samples,bins)\n",
    "#     bkgnd_dict[str(sigma_lst[label])]=dict_val\n",
    "#     del samples"
   ]
  },
  {
   "cell_type": "markdown",
   "metadata": {},
   "source": [
    "## Read stored chi-squares for images"
   ]
  },
  {
   "cell_type": "code",
   "execution_count": 19,
   "metadata": {},
   "outputs": [],
   "source": [
    "## Get sigma list from saved files\n",
    "flist=glob.glob(result_dir+'/df_processed*')\n",
    "sigma_lst=[i.split('/')[-1].split('df_processed_')[-1].split('.pkle')[0] for i in flist]\n",
    "sigma_lst.sort() ### Sorting is important for labels to match !!\n",
    "\n",
    "labels_lst=np.arange(len(sigma_lst))"
   ]
  },
  {
   "cell_type": "code",
   "execution_count": 20,
   "metadata": {},
   "outputs": [
    {
     "data": {
      "text/plain": [
       "(['0.5', '0.8', '1.1'], array([0, 1, 2]))"
      ]
     },
     "execution_count": 20,
     "metadata": {},
     "output_type": "execute_result"
    }
   ],
   "source": [
    "sigma_lst,labels_lst"
   ]
  },
  {
   "cell_type": "code",
   "execution_count": 21,
   "metadata": {},
   "outputs": [],
   "source": [
    "### Create a merged dataframe\n",
    "\n",
    "df_list=[]\n",
    "for label in labels_lst:\n",
    "    df=pd.read_pickle(result_dir+'/df_processed_{0}.pkle'.format(str(sigma_lst[label])))\n",
    "    df[['epoch','step']]=df[['epoch','step']].astype(int)\n",
    "    df['label']=df.epoch.astype(str)+'-'+df.step.astype(str) # Add label column for plotting\n",
    "    df_list.append(df)\n",
    "\n",
    "for i,df in enumerate(df_list):\n",
    "    df1=df.add_suffix('_'+str(i))\n",
    "    # renaming the columns to be joined on\n",
    "    keys=['epoch','step','img_type','label']\n",
    "    rename_cols_dict={key+'_'+str(i):key for key in keys}\n",
    "#     print(rename_cols_dict)\n",
    "    df1.rename(columns=rename_cols_dict,inplace=True) \n",
    "    df_list[i]=df1\n",
    "    \n",
    "df_merged=reduce(lambda x, y : pd.merge(x, y, on = ['step','epoch','img_type','label']), df_list)\n",
    "\n",
    "### Get sum of all 4 classes for 3 types of chi-squares\n",
    "for chi_type in ['chi_1','chi_spec1','chi_1c']:\n",
    "    keys=[chi_type+'_'+str(label) for label in labels_lst]\n",
    "#     display(df_merged[keys].sum(axis=1))\n",
    "    df_merged['sum_'+chi_type]=df_merged[keys].sum(axis=1)\n",
    "del df_list\n",
    "\n"
   ]
  },
  {
   "cell_type": "markdown",
   "metadata": {},
   "source": [
    "### Slice best steps"
   ]
  },
  {
   "cell_type": "code",
   "execution_count": 22,
   "metadata": {},
   "outputs": [],
   "source": [
    "def f_slice_merged_df(df,cutoff=0.2,sort_col='chi_1',col_mode='all',label='all',params_lst=[0,1,2],head=10,epoch_range=[0,None],use_sum=True,display_flag=False):\n",
    "    ''' View dataframe after slicing\n",
    "    '''\n",
    "\n",
    "    if epoch_range[1]==None: epoch_range[1]=df.max()['epoch']\n",
    "    df=df[(df.epoch<=epoch_range[1])&(df.epoch>=epoch_range[0])]\n",
    "\n",
    "    ######### Apply cutoff to keep reasonable chi1 and chispec1\n",
    "    #### Add chi-square columns to use\n",
    "    chi_cols=[]\n",
    "    if use_sum: ## Add sum chi-square columns\n",
    "        for j in ['chi_1','chi_spec1','chi_1c']: chi_cols.append('sum_'+j)\n",
    "        \n",
    "    if label=='all': ### Add chi-squares for all labels\n",
    "        for j in ['chi_1','chi_spec1','chi_1c']:\n",
    "            for idx,i in enumerate(params_lst): chi_cols.append(j+'_'+str(idx))\n",
    "    else: ## Add chi-square for specific label\n",
    "        assert label in params_lst, \"label %s is not in %s\"%(label,params_lst)\n",
    "        label_idx=params_lst.index(label)\n",
    "        print(label_idx)\n",
    "        for j in ['chi_1','chi_spec1','chi_1c']: chi_cols.append(j+'_'+str(label_idx))\n",
    "#     print(chi_cols)\n",
    "    q_dict=dict(df_merged.quantile(q=cutoff,axis=0)[chi_cols])\n",
    "    # print(q_dict)\n",
    "    strg=['%s < %s'%(key,q_dict[key]) for key in chi_cols ]\n",
    "    query=\" & \".join(strg)\n",
    "    # print(query)\n",
    "    df=df.query(query)\n",
    "    \n",
    "    # Sort dataframe\n",
    "    df1=df[df.epoch>0].sort_values(by=sort_col)\n",
    "    chis=[i for i in df_merged.columns if 'chi' in i]\n",
    "    col_list=['label']+chis+['epoch','step']\n",
    "    if (col_mode=='short'): \n",
    "        col_list=['label']+[i for i in df_merged.columns if i.startswith('sum')]\n",
    "        col_list=['label']+chi_cols\n",
    "    df2=df1.head(head)[col_list]\n",
    "    \n",
    "    if display_flag: display(df2) # Display df\n",
    "    \n",
    "    return df2\n",
    "\n",
    "# f_slice_merged_df(df_merged,cutoff=0.3,sort_col='sum_chi_1',label=0.65,params_lst=[0.5,0.65,0.8,1.1],use_sum=True,head=2000,display_flag=False,epoch_range=[7,None])"
   ]
  },
  {
   "cell_type": "code",
   "execution_count": 23,
   "metadata": {},
   "outputs": [
    {
     "data": {
      "application/vnd.jupyter.widget-view+json": {
       "model_id": "250721fdabd44633a7065bb4716863da",
       "version_major": 2,
       "version_minor": 0
      },
      "text/plain": [
       "interactive(children=(FloatSlider(value=0.3, description='cutoff', max=1.0, step=0.01), Dropdown(description='…"
      ]
     },
     "metadata": {},
     "output_type": "display_data"
    }
   ],
   "source": [
    "cols_to_sort=np.unique([i for i in df_merged.columns for j in ['chi_1_','chi_spec1_'] if ((i.startswith(j)) or (i.startswith('sum')))])\n",
    "\n",
    "w=interactive(f_slice_merged_df,df=fixed(df_merged),\n",
    "cutoff=widgets.FloatSlider(value=0.3, min=0, max=1.0, step=0.01), \n",
    "col_mode=['all','short'], display_flag=widgets.Checkbox(value=False),\n",
    "use_sum=widgets.Checkbox(value=True),\n",
    "label=ToggleButtons(options=['all']+sigma_lst), params_lst=fixed(sigma_lst),\n",
    "head=widgets.IntSlider(value=10,min=1,max=20,step=1),\n",
    "epoch_range=widgets.IntRangeSlider(value=[0,np.max(df.epoch.values)],min=0,max=np.max(df.epoch.values),step=1),\n",
    "sort_col=cols_to_sort\n",
    ")\n",
    "display(w)"
   ]
  },
  {
   "cell_type": "code",
   "execution_count": 24,
   "metadata": {},
   "outputs": [],
   "source": [
    "df_sliced=w.result\n",
    "# df_sliced"
   ]
  },
  {
   "cell_type": "code",
   "execution_count": 25,
   "metadata": {},
   "outputs": [
    {
     "name": "stdout",
     "output_type": "stream",
     "text": [
      "[ 1810  5390  8990  9840 10050 11940 11980 12250 12330 12760]\n"
     ]
    },
    {
     "data": {
      "text/plain": [
       "array([ 1810,  5390,  8990,  9840, 10050, 11940, 11980, 12250, 12330,\n",
       "       12760])"
      ]
     },
     "execution_count": 25,
     "metadata": {},
     "output_type": "execute_result"
    }
   ],
   "source": [
    "best_step=[]\n",
    "cut_off=1.0\n",
    "best_step.append(f_slice_merged_df(df_merged,cutoff=cut_off,sort_col='sum_chi_1',label='all',use_sum=True,head=4,display_flag=False,epoch_range=[7,None],params_lst=sigma_lst).step.values)\n",
    "best_step.append(f_slice_merged_df(df_merged,cutoff=cut_off,sort_col='sum_chi_spec1',label='all',use_sum=True,head=4,display_flag=False,epoch_range=[7,None],params_lst=sigma_lst).step.values)\n",
    "best_step.append(f_slice_merged_df(df_merged,cutoff=cut_off,sort_col='sum_chi_1c',label='all',use_sum=True,head=2,display_flag=False,epoch_range=[7,None],params_lst=sigma_lst).step.values)\n",
    "\n",
    "# best_step.append([46669,34281])\n",
    "best_step=np.unique([i for j in best_step for i in j])\n",
    "print(best_step)\n",
    "best_step"
   ]
  },
  {
   "cell_type": "code",
   "execution_count": 26,
   "metadata": {},
   "outputs": [],
   "source": [
    "# best_step=[6176]\n",
    "# best_step= [32300, 35810, 36020, 37030, 38640, 42480, 43850]\n",
    "\n",
    "# best_step=np.arange(40130,40135).astype(int)"
   ]
  },
  {
   "cell_type": "code",
   "execution_count": 27,
   "metadata": {},
   "outputs": [
    {
     "name": "stdout",
     "output_type": "stream",
     "text": [
      "(10, 61)\n",
      "[(7, 1810), (20, 5390), (34, 8990), (38, 9840), (38, 10050), (46, 11940), (46, 11980), (47, 12250), (47, 12330), (49, 12760)]\n"
     ]
    }
   ],
   "source": [
    "df_best=df_merged[df_merged.step.isin(best_step)]\n",
    "print(df_best.shape)\n",
    "print([(df_best[df_best.step==step].epoch.values[0],df_best[df_best.step==step].step.values[0]) for step in best_step])\n",
    "# print([(df_best.loc[idx].epoch,df_best.loc[idx].step) for idx in best_idx])"
   ]
  },
  {
   "cell_type": "code",
   "execution_count": 28,
   "metadata": {},
   "outputs": [
    {
     "data": {
      "text/html": [
       "<div>\n",
       "<style scoped>\n",
       "    .dataframe tbody tr th:only-of-type {\n",
       "        vertical-align: middle;\n",
       "    }\n",
       "\n",
       "    .dataframe tbody tr th {\n",
       "        vertical-align: top;\n",
       "    }\n",
       "\n",
       "    .dataframe thead th {\n",
       "        text-align: right;\n",
       "    }\n",
       "</style>\n",
       "<table border=\"1\" class=\"dataframe\">\n",
       "  <thead>\n",
       "    <tr style=\"text-align: right;\">\n",
       "      <th></th>\n",
       "      <th>label</th>\n",
       "      <th>sum_chi_1</th>\n",
       "      <th>sum_chi_spec1</th>\n",
       "      <th>sum_chi_1c</th>\n",
       "    </tr>\n",
       "  </thead>\n",
       "  <tbody>\n",
       "    <tr>\n",
       "      <th>180</th>\n",
       "      <td>7-1810</td>\n",
       "      <td>1.010186</td>\n",
       "      <td>31.486667</td>\n",
       "      <td>0.000115</td>\n",
       "    </tr>\n",
       "    <tr>\n",
       "      <th>538</th>\n",
       "      <td>20-5390</td>\n",
       "      <td>0.142296</td>\n",
       "      <td>8.115131</td>\n",
       "      <td>0.000115</td>\n",
       "    </tr>\n",
       "    <tr>\n",
       "      <th>898</th>\n",
       "      <td>34-8990</td>\n",
       "      <td>2.106143</td>\n",
       "      <td>5.875042</td>\n",
       "      <td>0.000115</td>\n",
       "    </tr>\n",
       "    <tr>\n",
       "      <th>983</th>\n",
       "      <td>38-9840</td>\n",
       "      <td>0.141564</td>\n",
       "      <td>5.629720</td>\n",
       "      <td>0.000115</td>\n",
       "    </tr>\n",
       "    <tr>\n",
       "      <th>1004</th>\n",
       "      <td>38-10050</td>\n",
       "      <td>0.125370</td>\n",
       "      <td>3.740857</td>\n",
       "      <td>0.000115</td>\n",
       "    </tr>\n",
       "    <tr>\n",
       "      <th>1193</th>\n",
       "      <td>46-11940</td>\n",
       "      <td>0.184425</td>\n",
       "      <td>1.948265</td>\n",
       "      <td>0.000115</td>\n",
       "    </tr>\n",
       "    <tr>\n",
       "      <th>1197</th>\n",
       "      <td>46-11980</td>\n",
       "      <td>9.534501</td>\n",
       "      <td>2.023933</td>\n",
       "      <td>0.001177</td>\n",
       "    </tr>\n",
       "    <tr>\n",
       "      <th>1224</th>\n",
       "      <td>47-12250</td>\n",
       "      <td>0.271330</td>\n",
       "      <td>1.777232</td>\n",
       "      <td>0.000115</td>\n",
       "    </tr>\n",
       "    <tr>\n",
       "      <th>1232</th>\n",
       "      <td>47-12330</td>\n",
       "      <td>0.365769</td>\n",
       "      <td>2.030244</td>\n",
       "      <td>0.000115</td>\n",
       "    </tr>\n",
       "    <tr>\n",
       "      <th>1275</th>\n",
       "      <td>49-12760</td>\n",
       "      <td>0.142406</td>\n",
       "      <td>2.390220</td>\n",
       "      <td>0.000115</td>\n",
       "    </tr>\n",
       "  </tbody>\n",
       "</table>\n",
       "</div>"
      ],
      "text/plain": [
       "         label  sum_chi_1  sum_chi_spec1  sum_chi_1c\n",
       "180     7-1810   1.010186      31.486667    0.000115\n",
       "538    20-5390   0.142296       8.115131    0.000115\n",
       "898    34-8990   2.106143       5.875042    0.000115\n",
       "983    38-9840   0.141564       5.629720    0.000115\n",
       "1004  38-10050   0.125370       3.740857    0.000115\n",
       "1193  46-11940   0.184425       1.948265    0.000115\n",
       "1197  46-11980   9.534501       2.023933    0.001177\n",
       "1224  47-12250   0.271330       1.777232    0.000115\n",
       "1232  47-12330   0.365769       2.030244    0.000115\n",
       "1275  49-12760   0.142406       2.390220    0.000115"
      ]
     },
     "execution_count": 28,
     "metadata": {},
     "output_type": "execute_result"
    }
   ],
   "source": [
    "col_list=['label']+[i for i in df_merged.columns if i.startswith('sum')]\n",
    "\n",
    "df_best[col_list]"
   ]
  },
  {
   "cell_type": "markdown",
   "metadata": {},
   "source": [
    "### Interactive plot"
   ]
  },
  {
   "cell_type": "code",
   "execution_count": 29,
   "metadata": {
    "jupyter": {
     "source_hidden": true
    },
    "tags": []
   },
   "outputs": [],
   "source": [
    "\n",
    "def f_plot_hist_spec(df,param_labels,sigma_lst,steps_list,bkg_dict,plot_type):\n",
    "\n",
    "    img_size=128\n",
    "    assert plot_type in ['hist','spec','grid','spec_relative'],\"Invalid mode %s\"%(plot_type)\n",
    "\n",
    "    if plot_type in ['hist','spec','spec_relative']:     fig=plt.figure(figsize=(6,6))\n",
    "    for par_label in param_labels:\n",
    "        df=df[df.step.isin(steps_list)]\n",
    "#         print(df.shape)\n",
    "        idx=sigma_lst.index(par_label)\n",
    "        suffix='_%s'%(idx)\n",
    "        dict_bkg=bkg_dict[str(par_label)]\n",
    "        \n",
    "        for (i,row),marker in zip(df.iterrows(),itertools.cycle('>^*sDHPdpx_')):\n",
    "            label=row.label+'_'+str(par_label)\n",
    "            if plot_type=='hist':\n",
    "                x1=row['hist_bin_centers'+suffix]\n",
    "                y1=row['hist_val'+suffix]\n",
    "                yerr1=row['hist_err'+suffix]\n",
    "                x1=f_invtransform(x1)\n",
    "                \n",
    "                plt.errorbar(x1,y1,yerr1,marker=marker,markersize=5,linestyle='',label=label)\n",
    "            if plot_type=='spec':\n",
    "                y2=row['spec_val'+suffix]\n",
    "                yerr2=row['spec_sdev'+suffix]/np.sqrt(row['num_imgs'+suffix])\n",
    "                x2=np.arange(len(y2))\n",
    "\n",
    "                plt.fill_between(x2, y2 - yerr2, y2 + yerr2, alpha=0.4)\n",
    "                plt.plot(x2, y2, marker=marker, linestyle=':',label=label)\n",
    "\n",
    "            if plot_type=='spec_relative':\n",
    "\n",
    "                y2=row['spec_val'+suffix]\n",
    "                yerr2=row['spec_sdev'+suffix]\n",
    "                x2=np.arange(len(y2))\n",
    "\n",
    "                ### Reference spectrum\n",
    "                y1,yerr1=dict_bkg['spec_val'],dict_bkg['spec_sdev']\n",
    "\n",
    "                y=y2/y1\n",
    "                ## Variance is sum of variance of both variables, since they are uncorrelated\n",
    "\n",
    "                # delta_r= |r| * sqrt(delta_a/a)^2 +(\\delta_b/b)^2) / \\sqrt(N)\n",
    "                yerr=(np.abs(y))*np.sqrt((yerr1/y1)**2+(yerr2/y2)**2)/np.sqrt(row['num_imgs'+suffix])\n",
    "                \n",
    "                plt.fill_between(x2, y - yerr, y + yerr, alpha=0.4)\n",
    "                plt.plot(x2, y, marker=marker, linestyle=':',label=label)\n",
    "                plt.legend()\n",
    "\n",
    "            if plot_type=='grid':\n",
    "                images=np.load(row['fname'+suffix])[:,0,:,:]\n",
    "                f_plot_grid(images[:18],cols=6,fig_size=(10,5))\n",
    "            \n",
    "        ### Plot reference data\n",
    "        if plot_type=='hist':\n",
    "            x,y,yerr=dict_bkg['hist_bin_centers'],dict_bkg['hist_val'],dict_bkg['hist_err']\n",
    "            x=f_invtransform(x)\n",
    "            plt.errorbar(x, y,yerr,color='k',linestyle='-',label='bkgnd')   \n",
    "            plt.title('Pixel Intensity Histogram')\n",
    "            plt.xscale('symlog',linthreshx=50)\n",
    "        \n",
    "        if plot_type=='spec':\n",
    "            y,yerr=dict_bkg['spec_val'],dict_bkg['spec_sdev']/np.sqrt(num_bkgnd)\n",
    "            x=np.arange(len(y))\n",
    "            plt.fill_between(x, y - yerr, y + yerr, color='k',alpha=0.8)\n",
    "            plt.title('Spectrum')\n",
    "            plt.xlim(0,img_size/2)\n",
    "\n",
    "        if plot_type=='spec_relative':\n",
    "            plt.axhline(y=1.0,color='k',linestyle='-.')\n",
    "            plt.title(\"Relative spectrum\")\n",
    "            plt.xlim(0,img_size/2)\n",
    "            plt.ylim(0.5,2)\n",
    "\n",
    "    if plot_type in ['hist','spec']:     \n",
    "        plt.yscale('log')\n",
    "    plt.legend(bbox_to_anchor=(0.3, 0.75),ncol=2, fancybox=True, shadow=True,prop={'size':6})\n",
    "\n",
    "\n",
    "# f_plot_hist_spec(df_merged,[sigma_lst[-1]],sigma_lst,[best_step[0]],bkgnd_dict,'hist')"
   ]
  },
  {
   "cell_type": "code",
   "execution_count": 30,
   "metadata": {},
   "outputs": [
    {
     "data": {
      "application/vnd.jupyter.widget-view+json": {
       "model_id": "7b605e514e594dfc9c61badc6e9d2c1a",
       "version_major": 2,
       "version_minor": 0
      },
      "text/plain": [
       "interactive(children=(SelectMultiple(description='param_labels', options=('0.5', '0.8', '1.1'), value=()), Sel…"
      ]
     },
     "metadata": {},
     "output_type": "display_data"
    },
    {
     "data": {
      "text/plain": [
       "<function __main__.f_plot_hist_spec(df, param_labels, sigma_lst, steps_list, bkg_dict, plot_type)>"
      ]
     },
     "execution_count": 30,
     "metadata": {},
     "output_type": "execute_result"
    }
   ],
   "source": [
    "interact_manual(f_plot_hist_spec,df=fixed(df_merged),\n",
    "                param_labels=SelectMultiple(options=sigma_lst),sigma_lst=fixed(sigma_lst),\n",
    "                steps_list=SelectMultiple(options=best_step),\n",
    "                bkg_dict=fixed(bkgnd_dict),plot_type=ToggleButtons(options=['hist','spec','grid','spec_relative']))"
   ]
  },
  {
   "cell_type": "code",
   "execution_count": 31,
   "metadata": {},
   "outputs": [],
   "source": [
    "# ### Check deterministic\n",
    "# main_dir='/global/cfs/cdirs/m3363/vayyar/cosmogan_data/results_from_other_code/pytorch/results/128sq/'\n",
    "# epoch,step=0,230\n",
    "# f1='20210113_185116_cgan_predict_0.65_m2/images/gen_img_label-0.5_epoch-{0}_step-{1}.npy'.format(epoch,step)\n",
    "# f2='20210113_092234_cgan_predict_0.65_m2/images/gen_img_label-0.5_epoch-{0}_step-{1}.npy'.format(epoch,step)\n",
    "\n",
    "# epoch,step=3,20\n",
    "# f1='20210114_191648_nb_test/images/gen_img_label-0.5_epoch-{0}_step-{1}.npy'.format(epoch,step)\n",
    "# f2='20210114_193009_nb_test/images/gen_img_label-0.5_epoch-{0}_step-{1}.npy'.format(epoch,step)\n",
    "\n",
    "# a1=np.load(main_dir+f1)\n",
    "# a2=np.load(main_dir+f2)\n",
    "# # print(a1.shape,a2.shape)\n",
    "\n",
    "# print(np.mean(a1),np.mean(a2))\n",
    "# print(np.max(a1),np.max(a2))"
   ]
  },
  {
   "cell_type": "markdown",
   "metadata": {},
   "source": [
    "### Delete unwanted stored models\n",
    "(Since deterministic runs aren't working well )"
   ]
  },
  {
   "cell_type": "code",
   "execution_count": 129,
   "metadata": {},
   "outputs": [
    {
     "name": "stdout",
     "output_type": "stream",
     "text": [
      "/global/cfs/cdirs/m3363/vayyar/cosmogan_data/results_from_other_code/pytorch/results/128sq/20210205_063709_cgan_predict_1.1_m2\n"
     ]
    },
    {
     "data": {
      "text/plain": [
       "1767"
      ]
     },
     "execution_count": 129,
     "metadata": {},
     "output_type": "execute_result"
    }
   ],
   "source": [
    "# fldr='/global/cfs/cdirs/m3363/vayyar/cosmogan_data/results_from_other_code/pytorch/results/128sq/20210119_134802_cgan_predict_0.65_m2/models'\n",
    "fldr=result_dir\n",
    "print(fldr)\n",
    "flist=glob.glob(fldr+'/models/checkpoint_*.tar')\n",
    "len(flist)"
   ]
  },
  {
   "cell_type": "code",
   "execution_count": 1,
   "metadata": {},
   "outputs": [],
   "source": [
    "# # Delete unwanted stored images\n",
    "# for i in flist:\n",
    "#     try:\n",
    "#         step=int(i.split('/')[-1].split('_')[-1].split('.')[0])\n",
    "#         if step not in best_step:\n",
    "# #             print(\"Found\")\n",
    "# #             print(step)\n",
    "# #             os.remove(i)\n",
    "#             pass\n",
    "#         else: \n",
    "#             print(step)\n",
    "#             print(i)\n",
    "#     except Exception as e:\n",
    "# #         print(e)\n",
    "# #         print(i)\n",
    "#         pass"
   ]
  },
  {
   "cell_type": "code",
   "execution_count": 128,
   "metadata": {},
   "outputs": [
    {
     "data": {
      "text/plain": [
       "array([23310, 25620, 27150, 28060, 31170, 31310, 32550, 35100, 35710,\n",
       "       35740])"
      ]
     },
     "execution_count": 128,
     "metadata": {},
     "output_type": "execute_result"
    }
   ],
   "source": [
    "best_step"
   ]
  }
 ],
 "metadata": {
  "kernelspec": {
   "display_name": "v3",
   "language": "python",
   "name": "v-jpt-3"
  },
  "language_info": {
   "codemirror_mode": {
    "name": "ipython",
    "version": 3
   },
   "file_extension": ".py",
   "mimetype": "text/x-python",
   "name": "python",
   "nbconvert_exporter": "python",
   "pygments_lexer": "ipython3",
   "version": "3.8.6"
  }
 },
 "nbformat": 4,
 "nbformat_minor": 4
}

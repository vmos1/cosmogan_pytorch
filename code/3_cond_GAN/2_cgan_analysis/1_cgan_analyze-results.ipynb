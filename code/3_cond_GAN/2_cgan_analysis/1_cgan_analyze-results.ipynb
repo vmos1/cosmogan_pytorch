{
 "cells": [
  {
   "cell_type": "markdown",
   "metadata": {},
   "source": [
    "# Analyze results\n",
    "Aug 28, 2020"
   ]
  },
  {
   "cell_type": "code",
   "execution_count": 3,
   "metadata": {},
   "outputs": [],
   "source": [
    "import     numpy as np\n",
    "import matplotlib.pyplot as plt\n",
    "import pandas as pd\n",
    "\n",
    "import subprocess as sp\n",
    "import sys\n",
    "import os\n",
    "import glob\n",
    "import pickle \n",
    "\n",
    "from matplotlib.colors import LogNorm, PowerNorm, Normalize\n",
    "import seaborn as sns\n",
    "from functools import reduce"
   ]
  },
  {
   "cell_type": "code",
   "execution_count": 4,
   "metadata": {},
   "outputs": [],
   "source": [
    "from ipywidgets import *"
   ]
  },
  {
   "cell_type": "code",
   "execution_count": 5,
   "metadata": {},
   "outputs": [],
   "source": [
    "%matplotlib widget"
   ]
  },
  {
   "cell_type": "code",
   "execution_count": 6,
   "metadata": {},
   "outputs": [],
   "source": [
    "sys.path.append('/global/u1/v/vpa/project/jpt_notebooks/Cosmology/Cosmo_GAN/repositories/cosmogan_pytorch/code/modules_image_analysis/')\n",
    "from modules_img_analysis import *"
   ]
  },
  {
   "cell_type": "code",
   "execution_count": 7,
   "metadata": {},
   "outputs": [],
   "source": [
    "sys.path.append('/global/u1/v/vpa/project/jpt_notebooks/Cosmology/Cosmo_GAN/repositories/cosmogan_pytorch/code/3_cond_GAN/1_main_code/')\n",
    "import post_analysis_pandas as post\n"
   ]
  },
  {
   "cell_type": "code",
   "execution_count": 8,
   "metadata": {},
   "outputs": [],
   "source": [
    "### Transformation functions for image pixel values\n",
    "def f_transform(x):\n",
    "    return 2.*x/(x + 4.) - 1.\n",
    "\n",
    "def f_invtransform(s):\n",
    "    return 4.*(1. + s)/(1. - s)\n"
   ]
  },
  {
   "cell_type": "markdown",
   "metadata": {},
   "source": [
    "## Read data"
   ]
  },
  {
   "cell_type": "code",
   "execution_count": 9,
   "metadata": {},
   "outputs": [],
   "source": [
    "# main_dir='/global/cfs/cdirs/m3363/vayyar/cosmogan_data/results_from_other_code/pytorch/results/128sq/'\n",
    "# results_dir=main_dir+'20201002_064327'"
   ]
  },
  {
   "cell_type": "code",
   "execution_count": 10,
   "metadata": {},
   "outputs": [],
   "source": [
    "dict1={'128':'/global/cfs/cdirs/m3363/vayyar/cosmogan_data/results_from_other_code/pytorch/results/128sq/',\n",
    "      '512':'/global/cfs/cdirs/m3363/vayyar/cosmogan_data/results_from_other_code/pytorch/results/512sq/'}\n",
    "\n",
    "u=interactive(lambda x: dict1[x], x=Select(options=dict1.keys()))\n",
    "# display(u)\n"
   ]
  },
  {
   "cell_type": "code",
   "execution_count": 50,
   "metadata": {},
   "outputs": [
    {
     "data": {
      "application/vnd.jupyter.widget-view+json": {
       "model_id": "7f2530ecb5dd491ca2d3f75b36e1f8e6",
       "version_major": 2,
       "version_minor": 0
      },
      "text/plain": [
       "interactive(children=(Dropdown(description='x', options=('20210205_122504_cgan_predict_0.8_m2', '20210205_1206…"
      ]
     },
     "metadata": {},
     "output_type": "display_data"
    }
   ],
   "source": [
    "# parent_dir=u.result\n",
    "parent_dir=dict1['128']\n",
    "dir_lst=[i.split('/')[-1] for i in glob.glob(parent_dir+'202102*')]\n",
    "w=interactive(lambda x: x, x=Dropdown(options=dir_lst))\n",
    "display(w)"
   ]
  },
  {
   "cell_type": "code",
   "execution_count": 51,
   "metadata": {},
   "outputs": [
    {
     "name": "stdout",
     "output_type": "stream",
     "text": [
      "/global/cfs/cdirs/m3363/vayyar/cosmogan_data/results_from_other_code/pytorch/results/128sq/20210205_122504_cgan_predict_0.8_m2\n"
     ]
    }
   ],
   "source": [
    "result=w.result\n",
    "result_dir=parent_dir+result\n",
    "print(result_dir)"
   ]
  },
  {
   "cell_type": "markdown",
   "metadata": {},
   "source": [
    "### Read validation data"
   ]
  },
  {
   "cell_type": "code",
   "execution_count": 13,
   "metadata": {},
   "outputs": [
    {
     "name": "stdout",
     "output_type": "stream",
     "text": [
      "/global/cfs/cdirs/m3363/vayyar/cosmogan_data/raw_data/128_square/dataset_5_4univ_cgan/norm_1_sig_0.5_train_val.npy\n",
      "/global/cfs/cdirs/m3363/vayyar/cosmogan_data/raw_data/128_square/dataset_5_4univ_cgan/norm_1_sig_0.65_train_val.npy\n",
      "/global/cfs/cdirs/m3363/vayyar/cosmogan_data/raw_data/128_square/dataset_5_4univ_cgan/norm_1_sig_0.8_train_val.npy\n",
      "/global/cfs/cdirs/m3363/vayyar/cosmogan_data/raw_data/128_square/dataset_5_4univ_cgan/norm_1_sig_1.1_train_val.npy\n"
     ]
    }
   ],
   "source": [
    "# bins=np.concatenate([np.array([-0.5]),np.arange(0.5,20.5,1),np.arange(20.5,100.5,5),np.arange(100.5,1000.5,50),np.array([2000])]) #bin edges to use\n",
    "bins=np.concatenate([np.array([-0.5]),np.arange(0.5,100.5,5),np.arange(100.5,300.5,20),np.arange(300.5,1000.5,50),np.array([2000])]) #bin edges to use\n",
    "\n",
    "bins=f_transform(bins)   ### scale to (-1,1)\n",
    "# ### Extract validation data\n",
    "sigma_lst=[0.5,0.65,0.8,1.1]\n",
    "labels_lst=range(len(sigma_lst))\n",
    "bkgnd_dict={}\n",
    "num_bkgnd=2000\n",
    "\n",
    "for label in labels_lst:\n",
    "    fname='/global/cfs/cdirs/m3363/vayyar/cosmogan_data/raw_data/128_square/dataset_5_4univ_cgan/norm_1_sig_{0}_train_val.npy'.format(sigma_lst[label])\n",
    "    print(fname)\n",
    "    samples=np.load(fname,mmap_mode='r')[-num_bkgnd:][:,0,:,:]\n",
    "    \n",
    "    dict_val=post.f_compute_hist_spect(samples,bins)\n",
    "    bkgnd_dict[str(sigma_lst[label])]=dict_val\n",
    "    del samples"
   ]
  },
  {
   "cell_type": "code",
   "execution_count": null,
   "metadata": {},
   "outputs": [],
   "source": []
  },
  {
   "cell_type": "code",
   "execution_count": null,
   "metadata": {},
   "outputs": [],
   "source": []
  },
  {
   "cell_type": "markdown",
   "metadata": {},
   "source": [
    "## Plot Losses"
   ]
  },
  {
   "cell_type": "code",
   "execution_count": 52,
   "metadata": {},
   "outputs": [],
   "source": [
    "df_metrics=pd.read_pickle(result_dir+'/df_metrics.pkle').astype(np.float64)\n"
   ]
  },
  {
   "cell_type": "code",
   "execution_count": 53,
   "metadata": {},
   "outputs": [
    {
     "data": {
      "text/html": [
       "<div>\n",
       "<style scoped>\n",
       "    .dataframe tbody tr th:only-of-type {\n",
       "        vertical-align: middle;\n",
       "    }\n",
       "\n",
       "    .dataframe tbody tr th {\n",
       "        vertical-align: top;\n",
       "    }\n",
       "\n",
       "    .dataframe thead th {\n",
       "        text-align: right;\n",
       "    }\n",
       "</style>\n",
       "<table border=\"1\" class=\"dataframe\">\n",
       "  <thead>\n",
       "    <tr style=\"text-align: right;\">\n",
       "      <th></th>\n",
       "      <th>step</th>\n",
       "      <th>epoch</th>\n",
       "      <th>Dreal</th>\n",
       "      <th>Dfake</th>\n",
       "      <th>Dfull</th>\n",
       "      <th>G_adv</th>\n",
       "      <th>G_full</th>\n",
       "      <th>spec_loss</th>\n",
       "      <th>hist_loss</th>\n",
       "      <th>spec_chi</th>\n",
       "      <th>hist_chi</th>\n",
       "      <th>D(x)</th>\n",
       "      <th>D_G_z1</th>\n",
       "      <th>D_G_z2</th>\n",
       "      <th>time</th>\n",
       "    </tr>\n",
       "  </thead>\n",
       "  <tbody>\n",
       "    <tr>\n",
       "      <th>46851</th>\n",
       "      <td>46851.0</td>\n",
       "      <td>19.0</td>\n",
       "      <td>0.764071</td>\n",
       "      <td>0.134660</td>\n",
       "      <td>0.898731</td>\n",
       "      <td>0.798756</td>\n",
       "      <td>79.266800</td>\n",
       "      <td>78.468040</td>\n",
       "      <td>-1.673606</td>\n",
       "      <td>81.294731</td>\n",
       "      <td>-1.027977</td>\n",
       "      <td>0.515192</td>\n",
       "      <td>-6.133303</td>\n",
       "      <td>0.348663</td>\n",
       "      <td>0.153963</td>\n",
       "    </tr>\n",
       "    <tr>\n",
       "      <th>46852</th>\n",
       "      <td>46852.0</td>\n",
       "      <td>19.0</td>\n",
       "      <td>0.117022</td>\n",
       "      <td>1.192026</td>\n",
       "      <td>1.309048</td>\n",
       "      <td>11.561567</td>\n",
       "      <td>91.133743</td>\n",
       "      <td>79.572174</td>\n",
       "      <td>-1.709397</td>\n",
       "      <td>80.413353</td>\n",
       "      <td>-1.942336</td>\n",
       "      <td>8.706472</td>\n",
       "      <td>0.381129</td>\n",
       "      <td>-11.561546</td>\n",
       "      <td>0.151082</td>\n",
       "    </tr>\n",
       "    <tr>\n",
       "      <th>46853</th>\n",
       "      <td>46853.0</td>\n",
       "      <td>19.0</td>\n",
       "      <td>0.411261</td>\n",
       "      <td>0.111765</td>\n",
       "      <td>0.523026</td>\n",
       "      <td>9.057291</td>\n",
       "      <td>87.049583</td>\n",
       "      <td>77.992294</td>\n",
       "      <td>-2.430485</td>\n",
       "      <td>80.735428</td>\n",
       "      <td>-2.163083</td>\n",
       "      <td>1.652744</td>\n",
       "      <td>-8.755133</td>\n",
       "      <td>-9.056465</td>\n",
       "      <td>0.148203</td>\n",
       "    </tr>\n",
       "    <tr>\n",
       "      <th>46854</th>\n",
       "      <td>46854.0</td>\n",
       "      <td>19.0</td>\n",
       "      <td>0.302346</td>\n",
       "      <td>0.151451</td>\n",
       "      <td>0.453797</td>\n",
       "      <td>4.137741</td>\n",
       "      <td>87.569489</td>\n",
       "      <td>83.431747</td>\n",
       "      <td>-1.827660</td>\n",
       "      <td>81.423203</td>\n",
       "      <td>-2.701637</td>\n",
       "      <td>2.071270</td>\n",
       "      <td>-8.020779</td>\n",
       "      <td>-4.066977</td>\n",
       "      <td>0.148527</td>\n",
       "    </tr>\n",
       "    <tr>\n",
       "      <th>46855</th>\n",
       "      <td>46855.0</td>\n",
       "      <td>19.0</td>\n",
       "      <td>0.139453</td>\n",
       "      <td>0.133831</td>\n",
       "      <td>0.273285</td>\n",
       "      <td>3.747757</td>\n",
       "      <td>84.368187</td>\n",
       "      <td>80.620430</td>\n",
       "      <td>-2.483325</td>\n",
       "      <td>82.624176</td>\n",
       "      <td>-2.138642</td>\n",
       "      <td>8.167961</td>\n",
       "      <td>-3.161263</td>\n",
       "      <td>-3.691355</td>\n",
       "      <td>0.148794</td>\n",
       "    </tr>\n",
       "    <tr>\n",
       "      <th>46856</th>\n",
       "      <td>46856.0</td>\n",
       "      <td>19.0</td>\n",
       "      <td>0.181806</td>\n",
       "      <td>0.205667</td>\n",
       "      <td>0.387473</td>\n",
       "      <td>6.202092</td>\n",
       "      <td>85.278236</td>\n",
       "      <td>79.076141</td>\n",
       "      <td>-2.324460</td>\n",
       "      <td>83.531525</td>\n",
       "      <td>-2.375096</td>\n",
       "      <td>8.130104</td>\n",
       "      <td>-2.901742</td>\n",
       "      <td>-6.197326</td>\n",
       "      <td>0.149136</td>\n",
       "    </tr>\n",
       "    <tr>\n",
       "      <th>46857</th>\n",
       "      <td>46857.0</td>\n",
       "      <td>19.0</td>\n",
       "      <td>0.086343</td>\n",
       "      <td>0.150953</td>\n",
       "      <td>0.237295</td>\n",
       "      <td>6.876864</td>\n",
       "      <td>85.240906</td>\n",
       "      <td>78.364044</td>\n",
       "      <td>-2.453525</td>\n",
       "      <td>81.884659</td>\n",
       "      <td>-2.173412</td>\n",
       "      <td>5.502191</td>\n",
       "      <td>-4.614263</td>\n",
       "      <td>-6.873146</td>\n",
       "      <td>0.153317</td>\n",
       "    </tr>\n",
       "    <tr>\n",
       "      <th>46858</th>\n",
       "      <td>46858.0</td>\n",
       "      <td>19.0</td>\n",
       "      <td>0.108975</td>\n",
       "      <td>0.143925</td>\n",
       "      <td>0.252900</td>\n",
       "      <td>5.882436</td>\n",
       "      <td>83.408974</td>\n",
       "      <td>77.526535</td>\n",
       "      <td>-2.371398</td>\n",
       "      <td>81.802017</td>\n",
       "      <td>-2.367001</td>\n",
       "      <td>3.657967</td>\n",
       "      <td>-5.665495</td>\n",
       "      <td>-5.871824</td>\n",
       "      <td>0.149385</td>\n",
       "    </tr>\n",
       "    <tr>\n",
       "      <th>46859</th>\n",
       "      <td>46859.0</td>\n",
       "      <td>19.0</td>\n",
       "      <td>0.101523</td>\n",
       "      <td>0.101492</td>\n",
       "      <td>0.203016</td>\n",
       "      <td>5.007656</td>\n",
       "      <td>85.302689</td>\n",
       "      <td>80.295029</td>\n",
       "      <td>-2.273657</td>\n",
       "      <td>80.583572</td>\n",
       "      <td>-1.916126</td>\n",
       "      <td>4.076540</td>\n",
       "      <td>-5.537724</td>\n",
       "      <td>-4.989114</td>\n",
       "      <td>0.148127</td>\n",
       "    </tr>\n",
       "    <tr>\n",
       "      <th>46860</th>\n",
       "      <td>NaN</td>\n",
       "      <td>NaN</td>\n",
       "      <td>NaN</td>\n",
       "      <td>NaN</td>\n",
       "      <td>NaN</td>\n",
       "      <td>NaN</td>\n",
       "      <td>NaN</td>\n",
       "      <td>NaN</td>\n",
       "      <td>NaN</td>\n",
       "      <td>83.891098</td>\n",
       "      <td>-1.747501</td>\n",
       "      <td>NaN</td>\n",
       "      <td>NaN</td>\n",
       "      <td>NaN</td>\n",
       "      <td>NaN</td>\n",
       "    </tr>\n",
       "  </tbody>\n",
       "</table>\n",
       "</div>"
      ],
      "text/plain": [
       "          step  epoch     Dreal     Dfake     Dfull      G_adv     G_full  \\\n",
       "46851  46851.0   19.0  0.764071  0.134660  0.898731   0.798756  79.266800   \n",
       "46852  46852.0   19.0  0.117022  1.192026  1.309048  11.561567  91.133743   \n",
       "46853  46853.0   19.0  0.411261  0.111765  0.523026   9.057291  87.049583   \n",
       "46854  46854.0   19.0  0.302346  0.151451  0.453797   4.137741  87.569489   \n",
       "46855  46855.0   19.0  0.139453  0.133831  0.273285   3.747757  84.368187   \n",
       "46856  46856.0   19.0  0.181806  0.205667  0.387473   6.202092  85.278236   \n",
       "46857  46857.0   19.0  0.086343  0.150953  0.237295   6.876864  85.240906   \n",
       "46858  46858.0   19.0  0.108975  0.143925  0.252900   5.882436  83.408974   \n",
       "46859  46859.0   19.0  0.101523  0.101492  0.203016   5.007656  85.302689   \n",
       "46860      NaN    NaN       NaN       NaN       NaN        NaN        NaN   \n",
       "\n",
       "       spec_loss  hist_loss   spec_chi  hist_chi      D(x)    D_G_z1  \\\n",
       "46851  78.468040  -1.673606  81.294731 -1.027977  0.515192 -6.133303   \n",
       "46852  79.572174  -1.709397  80.413353 -1.942336  8.706472  0.381129   \n",
       "46853  77.992294  -2.430485  80.735428 -2.163083  1.652744 -8.755133   \n",
       "46854  83.431747  -1.827660  81.423203 -2.701637  2.071270 -8.020779   \n",
       "46855  80.620430  -2.483325  82.624176 -2.138642  8.167961 -3.161263   \n",
       "46856  79.076141  -2.324460  83.531525 -2.375096  8.130104 -2.901742   \n",
       "46857  78.364044  -2.453525  81.884659 -2.173412  5.502191 -4.614263   \n",
       "46858  77.526535  -2.371398  81.802017 -2.367001  3.657967 -5.665495   \n",
       "46859  80.295029  -2.273657  80.583572 -1.916126  4.076540 -5.537724   \n",
       "46860        NaN        NaN  83.891098 -1.747501       NaN       NaN   \n",
       "\n",
       "          D_G_z2      time  \n",
       "46851   0.348663  0.153963  \n",
       "46852 -11.561546  0.151082  \n",
       "46853  -9.056465  0.148203  \n",
       "46854  -4.066977  0.148527  \n",
       "46855  -3.691355  0.148794  \n",
       "46856  -6.197326  0.149136  \n",
       "46857  -6.873146  0.153317  \n",
       "46858  -5.871824  0.149385  \n",
       "46859  -4.989114  0.148127  \n",
       "46860        NaN       NaN  "
      ]
     },
     "execution_count": 53,
     "metadata": {},
     "output_type": "execute_result"
    }
   ],
   "source": [
    "df_metrics.tail(10)"
   ]
  },
  {
   "cell_type": "code",
   "execution_count": 54,
   "metadata": {},
   "outputs": [
    {
     "data": {
      "application/vnd.jupyter.widget-view+json": {
       "model_id": "eeefa65b59034e8796dfda60301603a1",
       "version_major": 2,
       "version_minor": 0
      },
      "text/plain": [
       "interactive(children=(SelectMultiple(description='col_list', options=('step', 'epoch', 'Dreal', 'Dfake', 'Dful…"
      ]
     },
     "metadata": {},
     "output_type": "display_data"
    },
    {
     "data": {
      "text/plain": [
       "<function __main__.f_plot_metrics(df, col_list)>"
      ]
     },
     "execution_count": 54,
     "metadata": {},
     "output_type": "execute_result"
    }
   ],
   "source": [
    "def f_plot_metrics(df,col_list):\n",
    "    \n",
    "    plt.figure()\n",
    "    for key in col_list:\n",
    "        plt.plot(df_metrics[key],label=key,marker='*',linestyle='')\n",
    "    plt.legend()\n",
    "    \n",
    "#     col_list=list(col_list)\n",
    "#     df.plot(kind='line',x='step',y=col_list)\n",
    "    \n",
    "# f_plot_metrics(df_metrics,['spec_chi','hist_chi'])\n",
    "\n",
    "interact_manual(f_plot_metrics,df=fixed(df_metrics), col_list=SelectMultiple(options=df_metrics.columns.values))"
   ]
  },
  {
   "cell_type": "code",
   "execution_count": 55,
   "metadata": {},
   "outputs": [
    {
     "name": "stdout",
     "output_type": "stream",
     "text": [
      "-2.5493119239807127\n"
     ]
    },
    {
     "data": {
      "text/html": [
       "<div>\n",
       "<style scoped>\n",
       "    .dataframe tbody tr th:only-of-type {\n",
       "        vertical-align: middle;\n",
       "    }\n",
       "\n",
       "    .dataframe tbody tr th {\n",
       "        vertical-align: top;\n",
       "    }\n",
       "\n",
       "    .dataframe thead th {\n",
       "        text-align: right;\n",
       "    }\n",
       "</style>\n",
       "<table border=\"1\" class=\"dataframe\">\n",
       "  <thead>\n",
       "    <tr style=\"text-align: right;\">\n",
       "      <th></th>\n",
       "      <th>step</th>\n",
       "      <th>epoch</th>\n",
       "      <th>Dreal</th>\n",
       "      <th>Dfake</th>\n",
       "      <th>Dfull</th>\n",
       "      <th>G_adv</th>\n",
       "      <th>G_full</th>\n",
       "      <th>spec_loss</th>\n",
       "      <th>hist_loss</th>\n",
       "      <th>spec_chi</th>\n",
       "      <th>hist_chi</th>\n",
       "      <th>D(x)</th>\n",
       "      <th>D_G_z1</th>\n",
       "      <th>D_G_z2</th>\n",
       "      <th>time</th>\n",
       "    </tr>\n",
       "  </thead>\n",
       "  <tbody>\n",
       "    <tr>\n",
       "      <th>33311</th>\n",
       "      <td>33311.0</td>\n",
       "      <td>14.0</td>\n",
       "      <td>0.066193</td>\n",
       "      <td>0.281360</td>\n",
       "      <td>0.347553</td>\n",
       "      <td>6.362335</td>\n",
       "      <td>85.256317</td>\n",
       "      <td>78.893982</td>\n",
       "      <td>-2.894952</td>\n",
       "      <td>80.832047</td>\n",
       "      <td>-3.087124</td>\n",
       "      <td>4.778636</td>\n",
       "      <td>-1.800700</td>\n",
       "      <td>-6.357883</td>\n",
       "      <td>0.162446</td>\n",
       "    </tr>\n",
       "    <tr>\n",
       "      <th>35648</th>\n",
       "      <td>35648.0</td>\n",
       "      <td>15.0</td>\n",
       "      <td>0.143734</td>\n",
       "      <td>0.129588</td>\n",
       "      <td>0.273322</td>\n",
       "      <td>4.755127</td>\n",
       "      <td>84.875565</td>\n",
       "      <td>80.120438</td>\n",
       "      <td>-2.674947</td>\n",
       "      <td>81.215935</td>\n",
       "      <td>-3.080259</td>\n",
       "      <td>3.770398</td>\n",
       "      <td>-3.284403</td>\n",
       "      <td>-4.730876</td>\n",
       "      <td>0.150378</td>\n",
       "    </tr>\n",
       "    <tr>\n",
       "      <th>33310</th>\n",
       "      <td>33310.0</td>\n",
       "      <td>14.0</td>\n",
       "      <td>0.168208</td>\n",
       "      <td>0.097334</td>\n",
       "      <td>0.265542</td>\n",
       "      <td>2.972997</td>\n",
       "      <td>81.513550</td>\n",
       "      <td>78.540550</td>\n",
       "      <td>-2.949701</td>\n",
       "      <td>79.729721</td>\n",
       "      <td>-3.057718</td>\n",
       "      <td>2.635280</td>\n",
       "      <td>-3.926743</td>\n",
       "      <td>-2.844780</td>\n",
       "      <td>0.171240</td>\n",
       "    </tr>\n",
       "    <tr>\n",
       "      <th>42681</th>\n",
       "      <td>42681.0</td>\n",
       "      <td>18.0</td>\n",
       "      <td>0.080246</td>\n",
       "      <td>0.211745</td>\n",
       "      <td>0.291991</td>\n",
       "      <td>6.443938</td>\n",
       "      <td>86.141388</td>\n",
       "      <td>79.697449</td>\n",
       "      <td>-2.871888</td>\n",
       "      <td>82.211838</td>\n",
       "      <td>-3.054835</td>\n",
       "      <td>5.293882</td>\n",
       "      <td>-2.812751</td>\n",
       "      <td>-6.439379</td>\n",
       "      <td>0.147651</td>\n",
       "    </tr>\n",
       "    <tr>\n",
       "      <th>44340</th>\n",
       "      <td>44340.0</td>\n",
       "      <td>18.0</td>\n",
       "      <td>0.118251</td>\n",
       "      <td>0.117867</td>\n",
       "      <td>0.236118</td>\n",
       "      <td>4.050734</td>\n",
       "      <td>81.447945</td>\n",
       "      <td>77.397209</td>\n",
       "      <td>-2.657261</td>\n",
       "      <td>80.341248</td>\n",
       "      <td>-3.050630</td>\n",
       "      <td>3.819970</td>\n",
       "      <td>-3.770216</td>\n",
       "      <td>-4.011185</td>\n",
       "      <td>0.149518</td>\n",
       "    </tr>\n",
       "    <tr>\n",
       "      <th>37066</th>\n",
       "      <td>37066.0</td>\n",
       "      <td>15.0</td>\n",
       "      <td>0.267705</td>\n",
       "      <td>0.169519</td>\n",
       "      <td>0.437223</td>\n",
       "      <td>4.216393</td>\n",
       "      <td>85.309822</td>\n",
       "      <td>81.093430</td>\n",
       "      <td>-1.793058</td>\n",
       "      <td>81.941147</td>\n",
       "      <td>-3.044872</td>\n",
       "      <td>3.120175</td>\n",
       "      <td>-3.559196</td>\n",
       "      <td>-4.180162</td>\n",
       "      <td>0.156292</td>\n",
       "    </tr>\n",
       "    <tr>\n",
       "      <th>33319</th>\n",
       "      <td>33319.0</td>\n",
       "      <td>14.0</td>\n",
       "      <td>0.096596</td>\n",
       "      <td>0.174410</td>\n",
       "      <td>0.271006</td>\n",
       "      <td>5.677645</td>\n",
       "      <td>87.996643</td>\n",
       "      <td>82.319000</td>\n",
       "      <td>-2.481766</td>\n",
       "      <td>81.879242</td>\n",
       "      <td>-3.038069</td>\n",
       "      <td>5.247222</td>\n",
       "      <td>-2.615336</td>\n",
       "      <td>-5.670376</td>\n",
       "      <td>0.151430</td>\n",
       "    </tr>\n",
       "    <tr>\n",
       "      <th>46562</th>\n",
       "      <td>46562.0</td>\n",
       "      <td>19.0</td>\n",
       "      <td>0.123770</td>\n",
       "      <td>0.241875</td>\n",
       "      <td>0.365645</td>\n",
       "      <td>6.478507</td>\n",
       "      <td>84.634834</td>\n",
       "      <td>78.156326</td>\n",
       "      <td>-2.769591</td>\n",
       "      <td>81.744118</td>\n",
       "      <td>-3.033531</td>\n",
       "      <td>4.507254</td>\n",
       "      <td>-2.414142</td>\n",
       "      <td>-6.475777</td>\n",
       "      <td>0.153376</td>\n",
       "    </tr>\n",
       "    <tr>\n",
       "      <th>37272</th>\n",
       "      <td>37272.0</td>\n",
       "      <td>15.0</td>\n",
       "      <td>0.171615</td>\n",
       "      <td>0.100555</td>\n",
       "      <td>0.272170</td>\n",
       "      <td>7.385943</td>\n",
       "      <td>87.403015</td>\n",
       "      <td>80.017075</td>\n",
       "      <td>-2.700130</td>\n",
       "      <td>80.847565</td>\n",
       "      <td>-3.032013</td>\n",
       "      <td>3.019295</td>\n",
       "      <td>-8.102493</td>\n",
       "      <td>-7.383941</td>\n",
       "      <td>0.144323</td>\n",
       "    </tr>\n",
       "    <tr>\n",
       "      <th>41799</th>\n",
       "      <td>41799.0</td>\n",
       "      <td>17.0</td>\n",
       "      <td>0.269131</td>\n",
       "      <td>0.128498</td>\n",
       "      <td>0.397630</td>\n",
       "      <td>3.637229</td>\n",
       "      <td>84.360771</td>\n",
       "      <td>80.723541</td>\n",
       "      <td>-1.669178</td>\n",
       "      <td>85.574570</td>\n",
       "      <td>-3.032005</td>\n",
       "      <td>2.394782</td>\n",
       "      <td>-5.030430</td>\n",
       "      <td>-3.570856</td>\n",
       "      <td>0.144354</td>\n",
       "    </tr>\n",
       "  </tbody>\n",
       "</table>\n",
       "</div>"
      ],
      "text/plain": [
       "          step  epoch     Dreal     Dfake     Dfull     G_adv     G_full  \\\n",
       "33311  33311.0   14.0  0.066193  0.281360  0.347553  6.362335  85.256317   \n",
       "35648  35648.0   15.0  0.143734  0.129588  0.273322  4.755127  84.875565   \n",
       "33310  33310.0   14.0  0.168208  0.097334  0.265542  2.972997  81.513550   \n",
       "42681  42681.0   18.0  0.080246  0.211745  0.291991  6.443938  86.141388   \n",
       "44340  44340.0   18.0  0.118251  0.117867  0.236118  4.050734  81.447945   \n",
       "37066  37066.0   15.0  0.267705  0.169519  0.437223  4.216393  85.309822   \n",
       "33319  33319.0   14.0  0.096596  0.174410  0.271006  5.677645  87.996643   \n",
       "46562  46562.0   19.0  0.123770  0.241875  0.365645  6.478507  84.634834   \n",
       "37272  37272.0   15.0  0.171615  0.100555  0.272170  7.385943  87.403015   \n",
       "41799  41799.0   17.0  0.269131  0.128498  0.397630  3.637229  84.360771   \n",
       "\n",
       "       spec_loss  hist_loss   spec_chi  hist_chi      D(x)    D_G_z1  \\\n",
       "33311  78.893982  -2.894952  80.832047 -3.087124  4.778636 -1.800700   \n",
       "35648  80.120438  -2.674947  81.215935 -3.080259  3.770398 -3.284403   \n",
       "33310  78.540550  -2.949701  79.729721 -3.057718  2.635280 -3.926743   \n",
       "42681  79.697449  -2.871888  82.211838 -3.054835  5.293882 -2.812751   \n",
       "44340  77.397209  -2.657261  80.341248 -3.050630  3.819970 -3.770216   \n",
       "37066  81.093430  -1.793058  81.941147 -3.044872  3.120175 -3.559196   \n",
       "33319  82.319000  -2.481766  81.879242 -3.038069  5.247222 -2.615336   \n",
       "46562  78.156326  -2.769591  81.744118 -3.033531  4.507254 -2.414142   \n",
       "37272  80.017075  -2.700130  80.847565 -3.032013  3.019295 -8.102493   \n",
       "41799  80.723541  -1.669178  85.574570 -3.032005  2.394782 -5.030430   \n",
       "\n",
       "         D_G_z2      time  \n",
       "33311 -6.357883  0.162446  \n",
       "35648 -4.730876  0.150378  \n",
       "33310 -2.844780  0.171240  \n",
       "42681 -6.439379  0.147651  \n",
       "44340 -4.011185  0.149518  \n",
       "37066 -4.180162  0.156292  \n",
       "33319 -5.670376  0.151430  \n",
       "46562 -6.475777  0.153376  \n",
       "37272 -7.383941  0.144323  \n",
       "41799 -3.570856  0.144354  "
      ]
     },
     "execution_count": 55,
     "metadata": {},
     "output_type": "execute_result"
    }
   ],
   "source": [
    "\n",
    "chi=df_metrics.quantile(q=0.2,axis=0)['hist_chi']\n",
    "print(chi)\n",
    "df_metrics[(df_metrics['hist_chi']<=chi)&(df_metrics.epoch>1)].sort_values(by=['hist_chi']).head(10)"
   ]
  },
  {
   "cell_type": "code",
   "execution_count": 56,
   "metadata": {},
   "outputs": [],
   "source": [
    "# display(df_metrics.sort_values(by=['hist_chi']).head(8))\n",
    "# display(df_metrics.sort_values(by=['spec_chi']).head(8))"
   ]
  },
  {
   "cell_type": "markdown",
   "metadata": {},
   "source": [
    "<!-- ### Read validation data -->"
   ]
  },
  {
   "cell_type": "code",
   "execution_count": 57,
   "metadata": {},
   "outputs": [],
   "source": [
    "# # bins=np.concatenate([np.array([-0.5]),np.arange(0.5,20.5,1),np.arange(20.5,100.5,5),np.arange(100.5,1000.5,50),np.array([2000])]) #bin edges to use\n",
    "# bins=np.concatenate([np.array([-0.5]),np.arange(0.5,100.5,5),np.arange(100.5,300.5,20),np.arange(300.5,1000.5,50),np.array([2000])]) #bin edges to use\n",
    "\n",
    "# bins=f_transform(bins)   ### scale to (-1,1)\n",
    "# # ### Extract validation data\n",
    "# sigma_list=[0.5,0.65,0.8,1.1]\n",
    "# bkgnd_dict={}\n",
    "# num_bkgnd=2000\n",
    "\n",
    "# for label in labels_lst:\n",
    "#     fname='/global/cfs/cdirs/m3363/vayyar/cosmogan_data/raw_data/128_square/dataset_5_4univ_cgan/norm_1_sig_{0}_train_val.npy'.format(sigma_lst[label])\n",
    "#     print(fname)\n",
    "#     samples=np.load(fname,mmap_mode='r')[-num_bkgnd:][:,0,:,:]\n",
    "    \n",
    "#     dict_val=post.f_compute_hist_spect(samples,bins)\n",
    "#     bkgnd_dict[str(sigma_lst[label])]=dict_val\n",
    "#     del samples"
   ]
  },
  {
   "cell_type": "markdown",
   "metadata": {},
   "source": [
    "## Read stored chi-squares for images"
   ]
  },
  {
   "cell_type": "code",
   "execution_count": 58,
   "metadata": {},
   "outputs": [],
   "source": [
    "## Get sigma list from saved files\n",
    "flist=glob.glob(result_dir+'/df_processed*')\n",
    "sigma_lst=[i.split('/')[-1].split('df_processed_')[-1].split('.pkle')[0] for i in flist]\n",
    "sigma_lst.sort() ### Sorting is important for labels to match !!\n",
    "\n",
    "labels_lst=np.arange(len(sigma_lst))"
   ]
  },
  {
   "cell_type": "code",
   "execution_count": 59,
   "metadata": {},
   "outputs": [
    {
     "data": {
      "text/plain": [
       "(['0.5', '0.65', '1.1'], array([0, 1, 2]))"
      ]
     },
     "execution_count": 59,
     "metadata": {},
     "output_type": "execute_result"
    }
   ],
   "source": [
    "sigma_lst,labels_lst"
   ]
  },
  {
   "cell_type": "code",
   "execution_count": 60,
   "metadata": {},
   "outputs": [],
   "source": [
    "### Create a merged dataframe\n",
    "\n",
    "df_list=[]\n",
    "for label in labels_lst:\n",
    "    df=pd.read_pickle(result_dir+'/df_processed_{0}.pkle'.format(str(sigma_lst[label])))\n",
    "    df[['epoch','step']]=df[['epoch','step']].astype(int)\n",
    "    df['label']=df.epoch.astype(str)+'-'+df.step.astype(str) # Add label column for plotting\n",
    "    df_list.append(df)\n",
    "\n",
    "for i,df in enumerate(df_list):\n",
    "    df1=df.add_suffix('_'+str(i))\n",
    "    # renaming the columns to be joined on\n",
    "    keys=['epoch','step','img_type','label']\n",
    "    rename_cols_dict={key+'_'+str(i):key for key in keys}\n",
    "#     print(rename_cols_dict)\n",
    "    df1.rename(columns=rename_cols_dict,inplace=True) \n",
    "    df_list[i]=df1\n",
    "    \n",
    "df_merged=reduce(lambda x, y : pd.merge(x, y, on = ['step','epoch','img_type','label']), df_list)\n",
    "\n",
    "### Get sum of all 4 classes for 3 types of chi-squares\n",
    "for chi_type in ['chi_1','chi_spec1','chi_1c']:\n",
    "    keys=[chi_type+'_'+str(label) for label in labels_lst]\n",
    "#     display(df_merged[keys].sum(axis=1))\n",
    "    df_merged['sum_'+chi_type]=df_merged[keys].sum(axis=1)\n",
    "del df_list\n",
    "\n"
   ]
  },
  {
   "cell_type": "code",
   "execution_count": 61,
   "metadata": {},
   "outputs": [],
   "source": [
    "\n",
    "def f_plot_hist_spec(df,param_labels,sigma_lst,steps_list,bkg_dict,plot_type):\n",
    "\n",
    "    img_size=128\n",
    "    assert plot_type in ['hist','spec','grid','spec_relative'],\"Invalid mode %s\"%(plot_type)\n",
    "\n",
    "    if plot_type in ['hist','spec','spec_relative']:     fig=plt.figure(figsize=(6,6))\n",
    "    for par_label in param_labels:\n",
    "        df=df[df.step.isin(steps_list)]\n",
    "#         print(df.shape)\n",
    "        idx=sigma_lst.index(par_label)\n",
    "        suffix='_%s'%(idx)\n",
    "        dict_bkg=bkg_dict[str(par_label)]\n",
    "        \n",
    "        for (i,row),marker in zip(df.iterrows(),itertools.cycle('>^*sDHPdpx_')):\n",
    "            label=row.label+'_'+str(par_label)\n",
    "            if plot_type=='hist':\n",
    "                x1=row['hist_bin_centers'+suffix]\n",
    "                y1=row['hist_val'+suffix]\n",
    "                yerr1=row['hist_err'+suffix]\n",
    "                x1=f_invtransform(x1)\n",
    "                \n",
    "                plt.errorbar(x1,y1,yerr1,marker=marker,markersize=5,linestyle='',label=label)\n",
    "            if plot_type=='spec':\n",
    "                y2=row['spec_val'+suffix]\n",
    "                yerr2=row['spec_sdev'+suffix]/np.sqrt(row['num_imgs'+suffix])\n",
    "                x2=np.arange(len(y2))\n",
    "\n",
    "                plt.fill_between(x2, y2 - yerr2, y2 + yerr2, alpha=0.4)\n",
    "                plt.plot(x2, y2, marker=marker, linestyle=':',label=label)\n",
    "\n",
    "            if plot_type=='spec_relative':\n",
    "\n",
    "                y2=row['spec_val'+suffix]\n",
    "                yerr2=row['spec_sdev'+suffix]\n",
    "                x2=np.arange(len(y2))\n",
    "\n",
    "                ### Reference spectrum\n",
    "                y1,yerr1=dict_bkg['spec_val'],dict_bkg['spec_sdev']\n",
    "\n",
    "                y=y2/y1\n",
    "                ## Variance is sum of variance of both variables, since they are uncorrelated\n",
    "\n",
    "                # delta_r= |r| * sqrt(delta_a/a)^2 +(\\delta_b/b)^2) / \\sqrt(N)\n",
    "                yerr=(np.abs(y))*np.sqrt((yerr1/y1)**2+(yerr2/y2)**2)/np.sqrt(row['num_imgs'+suffix])\n",
    "                \n",
    "                plt.fill_between(x2, y - yerr, y + yerr, alpha=0.4)\n",
    "                plt.plot(x2, y, marker=marker, linestyle=':',label=label)\n",
    "                plt.legend()\n",
    "\n",
    "            if plot_type=='grid':\n",
    "                images=np.load(row['fname'+suffix])[:,0,:,:]\n",
    "                f_plot_grid(images[:18],cols=6,fig_size=(10,5))\n",
    "            \n",
    "        ### Plot reference data\n",
    "        if plot_type=='hist':\n",
    "            x,y,yerr=dict_bkg['hist_bin_centers'],dict_bkg['hist_val'],dict_bkg['hist_err']\n",
    "            x=f_invtransform(x)\n",
    "            plt.errorbar(x, y,yerr,color='k',linestyle='-',label='bkgnd')   \n",
    "            plt.title('Pixel Intensity Histogram')\n",
    "            plt.xscale('symlog',linthreshx=50)\n",
    "        \n",
    "        if plot_type=='spec':\n",
    "            y,yerr=dict_bkg['spec_val'],dict_bkg['spec_sdev']/np.sqrt(num_bkgnd)\n",
    "            x=np.arange(len(y))\n",
    "            plt.fill_between(x, y - yerr, y + yerr, color='k',alpha=0.8)\n",
    "            plt.title('Spectrum')\n",
    "            plt.xlim(0,img_size/2)\n",
    "\n",
    "        if plot_type=='spec_relative':\n",
    "            plt.axhline(y=1.0,color='k',linestyle='-.')\n",
    "            plt.title(\"Relative spectrum\")\n",
    "            plt.xlim(0,img_size/2)\n",
    "            plt.ylim(0.5,2)\n",
    "\n",
    "    if plot_type in ['hist','spec']:     \n",
    "        plt.yscale('log')\n",
    "    plt.legend(bbox_to_anchor=(0.3, 0.75),ncol=2, fancybox=True, shadow=True,prop={'size':6})\n",
    "\n",
    "\n",
    "# f_plot_hist_spec(df_merged,[sigma_lst[-1]],sigma_lst,[best_step[0]],bkgnd_dict,'hist')"
   ]
  },
  {
   "cell_type": "markdown",
   "metadata": {},
   "source": [
    "### Slice best steps"
   ]
  },
  {
   "cell_type": "code",
   "execution_count": 62,
   "metadata": {},
   "outputs": [],
   "source": [
    "def f_slice_merged_df(df,cutoff=0.2,sort_col='chi_1',col_mode='all',label='all',params_lst=[0,1,2],head=10,epoch_range=[0,None],use_sum=True,display_flag=False):\n",
    "    ''' View dataframe after slicing\n",
    "    '''\n",
    "\n",
    "    if epoch_range[1]==None: epoch_range[1]=df.max()['epoch']\n",
    "    df=df[(df.epoch<=epoch_range[1])&(df.epoch>=epoch_range[0])]\n",
    "\n",
    "    ######### Apply cutoff to keep reasonable chi1 and chispec1\n",
    "    #### Add chi-square columns to use\n",
    "    chi_cols=[]\n",
    "    if use_sum: ## Add sum chi-square columns\n",
    "        for j in ['chi_1','chi_spec1','chi_1c']: chi_cols.append('sum_'+j)\n",
    "        \n",
    "    if label=='all': ### Add chi-squares for all labels\n",
    "        for j in ['chi_1','chi_spec1','chi_1c']:\n",
    "            for idx,i in enumerate(params_lst): chi_cols.append(j+'_'+str(idx))\n",
    "    else: ## Add chi-square for specific label\n",
    "        assert label in params_lst, \"label %s is not in %s\"%(label,params_lst)\n",
    "        label_idx=params_lst.index(label)\n",
    "        print(label_idx)\n",
    "        for j in ['chi_1','chi_spec1','chi_1c']: chi_cols.append(j+'_'+str(label_idx))\n",
    "#     print(chi_cols)\n",
    "    q_dict=dict(df_merged.quantile(q=cutoff,axis=0)[chi_cols])\n",
    "    # print(q_dict)\n",
    "    strg=['%s < %s'%(key,q_dict[key]) for key in chi_cols ]\n",
    "    query=\" & \".join(strg)\n",
    "    # print(query)\n",
    "    df=df.query(query)\n",
    "    \n",
    "    # Sort dataframe\n",
    "    df1=df[df.epoch>0].sort_values(by=sort_col)\n",
    "    chis=[i for i in df_merged.columns if 'chi' in i]\n",
    "    col_list=['label']+chis+['epoch','step']\n",
    "    if (col_mode=='short'): \n",
    "        col_list=['label']+[i for i in df_merged.columns if i.startswith('sum')]\n",
    "        col_list=['label']+chi_cols\n",
    "    df2=df1.head(head)[col_list]\n",
    "    \n",
    "    if display_flag: display(df2) # Display df\n",
    "    \n",
    "    return df2\n",
    "\n",
    "# f_slice_merged_df(df_merged,cutoff=0.3,sort_col='sum_chi_1',label=0.65,params_lst=[0.5,0.65,0.8,1.1],use_sum=True,head=2000,display_flag=False,epoch_range=[7,None])"
   ]
  },
  {
   "cell_type": "code",
   "execution_count": 63,
   "metadata": {},
   "outputs": [
    {
     "data": {
      "application/vnd.jupyter.widget-view+json": {
       "model_id": "613c045c412646a787206d8e62ef1d02",
       "version_major": 2,
       "version_minor": 0
      },
      "text/plain": [
       "interactive(children=(FloatSlider(value=0.3, description='cutoff', max=1.0, step=0.01), Dropdown(description='…"
      ]
     },
     "metadata": {},
     "output_type": "display_data"
    }
   ],
   "source": [
    "cols_to_sort=np.unique([i for i in df_merged.columns for j in ['chi_1_','chi_spec1_'] if ((i.startswith(j)) or (i.startswith('sum')))])\n",
    "\n",
    "w=interactive(f_slice_merged_df,df=fixed(df_merged),\n",
    "cutoff=widgets.FloatSlider(value=0.3, min=0, max=1.0, step=0.01), \n",
    "col_mode=['all','short'], display_flag=widgets.Checkbox(value=False),\n",
    "use_sum=widgets.Checkbox(value=True),\n",
    "label=ToggleButtons(options=['all']+sigma_lst), params_lst=fixed(sigma_lst),\n",
    "head=widgets.IntSlider(value=10,min=1,max=20,step=1),\n",
    "epoch_range=widgets.IntRangeSlider(value=[0,np.max(df.epoch.values)],min=0,max=np.max(df.epoch.values),step=1),\n",
    "sort_col=cols_to_sort\n",
    ")\n",
    "display(w)"
   ]
  },
  {
   "cell_type": "code",
   "execution_count": 64,
   "metadata": {},
   "outputs": [],
   "source": [
    "df_sliced=w.result\n",
    "# df_sliced"
   ]
  },
  {
   "cell_type": "code",
   "execution_count": 65,
   "metadata": {},
   "outputs": [
    {
     "name": "stdout",
     "output_type": "stream",
     "text": [
      "[22540 29490 30950 34380 34840 35620 35860 36320 45410]\n"
     ]
    },
    {
     "data": {
      "text/plain": [
       "array([22540, 29490, 30950, 34380, 34840, 35620, 35860, 36320, 45410])"
      ]
     },
     "execution_count": 65,
     "metadata": {},
     "output_type": "execute_result"
    }
   ],
   "source": [
    "best_step=[]\n",
    "\n",
    "best_step.append(f_slice_merged_df(df_merged,cutoff=0.8,sort_col='sum_chi_1',label='all',use_sum=True,head=4,display_flag=False,epoch_range=[7,None],params_lst=sigma_lst).step.values)\n",
    "best_step.append(f_slice_merged_df(df_merged,cutoff=0.8,sort_col='sum_chi_spec1',label='all',use_sum=True,head=4,display_flag=False,epoch_range=[7,None],params_lst=sigma_lst).step.values)\n",
    "best_step.append(f_slice_merged_df(df_merged,cutoff=0.8,sort_col='sum_chi_1c',label='all',use_sum=True,head=2,display_flag=False,epoch_range=[7,None],params_lst=sigma_lst).step.values)\n",
    "\n",
    "# best_step.append([46669,34281])\n",
    "best_step=np.unique([i for j in best_step for i in j])\n",
    "print(best_step)\n",
    "best_step"
   ]
  },
  {
   "cell_type": "code",
   "execution_count": 66,
   "metadata": {},
   "outputs": [],
   "source": [
    "# best_step=[6176]\n",
    "# best_step= [32300, 35810, 36020, 37030, 38640, 42480, 43850]\n",
    "\n",
    "# best_step=np.arange(40130,40135).astype(int)"
   ]
  },
  {
   "cell_type": "code",
   "execution_count": null,
   "metadata": {},
   "outputs": [],
   "source": []
  },
  {
   "cell_type": "code",
   "execution_count": 67,
   "metadata": {},
   "outputs": [
    {
     "name": "stdout",
     "output_type": "stream",
     "text": [
      "(9, 61)\n",
      "[(9, 22540), (12, 29490), (13, 30950), (14, 34380), (14, 34840), (15, 35620), (15, 35860), (15, 36320), (19, 45410)]\n"
     ]
    }
   ],
   "source": [
    "df_best=df_merged[df_merged.step.isin(best_step)]\n",
    "print(df_best.shape)\n",
    "print([(df_best[df_best.step==step].epoch.values[0],df_best[df_best.step==step].step.values[0]) for step in best_step])\n",
    "# print([(df_best.loc[idx].epoch,df_best.loc[idx].step) for idx in best_idx])"
   ]
  },
  {
   "cell_type": "code",
   "execution_count": 68,
   "metadata": {},
   "outputs": [
    {
     "data": {
      "text/html": [
       "<div>\n",
       "<style scoped>\n",
       "    .dataframe tbody tr th:only-of-type {\n",
       "        vertical-align: middle;\n",
       "    }\n",
       "\n",
       "    .dataframe tbody tr th {\n",
       "        vertical-align: top;\n",
       "    }\n",
       "\n",
       "    .dataframe thead th {\n",
       "        text-align: right;\n",
       "    }\n",
       "</style>\n",
       "<table border=\"1\" class=\"dataframe\">\n",
       "  <thead>\n",
       "    <tr style=\"text-align: right;\">\n",
       "      <th></th>\n",
       "      <th>label</th>\n",
       "      <th>sum_chi_1</th>\n",
       "      <th>sum_chi_spec1</th>\n",
       "      <th>sum_chi_1c</th>\n",
       "    </tr>\n",
       "  </thead>\n",
       "  <tbody>\n",
       "    <tr>\n",
       "      <th>2253</th>\n",
       "      <td>9-22540</td>\n",
       "      <td>0.050498</td>\n",
       "      <td>2.636798</td>\n",
       "      <td>0.002442</td>\n",
       "    </tr>\n",
       "    <tr>\n",
       "      <th>2948</th>\n",
       "      <td>12-29490</td>\n",
       "      <td>0.053190</td>\n",
       "      <td>0.590943</td>\n",
       "      <td>0.012742</td>\n",
       "    </tr>\n",
       "    <tr>\n",
       "      <th>3094</th>\n",
       "      <td>13-30950</td>\n",
       "      <td>0.041274</td>\n",
       "      <td>0.581142</td>\n",
       "      <td>0.009996</td>\n",
       "    </tr>\n",
       "    <tr>\n",
       "      <th>3438</th>\n",
       "      <td>14-34380</td>\n",
       "      <td>0.021911</td>\n",
       "      <td>1.311171</td>\n",
       "      <td>0.003978</td>\n",
       "    </tr>\n",
       "    <tr>\n",
       "      <th>3484</th>\n",
       "      <td>14-34840</td>\n",
       "      <td>0.049153</td>\n",
       "      <td>0.554865</td>\n",
       "      <td>0.006381</td>\n",
       "    </tr>\n",
       "    <tr>\n",
       "      <th>3562</th>\n",
       "      <td>15-35620</td>\n",
       "      <td>0.024009</td>\n",
       "      <td>1.091374</td>\n",
       "      <td>0.002482</td>\n",
       "    </tr>\n",
       "    <tr>\n",
       "      <th>3586</th>\n",
       "      <td>15-35860</td>\n",
       "      <td>0.082285</td>\n",
       "      <td>0.538948</td>\n",
       "      <td>0.058647</td>\n",
       "    </tr>\n",
       "    <tr>\n",
       "      <th>3632</th>\n",
       "      <td>15-36320</td>\n",
       "      <td>0.018906</td>\n",
       "      <td>2.557068</td>\n",
       "      <td>0.005568</td>\n",
       "    </tr>\n",
       "    <tr>\n",
       "      <th>4542</th>\n",
       "      <td>19-45410</td>\n",
       "      <td>0.024017</td>\n",
       "      <td>1.178399</td>\n",
       "      <td>0.007477</td>\n",
       "    </tr>\n",
       "  </tbody>\n",
       "</table>\n",
       "</div>"
      ],
      "text/plain": [
       "         label  sum_chi_1  sum_chi_spec1  sum_chi_1c\n",
       "2253   9-22540   0.050498       2.636798    0.002442\n",
       "2948  12-29490   0.053190       0.590943    0.012742\n",
       "3094  13-30950   0.041274       0.581142    0.009996\n",
       "3438  14-34380   0.021911       1.311171    0.003978\n",
       "3484  14-34840   0.049153       0.554865    0.006381\n",
       "3562  15-35620   0.024009       1.091374    0.002482\n",
       "3586  15-35860   0.082285       0.538948    0.058647\n",
       "3632  15-36320   0.018906       2.557068    0.005568\n",
       "4542  19-45410   0.024017       1.178399    0.007477"
      ]
     },
     "execution_count": 68,
     "metadata": {},
     "output_type": "execute_result"
    }
   ],
   "source": [
    "col_list=['label']+[i for i in df_merged.columns if i.startswith('sum')]\n",
    "\n",
    "df_best[col_list]"
   ]
  },
  {
   "cell_type": "markdown",
   "metadata": {},
   "source": [
    "### Interactive plot"
   ]
  },
  {
   "cell_type": "code",
   "execution_count": 69,
   "metadata": {},
   "outputs": [
    {
     "data": {
      "application/vnd.jupyter.widget-view+json": {
       "model_id": "6eb7061b22054d068bcca0c07f84a444",
       "version_major": 2,
       "version_minor": 0
      },
      "text/plain": [
       "interactive(children=(SelectMultiple(description='param_labels', options=('0.5', '0.65', '1.1'), value=()), Se…"
      ]
     },
     "metadata": {},
     "output_type": "display_data"
    },
    {
     "data": {
      "text/plain": [
       "<function __main__.f_plot_hist_spec(df, param_labels, sigma_lst, steps_list, bkg_dict, plot_type)>"
      ]
     },
     "execution_count": 69,
     "metadata": {},
     "output_type": "execute_result"
    }
   ],
   "source": [
    "interact_manual(f_plot_hist_spec,df=fixed(df_merged),\n",
    "                param_labels=SelectMultiple(options=sigma_lst),sigma_lst=fixed(sigma_lst),\n",
    "                steps_list=SelectMultiple(options=best_step),\n",
    "                bkg_dict=fixed(bkgnd_dict),plot_type=ToggleButtons(options=['hist','spec','grid','spec_relative']))"
   ]
  },
  {
   "cell_type": "code",
   "execution_count": 31,
   "metadata": {},
   "outputs": [],
   "source": [
    "# ### Check deterministic\n",
    "# main_dir='/global/cfs/cdirs/m3363/vayyar/cosmogan_data/results_from_other_code/pytorch/results/128sq/'\n",
    "# epoch,step=0,230\n",
    "# f1='20210113_185116_cgan_predict_0.65_m2/images/gen_img_label-0.5_epoch-{0}_step-{1}.npy'.format(epoch,step)\n",
    "# f2='20210113_092234_cgan_predict_0.65_m2/images/gen_img_label-0.5_epoch-{0}_step-{1}.npy'.format(epoch,step)\n",
    "\n",
    "# epoch,step=3,20\n",
    "# f1='20210114_191648_nb_test/images/gen_img_label-0.5_epoch-{0}_step-{1}.npy'.format(epoch,step)\n",
    "# f2='20210114_193009_nb_test/images/gen_img_label-0.5_epoch-{0}_step-{1}.npy'.format(epoch,step)\n",
    "\n",
    "# a1=np.load(main_dir+f1)\n",
    "# a2=np.load(main_dir+f2)\n",
    "# # print(a1.shape,a2.shape)\n",
    "\n",
    "# print(np.mean(a1),np.mean(a2))\n",
    "# print(np.max(a1),np.max(a2))"
   ]
  },
  {
   "cell_type": "markdown",
   "metadata": {},
   "source": [
    "### Delete unwanted stored models\n",
    "(Since deterministic runs aren't working well )"
   ]
  },
  {
   "cell_type": "code",
   "execution_count": 129,
   "metadata": {},
   "outputs": [
    {
     "name": "stdout",
     "output_type": "stream",
     "text": [
      "/global/cfs/cdirs/m3363/vayyar/cosmogan_data/results_from_other_code/pytorch/results/128sq/20210205_063709_cgan_predict_1.1_m2\n"
     ]
    },
    {
     "data": {
      "text/plain": [
       "1767"
      ]
     },
     "execution_count": 129,
     "metadata": {},
     "output_type": "execute_result"
    }
   ],
   "source": [
    "# fldr='/global/cfs/cdirs/m3363/vayyar/cosmogan_data/results_from_other_code/pytorch/results/128sq/20210119_134802_cgan_predict_0.65_m2/models'\n",
    "fldr=result_dir\n",
    "print(fldr)\n",
    "flist=glob.glob(fldr+'/models/checkpoint_*.tar')\n",
    "len(flist)"
   ]
  },
  {
   "cell_type": "code",
   "execution_count": 1,
   "metadata": {},
   "outputs": [],
   "source": [
    "# # Delete unwanted stored images\n",
    "# for i in flist:\n",
    "#     try:\n",
    "#         step=int(i.split('/')[-1].split('_')[-1].split('.')[0])\n",
    "#         if step not in best_step:\n",
    "# #             print(\"Found\")\n",
    "# #             print(step)\n",
    "# #             os.remove(i)\n",
    "#             pass\n",
    "#         else: \n",
    "#             print(step)\n",
    "#             print(i)\n",
    "#     except Exception as e:\n",
    "# #         print(e)\n",
    "# #         print(i)\n",
    "#         pass"
   ]
  },
  {
   "cell_type": "code",
   "execution_count": 128,
   "metadata": {},
   "outputs": [
    {
     "data": {
      "text/plain": [
       "array([23310, 25620, 27150, 28060, 31170, 31310, 32550, 35100, 35710,\n",
       "       35740])"
      ]
     },
     "execution_count": 128,
     "metadata": {},
     "output_type": "execute_result"
    }
   ],
   "source": [
    "best_step"
   ]
  }
 ],
 "metadata": {
  "kernelspec": {
   "display_name": "v3",
   "language": "python",
   "name": "v-jpt-3"
  },
  "language_info": {
   "codemirror_mode": {
    "name": "ipython",
    "version": 3
   },
   "file_extension": ".py",
   "mimetype": "text/x-python",
   "name": "python",
   "nbconvert_exporter": "python",
   "pygments_lexer": "ipython3",
   "version": "3.8.6"
  }
 },
 "nbformat": 4,
 "nbformat_minor": 4
}

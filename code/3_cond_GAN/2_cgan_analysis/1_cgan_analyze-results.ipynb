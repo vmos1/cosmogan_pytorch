{
 "cells": [
  {
   "cell_type": "markdown",
   "metadata": {},
   "source": [
    "# Analyze results\n",
    "Aug 28, 2020"
   ]
  },
  {
   "cell_type": "code",
   "execution_count": 1,
   "metadata": {},
   "outputs": [],
   "source": [
    "import     numpy as np\n",
    "import matplotlib.pyplot as plt\n",
    "import pandas as pd\n",
    "\n",
    "import subprocess as sp\n",
    "import sys\n",
    "import os\n",
    "import glob\n",
    "import pickle \n",
    "\n",
    "from matplotlib.colors import LogNorm, PowerNorm, Normalize\n",
    "import seaborn as sns\n",
    "from functools import reduce"
   ]
  },
  {
   "cell_type": "code",
   "execution_count": null,
   "metadata": {},
   "outputs": [],
   "source": []
  },
  {
   "cell_type": "code",
   "execution_count": 2,
   "metadata": {},
   "outputs": [],
   "source": [
    "from ipywidgets import *"
   ]
  },
  {
   "cell_type": "code",
   "execution_count": 3,
   "metadata": {},
   "outputs": [],
   "source": [
    "%matplotlib widget"
   ]
  },
  {
   "cell_type": "code",
   "execution_count": 4,
   "metadata": {},
   "outputs": [],
   "source": [
    "sys.path.append('/global/u1/v/vpa/project/jpt_notebooks/Cosmology/Cosmo_GAN/repositories/lbann_cosmogan/3_analysis/')\n",
    "from modules_image_analysis import *\n"
   ]
  },
  {
   "cell_type": "code",
   "execution_count": 5,
   "metadata": {},
   "outputs": [],
   "source": [
    "sys.path.append('/global/u1/v/vpa/project/jpt_notebooks/Cosmology/Cosmo_GAN/repositories/cosmogan_pytorch/code/3_cond_GAN/1_main_code/')\n",
    "import post_analysis_pandas as post\n"
   ]
  },
  {
   "cell_type": "code",
   "execution_count": 6,
   "metadata": {},
   "outputs": [],
   "source": [
    "### Transformation functions for image pixel values\n",
    "def f_transform(x):\n",
    "    return 2.*x/(x + 4.) - 1.\n",
    "\n",
    "def f_invtransform(s):\n",
    "    return 4.*(1. + s)/(1. - s)\n"
   ]
  },
  {
   "cell_type": "markdown",
   "metadata": {},
   "source": [
    "## Read data"
   ]
  },
  {
   "cell_type": "code",
   "execution_count": 7,
   "metadata": {},
   "outputs": [],
   "source": [
    "# main_dir='/global/cfs/cdirs/m3363/vayyar/cosmogan_data/results_from_other_code/pytorch/results/128sq/'\n",
    "# results_dir=main_dir+'20201002_064327'"
   ]
  },
  {
   "cell_type": "code",
   "execution_count": 8,
   "metadata": {},
   "outputs": [],
   "source": [
    "dict1={'128':'/global/cfs/cdirs/m3363/vayyar/cosmogan_data/results_from_other_code/pytorch/results/128sq/',\n",
    "      '512':'/global/cfs/cdirs/m3363/vayyar/cosmogan_data/results_from_other_code/pytorch/results/512sq/'}\n",
    "\n",
    "u=interactive(lambda x: dict1[x], x=Select(options=dict1.keys()))\n",
    "# display(u)\n"
   ]
  },
  {
   "cell_type": "code",
   "execution_count": 9,
   "metadata": {},
   "outputs": [
    {
     "data": {
      "application/vnd.jupyter.widget-view+json": {
       "model_id": "42e61d2559024c3e8018eeffc2b9cfce",
       "version_major": 2,
       "version_minor": 0
      },
      "text/plain": [
       "interactive(children=(Dropdown(description='x', options=('20210105_223141_cgan_b_sigmafloat_m2', '20201220_073…"
      ]
     },
     "metadata": {},
     "output_type": "display_data"
    }
   ],
   "source": [
    "# parent_dir=u.result\n",
    "parent_dir=dict1['128']\n",
    "dir_lst=[i.split('/')[-1] for i in glob.glob(parent_dir+'20*')]\n",
    "w=interactive(lambda x: x, x=Dropdown(options=dir_lst))\n",
    "display(w)"
   ]
  },
  {
   "cell_type": "code",
   "execution_count": 10,
   "metadata": {},
   "outputs": [
    {
     "name": "stdout",
     "output_type": "stream",
     "text": [
      "/global/cfs/cdirs/m3363/vayyar/cosmogan_data/results_from_other_code/pytorch/results/128sq/20210106_063353_cgan_b_sigmafloat_3classes_m2\n"
     ]
    }
   ],
   "source": [
    "result=w.result\n",
    "result_dir=parent_dir+result\n",
    "print(result_dir)"
   ]
  },
  {
   "cell_type": "markdown",
   "metadata": {},
   "source": [
    "## Plot Losses"
   ]
  },
  {
   "cell_type": "code",
   "execution_count": 11,
   "metadata": {},
   "outputs": [],
   "source": [
    "df_metrics=pd.read_pickle(result_dir+'/df_metrics.pkle').astype(np.float64)\n"
   ]
  },
  {
   "cell_type": "code",
   "execution_count": 12,
   "metadata": {},
   "outputs": [
    {
     "data": {
      "text/html": [
       "<div>\n",
       "<style scoped>\n",
       "    .dataframe tbody tr th:only-of-type {\n",
       "        vertical-align: middle;\n",
       "    }\n",
       "\n",
       "    .dataframe tbody tr th {\n",
       "        vertical-align: top;\n",
       "    }\n",
       "\n",
       "    .dataframe thead th {\n",
       "        text-align: right;\n",
       "    }\n",
       "</style>\n",
       "<table border=\"1\" class=\"dataframe\">\n",
       "  <thead>\n",
       "    <tr style=\"text-align: right;\">\n",
       "      <th></th>\n",
       "      <th>step</th>\n",
       "      <th>epoch</th>\n",
       "      <th>Dreal</th>\n",
       "      <th>Dfake</th>\n",
       "      <th>Dfull</th>\n",
       "      <th>G_adv</th>\n",
       "      <th>G_full</th>\n",
       "      <th>spec_loss</th>\n",
       "      <th>hist_loss</th>\n",
       "      <th>spec_chi</th>\n",
       "      <th>hist_chi</th>\n",
       "      <th>D(x)</th>\n",
       "      <th>D_G_z1</th>\n",
       "      <th>D_G_z2</th>\n",
       "      <th>time</th>\n",
       "    </tr>\n",
       "  </thead>\n",
       "  <tbody>\n",
       "    <tr>\n",
       "      <th>46851</th>\n",
       "      <td>46851.0</td>\n",
       "      <td>19.0</td>\n",
       "      <td>0.168684</td>\n",
       "      <td>0.183741</td>\n",
       "      <td>0.352425</td>\n",
       "      <td>4.935838</td>\n",
       "      <td>82.543266</td>\n",
       "      <td>77.607430</td>\n",
       "      <td>-2.584685</td>\n",
       "      <td>80.224739</td>\n",
       "      <td>-2.144699</td>\n",
       "      <td>3.622783</td>\n",
       "      <td>-2.949704</td>\n",
       "      <td>-4.918343</td>\n",
       "      <td>0.145587</td>\n",
       "    </tr>\n",
       "    <tr>\n",
       "      <th>46852</th>\n",
       "      <td>46852.0</td>\n",
       "      <td>19.0</td>\n",
       "      <td>0.250921</td>\n",
       "      <td>0.145715</td>\n",
       "      <td>0.396636</td>\n",
       "      <td>3.137248</td>\n",
       "      <td>83.952705</td>\n",
       "      <td>80.815460</td>\n",
       "      <td>-2.288500</td>\n",
       "      <td>83.804726</td>\n",
       "      <td>-2.905500</td>\n",
       "      <td>2.412682</td>\n",
       "      <td>-3.941113</td>\n",
       "      <td>-3.040988</td>\n",
       "      <td>0.148120</td>\n",
       "    </tr>\n",
       "    <tr>\n",
       "      <th>46853</th>\n",
       "      <td>46853.0</td>\n",
       "      <td>19.0</td>\n",
       "      <td>0.096086</td>\n",
       "      <td>0.216844</td>\n",
       "      <td>0.312930</td>\n",
       "      <td>4.911223</td>\n",
       "      <td>85.416000</td>\n",
       "      <td>80.504776</td>\n",
       "      <td>-2.661388</td>\n",
       "      <td>80.718071</td>\n",
       "      <td>-2.215647</td>\n",
       "      <td>3.942012</td>\n",
       "      <td>-2.329053</td>\n",
       "      <td>-4.894675</td>\n",
       "      <td>0.151546</td>\n",
       "    </tr>\n",
       "    <tr>\n",
       "      <th>46854</th>\n",
       "      <td>46854.0</td>\n",
       "      <td>19.0</td>\n",
       "      <td>0.203955</td>\n",
       "      <td>0.148923</td>\n",
       "      <td>0.352877</td>\n",
       "      <td>4.981210</td>\n",
       "      <td>86.617310</td>\n",
       "      <td>81.636101</td>\n",
       "      <td>-2.822162</td>\n",
       "      <td>80.153671</td>\n",
       "      <td>-2.650482</td>\n",
       "      <td>3.055762</td>\n",
       "      <td>-3.155040</td>\n",
       "      <td>-4.966065</td>\n",
       "      <td>0.145935</td>\n",
       "    </tr>\n",
       "    <tr>\n",
       "      <th>46855</th>\n",
       "      <td>46855.0</td>\n",
       "      <td>19.0</td>\n",
       "      <td>0.335375</td>\n",
       "      <td>0.108234</td>\n",
       "      <td>0.443608</td>\n",
       "      <td>1.639629</td>\n",
       "      <td>83.787636</td>\n",
       "      <td>82.148010</td>\n",
       "      <td>-2.468554</td>\n",
       "      <td>82.373161</td>\n",
       "      <td>-2.870477</td>\n",
       "      <td>1.885889</td>\n",
       "      <td>-3.891896</td>\n",
       "      <td>-1.190240</td>\n",
       "      <td>0.148447</td>\n",
       "    </tr>\n",
       "    <tr>\n",
       "      <th>46856</th>\n",
       "      <td>46856.0</td>\n",
       "      <td>19.0</td>\n",
       "      <td>0.093653</td>\n",
       "      <td>0.769583</td>\n",
       "      <td>0.863236</td>\n",
       "      <td>11.564919</td>\n",
       "      <td>91.679466</td>\n",
       "      <td>80.114548</td>\n",
       "      <td>-2.136315</td>\n",
       "      <td>79.725777</td>\n",
       "      <td>-2.727677</td>\n",
       "      <td>5.785879</td>\n",
       "      <td>-0.480845</td>\n",
       "      <td>-11.564903</td>\n",
       "      <td>0.146896</td>\n",
       "    </tr>\n",
       "    <tr>\n",
       "      <th>46857</th>\n",
       "      <td>46857.0</td>\n",
       "      <td>19.0</td>\n",
       "      <td>1.770010</td>\n",
       "      <td>0.138800</td>\n",
       "      <td>1.908810</td>\n",
       "      <td>0.541530</td>\n",
       "      <td>81.129532</td>\n",
       "      <td>80.588005</td>\n",
       "      <td>-2.236904</td>\n",
       "      <td>80.473999</td>\n",
       "      <td>-2.076853</td>\n",
       "      <td>-1.488048</td>\n",
       "      <td>-9.426304</td>\n",
       "      <td>1.012281</td>\n",
       "      <td>0.147418</td>\n",
       "    </tr>\n",
       "    <tr>\n",
       "      <th>46858</th>\n",
       "      <td>46858.0</td>\n",
       "      <td>19.0</td>\n",
       "      <td>0.121028</td>\n",
       "      <td>2.700461</td>\n",
       "      <td>2.821489</td>\n",
       "      <td>15.246496</td>\n",
       "      <td>95.528648</td>\n",
       "      <td>80.282150</td>\n",
       "      <td>-2.275721</td>\n",
       "      <td>79.656204</td>\n",
       "      <td>-1.970463</td>\n",
       "      <td>9.602232</td>\n",
       "      <td>2.635586</td>\n",
       "      <td>-15.246496</td>\n",
       "      <td>0.179366</td>\n",
       "    </tr>\n",
       "    <tr>\n",
       "      <th>46859</th>\n",
       "      <td>46859.0</td>\n",
       "      <td>19.0</td>\n",
       "      <td>2.145844</td>\n",
       "      <td>0.212428</td>\n",
       "      <td>2.358271</td>\n",
       "      <td>6.299715</td>\n",
       "      <td>87.668808</td>\n",
       "      <td>81.369095</td>\n",
       "      <td>-2.258996</td>\n",
       "      <td>82.194641</td>\n",
       "      <td>-1.686566</td>\n",
       "      <td>-1.820773</td>\n",
       "      <td>-13.463179</td>\n",
       "      <td>-6.293508</td>\n",
       "      <td>0.146229</td>\n",
       "    </tr>\n",
       "    <tr>\n",
       "      <th>46860</th>\n",
       "      <td>NaN</td>\n",
       "      <td>NaN</td>\n",
       "      <td>NaN</td>\n",
       "      <td>NaN</td>\n",
       "      <td>NaN</td>\n",
       "      <td>NaN</td>\n",
       "      <td>NaN</td>\n",
       "      <td>NaN</td>\n",
       "      <td>NaN</td>\n",
       "      <td>80.087486</td>\n",
       "      <td>-1.549680</td>\n",
       "      <td>NaN</td>\n",
       "      <td>NaN</td>\n",
       "      <td>NaN</td>\n",
       "      <td>NaN</td>\n",
       "    </tr>\n",
       "  </tbody>\n",
       "</table>\n",
       "</div>"
      ],
      "text/plain": [
       "          step  epoch     Dreal     Dfake     Dfull      G_adv     G_full  \\\n",
       "46851  46851.0   19.0  0.168684  0.183741  0.352425   4.935838  82.543266   \n",
       "46852  46852.0   19.0  0.250921  0.145715  0.396636   3.137248  83.952705   \n",
       "46853  46853.0   19.0  0.096086  0.216844  0.312930   4.911223  85.416000   \n",
       "46854  46854.0   19.0  0.203955  0.148923  0.352877   4.981210  86.617310   \n",
       "46855  46855.0   19.0  0.335375  0.108234  0.443608   1.639629  83.787636   \n",
       "46856  46856.0   19.0  0.093653  0.769583  0.863236  11.564919  91.679466   \n",
       "46857  46857.0   19.0  1.770010  0.138800  1.908810   0.541530  81.129532   \n",
       "46858  46858.0   19.0  0.121028  2.700461  2.821489  15.246496  95.528648   \n",
       "46859  46859.0   19.0  2.145844  0.212428  2.358271   6.299715  87.668808   \n",
       "46860      NaN    NaN       NaN       NaN       NaN        NaN        NaN   \n",
       "\n",
       "       spec_loss  hist_loss   spec_chi  hist_chi      D(x)     D_G_z1  \\\n",
       "46851  77.607430  -2.584685  80.224739 -2.144699  3.622783  -2.949704   \n",
       "46852  80.815460  -2.288500  83.804726 -2.905500  2.412682  -3.941113   \n",
       "46853  80.504776  -2.661388  80.718071 -2.215647  3.942012  -2.329053   \n",
       "46854  81.636101  -2.822162  80.153671 -2.650482  3.055762  -3.155040   \n",
       "46855  82.148010  -2.468554  82.373161 -2.870477  1.885889  -3.891896   \n",
       "46856  80.114548  -2.136315  79.725777 -2.727677  5.785879  -0.480845   \n",
       "46857  80.588005  -2.236904  80.473999 -2.076853 -1.488048  -9.426304   \n",
       "46858  80.282150  -2.275721  79.656204 -1.970463  9.602232   2.635586   \n",
       "46859  81.369095  -2.258996  82.194641 -1.686566 -1.820773 -13.463179   \n",
       "46860        NaN        NaN  80.087486 -1.549680       NaN        NaN   \n",
       "\n",
       "          D_G_z2      time  \n",
       "46851  -4.918343  0.145587  \n",
       "46852  -3.040988  0.148120  \n",
       "46853  -4.894675  0.151546  \n",
       "46854  -4.966065  0.145935  \n",
       "46855  -1.190240  0.148447  \n",
       "46856 -11.564903  0.146896  \n",
       "46857   1.012281  0.147418  \n",
       "46858 -15.246496  0.179366  \n",
       "46859  -6.293508  0.146229  \n",
       "46860        NaN       NaN  "
      ]
     },
     "execution_count": 12,
     "metadata": {},
     "output_type": "execute_result"
    }
   ],
   "source": [
    "df_metrics.tail(10)"
   ]
  },
  {
   "cell_type": "code",
   "execution_count": 13,
   "metadata": {},
   "outputs": [
    {
     "data": {
      "application/vnd.jupyter.widget-view+json": {
       "model_id": "feaf5f3d082842f4abb5676ef0f7c650",
       "version_major": 2,
       "version_minor": 0
      },
      "text/plain": [
       "interactive(children=(SelectMultiple(description='col_list', options=('step', 'epoch', 'Dreal', 'Dfake', 'Dful…"
      ]
     },
     "metadata": {},
     "output_type": "display_data"
    },
    {
     "data": {
      "text/plain": [
       "<function __main__.f_plot_metrics(df, col_list)>"
      ]
     },
     "execution_count": 13,
     "metadata": {},
     "output_type": "execute_result"
    }
   ],
   "source": [
    "def f_plot_metrics(df,col_list):\n",
    "    \n",
    "    plt.figure()\n",
    "    for key in col_list:\n",
    "        plt.plot(df_metrics[key],label=key,marker='*',linestyle='')\n",
    "    plt.legend()\n",
    "    \n",
    "#     col_list=list(col_list)\n",
    "#     df.plot(kind='line',x='step',y=col_list)\n",
    "    \n",
    "# f_plot_metrics(df_metrics,['spec_chi','hist_chi'])\n",
    "\n",
    "interact_manual(f_plot_metrics,df=fixed(df_metrics), col_list=SelectMultiple(options=df_metrics.columns.values))"
   ]
  },
  {
   "cell_type": "code",
   "execution_count": 14,
   "metadata": {},
   "outputs": [
    {
     "name": "stdout",
     "output_type": "stream",
     "text": [
      "-2.5932109355926514\n"
     ]
    },
    {
     "data": {
      "text/html": [
       "<div>\n",
       "<style scoped>\n",
       "    .dataframe tbody tr th:only-of-type {\n",
       "        vertical-align: middle;\n",
       "    }\n",
       "\n",
       "    .dataframe tbody tr th {\n",
       "        vertical-align: top;\n",
       "    }\n",
       "\n",
       "    .dataframe thead th {\n",
       "        text-align: right;\n",
       "    }\n",
       "</style>\n",
       "<table border=\"1\" class=\"dataframe\">\n",
       "  <thead>\n",
       "    <tr style=\"text-align: right;\">\n",
       "      <th></th>\n",
       "      <th>step</th>\n",
       "      <th>epoch</th>\n",
       "      <th>Dreal</th>\n",
       "      <th>Dfake</th>\n",
       "      <th>Dfull</th>\n",
       "      <th>G_adv</th>\n",
       "      <th>G_full</th>\n",
       "      <th>spec_loss</th>\n",
       "      <th>hist_loss</th>\n",
       "      <th>spec_chi</th>\n",
       "      <th>hist_chi</th>\n",
       "      <th>D(x)</th>\n",
       "      <th>D_G_z1</th>\n",
       "      <th>D_G_z2</th>\n",
       "      <th>time</th>\n",
       "    </tr>\n",
       "  </thead>\n",
       "  <tbody>\n",
       "    <tr>\n",
       "      <th>45426</th>\n",
       "      <td>45426.0</td>\n",
       "      <td>19.0</td>\n",
       "      <td>0.124158</td>\n",
       "      <td>0.334909</td>\n",
       "      <td>0.459067</td>\n",
       "      <td>7.053195</td>\n",
       "      <td>87.444672</td>\n",
       "      <td>80.391479</td>\n",
       "      <td>-1.919426</td>\n",
       "      <td>84.098236</td>\n",
       "      <td>-3.069964</td>\n",
       "      <td>5.456960</td>\n",
       "      <td>-1.952571</td>\n",
       "      <td>-7.051473</td>\n",
       "      <td>0.148149</td>\n",
       "    </tr>\n",
       "    <tr>\n",
       "      <th>43903</th>\n",
       "      <td>43903.0</td>\n",
       "      <td>18.0</td>\n",
       "      <td>0.103274</td>\n",
       "      <td>0.086592</td>\n",
       "      <td>0.189866</td>\n",
       "      <td>6.066842</td>\n",
       "      <td>86.711143</td>\n",
       "      <td>80.644302</td>\n",
       "      <td>-2.426552</td>\n",
       "      <td>79.711014</td>\n",
       "      <td>-3.065076</td>\n",
       "      <td>4.030417</td>\n",
       "      <td>-5.172444</td>\n",
       "      <td>-6.058811</td>\n",
       "      <td>0.150269</td>\n",
       "    </tr>\n",
       "    <tr>\n",
       "      <th>43912</th>\n",
       "      <td>43912.0</td>\n",
       "      <td>18.0</td>\n",
       "      <td>0.527609</td>\n",
       "      <td>0.134526</td>\n",
       "      <td>0.662135</td>\n",
       "      <td>2.220684</td>\n",
       "      <td>81.487686</td>\n",
       "      <td>79.267006</td>\n",
       "      <td>-2.886776</td>\n",
       "      <td>80.316368</td>\n",
       "      <td>-3.052977</td>\n",
       "      <td>1.309558</td>\n",
       "      <td>-5.904954</td>\n",
       "      <td>-1.992412</td>\n",
       "      <td>0.147286</td>\n",
       "    </tr>\n",
       "    <tr>\n",
       "      <th>42461</th>\n",
       "      <td>42461.0</td>\n",
       "      <td>18.0</td>\n",
       "      <td>0.101719</td>\n",
       "      <td>0.174227</td>\n",
       "      <td>0.275946</td>\n",
       "      <td>3.791237</td>\n",
       "      <td>85.088478</td>\n",
       "      <td>81.297241</td>\n",
       "      <td>-2.809081</td>\n",
       "      <td>82.185303</td>\n",
       "      <td>-3.043693</td>\n",
       "      <td>5.145314</td>\n",
       "      <td>-2.660257</td>\n",
       "      <td>-3.745379</td>\n",
       "      <td>0.142579</td>\n",
       "    </tr>\n",
       "    <tr>\n",
       "      <th>43609</th>\n",
       "      <td>43609.0</td>\n",
       "      <td>18.0</td>\n",
       "      <td>0.304383</td>\n",
       "      <td>0.122767</td>\n",
       "      <td>0.427150</td>\n",
       "      <td>8.386666</td>\n",
       "      <td>90.755363</td>\n",
       "      <td>82.368698</td>\n",
       "      <td>-2.848412</td>\n",
       "      <td>81.615501</td>\n",
       "      <td>-3.028185</td>\n",
       "      <td>2.394120</td>\n",
       "      <td>-8.286564</td>\n",
       "      <td>-8.385876</td>\n",
       "      <td>0.147680</td>\n",
       "    </tr>\n",
       "    <tr>\n",
       "      <th>43539</th>\n",
       "      <td>43539.0</td>\n",
       "      <td>18.0</td>\n",
       "      <td>0.096462</td>\n",
       "      <td>0.455988</td>\n",
       "      <td>0.552450</td>\n",
       "      <td>7.850522</td>\n",
       "      <td>84.109421</td>\n",
       "      <td>76.258896</td>\n",
       "      <td>-2.717918</td>\n",
       "      <td>80.004272</td>\n",
       "      <td>-3.025814</td>\n",
       "      <td>6.562231</td>\n",
       "      <td>-1.207248</td>\n",
       "      <td>-7.849695</td>\n",
       "      <td>0.146281</td>\n",
       "    </tr>\n",
       "    <tr>\n",
       "      <th>39841</th>\n",
       "      <td>39841.0</td>\n",
       "      <td>17.0</td>\n",
       "      <td>0.091978</td>\n",
       "      <td>0.643901</td>\n",
       "      <td>0.735880</td>\n",
       "      <td>8.563307</td>\n",
       "      <td>91.017151</td>\n",
       "      <td>82.453842</td>\n",
       "      <td>-2.706899</td>\n",
       "      <td>79.570442</td>\n",
       "      <td>-3.025514</td>\n",
       "      <td>6.692666</td>\n",
       "      <td>-0.666194</td>\n",
       "      <td>-8.563000</td>\n",
       "      <td>0.147708</td>\n",
       "    </tr>\n",
       "    <tr>\n",
       "      <th>43908</th>\n",
       "      <td>43908.0</td>\n",
       "      <td>18.0</td>\n",
       "      <td>0.097274</td>\n",
       "      <td>0.127432</td>\n",
       "      <td>0.224706</td>\n",
       "      <td>4.915064</td>\n",
       "      <td>88.603867</td>\n",
       "      <td>83.688805</td>\n",
       "      <td>-2.442995</td>\n",
       "      <td>81.185036</td>\n",
       "      <td>-3.025161</td>\n",
       "      <td>3.710335</td>\n",
       "      <td>-3.865843</td>\n",
       "      <td>-4.890600</td>\n",
       "      <td>0.148891</td>\n",
       "    </tr>\n",
       "    <tr>\n",
       "      <th>40300</th>\n",
       "      <td>40300.0</td>\n",
       "      <td>17.0</td>\n",
       "      <td>0.103063</td>\n",
       "      <td>0.128418</td>\n",
       "      <td>0.231481</td>\n",
       "      <td>4.356101</td>\n",
       "      <td>83.130440</td>\n",
       "      <td>78.774338</td>\n",
       "      <td>-2.418812</td>\n",
       "      <td>80.711411</td>\n",
       "      <td>-3.023407</td>\n",
       "      <td>3.169896</td>\n",
       "      <td>-3.897948</td>\n",
       "      <td>-4.332230</td>\n",
       "      <td>0.160981</td>\n",
       "    </tr>\n",
       "    <tr>\n",
       "      <th>26162</th>\n",
       "      <td>26162.0</td>\n",
       "      <td>11.0</td>\n",
       "      <td>0.270071</td>\n",
       "      <td>0.238899</td>\n",
       "      <td>0.508971</td>\n",
       "      <td>3.613834</td>\n",
       "      <td>85.708023</td>\n",
       "      <td>82.094185</td>\n",
       "      <td>-2.908622</td>\n",
       "      <td>81.374084</td>\n",
       "      <td>-3.022778</td>\n",
       "      <td>2.410331</td>\n",
       "      <td>-2.546690</td>\n",
       "      <td>-3.562389</td>\n",
       "      <td>0.145442</td>\n",
       "    </tr>\n",
       "  </tbody>\n",
       "</table>\n",
       "</div>"
      ],
      "text/plain": [
       "          step  epoch     Dreal     Dfake     Dfull     G_adv     G_full  \\\n",
       "45426  45426.0   19.0  0.124158  0.334909  0.459067  7.053195  87.444672   \n",
       "43903  43903.0   18.0  0.103274  0.086592  0.189866  6.066842  86.711143   \n",
       "43912  43912.0   18.0  0.527609  0.134526  0.662135  2.220684  81.487686   \n",
       "42461  42461.0   18.0  0.101719  0.174227  0.275946  3.791237  85.088478   \n",
       "43609  43609.0   18.0  0.304383  0.122767  0.427150  8.386666  90.755363   \n",
       "43539  43539.0   18.0  0.096462  0.455988  0.552450  7.850522  84.109421   \n",
       "39841  39841.0   17.0  0.091978  0.643901  0.735880  8.563307  91.017151   \n",
       "43908  43908.0   18.0  0.097274  0.127432  0.224706  4.915064  88.603867   \n",
       "40300  40300.0   17.0  0.103063  0.128418  0.231481  4.356101  83.130440   \n",
       "26162  26162.0   11.0  0.270071  0.238899  0.508971  3.613834  85.708023   \n",
       "\n",
       "       spec_loss  hist_loss   spec_chi  hist_chi      D(x)    D_G_z1  \\\n",
       "45426  80.391479  -1.919426  84.098236 -3.069964  5.456960 -1.952571   \n",
       "43903  80.644302  -2.426552  79.711014 -3.065076  4.030417 -5.172444   \n",
       "43912  79.267006  -2.886776  80.316368 -3.052977  1.309558 -5.904954   \n",
       "42461  81.297241  -2.809081  82.185303 -3.043693  5.145314 -2.660257   \n",
       "43609  82.368698  -2.848412  81.615501 -3.028185  2.394120 -8.286564   \n",
       "43539  76.258896  -2.717918  80.004272 -3.025814  6.562231 -1.207248   \n",
       "39841  82.453842  -2.706899  79.570442 -3.025514  6.692666 -0.666194   \n",
       "43908  83.688805  -2.442995  81.185036 -3.025161  3.710335 -3.865843   \n",
       "40300  78.774338  -2.418812  80.711411 -3.023407  3.169896 -3.897948   \n",
       "26162  82.094185  -2.908622  81.374084 -3.022778  2.410331 -2.546690   \n",
       "\n",
       "         D_G_z2      time  \n",
       "45426 -7.051473  0.148149  \n",
       "43903 -6.058811  0.150269  \n",
       "43912 -1.992412  0.147286  \n",
       "42461 -3.745379  0.142579  \n",
       "43609 -8.385876  0.147680  \n",
       "43539 -7.849695  0.146281  \n",
       "39841 -8.563000  0.147708  \n",
       "43908 -4.890600  0.148891  \n",
       "40300 -4.332230  0.160981  \n",
       "26162 -3.562389  0.145442  "
      ]
     },
     "execution_count": 14,
     "metadata": {},
     "output_type": "execute_result"
    }
   ],
   "source": [
    "\n",
    "chi=df_metrics.quantile(q=0.2,axis=0)['hist_chi']\n",
    "print(chi)\n",
    "df_metrics[(df_metrics['hist_chi']<=chi)&(df_metrics.epoch>1)].sort_values(by=['hist_chi']).head(10)"
   ]
  },
  {
   "cell_type": "code",
   "execution_count": 15,
   "metadata": {},
   "outputs": [],
   "source": [
    "# display(df_metrics.sort_values(by=['hist_chi']).head(8))\n",
    "# display(df_metrics.sort_values(by=['spec_chi']).head(8))"
   ]
  },
  {
   "cell_type": "markdown",
   "metadata": {},
   "source": [
    "## Read stored chi-squares for images"
   ]
  },
  {
   "cell_type": "code",
   "execution_count": 16,
   "metadata": {},
   "outputs": [],
   "source": [
    "\n",
    "df_list=[]\n",
    "labels_lst=[0,1,2]\n",
    "for label in labels_lst:\n",
    "    df=pd.read_pickle(result_dir+'/df_processed_{0}.pkle'.format(str(label)))\n",
    "    df[['epoch','step']]=df[['epoch','step']].astype(int)\n",
    "    df['label']=df.epoch.astype(str)+'-'+df.step.astype(str) # Add label column for plotting\n",
    "    df_list.append(df)\n",
    "\n",
    "for i,df in enumerate(df_list):\n",
    "    df1=df.add_suffix('_'+str(i))\n",
    "    # renaming the columns to be joined on\n",
    "    keys=['epoch','step','img_type','label']\n",
    "    rename_cols_dict={key+'_'+str(i):key for key in keys}\n",
    "#     print(rename_cols_dict)\n",
    "    df1.rename(columns=rename_cols_dict,inplace=True) \n",
    "    df_list[i]=df1\n",
    "    \n",
    "df_merged=reduce(lambda x, y : pd.merge(x, y, on = ['step','epoch','img_type','label']), df_list)\n",
    "\n",
    "### Get sum of all 4 classes for 3 types of chi-squares\n",
    "for chi_type in ['chi_1','chi_spec1','chi_1c']:\n",
    "    keys=[chi_type+'_'+str(label) for label in labels_lst]\n",
    "#     display(df_merged[keys].sum(axis=1))\n",
    "    df_merged['sum_'+chi_type]=df_merged[keys].sum(axis=1)\n",
    "del df_list\n",
    "\n"
   ]
  },
  {
   "cell_type": "code",
   "execution_count": 17,
   "metadata": {},
   "outputs": [],
   "source": [
    "\n",
    "def f_plot_hist_spec(df,class_labels,steps_list,bkg_dict,plot_type):\n",
    "\n",
    "    assert plot_type in ['hist','spec','grid','spec_relative'],\"Invalid mode %s\"%(plot_type)\n",
    "\n",
    "    if plot_type in ['hist','spec','spec_relative']:     fig=plt.figure(figsize=(6,6))\n",
    "    for class_label in class_labels:\n",
    "        df=df[df.step.isin(steps_list)]\n",
    "        print(df.shape)\n",
    "        suffix='_%s'%(class_label)\n",
    "        dict_bkg=bkg_dict[str(class_label)]\n",
    "        \n",
    "        for (i,row),marker in zip(df.iterrows(),itertools.cycle('>^*sDHPdpx_')):\n",
    "            label=row.label+'_'+str(class_label)\n",
    "            if plot_type=='hist':\n",
    "                x1=row['hist_bin_centers'+suffix]\n",
    "                y1=row['hist_val'+suffix]\n",
    "                yerr1=row['hist_err'+suffix]\n",
    "                x1=f_invtransform(x1)\n",
    "                \n",
    "                plt.errorbar(x1,y1,yerr1,marker=marker,markersize=5,linestyle='',label=label)\n",
    "            if plot_type=='spec':\n",
    "                y2=row['spec_val'+suffix]\n",
    "                yerr2=row['spec_sdev'+suffix]/np.sqrt(row['num_imgs'+suffix])\n",
    "                x2=np.arange(len(y2))\n",
    "\n",
    "                plt.fill_between(x2, y2 - yerr2, y2 + yerr2, alpha=0.4)\n",
    "                plt.plot(x2, y2, marker=marker, linestyle=':',label=label)\n",
    "\n",
    "            if plot_type=='spec_relative':\n",
    "\n",
    "                y2=row['spec_val'+suffix]\n",
    "                yerr2=row['spec_sdev'+suffix]\n",
    "                x2=np.arange(len(y2))\n",
    "\n",
    "                ### Reference spectrum\n",
    "                y1,yerr1=dict_bkg['spec_val'],dict_bkg['spec_sdev']\n",
    "\n",
    "                y=y2/y1\n",
    "                ## Variance is sum of variance of both variables, since they are uncorrelated\n",
    "\n",
    "                # delta_r=sqrt(\\delta_c2 ^ 2/ c1^2 + \\delta_c1^2 * c_2^2 / c_1^4)\n",
    "                yerr=np.sqrt((yerr2**2)/(y1**2) + (yerr1**2) * (yerr2**2/(yerr1**4)))/np.sqrt(row['num_imgs'+suffix])\n",
    "\n",
    "#                 plt.fill_between(x2, y - yerr, y + yerr, alpha=0.4)\n",
    "                plt.plot(x2, y, marker=marker, linestyle=':',label=label)\n",
    "            \n",
    "                plt.legend()\n",
    "            if plot_type=='grid':\n",
    "                images=np.load(row['fname'+suffix])[:,:,:]\n",
    "                f_plot_grid(images[:18],cols=6,fig_size=(10,5))\n",
    "            \n",
    "        ### Plot reference data\n",
    "        if plot_type=='hist':\n",
    "            x,y,yerr=dict_bkg['hist_bin_centers'],dict_bkg['hist_val'],dict_bkg['hist_err']\n",
    "            x=f_invtransform(x)\n",
    "            plt.errorbar(x, y,yerr,color='k',linestyle='-',label='bkgnd')   \n",
    "            plt.title('Pixel Intensity Histogram')\n",
    "            plt.xscale('symlog',linthreshx=50)\n",
    "        \n",
    "        if plot_type=='spec':\n",
    "            y,yerr=dict_bkg['spec_val'],dict_bkg['spec_sdev']/np.sqrt(num_bkgnd)\n",
    "            x=np.arange(len(y))\n",
    "            plt.fill_between(x, y - yerr, y + yerr, color='k',alpha=0.8)\n",
    "            plt.title('Spectrum')\n",
    "    \n",
    "    if plot_type in ['hist','spec']:     \n",
    "        plt.legend(bbox_to_anchor=(0.3, 0.75),ncol=2, fancybox=True, shadow=True,prop={'size':6})\n",
    "        plt.yscale('log')\n",
    "\n",
    "# f_plot_hist_spec(df_merged,labels_lst,best_step,bkgnd_dict,'hist')"
   ]
  },
  {
   "cell_type": "markdown",
   "metadata": {},
   "source": [
    "### Read validation data"
   ]
  },
  {
   "cell_type": "code",
   "execution_count": 30,
   "metadata": {},
   "outputs": [
    {
     "ename": "OSError",
     "evalue": "[Errno 38] Function not implemented",
     "output_type": "error",
     "traceback": [
      "\u001b[0;31m---------------------------------------------------------------------------\u001b[0m",
      "\u001b[0;31mOSError\u001b[0m                                   Traceback (most recent call last)",
      "\u001b[0;32m<ipython-input-30-1e57cd74180e>\u001b[0m in \u001b[0;36m<module>\u001b[0;34m\u001b[0m\n\u001b[0;32m----> 1\u001b[0;31m \u001b[0mnp\u001b[0m\u001b[0;34m.\u001b[0m\u001b[0mload\u001b[0m\u001b[0;34m(\u001b[0m\u001b[0mfname\u001b[0m\u001b[0;34m,\u001b[0m\u001b[0mmmap_mode\u001b[0m\u001b[0;34m=\u001b[0m\u001b[0;34m'r+'\u001b[0m\u001b[0;34m)\u001b[0m\u001b[0;34m[\u001b[0m\u001b[0;34m:\u001b[0m\u001b[0;36m10\u001b[0m\u001b[0;34m]\u001b[0m\u001b[0;34m.\u001b[0m\u001b[0mshape\u001b[0m\u001b[0;34m\u001b[0m\u001b[0;34m\u001b[0m\u001b[0m\n\u001b[0m",
      "\u001b[0;32m~/.conda/envs/v3/lib/python3.8/site-packages/numpy/lib/npyio.py\u001b[0m in \u001b[0;36mload\u001b[0;34m(file, mmap_mode, allow_pickle, fix_imports, encoding)\u001b[0m\n\u001b[1;32m    435\u001b[0m             \u001b[0;31m# .npy file\u001b[0m\u001b[0;34m\u001b[0m\u001b[0;34m\u001b[0m\u001b[0;34m\u001b[0m\u001b[0m\n\u001b[1;32m    436\u001b[0m             \u001b[0;32mif\u001b[0m \u001b[0mmmap_mode\u001b[0m\u001b[0;34m:\u001b[0m\u001b[0;34m\u001b[0m\u001b[0;34m\u001b[0m\u001b[0m\n\u001b[0;32m--> 437\u001b[0;31m                 \u001b[0;32mreturn\u001b[0m \u001b[0mformat\u001b[0m\u001b[0;34m.\u001b[0m\u001b[0mopen_memmap\u001b[0m\u001b[0;34m(\u001b[0m\u001b[0mfile\u001b[0m\u001b[0;34m,\u001b[0m \u001b[0mmode\u001b[0m\u001b[0;34m=\u001b[0m\u001b[0mmmap_mode\u001b[0m\u001b[0;34m)\u001b[0m\u001b[0;34m\u001b[0m\u001b[0;34m\u001b[0m\u001b[0m\n\u001b[0m\u001b[1;32m    438\u001b[0m             \u001b[0;32melse\u001b[0m\u001b[0;34m:\u001b[0m\u001b[0;34m\u001b[0m\u001b[0;34m\u001b[0m\u001b[0m\n\u001b[1;32m    439\u001b[0m                 return format.read_array(fid, allow_pickle=allow_pickle,\n",
      "\u001b[0;32m~/.conda/envs/v3/lib/python3.8/site-packages/numpy/lib/format.py\u001b[0m in \u001b[0;36mopen_memmap\u001b[0;34m(filename, mode, dtype, shape, fortran_order, version)\u001b[0m\n\u001b[1;32m    869\u001b[0m         \u001b[0mmode\u001b[0m \u001b[0;34m=\u001b[0m \u001b[0;34m'r+'\u001b[0m\u001b[0;34m\u001b[0m\u001b[0;34m\u001b[0m\u001b[0m\n\u001b[1;32m    870\u001b[0m \u001b[0;34m\u001b[0m\u001b[0m\n\u001b[0;32m--> 871\u001b[0;31m     marray = numpy.memmap(filename, dtype=dtype, shape=shape, order=order,\n\u001b[0m\u001b[1;32m    872\u001b[0m         mode=mode, offset=offset)\n\u001b[1;32m    873\u001b[0m \u001b[0;34m\u001b[0m\u001b[0m\n",
      "\u001b[0;32m~/.conda/envs/v3/lib/python3.8/site-packages/numpy/core/memmap.py\u001b[0m in \u001b[0;36m__new__\u001b[0;34m(subtype, filename, dtype, mode, offset, shape, order)\u001b[0m\n\u001b[1;32m    262\u001b[0m             \u001b[0mbytes\u001b[0m \u001b[0;34m-=\u001b[0m \u001b[0mstart\u001b[0m\u001b[0;34m\u001b[0m\u001b[0;34m\u001b[0m\u001b[0m\n\u001b[1;32m    263\u001b[0m             \u001b[0marray_offset\u001b[0m \u001b[0;34m=\u001b[0m \u001b[0moffset\u001b[0m \u001b[0;34m-\u001b[0m \u001b[0mstart\u001b[0m\u001b[0;34m\u001b[0m\u001b[0;34m\u001b[0m\u001b[0m\n\u001b[0;32m--> 264\u001b[0;31m             \u001b[0mmm\u001b[0m \u001b[0;34m=\u001b[0m \u001b[0mmmap\u001b[0m\u001b[0;34m.\u001b[0m\u001b[0mmmap\u001b[0m\u001b[0;34m(\u001b[0m\u001b[0mfid\u001b[0m\u001b[0;34m.\u001b[0m\u001b[0mfileno\u001b[0m\u001b[0;34m(\u001b[0m\u001b[0;34m)\u001b[0m\u001b[0;34m,\u001b[0m \u001b[0mbytes\u001b[0m\u001b[0;34m,\u001b[0m \u001b[0maccess\u001b[0m\u001b[0;34m=\u001b[0m\u001b[0macc\u001b[0m\u001b[0;34m,\u001b[0m \u001b[0moffset\u001b[0m\u001b[0;34m=\u001b[0m\u001b[0mstart\u001b[0m\u001b[0;34m)\u001b[0m\u001b[0;34m\u001b[0m\u001b[0;34m\u001b[0m\u001b[0m\n\u001b[0m\u001b[1;32m    265\u001b[0m \u001b[0;34m\u001b[0m\u001b[0m\n\u001b[1;32m    266\u001b[0m             self = ndarray.__new__(subtype, shape, dtype=descr, buffer=mm,\n",
      "\u001b[0;31mOSError\u001b[0m: [Errno 38] Function not implemented"
     ]
    }
   ],
   "source": [
    "np.load(fname,mmap_mode='r+')[:10].shape\n"
   ]
  },
  {
   "cell_type": "code",
   "execution_count": 18,
   "metadata": {},
   "outputs": [
    {
     "name": "stdout",
     "output_type": "stream",
     "text": [
      "/global/cfs/cdirs/m3363/vayyar/cosmogan_data/raw_data/128_square/dataset_5_4univ_cgan/norm_1_sig_0.5_train_val.npy\n"
     ]
    },
    {
     "name": "stderr",
     "output_type": "stream",
     "text": [
      "/global/u1/v/vpa/project/jpt_notebooks/Cosmology/Cosmo_GAN/repositories/lbann_cosmogan/3_analysis/modules_image_analysis.py:85: VisibleDeprecationWarning: Creating an ndarray from ragged nested sequences (which is a list-or-tuple of lists-or-tuples-or ndarrays with different lengths or shapes) is deprecated. If you meant to do this, you must specify 'dtype=object' when creating the ndarray\n",
      "  hist_arr=np.array([np.histogram(arr.flatten(), bins=bins, range=(llim,ulim), density=norm) for arr in img_arr]) ## range is important\n"
     ]
    },
    {
     "name": "stdout",
     "output_type": "stream",
     "text": [
      "/global/cfs/cdirs/m3363/vayyar/cosmogan_data/raw_data/128_square/dataset_5_4univ_cgan/norm_1_sig_0.8_train_val.npy\n",
      "/global/cfs/cdirs/m3363/vayyar/cosmogan_data/raw_data/128_square/dataset_5_4univ_cgan/norm_1_sig_1.1_train_val.npy\n"
     ]
    }
   ],
   "source": [
    "bins=np.concatenate([np.array([-0.5]),np.arange(0.5,20.5,1),np.arange(20.5,100.5,5),np.arange(100.5,1000.5,50),np.array([2000])]) #bin edges to use\n",
    "bins=f_transform(bins)   ### scale to (-1,1)\n",
    "# ### Extract validation data\n",
    "sigma_list=[0.5,0.8,1.1]\n",
    "labels_lst=[0,1,2]\n",
    "bkgnd_dict={}\n",
    "num_bkgnd=2000\n",
    "\n",
    "for label in labels_lst:\n",
    "    fname='/global/cfs/cdirs/m3363/vayyar/cosmogan_data/raw_data/128_square/dataset_5_4univ_cgan/norm_1_sig_{0}_train_val.npy'.format(sigma_list[label])\n",
    "    print(fname)\n",
    "    samples=np.load(fname,mmap_mode='r+')[-num_bkgnd:][:,0,:,:]\n",
    "    \n",
    "    dict_val=post.f_compute_hist_spect(samples,bins)\n",
    "    bkgnd_dict[str(label)]=dict_val\n",
    "    del samples"
   ]
  },
  {
   "cell_type": "code",
   "execution_count": 27,
   "metadata": {},
   "outputs": [
    {
     "data": {
      "text/plain": [
       "Index(['epoch', 'step', 'img_type', 'fname_0', 'chi_1a_0', 'chi_1b_0',\n",
       "       'chi_1c_0', 'chi_1_0', 'chi_2_0', 'chi_imgvar_0', 'chi_spec1_0',\n",
       "       'chi_spec2_0', 'chi_spec3_0', 'num_imgs_0', 'num_large_0',\n",
       "       'num_vlarge_0', 'hist_val_0', 'hist_err_0', 'hist_bin_centers_0',\n",
       "       'spec_val_0', 'spec_sdev_0', 'label', 'fname_1', 'chi_1a_1', 'chi_1b_1',\n",
       "       'chi_1c_1', 'chi_1_1', 'chi_2_1', 'chi_imgvar_1', 'chi_spec1_1',\n",
       "       'chi_spec2_1', 'chi_spec3_1', 'num_imgs_1', 'num_large_1',\n",
       "       'num_vlarge_1', 'hist_val_1', 'hist_err_1', 'hist_bin_centers_1',\n",
       "       'spec_val_1', 'spec_sdev_1', 'fname_2', 'chi_1a_2', 'chi_1b_2',\n",
       "       'chi_1c_2', 'chi_1_2', 'chi_2_2', 'chi_imgvar_2', 'chi_spec1_2',\n",
       "       'chi_spec2_2', 'chi_spec3_2', 'num_imgs_2', 'num_large_2',\n",
       "       'num_vlarge_2', 'hist_val_2', 'hist_err_2', 'hist_bin_centers_2',\n",
       "       'spec_val_2', 'spec_sdev_2', 'sum_chi_1', 'sum_chi_spec1',\n",
       "       'sum_chi_1c'],\n",
       "      dtype='object')"
      ]
     },
     "execution_count": 27,
     "metadata": {},
     "output_type": "execute_result"
    }
   ],
   "source": [
    "df_merged.columns"
   ]
  },
  {
   "cell_type": "code",
   "execution_count": 28,
   "metadata": {},
   "outputs": [],
   "source": [
    "def f_slice_merged_df(df,cutoff=0.2,sort_col='chi_1',col_mode='all',label='all',labels_lst=[0,1,2],head=10,epoch_range=[0,None],use_sum=True,display_flag=False):\n",
    "    ''' View dataframe after slicing\n",
    "    '''\n",
    "\n",
    "    if epoch_range[1]==None: epoch_range[1]=df.max()['epoch']\n",
    "    df=df[(df.epoch<=epoch_range[1])&(df.epoch>=epoch_range[0])]\n",
    "\n",
    "    ######### Apply cutoff to keep reasonable chi1 and chispec1\n",
    "    #### Add chi-square columns to use\n",
    "    chi_cols=[]\n",
    "    if use_sum: ## Add sum chi-square columns\n",
    "        for j in ['chi_1','chi_spec1','chi_1c']: chi_cols.append('sum_'+j)\n",
    "        \n",
    "    if label=='all': ### Add chi-squares for all labels\n",
    "        for j in ['chi_1','chi_spec1','chi_1c']:\n",
    "            for i in labels_lst: chi_cols.append(j+'_'+str(i))\n",
    "    else: ## Add chi-square for specific label\n",
    "        assert label in labels_lst, \"label %s is not in %s\"%(label,labels_lst)\n",
    "        for j in ['chi_1','chi_spec1','chi_1c']: chi_cols.append(j+'_'+str(label))\n",
    "#     print(chi_cols)\n",
    "    q_dict=dict(df_merged.quantile(q=cutoff,axis=0)[chi_cols])\n",
    "    # print(q_dict)\n",
    "    strg=['%s < %s'%(key,q_dict[key]) for key in chi_cols ]\n",
    "    query=\" & \".join(strg)\n",
    "    # print(query)\n",
    "    df=df.query(query)\n",
    "    \n",
    "    # Sort dataframe\n",
    "    df1=df[df.epoch>0].sort_values(by=sort_col)\n",
    "    chis=[i for i in df_merged.columns if 'chi' in i]\n",
    "    col_list=['label']+chis+['epoch','step']\n",
    "    if (col_mode=='short'): \n",
    "        col_list=['label']+[i for i in df_merged.columns if i.startswith('sum')]\n",
    "        col_list=['label']+chi_cols\n",
    "    df2=df1.head(head)[col_list]\n",
    "    \n",
    "    if display_flag: display(df2) # Display df\n",
    "    \n",
    "    return df2\n",
    "\n",
    "# f_slice_merged_df(df_merged,cutoff=0.3,sort_col='sum_chi_1',label=-1,use_sum=True,head=2000,display_flag=False,epoch_range=[7,None])"
   ]
  },
  {
   "cell_type": "code",
   "execution_count": 20,
   "metadata": {},
   "outputs": [
    {
     "data": {
      "application/vnd.jupyter.widget-view+json": {
       "model_id": "16e63ed9fd2f47babff87d9d9d655ff0",
       "version_major": 2,
       "version_minor": 0
      },
      "text/plain": [
       "interactive(children=(FloatSlider(value=0.3, description='cutoff', max=1.0, step=0.01), Dropdown(description='…"
      ]
     },
     "metadata": {},
     "output_type": "display_data"
    }
   ],
   "source": [
    "cols_to_sort=np.unique([i for i in df_merged.columns for j in ['chi_1_','chi_spec1_'] if ((i.startswith(j)) or (i.startswith('sum')))])\n",
    "\n",
    "w=interactive(f_slice_merged_df,df=fixed(df_merged),\n",
    "cutoff=widgets.FloatSlider(value=0.3, min=0, max=1.0, step=0.01), \n",
    "col_mode=['all','short'], display_flag=widgets.Checkbox(value=False),\n",
    "use_sum=widgets.Checkbox(value=True),label=ToggleButtons(options=['all']+labels_lst),\n",
    "labels_lst=fixed(labels_lst),\n",
    "head=widgets.IntSlider(value=10,min=1,max=20,step=1),\n",
    "epoch_range=widgets.IntRangeSlider(value=[0,np.max(df.epoch.values)],min=0,max=np.max(df.epoch.values),step=1),\n",
    "sort_col=cols_to_sort\n",
    ")\n",
    "display(w)"
   ]
  },
  {
   "cell_type": "code",
   "execution_count": 21,
   "metadata": {},
   "outputs": [],
   "source": [
    "df_sliced=w.result\n",
    "# df_sliced"
   ]
  },
  {
   "cell_type": "code",
   "execution_count": 29,
   "metadata": {},
   "outputs": [
    {
     "name": "stdout",
     "output_type": "stream",
     "text": [
      "[21330 33770 35470 35620 42130 42760 43810 44690]\n"
     ]
    }
   ],
   "source": [
    "best_step=[]\n",
    "best_step.append(f_slice_merged_df(df_merged,cutoff=0.8,sort_col='sum_chi_1',label='all',use_sum=True,head=4,display_flag=False,epoch_range=[7,None]).step.values)\n",
    "best_step.append(f_slice_merged_df(df_merged,cutoff=0.8,sort_col='sum_chi_spec1',label='all',use_sum=True,head=2,display_flag=False,epoch_range=[7,None]).step.values)\n",
    "best_step.append(f_slice_merged_df(df_merged,cutoff=0.8,sort_col='sum_chi_1c',label='all',use_sum=True,head=2,display_flag=False,epoch_range=[7,None]).step.values)\n",
    "\n",
    "best_step=np.unique([i for j in best_step for i in j])\n",
    "print(best_step)"
   ]
  },
  {
   "cell_type": "code",
   "execution_count": null,
   "metadata": {},
   "outputs": [],
   "source": [
    "# best_step=[6176]\n",
    "# best_step=np.arange(40130,40135).astype(int)"
   ]
  },
  {
   "cell_type": "code",
   "execution_count": 30,
   "metadata": {},
   "outputs": [
    {
     "name": "stdout",
     "output_type": "stream",
     "text": [
      "(8, 61)\n",
      "[(9, 21330), (14, 33770), (15, 35470), (15, 35620), (17, 42130), (18, 42760), (18, 43810), (19, 44690)]\n"
     ]
    }
   ],
   "source": [
    "df_best=df_merged[df_merged.step.isin(best_step)]\n",
    "print(df_best.shape)\n",
    "print([(df_best[df_best.step==step].epoch.values[0],df_best[df_best.step==step].step.values[0]) for step in best_step])\n",
    "# print([(df_best.loc[idx].epoch,df_best.loc[idx].step) for idx in best_idx])"
   ]
  },
  {
   "cell_type": "code",
   "execution_count": 31,
   "metadata": {},
   "outputs": [
    {
     "data": {
      "text/html": [
       "<div>\n",
       "<style scoped>\n",
       "    .dataframe tbody tr th:only-of-type {\n",
       "        vertical-align: middle;\n",
       "    }\n",
       "\n",
       "    .dataframe tbody tr th {\n",
       "        vertical-align: top;\n",
       "    }\n",
       "\n",
       "    .dataframe thead th {\n",
       "        text-align: right;\n",
       "    }\n",
       "</style>\n",
       "<table border=\"1\" class=\"dataframe\">\n",
       "  <thead>\n",
       "    <tr style=\"text-align: right;\">\n",
       "      <th></th>\n",
       "      <th>label</th>\n",
       "      <th>sum_chi_1</th>\n",
       "      <th>sum_chi_spec1</th>\n",
       "      <th>sum_chi_1c</th>\n",
       "    </tr>\n",
       "  </thead>\n",
       "  <tbody>\n",
       "    <tr>\n",
       "      <th>2132</th>\n",
       "      <td>9-21330</td>\n",
       "      <td>0.183690</td>\n",
       "      <td>0.665152</td>\n",
       "      <td>0.023082</td>\n",
       "    </tr>\n",
       "    <tr>\n",
       "      <th>3376</th>\n",
       "      <td>14-33770</td>\n",
       "      <td>0.087521</td>\n",
       "      <td>2.312260</td>\n",
       "      <td>0.008725</td>\n",
       "    </tr>\n",
       "    <tr>\n",
       "      <th>3546</th>\n",
       "      <td>15-35470</td>\n",
       "      <td>0.224956</td>\n",
       "      <td>0.637975</td>\n",
       "      <td>0.031722</td>\n",
       "    </tr>\n",
       "    <tr>\n",
       "      <th>3561</th>\n",
       "      <td>15-35620</td>\n",
       "      <td>0.409513</td>\n",
       "      <td>3.813608</td>\n",
       "      <td>0.004278</td>\n",
       "    </tr>\n",
       "    <tr>\n",
       "      <th>4212</th>\n",
       "      <td>17-42130</td>\n",
       "      <td>0.099423</td>\n",
       "      <td>1.977167</td>\n",
       "      <td>0.024664</td>\n",
       "    </tr>\n",
       "    <tr>\n",
       "      <th>4275</th>\n",
       "      <td>18-42760</td>\n",
       "      <td>0.405523</td>\n",
       "      <td>8.544935</td>\n",
       "      <td>0.004760</td>\n",
       "    </tr>\n",
       "    <tr>\n",
       "      <th>4380</th>\n",
       "      <td>18-43810</td>\n",
       "      <td>0.104425</td>\n",
       "      <td>3.359302</td>\n",
       "      <td>0.016157</td>\n",
       "    </tr>\n",
       "    <tr>\n",
       "      <th>4468</th>\n",
       "      <td>19-44690</td>\n",
       "      <td>0.098553</td>\n",
       "      <td>1.457726</td>\n",
       "      <td>0.028170</td>\n",
       "    </tr>\n",
       "  </tbody>\n",
       "</table>\n",
       "</div>"
      ],
      "text/plain": [
       "         label  sum_chi_1  sum_chi_spec1  sum_chi_1c\n",
       "2132   9-21330   0.183690       0.665152    0.023082\n",
       "3376  14-33770   0.087521       2.312260    0.008725\n",
       "3546  15-35470   0.224956       0.637975    0.031722\n",
       "3561  15-35620   0.409513       3.813608    0.004278\n",
       "4212  17-42130   0.099423       1.977167    0.024664\n",
       "4275  18-42760   0.405523       8.544935    0.004760\n",
       "4380  18-43810   0.104425       3.359302    0.016157\n",
       "4468  19-44690   0.098553       1.457726    0.028170"
      ]
     },
     "execution_count": 31,
     "metadata": {},
     "output_type": "execute_result"
    }
   ],
   "source": [
    "col_list=['label']+[i for i in df_merged.columns if i.startswith('sum')]\n",
    "\n",
    "df_best[col_list]"
   ]
  },
  {
   "cell_type": "code",
   "execution_count": 32,
   "metadata": {},
   "outputs": [
    {
     "data": {
      "application/vnd.jupyter.widget-view+json": {
       "model_id": "213f2d756e54419b84d2ee5508d2b698",
       "version_major": 2,
       "version_minor": 0
      },
      "text/plain": [
       "interactive(children=(SelectMultiple(description='class_labels', options=(0, 1, 2), value=()), SelectMultiple(…"
      ]
     },
     "metadata": {},
     "output_type": "display_data"
    },
    {
     "data": {
      "text/plain": [
       "<function __main__.f_plot_hist_spec(df, class_labels, steps_list, bkg_dict, plot_type)>"
      ]
     },
     "execution_count": 32,
     "metadata": {},
     "output_type": "execute_result"
    }
   ],
   "source": [
    "interact_manual(f_plot_hist_spec,df=fixed(df_merged),\n",
    "                class_labels=SelectMultiple(options=labels_lst),\n",
    "                steps_list=SelectMultiple(options=best_step),\n",
    "                bkg_dict=fixed(bkgnd_dict),plot_type=ToggleButtons(options=['hist','spec','grid','spec_relative']))"
   ]
  },
  {
   "cell_type": "code",
   "execution_count": null,
   "metadata": {},
   "outputs": [],
   "source": []
  },
  {
   "cell_type": "code",
   "execution_count": null,
   "metadata": {},
   "outputs": [],
   "source": []
  }
 ],
 "metadata": {
  "kernelspec": {
   "display_name": "v3",
   "language": "python",
   "name": "v-jpt-3"
  },
  "language_info": {
   "codemirror_mode": {
    "name": "ipython",
    "version": 3
   },
   "file_extension": ".py",
   "mimetype": "text/x-python",
   "name": "python",
   "nbconvert_exporter": "python",
   "pygments_lexer": "ipython3",
   "version": "3.8.6"
  }
 },
 "nbformat": 4,
 "nbformat_minor": 4
}

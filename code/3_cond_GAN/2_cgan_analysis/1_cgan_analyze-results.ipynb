{
 "cells": [
  {
   "cell_type": "markdown",
   "metadata": {},
   "source": [
    "# Analyze results\n",
    "Aug 28, 2020"
   ]
  },
  {
   "cell_type": "code",
   "execution_count": 31,
   "metadata": {},
   "outputs": [],
   "source": [
    "import     numpy as np\n",
    "import matplotlib.pyplot as plt\n",
    "import pandas as pd\n",
    "\n",
    "import subprocess as sp\n",
    "import sys\n",
    "import os\n",
    "import glob\n",
    "import pickle \n",
    "\n",
    "from matplotlib.colors import LogNorm, PowerNorm, Normalize\n",
    "import seaborn as sns\n",
    "from functools import reduce"
   ]
  },
  {
   "cell_type": "code",
   "execution_count": 32,
   "metadata": {},
   "outputs": [],
   "source": [
    "from ipywidgets import *"
   ]
  },
  {
   "cell_type": "code",
   "execution_count": 33,
   "metadata": {},
   "outputs": [],
   "source": [
    "%matplotlib widget"
   ]
  },
  {
   "cell_type": "code",
   "execution_count": 34,
   "metadata": {},
   "outputs": [],
   "source": [
    "sys.path.append('/global/u1/v/vpa/project/jpt_notebooks/Cosmology/Cosmo_GAN/repositories/cosmogan_pytorch/code/modules_image_analysis/')\n",
    "from modules_img_analysis import *"
   ]
  },
  {
   "cell_type": "code",
   "execution_count": 35,
   "metadata": {},
   "outputs": [],
   "source": [
    "sys.path.append('/global/u1/v/vpa/project/jpt_notebooks/Cosmology/Cosmo_GAN/repositories/cosmogan_pytorch/code/3_cond_GAN/1_main_code/')\n",
    "import post_analysis_pandas as post\n"
   ]
  },
  {
   "cell_type": "code",
   "execution_count": 36,
   "metadata": {},
   "outputs": [],
   "source": [
    "### Transformation functions for image pixel values\n",
    "def f_transform(x):\n",
    "    return 2.*x/(x + 4.) - 1.\n",
    "\n",
    "def f_invtransform(s):\n",
    "    return 4.*(1. + s)/(1. - s)\n"
   ]
  },
  {
   "cell_type": "code",
   "execution_count": 37,
   "metadata": {},
   "outputs": [],
   "source": [
    "img_size=128"
   ]
  },
  {
   "cell_type": "markdown",
   "metadata": {},
   "source": [
    "### Read validation data"
   ]
  },
  {
   "cell_type": "code",
   "execution_count": 38,
   "metadata": {},
   "outputs": [
    {
     "name": "stdout",
     "output_type": "stream",
     "text": [
      "/global/cfs/cdirs/m3363/vayyar/cosmogan_data/raw_data/128_square/dataset_5_4univ_cgan/norm_1_sig_0.5_train_val.npy\n",
      "/global/cfs/cdirs/m3363/vayyar/cosmogan_data/raw_data/128_square/dataset_5_4univ_cgan/norm_1_sig_0.65_train_val.npy\n",
      "/global/cfs/cdirs/m3363/vayyar/cosmogan_data/raw_data/128_square/dataset_5_4univ_cgan/norm_1_sig_0.8_train_val.npy\n",
      "/global/cfs/cdirs/m3363/vayyar/cosmogan_data/raw_data/128_square/dataset_5_4univ_cgan/norm_1_sig_1.1_train_val.npy\n"
     ]
    }
   ],
   "source": [
    "# bins=np.concatenate([np.array([-0.5]),np.arange(0.5,20.5,1),np.arange(20.5,100.5,5),np.arange(100.5,1000.5,50),np.array([2000])]) #bin edges to use\n",
    "bins=np.concatenate([np.array([-0.5]),np.arange(0.5,100.5,5),np.arange(100.5,300.5,20),np.arange(300.5,1000.5,50),np.array([2000])]) #bin edges to use\n",
    "\n",
    "bins=f_transform(bins)   ### scale to (-1,1)\n",
    "# ### Extract validation data\n",
    "sigma_lst=[0.5,0.65,0.8,1.1]\n",
    "labels_lst=range(len(sigma_lst))\n",
    "bkgnd_dict={}\n",
    "num_bkgnd=2000\n",
    "\n",
    "for label in labels_lst:\n",
    "    fname='/global/cfs/cdirs/m3363/vayyar/cosmogan_data/raw_data/128_square/dataset_5_4univ_cgan/norm_1_sig_{0}_train_val.npy'.format(sigma_lst[label])\n",
    "    print(fname)\n",
    "    samples=np.load(fname,mmap_mode='r')[-num_bkgnd:][:,0,:,:]\n",
    "    \n",
    "    dict_val=post.f_compute_hist_spect(samples,bins)\n",
    "    bkgnd_dict[str(sigma_lst[label])]=dict_val\n",
    "    del samples"
   ]
  },
  {
   "cell_type": "code",
   "execution_count": 39,
   "metadata": {},
   "outputs": [],
   "source": [
    "# main_dir='/global/cfs/cdirs/m3363/vayyar/cosmogan_data/results_from_other_code/pytorch/results/128sq/'\n",
    "# results_dir=main_dir+'20201002_064327'"
   ]
  },
  {
   "cell_type": "markdown",
   "metadata": {},
   "source": [
    "## Read data"
   ]
  },
  {
   "cell_type": "code",
   "execution_count": 40,
   "metadata": {},
   "outputs": [],
   "source": [
    "dict1={'128':'/global/cfs/cdirs/m3363/vayyar/cosmogan_data/results_from_other_code/pytorch/results/128sq/',\n",
    "      '512':'/global/cfs/cdirs/m3363/vayyar/cosmogan_data/results_from_other_code/pytorch/results/512sq/'}\n",
    "\n",
    "u=interactive(lambda x: dict1[x], x=Select(options=dict1.keys()))\n",
    "# display(u)\n"
   ]
  },
  {
   "cell_type": "code",
   "execution_count": 41,
   "metadata": {},
   "outputs": [
    {
     "data": {
      "application/vnd.jupyter.widget-view+json": {
       "model_id": "6c960ac02a6c43acba67813e0c2c6fa3",
       "version_major": 2,
       "version_minor": 0
      },
      "text/plain": [
       "interactive(children=(Dropdown(description='x', options=('20210415_140527_gclip1.0', '20210412_70407_ddp_code_…"
      ]
     },
     "metadata": {},
     "output_type": "display_data"
    }
   ],
   "source": [
    "# parent_dir=u.result\n",
    "parent_dir=dict1['128']\n",
    "dir_lst=[i.split('/')[-1] for i in glob.glob(parent_dir+'20210*')]\n",
    "w=interactive(lambda x: x, x=Dropdown(options=dir_lst))\n",
    "display(w)"
   ]
  },
  {
   "cell_type": "code",
   "execution_count": 42,
   "metadata": {},
   "outputs": [
    {
     "name": "stdout",
     "output_type": "stream",
     "text": [
      "/global/cfs/cdirs/m3363/vayyar/cosmogan_data/results_from_other_code/pytorch/results/128sq/20210416_220730_2dcgan_nofm\n"
     ]
    }
   ],
   "source": [
    "result=w.result\n",
    "result_dir=parent_dir+result\n",
    "print(result_dir)"
   ]
  },
  {
   "cell_type": "markdown",
   "metadata": {},
   "source": [
    "## Plot Losses"
   ]
  },
  {
   "cell_type": "code",
   "execution_count": 43,
   "metadata": {},
   "outputs": [],
   "source": [
    "df_metrics=pd.read_pickle(result_dir+'/df_metrics.pkle').astype(np.float64)\n"
   ]
  },
  {
   "cell_type": "code",
   "execution_count": 44,
   "metadata": {},
   "outputs": [
    {
     "data": {
      "text/html": [
       "<div>\n",
       "<style scoped>\n",
       "    .dataframe tbody tr th:only-of-type {\n",
       "        vertical-align: middle;\n",
       "    }\n",
       "\n",
       "    .dataframe tbody tr th {\n",
       "        vertical-align: top;\n",
       "    }\n",
       "\n",
       "    .dataframe thead th {\n",
       "        text-align: right;\n",
       "    }\n",
       "</style>\n",
       "<table border=\"1\" class=\"dataframe\">\n",
       "  <thead>\n",
       "    <tr style=\"text-align: right;\">\n",
       "      <th></th>\n",
       "      <th>step</th>\n",
       "      <th>epoch</th>\n",
       "      <th>Dreal</th>\n",
       "      <th>Dfake</th>\n",
       "      <th>Dfull</th>\n",
       "      <th>G_adv</th>\n",
       "      <th>G_full</th>\n",
       "      <th>spec_loss</th>\n",
       "      <th>hist_loss</th>\n",
       "      <th>spec_chi</th>\n",
       "      <th>hist_chi</th>\n",
       "      <th>gp_loss</th>\n",
       "      <th>fm_loss</th>\n",
       "      <th>D(x)</th>\n",
       "      <th>D_G_z1</th>\n",
       "      <th>D_G_z2</th>\n",
       "      <th>time</th>\n",
       "    </tr>\n",
       "  </thead>\n",
       "  <tbody>\n",
       "    <tr>\n",
       "      <th>11631</th>\n",
       "      <td>11631.0</td>\n",
       "      <td>59.0</td>\n",
       "      <td>0.099703</td>\n",
       "      <td>0.390075</td>\n",
       "      <td>0.489778</td>\n",
       "      <td>5.435154</td>\n",
       "      <td>87.363831</td>\n",
       "      <td>81.928680</td>\n",
       "      <td>-2.483587</td>\n",
       "      <td>81.463715</td>\n",
       "      <td>-2.187976</td>\n",
       "      <td>NaN</td>\n",
       "      <td>NaN</td>\n",
       "      <td>3.589110</td>\n",
       "      <td>-1.201919</td>\n",
       "      <td>-5.428631</td>\n",
       "      <td>0.251728</td>\n",
       "    </tr>\n",
       "    <tr>\n",
       "      <th>11632</th>\n",
       "      <td>11632.0</td>\n",
       "      <td>59.0</td>\n",
       "      <td>0.647418</td>\n",
       "      <td>0.118848</td>\n",
       "      <td>0.766265</td>\n",
       "      <td>1.582811</td>\n",
       "      <td>87.084000</td>\n",
       "      <td>85.501190</td>\n",
       "      <td>-2.494313</td>\n",
       "      <td>82.411079</td>\n",
       "      <td>-2.234637</td>\n",
       "      <td>NaN</td>\n",
       "      <td>NaN</td>\n",
       "      <td>0.529394</td>\n",
       "      <td>-4.515712</td>\n",
       "      <td>-1.171993</td>\n",
       "      <td>0.252762</td>\n",
       "    </tr>\n",
       "    <tr>\n",
       "      <th>11633</th>\n",
       "      <td>11633.0</td>\n",
       "      <td>59.0</td>\n",
       "      <td>0.077447</td>\n",
       "      <td>0.833238</td>\n",
       "      <td>0.910685</td>\n",
       "      <td>7.078547</td>\n",
       "      <td>90.061272</td>\n",
       "      <td>82.982727</td>\n",
       "      <td>-2.256751</td>\n",
       "      <td>82.383087</td>\n",
       "      <td>-2.312713</td>\n",
       "      <td>NaN</td>\n",
       "      <td>NaN</td>\n",
       "      <td>4.161954</td>\n",
       "      <td>-0.299231</td>\n",
       "      <td>-7.077035</td>\n",
       "      <td>0.254005</td>\n",
       "    </tr>\n",
       "    <tr>\n",
       "      <th>11634</th>\n",
       "      <td>11634.0</td>\n",
       "      <td>59.0</td>\n",
       "      <td>0.614482</td>\n",
       "      <td>0.093163</td>\n",
       "      <td>0.707645</td>\n",
       "      <td>2.716074</td>\n",
       "      <td>83.773308</td>\n",
       "      <td>81.057236</td>\n",
       "      <td>-2.424295</td>\n",
       "      <td>82.171120</td>\n",
       "      <td>-2.319833</td>\n",
       "      <td>NaN</td>\n",
       "      <td>NaN</td>\n",
       "      <td>0.647366</td>\n",
       "      <td>-5.454477</td>\n",
       "      <td>-2.569611</td>\n",
       "      <td>0.253037</td>\n",
       "    </tr>\n",
       "    <tr>\n",
       "      <th>11635</th>\n",
       "      <td>11635.0</td>\n",
       "      <td>59.0</td>\n",
       "      <td>0.099832</td>\n",
       "      <td>0.332316</td>\n",
       "      <td>0.432148</td>\n",
       "      <td>4.217628</td>\n",
       "      <td>86.736534</td>\n",
       "      <td>82.518906</td>\n",
       "      <td>-2.549126</td>\n",
       "      <td>83.025238</td>\n",
       "      <td>-2.595705</td>\n",
       "      <td>NaN</td>\n",
       "      <td>NaN</td>\n",
       "      <td>3.854841</td>\n",
       "      <td>-1.396589</td>\n",
       "      <td>-4.188724</td>\n",
       "      <td>0.256073</td>\n",
       "    </tr>\n",
       "    <tr>\n",
       "      <th>11636</th>\n",
       "      <td>11636.0</td>\n",
       "      <td>59.0</td>\n",
       "      <td>0.158834</td>\n",
       "      <td>0.144423</td>\n",
       "      <td>0.303257</td>\n",
       "      <td>4.705796</td>\n",
       "      <td>84.646988</td>\n",
       "      <td>79.941193</td>\n",
       "      <td>-2.035212</td>\n",
       "      <td>82.822952</td>\n",
       "      <td>-2.661784</td>\n",
       "      <td>NaN</td>\n",
       "      <td>NaN</td>\n",
       "      <td>2.873024</td>\n",
       "      <td>-3.442475</td>\n",
       "      <td>-4.687380</td>\n",
       "      <td>0.250726</td>\n",
       "    </tr>\n",
       "    <tr>\n",
       "      <th>11637</th>\n",
       "      <td>11637.0</td>\n",
       "      <td>59.0</td>\n",
       "      <td>0.219674</td>\n",
       "      <td>0.147007</td>\n",
       "      <td>0.366681</td>\n",
       "      <td>3.703866</td>\n",
       "      <td>88.410255</td>\n",
       "      <td>84.706390</td>\n",
       "      <td>-2.546499</td>\n",
       "      <td>82.146584</td>\n",
       "      <td>-2.378964</td>\n",
       "      <td>NaN</td>\n",
       "      <td>NaN</td>\n",
       "      <td>2.438674</td>\n",
       "      <td>-3.321661</td>\n",
       "      <td>-3.648366</td>\n",
       "      <td>0.252863</td>\n",
       "    </tr>\n",
       "    <tr>\n",
       "      <th>11638</th>\n",
       "      <td>11638.0</td>\n",
       "      <td>59.0</td>\n",
       "      <td>0.135662</td>\n",
       "      <td>0.156461</td>\n",
       "      <td>0.292123</td>\n",
       "      <td>3.372172</td>\n",
       "      <td>83.265388</td>\n",
       "      <td>79.893219</td>\n",
       "      <td>-2.136872</td>\n",
       "      <td>83.121155</td>\n",
       "      <td>-2.711263</td>\n",
       "      <td>NaN</td>\n",
       "      <td>NaN</td>\n",
       "      <td>2.782053</td>\n",
       "      <td>-3.115778</td>\n",
       "      <td>-3.306294</td>\n",
       "      <td>0.267755</td>\n",
       "    </tr>\n",
       "    <tr>\n",
       "      <th>11639</th>\n",
       "      <td>11639.0</td>\n",
       "      <td>59.0</td>\n",
       "      <td>0.123835</td>\n",
       "      <td>0.282355</td>\n",
       "      <td>0.406190</td>\n",
       "      <td>4.606705</td>\n",
       "      <td>86.115982</td>\n",
       "      <td>81.509277</td>\n",
       "      <td>-2.646215</td>\n",
       "      <td>80.580116</td>\n",
       "      <td>-2.327295</td>\n",
       "      <td>NaN</td>\n",
       "      <td>NaN</td>\n",
       "      <td>3.287144</td>\n",
       "      <td>-1.912690</td>\n",
       "      <td>-4.591571</td>\n",
       "      <td>0.258575</td>\n",
       "    </tr>\n",
       "    <tr>\n",
       "      <th>11640</th>\n",
       "      <td>NaN</td>\n",
       "      <td>NaN</td>\n",
       "      <td>NaN</td>\n",
       "      <td>NaN</td>\n",
       "      <td>NaN</td>\n",
       "      <td>NaN</td>\n",
       "      <td>NaN</td>\n",
       "      <td>NaN</td>\n",
       "      <td>NaN</td>\n",
       "      <td>82.910919</td>\n",
       "      <td>-2.831956</td>\n",
       "      <td>NaN</td>\n",
       "      <td>NaN</td>\n",
       "      <td>NaN</td>\n",
       "      <td>NaN</td>\n",
       "      <td>NaN</td>\n",
       "      <td>NaN</td>\n",
       "    </tr>\n",
       "  </tbody>\n",
       "</table>\n",
       "</div>"
      ],
      "text/plain": [
       "          step  epoch     Dreal     Dfake     Dfull     G_adv     G_full  \\\n",
       "11631  11631.0   59.0  0.099703  0.390075  0.489778  5.435154  87.363831   \n",
       "11632  11632.0   59.0  0.647418  0.118848  0.766265  1.582811  87.084000   \n",
       "11633  11633.0   59.0  0.077447  0.833238  0.910685  7.078547  90.061272   \n",
       "11634  11634.0   59.0  0.614482  0.093163  0.707645  2.716074  83.773308   \n",
       "11635  11635.0   59.0  0.099832  0.332316  0.432148  4.217628  86.736534   \n",
       "11636  11636.0   59.0  0.158834  0.144423  0.303257  4.705796  84.646988   \n",
       "11637  11637.0   59.0  0.219674  0.147007  0.366681  3.703866  88.410255   \n",
       "11638  11638.0   59.0  0.135662  0.156461  0.292123  3.372172  83.265388   \n",
       "11639  11639.0   59.0  0.123835  0.282355  0.406190  4.606705  86.115982   \n",
       "11640      NaN    NaN       NaN       NaN       NaN       NaN        NaN   \n",
       "\n",
       "       spec_loss  hist_loss   spec_chi  hist_chi  gp_loss  fm_loss      D(x)  \\\n",
       "11631  81.928680  -2.483587  81.463715 -2.187976      NaN      NaN  3.589110   \n",
       "11632  85.501190  -2.494313  82.411079 -2.234637      NaN      NaN  0.529394   \n",
       "11633  82.982727  -2.256751  82.383087 -2.312713      NaN      NaN  4.161954   \n",
       "11634  81.057236  -2.424295  82.171120 -2.319833      NaN      NaN  0.647366   \n",
       "11635  82.518906  -2.549126  83.025238 -2.595705      NaN      NaN  3.854841   \n",
       "11636  79.941193  -2.035212  82.822952 -2.661784      NaN      NaN  2.873024   \n",
       "11637  84.706390  -2.546499  82.146584 -2.378964      NaN      NaN  2.438674   \n",
       "11638  79.893219  -2.136872  83.121155 -2.711263      NaN      NaN  2.782053   \n",
       "11639  81.509277  -2.646215  80.580116 -2.327295      NaN      NaN  3.287144   \n",
       "11640        NaN        NaN  82.910919 -2.831956      NaN      NaN       NaN   \n",
       "\n",
       "         D_G_z1    D_G_z2      time  \n",
       "11631 -1.201919 -5.428631  0.251728  \n",
       "11632 -4.515712 -1.171993  0.252762  \n",
       "11633 -0.299231 -7.077035  0.254005  \n",
       "11634 -5.454477 -2.569611  0.253037  \n",
       "11635 -1.396589 -4.188724  0.256073  \n",
       "11636 -3.442475 -4.687380  0.250726  \n",
       "11637 -3.321661 -3.648366  0.252863  \n",
       "11638 -3.115778 -3.306294  0.267755  \n",
       "11639 -1.912690 -4.591571  0.258575  \n",
       "11640       NaN       NaN       NaN  "
      ]
     },
     "execution_count": 44,
     "metadata": {},
     "output_type": "execute_result"
    }
   ],
   "source": [
    "df_metrics.tail(10)"
   ]
  },
  {
   "cell_type": "code",
   "execution_count": 45,
   "metadata": {},
   "outputs": [
    {
     "data": {
      "application/vnd.jupyter.widget-view+json": {
       "model_id": "574f0b6d837a473a910d28f4eae2e411",
       "version_major": 2,
       "version_minor": 0
      },
      "text/plain": [
       "interactive(children=(SelectMultiple(description='col_list', options=('step', 'epoch', 'Dreal', 'Dfake', 'Dful…"
      ]
     },
     "metadata": {},
     "output_type": "display_data"
    },
    {
     "data": {
      "text/plain": [
       "<function __main__.f_plot_metrics(df, col_list)>"
      ]
     },
     "execution_count": 45,
     "metadata": {},
     "output_type": "execute_result"
    }
   ],
   "source": [
    "def f_plot_metrics(df,col_list):\n",
    "    \n",
    "    plt.figure()\n",
    "    for key in col_list:\n",
    "        plt.plot(df_metrics[key],label=key,marker='*',linestyle='')\n",
    "    plt.legend()\n",
    "    \n",
    "#     col_list=list(col_list)\n",
    "#     df.plot(kind='line',x='step',y=col_list)\n",
    "    \n",
    "# f_plot_metrics(df_metrics,['spec_chi','hist_chi'])\n",
    "\n",
    "interact_manual(f_plot_metrics,df=fixed(df_metrics), col_list=SelectMultiple(options=df_metrics.columns.values))"
   ]
  },
  {
   "cell_type": "code",
   "execution_count": 46,
   "metadata": {},
   "outputs": [
    {
     "name": "stdout",
     "output_type": "stream",
     "text": [
      "-2.187987947463989\n"
     ]
    },
    {
     "data": {
      "text/html": [
       "<div>\n",
       "<style scoped>\n",
       "    .dataframe tbody tr th:only-of-type {\n",
       "        vertical-align: middle;\n",
       "    }\n",
       "\n",
       "    .dataframe tbody tr th {\n",
       "        vertical-align: top;\n",
       "    }\n",
       "\n",
       "    .dataframe thead th {\n",
       "        text-align: right;\n",
       "    }\n",
       "</style>\n",
       "<table border=\"1\" class=\"dataframe\">\n",
       "  <thead>\n",
       "    <tr style=\"text-align: right;\">\n",
       "      <th></th>\n",
       "      <th>step</th>\n",
       "      <th>epoch</th>\n",
       "      <th>Dreal</th>\n",
       "      <th>Dfake</th>\n",
       "      <th>Dfull</th>\n",
       "      <th>G_adv</th>\n",
       "      <th>G_full</th>\n",
       "      <th>spec_loss</th>\n",
       "      <th>hist_loss</th>\n",
       "      <th>spec_chi</th>\n",
       "      <th>hist_chi</th>\n",
       "      <th>gp_loss</th>\n",
       "      <th>fm_loss</th>\n",
       "      <th>D(x)</th>\n",
       "      <th>D_G_z1</th>\n",
       "      <th>D_G_z2</th>\n",
       "      <th>time</th>\n",
       "    </tr>\n",
       "  </thead>\n",
       "  <tbody>\n",
       "    <tr>\n",
       "      <th>9951</th>\n",
       "      <td>9951.0</td>\n",
       "      <td>51.0</td>\n",
       "      <td>0.603922</td>\n",
       "      <td>0.083256</td>\n",
       "      <td>0.687177</td>\n",
       "      <td>3.076015</td>\n",
       "      <td>86.470650</td>\n",
       "      <td>83.394638</td>\n",
       "      <td>-2.941351</td>\n",
       "      <td>82.492615</td>\n",
       "      <td>-2.997058</td>\n",
       "      <td>NaN</td>\n",
       "      <td>NaN</td>\n",
       "      <td>0.739911</td>\n",
       "      <td>-6.739561</td>\n",
       "      <td>-2.962016</td>\n",
       "      <td>0.269854</td>\n",
       "    </tr>\n",
       "    <tr>\n",
       "      <th>10336</th>\n",
       "      <td>10336.0</td>\n",
       "      <td>53.0</td>\n",
       "      <td>0.380071</td>\n",
       "      <td>0.098812</td>\n",
       "      <td>0.478883</td>\n",
       "      <td>2.129522</td>\n",
       "      <td>82.736458</td>\n",
       "      <td>80.606934</td>\n",
       "      <td>-2.467524</td>\n",
       "      <td>82.670425</td>\n",
       "      <td>-2.979875</td>\n",
       "      <td>NaN</td>\n",
       "      <td>NaN</td>\n",
       "      <td>1.415996</td>\n",
       "      <td>-3.230532</td>\n",
       "      <td>-1.884717</td>\n",
       "      <td>0.261145</td>\n",
       "    </tr>\n",
       "    <tr>\n",
       "      <th>11344</th>\n",
       "      <td>11344.0</td>\n",
       "      <td>58.0</td>\n",
       "      <td>0.121743</td>\n",
       "      <td>0.175024</td>\n",
       "      <td>0.296767</td>\n",
       "      <td>4.026037</td>\n",
       "      <td>86.893089</td>\n",
       "      <td>82.867050</td>\n",
       "      <td>-2.617358</td>\n",
       "      <td>83.135422</td>\n",
       "      <td>-2.960986</td>\n",
       "      <td>NaN</td>\n",
       "      <td>NaN</td>\n",
       "      <td>3.152675</td>\n",
       "      <td>-2.821833</td>\n",
       "      <td>-3.999190</td>\n",
       "      <td>0.261473</td>\n",
       "    </tr>\n",
       "    <tr>\n",
       "      <th>9952</th>\n",
       "      <td>9952.0</td>\n",
       "      <td>51.0</td>\n",
       "      <td>0.113049</td>\n",
       "      <td>0.280195</td>\n",
       "      <td>0.393244</td>\n",
       "      <td>3.319097</td>\n",
       "      <td>86.951187</td>\n",
       "      <td>83.632088</td>\n",
       "      <td>-2.509281</td>\n",
       "      <td>81.015465</td>\n",
       "      <td>-2.950995</td>\n",
       "      <td>NaN</td>\n",
       "      <td>NaN</td>\n",
       "      <td>4.877656</td>\n",
       "      <td>-1.957356</td>\n",
       "      <td>-3.258833</td>\n",
       "      <td>0.270775</td>\n",
       "    </tr>\n",
       "    <tr>\n",
       "      <th>11343</th>\n",
       "      <td>11343.0</td>\n",
       "      <td>58.0</td>\n",
       "      <td>0.096438</td>\n",
       "      <td>0.139296</td>\n",
       "      <td>0.235735</td>\n",
       "      <td>3.791394</td>\n",
       "      <td>87.386688</td>\n",
       "      <td>83.595291</td>\n",
       "      <td>-2.532921</td>\n",
       "      <td>81.787766</td>\n",
       "      <td>-2.934534</td>\n",
       "      <td>NaN</td>\n",
       "      <td>NaN</td>\n",
       "      <td>3.816554</td>\n",
       "      <td>-2.743623</td>\n",
       "      <td>-3.754469</td>\n",
       "      <td>0.265689</td>\n",
       "    </tr>\n",
       "    <tr>\n",
       "      <th>10233</th>\n",
       "      <td>10233.0</td>\n",
       "      <td>52.0</td>\n",
       "      <td>0.134452</td>\n",
       "      <td>0.287914</td>\n",
       "      <td>0.422366</td>\n",
       "      <td>4.227657</td>\n",
       "      <td>85.318512</td>\n",
       "      <td>81.090851</td>\n",
       "      <td>-2.765439</td>\n",
       "      <td>81.863029</td>\n",
       "      <td>-2.933542</td>\n",
       "      <td>NaN</td>\n",
       "      <td>NaN</td>\n",
       "      <td>3.213856</td>\n",
       "      <td>-1.706245</td>\n",
       "      <td>-4.205202</td>\n",
       "      <td>0.252728</td>\n",
       "    </tr>\n",
       "    <tr>\n",
       "      <th>10335</th>\n",
       "      <td>10335.0</td>\n",
       "      <td>53.0</td>\n",
       "      <td>0.115327</td>\n",
       "      <td>0.309406</td>\n",
       "      <td>0.424733</td>\n",
       "      <td>4.651691</td>\n",
       "      <td>86.659439</td>\n",
       "      <td>82.007751</td>\n",
       "      <td>-2.797702</td>\n",
       "      <td>81.077164</td>\n",
       "      <td>-2.918460</td>\n",
       "      <td>NaN</td>\n",
       "      <td>NaN</td>\n",
       "      <td>3.669508</td>\n",
       "      <td>-1.587494</td>\n",
       "      <td>-4.632107</td>\n",
       "      <td>0.260448</td>\n",
       "    </tr>\n",
       "    <tr>\n",
       "      <th>9953</th>\n",
       "      <td>9953.0</td>\n",
       "      <td>51.0</td>\n",
       "      <td>0.106918</td>\n",
       "      <td>0.248682</td>\n",
       "      <td>0.355600</td>\n",
       "      <td>5.357001</td>\n",
       "      <td>87.761269</td>\n",
       "      <td>82.404266</td>\n",
       "      <td>-2.799943</td>\n",
       "      <td>82.414124</td>\n",
       "      <td>-2.912656</td>\n",
       "      <td>NaN</td>\n",
       "      <td>NaN</td>\n",
       "      <td>4.410795</td>\n",
       "      <td>-2.006106</td>\n",
       "      <td>-5.348906</td>\n",
       "      <td>0.269592</td>\n",
       "    </tr>\n",
       "    <tr>\n",
       "      <th>9970</th>\n",
       "      <td>9970.0</td>\n",
       "      <td>51.0</td>\n",
       "      <td>0.228702</td>\n",
       "      <td>0.150186</td>\n",
       "      <td>0.378888</td>\n",
       "      <td>3.348208</td>\n",
       "      <td>82.851913</td>\n",
       "      <td>79.503708</td>\n",
       "      <td>-2.764338</td>\n",
       "      <td>80.166443</td>\n",
       "      <td>-2.910434</td>\n",
       "      <td>NaN</td>\n",
       "      <td>NaN</td>\n",
       "      <td>2.524941</td>\n",
       "      <td>-3.273624</td>\n",
       "      <td>-3.289565</td>\n",
       "      <td>0.271766</td>\n",
       "    </tr>\n",
       "    <tr>\n",
       "      <th>10234</th>\n",
       "      <td>10234.0</td>\n",
       "      <td>52.0</td>\n",
       "      <td>0.246839</td>\n",
       "      <td>0.140555</td>\n",
       "      <td>0.387395</td>\n",
       "      <td>2.885853</td>\n",
       "      <td>84.398186</td>\n",
       "      <td>81.512329</td>\n",
       "      <td>-2.584117</td>\n",
       "      <td>81.073090</td>\n",
       "      <td>-2.908159</td>\n",
       "      <td>NaN</td>\n",
       "      <td>NaN</td>\n",
       "      <td>1.911441</td>\n",
       "      <td>-3.478012</td>\n",
       "      <td>-2.770654</td>\n",
       "      <td>0.252894</td>\n",
       "    </tr>\n",
       "  </tbody>\n",
       "</table>\n",
       "</div>"
      ],
      "text/plain": [
       "          step  epoch     Dreal     Dfake     Dfull     G_adv     G_full  \\\n",
       "9951    9951.0   51.0  0.603922  0.083256  0.687177  3.076015  86.470650   \n",
       "10336  10336.0   53.0  0.380071  0.098812  0.478883  2.129522  82.736458   \n",
       "11344  11344.0   58.0  0.121743  0.175024  0.296767  4.026037  86.893089   \n",
       "9952    9952.0   51.0  0.113049  0.280195  0.393244  3.319097  86.951187   \n",
       "11343  11343.0   58.0  0.096438  0.139296  0.235735  3.791394  87.386688   \n",
       "10233  10233.0   52.0  0.134452  0.287914  0.422366  4.227657  85.318512   \n",
       "10335  10335.0   53.0  0.115327  0.309406  0.424733  4.651691  86.659439   \n",
       "9953    9953.0   51.0  0.106918  0.248682  0.355600  5.357001  87.761269   \n",
       "9970    9970.0   51.0  0.228702  0.150186  0.378888  3.348208  82.851913   \n",
       "10234  10234.0   52.0  0.246839  0.140555  0.387395  2.885853  84.398186   \n",
       "\n",
       "       spec_loss  hist_loss   spec_chi  hist_chi  gp_loss  fm_loss      D(x)  \\\n",
       "9951   83.394638  -2.941351  82.492615 -2.997058      NaN      NaN  0.739911   \n",
       "10336  80.606934  -2.467524  82.670425 -2.979875      NaN      NaN  1.415996   \n",
       "11344  82.867050  -2.617358  83.135422 -2.960986      NaN      NaN  3.152675   \n",
       "9952   83.632088  -2.509281  81.015465 -2.950995      NaN      NaN  4.877656   \n",
       "11343  83.595291  -2.532921  81.787766 -2.934534      NaN      NaN  3.816554   \n",
       "10233  81.090851  -2.765439  81.863029 -2.933542      NaN      NaN  3.213856   \n",
       "10335  82.007751  -2.797702  81.077164 -2.918460      NaN      NaN  3.669508   \n",
       "9953   82.404266  -2.799943  82.414124 -2.912656      NaN      NaN  4.410795   \n",
       "9970   79.503708  -2.764338  80.166443 -2.910434      NaN      NaN  2.524941   \n",
       "10234  81.512329  -2.584117  81.073090 -2.908159      NaN      NaN  1.911441   \n",
       "\n",
       "         D_G_z1    D_G_z2      time  \n",
       "9951  -6.739561 -2.962016  0.269854  \n",
       "10336 -3.230532 -1.884717  0.261145  \n",
       "11344 -2.821833 -3.999190  0.261473  \n",
       "9952  -1.957356 -3.258833  0.270775  \n",
       "11343 -2.743623 -3.754469  0.265689  \n",
       "10233 -1.706245 -4.205202  0.252728  \n",
       "10335 -1.587494 -4.632107  0.260448  \n",
       "9953  -2.006106 -5.348906  0.269592  \n",
       "9970  -3.273624 -3.289565  0.271766  \n",
       "10234 -3.478012 -2.770654  0.252894  "
      ]
     },
     "execution_count": 46,
     "metadata": {},
     "output_type": "execute_result"
    }
   ],
   "source": [
    "\n",
    "chi=df_metrics.quantile(q=0.2,axis=0)['hist_chi']\n",
    "print(chi)\n",
    "df_metrics[(df_metrics['hist_chi']<=chi)&(df_metrics.epoch>1)].sort_values(by=['hist_chi']).head(10)"
   ]
  },
  {
   "cell_type": "code",
   "execution_count": 47,
   "metadata": {},
   "outputs": [],
   "source": [
    "# display(df_metrics.sort_values(by=['hist_chi']).head(8))\n",
    "# display(df_metrics.sort_values(by=['spec_chi']).head(8))"
   ]
  },
  {
   "cell_type": "markdown",
   "metadata": {},
   "source": [
    "<!-- ### Read validation data -->"
   ]
  },
  {
   "cell_type": "code",
   "execution_count": 48,
   "metadata": {},
   "outputs": [],
   "source": [
    "# # bins=np.concatenate([np.array([-0.5]),np.arange(0.5,20.5,1),np.arange(20.5,100.5,5),np.arange(100.5,1000.5,50),np.array([2000])]) #bin edges to use\n",
    "# bins=np.concatenate([np.array([-0.5]),np.arange(0.5,100.5,5),np.arange(100.5,300.5,20),np.arange(300.5,1000.5,50),np.array([2000])]) #bin edges to use\n",
    "\n",
    "# bins=f_transform(bins)   ### scale to (-1,1)\n",
    "# # ### Extract validation data\n",
    "# sigma_list=[0.5,0.65,0.8,1.1]\n",
    "# bkgnd_dict={}\n",
    "# num_bkgnd=2000\n",
    "\n",
    "# for label in labels_lst:\n",
    "#     fname='/global/cfs/cdirs/m3363/vayyar/cosmogan_data/raw_data/128_square/dataset_5_4univ_cgan/norm_1_sig_{0}_train_val.npy'.format(sigma_lst[label])\n",
    "#     print(fname)\n",
    "#     samples=np.load(fname,mmap_mode='r')[-num_bkgnd:][:,0,:,:]\n",
    "    \n",
    "#     dict_val=post.f_compute_hist_spect(samples,bins)\n",
    "#     bkgnd_dict[str(sigma_lst[label])]=dict_val\n",
    "#     del samples"
   ]
  },
  {
   "cell_type": "markdown",
   "metadata": {},
   "source": [
    "## Read stored chi-squares for images"
   ]
  },
  {
   "cell_type": "code",
   "execution_count": 58,
   "metadata": {},
   "outputs": [],
   "source": [
    "## Get sigma list from saved files\n",
    "flist=glob.glob(result_dir+'/df_processed*')\n",
    "sigma_lst=[i.split('/')[-1].split('df_processed_')[-1].split('.pkle')[0] for i in flist]\n",
    "sigma_lst.sort() ### Sorting is important for labels to match !!\n",
    "\n",
    "labels_lst=np.arange(len(sigma_lst))"
   ]
  },
  {
   "cell_type": "code",
   "execution_count": 59,
   "metadata": {},
   "outputs": [
    {
     "data": {
      "text/plain": [
       "(['0.5', '0.8', '1.1'], array([0, 1, 2]))"
      ]
     },
     "execution_count": 59,
     "metadata": {},
     "output_type": "execute_result"
    }
   ],
   "source": [
    "sigma_lst,labels_lst"
   ]
  },
  {
   "cell_type": "code",
   "execution_count": 60,
   "metadata": {},
   "outputs": [],
   "source": [
    "### Create a merged dataframe\n",
    "\n",
    "df_list=[]\n",
    "for label in labels_lst:\n",
    "    df=pd.read_pickle(result_dir+'/df_processed_{0}.pkle'.format(str(sigma_lst[label])))\n",
    "    df[['epoch','step']]=df[['epoch','step']].astype(int)\n",
    "    df['label']=df.epoch.astype(str)+'-'+df.step.astype(str) # Add label column for plotting\n",
    "    df_list.append(df)\n",
    "\n",
    "for i,df in enumerate(df_list):\n",
    "    df1=df.add_suffix('_'+str(i))\n",
    "    # renaming the columns to be joined on\n",
    "    keys=['epoch','step','img_type','label']\n",
    "    rename_cols_dict={key+'_'+str(i):key for key in keys}\n",
    "#     print(rename_cols_dict)\n",
    "    df1.rename(columns=rename_cols_dict,inplace=True) \n",
    "    df_list[i]=df1\n",
    "    \n",
    "df_merged=reduce(lambda x, y : pd.merge(x, y, on = ['step','epoch','img_type','label']), df_list)\n",
    "\n",
    "### Get sum of all 4 classes for 3 types of chi-squares\n",
    "for chi_type in ['chi_1','chi_spec1','chi_1c']:\n",
    "    keys=[chi_type+'_'+str(label) for label in labels_lst]\n",
    "#     display(df_merged[keys].sum(axis=1))\n",
    "    df_merged['sum_'+chi_type]=df_merged[keys].sum(axis=1)\n",
    "del df_list\n",
    "\n"
   ]
  },
  {
   "cell_type": "markdown",
   "metadata": {},
   "source": [
    "### Slice best steps"
   ]
  },
  {
   "cell_type": "code",
   "execution_count": 61,
   "metadata": {},
   "outputs": [],
   "source": [
    "def f_slice_merged_df(df,cutoff=0.2,sort_col='chi_1',col_mode='all',label='all',params_lst=[0,1,2],head=10,epoch_range=[0,None],use_sum=True,display_flag=False):\n",
    "    ''' View dataframe after slicing\n",
    "    '''\n",
    "\n",
    "    if epoch_range[1]==None: epoch_range[1]=df.max()['epoch']\n",
    "    df=df[(df.epoch<=epoch_range[1])&(df.epoch>=epoch_range[0])]\n",
    "\n",
    "    ######### Apply cutoff to keep reasonable chi1 and chispec1\n",
    "    #### Add chi-square columns to use\n",
    "    chi_cols=[]\n",
    "    if use_sum: ## Add sum chi-square columns\n",
    "        for j in ['chi_1','chi_spec1','chi_1c']: chi_cols.append('sum_'+j)\n",
    "        \n",
    "    if label=='all': ### Add chi-squares for all labels\n",
    "        for j in ['chi_1','chi_spec1','chi_1c']:\n",
    "            for idx,i in enumerate(params_lst): chi_cols.append(j+'_'+str(idx))\n",
    "    else: ## Add chi-square for specific label\n",
    "        assert label in params_lst, \"label %s is not in %s\"%(label,params_lst)\n",
    "        label_idx=params_lst.index(label)\n",
    "        print(label_idx)\n",
    "        for j in ['chi_1','chi_spec1','chi_1c']: chi_cols.append(j+'_'+str(label_idx))\n",
    "#     print(chi_cols)\n",
    "    q_dict=dict(df_merged.quantile(q=cutoff,axis=0)[chi_cols])\n",
    "    # print(q_dict)\n",
    "    strg=['%s < %s'%(key,q_dict[key]) for key in chi_cols ]\n",
    "    query=\" & \".join(strg)\n",
    "    # print(query)\n",
    "    df=df.query(query)\n",
    "    \n",
    "    # Sort dataframe\n",
    "    df1=df[df.epoch>0].sort_values(by=sort_col)\n",
    "    chis=[i for i in df_merged.columns if 'chi' in i]\n",
    "    col_list=['label']+chis+['epoch','step']\n",
    "    if (col_mode=='short'): \n",
    "        col_list=['label']+[i for i in df_merged.columns if i.startswith('sum')]\n",
    "        col_list=['label']+chi_cols\n",
    "    df2=df1.head(head)[col_list]\n",
    "    \n",
    "    if display_flag: display(df2) # Display df\n",
    "    \n",
    "    return df2\n",
    "\n",
    "# f_slice_merged_df(df_merged,cutoff=0.3,sort_col='sum_chi_1',label=0.65,params_lst=[0.5,0.65,0.8,1.1],use_sum=True,head=2000,display_flag=False,epoch_range=[7,None])"
   ]
  },
  {
   "cell_type": "code",
   "execution_count": 62,
   "metadata": {},
   "outputs": [
    {
     "data": {
      "application/vnd.jupyter.widget-view+json": {
       "model_id": "2d2a70ef9d0a4e889c105ea9372961ad",
       "version_major": 2,
       "version_minor": 0
      },
      "text/plain": [
       "interactive(children=(FloatSlider(value=0.3, description='cutoff', max=1.0, step=0.01), Dropdown(description='…"
      ]
     },
     "metadata": {},
     "output_type": "display_data"
    }
   ],
   "source": [
    "cols_to_sort=np.unique([i for i in df_merged.columns for j in ['chi_1_','chi_spec1_'] if ((i.startswith(j)) or (i.startswith('sum')))])\n",
    "\n",
    "w=interactive(f_slice_merged_df,df=fixed(df_merged),\n",
    "cutoff=widgets.FloatSlider(value=0.3, min=0, max=1.0, step=0.01), \n",
    "col_mode=['all','short'], display_flag=widgets.Checkbox(value=False),\n",
    "use_sum=widgets.Checkbox(value=True),\n",
    "label=ToggleButtons(options=['all']+sigma_lst), params_lst=fixed(sigma_lst),\n",
    "head=widgets.IntSlider(value=10,min=1,max=20,step=1),\n",
    "epoch_range=widgets.IntRangeSlider(value=[0,np.max(df.epoch.values)],min=0,max=np.max(df.epoch.values),step=1),\n",
    "sort_col=cols_to_sort\n",
    ")\n",
    "display(w)"
   ]
  },
  {
   "cell_type": "code",
   "execution_count": 54,
   "metadata": {},
   "outputs": [],
   "source": [
    "df_sliced=w.result\n",
    "# df_sliced"
   ]
  },
  {
   "cell_type": "code",
   "execution_count": 63,
   "metadata": {},
   "outputs": [
    {
     "name": "stdout",
     "output_type": "stream",
     "text": [
      "[ 5390  9440  9740 10170 10180 10230 10590 11140 11520 11640]\n"
     ]
    },
    {
     "data": {
      "text/plain": [
       "array([ 5390,  9440,  9740, 10170, 10180, 10230, 10590, 11140, 11520,\n",
       "       11640])"
      ]
     },
     "execution_count": 63,
     "metadata": {},
     "output_type": "execute_result"
    }
   ],
   "source": [
    "best_step=[]\n",
    "cut_off=1.0\n",
    "best_step.append(f_slice_merged_df(df_merged,cutoff=cut_off,sort_col='sum_chi_1',label='all',use_sum=True,head=4,display_flag=False,epoch_range=[7,None],params_lst=sigma_lst).step.values)\n",
    "best_step.append(f_slice_merged_df(df_merged,cutoff=cut_off,sort_col='sum_chi_spec1',label='all',use_sum=True,head=4,display_flag=False,epoch_range=[7,None],params_lst=sigma_lst).step.values)\n",
    "best_step.append(f_slice_merged_df(df_merged,cutoff=cut_off,sort_col='sum_chi_1c',label='all',use_sum=True,head=2,display_flag=False,epoch_range=[7,None],params_lst=sigma_lst).step.values)\n",
    "\n",
    "# best_step.append([46669,34281])\n",
    "best_step=np.unique([i for j in best_step for i in j])\n",
    "print(best_step)\n",
    "best_step"
   ]
  },
  {
   "cell_type": "code",
   "execution_count": 64,
   "metadata": {},
   "outputs": [],
   "source": [
    "# best_step=[6176]\n",
    "# best_step= [32300, 35810, 36020, 37030, 38640, 42480, 43850]\n",
    "\n",
    "# best_step=np.arange(40130,40135).astype(int)"
   ]
  },
  {
   "cell_type": "code",
   "execution_count": 65,
   "metadata": {},
   "outputs": [
    {
     "name": "stdout",
     "output_type": "stream",
     "text": [
      "(10, 61)\n",
      "[(27, 5390), (48, 9440), (50, 9740), (52, 10170), (52, 10180), (52, 10230), (54, 10590), (57, 11140), (59, 11520), (59, 11640)]\n"
     ]
    }
   ],
   "source": [
    "df_best=df_merged[df_merged.step.isin(best_step)]\n",
    "print(df_best.shape)\n",
    "print([(df_best[df_best.step==step].epoch.values[0],df_best[df_best.step==step].step.values[0]) for step in best_step])\n",
    "# print([(df_best.loc[idx].epoch,df_best.loc[idx].step) for idx in best_idx])"
   ]
  },
  {
   "cell_type": "code",
   "execution_count": 66,
   "metadata": {},
   "outputs": [
    {
     "data": {
      "text/html": [
       "<div>\n",
       "<style scoped>\n",
       "    .dataframe tbody tr th:only-of-type {\n",
       "        vertical-align: middle;\n",
       "    }\n",
       "\n",
       "    .dataframe tbody tr th {\n",
       "        vertical-align: top;\n",
       "    }\n",
       "\n",
       "    .dataframe thead th {\n",
       "        text-align: right;\n",
       "    }\n",
       "</style>\n",
       "<table border=\"1\" class=\"dataframe\">\n",
       "  <thead>\n",
       "    <tr style=\"text-align: right;\">\n",
       "      <th></th>\n",
       "      <th>label</th>\n",
       "      <th>sum_chi_1</th>\n",
       "      <th>sum_chi_spec1</th>\n",
       "      <th>sum_chi_1c</th>\n",
       "    </tr>\n",
       "  </thead>\n",
       "  <tbody>\n",
       "    <tr>\n",
       "      <th>538</th>\n",
       "      <td>27-5390</td>\n",
       "      <td>0.360076</td>\n",
       "      <td>40.798587</td>\n",
       "      <td>0.000115</td>\n",
       "    </tr>\n",
       "    <tr>\n",
       "      <th>943</th>\n",
       "      <td>48-9440</td>\n",
       "      <td>0.766020</td>\n",
       "      <td>2.122476</td>\n",
       "      <td>0.000115</td>\n",
       "    </tr>\n",
       "    <tr>\n",
       "      <th>973</th>\n",
       "      <td>50-9740</td>\n",
       "      <td>0.101844</td>\n",
       "      <td>6.167125</td>\n",
       "      <td>0.000115</td>\n",
       "    </tr>\n",
       "    <tr>\n",
       "      <th>1016</th>\n",
       "      <td>52-10170</td>\n",
       "      <td>0.161930</td>\n",
       "      <td>2.214600</td>\n",
       "      <td>0.000115</td>\n",
       "    </tr>\n",
       "    <tr>\n",
       "      <th>1017</th>\n",
       "      <td>52-10180</td>\n",
       "      <td>1.312565</td>\n",
       "      <td>2.557911</td>\n",
       "      <td>0.000115</td>\n",
       "    </tr>\n",
       "    <tr>\n",
       "      <th>1022</th>\n",
       "      <td>52-10230</td>\n",
       "      <td>0.119711</td>\n",
       "      <td>7.350897</td>\n",
       "      <td>0.000115</td>\n",
       "    </tr>\n",
       "    <tr>\n",
       "      <th>1058</th>\n",
       "      <td>54-10590</td>\n",
       "      <td>0.083734</td>\n",
       "      <td>4.454220</td>\n",
       "      <td>0.000115</td>\n",
       "    </tr>\n",
       "    <tr>\n",
       "      <th>1113</th>\n",
       "      <td>57-11140</td>\n",
       "      <td>0.119863</td>\n",
       "      <td>5.224838</td>\n",
       "      <td>0.000115</td>\n",
       "    </tr>\n",
       "    <tr>\n",
       "      <th>1151</th>\n",
       "      <td>59-11520</td>\n",
       "      <td>0.227218</td>\n",
       "      <td>2.081810</td>\n",
       "      <td>0.000115</td>\n",
       "    </tr>\n",
       "    <tr>\n",
       "      <th>1163</th>\n",
       "      <td>59-11640</td>\n",
       "      <td>0.148171</td>\n",
       "      <td>2.810133</td>\n",
       "      <td>0.000115</td>\n",
       "    </tr>\n",
       "  </tbody>\n",
       "</table>\n",
       "</div>"
      ],
      "text/plain": [
       "         label  sum_chi_1  sum_chi_spec1  sum_chi_1c\n",
       "538    27-5390   0.360076      40.798587    0.000115\n",
       "943    48-9440   0.766020       2.122476    0.000115\n",
       "973    50-9740   0.101844       6.167125    0.000115\n",
       "1016  52-10170   0.161930       2.214600    0.000115\n",
       "1017  52-10180   1.312565       2.557911    0.000115\n",
       "1022  52-10230   0.119711       7.350897    0.000115\n",
       "1058  54-10590   0.083734       4.454220    0.000115\n",
       "1113  57-11140   0.119863       5.224838    0.000115\n",
       "1151  59-11520   0.227218       2.081810    0.000115\n",
       "1163  59-11640   0.148171       2.810133    0.000115"
      ]
     },
     "execution_count": 66,
     "metadata": {},
     "output_type": "execute_result"
    }
   ],
   "source": [
    "col_list=['label']+[i for i in df_merged.columns if i.startswith('sum')]\n",
    "\n",
    "df_best[col_list]"
   ]
  },
  {
   "cell_type": "markdown",
   "metadata": {},
   "source": [
    "### Interactive plot"
   ]
  },
  {
   "cell_type": "code",
   "execution_count": 67,
   "metadata": {
    "jupyter": {
     "source_hidden": true
    },
    "tags": []
   },
   "outputs": [],
   "source": [
    "\n",
    "def f_plot_hist_spec(df,param_labels,sigma_lst,steps_list,bkg_dict,plot_type):\n",
    "\n",
    "    img_size=128\n",
    "    assert plot_type in ['hist','spec','grid','spec_relative'],\"Invalid mode %s\"%(plot_type)\n",
    "\n",
    "    if plot_type in ['hist','spec','spec_relative']:     fig=plt.figure(figsize=(6,6))\n",
    "    for par_label in param_labels:\n",
    "        df=df[df.step.isin(steps_list)]\n",
    "#         print(df.shape)\n",
    "        idx=sigma_lst.index(par_label)\n",
    "        suffix='_%s'%(idx)\n",
    "        dict_bkg=bkg_dict[str(par_label)]\n",
    "        \n",
    "        for (i,row),marker in zip(df.iterrows(),itertools.cycle('>^*sDHPdpx_')):\n",
    "            label=row.label+'_'+str(par_label)\n",
    "            if plot_type=='hist':\n",
    "                x1=row['hist_bin_centers'+suffix]\n",
    "                y1=row['hist_val'+suffix]\n",
    "                yerr1=row['hist_err'+suffix]\n",
    "                x1=f_invtransform(x1)\n",
    "                \n",
    "                plt.errorbar(x1,y1,yerr1,marker=marker,markersize=5,linestyle='',label=label)\n",
    "            if plot_type=='spec':\n",
    "                y2=row['spec_val'+suffix]\n",
    "                yerr2=row['spec_sdev'+suffix]/np.sqrt(row['num_imgs'+suffix])\n",
    "                x2=np.arange(len(y2))\n",
    "\n",
    "                plt.fill_between(x2, y2 - yerr2, y2 + yerr2, alpha=0.4)\n",
    "                plt.plot(x2, y2, marker=marker, linestyle=':',label=label)\n",
    "\n",
    "            if plot_type=='spec_relative':\n",
    "\n",
    "                y2=row['spec_val'+suffix]\n",
    "                yerr2=row['spec_sdev'+suffix]\n",
    "                x2=np.arange(len(y2))\n",
    "\n",
    "                ### Reference spectrum\n",
    "                y1,yerr1=dict_bkg['spec_val'],dict_bkg['spec_sdev']\n",
    "\n",
    "                y=y2/y1\n",
    "                ## Variance is sum of variance of both variables, since they are uncorrelated\n",
    "\n",
    "                # delta_r= |r| * sqrt(delta_a/a)^2 +(\\delta_b/b)^2) / \\sqrt(N)\n",
    "                yerr=(np.abs(y))*np.sqrt((yerr1/y1)**2+(yerr2/y2)**2)/np.sqrt(row['num_imgs'+suffix])\n",
    "                \n",
    "                plt.fill_between(x2, y - yerr, y + yerr, alpha=0.4)\n",
    "                plt.plot(x2, y, marker=marker, linestyle=':',label=label)\n",
    "                plt.legend()\n",
    "\n",
    "            if plot_type=='grid':\n",
    "                images=np.load(row['fname'+suffix])[:,0,:,:]\n",
    "                f_plot_grid(images[:18],cols=6,fig_size=(10,5))\n",
    "            \n",
    "        ### Plot reference data\n",
    "        if plot_type=='hist':\n",
    "            x,y,yerr=dict_bkg['hist_bin_centers'],dict_bkg['hist_val'],dict_bkg['hist_err']\n",
    "            x=f_invtransform(x)\n",
    "            plt.errorbar(x, y,yerr,color='k',linestyle='-',label='bkgnd')   \n",
    "            plt.title('Pixel Intensity Histogram')\n",
    "            plt.xscale('symlog',linthreshx=50)\n",
    "        \n",
    "        if plot_type=='spec':\n",
    "            y,yerr=dict_bkg['spec_val'],dict_bkg['spec_sdev']/np.sqrt(num_bkgnd)\n",
    "            x=np.arange(len(y))\n",
    "            plt.fill_between(x, y - yerr, y + yerr, color='k',alpha=0.8)\n",
    "            plt.title('Spectrum')\n",
    "            plt.xlim(0,img_size/2)\n",
    "\n",
    "        if plot_type=='spec_relative':\n",
    "            plt.axhline(y=1.0,color='k',linestyle='-.')\n",
    "            plt.title(\"Relative spectrum\")\n",
    "            plt.xlim(0,img_size/2)\n",
    "            plt.ylim(0.5,2)\n",
    "\n",
    "    if plot_type in ['hist','spec']:     \n",
    "        plt.yscale('log')\n",
    "    plt.legend(bbox_to_anchor=(0.3, 0.75),ncol=2, fancybox=True, shadow=True,prop={'size':6})\n",
    "\n",
    "\n",
    "# f_plot_hist_spec(df_merged,[sigma_lst[-1]],sigma_lst,[best_step[0]],bkgnd_dict,'hist')"
   ]
  },
  {
   "cell_type": "code",
   "execution_count": 68,
   "metadata": {},
   "outputs": [
    {
     "data": {
      "application/vnd.jupyter.widget-view+json": {
       "model_id": "4bf494a6dd3a408888f5e3d86d1b0da8",
       "version_major": 2,
       "version_minor": 0
      },
      "text/plain": [
       "interactive(children=(SelectMultiple(description='param_labels', options=('0.5', '0.8', '1.1'), value=()), Sel…"
      ]
     },
     "metadata": {},
     "output_type": "display_data"
    },
    {
     "data": {
      "text/plain": [
       "<function __main__.f_plot_hist_spec(df, param_labels, sigma_lst, steps_list, bkg_dict, plot_type)>"
      ]
     },
     "execution_count": 68,
     "metadata": {},
     "output_type": "execute_result"
    }
   ],
   "source": [
    "interact_manual(f_plot_hist_spec,df=fixed(df_merged),\n",
    "                param_labels=SelectMultiple(options=sigma_lst),sigma_lst=fixed(sigma_lst),\n",
    "                steps_list=SelectMultiple(options=best_step),\n",
    "                bkg_dict=fixed(bkgnd_dict),plot_type=ToggleButtons(options=['hist','spec','grid','spec_relative']))"
   ]
  },
  {
   "cell_type": "code",
   "execution_count": 31,
   "metadata": {},
   "outputs": [],
   "source": [
    "# ### Check deterministic\n",
    "# main_dir='/global/cfs/cdirs/m3363/vayyar/cosmogan_data/results_from_other_code/pytorch/results/128sq/'\n",
    "# epoch,step=0,230\n",
    "# f1='20210113_185116_cgan_predict_0.65_m2/images/gen_img_label-0.5_epoch-{0}_step-{1}.npy'.format(epoch,step)\n",
    "# f2='20210113_092234_cgan_predict_0.65_m2/images/gen_img_label-0.5_epoch-{0}_step-{1}.npy'.format(epoch,step)\n",
    "\n",
    "# epoch,step=3,20\n",
    "# f1='20210114_191648_nb_test/images/gen_img_label-0.5_epoch-{0}_step-{1}.npy'.format(epoch,step)\n",
    "# f2='20210114_193009_nb_test/images/gen_img_label-0.5_epoch-{0}_step-{1}.npy'.format(epoch,step)\n",
    "\n",
    "# a1=np.load(main_dir+f1)\n",
    "# a2=np.load(main_dir+f2)\n",
    "# # print(a1.shape,a2.shape)\n",
    "\n",
    "# print(np.mean(a1),np.mean(a2))\n",
    "# print(np.max(a1),np.max(a2))"
   ]
  },
  {
   "cell_type": "markdown",
   "metadata": {},
   "source": [
    "### Delete unwanted stored models\n",
    "(Since deterministic runs aren't working well )"
   ]
  },
  {
   "cell_type": "code",
   "execution_count": 129,
   "metadata": {},
   "outputs": [
    {
     "name": "stdout",
     "output_type": "stream",
     "text": [
      "/global/cfs/cdirs/m3363/vayyar/cosmogan_data/results_from_other_code/pytorch/results/128sq/20210205_063709_cgan_predict_1.1_m2\n"
     ]
    },
    {
     "data": {
      "text/plain": [
       "1767"
      ]
     },
     "execution_count": 129,
     "metadata": {},
     "output_type": "execute_result"
    }
   ],
   "source": [
    "# fldr='/global/cfs/cdirs/m3363/vayyar/cosmogan_data/results_from_other_code/pytorch/results/128sq/20210119_134802_cgan_predict_0.65_m2/models'\n",
    "fldr=result_dir\n",
    "print(fldr)\n",
    "flist=glob.glob(fldr+'/models/checkpoint_*.tar')\n",
    "len(flist)"
   ]
  },
  {
   "cell_type": "code",
   "execution_count": 1,
   "metadata": {},
   "outputs": [],
   "source": [
    "# # Delete unwanted stored images\n",
    "# for i in flist:\n",
    "#     try:\n",
    "#         step=int(i.split('/')[-1].split('_')[-1].split('.')[0])\n",
    "#         if step not in best_step:\n",
    "# #             print(\"Found\")\n",
    "# #             print(step)\n",
    "# #             os.remove(i)\n",
    "#             pass\n",
    "#         else: \n",
    "#             print(step)\n",
    "#             print(i)\n",
    "#     except Exception as e:\n",
    "# #         print(e)\n",
    "# #         print(i)\n",
    "#         pass"
   ]
  },
  {
   "cell_type": "code",
   "execution_count": 128,
   "metadata": {},
   "outputs": [
    {
     "data": {
      "text/plain": [
       "array([23310, 25620, 27150, 28060, 31170, 31310, 32550, 35100, 35710,\n",
       "       35740])"
      ]
     },
     "execution_count": 128,
     "metadata": {},
     "output_type": "execute_result"
    }
   ],
   "source": [
    "best_step"
   ]
  }
 ],
 "metadata": {
  "kernelspec": {
   "display_name": "v3",
   "language": "python",
   "name": "v-jpt-3"
  },
  "language_info": {
   "codemirror_mode": {
    "name": "ipython",
    "version": 3
   },
   "file_extension": ".py",
   "mimetype": "text/x-python",
   "name": "python",
   "nbconvert_exporter": "python",
   "pygments_lexer": "ipython3",
   "version": "3.8.6"
  }
 },
 "nbformat": 4,
 "nbformat_minor": 4
}

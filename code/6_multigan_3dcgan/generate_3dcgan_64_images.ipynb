{
 "cells": [
  {
   "cell_type": "markdown",
   "metadata": {},
   "source": [
    "# Generate Images\n",
    "March 1, 2021"
   ]
  },
  {
   "cell_type": "code",
   "execution_count": 1,
   "metadata": {},
   "outputs": [],
   "source": [
    "import argparse\n",
    "import os\n",
    "import sys\n",
    "\n",
    "import torch\n",
    "import torch.nn as nn\n",
    "import torch.nn.parallel\n",
    "import torch.backends.cudnn as cudnn\n",
    "import torch.optim as optim\n",
    "import torch.utils.data\n",
    "\n",
    "from torchsummary import summary\n",
    "import numpy as np\n",
    "import matplotlib.pyplot as plt\n",
    "import matplotlib.animation as animation\n",
    "from IPython.display import HTML\n",
    "\n",
    "from torch.utils.data import DataLoader, TensorDataset\n",
    "\n",
    "import time\n",
    "from datetime import datetime\n",
    "import glob\n",
    "import pickle\n",
    "import yaml\n",
    "import collections"
   ]
  },
  {
   "cell_type": "code",
   "execution_count": 2,
   "metadata": {},
   "outputs": [],
   "source": [
    "%matplotlib widget"
   ]
  },
  {
   "cell_type": "code",
   "execution_count": 3,
   "metadata": {},
   "outputs": [],
   "source": [
    "sys.path.append('/global/u1/v/vpa/project/jpt_notebooks/Cosmology/Cosmo_GAN/repositories/cosmogan_pytorch/code/5_3d_cgan/1_main_code/')\n",
    "from utils import *"
   ]
  },
  {
   "cell_type": "markdown",
   "metadata": {},
   "source": [
    "## Build Model structure"
   ]
  },
  {
   "cell_type": "code",
   "execution_count": 4,
   "metadata": {},
   "outputs": [],
   "source": [
    "def f_load_config(config_file):\n",
    "    with open(config_file) as f:\n",
    "        config = yaml.load(f, Loader=yaml.SafeLoader)\n",
    "    return config\n",
    "\n",
    "def f_manual_add_argparse():\n",
    "    ''' use only in jpt notebook'''\n",
    "    args=argparse.Namespace()\n",
    "    args.config='1_main_code/config_3d_cgan_64_cori.yaml'\n",
    "    args.mode='fresh'\n",
    "    args.ip_fldr=''\n",
    "#     args.local_rank=0\n",
    "    args.facility='cori'\n",
    "    args.distributed=False\n",
    "    args.ngpu=1\n",
    "#     args.mode='continue'\n",
    "#     args.ip_fldr='/global/cfs/cdirs/m3363/vayyar/cosmogan_data/results_from_other_code/pytorch/results/128sq/20201211_093818_nb_test/'\n",
    "    \n",
    "    return args\n",
    "             \n",
    "    \n",
    "def weights_init(m):\n",
    "    '''custom weights initialization called on netG and netD '''\n",
    "    classname = m.__class__.__name__\n",
    "    if classname.find('Conv') != -1:\n",
    "        nn.init.normal_(m.weight.data, 0.0, 0.02)\n",
    "    elif classname.find('BatchNorm') != -1:\n",
    "        nn.init.normal_(m.weight.data, 1.0, 0.02)\n",
    "        nn.init.constant_(m.bias.data, 0)\n",
    "\n",
    "def f_init_gdict(args,gdict):\n",
    "    ''' Create global dictionary gdict from args and config file'''\n",
    "    \n",
    "    ## read config file\n",
    "    config_file=args.config\n",
    "    with open(config_file) as f:\n",
    "        config_dict= yaml.load(f, Loader=yaml.SafeLoader)\n",
    "        \n",
    "    gdict=config_dict['parameters']\n",
    "\n",
    "    args_dict=vars(args)\n",
    "    ## Add args variables to gdict\n",
    "    for key in args_dict.keys():\n",
    "        gdict[key]=args_dict[key]\n",
    "    return gdict"
   ]
  },
  {
   "cell_type": "code",
   "execution_count": 5,
   "metadata": {},
   "outputs": [],
   "source": [
    "def f_gen_images(gdict,netG,optimizerG,sigma,ip_fname,op_loc,op_strg='inf_img_',op_size=500):\n",
    "    '''Generate images for best saved models\n",
    "     Arguments: gdict, netG, optimizerG, \n",
    "                 sigma : sigma input value\n",
    "                 ip_fname: name of input file\n",
    "                op_strg: [string name for output file]\n",
    "                op_size: Number of images to generate\n",
    "    '''\n",
    "\n",
    "    nz,device=gdict['nz'],gdict['device']\n",
    "\n",
    "    try:\n",
    "        if torch.cuda.is_available(): checkpoint=torch.load(ip_fname)\n",
    "        else: checkpoint=torch.load(ip_fname,map_location=torch.device('cpu'))\n",
    "    except Exception as e:\n",
    "        print(e)\n",
    "        print(\"skipping generation of images for \",ip_fname)\n",
    "        return\n",
    "    \n",
    "    ## Load checkpoint\n",
    "    if gdict['multi-gpu']:\n",
    "        netG.module.load_state_dict(checkpoint['G_state'])\n",
    "    else:\n",
    "        netG.load_state_dict(checkpoint['G_state'])\n",
    "    \n",
    "    ## Load other stuff\n",
    "    iters=checkpoint['iters']\n",
    "    epoch=checkpoint['epoch']\n",
    "    optimizerG.load_state_dict(checkpoint['optimizerG_state_dict'])\n",
    "    \n",
    "    # Generate batch of latent vectors\n",
    "    noise = torch.randn(op_size, 1, 1, 1, nz, device=device)\n",
    "    tnsr_cosm_params=(torch.ones(op_size,device=device)*sigma).view(op_size,1)\n",
    "\n",
    "    # Generate fake image batch with G\n",
    "    netG.eval() ## This is required before running inference\n",
    "    with torch.no_grad(): ## This is important. fails without it for multi-gpu\n",
    "        gen = netG(noise,tnsr_cosm_params)\n",
    "        gen_images=gen.detach().cpu().numpy()\n",
    "        print(gen_images.shape)\n",
    "\n",
    "    op_fname='%s_label-%s_epoch-%s_step-%s.npy'%(op_strg,sigma,epoch,iters)\n",
    "    np.save(op_loc+op_fname,gen_images)\n",
    "    \n",
    "    print(\"Image saved in \",op_fname)"
   ]
  },
  {
   "cell_type": "code",
   "execution_count": 6,
   "metadata": {},
   "outputs": [
    {
     "name": "stdout",
     "output_type": "stream",
     "text": [
      "{'ip_fname': '/global/cfs/cdirs/m3363/vayyar/cosmogan_data/raw_data/3d_data/dataset2a_3dcgan_4univs_64cube_simple_splicing', 'op_loc': '/global/cfs/cdirs/m3363/vayyar/cosmogan_data/results_from_other_code/pytorch/results/3d_cGAN/', 'image_size': 64, 'num_imgs': 50000, 'kappa': 40, 'ip_fldr': '', 'chkpt_file': '/global/cfs/cdirs/m3363/vayyar/cosmogan_data/results_from_other_code/pytorch/results/3d_cGAN/20211028_113034_cgan_bs32_nodes8_lr0.00001-fixed_fm00_spec0.0_kappa40/models/checkpoint_last.tar', 'workers': 2, 'nc': 1, 'nz': 64, 'ngf': 64, 'ndf': 64, 'beta1': 0.5, 'kernel_size': 5, 'stride': 2, 'g_padding': 2, 'd_padding': 2, 'flip_prob': 0.01, 'bns': 50, 'checkpoint_size': 10, 'sigma_list': [0.5, 0.8, 1.1], 'model': 2, 'batch_size': 32, 'epochs': 300, 'op_size': 16, 'learn_rate_d': 1e-05, 'learn_rate_g': 1e-05, 'lr_d_epochs': [15, 30, 45, 60, 75, 90], 'lr_d_gamma': 1.0, 'lr_g_epochs': [15, 30, 45, 60, 75, 90], 'lr_g_gamma': 1.0, 'deterministic': False, 'seed': 234373, 'lambda_spec_mean': 0.0, 'lambda_spec_var': 0.0, 'lambda_fm': 0.0, 'lambda_gp': 0.0, 'grad_clip': 0.0, 'save_steps_list': 'all', 'run_suffix': 'cgan_bs32_nodes8_lr0.00001-fixed_fm00_spec0.0_kappa40', 'description': '3d conditional GAN: DDP with new loss', 'config': '1_main_code/config_3d_cgan_64_cori.yaml', 'mode': 'fresh', 'facility': 'cori', 'distributed': False, 'ngpu': 1}\n",
      "Building GAN networks\n",
      "Number of GPUs used 1\n"
     ]
    }
   ],
   "source": [
    "if __name__==\"__main__\":\n",
    "    torch.backends.cudnn.benchmark=True\n",
    "    t0=time.time()\n",
    "    #################################\n",
    "    args=f_manual_add_argparse()\n",
    "    ### Set up ###\n",
    "\n",
    "    # Initilize variables    \n",
    "    gdict={}\n",
    "    gdict=f_init_gdict(args,gdict)\n",
    "    print(gdict)\n",
    "    ## Add args variables to gdict\n",
    "#     for key in ['ngpu']:\n",
    "#         gdict[key]=vars(args)[key]\n",
    "    gdict['device']=torch.device(\"cuda\" if (torch.cuda.is_available() and gdict['ngpu'] > 0) else \"cpu\")\n",
    "    gdict['ngpu']=torch.cuda.device_count()\n",
    "    gdict['multi-gpu']=True if (gdict['device'].type == 'cuda') and (gdict['ngpu'] > 1) else False \n",
    "\n",
    "    Generator, Discriminator=f_get_model(gdict['model'],gdict)\n",
    "    print(\"Building GAN networks\")\n",
    "    # Create Generator\n",
    "    netG = Generator(gdict).to(gdict['device'])\n",
    "    netG.apply(weights_init)\n",
    "    #     print(netG)\n",
    "    # summary(netG,(1,1,64))\n",
    "    \n",
    "    print(\"Number of GPUs used %s\"%(gdict['ngpu']))\n",
    "    if (gdict['multi-gpu']):\n",
    "        netG = nn.DataParallel(netG, list(range(gdict['ngpu'])))\n",
    "\n",
    "    optimizerG = optim.Adam(netG.parameters(), lr=gdict['learn_rate_g'], betas=(gdict['beta1'], 0.999),eps=1e-7)\n",
    "\n"
   ]
  },
  {
   "cell_type": "code",
   "execution_count": null,
   "metadata": {
    "tags": []
   },
   "outputs": [],
   "source": []
  },
  {
   "cell_type": "markdown",
   "metadata": {},
   "source": [
    "## Run Inference"
   ]
  },
  {
   "cell_type": "code",
   "execution_count": 7,
   "metadata": {},
   "outputs": [
    {
     "name": "stdout",
     "output_type": "stream",
     "text": [
      "\u001b[0m\u001b[01;34m20210223_210217_3dcgan_predict_0.8_m2\u001b[0m/\n",
      "\u001b[01;34m20210227_050213_3dcgan_predict_0.65_m2\u001b[0m/\n",
      "\u001b[01;34m20210309_200006_3dcgan_predict_0.65_m2\u001b[0m/\n",
      "\u001b[01;34m20210519_81818_cgan_bs16_lr0.001_nodes8_spec0.1_lrg0.001fixed_lrd-fastfall_good-results\u001b[0m\u001b[K/\n",
      "\u001b[01;34m20210615_72613_cgan_bs32_nodes8_lr0.0001_good_cgan_run\u001b[0m/\n",
      "\u001b[01;34m20210616_212328_cgan_bs32_nodes8_lr0.0001_fm50\u001b[0m/\n",
      "\u001b[01;34m20210617_204752_cgan_bs32_nodes8_lr0.0001-vary_fm50\u001b[0m/\n",
      "\u001b[01;34m20210619_224213_cgan_bs32_nodes8_lr0.0001-vary_fm50\u001b[0m/\n",
      "\u001b[01;34m20210620_113852_cgan_bs32_nodes8_lr0.0001-vary_fm50_spec0.01\u001b[0m/\n",
      "\u001b[01;34m20210620_63445_cgan_bs32_nodes8_lr0.0001-vary_fm50_spec0.05\u001b[0m/\n"
     ]
    }
   ],
   "source": [
    "ls /global/cfs/cdirs/m3363/vayyar/cosmogan_data/results_from_other_code/pytorch/results/3d_cGAN/"
   ]
  },
  {
   "cell_type": "code",
   "execution_count": 8,
   "metadata": {},
   "outputs": [],
   "source": [
    "# ## For single checkpoint\n",
    "# main_dir='/global/cfs/cdirs/m3363/vayyar/cosmogan_data/results_from_other_code/pytorch/results/128sq/'\n",
    "# fldr='20210119_134802_cgan_predict_0.65_m2'\n",
    "# param_label=1.1\n",
    "# op_loc=main_dir+fldr+'/images/'\n",
    "# ip_fname=main_dir+fldr+'/models/checkpoint_best_spec.tar'\n",
    "# f_gen_images(gdict,netG,optimizerG,param_label,ip_fname,op_loc,op_strg='inference_spec',op_size=1000)\n"
   ]
  },
  {
   "cell_type": "code",
   "execution_count": 7,
   "metadata": {
    "tags": []
   },
   "outputs": [
    {
     "name": "stdout",
     "output_type": "stream",
     "text": [
      "/global/cfs/cdirs/m3363/vayyar/cosmogan_data/results_from_other_code/pytorch/results/3d_cGAN/20210929_32023_cgan_bs32_nodes8_lr0.0001-fixed_fm10_spec0.0_kappa10_goodrun/models/checkpoint_42770.tar\n",
      "(128, 1, 64, 64, 64)\n",
      "Image saved in  inference_label-0.5_epoch-146_step-42770.npy\n",
      "/global/cfs/cdirs/m3363/vayyar/cosmogan_data/results_from_other_code/pytorch/results/3d_cGAN/20210929_32023_cgan_bs32_nodes8_lr0.0001-fixed_fm10_spec0.0_kappa10_goodrun/models/checkpoint_42770.tar\n",
      "(128, 1, 64, 64, 64)\n",
      "Image saved in  inference_label-0.65_epoch-146_step-42770.npy\n",
      "/global/cfs/cdirs/m3363/vayyar/cosmogan_data/results_from_other_code/pytorch/results/3d_cGAN/20210929_32023_cgan_bs32_nodes8_lr0.0001-fixed_fm10_spec0.0_kappa10_goodrun/models/checkpoint_42770.tar\n",
      "(128, 1, 64, 64, 64)\n",
      "Image saved in  inference_label-0.8_epoch-146_step-42770.npy\n",
      "/global/cfs/cdirs/m3363/vayyar/cosmogan_data/results_from_other_code/pytorch/results/3d_cGAN/20210929_32023_cgan_bs32_nodes8_lr0.0001-fixed_fm10_spec0.0_kappa10_goodrun/models/checkpoint_42770.tar\n",
      "(128, 1, 64, 64, 64)\n",
      "Image saved in  inference_label-1.1_epoch-146_step-42770.npy\n",
      "/global/cfs/cdirs/m3363/vayyar/cosmogan_data/results_from_other_code/pytorch/results/3d_cGAN/20210929_32023_cgan_bs32_nodes8_lr0.0001-fixed_fm10_spec0.0_kappa10_goodrun/models/checkpoint_43060.tar\n",
      "(128, 1, 64, 64, 64)\n",
      "Image saved in  inference_label-0.5_epoch-147_step-43060.npy\n",
      "/global/cfs/cdirs/m3363/vayyar/cosmogan_data/results_from_other_code/pytorch/results/3d_cGAN/20210929_32023_cgan_bs32_nodes8_lr0.0001-fixed_fm10_spec0.0_kappa10_goodrun/models/checkpoint_43060.tar\n",
      "(128, 1, 64, 64, 64)\n",
      "Image saved in  inference_label-0.65_epoch-147_step-43060.npy\n",
      "/global/cfs/cdirs/m3363/vayyar/cosmogan_data/results_from_other_code/pytorch/results/3d_cGAN/20210929_32023_cgan_bs32_nodes8_lr0.0001-fixed_fm10_spec0.0_kappa10_goodrun/models/checkpoint_43060.tar\n",
      "(128, 1, 64, 64, 64)\n",
      "Image saved in  inference_label-0.8_epoch-147_step-43060.npy\n",
      "/global/cfs/cdirs/m3363/vayyar/cosmogan_data/results_from_other_code/pytorch/results/3d_cGAN/20210929_32023_cgan_bs32_nodes8_lr0.0001-fixed_fm10_spec0.0_kappa10_goodrun/models/checkpoint_43060.tar\n",
      "(128, 1, 64, 64, 64)\n",
      "Image saved in  inference_label-1.1_epoch-147_step-43060.npy\n",
      "/global/cfs/cdirs/m3363/vayyar/cosmogan_data/results_from_other_code/pytorch/results/3d_cGAN/20210929_32023_cgan_bs32_nodes8_lr0.0001-fixed_fm10_spec0.0_kappa10_goodrun/models/checkpoint_48560.tar\n",
      "(128, 1, 64, 64, 64)\n",
      "Image saved in  inference_label-0.5_epoch-166_step-48560.npy\n",
      "/global/cfs/cdirs/m3363/vayyar/cosmogan_data/results_from_other_code/pytorch/results/3d_cGAN/20210929_32023_cgan_bs32_nodes8_lr0.0001-fixed_fm10_spec0.0_kappa10_goodrun/models/checkpoint_48560.tar\n",
      "(128, 1, 64, 64, 64)\n",
      "Image saved in  inference_label-0.65_epoch-166_step-48560.npy\n",
      "/global/cfs/cdirs/m3363/vayyar/cosmogan_data/results_from_other_code/pytorch/results/3d_cGAN/20210929_32023_cgan_bs32_nodes8_lr0.0001-fixed_fm10_spec0.0_kappa10_goodrun/models/checkpoint_48560.tar\n",
      "(128, 1, 64, 64, 64)\n",
      "Image saved in  inference_label-0.8_epoch-166_step-48560.npy\n",
      "/global/cfs/cdirs/m3363/vayyar/cosmogan_data/results_from_other_code/pytorch/results/3d_cGAN/20210929_32023_cgan_bs32_nodes8_lr0.0001-fixed_fm10_spec0.0_kappa10_goodrun/models/checkpoint_48560.tar\n",
      "(128, 1, 64, 64, 64)\n",
      "Image saved in  inference_label-1.1_epoch-166_step-48560.npy\n",
      "/global/cfs/cdirs/m3363/vayyar/cosmogan_data/results_from_other_code/pytorch/results/3d_cGAN/20210929_32023_cgan_bs32_nodes8_lr0.0001-fixed_fm10_spec0.0_kappa10_goodrun/models/checkpoint_48570.tar\n",
      "(128, 1, 64, 64, 64)\n",
      "Image saved in  inference_label-0.5_epoch-166_step-48570.npy\n",
      "/global/cfs/cdirs/m3363/vayyar/cosmogan_data/results_from_other_code/pytorch/results/3d_cGAN/20210929_32023_cgan_bs32_nodes8_lr0.0001-fixed_fm10_spec0.0_kappa10_goodrun/models/checkpoint_48570.tar\n",
      "(128, 1, 64, 64, 64)\n",
      "Image saved in  inference_label-0.65_epoch-166_step-48570.npy\n",
      "/global/cfs/cdirs/m3363/vayyar/cosmogan_data/results_from_other_code/pytorch/results/3d_cGAN/20210929_32023_cgan_bs32_nodes8_lr0.0001-fixed_fm10_spec0.0_kappa10_goodrun/models/checkpoint_48570.tar\n",
      "(128, 1, 64, 64, 64)\n",
      "Image saved in  inference_label-0.8_epoch-166_step-48570.npy\n",
      "/global/cfs/cdirs/m3363/vayyar/cosmogan_data/results_from_other_code/pytorch/results/3d_cGAN/20210929_32023_cgan_bs32_nodes8_lr0.0001-fixed_fm10_spec0.0_kappa10_goodrun/models/checkpoint_48570.tar\n",
      "(128, 1, 64, 64, 64)\n",
      "Image saved in  inference_label-1.1_epoch-166_step-48570.npy\n"
     ]
    }
   ],
   "source": [
    "## For multiple checkpoints \n",
    "main_dir='/global/cfs/cdirs/m3363/vayyar/cosmogan_data/results_from_other_code/pytorch/results/3d_cGAN/'\n",
    "fldr='20210929_32023_cgan_bs32_nodes8_lr0.0001-fixed_fm10_spec0.0_kappa10_goodrun'\n",
    "\n",
    "param_list=[0.5,0.65,0.8,1.1]\n",
    "op_loc=main_dir+fldr+'/images/'\n",
    "step_list=[42770,43060,48560,48570]\n",
    "for step in step_list:\n",
    "    for param_label in param_list:\n",
    "        try:\n",
    "    #     ip_fname=main_dir+fldr+'/models/checkpoint_{0}.tar'.format(step)\n",
    "    #     f_gen_images(gdict,netG,optimizerG,param_label,ip_fname,op_loc,op_strg='inference_spec',op_size=1000)\n",
    "            ip_fname=glob.glob(main_dir+fldr+'/models/checkpoint_*{0}.tar'.format(step))[0]\n",
    "            print(ip_fname)\n",
    "            f_gen_images(gdict,netG,optimizerG,param_label,ip_fname,op_loc,op_strg='inference',op_size=128)\n",
    "        except Exception as e:\n",
    "            print(e)\n",
    "            print(\"skipping \",step)       "
   ]
  },
  {
   "cell_type": "code",
   "execution_count": 10,
   "metadata": {},
   "outputs": [],
   "source": [
    "# fname=op_loc+'inference_spec_epoch-11_step-37040.npy'\n",
    "# a1=np.load(fname)\n",
    "# print(a1.shape)"
   ]
  },
  {
   "cell_type": "code",
   "execution_count": null,
   "metadata": {},
   "outputs": [],
   "source": []
  },
  {
   "cell_type": "code",
   "execution_count": null,
   "metadata": {},
   "outputs": [],
   "source": []
  }
 ],
 "metadata": {
  "kernelspec": {
   "display_name": "v3",
   "language": "python",
   "name": "v-jpt-3"
  },
  "language_info": {
   "codemirror_mode": {
    "name": "ipython",
    "version": 3
   },
   "file_extension": ".py",
   "mimetype": "text/x-python",
   "name": "python",
   "nbconvert_exporter": "python",
   "pygments_lexer": "ipython3",
   "version": "3.8.6"
  }
 },
 "nbformat": 4,
 "nbformat_minor": 4
}

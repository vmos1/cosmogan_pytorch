{
 "cells": [
  {
   "cell_type": "markdown",
   "metadata": {},
   "source": [
    "# Analyze results with histograms and plots made from scratch\n",
    "October 27, 2020"
   ]
  },
  {
   "cell_type": "code",
   "execution_count": 1,
   "metadata": {},
   "outputs": [],
   "source": [
    "import numpy as np\n",
    "import matplotlib.pyplot as plt\n",
    "import pandas as pd\n",
    "\n",
    "import subprocess as sp\n",
    "import sys\n",
    "import os\n",
    "import glob\n",
    "import pickle \n",
    "\n",
    "from matplotlib.colors import LogNorm, PowerNorm, Normalize\n",
    "from ipywidgets import *"
   ]
  },
  {
   "cell_type": "code",
   "execution_count": 2,
   "metadata": {},
   "outputs": [],
   "source": [
    "%matplotlib widget"
   ]
  },
  {
   "cell_type": "code",
   "execution_count": 3,
   "metadata": {},
   "outputs": [],
   "source": [
    "sys.path.append('/global/u1/v/vpa/project/jpt_notebooks/Cosmology/Cosmo_GAN/repositories/cosmogan_pytorch/code/modules_image_analysis/')\n",
    "from modules_3d_image_analysis import *"
   ]
  },
  {
   "cell_type": "code",
   "execution_count": 4,
   "metadata": {},
   "outputs": [],
   "source": [
    "### Transformation functions for image pixel values\n",
    "def f_transform(x):\n",
    "    return 2.*x/(x + 4.) - 1.\n",
    "\n",
    "def f_invtransform(s):\n",
    "    return 4.*(1. + s)/(1. - s)\n"
   ]
  },
  {
   "cell_type": "markdown",
   "metadata": {},
   "source": [
    "## Read data"
   ]
  },
  {
   "cell_type": "code",
   "execution_count": null,
   "metadata": {},
   "outputs": [],
   "source": [
    "# main_dir='/global/cfs/cdirs/m3363/vayyar/cosmogan_data/results_from_other_code/pytorch/results/128sq/'\n",
    "# results_dir=main_dir+'20201002_064327'"
   ]
  },
  {
   "cell_type": "code",
   "execution_count": 5,
   "metadata": {},
   "outputs": [],
   "source": [
    "img_size=64\n",
    "dict1={'64':'/global/cfs/cdirs/m3363/vayyar/cosmogan_data/results_from_other_code/pytorch/results/3d/',\n",
    "      '512':'/global/cfs/cdirs/m3363/vayyar/cosmogan_data/results_from_other_code/pytorch/results/512sq/'}\n",
    "\n",
    "u=interactive(lambda x: dict1[x], x=Select(options=dict1.keys()))\n",
    "# display(u)"
   ]
  },
  {
   "cell_type": "code",
   "execution_count": 7,
   "metadata": {},
   "outputs": [
    {
     "data": {
      "application/vnd.jupyter.widget-view+json": {
       "model_id": "8083a78a67c9492aaece0389361e200d",
       "version_major": 2,
       "version_minor": 0
      },
      "text/plain": [
       "interactive(children=(Dropdown(description='x', options=('20210121_054811_3d_nospec', '20210121_055220_3d_nosp…"
      ]
     },
     "metadata": {},
     "output_type": "display_data"
    }
   ],
   "source": [
    "# parent_dir=u.result\n",
    "parent_dir=dict1[str(img_size)]\n",
    "\n",
    "dir_lst=[i.split('/')[-1] for i in glob.glob(parent_dir+'20*')]\n",
    "w=interactive(lambda x: x, x=Dropdown(options=dir_lst))\n",
    "display(w)"
   ]
  },
  {
   "cell_type": "code",
   "execution_count": 8,
   "metadata": {},
   "outputs": [
    {
     "name": "stdout",
     "output_type": "stream",
     "text": [
      "/global/cfs/cdirs/m3363/vayyar/cosmogan_data/results_from_other_code/pytorch/results/3d/20210121_055220_3d_nospec\n"
     ]
    }
   ],
   "source": [
    "result=w.result\n",
    "result_dir=parent_dir+result\n",
    "print(result_dir)\n"
   ]
  },
  {
   "cell_type": "code",
   "execution_count": 9,
   "metadata": {},
   "outputs": [],
   "source": [
    "# Get location for validation data\n",
    "raw_data_dir='/global/cfs/cdirs/m3363/vayyar/cosmogan_data/raw_data/'\n",
    "input_files_dict={'64':raw_data_dir+'3d_data/dataset1_smoothing_const_params_100k/val.npy'}"
   ]
  },
  {
   "cell_type": "code",
   "execution_count": null,
   "metadata": {},
   "outputs": [],
   "source": [
    "# ### Read loss data\n",
    "# with open (result_dir+'/metrics.pickle','rb') as f:\n",
    "#     metrics_dict=pickle.load(f)\n",
    "\n",
    "# metrics_dict\n",
    "\n",
    "# df_metrics=pd.DataFrame([])\n",
    "# for key in metrics_dict.keys(): df_metrics[key]=metrics_dict[key]\n",
    "# df_metrics['step']=np.arange(df_metrics.shape[0])\n",
    "# # df_metrics=df_metrics.dropna()"
   ]
  },
  {
   "cell_type": "markdown",
   "metadata": {},
   "source": [
    "## Plot Losses"
   ]
  },
  {
   "cell_type": "code",
   "execution_count": null,
   "metadata": {},
   "outputs": [],
   "source": [
    "df_metrics=pd.read_pickle(result_dir+'/df_metrics.pkle').astype(np.float64)"
   ]
  },
  {
   "cell_type": "code",
   "execution_count": null,
   "metadata": {},
   "outputs": [],
   "source": [
    "df_metrics.step.values.shape,df_metrics.G_full.values.shape"
   ]
  },
  {
   "cell_type": "code",
   "execution_count": null,
   "metadata": {},
   "outputs": [],
   "source": [
    "df_metrics.head(10)"
   ]
  },
  {
   "cell_type": "code",
   "execution_count": null,
   "metadata": {},
   "outputs": [],
   "source": [
    "df_metrics[df_metrics.step%50==0].head(10)"
   ]
  },
  {
   "cell_type": "code",
   "execution_count": null,
   "metadata": {},
   "outputs": [],
   "source": [
    "def f_plot_metrics(df,col_list):\n",
    "    \n",
    "    plt.figure()\n",
    "    for key in col_list:\n",
    "        plt.plot(df_metrics[key],label=key,marker='*',linestyle='')\n",
    "    plt.legend()\n",
    "    \n",
    "#     col_list=list(col_list)\n",
    "#     df.plot(kind='line',x='step',y=col_list)\n",
    "    \n",
    "# f_plot_metrics(df_metrics,['spec_chi','hist_chi'])\n",
    "\n",
    "interact_manual(f_plot_metrics,df=fixed(df_metrics), col_list=SelectMultiple(options=df_metrics.columns.values))"
   ]
  },
  {
   "cell_type": "code",
   "execution_count": null,
   "metadata": {},
   "outputs": [],
   "source": [
    "chi=df_metrics.dropna().quantile(q=0.05,axis=0)['hist_chi']\n",
    "print(chi)\n",
    "df_metrics[df_metrics['hist_chi']<=chi].sort_values(by=['hist_chi']).head(10)"
   ]
  },
  {
   "cell_type": "code",
   "execution_count": null,
   "metadata": {},
   "outputs": [],
   "source": [
    "display(df_metrics.sort_values(by=['hist_chi']).head(8))\n",
    "display(df_metrics.sort_values(by=['spec_chi']).head(8))"
   ]
  },
  {
   "cell_type": "markdown",
   "metadata": {},
   "source": [
    "## Read stored chi-squares for images"
   ]
  },
  {
   "cell_type": "code",
   "execution_count": null,
   "metadata": {},
   "outputs": [],
   "source": [
    "df=pd.read_pickle(result_dir+'/df_processed.pkle')\n",
    "df[['epoch','step']]=df[['epoch','step']].astype(int)\n",
    "\n",
    "chi1=df.quantile(q=0.2,axis=0)['chi_1']\n",
    "chi_spec=df.quantile(q=0.2,axis=0)['chi_spec1']\n",
    "\n",
    "df[(df.chi_spec1<chi_spec)&(df.chi_1<chi1)].sort_values(by=['chi_spec1','chi_1']).head(10)\n",
    "# df[df.chi_1<chi1].sort_values(by=['chi_1']).head(5)\n"
   ]
  },
  {
   "cell_type": "code",
   "execution_count": null,
   "metadata": {},
   "outputs": [],
   "source": [
    "df[(df.chi_spec1<chi_spec)&(df.chi_1<chi1)].sort_values(by=['chi_1','chi_spec1']).head(5)\n",
    "# df[df.chi_spec1<chi_spec].sort_values(by=['chi_spec1']).head(5)\n"
   ]
  },
  {
   "cell_type": "code",
   "execution_count": null,
   "metadata": {},
   "outputs": [],
   "source": [
    "step_list=[4111,5771]\n",
    "\n",
    "print([(j.epoch,j.step) for i,j in df[df.step.isin(step_list)][['epoch','step']].iterrows()])"
   ]
  },
  {
   "cell_type": "code",
   "execution_count": null,
   "metadata": {},
   "outputs": [],
   "source": [
    "df_metrics[df_metrics.step.isin(step_list)]\n"
   ]
  },
  {
   "cell_type": "code",
   "execution_count": null,
   "metadata": {},
   "outputs": [],
   "source": [
    "df[df.step.isin(step_list)][['epoch','step','chi_1','chi_spec1']]\n"
   ]
  },
  {
   "cell_type": "code",
   "execution_count": null,
   "metadata": {},
   "outputs": [],
   "source": [
    "df[(df.step>1000) & (df.step<1040)][['epoch','step','chi_1','chi_spec1']]"
   ]
  },
  {
   "cell_type": "code",
   "execution_count": null,
   "metadata": {},
   "outputs": [],
   "source": [
    "df_metrics.query('step>1000 & step<1040 & step%2==0')"
   ]
  },
  {
   "cell_type": "markdown",
   "metadata": {},
   "source": [
    "## Plot histogram and spectrum"
   ]
  },
  {
   "cell_type": "code",
   "execution_count": 26,
   "metadata": {},
   "outputs": [],
   "source": [
    "\n",
    "def f_widget_compare(sample_names,sample_dict,bkgnd_arr,Fig_type='pixel',rescale=True,log_scale=True,bins=25,mode='avg',normalize=True,crop=False):\n",
    "    '''\n",
    "    Module to make widget plots for pixel intensity or spectrum comparison for multiple sample sets\n",
    "    '''\n",
    "    \n",
    "    \n",
    "    if crop: # Crop out large pixel values\n",
    "        for key in sample_names:\n",
    "            print(sample_dict[key].shape)\n",
    "            sample_dict[key]=np.array([arr for arr in sample_dict[key] if np.max(arr)<=0.994])\n",
    "            print(sample_dict[key].shape)\n",
    "    \n",
    "    img_list=[sample_dict[key] for key in sample_names]\n",
    "    label_list=list(sample_names)\n",
    "        \n",
    "    hist_range=(0,0.996)\n",
    "    \n",
    "    if rescale: \n",
    "        for count,img in enumerate(img_list):\n",
    "            img_list[count]=f_invtransform(img)\n",
    "        hist_range=(0,2000)\n",
    "        bkgnd_arr=f_invtransform(bkgnd_arr)\n",
    "    \n",
    "    assert Fig_type in ['pixel','spectrum'],\"Invalid mode %s\"%(mode)\n",
    "    \n",
    "    if Fig_type=='pixel':\n",
    "        f_compare_pixel_intensity(img_lst=img_list,label_lst=label_list,bkgnd_arr=bkgnd_arr,normalize=normalize,log_scale=log_scale, mode=mode,bins=bins,hist_range=hist_range)\n",
    "    elif Fig_type=='spectrum':\n",
    "        f_compare_spectrum(img_lst=img_list,label_lst=label_list,bkgnd_arr=bkgnd_arr,log_scale=log_scale)\n",
    "\n"
   ]
  },
  {
   "cell_type": "markdown",
   "metadata": {},
   "source": [
    "## Plot spectrum"
   ]
  },
  {
   "cell_type": "code",
   "execution_count": 23,
   "metadata": {},
   "outputs": [],
   "source": [
    "dict_samples={}"
   ]
  },
  {
   "cell_type": "code",
   "execution_count": null,
   "metadata": {},
   "outputs": [],
   "source": [
    "fname='best_hist_epoch-12_step-19436.npy'\n",
    "a1=np.load(result_dir+'/images/'+fname)\n",
    "print(a1.shape)"
   ]
  },
  {
   "cell_type": "code",
   "execution_count": 20,
   "metadata": {},
   "outputs": [
    {
     "name": "stdout",
     "output_type": "stream",
     "text": [
      "(500, 64, 64, 64)\n"
     ]
    }
   ],
   "source": [
    "# Read input data\n",
    "\n",
    "fname='/global/cfs/cdirs/m3363/vayyar/cosmogan_data/raw_data/3d_data/dataset1_smoothing_const_params_100k/norm_1_train_val.npy'\n",
    "samples=np.load(fname,mmap_mode='r+')[:500]\n",
    "samples=samples[:,0,:,:,:]\n",
    "print(samples.shape)\n",
    "# dict_samples['val input']=samples"
   ]
  },
  {
   "cell_type": "code",
   "execution_count": 21,
   "metadata": {},
   "outputs": [],
   "source": [
    "step_list=[100,200]"
   ]
  },
  {
   "cell_type": "code",
   "execution_count": 24,
   "metadata": {},
   "outputs": [],
   "source": [
    "for step in step_list:\n",
    "    fname='*gen_img_epoch-*_step-{0}.npy'.format(step)\n",
    "    fle=glob.glob(result_dir+'/images/'+fname)[0]\n",
    "    imgs=np.load(fle)\n",
    "#     img_list.append(imgs)\n",
    "#     labels_list.append('Step:',step)\n",
    "    strg='step:%s'%(step)\n",
    "    dict_samples[strg]=imgs\n",
    "    "
   ]
  },
  {
   "cell_type": "code",
   "execution_count": 28,
   "metadata": {},
   "outputs": [
    {
     "data": {
      "application/vnd.jupyter.widget-view+json": {
       "model_id": "423fdd86f4f04a39aa1f4780b811656c",
       "version_major": 2,
       "version_minor": 0
      },
      "text/plain": [
       "interactive(children=(SelectMultiple(description='sample_names', options=('step:100', 'step:200'), value=()), …"
      ]
     },
     "metadata": {},
     "output_type": "display_data"
    },
    {
     "data": {
      "text/plain": [
       "<function __main__.f_widget_compare(sample_names, sample_dict, bkgnd_arr, Fig_type='pixel', rescale=True, log_scale=True, bins=25, mode='avg', normalize=True, crop=False)>"
      ]
     },
     "execution_count": 28,
     "metadata": {},
     "output_type": "execute_result"
    }
   ],
   "source": [
    "bkgnd=samples\n",
    "\n",
    "bins=np.concatenate([np.array([-0.5]),np.arange(0.5,20.5,1),np.arange(20.5,100.5,5),np.arange(100.5,1000.5,50),np.array([2000])]) #bin edges to use\n",
    "bins=f_transform(bins)   ### scale to (-1,1) \n",
    "# bins=50\n",
    "interact_manual(f_widget_compare,sample_dict=fixed(dict_samples),\n",
    "                sample_names=SelectMultiple(options=dict_samples.keys()), bkgnd_arr=fixed(bkgnd),\n",
    "                Fig_type=ToggleButtons(options=['pixel','spectrum']),bins=fixed(bins),mode=['avg','simple'])\n"
   ]
  },
  {
   "cell_type": "markdown",
   "metadata": {},
   "source": [
    "## Plot images"
   ]
  },
  {
   "cell_type": "code",
   "execution_count": null,
   "metadata": {},
   "outputs": [],
   "source": [
    "f_plot_grid(bkgnd[100:118,:,:,0],cols=6,fig_size=(6,3))\n",
    "f_plot_grid(dict_samples['step:39400'][40:58],cols=6,fig_size=(6,3))"
   ]
  },
  {
   "cell_type": "code",
   "execution_count": 13,
   "metadata": {},
   "outputs": [
    {
     "name": "stdout",
     "output_type": "stream",
     "text": [
      "(500, 64, 64, 64)\n"
     ]
    }
   ],
   "source": []
  },
  {
   "cell_type": "code",
   "execution_count": 17,
   "metadata": {},
   "outputs": [
    {
     "name": "stdout",
     "output_type": "stream",
     "text": [
      "3 6\n"
     ]
    },
    {
     "data": {
      "application/vnd.jupyter.widget-view+json": {
       "model_id": "a75000de3059434a8eb68e063e4cb580",
       "version_major": 2,
       "version_minor": 0
      },
      "text/plain": [
       "Canvas(toolbar=Toolbar(toolitems=[('Home', 'Reset original view', 'home', 'home'), ('Back', 'Back to previous …"
      ]
     },
     "metadata": {},
     "output_type": "display_data"
    }
   ],
   "source": [
    "f_plot_grid(a1[:18,:,:,0],cols=6,fig_size=(6,3))"
   ]
  },
  {
   "cell_type": "code",
   "execution_count": 18,
   "metadata": {},
   "outputs": [
    {
     "data": {
      "text/plain": [
       "0.9995863"
      ]
     },
     "execution_count": 18,
     "metadata": {},
     "output_type": "execute_result"
    }
   ],
   "source": [
    "np.max(a1)"
   ]
  },
  {
   "cell_type": "code",
   "execution_count": null,
   "metadata": {},
   "outputs": [],
   "source": []
  }
 ],
 "metadata": {
  "kernelspec": {
   "display_name": "v3",
   "language": "python",
   "name": "v-jpt-3"
  },
  "language_info": {
   "codemirror_mode": {
    "name": "ipython",
    "version": 3
   },
   "file_extension": ".py",
   "mimetype": "text/x-python",
   "name": "python",
   "nbconvert_exporter": "python",
   "pygments_lexer": "ipython3",
   "version": "3.8.6"
  }
 },
 "nbformat": 4,
 "nbformat_minor": 4
}

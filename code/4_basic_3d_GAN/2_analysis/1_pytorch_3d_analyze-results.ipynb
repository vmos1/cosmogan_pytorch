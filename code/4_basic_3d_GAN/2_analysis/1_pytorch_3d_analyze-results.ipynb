{
 "cells": [
  {
   "cell_type": "markdown",
   "metadata": {},
   "source": [
    "# Analyze results for 3D images\n",
    "Jan 21, 2021"
   ]
  },
  {
   "cell_type": "code",
   "execution_count": 36,
   "metadata": {},
   "outputs": [],
   "source": [
    "import     numpy as np\n",
    "import matplotlib.pyplot as plt\n",
    "import pandas as pd\n",
    "\n",
    "import subprocess as sp\n",
    "import sys\n",
    "import os\n",
    "import glob\n",
    "import pickle \n",
    "\n",
    "from matplotlib.colors import LogNorm, PowerNorm, Normalize\n",
    "import seaborn as sns\n",
    "\n",
    "from ipywidgets import *"
   ]
  },
  {
   "cell_type": "code",
   "execution_count": 37,
   "metadata": {},
   "outputs": [],
   "source": [
    "%matplotlib widget"
   ]
  },
  {
   "cell_type": "code",
   "execution_count": 38,
   "metadata": {},
   "outputs": [],
   "source": [
    "sys.path.append('/global/u1/v/vpa/project/jpt_notebooks/Cosmology/Cosmo_GAN/repositories/cosmogan_pytorch/code/modules_image_analysis/')\n",
    "from modules_3d_image_analysis import *\n",
    "\n",
    "# sys.path.append('/global/u1/v/vpa/project/jpt_notebooks/Cosmology/Cosmo_GAN/repositories/cosmogan_pytorch/code/1_basic_GAN/1_main_code/')\n",
    "# import post_analysis_pandas as post"
   ]
  },
  {
   "cell_type": "code",
   "execution_count": 39,
   "metadata": {},
   "outputs": [],
   "source": [
    "### Transformation functions for image pixel values\n",
    "def f_transform(x):\n",
    "    return 2.*x/(x + 4.) - 1.\n",
    "\n",
    "def f_invtransform(s):\n",
    "    return 4.*(1. + s)/(1. - s)\n"
   ]
  },
  {
   "cell_type": "markdown",
   "metadata": {},
   "source": [
    "## Read data"
   ]
  },
  {
   "cell_type": "code",
   "execution_count": 40,
   "metadata": {},
   "outputs": [],
   "source": [
    "img_size=64\n",
    "dict1={'64':'/global/cfs/cdirs/m3363/vayyar/cosmogan_data/results_from_other_code/pytorch/results/3d/',\n",
    "      '512':'/global/cfs/cdirs/m3363/vayyar/cosmogan_data/results_from_other_code/pytorch/results/512sq/'}\n"
   ]
  },
  {
   "cell_type": "markdown",
   "metadata": {},
   "source": [
    "### Read validation data and compute metrics"
   ]
  },
  {
   "cell_type": "code",
   "execution_count": 41,
   "metadata": {},
   "outputs": [],
   "source": [
    "# Get location for validation data\n",
    "raw_data_dir='/global/cfs/cdirs/m3363/vayyar/cosmogan_data/raw_data/'\n",
    "input_files_dict={'64':raw_data_dir+'3d_data/dataset1_smoothing_const_params_64cube_100k/val.npy'}"
   ]
  },
  {
   "cell_type": "code",
   "execution_count": 42,
   "metadata": {},
   "outputs": [
    {
     "name": "stdout",
     "output_type": "stream",
     "text": [
      "(1000, 64, 64, 64)\n"
     ]
    },
    {
     "name": "stderr",
     "output_type": "stream",
     "text": [
      "/global/u1/v/vpa/project/jpt_notebooks/Cosmology/Cosmo_GAN/repositories/cosmogan_pytorch/code/modules_image_analysis/modules_3d_image_analysis.py:62: VisibleDeprecationWarning: Creating an ndarray from ragged nested sequences (which is a list-or-tuple of lists-or-tuples-or ndarrays with different lengths or shapes) is deprecated. If you meant to do this, you must specify 'dtype=object' when creating the ndarray\n",
      "  hist_arr=np.array([np.histogram(arr.flatten(), bins=bins, range=(llim,ulim), density=norm) for arr in img_arr]) ## range is important\n"
     ]
    }
   ],
   "source": [
    "def f_compute_hist_spect(sample,bins):\n",
    "    ''' Compute pixel intensity histograms and radial spectrum for 2D arrays\n",
    "    Input : Image arrays and bins\n",
    "    Output: dictionary with 5 arrays : Histogram values, errors and bin centers, Spectrum values and errors.\n",
    "    '''\n",
    "    ### Compute pixel histogram for row\n",
    "    gen_hist,gen_err,hist_bins=f_batch_histogram(sample,bins=bins,norm=True,hist_range=None)\n",
    "    ### Compute spectrum for row\n",
    "    spec,spec_sdev=f_plot_spectrum_3d(sample,plot=False)\n",
    "\n",
    "    dict1={'hist_val':gen_hist,'hist_err':gen_err,'hist_bin_centers':hist_bins,'spec_val':spec,'spec_sdev':spec_sdev }\n",
    "    return dict1\n",
    "\n",
    "### Extract validation data\n",
    "num_bkgnd=1000\n",
    "fname=input_files_dict[str(img_size)]\n",
    "s_val=np.load(fname,mmap_mode='r')[:num_bkgnd][:,0,:,:]\n",
    "s_val=f_transform(s_val)\n",
    "print(s_val.shape)\n",
    "\n",
    "bins=np.concatenate([np.array([-0.5]),np.arange(0.5,20.5,1),np.arange(20.5,100.5,5),np.arange(100.5,1000.5,50),np.array([2000])]) #bin edges to use\n",
    "bins=f_transform(bins)   ### scale to (-1,1) \n",
    "### Compute histogram and spectrum of raw data \n",
    "dict_val=f_compute_hist_spect(s_val,bins)\n",
    "\n",
    "# del(s_val)"
   ]
  },
  {
   "cell_type": "markdown",
   "metadata": {},
   "source": [
    "### Read run data"
   ]
  },
  {
   "cell_type": "code",
   "execution_count": 43,
   "metadata": {},
   "outputs": [],
   "source": [
    "# main_dir='/global/cfs/cdirs/m3363/vayyar/cosmogan_data/results_from_other_code/pytorch/results/128sq/'\n",
    "# results_dir=main_dir+'20201002_064327'"
   ]
  },
  {
   "cell_type": "code",
   "execution_count": 44,
   "metadata": {},
   "outputs": [],
   "source": [
    "u=interactive(lambda x: dict1[x], x=Select(options=dict1.keys()))\n",
    "# display(u)"
   ]
  },
  {
   "cell_type": "code",
   "execution_count": 45,
   "metadata": {},
   "outputs": [
    {
     "data": {
      "application/vnd.jupyter.widget-view+json": {
       "model_id": "88672283c8e94066bb61ebbdec197835",
       "version_major": 2,
       "version_minor": 0
      },
      "text/plain": [
       "interactive(children=(Dropdown(description='x', options=('20210210_060657_3d_l0.5_80k', '20210311_220908_3d_l2…"
      ]
     },
     "metadata": {},
     "output_type": "display_data"
    }
   ],
   "source": [
    "# parent_dir=u.result\n",
    "parent_dir=dict1[str(img_size)]\n",
    "\n",
    "dir_lst=[i.split('/')[-1] for i in glob.glob(parent_dir+'20*')]\n",
    "w=interactive(lambda x: x, x=Dropdown(options=dir_lst))\n",
    "display(w)"
   ]
  },
  {
   "cell_type": "code",
   "execution_count": 46,
   "metadata": {},
   "outputs": [
    {
     "name": "stdout",
     "output_type": "stream",
     "text": [
      "/global/cfs/cdirs/m3363/vayyar/cosmogan_data/results_from_other_code/pytorch/results/3d/20210311_220908_3d_l2.0_80k\n"
     ]
    }
   ],
   "source": [
    "result=w.result\n",
    "result_dir=parent_dir+result\n",
    "print(result_dir)"
   ]
  },
  {
   "cell_type": "markdown",
   "metadata": {},
   "source": [
    "## Plot Losses"
   ]
  },
  {
   "cell_type": "code",
   "execution_count": 47,
   "metadata": {},
   "outputs": [],
   "source": [
    "df_metrics=pd.read_pickle(result_dir+'/df_metrics.pkle').astype(np.float64)\n"
   ]
  },
  {
   "cell_type": "code",
   "execution_count": 48,
   "metadata": {},
   "outputs": [
    {
     "data": {
      "text/html": [
       "<div>\n",
       "<style scoped>\n",
       "    .dataframe tbody tr th:only-of-type {\n",
       "        vertical-align: middle;\n",
       "    }\n",
       "\n",
       "    .dataframe tbody tr th {\n",
       "        vertical-align: top;\n",
       "    }\n",
       "\n",
       "    .dataframe thead th {\n",
       "        text-align: right;\n",
       "    }\n",
       "</style>\n",
       "<table border=\"1\" class=\"dataframe\">\n",
       "  <thead>\n",
       "    <tr style=\"text-align: right;\">\n",
       "      <th></th>\n",
       "      <th>step</th>\n",
       "      <th>epoch</th>\n",
       "      <th>Dreal</th>\n",
       "      <th>Dfake</th>\n",
       "      <th>Dfull</th>\n",
       "      <th>G_adv</th>\n",
       "      <th>G_full</th>\n",
       "      <th>spec_loss</th>\n",
       "      <th>hist_loss</th>\n",
       "      <th>spec_chi</th>\n",
       "      <th>hist_chi</th>\n",
       "      <th>D(x)</th>\n",
       "      <th>D_G_z1</th>\n",
       "      <th>D_G_z2</th>\n",
       "      <th>time</th>\n",
       "    </tr>\n",
       "  </thead>\n",
       "  <tbody>\n",
       "    <tr>\n",
       "      <th>62491</th>\n",
       "      <td>62491.0</td>\n",
       "      <td>49.0</td>\n",
       "      <td>0.112131</td>\n",
       "      <td>0.077998</td>\n",
       "      <td>0.190129</td>\n",
       "      <td>4.283657</td>\n",
       "      <td>226.869156</td>\n",
       "      <td>222.585495</td>\n",
       "      <td>0.378222</td>\n",
       "      <td>225.409302</td>\n",
       "      <td>0.370602</td>\n",
       "      <td>4.181647</td>\n",
       "      <td>-4.555226</td>\n",
       "      <td>-4.267335</td>\n",
       "      <td>0.190408</td>\n",
       "    </tr>\n",
       "    <tr>\n",
       "      <th>62492</th>\n",
       "      <td>62492.0</td>\n",
       "      <td>49.0</td>\n",
       "      <td>0.091194</td>\n",
       "      <td>0.089938</td>\n",
       "      <td>0.181132</td>\n",
       "      <td>4.367055</td>\n",
       "      <td>226.906998</td>\n",
       "      <td>222.539948</td>\n",
       "      <td>0.385244</td>\n",
       "      <td>219.091736</td>\n",
       "      <td>0.392266</td>\n",
       "      <td>4.578687</td>\n",
       "      <td>-4.102508</td>\n",
       "      <td>-4.351802</td>\n",
       "      <td>0.191964</td>\n",
       "    </tr>\n",
       "    <tr>\n",
       "      <th>62493</th>\n",
       "      <td>62493.0</td>\n",
       "      <td>49.0</td>\n",
       "      <td>0.063526</td>\n",
       "      <td>0.089113</td>\n",
       "      <td>0.152639</td>\n",
       "      <td>4.028605</td>\n",
       "      <td>223.831177</td>\n",
       "      <td>219.802567</td>\n",
       "      <td>0.390138</td>\n",
       "      <td>225.484558</td>\n",
       "      <td>0.277420</td>\n",
       "      <td>3.899368</td>\n",
       "      <td>-4.294887</td>\n",
       "      <td>-4.006543</td>\n",
       "      <td>0.189273</td>\n",
       "    </tr>\n",
       "    <tr>\n",
       "      <th>62494</th>\n",
       "      <td>62494.0</td>\n",
       "      <td>49.0</td>\n",
       "      <td>0.074216</td>\n",
       "      <td>0.079146</td>\n",
       "      <td>0.153363</td>\n",
       "      <td>4.552916</td>\n",
       "      <td>222.508301</td>\n",
       "      <td>217.955383</td>\n",
       "      <td>0.391574</td>\n",
       "      <td>221.558868</td>\n",
       "      <td>0.329833</td>\n",
       "      <td>4.672067</td>\n",
       "      <td>-3.920259</td>\n",
       "      <td>-4.540556</td>\n",
       "      <td>0.189970</td>\n",
       "    </tr>\n",
       "    <tr>\n",
       "      <th>62495</th>\n",
       "      <td>62495.0</td>\n",
       "      <td>49.0</td>\n",
       "      <td>0.091820</td>\n",
       "      <td>0.085893</td>\n",
       "      <td>0.177712</td>\n",
       "      <td>4.611991</td>\n",
       "      <td>223.821060</td>\n",
       "      <td>219.209076</td>\n",
       "      <td>0.405940</td>\n",
       "      <td>221.537476</td>\n",
       "      <td>0.364237</td>\n",
       "      <td>4.104641</td>\n",
       "      <td>-4.455357</td>\n",
       "      <td>-4.600916</td>\n",
       "      <td>0.190160</td>\n",
       "    </tr>\n",
       "    <tr>\n",
       "      <th>62496</th>\n",
       "      <td>62496.0</td>\n",
       "      <td>49.0</td>\n",
       "      <td>0.086344</td>\n",
       "      <td>0.076625</td>\n",
       "      <td>0.162969</td>\n",
       "      <td>3.961782</td>\n",
       "      <td>217.127487</td>\n",
       "      <td>213.165710</td>\n",
       "      <td>0.399375</td>\n",
       "      <td>210.889450</td>\n",
       "      <td>0.400751</td>\n",
       "      <td>4.036057</td>\n",
       "      <td>-4.288622</td>\n",
       "      <td>-3.939212</td>\n",
       "      <td>0.192068</td>\n",
       "    </tr>\n",
       "    <tr>\n",
       "      <th>62497</th>\n",
       "      <td>62497.0</td>\n",
       "      <td>49.0</td>\n",
       "      <td>0.059425</td>\n",
       "      <td>0.085264</td>\n",
       "      <td>0.144689</td>\n",
       "      <td>4.061931</td>\n",
       "      <td>213.600418</td>\n",
       "      <td>209.538483</td>\n",
       "      <td>0.398171</td>\n",
       "      <td>221.424774</td>\n",
       "      <td>0.280305</td>\n",
       "      <td>4.589590</td>\n",
       "      <td>-3.898282</td>\n",
       "      <td>-4.040435</td>\n",
       "      <td>0.190343</td>\n",
       "    </tr>\n",
       "    <tr>\n",
       "      <th>62498</th>\n",
       "      <td>62498.0</td>\n",
       "      <td>49.0</td>\n",
       "      <td>0.086120</td>\n",
       "      <td>0.087542</td>\n",
       "      <td>0.173662</td>\n",
       "      <td>4.358519</td>\n",
       "      <td>213.136383</td>\n",
       "      <td>208.777863</td>\n",
       "      <td>0.414464</td>\n",
       "      <td>222.193466</td>\n",
       "      <td>0.273463</td>\n",
       "      <td>4.409338</td>\n",
       "      <td>-4.087823</td>\n",
       "      <td>-4.342693</td>\n",
       "      <td>0.190605</td>\n",
       "    </tr>\n",
       "    <tr>\n",
       "      <th>62499</th>\n",
       "      <td>62499.0</td>\n",
       "      <td>49.0</td>\n",
       "      <td>0.074837</td>\n",
       "      <td>0.086497</td>\n",
       "      <td>0.161334</td>\n",
       "      <td>4.595214</td>\n",
       "      <td>209.996490</td>\n",
       "      <td>205.401276</td>\n",
       "      <td>0.413269</td>\n",
       "      <td>209.537811</td>\n",
       "      <td>0.506739</td>\n",
       "      <td>4.522312</td>\n",
       "      <td>-4.057528</td>\n",
       "      <td>-4.581629</td>\n",
       "      <td>0.189788</td>\n",
       "    </tr>\n",
       "    <tr>\n",
       "      <th>62500</th>\n",
       "      <td>NaN</td>\n",
       "      <td>NaN</td>\n",
       "      <td>NaN</td>\n",
       "      <td>NaN</td>\n",
       "      <td>NaN</td>\n",
       "      <td>NaN</td>\n",
       "      <td>NaN</td>\n",
       "      <td>NaN</td>\n",
       "      <td>NaN</td>\n",
       "      <td>221.137634</td>\n",
       "      <td>0.324829</td>\n",
       "      <td>NaN</td>\n",
       "      <td>NaN</td>\n",
       "      <td>NaN</td>\n",
       "      <td>NaN</td>\n",
       "    </tr>\n",
       "  </tbody>\n",
       "</table>\n",
       "</div>"
      ],
      "text/plain": [
       "          step  epoch     Dreal     Dfake     Dfull     G_adv      G_full  \\\n",
       "62491  62491.0   49.0  0.112131  0.077998  0.190129  4.283657  226.869156   \n",
       "62492  62492.0   49.0  0.091194  0.089938  0.181132  4.367055  226.906998   \n",
       "62493  62493.0   49.0  0.063526  0.089113  0.152639  4.028605  223.831177   \n",
       "62494  62494.0   49.0  0.074216  0.079146  0.153363  4.552916  222.508301   \n",
       "62495  62495.0   49.0  0.091820  0.085893  0.177712  4.611991  223.821060   \n",
       "62496  62496.0   49.0  0.086344  0.076625  0.162969  3.961782  217.127487   \n",
       "62497  62497.0   49.0  0.059425  0.085264  0.144689  4.061931  213.600418   \n",
       "62498  62498.0   49.0  0.086120  0.087542  0.173662  4.358519  213.136383   \n",
       "62499  62499.0   49.0  0.074837  0.086497  0.161334  4.595214  209.996490   \n",
       "62500      NaN    NaN       NaN       NaN       NaN       NaN         NaN   \n",
       "\n",
       "        spec_loss  hist_loss    spec_chi  hist_chi      D(x)    D_G_z1  \\\n",
       "62491  222.585495   0.378222  225.409302  0.370602  4.181647 -4.555226   \n",
       "62492  222.539948   0.385244  219.091736  0.392266  4.578687 -4.102508   \n",
       "62493  219.802567   0.390138  225.484558  0.277420  3.899368 -4.294887   \n",
       "62494  217.955383   0.391574  221.558868  0.329833  4.672067 -3.920259   \n",
       "62495  219.209076   0.405940  221.537476  0.364237  4.104641 -4.455357   \n",
       "62496  213.165710   0.399375  210.889450  0.400751  4.036057 -4.288622   \n",
       "62497  209.538483   0.398171  221.424774  0.280305  4.589590 -3.898282   \n",
       "62498  208.777863   0.414464  222.193466  0.273463  4.409338 -4.087823   \n",
       "62499  205.401276   0.413269  209.537811  0.506739  4.522312 -4.057528   \n",
       "62500         NaN        NaN  221.137634  0.324829       NaN       NaN   \n",
       "\n",
       "         D_G_z2      time  \n",
       "62491 -4.267335  0.190408  \n",
       "62492 -4.351802  0.191964  \n",
       "62493 -4.006543  0.189273  \n",
       "62494 -4.540556  0.189970  \n",
       "62495 -4.600916  0.190160  \n",
       "62496 -3.939212  0.192068  \n",
       "62497 -4.040435  0.190343  \n",
       "62498 -4.342693  0.190605  \n",
       "62499 -4.581629  0.189788  \n",
       "62500       NaN       NaN  "
      ]
     },
     "execution_count": 48,
     "metadata": {},
     "output_type": "execute_result"
    }
   ],
   "source": [
    "df_metrics.tail(10)"
   ]
  },
  {
   "cell_type": "code",
   "execution_count": 49,
   "metadata": {},
   "outputs": [
    {
     "data": {
      "application/vnd.jupyter.widget-view+json": {
       "model_id": "272a5e0363b341f0844574d9d1a3f394",
       "version_major": 2,
       "version_minor": 0
      },
      "text/plain": [
       "interactive(children=(SelectMultiple(description='col_list', options=('step', 'epoch', 'Dreal', 'Dfake', 'Dful…"
      ]
     },
     "metadata": {},
     "output_type": "display_data"
    },
    {
     "data": {
      "text/plain": [
       "<function __main__.f_plot_metrics(df, col_list)>"
      ]
     },
     "execution_count": 49,
     "metadata": {},
     "output_type": "execute_result"
    }
   ],
   "source": [
    "def f_plot_metrics(df,col_list):\n",
    "    \n",
    "    plt.figure()\n",
    "    for key in col_list:\n",
    "        plt.plot(df_metrics[key],label=key,marker='*',linestyle='')\n",
    "    plt.legend()\n",
    "    \n",
    "#     col_list=list(col_list)\n",
    "#     df.plot(kind='line',x='step',y=col_list)\n",
    "    \n",
    "# f_plot_metrics(df_metrics,['spec_chi','hist_chi'])\n",
    "\n",
    "interact_manual(f_plot_metrics,df=fixed(df_metrics), col_list=SelectMultiple(options=df_metrics.columns.values))"
   ]
  },
  {
   "cell_type": "code",
   "execution_count": 51,
   "metadata": {},
   "outputs": [
    {
     "name": "stdout",
     "output_type": "stream",
     "text": [
      "-1.332976171374321\n"
     ]
    },
    {
     "data": {
      "text/html": [
       "<div>\n",
       "<style scoped>\n",
       "    .dataframe tbody tr th:only-of-type {\n",
       "        vertical-align: middle;\n",
       "    }\n",
       "\n",
       "    .dataframe tbody tr th {\n",
       "        vertical-align: top;\n",
       "    }\n",
       "\n",
       "    .dataframe thead th {\n",
       "        text-align: right;\n",
       "    }\n",
       "</style>\n",
       "<table border=\"1\" class=\"dataframe\">\n",
       "  <thead>\n",
       "    <tr style=\"text-align: right;\">\n",
       "      <th></th>\n",
       "      <th>step</th>\n",
       "      <th>epoch</th>\n",
       "      <th>Dreal</th>\n",
       "      <th>Dfake</th>\n",
       "      <th>Dfull</th>\n",
       "      <th>G_adv</th>\n",
       "      <th>G_full</th>\n",
       "      <th>spec_loss</th>\n",
       "      <th>hist_loss</th>\n",
       "      <th>spec_chi</th>\n",
       "      <th>hist_chi</th>\n",
       "      <th>D(x)</th>\n",
       "      <th>D_G_z1</th>\n",
       "      <th>D_G_z2</th>\n",
       "      <th>time</th>\n",
       "    </tr>\n",
       "  </thead>\n",
       "  <tbody>\n",
       "    <tr>\n",
       "      <th>54872</th>\n",
       "      <td>54872.0</td>\n",
       "      <td>43.0</td>\n",
       "      <td>0.079652</td>\n",
       "      <td>0.077565</td>\n",
       "      <td>0.157217</td>\n",
       "      <td>4.341658</td>\n",
       "      <td>208.962555</td>\n",
       "      <td>204.620895</td>\n",
       "      <td>-1.754332</td>\n",
       "      <td>212.301270</td>\n",
       "      <td>-2.123898</td>\n",
       "      <td>4.382071</td>\n",
       "      <td>-4.399003</td>\n",
       "      <td>-4.324642</td>\n",
       "      <td>0.190272</td>\n",
       "    </tr>\n",
       "    <tr>\n",
       "      <th>54919</th>\n",
       "      <td>54919.0</td>\n",
       "      <td>43.0</td>\n",
       "      <td>0.075624</td>\n",
       "      <td>0.084198</td>\n",
       "      <td>0.159822</td>\n",
       "      <td>4.183222</td>\n",
       "      <td>213.552277</td>\n",
       "      <td>209.369049</td>\n",
       "      <td>-1.636441</td>\n",
       "      <td>219.086243</td>\n",
       "      <td>-2.004941</td>\n",
       "      <td>3.964883</td>\n",
       "      <td>-4.178384</td>\n",
       "      <td>-4.164412</td>\n",
       "      <td>0.189841</td>\n",
       "    </tr>\n",
       "    <tr>\n",
       "      <th>54889</th>\n",
       "      <td>54889.0</td>\n",
       "      <td>43.0</td>\n",
       "      <td>0.077088</td>\n",
       "      <td>0.101815</td>\n",
       "      <td>0.178903</td>\n",
       "      <td>4.496165</td>\n",
       "      <td>220.830917</td>\n",
       "      <td>216.334747</td>\n",
       "      <td>-1.700051</td>\n",
       "      <td>218.792328</td>\n",
       "      <td>-2.003126</td>\n",
       "      <td>4.153600</td>\n",
       "      <td>-4.788580</td>\n",
       "      <td>-4.480187</td>\n",
       "      <td>0.188564</td>\n",
       "    </tr>\n",
       "    <tr>\n",
       "      <th>54885</th>\n",
       "      <td>54885.0</td>\n",
       "      <td>43.0</td>\n",
       "      <td>0.080205</td>\n",
       "      <td>0.068288</td>\n",
       "      <td>0.148494</td>\n",
       "      <td>4.412082</td>\n",
       "      <td>219.114166</td>\n",
       "      <td>214.702087</td>\n",
       "      <td>-1.743845</td>\n",
       "      <td>220.596313</td>\n",
       "      <td>-1.994608</td>\n",
       "      <td>4.150422</td>\n",
       "      <td>-4.255334</td>\n",
       "      <td>-4.387028</td>\n",
       "      <td>0.188304</td>\n",
       "    </tr>\n",
       "    <tr>\n",
       "      <th>54828</th>\n",
       "      <td>54828.0</td>\n",
       "      <td>43.0</td>\n",
       "      <td>0.084582</td>\n",
       "      <td>0.113790</td>\n",
       "      <td>0.198371</td>\n",
       "      <td>4.683680</td>\n",
       "      <td>218.629974</td>\n",
       "      <td>213.946289</td>\n",
       "      <td>-1.691278</td>\n",
       "      <td>218.214600</td>\n",
       "      <td>-1.978142</td>\n",
       "      <td>4.217686</td>\n",
       "      <td>-3.918374</td>\n",
       "      <td>-4.671239</td>\n",
       "      <td>0.189627</td>\n",
       "    </tr>\n",
       "    <tr>\n",
       "      <th>54869</th>\n",
       "      <td>54869.0</td>\n",
       "      <td>43.0</td>\n",
       "      <td>0.077628</td>\n",
       "      <td>0.082965</td>\n",
       "      <td>0.160592</td>\n",
       "      <td>4.374589</td>\n",
       "      <td>206.724731</td>\n",
       "      <td>202.350143</td>\n",
       "      <td>-1.703115</td>\n",
       "      <td>211.808746</td>\n",
       "      <td>-1.966232</td>\n",
       "      <td>4.002794</td>\n",
       "      <td>-4.365841</td>\n",
       "      <td>-4.357726</td>\n",
       "      <td>0.189059</td>\n",
       "    </tr>\n",
       "    <tr>\n",
       "      <th>54811</th>\n",
       "      <td>54811.0</td>\n",
       "      <td>43.0</td>\n",
       "      <td>0.075811</td>\n",
       "      <td>0.078732</td>\n",
       "      <td>0.154543</td>\n",
       "      <td>4.255822</td>\n",
       "      <td>209.334183</td>\n",
       "      <td>205.078354</td>\n",
       "      <td>-1.679540</td>\n",
       "      <td>216.611542</td>\n",
       "      <td>-1.933363</td>\n",
       "      <td>4.229746</td>\n",
       "      <td>-4.276711</td>\n",
       "      <td>-4.238374</td>\n",
       "      <td>0.171903</td>\n",
       "    </tr>\n",
       "    <tr>\n",
       "      <th>54788</th>\n",
       "      <td>54788.0</td>\n",
       "      <td>43.0</td>\n",
       "      <td>0.079004</td>\n",
       "      <td>0.080888</td>\n",
       "      <td>0.159891</td>\n",
       "      <td>4.069126</td>\n",
       "      <td>217.729187</td>\n",
       "      <td>213.660065</td>\n",
       "      <td>-1.589655</td>\n",
       "      <td>215.980469</td>\n",
       "      <td>-1.855184</td>\n",
       "      <td>4.218714</td>\n",
       "      <td>-4.534085</td>\n",
       "      <td>-4.049099</td>\n",
       "      <td>0.189996</td>\n",
       "    </tr>\n",
       "    <tr>\n",
       "      <th>54829</th>\n",
       "      <td>54829.0</td>\n",
       "      <td>43.0</td>\n",
       "      <td>0.087437</td>\n",
       "      <td>0.094818</td>\n",
       "      <td>0.182255</td>\n",
       "      <td>4.321435</td>\n",
       "      <td>219.135010</td>\n",
       "      <td>214.813568</td>\n",
       "      <td>-1.721216</td>\n",
       "      <td>215.602921</td>\n",
       "      <td>-1.842604</td>\n",
       "      <td>3.736684</td>\n",
       "      <td>-4.751811</td>\n",
       "      <td>-4.304852</td>\n",
       "      <td>0.189781</td>\n",
       "    </tr>\n",
       "    <tr>\n",
       "      <th>54824</th>\n",
       "      <td>54824.0</td>\n",
       "      <td>43.0</td>\n",
       "      <td>0.085153</td>\n",
       "      <td>0.065381</td>\n",
       "      <td>0.150534</td>\n",
       "      <td>4.433248</td>\n",
       "      <td>211.225052</td>\n",
       "      <td>206.791809</td>\n",
       "      <td>-1.634127</td>\n",
       "      <td>207.242218</td>\n",
       "      <td>-1.841183</td>\n",
       "      <td>4.814750</td>\n",
       "      <td>-3.935315</td>\n",
       "      <td>-4.418153</td>\n",
       "      <td>0.189512</td>\n",
       "    </tr>\n",
       "  </tbody>\n",
       "</table>\n",
       "</div>"
      ],
      "text/plain": [
       "          step  epoch     Dreal     Dfake     Dfull     G_adv      G_full  \\\n",
       "54872  54872.0   43.0  0.079652  0.077565  0.157217  4.341658  208.962555   \n",
       "54919  54919.0   43.0  0.075624  0.084198  0.159822  4.183222  213.552277   \n",
       "54889  54889.0   43.0  0.077088  0.101815  0.178903  4.496165  220.830917   \n",
       "54885  54885.0   43.0  0.080205  0.068288  0.148494  4.412082  219.114166   \n",
       "54828  54828.0   43.0  0.084582  0.113790  0.198371  4.683680  218.629974   \n",
       "54869  54869.0   43.0  0.077628  0.082965  0.160592  4.374589  206.724731   \n",
       "54811  54811.0   43.0  0.075811  0.078732  0.154543  4.255822  209.334183   \n",
       "54788  54788.0   43.0  0.079004  0.080888  0.159891  4.069126  217.729187   \n",
       "54829  54829.0   43.0  0.087437  0.094818  0.182255  4.321435  219.135010   \n",
       "54824  54824.0   43.0  0.085153  0.065381  0.150534  4.433248  211.225052   \n",
       "\n",
       "        spec_loss  hist_loss    spec_chi  hist_chi      D(x)    D_G_z1  \\\n",
       "54872  204.620895  -1.754332  212.301270 -2.123898  4.382071 -4.399003   \n",
       "54919  209.369049  -1.636441  219.086243 -2.004941  3.964883 -4.178384   \n",
       "54889  216.334747  -1.700051  218.792328 -2.003126  4.153600 -4.788580   \n",
       "54885  214.702087  -1.743845  220.596313 -1.994608  4.150422 -4.255334   \n",
       "54828  213.946289  -1.691278  218.214600 -1.978142  4.217686 -3.918374   \n",
       "54869  202.350143  -1.703115  211.808746 -1.966232  4.002794 -4.365841   \n",
       "54811  205.078354  -1.679540  216.611542 -1.933363  4.229746 -4.276711   \n",
       "54788  213.660065  -1.589655  215.980469 -1.855184  4.218714 -4.534085   \n",
       "54829  214.813568  -1.721216  215.602921 -1.842604  3.736684 -4.751811   \n",
       "54824  206.791809  -1.634127  207.242218 -1.841183  4.814750 -3.935315   \n",
       "\n",
       "         D_G_z2      time  \n",
       "54872 -4.324642  0.190272  \n",
       "54919 -4.164412  0.189841  \n",
       "54889 -4.480187  0.188564  \n",
       "54885 -4.387028  0.188304  \n",
       "54828 -4.671239  0.189627  \n",
       "54869 -4.357726  0.189059  \n",
       "54811 -4.238374  0.171903  \n",
       "54788 -4.049099  0.189996  \n",
       "54829 -4.304852  0.189781  \n",
       "54824 -4.418153  0.189512  "
      ]
     },
     "execution_count": 51,
     "metadata": {},
     "output_type": "execute_result"
    }
   ],
   "source": [
    "\n",
    "chi=df_metrics.quantile(q=0.005,axis=0)['hist_chi']\n",
    "print(chi)\n",
    "df_metrics[df_metrics['hist_chi']<=chi].sort_values(by=['hist_chi']).head(10)"
   ]
  },
  {
   "cell_type": "code",
   "execution_count": 52,
   "metadata": {},
   "outputs": [],
   "source": [
    "# display(df_metrics.sort_values(by=['hist_chi']).head(8))\n",
    "# display(df_metrics.sort_values(by=['spec_chi']).head(8))"
   ]
  },
  {
   "cell_type": "markdown",
   "metadata": {},
   "source": [
    "## Read stored chi-squares for images"
   ]
  },
  {
   "cell_type": "code",
   "execution_count": 53,
   "metadata": {},
   "outputs": [],
   "source": [
    "df=pd.read_pickle(result_dir+'/df_processed.pkle')\n",
    "df[['epoch','step']]=df[['epoch','step']].astype(int)\n",
    "df['label']=df.epoch.astype(str)+'-'+df.step.astype(str) # Add label column for plotting\n",
    "\n",
    "col_list=['label','chi_1','chi_spec1', 'chi_spec3', 'chi_1a', 'chi_1b', 'chi_1c', 'chi_2','chi_imgvar', 'chi_spec2','epoch','step']\n"
   ]
  },
  {
   "cell_type": "code",
   "execution_count": 54,
   "metadata": {},
   "outputs": [],
   "source": [
    "def f_slice_df(df,cutoff=0.2,sort_col='chi_1',col_mode='all',head=10,epoch_range=[0,None],display_flag=False):\n",
    "    ''' View dataframe after slicing\n",
    "    '''\n",
    "    col_list=['label','chi_1','chi_spec1', 'chi_spec3', 'chi_1a', 'chi_1b', 'chi_1c', 'chi_2','chi_imgvar', 'chi_spec2','epoch','step']\n",
    "    if (col_mode=='short'): col_list=['label','chi_1','chi_spec1']\n",
    "        \n",
    "    print(epoch_range)\n",
    "    if epoch_range[1]==None: epoch_range[1]=df.max()['epoch']\n",
    "    df=df[(df.epoch<=epoch_range[1])&(df.epoch>=epoch_range[0])]\n",
    "\n",
    "    ## Apply cutoff to keep reasonable chi1 and chispec1\n",
    "    best_keys=[ 'chi_1', 'chi_spec1']\n",
    "    q_dict=dict(df.quantile(q=cutoff,axis=0)[best_keys])   \n",
    "    print(q_dict)\n",
    "    df=df.query('chi_1 < {0} & chi_spec1 < {1}'.format(q_dict['chi_1'],q_dict['chi_spec1']))\n",
    "    \n",
    "    # Sort dataframe\n",
    "    df1=df[df.epoch>0].sort_values(by=sort_col)\n",
    "        \n",
    "    df2=df1.head(head)[col_list]\n",
    "\n",
    "    if display_flag:   # Display df\n",
    "        display_cols=['label','chi_1','chi_spec1', 'chi_spec3', 'chi_1a', 'chi_1b', 'chi_1c', 'chi_2','chi_imgvar', 'chi_spec2']\n",
    "        display(df2)\n",
    "    \n",
    "    return df2"
   ]
  },
  {
   "cell_type": "code",
   "execution_count": 55,
   "metadata": {},
   "outputs": [
    {
     "data": {
      "application/vnd.jupyter.widget-view+json": {
       "model_id": "66ad1f0642704632895b40bdcb973ac0",
       "version_major": 2,
       "version_minor": 0
      },
      "text/plain": [
       "interactive(children=(FloatSlider(value=0.2, description='cutoff', max=1.0, step=0.01), Dropdown(description='…"
      ]
     },
     "metadata": {},
     "output_type": "display_data"
    }
   ],
   "source": [
    "w=interactive(f_slice_df,df=fixed(df),\n",
    "cutoff=widgets.FloatSlider(value=0.2, min=0, max=1.0, step=0.01), \n",
    "col_mode=['all','short'], display_flag=widgets.Checkbox(value=False),\n",
    "head=widgets.IntSlider(value=10,min=1,max=20,step=1),\n",
    "epoch_range=widgets.IntRangeSlider(value=[0,np.max(df.epoch.values)],min=0,max=np.max(df.epoch.values),step=1),\n",
    "sort_col=['chi_1','chi_spec1', 'chi_spec3', 'chi_1a', 'chi_1b', 'chi_1c', 'chi_2','chi_imgvar', 'chi_spec2'],\n",
    ")\n",
    "display(w)"
   ]
  },
  {
   "cell_type": "code",
   "execution_count": 56,
   "metadata": {},
   "outputs": [],
   "source": [
    "df_sliced=w.result\n",
    "# df_sliced"
   ]
  },
  {
   "cell_type": "code",
   "execution_count": 57,
   "metadata": {},
   "outputs": [
    {
     "name": "stdout",
     "output_type": "stream",
     "text": [
      "[0, None]\n",
      "{'chi_1': 73.3058411271215, 'chi_spec1': 289.56761356915416}\n",
      "[0, 49]\n",
      "{'chi_1': 50.62032294486212, 'chi_spec1': 194.87936709050285}\n",
      "[0, 49]\n",
      "{'chi_1': 6.381113209493947, 'chi_spec1': 39.98681375138315}\n",
      "[array([56780, 56820, 61520, 61450]), array([52810, 54600]), array([43830, 43920])]\n",
      "[43830 43920 52810 54600 56780 56820 61450 61520]\n"
     ]
    }
   ],
   "source": [
    "best_step=[]\n",
    "df_test=df.copy()\n",
    "# df_test=df[df.epoch>5]\n",
    "best_step.append(f_slice_df(df_test,cutoff=0.9,sort_col='chi_1',head=4,display_flag=False).step.values)\n",
    "best_step.append(f_slice_df(df_test,cutoff=0.8,sort_col='chi_1c',head=2,display_flag=False).step.values)\n",
    "best_step.append(f_slice_df(df_test,cutoff=0.4,sort_col='chi_spec1',head=2,display_flag=False).step.values)\n",
    "print(best_step)\n",
    "best_step=np.unique([i for j in best_step for i in j])\n",
    "print(best_step)"
   ]
  },
  {
   "cell_type": "code",
   "execution_count": 58,
   "metadata": {},
   "outputs": [],
   "source": [
    "# best_step=[58800]\n",
    "# best_step=np.arange(32800,32900,10).astype(int)"
   ]
  },
  {
   "cell_type": "code",
   "execution_count": 59,
   "metadata": {},
   "outputs": [
    {
     "name": "stdout",
     "output_type": "stream",
     "text": [
      "(8, 22)\n",
      "[(35, 43830), (35, 43920), (42, 52810), (43, 54600), (45, 56780), (45, 56820), (49, 61450), (49, 61520)]\n"
     ]
    }
   ],
   "source": [
    "df_best=df[df.step.isin(best_step)]\n",
    "print(df_best.shape)\n",
    "print([(df_best[df_best.step==step].epoch.values[0],df_best[df_best.step==step].step.values[0]) for step in best_step])\n",
    "# print([(df_best.loc[idx].epoch,df_best.loc[idx].step) for idx in best_idx])"
   ]
  },
  {
   "cell_type": "code",
   "execution_count": 60,
   "metadata": {},
   "outputs": [
    {
     "data": {
      "text/html": [
       "<div>\n",
       "<style scoped>\n",
       "    .dataframe tbody tr th:only-of-type {\n",
       "        vertical-align: middle;\n",
       "    }\n",
       "\n",
       "    .dataframe tbody tr th {\n",
       "        vertical-align: top;\n",
       "    }\n",
       "\n",
       "    .dataframe thead th {\n",
       "        text-align: right;\n",
       "    }\n",
       "</style>\n",
       "<table border=\"1\" class=\"dataframe\">\n",
       "  <thead>\n",
       "    <tr style=\"text-align: right;\">\n",
       "      <th></th>\n",
       "      <th>label</th>\n",
       "      <th>chi_1</th>\n",
       "      <th>chi_spec1</th>\n",
       "      <th>chi_spec3</th>\n",
       "      <th>chi_1a</th>\n",
       "      <th>chi_1b</th>\n",
       "      <th>chi_1c</th>\n",
       "      <th>chi_2</th>\n",
       "      <th>chi_imgvar</th>\n",
       "      <th>chi_spec2</th>\n",
       "      <th>epoch</th>\n",
       "      <th>step</th>\n",
       "    </tr>\n",
       "  </thead>\n",
       "  <tbody>\n",
       "    <tr>\n",
       "      <th>4382</th>\n",
       "      <td>35-43830</td>\n",
       "      <td>5.613139</td>\n",
       "      <td>11.796253</td>\n",
       "      <td>50.416891</td>\n",
       "      <td>5.571642</td>\n",
       "      <td>0.037761</td>\n",
       "      <td>0.003737</td>\n",
       "      <td>1.602585</td>\n",
       "      <td>13.438286</td>\n",
       "      <td>2298.336980</td>\n",
       "      <td>35</td>\n",
       "      <td>43830</td>\n",
       "    </tr>\n",
       "    <tr>\n",
       "      <th>4391</th>\n",
       "      <td>35-43920</td>\n",
       "      <td>5.276534</td>\n",
       "      <td>11.885599</td>\n",
       "      <td>50.184576</td>\n",
       "      <td>5.234184</td>\n",
       "      <td>0.038613</td>\n",
       "      <td>0.003737</td>\n",
       "      <td>1.598682</td>\n",
       "      <td>13.471306</td>\n",
       "      <td>2832.150388</td>\n",
       "      <td>35</td>\n",
       "      <td>43920</td>\n",
       "    </tr>\n",
       "    <tr>\n",
       "      <th>5280</th>\n",
       "      <td>42-52810</td>\n",
       "      <td>0.140615</td>\n",
       "      <td>17.771909</td>\n",
       "      <td>50.945039</td>\n",
       "      <td>0.087962</td>\n",
       "      <td>0.052351</td>\n",
       "      <td>0.000302</td>\n",
       "      <td>0.045155</td>\n",
       "      <td>7.271102</td>\n",
       "      <td>1284.771954</td>\n",
       "      <td>42</td>\n",
       "      <td>52810</td>\n",
       "    </tr>\n",
       "    <tr>\n",
       "      <th>5459</th>\n",
       "      <td>43-54600</td>\n",
       "      <td>0.138005</td>\n",
       "      <td>19.457427</td>\n",
       "      <td>51.354407</td>\n",
       "      <td>0.084841</td>\n",
       "      <td>0.052734</td>\n",
       "      <td>0.000430</td>\n",
       "      <td>0.010106</td>\n",
       "      <td>8.258631</td>\n",
       "      <td>2520.099467</td>\n",
       "      <td>43</td>\n",
       "      <td>54600</td>\n",
       "    </tr>\n",
       "    <tr>\n",
       "      <th>5677</th>\n",
       "      <td>45-56780</td>\n",
       "      <td>0.088949</td>\n",
       "      <td>15.843976</td>\n",
       "      <td>47.770792</td>\n",
       "      <td>0.035877</td>\n",
       "      <td>0.050460</td>\n",
       "      <td>0.002611</td>\n",
       "      <td>0.010794</td>\n",
       "      <td>9.841656</td>\n",
       "      <td>1058.310268</td>\n",
       "      <td>45</td>\n",
       "      <td>56780</td>\n",
       "    </tr>\n",
       "    <tr>\n",
       "      <th>5681</th>\n",
       "      <td>45-56820</td>\n",
       "      <td>0.097523</td>\n",
       "      <td>15.486176</td>\n",
       "      <td>50.986370</td>\n",
       "      <td>0.041957</td>\n",
       "      <td>0.053795</td>\n",
       "      <td>0.001771</td>\n",
       "      <td>0.018991</td>\n",
       "      <td>8.373916</td>\n",
       "      <td>1127.374221</td>\n",
       "      <td>45</td>\n",
       "      <td>56820</td>\n",
       "    </tr>\n",
       "    <tr>\n",
       "      <th>6144</th>\n",
       "      <td>49-61450</td>\n",
       "      <td>0.100988</td>\n",
       "      <td>16.477455</td>\n",
       "      <td>47.701240</td>\n",
       "      <td>0.072862</td>\n",
       "      <td>0.025841</td>\n",
       "      <td>0.002285</td>\n",
       "      <td>0.025154</td>\n",
       "      <td>9.755442</td>\n",
       "      <td>1416.965217</td>\n",
       "      <td>49</td>\n",
       "      <td>61450</td>\n",
       "    </tr>\n",
       "    <tr>\n",
       "      <th>6151</th>\n",
       "      <td>49-61520</td>\n",
       "      <td>0.099547</td>\n",
       "      <td>16.189588</td>\n",
       "      <td>50.109877</td>\n",
       "      <td>0.071727</td>\n",
       "      <td>0.025778</td>\n",
       "      <td>0.002042</td>\n",
       "      <td>0.035611</td>\n",
       "      <td>7.947900</td>\n",
       "      <td>1601.990934</td>\n",
       "      <td>49</td>\n",
       "      <td>61520</td>\n",
       "    </tr>\n",
       "  </tbody>\n",
       "</table>\n",
       "</div>"
      ],
      "text/plain": [
       "         label     chi_1  chi_spec1  chi_spec3    chi_1a    chi_1b    chi_1c  \\\n",
       "4382  35-43830  5.613139  11.796253  50.416891  5.571642  0.037761  0.003737   \n",
       "4391  35-43920  5.276534  11.885599  50.184576  5.234184  0.038613  0.003737   \n",
       "5280  42-52810  0.140615  17.771909  50.945039  0.087962  0.052351  0.000302   \n",
       "5459  43-54600  0.138005  19.457427  51.354407  0.084841  0.052734  0.000430   \n",
       "5677  45-56780  0.088949  15.843976  47.770792  0.035877  0.050460  0.002611   \n",
       "5681  45-56820  0.097523  15.486176  50.986370  0.041957  0.053795  0.001771   \n",
       "6144  49-61450  0.100988  16.477455  47.701240  0.072862  0.025841  0.002285   \n",
       "6151  49-61520  0.099547  16.189588  50.109877  0.071727  0.025778  0.002042   \n",
       "\n",
       "         chi_2  chi_imgvar    chi_spec2  epoch   step  \n",
       "4382  1.602585   13.438286  2298.336980     35  43830  \n",
       "4391  1.598682   13.471306  2832.150388     35  43920  \n",
       "5280  0.045155    7.271102  1284.771954     42  52810  \n",
       "5459  0.010106    8.258631  2520.099467     43  54600  \n",
       "5677  0.010794    9.841656  1058.310268     45  56780  \n",
       "5681  0.018991    8.373916  1127.374221     45  56820  \n",
       "6144  0.025154    9.755442  1416.965217     49  61450  \n",
       "6151  0.035611    7.947900  1601.990934     49  61520  "
      ]
     },
     "execution_count": 60,
     "metadata": {},
     "output_type": "execute_result"
    }
   ],
   "source": [
    "df_best[col_list]\n"
   ]
  },
  {
   "cell_type": "markdown",
   "metadata": {},
   "source": [
    "### Plots 2: stored data"
   ]
  },
  {
   "cell_type": "code",
   "execution_count": 61,
   "metadata": {
    "jupyter": {
     "source_hidden": true
    }
   },
   "outputs": [],
   "source": [
    "\n",
    "def f_plot_hist_spec(df,dict_bkg,plot_type):\n",
    "\n",
    "    img_size=64\n",
    "    assert plot_type in ['hist','spec','grid','spec_relative','hist_relative'],\"Invalid mode %s\"%(plot_type)\n",
    "\n",
    "    if plot_type in ['hist','spec','spec_relative','hist_relative']:     fig=plt.figure(figsize=(6,6))\n",
    "\n",
    "\n",
    "    for (i,row),marker in zip(df.iterrows(),itertools.cycle('>^*sDHPdpx_')):\n",
    "        label=row.label\n",
    "        if plot_type=='hist':\n",
    "            x1=row.hist_bin_centers\n",
    "            y1=row.hist_val\n",
    "            yerr1=row.hist_err\n",
    "            x1=f_invtransform(x1)\n",
    "            \n",
    "            plt.errorbar(x1,y1,yerr1,marker=marker,markersize=5,linestyle='',label=label)\n",
    "        if plot_type=='spec':\n",
    "            \n",
    "            y2=row.spec_val\n",
    "            yerr2=row.spec_sdev/np.sqrt(row.num_imgs)\n",
    "            x2=np.arange(len(y2))\n",
    "            \n",
    "            plt.fill_between(x2, y2 - yerr2, y2 + yerr2, alpha=0.4)\n",
    "            plt.plot(x2, y2, marker=marker, linestyle=':',label=label)\n",
    "            plt.xlim(0,img_size/2)\n",
    "\n",
    "\n",
    "        if plot_type=='spec_relative':\n",
    "            \n",
    "            y2=row.spec_val\n",
    "            yerr2=row.spec_sdev\n",
    "            x2=np.arange(len(y2))\n",
    "            \n",
    "            ### Reference spectrum\n",
    "            y1,yerr1=dict_bkg['spec_val'],dict_bkg['spec_sdev']\n",
    "            y=y2/(1.0*y1)\n",
    "            ## Variance is sum of variance of both variables, since they are uncorrelated\n",
    "            \n",
    "            # delta_r=sqrt(\\delta_c2 ^ 2/ c1^2 + \\delta_c1^2 * c_2^2 / c_1^4)\n",
    "            yerr=(np.abs(y))*np.sqrt((yerr1/y1)**2+(yerr2/y2)**2)/np.sqrt(row['num_imgs'])\n",
    "\n",
    "            plt.fill_between(x2, y - yerr, y + yerr, alpha=0.4)\n",
    "            plt.plot(x2, y, marker=marker, linestyle=':',label=label)            \n",
    "            \n",
    "            \n",
    "        if plot_type=='hist_relative':\n",
    "\n",
    "            x2=row.hist_bin_centers\n",
    "            y2=row.hist_val\n",
    "            yerr2=row.hist_err\n",
    "            x2=f_invtransform(x2)\n",
    "            \n",
    "#             plt.errorbar(x1,y1,yerr1,marker=marker,markersize=5,linestyle='',label=label)\n",
    "            \n",
    "            ### Reference spectrum\n",
    "            y1,yerr1=dict_bkg['hist_val'],dict_bkg['hist_err']\n",
    "\n",
    "            y=y2/(1.0*y1)\n",
    "            ## Variance is sum of variance of both variables, since they are uncorrelated\n",
    "            \n",
    "            # delta_r=sqrt(\\delta_c2 ^ 2/ c1^2 + \\delta_c1^2 * c_2^2 / c_1^4)\n",
    "            yerr=(np.abs(y))*np.sqrt((yerr1/y1)**2+(yerr2/y2)**2)/np.sqrt(row['num_imgs'])\n",
    "\n",
    "            plt.fill_between(x2, y - yerr, y + yerr, alpha=0.4)\n",
    "            plt.plot(x2, y, marker=marker, linestyle=':',label=label)            \n",
    "            plt.xlim(0,img_size/2)\n",
    "            plt.ylim(0,5)\n",
    "            plt.legend()\n",
    "\n",
    "        if plot_type=='grid':\n",
    "            images=np.load(row.fname)[:,:,:,0]\n",
    "            print(images.shape)\n",
    "            f_plot_grid(images[:18],cols=6,fig_size=(10,5))\n",
    "            \n",
    "    ### Plot input data\n",
    "    if plot_type=='hist':\n",
    "        x,y,yerr=dict_bkg['hist_bin_centers'],dict_bkg['hist_val'],dict_bkg['hist_err']\n",
    "        x=f_invtransform(x)\n",
    "        plt.errorbar(x, y,yerr,color='k',linestyle='-',label='bkgnd')   \n",
    "        plt.title('Pixel Intensity Histogram')\n",
    "        plt.xscale('symlog',linthreshx=50)\n",
    "        \n",
    "    if plot_type=='spec':\n",
    "        y,yerr=dict_bkg['spec_val'],dict_bkg['spec_sdev']/np.sqrt(num_bkgnd)\n",
    "        x=np.arange(len(y))\n",
    "        plt.fill_between(x, y - yerr, y + yerr, color='k',alpha=0.8)\n",
    "        plt.xlim(0,img_size/2)\n",
    "        plt.title('Spectrum')\n",
    "        \n",
    "    if plot_type=='spec_relative':\n",
    "        plt.axhline(y=1.0,color='k',linestyle='-.')\n",
    "        plt.xlim(0,img_size/2)\n",
    "        plt.ylim(0.5,2)\n",
    "        plt.legend()\n",
    "        \n",
    "    if plot_type=='hist_relative':\n",
    "        plt.axhline(y=1.0,color='k',linestyle='-.')\n",
    "        \n",
    "    plt.legend(bbox_to_anchor=(0.3, 0.75),ncol=2, fancybox=True, shadow=True,prop={'size':6})\n",
    "    if plot_type in ['hist','spec']:     plt.yscale('log')\n",
    "\n",
    "# f_plot_hist_spec(df_runs,dict_val,'hist')\n",
    "# f_plot_hist_spec(df_runs,dict_val,'spec')\n",
    "# f_plot_hist_spec(df_best,dict_val,'grid')\n"
   ]
  },
  {
   "cell_type": "code",
   "execution_count": 62,
   "metadata": {},
   "outputs": [
    {
     "data": {
      "application/vnd.jupyter.widget-view+json": {
       "model_id": "d04f82766b73442a8b614bcc69d9382c",
       "version_major": 2,
       "version_minor": 0
      },
      "text/plain": [
       "interactive(children=(SelectMultiple(description='labels_list', options=('35-43830', '35-43920', '42-52810', '…"
      ]
     },
     "metadata": {},
     "output_type": "display_data"
    },
    {
     "data": {
      "text/plain": [
       "<function __main__.f_widget_compare(df, labels_list, bkgnd, plot_type)>"
      ]
     },
     "execution_count": 62,
     "metadata": {},
     "output_type": "execute_result"
    }
   ],
   "source": [
    "def f_widget_compare(df,labels_list,bkgnd,plot_type):\n",
    "    df_temp=df[df.label.isin(labels_list)]\n",
    "    f_plot_hist_spec(df_temp,dict_val,plot_type)\n",
    "    \n",
    "interact_manual(f_widget_compare,df=fixed(df_best),\n",
    "                labels_list=SelectMultiple(options=df_best.label.values), \n",
    "                bkgnd=fixed(dict_val),plot_type=ToggleButtons(options=['hist','spec','grid','spec_relative','hist_relative']))"
   ]
  },
  {
   "cell_type": "markdown",
   "metadata": {},
   "source": [
    "## Plot images"
   ]
  },
  {
   "cell_type": "code",
   "execution_count": null,
   "metadata": {},
   "outputs": [],
   "source": [
    "print(s_val.shape)\n"
   ]
  },
  {
   "cell_type": "code",
   "execution_count": null,
   "metadata": {},
   "outputs": [],
   "source": [
    "fname='/global/cfs/cdirs/m3363/vayyar/cosmogan_data/results_from_other_code/pytorch/results/3d/20210123_050147_3d_l0.5_80k/images/gen_img_epoch-28_step-71620.npy'\n",
    "a1=np.load(fname)"
   ]
  },
  {
   "cell_type": "code",
   "execution_count": null,
   "metadata": {},
   "outputs": [],
   "source": [
    "s_val.shape,a1.shape"
   ]
  },
  {
   "cell_type": "code",
   "execution_count": null,
   "metadata": {},
   "outputs": [],
   "source": [
    "f_plot_grid(a1[6:14,:,:,0],cols=4,fig_size=(4,2))"
   ]
  },
  {
   "cell_type": "code",
   "execution_count": null,
   "metadata": {},
   "outputs": [],
   "source": [
    "f_plot_grid(s_val[100:108,:,:,0],cols=4,fig_size=(4,2))"
   ]
  },
  {
   "cell_type": "code",
   "execution_count": null,
   "metadata": {},
   "outputs": [],
   "source": [
    "df_best[col_list]"
   ]
  },
  {
   "cell_type": "code",
   "execution_count": 16,
   "metadata": {},
   "outputs": [],
   "source": [
    "dims = [2,3,4,7]\n",
    "np_x = np.random.uniform(size=dims).astype(np.float32)"
   ]
  },
  {
   "cell_type": "code",
   "execution_count": null,
   "metadata": {},
   "outputs": [],
   "source": []
  },
  {
   "cell_type": "code",
   "execution_count": null,
   "metadata": {},
   "outputs": [],
   "source": []
  }
 ],
 "metadata": {
  "kernelspec": {
   "display_name": "v3",
   "language": "python",
   "name": "v-jpt-3"
  },
  "language_info": {
   "codemirror_mode": {
    "name": "ipython",
    "version": 3
   },
   "file_extension": ".py",
   "mimetype": "text/x-python",
   "name": "python",
   "nbconvert_exporter": "python",
   "pygments_lexer": "ipython3",
   "version": "3.8.6"
  }
 },
 "nbformat": 4,
 "nbformat_minor": 4
}

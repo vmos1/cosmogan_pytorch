{
 "cells": [
  {
   "cell_type": "markdown",
   "metadata": {},
   "source": [
    "# Analyze results for 3D images\n",
    "Jan 21, 2021"
   ]
  },
  {
   "cell_type": "code",
   "execution_count": 1,
   "metadata": {},
   "outputs": [],
   "source": [
    "import     numpy as np\n",
    "import matplotlib.pyplot as plt\n",
    "import pandas as pd\n",
    "\n",
    "import subprocess as sp\n",
    "import sys\n",
    "import os\n",
    "import glob\n",
    "import pickle \n",
    "\n",
    "from matplotlib.colors import LogNorm, PowerNorm, Normalize\n",
    "import seaborn as sns\n",
    "\n",
    "from ipywidgets import *"
   ]
  },
  {
   "cell_type": "code",
   "execution_count": 2,
   "metadata": {},
   "outputs": [],
   "source": [
    "%matplotlib widget"
   ]
  },
  {
   "cell_type": "code",
   "execution_count": 3,
   "metadata": {},
   "outputs": [],
   "source": [
    "sys.path.append('/global/u1/v/vpa/project/jpt_notebooks/Cosmology/Cosmo_GAN/repositories/cosmogan_pytorch/code/modules_image_analysis/')\n",
    "from modules_3d_image_analysis import *\n",
    "\n",
    "# sys.path.append('/global/u1/v/vpa/project/jpt_notebooks/Cosmology/Cosmo_GAN/repositories/cosmogan_pytorch/code/1_basic_GAN/1_main_code/')\n",
    "# import post_analysis_pandas as post"
   ]
  },
  {
   "cell_type": "code",
   "execution_count": 4,
   "metadata": {},
   "outputs": [],
   "source": [
    "### Transformation functions for image pixel values\n",
    "def f_transform(x):\n",
    "    return 2.*x/(x + 4.) - 1.\n",
    "\n",
    "def f_invtransform(s):\n",
    "    return 4.*(1. + s)/(1. - s)\n"
   ]
  },
  {
   "cell_type": "markdown",
   "metadata": {},
   "source": [
    "## Read data"
   ]
  },
  {
   "cell_type": "code",
   "execution_count": 5,
   "metadata": {},
   "outputs": [],
   "source": [
    "img_size=64\n",
    "dict1={'64':'/global/cfs/cdirs/m3363/vayyar/cosmogan_data/results_from_other_code/pytorch/results/3d/',\n",
    "      '512':'/global/cfs/cdirs/m3363/vayyar/cosmogan_data/results_from_other_code/pytorch/results/512sq/'}\n"
   ]
  },
  {
   "cell_type": "markdown",
   "metadata": {},
   "source": [
    "### Read validation data and compute metrics"
   ]
  },
  {
   "cell_type": "code",
   "execution_count": 6,
   "metadata": {},
   "outputs": [],
   "source": [
    "# Get location for validation data\n",
    "raw_data_dir='/global/cfs/cdirs/m3363/vayyar/cosmogan_data/raw_data/'\n",
    "input_files_dict={'64':raw_data_dir+'3d_data/dataset1_smoothing_const_params_64cube_100k/val.npy'}"
   ]
  },
  {
   "cell_type": "code",
   "execution_count": 7,
   "metadata": {},
   "outputs": [
    {
     "name": "stdout",
     "output_type": "stream",
     "text": [
      "(1000, 64, 64, 64)\n"
     ]
    },
    {
     "name": "stderr",
     "output_type": "stream",
     "text": [
      "/global/u1/v/vpa/project/jpt_notebooks/Cosmology/Cosmo_GAN/repositories/cosmogan_pytorch/code/modules_image_analysis/modules_3d_image_analysis.py:62: VisibleDeprecationWarning: Creating an ndarray from ragged nested sequences (which is a list-or-tuple of lists-or-tuples-or ndarrays with different lengths or shapes) is deprecated. If you meant to do this, you must specify 'dtype=object' when creating the ndarray\n",
      "  hist_arr=np.array([np.histogram(arr.flatten(), bins=bins, range=(llim,ulim), density=norm) for arr in img_arr]) ## range is important\n"
     ]
    }
   ],
   "source": [
    "def f_compute_hist_spect(sample,bins):\n",
    "    ''' Compute pixel intensity histograms and radial spectrum for 2D arrays\n",
    "    Input : Image arrays and bins\n",
    "    Output: dictionary with 5 arrays : Histogram values, errors and bin centers, Spectrum values and errors.\n",
    "    '''\n",
    "    ### Compute pixel histogram for row\n",
    "    gen_hist,gen_err,hist_bins=f_batch_histogram(sample,bins=bins,norm=True,hist_range=None)\n",
    "    ### Compute spectrum for row\n",
    "    spec,spec_sdev=f_plot_spectrum_3d(sample,plot=False)\n",
    "\n",
    "    dict1={'hist_val':gen_hist,'hist_err':gen_err,'hist_bin_centers':hist_bins,'spec_val':spec,'spec_sdev':spec_sdev }\n",
    "    return dict1\n",
    "\n",
    "### Extract validation data\n",
    "num_bkgnd=1000\n",
    "fname=input_files_dict[str(img_size)]\n",
    "s_val=np.load(fname,mmap_mode='r')[:num_bkgnd][:,0,:,:]\n",
    "s_val=f_transform(s_val)\n",
    "print(s_val.shape)\n",
    "\n",
    "bins=np.concatenate([np.array([-0.5]),np.arange(0.5,20.5,1),np.arange(20.5,100.5,5),np.arange(100.5,1000.5,50),np.array([2000])]) #bin edges to use\n",
    "bins=f_transform(bins)   ### scale to (-1,1) \n",
    "### Compute histogram and spectrum of raw data \n",
    "dict_val=f_compute_hist_spect(s_val,bins)\n",
    "\n",
    "# del(s_val)"
   ]
  },
  {
   "cell_type": "markdown",
   "metadata": {},
   "source": [
    "### Read run data"
   ]
  },
  {
   "cell_type": "code",
   "execution_count": 8,
   "metadata": {},
   "outputs": [],
   "source": [
    "# main_dir='/global/cfs/cdirs/m3363/vayyar/cosmogan_data/results_from_other_code/pytorch/results/128sq/'\n",
    "# results_dir=main_dir+'20201002_064327'"
   ]
  },
  {
   "cell_type": "code",
   "execution_count": 9,
   "metadata": {},
   "outputs": [],
   "source": [
    "u=interactive(lambda x: dict1[x], x=Select(options=dict1.keys()))\n",
    "# display(u)"
   ]
  },
  {
   "cell_type": "code",
   "execution_count": 10,
   "metadata": {},
   "outputs": [
    {
     "data": {
      "application/vnd.jupyter.widget-view+json": {
       "model_id": "dac2028b8e63418596e2ca6dc774b9ad",
       "version_major": 2,
       "version_minor": 0
      },
      "text/plain": [
       "interactive(children=(Dropdown(description='x', options=('20210405_175036_3d_l2.0_80k', '20210419_122229_train…"
      ]
     },
     "metadata": {},
     "output_type": "display_data"
    }
   ],
   "source": [
    "# parent_dir=u.result\n",
    "parent_dir=dict1[str(img_size)]\n",
    "\n",
    "dir_lst=[i.split('/')[-1] for i in glob.glob(parent_dir+'20*')]\n",
    "w=interactive(lambda x: x, x=Dropdown(options=dir_lst))\n",
    "display(w)"
   ]
  },
  {
   "cell_type": "code",
   "execution_count": 11,
   "metadata": {},
   "outputs": [
    {
     "name": "stdout",
     "output_type": "stream",
     "text": [
      "/global/cfs/cdirs/m3363/vayyar/cosmogan_data/results_from_other_code/pytorch/results/3d/20210419_131248_3dgan\n"
     ]
    }
   ],
   "source": [
    "result=w.result\n",
    "result_dir=parent_dir+result\n",
    "print(result_dir)"
   ]
  },
  {
   "cell_type": "markdown",
   "metadata": {},
   "source": [
    "## Plot Losses"
   ]
  },
  {
   "cell_type": "code",
   "execution_count": 12,
   "metadata": {},
   "outputs": [],
   "source": [
    "df_metrics=pd.read_pickle(result_dir+'/df_metrics.pkle').astype(np.float64)\n"
   ]
  },
  {
   "cell_type": "code",
   "execution_count": 13,
   "metadata": {},
   "outputs": [
    {
     "data": {
      "text/html": [
       "<div>\n",
       "<style scoped>\n",
       "    .dataframe tbody tr th:only-of-type {\n",
       "        vertical-align: middle;\n",
       "    }\n",
       "\n",
       "    .dataframe tbody tr th {\n",
       "        vertical-align: top;\n",
       "    }\n",
       "\n",
       "    .dataframe thead th {\n",
       "        text-align: right;\n",
       "    }\n",
       "</style>\n",
       "<table border=\"1\" class=\"dataframe\">\n",
       "  <thead>\n",
       "    <tr style=\"text-align: right;\">\n",
       "      <th></th>\n",
       "      <th>step</th>\n",
       "      <th>epoch</th>\n",
       "      <th>Dreal</th>\n",
       "      <th>Dfake</th>\n",
       "      <th>Dfull</th>\n",
       "      <th>G_adv</th>\n",
       "      <th>G_full</th>\n",
       "      <th>spec_loss</th>\n",
       "      <th>hist_loss</th>\n",
       "      <th>spec_chi</th>\n",
       "      <th>hist_chi</th>\n",
       "      <th>gp_loss</th>\n",
       "      <th>fm_loss</th>\n",
       "      <th>D(x)</th>\n",
       "      <th>D_G_z1</th>\n",
       "      <th>D_G_z2</th>\n",
       "      <th>time</th>\n",
       "    </tr>\n",
       "  </thead>\n",
       "  <tbody>\n",
       "    <tr>\n",
       "      <th>1591</th>\n",
       "      <td>1591.0</td>\n",
       "      <td>49.0</td>\n",
       "      <td>0.265201</td>\n",
       "      <td>0.294575</td>\n",
       "      <td>0.559776</td>\n",
       "      <td>7.416818</td>\n",
       "      <td>122.432854</td>\n",
       "      <td>115.016037</td>\n",
       "      <td>2.624844</td>\n",
       "      <td>111.482971</td>\n",
       "      <td>2.611461</td>\n",
       "      <td>NaN</td>\n",
       "      <td>NaN</td>\n",
       "      <td>7.625783</td>\n",
       "      <td>-9.095711</td>\n",
       "      <td>-7.415527</td>\n",
       "      <td>0.888047</td>\n",
       "    </tr>\n",
       "    <tr>\n",
       "      <th>1592</th>\n",
       "      <td>1592.0</td>\n",
       "      <td>49.0</td>\n",
       "      <td>0.247113</td>\n",
       "      <td>0.208723</td>\n",
       "      <td>0.455836</td>\n",
       "      <td>4.490647</td>\n",
       "      <td>109.035309</td>\n",
       "      <td>104.544662</td>\n",
       "      <td>2.656614</td>\n",
       "      <td>107.110870</td>\n",
       "      <td>2.608716</td>\n",
       "      <td>NaN</td>\n",
       "      <td>NaN</td>\n",
       "      <td>9.025576</td>\n",
       "      <td>-5.531197</td>\n",
       "      <td>-4.473441</td>\n",
       "      <td>0.901363</td>\n",
       "    </tr>\n",
       "    <tr>\n",
       "      <th>1593</th>\n",
       "      <td>1593.0</td>\n",
       "      <td>49.0</td>\n",
       "      <td>0.270456</td>\n",
       "      <td>0.200112</td>\n",
       "      <td>0.470568</td>\n",
       "      <td>4.583757</td>\n",
       "      <td>114.976151</td>\n",
       "      <td>110.392395</td>\n",
       "      <td>2.717838</td>\n",
       "      <td>110.725128</td>\n",
       "      <td>2.749611</td>\n",
       "      <td>NaN</td>\n",
       "      <td>NaN</td>\n",
       "      <td>9.058159</td>\n",
       "      <td>-3.135375</td>\n",
       "      <td>-4.563468</td>\n",
       "      <td>0.892942</td>\n",
       "    </tr>\n",
       "    <tr>\n",
       "      <th>1594</th>\n",
       "      <td>1594.0</td>\n",
       "      <td>49.0</td>\n",
       "      <td>0.252388</td>\n",
       "      <td>0.312395</td>\n",
       "      <td>0.564782</td>\n",
       "      <td>7.831779</td>\n",
       "      <td>116.955383</td>\n",
       "      <td>109.123604</td>\n",
       "      <td>2.706482</td>\n",
       "      <td>109.857864</td>\n",
       "      <td>2.578518</td>\n",
       "      <td>NaN</td>\n",
       "      <td>NaN</td>\n",
       "      <td>8.195270</td>\n",
       "      <td>-1.428504</td>\n",
       "      <td>-7.831304</td>\n",
       "      <td>0.883533</td>\n",
       "    </tr>\n",
       "    <tr>\n",
       "      <th>1595</th>\n",
       "      <td>1595.0</td>\n",
       "      <td>49.0</td>\n",
       "      <td>0.134758</td>\n",
       "      <td>0.206894</td>\n",
       "      <td>0.341652</td>\n",
       "      <td>8.590085</td>\n",
       "      <td>114.065445</td>\n",
       "      <td>105.475357</td>\n",
       "      <td>2.662630</td>\n",
       "      <td>107.818390</td>\n",
       "      <td>2.464584</td>\n",
       "      <td>NaN</td>\n",
       "      <td>NaN</td>\n",
       "      <td>4.331258</td>\n",
       "      <td>-6.369500</td>\n",
       "      <td>-8.589773</td>\n",
       "      <td>0.899191</td>\n",
       "    </tr>\n",
       "    <tr>\n",
       "      <th>1596</th>\n",
       "      <td>1596.0</td>\n",
       "      <td>49.0</td>\n",
       "      <td>0.263210</td>\n",
       "      <td>0.243114</td>\n",
       "      <td>0.506325</td>\n",
       "      <td>6.839170</td>\n",
       "      <td>113.730247</td>\n",
       "      <td>106.891075</td>\n",
       "      <td>2.677587</td>\n",
       "      <td>108.282028</td>\n",
       "      <td>2.689176</td>\n",
       "      <td>NaN</td>\n",
       "      <td>NaN</td>\n",
       "      <td>2.248441</td>\n",
       "      <td>-7.681521</td>\n",
       "      <td>-6.836674</td>\n",
       "      <td>0.888524</td>\n",
       "    </tr>\n",
       "    <tr>\n",
       "      <th>1597</th>\n",
       "      <td>1597.0</td>\n",
       "      <td>49.0</td>\n",
       "      <td>0.190655</td>\n",
       "      <td>0.189900</td>\n",
       "      <td>0.380555</td>\n",
       "      <td>4.716389</td>\n",
       "      <td>110.401566</td>\n",
       "      <td>105.685181</td>\n",
       "      <td>2.640210</td>\n",
       "      <td>107.292343</td>\n",
       "      <td>2.629696</td>\n",
       "      <td>NaN</td>\n",
       "      <td>NaN</td>\n",
       "      <td>3.337369</td>\n",
       "      <td>-6.134415</td>\n",
       "      <td>-4.698703</td>\n",
       "      <td>0.905796</td>\n",
       "    </tr>\n",
       "    <tr>\n",
       "      <th>1598</th>\n",
       "      <td>1598.0</td>\n",
       "      <td>49.0</td>\n",
       "      <td>0.139409</td>\n",
       "      <td>0.148357</td>\n",
       "      <td>0.287766</td>\n",
       "      <td>3.559382</td>\n",
       "      <td>109.978401</td>\n",
       "      <td>106.419022</td>\n",
       "      <td>2.670332</td>\n",
       "      <td>107.702621</td>\n",
       "      <td>2.683523</td>\n",
       "      <td>NaN</td>\n",
       "      <td>NaN</td>\n",
       "      <td>4.009667</td>\n",
       "      <td>-4.179992</td>\n",
       "      <td>-3.507233</td>\n",
       "      <td>0.889206</td>\n",
       "    </tr>\n",
       "    <tr>\n",
       "      <th>1599</th>\n",
       "      <td>1599.0</td>\n",
       "      <td>49.0</td>\n",
       "      <td>0.157746</td>\n",
       "      <td>0.213751</td>\n",
       "      <td>0.371497</td>\n",
       "      <td>5.510996</td>\n",
       "      <td>115.128716</td>\n",
       "      <td>109.617722</td>\n",
       "      <td>2.704972</td>\n",
       "      <td>110.487755</td>\n",
       "      <td>2.790879</td>\n",
       "      <td>NaN</td>\n",
       "      <td>NaN</td>\n",
       "      <td>5.187134</td>\n",
       "      <td>-2.285548</td>\n",
       "      <td>-5.503902</td>\n",
       "      <td>0.888030</td>\n",
       "    </tr>\n",
       "    <tr>\n",
       "      <th>1600</th>\n",
       "      <td>NaN</td>\n",
       "      <td>NaN</td>\n",
       "      <td>NaN</td>\n",
       "      <td>NaN</td>\n",
       "      <td>NaN</td>\n",
       "      <td>NaN</td>\n",
       "      <td>NaN</td>\n",
       "      <td>NaN</td>\n",
       "      <td>NaN</td>\n",
       "      <td>109.859596</td>\n",
       "      <td>2.638385</td>\n",
       "      <td>NaN</td>\n",
       "      <td>NaN</td>\n",
       "      <td>NaN</td>\n",
       "      <td>NaN</td>\n",
       "      <td>NaN</td>\n",
       "      <td>NaN</td>\n",
       "    </tr>\n",
       "  </tbody>\n",
       "</table>\n",
       "</div>"
      ],
      "text/plain": [
       "        step  epoch     Dreal     Dfake     Dfull     G_adv      G_full  \\\n",
       "1591  1591.0   49.0  0.265201  0.294575  0.559776  7.416818  122.432854   \n",
       "1592  1592.0   49.0  0.247113  0.208723  0.455836  4.490647  109.035309   \n",
       "1593  1593.0   49.0  0.270456  0.200112  0.470568  4.583757  114.976151   \n",
       "1594  1594.0   49.0  0.252388  0.312395  0.564782  7.831779  116.955383   \n",
       "1595  1595.0   49.0  0.134758  0.206894  0.341652  8.590085  114.065445   \n",
       "1596  1596.0   49.0  0.263210  0.243114  0.506325  6.839170  113.730247   \n",
       "1597  1597.0   49.0  0.190655  0.189900  0.380555  4.716389  110.401566   \n",
       "1598  1598.0   49.0  0.139409  0.148357  0.287766  3.559382  109.978401   \n",
       "1599  1599.0   49.0  0.157746  0.213751  0.371497  5.510996  115.128716   \n",
       "1600     NaN    NaN       NaN       NaN       NaN       NaN         NaN   \n",
       "\n",
       "       spec_loss  hist_loss    spec_chi  hist_chi  gp_loss  fm_loss      D(x)  \\\n",
       "1591  115.016037   2.624844  111.482971  2.611461      NaN      NaN  7.625783   \n",
       "1592  104.544662   2.656614  107.110870  2.608716      NaN      NaN  9.025576   \n",
       "1593  110.392395   2.717838  110.725128  2.749611      NaN      NaN  9.058159   \n",
       "1594  109.123604   2.706482  109.857864  2.578518      NaN      NaN  8.195270   \n",
       "1595  105.475357   2.662630  107.818390  2.464584      NaN      NaN  4.331258   \n",
       "1596  106.891075   2.677587  108.282028  2.689176      NaN      NaN  2.248441   \n",
       "1597  105.685181   2.640210  107.292343  2.629696      NaN      NaN  3.337369   \n",
       "1598  106.419022   2.670332  107.702621  2.683523      NaN      NaN  4.009667   \n",
       "1599  109.617722   2.704972  110.487755  2.790879      NaN      NaN  5.187134   \n",
       "1600         NaN        NaN  109.859596  2.638385      NaN      NaN       NaN   \n",
       "\n",
       "        D_G_z1    D_G_z2      time  \n",
       "1591 -9.095711 -7.415527  0.888047  \n",
       "1592 -5.531197 -4.473441  0.901363  \n",
       "1593 -3.135375 -4.563468  0.892942  \n",
       "1594 -1.428504 -7.831304  0.883533  \n",
       "1595 -6.369500 -8.589773  0.899191  \n",
       "1596 -7.681521 -6.836674  0.888524  \n",
       "1597 -6.134415 -4.698703  0.905796  \n",
       "1598 -4.179992 -3.507233  0.889206  \n",
       "1599 -2.285548 -5.503902  0.888030  \n",
       "1600       NaN       NaN       NaN  "
      ]
     },
     "execution_count": 13,
     "metadata": {},
     "output_type": "execute_result"
    }
   ],
   "source": [
    "df_metrics.tail(10)"
   ]
  },
  {
   "cell_type": "code",
   "execution_count": 14,
   "metadata": {},
   "outputs": [
    {
     "data": {
      "application/vnd.jupyter.widget-view+json": {
       "model_id": "873d943329c349259d86bef2d81484d0",
       "version_major": 2,
       "version_minor": 0
      },
      "text/plain": [
       "interactive(children=(SelectMultiple(description='col_list', options=('step', 'epoch', 'Dreal', 'Dfake', 'Dful…"
      ]
     },
     "metadata": {},
     "output_type": "display_data"
    },
    {
     "data": {
      "text/plain": [
       "<function __main__.f_plot_metrics(df, col_list)>"
      ]
     },
     "execution_count": 14,
     "metadata": {},
     "output_type": "execute_result"
    }
   ],
   "source": [
    "def f_plot_metrics(df,col_list):\n",
    "    \n",
    "    plt.figure()\n",
    "    for key in col_list:\n",
    "        plt.plot(df_metrics[key],label=key,marker='*',linestyle='')\n",
    "    plt.legend()\n",
    "    \n",
    "#     col_list=list(col_list)\n",
    "#     df.plot(kind='line',x='step',y=col_list)\n",
    "    \n",
    "# f_plot_metrics(df_metrics,['spec_chi','hist_chi'])\n",
    "\n",
    "interact_manual(f_plot_metrics,df=fixed(df_metrics), col_list=SelectMultiple(options=df_metrics.columns.values))"
   ]
  },
  {
   "cell_type": "code",
   "execution_count": 17,
   "metadata": {},
   "outputs": [
    {
     "name": "stdout",
     "output_type": "stream",
     "text": [
      "-2.2679277002811435\n"
     ]
    },
    {
     "data": {
      "text/html": [
       "<div>\n",
       "<style scoped>\n",
       "    .dataframe tbody tr th:only-of-type {\n",
       "        vertical-align: middle;\n",
       "    }\n",
       "\n",
       "    .dataframe tbody tr th {\n",
       "        vertical-align: top;\n",
       "    }\n",
       "\n",
       "    .dataframe thead th {\n",
       "        text-align: right;\n",
       "    }\n",
       "</style>\n",
       "<table border=\"1\" class=\"dataframe\">\n",
       "  <thead>\n",
       "    <tr style=\"text-align: right;\">\n",
       "      <th></th>\n",
       "      <th>step</th>\n",
       "      <th>epoch</th>\n",
       "      <th>Dreal</th>\n",
       "      <th>Dfake</th>\n",
       "      <th>Dfull</th>\n",
       "      <th>G_adv</th>\n",
       "      <th>G_full</th>\n",
       "      <th>spec_loss</th>\n",
       "      <th>hist_loss</th>\n",
       "      <th>spec_chi</th>\n",
       "      <th>hist_chi</th>\n",
       "      <th>gp_loss</th>\n",
       "      <th>fm_loss</th>\n",
       "      <th>D(x)</th>\n",
       "      <th>D_G_z1</th>\n",
       "      <th>D_G_z2</th>\n",
       "      <th>time</th>\n",
       "    </tr>\n",
       "  </thead>\n",
       "  <tbody>\n",
       "    <tr>\n",
       "      <th>207</th>\n",
       "      <td>207.0</td>\n",
       "      <td>6.0</td>\n",
       "      <td>0.218218</td>\n",
       "      <td>0.162273</td>\n",
       "      <td>0.380491</td>\n",
       "      <td>4.594465</td>\n",
       "      <td>113.186363</td>\n",
       "      <td>108.591896</td>\n",
       "      <td>-2.833032</td>\n",
       "      <td>109.582588</td>\n",
       "      <td>-2.876089</td>\n",
       "      <td>NaN</td>\n",
       "      <td>NaN</td>\n",
       "      <td>4.240169</td>\n",
       "      <td>-4.571784</td>\n",
       "      <td>-4.580982</td>\n",
       "      <td>0.891880</td>\n",
       "    </tr>\n",
       "    <tr>\n",
       "      <th>208</th>\n",
       "      <td>208.0</td>\n",
       "      <td>6.0</td>\n",
       "      <td>0.187813</td>\n",
       "      <td>0.128440</td>\n",
       "      <td>0.316253</td>\n",
       "      <td>3.480589</td>\n",
       "      <td>114.595222</td>\n",
       "      <td>111.114632</td>\n",
       "      <td>-2.842308</td>\n",
       "      <td>111.234970</td>\n",
       "      <td>-2.824240</td>\n",
       "      <td>NaN</td>\n",
       "      <td>NaN</td>\n",
       "      <td>4.202448</td>\n",
       "      <td>-3.330960</td>\n",
       "      <td>-3.444937</td>\n",
       "      <td>0.898617</td>\n",
       "    </tr>\n",
       "    <tr>\n",
       "      <th>205</th>\n",
       "      <td>205.0</td>\n",
       "      <td>6.0</td>\n",
       "      <td>0.299693</td>\n",
       "      <td>0.258011</td>\n",
       "      <td>0.557704</td>\n",
       "      <td>4.925722</td>\n",
       "      <td>113.104507</td>\n",
       "      <td>108.178787</td>\n",
       "      <td>-2.617266</td>\n",
       "      <td>107.425720</td>\n",
       "      <td>-2.816558</td>\n",
       "      <td>NaN</td>\n",
       "      <td>NaN</td>\n",
       "      <td>4.537111</td>\n",
       "      <td>-1.538757</td>\n",
       "      <td>-4.914130</td>\n",
       "      <td>0.895705</td>\n",
       "    </tr>\n",
       "    <tr>\n",
       "      <th>511</th>\n",
       "      <td>511.0</td>\n",
       "      <td>15.0</td>\n",
       "      <td>0.320531</td>\n",
       "      <td>0.732890</td>\n",
       "      <td>1.053420</td>\n",
       "      <td>4.786280</td>\n",
       "      <td>116.195839</td>\n",
       "      <td>111.409561</td>\n",
       "      <td>-1.360994</td>\n",
       "      <td>111.775116</td>\n",
       "      <td>-2.486925</td>\n",
       "      <td>NaN</td>\n",
       "      <td>NaN</td>\n",
       "      <td>2.303424</td>\n",
       "      <td>-0.214512</td>\n",
       "      <td>-4.760625</td>\n",
       "      <td>0.892994</td>\n",
       "    </tr>\n",
       "    <tr>\n",
       "      <th>203</th>\n",
       "      <td>203.0</td>\n",
       "      <td>6.0</td>\n",
       "      <td>0.224735</td>\n",
       "      <td>0.143734</td>\n",
       "      <td>0.368468</td>\n",
       "      <td>4.647406</td>\n",
       "      <td>113.963867</td>\n",
       "      <td>109.316460</td>\n",
       "      <td>-2.158445</td>\n",
       "      <td>108.678383</td>\n",
       "      <td>-2.483051</td>\n",
       "      <td>NaN</td>\n",
       "      <td>NaN</td>\n",
       "      <td>5.347981</td>\n",
       "      <td>-2.977457</td>\n",
       "      <td>-4.634480</td>\n",
       "      <td>0.893663</td>\n",
       "    </tr>\n",
       "    <tr>\n",
       "      <th>520</th>\n",
       "      <td>520.0</td>\n",
       "      <td>16.0</td>\n",
       "      <td>0.167502</td>\n",
       "      <td>0.219865</td>\n",
       "      <td>0.387367</td>\n",
       "      <td>3.540251</td>\n",
       "      <td>114.346527</td>\n",
       "      <td>110.806274</td>\n",
       "      <td>-2.097867</td>\n",
       "      <td>107.534225</td>\n",
       "      <td>-2.373573</td>\n",
       "      <td>NaN</td>\n",
       "      <td>NaN</td>\n",
       "      <td>3.672894</td>\n",
       "      <td>-2.520154</td>\n",
       "      <td>-3.454246</td>\n",
       "      <td>0.892616</td>\n",
       "    </tr>\n",
       "    <tr>\n",
       "      <th>206</th>\n",
       "      <td>206.0</td>\n",
       "      <td>6.0</td>\n",
       "      <td>0.309670</td>\n",
       "      <td>0.170970</td>\n",
       "      <td>0.480640</td>\n",
       "      <td>5.584869</td>\n",
       "      <td>116.188644</td>\n",
       "      <td>110.603775</td>\n",
       "      <td>-2.643845</td>\n",
       "      <td>115.960693</td>\n",
       "      <td>-2.331090</td>\n",
       "      <td>NaN</td>\n",
       "      <td>NaN</td>\n",
       "      <td>3.434217</td>\n",
       "      <td>-4.537729</td>\n",
       "      <td>-5.580170</td>\n",
       "      <td>0.897029</td>\n",
       "    </tr>\n",
       "    <tr>\n",
       "      <th>519</th>\n",
       "      <td>519.0</td>\n",
       "      <td>16.0</td>\n",
       "      <td>0.360938</td>\n",
       "      <td>0.158434</td>\n",
       "      <td>0.519372</td>\n",
       "      <td>2.850835</td>\n",
       "      <td>111.677780</td>\n",
       "      <td>108.826942</td>\n",
       "      <td>-2.666097</td>\n",
       "      <td>110.302742</td>\n",
       "      <td>-2.315621</td>\n",
       "      <td>NaN</td>\n",
       "      <td>NaN</td>\n",
       "      <td>1.720856</td>\n",
       "      <td>-2.992725</td>\n",
       "      <td>-2.716249</td>\n",
       "      <td>0.891933</td>\n",
       "    </tr>\n",
       "  </tbody>\n",
       "</table>\n",
       "</div>"
      ],
      "text/plain": [
       "      step  epoch     Dreal     Dfake     Dfull     G_adv      G_full  \\\n",
       "207  207.0    6.0  0.218218  0.162273  0.380491  4.594465  113.186363   \n",
       "208  208.0    6.0  0.187813  0.128440  0.316253  3.480589  114.595222   \n",
       "205  205.0    6.0  0.299693  0.258011  0.557704  4.925722  113.104507   \n",
       "511  511.0   15.0  0.320531  0.732890  1.053420  4.786280  116.195839   \n",
       "203  203.0    6.0  0.224735  0.143734  0.368468  4.647406  113.963867   \n",
       "520  520.0   16.0  0.167502  0.219865  0.387367  3.540251  114.346527   \n",
       "206  206.0    6.0  0.309670  0.170970  0.480640  5.584869  116.188644   \n",
       "519  519.0   16.0  0.360938  0.158434  0.519372  2.850835  111.677780   \n",
       "\n",
       "      spec_loss  hist_loss    spec_chi  hist_chi  gp_loss  fm_loss      D(x)  \\\n",
       "207  108.591896  -2.833032  109.582588 -2.876089      NaN      NaN  4.240169   \n",
       "208  111.114632  -2.842308  111.234970 -2.824240      NaN      NaN  4.202448   \n",
       "205  108.178787  -2.617266  107.425720 -2.816558      NaN      NaN  4.537111   \n",
       "511  111.409561  -1.360994  111.775116 -2.486925      NaN      NaN  2.303424   \n",
       "203  109.316460  -2.158445  108.678383 -2.483051      NaN      NaN  5.347981   \n",
       "520  110.806274  -2.097867  107.534225 -2.373573      NaN      NaN  3.672894   \n",
       "206  110.603775  -2.643845  115.960693 -2.331090      NaN      NaN  3.434217   \n",
       "519  108.826942  -2.666097  110.302742 -2.315621      NaN      NaN  1.720856   \n",
       "\n",
       "       D_G_z1    D_G_z2      time  \n",
       "207 -4.571784 -4.580982  0.891880  \n",
       "208 -3.330960 -3.444937  0.898617  \n",
       "205 -1.538757 -4.914130  0.895705  \n",
       "511 -0.214512 -4.760625  0.892994  \n",
       "203 -2.977457 -4.634480  0.893663  \n",
       "520 -2.520154 -3.454246  0.892616  \n",
       "206 -4.537729 -5.580170  0.897029  \n",
       "519 -2.992725 -2.716249  0.891933  "
      ]
     },
     "execution_count": 17,
     "metadata": {},
     "output_type": "execute_result"
    }
   ],
   "source": [
    "\n",
    "chi=df_metrics.quantile(q=0.005,axis=0)['hist_chi']\n",
    "print(chi)\n",
    "df_metrics[df_metrics['hist_chi']<=chi].sort_values(by=['hist_chi']).head(10)"
   ]
  },
  {
   "cell_type": "code",
   "execution_count": 18,
   "metadata": {},
   "outputs": [],
   "source": [
    "# display(df_metrics.sort_values(by=['hist_chi']).head(8))\n",
    "# display(df_metrics.sort_values(by=['spec_chi']).head(8))"
   ]
  },
  {
   "cell_type": "markdown",
   "metadata": {},
   "source": [
    "## Read stored chi-squares for images"
   ]
  },
  {
   "cell_type": "code",
   "execution_count": 19,
   "metadata": {},
   "outputs": [],
   "source": [
    "df=pd.read_pickle(result_dir+'/df_processed.pkle')\n",
    "df[['epoch','step']]=df[['epoch','step']].astype(int)\n",
    "df['label']=df.epoch.astype(str)+'-'+df.step.astype(str) # Add label column for plotting\n",
    "\n",
    "col_list=['label','chi_1','chi_spec1', 'chi_spec3', 'chi_1a', 'chi_1b', 'chi_1c', 'chi_2','chi_imgvar', 'chi_spec2','epoch','step']\n"
   ]
  },
  {
   "cell_type": "code",
   "execution_count": 20,
   "metadata": {},
   "outputs": [],
   "source": [
    "def f_slice_df(df,cutoff=0.2,sort_col='chi_1',col_mode='all',head=10,epoch_range=[0,None],display_flag=False):\n",
    "    ''' View dataframe after slicing\n",
    "    '''\n",
    "    col_list=['label','chi_1','chi_spec1', 'chi_spec3', 'chi_1a', 'chi_1b', 'chi_1c', 'chi_2','chi_imgvar', 'chi_spec2','epoch','step']\n",
    "    if (col_mode=='short'): col_list=['label','chi_1','chi_spec1']\n",
    "        \n",
    "    print(epoch_range)\n",
    "    if epoch_range[1]==None: epoch_range[1]=df.max()['epoch']\n",
    "    df=df[(df.epoch<=epoch_range[1])&(df.epoch>=epoch_range[0])]\n",
    "\n",
    "    ## Apply cutoff to keep reasonable chi1 and chispec1\n",
    "    best_keys=[ 'chi_1', 'chi_spec1']\n",
    "    q_dict=dict(df.quantile(q=cutoff,axis=0)[best_keys])   \n",
    "    print(q_dict)\n",
    "    df=df.query('chi_1 < {0} & chi_spec1 < {1}'.format(q_dict['chi_1'],q_dict['chi_spec1']))\n",
    "    \n",
    "    # Sort dataframe\n",
    "    df1=df[df.epoch>0].sort_values(by=sort_col)\n",
    "        \n",
    "    df2=df1.head(head)[col_list]\n",
    "\n",
    "    if display_flag:   # Display df\n",
    "        display_cols=['label','chi_1','chi_spec1', 'chi_spec3', 'chi_1a', 'chi_1b', 'chi_1c', 'chi_2','chi_imgvar', 'chi_spec2']\n",
    "        display(df2)\n",
    "    \n",
    "    return df2"
   ]
  },
  {
   "cell_type": "code",
   "execution_count": 21,
   "metadata": {},
   "outputs": [
    {
     "data": {
      "application/vnd.jupyter.widget-view+json": {
       "model_id": "71409e05eb8b4fe0b4acc36e4e464904",
       "version_major": 2,
       "version_minor": 0
      },
      "text/plain": [
       "interactive(children=(FloatSlider(value=0.2, description='cutoff', max=1.0, step=0.01), Dropdown(description='…"
      ]
     },
     "metadata": {},
     "output_type": "display_data"
    }
   ],
   "source": [
    "w=interactive(f_slice_df,df=fixed(df),\n",
    "cutoff=widgets.FloatSlider(value=0.2, min=0, max=1.0, step=0.01), \n",
    "col_mode=['all','short'], display_flag=widgets.Checkbox(value=False),\n",
    "head=widgets.IntSlider(value=10,min=1,max=20,step=1),\n",
    "epoch_range=widgets.IntRangeSlider(value=[0,np.max(df.epoch.values)],min=0,max=np.max(df.epoch.values),step=1),\n",
    "sort_col=['chi_1','chi_spec1', 'chi_spec3', 'chi_1a', 'chi_1b', 'chi_1c', 'chi_2','chi_imgvar', 'chi_spec2'],\n",
    ")\n",
    "display(w)"
   ]
  },
  {
   "cell_type": "code",
   "execution_count": 22,
   "metadata": {},
   "outputs": [],
   "source": [
    "df_sliced=w.result\n",
    "# df_sliced"
   ]
  },
  {
   "cell_type": "code",
   "execution_count": 23,
   "metadata": {},
   "outputs": [
    {
     "name": "stdout",
     "output_type": "stream",
     "text": [
      "[0, None]\n",
      "{'chi_1': 1.5533178654225526, 'chi_spec1': 1927.5022688640038}\n",
      "[0, 49]\n",
      "{'chi_1': 0.205462890221009, 'chi_spec1': 962.8806836944607}\n",
      "[0, 49]\n",
      "{'chi_1': 0.146272865654264, 'chi_spec1': 121.25042451673932}\n",
      "[array([ 260, 1440, 1470, 1230]), array([ 200, 1270]), array([1500, 1350])]\n",
      "[ 200  260 1230 1270 1350 1440 1470 1500]\n"
     ]
    }
   ],
   "source": [
    "best_step=[]\n",
    "df_test=df.copy()\n",
    "# df_test=df[df.epoch>5]\n",
    "best_step.append(f_slice_df(df_test,cutoff=0.9,sort_col='chi_1',head=4,display_flag=False).step.values)\n",
    "best_step.append(f_slice_df(df_test,cutoff=0.8,sort_col='chi_1c',head=2,display_flag=False).step.values)\n",
    "best_step.append(f_slice_df(df_test,cutoff=0.4,sort_col='chi_spec1',head=2,display_flag=False).step.values)\n",
    "print(best_step)\n",
    "best_step=np.unique([i for j in best_step for i in j])\n",
    "print(best_step)"
   ]
  },
  {
   "cell_type": "code",
   "execution_count": 24,
   "metadata": {},
   "outputs": [],
   "source": [
    "# best_step=[58800]\n",
    "# best_step=np.arange(32800,32900,10).astype(int)"
   ]
  },
  {
   "cell_type": "code",
   "execution_count": 25,
   "metadata": {},
   "outputs": [
    {
     "name": "stdout",
     "output_type": "stream",
     "text": [
      "(8, 22)\n",
      "[(6, 200), (8, 260), (38, 1230), (39, 1270), (42, 1350), (44, 1440), (45, 1470), (46, 1500)]\n"
     ]
    }
   ],
   "source": [
    "df_best=df[df.step.isin(best_step)]\n",
    "print(df_best.shape)\n",
    "print([(df_best[df_best.step==step].epoch.values[0],df_best[df_best.step==step].step.values[0]) for step in best_step])\n",
    "# print([(df_best.loc[idx].epoch,df_best.loc[idx].step) for idx in best_idx])"
   ]
  },
  {
   "cell_type": "code",
   "execution_count": 26,
   "metadata": {},
   "outputs": [
    {
     "data": {
      "text/html": [
       "<div>\n",
       "<style scoped>\n",
       "    .dataframe tbody tr th:only-of-type {\n",
       "        vertical-align: middle;\n",
       "    }\n",
       "\n",
       "    .dataframe tbody tr th {\n",
       "        vertical-align: top;\n",
       "    }\n",
       "\n",
       "    .dataframe thead th {\n",
       "        text-align: right;\n",
       "    }\n",
       "</style>\n",
       "<table border=\"1\" class=\"dataframe\">\n",
       "  <thead>\n",
       "    <tr style=\"text-align: right;\">\n",
       "      <th></th>\n",
       "      <th>label</th>\n",
       "      <th>chi_1</th>\n",
       "      <th>chi_spec1</th>\n",
       "      <th>chi_spec3</th>\n",
       "      <th>chi_1a</th>\n",
       "      <th>chi_1b</th>\n",
       "      <th>chi_1c</th>\n",
       "      <th>chi_2</th>\n",
       "      <th>chi_imgvar</th>\n",
       "      <th>chi_spec2</th>\n",
       "      <th>epoch</th>\n",
       "      <th>step</th>\n",
       "    </tr>\n",
       "  </thead>\n",
       "  <tbody>\n",
       "    <tr>\n",
       "      <th>19</th>\n",
       "      <td>6-200</td>\n",
       "      <td>0.076222</td>\n",
       "      <td>799.697230</td>\n",
       "      <td>52.590881</td>\n",
       "      <td>0.071650</td>\n",
       "      <td>0.004572</td>\n",
       "      <td>0.0</td>\n",
       "      <td>0.000822</td>\n",
       "      <td>6.088001</td>\n",
       "      <td>35014.828713</td>\n",
       "      <td>6</td>\n",
       "      <td>200</td>\n",
       "    </tr>\n",
       "    <tr>\n",
       "      <th>25</th>\n",
       "      <td>8-260</td>\n",
       "      <td>0.022973</td>\n",
       "      <td>1088.839546</td>\n",
       "      <td>52.137237</td>\n",
       "      <td>0.007385</td>\n",
       "      <td>0.015588</td>\n",
       "      <td>0.0</td>\n",
       "      <td>0.000014</td>\n",
       "      <td>8.360224</td>\n",
       "      <td>74869.688577</td>\n",
       "      <td>8</td>\n",
       "      <td>260</td>\n",
       "    </tr>\n",
       "    <tr>\n",
       "      <th>122</th>\n",
       "      <td>38-1230</td>\n",
       "      <td>0.045722</td>\n",
       "      <td>31.665181</td>\n",
       "      <td>49.472693</td>\n",
       "      <td>0.041150</td>\n",
       "      <td>0.004572</td>\n",
       "      <td>0.0</td>\n",
       "      <td>0.000207</td>\n",
       "      <td>3.369333</td>\n",
       "      <td>4689.943519</td>\n",
       "      <td>38</td>\n",
       "      <td>1230</td>\n",
       "    </tr>\n",
       "    <tr>\n",
       "      <th>126</th>\n",
       "      <td>39-1270</td>\n",
       "      <td>0.192943</td>\n",
       "      <td>897.523654</td>\n",
       "      <td>49.812498</td>\n",
       "      <td>0.188372</td>\n",
       "      <td>0.004572</td>\n",
       "      <td>0.0</td>\n",
       "      <td>0.001794</td>\n",
       "      <td>0.320710</td>\n",
       "      <td>12908.525676</td>\n",
       "      <td>39</td>\n",
       "      <td>1270</td>\n",
       "    </tr>\n",
       "    <tr>\n",
       "      <th>134</th>\n",
       "      <td>42-1350</td>\n",
       "      <td>0.081230</td>\n",
       "      <td>24.852898</td>\n",
       "      <td>56.907352</td>\n",
       "      <td>0.076658</td>\n",
       "      <td>0.004572</td>\n",
       "      <td>0.0</td>\n",
       "      <td>0.000668</td>\n",
       "      <td>2.909651</td>\n",
       "      <td>1795.582733</td>\n",
       "      <td>42</td>\n",
       "      <td>1350</td>\n",
       "    </tr>\n",
       "    <tr>\n",
       "      <th>143</th>\n",
       "      <td>44-1440</td>\n",
       "      <td>0.035618</td>\n",
       "      <td>27.437536</td>\n",
       "      <td>52.232308</td>\n",
       "      <td>0.031046</td>\n",
       "      <td>0.004572</td>\n",
       "      <td>0.0</td>\n",
       "      <td>0.000191</td>\n",
       "      <td>3.677551</td>\n",
       "      <td>2279.391551</td>\n",
       "      <td>44</td>\n",
       "      <td>1440</td>\n",
       "    </tr>\n",
       "    <tr>\n",
       "      <th>146</th>\n",
       "      <td>45-1470</td>\n",
       "      <td>0.040991</td>\n",
       "      <td>24.989060</td>\n",
       "      <td>56.491963</td>\n",
       "      <td>0.036419</td>\n",
       "      <td>0.004572</td>\n",
       "      <td>0.0</td>\n",
       "      <td>0.000729</td>\n",
       "      <td>4.760301</td>\n",
       "      <td>2419.345881</td>\n",
       "      <td>45</td>\n",
       "      <td>1470</td>\n",
       "    </tr>\n",
       "    <tr>\n",
       "      <th>149</th>\n",
       "      <td>46-1500</td>\n",
       "      <td>0.090328</td>\n",
       "      <td>23.734970</td>\n",
       "      <td>56.513812</td>\n",
       "      <td>0.085756</td>\n",
       "      <td>0.004572</td>\n",
       "      <td>0.0</td>\n",
       "      <td>0.000450</td>\n",
       "      <td>2.137875</td>\n",
       "      <td>1253.947388</td>\n",
       "      <td>46</td>\n",
       "      <td>1500</td>\n",
       "    </tr>\n",
       "  </tbody>\n",
       "</table>\n",
       "</div>"
      ],
      "text/plain": [
       "       label     chi_1    chi_spec1  chi_spec3    chi_1a    chi_1b  chi_1c  \\\n",
       "19     6-200  0.076222   799.697230  52.590881  0.071650  0.004572     0.0   \n",
       "25     8-260  0.022973  1088.839546  52.137237  0.007385  0.015588     0.0   \n",
       "122  38-1230  0.045722    31.665181  49.472693  0.041150  0.004572     0.0   \n",
       "126  39-1270  0.192943   897.523654  49.812498  0.188372  0.004572     0.0   \n",
       "134  42-1350  0.081230    24.852898  56.907352  0.076658  0.004572     0.0   \n",
       "143  44-1440  0.035618    27.437536  52.232308  0.031046  0.004572     0.0   \n",
       "146  45-1470  0.040991    24.989060  56.491963  0.036419  0.004572     0.0   \n",
       "149  46-1500  0.090328    23.734970  56.513812  0.085756  0.004572     0.0   \n",
       "\n",
       "        chi_2  chi_imgvar     chi_spec2  epoch  step  \n",
       "19   0.000822    6.088001  35014.828713      6   200  \n",
       "25   0.000014    8.360224  74869.688577      8   260  \n",
       "122  0.000207    3.369333   4689.943519     38  1230  \n",
       "126  0.001794    0.320710  12908.525676     39  1270  \n",
       "134  0.000668    2.909651   1795.582733     42  1350  \n",
       "143  0.000191    3.677551   2279.391551     44  1440  \n",
       "146  0.000729    4.760301   2419.345881     45  1470  \n",
       "149  0.000450    2.137875   1253.947388     46  1500  "
      ]
     },
     "execution_count": 26,
     "metadata": {},
     "output_type": "execute_result"
    }
   ],
   "source": [
    "df_best[col_list]\n"
   ]
  },
  {
   "cell_type": "markdown",
   "metadata": {},
   "source": [
    "### Plots 2: stored data"
   ]
  },
  {
   "cell_type": "code",
   "execution_count": 27,
   "metadata": {
    "jupyter": {
     "source_hidden": true
    }
   },
   "outputs": [],
   "source": [
    "\n",
    "def f_plot_hist_spec(df,dict_bkg,plot_type):\n",
    "\n",
    "    img_size=64\n",
    "    assert plot_type in ['hist','spec','grid','spec_relative','hist_relative'],\"Invalid mode %s\"%(plot_type)\n",
    "\n",
    "    if plot_type in ['hist','spec','spec_relative','hist_relative']:     fig=plt.figure(figsize=(6,6))\n",
    "\n",
    "\n",
    "    for (i,row),marker in zip(df.iterrows(),itertools.cycle('>^*sDHPdpx_')):\n",
    "        label=row.label\n",
    "        if plot_type=='hist':\n",
    "            x1=row.hist_bin_centers\n",
    "            y1=row.hist_val\n",
    "            yerr1=row.hist_err\n",
    "            x1=f_invtransform(x1)\n",
    "            \n",
    "            plt.errorbar(x1,y1,yerr1,marker=marker,markersize=5,linestyle='',label=label)\n",
    "        if plot_type=='spec':\n",
    "            \n",
    "            y2=row.spec_val\n",
    "            yerr2=row.spec_sdev/np.sqrt(row.num_imgs)\n",
    "            x2=np.arange(len(y2))\n",
    "            \n",
    "            plt.fill_between(x2, y2 - yerr2, y2 + yerr2, alpha=0.4)\n",
    "            plt.plot(x2, y2, marker=marker, linestyle=':',label=label)\n",
    "            plt.xlim(0,img_size/2)\n",
    "\n",
    "\n",
    "        if plot_type=='spec_relative':\n",
    "            \n",
    "            y2=row.spec_val\n",
    "            yerr2=row.spec_sdev\n",
    "            x2=np.arange(len(y2))\n",
    "            \n",
    "            ### Reference spectrum\n",
    "            y1,yerr1=dict_bkg['spec_val'],dict_bkg['spec_sdev']\n",
    "            y=y2/(1.0*y1)\n",
    "            ## Variance is sum of variance of both variables, since they are uncorrelated\n",
    "            \n",
    "            # delta_r=sqrt(\\delta_c2 ^ 2/ c1^2 + \\delta_c1^2 * c_2^2 / c_1^4)\n",
    "            yerr=(np.abs(y))*np.sqrt((yerr1/y1)**2+(yerr2/y2)**2)/np.sqrt(row['num_imgs'])\n",
    "\n",
    "            plt.fill_between(x2, y - yerr, y + yerr, alpha=0.4)\n",
    "            plt.plot(x2, y, marker=marker, linestyle=':',label=label)            \n",
    "            \n",
    "            \n",
    "        if plot_type=='hist_relative':\n",
    "\n",
    "            x2=row.hist_bin_centers\n",
    "            y2=row.hist_val\n",
    "            yerr2=row.hist_err\n",
    "            x2=f_invtransform(x2)\n",
    "            \n",
    "#             plt.errorbar(x1,y1,yerr1,marker=marker,markersize=5,linestyle='',label=label)\n",
    "            \n",
    "            ### Reference spectrum\n",
    "            y1,yerr1=dict_bkg['hist_val'],dict_bkg['hist_err']\n",
    "\n",
    "            y=y2/(1.0*y1)\n",
    "            ## Variance is sum of variance of both variables, since they are uncorrelated\n",
    "            \n",
    "            # delta_r=sqrt(\\delta_c2 ^ 2/ c1^2 + \\delta_c1^2 * c_2^2 / c_1^4)\n",
    "            yerr=(np.abs(y))*np.sqrt((yerr1/y1)**2+(yerr2/y2)**2)/np.sqrt(row['num_imgs'])\n",
    "\n",
    "            plt.fill_between(x2, y - yerr, y + yerr, alpha=0.4)\n",
    "            plt.plot(x2, y, marker=marker, linestyle=':',label=label)            \n",
    "            plt.xlim(0,img_size/2)\n",
    "            plt.ylim(0,5)\n",
    "            plt.legend()\n",
    "\n",
    "        if plot_type=='grid':\n",
    "            images=np.load(row.fname)[:,:,:,0]\n",
    "            print(images.shape)\n",
    "            f_plot_grid(images[:18],cols=6,fig_size=(10,5))\n",
    "            \n",
    "    ### Plot input data\n",
    "    if plot_type=='hist':\n",
    "        x,y,yerr=dict_bkg['hist_bin_centers'],dict_bkg['hist_val'],dict_bkg['hist_err']\n",
    "        x=f_invtransform(x)\n",
    "        plt.errorbar(x, y,yerr,color='k',linestyle='-',label='bkgnd')   \n",
    "        plt.title('Pixel Intensity Histogram')\n",
    "        plt.xscale('symlog',linthreshx=50)\n",
    "        \n",
    "    if plot_type=='spec':\n",
    "        y,yerr=dict_bkg['spec_val'],dict_bkg['spec_sdev']/np.sqrt(num_bkgnd)\n",
    "        x=np.arange(len(y))\n",
    "        plt.fill_between(x, y - yerr, y + yerr, color='k',alpha=0.8)\n",
    "        plt.xlim(0,img_size/2)\n",
    "        plt.title('Spectrum')\n",
    "        \n",
    "    if plot_type=='spec_relative':\n",
    "        plt.axhline(y=1.0,color='k',linestyle='-.')\n",
    "        plt.xlim(0,img_size/2)\n",
    "        plt.ylim(0.5,2)\n",
    "        plt.legend()\n",
    "        \n",
    "    if plot_type=='hist_relative':\n",
    "        plt.axhline(y=1.0,color='k',linestyle='-.')\n",
    "        \n",
    "    plt.legend(bbox_to_anchor=(0.3, 0.75),ncol=2, fancybox=True, shadow=True,prop={'size':6})\n",
    "    if plot_type in ['hist','spec']:     plt.yscale('log')\n",
    "\n",
    "# f_plot_hist_spec(df_runs,dict_val,'hist')\n",
    "# f_plot_hist_spec(df_runs,dict_val,'spec')\n",
    "# f_plot_hist_spec(df_best,dict_val,'grid')\n"
   ]
  },
  {
   "cell_type": "code",
   "execution_count": 28,
   "metadata": {},
   "outputs": [
    {
     "data": {
      "application/vnd.jupyter.widget-view+json": {
       "model_id": "b92e08beff2e42c891ec2231b5458773",
       "version_major": 2,
       "version_minor": 0
      },
      "text/plain": [
       "interactive(children=(SelectMultiple(description='labels_list', options=('6-200', '8-260', '38-1230', '39-1270…"
      ]
     },
     "metadata": {},
     "output_type": "display_data"
    },
    {
     "data": {
      "text/plain": [
       "<function __main__.f_widget_compare(df, labels_list, bkgnd, plot_type)>"
      ]
     },
     "execution_count": 28,
     "metadata": {},
     "output_type": "execute_result"
    }
   ],
   "source": [
    "def f_widget_compare(df,labels_list,bkgnd,plot_type):\n",
    "    df_temp=df[df.label.isin(labels_list)]\n",
    "    f_plot_hist_spec(df_temp,dict_val,plot_type)\n",
    "    \n",
    "interact_manual(f_widget_compare,df=fixed(df_best),\n",
    "                labels_list=SelectMultiple(options=df_best.label.values), \n",
    "                bkgnd=fixed(dict_val),plot_type=ToggleButtons(options=['hist','spec','grid','spec_relative','hist_relative']))"
   ]
  },
  {
   "cell_type": "markdown",
   "metadata": {},
   "source": [
    "## Plot images"
   ]
  },
  {
   "cell_type": "code",
   "execution_count": 94,
   "metadata": {},
   "outputs": [
    {
     "name": "stdout",
     "output_type": "stream",
     "text": [
      "(1000, 64, 64, 64)\n"
     ]
    }
   ],
   "source": [
    "print(s_val.shape)\n"
   ]
  },
  {
   "cell_type": "code",
   "execution_count": 95,
   "metadata": {},
   "outputs": [],
   "source": [
    "fname='/global/cfs/cdirs/m3363/vayyar/cosmogan_data/results_from_other_code/pytorch/results/3d/20210123_050147_3d_l0.5_80k/images/gen_img_epoch-28_step-71620.npy'\n",
    "a1=np.load(fname)"
   ]
  },
  {
   "cell_type": "code",
   "execution_count": 96,
   "metadata": {},
   "outputs": [
    {
     "data": {
      "text/plain": [
       "((1000, 64, 64, 64), (32, 64, 64, 64))"
      ]
     },
     "execution_count": 96,
     "metadata": {},
     "output_type": "execute_result"
    }
   ],
   "source": [
    "s_val.shape,a1.shape"
   ]
  },
  {
   "cell_type": "code",
   "execution_count": 97,
   "metadata": {},
   "outputs": [
    {
     "name": "stdout",
     "output_type": "stream",
     "text": [
      "2 4\n"
     ]
    },
    {
     "data": {
      "application/vnd.jupyter.widget-view+json": {
       "model_id": "fafe09d69c5c465fb5e8133c253dcbe0",
       "version_major": 2,
       "version_minor": 0
      },
      "text/plain": [
       "Canvas(toolbar=Toolbar(toolitems=[('Home', 'Reset original view', 'home', 'home'), ('Back', 'Back to previous …"
      ]
     },
     "metadata": {},
     "output_type": "display_data"
    }
   ],
   "source": [
    "f_plot_grid(a1[6:14,:,:,0],cols=4,fig_size=(4,2))"
   ]
  },
  {
   "cell_type": "code",
   "execution_count": 98,
   "metadata": {},
   "outputs": [
    {
     "name": "stdout",
     "output_type": "stream",
     "text": [
      "2 4\n"
     ]
    },
    {
     "data": {
      "application/vnd.jupyter.widget-view+json": {
       "model_id": "3a23fbbaf784401f82528127fec240fd",
       "version_major": 2,
       "version_minor": 0
      },
      "text/plain": [
       "Canvas(toolbar=Toolbar(toolitems=[('Home', 'Reset original view', 'home', 'home'), ('Back', 'Back to previous …"
      ]
     },
     "metadata": {},
     "output_type": "display_data"
    }
   ],
   "source": [
    "f_plot_grid(s_val[100:108,:,:,0],cols=4,fig_size=(4,2))"
   ]
  },
  {
   "cell_type": "code",
   "execution_count": 99,
   "metadata": {},
   "outputs": [
    {
     "data": {
      "text/html": [
       "<div>\n",
       "<style scoped>\n",
       "    .dataframe tbody tr th:only-of-type {\n",
       "        vertical-align: middle;\n",
       "    }\n",
       "\n",
       "    .dataframe tbody tr th {\n",
       "        vertical-align: top;\n",
       "    }\n",
       "\n",
       "    .dataframe thead th {\n",
       "        text-align: right;\n",
       "    }\n",
       "</style>\n",
       "<table border=\"1\" class=\"dataframe\">\n",
       "  <thead>\n",
       "    <tr style=\"text-align: right;\">\n",
       "      <th></th>\n",
       "      <th>label</th>\n",
       "      <th>chi_1</th>\n",
       "      <th>chi_spec1</th>\n",
       "      <th>chi_spec3</th>\n",
       "      <th>chi_1a</th>\n",
       "      <th>chi_1b</th>\n",
       "      <th>chi_1c</th>\n",
       "      <th>chi_2</th>\n",
       "      <th>chi_imgvar</th>\n",
       "      <th>chi_spec2</th>\n",
       "      <th>epoch</th>\n",
       "      <th>step</th>\n",
       "    </tr>\n",
       "  </thead>\n",
       "  <tbody>\n",
       "    <tr>\n",
       "      <th>655</th>\n",
       "      <td>2-6560</td>\n",
       "      <td>0.246885</td>\n",
       "      <td>10.027608</td>\n",
       "      <td>49.063214</td>\n",
       "      <td>0.192645</td>\n",
       "      <td>0.053953</td>\n",
       "      <td>0.000288</td>\n",
       "      <td>0.115025</td>\n",
       "      <td>3.904391</td>\n",
       "      <td>17956.069610</td>\n",
       "      <td>2</td>\n",
       "      <td>6560</td>\n",
       "    </tr>\n",
       "    <tr>\n",
       "      <th>2819</th>\n",
       "      <td>11-28200</td>\n",
       "      <td>0.036677</td>\n",
       "      <td>6.014820</td>\n",
       "      <td>49.570766</td>\n",
       "      <td>0.019308</td>\n",
       "      <td>0.014379</td>\n",
       "      <td>0.002990</td>\n",
       "      <td>0.010212</td>\n",
       "      <td>9.884761</td>\n",
       "      <td>1447.230356</td>\n",
       "      <td>11</td>\n",
       "      <td>28200</td>\n",
       "    </tr>\n",
       "    <tr>\n",
       "      <th>2920</th>\n",
       "      <td>11-29210</td>\n",
       "      <td>0.248065</td>\n",
       "      <td>6.946046</td>\n",
       "      <td>59.081433</td>\n",
       "      <td>0.241302</td>\n",
       "      <td>0.006456</td>\n",
       "      <td>0.000306</td>\n",
       "      <td>0.089805</td>\n",
       "      <td>33.648975</td>\n",
       "      <td>50.338523</td>\n",
       "      <td>11</td>\n",
       "      <td>29210</td>\n",
       "    </tr>\n",
       "    <tr>\n",
       "      <th>3378</th>\n",
       "      <td>13-33790</td>\n",
       "      <td>0.032535</td>\n",
       "      <td>6.317830</td>\n",
       "      <td>50.120442</td>\n",
       "      <td>0.028484</td>\n",
       "      <td>0.002187</td>\n",
       "      <td>0.001864</td>\n",
       "      <td>0.013548</td>\n",
       "      <td>6.696044</td>\n",
       "      <td>1461.858703</td>\n",
       "      <td>13</td>\n",
       "      <td>33790</td>\n",
       "    </tr>\n",
       "    <tr>\n",
       "      <th>4015</th>\n",
       "      <td>16-40160</td>\n",
       "      <td>0.032709</td>\n",
       "      <td>5.377288</td>\n",
       "      <td>50.452657</td>\n",
       "      <td>0.027667</td>\n",
       "      <td>0.003498</td>\n",
       "      <td>0.001544</td>\n",
       "      <td>0.013563</td>\n",
       "      <td>10.932140</td>\n",
       "      <td>240.525028</td>\n",
       "      <td>16</td>\n",
       "      <td>40160</td>\n",
       "    </tr>\n",
       "    <tr>\n",
       "      <th>4024</th>\n",
       "      <td>16-40250</td>\n",
       "      <td>0.100561</td>\n",
       "      <td>3.085800</td>\n",
       "      <td>43.490086</td>\n",
       "      <td>0.071879</td>\n",
       "      <td>0.025700</td>\n",
       "      <td>0.002983</td>\n",
       "      <td>0.051874</td>\n",
       "      <td>7.510610</td>\n",
       "      <td>71.322752</td>\n",
       "      <td>16</td>\n",
       "      <td>40250</td>\n",
       "    </tr>\n",
       "    <tr>\n",
       "      <th>4107</th>\n",
       "      <td>16-41080</td>\n",
       "      <td>0.159360</td>\n",
       "      <td>3.133683</td>\n",
       "      <td>47.506667</td>\n",
       "      <td>0.103007</td>\n",
       "      <td>0.053081</td>\n",
       "      <td>0.003272</td>\n",
       "      <td>0.063929</td>\n",
       "      <td>15.402410</td>\n",
       "      <td>45.373778</td>\n",
       "      <td>16</td>\n",
       "      <td>41080</td>\n",
       "    </tr>\n",
       "    <tr>\n",
       "      <th>4489</th>\n",
       "      <td>17-44900</td>\n",
       "      <td>0.023849</td>\n",
       "      <td>4.554960</td>\n",
       "      <td>53.793261</td>\n",
       "      <td>0.017225</td>\n",
       "      <td>0.005775</td>\n",
       "      <td>0.000849</td>\n",
       "      <td>0.004996</td>\n",
       "      <td>17.831019</td>\n",
       "      <td>80.620578</td>\n",
       "      <td>17</td>\n",
       "      <td>44900</td>\n",
       "    </tr>\n",
       "  </tbody>\n",
       "</table>\n",
       "</div>"
      ],
      "text/plain": [
       "         label     chi_1  chi_spec1  chi_spec3    chi_1a    chi_1b    chi_1c  \\\n",
       "655     2-6560  0.246885  10.027608  49.063214  0.192645  0.053953  0.000288   \n",
       "2819  11-28200  0.036677   6.014820  49.570766  0.019308  0.014379  0.002990   \n",
       "2920  11-29210  0.248065   6.946046  59.081433  0.241302  0.006456  0.000306   \n",
       "3378  13-33790  0.032535   6.317830  50.120442  0.028484  0.002187  0.001864   \n",
       "4015  16-40160  0.032709   5.377288  50.452657  0.027667  0.003498  0.001544   \n",
       "4024  16-40250  0.100561   3.085800  43.490086  0.071879  0.025700  0.002983   \n",
       "4107  16-41080  0.159360   3.133683  47.506667  0.103007  0.053081  0.003272   \n",
       "4489  17-44900  0.023849   4.554960  53.793261  0.017225  0.005775  0.000849   \n",
       "\n",
       "         chi_2  chi_imgvar     chi_spec2  epoch   step  \n",
       "655   0.115025    3.904391  17956.069610      2   6560  \n",
       "2819  0.010212    9.884761   1447.230356     11  28200  \n",
       "2920  0.089805   33.648975     50.338523     11  29210  \n",
       "3378  0.013548    6.696044   1461.858703     13  33790  \n",
       "4015  0.013563   10.932140    240.525028     16  40160  \n",
       "4024  0.051874    7.510610     71.322752     16  40250  \n",
       "4107  0.063929   15.402410     45.373778     16  41080  \n",
       "4489  0.004996   17.831019     80.620578     17  44900  "
      ]
     },
     "execution_count": 99,
     "metadata": {},
     "output_type": "execute_result"
    }
   ],
   "source": [
    "df_best[col_list]"
   ]
  },
  {
   "cell_type": "code",
   "execution_count": 100,
   "metadata": {},
   "outputs": [],
   "source": [
    "dims = [2,3,4,7]\n",
    "np_x = np.random.uniform(size=dims).astype(np.float32)"
   ]
  },
  {
   "cell_type": "code",
   "execution_count": null,
   "metadata": {},
   "outputs": [],
   "source": []
  },
  {
   "cell_type": "code",
   "execution_count": 31,
   "metadata": {},
   "outputs": [
    {
     "data": {
      "text/plain": [
       "87.890625"
      ]
     },
     "execution_count": 31,
     "metadata": {},
     "output_type": "execute_result"
    }
   ],
   "source": [
    "90000/(32*32)"
   ]
  },
  {
   "cell_type": "code",
   "execution_count": 30,
   "metadata": {},
   "outputs": [
    {
     "data": {
      "text/plain": [
       "(101251, 1, 64, 64, 64)"
      ]
     },
     "execution_count": 30,
     "metadata": {},
     "output_type": "execute_result"
    }
   ],
   "source": [
    "fname='/global/cfs/cdirs/m3363/vayyar/cosmogan_data/raw_data/3d_data/dataset1_smoothing_const_params_64cube_100k/norm_1_train_val.npy'\n",
    "np.load(fname,mmap_mode='r').shape\n"
   ]
  },
  {
   "cell_type": "code",
   "execution_count": 32,
   "metadata": {},
   "outputs": [
    {
     "name": "stdout",
     "output_type": "stream",
     "text": [
      "99G\t/global/cfs/cdirs/m3363/vayyar/cosmogan_data/raw_data/3d_data/dataset1_smoothing_const_params_64cube_100k/norm_1_train_val.npy\n"
     ]
    }
   ],
   "source": [
    "! du -hs /global/cfs/cdirs/m3363/vayyar/cosmogan_data/raw_data/3d_data/dataset1_smoothing_const_params_64cube_100k/norm_1_train_val.npy\n",
    "\n"
   ]
  },
  {
   "cell_type": "code",
   "execution_count": null,
   "metadata": {},
   "outputs": [],
   "source": []
  }
 ],
 "metadata": {
  "kernelspec": {
   "display_name": "v3",
   "language": "python",
   "name": "v-jpt-3"
  },
  "language_info": {
   "codemirror_mode": {
    "name": "ipython",
    "version": 3
   },
   "file_extension": ".py",
   "mimetype": "text/x-python",
   "name": "python",
   "nbconvert_exporter": "python",
   "pygments_lexer": "ipython3",
   "version": "3.8.6"
  }
 },
 "nbformat": 4,
 "nbformat_minor": 4
}

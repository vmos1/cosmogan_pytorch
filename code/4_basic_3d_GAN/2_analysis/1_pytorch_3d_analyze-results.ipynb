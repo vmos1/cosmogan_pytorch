{
 "cells": [
  {
   "cell_type": "markdown",
   "metadata": {},
   "source": [
    "# Analyze results for 3D images\n",
    "Jan 21, 2021"
   ]
  },
  {
   "cell_type": "code",
   "execution_count": 1,
   "metadata": {},
   "outputs": [],
   "source": [
    "import     numpy as np\n",
    "import matplotlib.pyplot as plt\n",
    "import pandas as pd\n",
    "\n",
    "import subprocess as sp\n",
    "import sys\n",
    "import os\n",
    "import glob\n",
    "import pickle \n",
    "\n",
    "from matplotlib.colors import LogNorm, PowerNorm, Normalize\n",
    "import seaborn as sns\n",
    "\n",
    "from ipywidgets import *"
   ]
  },
  {
   "cell_type": "code",
   "execution_count": 2,
   "metadata": {},
   "outputs": [],
   "source": [
    "%matplotlib widget"
   ]
  },
  {
   "cell_type": "code",
   "execution_count": 3,
   "metadata": {},
   "outputs": [],
   "source": [
    "sys.path.append('/global/u1/v/vpa/project/jpt_notebooks/Cosmology/Cosmo_GAN/repositories/cosmogan_pytorch/code/modules_image_analysis/')\n",
    "from modules_3d_image_analysis import *\n",
    "\n",
    "# sys.path.append('/global/u1/v/vpa/project/jpt_notebooks/Cosmology/Cosmo_GAN/repositories/cosmogan_pytorch/code/1_basic_GAN/1_main_code/')\n",
    "# import post_analysis_pandas as post"
   ]
  },
  {
   "cell_type": "code",
   "execution_count": 4,
   "metadata": {},
   "outputs": [],
   "source": [
    "### Transformation functions for image pixel values\n",
    "def f_transform(x):\n",
    "    return 2.*x/(x + 4.) - 1.\n",
    "\n",
    "def f_invtransform(s):\n",
    "    return 4.*(1. + s)/(1. - s)\n"
   ]
  },
  {
   "cell_type": "markdown",
   "metadata": {},
   "source": [
    "## Read data"
   ]
  },
  {
   "cell_type": "code",
   "execution_count": 5,
   "metadata": {},
   "outputs": [],
   "source": [
    "img_size=64\n",
    "dict1={'64':'/global/cfs/cdirs/m3363/vayyar/cosmogan_data/results_from_other_code/pytorch/results/3d/',\n",
    "      '512':'/global/cfs/cdirs/m3363/vayyar/cosmogan_data/results_from_other_code/pytorch/results/512sq/'}\n"
   ]
  },
  {
   "cell_type": "markdown",
   "metadata": {},
   "source": [
    "### Read validation data and compute metrics"
   ]
  },
  {
   "cell_type": "code",
   "execution_count": 6,
   "metadata": {},
   "outputs": [],
   "source": [
    "# Get location for validation data\n",
    "raw_data_dir='/global/cfs/cdirs/m3363/vayyar/cosmogan_data/raw_data/'\n",
    "input_files_dict={'64':raw_data_dir+'3d_data/dataset1_smoothing_const_params_64cube_100k/val.npy'}"
   ]
  },
  {
   "cell_type": "code",
   "execution_count": 7,
   "metadata": {},
   "outputs": [
    {
     "name": "stdout",
     "output_type": "stream",
     "text": [
      "(1000, 64, 64, 64)\n"
     ]
    },
    {
     "name": "stderr",
     "output_type": "stream",
     "text": [
      "/global/u1/v/vpa/project/jpt_notebooks/Cosmology/Cosmo_GAN/repositories/cosmogan_pytorch/code/modules_image_analysis/modules_3d_image_analysis.py:62: VisibleDeprecationWarning: Creating an ndarray from ragged nested sequences (which is a list-or-tuple of lists-or-tuples-or ndarrays with different lengths or shapes) is deprecated. If you meant to do this, you must specify 'dtype=object' when creating the ndarray\n",
      "  hist_arr=np.array([np.histogram(arr.flatten(), bins=bins, range=(llim,ulim), density=norm) for arr in img_arr]) ## range is important\n"
     ]
    }
   ],
   "source": [
    "def f_compute_hist_spect(sample,bins):\n",
    "    ''' Compute pixel intensity histograms and radial spectrum for 2D arrays\n",
    "    Input : Image arrays and bins\n",
    "    Output: dictionary with 5 arrays : Histogram values, errors and bin centers, Spectrum values and errors.\n",
    "    '''\n",
    "    ### Compute pixel histogram for row\n",
    "    gen_hist,gen_err,hist_bins=f_batch_histogram(sample,bins=bins,norm=True,hist_range=None)\n",
    "    ### Compute spectrum for row\n",
    "    spec,spec_sdev=f_plot_spectrum_3d(sample,plot=False)\n",
    "\n",
    "    dict1={'hist_val':gen_hist,'hist_err':gen_err,'hist_bin_centers':hist_bins,'spec_val':spec,'spec_sdev':spec_sdev }\n",
    "    return dict1\n",
    "\n",
    "### Extract validation data\n",
    "num_bkgnd=1000\n",
    "fname=input_files_dict[str(img_size)]\n",
    "s_val=np.load(fname,mmap_mode='r')[:num_bkgnd][:,0,:,:]\n",
    "s_val=f_transform(s_val)\n",
    "print(s_val.shape)\n",
    "\n",
    "bins=np.concatenate([np.array([-0.5]),np.arange(0.5,20.5,1),np.arange(20.5,100.5,5),np.arange(100.5,1000.5,50),np.array([2000])]) #bin edges to use\n",
    "bins=f_transform(bins)   ### scale to (-1,1) \n",
    "### Compute histogram and spectrum of raw data \n",
    "dict_val=f_compute_hist_spect(s_val,bins)\n",
    "\n",
    "# del(s_val)"
   ]
  },
  {
   "cell_type": "markdown",
   "metadata": {},
   "source": [
    "### Read run data"
   ]
  },
  {
   "cell_type": "code",
   "execution_count": 8,
   "metadata": {},
   "outputs": [],
   "source": [
    "# main_dir='/global/cfs/cdirs/m3363/vayyar/cosmogan_data/results_from_other_code/pytorch/results/128sq/'\n",
    "# results_dir=main_dir+'20201002_064327'"
   ]
  },
  {
   "cell_type": "code",
   "execution_count": 9,
   "metadata": {},
   "outputs": [],
   "source": [
    "u=interactive(lambda x: dict1[x], x=Select(options=dict1.keys()))\n",
    "# display(u)"
   ]
  },
  {
   "cell_type": "code",
   "execution_count": 77,
   "metadata": {},
   "outputs": [
    {
     "data": {
      "application/vnd.jupyter.widget-view+json": {
       "model_id": "26b4b56138044515af2fa7d106a93574",
       "version_major": 2,
       "version_minor": 0
      },
      "text/plain": [
       "interactive(children=(Dropdown(description='x', options=('20210330_210607_3d_l2.0_80k_Dold_Gnew_models', '2021…"
      ]
     },
     "metadata": {},
     "output_type": "display_data"
    }
   ],
   "source": [
    "# parent_dir=u.result\n",
    "parent_dir=dict1[str(img_size)]\n",
    "\n",
    "dir_lst=[i.split('/')[-1] for i in glob.glob(parent_dir+'20*')]\n",
    "w=interactive(lambda x: x, x=Dropdown(options=dir_lst))\n",
    "display(w)"
   ]
  },
  {
   "cell_type": "code",
   "execution_count": 78,
   "metadata": {},
   "outputs": [
    {
     "name": "stdout",
     "output_type": "stream",
     "text": [
      "/global/cfs/cdirs/m3363/vayyar/cosmogan_data/results_from_other_code/pytorch/results/3d/20210210_060657_3d_l0.5_80k\n"
     ]
    }
   ],
   "source": [
    "result=w.result\n",
    "result_dir=parent_dir+result\n",
    "print(result_dir)"
   ]
  },
  {
   "cell_type": "markdown",
   "metadata": {},
   "source": [
    "## Plot Losses"
   ]
  },
  {
   "cell_type": "code",
   "execution_count": 79,
   "metadata": {},
   "outputs": [],
   "source": [
    "df_metrics=pd.read_pickle(result_dir+'/df_metrics.pkle').astype(np.float64)\n"
   ]
  },
  {
   "cell_type": "code",
   "execution_count": 80,
   "metadata": {},
   "outputs": [
    {
     "data": {
      "text/html": [
       "<div>\n",
       "<style scoped>\n",
       "    .dataframe tbody tr th:only-of-type {\n",
       "        vertical-align: middle;\n",
       "    }\n",
       "\n",
       "    .dataframe tbody tr th {\n",
       "        vertical-align: top;\n",
       "    }\n",
       "\n",
       "    .dataframe thead th {\n",
       "        text-align: right;\n",
       "    }\n",
       "</style>\n",
       "<table border=\"1\" class=\"dataframe\">\n",
       "  <thead>\n",
       "    <tr style=\"text-align: right;\">\n",
       "      <th></th>\n",
       "      <th>step</th>\n",
       "      <th>epoch</th>\n",
       "      <th>Dreal</th>\n",
       "      <th>Dfake</th>\n",
       "      <th>Dfull</th>\n",
       "      <th>G_adv</th>\n",
       "      <th>G_full</th>\n",
       "      <th>spec_loss</th>\n",
       "      <th>hist_loss</th>\n",
       "      <th>spec_chi</th>\n",
       "      <th>hist_chi</th>\n",
       "      <th>D(x)</th>\n",
       "      <th>D_G_z1</th>\n",
       "      <th>D_G_z2</th>\n",
       "      <th>time</th>\n",
       "    </tr>\n",
       "  </thead>\n",
       "  <tbody>\n",
       "    <tr>\n",
       "      <th>49991</th>\n",
       "      <td>49991.0</td>\n",
       "      <td>19.0</td>\n",
       "      <td>0.139178</td>\n",
       "      <td>0.153671</td>\n",
       "      <td>0.292849</td>\n",
       "      <td>3.335879</td>\n",
       "      <td>109.390038</td>\n",
       "      <td>106.054161</td>\n",
       "      <td>0.593765</td>\n",
       "      <td>107.882362</td>\n",
       "      <td>1.828320</td>\n",
       "      <td>3.040272</td>\n",
       "      <td>-3.639444</td>\n",
       "      <td>-3.297790</td>\n",
       "      <td>0.174207</td>\n",
       "    </tr>\n",
       "    <tr>\n",
       "      <th>49992</th>\n",
       "      <td>49992.0</td>\n",
       "      <td>19.0</td>\n",
       "      <td>0.151336</td>\n",
       "      <td>0.157718</td>\n",
       "      <td>0.309054</td>\n",
       "      <td>3.575520</td>\n",
       "      <td>115.043243</td>\n",
       "      <td>111.467728</td>\n",
       "      <td>0.449586</td>\n",
       "      <td>114.440796</td>\n",
       "      <td>1.527064</td>\n",
       "      <td>3.897165</td>\n",
       "      <td>-3.095383</td>\n",
       "      <td>-3.544273</td>\n",
       "      <td>0.176674</td>\n",
       "    </tr>\n",
       "    <tr>\n",
       "      <th>49993</th>\n",
       "      <td>49993.0</td>\n",
       "      <td>19.0</td>\n",
       "      <td>0.105302</td>\n",
       "      <td>0.151941</td>\n",
       "      <td>0.257243</td>\n",
       "      <td>4.033356</td>\n",
       "      <td>110.972748</td>\n",
       "      <td>106.939392</td>\n",
       "      <td>0.099652</td>\n",
       "      <td>111.905945</td>\n",
       "      <td>0.928245</td>\n",
       "      <td>3.616718</td>\n",
       "      <td>-3.611984</td>\n",
       "      <td>-4.010709</td>\n",
       "      <td>0.176776</td>\n",
       "    </tr>\n",
       "    <tr>\n",
       "      <th>49994</th>\n",
       "      <td>49994.0</td>\n",
       "      <td>19.0</td>\n",
       "      <td>0.161123</td>\n",
       "      <td>0.149665</td>\n",
       "      <td>0.310788</td>\n",
       "      <td>3.421758</td>\n",
       "      <td>112.690910</td>\n",
       "      <td>109.269150</td>\n",
       "      <td>-0.230819</td>\n",
       "      <td>108.171524</td>\n",
       "      <td>1.120545</td>\n",
       "      <td>3.100078</td>\n",
       "      <td>-4.062793</td>\n",
       "      <td>-3.382043</td>\n",
       "      <td>0.170807</td>\n",
       "    </tr>\n",
       "    <tr>\n",
       "      <th>49995</th>\n",
       "      <td>49995.0</td>\n",
       "      <td>19.0</td>\n",
       "      <td>0.125806</td>\n",
       "      <td>0.125898</td>\n",
       "      <td>0.251705</td>\n",
       "      <td>3.648645</td>\n",
       "      <td>112.789368</td>\n",
       "      <td>109.140724</td>\n",
       "      <td>-0.082451</td>\n",
       "      <td>110.255234</td>\n",
       "      <td>0.878076</td>\n",
       "      <td>3.464474</td>\n",
       "      <td>-3.210974</td>\n",
       "      <td>-3.614910</td>\n",
       "      <td>0.166331</td>\n",
       "    </tr>\n",
       "    <tr>\n",
       "      <th>49996</th>\n",
       "      <td>49996.0</td>\n",
       "      <td>19.0</td>\n",
       "      <td>0.142615</td>\n",
       "      <td>0.127887</td>\n",
       "      <td>0.270503</td>\n",
       "      <td>3.645512</td>\n",
       "      <td>112.513634</td>\n",
       "      <td>108.868118</td>\n",
       "      <td>-0.282605</td>\n",
       "      <td>108.630768</td>\n",
       "      <td>0.782956</td>\n",
       "      <td>3.549009</td>\n",
       "      <td>-3.601730</td>\n",
       "      <td>-3.614101</td>\n",
       "      <td>0.166848</td>\n",
       "    </tr>\n",
       "    <tr>\n",
       "      <th>49997</th>\n",
       "      <td>49997.0</td>\n",
       "      <td>19.0</td>\n",
       "      <td>0.130128</td>\n",
       "      <td>0.139888</td>\n",
       "      <td>0.270016</td>\n",
       "      <td>3.888697</td>\n",
       "      <td>113.607445</td>\n",
       "      <td>109.718750</td>\n",
       "      <td>-0.130014</td>\n",
       "      <td>107.163147</td>\n",
       "      <td>0.519461</td>\n",
       "      <td>4.171101</td>\n",
       "      <td>-3.464474</td>\n",
       "      <td>-3.864824</td>\n",
       "      <td>0.167543</td>\n",
       "    </tr>\n",
       "    <tr>\n",
       "      <th>49998</th>\n",
       "      <td>49998.0</td>\n",
       "      <td>19.0</td>\n",
       "      <td>0.142242</td>\n",
       "      <td>0.135834</td>\n",
       "      <td>0.278076</td>\n",
       "      <td>3.917274</td>\n",
       "      <td>108.965904</td>\n",
       "      <td>105.048630</td>\n",
       "      <td>-0.458831</td>\n",
       "      <td>109.337723</td>\n",
       "      <td>0.388810</td>\n",
       "      <td>3.689531</td>\n",
       "      <td>-3.848390</td>\n",
       "      <td>-3.890647</td>\n",
       "      <td>0.166817</td>\n",
       "    </tr>\n",
       "    <tr>\n",
       "      <th>49999</th>\n",
       "      <td>49999.0</td>\n",
       "      <td>19.0</td>\n",
       "      <td>0.112726</td>\n",
       "      <td>0.145006</td>\n",
       "      <td>0.257732</td>\n",
       "      <td>3.998548</td>\n",
       "      <td>112.899139</td>\n",
       "      <td>108.900589</td>\n",
       "      <td>-0.236680</td>\n",
       "      <td>110.021439</td>\n",
       "      <td>-0.211256</td>\n",
       "      <td>3.616997</td>\n",
       "      <td>-3.077670</td>\n",
       "      <td>-3.973144</td>\n",
       "      <td>0.167481</td>\n",
       "    </tr>\n",
       "    <tr>\n",
       "      <th>50000</th>\n",
       "      <td>NaN</td>\n",
       "      <td>NaN</td>\n",
       "      <td>NaN</td>\n",
       "      <td>NaN</td>\n",
       "      <td>NaN</td>\n",
       "      <td>NaN</td>\n",
       "      <td>NaN</td>\n",
       "      <td>NaN</td>\n",
       "      <td>NaN</td>\n",
       "      <td>107.670441</td>\n",
       "      <td>0.003983</td>\n",
       "      <td>NaN</td>\n",
       "      <td>NaN</td>\n",
       "      <td>NaN</td>\n",
       "      <td>NaN</td>\n",
       "    </tr>\n",
       "  </tbody>\n",
       "</table>\n",
       "</div>"
      ],
      "text/plain": [
       "          step  epoch     Dreal     Dfake     Dfull     G_adv      G_full  \\\n",
       "49991  49991.0   19.0  0.139178  0.153671  0.292849  3.335879  109.390038   \n",
       "49992  49992.0   19.0  0.151336  0.157718  0.309054  3.575520  115.043243   \n",
       "49993  49993.0   19.0  0.105302  0.151941  0.257243  4.033356  110.972748   \n",
       "49994  49994.0   19.0  0.161123  0.149665  0.310788  3.421758  112.690910   \n",
       "49995  49995.0   19.0  0.125806  0.125898  0.251705  3.648645  112.789368   \n",
       "49996  49996.0   19.0  0.142615  0.127887  0.270503  3.645512  112.513634   \n",
       "49997  49997.0   19.0  0.130128  0.139888  0.270016  3.888697  113.607445   \n",
       "49998  49998.0   19.0  0.142242  0.135834  0.278076  3.917274  108.965904   \n",
       "49999  49999.0   19.0  0.112726  0.145006  0.257732  3.998548  112.899139   \n",
       "50000      NaN    NaN       NaN       NaN       NaN       NaN         NaN   \n",
       "\n",
       "        spec_loss  hist_loss    spec_chi  hist_chi      D(x)    D_G_z1  \\\n",
       "49991  106.054161   0.593765  107.882362  1.828320  3.040272 -3.639444   \n",
       "49992  111.467728   0.449586  114.440796  1.527064  3.897165 -3.095383   \n",
       "49993  106.939392   0.099652  111.905945  0.928245  3.616718 -3.611984   \n",
       "49994  109.269150  -0.230819  108.171524  1.120545  3.100078 -4.062793   \n",
       "49995  109.140724  -0.082451  110.255234  0.878076  3.464474 -3.210974   \n",
       "49996  108.868118  -0.282605  108.630768  0.782956  3.549009 -3.601730   \n",
       "49997  109.718750  -0.130014  107.163147  0.519461  4.171101 -3.464474   \n",
       "49998  105.048630  -0.458831  109.337723  0.388810  3.689531 -3.848390   \n",
       "49999  108.900589  -0.236680  110.021439 -0.211256  3.616997 -3.077670   \n",
       "50000         NaN        NaN  107.670441  0.003983       NaN       NaN   \n",
       "\n",
       "         D_G_z2      time  \n",
       "49991 -3.297790  0.174207  \n",
       "49992 -3.544273  0.176674  \n",
       "49993 -4.010709  0.176776  \n",
       "49994 -3.382043  0.170807  \n",
       "49995 -3.614910  0.166331  \n",
       "49996 -3.614101  0.166848  \n",
       "49997 -3.864824  0.167543  \n",
       "49998 -3.890647  0.166817  \n",
       "49999 -3.973144  0.167481  \n",
       "50000       NaN       NaN  "
      ]
     },
     "execution_count": 80,
     "metadata": {},
     "output_type": "execute_result"
    }
   ],
   "source": [
    "df_metrics.tail(10)"
   ]
  },
  {
   "cell_type": "code",
   "execution_count": 81,
   "metadata": {},
   "outputs": [
    {
     "data": {
      "application/vnd.jupyter.widget-view+json": {
       "model_id": "91b459df4fe246ff970deb7eb115cb30",
       "version_major": 2,
       "version_minor": 0
      },
      "text/plain": [
       "interactive(children=(SelectMultiple(description='col_list', options=('step', 'epoch', 'Dreal', 'Dfake', 'Dful…"
      ]
     },
     "metadata": {},
     "output_type": "display_data"
    },
    {
     "data": {
      "text/plain": [
       "<function __main__.f_plot_metrics(df, col_list)>"
      ]
     },
     "execution_count": 81,
     "metadata": {},
     "output_type": "execute_result"
    }
   ],
   "source": [
    "def f_plot_metrics(df,col_list):\n",
    "    \n",
    "    plt.figure()\n",
    "    for key in col_list:\n",
    "        plt.plot(df_metrics[key],label=key,marker='*',linestyle='')\n",
    "    plt.legend()\n",
    "    \n",
    "#     col_list=list(col_list)\n",
    "#     df.plot(kind='line',x='step',y=col_list)\n",
    "    \n",
    "# f_plot_metrics(df_metrics,['spec_chi','hist_chi'])\n",
    "\n",
    "interact_manual(f_plot_metrics,df=fixed(df_metrics), col_list=SelectMultiple(options=df_metrics.columns.values))"
   ]
  },
  {
   "cell_type": "code",
   "execution_count": 82,
   "metadata": {},
   "outputs": [
    {
     "name": "stdout",
     "output_type": "stream",
     "text": [
      "-1.3191087806224824\n"
     ]
    },
    {
     "data": {
      "text/html": [
       "<div>\n",
       "<style scoped>\n",
       "    .dataframe tbody tr th:only-of-type {\n",
       "        vertical-align: middle;\n",
       "    }\n",
       "\n",
       "    .dataframe tbody tr th {\n",
       "        vertical-align: top;\n",
       "    }\n",
       "\n",
       "    .dataframe thead th {\n",
       "        text-align: right;\n",
       "    }\n",
       "</style>\n",
       "<table border=\"1\" class=\"dataframe\">\n",
       "  <thead>\n",
       "    <tr style=\"text-align: right;\">\n",
       "      <th></th>\n",
       "      <th>step</th>\n",
       "      <th>epoch</th>\n",
       "      <th>Dreal</th>\n",
       "      <th>Dfake</th>\n",
       "      <th>Dfull</th>\n",
       "      <th>G_adv</th>\n",
       "      <th>G_full</th>\n",
       "      <th>spec_loss</th>\n",
       "      <th>hist_loss</th>\n",
       "      <th>spec_chi</th>\n",
       "      <th>hist_chi</th>\n",
       "      <th>D(x)</th>\n",
       "      <th>D_G_z1</th>\n",
       "      <th>D_G_z2</th>\n",
       "      <th>time</th>\n",
       "    </tr>\n",
       "  </thead>\n",
       "  <tbody>\n",
       "    <tr>\n",
       "      <th>48746</th>\n",
       "      <td>48746.0</td>\n",
       "      <td>19.0</td>\n",
       "      <td>0.221948</td>\n",
       "      <td>0.163785</td>\n",
       "      <td>0.385733</td>\n",
       "      <td>3.410356</td>\n",
       "      <td>114.700104</td>\n",
       "      <td>111.289749</td>\n",
       "      <td>-0.073481</td>\n",
       "      <td>111.955978</td>\n",
       "      <td>-2.790811</td>\n",
       "      <td>2.865679</td>\n",
       "      <td>-4.862306</td>\n",
       "      <td>-3.368082</td>\n",
       "      <td>0.168443</td>\n",
       "    </tr>\n",
       "    <tr>\n",
       "      <th>48573</th>\n",
       "      <td>48573.0</td>\n",
       "      <td>19.0</td>\n",
       "      <td>0.125482</td>\n",
       "      <td>0.176527</td>\n",
       "      <td>0.302009</td>\n",
       "      <td>5.168800</td>\n",
       "      <td>114.598160</td>\n",
       "      <td>109.429359</td>\n",
       "      <td>-0.358928</td>\n",
       "      <td>110.427399</td>\n",
       "      <td>-2.744849</td>\n",
       "      <td>4.403152</td>\n",
       "      <td>-2.852283</td>\n",
       "      <td>-5.159686</td>\n",
       "      <td>0.178840</td>\n",
       "    </tr>\n",
       "    <tr>\n",
       "      <th>41438</th>\n",
       "      <td>41438.0</td>\n",
       "      <td>16.0</td>\n",
       "      <td>0.161493</td>\n",
       "      <td>0.144947</td>\n",
       "      <td>0.306440</td>\n",
       "      <td>3.483413</td>\n",
       "      <td>115.430450</td>\n",
       "      <td>111.947037</td>\n",
       "      <td>0.689315</td>\n",
       "      <td>111.940392</td>\n",
       "      <td>-2.720657</td>\n",
       "      <td>4.068726</td>\n",
       "      <td>-3.346916</td>\n",
       "      <td>-3.443439</td>\n",
       "      <td>0.168607</td>\n",
       "    </tr>\n",
       "    <tr>\n",
       "      <th>431</th>\n",
       "      <td>431.0</td>\n",
       "      <td>0.0</td>\n",
       "      <td>0.228316</td>\n",
       "      <td>0.148959</td>\n",
       "      <td>0.377275</td>\n",
       "      <td>3.119493</td>\n",
       "      <td>114.276299</td>\n",
       "      <td>111.156807</td>\n",
       "      <td>-2.459732</td>\n",
       "      <td>111.252029</td>\n",
       "      <td>-2.701512</td>\n",
       "      <td>6.020895</td>\n",
       "      <td>-3.991484</td>\n",
       "      <td>-3.074159</td>\n",
       "      <td>0.165140</td>\n",
       "    </tr>\n",
       "    <tr>\n",
       "      <th>432</th>\n",
       "      <td>432.0</td>\n",
       "      <td>0.0</td>\n",
       "      <td>0.249108</td>\n",
       "      <td>0.363809</td>\n",
       "      <td>0.612917</td>\n",
       "      <td>6.504613</td>\n",
       "      <td>117.375618</td>\n",
       "      <td>110.871002</td>\n",
       "      <td>-2.476121</td>\n",
       "      <td>110.937500</td>\n",
       "      <td>-2.689993</td>\n",
       "      <td>5.678924</td>\n",
       "      <td>-0.919672</td>\n",
       "      <td>-6.503074</td>\n",
       "      <td>0.165737</td>\n",
       "    </tr>\n",
       "    <tr>\n",
       "      <th>433</th>\n",
       "      <td>433.0</td>\n",
       "      <td>0.0</td>\n",
       "      <td>0.244808</td>\n",
       "      <td>0.158577</td>\n",
       "      <td>0.403385</td>\n",
       "      <td>6.625327</td>\n",
       "      <td>117.526093</td>\n",
       "      <td>110.900764</td>\n",
       "      <td>-2.516761</td>\n",
       "      <td>110.103714</td>\n",
       "      <td>-2.658638</td>\n",
       "      <td>4.899019</td>\n",
       "      <td>-4.433754</td>\n",
       "      <td>-6.623944</td>\n",
       "      <td>0.165499</td>\n",
       "    </tr>\n",
       "    <tr>\n",
       "      <th>430</th>\n",
       "      <td>430.0</td>\n",
       "      <td>0.0</td>\n",
       "      <td>0.153840</td>\n",
       "      <td>0.233067</td>\n",
       "      <td>0.386907</td>\n",
       "      <td>6.291269</td>\n",
       "      <td>117.471123</td>\n",
       "      <td>111.179855</td>\n",
       "      <td>-2.358588</td>\n",
       "      <td>111.141769</td>\n",
       "      <td>-2.600845</td>\n",
       "      <td>5.256094</td>\n",
       "      <td>-7.552483</td>\n",
       "      <td>-6.289396</td>\n",
       "      <td>0.165749</td>\n",
       "    </tr>\n",
       "    <tr>\n",
       "      <th>429</th>\n",
       "      <td>429.0</td>\n",
       "      <td>0.0</td>\n",
       "      <td>0.232126</td>\n",
       "      <td>0.349030</td>\n",
       "      <td>0.581156</td>\n",
       "      <td>9.688788</td>\n",
       "      <td>120.807060</td>\n",
       "      <td>111.118271</td>\n",
       "      <td>-2.235708</td>\n",
       "      <td>111.092361</td>\n",
       "      <td>-2.400405</td>\n",
       "      <td>5.397780</td>\n",
       "      <td>-11.089845</td>\n",
       "      <td>-9.688726</td>\n",
       "      <td>0.165266</td>\n",
       "    </tr>\n",
       "    <tr>\n",
       "      <th>47666</th>\n",
       "      <td>47666.0</td>\n",
       "      <td>19.0</td>\n",
       "      <td>0.154022</td>\n",
       "      <td>0.171831</td>\n",
       "      <td>0.325853</td>\n",
       "      <td>3.498048</td>\n",
       "      <td>115.066818</td>\n",
       "      <td>111.568771</td>\n",
       "      <td>-0.182188</td>\n",
       "      <td>111.938362</td>\n",
       "      <td>-2.375428</td>\n",
       "      <td>2.960806</td>\n",
       "      <td>-4.767941</td>\n",
       "      <td>-3.462143</td>\n",
       "      <td>0.169265</td>\n",
       "    </tr>\n",
       "    <tr>\n",
       "      <th>48650</th>\n",
       "      <td>48650.0</td>\n",
       "      <td>19.0</td>\n",
       "      <td>0.148364</td>\n",
       "      <td>0.128720</td>\n",
       "      <td>0.277085</td>\n",
       "      <td>3.328581</td>\n",
       "      <td>112.363953</td>\n",
       "      <td>109.035370</td>\n",
       "      <td>-0.034871</td>\n",
       "      <td>111.167877</td>\n",
       "      <td>-2.361971</td>\n",
       "      <td>3.332144</td>\n",
       "      <td>-3.328040</td>\n",
       "      <td>-3.280420</td>\n",
       "      <td>0.166201</td>\n",
       "    </tr>\n",
       "  </tbody>\n",
       "</table>\n",
       "</div>"
      ],
      "text/plain": [
       "          step  epoch     Dreal     Dfake     Dfull     G_adv      G_full  \\\n",
       "48746  48746.0   19.0  0.221948  0.163785  0.385733  3.410356  114.700104   \n",
       "48573  48573.0   19.0  0.125482  0.176527  0.302009  5.168800  114.598160   \n",
       "41438  41438.0   16.0  0.161493  0.144947  0.306440  3.483413  115.430450   \n",
       "431      431.0    0.0  0.228316  0.148959  0.377275  3.119493  114.276299   \n",
       "432      432.0    0.0  0.249108  0.363809  0.612917  6.504613  117.375618   \n",
       "433      433.0    0.0  0.244808  0.158577  0.403385  6.625327  117.526093   \n",
       "430      430.0    0.0  0.153840  0.233067  0.386907  6.291269  117.471123   \n",
       "429      429.0    0.0  0.232126  0.349030  0.581156  9.688788  120.807060   \n",
       "47666  47666.0   19.0  0.154022  0.171831  0.325853  3.498048  115.066818   \n",
       "48650  48650.0   19.0  0.148364  0.128720  0.277085  3.328581  112.363953   \n",
       "\n",
       "        spec_loss  hist_loss    spec_chi  hist_chi      D(x)     D_G_z1  \\\n",
       "48746  111.289749  -0.073481  111.955978 -2.790811  2.865679  -4.862306   \n",
       "48573  109.429359  -0.358928  110.427399 -2.744849  4.403152  -2.852283   \n",
       "41438  111.947037   0.689315  111.940392 -2.720657  4.068726  -3.346916   \n",
       "431    111.156807  -2.459732  111.252029 -2.701512  6.020895  -3.991484   \n",
       "432    110.871002  -2.476121  110.937500 -2.689993  5.678924  -0.919672   \n",
       "433    110.900764  -2.516761  110.103714 -2.658638  4.899019  -4.433754   \n",
       "430    111.179855  -2.358588  111.141769 -2.600845  5.256094  -7.552483   \n",
       "429    111.118271  -2.235708  111.092361 -2.400405  5.397780 -11.089845   \n",
       "47666  111.568771  -0.182188  111.938362 -2.375428  2.960806  -4.767941   \n",
       "48650  109.035370  -0.034871  111.167877 -2.361971  3.332144  -3.328040   \n",
       "\n",
       "         D_G_z2      time  \n",
       "48746 -3.368082  0.168443  \n",
       "48573 -5.159686  0.178840  \n",
       "41438 -3.443439  0.168607  \n",
       "431   -3.074159  0.165140  \n",
       "432   -6.503074  0.165737  \n",
       "433   -6.623944  0.165499  \n",
       "430   -6.289396  0.165749  \n",
       "429   -9.688726  0.165266  \n",
       "47666 -3.462143  0.169265  \n",
       "48650 -3.280420  0.166201  "
      ]
     },
     "execution_count": 82,
     "metadata": {},
     "output_type": "execute_result"
    }
   ],
   "source": [
    "\n",
    "chi=df_metrics.quantile(q=0.005,axis=0)['hist_chi']\n",
    "print(chi)\n",
    "df_metrics[df_metrics['hist_chi']<=chi].sort_values(by=['hist_chi']).head(10)"
   ]
  },
  {
   "cell_type": "code",
   "execution_count": 83,
   "metadata": {},
   "outputs": [],
   "source": [
    "# display(df_metrics.sort_values(by=['hist_chi']).head(8))\n",
    "# display(df_metrics.sort_values(by=['spec_chi']).head(8))"
   ]
  },
  {
   "cell_type": "markdown",
   "metadata": {},
   "source": [
    "## Read stored chi-squares for images"
   ]
  },
  {
   "cell_type": "code",
   "execution_count": 84,
   "metadata": {},
   "outputs": [],
   "source": [
    "df=pd.read_pickle(result_dir+'/df_processed.pkle')\n",
    "df[['epoch','step']]=df[['epoch','step']].astype(int)\n",
    "df['label']=df.epoch.astype(str)+'-'+df.step.astype(str) # Add label column for plotting\n",
    "\n",
    "col_list=['label','chi_1','chi_spec1', 'chi_spec3', 'chi_1a', 'chi_1b', 'chi_1c', 'chi_2','chi_imgvar', 'chi_spec2','epoch','step']\n"
   ]
  },
  {
   "cell_type": "code",
   "execution_count": 85,
   "metadata": {},
   "outputs": [],
   "source": [
    "def f_slice_df(df,cutoff=0.2,sort_col='chi_1',col_mode='all',head=10,epoch_range=[0,None],display_flag=False):\n",
    "    ''' View dataframe after slicing\n",
    "    '''\n",
    "    col_list=['label','chi_1','chi_spec1', 'chi_spec3', 'chi_1a', 'chi_1b', 'chi_1c', 'chi_2','chi_imgvar', 'chi_spec2','epoch','step']\n",
    "    if (col_mode=='short'): col_list=['label','chi_1','chi_spec1']\n",
    "        \n",
    "    print(epoch_range)\n",
    "    if epoch_range[1]==None: epoch_range[1]=df.max()['epoch']\n",
    "    df=df[(df.epoch<=epoch_range[1])&(df.epoch>=epoch_range[0])]\n",
    "\n",
    "    ## Apply cutoff to keep reasonable chi1 and chispec1\n",
    "    best_keys=[ 'chi_1', 'chi_spec1']\n",
    "    q_dict=dict(df.quantile(q=cutoff,axis=0)[best_keys])   \n",
    "    print(q_dict)\n",
    "    df=df.query('chi_1 < {0} & chi_spec1 < {1}'.format(q_dict['chi_1'],q_dict['chi_spec1']))\n",
    "    \n",
    "    # Sort dataframe\n",
    "    df1=df[df.epoch>0].sort_values(by=sort_col)\n",
    "        \n",
    "    df2=df1.head(head)[col_list]\n",
    "\n",
    "    if display_flag:   # Display df\n",
    "        display_cols=['label','chi_1','chi_spec1', 'chi_spec3', 'chi_1a', 'chi_1b', 'chi_1c', 'chi_2','chi_imgvar', 'chi_spec2']\n",
    "        display(df2)\n",
    "    \n",
    "    return df2"
   ]
  },
  {
   "cell_type": "code",
   "execution_count": 86,
   "metadata": {},
   "outputs": [
    {
     "data": {
      "application/vnd.jupyter.widget-view+json": {
       "model_id": "16e0049e45574c5485e71b184ed54831",
       "version_major": 2,
       "version_minor": 0
      },
      "text/plain": [
       "interactive(children=(FloatSlider(value=0.2, description='cutoff', max=1.0, step=0.01), Dropdown(description='…"
      ]
     },
     "metadata": {},
     "output_type": "display_data"
    }
   ],
   "source": [
    "w=interactive(f_slice_df,df=fixed(df),\n",
    "cutoff=widgets.FloatSlider(value=0.2, min=0, max=1.0, step=0.01), \n",
    "col_mode=['all','short'], display_flag=widgets.Checkbox(value=False),\n",
    "head=widgets.IntSlider(value=10,min=1,max=20,step=1),\n",
    "epoch_range=widgets.IntRangeSlider(value=[0,np.max(df.epoch.values)],min=0,max=np.max(df.epoch.values),step=1),\n",
    "sort_col=['chi_1','chi_spec1', 'chi_spec3', 'chi_1a', 'chi_1b', 'chi_1c', 'chi_2','chi_imgvar', 'chi_spec2'],\n",
    ")\n",
    "display(w)"
   ]
  },
  {
   "cell_type": "code",
   "execution_count": 87,
   "metadata": {},
   "outputs": [],
   "source": [
    "df_sliced=w.result\n",
    "# df_sliced"
   ]
  },
  {
   "cell_type": "code",
   "execution_count": 88,
   "metadata": {},
   "outputs": [
    {
     "name": "stdout",
     "output_type": "stream",
     "text": [
      "[0, None]\n",
      "{'chi_1': 0.8515629876156938, 'chi_spec1': 17.629881713761986}\n",
      "[0, 19]\n",
      "{'chi_1': 0.4467854450791812, 'chi_spec1': 12.326062544700253}\n",
      "[0, 19]\n",
      "{'chi_1': 0.20935169432385645, 'chi_spec1': 7.148777479045893}\n",
      "[array([44900, 33790, 40160, 28200]), array([ 6560, 29210]), array([40250, 41080])]\n",
      "[ 6560 28200 29210 33790 40160 40250 41080 44900]\n"
     ]
    }
   ],
   "source": [
    "best_step=[]\n",
    "df_test=df.copy()\n",
    "# df_test=df[df.epoch>5]\n",
    "best_step.append(f_slice_df(df_test,cutoff=0.9,sort_col='chi_1',head=4,display_flag=False).step.values)\n",
    "best_step.append(f_slice_df(df_test,cutoff=0.8,sort_col='chi_1c',head=2,display_flag=False).step.values)\n",
    "best_step.append(f_slice_df(df_test,cutoff=0.4,sort_col='chi_spec1',head=2,display_flag=False).step.values)\n",
    "print(best_step)\n",
    "best_step=np.unique([i for j in best_step for i in j])\n",
    "print(best_step)"
   ]
  },
  {
   "cell_type": "code",
   "execution_count": 89,
   "metadata": {},
   "outputs": [],
   "source": [
    "# best_step=[58800]\n",
    "# best_step=np.arange(32800,32900,10).astype(int)"
   ]
  },
  {
   "cell_type": "code",
   "execution_count": 90,
   "metadata": {},
   "outputs": [
    {
     "name": "stdout",
     "output_type": "stream",
     "text": [
      "(8, 22)\n",
      "[(2, 6560), (11, 28200), (11, 29210), (13, 33790), (16, 40160), (16, 40250), (16, 41080), (17, 44900)]\n"
     ]
    }
   ],
   "source": [
    "df_best=df[df.step.isin(best_step)]\n",
    "print(df_best.shape)\n",
    "print([(df_best[df_best.step==step].epoch.values[0],df_best[df_best.step==step].step.values[0]) for step in best_step])\n",
    "# print([(df_best.loc[idx].epoch,df_best.loc[idx].step) for idx in best_idx])"
   ]
  },
  {
   "cell_type": "code",
   "execution_count": 91,
   "metadata": {},
   "outputs": [
    {
     "data": {
      "text/html": [
       "<div>\n",
       "<style scoped>\n",
       "    .dataframe tbody tr th:only-of-type {\n",
       "        vertical-align: middle;\n",
       "    }\n",
       "\n",
       "    .dataframe tbody tr th {\n",
       "        vertical-align: top;\n",
       "    }\n",
       "\n",
       "    .dataframe thead th {\n",
       "        text-align: right;\n",
       "    }\n",
       "</style>\n",
       "<table border=\"1\" class=\"dataframe\">\n",
       "  <thead>\n",
       "    <tr style=\"text-align: right;\">\n",
       "      <th></th>\n",
       "      <th>label</th>\n",
       "      <th>chi_1</th>\n",
       "      <th>chi_spec1</th>\n",
       "      <th>chi_spec3</th>\n",
       "      <th>chi_1a</th>\n",
       "      <th>chi_1b</th>\n",
       "      <th>chi_1c</th>\n",
       "      <th>chi_2</th>\n",
       "      <th>chi_imgvar</th>\n",
       "      <th>chi_spec2</th>\n",
       "      <th>epoch</th>\n",
       "      <th>step</th>\n",
       "    </tr>\n",
       "  </thead>\n",
       "  <tbody>\n",
       "    <tr>\n",
       "      <th>655</th>\n",
       "      <td>2-6560</td>\n",
       "      <td>0.246885</td>\n",
       "      <td>10.027608</td>\n",
       "      <td>49.063214</td>\n",
       "      <td>0.192645</td>\n",
       "      <td>0.053953</td>\n",
       "      <td>0.000288</td>\n",
       "      <td>0.115025</td>\n",
       "      <td>3.904391</td>\n",
       "      <td>17956.069610</td>\n",
       "      <td>2</td>\n",
       "      <td>6560</td>\n",
       "    </tr>\n",
       "    <tr>\n",
       "      <th>2819</th>\n",
       "      <td>11-28200</td>\n",
       "      <td>0.036677</td>\n",
       "      <td>6.014820</td>\n",
       "      <td>49.570766</td>\n",
       "      <td>0.019308</td>\n",
       "      <td>0.014379</td>\n",
       "      <td>0.002990</td>\n",
       "      <td>0.010212</td>\n",
       "      <td>9.884761</td>\n",
       "      <td>1447.230356</td>\n",
       "      <td>11</td>\n",
       "      <td>28200</td>\n",
       "    </tr>\n",
       "    <tr>\n",
       "      <th>2920</th>\n",
       "      <td>11-29210</td>\n",
       "      <td>0.248065</td>\n",
       "      <td>6.946046</td>\n",
       "      <td>59.081433</td>\n",
       "      <td>0.241302</td>\n",
       "      <td>0.006456</td>\n",
       "      <td>0.000306</td>\n",
       "      <td>0.089805</td>\n",
       "      <td>33.648975</td>\n",
       "      <td>50.338523</td>\n",
       "      <td>11</td>\n",
       "      <td>29210</td>\n",
       "    </tr>\n",
       "    <tr>\n",
       "      <th>3378</th>\n",
       "      <td>13-33790</td>\n",
       "      <td>0.032535</td>\n",
       "      <td>6.317830</td>\n",
       "      <td>50.120442</td>\n",
       "      <td>0.028484</td>\n",
       "      <td>0.002187</td>\n",
       "      <td>0.001864</td>\n",
       "      <td>0.013548</td>\n",
       "      <td>6.696044</td>\n",
       "      <td>1461.858703</td>\n",
       "      <td>13</td>\n",
       "      <td>33790</td>\n",
       "    </tr>\n",
       "    <tr>\n",
       "      <th>4015</th>\n",
       "      <td>16-40160</td>\n",
       "      <td>0.032709</td>\n",
       "      <td>5.377288</td>\n",
       "      <td>50.452657</td>\n",
       "      <td>0.027667</td>\n",
       "      <td>0.003498</td>\n",
       "      <td>0.001544</td>\n",
       "      <td>0.013563</td>\n",
       "      <td>10.932140</td>\n",
       "      <td>240.525028</td>\n",
       "      <td>16</td>\n",
       "      <td>40160</td>\n",
       "    </tr>\n",
       "    <tr>\n",
       "      <th>4024</th>\n",
       "      <td>16-40250</td>\n",
       "      <td>0.100561</td>\n",
       "      <td>3.085800</td>\n",
       "      <td>43.490086</td>\n",
       "      <td>0.071879</td>\n",
       "      <td>0.025700</td>\n",
       "      <td>0.002983</td>\n",
       "      <td>0.051874</td>\n",
       "      <td>7.510610</td>\n",
       "      <td>71.322752</td>\n",
       "      <td>16</td>\n",
       "      <td>40250</td>\n",
       "    </tr>\n",
       "    <tr>\n",
       "      <th>4107</th>\n",
       "      <td>16-41080</td>\n",
       "      <td>0.159360</td>\n",
       "      <td>3.133683</td>\n",
       "      <td>47.506667</td>\n",
       "      <td>0.103007</td>\n",
       "      <td>0.053081</td>\n",
       "      <td>0.003272</td>\n",
       "      <td>0.063929</td>\n",
       "      <td>15.402410</td>\n",
       "      <td>45.373778</td>\n",
       "      <td>16</td>\n",
       "      <td>41080</td>\n",
       "    </tr>\n",
       "    <tr>\n",
       "      <th>4489</th>\n",
       "      <td>17-44900</td>\n",
       "      <td>0.023849</td>\n",
       "      <td>4.554960</td>\n",
       "      <td>53.793261</td>\n",
       "      <td>0.017225</td>\n",
       "      <td>0.005775</td>\n",
       "      <td>0.000849</td>\n",
       "      <td>0.004996</td>\n",
       "      <td>17.831019</td>\n",
       "      <td>80.620578</td>\n",
       "      <td>17</td>\n",
       "      <td>44900</td>\n",
       "    </tr>\n",
       "  </tbody>\n",
       "</table>\n",
       "</div>"
      ],
      "text/plain": [
       "         label     chi_1  chi_spec1  chi_spec3    chi_1a    chi_1b    chi_1c  \\\n",
       "655     2-6560  0.246885  10.027608  49.063214  0.192645  0.053953  0.000288   \n",
       "2819  11-28200  0.036677   6.014820  49.570766  0.019308  0.014379  0.002990   \n",
       "2920  11-29210  0.248065   6.946046  59.081433  0.241302  0.006456  0.000306   \n",
       "3378  13-33790  0.032535   6.317830  50.120442  0.028484  0.002187  0.001864   \n",
       "4015  16-40160  0.032709   5.377288  50.452657  0.027667  0.003498  0.001544   \n",
       "4024  16-40250  0.100561   3.085800  43.490086  0.071879  0.025700  0.002983   \n",
       "4107  16-41080  0.159360   3.133683  47.506667  0.103007  0.053081  0.003272   \n",
       "4489  17-44900  0.023849   4.554960  53.793261  0.017225  0.005775  0.000849   \n",
       "\n",
       "         chi_2  chi_imgvar     chi_spec2  epoch   step  \n",
       "655   0.115025    3.904391  17956.069610      2   6560  \n",
       "2819  0.010212    9.884761   1447.230356     11  28200  \n",
       "2920  0.089805   33.648975     50.338523     11  29210  \n",
       "3378  0.013548    6.696044   1461.858703     13  33790  \n",
       "4015  0.013563   10.932140    240.525028     16  40160  \n",
       "4024  0.051874    7.510610     71.322752     16  40250  \n",
       "4107  0.063929   15.402410     45.373778     16  41080  \n",
       "4489  0.004996   17.831019     80.620578     17  44900  "
      ]
     },
     "execution_count": 91,
     "metadata": {},
     "output_type": "execute_result"
    }
   ],
   "source": [
    "df_best[col_list]\n"
   ]
  },
  {
   "cell_type": "markdown",
   "metadata": {},
   "source": [
    "### Plots 2: stored data"
   ]
  },
  {
   "cell_type": "code",
   "execution_count": 92,
   "metadata": {
    "jupyter": {
     "source_hidden": true
    }
   },
   "outputs": [],
   "source": [
    "\n",
    "def f_plot_hist_spec(df,dict_bkg,plot_type):\n",
    "\n",
    "    img_size=64\n",
    "    assert plot_type in ['hist','spec','grid','spec_relative','hist_relative'],\"Invalid mode %s\"%(plot_type)\n",
    "\n",
    "    if plot_type in ['hist','spec','spec_relative','hist_relative']:     fig=plt.figure(figsize=(6,6))\n",
    "\n",
    "\n",
    "    for (i,row),marker in zip(df.iterrows(),itertools.cycle('>^*sDHPdpx_')):\n",
    "        label=row.label\n",
    "        if plot_type=='hist':\n",
    "            x1=row.hist_bin_centers\n",
    "            y1=row.hist_val\n",
    "            yerr1=row.hist_err\n",
    "            x1=f_invtransform(x1)\n",
    "            \n",
    "            plt.errorbar(x1,y1,yerr1,marker=marker,markersize=5,linestyle='',label=label)\n",
    "        if plot_type=='spec':\n",
    "            \n",
    "            y2=row.spec_val\n",
    "            yerr2=row.spec_sdev/np.sqrt(row.num_imgs)\n",
    "            x2=np.arange(len(y2))\n",
    "            \n",
    "            plt.fill_between(x2, y2 - yerr2, y2 + yerr2, alpha=0.4)\n",
    "            plt.plot(x2, y2, marker=marker, linestyle=':',label=label)\n",
    "            plt.xlim(0,img_size/2)\n",
    "\n",
    "\n",
    "        if plot_type=='spec_relative':\n",
    "            \n",
    "            y2=row.spec_val\n",
    "            yerr2=row.spec_sdev\n",
    "            x2=np.arange(len(y2))\n",
    "            \n",
    "            ### Reference spectrum\n",
    "            y1,yerr1=dict_bkg['spec_val'],dict_bkg['spec_sdev']\n",
    "            y=y2/(1.0*y1)\n",
    "            ## Variance is sum of variance of both variables, since they are uncorrelated\n",
    "            \n",
    "            # delta_r=sqrt(\\delta_c2 ^ 2/ c1^2 + \\delta_c1^2 * c_2^2 / c_1^4)\n",
    "            yerr=(np.abs(y))*np.sqrt((yerr1/y1)**2+(yerr2/y2)**2)/np.sqrt(row['num_imgs'])\n",
    "\n",
    "            plt.fill_between(x2, y - yerr, y + yerr, alpha=0.4)\n",
    "            plt.plot(x2, y, marker=marker, linestyle=':',label=label)            \n",
    "            \n",
    "            \n",
    "        if plot_type=='hist_relative':\n",
    "\n",
    "            x2=row.hist_bin_centers\n",
    "            y2=row.hist_val\n",
    "            yerr2=row.hist_err\n",
    "            x2=f_invtransform(x2)\n",
    "            \n",
    "#             plt.errorbar(x1,y1,yerr1,marker=marker,markersize=5,linestyle='',label=label)\n",
    "            \n",
    "            ### Reference spectrum\n",
    "            y1,yerr1=dict_bkg['hist_val'],dict_bkg['hist_err']\n",
    "\n",
    "            y=y2/(1.0*y1)\n",
    "            ## Variance is sum of variance of both variables, since they are uncorrelated\n",
    "            \n",
    "            # delta_r=sqrt(\\delta_c2 ^ 2/ c1^2 + \\delta_c1^2 * c_2^2 / c_1^4)\n",
    "            yerr=(np.abs(y))*np.sqrt((yerr1/y1)**2+(yerr2/y2)**2)/np.sqrt(row['num_imgs'])\n",
    "\n",
    "            plt.fill_between(x2, y - yerr, y + yerr, alpha=0.4)\n",
    "            plt.plot(x2, y, marker=marker, linestyle=':',label=label)            \n",
    "            plt.xlim(0,img_size/2)\n",
    "            plt.ylim(0,5)\n",
    "            plt.legend()\n",
    "\n",
    "        if plot_type=='grid':\n",
    "            images=np.load(row.fname)[:,:,:,0]\n",
    "            print(images.shape)\n",
    "            f_plot_grid(images[:18],cols=6,fig_size=(10,5))\n",
    "            \n",
    "    ### Plot input data\n",
    "    if plot_type=='hist':\n",
    "        x,y,yerr=dict_bkg['hist_bin_centers'],dict_bkg['hist_val'],dict_bkg['hist_err']\n",
    "        x=f_invtransform(x)\n",
    "        plt.errorbar(x, y,yerr,color='k',linestyle='-',label='bkgnd')   \n",
    "        plt.title('Pixel Intensity Histogram')\n",
    "        plt.xscale('symlog',linthreshx=50)\n",
    "        \n",
    "    if plot_type=='spec':\n",
    "        y,yerr=dict_bkg['spec_val'],dict_bkg['spec_sdev']/np.sqrt(num_bkgnd)\n",
    "        x=np.arange(len(y))\n",
    "        plt.fill_between(x, y - yerr, y + yerr, color='k',alpha=0.8)\n",
    "        plt.xlim(0,img_size/2)\n",
    "        plt.title('Spectrum')\n",
    "        \n",
    "    if plot_type=='spec_relative':\n",
    "        plt.axhline(y=1.0,color='k',linestyle='-.')\n",
    "        plt.xlim(0,img_size/2)\n",
    "        plt.ylim(0.5,2)\n",
    "        plt.legend()\n",
    "        \n",
    "    if plot_type=='hist_relative':\n",
    "        plt.axhline(y=1.0,color='k',linestyle='-.')\n",
    "        \n",
    "    plt.legend(bbox_to_anchor=(0.3, 0.75),ncol=2, fancybox=True, shadow=True,prop={'size':6})\n",
    "    if plot_type in ['hist','spec']:     plt.yscale('log')\n",
    "\n",
    "# f_plot_hist_spec(df_runs,dict_val,'hist')\n",
    "# f_plot_hist_spec(df_runs,dict_val,'spec')\n",
    "# f_plot_hist_spec(df_best,dict_val,'grid')\n"
   ]
  },
  {
   "cell_type": "code",
   "execution_count": 93,
   "metadata": {},
   "outputs": [
    {
     "data": {
      "application/vnd.jupyter.widget-view+json": {
       "model_id": "88b588eeaf55447dad1d76d069142ae1",
       "version_major": 2,
       "version_minor": 0
      },
      "text/plain": [
       "interactive(children=(SelectMultiple(description='labels_list', options=('2-6560', '11-28200', '11-29210', '13…"
      ]
     },
     "metadata": {},
     "output_type": "display_data"
    },
    {
     "data": {
      "text/plain": [
       "<function __main__.f_widget_compare(df, labels_list, bkgnd, plot_type)>"
      ]
     },
     "execution_count": 93,
     "metadata": {},
     "output_type": "execute_result"
    }
   ],
   "source": [
    "def f_widget_compare(df,labels_list,bkgnd,plot_type):\n",
    "    df_temp=df[df.label.isin(labels_list)]\n",
    "    f_plot_hist_spec(df_temp,dict_val,plot_type)\n",
    "    \n",
    "interact_manual(f_widget_compare,df=fixed(df_best),\n",
    "                labels_list=SelectMultiple(options=df_best.label.values), \n",
    "                bkgnd=fixed(dict_val),plot_type=ToggleButtons(options=['hist','spec','grid','spec_relative','hist_relative']))"
   ]
  },
  {
   "cell_type": "markdown",
   "metadata": {},
   "source": [
    "## Plot images"
   ]
  },
  {
   "cell_type": "code",
   "execution_count": 94,
   "metadata": {},
   "outputs": [
    {
     "name": "stdout",
     "output_type": "stream",
     "text": [
      "(1000, 64, 64, 64)\n"
     ]
    }
   ],
   "source": [
    "print(s_val.shape)\n"
   ]
  },
  {
   "cell_type": "code",
   "execution_count": 95,
   "metadata": {},
   "outputs": [],
   "source": [
    "fname='/global/cfs/cdirs/m3363/vayyar/cosmogan_data/results_from_other_code/pytorch/results/3d/20210123_050147_3d_l0.5_80k/images/gen_img_epoch-28_step-71620.npy'\n",
    "a1=np.load(fname)"
   ]
  },
  {
   "cell_type": "code",
   "execution_count": 96,
   "metadata": {},
   "outputs": [
    {
     "data": {
      "text/plain": [
       "((1000, 64, 64, 64), (32, 64, 64, 64))"
      ]
     },
     "execution_count": 96,
     "metadata": {},
     "output_type": "execute_result"
    }
   ],
   "source": [
    "s_val.shape,a1.shape"
   ]
  },
  {
   "cell_type": "code",
   "execution_count": 97,
   "metadata": {},
   "outputs": [
    {
     "name": "stdout",
     "output_type": "stream",
     "text": [
      "2 4\n"
     ]
    },
    {
     "data": {
      "application/vnd.jupyter.widget-view+json": {
       "model_id": "fafe09d69c5c465fb5e8133c253dcbe0",
       "version_major": 2,
       "version_minor": 0
      },
      "text/plain": [
       "Canvas(toolbar=Toolbar(toolitems=[('Home', 'Reset original view', 'home', 'home'), ('Back', 'Back to previous …"
      ]
     },
     "metadata": {},
     "output_type": "display_data"
    }
   ],
   "source": [
    "f_plot_grid(a1[6:14,:,:,0],cols=4,fig_size=(4,2))"
   ]
  },
  {
   "cell_type": "code",
   "execution_count": 98,
   "metadata": {},
   "outputs": [
    {
     "name": "stdout",
     "output_type": "stream",
     "text": [
      "2 4\n"
     ]
    },
    {
     "data": {
      "application/vnd.jupyter.widget-view+json": {
       "model_id": "3a23fbbaf784401f82528127fec240fd",
       "version_major": 2,
       "version_minor": 0
      },
      "text/plain": [
       "Canvas(toolbar=Toolbar(toolitems=[('Home', 'Reset original view', 'home', 'home'), ('Back', 'Back to previous …"
      ]
     },
     "metadata": {},
     "output_type": "display_data"
    }
   ],
   "source": [
    "f_plot_grid(s_val[100:108,:,:,0],cols=4,fig_size=(4,2))"
   ]
  },
  {
   "cell_type": "code",
   "execution_count": 99,
   "metadata": {},
   "outputs": [
    {
     "data": {
      "text/html": [
       "<div>\n",
       "<style scoped>\n",
       "    .dataframe tbody tr th:only-of-type {\n",
       "        vertical-align: middle;\n",
       "    }\n",
       "\n",
       "    .dataframe tbody tr th {\n",
       "        vertical-align: top;\n",
       "    }\n",
       "\n",
       "    .dataframe thead th {\n",
       "        text-align: right;\n",
       "    }\n",
       "</style>\n",
       "<table border=\"1\" class=\"dataframe\">\n",
       "  <thead>\n",
       "    <tr style=\"text-align: right;\">\n",
       "      <th></th>\n",
       "      <th>label</th>\n",
       "      <th>chi_1</th>\n",
       "      <th>chi_spec1</th>\n",
       "      <th>chi_spec3</th>\n",
       "      <th>chi_1a</th>\n",
       "      <th>chi_1b</th>\n",
       "      <th>chi_1c</th>\n",
       "      <th>chi_2</th>\n",
       "      <th>chi_imgvar</th>\n",
       "      <th>chi_spec2</th>\n",
       "      <th>epoch</th>\n",
       "      <th>step</th>\n",
       "    </tr>\n",
       "  </thead>\n",
       "  <tbody>\n",
       "    <tr>\n",
       "      <th>655</th>\n",
       "      <td>2-6560</td>\n",
       "      <td>0.246885</td>\n",
       "      <td>10.027608</td>\n",
       "      <td>49.063214</td>\n",
       "      <td>0.192645</td>\n",
       "      <td>0.053953</td>\n",
       "      <td>0.000288</td>\n",
       "      <td>0.115025</td>\n",
       "      <td>3.904391</td>\n",
       "      <td>17956.069610</td>\n",
       "      <td>2</td>\n",
       "      <td>6560</td>\n",
       "    </tr>\n",
       "    <tr>\n",
       "      <th>2819</th>\n",
       "      <td>11-28200</td>\n",
       "      <td>0.036677</td>\n",
       "      <td>6.014820</td>\n",
       "      <td>49.570766</td>\n",
       "      <td>0.019308</td>\n",
       "      <td>0.014379</td>\n",
       "      <td>0.002990</td>\n",
       "      <td>0.010212</td>\n",
       "      <td>9.884761</td>\n",
       "      <td>1447.230356</td>\n",
       "      <td>11</td>\n",
       "      <td>28200</td>\n",
       "    </tr>\n",
       "    <tr>\n",
       "      <th>2920</th>\n",
       "      <td>11-29210</td>\n",
       "      <td>0.248065</td>\n",
       "      <td>6.946046</td>\n",
       "      <td>59.081433</td>\n",
       "      <td>0.241302</td>\n",
       "      <td>0.006456</td>\n",
       "      <td>0.000306</td>\n",
       "      <td>0.089805</td>\n",
       "      <td>33.648975</td>\n",
       "      <td>50.338523</td>\n",
       "      <td>11</td>\n",
       "      <td>29210</td>\n",
       "    </tr>\n",
       "    <tr>\n",
       "      <th>3378</th>\n",
       "      <td>13-33790</td>\n",
       "      <td>0.032535</td>\n",
       "      <td>6.317830</td>\n",
       "      <td>50.120442</td>\n",
       "      <td>0.028484</td>\n",
       "      <td>0.002187</td>\n",
       "      <td>0.001864</td>\n",
       "      <td>0.013548</td>\n",
       "      <td>6.696044</td>\n",
       "      <td>1461.858703</td>\n",
       "      <td>13</td>\n",
       "      <td>33790</td>\n",
       "    </tr>\n",
       "    <tr>\n",
       "      <th>4015</th>\n",
       "      <td>16-40160</td>\n",
       "      <td>0.032709</td>\n",
       "      <td>5.377288</td>\n",
       "      <td>50.452657</td>\n",
       "      <td>0.027667</td>\n",
       "      <td>0.003498</td>\n",
       "      <td>0.001544</td>\n",
       "      <td>0.013563</td>\n",
       "      <td>10.932140</td>\n",
       "      <td>240.525028</td>\n",
       "      <td>16</td>\n",
       "      <td>40160</td>\n",
       "    </tr>\n",
       "    <tr>\n",
       "      <th>4024</th>\n",
       "      <td>16-40250</td>\n",
       "      <td>0.100561</td>\n",
       "      <td>3.085800</td>\n",
       "      <td>43.490086</td>\n",
       "      <td>0.071879</td>\n",
       "      <td>0.025700</td>\n",
       "      <td>0.002983</td>\n",
       "      <td>0.051874</td>\n",
       "      <td>7.510610</td>\n",
       "      <td>71.322752</td>\n",
       "      <td>16</td>\n",
       "      <td>40250</td>\n",
       "    </tr>\n",
       "    <tr>\n",
       "      <th>4107</th>\n",
       "      <td>16-41080</td>\n",
       "      <td>0.159360</td>\n",
       "      <td>3.133683</td>\n",
       "      <td>47.506667</td>\n",
       "      <td>0.103007</td>\n",
       "      <td>0.053081</td>\n",
       "      <td>0.003272</td>\n",
       "      <td>0.063929</td>\n",
       "      <td>15.402410</td>\n",
       "      <td>45.373778</td>\n",
       "      <td>16</td>\n",
       "      <td>41080</td>\n",
       "    </tr>\n",
       "    <tr>\n",
       "      <th>4489</th>\n",
       "      <td>17-44900</td>\n",
       "      <td>0.023849</td>\n",
       "      <td>4.554960</td>\n",
       "      <td>53.793261</td>\n",
       "      <td>0.017225</td>\n",
       "      <td>0.005775</td>\n",
       "      <td>0.000849</td>\n",
       "      <td>0.004996</td>\n",
       "      <td>17.831019</td>\n",
       "      <td>80.620578</td>\n",
       "      <td>17</td>\n",
       "      <td>44900</td>\n",
       "    </tr>\n",
       "  </tbody>\n",
       "</table>\n",
       "</div>"
      ],
      "text/plain": [
       "         label     chi_1  chi_spec1  chi_spec3    chi_1a    chi_1b    chi_1c  \\\n",
       "655     2-6560  0.246885  10.027608  49.063214  0.192645  0.053953  0.000288   \n",
       "2819  11-28200  0.036677   6.014820  49.570766  0.019308  0.014379  0.002990   \n",
       "2920  11-29210  0.248065   6.946046  59.081433  0.241302  0.006456  0.000306   \n",
       "3378  13-33790  0.032535   6.317830  50.120442  0.028484  0.002187  0.001864   \n",
       "4015  16-40160  0.032709   5.377288  50.452657  0.027667  0.003498  0.001544   \n",
       "4024  16-40250  0.100561   3.085800  43.490086  0.071879  0.025700  0.002983   \n",
       "4107  16-41080  0.159360   3.133683  47.506667  0.103007  0.053081  0.003272   \n",
       "4489  17-44900  0.023849   4.554960  53.793261  0.017225  0.005775  0.000849   \n",
       "\n",
       "         chi_2  chi_imgvar     chi_spec2  epoch   step  \n",
       "655   0.115025    3.904391  17956.069610      2   6560  \n",
       "2819  0.010212    9.884761   1447.230356     11  28200  \n",
       "2920  0.089805   33.648975     50.338523     11  29210  \n",
       "3378  0.013548    6.696044   1461.858703     13  33790  \n",
       "4015  0.013563   10.932140    240.525028     16  40160  \n",
       "4024  0.051874    7.510610     71.322752     16  40250  \n",
       "4107  0.063929   15.402410     45.373778     16  41080  \n",
       "4489  0.004996   17.831019     80.620578     17  44900  "
      ]
     },
     "execution_count": 99,
     "metadata": {},
     "output_type": "execute_result"
    }
   ],
   "source": [
    "df_best[col_list]"
   ]
  },
  {
   "cell_type": "code",
   "execution_count": 100,
   "metadata": {},
   "outputs": [],
   "source": [
    "dims = [2,3,4,7]\n",
    "np_x = np.random.uniform(size=dims).astype(np.float32)"
   ]
  },
  {
   "cell_type": "code",
   "execution_count": null,
   "metadata": {},
   "outputs": [],
   "source": []
  },
  {
   "cell_type": "code",
   "execution_count": null,
   "metadata": {},
   "outputs": [],
   "source": []
  }
 ],
 "metadata": {
  "kernelspec": {
   "display_name": "v3",
   "language": "python",
   "name": "v-jpt-3"
  },
  "language_info": {
   "codemirror_mode": {
    "name": "ipython",
    "version": 3
   },
   "file_extension": ".py",
   "mimetype": "text/x-python",
   "name": "python",
   "nbconvert_exporter": "python",
   "pygments_lexer": "ipython3",
   "version": "3.8.6"
  }
 },
 "nbformat": 4,
 "nbformat_minor": 4
}

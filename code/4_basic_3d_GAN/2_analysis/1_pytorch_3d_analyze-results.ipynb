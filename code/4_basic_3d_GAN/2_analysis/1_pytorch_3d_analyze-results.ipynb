{
 "cells": [
  {
   "cell_type": "markdown",
   "metadata": {},
   "source": [
    "# Analyze results for 3D images\n",
    "Jan 21, 2021"
   ]
  },
  {
   "cell_type": "code",
   "execution_count": 2,
   "metadata": {},
   "outputs": [],
   "source": [
    "import     numpy as np\n",
    "import matplotlib.pyplot as plt\n",
    "import pandas as pd\n",
    "\n",
    "import subprocess as sp\n",
    "import sys\n",
    "import os\n",
    "import glob\n",
    "import pickle \n",
    "\n",
    "from matplotlib.colors import LogNorm, PowerNorm, Normalize\n",
    "import seaborn as sns\n",
    "\n",
    "from ipywidgets import *"
   ]
  },
  {
   "cell_type": "code",
   "execution_count": 3,
   "metadata": {},
   "outputs": [],
   "source": [
    "%matplotlib widget"
   ]
  },
  {
   "cell_type": "code",
   "execution_count": 4,
   "metadata": {},
   "outputs": [],
   "source": [
    "sys.path.append('/global/u1/v/vpa/project/jpt_notebooks/Cosmology/Cosmo_GAN/repositories/cosmogan_pytorch/code/modules_image_analysis/')\n",
    "from modules_3d_image_analysis import *\n",
    "\n",
    "# sys.path.append('/global/u1/v/vpa/project/jpt_notebooks/Cosmology/Cosmo_GAN/repositories/cosmogan_pytorch/code/1_basic_GAN/1_main_code/')\n",
    "# import post_analysis_pandas as post"
   ]
  },
  {
   "cell_type": "code",
   "execution_count": 5,
   "metadata": {},
   "outputs": [],
   "source": [
    "### Transformation functions for image pixel values\n",
    "def f_transform(x):\n",
    "    return 2.*x/(x + 4.) - 1.\n",
    "\n",
    "def f_invtransform(s):\n",
    "    return 4.*(1. + s)/(1. - s)\n"
   ]
  },
  {
   "cell_type": "markdown",
   "metadata": {},
   "source": [
    "## Read data"
   ]
  },
  {
   "cell_type": "code",
   "execution_count": 6,
   "metadata": {},
   "outputs": [],
   "source": [
    "img_size=64\n",
    "dict1={'64':'/global/cfs/cdirs/m3363/vayyar/cosmogan_data/results_from_other_code/pytorch/results/3d/',\n",
    "      '512':'/global/cfs/cdirs/m3363/vayyar/cosmogan_data/results_from_other_code/pytorch/results/512sq/'}\n"
   ]
  },
  {
   "cell_type": "markdown",
   "metadata": {},
   "source": [
    "### Read validation data and compute metrics"
   ]
  },
  {
   "cell_type": "code",
   "execution_count": 7,
   "metadata": {},
   "outputs": [],
   "source": [
    "# Get location for validation data\n",
    "raw_data_dir='/global/cfs/cdirs/m3363/vayyar/cosmogan_data/raw_data/'\n",
    "input_files_dict={'64':raw_data_dir+'3d_data/dataset1_smoothing_const_params_64cube_100k/val.npy'}"
   ]
  },
  {
   "cell_type": "code",
   "execution_count": 8,
   "metadata": {},
   "outputs": [
    {
     "name": "stdout",
     "output_type": "stream",
     "text": [
      "(1000, 64, 64, 64)\n"
     ]
    },
    {
     "name": "stderr",
     "output_type": "stream",
     "text": [
      "/global/u1/v/vpa/project/jpt_notebooks/Cosmology/Cosmo_GAN/repositories/cosmogan_pytorch/code/modules_image_analysis/modules_3d_image_analysis.py:62: VisibleDeprecationWarning: Creating an ndarray from ragged nested sequences (which is a list-or-tuple of lists-or-tuples-or ndarrays with different lengths or shapes) is deprecated. If you meant to do this, you must specify 'dtype=object' when creating the ndarray\n",
      "  hist_arr=np.array([np.histogram(arr.flatten(), bins=bins, range=(llim,ulim), density=norm) for arr in img_arr]) ## range is important\n"
     ]
    }
   ],
   "source": [
    "def f_compute_hist_spect(sample,bins):\n",
    "    ''' Compute pixel intensity histograms and radial spectrum for 2D arrays\n",
    "    Input : Image arrays and bins\n",
    "    Output: dictionary with 5 arrays : Histogram values, errors and bin centers, Spectrum values and errors.\n",
    "    '''\n",
    "    ### Compute pixel histogram for row\n",
    "    gen_hist,gen_err,hist_bins=f_batch_histogram(sample,bins=bins,norm=True,hist_range=None)\n",
    "    ### Compute spectrum for row\n",
    "    spec,spec_sdev=f_plot_spectrum_3d(sample,plot=False)\n",
    "\n",
    "    dict1={'hist_val':gen_hist,'hist_err':gen_err,'hist_bin_centers':hist_bins,'spec_val':spec,'spec_sdev':spec_sdev }\n",
    "    return dict1\n",
    "\n",
    "### Extract validation data\n",
    "num_bkgnd=1000\n",
    "fname=input_files_dict[str(img_size)]\n",
    "s_val=np.load(fname,mmap_mode='r')[:num_bkgnd][:,0,:,:]\n",
    "s_val=f_transform(s_val)\n",
    "print(s_val.shape)\n",
    "\n",
    "bins=np.concatenate([np.array([-0.5]),np.arange(0.5,20.5,1),np.arange(20.5,100.5,5),np.arange(100.5,1000.5,50),np.array([2000])]) #bin edges to use\n",
    "bins=f_transform(bins)   ### scale to (-1,1) \n",
    "### Compute histogram and spectrum of raw data \n",
    "dict_val=f_compute_hist_spect(s_val,bins)\n",
    "\n",
    "# del(s_val)"
   ]
  },
  {
   "cell_type": "markdown",
   "metadata": {},
   "source": [
    "### Read run data"
   ]
  },
  {
   "cell_type": "code",
   "execution_count": 9,
   "metadata": {},
   "outputs": [],
   "source": [
    "# main_dir='/global/cfs/cdirs/m3363/vayyar/cosmogan_data/results_from_other_code/pytorch/results/128sq/'\n",
    "# results_dir=main_dir+'20201002_064327'"
   ]
  },
  {
   "cell_type": "code",
   "execution_count": 10,
   "metadata": {},
   "outputs": [],
   "source": [
    "u=interactive(lambda x: dict1[x], x=Select(options=dict1.keys()))\n",
    "# display(u)"
   ]
  },
  {
   "cell_type": "code",
   "execution_count": 21,
   "metadata": {},
   "outputs": [
    {
     "data": {
      "application/vnd.jupyter.widget-view+json": {
       "model_id": "bdee6b4073794b47b0780751e1820dcd",
       "version_major": 2,
       "version_minor": 0
      },
      "text/plain": [
       "interactive(children=(Dropdown(description='x', options=('20210514_120637_128cube_bs4_lr0.002_nodes16', '20210…"
      ]
     },
     "metadata": {},
     "output_type": "display_data"
    }
   ],
   "source": [
    "# parent_dir=u.result\n",
    "parent_dir=dict1[str(img_size)]\n",
    "\n",
    "dir_lst=[i.split('/')[-1] for i in glob.glob(parent_dir+'202105*')]\n",
    "q=interactive(lambda x: x, x=Dropdown(options=dir_lst))\n",
    "display(q)"
   ]
  },
  {
   "cell_type": "code",
   "execution_count": 22,
   "metadata": {},
   "outputs": [
    {
     "name": "stdout",
     "output_type": "stream",
     "text": [
      "/global/cfs/cdirs/m3363/vayyar/cosmogan_data/results_from_other_code/pytorch/results/3d/20210506_92216_bs8_lr0.0003_nodes8_spec0.1\n"
     ]
    }
   ],
   "source": [
    "result=q.result\n",
    "result_dir=parent_dir+result\n",
    "print(result_dir)"
   ]
  },
  {
   "cell_type": "markdown",
   "metadata": {},
   "source": [
    "## Plot Losses"
   ]
  },
  {
   "cell_type": "code",
   "execution_count": 23,
   "metadata": {},
   "outputs": [],
   "source": [
    "df_metrics=pd.read_pickle(result_dir+'/df_metrics.pkle').astype(np.float64)\n"
   ]
  },
  {
   "cell_type": "code",
   "execution_count": 24,
   "metadata": {},
   "outputs": [
    {
     "data": {
      "text/html": [
       "<div>\n",
       "<style scoped>\n",
       "    .dataframe tbody tr th:only-of-type {\n",
       "        vertical-align: middle;\n",
       "    }\n",
       "\n",
       "    .dataframe tbody tr th {\n",
       "        vertical-align: top;\n",
       "    }\n",
       "\n",
       "    .dataframe thead th {\n",
       "        text-align: right;\n",
       "    }\n",
       "</style>\n",
       "<table border=\"1\" class=\"dataframe\">\n",
       "  <thead>\n",
       "    <tr style=\"text-align: right;\">\n",
       "      <th></th>\n",
       "      <th>step</th>\n",
       "      <th>epoch</th>\n",
       "      <th>Dreal</th>\n",
       "      <th>Dfake</th>\n",
       "      <th>Dfull</th>\n",
       "      <th>G_adv</th>\n",
       "      <th>G_full</th>\n",
       "      <th>spec_loss</th>\n",
       "      <th>hist_loss</th>\n",
       "      <th>spec_chi</th>\n",
       "      <th>hist_chi</th>\n",
       "      <th>gp_loss</th>\n",
       "      <th>fm_loss</th>\n",
       "      <th>D(x)</th>\n",
       "      <th>D_G_z1</th>\n",
       "      <th>D_G_z2</th>\n",
       "      <th>time</th>\n",
       "    </tr>\n",
       "  </thead>\n",
       "  <tbody>\n",
       "    <tr>\n",
       "      <th>21051</th>\n",
       "      <td>21051.0</td>\n",
       "      <td>134.0</td>\n",
       "      <td>0.392173</td>\n",
       "      <td>0.463315</td>\n",
       "      <td>0.855488</td>\n",
       "      <td>3.577627</td>\n",
       "      <td>14.489210</td>\n",
       "      <td>10.911584</td>\n",
       "      <td>-1.547293</td>\n",
       "      <td>10.950392</td>\n",
       "      <td>-1.206169</td>\n",
       "      <td>NaN</td>\n",
       "      <td>NaN</td>\n",
       "      <td>2.504798</td>\n",
       "      <td>-1.471832</td>\n",
       "      <td>-3.545760</td>\n",
       "      <td>0.208842</td>\n",
       "    </tr>\n",
       "    <tr>\n",
       "      <th>21052</th>\n",
       "      <td>21052.0</td>\n",
       "      <td>134.0</td>\n",
       "      <td>0.426469</td>\n",
       "      <td>0.415092</td>\n",
       "      <td>0.841561</td>\n",
       "      <td>1.235093</td>\n",
       "      <td>11.593454</td>\n",
       "      <td>10.358361</td>\n",
       "      <td>-1.381248</td>\n",
       "      <td>10.774064</td>\n",
       "      <td>-0.956787</td>\n",
       "      <td>NaN</td>\n",
       "      <td>NaN</td>\n",
       "      <td>1.263387</td>\n",
       "      <td>-2.685323</td>\n",
       "      <td>-0.853714</td>\n",
       "      <td>0.208759</td>\n",
       "    </tr>\n",
       "    <tr>\n",
       "      <th>21053</th>\n",
       "      <td>21053.0</td>\n",
       "      <td>134.0</td>\n",
       "      <td>0.427695</td>\n",
       "      <td>0.632566</td>\n",
       "      <td>1.060261</td>\n",
       "      <td>2.721867</td>\n",
       "      <td>13.495867</td>\n",
       "      <td>10.773999</td>\n",
       "      <td>-1.172922</td>\n",
       "      <td>10.599577</td>\n",
       "      <td>-1.070996</td>\n",
       "      <td>NaN</td>\n",
       "      <td>NaN</td>\n",
       "      <td>2.640104</td>\n",
       "      <td>-0.105372</td>\n",
       "      <td>-2.649389</td>\n",
       "      <td>0.209973</td>\n",
       "    </tr>\n",
       "    <tr>\n",
       "      <th>21054</th>\n",
       "      <td>21054.0</td>\n",
       "      <td>134.0</td>\n",
       "      <td>0.383557</td>\n",
       "      <td>0.446604</td>\n",
       "      <td>0.830162</td>\n",
       "      <td>1.197615</td>\n",
       "      <td>11.541973</td>\n",
       "      <td>10.344357</td>\n",
       "      <td>-1.580754</td>\n",
       "      <td>10.530872</td>\n",
       "      <td>-1.368195</td>\n",
       "      <td>NaN</td>\n",
       "      <td>NaN</td>\n",
       "      <td>1.046397</td>\n",
       "      <td>-2.389427</td>\n",
       "      <td>-0.817460</td>\n",
       "      <td>0.208691</td>\n",
       "    </tr>\n",
       "    <tr>\n",
       "      <th>21055</th>\n",
       "      <td>21055.0</td>\n",
       "      <td>134.0</td>\n",
       "      <td>0.403037</td>\n",
       "      <td>0.463847</td>\n",
       "      <td>0.866884</td>\n",
       "      <td>3.532295</td>\n",
       "      <td>14.916555</td>\n",
       "      <td>11.384260</td>\n",
       "      <td>-1.873949</td>\n",
       "      <td>11.291126</td>\n",
       "      <td>-1.956727</td>\n",
       "      <td>NaN</td>\n",
       "      <td>NaN</td>\n",
       "      <td>2.494103</td>\n",
       "      <td>-0.658238</td>\n",
       "      <td>-3.499863</td>\n",
       "      <td>0.206993</td>\n",
       "    </tr>\n",
       "    <tr>\n",
       "      <th>21056</th>\n",
       "      <td>21056.0</td>\n",
       "      <td>134.0</td>\n",
       "      <td>0.448195</td>\n",
       "      <td>0.440866</td>\n",
       "      <td>0.889060</td>\n",
       "      <td>1.526025</td>\n",
       "      <td>12.896635</td>\n",
       "      <td>11.370609</td>\n",
       "      <td>-1.602237</td>\n",
       "      <td>11.376079</td>\n",
       "      <td>-1.895436</td>\n",
       "      <td>NaN</td>\n",
       "      <td>NaN</td>\n",
       "      <td>1.036837</td>\n",
       "      <td>-2.873784</td>\n",
       "      <td>-1.259249</td>\n",
       "      <td>0.208422</td>\n",
       "    </tr>\n",
       "    <tr>\n",
       "      <th>21057</th>\n",
       "      <td>21057.0</td>\n",
       "      <td>134.0</td>\n",
       "      <td>0.425756</td>\n",
       "      <td>0.524776</td>\n",
       "      <td>0.950532</td>\n",
       "      <td>3.325173</td>\n",
       "      <td>14.003904</td>\n",
       "      <td>10.678732</td>\n",
       "      <td>-1.293671</td>\n",
       "      <td>11.233655</td>\n",
       "      <td>-1.385343</td>\n",
       "      <td>NaN</td>\n",
       "      <td>NaN</td>\n",
       "      <td>2.635645</td>\n",
       "      <td>-0.830044</td>\n",
       "      <td>-3.286644</td>\n",
       "      <td>0.214181</td>\n",
       "    </tr>\n",
       "    <tr>\n",
       "      <th>21058</th>\n",
       "      <td>21058.0</td>\n",
       "      <td>134.0</td>\n",
       "      <td>0.451699</td>\n",
       "      <td>0.450225</td>\n",
       "      <td>0.901924</td>\n",
       "      <td>1.607469</td>\n",
       "      <td>12.669422</td>\n",
       "      <td>11.061954</td>\n",
       "      <td>-1.503497</td>\n",
       "      <td>11.283251</td>\n",
       "      <td>-1.662388</td>\n",
       "      <td>NaN</td>\n",
       "      <td>NaN</td>\n",
       "      <td>0.805075</td>\n",
       "      <td>-2.960491</td>\n",
       "      <td>-1.370015</td>\n",
       "      <td>0.208462</td>\n",
       "    </tr>\n",
       "    <tr>\n",
       "      <th>21059</th>\n",
       "      <td>21059.0</td>\n",
       "      <td>134.0</td>\n",
       "      <td>0.359622</td>\n",
       "      <td>0.559434</td>\n",
       "      <td>0.919056</td>\n",
       "      <td>3.287628</td>\n",
       "      <td>13.893504</td>\n",
       "      <td>10.605876</td>\n",
       "      <td>-1.281682</td>\n",
       "      <td>10.716316</td>\n",
       "      <td>-2.032259</td>\n",
       "      <td>NaN</td>\n",
       "      <td>NaN</td>\n",
       "      <td>2.169192</td>\n",
       "      <td>-0.761454</td>\n",
       "      <td>-3.248551</td>\n",
       "      <td>0.204700</td>\n",
       "    </tr>\n",
       "    <tr>\n",
       "      <th>21060</th>\n",
       "      <td>NaN</td>\n",
       "      <td>NaN</td>\n",
       "      <td>NaN</td>\n",
       "      <td>NaN</td>\n",
       "      <td>NaN</td>\n",
       "      <td>NaN</td>\n",
       "      <td>NaN</td>\n",
       "      <td>NaN</td>\n",
       "      <td>NaN</td>\n",
       "      <td>10.494166</td>\n",
       "      <td>-1.885492</td>\n",
       "      <td>NaN</td>\n",
       "      <td>NaN</td>\n",
       "      <td>NaN</td>\n",
       "      <td>NaN</td>\n",
       "      <td>NaN</td>\n",
       "      <td>NaN</td>\n",
       "    </tr>\n",
       "  </tbody>\n",
       "</table>\n",
       "</div>"
      ],
      "text/plain": [
       "          step  epoch     Dreal     Dfake     Dfull     G_adv     G_full  \\\n",
       "21051  21051.0  134.0  0.392173  0.463315  0.855488  3.577627  14.489210   \n",
       "21052  21052.0  134.0  0.426469  0.415092  0.841561  1.235093  11.593454   \n",
       "21053  21053.0  134.0  0.427695  0.632566  1.060261  2.721867  13.495867   \n",
       "21054  21054.0  134.0  0.383557  0.446604  0.830162  1.197615  11.541973   \n",
       "21055  21055.0  134.0  0.403037  0.463847  0.866884  3.532295  14.916555   \n",
       "21056  21056.0  134.0  0.448195  0.440866  0.889060  1.526025  12.896635   \n",
       "21057  21057.0  134.0  0.425756  0.524776  0.950532  3.325173  14.003904   \n",
       "21058  21058.0  134.0  0.451699  0.450225  0.901924  1.607469  12.669422   \n",
       "21059  21059.0  134.0  0.359622  0.559434  0.919056  3.287628  13.893504   \n",
       "21060      NaN    NaN       NaN       NaN       NaN       NaN        NaN   \n",
       "\n",
       "       spec_loss  hist_loss   spec_chi  hist_chi  gp_loss  fm_loss      D(x)  \\\n",
       "21051  10.911584  -1.547293  10.950392 -1.206169      NaN      NaN  2.504798   \n",
       "21052  10.358361  -1.381248  10.774064 -0.956787      NaN      NaN  1.263387   \n",
       "21053  10.773999  -1.172922  10.599577 -1.070996      NaN      NaN  2.640104   \n",
       "21054  10.344357  -1.580754  10.530872 -1.368195      NaN      NaN  1.046397   \n",
       "21055  11.384260  -1.873949  11.291126 -1.956727      NaN      NaN  2.494103   \n",
       "21056  11.370609  -1.602237  11.376079 -1.895436      NaN      NaN  1.036837   \n",
       "21057  10.678732  -1.293671  11.233655 -1.385343      NaN      NaN  2.635645   \n",
       "21058  11.061954  -1.503497  11.283251 -1.662388      NaN      NaN  0.805075   \n",
       "21059  10.605876  -1.281682  10.716316 -2.032259      NaN      NaN  2.169192   \n",
       "21060        NaN        NaN  10.494166 -1.885492      NaN      NaN       NaN   \n",
       "\n",
       "         D_G_z1    D_G_z2      time  \n",
       "21051 -1.471832 -3.545760  0.208842  \n",
       "21052 -2.685323 -0.853714  0.208759  \n",
       "21053 -0.105372 -2.649389  0.209973  \n",
       "21054 -2.389427 -0.817460  0.208691  \n",
       "21055 -0.658238 -3.499863  0.206993  \n",
       "21056 -2.873784 -1.259249  0.208422  \n",
       "21057 -0.830044 -3.286644  0.214181  \n",
       "21058 -2.960491 -1.370015  0.208462  \n",
       "21059 -0.761454 -3.248551  0.204700  \n",
       "21060       NaN       NaN       NaN  "
      ]
     },
     "execution_count": 24,
     "metadata": {},
     "output_type": "execute_result"
    }
   ],
   "source": [
    "df_metrics.tail(10)"
   ]
  },
  {
   "cell_type": "code",
   "execution_count": 25,
   "metadata": {},
   "outputs": [
    {
     "data": {
      "application/vnd.jupyter.widget-view+json": {
       "model_id": "e9566b535cbf47308c975224343205e9",
       "version_major": 2,
       "version_minor": 0
      },
      "text/plain": [
       "interactive(children=(SelectMultiple(description='col_list', options=('step', 'epoch', 'Dreal', 'Dfake', 'Dful…"
      ]
     },
     "metadata": {},
     "output_type": "display_data"
    },
    {
     "data": {
      "text/plain": [
       "<function __main__.f_plot_metrics(df, col_list)>"
      ]
     },
     "execution_count": 25,
     "metadata": {},
     "output_type": "execute_result"
    }
   ],
   "source": [
    "def f_plot_metrics(df,col_list):\n",
    "    \n",
    "    plt.figure()\n",
    "    for key in col_list:\n",
    "        plt.plot(df_metrics[key],label=key,marker='*',linestyle='')\n",
    "    plt.legend()\n",
    "    \n",
    "#     col_list=list(col_list)\n",
    "#     df.plot(kind='line',x='step',y=col_list)\n",
    "    \n",
    "# f_plot_metrics(df_metrics,['spec_chi','hist_chi'])\n",
    "\n",
    "interact_manual(f_plot_metrics,df=fixed(df_metrics), col_list=SelectMultiple(options=df_metrics.columns.values))"
   ]
  },
  {
   "cell_type": "code",
   "execution_count": 26,
   "metadata": {},
   "outputs": [
    {
     "name": "stdout",
     "output_type": "stream",
     "text": [
      "-1.990709297657013\n"
     ]
    },
    {
     "data": {
      "text/html": [
       "<div>\n",
       "<style scoped>\n",
       "    .dataframe tbody tr th:only-of-type {\n",
       "        vertical-align: middle;\n",
       "    }\n",
       "\n",
       "    .dataframe tbody tr th {\n",
       "        vertical-align: top;\n",
       "    }\n",
       "\n",
       "    .dataframe thead th {\n",
       "        text-align: right;\n",
       "    }\n",
       "</style>\n",
       "<table border=\"1\" class=\"dataframe\">\n",
       "  <thead>\n",
       "    <tr style=\"text-align: right;\">\n",
       "      <th></th>\n",
       "      <th>step</th>\n",
       "      <th>epoch</th>\n",
       "      <th>Dreal</th>\n",
       "      <th>Dfake</th>\n",
       "      <th>Dfull</th>\n",
       "      <th>G_adv</th>\n",
       "      <th>G_full</th>\n",
       "      <th>spec_loss</th>\n",
       "      <th>hist_loss</th>\n",
       "      <th>spec_chi</th>\n",
       "      <th>hist_chi</th>\n",
       "      <th>gp_loss</th>\n",
       "      <th>fm_loss</th>\n",
       "      <th>D(x)</th>\n",
       "      <th>D_G_z1</th>\n",
       "      <th>D_G_z2</th>\n",
       "      <th>time</th>\n",
       "    </tr>\n",
       "  </thead>\n",
       "  <tbody>\n",
       "    <tr>\n",
       "      <th>20814</th>\n",
       "      <td>20814.0</td>\n",
       "      <td>133.0</td>\n",
       "      <td>0.440388</td>\n",
       "      <td>0.401256</td>\n",
       "      <td>0.841644</td>\n",
       "      <td>1.083512</td>\n",
       "      <td>11.731374</td>\n",
       "      <td>10.647862</td>\n",
       "      <td>-2.115469</td>\n",
       "      <td>10.566220</td>\n",
       "      <td>-2.518323</td>\n",
       "      <td>NaN</td>\n",
       "      <td>NaN</td>\n",
       "      <td>1.750575</td>\n",
       "      <td>-2.350973</td>\n",
       "      <td>-0.622400</td>\n",
       "      <td>0.207991</td>\n",
       "    </tr>\n",
       "    <tr>\n",
       "      <th>20575</th>\n",
       "      <td>20575.0</td>\n",
       "      <td>131.0</td>\n",
       "      <td>0.395868</td>\n",
       "      <td>0.376800</td>\n",
       "      <td>0.772669</td>\n",
       "      <td>3.570091</td>\n",
       "      <td>14.555083</td>\n",
       "      <td>10.984993</td>\n",
       "      <td>-1.676899</td>\n",
       "      <td>10.938375</td>\n",
       "      <td>-2.419048</td>\n",
       "      <td>NaN</td>\n",
       "      <td>NaN</td>\n",
       "      <td>1.835557</td>\n",
       "      <td>-1.205345</td>\n",
       "      <td>-3.533757</td>\n",
       "      <td>0.212819</td>\n",
       "    </tr>\n",
       "    <tr>\n",
       "      <th>20813</th>\n",
       "      <td>20813.0</td>\n",
       "      <td>133.0</td>\n",
       "      <td>0.393287</td>\n",
       "      <td>0.405956</td>\n",
       "      <td>0.799243</td>\n",
       "      <td>3.246345</td>\n",
       "      <td>14.049175</td>\n",
       "      <td>10.802830</td>\n",
       "      <td>-2.318930</td>\n",
       "      <td>10.751705</td>\n",
       "      <td>-2.412697</td>\n",
       "      <td>NaN</td>\n",
       "      <td>NaN</td>\n",
       "      <td>2.275981</td>\n",
       "      <td>-1.767435</td>\n",
       "      <td>-3.138597</td>\n",
       "      <td>0.207782</td>\n",
       "    </tr>\n",
       "    <tr>\n",
       "      <th>19572</th>\n",
       "      <td>19572.0</td>\n",
       "      <td>125.0</td>\n",
       "      <td>0.473126</td>\n",
       "      <td>0.413405</td>\n",
       "      <td>0.886531</td>\n",
       "      <td>3.327310</td>\n",
       "      <td>13.992674</td>\n",
       "      <td>10.665363</td>\n",
       "      <td>-1.120661</td>\n",
       "      <td>10.735760</td>\n",
       "      <td>-2.403017</td>\n",
       "      <td>NaN</td>\n",
       "      <td>NaN</td>\n",
       "      <td>2.961409</td>\n",
       "      <td>-0.947863</td>\n",
       "      <td>-3.286329</td>\n",
       "      <td>0.206977</td>\n",
       "    </tr>\n",
       "    <tr>\n",
       "      <th>19030</th>\n",
       "      <td>19030.0</td>\n",
       "      <td>121.0</td>\n",
       "      <td>0.609569</td>\n",
       "      <td>0.567854</td>\n",
       "      <td>1.177423</td>\n",
       "      <td>1.852086</td>\n",
       "      <td>12.648317</td>\n",
       "      <td>10.796231</td>\n",
       "      <td>-2.349277</td>\n",
       "      <td>11.839869</td>\n",
       "      <td>-2.354335</td>\n",
       "      <td>NaN</td>\n",
       "      <td>NaN</td>\n",
       "      <td>0.493840</td>\n",
       "      <td>-2.718169</td>\n",
       "      <td>-1.666462</td>\n",
       "      <td>0.205992</td>\n",
       "    </tr>\n",
       "    <tr>\n",
       "      <th>18656</th>\n",
       "      <td>18656.0</td>\n",
       "      <td>119.0</td>\n",
       "      <td>0.318534</td>\n",
       "      <td>0.336202</td>\n",
       "      <td>0.654736</td>\n",
       "      <td>1.481389</td>\n",
       "      <td>12.170753</td>\n",
       "      <td>10.689363</td>\n",
       "      <td>-1.750355</td>\n",
       "      <td>10.781075</td>\n",
       "      <td>-2.344869</td>\n",
       "      <td>NaN</td>\n",
       "      <td>NaN</td>\n",
       "      <td>1.192469</td>\n",
       "      <td>-2.656995</td>\n",
       "      <td>-1.151569</td>\n",
       "      <td>0.205496</td>\n",
       "    </tr>\n",
       "    <tr>\n",
       "      <th>19755</th>\n",
       "      <td>19755.0</td>\n",
       "      <td>126.0</td>\n",
       "      <td>0.341524</td>\n",
       "      <td>0.509377</td>\n",
       "      <td>0.850902</td>\n",
       "      <td>3.458720</td>\n",
       "      <td>14.083629</td>\n",
       "      <td>10.624908</td>\n",
       "      <td>-1.972245</td>\n",
       "      <td>10.837195</td>\n",
       "      <td>-2.305877</td>\n",
       "      <td>NaN</td>\n",
       "      <td>NaN</td>\n",
       "      <td>2.441470</td>\n",
       "      <td>-1.387473</td>\n",
       "      <td>-3.423302</td>\n",
       "      <td>0.209147</td>\n",
       "    </tr>\n",
       "    <tr>\n",
       "      <th>19001</th>\n",
       "      <td>19001.0</td>\n",
       "      <td>121.0</td>\n",
       "      <td>0.361669</td>\n",
       "      <td>0.483198</td>\n",
       "      <td>0.844867</td>\n",
       "      <td>1.629732</td>\n",
       "      <td>12.221136</td>\n",
       "      <td>10.591405</td>\n",
       "      <td>-1.771638</td>\n",
       "      <td>10.926136</td>\n",
       "      <td>-2.305200</td>\n",
       "      <td>NaN</td>\n",
       "      <td>NaN</td>\n",
       "      <td>0.782746</td>\n",
       "      <td>-2.862103</td>\n",
       "      <td>-1.395563</td>\n",
       "      <td>0.209633</td>\n",
       "    </tr>\n",
       "    <tr>\n",
       "      <th>18716</th>\n",
       "      <td>18716.0</td>\n",
       "      <td>119.0</td>\n",
       "      <td>0.390205</td>\n",
       "      <td>0.298025</td>\n",
       "      <td>0.688230</td>\n",
       "      <td>3.619739</td>\n",
       "      <td>14.602551</td>\n",
       "      <td>10.982812</td>\n",
       "      <td>-1.962246</td>\n",
       "      <td>10.891878</td>\n",
       "      <td>-2.298898</td>\n",
       "      <td>NaN</td>\n",
       "      <td>NaN</td>\n",
       "      <td>2.372199</td>\n",
       "      <td>-1.174500</td>\n",
       "      <td>-3.576846</td>\n",
       "      <td>0.207152</td>\n",
       "    </tr>\n",
       "    <tr>\n",
       "      <th>20863</th>\n",
       "      <td>20863.0</td>\n",
       "      <td>133.0</td>\n",
       "      <td>0.633277</td>\n",
       "      <td>0.454571</td>\n",
       "      <td>1.087848</td>\n",
       "      <td>1.558105</td>\n",
       "      <td>11.888062</td>\n",
       "      <td>10.329957</td>\n",
       "      <td>-2.236961</td>\n",
       "      <td>10.552377</td>\n",
       "      <td>-2.260524</td>\n",
       "      <td>NaN</td>\n",
       "      <td>NaN</td>\n",
       "      <td>0.768130</td>\n",
       "      <td>-2.892265</td>\n",
       "      <td>-1.298185</td>\n",
       "      <td>0.209149</td>\n",
       "    </tr>\n",
       "  </tbody>\n",
       "</table>\n",
       "</div>"
      ],
      "text/plain": [
       "          step  epoch     Dreal     Dfake     Dfull     G_adv     G_full  \\\n",
       "20814  20814.0  133.0  0.440388  0.401256  0.841644  1.083512  11.731374   \n",
       "20575  20575.0  131.0  0.395868  0.376800  0.772669  3.570091  14.555083   \n",
       "20813  20813.0  133.0  0.393287  0.405956  0.799243  3.246345  14.049175   \n",
       "19572  19572.0  125.0  0.473126  0.413405  0.886531  3.327310  13.992674   \n",
       "19030  19030.0  121.0  0.609569  0.567854  1.177423  1.852086  12.648317   \n",
       "18656  18656.0  119.0  0.318534  0.336202  0.654736  1.481389  12.170753   \n",
       "19755  19755.0  126.0  0.341524  0.509377  0.850902  3.458720  14.083629   \n",
       "19001  19001.0  121.0  0.361669  0.483198  0.844867  1.629732  12.221136   \n",
       "18716  18716.0  119.0  0.390205  0.298025  0.688230  3.619739  14.602551   \n",
       "20863  20863.0  133.0  0.633277  0.454571  1.087848  1.558105  11.888062   \n",
       "\n",
       "       spec_loss  hist_loss   spec_chi  hist_chi  gp_loss  fm_loss      D(x)  \\\n",
       "20814  10.647862  -2.115469  10.566220 -2.518323      NaN      NaN  1.750575   \n",
       "20575  10.984993  -1.676899  10.938375 -2.419048      NaN      NaN  1.835557   \n",
       "20813  10.802830  -2.318930  10.751705 -2.412697      NaN      NaN  2.275981   \n",
       "19572  10.665363  -1.120661  10.735760 -2.403017      NaN      NaN  2.961409   \n",
       "19030  10.796231  -2.349277  11.839869 -2.354335      NaN      NaN  0.493840   \n",
       "18656  10.689363  -1.750355  10.781075 -2.344869      NaN      NaN  1.192469   \n",
       "19755  10.624908  -1.972245  10.837195 -2.305877      NaN      NaN  2.441470   \n",
       "19001  10.591405  -1.771638  10.926136 -2.305200      NaN      NaN  0.782746   \n",
       "18716  10.982812  -1.962246  10.891878 -2.298898      NaN      NaN  2.372199   \n",
       "20863  10.329957  -2.236961  10.552377 -2.260524      NaN      NaN  0.768130   \n",
       "\n",
       "         D_G_z1    D_G_z2      time  \n",
       "20814 -2.350973 -0.622400  0.207991  \n",
       "20575 -1.205345 -3.533757  0.212819  \n",
       "20813 -1.767435 -3.138597  0.207782  \n",
       "19572 -0.947863 -3.286329  0.206977  \n",
       "19030 -2.718169 -1.666462  0.205992  \n",
       "18656 -2.656995 -1.151569  0.205496  \n",
       "19755 -1.387473 -3.423302  0.209147  \n",
       "19001 -2.862103 -1.395563  0.209633  \n",
       "18716 -1.174500 -3.576846  0.207152  \n",
       "20863 -2.892265 -1.298185  0.209149  "
      ]
     },
     "execution_count": 26,
     "metadata": {},
     "output_type": "execute_result"
    }
   ],
   "source": [
    "\n",
    "chi=df_metrics.quantile(q=0.005,axis=0)['hist_chi']\n",
    "print(chi)\n",
    "df_metrics[df_metrics['hist_chi']<=chi].sort_values(by=['hist_chi']).head(10)"
   ]
  },
  {
   "cell_type": "code",
   "execution_count": 18,
   "metadata": {},
   "outputs": [],
   "source": [
    "# display(df_metrics.sort_values(by=['hist_chi']).head(8))\n",
    "# display(df_metrics.sort_values(by=['spec_chi']).head(8))"
   ]
  },
  {
   "cell_type": "markdown",
   "metadata": {},
   "source": [
    "## Read stored chi-squares for images"
   ]
  },
  {
   "cell_type": "code",
   "execution_count": 20,
   "metadata": {},
   "outputs": [
    {
     "ename": "FileNotFoundError",
     "evalue": "[Errno 2] No such file or directory: '/global/cfs/cdirs/m3363/vayyar/cosmogan_data/results_from_other_code/pytorch/results/3d/20210518_91712_bs8_lr0.001_nodes8_spec0.1/df_processed.pkle'",
     "output_type": "error",
     "traceback": [
      "\u001b[0;31m---------------------------------------------------------------------------\u001b[0m",
      "\u001b[0;31mFileNotFoundError\u001b[0m                         Traceback (most recent call last)",
      "\u001b[0;32m<ipython-input-20-5782825b85bf>\u001b[0m in \u001b[0;36m<module>\u001b[0;34m\u001b[0m\n\u001b[0;32m----> 1\u001b[0;31m \u001b[0mdf\u001b[0m\u001b[0;34m=\u001b[0m\u001b[0mpd\u001b[0m\u001b[0;34m.\u001b[0m\u001b[0mread_pickle\u001b[0m\u001b[0;34m(\u001b[0m\u001b[0mresult_dir\u001b[0m\u001b[0;34m+\u001b[0m\u001b[0;34m'/df_processed.pkle'\u001b[0m\u001b[0;34m)\u001b[0m\u001b[0;34m\u001b[0m\u001b[0;34m\u001b[0m\u001b[0m\n\u001b[0m\u001b[1;32m      2\u001b[0m \u001b[0mdf\u001b[0m\u001b[0;34m[\u001b[0m\u001b[0;34m[\u001b[0m\u001b[0;34m'epoch'\u001b[0m\u001b[0;34m,\u001b[0m\u001b[0;34m'step'\u001b[0m\u001b[0;34m]\u001b[0m\u001b[0;34m]\u001b[0m\u001b[0;34m=\u001b[0m\u001b[0mdf\u001b[0m\u001b[0;34m[\u001b[0m\u001b[0;34m[\u001b[0m\u001b[0;34m'epoch'\u001b[0m\u001b[0;34m,\u001b[0m\u001b[0;34m'step'\u001b[0m\u001b[0;34m]\u001b[0m\u001b[0;34m]\u001b[0m\u001b[0;34m.\u001b[0m\u001b[0mastype\u001b[0m\u001b[0;34m(\u001b[0m\u001b[0mint\u001b[0m\u001b[0;34m)\u001b[0m\u001b[0;34m\u001b[0m\u001b[0;34m\u001b[0m\u001b[0m\n\u001b[1;32m      3\u001b[0m \u001b[0mdf\u001b[0m\u001b[0;34m[\u001b[0m\u001b[0;34m'label'\u001b[0m\u001b[0;34m]\u001b[0m\u001b[0;34m=\u001b[0m\u001b[0mdf\u001b[0m\u001b[0;34m.\u001b[0m\u001b[0mepoch\u001b[0m\u001b[0;34m.\u001b[0m\u001b[0mastype\u001b[0m\u001b[0;34m(\u001b[0m\u001b[0mstr\u001b[0m\u001b[0;34m)\u001b[0m\u001b[0;34m+\u001b[0m\u001b[0;34m'-'\u001b[0m\u001b[0;34m+\u001b[0m\u001b[0mdf\u001b[0m\u001b[0;34m.\u001b[0m\u001b[0mstep\u001b[0m\u001b[0;34m.\u001b[0m\u001b[0mastype\u001b[0m\u001b[0;34m(\u001b[0m\u001b[0mstr\u001b[0m\u001b[0;34m)\u001b[0m \u001b[0;31m# Add label column for plotting\u001b[0m\u001b[0;34m\u001b[0m\u001b[0;34m\u001b[0m\u001b[0m\n\u001b[1;32m      4\u001b[0m \u001b[0;34m\u001b[0m\u001b[0m\n\u001b[1;32m      5\u001b[0m \u001b[0mcol_list\u001b[0m\u001b[0;34m=\u001b[0m\u001b[0;34m[\u001b[0m\u001b[0;34m'label'\u001b[0m\u001b[0;34m,\u001b[0m\u001b[0;34m'chi_1'\u001b[0m\u001b[0;34m,\u001b[0m\u001b[0;34m'chi_spec1'\u001b[0m\u001b[0;34m,\u001b[0m \u001b[0;34m'chi_spec3'\u001b[0m\u001b[0;34m,\u001b[0m \u001b[0;34m'chi_1a'\u001b[0m\u001b[0;34m,\u001b[0m \u001b[0;34m'chi_1b'\u001b[0m\u001b[0;34m,\u001b[0m \u001b[0;34m'chi_1c'\u001b[0m\u001b[0;34m,\u001b[0m \u001b[0;34m'chi_2'\u001b[0m\u001b[0;34m,\u001b[0m\u001b[0;34m'chi_imgvar'\u001b[0m\u001b[0;34m,\u001b[0m \u001b[0;34m'chi_spec2'\u001b[0m\u001b[0;34m,\u001b[0m\u001b[0;34m'epoch'\u001b[0m\u001b[0;34m,\u001b[0m\u001b[0;34m'step'\u001b[0m\u001b[0;34m]\u001b[0m\u001b[0;34m\u001b[0m\u001b[0;34m\u001b[0m\u001b[0m\n",
      "\u001b[0;32m~/.conda/envs/v3/lib/python3.8/site-packages/pandas/io/pickle.py\u001b[0m in \u001b[0;36mread_pickle\u001b[0;34m(filepath_or_buffer, compression)\u001b[0m\n\u001b[1;32m    167\u001b[0m     \u001b[0;32mif\u001b[0m \u001b[0;32mnot\u001b[0m \u001b[0misinstance\u001b[0m\u001b[0;34m(\u001b[0m\u001b[0mfp_or_buf\u001b[0m\u001b[0;34m,\u001b[0m \u001b[0mstr\u001b[0m\u001b[0;34m)\u001b[0m \u001b[0;32mand\u001b[0m \u001b[0mcompression\u001b[0m \u001b[0;34m==\u001b[0m \u001b[0;34m\"infer\"\u001b[0m\u001b[0;34m:\u001b[0m\u001b[0;34m\u001b[0m\u001b[0;34m\u001b[0m\u001b[0m\n\u001b[1;32m    168\u001b[0m         \u001b[0mcompression\u001b[0m \u001b[0;34m=\u001b[0m \u001b[0;32mNone\u001b[0m\u001b[0;34m\u001b[0m\u001b[0;34m\u001b[0m\u001b[0m\n\u001b[0;32m--> 169\u001b[0;31m     \u001b[0mf\u001b[0m\u001b[0;34m,\u001b[0m \u001b[0mfh\u001b[0m \u001b[0;34m=\u001b[0m \u001b[0mget_handle\u001b[0m\u001b[0;34m(\u001b[0m\u001b[0mfp_or_buf\u001b[0m\u001b[0;34m,\u001b[0m \u001b[0;34m\"rb\"\u001b[0m\u001b[0;34m,\u001b[0m \u001b[0mcompression\u001b[0m\u001b[0;34m=\u001b[0m\u001b[0mcompression\u001b[0m\u001b[0;34m,\u001b[0m \u001b[0mis_text\u001b[0m\u001b[0;34m=\u001b[0m\u001b[0;32mFalse\u001b[0m\u001b[0;34m)\u001b[0m\u001b[0;34m\u001b[0m\u001b[0;34m\u001b[0m\u001b[0m\n\u001b[0m\u001b[1;32m    170\u001b[0m \u001b[0;34m\u001b[0m\u001b[0m\n\u001b[1;32m    171\u001b[0m     \u001b[0;31m# 1) try standard library Pickle\u001b[0m\u001b[0;34m\u001b[0m\u001b[0;34m\u001b[0m\u001b[0;34m\u001b[0m\u001b[0m\n",
      "\u001b[0;32m~/.conda/envs/v3/lib/python3.8/site-packages/pandas/io/common.py\u001b[0m in \u001b[0;36mget_handle\u001b[0;34m(path_or_buf, mode, encoding, compression, memory_map, is_text, errors)\u001b[0m\n\u001b[1;32m    497\u001b[0m         \u001b[0;32melse\u001b[0m\u001b[0;34m:\u001b[0m\u001b[0;34m\u001b[0m\u001b[0;34m\u001b[0m\u001b[0m\n\u001b[1;32m    498\u001b[0m             \u001b[0;31m# Binary mode\u001b[0m\u001b[0;34m\u001b[0m\u001b[0;34m\u001b[0m\u001b[0;34m\u001b[0m\u001b[0m\n\u001b[0;32m--> 499\u001b[0;31m             \u001b[0mf\u001b[0m \u001b[0;34m=\u001b[0m \u001b[0mopen\u001b[0m\u001b[0;34m(\u001b[0m\u001b[0mpath_or_buf\u001b[0m\u001b[0;34m,\u001b[0m \u001b[0mmode\u001b[0m\u001b[0;34m)\u001b[0m\u001b[0;34m\u001b[0m\u001b[0;34m\u001b[0m\u001b[0m\n\u001b[0m\u001b[1;32m    500\u001b[0m         \u001b[0mhandles\u001b[0m\u001b[0;34m.\u001b[0m\u001b[0mappend\u001b[0m\u001b[0;34m(\u001b[0m\u001b[0mf\u001b[0m\u001b[0;34m)\u001b[0m\u001b[0;34m\u001b[0m\u001b[0;34m\u001b[0m\u001b[0m\n\u001b[1;32m    501\u001b[0m \u001b[0;34m\u001b[0m\u001b[0m\n",
      "\u001b[0;31mFileNotFoundError\u001b[0m: [Errno 2] No such file or directory: '/global/cfs/cdirs/m3363/vayyar/cosmogan_data/results_from_other_code/pytorch/results/3d/20210518_91712_bs8_lr0.001_nodes8_spec0.1/df_processed.pkle'"
     ]
    }
   ],
   "source": [
    "df=pd.read_pickle(result_dir+'/df_processed.pkle')\n",
    "df[['epoch','step']]=df[['epoch','step']].astype(int)\n",
    "df['label']=df.epoch.astype(str)+'-'+df.step.astype(str) # Add label column for plotting\n",
    "\n",
    "col_list=['label','chi_1','chi_spec1', 'chi_spec3', 'chi_1a', 'chi_1b', 'chi_1c', 'chi_2','chi_imgvar', 'chi_spec2','epoch','step']\n"
   ]
  },
  {
   "cell_type": "code",
   "execution_count": 20,
   "metadata": {},
   "outputs": [],
   "source": [
    "def f_slice_df(df,cutoff=0.2,sort_col='chi_1',col_mode='all',head=10,epoch_range=[0,None],display_flag=False):\n",
    "    ''' View dataframe after slicing\n",
    "    '''\n",
    "    col_list=['label','chi_1','chi_spec1', 'chi_spec3', 'chi_1a', 'chi_1b', 'chi_1c', 'chi_2','chi_imgvar', 'chi_spec2','epoch','step']\n",
    "    if (col_mode=='short'): col_list=['label','chi_1','chi_spec1']\n",
    "        \n",
    "    print(epoch_range)\n",
    "    if epoch_range[1]==None: epoch_range[1]=df.max()['epoch']\n",
    "    df=df[(df.epoch<=epoch_range[1])&(df.epoch>=epoch_range[0])]\n",
    "\n",
    "    ## Apply cutoff to keep reasonable chi1 and chispec1\n",
    "    best_keys=[ 'chi_1', 'chi_spec1']\n",
    "    q_dict=dict(df.quantile(q=cutoff,axis=0)[best_keys])   \n",
    "    print(q_dict)\n",
    "    df=df.query('chi_1 < {0} & chi_spec1 < {1}'.format(q_dict['chi_1'],q_dict['chi_spec1']))\n",
    "    \n",
    "    # Sort dataframe\n",
    "    df1=df[df.epoch>0].sort_values(by=sort_col)\n",
    "        \n",
    "    df2=df1.head(head)[col_list]\n",
    "\n",
    "    if display_flag:   # Display df\n",
    "        display_cols=['label','chi_1','chi_spec1', 'chi_spec3', 'chi_1a', 'chi_1b', 'chi_1c', 'chi_2','chi_imgvar', 'chi_spec2']\n",
    "        display(df2)\n",
    "    \n",
    "    return df2"
   ]
  },
  {
   "cell_type": "code",
   "execution_count": 21,
   "metadata": {},
   "outputs": [
    {
     "data": {
      "application/vnd.jupyter.widget-view+json": {
       "model_id": "71409e05eb8b4fe0b4acc36e4e464904",
       "version_major": 2,
       "version_minor": 0
      },
      "text/plain": [
       "interactive(children=(FloatSlider(value=0.2, description='cutoff', max=1.0, step=0.01), Dropdown(description='…"
      ]
     },
     "metadata": {},
     "output_type": "display_data"
    }
   ],
   "source": [
    "w=interactive(f_slice_df,df=fixed(df),\n",
    "cutoff=widgets.FloatSlider(value=0.2, min=0, max=1.0, step=0.01), \n",
    "col_mode=['all','short'], display_flag=widgets.Checkbox(value=False),\n",
    "head=widgets.IntSlider(value=10,min=1,max=20,step=1),\n",
    "epoch_range=widgets.IntRangeSlider(value=[0,np.max(df.epoch.values)],min=0,max=np.max(df.epoch.values),step=1),\n",
    "sort_col=['chi_1','chi_spec1', 'chi_spec3', 'chi_1a', 'chi_1b', 'chi_1c', 'chi_2','chi_imgvar', 'chi_spec2'],\n",
    ")\n",
    "display(w)"
   ]
  },
  {
   "cell_type": "code",
   "execution_count": 22,
   "metadata": {},
   "outputs": [],
   "source": [
    "df_sliced=w.result\n",
    "# df_sliced"
   ]
  },
  {
   "cell_type": "code",
   "execution_count": 23,
   "metadata": {},
   "outputs": [
    {
     "name": "stdout",
     "output_type": "stream",
     "text": [
      "[0, None]\n",
      "{'chi_1': 1.5533178654225526, 'chi_spec1': 1927.5022688640038}\n",
      "[0, 49]\n",
      "{'chi_1': 0.205462890221009, 'chi_spec1': 962.8806836944607}\n",
      "[0, 49]\n",
      "{'chi_1': 0.146272865654264, 'chi_spec1': 121.25042451673932}\n",
      "[array([ 260, 1440, 1470, 1230]), array([ 200, 1270]), array([1500, 1350])]\n",
      "[ 200  260 1230 1270 1350 1440 1470 1500]\n"
     ]
    }
   ],
   "source": [
    "best_step=[]\n",
    "df_test=df.copy()\n",
    "# df_test=df[df.epoch>5]\n",
    "best_step.append(f_slice_df(df_test,cutoff=0.9,sort_col='chi_1',head=4,display_flag=False).step.values)\n",
    "best_step.append(f_slice_df(df_test,cutoff=0.8,sort_col='chi_1c',head=2,display_flag=False).step.values)\n",
    "best_step.append(f_slice_df(df_test,cutoff=0.4,sort_col='chi_spec1',head=2,display_flag=False).step.values)\n",
    "print(best_step)\n",
    "best_step=np.unique([i for j in best_step for i in j])\n",
    "print(best_step)"
   ]
  },
  {
   "cell_type": "code",
   "execution_count": 24,
   "metadata": {},
   "outputs": [],
   "source": [
    "# best_step=[58800]\n",
    "# best_step=np.arange(32800,32900,10).astype(int)"
   ]
  },
  {
   "cell_type": "code",
   "execution_count": 25,
   "metadata": {},
   "outputs": [
    {
     "name": "stdout",
     "output_type": "stream",
     "text": [
      "(8, 22)\n",
      "[(6, 200), (8, 260), (38, 1230), (39, 1270), (42, 1350), (44, 1440), (45, 1470), (46, 1500)]\n"
     ]
    }
   ],
   "source": [
    "df_best=df[df.step.isin(best_step)]\n",
    "print(df_best.shape)\n",
    "print([(df_best[df_best.step==step].epoch.values[0],df_best[df_best.step==step].step.values[0]) for step in best_step])\n",
    "# print([(df_best.loc[idx].epoch,df_best.loc[idx].step) for idx in best_idx])"
   ]
  },
  {
   "cell_type": "code",
   "execution_count": 26,
   "metadata": {},
   "outputs": [
    {
     "data": {
      "text/html": [
       "<div>\n",
       "<style scoped>\n",
       "    .dataframe tbody tr th:only-of-type {\n",
       "        vertical-align: middle;\n",
       "    }\n",
       "\n",
       "    .dataframe tbody tr th {\n",
       "        vertical-align: top;\n",
       "    }\n",
       "\n",
       "    .dataframe thead th {\n",
       "        text-align: right;\n",
       "    }\n",
       "</style>\n",
       "<table border=\"1\" class=\"dataframe\">\n",
       "  <thead>\n",
       "    <tr style=\"text-align: right;\">\n",
       "      <th></th>\n",
       "      <th>label</th>\n",
       "      <th>chi_1</th>\n",
       "      <th>chi_spec1</th>\n",
       "      <th>chi_spec3</th>\n",
       "      <th>chi_1a</th>\n",
       "      <th>chi_1b</th>\n",
       "      <th>chi_1c</th>\n",
       "      <th>chi_2</th>\n",
       "      <th>chi_imgvar</th>\n",
       "      <th>chi_spec2</th>\n",
       "      <th>epoch</th>\n",
       "      <th>step</th>\n",
       "    </tr>\n",
       "  </thead>\n",
       "  <tbody>\n",
       "    <tr>\n",
       "      <th>19</th>\n",
       "      <td>6-200</td>\n",
       "      <td>0.076222</td>\n",
       "      <td>799.697230</td>\n",
       "      <td>52.590881</td>\n",
       "      <td>0.071650</td>\n",
       "      <td>0.004572</td>\n",
       "      <td>0.0</td>\n",
       "      <td>0.000822</td>\n",
       "      <td>6.088001</td>\n",
       "      <td>35014.828713</td>\n",
       "      <td>6</td>\n",
       "      <td>200</td>\n",
       "    </tr>\n",
       "    <tr>\n",
       "      <th>25</th>\n",
       "      <td>8-260</td>\n",
       "      <td>0.022973</td>\n",
       "      <td>1088.839546</td>\n",
       "      <td>52.137237</td>\n",
       "      <td>0.007385</td>\n",
       "      <td>0.015588</td>\n",
       "      <td>0.0</td>\n",
       "      <td>0.000014</td>\n",
       "      <td>8.360224</td>\n",
       "      <td>74869.688577</td>\n",
       "      <td>8</td>\n",
       "      <td>260</td>\n",
       "    </tr>\n",
       "    <tr>\n",
       "      <th>122</th>\n",
       "      <td>38-1230</td>\n",
       "      <td>0.045722</td>\n",
       "      <td>31.665181</td>\n",
       "      <td>49.472693</td>\n",
       "      <td>0.041150</td>\n",
       "      <td>0.004572</td>\n",
       "      <td>0.0</td>\n",
       "      <td>0.000207</td>\n",
       "      <td>3.369333</td>\n",
       "      <td>4689.943519</td>\n",
       "      <td>38</td>\n",
       "      <td>1230</td>\n",
       "    </tr>\n",
       "    <tr>\n",
       "      <th>126</th>\n",
       "      <td>39-1270</td>\n",
       "      <td>0.192943</td>\n",
       "      <td>897.523654</td>\n",
       "      <td>49.812498</td>\n",
       "      <td>0.188372</td>\n",
       "      <td>0.004572</td>\n",
       "      <td>0.0</td>\n",
       "      <td>0.001794</td>\n",
       "      <td>0.320710</td>\n",
       "      <td>12908.525676</td>\n",
       "      <td>39</td>\n",
       "      <td>1270</td>\n",
       "    </tr>\n",
       "    <tr>\n",
       "      <th>134</th>\n",
       "      <td>42-1350</td>\n",
       "      <td>0.081230</td>\n",
       "      <td>24.852898</td>\n",
       "      <td>56.907352</td>\n",
       "      <td>0.076658</td>\n",
       "      <td>0.004572</td>\n",
       "      <td>0.0</td>\n",
       "      <td>0.000668</td>\n",
       "      <td>2.909651</td>\n",
       "      <td>1795.582733</td>\n",
       "      <td>42</td>\n",
       "      <td>1350</td>\n",
       "    </tr>\n",
       "    <tr>\n",
       "      <th>143</th>\n",
       "      <td>44-1440</td>\n",
       "      <td>0.035618</td>\n",
       "      <td>27.437536</td>\n",
       "      <td>52.232308</td>\n",
       "      <td>0.031046</td>\n",
       "      <td>0.004572</td>\n",
       "      <td>0.0</td>\n",
       "      <td>0.000191</td>\n",
       "      <td>3.677551</td>\n",
       "      <td>2279.391551</td>\n",
       "      <td>44</td>\n",
       "      <td>1440</td>\n",
       "    </tr>\n",
       "    <tr>\n",
       "      <th>146</th>\n",
       "      <td>45-1470</td>\n",
       "      <td>0.040991</td>\n",
       "      <td>24.989060</td>\n",
       "      <td>56.491963</td>\n",
       "      <td>0.036419</td>\n",
       "      <td>0.004572</td>\n",
       "      <td>0.0</td>\n",
       "      <td>0.000729</td>\n",
       "      <td>4.760301</td>\n",
       "      <td>2419.345881</td>\n",
       "      <td>45</td>\n",
       "      <td>1470</td>\n",
       "    </tr>\n",
       "    <tr>\n",
       "      <th>149</th>\n",
       "      <td>46-1500</td>\n",
       "      <td>0.090328</td>\n",
       "      <td>23.734970</td>\n",
       "      <td>56.513812</td>\n",
       "      <td>0.085756</td>\n",
       "      <td>0.004572</td>\n",
       "      <td>0.0</td>\n",
       "      <td>0.000450</td>\n",
       "      <td>2.137875</td>\n",
       "      <td>1253.947388</td>\n",
       "      <td>46</td>\n",
       "      <td>1500</td>\n",
       "    </tr>\n",
       "  </tbody>\n",
       "</table>\n",
       "</div>"
      ],
      "text/plain": [
       "       label     chi_1    chi_spec1  chi_spec3    chi_1a    chi_1b  chi_1c  \\\n",
       "19     6-200  0.076222   799.697230  52.590881  0.071650  0.004572     0.0   \n",
       "25     8-260  0.022973  1088.839546  52.137237  0.007385  0.015588     0.0   \n",
       "122  38-1230  0.045722    31.665181  49.472693  0.041150  0.004572     0.0   \n",
       "126  39-1270  0.192943   897.523654  49.812498  0.188372  0.004572     0.0   \n",
       "134  42-1350  0.081230    24.852898  56.907352  0.076658  0.004572     0.0   \n",
       "143  44-1440  0.035618    27.437536  52.232308  0.031046  0.004572     0.0   \n",
       "146  45-1470  0.040991    24.989060  56.491963  0.036419  0.004572     0.0   \n",
       "149  46-1500  0.090328    23.734970  56.513812  0.085756  0.004572     0.0   \n",
       "\n",
       "        chi_2  chi_imgvar     chi_spec2  epoch  step  \n",
       "19   0.000822    6.088001  35014.828713      6   200  \n",
       "25   0.000014    8.360224  74869.688577      8   260  \n",
       "122  0.000207    3.369333   4689.943519     38  1230  \n",
       "126  0.001794    0.320710  12908.525676     39  1270  \n",
       "134  0.000668    2.909651   1795.582733     42  1350  \n",
       "143  0.000191    3.677551   2279.391551     44  1440  \n",
       "146  0.000729    4.760301   2419.345881     45  1470  \n",
       "149  0.000450    2.137875   1253.947388     46  1500  "
      ]
     },
     "execution_count": 26,
     "metadata": {},
     "output_type": "execute_result"
    }
   ],
   "source": [
    "df_best[col_list]\n"
   ]
  },
  {
   "cell_type": "markdown",
   "metadata": {},
   "source": [
    "### Plots 2: stored data"
   ]
  },
  {
   "cell_type": "code",
   "execution_count": 27,
   "metadata": {
    "jupyter": {
     "source_hidden": true
    }
   },
   "outputs": [],
   "source": [
    "\n",
    "def f_plot_hist_spec(df,dict_bkg,plot_type):\n",
    "\n",
    "    img_size=64\n",
    "    assert plot_type in ['hist','spec','grid','spec_relative','hist_relative'],\"Invalid mode %s\"%(plot_type)\n",
    "\n",
    "    if plot_type in ['hist','spec','spec_relative','hist_relative']:     fig=plt.figure(figsize=(6,6))\n",
    "\n",
    "\n",
    "    for (i,row),marker in zip(df.iterrows(),itertools.cycle('>^*sDHPdpx_')):\n",
    "        label=row.label\n",
    "        if plot_type=='hist':\n",
    "            x1=row.hist_bin_centers\n",
    "            y1=row.hist_val\n",
    "            yerr1=row.hist_err\n",
    "            x1=f_invtransform(x1)\n",
    "            \n",
    "            plt.errorbar(x1,y1,yerr1,marker=marker,markersize=5,linestyle='',label=label)\n",
    "        if plot_type=='spec':\n",
    "            \n",
    "            y2=row.spec_val\n",
    "            yerr2=row.spec_sdev/np.sqrt(row.num_imgs)\n",
    "            x2=np.arange(len(y2))\n",
    "            \n",
    "            plt.fill_between(x2, y2 - yerr2, y2 + yerr2, alpha=0.4)\n",
    "            plt.plot(x2, y2, marker=marker, linestyle=':',label=label)\n",
    "            plt.xlim(0,img_size/2)\n",
    "\n",
    "\n",
    "        if plot_type=='spec_relative':\n",
    "            \n",
    "            y2=row.spec_val\n",
    "            yerr2=row.spec_sdev\n",
    "            x2=np.arange(len(y2))\n",
    "            \n",
    "            ### Reference spectrum\n",
    "            y1,yerr1=dict_bkg['spec_val'],dict_bkg['spec_sdev']\n",
    "            y=y2/(1.0*y1)\n",
    "            ## Variance is sum of variance of both variables, since they are uncorrelated\n",
    "            \n",
    "            # delta_r=sqrt(\\delta_c2 ^ 2/ c1^2 + \\delta_c1^2 * c_2^2 / c_1^4)\n",
    "            yerr=(np.abs(y))*np.sqrt((yerr1/y1)**2+(yerr2/y2)**2)/np.sqrt(row['num_imgs'])\n",
    "\n",
    "            plt.fill_between(x2, y - yerr, y + yerr, alpha=0.4)\n",
    "            plt.plot(x2, y, marker=marker, linestyle=':',label=label)            \n",
    "            \n",
    "            \n",
    "        if plot_type=='hist_relative':\n",
    "\n",
    "            x2=row.hist_bin_centers\n",
    "            y2=row.hist_val\n",
    "            yerr2=row.hist_err\n",
    "            x2=f_invtransform(x2)\n",
    "            \n",
    "#             plt.errorbar(x1,y1,yerr1,marker=marker,markersize=5,linestyle='',label=label)\n",
    "            \n",
    "            ### Reference spectrum\n",
    "            y1,yerr1=dict_bkg['hist_val'],dict_bkg['hist_err']\n",
    "\n",
    "            y=y2/(1.0*y1)\n",
    "            ## Variance is sum of variance of both variables, since they are uncorrelated\n",
    "            \n",
    "            # delta_r=sqrt(\\delta_c2 ^ 2/ c1^2 + \\delta_c1^2 * c_2^2 / c_1^4)\n",
    "            yerr=(np.abs(y))*np.sqrt((yerr1/y1)**2+(yerr2/y2)**2)/np.sqrt(row['num_imgs'])\n",
    "\n",
    "            plt.fill_between(x2, y - yerr, y + yerr, alpha=0.4)\n",
    "            plt.plot(x2, y, marker=marker, linestyle=':',label=label)            \n",
    "            plt.xlim(0,img_size/2)\n",
    "            plt.ylim(0,5)\n",
    "            plt.legend()\n",
    "\n",
    "        if plot_type=='grid':\n",
    "            images=np.load(row.fname)[:,:,:,0]\n",
    "            print(images.shape)\n",
    "            f_plot_grid(images[:18],cols=6,fig_size=(10,5))\n",
    "            \n",
    "    ### Plot input data\n",
    "    if plot_type=='hist':\n",
    "        x,y,yerr=dict_bkg['hist_bin_centers'],dict_bkg['hist_val'],dict_bkg['hist_err']\n",
    "        x=f_invtransform(x)\n",
    "        plt.errorbar(x, y,yerr,color='k',linestyle='-',label='bkgnd')   \n",
    "        plt.title('Pixel Intensity Histogram')\n",
    "        plt.xscale('symlog',linthreshx=50)\n",
    "        \n",
    "    if plot_type=='spec':\n",
    "        y,yerr=dict_bkg['spec_val'],dict_bkg['spec_sdev']/np.sqrt(num_bkgnd)\n",
    "        x=np.arange(len(y))\n",
    "        plt.fill_between(x, y - yerr, y + yerr, color='k',alpha=0.8)\n",
    "        plt.xlim(0,img_size/2)\n",
    "        plt.title('Spectrum')\n",
    "        \n",
    "    if plot_type=='spec_relative':\n",
    "        plt.axhline(y=1.0,color='k',linestyle='-.')\n",
    "        plt.xlim(0,img_size/2)\n",
    "        plt.ylim(0.5,2)\n",
    "        plt.legend()\n",
    "        \n",
    "    if plot_type=='hist_relative':\n",
    "        plt.axhline(y=1.0,color='k',linestyle='-.')\n",
    "        \n",
    "    plt.legend(bbox_to_anchor=(0.3, 0.75),ncol=2, fancybox=True, shadow=True,prop={'size':6})\n",
    "    if plot_type in ['hist','spec']:     plt.yscale('log')\n",
    "\n",
    "# f_plot_hist_spec(df_runs,dict_val,'hist')\n",
    "# f_plot_hist_spec(df_runs,dict_val,'spec')\n",
    "# f_plot_hist_spec(df_best,dict_val,'grid')\n"
   ]
  },
  {
   "cell_type": "code",
   "execution_count": 28,
   "metadata": {},
   "outputs": [
    {
     "data": {
      "application/vnd.jupyter.widget-view+json": {
       "model_id": "b92e08beff2e42c891ec2231b5458773",
       "version_major": 2,
       "version_minor": 0
      },
      "text/plain": [
       "interactive(children=(SelectMultiple(description='labels_list', options=('6-200', '8-260', '38-1230', '39-1270…"
      ]
     },
     "metadata": {},
     "output_type": "display_data"
    },
    {
     "data": {
      "text/plain": [
       "<function __main__.f_widget_compare(df, labels_list, bkgnd, plot_type)>"
      ]
     },
     "execution_count": 28,
     "metadata": {},
     "output_type": "execute_result"
    }
   ],
   "source": [
    "def f_widget_compare(df,labels_list,bkgnd,plot_type):\n",
    "    df_temp=df[df.label.isin(labels_list)]\n",
    "    f_plot_hist_spec(df_temp,dict_val,plot_type)\n",
    "    \n",
    "interact_manual(f_widget_compare,df=fixed(df_best),\n",
    "                labels_list=SelectMultiple(options=df_best.label.values), \n",
    "                bkgnd=fixed(dict_val),plot_type=ToggleButtons(options=['hist','spec','grid','spec_relative','hist_relative']))"
   ]
  },
  {
   "cell_type": "markdown",
   "metadata": {},
   "source": [
    "## Plot images"
   ]
  },
  {
   "cell_type": "code",
   "execution_count": 94,
   "metadata": {},
   "outputs": [
    {
     "name": "stdout",
     "output_type": "stream",
     "text": [
      "(1000, 64, 64, 64)\n"
     ]
    }
   ],
   "source": [
    "print(s_val.shape)\n"
   ]
  },
  {
   "cell_type": "code",
   "execution_count": 95,
   "metadata": {},
   "outputs": [],
   "source": [
    "fname='/global/cfs/cdirs/m3363/vayyar/cosmogan_data/results_from_other_code/pytorch/results/3d/20210123_050147_3d_l0.5_80k/images/gen_img_epoch-28_step-71620.npy'\n",
    "a1=np.load(fname)"
   ]
  },
  {
   "cell_type": "code",
   "execution_count": 96,
   "metadata": {},
   "outputs": [
    {
     "data": {
      "text/plain": [
       "((1000, 64, 64, 64), (32, 64, 64, 64))"
      ]
     },
     "execution_count": 96,
     "metadata": {},
     "output_type": "execute_result"
    }
   ],
   "source": [
    "s_val.shape,a1.shape"
   ]
  },
  {
   "cell_type": "code",
   "execution_count": 97,
   "metadata": {},
   "outputs": [
    {
     "name": "stdout",
     "output_type": "stream",
     "text": [
      "2 4\n"
     ]
    },
    {
     "data": {
      "application/vnd.jupyter.widget-view+json": {
       "model_id": "fafe09d69c5c465fb5e8133c253dcbe0",
       "version_major": 2,
       "version_minor": 0
      },
      "text/plain": [
       "Canvas(toolbar=Toolbar(toolitems=[('Home', 'Reset original view', 'home', 'home'), ('Back', 'Back to previous …"
      ]
     },
     "metadata": {},
     "output_type": "display_data"
    }
   ],
   "source": [
    "f_plot_grid(a1[6:14,:,:,0],cols=4,fig_size=(4,2))"
   ]
  },
  {
   "cell_type": "code",
   "execution_count": 98,
   "metadata": {},
   "outputs": [
    {
     "name": "stdout",
     "output_type": "stream",
     "text": [
      "2 4\n"
     ]
    },
    {
     "data": {
      "application/vnd.jupyter.widget-view+json": {
       "model_id": "3a23fbbaf784401f82528127fec240fd",
       "version_major": 2,
       "version_minor": 0
      },
      "text/plain": [
       "Canvas(toolbar=Toolbar(toolitems=[('Home', 'Reset original view', 'home', 'home'), ('Back', 'Back to previous …"
      ]
     },
     "metadata": {},
     "output_type": "display_data"
    }
   ],
   "source": [
    "f_plot_grid(s_val[100:108,:,:,0],cols=4,fig_size=(4,2))"
   ]
  },
  {
   "cell_type": "code",
   "execution_count": 99,
   "metadata": {},
   "outputs": [
    {
     "data": {
      "text/html": [
       "<div>\n",
       "<style scoped>\n",
       "    .dataframe tbody tr th:only-of-type {\n",
       "        vertical-align: middle;\n",
       "    }\n",
       "\n",
       "    .dataframe tbody tr th {\n",
       "        vertical-align: top;\n",
       "    }\n",
       "\n",
       "    .dataframe thead th {\n",
       "        text-align: right;\n",
       "    }\n",
       "</style>\n",
       "<table border=\"1\" class=\"dataframe\">\n",
       "  <thead>\n",
       "    <tr style=\"text-align: right;\">\n",
       "      <th></th>\n",
       "      <th>label</th>\n",
       "      <th>chi_1</th>\n",
       "      <th>chi_spec1</th>\n",
       "      <th>chi_spec3</th>\n",
       "      <th>chi_1a</th>\n",
       "      <th>chi_1b</th>\n",
       "      <th>chi_1c</th>\n",
       "      <th>chi_2</th>\n",
       "      <th>chi_imgvar</th>\n",
       "      <th>chi_spec2</th>\n",
       "      <th>epoch</th>\n",
       "      <th>step</th>\n",
       "    </tr>\n",
       "  </thead>\n",
       "  <tbody>\n",
       "    <tr>\n",
       "      <th>655</th>\n",
       "      <td>2-6560</td>\n",
       "      <td>0.246885</td>\n",
       "      <td>10.027608</td>\n",
       "      <td>49.063214</td>\n",
       "      <td>0.192645</td>\n",
       "      <td>0.053953</td>\n",
       "      <td>0.000288</td>\n",
       "      <td>0.115025</td>\n",
       "      <td>3.904391</td>\n",
       "      <td>17956.069610</td>\n",
       "      <td>2</td>\n",
       "      <td>6560</td>\n",
       "    </tr>\n",
       "    <tr>\n",
       "      <th>2819</th>\n",
       "      <td>11-28200</td>\n",
       "      <td>0.036677</td>\n",
       "      <td>6.014820</td>\n",
       "      <td>49.570766</td>\n",
       "      <td>0.019308</td>\n",
       "      <td>0.014379</td>\n",
       "      <td>0.002990</td>\n",
       "      <td>0.010212</td>\n",
       "      <td>9.884761</td>\n",
       "      <td>1447.230356</td>\n",
       "      <td>11</td>\n",
       "      <td>28200</td>\n",
       "    </tr>\n",
       "    <tr>\n",
       "      <th>2920</th>\n",
       "      <td>11-29210</td>\n",
       "      <td>0.248065</td>\n",
       "      <td>6.946046</td>\n",
       "      <td>59.081433</td>\n",
       "      <td>0.241302</td>\n",
       "      <td>0.006456</td>\n",
       "      <td>0.000306</td>\n",
       "      <td>0.089805</td>\n",
       "      <td>33.648975</td>\n",
       "      <td>50.338523</td>\n",
       "      <td>11</td>\n",
       "      <td>29210</td>\n",
       "    </tr>\n",
       "    <tr>\n",
       "      <th>3378</th>\n",
       "      <td>13-33790</td>\n",
       "      <td>0.032535</td>\n",
       "      <td>6.317830</td>\n",
       "      <td>50.120442</td>\n",
       "      <td>0.028484</td>\n",
       "      <td>0.002187</td>\n",
       "      <td>0.001864</td>\n",
       "      <td>0.013548</td>\n",
       "      <td>6.696044</td>\n",
       "      <td>1461.858703</td>\n",
       "      <td>13</td>\n",
       "      <td>33790</td>\n",
       "    </tr>\n",
       "    <tr>\n",
       "      <th>4015</th>\n",
       "      <td>16-40160</td>\n",
       "      <td>0.032709</td>\n",
       "      <td>5.377288</td>\n",
       "      <td>50.452657</td>\n",
       "      <td>0.027667</td>\n",
       "      <td>0.003498</td>\n",
       "      <td>0.001544</td>\n",
       "      <td>0.013563</td>\n",
       "      <td>10.932140</td>\n",
       "      <td>240.525028</td>\n",
       "      <td>16</td>\n",
       "      <td>40160</td>\n",
       "    </tr>\n",
       "    <tr>\n",
       "      <th>4024</th>\n",
       "      <td>16-40250</td>\n",
       "      <td>0.100561</td>\n",
       "      <td>3.085800</td>\n",
       "      <td>43.490086</td>\n",
       "      <td>0.071879</td>\n",
       "      <td>0.025700</td>\n",
       "      <td>0.002983</td>\n",
       "      <td>0.051874</td>\n",
       "      <td>7.510610</td>\n",
       "      <td>71.322752</td>\n",
       "      <td>16</td>\n",
       "      <td>40250</td>\n",
       "    </tr>\n",
       "    <tr>\n",
       "      <th>4107</th>\n",
       "      <td>16-41080</td>\n",
       "      <td>0.159360</td>\n",
       "      <td>3.133683</td>\n",
       "      <td>47.506667</td>\n",
       "      <td>0.103007</td>\n",
       "      <td>0.053081</td>\n",
       "      <td>0.003272</td>\n",
       "      <td>0.063929</td>\n",
       "      <td>15.402410</td>\n",
       "      <td>45.373778</td>\n",
       "      <td>16</td>\n",
       "      <td>41080</td>\n",
       "    </tr>\n",
       "    <tr>\n",
       "      <th>4489</th>\n",
       "      <td>17-44900</td>\n",
       "      <td>0.023849</td>\n",
       "      <td>4.554960</td>\n",
       "      <td>53.793261</td>\n",
       "      <td>0.017225</td>\n",
       "      <td>0.005775</td>\n",
       "      <td>0.000849</td>\n",
       "      <td>0.004996</td>\n",
       "      <td>17.831019</td>\n",
       "      <td>80.620578</td>\n",
       "      <td>17</td>\n",
       "      <td>44900</td>\n",
       "    </tr>\n",
       "  </tbody>\n",
       "</table>\n",
       "</div>"
      ],
      "text/plain": [
       "         label     chi_1  chi_spec1  chi_spec3    chi_1a    chi_1b    chi_1c  \\\n",
       "655     2-6560  0.246885  10.027608  49.063214  0.192645  0.053953  0.000288   \n",
       "2819  11-28200  0.036677   6.014820  49.570766  0.019308  0.014379  0.002990   \n",
       "2920  11-29210  0.248065   6.946046  59.081433  0.241302  0.006456  0.000306   \n",
       "3378  13-33790  0.032535   6.317830  50.120442  0.028484  0.002187  0.001864   \n",
       "4015  16-40160  0.032709   5.377288  50.452657  0.027667  0.003498  0.001544   \n",
       "4024  16-40250  0.100561   3.085800  43.490086  0.071879  0.025700  0.002983   \n",
       "4107  16-41080  0.159360   3.133683  47.506667  0.103007  0.053081  0.003272   \n",
       "4489  17-44900  0.023849   4.554960  53.793261  0.017225  0.005775  0.000849   \n",
       "\n",
       "         chi_2  chi_imgvar     chi_spec2  epoch   step  \n",
       "655   0.115025    3.904391  17956.069610      2   6560  \n",
       "2819  0.010212    9.884761   1447.230356     11  28200  \n",
       "2920  0.089805   33.648975     50.338523     11  29210  \n",
       "3378  0.013548    6.696044   1461.858703     13  33790  \n",
       "4015  0.013563   10.932140    240.525028     16  40160  \n",
       "4024  0.051874    7.510610     71.322752     16  40250  \n",
       "4107  0.063929   15.402410     45.373778     16  41080  \n",
       "4489  0.004996   17.831019     80.620578     17  44900  "
      ]
     },
     "execution_count": 99,
     "metadata": {},
     "output_type": "execute_result"
    }
   ],
   "source": [
    "df_best[col_list]"
   ]
  },
  {
   "cell_type": "code",
   "execution_count": 100,
   "metadata": {},
   "outputs": [],
   "source": [
    "dims = [2,3,4,7]\n",
    "np_x = np.random.uniform(size=dims).astype(np.float32)"
   ]
  },
  {
   "cell_type": "code",
   "execution_count": null,
   "metadata": {},
   "outputs": [],
   "source": []
  },
  {
   "cell_type": "code",
   "execution_count": 31,
   "metadata": {},
   "outputs": [
    {
     "data": {
      "text/plain": [
       "87.890625"
      ]
     },
     "execution_count": 31,
     "metadata": {},
     "output_type": "execute_result"
    }
   ],
   "source": [
    "90000/(32*32)"
   ]
  },
  {
   "cell_type": "code",
   "execution_count": 30,
   "metadata": {},
   "outputs": [
    {
     "data": {
      "text/plain": [
       "(101251, 1, 64, 64, 64)"
      ]
     },
     "execution_count": 30,
     "metadata": {},
     "output_type": "execute_result"
    }
   ],
   "source": [
    "fname='/global/cfs/cdirs/m3363/vayyar/cosmogan_data/raw_data/3d_data/dataset1_smoothing_const_params_64cube_100k/norm_1_train_val.npy'\n",
    "np.load(fname,mmap_mode='r').shape\n"
   ]
  },
  {
   "cell_type": "code",
   "execution_count": 32,
   "metadata": {},
   "outputs": [
    {
     "name": "stdout",
     "output_type": "stream",
     "text": [
      "99G\t/global/cfs/cdirs/m3363/vayyar/cosmogan_data/raw_data/3d_data/dataset1_smoothing_const_params_64cube_100k/norm_1_train_val.npy\n"
     ]
    }
   ],
   "source": [
    "! du -hs /global/cfs/cdirs/m3363/vayyar/cosmogan_data/raw_data/3d_data/dataset1_smoothing_const_params_64cube_100k/norm_1_train_val.npy\n",
    "\n"
   ]
  },
  {
   "cell_type": "code",
   "execution_count": null,
   "metadata": {},
   "outputs": [],
   "source": []
  }
 ],
 "metadata": {
  "kernelspec": {
   "display_name": "v3",
   "language": "python",
   "name": "v-jpt-3"
  },
  "language_info": {
   "codemirror_mode": {
    "name": "ipython",
    "version": 3
   },
   "file_extension": ".py",
   "mimetype": "text/x-python",
   "name": "python",
   "nbconvert_exporter": "python",
   "pygments_lexer": "ipython3",
   "version": "3.8.6"
  }
 },
 "nbformat": 4,
 "nbformat_minor": 4
}

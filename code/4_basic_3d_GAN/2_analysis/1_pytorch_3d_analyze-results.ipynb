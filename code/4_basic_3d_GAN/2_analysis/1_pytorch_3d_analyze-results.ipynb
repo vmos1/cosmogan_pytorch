{
 "cells": [
  {
   "cell_type": "markdown",
   "metadata": {},
   "source": [
    "# Analyze results for 3D images\n",
    "Jan 21, 2021"
   ]
  },
  {
   "cell_type": "code",
   "execution_count": 1,
   "metadata": {},
   "outputs": [],
   "source": [
    "import     numpy as np\n",
    "import matplotlib.pyplot as plt\n",
    "import pandas as pd\n",
    "\n",
    "import subprocess as sp\n",
    "import sys\n",
    "import os\n",
    "import glob\n",
    "import pickle \n",
    "\n",
    "from matplotlib.colors import LogNorm, PowerNorm, Normalize\n",
    "import seaborn as sns\n",
    "\n",
    "from ipywidgets import *"
   ]
  },
  {
   "cell_type": "code",
   "execution_count": 2,
   "metadata": {},
   "outputs": [],
   "source": [
    "%matplotlib widget"
   ]
  },
  {
   "cell_type": "code",
   "execution_count": 3,
   "metadata": {},
   "outputs": [],
   "source": [
    "sys.path.append('/global/u1/v/vpa/project/jpt_notebooks/Cosmology/Cosmo_GAN/repositories/cosmogan_pytorch/code/modules_image_analysis/')\n",
    "from modules_3d_image_analysis import *\n",
    "\n",
    "# sys.path.append('/global/u1/v/vpa/project/jpt_notebooks/Cosmology/Cosmo_GAN/repositories/cosmogan_pytorch/code/1_basic_GAN/1_main_code/')\n",
    "# import post_analysis_pandas as post"
   ]
  },
  {
   "cell_type": "code",
   "execution_count": 4,
   "metadata": {},
   "outputs": [],
   "source": [
    "### Transformation functions for image pixel values\n",
    "def f_transform(x):\n",
    "    return 2.*x/(x + 4.) - 1.\n",
    "\n",
    "def f_invtransform(s):\n",
    "    return 4.*(1. + s)/(1. - s)\n"
   ]
  },
  {
   "cell_type": "markdown",
   "metadata": {},
   "source": [
    "## Read data"
   ]
  },
  {
   "cell_type": "code",
   "execution_count": 5,
   "metadata": {},
   "outputs": [],
   "source": [
    "img_size=64\n",
    "dict1={'64':'/global/cfs/cdirs/m3363/vayyar/cosmogan_data/results_from_other_code/pytorch/results/3d/',\n",
    "      '512':'/global/cfs/cdirs/m3363/vayyar/cosmogan_data/results_from_other_code/pytorch/results/512sq/'}\n"
   ]
  },
  {
   "cell_type": "markdown",
   "metadata": {},
   "source": [
    "### Read validation data and compute metrics"
   ]
  },
  {
   "cell_type": "code",
   "execution_count": 6,
   "metadata": {},
   "outputs": [],
   "source": [
    "# Get location for validation data\n",
    "raw_data_dir='/global/cfs/cdirs/m3363/vayyar/cosmogan_data/raw_data/'\n",
    "input_files_dict={'64':raw_data_dir+'3d_data/dataset1_smoothing_const_params_64cube_100k/val.npy'}"
   ]
  },
  {
   "cell_type": "code",
   "execution_count": 7,
   "metadata": {},
   "outputs": [
    {
     "name": "stdout",
     "output_type": "stream",
     "text": [
      "(1000, 64, 64, 64)\n"
     ]
    },
    {
     "name": "stderr",
     "output_type": "stream",
     "text": [
      "/global/u1/v/vpa/project/jpt_notebooks/Cosmology/Cosmo_GAN/repositories/cosmogan_pytorch/code/modules_image_analysis/modules_3d_image_analysis.py:62: VisibleDeprecationWarning: Creating an ndarray from ragged nested sequences (which is a list-or-tuple of lists-or-tuples-or ndarrays with different lengths or shapes) is deprecated. If you meant to do this, you must specify 'dtype=object' when creating the ndarray\n",
      "  hist_arr=np.array([np.histogram(arr.flatten(), bins=bins, range=(llim,ulim), density=norm) for arr in img_arr]) ## range is important\n"
     ]
    }
   ],
   "source": [
    "def f_compute_hist_spect(sample,bins):\n",
    "    ''' Compute pixel intensity histograms and radial spectrum for 2D arrays\n",
    "    Input : Image arrays and bins\n",
    "    Output: dictionary with 5 arrays : Histogram values, errors and bin centers, Spectrum values and errors.\n",
    "    '''\n",
    "    ### Compute pixel histogram for row\n",
    "    gen_hist,gen_err,hist_bins=f_batch_histogram(sample,bins=bins,norm=True,hist_range=None)\n",
    "    ### Compute spectrum for row\n",
    "    spec,spec_sdev=f_plot_spectrum_3d(sample,plot=False)\n",
    "\n",
    "    dict1={'hist_val':gen_hist,'hist_err':gen_err,'hist_bin_centers':hist_bins,'spec_val':spec,'spec_sdev':spec_sdev }\n",
    "    return dict1\n",
    "\n",
    "### Extract validation data\n",
    "num_bkgnd=1000\n",
    "fname=input_files_dict[str(img_size)]\n",
    "s_val=np.load(fname,mmap_mode='r')[:num_bkgnd][:,0,:,:]\n",
    "s_val=f_transform(s_val)\n",
    "print(s_val.shape)\n",
    "\n",
    "bins=np.concatenate([np.array([-0.5]),np.arange(0.5,20.5,1),np.arange(20.5,100.5,5),np.arange(100.5,1000.5,50),np.array([2000])]) #bin edges to use\n",
    "bins=f_transform(bins)   ### scale to (-1,1) \n",
    "### Compute histogram and spectrum of raw data \n",
    "dict_val=f_compute_hist_spect(s_val,bins)\n",
    "\n",
    "# del(s_val)"
   ]
  },
  {
   "cell_type": "markdown",
   "metadata": {},
   "source": [
    "### Read run data"
   ]
  },
  {
   "cell_type": "code",
   "execution_count": 8,
   "metadata": {},
   "outputs": [],
   "source": [
    "# main_dir='/global/cfs/cdirs/m3363/vayyar/cosmogan_data/results_from_other_code/pytorch/results/128sq/'\n",
    "# results_dir=main_dir+'20201002_064327'"
   ]
  },
  {
   "cell_type": "code",
   "execution_count": 9,
   "metadata": {},
   "outputs": [],
   "source": [
    "u=interactive(lambda x: dict1[x], x=Select(options=dict1.keys()))\n",
    "# display(u)"
   ]
  },
  {
   "cell_type": "code",
   "execution_count": 13,
   "metadata": {},
   "outputs": [
    {
     "data": {
      "application/vnd.jupyter.widget-view+json": {
       "model_id": "686b7fff8f674ad4903058ac22044ed2",
       "version_major": 2,
       "version_minor": 0
      },
      "text/plain": [
       "interactive(children=(Dropdown(description='x', options=('20210514_120637_128cube_bs4_lr0.002_nodes16', '20210…"
      ]
     },
     "metadata": {},
     "output_type": "display_data"
    }
   ],
   "source": [
    "# parent_dir=u.result\n",
    "parent_dir=dict1[str(img_size)]\n",
    "\n",
    "dir_lst=[i.split('/')[-1] for i in glob.glob(parent_dir+'202105*')]\n",
    "q=interactive(lambda x: x, x=Dropdown(options=dir_lst))\n",
    "display(q)"
   ]
  },
  {
   "cell_type": "code",
   "execution_count": 14,
   "metadata": {},
   "outputs": [
    {
     "name": "stdout",
     "output_type": "stream",
     "text": [
      "/global/cfs/cdirs/m3363/vayyar/cosmogan_data/results_from_other_code/pytorch/results/3d/20210520_160514_bs8_lr0.0003_nodes8_spec0.1\n"
     ]
    }
   ],
   "source": [
    "result=q.result\n",
    "result_dir=parent_dir+result\n",
    "print(result_dir)"
   ]
  },
  {
   "cell_type": "markdown",
   "metadata": {},
   "source": [
    "## Plot Losses"
   ]
  },
  {
   "cell_type": "code",
   "execution_count": 15,
   "metadata": {},
   "outputs": [],
   "source": [
    "df_metrics=pd.read_pickle(result_dir+'/df_metrics.pkle').astype(np.float64)\n"
   ]
  },
  {
   "cell_type": "code",
   "execution_count": 16,
   "metadata": {},
   "outputs": [
    {
     "data": {
      "text/html": [
       "<div>\n",
       "<style scoped>\n",
       "    .dataframe tbody tr th:only-of-type {\n",
       "        vertical-align: middle;\n",
       "    }\n",
       "\n",
       "    .dataframe tbody tr th {\n",
       "        vertical-align: top;\n",
       "    }\n",
       "\n",
       "    .dataframe thead th {\n",
       "        text-align: right;\n",
       "    }\n",
       "</style>\n",
       "<table border=\"1\" class=\"dataframe\">\n",
       "  <thead>\n",
       "    <tr style=\"text-align: right;\">\n",
       "      <th></th>\n",
       "      <th>step</th>\n",
       "      <th>epoch</th>\n",
       "      <th>Dreal</th>\n",
       "      <th>Dfake</th>\n",
       "      <th>Dfull</th>\n",
       "      <th>G_adv</th>\n",
       "      <th>G_full</th>\n",
       "      <th>spec_loss</th>\n",
       "      <th>hist_loss</th>\n",
       "      <th>spec_chi</th>\n",
       "      <th>hist_chi</th>\n",
       "      <th>gp_loss</th>\n",
       "      <th>fm_loss</th>\n",
       "      <th>D(x)</th>\n",
       "      <th>D_G_z1</th>\n",
       "      <th>D_G_z2</th>\n",
       "      <th>time</th>\n",
       "      <th>lr_d</th>\n",
       "      <th>lr_g</th>\n",
       "    </tr>\n",
       "  </thead>\n",
       "  <tbody>\n",
       "    <tr>\n",
       "      <th>20271</th>\n",
       "      <td>20271.0</td>\n",
       "      <td>129.0</td>\n",
       "      <td>0.428968</td>\n",
       "      <td>0.619423</td>\n",
       "      <td>1.048392</td>\n",
       "      <td>3.371859</td>\n",
       "      <td>13.974380</td>\n",
       "      <td>10.602522</td>\n",
       "      <td>-1.536588</td>\n",
       "      <td>10.593342</td>\n",
       "      <td>-1.474523</td>\n",
       "      <td>NaN</td>\n",
       "      <td>NaN</td>\n",
       "      <td>2.462882</td>\n",
       "      <td>-0.499293</td>\n",
       "      <td>-3.333269</td>\n",
       "      <td>0.208633</td>\n",
       "      <td>0.0003</td>\n",
       "      <td>0.0003</td>\n",
       "    </tr>\n",
       "    <tr>\n",
       "      <th>20272</th>\n",
       "      <td>20272.0</td>\n",
       "      <td>129.0</td>\n",
       "      <td>0.495261</td>\n",
       "      <td>0.316096</td>\n",
       "      <td>0.811357</td>\n",
       "      <td>1.120684</td>\n",
       "      <td>12.245335</td>\n",
       "      <td>11.124651</td>\n",
       "      <td>-1.540152</td>\n",
       "      <td>11.302130</td>\n",
       "      <td>-1.575233</td>\n",
       "      <td>NaN</td>\n",
       "      <td>NaN</td>\n",
       "      <td>1.377573</td>\n",
       "      <td>-2.441894</td>\n",
       "      <td>-0.650785</td>\n",
       "      <td>0.206193</td>\n",
       "      <td>0.0003</td>\n",
       "      <td>0.0003</td>\n",
       "    </tr>\n",
       "    <tr>\n",
       "      <th>20273</th>\n",
       "      <td>20273.0</td>\n",
       "      <td>129.0</td>\n",
       "      <td>0.363567</td>\n",
       "      <td>0.540944</td>\n",
       "      <td>0.904511</td>\n",
       "      <td>3.344988</td>\n",
       "      <td>14.672888</td>\n",
       "      <td>11.327900</td>\n",
       "      <td>-1.333884</td>\n",
       "      <td>11.390173</td>\n",
       "      <td>-2.012740</td>\n",
       "      <td>NaN</td>\n",
       "      <td>NaN</td>\n",
       "      <td>2.490647</td>\n",
       "      <td>-0.563386</td>\n",
       "      <td>-3.305193</td>\n",
       "      <td>0.221536</td>\n",
       "      <td>0.0003</td>\n",
       "      <td>0.0003</td>\n",
       "    </tr>\n",
       "    <tr>\n",
       "      <th>20274</th>\n",
       "      <td>20274.0</td>\n",
       "      <td>129.0</td>\n",
       "      <td>0.453146</td>\n",
       "      <td>0.334961</td>\n",
       "      <td>0.788106</td>\n",
       "      <td>1.168800</td>\n",
       "      <td>11.870712</td>\n",
       "      <td>10.701913</td>\n",
       "      <td>-1.118842</td>\n",
       "      <td>10.331396</td>\n",
       "      <td>-1.054985</td>\n",
       "      <td>NaN</td>\n",
       "      <td>NaN</td>\n",
       "      <td>0.960598</td>\n",
       "      <td>-2.433017</td>\n",
       "      <td>-0.711088</td>\n",
       "      <td>0.207787</td>\n",
       "      <td>0.0003</td>\n",
       "      <td>0.0003</td>\n",
       "    </tr>\n",
       "    <tr>\n",
       "      <th>20275</th>\n",
       "      <td>20275.0</td>\n",
       "      <td>129.0</td>\n",
       "      <td>0.373776</td>\n",
       "      <td>0.813609</td>\n",
       "      <td>1.187385</td>\n",
       "      <td>2.949316</td>\n",
       "      <td>14.124215</td>\n",
       "      <td>11.174899</td>\n",
       "      <td>-1.203689</td>\n",
       "      <td>10.792004</td>\n",
       "      <td>-1.223460</td>\n",
       "      <td>NaN</td>\n",
       "      <td>NaN</td>\n",
       "      <td>2.737110</td>\n",
       "      <td>-0.114001</td>\n",
       "      <td>-2.891088</td>\n",
       "      <td>0.205564</td>\n",
       "      <td>0.0003</td>\n",
       "      <td>0.0003</td>\n",
       "    </tr>\n",
       "    <tr>\n",
       "      <th>20276</th>\n",
       "      <td>20276.0</td>\n",
       "      <td>129.0</td>\n",
       "      <td>0.496138</td>\n",
       "      <td>0.410957</td>\n",
       "      <td>0.907095</td>\n",
       "      <td>1.180687</td>\n",
       "      <td>11.778049</td>\n",
       "      <td>10.597363</td>\n",
       "      <td>-1.470014</td>\n",
       "      <td>10.621691</td>\n",
       "      <td>-0.987059</td>\n",
       "      <td>NaN</td>\n",
       "      <td>NaN</td>\n",
       "      <td>0.699479</td>\n",
       "      <td>-2.246506</td>\n",
       "      <td>-0.783776</td>\n",
       "      <td>0.208628</td>\n",
       "      <td>0.0003</td>\n",
       "      <td>0.0003</td>\n",
       "    </tr>\n",
       "    <tr>\n",
       "      <th>20277</th>\n",
       "      <td>20277.0</td>\n",
       "      <td>129.0</td>\n",
       "      <td>0.394582</td>\n",
       "      <td>0.401143</td>\n",
       "      <td>0.795725</td>\n",
       "      <td>3.713576</td>\n",
       "      <td>14.679605</td>\n",
       "      <td>10.966029</td>\n",
       "      <td>-1.171120</td>\n",
       "      <td>10.951794</td>\n",
       "      <td>-1.520035</td>\n",
       "      <td>NaN</td>\n",
       "      <td>NaN</td>\n",
       "      <td>2.401865</td>\n",
       "      <td>-0.937757</td>\n",
       "      <td>-3.682337</td>\n",
       "      <td>0.211184</td>\n",
       "      <td>0.0003</td>\n",
       "      <td>0.0003</td>\n",
       "    </tr>\n",
       "    <tr>\n",
       "      <th>20278</th>\n",
       "      <td>20278.0</td>\n",
       "      <td>129.0</td>\n",
       "      <td>0.478134</td>\n",
       "      <td>0.376891</td>\n",
       "      <td>0.855024</td>\n",
       "      <td>1.151755</td>\n",
       "      <td>11.924525</td>\n",
       "      <td>10.772770</td>\n",
       "      <td>-1.378241</td>\n",
       "      <td>10.891121</td>\n",
       "      <td>-1.528887</td>\n",
       "      <td>NaN</td>\n",
       "      <td>NaN</td>\n",
       "      <td>0.834123</td>\n",
       "      <td>-2.383873</td>\n",
       "      <td>-0.691001</td>\n",
       "      <td>0.206419</td>\n",
       "      <td>0.0003</td>\n",
       "      <td>0.0003</td>\n",
       "    </tr>\n",
       "    <tr>\n",
       "      <th>20279</th>\n",
       "      <td>20279.0</td>\n",
       "      <td>129.0</td>\n",
       "      <td>0.400159</td>\n",
       "      <td>0.530656</td>\n",
       "      <td>0.930814</td>\n",
       "      <td>3.580388</td>\n",
       "      <td>14.229033</td>\n",
       "      <td>10.648644</td>\n",
       "      <td>-1.813033</td>\n",
       "      <td>10.894617</td>\n",
       "      <td>-0.966315</td>\n",
       "      <td>NaN</td>\n",
       "      <td>NaN</td>\n",
       "      <td>2.239819</td>\n",
       "      <td>-0.348480</td>\n",
       "      <td>-3.549086</td>\n",
       "      <td>0.209790</td>\n",
       "      <td>0.0003</td>\n",
       "      <td>0.0003</td>\n",
       "    </tr>\n",
       "    <tr>\n",
       "      <th>20280</th>\n",
       "      <td>NaN</td>\n",
       "      <td>NaN</td>\n",
       "      <td>NaN</td>\n",
       "      <td>NaN</td>\n",
       "      <td>NaN</td>\n",
       "      <td>NaN</td>\n",
       "      <td>NaN</td>\n",
       "      <td>NaN</td>\n",
       "      <td>NaN</td>\n",
       "      <td>10.699663</td>\n",
       "      <td>-1.846734</td>\n",
       "      <td>NaN</td>\n",
       "      <td>NaN</td>\n",
       "      <td>NaN</td>\n",
       "      <td>NaN</td>\n",
       "      <td>NaN</td>\n",
       "      <td>NaN</td>\n",
       "      <td>NaN</td>\n",
       "      <td>NaN</td>\n",
       "    </tr>\n",
       "  </tbody>\n",
       "</table>\n",
       "</div>"
      ],
      "text/plain": [
       "          step  epoch     Dreal     Dfake     Dfull     G_adv     G_full  \\\n",
       "20271  20271.0  129.0  0.428968  0.619423  1.048392  3.371859  13.974380   \n",
       "20272  20272.0  129.0  0.495261  0.316096  0.811357  1.120684  12.245335   \n",
       "20273  20273.0  129.0  0.363567  0.540944  0.904511  3.344988  14.672888   \n",
       "20274  20274.0  129.0  0.453146  0.334961  0.788106  1.168800  11.870712   \n",
       "20275  20275.0  129.0  0.373776  0.813609  1.187385  2.949316  14.124215   \n",
       "20276  20276.0  129.0  0.496138  0.410957  0.907095  1.180687  11.778049   \n",
       "20277  20277.0  129.0  0.394582  0.401143  0.795725  3.713576  14.679605   \n",
       "20278  20278.0  129.0  0.478134  0.376891  0.855024  1.151755  11.924525   \n",
       "20279  20279.0  129.0  0.400159  0.530656  0.930814  3.580388  14.229033   \n",
       "20280      NaN    NaN       NaN       NaN       NaN       NaN        NaN   \n",
       "\n",
       "       spec_loss  hist_loss   spec_chi  hist_chi  gp_loss  fm_loss      D(x)  \\\n",
       "20271  10.602522  -1.536588  10.593342 -1.474523      NaN      NaN  2.462882   \n",
       "20272  11.124651  -1.540152  11.302130 -1.575233      NaN      NaN  1.377573   \n",
       "20273  11.327900  -1.333884  11.390173 -2.012740      NaN      NaN  2.490647   \n",
       "20274  10.701913  -1.118842  10.331396 -1.054985      NaN      NaN  0.960598   \n",
       "20275  11.174899  -1.203689  10.792004 -1.223460      NaN      NaN  2.737110   \n",
       "20276  10.597363  -1.470014  10.621691 -0.987059      NaN      NaN  0.699479   \n",
       "20277  10.966029  -1.171120  10.951794 -1.520035      NaN      NaN  2.401865   \n",
       "20278  10.772770  -1.378241  10.891121 -1.528887      NaN      NaN  0.834123   \n",
       "20279  10.648644  -1.813033  10.894617 -0.966315      NaN      NaN  2.239819   \n",
       "20280        NaN        NaN  10.699663 -1.846734      NaN      NaN       NaN   \n",
       "\n",
       "         D_G_z1    D_G_z2      time    lr_d    lr_g  \n",
       "20271 -0.499293 -3.333269  0.208633  0.0003  0.0003  \n",
       "20272 -2.441894 -0.650785  0.206193  0.0003  0.0003  \n",
       "20273 -0.563386 -3.305193  0.221536  0.0003  0.0003  \n",
       "20274 -2.433017 -0.711088  0.207787  0.0003  0.0003  \n",
       "20275 -0.114001 -2.891088  0.205564  0.0003  0.0003  \n",
       "20276 -2.246506 -0.783776  0.208628  0.0003  0.0003  \n",
       "20277 -0.937757 -3.682337  0.211184  0.0003  0.0003  \n",
       "20278 -2.383873 -0.691001  0.206419  0.0003  0.0003  \n",
       "20279 -0.348480 -3.549086  0.209790  0.0003  0.0003  \n",
       "20280       NaN       NaN       NaN     NaN     NaN  "
      ]
     },
     "execution_count": 16,
     "metadata": {},
     "output_type": "execute_result"
    }
   ],
   "source": [
    "df_metrics.tail(10)"
   ]
  },
  {
   "cell_type": "code",
   "execution_count": 17,
   "metadata": {},
   "outputs": [
    {
     "data": {
      "application/vnd.jupyter.widget-view+json": {
       "model_id": "24986be995c346ca98f992a84c7af022",
       "version_major": 2,
       "version_minor": 0
      },
      "text/plain": [
       "interactive(children=(SelectMultiple(description='col_list', options=('step', 'epoch', 'Dreal', 'Dfake', 'Dful…"
      ]
     },
     "metadata": {},
     "output_type": "display_data"
    },
    {
     "data": {
      "text/plain": [
       "<function __main__.f_plot_metrics(df, col_list)>"
      ]
     },
     "execution_count": 17,
     "metadata": {},
     "output_type": "execute_result"
    }
   ],
   "source": [
    "def f_plot_metrics(df,col_list):\n",
    "    \n",
    "    plt.figure()\n",
    "    for key in col_list:\n",
    "        plt.plot(df_metrics[key],label=key,marker='*',linestyle='')\n",
    "    plt.legend()\n",
    "    \n",
    "#     col_list=list(col_list)\n",
    "#     df.plot(kind='line',x='step',y=col_list)\n",
    "    \n",
    "# f_plot_metrics(df_metrics,['spec_chi','hist_chi'])\n",
    "\n",
    "interact_manual(f_plot_metrics,df=fixed(df_metrics), col_list=SelectMultiple(options=df_metrics.columns.values))"
   ]
  },
  {
   "cell_type": "code",
   "execution_count": 19,
   "metadata": {},
   "outputs": [
    {
     "name": "stdout",
     "output_type": "stream",
     "text": [
      "-1.9113263028860092\n"
     ]
    },
    {
     "data": {
      "text/html": [
       "<div>\n",
       "<style scoped>\n",
       "    .dataframe tbody tr th:only-of-type {\n",
       "        vertical-align: middle;\n",
       "    }\n",
       "\n",
       "    .dataframe tbody tr th {\n",
       "        vertical-align: top;\n",
       "    }\n",
       "\n",
       "    .dataframe thead th {\n",
       "        text-align: right;\n",
       "    }\n",
       "</style>\n",
       "<table border=\"1\" class=\"dataframe\">\n",
       "  <thead>\n",
       "    <tr style=\"text-align: right;\">\n",
       "      <th></th>\n",
       "      <th>step</th>\n",
       "      <th>epoch</th>\n",
       "      <th>Dreal</th>\n",
       "      <th>Dfake</th>\n",
       "      <th>Dfull</th>\n",
       "      <th>G_adv</th>\n",
       "      <th>G_full</th>\n",
       "      <th>spec_loss</th>\n",
       "      <th>hist_loss</th>\n",
       "      <th>spec_chi</th>\n",
       "      <th>hist_chi</th>\n",
       "      <th>gp_loss</th>\n",
       "      <th>fm_loss</th>\n",
       "      <th>D(x)</th>\n",
       "      <th>D_G_z1</th>\n",
       "      <th>D_G_z2</th>\n",
       "      <th>time</th>\n",
       "      <th>lr_d</th>\n",
       "      <th>lr_g</th>\n",
       "    </tr>\n",
       "  </thead>\n",
       "  <tbody>\n",
       "    <tr>\n",
       "      <th>271</th>\n",
       "      <td>271.0</td>\n",
       "      <td>1.0</td>\n",
       "      <td>0.387601</td>\n",
       "      <td>0.352876</td>\n",
       "      <td>0.740477</td>\n",
       "      <td>1.336675</td>\n",
       "      <td>12.173975</td>\n",
       "      <td>10.837299</td>\n",
       "      <td>-2.491022</td>\n",
       "      <td>11.020370</td>\n",
       "      <td>-2.929108</td>\n",
       "      <td>NaN</td>\n",
       "      <td>NaN</td>\n",
       "      <td>1.592813</td>\n",
       "      <td>-2.668342</td>\n",
       "      <td>-1.004593</td>\n",
       "      <td>0.208002</td>\n",
       "      <td>0.0003</td>\n",
       "      <td>0.0003</td>\n",
       "    </tr>\n",
       "    <tr>\n",
       "      <th>269</th>\n",
       "      <td>269.0</td>\n",
       "      <td>1.0</td>\n",
       "      <td>0.364427</td>\n",
       "      <td>0.488687</td>\n",
       "      <td>0.853113</td>\n",
       "      <td>1.385050</td>\n",
       "      <td>13.059587</td>\n",
       "      <td>11.674537</td>\n",
       "      <td>-2.533821</td>\n",
       "      <td>11.365255</td>\n",
       "      <td>-2.765854</td>\n",
       "      <td>NaN</td>\n",
       "      <td>NaN</td>\n",
       "      <td>2.253974</td>\n",
       "      <td>-3.474521</td>\n",
       "      <td>-1.089299</td>\n",
       "      <td>0.209395</td>\n",
       "      <td>0.0003</td>\n",
       "      <td>0.0003</td>\n",
       "    </tr>\n",
       "    <tr>\n",
       "      <th>274</th>\n",
       "      <td>274.0</td>\n",
       "      <td>1.0</td>\n",
       "      <td>0.499277</td>\n",
       "      <td>0.606604</td>\n",
       "      <td>1.105881</td>\n",
       "      <td>4.213061</td>\n",
       "      <td>16.193663</td>\n",
       "      <td>11.980601</td>\n",
       "      <td>-2.289834</td>\n",
       "      <td>12.587029</td>\n",
       "      <td>-2.552146</td>\n",
       "      <td>NaN</td>\n",
       "      <td>NaN</td>\n",
       "      <td>3.234594</td>\n",
       "      <td>-0.270072</td>\n",
       "      <td>-4.197946</td>\n",
       "      <td>0.209071</td>\n",
       "      <td>0.0003</td>\n",
       "      <td>0.0003</td>\n",
       "    </tr>\n",
       "    <tr>\n",
       "      <th>266</th>\n",
       "      <td>266.0</td>\n",
       "      <td>1.0</td>\n",
       "      <td>0.608839</td>\n",
       "      <td>0.625593</td>\n",
       "      <td>1.234432</td>\n",
       "      <td>4.950359</td>\n",
       "      <td>16.390629</td>\n",
       "      <td>11.440269</td>\n",
       "      <td>-2.570421</td>\n",
       "      <td>11.062960</td>\n",
       "      <td>-2.500271</td>\n",
       "      <td>NaN</td>\n",
       "      <td>NaN</td>\n",
       "      <td>3.258773</td>\n",
       "      <td>-0.189043</td>\n",
       "      <td>-4.943007</td>\n",
       "      <td>0.209395</td>\n",
       "      <td>0.0003</td>\n",
       "      <td>0.0003</td>\n",
       "    </tr>\n",
       "    <tr>\n",
       "      <th>272</th>\n",
       "      <td>272.0</td>\n",
       "      <td>1.0</td>\n",
       "      <td>0.489977</td>\n",
       "      <td>0.623133</td>\n",
       "      <td>1.113110</td>\n",
       "      <td>3.282914</td>\n",
       "      <td>14.395551</td>\n",
       "      <td>11.112637</td>\n",
       "      <td>-2.463273</td>\n",
       "      <td>11.143387</td>\n",
       "      <td>-2.470031</td>\n",
       "      <td>NaN</td>\n",
       "      <td>NaN</td>\n",
       "      <td>3.087348</td>\n",
       "      <td>-0.160827</td>\n",
       "      <td>-3.233571</td>\n",
       "      <td>0.207109</td>\n",
       "      <td>0.0003</td>\n",
       "      <td>0.0003</td>\n",
       "    </tr>\n",
       "    <tr>\n",
       "      <th>197</th>\n",
       "      <td>197.0</td>\n",
       "      <td>1.0</td>\n",
       "      <td>0.587374</td>\n",
       "      <td>0.872213</td>\n",
       "      <td>1.459587</td>\n",
       "      <td>5.268948</td>\n",
       "      <td>16.473190</td>\n",
       "      <td>11.204243</td>\n",
       "      <td>-2.056571</td>\n",
       "      <td>11.261269</td>\n",
       "      <td>-2.401237</td>\n",
       "      <td>NaN</td>\n",
       "      <td>NaN</td>\n",
       "      <td>3.848173</td>\n",
       "      <td>0.443298</td>\n",
       "      <td>-5.263782</td>\n",
       "      <td>0.237236</td>\n",
       "      <td>0.0003</td>\n",
       "      <td>0.0003</td>\n",
       "    </tr>\n",
       "    <tr>\n",
       "      <th>273</th>\n",
       "      <td>273.0</td>\n",
       "      <td>1.0</td>\n",
       "      <td>0.372385</td>\n",
       "      <td>0.389949</td>\n",
       "      <td>0.762334</td>\n",
       "      <td>0.992643</td>\n",
       "      <td>11.849177</td>\n",
       "      <td>10.856534</td>\n",
       "      <td>-2.243220</td>\n",
       "      <td>11.116541</td>\n",
       "      <td>-2.320076</td>\n",
       "      <td>NaN</td>\n",
       "      <td>NaN</td>\n",
       "      <td>1.634055</td>\n",
       "      <td>-2.039962</td>\n",
       "      <td>-0.528018</td>\n",
       "      <td>0.208776</td>\n",
       "      <td>0.0003</td>\n",
       "      <td>0.0003</td>\n",
       "    </tr>\n",
       "    <tr>\n",
       "      <th>18297</th>\n",
       "      <td>18297.0</td>\n",
       "      <td>117.0</td>\n",
       "      <td>0.323642</td>\n",
       "      <td>0.344675</td>\n",
       "      <td>0.668317</td>\n",
       "      <td>4.393013</td>\n",
       "      <td>14.833994</td>\n",
       "      <td>10.440981</td>\n",
       "      <td>-2.045204</td>\n",
       "      <td>10.587193</td>\n",
       "      <td>-2.313997</td>\n",
       "      <td>NaN</td>\n",
       "      <td>NaN</td>\n",
       "      <td>2.171846</td>\n",
       "      <td>-1.846855</td>\n",
       "      <td>-4.280635</td>\n",
       "      <td>0.211550</td>\n",
       "      <td>0.0003</td>\n",
       "      <td>0.0003</td>\n",
       "    </tr>\n",
       "    <tr>\n",
       "      <th>265</th>\n",
       "      <td>265.0</td>\n",
       "      <td>1.0</td>\n",
       "      <td>0.503984</td>\n",
       "      <td>0.388284</td>\n",
       "      <td>0.892268</td>\n",
       "      <td>1.109241</td>\n",
       "      <td>11.912251</td>\n",
       "      <td>10.803010</td>\n",
       "      <td>-2.170639</td>\n",
       "      <td>11.052377</td>\n",
       "      <td>-2.302068</td>\n",
       "      <td>NaN</td>\n",
       "      <td>NaN</td>\n",
       "      <td>1.624729</td>\n",
       "      <td>-2.138512</td>\n",
       "      <td>-0.702841</td>\n",
       "      <td>0.208093</td>\n",
       "      <td>0.0003</td>\n",
       "      <td>0.0003</td>\n",
       "    </tr>\n",
       "    <tr>\n",
       "      <th>198</th>\n",
       "      <td>198.0</td>\n",
       "      <td>1.0</td>\n",
       "      <td>0.338990</td>\n",
       "      <td>0.497866</td>\n",
       "      <td>0.836855</td>\n",
       "      <td>1.274011</td>\n",
       "      <td>12.460126</td>\n",
       "      <td>11.186115</td>\n",
       "      <td>-2.391535</td>\n",
       "      <td>11.250569</td>\n",
       "      <td>-2.297518</td>\n",
       "      <td>NaN</td>\n",
       "      <td>NaN</td>\n",
       "      <td>2.083364</td>\n",
       "      <td>-3.771890</td>\n",
       "      <td>-0.945675</td>\n",
       "      <td>0.208253</td>\n",
       "      <td>0.0003</td>\n",
       "      <td>0.0003</td>\n",
       "    </tr>\n",
       "  </tbody>\n",
       "</table>\n",
       "</div>"
      ],
      "text/plain": [
       "          step  epoch     Dreal     Dfake     Dfull     G_adv     G_full  \\\n",
       "271      271.0    1.0  0.387601  0.352876  0.740477  1.336675  12.173975   \n",
       "269      269.0    1.0  0.364427  0.488687  0.853113  1.385050  13.059587   \n",
       "274      274.0    1.0  0.499277  0.606604  1.105881  4.213061  16.193663   \n",
       "266      266.0    1.0  0.608839  0.625593  1.234432  4.950359  16.390629   \n",
       "272      272.0    1.0  0.489977  0.623133  1.113110  3.282914  14.395551   \n",
       "197      197.0    1.0  0.587374  0.872213  1.459587  5.268948  16.473190   \n",
       "273      273.0    1.0  0.372385  0.389949  0.762334  0.992643  11.849177   \n",
       "18297  18297.0  117.0  0.323642  0.344675  0.668317  4.393013  14.833994   \n",
       "265      265.0    1.0  0.503984  0.388284  0.892268  1.109241  11.912251   \n",
       "198      198.0    1.0  0.338990  0.497866  0.836855  1.274011  12.460126   \n",
       "\n",
       "       spec_loss  hist_loss   spec_chi  hist_chi  gp_loss  fm_loss      D(x)  \\\n",
       "271    10.837299  -2.491022  11.020370 -2.929108      NaN      NaN  1.592813   \n",
       "269    11.674537  -2.533821  11.365255 -2.765854      NaN      NaN  2.253974   \n",
       "274    11.980601  -2.289834  12.587029 -2.552146      NaN      NaN  3.234594   \n",
       "266    11.440269  -2.570421  11.062960 -2.500271      NaN      NaN  3.258773   \n",
       "272    11.112637  -2.463273  11.143387 -2.470031      NaN      NaN  3.087348   \n",
       "197    11.204243  -2.056571  11.261269 -2.401237      NaN      NaN  3.848173   \n",
       "273    10.856534  -2.243220  11.116541 -2.320076      NaN      NaN  1.634055   \n",
       "18297  10.440981  -2.045204  10.587193 -2.313997      NaN      NaN  2.171846   \n",
       "265    10.803010  -2.170639  11.052377 -2.302068      NaN      NaN  1.624729   \n",
       "198    11.186115  -2.391535  11.250569 -2.297518      NaN      NaN  2.083364   \n",
       "\n",
       "         D_G_z1    D_G_z2      time    lr_d    lr_g  \n",
       "271   -2.668342 -1.004593  0.208002  0.0003  0.0003  \n",
       "269   -3.474521 -1.089299  0.209395  0.0003  0.0003  \n",
       "274   -0.270072 -4.197946  0.209071  0.0003  0.0003  \n",
       "266   -0.189043 -4.943007  0.209395  0.0003  0.0003  \n",
       "272   -0.160827 -3.233571  0.207109  0.0003  0.0003  \n",
       "197    0.443298 -5.263782  0.237236  0.0003  0.0003  \n",
       "273   -2.039962 -0.528018  0.208776  0.0003  0.0003  \n",
       "18297 -1.846855 -4.280635  0.211550  0.0003  0.0003  \n",
       "265   -2.138512 -0.702841  0.208093  0.0003  0.0003  \n",
       "198   -3.771890 -0.945675  0.208253  0.0003  0.0003  "
      ]
     },
     "execution_count": 19,
     "metadata": {},
     "output_type": "execute_result"
    }
   ],
   "source": [
    "\n",
    "chi=df_metrics.quantile(q=0.005,axis=0)['hist_chi']\n",
    "print(chi)\n",
    "df_metrics[df_metrics['hist_chi']<=chi].sort_values(by=['hist_chi']).head(10)"
   ]
  },
  {
   "cell_type": "code",
   "execution_count": 20,
   "metadata": {},
   "outputs": [],
   "source": [
    "# display(df_metrics.sort_values(by=['hist_chi']).head(8))\n",
    "# display(df_metrics.sort_values(by=['spec_chi']).head(8))"
   ]
  },
  {
   "cell_type": "markdown",
   "metadata": {},
   "source": [
    "## Read stored chi-squares for images"
   ]
  },
  {
   "cell_type": "code",
   "execution_count": 21,
   "metadata": {},
   "outputs": [],
   "source": [
    "df=pd.read_pickle(result_dir+'/df_processed.pkle')\n",
    "df[['epoch','step']]=df[['epoch','step']].astype(int)\n",
    "df['label']=df.epoch.astype(str)+'-'+df.step.astype(str) # Add label column for plotting\n",
    "\n",
    "col_list=['label','chi_1','chi_spec1', 'chi_spec3', 'chi_1a', 'chi_1b', 'chi_1c', 'chi_2','chi_imgvar', 'chi_spec2','epoch','step']\n"
   ]
  },
  {
   "cell_type": "code",
   "execution_count": 22,
   "metadata": {},
   "outputs": [],
   "source": [
    "def f_slice_df(df,cutoff=0.2,sort_col='chi_1',col_mode='all',head=10,epoch_range=[0,None],display_flag=False):\n",
    "    ''' View dataframe after slicing\n",
    "    '''\n",
    "    col_list=['label','chi_1','chi_spec1', 'chi_spec3', 'chi_1a', 'chi_1b', 'chi_1c', 'chi_2','chi_imgvar', 'chi_spec2','epoch','step']\n",
    "    if (col_mode=='short'): col_list=['label','chi_1','chi_spec1']\n",
    "        \n",
    "    print(epoch_range)\n",
    "    if epoch_range[1]==None: epoch_range[1]=df.max()['epoch']\n",
    "    df=df[(df.epoch<=epoch_range[1])&(df.epoch>=epoch_range[0])]\n",
    "\n",
    "    ## Apply cutoff to keep reasonable chi1 and chispec1\n",
    "    best_keys=[ 'chi_1', 'chi_spec1']\n",
    "    q_dict=dict(df.quantile(q=cutoff,axis=0)[best_keys])   \n",
    "    print(q_dict)\n",
    "    df=df.query('chi_1 < {0} & chi_spec1 < {1}'.format(q_dict['chi_1'],q_dict['chi_spec1']))\n",
    "    \n",
    "    # Sort dataframe\n",
    "    df1=df[df.epoch>0].sort_values(by=sort_col)\n",
    "        \n",
    "    df2=df1.head(head)[col_list]\n",
    "\n",
    "    if display_flag:   # Display df\n",
    "        display_cols=['label','chi_1','chi_spec1', 'chi_spec3', 'chi_1a', 'chi_1b', 'chi_1c', 'chi_2','chi_imgvar', 'chi_spec2']\n",
    "        display(df2)\n",
    "    \n",
    "    return df2"
   ]
  },
  {
   "cell_type": "code",
   "execution_count": 23,
   "metadata": {},
   "outputs": [
    {
     "data": {
      "application/vnd.jupyter.widget-view+json": {
       "model_id": "dce1ff3509f74de496312ffe50bfca8a",
       "version_major": 2,
       "version_minor": 0
      },
      "text/plain": [
       "interactive(children=(FloatSlider(value=0.2, description='cutoff', max=1.0, step=0.01), Dropdown(description='…"
      ]
     },
     "metadata": {},
     "output_type": "display_data"
    }
   ],
   "source": [
    "w=interactive(f_slice_df,df=fixed(df),\n",
    "cutoff=widgets.FloatSlider(value=0.2, min=0, max=1.0, step=0.01), \n",
    "col_mode=['all','short'], display_flag=widgets.Checkbox(value=False),\n",
    "head=widgets.IntSlider(value=10,min=1,max=20,step=1),\n",
    "epoch_range=widgets.IntRangeSlider(value=[0,np.max(df.epoch.values)],min=0,max=np.max(df.epoch.values),step=1),\n",
    "sort_col=['chi_1','chi_spec1', 'chi_spec3', 'chi_1a', 'chi_1b', 'chi_1c', 'chi_2','chi_imgvar', 'chi_spec2'],\n",
    ")\n",
    "display(w)"
   ]
  },
  {
   "cell_type": "code",
   "execution_count": 24,
   "metadata": {},
   "outputs": [],
   "source": [
    "df_sliced=w.result\n",
    "# df_sliced"
   ]
  },
  {
   "cell_type": "code",
   "execution_count": 41,
   "metadata": {},
   "outputs": [
    {
     "name": "stdout",
     "output_type": "stream",
     "text": [
      "[0, 130]\n",
      "{'chi_1': 1.7867359786356234, 'chi_spec1': 2.7900369934198794}\n",
      "[0, 130]\n",
      "{'chi_1': 1.1870547918490852, 'chi_spec1': 2.0149943869380964}\n",
      "[0, 130]\n",
      "{'chi_1': 0.37570629050397747, 'chi_spec1': 0.8467621560386938}\n",
      "[array([20350, 12680, 15600, 16440]), array([12630, 11360]), array([19160, 19730])]\n",
      "[11360 12630 12680 15600 16440 19160 19730 20350]\n"
     ]
    }
   ],
   "source": [
    "best_step=[]\n",
    "df_test=df.copy()\n",
    "df_test=df[df.epoch>30]\n",
    "best_step.append(f_slice_df(df_test,cutoff=0.9,sort_col='chi_1',head=4,display_flag=False).step.values)\n",
    "best_step.append(f_slice_df(df_test,cutoff=0.8,sort_col='chi_1c',head=2,display_flag=False).step.values)\n",
    "best_step.append(f_slice_df(df_test,cutoff=0.4,sort_col='chi_spec1',head=2,display_flag=False).step.values)\n",
    "print(best_step)\n",
    "best_step=np.unique([i for j in best_step for i in j])\n",
    "print(best_step)"
   ]
  },
  {
   "cell_type": "code",
   "execution_count": 42,
   "metadata": {},
   "outputs": [],
   "source": [
    "# best_step=[58800]\n",
    "# best_step=np.arange(32800,32900,10).astype(int)"
   ]
  },
  {
   "cell_type": "code",
   "execution_count": 43,
   "metadata": {},
   "outputs": [
    {
     "name": "stdout",
     "output_type": "stream",
     "text": [
      "(8, 22)\n",
      "[(72, 11360), (80, 12630), (81, 12680), (99, 15600), (105, 16440), (122, 19160), (126, 19730), (130, 20350)]\n"
     ]
    }
   ],
   "source": [
    "df_best=df[df.step.isin(best_step)]\n",
    "print(df_best.shape)\n",
    "print([(df_best[df_best.step==step].epoch.values[0],df_best[df_best.step==step].step.values[0]) for step in best_step])\n",
    "# print([(df_best.loc[idx].epoch,df_best.loc[idx].step) for idx in best_idx])"
   ]
  },
  {
   "cell_type": "code",
   "execution_count": 44,
   "metadata": {},
   "outputs": [
    {
     "data": {
      "text/html": [
       "<div>\n",
       "<style scoped>\n",
       "    .dataframe tbody tr th:only-of-type {\n",
       "        vertical-align: middle;\n",
       "    }\n",
       "\n",
       "    .dataframe tbody tr th {\n",
       "        vertical-align: top;\n",
       "    }\n",
       "\n",
       "    .dataframe thead th {\n",
       "        text-align: right;\n",
       "    }\n",
       "</style>\n",
       "<table border=\"1\" class=\"dataframe\">\n",
       "  <thead>\n",
       "    <tr style=\"text-align: right;\">\n",
       "      <th></th>\n",
       "      <th>label</th>\n",
       "      <th>chi_1</th>\n",
       "      <th>chi_spec1</th>\n",
       "      <th>chi_spec3</th>\n",
       "      <th>chi_1a</th>\n",
       "      <th>chi_1b</th>\n",
       "      <th>chi_1c</th>\n",
       "      <th>chi_2</th>\n",
       "      <th>chi_imgvar</th>\n",
       "      <th>chi_spec2</th>\n",
       "      <th>epoch</th>\n",
       "      <th>step</th>\n",
       "    </tr>\n",
       "  </thead>\n",
       "  <tbody>\n",
       "    <tr>\n",
       "      <th>1135</th>\n",
       "      <td>72-11360</td>\n",
       "      <td>0.275874</td>\n",
       "      <td>1.621129</td>\n",
       "      <td>50.744595</td>\n",
       "      <td>0.026030</td>\n",
       "      <td>0.249844</td>\n",
       "      <td>0.000000</td>\n",
       "      <td>0.000181</td>\n",
       "      <td>9.742078</td>\n",
       "      <td>129.350986</td>\n",
       "      <td>72</td>\n",
       "      <td>11360</td>\n",
       "    </tr>\n",
       "    <tr>\n",
       "      <th>1262</th>\n",
       "      <td>80-12630</td>\n",
       "      <td>0.550143</td>\n",
       "      <td>1.123945</td>\n",
       "      <td>49.816907</td>\n",
       "      <td>0.032205</td>\n",
       "      <td>0.517939</td>\n",
       "      <td>0.000000</td>\n",
       "      <td>0.000227</td>\n",
       "      <td>11.461390</td>\n",
       "      <td>94.217016</td>\n",
       "      <td>80</td>\n",
       "      <td>12630</td>\n",
       "    </tr>\n",
       "    <tr>\n",
       "      <th>1267</th>\n",
       "      <td>81-12680</td>\n",
       "      <td>0.063231</td>\n",
       "      <td>1.298404</td>\n",
       "      <td>46.165900</td>\n",
       "      <td>0.056665</td>\n",
       "      <td>0.006555</td>\n",
       "      <td>0.000011</td>\n",
       "      <td>0.000420</td>\n",
       "      <td>4.983218</td>\n",
       "      <td>126.130779</td>\n",
       "      <td>81</td>\n",
       "      <td>12680</td>\n",
       "    </tr>\n",
       "    <tr>\n",
       "      <th>1559</th>\n",
       "      <td>99-15600</td>\n",
       "      <td>0.066061</td>\n",
       "      <td>0.539161</td>\n",
       "      <td>46.601562</td>\n",
       "      <td>0.041332</td>\n",
       "      <td>0.024723</td>\n",
       "      <td>0.000006</td>\n",
       "      <td>0.000290</td>\n",
       "      <td>6.920225</td>\n",
       "      <td>62.835260</td>\n",
       "      <td>99</td>\n",
       "      <td>15600</td>\n",
       "    </tr>\n",
       "    <tr>\n",
       "      <th>1643</th>\n",
       "      <td>105-16440</td>\n",
       "      <td>0.074339</td>\n",
       "      <td>1.320500</td>\n",
       "      <td>46.508411</td>\n",
       "      <td>0.069915</td>\n",
       "      <td>0.004403</td>\n",
       "      <td>0.000021</td>\n",
       "      <td>0.000523</td>\n",
       "      <td>6.037074</td>\n",
       "      <td>84.626558</td>\n",
       "      <td>105</td>\n",
       "      <td>16440</td>\n",
       "    </tr>\n",
       "    <tr>\n",
       "      <th>1915</th>\n",
       "      <td>122-19160</td>\n",
       "      <td>0.371290</td>\n",
       "      <td>0.169786</td>\n",
       "      <td>40.521535</td>\n",
       "      <td>0.020852</td>\n",
       "      <td>0.350438</td>\n",
       "      <td>0.000000</td>\n",
       "      <td>0.000123</td>\n",
       "      <td>8.675865</td>\n",
       "      <td>16.756051</td>\n",
       "      <td>122</td>\n",
       "      <td>19160</td>\n",
       "    </tr>\n",
       "    <tr>\n",
       "      <th>1972</th>\n",
       "      <td>126-19730</td>\n",
       "      <td>0.275077</td>\n",
       "      <td>0.174873</td>\n",
       "      <td>48.292263</td>\n",
       "      <td>0.021613</td>\n",
       "      <td>0.253433</td>\n",
       "      <td>0.000031</td>\n",
       "      <td>0.000094</td>\n",
       "      <td>14.083271</td>\n",
       "      <td>14.454367</td>\n",
       "      <td>126</td>\n",
       "      <td>19730</td>\n",
       "    </tr>\n",
       "    <tr>\n",
       "      <th>2034</th>\n",
       "      <td>130-20350</td>\n",
       "      <td>0.050111</td>\n",
       "      <td>0.618193</td>\n",
       "      <td>44.763954</td>\n",
       "      <td>0.030728</td>\n",
       "      <td>0.019379</td>\n",
       "      <td>0.000003</td>\n",
       "      <td>0.000240</td>\n",
       "      <td>7.236370</td>\n",
       "      <td>30.640469</td>\n",
       "      <td>130</td>\n",
       "      <td>20350</td>\n",
       "    </tr>\n",
       "  </tbody>\n",
       "</table>\n",
       "</div>"
      ],
      "text/plain": [
       "          label     chi_1  chi_spec1  chi_spec3    chi_1a    chi_1b    chi_1c  \\\n",
       "1135   72-11360  0.275874   1.621129  50.744595  0.026030  0.249844  0.000000   \n",
       "1262   80-12630  0.550143   1.123945  49.816907  0.032205  0.517939  0.000000   \n",
       "1267   81-12680  0.063231   1.298404  46.165900  0.056665  0.006555  0.000011   \n",
       "1559   99-15600  0.066061   0.539161  46.601562  0.041332  0.024723  0.000006   \n",
       "1643  105-16440  0.074339   1.320500  46.508411  0.069915  0.004403  0.000021   \n",
       "1915  122-19160  0.371290   0.169786  40.521535  0.020852  0.350438  0.000000   \n",
       "1972  126-19730  0.275077   0.174873  48.292263  0.021613  0.253433  0.000031   \n",
       "2034  130-20350  0.050111   0.618193  44.763954  0.030728  0.019379  0.000003   \n",
       "\n",
       "         chi_2  chi_imgvar   chi_spec2  epoch   step  \n",
       "1135  0.000181    9.742078  129.350986     72  11360  \n",
       "1262  0.000227   11.461390   94.217016     80  12630  \n",
       "1267  0.000420    4.983218  126.130779     81  12680  \n",
       "1559  0.000290    6.920225   62.835260     99  15600  \n",
       "1643  0.000523    6.037074   84.626558    105  16440  \n",
       "1915  0.000123    8.675865   16.756051    122  19160  \n",
       "1972  0.000094   14.083271   14.454367    126  19730  \n",
       "2034  0.000240    7.236370   30.640469    130  20350  "
      ]
     },
     "execution_count": 44,
     "metadata": {},
     "output_type": "execute_result"
    }
   ],
   "source": [
    "df_best[col_list]\n"
   ]
  },
  {
   "cell_type": "markdown",
   "metadata": {},
   "source": [
    "### Plots 2: stored data"
   ]
  },
  {
   "cell_type": "code",
   "execution_count": 45,
   "metadata": {
    "jupyter": {
     "source_hidden": true
    },
    "tags": []
   },
   "outputs": [],
   "source": [
    "\n",
    "def f_plot_hist_spec(df,dict_bkg,plot_type,img_size):\n",
    "\n",
    "    \n",
    "    assert plot_type in ['hist','spec','grid','spec_relative','hist_relative'],\"Invalid mode %s\"%(plot_type)\n",
    "\n",
    "    if plot_type in ['hist','spec','spec_relative','hist_relative']:     fig=plt.figure(figsize=(6,6))\n",
    "\n",
    "\n",
    "    for (i,row),marker in zip(df.iterrows(),itertools.cycle('>^*sDHPdpx_')):\n",
    "        label=row.label\n",
    "        if plot_type=='hist':\n",
    "            x1=row.hist_bin_centers\n",
    "            y1=row.hist_val\n",
    "            yerr1=row.hist_err\n",
    "            x1=f_invtransform(x1)\n",
    "            \n",
    "            plt.errorbar(x1,y1,yerr1,marker=marker,markersize=5,linestyle='',label=label)\n",
    "        if plot_type=='spec':\n",
    "            \n",
    "            y2=row.spec_val\n",
    "            yerr2=row.spec_sdev/np.sqrt(row.num_imgs)\n",
    "            x2=np.arange(len(y2))\n",
    "            \n",
    "            plt.fill_between(x2, y2 - yerr2, y2 + yerr2, alpha=0.4)\n",
    "            plt.plot(x2, y2, marker=marker, linestyle=':',label=label)\n",
    "            plt.xlim(0,img_size/2)\n",
    "\n",
    "        if plot_type=='spec_relative':\n",
    "            \n",
    "            y2=row.spec_val\n",
    "            yerr2=row.spec_sdev\n",
    "            x2=np.arange(len(y2))\n",
    "            \n",
    "            ### Reference spectrum\n",
    "            y1,yerr1=dict_bkg['spec_val'],dict_bkg['spec_sdev']\n",
    "            y=y2/(1.0*y1)\n",
    "            ## Variance is sum of variance of both variables, since they are uncorrelated\n",
    "            \n",
    "            # delta_r=sqrt(\\delta_c2 ^ 2/ c1^2 + \\delta_c1^2 * c_2^2 / c_1^4)\n",
    "            yerr=(np.abs(y))*np.sqrt((yerr1/y1)**2+(yerr2/y2)**2)/np.sqrt(row['num_imgs'])\n",
    "\n",
    "            plt.fill_between(x2, y - yerr, y + yerr, alpha=0.4)\n",
    "            plt.plot(x2, y, marker=marker, linestyle=':',label=label)            \n",
    "            \n",
    "            \n",
    "        if plot_type=='hist_relative':\n",
    "\n",
    "            x2=row.hist_bin_centers\n",
    "            y2=row.hist_val\n",
    "            yerr2=row.hist_err\n",
    "            x2=f_invtransform(x2)\n",
    "            \n",
    "#             plt.errorbar(x1,y1,yerr1,marker=marker,markersize=5,linestyle='',label=label)\n",
    "            \n",
    "            ### Reference spectrum\n",
    "            y1,yerr1=dict_bkg['hist_val'],dict_bkg['hist_err']\n",
    "\n",
    "            y=y2/(1.0*y1)\n",
    "            ## Variance is sum of variance of both variables, since they are uncorrelated\n",
    "            \n",
    "            # delta_r=sqrt(\\delta_c2 ^ 2/ c1^2 + \\delta_c1^2 * c_2^2 / c_1^4)\n",
    "            yerr=(np.abs(y))*np.sqrt((yerr1/y1)**2+(yerr2/y2)**2)/np.sqrt(row['num_imgs'])\n",
    "\n",
    "            plt.fill_between(x2, y - yerr, y + yerr, alpha=0.4)\n",
    "            plt.plot(x2, y, marker=marker, linestyle=':',label=label)            \n",
    "            plt.xlim(0,img_size/2)\n",
    "            plt.ylim(0,5)\n",
    "            plt.legend()\n",
    "\n",
    "        if plot_type=='grid':\n",
    "            images=np.load(row.fname)[:,0,:,:,0]\n",
    "            print(images.shape)\n",
    "            f_plot_grid(images[:8],cols=4,fig_size=(8,4))\n",
    "            \n",
    "    ### Plot input data\n",
    "    if plot_type=='hist':\n",
    "        x,y,yerr=dict_bkg['hist_bin_centers'],dict_bkg['hist_val'],dict_bkg['hist_err']\n",
    "        x=f_invtransform(x)\n",
    "        plt.errorbar(x, y,yerr,color='k',linestyle='-',label='bkgnd')   \n",
    "        plt.title('Pixel Intensity Histogram')\n",
    "        plt.xscale('symlog',linthreshx=50)\n",
    "        \n",
    "    if plot_type=='spec':\n",
    "        y,yerr=dict_bkg['spec_val'],dict_bkg['spec_sdev']/np.sqrt(num_bkgnd)\n",
    "        x=np.arange(len(y))\n",
    "        plt.fill_between(x, y - yerr, y + yerr, color='k',alpha=0.8)\n",
    "        plt.xlim(0,img_size/2)\n",
    "        plt.title('Spectrum')\n",
    "        \n",
    "    if plot_type=='spec_relative':\n",
    "        plt.axhline(y=1.0,color='k',linestyle='-.')\n",
    "        plt.xlim(0,img_size/2)\n",
    "        plt.ylim(0.5,2)\n",
    "        plt.legend()\n",
    "        \n",
    "    if plot_type=='hist_relative':\n",
    "        plt.axhline(y=1.0,color='k',linestyle='-.')\n",
    "        \n",
    "    plt.legend(bbox_to_anchor=(0.3, 0.75),ncol=2, fancybox=True, shadow=True,prop={'size':6})\n",
    "    if plot_type in ['hist','spec']:     plt.yscale('log')\n",
    "\n",
    "# f_plot_hist_spec(df_runs,dict_val,'hist')\n",
    "# f_plot_hist_spec(df_runs,dict_val,'spec')\n",
    "# f_plot_hist_spec(df_best,dict_val,'grid')\n"
   ]
  },
  {
   "cell_type": "code",
   "execution_count": 46,
   "metadata": {},
   "outputs": [
    {
     "data": {
      "application/vnd.jupyter.widget-view+json": {
       "model_id": "37f4eec44fbb4655b7199dc74b17bd02",
       "version_major": 2,
       "version_minor": 0
      },
      "text/plain": [
       "interactive(children=(SelectMultiple(description='labels_list', options=('72-11360', '80-12630', '81-12680', '…"
      ]
     },
     "metadata": {},
     "output_type": "display_data"
    },
    {
     "data": {
      "text/plain": [
       "<function __main__.f_widget_compare(df, labels_list, bkgnd, plot_type)>"
      ]
     },
     "execution_count": 46,
     "metadata": {},
     "output_type": "execute_result"
    }
   ],
   "source": [
    "def f_widget_compare(df,labels_list,bkgnd,plot_type):\n",
    "    df_temp=df[df.label.isin(labels_list)]\n",
    "    f_plot_hist_spec(df_temp,dict_val,plot_type,img_size)\n",
    "    \n",
    "interact_manual(f_widget_compare,df=fixed(df_best),\n",
    "                labels_list=SelectMultiple(options=df_best.label.values), \n",
    "                bkgnd=fixed(dict_val),plot_type=ToggleButtons(options=['hist','spec','grid','spec_relative','hist_relative']))"
   ]
  },
  {
   "cell_type": "markdown",
   "metadata": {},
   "source": [
    "## Plot images"
   ]
  },
  {
   "cell_type": "code",
   "execution_count": 94,
   "metadata": {},
   "outputs": [
    {
     "name": "stdout",
     "output_type": "stream",
     "text": [
      "(1000, 64, 64, 64)\n"
     ]
    }
   ],
   "source": [
    "print(s_val.shape)\n"
   ]
  },
  {
   "cell_type": "code",
   "execution_count": 95,
   "metadata": {},
   "outputs": [],
   "source": [
    "fname='/global/cfs/cdirs/m3363/vayyar/cosmogan_data/results_from_other_code/pytorch/results/3d/20210123_050147_3d_l0.5_80k/images/gen_img_epoch-28_step-71620.npy'\n",
    "a1=np.load(fname)"
   ]
  },
  {
   "cell_type": "code",
   "execution_count": 96,
   "metadata": {},
   "outputs": [
    {
     "data": {
      "text/plain": [
       "((1000, 64, 64, 64), (32, 64, 64, 64))"
      ]
     },
     "execution_count": 96,
     "metadata": {},
     "output_type": "execute_result"
    }
   ],
   "source": [
    "s_val.shape,a1.shape"
   ]
  },
  {
   "cell_type": "code",
   "execution_count": 97,
   "metadata": {},
   "outputs": [
    {
     "name": "stdout",
     "output_type": "stream",
     "text": [
      "2 4\n"
     ]
    },
    {
     "data": {
      "application/vnd.jupyter.widget-view+json": {
       "model_id": "fafe09d69c5c465fb5e8133c253dcbe0",
       "version_major": 2,
       "version_minor": 0
      },
      "text/plain": [
       "Canvas(toolbar=Toolbar(toolitems=[('Home', 'Reset original view', 'home', 'home'), ('Back', 'Back to previous …"
      ]
     },
     "metadata": {},
     "output_type": "display_data"
    }
   ],
   "source": [
    "f_plot_grid(a1[6:14,:,:,0],cols=4,fig_size=(4,2))"
   ]
  },
  {
   "cell_type": "code",
   "execution_count": 98,
   "metadata": {},
   "outputs": [
    {
     "name": "stdout",
     "output_type": "stream",
     "text": [
      "2 4\n"
     ]
    },
    {
     "data": {
      "application/vnd.jupyter.widget-view+json": {
       "model_id": "3a23fbbaf784401f82528127fec240fd",
       "version_major": 2,
       "version_minor": 0
      },
      "text/plain": [
       "Canvas(toolbar=Toolbar(toolitems=[('Home', 'Reset original view', 'home', 'home'), ('Back', 'Back to previous …"
      ]
     },
     "metadata": {},
     "output_type": "display_data"
    }
   ],
   "source": [
    "f_plot_grid(s_val[100:108,:,:,0],cols=4,fig_size=(4,2))"
   ]
  },
  {
   "cell_type": "code",
   "execution_count": 99,
   "metadata": {},
   "outputs": [
    {
     "data": {
      "text/html": [
       "<div>\n",
       "<style scoped>\n",
       "    .dataframe tbody tr th:only-of-type {\n",
       "        vertical-align: middle;\n",
       "    }\n",
       "\n",
       "    .dataframe tbody tr th {\n",
       "        vertical-align: top;\n",
       "    }\n",
       "\n",
       "    .dataframe thead th {\n",
       "        text-align: right;\n",
       "    }\n",
       "</style>\n",
       "<table border=\"1\" class=\"dataframe\">\n",
       "  <thead>\n",
       "    <tr style=\"text-align: right;\">\n",
       "      <th></th>\n",
       "      <th>label</th>\n",
       "      <th>chi_1</th>\n",
       "      <th>chi_spec1</th>\n",
       "      <th>chi_spec3</th>\n",
       "      <th>chi_1a</th>\n",
       "      <th>chi_1b</th>\n",
       "      <th>chi_1c</th>\n",
       "      <th>chi_2</th>\n",
       "      <th>chi_imgvar</th>\n",
       "      <th>chi_spec2</th>\n",
       "      <th>epoch</th>\n",
       "      <th>step</th>\n",
       "    </tr>\n",
       "  </thead>\n",
       "  <tbody>\n",
       "    <tr>\n",
       "      <th>655</th>\n",
       "      <td>2-6560</td>\n",
       "      <td>0.246885</td>\n",
       "      <td>10.027608</td>\n",
       "      <td>49.063214</td>\n",
       "      <td>0.192645</td>\n",
       "      <td>0.053953</td>\n",
       "      <td>0.000288</td>\n",
       "      <td>0.115025</td>\n",
       "      <td>3.904391</td>\n",
       "      <td>17956.069610</td>\n",
       "      <td>2</td>\n",
       "      <td>6560</td>\n",
       "    </tr>\n",
       "    <tr>\n",
       "      <th>2819</th>\n",
       "      <td>11-28200</td>\n",
       "      <td>0.036677</td>\n",
       "      <td>6.014820</td>\n",
       "      <td>49.570766</td>\n",
       "      <td>0.019308</td>\n",
       "      <td>0.014379</td>\n",
       "      <td>0.002990</td>\n",
       "      <td>0.010212</td>\n",
       "      <td>9.884761</td>\n",
       "      <td>1447.230356</td>\n",
       "      <td>11</td>\n",
       "      <td>28200</td>\n",
       "    </tr>\n",
       "    <tr>\n",
       "      <th>2920</th>\n",
       "      <td>11-29210</td>\n",
       "      <td>0.248065</td>\n",
       "      <td>6.946046</td>\n",
       "      <td>59.081433</td>\n",
       "      <td>0.241302</td>\n",
       "      <td>0.006456</td>\n",
       "      <td>0.000306</td>\n",
       "      <td>0.089805</td>\n",
       "      <td>33.648975</td>\n",
       "      <td>50.338523</td>\n",
       "      <td>11</td>\n",
       "      <td>29210</td>\n",
       "    </tr>\n",
       "    <tr>\n",
       "      <th>3378</th>\n",
       "      <td>13-33790</td>\n",
       "      <td>0.032535</td>\n",
       "      <td>6.317830</td>\n",
       "      <td>50.120442</td>\n",
       "      <td>0.028484</td>\n",
       "      <td>0.002187</td>\n",
       "      <td>0.001864</td>\n",
       "      <td>0.013548</td>\n",
       "      <td>6.696044</td>\n",
       "      <td>1461.858703</td>\n",
       "      <td>13</td>\n",
       "      <td>33790</td>\n",
       "    </tr>\n",
       "    <tr>\n",
       "      <th>4015</th>\n",
       "      <td>16-40160</td>\n",
       "      <td>0.032709</td>\n",
       "      <td>5.377288</td>\n",
       "      <td>50.452657</td>\n",
       "      <td>0.027667</td>\n",
       "      <td>0.003498</td>\n",
       "      <td>0.001544</td>\n",
       "      <td>0.013563</td>\n",
       "      <td>10.932140</td>\n",
       "      <td>240.525028</td>\n",
       "      <td>16</td>\n",
       "      <td>40160</td>\n",
       "    </tr>\n",
       "    <tr>\n",
       "      <th>4024</th>\n",
       "      <td>16-40250</td>\n",
       "      <td>0.100561</td>\n",
       "      <td>3.085800</td>\n",
       "      <td>43.490086</td>\n",
       "      <td>0.071879</td>\n",
       "      <td>0.025700</td>\n",
       "      <td>0.002983</td>\n",
       "      <td>0.051874</td>\n",
       "      <td>7.510610</td>\n",
       "      <td>71.322752</td>\n",
       "      <td>16</td>\n",
       "      <td>40250</td>\n",
       "    </tr>\n",
       "    <tr>\n",
       "      <th>4107</th>\n",
       "      <td>16-41080</td>\n",
       "      <td>0.159360</td>\n",
       "      <td>3.133683</td>\n",
       "      <td>47.506667</td>\n",
       "      <td>0.103007</td>\n",
       "      <td>0.053081</td>\n",
       "      <td>0.003272</td>\n",
       "      <td>0.063929</td>\n",
       "      <td>15.402410</td>\n",
       "      <td>45.373778</td>\n",
       "      <td>16</td>\n",
       "      <td>41080</td>\n",
       "    </tr>\n",
       "    <tr>\n",
       "      <th>4489</th>\n",
       "      <td>17-44900</td>\n",
       "      <td>0.023849</td>\n",
       "      <td>4.554960</td>\n",
       "      <td>53.793261</td>\n",
       "      <td>0.017225</td>\n",
       "      <td>0.005775</td>\n",
       "      <td>0.000849</td>\n",
       "      <td>0.004996</td>\n",
       "      <td>17.831019</td>\n",
       "      <td>80.620578</td>\n",
       "      <td>17</td>\n",
       "      <td>44900</td>\n",
       "    </tr>\n",
       "  </tbody>\n",
       "</table>\n",
       "</div>"
      ],
      "text/plain": [
       "         label     chi_1  chi_spec1  chi_spec3    chi_1a    chi_1b    chi_1c  \\\n",
       "655     2-6560  0.246885  10.027608  49.063214  0.192645  0.053953  0.000288   \n",
       "2819  11-28200  0.036677   6.014820  49.570766  0.019308  0.014379  0.002990   \n",
       "2920  11-29210  0.248065   6.946046  59.081433  0.241302  0.006456  0.000306   \n",
       "3378  13-33790  0.032535   6.317830  50.120442  0.028484  0.002187  0.001864   \n",
       "4015  16-40160  0.032709   5.377288  50.452657  0.027667  0.003498  0.001544   \n",
       "4024  16-40250  0.100561   3.085800  43.490086  0.071879  0.025700  0.002983   \n",
       "4107  16-41080  0.159360   3.133683  47.506667  0.103007  0.053081  0.003272   \n",
       "4489  17-44900  0.023849   4.554960  53.793261  0.017225  0.005775  0.000849   \n",
       "\n",
       "         chi_2  chi_imgvar     chi_spec2  epoch   step  \n",
       "655   0.115025    3.904391  17956.069610      2   6560  \n",
       "2819  0.010212    9.884761   1447.230356     11  28200  \n",
       "2920  0.089805   33.648975     50.338523     11  29210  \n",
       "3378  0.013548    6.696044   1461.858703     13  33790  \n",
       "4015  0.013563   10.932140    240.525028     16  40160  \n",
       "4024  0.051874    7.510610     71.322752     16  40250  \n",
       "4107  0.063929   15.402410     45.373778     16  41080  \n",
       "4489  0.004996   17.831019     80.620578     17  44900  "
      ]
     },
     "execution_count": 99,
     "metadata": {},
     "output_type": "execute_result"
    }
   ],
   "source": [
    "df_best[col_list]"
   ]
  },
  {
   "cell_type": "code",
   "execution_count": 100,
   "metadata": {},
   "outputs": [],
   "source": [
    "dims = [2,3,4,7]\n",
    "np_x = np.random.uniform(size=dims).astype(np.float32)"
   ]
  },
  {
   "cell_type": "code",
   "execution_count": null,
   "metadata": {},
   "outputs": [],
   "source": []
  },
  {
   "cell_type": "code",
   "execution_count": 31,
   "metadata": {},
   "outputs": [
    {
     "data": {
      "text/plain": [
       "87.890625"
      ]
     },
     "execution_count": 31,
     "metadata": {},
     "output_type": "execute_result"
    }
   ],
   "source": [
    "90000/(32*32)"
   ]
  },
  {
   "cell_type": "code",
   "execution_count": 30,
   "metadata": {},
   "outputs": [
    {
     "data": {
      "text/plain": [
       "(101251, 1, 64, 64, 64)"
      ]
     },
     "execution_count": 30,
     "metadata": {},
     "output_type": "execute_result"
    }
   ],
   "source": [
    "fname='/global/cfs/cdirs/m3363/vayyar/cosmogan_data/raw_data/3d_data/dataset1_smoothing_const_params_64cube_100k/norm_1_train_val.npy'\n",
    "np.load(fname,mmap_mode='r').shape\n"
   ]
  },
  {
   "cell_type": "code",
   "execution_count": 32,
   "metadata": {},
   "outputs": [
    {
     "name": "stdout",
     "output_type": "stream",
     "text": [
      "99G\t/global/cfs/cdirs/m3363/vayyar/cosmogan_data/raw_data/3d_data/dataset1_smoothing_const_params_64cube_100k/norm_1_train_val.npy\n"
     ]
    }
   ],
   "source": [
    "! du -hs /global/cfs/cdirs/m3363/vayyar/cosmogan_data/raw_data/3d_data/dataset1_smoothing_const_params_64cube_100k/norm_1_train_val.npy\n",
    "\n"
   ]
  },
  {
   "cell_type": "code",
   "execution_count": null,
   "metadata": {},
   "outputs": [],
   "source": []
  }
 ],
 "metadata": {
  "kernelspec": {
   "display_name": "v3",
   "language": "python",
   "name": "v-jpt-3"
  },
  "language_info": {
   "codemirror_mode": {
    "name": "ipython",
    "version": 3
   },
   "file_extension": ".py",
   "mimetype": "text/x-python",
   "name": "python",
   "nbconvert_exporter": "python",
   "pygments_lexer": "ipython3",
   "version": "3.8.6"
  }
 },
 "nbformat": 4,
 "nbformat_minor": 4
}

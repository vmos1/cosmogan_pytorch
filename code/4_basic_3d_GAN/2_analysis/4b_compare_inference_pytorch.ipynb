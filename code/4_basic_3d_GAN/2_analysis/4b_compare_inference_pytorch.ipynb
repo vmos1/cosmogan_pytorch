{
 "cells": [
  {
   "cell_type": "markdown",
   "metadata": {},
   "source": [
    "## Compare results for multiple results"
   ]
  },
  {
   "cell_type": "code",
   "execution_count": 1,
   "metadata": {},
   "outputs": [],
   "source": [
    "import numpy as np\n",
    "import matplotlib.pyplot as plt\n",
    "import seaborn as sns\n",
    "import pandas as pd\n",
    "\n",
    "import subprocess as sp\n",
    "import os\n",
    "import glob\n",
    "import sys\n",
    "\n",
    "import itertools\n",
    "import time\n",
    "\n",
    "from ipywidgets import *"
   ]
  },
  {
   "cell_type": "code",
   "execution_count": 2,
   "metadata": {},
   "outputs": [],
   "source": [
    "%matplotlib widget"
   ]
  },
  {
   "cell_type": "code",
   "execution_count": 3,
   "metadata": {},
   "outputs": [],
   "source": [
    "sys.path.append('/global/u1/v/vpa/project/jpt_notebooks/Cosmology/Cosmo_GAN/repositories/cosmogan_pytorch/code/modules_image_analysis/')\n",
    "from modules_3d_image_analysis import *"
   ]
  },
  {
   "cell_type": "code",
   "execution_count": 4,
   "metadata": {},
   "outputs": [],
   "source": [
    "### Transformation functions for image pixel values\n",
    "def f_transform(x):\n",
    "    return 2.*x/(x + 4. + 1e-8) - 1.\n",
    "\n",
    "def f_invtransform(s):\n",
    "    return 4.*(1. + s)/(1. - s + 1e-8)"
   ]
  },
  {
   "cell_type": "code",
   "execution_count": 5,
   "metadata": {},
   "outputs": [],
   "source": [
    "def f_compute_hist_spect(sample,bins):\n",
    "    ''' Compute pixel intensity histograms and radial spectrum for 3D arrays\n",
    "    Input : Image arrays and bins\n",
    "    Output: dictionary with 5 arrays : Histogram values, errors and bin centers, Spectrum values and errors.\n",
    "    '''\n",
    "    ### Compute pixel histogram for row\n",
    "    gen_hist,gen_err,hist_bins=f_batch_histogram(sample,bins=bins,norm=True,hist_range=None)\n",
    "    ### Compute spectrum for row\n",
    "    spec,spec_sdev=f_plot_spectrum_3d(sample,plot=False)\n",
    "\n",
    "    dict1={'hist_val':gen_hist,'hist_err':gen_err,'hist_bin_centers':hist_bins,'spec_val':spec,'spec_sdev':spec_sdev }\n",
    "    return dict1\n",
    "\n",
    "def f_compute_chisqr(dict_val,dict_sample):\n",
    "    '''\n",
    "    Compute chi-square values for sample w.r.t input images\n",
    "    Input: 2 dictionaries with 4 keys for histogram and spectrum values and errors\n",
    "    '''\n",
    "    ### !!Both pixel histograms MUST have same bins and normalization!\n",
    "    ### Compute chi-sqr\n",
    "    ### Used in keras code : np.sum(np.divide(np.power(valhist - samphist, 2.0), valhist))\n",
    "    ###  chi_sqr :: sum((Obs-Val)^2/(Val))\n",
    "    \n",
    "    chisqr_dict={}\n",
    "    \n",
    "    try: \n",
    "        val_dr=dict_val['hist_val'].copy()\n",
    "        val_dr[val_dr<=0.]=1.0    ### Avoiding division by zero for zero bins\n",
    "\n",
    "        sq_diff=(dict_val['hist_val']-dict_sample['hist_val'])**2\n",
    "\n",
    "        size=len(dict_val['hist_val'])\n",
    "        l1,l2=int(size*0.3),int(size*0.7)\n",
    "        keys=['chi_1a','chi_1b','chi_1c','chi_1']\n",
    "        \n",
    "        for (key,start,end) in zip(keys,[0,l1,l2,0],[l1,l2,None,None]):  # 4 lists : small, medium, large pixel values and full \n",
    "            chisqr_dict.update({key:np.sum(np.divide(sq_diff[start:end],val_dr[start:end]))})\n",
    "\n",
    "        idx=None  # Choosing the number of histograms to use. Eg : -5 to skip last 5 bins\n",
    "    #     chisqr_dict.update({'chi_sqr1':})\n",
    "\n",
    "        chisqr_dict.update({'chi_2':np.sum(np.divide(sq_diff[:idx],1.0))}) ## chi-sqr without denominator division\n",
    "        chisqr_dict.update({'chi_imgvar':np.sum(dict_sample['hist_err'][:idx])/np.sum(dict_val['hist_err'][:idx])}) ## measures total spread in histograms wrt to input data\n",
    "\n",
    "        idx=64\n",
    "        spec_diff=(dict_val['spec_val']-dict_sample['spec_val'])**2\n",
    "        ### computing the spectral loss chi-square\n",
    "        chisqr_dict.update({'chi_spec1':np.sum(spec_diff[:idx]/dict_sample['spec_val'][:idx]**2)})\n",
    "\n",
    "        ### computing the spectral loss chi-square\n",
    "        chisqr_dict.update({'chi_spec2':np.sum(spec_diff[:idx]/dict_sample['spec_sdev'][:idx]**2)})\n",
    "        \n",
    "        spec_loss=1.0*np.log(np.mean((dict_val['spec_val'][:idx]-dict_sample['spec_val'][:idx])**2))+1.0*np.log(np.mean((dict_val['spec_sdev'][:idx]-dict_sample['spec_sdev'][:idx])**2))\n",
    "        chisqr_dict.update({'chi_spec3':spec_loss})\n",
    "    \n",
    "    except Exception as e: \n",
    "        print(e)\n",
    "        \n",
    "        keys=['chi_1a','chi_1b','chi_1c','chi_1','chi_2','chi_imgvar','chi_spec1','chi_spec2']\n",
    "        chisqr_dict=dict.fromkeys(keys,np.nan)\n",
    "        pass\n",
    "    \n",
    "    return chisqr_dict\n"
   ]
  },
  {
   "cell_type": "code",
   "execution_count": 6,
   "metadata": {},
   "outputs": [
    {
     "name": "stdout",
     "output_type": "stream",
     "text": [
      "(500, 64, 64, 64)\n"
     ]
    },
    {
     "name": "stderr",
     "output_type": "stream",
     "text": [
      "/global/u1/v/vpa/project/jpt_notebooks/Cosmology/Cosmo_GAN/repositories/cosmogan_pytorch/code/modules_image_analysis/modules_3d_image_analysis.py:62: VisibleDeprecationWarning: Creating an ndarray from ragged nested sequences (which is a list-or-tuple of lists-or-tuples-or ndarrays with different lengths or shapes) is deprecated. If you meant to do this, you must specify 'dtype=object' when creating the ndarray\n",
      "  hist_arr=np.array([np.histogram(arr.flatten(), bins=bins, range=(llim,ulim), density=norm) for arr in img_arr]) ## range is important\n"
     ]
    },
    {
     "ename": "NameError",
     "evalue": "name 'centers' is not defined",
     "output_type": "error",
     "traceback": [
      "\u001b[0;31m---------------------------------------------------------------------------\u001b[0m",
      "\u001b[0;31mNameError\u001b[0m                                 Traceback (most recent call last)",
      "\u001b[0;32m<ipython-input-6-0b9a41d076d2>\u001b[0m in \u001b[0;36m<module>\u001b[0;34m\u001b[0m\n\u001b[1;32m     12\u001b[0m \u001b[0mimg_size\u001b[0m\u001b[0;34m=\u001b[0m\u001b[0ms_val\u001b[0m\u001b[0;34m.\u001b[0m\u001b[0mshape\u001b[0m\u001b[0;34m[\u001b[0m\u001b[0;36m1\u001b[0m\u001b[0;34m]\u001b[0m\u001b[0;34m\u001b[0m\u001b[0;34m\u001b[0m\u001b[0m\n\u001b[1;32m     13\u001b[0m \u001b[0;31m### Compute histogram and spectrum of raw data\u001b[0m\u001b[0;34m\u001b[0m\u001b[0;34m\u001b[0m\u001b[0;34m\u001b[0m\u001b[0m\n\u001b[0;32m---> 14\u001b[0;31m \u001b[0mdict_val\u001b[0m\u001b[0;34m=\u001b[0m\u001b[0mf_compute_hist_spect\u001b[0m\u001b[0;34m(\u001b[0m\u001b[0ms_val\u001b[0m\u001b[0;34m,\u001b[0m\u001b[0mbins\u001b[0m\u001b[0;34m)\u001b[0m\u001b[0;34m\u001b[0m\u001b[0;34m\u001b[0m\u001b[0m\n\u001b[0m\u001b[1;32m     15\u001b[0m \u001b[0;32mdel\u001b[0m\u001b[0;34m(\u001b[0m\u001b[0ms_val\u001b[0m\u001b[0;34m)\u001b[0m\u001b[0;34m\u001b[0m\u001b[0;34m\u001b[0m\u001b[0m\n",
      "\u001b[0;32m<ipython-input-5-211696f8164d>\u001b[0m in \u001b[0;36mf_compute_hist_spect\u001b[0;34m(sample, bins)\u001b[0m\n\u001b[1;32m      7\u001b[0m     \u001b[0mgen_hist\u001b[0m\u001b[0;34m,\u001b[0m\u001b[0mgen_err\u001b[0m\u001b[0;34m,\u001b[0m\u001b[0mhist_bins\u001b[0m\u001b[0;34m=\u001b[0m\u001b[0mf_batch_histogram\u001b[0m\u001b[0;34m(\u001b[0m\u001b[0msample\u001b[0m\u001b[0;34m,\u001b[0m\u001b[0mbins\u001b[0m\u001b[0;34m=\u001b[0m\u001b[0mbins\u001b[0m\u001b[0;34m,\u001b[0m\u001b[0mnorm\u001b[0m\u001b[0;34m=\u001b[0m\u001b[0;32mTrue\u001b[0m\u001b[0;34m,\u001b[0m\u001b[0mhist_range\u001b[0m\u001b[0;34m=\u001b[0m\u001b[0;32mNone\u001b[0m\u001b[0;34m)\u001b[0m\u001b[0;34m\u001b[0m\u001b[0;34m\u001b[0m\u001b[0m\n\u001b[1;32m      8\u001b[0m     \u001b[0;31m### Compute spectrum for row\u001b[0m\u001b[0;34m\u001b[0m\u001b[0;34m\u001b[0m\u001b[0;34m\u001b[0m\u001b[0m\n\u001b[0;32m----> 9\u001b[0;31m     \u001b[0mspec\u001b[0m\u001b[0;34m,\u001b[0m\u001b[0mspec_sdev\u001b[0m\u001b[0;34m=\u001b[0m\u001b[0mf_plot_spectrum_3d\u001b[0m\u001b[0;34m(\u001b[0m\u001b[0msample\u001b[0m\u001b[0;34m,\u001b[0m\u001b[0mplot\u001b[0m\u001b[0;34m=\u001b[0m\u001b[0;32mFalse\u001b[0m\u001b[0;34m)\u001b[0m\u001b[0;34m\u001b[0m\u001b[0;34m\u001b[0m\u001b[0m\n\u001b[0m\u001b[1;32m     10\u001b[0m \u001b[0;34m\u001b[0m\u001b[0m\n\u001b[1;32m     11\u001b[0m     \u001b[0mdict1\u001b[0m\u001b[0;34m=\u001b[0m\u001b[0;34m{\u001b[0m\u001b[0;34m'hist_val'\u001b[0m\u001b[0;34m:\u001b[0m\u001b[0mgen_hist\u001b[0m\u001b[0;34m,\u001b[0m\u001b[0;34m'hist_err'\u001b[0m\u001b[0;34m:\u001b[0m\u001b[0mgen_err\u001b[0m\u001b[0;34m,\u001b[0m\u001b[0;34m'hist_bin_centers'\u001b[0m\u001b[0;34m:\u001b[0m\u001b[0mhist_bins\u001b[0m\u001b[0;34m,\u001b[0m\u001b[0;34m'spec_val'\u001b[0m\u001b[0;34m:\u001b[0m\u001b[0mspec\u001b[0m\u001b[0;34m,\u001b[0m\u001b[0;34m'spec_sdev'\u001b[0m\u001b[0;34m:\u001b[0m\u001b[0mspec_sdev\u001b[0m \u001b[0;34m}\u001b[0m\u001b[0;34m\u001b[0m\u001b[0;34m\u001b[0m\u001b[0m\n",
      "\u001b[0;32m/global/u1/v/vpa/project/jpt_notebooks/Cosmology/Cosmo_GAN/repositories/cosmogan_pytorch/code/modules_image_analysis/modules_3d_image_analysis.py\u001b[0m in \u001b[0;36mf_plot_spectrum_3d\u001b[0;34m(img_arr, plot, label, log_scale)\u001b[0m\n\u001b[1;32m    227\u001b[0m     '''\n\u001b[1;32m    228\u001b[0m     \u001b[0mnum\u001b[0m \u001b[0;34m=\u001b[0m \u001b[0mimg_arr\u001b[0m\u001b[0;34m.\u001b[0m\u001b[0mshape\u001b[0m\u001b[0;34m[\u001b[0m\u001b[0;36m0\u001b[0m\u001b[0;34m]\u001b[0m\u001b[0;34m\u001b[0m\u001b[0;34m\u001b[0m\u001b[0m\n\u001b[0;32m--> 229\u001b[0;31m     \u001b[0mPk\u001b[0m \u001b[0;34m=\u001b[0m \u001b[0mf_batch_spectrum_3d\u001b[0m\u001b[0;34m(\u001b[0m\u001b[0mimg_arr\u001b[0m\u001b[0;34m)\u001b[0m\u001b[0;34m\u001b[0m\u001b[0;34m\u001b[0m\u001b[0m\n\u001b[0m\u001b[1;32m    230\u001b[0m \u001b[0;34m\u001b[0m\u001b[0m\n\u001b[1;32m    231\u001b[0m     \u001b[0;31m#mean,std = np.mean(Pk, axis=0),np.std(Pk, axis=0)/np.sqrt(Pk.shape[0])\u001b[0m\u001b[0;34m\u001b[0m\u001b[0;34m\u001b[0m\u001b[0;34m\u001b[0m\u001b[0m\n",
      "\u001b[0;32m/global/u1/v/vpa/project/jpt_notebooks/Cosmology/Cosmo_GAN/repositories/cosmogan_pytorch/code/modules_image_analysis/modules_3d_image_analysis.py\u001b[0m in \u001b[0;36mf_batch_spectrum_3d\u001b[0;34m(arr)\u001b[0m\n\u001b[1;32m    198\u001b[0m \u001b[0;34m\u001b[0m\u001b[0m\n\u001b[1;32m    199\u001b[0m \u001b[0;32mdef\u001b[0m \u001b[0mf_batch_spectrum_3d\u001b[0m\u001b[0;34m(\u001b[0m\u001b[0marr\u001b[0m\u001b[0;34m)\u001b[0m\u001b[0;34m:\u001b[0m\u001b[0;34m\u001b[0m\u001b[0;34m\u001b[0m\u001b[0m\n\u001b[0;32m--> 200\u001b[0;31m     \u001b[0mbatch_pk\u001b[0m\u001b[0;34m=\u001b[0m\u001b[0mnp\u001b[0m\u001b[0;34m.\u001b[0m\u001b[0marray\u001b[0m\u001b[0;34m(\u001b[0m\u001b[0;34m[\u001b[0m\u001b[0mf_compute_spectrum_3d\u001b[0m\u001b[0;34m(\u001b[0m\u001b[0mi\u001b[0m\u001b[0;34m)\u001b[0m \u001b[0;32mfor\u001b[0m \u001b[0mi\u001b[0m \u001b[0;32min\u001b[0m \u001b[0marr\u001b[0m\u001b[0;34m]\u001b[0m\u001b[0;34m)\u001b[0m\u001b[0;34m\u001b[0m\u001b[0;34m\u001b[0m\u001b[0m\n\u001b[0m\u001b[1;32m    201\u001b[0m     \u001b[0;32mreturn\u001b[0m \u001b[0mbatch_pk\u001b[0m\u001b[0;34m\u001b[0m\u001b[0;34m\u001b[0m\u001b[0m\n\u001b[1;32m    202\u001b[0m \u001b[0;34m\u001b[0m\u001b[0m\n",
      "\u001b[0;32m/global/u1/v/vpa/project/jpt_notebooks/Cosmology/Cosmo_GAN/repositories/cosmogan_pytorch/code/modules_image_analysis/modules_3d_image_analysis.py\u001b[0m in \u001b[0;36m<listcomp>\u001b[0;34m(.0)\u001b[0m\n\u001b[1;32m    198\u001b[0m \u001b[0;34m\u001b[0m\u001b[0m\n\u001b[1;32m    199\u001b[0m \u001b[0;32mdef\u001b[0m \u001b[0mf_batch_spectrum_3d\u001b[0m\u001b[0;34m(\u001b[0m\u001b[0marr\u001b[0m\u001b[0;34m)\u001b[0m\u001b[0;34m:\u001b[0m\u001b[0;34m\u001b[0m\u001b[0;34m\u001b[0m\u001b[0m\n\u001b[0;32m--> 200\u001b[0;31m     \u001b[0mbatch_pk\u001b[0m\u001b[0;34m=\u001b[0m\u001b[0mnp\u001b[0m\u001b[0;34m.\u001b[0m\u001b[0marray\u001b[0m\u001b[0;34m(\u001b[0m\u001b[0;34m[\u001b[0m\u001b[0mf_compute_spectrum_3d\u001b[0m\u001b[0;34m(\u001b[0m\u001b[0mi\u001b[0m\u001b[0;34m)\u001b[0m \u001b[0;32mfor\u001b[0m \u001b[0mi\u001b[0m \u001b[0;32min\u001b[0m \u001b[0marr\u001b[0m\u001b[0;34m]\u001b[0m\u001b[0;34m)\u001b[0m\u001b[0;34m\u001b[0m\u001b[0;34m\u001b[0m\u001b[0m\n\u001b[0m\u001b[1;32m    201\u001b[0m     \u001b[0;32mreturn\u001b[0m \u001b[0mbatch_pk\u001b[0m\u001b[0;34m\u001b[0m\u001b[0;34m\u001b[0m\u001b[0m\n\u001b[1;32m    202\u001b[0m \u001b[0;34m\u001b[0m\u001b[0m\n",
      "\u001b[0;32m/global/u1/v/vpa/project/jpt_notebooks/Cosmology/Cosmo_GAN/repositories/cosmogan_pytorch/code/modules_image_analysis/modules_3d_image_analysis.py\u001b[0m in \u001b[0;36mf_compute_spectrum_3d\u001b[0;34m(arr)\u001b[0m\n\u001b[1;32m    194\u001b[0m \u001b[0;31m#     print(y1.shape)\u001b[0m\u001b[0;34m\u001b[0m\u001b[0;34m\u001b[0m\u001b[0;34m\u001b[0m\u001b[0m\n\u001b[1;32m    195\u001b[0m     \u001b[0my2\u001b[0m\u001b[0;34m=\u001b[0m\u001b[0mabs\u001b[0m\u001b[0;34m(\u001b[0m\u001b[0my1\u001b[0m\u001b[0;34m)\u001b[0m\u001b[0;34m**\u001b[0m\u001b[0;36m2\u001b[0m\u001b[0;34m\u001b[0m\u001b[0;34m\u001b[0m\u001b[0m\n\u001b[0;32m--> 196\u001b[0;31m     \u001b[0mz1\u001b[0m\u001b[0;34m=\u001b[0m\u001b[0mf_radial_profile_3d\u001b[0m\u001b[0;34m(\u001b[0m\u001b[0my2\u001b[0m\u001b[0;34m)\u001b[0m\u001b[0;34m\u001b[0m\u001b[0;34m\u001b[0m\u001b[0m\n\u001b[0m\u001b[1;32m    197\u001b[0m     \u001b[0;32mreturn\u001b[0m\u001b[0;34m(\u001b[0m\u001b[0mz1\u001b[0m\u001b[0;34m)\u001b[0m\u001b[0;34m\u001b[0m\u001b[0;34m\u001b[0m\u001b[0m\n\u001b[1;32m    198\u001b[0m \u001b[0;34m\u001b[0m\u001b[0m\n",
      "\u001b[0;32m/global/u1/v/vpa/project/jpt_notebooks/Cosmology/Cosmo_GAN/repositories/cosmogan_pytorch/code/modules_image_analysis/modules_3d_image_analysis.py\u001b[0m in \u001b[0;36mf_radial_profile_3d\u001b[0;34m(data, center)\u001b[0m\n\u001b[1;32m    170\u001b[0m \u001b[0;34m\u001b[0m\u001b[0m\n\u001b[1;32m    171\u001b[0m     \u001b[0mcenter\u001b[0m\u001b[0;34m=\u001b[0m\u001b[0;34m[\u001b[0m\u001b[0;34m]\u001b[0m\u001b[0;34m\u001b[0m\u001b[0;34m\u001b[0m\u001b[0m\n\u001b[0;32m--> 172\u001b[0;31m     \u001b[0;32mif\u001b[0m \u001b[0;32mnot\u001b[0m \u001b[0mcenters\u001b[0m\u001b[0;34m:\u001b[0m\u001b[0;34m\u001b[0m\u001b[0;34m\u001b[0m\u001b[0m\n\u001b[0m\u001b[1;32m    173\u001b[0m         \u001b[0mcenter\u001b[0m \u001b[0;34m=\u001b[0m \u001b[0mnp\u001b[0m\u001b[0;34m.\u001b[0m\u001b[0marray\u001b[0m\u001b[0;34m(\u001b[0m\u001b[0;34m[\u001b[0m\u001b[0;34m(\u001b[0m\u001b[0mx\u001b[0m\u001b[0;34m.\u001b[0m\u001b[0mmax\u001b[0m\u001b[0;34m(\u001b[0m\u001b[0;34m)\u001b[0m\u001b[0;34m-\u001b[0m\u001b[0mx\u001b[0m\u001b[0;34m.\u001b[0m\u001b[0mmin\u001b[0m\u001b[0;34m(\u001b[0m\u001b[0;34m)\u001b[0m\u001b[0;34m)\u001b[0m\u001b[0;34m/\u001b[0m\u001b[0;36m2.0\u001b[0m\u001b[0;34m,\u001b[0m \u001b[0;34m(\u001b[0m\u001b[0my\u001b[0m\u001b[0;34m.\u001b[0m\u001b[0mmax\u001b[0m\u001b[0;34m(\u001b[0m\u001b[0;34m)\u001b[0m\u001b[0;34m-\u001b[0m\u001b[0my\u001b[0m\u001b[0;34m.\u001b[0m\u001b[0mmin\u001b[0m\u001b[0;34m(\u001b[0m\u001b[0;34m)\u001b[0m\u001b[0;34m)\u001b[0m\u001b[0;34m/\u001b[0m\u001b[0;36m2.0\u001b[0m\u001b[0;34m,\u001b[0m \u001b[0;34m(\u001b[0m\u001b[0mz\u001b[0m\u001b[0;34m.\u001b[0m\u001b[0mmax\u001b[0m\u001b[0;34m(\u001b[0m\u001b[0;34m)\u001b[0m\u001b[0;34m-\u001b[0m\u001b[0mz\u001b[0m\u001b[0;34m.\u001b[0m\u001b[0mmin\u001b[0m\u001b[0;34m(\u001b[0m\u001b[0;34m)\u001b[0m\u001b[0;34m)\u001b[0m\u001b[0;34m/\u001b[0m\u001b[0;36m2.0\u001b[0m\u001b[0;34m]\u001b[0m\u001b[0;34m)\u001b[0m \u001b[0;31m# compute centers\u001b[0m\u001b[0;34m\u001b[0m\u001b[0;34m\u001b[0m\u001b[0m\n\u001b[1;32m    174\u001b[0m \u001b[0;34m\u001b[0m\u001b[0m\n",
      "\u001b[0;31mNameError\u001b[0m: name 'centers' is not defined"
     ]
    }
   ],
   "source": [
    "# bins=np.concatenate([np.array([-0.5]),np.arange(0.5,20.5,1),np.arange(20.5,100.5,5),np.arange(100.5,1000.5,50),np.array([2000])]) #bin edges to use\n",
    "# bins=np.concatenate([np.array([-0.5]),np.arange(0.5,300.5,5),np.arange(300.5,1000.5,50),np.array([2000])]) #bin edges to use\n",
    "bins=np.concatenate([np.array([-0.5]),np.arange(0.5,100.5,5),np.arange(100.5,300.5,20),np.arange(300.5,1000.5,50),np.array([2000])]) #bin edges to use\n",
    "bins=f_transform(bins)   ### scale to (-1,1)\n",
    "\n",
    "### Extract validation data\n",
    "fname='/global/cfs/cdirs/m3363/vayyar/cosmogan_data/raw_data/3d_data/dataset1_smoothing_const_params_64cube_100k/norm_1_train_val.npy'\n",
    "# s_val=np.load(fname,mmap_mode='r')[10000:20000][:,0,:,:]\n",
    "num_bkgnd=500\n",
    "s_val=np.load(fname,mmap_mode='r')[:(2*num_bkgnd)][:num_bkgnd,0,:,:,:]\n",
    "print(s_val.shape)\n",
    "img_size=s_val.shape[1]\n",
    "### Compute histogram and spectrum of raw data \n",
    "dict_val=f_compute_hist_spect(s_val,bins)\n",
    "del(s_val)"
   ]
  },
  {
   "cell_type": "code",
   "execution_count": null,
   "metadata": {},
   "outputs": [],
   "source": [
    "dict_val.keys()"
   ]
  },
  {
   "cell_type": "code",
   "execution_count": null,
   "metadata": {},
   "outputs": [],
   "source": [
    "df_runs=pd.DataFrame([])"
   ]
  },
  {
   "cell_type": "code",
   "execution_count": null,
   "metadata": {},
   "outputs": [],
   "source": [
    "# parent_dir='/global/cfs/cdirs/m3363/vayyar/cosmogan_data/results_from_other_code/pytorch/results/3d/20210430_195053_bs16_lr0.0001_nodes8/'\n",
    "# lst=[(22,2630),(78,9160),(77,9030),(91,10750),(97,11410)]\n",
    "\n",
    "parent_dir='/global/cfs/cdirs/m3363/vayyar/cosmogan_data/results_from_other_code/pytorch/results/3d/20210430_200933_bs8_lr0.0001_nodes8/'\n",
    "lst=[(27,6330),(28,6730),(45,10550),(63,14780)]"
   ]
  },
  {
   "cell_type": "code",
   "execution_count": null,
   "metadata": {},
   "outputs": [],
   "source": [
    "## Load training images\n",
    "\n",
    "prefix='pytorch_train_1_'\n",
    "for count,run in enumerate(lst):\n",
    "    epoch,step=run[0],run[1]\n",
    "    key=prefix+'{0}-{1}'.format(epoch,step)\n",
    "    fname=parent_dir+'images/gen_img_epoch-{0}_step-{1}.npy'.format(epoch,step)\n",
    "    dict1={'label':key,'fname':fname}\n",
    "    images=np.load(fname)[:,0,:,:]\n",
    "    dict1['num_imgs']=images.shape[0]\n",
    "    print(dict1)\n",
    "    ### Compute spectrum and histograms\n",
    "    dict_sample=f_compute_hist_spect(images,bins)\n",
    "    ### Compute chi squares\n",
    "    dict_chisqrs=f_compute_chisqr(dict_val,dict_sample)\n",
    "    \n",
    "    dict1.update(dict_sample)\n",
    "    dict1.update(dict_chisqrs)\n",
    "    del(images)\n",
    "    df_runs=df_runs.append(dict1,ignore_index=True)"
   ]
  },
  {
   "cell_type": "code",
   "execution_count": null,
   "metadata": {},
   "outputs": [],
   "source": [
    "# Inference images\n",
    "\n",
    "prefix='pytorch_inference_1_'\n",
    "for count,run in enumerate(lst):\n",
    "    epoch,step=run[0],run[1]\n",
    "    key=prefix+'{0}-{1}'.format(epoch,step)\n",
    "    fname=parent_dir+'images/inference_0_epoch-{0}_step-{1}.npy'.format(epoch,step)\n",
    "    dict1={'label':key,'fname':fname}\n",
    "    images=np.load(fname)[:,0,:,:]\n",
    "    dict1['num_imgs']=images.shape[0]\n",
    "    print(dict1)\n",
    "    ### Compute spectrum and histograms\n",
    "    dict_sample=f_compute_hist_spect(images,bins)\n",
    "    ### Compute chi squares\n",
    "    dict_chisqrs=f_compute_chisqr(dict_val,dict_sample)\n",
    "    \n",
    "    dict1.update(dict_sample)\n",
    "    dict1.update(dict_chisqrs)\n",
    "    del(images)\n",
    "    df_runs=df_runs.append(dict1,ignore_index=True)\n",
    "    "
   ]
  },
  {
   "cell_type": "code",
   "execution_count": null,
   "metadata": {},
   "outputs": [],
   "source": [
    "col_list=['label','fname', 'hist_bin_centers', 'hist_err', 'hist_val','spec_sdev', 'spec_val','chi_1', 'chi_1a', 'chi_1b', 'chi_1c', 'chi_2',\n",
    "       'chi_imgvar', 'chi_spec1', 'chi_spec2','chi_spec3', 'num_imgs']\n",
    "df_runs=df_runs.reindex(columns=col_list)\n"
   ]
  },
  {
   "cell_type": "markdown",
   "metadata": {},
   "source": [
    "### Compare chi-squares"
   ]
  },
  {
   "cell_type": "code",
   "execution_count": null,
   "metadata": {},
   "outputs": [],
   "source": [
    "chi_keys=['label','chi_1','chi_spec1', 'chi_spec3', 'num_imgs', 'chi_1a', 'chi_1b', 'chi_1c', 'chi_2','chi_imgvar', 'chi_spec2','fname']\n",
    "df_runs[chi_keys]"
   ]
  },
  {
   "cell_type": "code",
   "execution_count": null,
   "metadata": {
    "tags": []
   },
   "outputs": [],
   "source": [
    "\n",
    "def f_plot_hist_spec(df,dict_bkg,plot_type):\n",
    "\n",
    "    img_size=64\n",
    "    assert plot_type in ['hist','spec','grid','spec_relative','hist_relative'],\"Invalid mode %s\"%(plot_type)\n",
    "\n",
    "    if plot_type in ['hist','spec','spec_relative','hist_relative']:     fig=plt.figure(figsize=(6,6))\n",
    "\n",
    "\n",
    "    for (i,row),marker in zip(df.iterrows(),itertools.cycle('>^*sDHPdpx_')):\n",
    "        label=row.label\n",
    "        if plot_type=='hist':\n",
    "            x1=row.hist_bin_centers\n",
    "            y1=row.hist_val\n",
    "            yerr1=row.hist_err\n",
    "            x1=f_invtransform(x1)\n",
    "            \n",
    "            plt.errorbar(x1,y1,yerr1,marker=marker,markersize=5,linestyle='',label=label)\n",
    "        if plot_type=='spec':\n",
    "            \n",
    "            y2=row.spec_val\n",
    "            yerr2=row.spec_sdev/np.sqrt(row.num_imgs)\n",
    "            x2=np.arange(len(y2))\n",
    "            \n",
    "            plt.fill_between(x2, y2 - yerr2, y2 + yerr2, alpha=0.4)\n",
    "            plt.plot(x2, y2, marker=marker, linestyle=':',label=label)\n",
    "            plt.xlim(0,img_size/2)\n",
    "\n",
    "\n",
    "        if plot_type=='spec_relative':\n",
    "            \n",
    "            y2=row.spec_val\n",
    "            yerr2=row.spec_sdev\n",
    "            x2=np.arange(len(y2))\n",
    "            \n",
    "            ### Reference spectrum\n",
    "            y1,yerr1=dict_bkg['spec_val'],dict_bkg['spec_sdev']\n",
    "            y=y2/(1.0*y1)\n",
    "            ## Variance is sum of variance of both variables, since they are uncorrelated\n",
    "            \n",
    "            # delta_r=sqrt(\\delta_c2 ^ 2/ c1^2 + \\delta_c1^2 * c_2^2 / c_1^4)\n",
    "            yerr=(np.abs(y))*np.sqrt((yerr1/y1)**2+(yerr2/y2)**2)/np.sqrt(row['num_imgs'])\n",
    "\n",
    "            plt.fill_between(x2, y - yerr, y + yerr, alpha=0.4)\n",
    "            plt.plot(x2, y, marker=marker, linestyle=':',label=label)            \n",
    "            \n",
    "            \n",
    "        if plot_type=='hist_relative':\n",
    "\n",
    "            x2=row.hist_bin_centers\n",
    "            y2=row.hist_val\n",
    "            yerr2=row.hist_err\n",
    "            x2=f_invtransform(x2)\n",
    "            \n",
    "#             plt.errorbar(x1,y1,yerr1,marker=marker,markersize=5,linestyle='',label=label)\n",
    "            \n",
    "            ### Reference spectrum\n",
    "            y1,yerr1=dict_bkg['hist_val'],dict_bkg['hist_err']\n",
    "\n",
    "            y=y2/(1.0*y1)\n",
    "            ## Variance is sum of variance of both variables, since they are uncorrelated\n",
    "            \n",
    "            # delta_r=sqrt(\\delta_c2 ^ 2/ c1^2 + \\delta_c1^2 * c_2^2 / c_1^4)\n",
    "            yerr=(np.abs(y))*np.sqrt((yerr1/y1)**2+(yerr2/y2)**2)/np.sqrt(row['num_imgs'])\n",
    "\n",
    "            plt.fill_between(x2, y - yerr, y + yerr, alpha=0.4)\n",
    "            plt.plot(x2, y, marker=marker, linestyle=':',label=label)            \n",
    "            plt.xlim(0,img_size/2)\n",
    "            plt.ylim(0,5)\n",
    "            plt.legend()\n",
    "\n",
    "        if plot_type=='grid':\n",
    "            images=np.load(row.fname)[:,0,:,:,0]\n",
    "            print(images.shape)\n",
    "            f_plot_grid(images[:18],cols=6,fig_size=(10,5))\n",
    "            \n",
    "    ### Plot input data\n",
    "    if plot_type=='hist':\n",
    "        x,y,yerr=dict_bkg['hist_bin_centers'],dict_bkg['hist_val'],dict_bkg['hist_err']\n",
    "        x=f_invtransform(x)\n",
    "        plt.errorbar(x, y,yerr,color='k',linestyle='-',label='bkgnd')   \n",
    "        plt.title('Pixel Intensity Histogram')\n",
    "        plt.xscale('symlog',linthreshx=50)\n",
    "        \n",
    "    if plot_type=='spec':\n",
    "        y,yerr=dict_bkg['spec_val'],dict_bkg['spec_sdev']/np.sqrt(num_bkgnd)\n",
    "        x=np.arange(len(y))\n",
    "        plt.fill_between(x, y - yerr, y + yerr, color='k',alpha=0.8)\n",
    "        plt.xlim(0,img_size/2)\n",
    "        plt.title('Spectrum')\n",
    "        \n",
    "    if plot_type=='spec_relative':\n",
    "        plt.axhline(y=1.0,color='k',linestyle='-.')\n",
    "        plt.xlim(0,img_size/2)\n",
    "        plt.ylim(0.5,2)\n",
    "        plt.legend()\n",
    "        \n",
    "    if plot_type=='hist_relative':\n",
    "        plt.axhline(y=1.0,color='k',linestyle='-.')\n",
    "        \n",
    "    plt.legend(bbox_to_anchor=(0.3, 0.75),ncol=2, fancybox=True, shadow=True,prop={'size':6})\n",
    "    if plot_type in ['hist','spec']:     plt.yscale('log')\n",
    "\n",
    "# f_plot_hist_spec(df_runs,dict_val,'hist')\n",
    "# f_plot_hist_spec(df_runs,dict_val,'spec')\n",
    "# f_plot_hist_spec(df_best,dict_val,'grid')\n",
    "\n"
   ]
  },
  {
   "cell_type": "code",
   "execution_count": null,
   "metadata": {},
   "outputs": [],
   "source": [
    "def f_widget_compare(df,labels_list,bkgnd,plot_type):\n",
    "    df_temp=df[df.label.isin(labels_list)]\n",
    "    f_plot_hist_spec(df_temp,dict_val,plot_type)\n",
    "\n",
    "interact_manual(f_widget_compare,df=fixed(df_runs),\n",
    "                labels_list=SelectMultiple(options=df_runs.label.values),bkgnd=fixed(dict_val),\n",
    "                plot_type=ToggleButtons(options=['hist','spec','grid','spec_relative']))"
   ]
  },
  {
   "cell_type": "code",
   "execution_count": null,
   "metadata": {},
   "outputs": [],
   "source": [
    "col_list=['label','chi_1','chi_spec1','num_imgs','chi_2','chi_spec2']\n",
    "df_runs[col_list]"
   ]
  },
  {
   "cell_type": "code",
   "execution_count": null,
   "metadata": {},
   "outputs": [],
   "source": [
    "# f_plot_intensity_grid(images[:20],cols=5)\n",
    "# f_pixel_intensity(f_transform(images),bins=100)"
   ]
  },
  {
   "cell_type": "code",
   "execution_count": null,
   "metadata": {},
   "outputs": [],
   "source": []
  },
  {
   "cell_type": "code",
   "execution_count": null,
   "metadata": {},
   "outputs": [],
   "source": []
  }
 ],
 "metadata": {
  "kernelspec": {
   "display_name": "v3",
   "language": "python",
   "name": "v-jpt-3"
  },
  "language_info": {
   "codemirror_mode": {
    "name": "ipython",
    "version": 3
   },
   "file_extension": ".py",
   "mimetype": "text/x-python",
   "name": "python",
   "nbconvert_exporter": "python",
   "pygments_lexer": "ipython3",
   "version": "3.8.6"
  }
 },
 "nbformat": 4,
 "nbformat_minor": 4
}

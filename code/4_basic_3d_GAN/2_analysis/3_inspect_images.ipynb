{
 "cells": [
  {
   "cell_type": "markdown",
   "metadata": {},
   "source": [
    "# Inspect images\n",
    "Jan 27, 2021"
   ]
  },
  {
   "cell_type": "code",
   "execution_count": 1,
   "metadata": {},
   "outputs": [],
   "source": [
    "import numpy as np\n",
    "import pandas as pd\n",
    "import matplotlib.pyplot as plt\n",
    "\n",
    "import subprocess as sp\n",
    "import sys\n",
    "import os\n",
    "import glob\n",
    "from matplotlib.colors import LogNorm, PowerNorm, Normalize\n",
    "import seaborn as sns\n",
    "\n",
    "import itertools\n"
   ]
  },
  {
   "cell_type": "code",
   "execution_count": 2,
   "metadata": {},
   "outputs": [],
   "source": [
    "%matplotlib widget"
   ]
  },
  {
   "cell_type": "code",
   "execution_count": 3,
   "metadata": {},
   "outputs": [],
   "source": [
    "### Transformation functions for image pixel values\n",
    "def f_transform(x):\n",
    "    return 2.*x/(x + 4.) - 1.\n",
    "\n",
    "def f_invtransform(s):\n",
    "    return 4.*(1. + s)/(1. - s)"
   ]
  },
  {
   "cell_type": "code",
   "execution_count": 4,
   "metadata": {},
   "outputs": [],
   "source": [
    "## Grid plot for 2D images\n",
    "def f_plot_grid(arr,cols=16,fig_size=(15,5)):\n",
    "    ''' Plot a grid of images\n",
    "    '''\n",
    "    size=arr.shape[0]    \n",
    "    rows=int(np.ceil(size/cols))\n",
    "    print(rows,cols)\n",
    "    \n",
    "    fig,axarr=plt.subplots(rows,cols,figsize=fig_size, gridspec_kw = {'wspace':0, 'hspace':0})\n",
    "    if rows==1: axarr=np.reshape(axarr,(rows,cols))\n",
    "    if cols==1: axarr=np.reshape(axarr,(rows,cols))\n",
    "    \n",
    "    for i in range(min(rows*cols,size)):\n",
    "        row,col=int(i/cols),i%cols\n",
    "        try: \n",
    "            axarr[row,col].imshow(arr[i],origin='lower', cmap='YlGn', extent = [0, 128, 0, 128], norm=Normalize(vmin=-1., vmax=1.))\n",
    "        # Drop axis label\n",
    "        except Exception as e:\n",
    "            print('Exception:',e)\n",
    "            pass\n",
    "        temp=plt.setp([a.get_xticklabels() for a in axarr[:-1,:].flatten()], visible=False)\n",
    "        temp=plt.setp([a.get_yticklabels() for a in axarr[:,1:].flatten()], visible=False)\n"
   ]
  },
  {
   "cell_type": "code",
   "execution_count": 5,
   "metadata": {},
   "outputs": [],
   "source": [
    "## Pixel intensity functions\n",
    "\n",
    "def f_batch_histogram(img_arr,bins,norm,hist_range):\n",
    "    ''' Compute histogram statistics for a batch of images'''\n",
    "\n",
    "    ## Extracting the range. This is important to ensure that the different histograms are compared correctly\n",
    "    if hist_range==None : ulim,llim=np.max(img_arr),np.min(img_arr)\n",
    "    else: ulim,llim=hist_range[1],hist_range[0]\n",
    "#         print(ulim,llim)\n",
    "    ### array of histogram of each image\n",
    "    hist_arr=np.array([np.histogram(arr.flatten(), bins=bins, range=(llim,ulim), density=norm) for arr in img_arr],dtype=object) ## range is important\n",
    "    hist=np.stack(hist_arr[:,0]) # First element is histogram array\n",
    "#         print(hist.shape)\n",
    "    bin_list=np.stack(hist_arr[:,1]) # Second element is bin value \n",
    "    ### Compute statistics over histograms of individual images\n",
    "    mean,err=np.mean(hist,axis=0),np.std(hist,axis=0)/np.sqrt(hist.shape[0])\n",
    "    bin_edges=bin_list[0]\n",
    "    centers = (bin_edges[:-1] + bin_edges[1:]) / 2\n",
    "\n",
    "    return mean,err,centers\n",
    "    \n",
    "def f_pixel_intensity(img_arr,bins=25,label='validation',mode='avg',normalize=False,log_scale=True,plot=True, hist_range=None):\n",
    "    '''\n",
    "    Module to compute and plot histogram for pixel intensity of images\n",
    "    Has 2 modes : simple and avg\n",
    "        simple mode: No errors. Just flatten the input image array and compute histogram of full data\n",
    "        avg mode(Default) : \n",
    "            - Compute histogram for each image in the image array\n",
    "            - Compute errors across each histogram \n",
    "    '''\n",
    "    \n",
    "    norm=normalize # Whether to normalize the histogram\n",
    "    \n",
    "    if plot: \n",
    "        plt.figure()\n",
    "        plt.xlabel('Pixel value')\n",
    "        plt.ylabel('Counts')\n",
    "        plt.title('Pixel Intensity Histogram')\n",
    "\n",
    "        if log_scale: plt.yscale('log')\n",
    "    \n",
    "    if mode=='simple':\n",
    "        hist, bin_edges = np.histogram(img_arr.flatten(), bins=bins, density=norm, range=hist_range)\n",
    "        centers = (bin_edges[:-1] + bin_edges[1:]) / 2\n",
    "\n",
    "        if plot: plt.errorbar(centers, hist, fmt='o-', label=label)\n",
    "        return hist,None\n",
    "    \n",
    "    elif mode=='avg': \n",
    "        ### Compute histogram for each image. \n",
    "        mean,err,centers=f_batch_histogram(img_arr,bins,norm,hist_range)\n",
    "\n",
    "        if plot: plt.errorbar(centers,mean,yerr=err,fmt='o-',label=label)  \n",
    "        return mean,err\n",
    "    \n",
    "def f_compare_pixel_intensity(img_lst,label_lst=['img1','img2'],bkgnd_arr=[],log_scale=True, normalize=True, mode='avg',bins=25, hist_range=None):\n",
    "    '''\n",
    "    Module to compute and plot histogram for pixel intensity of images\n",
    "    Has 2 modes : simple and avg\n",
    "    simple mode: No errors. Just flatten the input image array and compute histogram of full data\n",
    "    avg mode(Default) : \n",
    "        - Compute histogram for each image in the image array\n",
    "        - Compute errors across each histogram \n",
    "        \n",
    "    bkgnd_arr : histogram of this array is plotting with +/- sigma band\n",
    "    '''\n",
    "    \n",
    "    norm=normalize # Whether to normalize the histogram\n",
    "    \n",
    "    plt.figure()\n",
    "    \n",
    "    ## Plot background distribution\n",
    "    if len(bkgnd_arr):\n",
    "        if mode=='simple':\n",
    "            hist, bin_edges = np.histogram(bkgnd_arr.flatten(), bins=bins, density=norm, range=hist_range)\n",
    "            centers = (bin_edges[:-1] + bin_edges[1:]) / 2\n",
    "            plt.errorbar(centers, hist, color='k',marker='*',linestyle=':', label='bkgnd')\n",
    "\n",
    "        elif mode=='avg':\n",
    "            ### Compute histogram for each image. \n",
    "            mean,err,centers=f_batch_histogram(bkgnd_arr,bins,norm,hist_range)\n",
    "            plt.plot(centers,mean,linestyle=':',color='k',label='bkgnd')\n",
    "            plt.fill_between(centers, mean - err, mean + err, color='k', alpha=0.4)\n",
    "    \n",
    "    ### Plot the rest of the datasets\n",
    "    for img,label,mrkr in zip(img_lst,label_lst,itertools.cycle('>^*sDHPdpx_')):     \n",
    "        if mode=='simple':\n",
    "            hist, bin_edges = np.histogram(img.flatten(), bins=bins, density=norm, range=hist_range)\n",
    "            centers = (bin_edges[:-1] + bin_edges[1:]) / 2\n",
    "            plt.errorbar(centers, hist, fmt=mrkr+'-', label=label)\n",
    "\n",
    "        elif mode=='avg':\n",
    "            ### Compute histogram for each image. \n",
    "            mean,err,centers=f_batch_histogram(img,bins,norm,hist_range)\n",
    "#             print('Centers',centers)\n",
    "            plt.errorbar(centers,mean,yerr=err,fmt=mrkr+'-',label=label)\n",
    "\n",
    "    if log_scale: \n",
    "        plt.yscale('log')\n",
    "#         plt.xscale('symlog',linthreshx=50)\n",
    "\n",
    "    plt.legend()\n",
    "    plt.xlabel('Pixel value')\n",
    "    plt.ylabel('Counts')\n",
    "    plt.title('Pixel Intensity Histogram')"
   ]
  },
  {
   "cell_type": "code",
   "execution_count": 6,
   "metadata": {},
   "outputs": [],
   "source": [
    "### Spectrum plot functions\n",
    "## numpy code\n",
    "def f_radial_profile_3d(data, center=(None,None)):\n",
    "    ''' Module to compute radial profile of a 2D image '''\n",
    "    \n",
    "    z, y, x = np.indices((data.shape)) # Get a grid of x and y values\n",
    "    \n",
    "    center=[]\n",
    "    if not center:\n",
    "        center = np.array([(x.max()-x.min())/2.0, (y.max()-y.min())/2.0, (z.max()-z.min())/2.0]) # compute centers\n",
    "        \n",
    "    # get radial values of every pair of points\n",
    "    r = np.sqrt((x - center[0])**2 + (y - center[1])**2+ + (z - center[2])**2)\n",
    "    r = r.astype(np.int)\n",
    "    \n",
    "    # Compute histogram of r values\n",
    "    tbin = np.bincount(r.ravel(), data.ravel())\n",
    "    nr = np.bincount(r.ravel()) \n",
    "    radialprofile = tbin / nr\n",
    "    \n",
    "    return radialprofile[1:-1]\n",
    "\n",
    "def f_compute_spectrum_3d(arr):\n",
    "    '''\n",
    "    compute spectrum for a 3D image\n",
    "    '''\n",
    "#     GLOBAL_MEAN=1.0\n",
    "#     arr=((arr - GLOBAL_MEAN)/GLOBAL_MEAN)\n",
    "    y1=np.fft.fftn(arr)\n",
    "    y1=np.fft.fftshift(y1)\n",
    "#     print(y1.shape)\n",
    "    y2=abs(y1)**2\n",
    "    z1=f_radial_profile_3d(y2)\n",
    "    return(z1)\n",
    "   \n",
    "def f_batch_spectrum_3d(arr):\n",
    "    batch_pk=np.array([f_compute_spectrum_3d(i) for i in arr])\n",
    "    return batch_pk\n",
    "\n",
    "### Code ###\n",
    "def f_image_spectrum_3d(x,num_channels):\n",
    "    '''\n",
    "    Compute spectrum when image has a channel index\n",
    "    Data has to be in the form (batch,channel,x,y)\n",
    "    '''\n",
    "    mean=[[] for i in range(num_channels)]    \n",
    "    sdev=[[] for i in range(num_channels)]    \n",
    "\n",
    "    for i in range(num_channels):\n",
    "        arr=x[:,i,:,:,:]\n",
    "#         print(i,arr.shape)\n",
    "        batch_pk=f_batch_spectrum_3d(arr)\n",
    "#         print(batch_pk)\n",
    "        mean[i]=np.mean(batch_pk,axis=0)\n",
    "        sdev[i]=np.var(batch_pk,axis=0)\n",
    "    mean=np.array(mean)\n",
    "    sdev=np.array(sdev)\n",
    "    return mean,sdev\n",
    "\n",
    "\n",
    "def f_plot_spectrum_3d(img_arr,plot=False,label='input',log_scale=True):\n",
    "    '''\n",
    "    Module to compute Average of the 1D spectrum for a batch of 3d images\n",
    "    '''\n",
    "    num = img_arr.shape[0]\n",
    "    Pk = f_batch_spectrum_3d(img_arr)\n",
    "\n",
    "    #mean,std = np.mean(Pk, axis=0),np.std(Pk, axis=0)/np.sqrt(Pk.shape[0])\n",
    "    mean,std = np.mean(Pk, axis=0),np.std(Pk, axis=0)\n",
    "    k=np.arange(len(mean))\n",
    "    \n",
    "    if plot: \n",
    "        plt.figure()\n",
    "        plt.plot(k, mean, 'k:')\n",
    "        plt.plot(k, mean + std, 'k-',label=label)\n",
    "        plt.plot(k, mean - std, 'k-')\n",
    "    #     plt.xscale('log')\n",
    "        if log_scale: plt.yscale('log')\n",
    "        plt.ylabel(r'$P(k)$')\n",
    "        plt.xlabel(r'$k$')\n",
    "        plt.title('Power Spectrum')\n",
    "        plt.legend()\n",
    "\n",
    "    return mean,std\n",
    "\n",
    "\n",
    "def f_compare_spectrum_3d(img_lst,label_lst=['img1','img2'],bkgnd_arr=[],log_scale=True):\n",
    "    '''\n",
    "    Compare the spectrum of 2 sets s: \n",
    "    img_lst contains the set of images arrays, Each is of the form (num_images,height,width)\n",
    "    label_lst contains the labels used in the plot\n",
    "    '''\n",
    "    plt.figure()\n",
    "    \n",
    "    ## Plot background distribution\n",
    "    if len(bkgnd_arr):\n",
    "        Pk= f_batch_spectrum_3d(bkgnd_arr)\n",
    "        mean,err = np.mean(Pk, axis=0),np.std(Pk, axis=0)/np.sqrt(Pk.shape[0])\n",
    "        k=np.arange(len(mean))\n",
    "        plt.plot(k, mean,color='k',linestyle='-',label='bkgnd')    \n",
    "        plt.fill_between(k, mean - err, mean + err, color='k',alpha=0.8)\n",
    "    \n",
    "    \n",
    "    for img_arr,label,mrkr in zip(img_lst,label_lst,itertools.cycle('>^*sDHPdpx_')): \n",
    "        Pk= f_batch_spectrum_3d(img_arr)\n",
    "        mean,err = np.mean(Pk, axis=0),np.std(Pk, axis=0)/np.sqrt(Pk.shape[0])\n",
    "\n",
    "        k=np.arange(len(mean))\n",
    "#         print(mean.shape,std.shape)\n",
    "        plt.fill_between(k, mean - err, mean + err, alpha=0.4)\n",
    "        plt.plot(k, mean, marker=mrkr, linestyle=':',label=label)\n",
    "\n",
    "    if log_scale: plt.yscale('log')\n",
    "    plt.ylabel(r'$P(k)$')\n",
    "    plt.xlabel(r'$k$')\n",
    "    plt.title('Power Spectrum')\n",
    "    plt.legend()  \n",
    "    "
   ]
  },
  {
   "cell_type": "markdown",
   "metadata": {},
   "source": [
    "## Main code"
   ]
  },
  {
   "cell_type": "markdown",
   "metadata": {},
   "source": [
    "### Read data"
   ]
  },
  {
   "cell_type": "code",
   "execution_count": 7,
   "metadata": {},
   "outputs": [
    {
     "name": "stdout",
     "output_type": "stream",
     "text": [
      "(100, 1, 128, 128, 128)\n",
      "(50, 128, 128, 128) (50, 128, 128, 128)\n"
     ]
    }
   ],
   "source": [
    "fname='/global/cfs/cdirs/m3363/vayyar/cosmogan_data/raw_data/3d_data/dataset4_smoothing_const_params_128cube/full_with_smoothing_1.npy'\n",
    "a1=np.load(fname,mmap_mode='r')[:100]\n",
    "## Array a1 should have dimensions: (num_batches, num_channels, xsize,ysize,zsize)\n",
    "print(a1.shape)\n",
    "\n",
    "### Create two smaller arrays for comparison. Take only 1st channel\n",
    "arr1=a1[:50,0,:,:];arr2=a1[50:100,0,:,:]\n",
    "print(arr1.shape,arr2.shape)"
   ]
  },
  {
   "cell_type": "markdown",
   "metadata": {},
   "source": [
    "### Plot 2D grid"
   ]
  },
  {
   "cell_type": "code",
   "execution_count": 10,
   "metadata": {},
   "outputs": [
    {
     "name": "stdout",
     "output_type": "stream",
     "text": [
      "2 8\n"
     ]
    },
    {
     "data": {
      "application/vnd.jupyter.widget-view+json": {
       "model_id": "7fcd43bbbfd345af974ad04fe8c6b927",
       "version_major": 2,
       "version_minor": 0
      },
      "text/plain": [
       "Canvas(toolbar=Toolbar(toolitems=[('Home', 'Reset original view', 'home', 'home'), ('Back', 'Back to previous …"
      ]
     },
     "metadata": {},
     "output_type": "display_data"
    }
   ],
   "source": [
    "img=arr1[:16,:,:,0]\n",
    "f_plot_grid(img,cols=8,fig_size=(12,3))"
   ]
  },
  {
   "cell_type": "markdown",
   "metadata": {},
   "source": [
    "### Pixel intensity histogram"
   ]
  },
  {
   "cell_type": "code",
   "execution_count": 11,
   "metadata": {},
   "outputs": [],
   "source": [
    "## Creating lists to make comparison plots.\n",
    "img_lst=[arr1,arr2]\n",
    "label_lst=['1','2']"
   ]
  },
  {
   "cell_type": "code",
   "execution_count": 12,
   "metadata": {},
   "outputs": [
    {
     "data": {
      "application/vnd.jupyter.widget-view+json": {
       "model_id": "3bbe330b8b3840f4a6286d8695b89daa",
       "version_major": 2,
       "version_minor": 0
      },
      "text/plain": [
       "Canvas(toolbar=Toolbar(toolitems=[('Home', 'Reset original view', 'home', 'home'), ('Back', 'Back to previous …"
      ]
     },
     "metadata": {},
     "output_type": "display_data"
    }
   ],
   "source": [
    "f_compare_pixel_intensity(img_lst,label_lst=label_lst,bkgnd_arr=[],log_scale=True, normalize=True, mode='avg',bins=25, hist_range=None)"
   ]
  },
  {
   "cell_type": "markdown",
   "metadata": {},
   "source": [
    "### Plot spectrum"
   ]
  },
  {
   "cell_type": "code",
   "execution_count": 14,
   "metadata": {},
   "outputs": [],
   "source": [
    "img_lst=[arr1[:5],arr2[20:45]]\n",
    "label_lst=['1','2']"
   ]
  },
  {
   "cell_type": "code",
   "execution_count": 15,
   "metadata": {},
   "outputs": [
    {
     "data": {
      "application/vnd.jupyter.widget-view+json": {
       "model_id": "d399fdac397f426ab0b8e0c7f1f2e8a5",
       "version_major": 2,
       "version_minor": 0
      },
      "text/plain": [
       "Canvas(toolbar=Toolbar(toolitems=[('Home', 'Reset original view', 'home', 'home'), ('Back', 'Back to previous …"
      ]
     },
     "metadata": {},
     "output_type": "display_data"
    }
   ],
   "source": [
    "f_compare_spectrum_3d(img_lst)"
   ]
  },
  {
   "cell_type": "code",
   "execution_count": 2,
   "metadata": {},
   "outputs": [
    {
     "name": "stdout",
     "output_type": "stream",
     "text": [
      "[NbConvertApp] Converting notebook 3_inspect_images.ipynb to script\n",
      "[NbConvertApp] Writing 10646 bytes to 3_inspect_images.py\n"
     ]
    }
   ],
   "source": [
    "! jupyter nbconvert --to script 3_inspect_images.ipynb"
   ]
  },
  {
   "cell_type": "code",
   "execution_count": null,
   "metadata": {},
   "outputs": [],
   "source": []
  }
 ],
 "metadata": {
  "kernelspec": {
   "display_name": "v3",
   "language": "python",
   "name": "v-jpt-3"
  },
  "language_info": {
   "codemirror_mode": {
    "name": "ipython",
    "version": 3
   },
   "file_extension": ".py",
   "mimetype": "text/x-python",
   "name": "python",
   "nbconvert_exporter": "python",
   "pygments_lexer": "ipython3",
   "version": "3.8.6"
  }
 },
 "nbformat": 4,
 "nbformat_minor": 4
}

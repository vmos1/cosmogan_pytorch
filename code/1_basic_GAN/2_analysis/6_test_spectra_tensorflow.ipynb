{
 "cells": [
  {
   "cell_type": "markdown",
   "metadata": {},
   "source": [
    "## Fixing the issue with losses not matching in 2 codes\n"
   ]
  },
  {
   "cell_type": "code",
   "execution_count": 1,
   "metadata": {},
   "outputs": [],
   "source": [
    "import numpy as np\n",
    "import matplotlib.pyplot as plt\n",
    "# import pandas as pd\n",
    "\n",
    "import subprocess as sp\n",
    "import sys\n",
    "import os\n",
    "import glob\n",
    "import pickle \n",
    "\n",
    "from matplotlib.colors import LogNorm, PowerNorm, Normalize\n",
    "\n",
    "import pandas as pd\n",
    "\n",
    "import argparse\n",
    "import os\n",
    "import random\n",
    "\n",
    "\n",
    "import matplotlib.pyplot as plt\n",
    "import matplotlib.animation as animation\n",
    "from IPython.display import HTML\n",
    "\n",
    "# from torch.utils.data import DataLoader, TensorDataset\n",
    "\n",
    "import time\n",
    "from datetime import datetime\n",
    "import glob\n",
    "import pickle\n",
    "import yaml\n",
    "\n",
    "from scipy import fftpack\n"
   ]
  },
  {
   "cell_type": "code",
   "execution_count": 3,
   "metadata": {},
   "outputs": [],
   "source": [
    "import tensorflow as tf"
   ]
  },
  {
   "cell_type": "code",
   "execution_count": 4,
   "metadata": {},
   "outputs": [
    {
     "name": "stdout",
     "output_type": "stream",
     "text": [
      "(1000, 1, 128, 128)\n"
     ]
    }
   ],
   "source": [
    "ip_fname='/global/cfs/cdirs/m3363/vayyar/cosmogan_data/raw_data/128_square/dataset_2_smoothing_200k/norm_1_train_val.npy'\n",
    "img=np.load(ip_fname)[:1000].transpose(0,1,2,3)\n",
    "print(img.shape)"
   ]
  },
  {
   "cell_type": "code",
   "execution_count": 5,
   "metadata": {},
   "outputs": [],
   "source": [
    "def f_get_azimuthalAverage(image, center=None):\n",
    "    \"\"\"\n",
    "    Calculate the azimuthally averaged radial profile.\n",
    "\n",
    "    image - The 2D image\n",
    "    center - The [x,y] pixel coordinates used as the center. The default is \n",
    "             None, which then uses the center of the image (including \n",
    "             fracitonal pixels).\n",
    "    source: https://www.astrobetter.com/blog/2010/03/03/fourier-transforms-of-images-in-python/\n",
    "    \"\"\"\n",
    "    # Create a grid of points with x and y coordinates\n",
    "    y, x = np.indices(image.shape)\n",
    "    \n",
    "    if not center:\n",
    "        center = np.array([(x.max()-x.min())/2.0, (y.max()-y.min())/2.0])\n",
    "\n",
    "    # Get the radial coordinate for every grid point. Array has the shape of image\n",
    "    r = np.hypot(x - center[0], y - center[1])\n",
    "\n",
    "    ind = np.argsort(r.flat) ### Get indices that sort the \"r\" array in ascending order.\n",
    "\n",
    "    r_sorted = r.flat[ind]     ### Sort the \"r\" array\n",
    "    \n",
    "    i_sorted = image.flat[ind]   ### Sort the image points according to the radial coordinate\n",
    "\n",
    "    # Get the integer part of the radii (bin size = 1)\n",
    "    r_int = r_sorted.astype(int)\n",
    "\n",
    "    # Find all pixels that fall within each radial bin.\n",
    "    deltar = r_int[1:] - r_int[:-1]  # Assumes all radii represented\n",
    "    rind = np.where(deltar)[0]       # location of changed radius\n",
    "    nr = rind[1:] - rind[:-1]        # number of radius bin\n",
    "    \n",
    "    # Cumulative sum to figure out sums for each radius bin\n",
    "    csim = np.cumsum(i_sorted, dtype=float)\n",
    "    tbin = csim[rind[1:]] - csim[rind[:-1]]\n",
    "\n",
    "    radial_prof = tbin / nr\n",
    "\n",
    "    return radial_prof"
   ]
  },
  {
   "cell_type": "code",
   "execution_count": 6,
   "metadata": {},
   "outputs": [
    {
     "data": {
      "text/plain": [
       "array([-0.79014824, -0.79390586, -0.78008761, -0.77058277, -0.72040414,\n",
       "       -0.70957358, -0.66486405, -0.63041123, -0.5706561 , -0.54520678,\n",
       "       -0.55147036, -0.56255512, -0.59961115, -0.61376042, -0.63936411,\n",
       "       -0.59064076, -0.62994025, -0.64525025, -0.63018659, -0.62314733,\n",
       "       -0.65984874, -0.66041437, -0.63758972, -0.65422838, -0.67418553,\n",
       "       -0.71248287, -0.72832141, -0.73619783, -0.71805094, -0.67829857,\n",
       "       -0.70974613, -0.69615242, -0.69571873, -0.69538734, -0.69893509,\n",
       "       -0.71637498, -0.73063947, -0.75288642, -0.7419325 , -0.73731766,\n",
       "       -0.74956096, -0.75855984, -0.74304194, -0.73655171, -0.73438776,\n",
       "       -0.73108071, -0.71476648, -0.71962477, -0.73006291, -0.74633861,\n",
       "       -0.75474244, -0.75125576, -0.75006711, -0.73131409, -0.70210458,\n",
       "       -0.66954203, -0.66606046, -0.69497293, -0.72430454, -0.74387425,\n",
       "       -0.74642164, -0.72114354, -0.73102843, -0.73997375, -0.75282545,\n",
       "       -0.71745669, -0.71756587, -0.75438823, -0.76098825, -0.77632543,\n",
       "       -0.78479372, -0.79249175, -0.82713663, -0.79047178, -0.77250707,\n",
       "       -0.71826964, -0.68733991, -0.71713748, -0.6970043 , -0.75786599,\n",
       "       -0.7431556 , -0.77243613, -0.76833113, -0.69060804, -0.71227503,\n",
       "       -0.79641811, -0.8241491 , -0.82182841])"
      ]
     },
     "execution_count": 6,
     "metadata": {},
     "output_type": "execute_result"
    }
   ],
   "source": [
    "f_get_azimuthalAverage(img[0,0,:,:])"
   ]
  },
  {
   "cell_type": "code",
   "execution_count": 42,
   "metadata": {},
   "outputs": [],
   "source": [
    "def azimAvg_tensor(image, center=None):\n",
    "    \"\"\"\n",
    "    Calculate the azimuthally averaged power spectrum (1D), for a batch of image tensors.\n",
    "    image - The image tensor, [N,C,H,W] format\n",
    "    center - The [x,y] pixel coordinates used as the center. The default is \n",
    "             None, which then uses the center of the image (including \n",
    "             fractional pixels).\n",
    "    \n",
    "    \"\"\"\n",
    "    batch, channel, height, width = image.shape\n",
    "    # Calculate the indices from the image\n",
    "    y, x = np.indices([height, width])\n",
    "    y = np.tile(y, (batch, channel, 1, 1))\n",
    "    x = np.tile(x, (batch, channel, 1, 1))\n",
    "    \n",
    "    if not center:\n",
    "        center = np.array([(x.max()-x.min())/2.0, (x.max()-x.min())/2.0])\n",
    "\n",
    "    r = np.hypot(x - center[0], y - center[1])\n",
    "\n",
    "    # Get sorted radii\n",
    "    ind = tf.argsort(tf.reshape(r, (batch, channel, -1,)))\n",
    "    r_sorted = tf.gather(tf.reshape(r, (batch, channel, -1,)), ind, batch_dims=2)\n",
    "    i_sorted = tf.gather(tf.reshape(image, (batch, channel, -1,)), ind, batch_dims=2)\n",
    "\n",
    "    \n",
    "    # Get the integer part of the radii (bin size = 1)\n",
    "    r_int = tf.cast(r_sorted, tf.int32)\n",
    "\n",
    "    # Find all pixels that fall within each radial bin.\n",
    "    deltar = r_int[:,:,1:] - r_int[:,:,:-1]  # Assumes all radii represented\n",
    "    rind = tf.reshape(tf.where(deltar)[:,2], (batch, -1))    # location of changes in radius\n",
    "    rind = tf.expand_dims(rind, axis=1)\n",
    "    nr = tf.cast(rind[:,:,1:] - rind[:,:,:-1], tf.float32)        # number of radius bin\n",
    "\n",
    "    # Cumulative sum to figure out sums for each radius bin\n",
    "    \n",
    "    csum = tf.cumsum(i_sorted, axis=-1)\n",
    "    print(csum.shape,rind.shape,nr.shape)\n",
    "    tbin = tf.gather(csum, rind[:,:,1:], batch_dims=2) - tf.gather(csum, rind[:,:,:-1], batch_dims=2)\n",
    "    radial_prof = tbin / nr\n",
    "\n",
    "    return radial_prof"
   ]
  },
  {
   "cell_type": "code",
   "execution_count": 43,
   "metadata": {},
   "outputs": [
    {
     "name": "stdout",
     "output_type": "stream",
     "text": [
      "(1, 1, 16384) (1, 1, 89) (1, 1, 88)\n"
     ]
    }
   ],
   "source": [
    "ans_tf=azimAvg_tensor(img[:1,:,:,:])"
   ]
  },
  {
   "cell_type": "code",
   "execution_count": 41,
   "metadata": {},
   "outputs": [
    {
     "name": "stdout",
     "output_type": "stream",
     "text": [
      "(1, 1, 128, 128)\n",
      "[[[-0.7901482  -0.7939058  -0.7800873  -0.77058274 -0.7204039\n",
      "   -0.70957375 -0.6648636  -0.63041115 -0.5706558  -0.5452073\n",
      "   -0.55147195 -0.5625547  -0.59961057 -0.613761   -0.6393636\n",
      "   -0.5906421  -0.6299393  -0.64525074 -0.6301893  -0.6231472\n",
      "   -0.6598492  -0.6604134  -0.6375889  -0.6542273  -0.6741863\n",
      "   -0.71248347 -0.72832435 -0.7361968  -0.7180521  -0.6782974\n",
      "   -0.7097515  -0.69615996 -0.6957218  -0.6953781  -0.6989241\n",
      "   -0.71637565 -0.7306358  -0.75288665 -0.74193496 -0.7373169\n",
      "   -0.74956334 -0.75856066 -0.74304026 -0.7365396  -0.73439676\n",
      "   -0.7310878  -0.71477157 -0.7196271  -0.73006076 -0.7463304\n",
      "   -0.75475913 -0.7512698  -0.7500603  -0.7313202  -0.7021073\n",
      "   -0.6695529  -0.6660572  -0.6949694  -0.72430277 -0.74386305\n",
      "   -0.74643034 -0.7211322  -0.73102295 -0.7399998  -0.75281537\n",
      "   -0.7174754  -0.7175293  -0.75436455 -0.7610016  -0.7763415\n",
      "   -0.7848099  -0.7924913  -0.82716674 -0.7904925  -0.7725665\n",
      "   -0.7182792  -0.68735826 -0.717168   -0.6970117  -0.7578458\n",
      "   -0.74316406 -0.77246094 -0.7682902  -0.69058764 -0.7122628\n",
      "   -0.79641384 -0.8240153  -0.8218587 ]]]\n"
     ]
    }
   ],
   "source": [
    "image=img[:1,:,:,:]\n",
    "print(image.shape)\n",
    "batch, channel, height, width = image.shape\n",
    "# Calculate the indices from the image\n",
    "y, x = np.indices([height, width])\n",
    "y = np.tile(y, (batch, channel, 1, 1))\n",
    "x = np.tile(x, (batch, channel, 1, 1))\n",
    "center=[]\n",
    "if not center:\n",
    "    center = np.array([(x.max()-x.min())/2.0, (x.max()-x.min())/2.0])\n",
    "r = np.hypot(x - center[0], y - center[1])\n",
    "# Get sorted radii\n",
    "ind = tf.argsort(tf.reshape(r, (batch, channel, -1,)))\n",
    "r_sorted = tf.gather(tf.reshape(r, (batch, channel, -1,)), ind, batch_dims=2)\n",
    "i_sorted = tf.gather(tf.reshape(image, (batch, channel, -1,)), ind, batch_dims=2)\n",
    "# Get the integer part of the radii (bin size = 1)\n",
    "r_int = tf.cast(r_sorted, tf.int32)\n",
    "\n",
    "# Find all pixels that fall within each radial bin.\n",
    "deltar = r_int[:,:,1:] - r_int[:,:,:-1]  # Assumes all radii represented\n",
    "rind = tf.reshape(tf.where(deltar)[:,2], (batch, -1))    # location of changes in radius\n",
    "rind = tf.expand_dims(rind, axis=1)\n",
    "nr = tf.cast(rind[:,:,1:] - rind[:,:,:-1], tf.float32)        # number of radius bin\n",
    "\n",
    "# Cumulative sum to figure out sums for each radius bin\n",
    "\n",
    "csum = tf.cumsum(i_sorted, axis=-1)\n",
    "tbin = tf.gather(csum, rind[:,:,1:], batch_dims=2) - tf.gather(csum, rind[:,:,:-1], batch_dims=2)\n",
    "radial_prof = tbin / nr\n",
    "\n",
    "print(radial_prof.numpy())"
   ]
  },
  {
   "cell_type": "code",
   "execution_count": 40,
   "metadata": {},
   "outputs": [
    {
     "data": {
      "text/plain": [
       "<tf.Tensor: id=779, shape=(1, 1, 16384), dtype=float32, numpy=\n",
       "array([[[-8.1423044e-01, -1.5396705e+00, -2.2661500e+00, ...,\n",
       "         -1.1776366e+04, -1.1777298e+04, -1.1778225e+04]]], dtype=float32)>"
      ]
     },
     "execution_count": 40,
     "metadata": {},
     "output_type": "execute_result"
    }
   ],
   "source": [
    "csum"
   ]
  },
  {
   "cell_type": "code",
   "execution_count": 38,
   "metadata": {},
   "outputs": [
    {
     "data": {
      "text/plain": [
       "<tf.Tensor: id=777, shape=(1, 1, 88), dtype=float32, numpy=\n",
       "array([[[  8.,  20.,  20.,  28.,  32.,  44.,  52.,  48.,  60.,  68.,\n",
       "          64.,  92.,  76., 100.,  96., 100., 108., 104., 140., 132.,\n",
       "         132., 136., 140., 172., 152., 164., 180., 172., 184., 196.,\n",
       "         204., 208., 204., 212., 208., 244., 244., 244., 232., 260.,\n",
       "         260., 264., 284., 284., 292., 280., 284., 324., 304., 324.,\n",
       "         308., 328., 356., 324., 356., 360., 364., 380., 344., 380.,\n",
       "         412., 396., 400., 308., 316., 272., 252., 228., 192., 228.,\n",
       "         172., 180., 160., 140., 148., 112., 124., 100., 100.,  88.,\n",
       "          60.,  84.,  48.,  68.,  28.,  36.,  24.,  12.]]], dtype=float32)>"
      ]
     },
     "execution_count": 38,
     "metadata": {},
     "output_type": "execute_result"
    }
   ],
   "source": [
    "nr"
   ]
  },
  {
   "cell_type": "code",
   "execution_count": null,
   "metadata": {},
   "outputs": [],
   "source": [
    "# ans_tf.numpy()"
   ]
  },
  {
   "cell_type": "code",
   "execution_count": null,
   "metadata": {},
   "outputs": [],
   "source": [
    "# f_get_azimuthalAverage(img[0,0,:,:])"
   ]
  },
  {
   "cell_type": "code",
   "execution_count": 34,
   "metadata": {},
   "outputs": [
    {
     "data": {
      "text/plain": [
       "[<matplotlib.lines.Line2D at 0x2aaaf1a072d0>]"
      ]
     },
     "execution_count": 34,
     "metadata": {},
     "output_type": "execute_result"
    },
    {
     "data": {
      "image/png": "[encoded data removed]",
      "text/plain": [
       "<Figure size 432x288 with 1 Axes>"
      ]
     },
     "metadata": {
      "needs_background": "light"
     },
     "output_type": "display_data"
    }
   ],
   "source": [
    "plt.figure()\n",
    "plt.plot(deltar.numpy().flatten())"
   ]
  },
  {
   "cell_type": "code",
   "execution_count": null,
   "metadata": {},
   "outputs": [],
   "source": []
  }
 ],
 "metadata": {
  "kernelspec": {
   "display_name": "tensorflow-v2.0.0-cpu",
   "language": "python",
   "name": "tensorflow_intel_2.0.0-py37"
  },
  "language_info": {
   "codemirror_mode": {
    "name": "ipython",
    "version": 3
   },
   "file_extension": ".py",
   "mimetype": "text/x-python",
   "name": "python",
   "nbconvert_exporter": "python",
   "pygments_lexer": "ipython3",
   "version": "3.7.4"
  }
 },
 "nbformat": 4,
 "nbformat_minor": 4
}

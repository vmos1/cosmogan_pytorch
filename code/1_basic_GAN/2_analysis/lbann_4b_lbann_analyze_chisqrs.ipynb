{
 "cells": [
  {
   "cell_type": "markdown",
   "metadata": {},
   "source": [
    "# Extract data from output files\n",
    "### Analyze the output from a single LBANN run\n",
    "March 9, 2020 \\\n",
    "April 6, 2020 : to store files in order of epochs \\\n",
    "April 21, 2020: added jupyter widgets to compare pixel intensity plots \\\n",
    "July 30, 2020: Perform analysis with stored histograms."
   ]
  },
  {
   "cell_type": "code",
   "execution_count": 1,
   "metadata": {},
   "outputs": [],
   "source": [
    "import numpy as np\n",
    "import matplotlib.pyplot as plt\n",
    "import seaborn as sns\n",
    "import pandas as pd\n",
    "\n",
    "import subprocess as sp\n",
    "import os\n",
    "import glob\n",
    "import sys\n",
    "\n",
    "import itertools\n",
    "import time\n",
    "\n",
    "from ipywidgets import *"
   ]
  },
  {
   "cell_type": "code",
   "execution_count": 2,
   "metadata": {},
   "outputs": [],
   "source": [
    "%matplotlib widget"
   ]
  },
  {
   "cell_type": "code",
   "execution_count": 3,
   "metadata": {},
   "outputs": [],
   "source": [
    "sys.path.append('/global/u1/v/vpa/project/jpt_notebooks/Cosmology/Cosmo_GAN/repositories/lbann_cosmogan/3_analysis')\n",
    "from modules_image_analysis import *"
   ]
  },
  {
   "cell_type": "code",
   "execution_count": 4,
   "metadata": {},
   "outputs": [],
   "source": [
    "### Transformation functions for image pixel values\n",
    "def f_transform(x):\n",
    "    return 2.*x/(x + 4. + 1e-8) - 1.\n",
    "\n",
    "def f_invtransform(s):\n",
    "    return 4.*(1. + s)/(1. - s + 1e-8)"
   ]
  },
  {
   "cell_type": "markdown",
   "metadata": {},
   "source": [
    "## Extract image data "
   ]
  },
  {
   "cell_type": "code",
   "execution_count": null,
   "metadata": {},
   "outputs": [],
   "source": []
  },
  {
   "cell_type": "markdown",
   "metadata": {},
   "source": [
    "## Read dataframe"
   ]
  },
  {
   "cell_type": "code",
   "execution_count": 5,
   "metadata": {},
   "outputs": [
    {
     "data": {
      "application/vnd.jupyter.widget-view+json": {
       "model_id": "26a830d44a254578a513e44496f253b8",
       "version_major": 2,
       "version_minor": 0
      },
      "text/plain": [
       "interactive(children=(Select(description='x', options=('scratch', 'proj'), value='scratch'), Output()), _dom_c…"
      ]
     },
     "metadata": {},
     "output_type": "display_data"
    }
   ],
   "source": [
    "dict1={'scratch':'/global/cscratch1/sd/vpa/proj/cosmogan/results_dir/128square/',\n",
    "    'proj':'/global/cfs/cdirs/m3363/vayyar/cosmogan_data/results_data/'}\n",
    "\n",
    "u=interactive(lambda x: dict1[x], x=Select(options=dict1.keys()))\n",
    "display(u)\n"
   ]
  },
  {
   "cell_type": "code",
   "execution_count": 7,
   "metadata": {},
   "outputs": [
    {
     "data": {
      "application/vnd.jupyter.widget-view+json": {
       "model_id": "8863913cfbda41839b5ed30154b384ec",
       "version_major": 2,
       "version_minor": 0
      },
      "text/plain": [
       "interactive(children=(Dropdown(description='x', options=('20200911_083711_bsize64_spec_test_128_nospec', '2020…"
      ]
     },
     "metadata": {},
     "output_type": "display_data"
    }
   ],
   "source": [
    "parent_dir=u.result\n",
    "dir_lst=[i.split('/')[-1] for i in glob.glob(parent_dir+'20*')]\n",
    "w=interactive(lambda x: x, x=Dropdown(options=dir_lst))\n",
    "display(w)"
   ]
  },
  {
   "cell_type": "code",
   "execution_count": 8,
   "metadata": {},
   "outputs": [
    {
     "name": "stdout",
     "output_type": "stream",
     "text": [
      "/global/cscratch1/sd/vpa/proj/cosmogan/results_dir/128square/20200914_220904_bsize64_spec_test_128_withspec\n"
     ]
    }
   ],
   "source": [
    "result=w.result\n",
    "main_dir=parent_dir+result\n",
    "print(main_dir)"
   ]
  },
  {
   "cell_type": "code",
   "execution_count": 9,
   "metadata": {},
   "outputs": [],
   "source": [
    "# main_dir=''"
   ]
  },
  {
   "cell_type": "code",
   "execution_count": 10,
   "metadata": {},
   "outputs": [],
   "source": [
    "### Load data\n",
    "df=pd.read_pickle(main_dir+'/df_processed.pkle')\n",
    "df[['epoch','step']]=df[['epoch','step']].astype(int)\n",
    "df['label']=df.epoch.astype(str)+'-'+df.step.astype(str) # Add label column for plotting"
   ]
  },
  {
   "cell_type": "code",
   "execution_count": 11,
   "metadata": {},
   "outputs": [
    {
     "name": "stdout",
     "output_type": "stream",
     "text": [
      "(140640, 20)\n"
     ]
    },
    {
     "data": {
      "text/html": [
       "<div>\n",
       "<style scoped>\n",
       "    .dataframe tbody tr th:only-of-type {\n",
       "        vertical-align: middle;\n",
       "    }\n",
       "\n",
       "    .dataframe tbody tr th {\n",
       "        vertical-align: top;\n",
       "    }\n",
       "\n",
       "    .dataframe thead th {\n",
       "        text-align: right;\n",
       "    }\n",
       "</style>\n",
       "<table border=\"1\" class=\"dataframe\">\n",
       "  <thead>\n",
       "    <tr style=\"text-align: right;\">\n",
       "      <th></th>\n",
       "      <th>epoch</th>\n",
       "      <th>step</th>\n",
       "      <th>img_type</th>\n",
       "      <th>fname</th>\n",
       "      <th>chi_1a</th>\n",
       "      <th>chi_1b</th>\n",
       "      <th>chi_1c</th>\n",
       "      <th>chi_1</th>\n",
       "      <th>chi_2</th>\n",
       "      <th>chi_imgvar</th>\n",
       "      <th>chi_spec1</th>\n",
       "      <th>chi_spec2</th>\n",
       "      <th>num_large</th>\n",
       "      <th>num_vlarge</th>\n",
       "      <th>hist_val</th>\n",
       "      <th>hist_err</th>\n",
       "      <th>hist_bin_centers</th>\n",
       "      <th>spec_val</th>\n",
       "      <th>spec_err</th>\n",
       "      <th>label</th>\n",
       "    </tr>\n",
       "  </thead>\n",
       "  <tbody>\n",
       "    <tr>\n",
       "      <th>0</th>\n",
       "      <td>0</td>\n",
       "      <td>0</td>\n",
       "      <td>train_gen</td>\n",
       "      <td>/global/cscratch1/sd/vpa/proj/cosmogan/results...</td>\n",
       "      <td>188.919295</td>\n",
       "      <td>4.752520</td>\n",
       "      <td>0.013036</td>\n",
       "      <td>193.684851</td>\n",
       "      <td>12.402487</td>\n",
       "      <td>26.132894</td>\n",
       "      <td>17735.385188</td>\n",
       "      <td>2.903151e+07</td>\n",
       "      <td>0</td>\n",
       "      <td>0</td>\n",
       "      <td>[0.00021404027994051573, 0.05836540469577179, ...</td>\n",
       "      <td>[5.26696921090502e-05, 0.00262919138735563, 0....</td>\n",
       "      <td>[-1.031746031584782, -0.6161616169043975, -0.3...</td>\n",
       "      <td>[56721116.45792523, 2266.702792803757, 1044.62...</td>\n",
       "      <td>[49429.14483162096, 68.58417266486025, 37.4961...</td>\n",
       "      <td>0-0</td>\n",
       "    </tr>\n",
       "    <tr>\n",
       "      <th>1</th>\n",
       "      <td>0</td>\n",
       "      <td>1</td>\n",
       "      <td>train_gen</td>\n",
       "      <td>/global/cscratch1/sd/vpa/proj/cosmogan/results...</td>\n",
       "      <td>238.548875</td>\n",
       "      <td>5.352387</td>\n",
       "      <td>0.013186</td>\n",
       "      <td>243.914448</td>\n",
       "      <td>14.278033</td>\n",
       "      <td>30.975412</td>\n",
       "      <td>8854.748195</td>\n",
       "      <td>1.319088e+07</td>\n",
       "      <td>0</td>\n",
       "      <td>0</td>\n",
       "      <td>[4.693865788169204e-05, 0.029790490911596794, ...</td>\n",
       "      <td>[1.1144842749475391e-05, 0.0016189433612405334...</td>\n",
       "      <td>[-1.031746031584782, -0.6161616169043975, -0.3...</td>\n",
       "      <td>[52189522.432882756, 5458.261089618551, 1901.3...</td>\n",
       "      <td>[98812.95971382115, 176.00371938674039, 61.038...</td>\n",
       "      <td>0-1</td>\n",
       "    </tr>\n",
       "    <tr>\n",
       "      <th>2</th>\n",
       "      <td>0</td>\n",
       "      <td>2</td>\n",
       "      <td>train_gen</td>\n",
       "      <td>/global/cscratch1/sd/vpa/proj/cosmogan/results...</td>\n",
       "      <td>305.103441</td>\n",
       "      <td>6.876216</td>\n",
       "      <td>0.013186</td>\n",
       "      <td>311.992843</td>\n",
       "      <td>16.582324</td>\n",
       "      <td>35.608395</td>\n",
       "      <td>5586.276721</td>\n",
       "      <td>9.477785e+06</td>\n",
       "      <td>0</td>\n",
       "      <td>0</td>\n",
       "      <td>[7.510185261070727e-06, 0.013805061600015982, ...</td>\n",
       "      <td>[3.635852805382416e-06, 0.000819668697804994, ...</td>\n",
       "      <td>[-1.031746031584782, -0.6161616169043975, -0.3...</td>\n",
       "      <td>[47665268.64489394, 12155.791003553197, 3623.0...</td>\n",
       "      <td>[155416.24249774014, 296.77206865816515, 96.47...</td>\n",
       "      <td>0-2</td>\n",
       "    </tr>\n",
       "    <tr>\n",
       "      <th>3</th>\n",
       "      <td>0</td>\n",
       "      <td>3</td>\n",
       "      <td>train_gen</td>\n",
       "      <td>/global/cscratch1/sd/vpa/proj/cosmogan/results...</td>\n",
       "      <td>400.746239</td>\n",
       "      <td>9.788279</td>\n",
       "      <td>0.013186</td>\n",
       "      <td>410.547704</td>\n",
       "      <td>19.579865</td>\n",
       "      <td>38.989692</td>\n",
       "      <td>4988.186476</td>\n",
       "      <td>1.218449e+07</td>\n",
       "      <td>0</td>\n",
       "      <td>0</td>\n",
       "      <td>[0.0, 0.0048859119490545985, 0.133558422441453...</td>\n",
       "      <td>[0.0, 0.00034019621275051194, 0.00247884888666...</td>\n",
       "      <td>[-1.031746031584782, -0.6161616169043975, -0.3...</td>\n",
       "      <td>[43211358.01204732, 20322.56252185628, 5744.85...</td>\n",
       "      <td>[174205.08008122293, 490.7121617184416, 143.97...</td>\n",
       "      <td>0-3</td>\n",
       "    </tr>\n",
       "    <tr>\n",
       "      <th>4</th>\n",
       "      <td>0</td>\n",
       "      <td>4</td>\n",
       "      <td>train_gen</td>\n",
       "      <td>/global/cscratch1/sd/vpa/proj/cosmogan/results...</td>\n",
       "      <td>533.948721</td>\n",
       "      <td>15.445696</td>\n",
       "      <td>0.013186</td>\n",
       "      <td>549.407603</td>\n",
       "      <td>23.508774</td>\n",
       "      <td>42.566878</td>\n",
       "      <td>5132.435991</td>\n",
       "      <td>1.466475e+07</td>\n",
       "      <td>0</td>\n",
       "      <td>0</td>\n",
       "      <td>[0.0, 0.0008910298361198608, 0.068541437446182...</td>\n",
       "      <td>[0.0, 7.789009261683955e-05, 0.001622468667198...</td>\n",
       "      <td>[-1.031746031584782, -0.6161616169043975, -0.3...</td>\n",
       "      <td>[38971199.548148364, 28604.48045221006, 7959.0...</td>\n",
       "      <td>[165333.33079042763, 565.3834694462739, 158.65...</td>\n",
       "      <td>0-4</td>\n",
       "    </tr>\n",
       "  </tbody>\n",
       "</table>\n",
       "</div>"
      ],
      "text/plain": [
       "   epoch  step   img_type                                              fname  \\\n",
       "0      0     0  train_gen  /global/cscratch1/sd/vpa/proj/cosmogan/results...   \n",
       "1      0     1  train_gen  /global/cscratch1/sd/vpa/proj/cosmogan/results...   \n",
       "2      0     2  train_gen  /global/cscratch1/sd/vpa/proj/cosmogan/results...   \n",
       "3      0     3  train_gen  /global/cscratch1/sd/vpa/proj/cosmogan/results...   \n",
       "4      0     4  train_gen  /global/cscratch1/sd/vpa/proj/cosmogan/results...   \n",
       "\n",
       "       chi_1a     chi_1b    chi_1c       chi_1      chi_2  chi_imgvar  \\\n",
       "0  188.919295   4.752520  0.013036  193.684851  12.402487   26.132894   \n",
       "1  238.548875   5.352387  0.013186  243.914448  14.278033   30.975412   \n",
       "2  305.103441   6.876216  0.013186  311.992843  16.582324   35.608395   \n",
       "3  400.746239   9.788279  0.013186  410.547704  19.579865   38.989692   \n",
       "4  533.948721  15.445696  0.013186  549.407603  23.508774   42.566878   \n",
       "\n",
       "      chi_spec1     chi_spec2  num_large  num_vlarge  \\\n",
       "0  17735.385188  2.903151e+07          0           0   \n",
       "1   8854.748195  1.319088e+07          0           0   \n",
       "2   5586.276721  9.477785e+06          0           0   \n",
       "3   4988.186476  1.218449e+07          0           0   \n",
       "4   5132.435991  1.466475e+07          0           0   \n",
       "\n",
       "                                            hist_val  \\\n",
       "0  [0.00021404027994051573, 0.05836540469577179, ...   \n",
       "1  [4.693865788169204e-05, 0.029790490911596794, ...   \n",
       "2  [7.510185261070727e-06, 0.013805061600015982, ...   \n",
       "3  [0.0, 0.0048859119490545985, 0.133558422441453...   \n",
       "4  [0.0, 0.0008910298361198608, 0.068541437446182...   \n",
       "\n",
       "                                            hist_err  \\\n",
       "0  [5.26696921090502e-05, 0.00262919138735563, 0....   \n",
       "1  [1.1144842749475391e-05, 0.0016189433612405334...   \n",
       "2  [3.635852805382416e-06, 0.000819668697804994, ...   \n",
       "3  [0.0, 0.00034019621275051194, 0.00247884888666...   \n",
       "4  [0.0, 7.789009261683955e-05, 0.001622468667198...   \n",
       "\n",
       "                                    hist_bin_centers  \\\n",
       "0  [-1.031746031584782, -0.6161616169043975, -0.3...   \n",
       "1  [-1.031746031584782, -0.6161616169043975, -0.3...   \n",
       "2  [-1.031746031584782, -0.6161616169043975, -0.3...   \n",
       "3  [-1.031746031584782, -0.6161616169043975, -0.3...   \n",
       "4  [-1.031746031584782, -0.6161616169043975, -0.3...   \n",
       "\n",
       "                                            spec_val  \\\n",
       "0  [56721116.45792523, 2266.702792803757, 1044.62...   \n",
       "1  [52189522.432882756, 5458.261089618551, 1901.3...   \n",
       "2  [47665268.64489394, 12155.791003553197, 3623.0...   \n",
       "3  [43211358.01204732, 20322.56252185628, 5744.85...   \n",
       "4  [38971199.548148364, 28604.48045221006, 7959.0...   \n",
       "\n",
       "                                            spec_err label  \n",
       "0  [49429.14483162096, 68.58417266486025, 37.4961...   0-0  \n",
       "1  [98812.95971382115, 176.00371938674039, 61.038...   0-1  \n",
       "2  [155416.24249774014, 296.77206865816515, 96.47...   0-2  \n",
       "3  [174205.08008122293, 490.7121617184416, 143.97...   0-3  \n",
       "4  [165333.33079042763, 565.3834694462739, 158.65...   0-4  "
      ]
     },
     "execution_count": 11,
     "metadata": {},
     "output_type": "execute_result"
    }
   ],
   "source": [
    "print(df.shape)\n",
    "df.head()\n"
   ]
  },
  {
   "cell_type": "code",
   "execution_count": null,
   "metadata": {},
   "outputs": [],
   "source": []
  },
  {
   "cell_type": "markdown",
   "metadata": {},
   "source": [
    "### View best epochs"
   ]
  },
  {
   "cell_type": "markdown",
   "metadata": {},
   "source": [
    "#### Locations with best chi_sqr"
   ]
  },
  {
   "cell_type": "code",
   "execution_count": 12,
   "metadata": {},
   "outputs": [
    {
     "data": {
      "text/html": [
       "<div>\n",
       "<style scoped>\n",
       "    .dataframe tbody tr th:only-of-type {\n",
       "        vertical-align: middle;\n",
       "    }\n",
       "\n",
       "    .dataframe tbody tr th {\n",
       "        vertical-align: top;\n",
       "    }\n",
       "\n",
       "    .dataframe thead th {\n",
       "        text-align: right;\n",
       "    }\n",
       "</style>\n",
       "<table border=\"1\" class=\"dataframe\">\n",
       "  <thead>\n",
       "    <tr style=\"text-align: right;\">\n",
       "      <th></th>\n",
       "      <th>epoch</th>\n",
       "      <th>step</th>\n",
       "      <th>chi_1a</th>\n",
       "      <th>chi_1b</th>\n",
       "      <th>chi_1c</th>\n",
       "      <th>chi_1</th>\n",
       "      <th>chi_2</th>\n",
       "      <th>chi_imgvar</th>\n",
       "      <th>chi_spec1</th>\n",
       "      <th>chi_spec2</th>\n",
       "    </tr>\n",
       "  </thead>\n",
       "  <tbody>\n",
       "    <tr>\n",
       "      <th>1245</th>\n",
       "      <td>0</td>\n",
       "      <td>1245</td>\n",
       "      <td>9.048651</td>\n",
       "      <td>11113.858737</td>\n",
       "      <td>0.013036</td>\n",
       "      <td>11122.920424</td>\n",
       "      <td>144.754960</td>\n",
       "      <td>40.421721</td>\n",
       "      <td>1516.756260</td>\n",
       "      <td>2.788719e+09</td>\n",
       "    </tr>\n",
       "    <tr>\n",
       "      <th>0</th>\n",
       "      <td>0</td>\n",
       "      <td>0</td>\n",
       "      <td>188.919295</td>\n",
       "      <td>4.752520</td>\n",
       "      <td>0.013036</td>\n",
       "      <td>193.684851</td>\n",
       "      <td>12.402487</td>\n",
       "      <td>26.132894</td>\n",
       "      <td>17735.385188</td>\n",
       "      <td>2.903151e+07</td>\n",
       "    </tr>\n",
       "    <tr>\n",
       "      <th>1187</th>\n",
       "      <td>0</td>\n",
       "      <td>1187</td>\n",
       "      <td>14.869902</td>\n",
       "      <td>9563.043688</td>\n",
       "      <td>0.008758</td>\n",
       "      <td>9577.922348</td>\n",
       "      <td>128.857540</td>\n",
       "      <td>38.165398</td>\n",
       "      <td>1196.557081</td>\n",
       "      <td>1.614321e+09</td>\n",
       "    </tr>\n",
       "    <tr>\n",
       "      <th>0</th>\n",
       "      <td>0</td>\n",
       "      <td>0</td>\n",
       "      <td>188.919295</td>\n",
       "      <td>4.752520</td>\n",
       "      <td>0.013036</td>\n",
       "      <td>193.684851</td>\n",
       "      <td>12.402487</td>\n",
       "      <td>26.132894</td>\n",
       "      <td>17735.385188</td>\n",
       "      <td>2.903151e+07</td>\n",
       "    </tr>\n",
       "    <tr>\n",
       "      <th>0</th>\n",
       "      <td>0</td>\n",
       "      <td>0</td>\n",
       "      <td>188.919295</td>\n",
       "      <td>4.752520</td>\n",
       "      <td>0.013036</td>\n",
       "      <td>193.684851</td>\n",
       "      <td>12.402487</td>\n",
       "      <td>26.132894</td>\n",
       "      <td>17735.385188</td>\n",
       "      <td>2.903151e+07</td>\n",
       "    </tr>\n",
       "    <tr>\n",
       "      <th>134250</th>\n",
       "      <td>38</td>\n",
       "      <td>134250</td>\n",
       "      <td>16.832127</td>\n",
       "      <td>14265.638640</td>\n",
       "      <td>0.013186</td>\n",
       "      <td>14282.483953</td>\n",
       "      <td>204.246479</td>\n",
       "      <td>4.528781</td>\n",
       "      <td>1219.723411</td>\n",
       "      <td>5.641273e+11</td>\n",
       "    </tr>\n",
       "    <tr>\n",
       "      <th>54</th>\n",
       "      <td>0</td>\n",
       "      <td>54</td>\n",
       "      <td>158.678194</td>\n",
       "      <td>5211.375738</td>\n",
       "      <td>31.727857</td>\n",
       "      <td>5401.781789</td>\n",
       "      <td>99.740831</td>\n",
       "      <td>82.321793</td>\n",
       "      <td>807.122257</td>\n",
       "      <td>5.077054e+07</td>\n",
       "    </tr>\n",
       "    <tr>\n",
       "      <th>2</th>\n",
       "      <td>0</td>\n",
       "      <td>2</td>\n",
       "      <td>305.103441</td>\n",
       "      <td>6.876216</td>\n",
       "      <td>0.013186</td>\n",
       "      <td>311.992843</td>\n",
       "      <td>16.582324</td>\n",
       "      <td>35.608395</td>\n",
       "      <td>5586.276721</td>\n",
       "      <td>9.477785e+06</td>\n",
       "    </tr>\n",
       "  </tbody>\n",
       "</table>\n",
       "</div>"
      ],
      "text/plain": [
       "        epoch    step      chi_1a        chi_1b     chi_1c         chi_1  \\\n",
       "1245        0    1245    9.048651  11113.858737   0.013036  11122.920424   \n",
       "0           0       0  188.919295      4.752520   0.013036    193.684851   \n",
       "1187        0    1187   14.869902   9563.043688   0.008758   9577.922348   \n",
       "0           0       0  188.919295      4.752520   0.013036    193.684851   \n",
       "0           0       0  188.919295      4.752520   0.013036    193.684851   \n",
       "134250     38  134250   16.832127  14265.638640   0.013186  14282.483953   \n",
       "54          0      54  158.678194   5211.375738  31.727857   5401.781789   \n",
       "2           0       2  305.103441      6.876216   0.013186    311.992843   \n",
       "\n",
       "             chi_2  chi_imgvar     chi_spec1     chi_spec2  \n",
       "1245    144.754960   40.421721   1516.756260  2.788719e+09  \n",
       "0        12.402487   26.132894  17735.385188  2.903151e+07  \n",
       "1187    128.857540   38.165398   1196.557081  1.614321e+09  \n",
       "0        12.402487   26.132894  17735.385188  2.903151e+07  \n",
       "0        12.402487   26.132894  17735.385188  2.903151e+07  \n",
       "134250  204.246479    4.528781   1219.723411  5.641273e+11  \n",
       "54       99.740831   82.321793    807.122257  5.077054e+07  \n",
       "2        16.582324   35.608395   5586.276721  9.477785e+06  "
      ]
     },
     "execution_count": 12,
     "metadata": {},
     "output_type": "execute_result"
    }
   ],
   "source": [
    "chi_sqr_keys=['epoch','step','chi_1a','chi_1b','chi_1c','chi_1','chi_2','chi_imgvar','chi_spec1','chi_spec2']\n",
    "# index location of min/max values of chi squares\n",
    "inds=[]\n",
    "for key in ['chi_1a','chi_1b','chi_1c','chi_1','chi_2','chi_imgvar','chi_spec1','chi_spec2']:\n",
    "    inds.append(df[key].idxmin(axis=1))\n",
    "inds=np.array(inds)\n",
    "df.loc[inds][chi_sqr_keys]"
   ]
  },
  {
   "cell_type": "code",
   "execution_count": 20,
   "metadata": {},
   "outputs": [],
   "source": [
    "def f_get_best_chisqr_models(df,cutoff=0.2):\n",
    "    '''\n",
    "    Pick models with lowest 20% chi-square for multiple categories\n",
    "    '''\n",
    "    chi_sqr_keys=[ 'chi_1', 'chi_spec1']\n",
    "    q_dict=dict(df.quantile(q=cutoff,axis=0)[chi_sqr_keys])\n",
    "#     print(q_dict)\n",
    "    \n",
    "    df_sliced=df.query('chi_1 < {0} & chi_spec1 < {1}'.format(q_dict['chi_1'],q_dict['chi_spec1']))\n",
    "    \n",
    "    return df_sliced"
   ]
  },
  {
   "cell_type": "code",
   "execution_count": 21,
   "metadata": {},
   "outputs": [
    {
     "name": "stdout",
     "output_type": "stream",
     "text": [
      "(19518, 20)\n"
     ]
    }
   ],
   "source": [
    "df_sliced=f_get_best_chisqr_models(df,cutoff=0.2)\n",
    "print(df_sliced.shape)"
   ]
  },
  {
   "cell_type": "code",
   "execution_count": 22,
   "metadata": {},
   "outputs": [
    {
     "data": {
      "text/html": [
       "<div>\n",
       "<style scoped>\n",
       "    .dataframe tbody tr th:only-of-type {\n",
       "        vertical-align: middle;\n",
       "    }\n",
       "\n",
       "    .dataframe tbody tr th {\n",
       "        vertical-align: top;\n",
       "    }\n",
       "\n",
       "    .dataframe thead th {\n",
       "        text-align: right;\n",
       "    }\n",
       "</style>\n",
       "<table border=\"1\" class=\"dataframe\">\n",
       "  <thead>\n",
       "    <tr style=\"text-align: right;\">\n",
       "      <th></th>\n",
       "      <th>epoch</th>\n",
       "      <th>step</th>\n",
       "      <th>chi_1</th>\n",
       "      <th>chi_spec1</th>\n",
       "    </tr>\n",
       "  </thead>\n",
       "  <tbody>\n",
       "    <tr>\n",
       "      <th>35</th>\n",
       "      <td>0</td>\n",
       "      <td>35</td>\n",
       "      <td>4373.589823</td>\n",
       "      <td>1219.675854</td>\n",
       "    </tr>\n",
       "    <tr>\n",
       "      <th>36</th>\n",
       "      <td>0</td>\n",
       "      <td>36</td>\n",
       "      <td>4438.073570</td>\n",
       "      <td>1147.549407</td>\n",
       "    </tr>\n",
       "    <tr>\n",
       "      <th>37</th>\n",
       "      <td>0</td>\n",
       "      <td>37</td>\n",
       "      <td>4451.607392</td>\n",
       "      <td>1112.350644</td>\n",
       "    </tr>\n",
       "    <tr>\n",
       "      <th>38</th>\n",
       "      <td>0</td>\n",
       "      <td>38</td>\n",
       "      <td>4451.665969</td>\n",
       "      <td>1020.928243</td>\n",
       "    </tr>\n",
       "    <tr>\n",
       "      <th>39</th>\n",
       "      <td>0</td>\n",
       "      <td>39</td>\n",
       "      <td>4535.165815</td>\n",
       "      <td>1013.695162</td>\n",
       "    </tr>\n",
       "  </tbody>\n",
       "</table>\n",
       "</div>"
      ],
      "text/plain": [
       "    epoch  step        chi_1    chi_spec1\n",
       "35      0    35  4373.589823  1219.675854\n",
       "36      0    36  4438.073570  1147.549407\n",
       "37      0    37  4451.607392  1112.350644\n",
       "38      0    38  4451.665969  1020.928243\n",
       "39      0    39  4535.165815  1013.695162"
      ]
     },
     "execution_count": 22,
     "metadata": {},
     "output_type": "execute_result"
    }
   ],
   "source": [
    "df_sliced.sort_values(by=['chi_1','chi_spec1'])[['epoch','step','chi_1','chi_spec1']].head(5)"
   ]
  },
  {
   "cell_type": "code",
   "execution_count": 23,
   "metadata": {},
   "outputs": [
    {
     "data": {
      "application/vnd.jupyter.widget-view+json": {
       "model_id": "eec53d467cdc420b9433eef5b3261f65",
       "version_major": 2,
       "version_minor": 0
      },
      "text/plain": [
       "Canvas(toolbar=Toolbar(toolitems=[('Home', 'Reset original view', 'home', 'home'), ('Back', 'Back to previous …"
      ]
     },
     "metadata": {},
     "output_type": "display_data"
    },
    {
     "data": {
      "text/plain": [
       "<matplotlib.axes._subplots.AxesSubplot at 0x2aaafaf66320>"
      ]
     },
     "execution_count": 23,
     "metadata": {},
     "output_type": "execute_result"
    }
   ],
   "source": [
    "### Plot chi-sqr values\n",
    "df_sliced.plot(x=\"step\", y=[\"chi_1\", \"chi_imgvar\", \"chi_spec1\"],style='.',marker='*')"
   ]
  },
  {
   "cell_type": "markdown",
   "metadata": {},
   "source": [
    "### High Pixel images"
   ]
  },
  {
   "cell_type": "code",
   "execution_count": 24,
   "metadata": {},
   "outputs": [
    {
     "data": {
      "application/vnd.jupyter.widget-view+json": {
       "model_id": "52ac93174ab64663a2f74dfb1a6fc4ec",
       "version_major": 2,
       "version_minor": 0
      },
      "text/plain": [
       "Canvas(toolbar=Toolbar(toolitems=[('Home', 'Reset original view', 'home', 'home'), ('Back', 'Back to previous …"
      ]
     },
     "metadata": {},
     "output_type": "display_data"
    },
    {
     "data": {
      "text/plain": [
       "Text(0, 0.5, 'Number of very large pixel images from a batch of images')"
      ]
     },
     "execution_count": 24,
     "metadata": {},
     "output_type": "execute_result"
    }
   ],
   "source": [
    "### Plot number of very high pixel images\n",
    "plt.figure()\n",
    "plt.plot(df[df.img_type=='train_gen'].step,df[df.img_type=='train_gen'].num_vlarge,linestyle='',marker='*')\n",
    "plt.xlabel('Steps in Epochs')\n",
    "plt.ylabel('Number of very large pixel images from a batch of images')"
   ]
  },
  {
   "cell_type": "code",
   "execution_count": 25,
   "metadata": {},
   "outputs": [
    {
     "data": {
      "text/html": [
       "<div>\n",
       "<style scoped>\n",
       "    .dataframe tbody tr th:only-of-type {\n",
       "        vertical-align: middle;\n",
       "    }\n",
       "\n",
       "    .dataframe tbody tr th {\n",
       "        vertical-align: top;\n",
       "    }\n",
       "\n",
       "    .dataframe thead th {\n",
       "        text-align: right;\n",
       "    }\n",
       "</style>\n",
       "<table border=\"1\" class=\"dataframe\">\n",
       "  <thead>\n",
       "    <tr style=\"text-align: right;\">\n",
       "      <th></th>\n",
       "      <th>epoch</th>\n",
       "      <th>step</th>\n",
       "      <th>img_type</th>\n",
       "      <th>fname</th>\n",
       "      <th>chi_1a</th>\n",
       "      <th>chi_1b</th>\n",
       "      <th>chi_1c</th>\n",
       "      <th>chi_1</th>\n",
       "      <th>chi_2</th>\n",
       "      <th>chi_imgvar</th>\n",
       "      <th>chi_spec1</th>\n",
       "      <th>chi_spec2</th>\n",
       "      <th>num_large</th>\n",
       "      <th>num_vlarge</th>\n",
       "      <th>hist_val</th>\n",
       "      <th>hist_err</th>\n",
       "      <th>hist_bin_centers</th>\n",
       "      <th>spec_val</th>\n",
       "      <th>spec_err</th>\n",
       "      <th>label</th>\n",
       "    </tr>\n",
       "  </thead>\n",
       "  <tbody>\n",
       "  </tbody>\n",
       "</table>\n",
       "</div>"
      ],
      "text/plain": [
       "Empty DataFrame\n",
       "Columns: [epoch, step, img_type, fname, chi_1a, chi_1b, chi_1c, chi_1, chi_2, chi_imgvar, chi_spec1, chi_spec2, num_large, num_vlarge, hist_val, hist_err, hist_bin_centers, spec_val, spec_err, label]\n",
       "Index: []"
      ]
     },
     "execution_count": 25,
     "metadata": {},
     "output_type": "execute_result"
    }
   ],
   "source": [
    "df[df.num_vlarge>10].tail()"
   ]
  },
  {
   "cell_type": "markdown",
   "metadata": {},
   "source": [
    "## Compare samples"
   ]
  },
  {
   "cell_type": "code",
   "execution_count": 26,
   "metadata": {},
   "outputs": [],
   "source": [
    "# df_sliced.sort_values(by=['chi_spec1','chi_1']).head(5)\n",
    "# df_sliced.sort_values(by=['chi_1','chi_spec1']).head(5)"
   ]
  },
  {
   "cell_type": "code",
   "execution_count": 27,
   "metadata": {},
   "outputs": [
    {
     "name": "stdout",
     "output_type": "stream",
     "text": [
      "[35, 36, 54, 52]\n",
      "[(0, 35), (0, 36), (0, 54), (0, 52)]\n"
     ]
    },
    {
     "data": {
      "text/html": [
       "<div>\n",
       "<style scoped>\n",
       "    .dataframe tbody tr th:only-of-type {\n",
       "        vertical-align: middle;\n",
       "    }\n",
       "\n",
       "    .dataframe tbody tr th {\n",
       "        vertical-align: top;\n",
       "    }\n",
       "\n",
       "    .dataframe thead th {\n",
       "        text-align: right;\n",
       "    }\n",
       "</style>\n",
       "<table border=\"1\" class=\"dataframe\">\n",
       "  <thead>\n",
       "    <tr style=\"text-align: right;\">\n",
       "      <th></th>\n",
       "      <th>epoch</th>\n",
       "      <th>step</th>\n",
       "      <th>img_type</th>\n",
       "      <th>fname</th>\n",
       "      <th>chi_1a</th>\n",
       "      <th>chi_1b</th>\n",
       "      <th>chi_1c</th>\n",
       "      <th>chi_1</th>\n",
       "      <th>chi_2</th>\n",
       "      <th>chi_imgvar</th>\n",
       "      <th>chi_spec1</th>\n",
       "      <th>chi_spec2</th>\n",
       "      <th>num_large</th>\n",
       "      <th>num_vlarge</th>\n",
       "      <th>hist_val</th>\n",
       "      <th>hist_err</th>\n",
       "      <th>hist_bin_centers</th>\n",
       "      <th>spec_val</th>\n",
       "      <th>spec_err</th>\n",
       "      <th>label</th>\n",
       "    </tr>\n",
       "  </thead>\n",
       "  <tbody>\n",
       "    <tr>\n",
       "      <th>35</th>\n",
       "      <td>0</td>\n",
       "      <td>35</td>\n",
       "      <td>train_gen</td>\n",
       "      <td>/global/cscratch1/sd/vpa/proj/cosmogan/results...</td>\n",
       "      <td>538.973332</td>\n",
       "      <td>3834.603305</td>\n",
       "      <td>0.013186</td>\n",
       "      <td>4373.589823</td>\n",
       "      <td>89.777276</td>\n",
       "      <td>86.743845</td>\n",
       "      <td>1219.675854</td>\n",
       "      <td>2.603502e+07</td>\n",
       "      <td>0</td>\n",
       "      <td>0</td>\n",
       "      <td>[0.0, 0.0012981891652077441, 0.007274776703390...</td>\n",
       "      <td>[0.0, 8.224240712745884e-05, 9.357480583108897...</td>\n",
       "      <td>[-1.031746031584782, -0.6161616169043975, -0.3...</td>\n",
       "      <td>[9657467.00357914, 37473.37834215164, 15267.07...</td>\n",
       "      <td>[56579.64159609792, 946.379936112115, 346.0094...</td>\n",
       "      <td>0-35</td>\n",
       "    </tr>\n",
       "    <tr>\n",
       "      <th>36</th>\n",
       "      <td>0</td>\n",
       "      <td>36</td>\n",
       "      <td>train_gen</td>\n",
       "      <td>/global/cscratch1/sd/vpa/proj/cosmogan/results...</td>\n",
       "      <td>509.009950</td>\n",
       "      <td>3929.050434</td>\n",
       "      <td>0.013186</td>\n",
       "      <td>4438.073570</td>\n",
       "      <td>90.656120</td>\n",
       "      <td>76.798263</td>\n",
       "      <td>1147.549407</td>\n",
       "      <td>3.198437e+07</td>\n",
       "      <td>0</td>\n",
       "      <td>0</td>\n",
       "      <td>[0.0, 0.002383947376108766, 0.0058385729839749...</td>\n",
       "      <td>[0.0, 9.59230098112155e-05, 0.0001144683710851...</td>\n",
       "      <td>[-1.031746031584782, -0.6161616169043975, -0.3...</td>\n",
       "      <td>[9504702.692451477, 39994.643642902374, 16550....</td>\n",
       "      <td>[48131.91923355958, 902.1397473202502, 310.698...</td>\n",
       "      <td>0-36</td>\n",
       "    </tr>\n",
       "    <tr>\n",
       "      <th>54</th>\n",
       "      <td>0</td>\n",
       "      <td>54</td>\n",
       "      <td>train_gen</td>\n",
       "      <td>/global/cscratch1/sd/vpa/proj/cosmogan/results...</td>\n",
       "      <td>158.678194</td>\n",
       "      <td>5211.375738</td>\n",
       "      <td>31.727857</td>\n",
       "      <td>5401.781789</td>\n",
       "      <td>99.740831</td>\n",
       "      <td>82.321793</td>\n",
       "      <td>807.122257</td>\n",
       "      <td>5.077054e+07</td>\n",
       "      <td>2</td>\n",
       "      <td>0</td>\n",
       "      <td>[0.0007810592671513557, 0.014138460181080705, ...</td>\n",
       "      <td>[5.263830934268829e-05, 0.00017650871484092178...</td>\n",
       "      <td>[-1.031746031584782, -0.6161616169043975, -0.3...</td>\n",
       "      <td>[7662084.639343262, 53939.17410469055, 26008.8...</td>\n",
       "      <td>[28922.232491906718, 915.0093844252568, 369.05...</td>\n",
       "      <td>0-54</td>\n",
       "    </tr>\n",
       "    <tr>\n",
       "      <th>52</th>\n",
       "      <td>0</td>\n",
       "      <td>52</td>\n",
       "      <td>train_gen</td>\n",
       "      <td>/global/cscratch1/sd/vpa/proj/cosmogan/results...</td>\n",
       "      <td>168.738177</td>\n",
       "      <td>5138.987370</td>\n",
       "      <td>13.124763</td>\n",
       "      <td>5320.850311</td>\n",
       "      <td>99.093487</td>\n",
       "      <td>82.531194</td>\n",
       "      <td>816.645678</td>\n",
       "      <td>4.348380e+07</td>\n",
       "      <td>0</td>\n",
       "      <td>0</td>\n",
       "      <td>[0.00037926435568407175, 0.01191973688054383, ...</td>\n",
       "      <td>[4.0723174536509075e-05, 0.0001379779522348443...</td>\n",
       "      <td>[-1.031746031584782, -0.6161616169043975, -0.3...</td>\n",
       "      <td>[7754519.759607315, 52418.12523841858, 24940.3...</td>\n",
       "      <td>[31463.91323786883, 1057.9386897543595, 406.61...</td>\n",
       "      <td>0-52</td>\n",
       "    </tr>\n",
       "  </tbody>\n",
       "</table>\n",
       "</div>"
      ],
      "text/plain": [
       "    epoch  step   img_type                                              fname  \\\n",
       "35      0    35  train_gen  /global/cscratch1/sd/vpa/proj/cosmogan/results...   \n",
       "36      0    36  train_gen  /global/cscratch1/sd/vpa/proj/cosmogan/results...   \n",
       "54      0    54  train_gen  /global/cscratch1/sd/vpa/proj/cosmogan/results...   \n",
       "52      0    52  train_gen  /global/cscratch1/sd/vpa/proj/cosmogan/results...   \n",
       "\n",
       "        chi_1a       chi_1b     chi_1c        chi_1      chi_2  chi_imgvar  \\\n",
       "35  538.973332  3834.603305   0.013186  4373.589823  89.777276   86.743845   \n",
       "36  509.009950  3929.050434   0.013186  4438.073570  90.656120   76.798263   \n",
       "54  158.678194  5211.375738  31.727857  5401.781789  99.740831   82.321793   \n",
       "52  168.738177  5138.987370  13.124763  5320.850311  99.093487   82.531194   \n",
       "\n",
       "      chi_spec1     chi_spec2  num_large  num_vlarge  \\\n",
       "35  1219.675854  2.603502e+07          0           0   \n",
       "36  1147.549407  3.198437e+07          0           0   \n",
       "54   807.122257  5.077054e+07          2           0   \n",
       "52   816.645678  4.348380e+07          0           0   \n",
       "\n",
       "                                             hist_val  \\\n",
       "35  [0.0, 0.0012981891652077441, 0.007274776703390...   \n",
       "36  [0.0, 0.002383947376108766, 0.0058385729839749...   \n",
       "54  [0.0007810592671513557, 0.014138460181080705, ...   \n",
       "52  [0.00037926435568407175, 0.01191973688054383, ...   \n",
       "\n",
       "                                             hist_err  \\\n",
       "35  [0.0, 8.224240712745884e-05, 9.357480583108897...   \n",
       "36  [0.0, 9.59230098112155e-05, 0.0001144683710851...   \n",
       "54  [5.263830934268829e-05, 0.00017650871484092178...   \n",
       "52  [4.0723174536509075e-05, 0.0001379779522348443...   \n",
       "\n",
       "                                     hist_bin_centers  \\\n",
       "35  [-1.031746031584782, -0.6161616169043975, -0.3...   \n",
       "36  [-1.031746031584782, -0.6161616169043975, -0.3...   \n",
       "54  [-1.031746031584782, -0.6161616169043975, -0.3...   \n",
       "52  [-1.031746031584782, -0.6161616169043975, -0.3...   \n",
       "\n",
       "                                             spec_val  \\\n",
       "35  [9657467.00357914, 37473.37834215164, 15267.07...   \n",
       "36  [9504702.692451477, 39994.643642902374, 16550....   \n",
       "54  [7662084.639343262, 53939.17410469055, 26008.8...   \n",
       "52  [7754519.759607315, 52418.12523841858, 24940.3...   \n",
       "\n",
       "                                             spec_err label  \n",
       "35  [56579.64159609792, 946.379936112115, 346.0094...  0-35  \n",
       "36  [48131.91923355958, 902.1397473202502, 310.698...  0-36  \n",
       "54  [28922.232491906718, 915.0093844252568, 369.05...  0-54  \n",
       "52  [31463.91323786883, 1057.9386897543595, 406.61...  0-52  "
      ]
     },
     "execution_count": 27,
     "metadata": {},
     "output_type": "execute_result"
    }
   ],
   "source": [
    "best_idx=[]\n",
    "best_idx.append(df_sliced.sort_values(by=['chi_1','chi_spec1']).head(2).index)\n",
    "best_idx.append(df_sliced.sort_values(by=['chi_spec1','chi_1']).head(2).index)\n",
    "\n",
    "best_idx=[i for j in best_idx for i in j]\n",
    "print(best_idx)\n",
    "\n",
    "df_best=df_sliced.loc[best_idx]\n",
    "print([(df_best.loc[idx].epoch,df_best.loc[idx].step) for idx in best_idx])\n",
    "df_best"
   ]
  },
  {
   "cell_type": "code",
   "execution_count": null,
   "metadata": {},
   "outputs": [],
   "source": []
  },
  {
   "cell_type": "markdown",
   "metadata": {},
   "source": [
    "## Plot pixel intensity and spectrum"
   ]
  },
  {
   "cell_type": "code",
   "execution_count": 28,
   "metadata": {},
   "outputs": [],
   "source": [
    "def f_plot_hist_spec_combined(df,dict_bkg):\n",
    "\n",
    "    fig=plt.figure(figsize=(6,6))\n",
    "    ax1=fig.add_subplot(121)\n",
    "    ax2=fig.add_subplot(122)\n",
    "    for (i,row),marker in zip(df.iterrows(),itertools.cycle('>^*sDHPdpx_')):\n",
    "\n",
    "        x1=row.hist_bin_centers\n",
    "        y1=row.hist_val\n",
    "        yerr1=row.hist_err\n",
    "        x1=f_invtransform(x1)\n",
    "\n",
    "        y2=row.spec_val\n",
    "        yerr2=row.spec_err\n",
    "        x2=np.arange(len(y2))\n",
    "\n",
    "        label='{0}_{1}_{2}'.format(i,row.epoch,row.step)\n",
    "        ax1.errorbar(x1,y1,yerr1,marker=marker,markersize=5,linestyle='',label=label)\n",
    "    #     ax2.errorbar(x2,y2,yerr2,marker=marker,markersize=5,linestyle='',label='{0}-{1}'.format(epoch,step))\n",
    "\n",
    "        ax2.fill_between(x2, y2 - yerr2, y2 + yerr2, alpha=0.4)\n",
    "        ax2.plot(x2, y2, marker=marker, linestyle=':',label=label)\n",
    "\n",
    "    ### Plot input data\n",
    "    x,y,yerr=dict_bkg['hist_bin_centers'],dict_bkg['hist_val'],dict_bkg['hist_err']\n",
    "    x=f_invtransform(x)\n",
    "    ax1.errorbar(x, y,yerr,color='k',linestyle='-',label='bkgnd')   \n",
    "\n",
    "    y,yerr=dict_bkg['spec_val'],dict_bkg['spec_err']\n",
    "    x=np.arange(len(y))\n",
    "    ax2.fill_between(x, y - yerr, y + yerr, color='k',alpha=0.8)\n",
    "\n",
    "    plt.legend()\n",
    "    # plt.yscale('log')\n",
    "    ax1.set_xscale('symlog',linthreshx=50)\n",
    "    ax1.set_yscale('log')\n",
    "    ax2.set_yscale('log')\n",
    "    \n",
    "    \n"
   ]
  },
  {
   "cell_type": "code",
   "execution_count": 29,
   "metadata": {},
   "outputs": [
    {
     "name": "stdout",
     "output_type": "stream",
     "text": [
      "(4000, 128, 128)\n"
     ]
    }
   ],
   "source": [
    "def f_compute_hist_spect(sample,bins):\n",
    "    ''' Compute pixel intensity histograms and radial spectrum for 2D arrays\n",
    "    Input : Image arrays and bins\n",
    "    Output: dictionary with 5 arrays : Histogram values, errors and bin centers, Spectrum values and errors.\n",
    "    '''\n",
    "    ### Compute pixel histogram for row\n",
    "    gen_hist,gen_err,hist_bins=f_batch_histogram(sample,bins=bins,norm=True,hist_range=None)\n",
    "    ### Compute spectrum for row\n",
    "    spec,spec_err=f_compute_spectrum(sample,plot=False)\n",
    "\n",
    "    dict1={'hist_val':gen_hist,'hist_err':gen_err,'hist_bin_centers':hist_bins,'spec_val':spec,'spec_err':spec_err }\n",
    "    return dict1\n",
    "\n",
    "\n",
    "### Extract validation data\n",
    "fname='/global/cfs/cdirs/m3363/vayyar/cosmogan_data/raw_data/128_square/dataset_2_smoothing_200k/norm_1_train_val.npy'\n",
    "s_val=np.load(fname,mmap_mode='r')[:4000][:,0,:,:]\n",
    "print(s_val.shape)\n",
    "\n",
    "bins=np.concatenate([np.array([-0.5]),np.arange(0.5,20.5,1),np.arange(20.5,100.5,5),np.arange(100.5,1000.5,50),np.array([2000])]) #bin edges to use\n",
    "bins=f_transform(bins)   ### scale to (-1,1) \n",
    "### Compute histogram and spectrum of raw data \n",
    "dict_val=f_compute_hist_spect(s_val,bins)\n"
   ]
  },
  {
   "cell_type": "code",
   "execution_count": 30,
   "metadata": {},
   "outputs": [
    {
     "data": {
      "application/vnd.jupyter.widget-view+json": {
       "model_id": "6d2816d8c9d04c5592fcceae77cff545",
       "version_major": 2,
       "version_minor": 0
      },
      "text/plain": [
       "Canvas(toolbar=Toolbar(toolitems=[('Home', 'Reset original view', 'home', 'home'), ('Back', 'Back to previous …"
      ]
     },
     "metadata": {},
     "output_type": "display_data"
    }
   ],
   "source": [
    "f_plot_hist_spec_combined(df_best,dict_val)\n"
   ]
  },
  {
   "cell_type": "markdown",
   "metadata": {},
   "source": [
    "## View image block"
   ]
  },
  {
   "cell_type": "code",
   "execution_count": 32,
   "metadata": {},
   "outputs": [],
   "source": [
    "# df[df.epoch>10]"
   ]
  },
  {
   "cell_type": "code",
   "execution_count": 16,
   "metadata": {},
   "outputs": [],
   "source": [
    "def f_get_img(df,epoch,step):\n",
    "    df_temp=df[(df.epoch==epoch)&(df.step==step)]\n",
    "    images=np.load(df_temp.fname.values[0])[:,0,:,:]\n",
    "    return images\n",
    "\n",
    "img_arr=f_get_img(df,38,134250)"
   ]
  },
  {
   "cell_type": "code",
   "execution_count": 17,
   "metadata": {},
   "outputs": [
    {
     "name": "stdout",
     "output_type": "stream",
     "text": [
      "3 6\n"
     ]
    },
    {
     "data": {
      "application/vnd.jupyter.widget-view+json": {
       "model_id": "471521d5e1484c94ad53d873f5df3598",
       "version_major": 2,
       "version_minor": 0
      },
      "text/plain": [
       "Canvas(toolbar=Toolbar(toolitems=[('Home', 'Reset original view', 'home', 'home'), ('Back', 'Back to previous …"
      ]
     },
     "metadata": {},
     "output_type": "display_data"
    }
   ],
   "source": [
    "f_plot_grid(img_arr[:18],cols=6,fig_size=(10,6))"
   ]
  },
  {
   "cell_type": "code",
   "execution_count": 18,
   "metadata": {},
   "outputs": [
    {
     "name": "stdout",
     "output_type": "stream",
     "text": [
      "3 6\n"
     ]
    },
    {
     "data": {
      "application/vnd.jupyter.widget-view+json": {
       "model_id": "1e837260ec1a4b0e99a87de61837724d",
       "version_major": 2,
       "version_minor": 0
      },
      "text/plain": [
       "Canvas(toolbar=Toolbar(toolitems=[('Home', 'Reset original view', 'home', 'home'), ('Back', 'Back to previous …"
      ]
     },
     "metadata": {},
     "output_type": "display_data"
    }
   ],
   "source": [
    "f_plot_grid(s_val[100:118],cols=6,fig_size=(10,6))"
   ]
  },
  {
   "cell_type": "code",
   "execution_count": null,
   "metadata": {},
   "outputs": [],
   "source": [
    "df_sliced[df_sliced.epoch==4]['step'].values"
   ]
  },
  {
   "cell_type": "code",
   "execution_count": null,
   "metadata": {},
   "outputs": [],
   "source": [
    "df[(df.epoch==18)&(df.step>=15975)&(df.step<=15983)][['epoch','step','chi_1','chi_spec1','num_vlarge']]"
   ]
  },
  {
   "cell_type": "code",
   "execution_count": null,
   "metadata": {},
   "outputs": [],
   "source": []
  }
 ],
 "metadata": {
  "kernelspec": {
   "display_name": "v_py3",
   "language": "python",
   "name": "v_jpt_py3"
  },
  "language_info": {
   "codemirror_mode": {
    "name": "ipython",
    "version": 3
   },
   "file_extension": ".py",
   "mimetype": "text/x-python",
   "name": "python",
   "nbconvert_exporter": "python",
   "pygments_lexer": "ipython3",
   "version": "3.6.8"
  },
  "toc-autonumbering": false,
  "toc-showcode": false,
  "toc-showmarkdowntxt": true,
  "toc-showtags": false
 },
 "nbformat": 4,
 "nbformat_minor": 4
}

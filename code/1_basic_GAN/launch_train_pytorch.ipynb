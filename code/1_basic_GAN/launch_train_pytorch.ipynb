{
 "cells": [
  {
   "cell_type": "markdown",
   "metadata": {},
   "source": [
    "# Launch pytorch traing jobs\n",
    "Code to create a batch script for launching jobs on cori GPU\n",
    "\n",
    "Sep 1, 2020"
   ]
  },
  {
   "cell_type": "code",
   "execution_count": 2,
   "metadata": {},
   "outputs": [],
   "source": [
    "import os\n",
    "import glob,time\n",
    "import subprocess as sp\n",
    "import numpy as np\n"
   ]
  },
  {
   "cell_type": "code",
   "execution_count": 3,
   "metadata": {},
   "outputs": [
    {
     "name": "stdout",
     "output_type": "stream",
     "text": [
      "/global/u1/v/vpa/project/jpt_notebooks/Cosmology/Cosmo_GAN/repositories/cosmogan_pytorch/code/1_basic_GAN\n"
     ]
    }
   ],
   "source": [
    "curr_dir=os.getcwd()\n",
    "print(curr_dir)"
   ]
  },
  {
   "cell_type": "code",
   "execution_count": 4,
   "metadata": {},
   "outputs": [],
   "source": [
    "code_dirs={'128':'/global/u1/v/vpa/project/jpt_notebooks/Cosmology/Cosmo_GAN/repositories/cosmogan_pytorch/code/1_basic_GAN/1_main_code',\n",
    "          '512':'/global/u1/v/vpa/project/jpt_notebooks/Cosmology/Cosmo_GAN/repositories/cosmogan_pytorch/cosmogan/1_main_code' }\n",
    "\n",
    "config={'128': '/global/u1/v/vpa/project/jpt_notebooks/Cosmology/Cosmo_GAN/repositories/cosmogan_pytorch/code/1_basic_GAN/1_main_code/config_128.yaml',\n",
    "        '512': '/global/u1/v/vpa/project/jpt_notebooks/Cosmology/Cosmo_GAN/repositories/cosmogan_pytorch/code/1_basic_GAN/1_main_code/config_256.yaml'}"
   ]
  },
  {
   "cell_type": "code",
   "execution_count": 5,
   "metadata": {},
   "outputs": [
    {
     "name": "stdout",
     "output_type": "stream",
     "text": [
      "{'epochs': 20, 'batch_size': 64, 'nodes': 1, 'seed': 36723705, 'spec_loss': '--specloss', 'ip_fldr': '-', 'job_name': 'lambda0.1', 'deterministic': '--deterministic', 'save_steps_list': '11890 12580 13360 14070 32650 33240', 'lr': 0.0002, 'lambda1': 0.1, 'procs': 8, 'time': '4:00:00', 'mode': 'fresh', 'code_dir': '/global/u1/v/vpa/project/jpt_notebooks/Cosmology/Cosmo_GAN/repositories/cosmogan_pytorch/code/1_basic_GAN/1_main_code', 'config_file': '/global/u1/v/vpa/project/jpt_notebooks/Cosmology/Cosmo_GAN/repositories/cosmogan_pytorch/code/1_basic_GAN/1_main_code/config_128.yaml'}\n"
     ]
    }
   ],
   "source": [
    "### Default dictionary\n",
    "img_size=128\n",
    "dict_pars={'epochs':20, 'batch_size':64, 'nodes':1,'seed':36723705, 'spec_loss': '','ip_fldr':'-',\n",
    "           'job_name':'lambda0.1',\n",
    "#            'ip_fldr':'/global/cfs/cdirs/m3363/vayyar/cosmogan_data/results_from_other_code/pytorch/results/128sq/20201014_073327/',\n",
    "           'spec_loss':'--specloss',\n",
    "           'deterministic':'--deterministic',\n",
    "           'save_steps_list':'11890 12580 13360 14070 32650 33240',\n",
    "           'lr':0.0002,\n",
    "           'lambda1':0.1, \n",
    "           'procs':8, 'time':'4:00:00','mode':'fresh'}\n",
    "\n",
    "dict_pars['code_dir']=code_dirs[str(img_size)]\n",
    "dict_pars['config_file']=config[str(img_size)]\n",
    "print(dict_pars)"
   ]
  },
  {
   "cell_type": "code",
   "execution_count": 6,
   "metadata": {},
   "outputs": [],
   "source": [
    "bash_strg='''#!/bin/bash\n",
    "#################\n",
    "#SBATCH --nodes={nodes}\n",
    "#SBATCH --qos=regular\n",
    "#SBATCH --output=slurm-%x-%j.out\n",
    "#SBATCH --constraint=gpu\n",
    "#SBATCH --account=m3363\n",
    "#SBATCH --ntasks-per-node={procs}\n",
    "#SBATCH --cpus-per-task=8 \n",
    "#SBATCH --gpus-per-task=1\n",
    "#SBATCH --time={time}\n",
    "#SBATCH --job-name={job_name}\n",
    "\n",
    "echo \"--start date\" `date` `date +%s`\n",
    "echo '--hostname ' $HOSTNAME\n",
    "### Initial setup\n",
    "\n",
    "conda activate v3\n",
    "### module load pytorch-v1.4.0-gpu\n",
    "##module load esslurm\n",
    "\n",
    "code_dir={code_dir}\n",
    "config_file={config_file}\n",
    "python $code_dir/main.py --seed {seed} {spec_loss} {deterministic} -l {save_steps_list} --config $config_file --mode {mode} --ngpu {procs} --learn_rate {lr} --batchsize {batch_size} --epochs {epochs} -ld1 {lambda1} -ip {ip_fldr} -rs {job_name}\n",
    "\n",
    "echo \"--end date\" `date` `date +%s`\n",
    "'''.format(**dict_pars)"
   ]
  },
  {
   "cell_type": "code",
   "execution_count": 7,
   "metadata": {},
   "outputs": [
    {
     "data": {
      "text/plain": [
       "'#!/bin/bash\\n#################\\n#SBATCH --nodes=1\\n#SBATCH --qos=regular\\n#SBATCH --output=slurm-%x-%j.out\\n#SBATCH --constraint=gpu\\n#SBATCH --account=m3363\\n#SBATCH --ntasks-per-node=8\\n#SBATCH --cpus-per-task=8 \\n#SBATCH --gpus-per-task=1\\n#SBATCH --time=4:00:00\\n#SBATCH --job-name=lambda0.1\\n\\necho \"--start date\" `date` `date +%s`\\necho \\'--hostname \\' $HOSTNAME\\n### Initial setup\\n\\nconda activate v3\\n### module load pytorch-v1.4.0-gpu\\n##module load esslurm\\n\\ncode_dir=/global/u1/v/vpa/project/jpt_notebooks/Cosmology/Cosmo_GAN/repositories/cosmogan_pytorch/code/1_basic_GAN/1_main_code\\nconfig_file=/global/u1/v/vpa/project/jpt_notebooks/Cosmology/Cosmo_GAN/repositories/cosmogan_pytorch/code/1_basic_GAN/1_main_code/config_128.yaml\\npython $code_dir/main.py --seed 36723705 --specloss --deterministic -l 11890 12580 13360 14070 32650 33240 --config $config_file --mode fresh --ngpu 8 --learn_rate 0.0002 --batchsize 64 --epochs 20 -ld1 0.1 -ip - -rs lambda0.1\\n\\necho \"--end date\" `date` `date +%s`\\n'"
      ]
     },
     "execution_count": 7,
     "metadata": {},
     "output_type": "execute_result"
    }
   ],
   "source": [
    "bash_strg"
   ]
  },
  {
   "cell_type": "code",
   "execution_count": 8,
   "metadata": {},
   "outputs": [],
   "source": [
    "staging_loc='/global/cfs/cdirs/m3363/vayyar/cosmogan_data/results_from_other_code/pytorch/results/'"
   ]
  },
  {
   "cell_type": "code",
   "execution_count": 9,
   "metadata": {},
   "outputs": [],
   "source": [
    "fname='batch_train.sh'\n",
    "filename=staging_loc+fname\n",
    "with open (filename,'w') as f:\n",
    "    f.write(bash_strg)"
   ]
  },
  {
   "cell_type": "code",
   "execution_count": 10,
   "metadata": {},
   "outputs": [
    {
     "name": "stdout",
     "output_type": "stream",
     "text": [
      "/global/cfs/cdirs/m3363/vayyar/cosmogan_data/results_from_other_code/pytorch/results/batch_train.sh\n"
     ]
    }
   ],
   "source": [
    "print(filename)"
   ]
  },
  {
   "cell_type": "code",
   "execution_count": 11,
   "metadata": {},
   "outputs": [],
   "source": [
    "### Move to staging locations in project space:\n",
    "os.chdir(staging_loc)"
   ]
  },
  {
   "cell_type": "markdown",
   "metadata": {},
   "source": [
    "## Submit job to cori GPU"
   ]
  },
  {
   "cell_type": "code",
   "execution_count": 12,
   "metadata": {},
   "outputs": [
    {
     "name": "stdout",
     "output_type": "stream",
     "text": [
      "#!/bin/bash\n",
      "#################\n",
      "#SBATCH --nodes=1\n",
      "#SBATCH --qos=regular\n",
      "#SBATCH --output=slurm-%x-%j.out\n",
      "#SBATCH --constraint=gpu\n",
      "#SBATCH --account=m3363\n",
      "#SBATCH --ntasks-per-node=8\n",
      "#SBATCH --cpus-per-task=8 \n",
      "#SBATCH --gpus-per-task=1\n",
      "#SBATCH --time=4:00:00\n",
      "#SBATCH --job-name=lambda0.1\n",
      "\n",
      "echo \"--start date\" `date` `date +%s`\n",
      "echo '--hostname ' $HOSTNAME\n",
      "### Initial setup\n",
      "\n",
      "conda activate v3\n",
      "### module load pytorch-v1.4.0-gpu\n",
      "##module load esslurm\n",
      "\n",
      "code_dir=/global/u1/v/vpa/project/jpt_notebooks/Cosmology/Cosmo_GAN/repositories/cosmogan_pytorch/code/1_basic_GAN/1_main_code\n",
      "config_file=/global/u1/v/vpa/project/jpt_notebooks/Cosmology/Cosmo_GAN/repositories/cosmogan_pytorch/code/1_basic_GAN/1_main_code/config_128.yaml\n",
      "python $code_dir/main.py --seed 36723705 --specloss --deterministic -l 11890 12580 13360 14070 32650 33240 --config $config_file --mode fresh --ngpu 8 --learn_rate 0.0002 --batchsize 64 --epochs 20 -ld1 0.1 -ip - -rs lambda0.1\n",
      "\n",
      "echo \"--end date\" `date` `date +%s`\n"
     ]
    }
   ],
   "source": [
    "%%bash -s \"$filename\" ## Use python variable in bash\n",
    "cat $1\n",
    "chmod +x $1"
   ]
  },
  {
   "cell_type": "code",
   "execution_count": 13,
   "metadata": {},
   "outputs": [
    {
     "name": "stdout",
     "output_type": "stream",
     "text": [
      "Submitted batch job 1290331\n"
     ]
    }
   ],
   "source": [
    "%%bash -s \"$filename\" ## Use python variable in bash\n",
    "module load esslurm\n",
    "sbatch $1"
   ]
  },
  {
   "cell_type": "code",
   "execution_count": null,
   "metadata": {},
   "outputs": [],
   "source": []
  }
 ],
 "metadata": {
  "kernelspec": {
   "display_name": "v3",
   "language": "python",
   "name": "v-jpt-3"
  },
  "language_info": {
   "codemirror_mode": {
    "name": "ipython",
    "version": 3
   },
   "file_extension": ".py",
   "mimetype": "text/x-python",
   "name": "python",
   "nbconvert_exporter": "python",
   "pygments_lexer": "ipython3",
   "version": "3.8.6"
  }
 },
 "nbformat": 4,
 "nbformat_minor": 4
}

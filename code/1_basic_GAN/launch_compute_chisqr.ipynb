{
 "cells": [
  {
   "cell_type": "markdown",
   "metadata": {},
   "source": [
    "# Launch post-run analysis jobs\n",
    "Code to create a batch script for launching jobs on cori\n",
    "Sep 1, 2020"
   ]
  },
  {
   "cell_type": "code",
   "execution_count": 1,
   "metadata": {},
   "outputs": [],
   "source": [
    "import os\n",
    "import glob\n",
    "import time\n",
    "import subprocess as sp\n",
    "import numpy as np"
   ]
  },
  {
   "cell_type": "code",
   "execution_count": 2,
   "metadata": {},
   "outputs": [
    {
     "name": "stdout",
     "output_type": "stream",
     "text": [
      "/global/u1/v/vpa/project/jpt_notebooks/Cosmology/Cosmo_GAN/repositories/cosmogan_pytorch/code/1_basic_GAN\n"
     ]
    }
   ],
   "source": [
    "curr_dir=os.getcwd()\n",
    "print(curr_dir)"
   ]
  },
  {
   "cell_type": "code",
   "execution_count": 3,
   "metadata": {},
   "outputs": [],
   "source": [
    "val_files={'128':'/global/cfs/cdirs/m3363/vayyar/cosmogan_data/raw_data/128_square/dataset_2_smoothing_200k/norm_1_train_val.npy',\n",
    "          '512':'/global/cfs/cdirs/m3363/vayyar/cosmogan_data/raw_data/512_square/dataset1_smoothing_single_universe/norm_1_train_val.npy'\n",
    "}"
   ]
  },
  {
   "cell_type": "code",
   "execution_count": 4,
   "metadata": {},
   "outputs": [],
   "source": [
    "results_loc='/global/cfs/cdirs/m3363/vayyar/cosmogan_data/results_from_other_code/pytorch/results/128sq/'"
   ]
  },
  {
   "cell_type": "code",
   "execution_count": 5,
   "metadata": {},
   "outputs": [
    {
     "name": "stdout",
     "output_type": "stream",
     "text": [
      "\u001b[0m\u001b[01;34m20210205_062936_cgan_predict_0.65_m2\u001b[0m/  \u001b[01;34m20210305_085850_lambda2.0\u001b[0m/\n",
      "\u001b[01;34m20210205_063709_cgan_predict_1.1_m2\u001b[0m/   \u001b[01;34m20210305_085931_lambda2.0\u001b[0m/\n",
      "\u001b[01;34m20210205_120608_cgan_predict_0.5_m2\u001b[0m/   \u001b[01;34m20210305_090451_lambda2.0\u001b[0m/\n",
      "\u001b[01;34m20210205_122504_cgan_predict_0.8_m2\u001b[0m/   \u001b[01;34m20210308_113958_lambda2.0\u001b[0m/\n",
      "\u001b[01;34m20210209_075831_lambda2.0\u001b[0m/             \u001b[01;34m20210324_181226_train\u001b[0m/\n",
      "\u001b[01;34m20210305_084546_lambda2.0\u001b[0m/             \u001b[01;34m20210325_191822_train\u001b[0m/\n",
      "\u001b[01;34m20210305_085146_lambda2.0\u001b[0m/             \u001b[01;34msimple_gan_best_runs\u001b[0m/\n",
      "\u001b[01;34m20210305_085747_lambda2.0\u001b[0m/\n"
     ]
    }
   ],
   "source": [
    "ls /global/cfs/cdirs/m3363/vayyar/cosmogan_data/results_from_other_code/pytorch/results/128sq/"
   ]
  },
  {
   "cell_type": "code",
   "execution_count": 6,
   "metadata": {},
   "outputs": [],
   "source": [
    "# glob.glob(results_loc+'*')"
   ]
  },
  {
   "cell_type": "code",
   "execution_count": 6,
   "metadata": {},
   "outputs": [],
   "source": [
    "ip_folder='20210325_191822_train'"
   ]
  },
  {
   "cell_type": "code",
   "execution_count": 7,
   "metadata": {},
   "outputs": [
    {
     "name": "stdout",
     "output_type": "stream",
     "text": [
      "{'job_name': 'analysis_128', 'queue': 'debug', 'time': '00:30:00', 'val_file': '/global/cfs/cdirs/m3363/vayyar/cosmogan_data/raw_data/128_square/dataset_2_smoothing_200k/norm_1_train_val.npy', 'ip_folder': '/global/cfs/cdirs/m3363/vayyar/cosmogan_data/results_from_other_code/pytorch/results/128sq/20210325_191822_train'}\n"
     ]
    }
   ],
   "source": [
    "### Default dictionary\n",
    "img_size=128\n",
    "dict_pars={'job_name':'analysis_128', 'queue':'debug',\n",
    "           'time':'00:30:00'}\n",
    "\n",
    "dict_pars['val_file']=val_files[str(img_size)]\n",
    "dict_pars['ip_folder']=results_loc+ip_folder\n",
    "\n",
    "print(dict_pars)"
   ]
  },
  {
   "cell_type": "code",
   "execution_count": 8,
   "metadata": {},
   "outputs": [],
   "source": [
    "assert os.path.isdir(dict_pars['ip_folder'])"
   ]
  },
  {
   "cell_type": "code",
   "execution_count": 9,
   "metadata": {},
   "outputs": [],
   "source": [
    "bash_strg='''#!/bin/bash\n",
    "#################\n",
    "#SBATCH --nodes=1\n",
    "#SBATCH --qos={queue}\n",
    "#SBATCH --output=slurm-%x-%j.out\n",
    "#SBATCH --account=m3363\n",
    "#SBATCH -C haswell\n",
    "#SBATCH --time={time}\n",
    "#SBATCH --job-name={job_name}\n",
    "\n",
    "echo \"--start date\" `date` `date +%s`\n",
    "echo '--hostname ' $HOSTNAME\n",
    "\n",
    "conda activate v3\n",
    "code_dir='/global/homes/v/vpa/project/jpt_notebooks/Cosmology/Cosmo_GAN/repositories/cosmogan_pytorch/code/1_basic_GAN/1_main_code'\n",
    "\n",
    "python $code_dir/post_analysis_pandas.py -f {ip_folder}  -v {val_file}\n",
    "conda deactivate\n",
    "echo \"--end date\" `date` `date +%s`\n",
    "'''.format(**dict_pars)"
   ]
  },
  {
   "cell_type": "code",
   "execution_count": 10,
   "metadata": {},
   "outputs": [],
   "source": [
    "# bash_strg"
   ]
  },
  {
   "cell_type": "code",
   "execution_count": 11,
   "metadata": {},
   "outputs": [
    {
     "name": "stdout",
     "output_type": "stream",
     "text": [
      "/global/cfs/cdirs/m3363/vayyar/cosmogan_data/results_from_other_code/pytorch/results/batch_analysis.sh\n"
     ]
    }
   ],
   "source": [
    "### Write bash file\n",
    "staging_loc='/global/cfs/cdirs/m3363/vayyar/cosmogan_data/results_from_other_code/pytorch/results/'\n",
    "fname='batch_analysis.sh'\n",
    "filename=staging_loc+fname\n",
    "print(filename)\n",
    "with open (filename,'w') as f:\n",
    "    f.write(bash_strg)"
   ]
  },
  {
   "cell_type": "code",
   "execution_count": 12,
   "metadata": {},
   "outputs": [],
   "source": [
    "### Move to staging locations in project space:\n",
    "os.chdir(staging_loc)"
   ]
  },
  {
   "cell_type": "code",
   "execution_count": 13,
   "metadata": {},
   "outputs": [
    {
     "name": "stdout",
     "output_type": "stream",
     "text": [
      "#!/bin/bash\n",
      "#################\n",
      "#SBATCH --nodes=1\n",
      "#SBATCH --qos=debug\n",
      "#SBATCH --output=slurm-%x-%j.out\n",
      "#SBATCH --account=m3363\n",
      "#SBATCH -C haswell\n",
      "#SBATCH --time=00:30:00\n",
      "#SBATCH --job-name=analysis_128\n",
      "\n",
      "echo \"--start date\" `date` `date +%s`\n",
      "echo '--hostname ' $HOSTNAME\n",
      "\n",
      "conda activate v3\n",
      "code_dir='/global/homes/v/vpa/project/jpt_notebooks/Cosmology/Cosmo_GAN/repositories/cosmogan_pytorch/code/1_basic_GAN/1_main_code'\n",
      "\n",
      "python $code_dir/post_analysis_pandas.py -f /global/cfs/cdirs/m3363/vayyar/cosmogan_data/results_from_other_code/pytorch/results/128sq/20210325_191822_train  -v /global/cfs/cdirs/m3363/vayyar/cosmogan_data/raw_data/128_square/dataset_2_smoothing_200k/norm_1_train_val.npy\n",
      "conda deactivate\n",
      "echo \"--end date\" `date` `date +%s`\n"
     ]
    }
   ],
   "source": [
    "%%bash -s \"$filename\" ## Use python variable in bash\n",
    "cat $1\n",
    "chmod +x $1"
   ]
  },
  {
   "cell_type": "markdown",
   "metadata": {},
   "source": [
    "### Submit jobs to cori queue"
   ]
  },
  {
   "cell_type": "code",
   "execution_count": 14,
   "metadata": {},
   "outputs": [
    {
     "name": "stdout",
     "output_type": "stream",
     "text": [
      "Submitted batch job 41148497\n"
     ]
    }
   ],
   "source": [
    "%%bash -s \"$filename\" ## Use python variable in bash\n",
    "sbatch $1"
   ]
  },
  {
   "cell_type": "code",
   "execution_count": null,
   "metadata": {},
   "outputs": [],
   "source": []
  }
 ],
 "metadata": {
  "kernelspec": {
   "display_name": "v3",
   "language": "python",
   "name": "v-jpt-3"
  },
  "language_info": {
   "codemirror_mode": {
    "name": "ipython",
    "version": 3
   },
   "file_extension": ".py",
   "mimetype": "text/x-python",
   "name": "python",
   "nbconvert_exporter": "python",
   "pygments_lexer": "ipython3",
   "version": "3.8.6"
  }
 },
 "nbformat": 4,
 "nbformat_minor": 4
}

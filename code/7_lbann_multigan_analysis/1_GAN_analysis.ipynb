{
 "cells": [
  {
   "cell_type": "markdown",
   "metadata": {},
   "source": [
    "## Compare results for multiple results"
   ]
  },
  {
   "cell_type": "code",
   "execution_count": 1,
   "metadata": {},
   "outputs": [],
   "source": [
    "import numpy as np\n",
    "import matplotlib.pyplot as plt\n",
    "import seaborn as sns\n",
    "import pandas as pd\n",
    "\n",
    "import subprocess as sp\n",
    "import os\n",
    "import glob\n",
    "import sys\n",
    "\n",
    "import itertools\n",
    "import time\n",
    "\n",
    "from ipywidgets import *"
   ]
  },
  {
   "cell_type": "code",
   "execution_count": 2,
   "metadata": {},
   "outputs": [],
   "source": [
    "%matplotlib notebook"
   ]
  },
  {
   "cell_type": "code",
   "execution_count": 3,
   "metadata": {},
   "outputs": [],
   "source": [
    "# sys.path.append('/global/u1/v/vpa/project/jpt_notebooks/Cosmology/Cosmo_GAN/repositories/cosmogan_pytorch/code/modules_image_analysis/')\n",
    "from modules_img_analysis import *"
   ]
  },
  {
   "cell_type": "code",
   "execution_count": 4,
   "metadata": {},
   "outputs": [],
   "source": [
    "### Transformation functions for image pixel values\n",
    "def f_transform(x,a):\n",
    "    return 2.*x/(x + float(a)) - 1.\n",
    "\n",
    "def f_invtransform(s,a):\n",
    "    return float(a)*(1. + s)/(1. - s)\n"
   ]
  },
  {
   "cell_type": "code",
   "execution_count": 5,
   "metadata": {},
   "outputs": [],
   "source": [
    "def f_compute_hist_spect(sample,bins):\n",
    "    ''' Compute pixel intensity histograms and radial spectrum for 2D arrays\n",
    "    Input : Image arrays and bins\n",
    "    Output: dictionary with 5 arrays : Histogram values, errors and bin centers, Spectrum values and errors.\n",
    "    '''\n",
    "    ### Compute pixel histogram for row\n",
    "    gen_hist,gen_err,hist_bins=f_batch_histogram(sample,bins=bins,norm=True,hist_range=None)\n",
    "    ### Compute spectrum for row\n",
    "    spec,spec_sdev=f_plot_spectrum_3d(sample,plot=False)\n",
    "\n",
    "    dict1={'hist_val':gen_hist,'hist_err':gen_err,'hist_bin_centers':hist_bins,'spec_val':spec,'spec_sdev':spec_sdev }\n",
    "    return dict1\n",
    "\n",
    "\n",
    "def f_compute_chisqr(dict_val,dict_sample,img_size):\n",
    "    '''\n",
    "    Compute chi-square values for sample w.r.t input images\n",
    "    Input: 2 dictionaries with 4 keys for histogram and spectrum values and errors\n",
    "    '''\n",
    "    ### !!Both pixel histograms MUST have same bins and normalization!\n",
    "    ### Compute chi-sqr\n",
    "    ### Used in keras code : np.sum(np.divide(np.power(valhist - samphist, 2.0), valhist))\n",
    "    ###  chi_sqr :: sum((Obs-Val)^2/(Val))\n",
    "    \n",
    "    chisqr_dict={}\n",
    "    \n",
    "    try: \n",
    "        val_dr=dict_val['hist_val'].copy()\n",
    "        val_dr[val_dr<=0.]=1.0    ### Avoiding division by zero for zero bins\n",
    "\n",
    "        sq_diff=(dict_val['hist_val']-dict_sample['hist_val'])**2\n",
    "\n",
    "        size=len(dict_val['hist_val'])\n",
    "        l1,l2=int(size*0.3),int(size*0.7)\n",
    "        keys=['chi_1a','chi_1b','chi_1c','chi_1']\n",
    "        \n",
    "        for (key,start,end) in zip(keys,[0,l1,l2,0],[l1,l2,None,None]):  # 4 lists : small, medium, large pixel values and full \n",
    "            chisqr_dict.update({key:np.sum(np.divide(sq_diff[start:end],val_dr[start:end]))})\n",
    "\n",
    "        idx=None  # Choosing the number of histograms to use. Eg : -5 to skip last 5 bins\n",
    "    #     chisqr_dict.update({'chi_sqr1':})\n",
    "\n",
    "        chisqr_dict.update({'chi_2':np.sum(np.divide(sq_diff[:idx],1.0))}) ## chi-sqr without denominator division\n",
    "        chisqr_dict.update({'chi_imgvar':np.sum(dict_sample['hist_err'][:idx])/np.sum(dict_val['hist_err'][:idx])}) ## measures total spread in histograms wrt to input data\n",
    "\n",
    "        idx=img_size\n",
    "        spec_diff=(dict_val['spec_val']-dict_sample['spec_val'])**2\n",
    "        ### computing the spectral loss chi-square\n",
    "        chisqr_dict.update({'chi_spec1':np.sum(spec_diff[:idx]/dict_sample['spec_val'][:idx]**2)})\n",
    "\n",
    "        ### computing the spectral loss chi-square\n",
    "        chisqr_dict.update({'chi_spec2':np.sum(spec_diff[:idx]/dict_sample['spec_sdev'][:idx]**2)})\n",
    "        \n",
    "        spec_loss=1.0*np.log(np.mean((dict_val['spec_val'][:idx]-dict_sample['spec_val'][:idx])**2))+1.0*np.log(np.mean((dict_val['spec_sdev'][:idx]-dict_sample['spec_sdev'][:idx])**2))\n",
    "        chisqr_dict.update({'chi_spec3':spec_loss})\n",
    "    \n",
    "    except Exception as e: \n",
    "        print(e)\n",
    "        \n",
    "        keys=['chi_1a','chi_1b','chi_1c','chi_1','chi_2','chi_imgvar','chi_spec1','chi_spec2']\n",
    "        chisqr_dict=dict.fromkeys(keys,np.nan)\n",
    "        pass\n",
    "    \n",
    "    return chisqr_dict\n",
    "    "
   ]
  },
  {
   "cell_type": "code",
   "execution_count": 6,
   "metadata": {},
   "outputs": [],
   "source": [
    "img_size=64\n",
    "# img_size=128\n",
    "\n",
    "kappa=4"
   ]
  },
  {
   "cell_type": "code",
   "execution_count": 7,
   "metadata": {},
   "outputs": [],
   "source": [
    "val_data_dict={'64':'/p/vast1/lbann/datasets/exagan/portal.nersc.gov/project/m3363/transfer_data_livermore/64cube_dataset/norm_1_train_val.npy',\n",
    "              '128':''}\n"
   ]
  },
  {
   "cell_type": "code",
   "execution_count": 8,
   "metadata": {},
   "outputs": [],
   "source": [
    "### Read validation data\n",
    "# bins=np.concatenate([np.array([-0.5]),np.arange(0.5,20.5,1),np.arange(20.5,100.5,5),np.arange(100.5,1000.5,50),np.array([2000])]) #bin edges to use\n",
    "bins=np.concatenate([np.array([-0.5]),np.arange(0.5,100.5,5),np.arange(100.5,300.5,20),np.arange(300.5,1000.5,50),np.array([2000])]) #bin edges to use\n",
    "bins=f_transform(bins,kappa)   ### scale to (-1,1)\n",
    "\n",
    "bkgnd_dict={}\n",
    "num_bkgnd=100\n",
    "\n",
    "### Extract validation data   \n",
    "samples=np.load(val_data_dict[str(img_size)],mmap_mode='r')[500:600].copy()[:,0,:,:,:]\n",
    "dict_val=f_compute_hist_spect(samples,bins)\n",
    "del samples\n"
   ]
  },
  {
   "cell_type": "code",
   "execution_count": 9,
   "metadata": {},
   "outputs": [],
   "source": [
    "# a1=f_invtransform(samples[0],4.0)\n",
    "# np.max(a1),np.min(a1)"
   ]
  },
  {
   "cell_type": "markdown",
   "metadata": {},
   "source": [
    "### Add pytorch runs"
   ]
  },
  {
   "cell_type": "code",
   "execution_count": 33,
   "metadata": {},
   "outputs": [
    {
     "name": "stdout",
     "output_type": "stream",
     "text": [
      "['/usr/WS2/ayyar1/cosmogan/lbann_work/runs/runs_June19_2023/ExaGAN/20230621_055125_lbann_cosmo3DGAN_n32_D16_bs64_specloss', '/usr/WS2/ayyar1/cosmogan/lbann_work/runs/runs_June19_2023/ExaGAN/20230621_055144_lbann_cosmo3DGAN_n32_D1_bs64_specloss', '/usr/WS2/ayyar1/cosmogan/lbann_work/runs/runs_June19_2023/ExaGAN/20230621_055226_lbann_cosmo3DGAN_n32_D2_bs64_specloss', '/usr/WS2/ayyar1/cosmogan/lbann_work/runs/runs_June19_2023/ExaGAN/20230620_185238_lbann_cosmo3DGAN_n32_D8_bs64_specloss']\n",
      "20230621_055125_lbann_cosmo3DGAN_n32_D16_bs64_specloss\n",
      "20230621_055144_lbann_cosmo3DGAN_n32_D1_bs64_specloss\n",
      "20230621_055226_lbann_cosmo3DGAN_n32_D2_bs64_specloss\n",
      "20230620_185238_lbann_cosmo3DGAN_n32_D8_bs64_specloss\n",
      "/usr/WS2/ayyar1/cosmogan/lbann_work/runs/runs_June19_2023/ExaGAN/20230621_055144_lbann_cosmo3DGAN_n32_D1_bs64_specloss\n"
     ]
    },
    {
     "data": {
      "text/plain": [
       "210"
      ]
     },
     "execution_count": 33,
     "metadata": {},
     "output_type": "execute_result"
    }
   ],
   "source": [
    "# parent_dir='/usr/WS2/ayyar1/cosmogan/lbann_work/runs/runs_feb1_2023/ExaGAN/'\n",
    "parent_dir='/usr/WS2/ayyar1/cosmogan/lbann_work/runs/runs_June19_2023/ExaGAN/'\n",
    "\n",
    "fldr_lst=glob.glob(parent_dir+'/202306*')\n",
    "\n",
    "print(fldr_lst)\n",
    "for i in fldr_lst: \n",
    "    print(i.split('/')[-1])\n",
    "\n",
    "run_fldr=fldr_lst[1]\n",
    "print(run_fldr)\n",
    "\n",
    "\n",
    "output_fldr=run_fldr+'/outputs/trainer0/model0/'\n",
    "file_lst=glob.glob(output_fldr+'sgd.validation.epoch*_gen_img*.npy')\n",
    "len(file_lst)"
   ]
  },
  {
   "cell_type": "code",
   "execution_count": 34,
   "metadata": {
    "scrolled": true,
    "tags": []
   },
   "outputs": [
    {
     "name": "stdout",
     "output_type": "stream",
     "text": [
      "run_42_1500\n",
      "(64, 64, 64, 64)\n",
      "0.9895401 -0.9999988\n",
      "{'label': 'run_42_1500', 'fname': '/usr/WS2/ayyar1/cosmogan/lbann_work/runs/runs_June19_2023/ExaGAN/20230621_055144_lbann_cosmo3DGAN_n32_D1_bs64_specloss/outputs/trainer0/model0/sgd.validation.epoch.42.step.1500_gen_img_instance1_activation_output0.npy', 'num_imgs': 64}\n"
     ]
    },
    {
     "name": "stderr",
     "output_type": "stream",
     "text": [
      "/tmp/ipykernel_85767/3205317454.py:45: FutureWarning: The frame.append method is deprecated and will be removed from pandas in a future version. Use pandas.concat instead.\n",
      "  df_runs=df_runs.append(dict1,ignore_index=True)\n"
     ]
    },
    {
     "name": "stdout",
     "output_type": "stream",
     "text": [
      "run_57_2000\n",
      "(64, 64, 64, 64)\n",
      "0.985936 -0.99999994\n",
      "{'label': 'run_57_2000', 'fname': '/usr/WS2/ayyar1/cosmogan/lbann_work/runs/runs_June19_2023/ExaGAN/20230621_055144_lbann_cosmo3DGAN_n32_D1_bs64_specloss/outputs/trainer0/model0/sgd.validation.epoch.57.step.2000_gen_img_instance1_activation_output0.npy', 'num_imgs': 64}\n"
     ]
    },
    {
     "name": "stderr",
     "output_type": "stream",
     "text": [
      "/tmp/ipykernel_85767/3205317454.py:45: FutureWarning: The frame.append method is deprecated and will be removed from pandas in a future version. Use pandas.concat instead.\n",
      "  df_runs=df_runs.append(dict1,ignore_index=True)\n"
     ]
    }
   ],
   "source": [
    "\n",
    "### Load images\n",
    "df_runs=pd.DataFrame([])\n",
    "\n",
    "parent_dir='/usr/WS2/ayyar1/cosmogan/lbann_work/runs/runs_feb1_2023/ExaGAN/'\n",
    "\n",
    "\n",
    "lst=file_lst[::10]\n",
    "# lst=file_lst[::3]\n",
    "\n",
    "# lst=file_lst[80:200][::10]\n",
    "# lst=file_lst[85:95] + file_lst[175:185]\n",
    "# lst=file_lst[-10:]\n",
    "\n",
    "# Prediction images \n",
    "for count,fname in enumerate(lst[:]):\n",
    "#     print(fname)\n",
    "    epoch=int(fname.split('/')[-1].split('.')[3])\n",
    "    step=int(fname.split('/')[-1].split('.')[5].split('_')[0])\n",
    "    \n",
    "    max_epoch=60;min_epoch=30;\n",
    "    if ((epoch<=max_epoch) & (epoch>=min_epoch)):\n",
    "        \n",
    "        prefix='run_%s_%s'%(epoch,step)\n",
    "        key=prefix\n",
    "        print(key)\n",
    "\n",
    "        dict1={'label':key,'fname':fname}\n",
    "        images=np.load(dict1['fname'])     ### No transform needed here\n",
    "\n",
    "        images=images[:,0,:,:,:]\n",
    "        print(images.shape)\n",
    "        print(np.max(images),np.min(images))\n",
    "\n",
    "        dict1['num_imgs']=images.shape[0]\n",
    "        print(dict1)\n",
    "        ### Compute spectrum and histograms\n",
    "        dict_sample=f_compute_hist_spect(images,bins)\n",
    "        ### Compute chi squares\n",
    "        dict_chisqrs=f_compute_chisqr(dict_val,dict_sample,img_size)\n",
    "\n",
    "        dict1.update(dict_sample)\n",
    "        dict1.update(dict_chisqrs)\n",
    "        del(images)\n",
    "    #     df_runs=pd.concat([df_runs,pd.DataFrame(dict1,index=[df_runs.shape[0]+1])])\n",
    "        df_runs=df_runs.append(dict1,ignore_index=True)\n",
    "\n",
    "\n"
   ]
  },
  {
   "cell_type": "code",
   "execution_count": 35,
   "metadata": {},
   "outputs": [
    {
     "name": "stdout",
     "output_type": "stream",
     "text": [
      "run_ref\n",
      "(64, 64, 64, 64)\n",
      "0.9872242 -0.99946105\n",
      "{'label': 'run_ref', 'fname': '/usr/WS2/ayyar1/cosmogan/lbann_work/runs/runs_June19_2023/ExaGAN/20230621_055144_lbann_cosmo3DGAN_n32_D1_bs64_specloss/outputs/trainer0/model0/sgd.validation.epoch.285.step.10000_gen_img_instance1_activation_output0.npy', 'num_imgs': 64}\n"
     ]
    },
    {
     "name": "stderr",
     "output_type": "stream",
     "text": [
      "/tmp/ipykernel_85767/1483378275.py:24: FutureWarning: The frame.append method is deprecated and will be removed from pandas in a future version. Use pandas.concat instead.\n",
      "  df_runs=df_runs.append(dict1,ignore_index=True)\n"
     ]
    }
   ],
   "source": [
    "## Add a reference set of images\n",
    "\n",
    "prefix='run_ref'\n",
    "key=prefix\n",
    "print(key)\n",
    "\n",
    "dict1={'label':key,'fname':fname}\n",
    "\n",
    "images=np.load(val_data_dict[str(img_size)],mmap_mode='r')[16:80].copy()[:,0,:,:,:]  ### No transform needed here\n",
    "print(images.shape)\n",
    "print(np.max(images),np.min(images))\n",
    "\n",
    "dict1['num_imgs']=images.shape[0]\n",
    "print(dict1)\n",
    "### Compute spectrum and histograms\n",
    "dict_sample=f_compute_hist_spect(images,bins)\n",
    "### Compute chi squares\n",
    "dict_chisqrs=f_compute_chisqr(dict_val,dict_sample,img_size)\n",
    "\n",
    "dict1.update(dict_sample)\n",
    "dict1.update(dict_chisqrs)\n",
    "del(images)\n",
    "#     df_runs=pd.concat([df_runs,pd.DataFrame(dict1,index=[df_runs.shape[0]+1])])\n",
    "df_runs=df_runs.append(dict1,ignore_index=True)\n",
    "\n"
   ]
  },
  {
   "cell_type": "code",
   "execution_count": 36,
   "metadata": {},
   "outputs": [
    {
     "data": {
      "text/plain": [
       "dict_keys(['label', 'fname', 'num_imgs', 'hist_val', 'hist_err', 'hist_bin_centers', 'spec_val', 'spec_sdev', 'chi_1a', 'chi_1b', 'chi_1c', 'chi_1', 'chi_2', 'chi_imgvar', 'chi_spec1', 'chi_spec2', 'chi_spec3'])"
      ]
     },
     "execution_count": 36,
     "metadata": {},
     "output_type": "execute_result"
    }
   ],
   "source": [
    "dict1.keys()"
   ]
  },
  {
   "cell_type": "code",
   "execution_count": 37,
   "metadata": {},
   "outputs": [
    {
     "data": {
      "text/plain": [
       "Index(['label', 'fname', 'num_imgs', 'hist_val', 'hist_err',\n",
       "       'hist_bin_centers', 'spec_val', 'spec_sdev', 'chi_1a', 'chi_1b',\n",
       "       'chi_1c', 'chi_1', 'chi_2', 'chi_imgvar', 'chi_spec1', 'chi_spec2',\n",
       "       'chi_spec3'],\n",
       "      dtype='object')"
      ]
     },
     "execution_count": 37,
     "metadata": {},
     "output_type": "execute_result"
    }
   ],
   "source": [
    "df_runs.columns"
   ]
  },
  {
   "cell_type": "code",
   "execution_count": 38,
   "metadata": {},
   "outputs": [],
   "source": [
    "col_list=['label', 'chi_1', 'chi_1a', 'chi_spec1', 'chi_spec3','chi_1b', 'chi_1c', 'chi_2','chi_imgvar', 'chi_spec2', 'hist_bin_centers', 'hist_err', 'hist_val','spec_sdev', 'spec_val','num_imgs','fname']\n",
    "\n",
    "df_runs=df_runs.reindex(columns=col_list)\n"
   ]
  },
  {
   "cell_type": "code",
   "execution_count": 39,
   "metadata": {
    "scrolled": false,
    "tags": []
   },
   "outputs": [
    {
     "data": {
      "text/html": [
       "<div>\n",
       "<style scoped>\n",
       "    .dataframe tbody tr th:only-of-type {\n",
       "        vertical-align: middle;\n",
       "    }\n",
       "\n",
       "    .dataframe tbody tr th {\n",
       "        vertical-align: top;\n",
       "    }\n",
       "\n",
       "    .dataframe thead th {\n",
       "        text-align: right;\n",
       "    }\n",
       "</style>\n",
       "<table border=\"1\" class=\"dataframe\">\n",
       "  <thead>\n",
       "    <tr style=\"text-align: right;\">\n",
       "      <th></th>\n",
       "      <th>label</th>\n",
       "      <th>chi_1</th>\n",
       "      <th>chi_1a</th>\n",
       "      <th>chi_spec1</th>\n",
       "      <th>chi_spec3</th>\n",
       "      <th>chi_1b</th>\n",
       "      <th>chi_1c</th>\n",
       "      <th>chi_2</th>\n",
       "      <th>chi_imgvar</th>\n",
       "      <th>chi_spec2</th>\n",
       "      <th>hist_bin_centers</th>\n",
       "      <th>hist_err</th>\n",
       "      <th>hist_val</th>\n",
       "      <th>spec_sdev</th>\n",
       "      <th>spec_val</th>\n",
       "      <th>num_imgs</th>\n",
       "      <th>fname</th>\n",
       "    </tr>\n",
       "  </thead>\n",
       "  <tbody>\n",
       "    <tr>\n",
       "      <th>0</th>\n",
       "      <td>run_42_1500</td>\n",
       "      <td>0.034114</td>\n",
       "      <td>0.010306</td>\n",
       "      <td>11.242231</td>\n",
       "      <td>46.131924</td>\n",
       "      <td>0.021983</td>\n",
       "      <td>0.001825</td>\n",
       "      <td>0.000922</td>\n",
       "      <td>0.918818</td>\n",
       "      <td>842.613898</td>\n",
       "      <td>[-1.0317460317460316, -0.30994152046783624, 0....</td>\n",
       "      <td>[0.00530730300939742, 0.002295740327568192, 0....</td>\n",
       "      <td>[1.129969093948603, 0.42726281024515633, 0.057...</td>\n",
       "      <td>[2576181.238744982, 742977.5034487662, 441669....</td>\n",
       "      <td>[10365672.104389768, 4767106.650790955, 252045...</td>\n",
       "      <td>64</td>\n",
       "      <td>/usr/WS2/ayyar1/cosmogan/lbann_work/runs/runs_...</td>\n",
       "    </tr>\n",
       "    <tr>\n",
       "      <th>1</th>\n",
       "      <td>run_57_2000</td>\n",
       "      <td>0.061704</td>\n",
       "      <td>0.026372</td>\n",
       "      <td>15.697793</td>\n",
       "      <td>50.028728</td>\n",
       "      <td>0.033816</td>\n",
       "      <td>0.001516</td>\n",
       "      <td>0.011576</td>\n",
       "      <td>0.603247</td>\n",
       "      <td>4170.046041</td>\n",
       "      <td>[-1.0317460317460316, -0.30994152046783624, 0....</td>\n",
       "      <td>[0.002534534398129289, 0.0011621817037410307, ...</td>\n",
       "      <td>[1.2009654566645624, 0.3873539809137582, 0.060...</td>\n",
       "      <td>[1629698.1947711387, 582062.4759182694, 319483...</td>\n",
       "      <td>[7783063.813670559, 4293477.673962602, 2405424...</td>\n",
       "      <td>64</td>\n",
       "      <td>/usr/WS2/ayyar1/cosmogan/lbann_work/runs/runs_...</td>\n",
       "    </tr>\n",
       "    <tr>\n",
       "      <th>2</th>\n",
       "      <td>run_ref</td>\n",
       "      <td>0.004049</td>\n",
       "      <td>0.001507</td>\n",
       "      <td>0.037544</td>\n",
       "      <td>46.354776</td>\n",
       "      <td>0.001157</td>\n",
       "      <td>0.001385</td>\n",
       "      <td>0.000399</td>\n",
       "      <td>1.262765</td>\n",
       "      <td>2.682891</td>\n",
       "      <td>[-1.0317460317460316, -0.30994152046783624, 0....</td>\n",
       "      <td>[0.008657245242647028, 0.003950801014530303, 0...</td>\n",
       "      <td>[1.1280816905200484, 0.43271128199994563, 0.04...</td>\n",
       "      <td>[2604600.872121751, 1018029.2442484308, 504096...</td>\n",
       "      <td>[9114044.08325639, 4314889.871858945, 2269621....</td>\n",
       "      <td>64</td>\n",
       "      <td>/usr/WS2/ayyar1/cosmogan/lbann_work/runs/runs_...</td>\n",
       "    </tr>\n",
       "  </tbody>\n",
       "</table>\n",
       "</div>"
      ],
      "text/plain": [
       "         label     chi_1    chi_1a  chi_spec1  chi_spec3    chi_1b    chi_1c  \\\n",
       "0  run_42_1500  0.034114  0.010306  11.242231  46.131924  0.021983  0.001825   \n",
       "1  run_57_2000  0.061704  0.026372  15.697793  50.028728  0.033816  0.001516   \n",
       "2      run_ref  0.004049  0.001507   0.037544  46.354776  0.001157  0.001385   \n",
       "\n",
       "      chi_2  chi_imgvar    chi_spec2  \\\n",
       "0  0.000922    0.918818   842.613898   \n",
       "1  0.011576    0.603247  4170.046041   \n",
       "2  0.000399    1.262765     2.682891   \n",
       "\n",
       "                                    hist_bin_centers  \\\n",
       "0  [-1.0317460317460316, -0.30994152046783624, 0....   \n",
       "1  [-1.0317460317460316, -0.30994152046783624, 0....   \n",
       "2  [-1.0317460317460316, -0.30994152046783624, 0....   \n",
       "\n",
       "                                            hist_err  \\\n",
       "0  [0.00530730300939742, 0.002295740327568192, 0....   \n",
       "1  [0.002534534398129289, 0.0011621817037410307, ...   \n",
       "2  [0.008657245242647028, 0.003950801014530303, 0...   \n",
       "\n",
       "                                            hist_val  \\\n",
       "0  [1.129969093948603, 0.42726281024515633, 0.057...   \n",
       "1  [1.2009654566645624, 0.3873539809137582, 0.060...   \n",
       "2  [1.1280816905200484, 0.43271128199994563, 0.04...   \n",
       "\n",
       "                                           spec_sdev  \\\n",
       "0  [2576181.238744982, 742977.5034487662, 441669....   \n",
       "1  [1629698.1947711387, 582062.4759182694, 319483...   \n",
       "2  [2604600.872121751, 1018029.2442484308, 504096...   \n",
       "\n",
       "                                            spec_val  num_imgs  \\\n",
       "0  [10365672.104389768, 4767106.650790955, 252045...        64   \n",
       "1  [7783063.813670559, 4293477.673962602, 2405424...        64   \n",
       "2  [9114044.08325639, 4314889.871858945, 2269621....        64   \n",
       "\n",
       "                                               fname  \n",
       "0  /usr/WS2/ayyar1/cosmogan/lbann_work/runs/runs_...  \n",
       "1  /usr/WS2/ayyar1/cosmogan/lbann_work/runs/runs_...  \n",
       "2  /usr/WS2/ayyar1/cosmogan/lbann_work/runs/runs_...  "
      ]
     },
     "execution_count": 39,
     "metadata": {},
     "output_type": "execute_result"
    }
   ],
   "source": [
    "df_runs"
   ]
  },
  {
   "cell_type": "markdown",
   "metadata": {},
   "source": [
    "### Compare chi-squares"
   ]
  },
  {
   "cell_type": "code",
   "execution_count": 40,
   "metadata": {},
   "outputs": [
    {
     "data": {
      "text/html": [
       "<div>\n",
       "<style scoped>\n",
       "    .dataframe tbody tr th:only-of-type {\n",
       "        vertical-align: middle;\n",
       "    }\n",
       "\n",
       "    .dataframe tbody tr th {\n",
       "        vertical-align: top;\n",
       "    }\n",
       "\n",
       "    .dataframe thead th {\n",
       "        text-align: right;\n",
       "    }\n",
       "</style>\n",
       "<table border=\"1\" class=\"dataframe\">\n",
       "  <thead>\n",
       "    <tr style=\"text-align: right;\">\n",
       "      <th></th>\n",
       "      <th>label</th>\n",
       "      <th>chi_1</th>\n",
       "      <th>chi_spec1</th>\n",
       "      <th>num_imgs</th>\n",
       "      <th>chi_1a</th>\n",
       "      <th>chi_1b</th>\n",
       "      <th>chi_1c</th>\n",
       "      <th>chi_2</th>\n",
       "      <th>chi_imgvar</th>\n",
       "      <th>chi_spec2</th>\n",
       "      <th>chi_spec3</th>\n",
       "    </tr>\n",
       "  </thead>\n",
       "  <tbody>\n",
       "    <tr>\n",
       "      <th>0</th>\n",
       "      <td>run_42_1500</td>\n",
       "      <td>0.034114</td>\n",
       "      <td>11.242231</td>\n",
       "      <td>64</td>\n",
       "      <td>0.010306</td>\n",
       "      <td>0.021983</td>\n",
       "      <td>0.001825</td>\n",
       "      <td>0.000922</td>\n",
       "      <td>0.918818</td>\n",
       "      <td>842.613898</td>\n",
       "      <td>46.131924</td>\n",
       "    </tr>\n",
       "    <tr>\n",
       "      <th>1</th>\n",
       "      <td>run_57_2000</td>\n",
       "      <td>0.061704</td>\n",
       "      <td>15.697793</td>\n",
       "      <td>64</td>\n",
       "      <td>0.026372</td>\n",
       "      <td>0.033816</td>\n",
       "      <td>0.001516</td>\n",
       "      <td>0.011576</td>\n",
       "      <td>0.603247</td>\n",
       "      <td>4170.046041</td>\n",
       "      <td>50.028728</td>\n",
       "    </tr>\n",
       "    <tr>\n",
       "      <th>2</th>\n",
       "      <td>run_ref</td>\n",
       "      <td>0.004049</td>\n",
       "      <td>0.037544</td>\n",
       "      <td>64</td>\n",
       "      <td>0.001507</td>\n",
       "      <td>0.001157</td>\n",
       "      <td>0.001385</td>\n",
       "      <td>0.000399</td>\n",
       "      <td>1.262765</td>\n",
       "      <td>2.682891</td>\n",
       "      <td>46.354776</td>\n",
       "    </tr>\n",
       "  </tbody>\n",
       "</table>\n",
       "</div>"
      ],
      "text/plain": [
       "         label     chi_1  chi_spec1  num_imgs    chi_1a    chi_1b    chi_1c  \\\n",
       "0  run_42_1500  0.034114  11.242231        64  0.010306  0.021983  0.001825   \n",
       "1  run_57_2000  0.061704  15.697793        64  0.026372  0.033816  0.001516   \n",
       "2      run_ref  0.004049   0.037544        64  0.001507  0.001157  0.001385   \n",
       "\n",
       "      chi_2  chi_imgvar    chi_spec2  chi_spec3  \n",
       "0  0.000922    0.918818   842.613898  46.131924  \n",
       "1  0.011576    0.603247  4170.046041  50.028728  \n",
       "2  0.000399    1.262765     2.682891  46.354776  "
      ]
     },
     "execution_count": 40,
     "metadata": {},
     "output_type": "execute_result"
    }
   ],
   "source": [
    "chi_keys=['label','chi_1','chi_spec1', 'num_imgs', 'chi_1a', 'chi_1b', 'chi_1c', 'chi_2','chi_imgvar', 'chi_spec2','chi_spec3']\n",
    "# df_runs[chi_keys].sort_values(by=['chi_1'])\n",
    "# df_runs[chi_keys].sort_values(by=['chi_spec1'])\n",
    "df_runs[chi_keys]"
   ]
  },
  {
   "cell_type": "markdown",
   "metadata": {},
   "source": [
    "## Plot"
   ]
  },
  {
   "cell_type": "code",
   "execution_count": 41,
   "metadata": {},
   "outputs": [],
   "source": [
    "def f_plot_1d_sum(arr):\n",
    "    \n",
    "    # Ensure 4D array: samples,x,y,z\n",
    "    assert len(arr.shape)==4, \"Array must have only 4 dimensions %s. You have \"%(arr.shape[0])\n",
    "    assert np.min(arr)>=0, \"Array has negative values. Need to be all positive for sum. min:%s\\t max:%s\"%(np.min(arr),np.max(arr))\n",
    "\n",
    "    num_images=arr.shape[0]\n",
    "\n",
    "    if num_images> 30:\n",
    "        print(\"Too many images. Need less than or equal to 15\",arr.shape)\n",
    "        raise SystemExit\n",
    "        \n",
    "    # Get array summed along y and z axes\n",
    "    a1=np.sum(arr,axis=(2,3))\n",
    "    \n",
    "    fig=plt.figure()\n",
    "    fig.add_subplot(1,1,1)\n",
    "    for count,(i,marker) in enumerate(zip(arr,itertools.cycle('>^*sDHPdpx_'))):\n",
    "        plt.plot(a1[count],label=str(count),marker=marker)\n",
    "        \n",
    "    \n",
    "    plt.legend()\n",
    "    plt.show()\n",
    "    \n",
    "def f_print_sdev_1d(arr):\n",
    "    \n",
    "    # c1=np.sum(arr,axis=(2,3))\n",
    "    # sd=np.std(c1,axis=0)\n",
    "    \n",
    "    # Compute Std deviation among images. img[idx,x,y,z]\n",
    "    ## axis=0 because you need variation over image index \n",
    "    sd1=np.std(arr,axis=0)[:,0,0]/np.sum(arr)\n",
    "    sd2=np.std(arr,axis=0)[0,:,0]/np.sum(arr)\n",
    "    sd3=np.std(arr,axis=0)[0,0,:]/np.sum(arr)\n",
    "    \n",
    "    return np.sum(sd1),np.sum(sd2),np.sum(sd3)\n",
    "\n"
   ]
  },
  {
   "cell_type": "code",
   "execution_count": 42,
   "metadata": {
    "tags": []
   },
   "outputs": [],
   "source": [
    "def f_plot_hist_spec(df,dict_val,plot_type,img_size):    \n",
    "    \n",
    "    assert plot_type in ['hist','spec','spec_relative','grid_2dslice','grid_zsum','1d_sum','1d_sdev'],\"Invalid mode %s\"%(plot_type)\n",
    "\n",
    "    \n",
    "    if plot_type in ['hist','spec','spec_relative']:     fig=plt.figure(figsize=(6,6))\n",
    "    \n",
    "    for (i,row),marker in zip(df.iterrows(),itertools.cycle('>^*sDHPdpx_')):\n",
    "        label=row.label\n",
    "        if plot_type=='hist':\n",
    "            x1=row.hist_bin_centers\n",
    "            y1=row.hist_val\n",
    "            yerr1=row.hist_err\n",
    "            x1=f_invtransform(x1,kappa)\n",
    "            \n",
    "            plt.errorbar(x1,y1,yerr1,marker=marker,markersize=5,linestyle='',label=label)\n",
    "            \n",
    "        if plot_type=='spec':\n",
    "            \n",
    "            y=row.spec_val\n",
    "            yerr=row.spec_sdev\n",
    "            x=np.arange(len(y))\n",
    "            # y=x**2*y; yerr=x**2*yerr ## Plot k^2 P(y)\n",
    "            \n",
    "            plt.fill_between(x, y - yerr, y + yerr, alpha=0.4)\n",
    "            plt.plot(x, y, marker=marker, linestyle=':',label=label)\n",
    "\n",
    "        if plot_type=='spec_relative':\n",
    "            \n",
    "            y2=row.spec_val\n",
    "            yerr2=row.spec_sdev\n",
    "            x2=np.arange(len(y2))\n",
    "            \n",
    "            dict_bkg=dict_val\n",
    "\n",
    "\n",
    "            ### Reference spectrum\n",
    "            y1,yerr1=dict_bkg['spec_val'],dict_bkg['spec_sdev']\n",
    "            y=y2/(1.0*y1)\n",
    "            ## Variance is sum of variance of both variables, since they are uncorrelated\n",
    "            \n",
    "            # delta_r=sqrt(\\delta_c2 ^ 2/ c1^2 + \\delta_c1^2 * c_2^2 / c_1^4)\n",
    "            yerr=(np.abs(y))*np.sqrt((yerr1/y1)**2+(yerr2/y2)**2)/np.sqrt(row.num_imgs)\n",
    "            \n",
    "            plt.fill_between(x2, y - yerr, y + yerr, alpha=0.4)\n",
    "            plt.plot(x2, y, marker=marker, linestyle=':',label=label)\n",
    "            plt.xlim(0,img_size)\n",
    "            plt.legend()\n",
    "            plt.title(\"relative spectrum\")\n",
    "        \n",
    "        if plot_type=='grid_2dslice':\n",
    "            images=np.load(row.fname)[:,0,:,:,img_size//2]\n",
    "            f_plot_grid(images[:8],cols=4,fig_size=(8,4))\n",
    "              \n",
    "\n",
    "        if plot_type=='grid_zsum':\n",
    "            images=np.load(row.fname)[:,0,:,:,:]\n",
    "            images=np.sum(f_invtransform(images,kappa),axis=3)\n",
    "            f_plot_grid(images[:8],cols=4,fig_size=(8,4))\n",
    "\n",
    "        if plot_type=='1d_sum':\n",
    "            images=np.load(row.fname)[:,0,:,:,:]\n",
    "            f_plot_1d_sum(f_invtransform(images[:8],kappa))\n",
    "\n",
    "        if plot_type=='1d_sdev':\n",
    "            images=np.load(row.fname)[:,0,:,:,:]\n",
    "            print(f_print_sdev_1d(f_invtransform(images[:8],kappa)))               \n",
    "            \n",
    "            \n",
    "    ### Plot input data\n",
    "    dict_bkg=dict_val\n",
    "    if plot_type=='hist':\n",
    "        x,y,yerr=dict_bkg['hist_bin_centers'],dict_bkg['hist_val'],dict_bkg['hist_err']\n",
    "        x=f_invtransform(x,kappa)\n",
    "        plt.errorbar(x, y,yerr,color='k',linestyle='-',label='bkgnd')   \n",
    "        plt.title('Pixel Intensity Histogram')\n",
    "#         plt.xscale('symlog',linthreshx=50)\n",
    "        plt.xscale('log')\n",
    "\n",
    "    if plot_type=='spec':\n",
    "        y,yerr=dict_bkg['spec_val'],dict_bkg['spec_sdev']\n",
    "\n",
    "        x=np.arange(len(y))\n",
    "        # y=x**2*y; yerr=x**2*yerr ## Plot k^2 P(y)\n",
    "        plt.fill_between(x, y - yerr, y + yerr, color='k',alpha=0.8)\n",
    "        plt.title('Spectrum')\n",
    "        plt.xlim(0,img_size/2)\n",
    "\n",
    "\n",
    "    if plot_type=='spec_relative':\n",
    "        plt.axhline(y=1.0,color='k',linestyle='-.')\n",
    "        plt.title(\"relative spectrum\")\n",
    "        plt.xlim(0,img_size/2)\n",
    "        plt.ylim(0.5,2)    \n",
    "\n",
    "    if plot_type in ['hist','spec']:     \n",
    "        plt.yscale('log')\n",
    "    plt.legend(bbox_to_anchor=(0.5, 0.75),ncol=2, fancybox=True, shadow=True,prop={'size':6})\n",
    "\n",
    "    \n",
    "    plt.show()\n",
    "    \n",
    "# f_plot_hist_spec(df_runs,dict_val,'hist',img_size)\n",
    "# f_plot_hist_spec(df_runs,dict_val,'spec',img_size)\n",
    "# f_plot_hist_spec(df_runs,dict_val,'spec_relative',img_size)\n",
    "# f_plot_hist_spec(df_runs,dict_val,'grid',img_size)\n"
   ]
  },
  {
   "cell_type": "markdown",
   "metadata": {},
   "source": [
    "## Widget"
   ]
  },
  {
   "cell_type": "code",
   "execution_count": 43,
   "metadata": {
    "scrolled": false
   },
   "outputs": [
    {
     "data": {
      "application/vnd.jupyter.widget-view+json": {
       "model_id": "91ae367ee15d43e792859643999f535f",
       "version_major": 2,
       "version_minor": 0
      },
      "text/plain": [
       "interactive(children=(SelectMultiple(description='labels_list', options=('run_42_1500', 'run_57_2000', 'run_re…"
      ]
     },
     "metadata": {},
     "output_type": "display_data"
    },
    {
     "data": {
      "text/plain": [
       "<function __main__.f_widget_compare(df, labels_list, bkgnd, plot_type)>"
      ]
     },
     "execution_count": 43,
     "metadata": {},
     "output_type": "execute_result"
    }
   ],
   "source": [
    "def f_widget_compare(df,labels_list,bkgnd,plot_type):\n",
    "    df_temp=df[df.label.isin(labels_list)]\n",
    "    f_plot_hist_spec(df_temp,bkgnd,plot_type,img_size)\n",
    "\n",
    "# df_runs=df_runs.sort_values(by=['chi_1'])\n",
    "# df_runs=df_runs.sort_values(by=['chi_spec3'])\n",
    "\n",
    "interact_manual(f_widget_compare,df=fixed(df_runs),\n",
    "                labels_list=SelectMultiple(options=df_runs.label.values), \n",
    "                img_size=fixed(img_size),\n",
    "                bkgnd=fixed(dict_val),plot_type=ToggleButtons(options=['hist','spec','spec_relative','grid_2dslice','grid_zsum','1d_sum','1d_sdev']))\n"
   ]
  },
  {
   "cell_type": "code",
   "execution_count": 44,
   "metadata": {},
   "outputs": [
    {
     "data": {
      "text/html": [
       "<div>\n",
       "<style scoped>\n",
       "    .dataframe tbody tr th:only-of-type {\n",
       "        vertical-align: middle;\n",
       "    }\n",
       "\n",
       "    .dataframe tbody tr th {\n",
       "        vertical-align: top;\n",
       "    }\n",
       "\n",
       "    .dataframe thead th {\n",
       "        text-align: right;\n",
       "    }\n",
       "</style>\n",
       "<table border=\"1\" class=\"dataframe\">\n",
       "  <thead>\n",
       "    <tr style=\"text-align: right;\">\n",
       "      <th></th>\n",
       "      <th>label</th>\n",
       "      <th>chi_1</th>\n",
       "      <th>chi_spec1</th>\n",
       "      <th>num_imgs</th>\n",
       "      <th>chi_2</th>\n",
       "      <th>chi_spec2</th>\n",
       "      <th>chi_spec3</th>\n",
       "    </tr>\n",
       "  </thead>\n",
       "  <tbody>\n",
       "    <tr>\n",
       "      <th>0</th>\n",
       "      <td>run_42_1500</td>\n",
       "      <td>0.034114</td>\n",
       "      <td>11.242231</td>\n",
       "      <td>64</td>\n",
       "      <td>0.000922</td>\n",
       "      <td>842.613898</td>\n",
       "      <td>46.131924</td>\n",
       "    </tr>\n",
       "    <tr>\n",
       "      <th>1</th>\n",
       "      <td>run_57_2000</td>\n",
       "      <td>0.061704</td>\n",
       "      <td>15.697793</td>\n",
       "      <td>64</td>\n",
       "      <td>0.011576</td>\n",
       "      <td>4170.046041</td>\n",
       "      <td>50.028728</td>\n",
       "    </tr>\n",
       "    <tr>\n",
       "      <th>2</th>\n",
       "      <td>run_ref</td>\n",
       "      <td>0.004049</td>\n",
       "      <td>0.037544</td>\n",
       "      <td>64</td>\n",
       "      <td>0.000399</td>\n",
       "      <td>2.682891</td>\n",
       "      <td>46.354776</td>\n",
       "    </tr>\n",
       "  </tbody>\n",
       "</table>\n",
       "</div>"
      ],
      "text/plain": [
       "         label     chi_1  chi_spec1  num_imgs     chi_2    chi_spec2  \\\n",
       "0  run_42_1500  0.034114  11.242231        64  0.000922   842.613898   \n",
       "1  run_57_2000  0.061704  15.697793        64  0.011576  4170.046041   \n",
       "2      run_ref  0.004049   0.037544        64  0.000399     2.682891   \n",
       "\n",
       "   chi_spec3  \n",
       "0  46.131924  \n",
       "1  50.028728  \n",
       "2  46.354776  "
      ]
     },
     "execution_count": 44,
     "metadata": {},
     "output_type": "execute_result"
    }
   ],
   "source": [
    "col_list=['label','chi_1','chi_spec1','num_imgs','chi_2','chi_spec2','chi_spec3']\n",
    "df_runs[col_list]"
   ]
  },
  {
   "cell_type": "code",
   "execution_count": 23,
   "metadata": {},
   "outputs": [],
   "source": [
    "\n",
    "# label_lst=['run_114_4000']\n",
    "# df=df_runs[df_runs.label.isin(label_lst)]\n",
    "# df=df_runs[4:10]\n",
    "\n",
    "# f_plot_hist_spec(df,dict_val,'spec_relative',img_size)\n",
    "# f_plot_hist_spec(df,dict_val,'hist',img_size)\n",
    "# f_plot_hist_spec(df,dict_val,'grid',img_size)\n"
   ]
  },
  {
   "cell_type": "code",
   "execution_count": null,
   "metadata": {},
   "outputs": [],
   "source": []
  },
  {
   "cell_type": "code",
   "execution_count": null,
   "metadata": {},
   "outputs": [],
   "source": []
  }
 ],
 "metadata": {
  "kernelspec": {
   "display_name": "v3",
   "language": "python",
   "name": "vpy39"
  },
  "language_info": {
   "codemirror_mode": {
    "name": "ipython",
    "version": 3
   },
   "file_extension": ".py",
   "mimetype": "text/x-python",
   "name": "python",
   "nbconvert_exporter": "python",
   "pygments_lexer": "ipython3",
   "version": "3.8.15"
  }
 },
 "nbformat": 4,
 "nbformat_minor": 4
}

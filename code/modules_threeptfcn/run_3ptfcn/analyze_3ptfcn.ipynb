{
 "cells": [
  {
   "cell_type": "markdown",
   "metadata": {},
   "source": [
    "# Analyze correlator results\n",
    "Dec 10, 2020"
   ]
  },
  {
   "cell_type": "code",
   "execution_count": 1,
   "metadata": {},
   "outputs": [],
   "source": [
    "import numpy as np\n",
    "import pandas as pd\n",
    "import matplotlib.pyplot as plt\n",
    "\n",
    "import os\n",
    "import sys\n",
    "import glob"
   ]
  },
  {
   "cell_type": "code",
   "execution_count": 2,
   "metadata": {},
   "outputs": [],
   "source": [
    "%matplotlib widget"
   ]
  },
  {
   "cell_type": "code",
   "execution_count": 3,
   "metadata": {},
   "outputs": [],
   "source": [
    "from ipywidgets import *"
   ]
  },
  {
   "cell_type": "code",
   "execution_count": 6,
   "metadata": {},
   "outputs": [
    {
     "name": "stdout",
     "output_type": "stream",
     "text": [
      "\u001b[0m\u001b[01;34mslice_128\u001b[0m/\n"
     ]
    }
   ],
   "source": [
    "ls /global/cfs/cdirs/m3363/vayyar/cosmogan_data/3ptfnc_stored_results/3dcgan_128cube/"
   ]
  },
  {
   "cell_type": "code",
   "execution_count": 10,
   "metadata": {},
   "outputs": [],
   "source": [
    "# data_dir='data_stored_results/results_3d_corr6_idx64_1000img/'\n",
    "# data_dir='data_stored_results/results_3d_corr6_idx32_1000img/'\n",
    "\n",
    "# data_dir='/global/cfs/cdirs/m3363/vayyar/cosmogan_data/3ptfnc_stored_results/3dcgan_64cube/'\n",
    "data_dir='/global/cfs/cdirs/m3363/vayyar/cosmogan_data/3ptfnc_stored_results/3dcgan_128cube/slice_128/'\n",
    "\n"
   ]
  },
  {
   "cell_type": "code",
   "execution_count": 11,
   "metadata": {},
   "outputs": [
    {
     "data": {
      "text/plain": [
       "'/global/cfs/cdirs/m3363/vayyar/cosmogan_data/3ptfnc_stored_results/3dcgan_128cube/slice_128/sigma_0.5/img_idx_*_val*.npy'"
      ]
     },
     "execution_count": 11,
     "metadata": {},
     "output_type": "execute_result"
    }
   ],
   "source": [
    "data_dir+'sigma_0.5/'+'img_idx_*_val*.npy'"
   ]
  },
  {
   "cell_type": "code",
   "execution_count": 12,
   "metadata": {
    "tags": []
   },
   "outputs": [],
   "source": [
    "# flist=glob.glob(data_dir+'sigma_1.1/'+'temp/img_idx_*_val*.npy')\n",
    "\n",
    "# for i in flist:\n",
    "#     fname=i.split('/')[-1]\n",
    "#     a1=np.load(i,allow_pickle=True).astype(float)\n",
    "#     np.save(data_dir+'sigma_1.1/'+fname,a1)\n",
    "#     print(fname)\n"
   ]
  },
  {
   "cell_type": "code",
   "execution_count": 53,
   "metadata": {},
   "outputs": [
    {
     "name": "stdout",
     "output_type": "stream",
     "text": [
      "(10, 8, 8, 8)\n",
      "(10, 8, 8, 8)\n",
      "(9, 8, 8, 8)\n",
      "(10, 8, 8, 8)\n",
      "(10, 8, 8, 8)\n",
      "(10, 8, 8, 8)\n"
     ]
    }
   ],
   "source": [
    "### Gather data into single file\n",
    "flist=glob.glob(data_dir+'sigma_0.5/'+'img_idx_*_val*.npy')\n",
    "# print(len(flist))\n",
    "a1=np.stack([np.load(i) for i in flist])\n",
    "print(a1.shape)\n",
    "np.save(data_dir+'img_all_gathered_val_3d_64cube_sigma-0.5',a1)\n",
    "\n",
    "flist=glob.glob(data_dir+'sigma_0.8/'+'img_idx_*_val*.npy')\n",
    "# print(len(flist))\n",
    "a1=np.stack([np.load(i) for i in flist])\n",
    "print(a1.shape)\n",
    "np.save(data_dir+'img_all_gathered_val_3d_64cube_sigma-0.8',a1)\n",
    "\n",
    "flist=glob.glob(data_dir+'sigma_1.1/'+'img_idx_*_val*.npy')\n",
    "# print(len(flist))\n",
    "a1=np.stack([np.load(i) for i in flist])\n",
    "print(a1.shape)\n",
    "np.save(data_dir+'img_all_gathered_val_3d_64cube_sigma-1.1',a1)\n",
    "\n",
    "flist=glob.glob(data_dir+'20210723_74424_cgan_128_nodes1_lr0.000002_finetune_sigma_0.5/'+'img_idx_*.npy')\n",
    "# print(len(flist))\n",
    "a1=np.stack([np.load(i) for i in flist])\n",
    "print(a1.shape)\n",
    "np.save(data_dir+'img_all_gathered_1950_sigma-0.5',a1)\n",
    "\n",
    "flist=glob.glob(data_dir+'20210723_74424_cgan_128_nodes1_lr0.000002_finetune_sigma_0.8/'+'img_idx_*.npy')\n",
    "# print(len(flist))\n",
    "a1=np.stack([np.load(i) for i in flist])\n",
    "print(a1.shape)\n",
    "np.save(data_dir+'img_all_gathered_1950_sigma-0.8',a1)\n",
    "\n",
    "flist=glob.glob(data_dir+'20210723_74424_cgan_128_nodes1_lr0.000002_finetune_sigma_1.1/'+'img_idx_*.npy')\n",
    "# print(len(flist))\n",
    "a1=np.stack([np.load(i) for i in flist])\n",
    "print(a1.shape)\n",
    "np.save(data_dir+'img_all_gathered_1950_sigma-1.1',a1)\n",
    "\n",
    "\n",
    "# flist=glob.glob(data_dir+'20210617_204752_cgan_bs32_nodes8_lr0.0001-vary_fm50_step_42-24720_sigma_1.1/'+'img_idx_*.npy')\n",
    "# # print(len(flist))\n",
    "# a1=np.stack([np.load(i) for i in flist])\n",
    "# print(a1.shape)\n",
    "# np.save(data_dir+'img_all_gathered_42-24720_sigma-1.1',a1)\n",
    "\n",
    "\n",
    "# flist=glob.glob(data_dir+'20210617_204752_cgan_bs32_nodes8_lr0.0001-vary_fm50_step_42-24720_sigma_0.8/'+'img_idx_*.npy')\n",
    "# # print(len(flist))\n",
    "# a1=np.stack([np.load(i) for i in flist])\n",
    "# print(a1.shape)\n",
    "# np.save(data_dir+'img_all_gathered_42-24720_sigma-0.8',a1)"
   ]
  },
  {
   "cell_type": "code",
   "execution_count": 20,
   "metadata": {},
   "outputs": [],
   "source": [
    "# ### Gather data into single file\n",
    "# flist=glob.glob(data_dir+'sigma_0.5/'+'img_idx_*_val*.npy')\n",
    "# # print(len(flist))\n",
    "# a1=np.stack([np.load(i) for i in flist])\n",
    "# print(a1.shape)\n",
    "# np.save(data_dir+'img_all_gathered_val_3d_128cube_sigma-0.5',a1)\n",
    "\n",
    "# flist=glob.glob(data_dir+'sigma_1.1/'+'img_idx_*_val*.npy')\n",
    "# # print(len(flist))\n",
    "# a1=np.stack([np.load(i) for i in flist])\n",
    "# print(a1.shape)\n",
    "# np.save(data_dir+'img_all_gathered_val_3d_128cube_sigma-1.1',a1)\n"
   ]
  },
  {
   "cell_type": "code",
   "execution_count": 21,
   "metadata": {
    "tags": []
   },
   "outputs": [],
   "source": [
    "# flist=glob.glob(data_dir+'20210617_204752_cgan_bs32_nodes8_lr0.0001-vary_fm50_step_42-24720_sigma_1.1/'+'img_idx_*.npy')\n",
    "# # print(len(flist))\n",
    "# a1=np.stack([np.load(i) for i in flist])\n",
    "# a1=np.delete(a1,4,axis=0)\n",
    "# print(a1.shape)\n",
    "# np.save(data_dir+'img_all_gathered_42-24720_sigma-1.1a',a1)\n",
    "\n",
    "\n",
    "# flist=glob.glob(data_dir+'20210617_204752_cgan_bs32_nodes8_lr0.0001-vary_fm50_step_42-24720_sigma_0.8/'+'img_idx_*.npy')\n",
    "# # print(len(flist))\n",
    "# a1=np.stack([np.load(i) for i in flist])\n",
    "# a1=np.delete(a1,4,axis=0)\n",
    "# print(a1.shape)\n",
    "# np.save(data_dir+'img_all_gathered_42-24720_sigma-0.8a',a1)"
   ]
  },
  {
   "cell_type": "code",
   "execution_count": 54,
   "metadata": {
    "tags": []
   },
   "outputs": [
    {
     "name": "stdout",
     "output_type": "stream",
     "text": [
      "['/global/cfs/cdirs/m3363/vayyar/cosmogan_data/3ptfnc_stored_results/3dcgan_128cube/slice_128/img_all_gathered_1950_sigma-0.8.npy', '/global/cfs/cdirs/m3363/vayyar/cosmogan_data/3ptfnc_stored_results/3dcgan_128cube/slice_128/img_all_gathered_val_3d_64cube_sigma-0.8.npy', '/global/cfs/cdirs/m3363/vayyar/cosmogan_data/3ptfnc_stored_results/3dcgan_128cube/slice_128/img_all_gathered_val_3d_64cube_sigma-0.5.npy', '/global/cfs/cdirs/m3363/vayyar/cosmogan_data/3ptfnc_stored_results/3dcgan_128cube/slice_128/img_all_gathered_val_3d_64cube_sigma-1.1.npy', '/global/cfs/cdirs/m3363/vayyar/cosmogan_data/3ptfnc_stored_results/3dcgan_128cube/slice_128/img_all_gathered_1950_sigma-0.5.npy', '/global/cfs/cdirs/m3363/vayyar/cosmogan_data/3ptfnc_stored_results/3dcgan_128cube/slice_128/img_all_gathered_1950_sigma-1.1.npy']\n"
     ]
    }
   ],
   "source": [
    "flist=glob.glob(data_dir+'*gathered*.npy')\n",
    "print(flist)"
   ]
  },
  {
   "cell_type": "code",
   "execution_count": 55,
   "metadata": {
    "tags": []
   },
   "outputs": [
    {
     "name": "stdout",
     "output_type": "stream",
     "text": [
      "1950_gathered_0.8\n",
      "(10, 8, 8, 8)\n",
      "val_gathered_0.8\n",
      "(10, 8, 8, 8)\n",
      "val_gathered_0.5\n",
      "(10, 8, 8, 8)\n",
      "val_gathered_1.1\n",
      "(9, 8, 8, 8)\n",
      "1950_gathered_0.5\n",
      "(10, 8, 8, 8)\n",
      "1950_gathered_1.1\n",
      "(10, 8, 8, 8)\n"
     ]
    }
   ],
   "source": [
    "cols=['fname','label','data','fle']\n",
    "df=pd.DataFrame(columns=cols)\n",
    "\n",
    "for count,fname in enumerate(flist):\n",
    "    dict1={}\n",
    "    idx,name=fname.split('/')[-1].split('_')[2],fname.split('/')[-1].split('_')[3]\n",
    "    sigma=fname.split('/')[-1].split('sigma-')[-1].split('.npy')[0]\n",
    "    label=name+'_'+idx+'_'+sigma\n",
    "    print(label)\n",
    "    val=np.load(fname,allow_pickle=True)\n",
    "    print(val.shape)\n",
    "    if len(val.shape)==3: val=np.expand_dims(val,axis=0)\n",
    "    dict1={'label':label,'data':val,'fle':fname.split('/')[-1],'fname':fname}\n",
    "    df=df.append(dict1,ignore_index=True)\n"
   ]
  },
  {
   "cell_type": "code",
   "execution_count": 56,
   "metadata": {},
   "outputs": [],
   "source": [
    "# df"
   ]
  },
  {
   "cell_type": "code",
   "execution_count": 57,
   "metadata": {
    "tags": []
   },
   "outputs": [],
   "source": [
    "labels_lst=list(df.label.values)\n",
    "# labels_lst"
   ]
  },
  {
   "cell_type": "code",
   "execution_count": 58,
   "metadata": {
    "tags": []
   },
   "outputs": [
    {
     "data": {
      "text/html": [
       "<div>\n",
       "<style scoped>\n",
       "    .dataframe tbody tr th:only-of-type {\n",
       "        vertical-align: middle;\n",
       "    }\n",
       "\n",
       "    .dataframe tbody tr th {\n",
       "        vertical-align: top;\n",
       "    }\n",
       "\n",
       "    .dataframe thead th {\n",
       "        text-align: right;\n",
       "    }\n",
       "</style>\n",
       "<table border=\"1\" class=\"dataframe\">\n",
       "  <thead>\n",
       "    <tr style=\"text-align: right;\">\n",
       "      <th></th>\n",
       "      <th>label</th>\n",
       "      <th>fle</th>\n",
       "    </tr>\n",
       "  </thead>\n",
       "  <tbody>\n",
       "    <tr>\n",
       "      <th>0</th>\n",
       "      <td>1950_gathered_0.8</td>\n",
       "      <td>img_all_gathered_1950_sigma-0.8.npy</td>\n",
       "    </tr>\n",
       "    <tr>\n",
       "      <th>1</th>\n",
       "      <td>val_gathered_0.8</td>\n",
       "      <td>img_all_gathered_val_3d_64cube_sigma-0.8.npy</td>\n",
       "    </tr>\n",
       "    <tr>\n",
       "      <th>2</th>\n",
       "      <td>val_gathered_0.5</td>\n",
       "      <td>img_all_gathered_val_3d_64cube_sigma-0.5.npy</td>\n",
       "    </tr>\n",
       "    <tr>\n",
       "      <th>3</th>\n",
       "      <td>val_gathered_1.1</td>\n",
       "      <td>img_all_gathered_val_3d_64cube_sigma-1.1.npy</td>\n",
       "    </tr>\n",
       "    <tr>\n",
       "      <th>4</th>\n",
       "      <td>1950_gathered_0.5</td>\n",
       "      <td>img_all_gathered_1950_sigma-0.5.npy</td>\n",
       "    </tr>\n",
       "    <tr>\n",
       "      <th>5</th>\n",
       "      <td>1950_gathered_1.1</td>\n",
       "      <td>img_all_gathered_1950_sigma-1.1.npy</td>\n",
       "    </tr>\n",
       "  </tbody>\n",
       "</table>\n",
       "</div>"
      ],
      "text/plain": [
       "               label                                           fle\n",
       "0  1950_gathered_0.8           img_all_gathered_1950_sigma-0.8.npy\n",
       "1   val_gathered_0.8  img_all_gathered_val_3d_64cube_sigma-0.8.npy\n",
       "2   val_gathered_0.5  img_all_gathered_val_3d_64cube_sigma-0.5.npy\n",
       "3   val_gathered_1.1  img_all_gathered_val_3d_64cube_sigma-1.1.npy\n",
       "4  1950_gathered_0.5           img_all_gathered_1950_sigma-0.5.npy\n",
       "5  1950_gathered_1.1           img_all_gathered_1950_sigma-1.1.npy"
      ]
     },
     "execution_count": 58,
     "metadata": {},
     "output_type": "execute_result"
    }
   ],
   "source": [
    "df[['label','fle']]"
   ]
  },
  {
   "cell_type": "markdown",
   "metadata": {},
   "source": [
    "## Plot fixed r1,r2"
   ]
  },
  {
   "cell_type": "code",
   "execution_count": 59,
   "metadata": {
    "jupyter": {
     "source_hidden": true
    },
    "tags": []
   },
   "outputs": [],
   "source": [
    "def f_get_corrs_fixed_r(arr,r1,r2):\n",
    "    '''Get correlator values for given r1 and r2 '''    \n",
    "    num_imgs=arr.shape[0]\n",
    "    num_corrs=arr.shape[1]\n",
    "    \n",
    "    ### Pick r1,r2\n",
    "    arr=arr[:,:,r1,r2].astype(float)\n",
    "    # Avg over different images for fixed correlator\n",
    "    mean=np.array([np.mean(arr[:,i]) for i in range(num_corrs)])\n",
    "    err=np.array([np.std(arr[:,i])/np.sqrt(num_imgs) for i in range(num_corrs)])\n",
    "    \n",
    "    return mean,err\n",
    "\n",
    "def f_plot_fixed_rs(corrs_arr_lst,labels_lst,r1,r2,mode='relative'):\n",
    "    ''' mode =['absolute','relative']'''\n",
    "    \n",
    "    mean_ref,err_ref=f_get_corrs_fixed_r(corrs_arr_lst[0],r1,r2)\n",
    "    \n",
    "    plt.figure()\n",
    "    for arr,label in zip(corrs_arr_lst,labels_lst):\n",
    "        mean,err=f_get_corrs_fixed_r(arr,r1,r2)\n",
    "        if mode=='relative':\n",
    "            x,y,yerr=np.arange(len(mean)),mean/mean_ref,(mean/mean_ref)*np.sqrt((err/mean)**2 + (err_ref/mean_ref)**2)\n",
    "        else : \n",
    "            x,y,yerr=np.arange(len(mean)),mean,err\n",
    "        plt.errorbar(x,y,yerr,marker='o',label=label)\n",
    "    #     plt.plot(x,y,marker='o',label=str(i))\n",
    "        print(y/yerr)\n",
    "    plt.legend()\n",
    "    plt.xlabel('l')\n",
    "    plt.ylabel('3ptfc')\n",
    "    plt.title('3ptfc values for fixed {0}-{1} for different l values'.format(r1,r2))\n",
    "\n",
    "def f_get_corrs_fixed_l(arr,l,r1):\n",
    "    '''Get correlator values for given l and r1 '''    \n",
    "    num_imgs=arr.shape[0]\n",
    "    num_corrs=arr.shape[3]\n",
    "    print(arr.shape)\n",
    "    \n",
    "    ### Pick l,r1\n",
    "    arr=arr[:,l,r1,:].astype(float)\n",
    "\n",
    "    # Avg over different images for fixed correlator\n",
    "    mean=np.array([np.mean(arr[:,i]) for i in range(num_corrs)])\n",
    "    err=np.array([np.std(arr[:,i])/np.sqrt(num_imgs) for i in range(num_corrs)])\n",
    "    \n",
    "    return mean,err\n",
    "\n",
    "\n",
    "def f_plot_fixed_l(corrs_arr_lst,labels_lst,l,r1,mode='relative'):\n",
    "    ''' mode =['absolute','relative']'''\n",
    "    \n",
    "\n",
    "    mean_ref,err_ref=f_get_corrs_fixed_l(corrs_arr_lst[0],l,r1)\n",
    "\n",
    "    plt.figure()\n",
    "    for arr,label in zip(corrs_arr_lst,labels_lst):\n",
    "        mean,err=f_get_corrs_fixed_l(arr,l,r1)\n",
    "        \n",
    "        print(label,type(label))\n",
    "\n",
    "        if mode=='relative':\n",
    "            x,y,yerr=np.arange(len(mean)),mean/mean_ref,(mean/mean_ref)*np.sqrt((err/mean)**2 + (err_ref/mean_ref)**2)\n",
    "        else : \n",
    "            x,y,yerr=np.arange(len(mean)),mean,err\n",
    "        plt.errorbar(x,y,yerr,marker='o',label=label)\n",
    "    #     plt.plot(x,y,marker='o',label=str(i))\n",
    "#         print(y/yerr)\n",
    "\n",
    "    plt.xticks(x)\n",
    "    plt.xlabel('r2')\n",
    "    plt.legend()\n",
    "    plt.title('3ptfc values for fixed l={0} and r1: {1} for different r2 values'.format(l,r1))\n",
    "\n",
    "# f_plot_fixed_l(corr_lst,['a1','a2'],l=3,r1=3,mode='relative')\n",
    "# f_plot_fixed_rs(corr_lst,['a1','a2','a3'],r1=1,r2=4,mode='relative')\n"
   ]
  },
  {
   "cell_type": "code",
   "execution_count": 60,
   "metadata": {
    "tags": []
   },
   "outputs": [],
   "source": [
    "\n",
    "def f_plot_df_fixed_l(df,labels_lst,bkgnd_lst,l,r1,mode='relative'):\n",
    "    ''' mode =['absolute','relative']'''\n",
    "    \n",
    "    mean_ref,err_ref=f_get_corrs_fixed_l(df.data.values[0],l,r1)\n",
    "    \n",
    "    plt.figure()\n",
    "    \n",
    "    df_temp=df[df.label.isin(labels_lst)]\n",
    "    for i,row in df_temp.iterrows():\n",
    "        arr=row.data\n",
    "        label=row.label\n",
    "        mean,err=f_get_corrs_fixed_l(arr,l,r1)\n",
    "\n",
    "        if mode=='relative':\n",
    "            x,y,yerr=np.arange(len(mean)),mean/mean_ref,(mean/mean_ref)*np.sqrt((err/mean)**2 + (err_ref/mean_ref)**2)\n",
    "        else : \n",
    "            x,y,yerr=np.arange(len(mean)),mean,err\n",
    "        plt.errorbar(x,y,yerr,marker='o',label=label)\n",
    "    #     plt.plot(x,y,marker='o',label=str(i))\n",
    "    \n",
    "    df_temp=df[df.label.isin(bkgnd_lst)]\n",
    "    for i,row in df_temp.iterrows():\n",
    "        arr=row.data\n",
    "        label=row.label\n",
    "        mean,err=f_get_corrs_fixed_l(arr,l,r1)\n",
    "        if mode=='relative':\n",
    "            x,y,yerr=np.arange(len(mean)),mean/mean_ref,(mean/mean_ref)*np.sqrt((err/mean)**2 + (err_ref/mean_ref)**2)\n",
    "        else : \n",
    "            x,y,yerr=np.arange(len(mean)),mean,err\n",
    "        plt.errorbar(x,y,yerr,label=label,linestyle='--')\n",
    "       \n",
    "    plt.xticks(x)\n",
    "    plt.xlabel('r2')\n",
    "    plt.ylabel('3ptfc')\n",
    "    plt.legend()\n",
    "    plt.title('3ptfc values for fixed l={0} and r1: {1} for different r2 values'.format(l,r1))\n",
    "\n",
    "def f_plot_df_fixed_rs(df,labels_lst,bkgnd_lst,r1,r2,mode='relative'):\n",
    "    ''' mode =['absolute','relative']'''\n",
    "    \n",
    "    mean_ref,err_ref=f_get_corrs_fixed_r(df.data.values[0],r1,r2)\n",
    "    \n",
    "    plt.figure()\n",
    "    \n",
    "    df_temp=df[df.label.isin(labels_lst)]\n",
    "    for i,row in df_temp.iterrows():\n",
    "        arr=row.data\n",
    "        label=row.label\n",
    "        mean,err=f_get_corrs_fixed_r(arr,r1,r2)\n",
    "        if mode=='relative':\n",
    "            x,y,yerr=np.arange(len(mean)),mean/mean_ref,(mean/mean_ref)*np.sqrt((err/mean)**2 + (err_ref/mean_ref)**2)\n",
    "        else : \n",
    "            x,y,yerr=np.arange(len(mean)),mean,err\n",
    "        plt.errorbar(x,y,yerr,marker='o',label=label)\n",
    "    #     plt.plot(x,y,marker='o',label=str(i))\n",
    "    \n",
    "    df_temp=df[df.label.isin(bkgnd_lst)]\n",
    "    for i,row in df_temp.iterrows():\n",
    "        arr=row.data\n",
    "        label=row.label\n",
    "        mean,err=f_get_corrs_fixed_r(arr,r1,r2)\n",
    "        if mode=='relative':\n",
    "            x,y,yerr=np.arange(len(mean)),mean/mean_ref,(mean/mean_ref)*np.sqrt((err/mean)**2 + (err_ref/mean_ref)**2)\n",
    "        else : \n",
    "            x,y,yerr=np.arange(len(mean)),mean,err\n",
    "        plt.errorbar(x,y,yerr,label=label,linestyle='--')\n",
    "    \n",
    "    plt.legend()\n",
    "    plt.xlabel('l')\n",
    "    plt.ylabel('3ptfc')\n",
    "    plt.title('3ptfc values for fixed {0}-{1} for different l values'.format(r1,r2))\n",
    "    \n",
    "# f_plot_df_fixed_rs(df,labels_lst[1:],labels_lst,r1=1,r2=3,mode='absolute')\n",
    "# f_plot_df_fixed_l(df,labels_lst[:1],labels_lst,l=1,r1=1,mode='absolute')"
   ]
  },
  {
   "cell_type": "code",
   "execution_count": 61,
   "metadata": {},
   "outputs": [
    {
     "data": {
      "application/vnd.jupyter.widget-view+json": {
       "model_id": "cccdb4bcb72e4ba4b9fe24011ef46a60",
       "version_major": 2,
       "version_minor": 0
      },
      "text/plain": [
       "interactive(children=(SelectMultiple(description='labels_lst', options=('1950_gathered_0.8', 'val_gathered_0.8…"
      ]
     },
     "metadata": {},
     "output_type": "display_data"
    },
    {
     "data": {
      "text/plain": [
       "<function __main__.f_plot_df_fixed_rs(df, labels_lst, bkgnd_lst, r1, r2, mode='relative')>"
      ]
     },
     "execution_count": 61,
     "metadata": {},
     "output_type": "execute_result"
    }
   ],
   "source": [
    "interact(f_plot_df_fixed_rs,df=fixed(df),\n",
    "                labels_lst=SelectMultiple(options=df.label.values),\n",
    "                bkgnd_lst=SelectMultiple(options=df.label.values),\n",
    "                r1=IntSlider(min=0,max=19,step=1),r2=IntSlider(min=0,max=19,step=1),\n",
    "                mode=['absolute'])\n"
   ]
  },
  {
   "cell_type": "code",
   "execution_count": 62,
   "metadata": {},
   "outputs": [
    {
     "data": {
      "application/vnd.jupyter.widget-view+json": {
       "model_id": "53e280364b524408a5d7e55517df98fe",
       "version_major": 2,
       "version_minor": 0
      },
      "text/plain": [
       "interactive(children=(SelectMultiple(description='labels_lst', options=('1950_gathered_0.8', 'val_gathered_0.8…"
      ]
     },
     "metadata": {},
     "output_type": "display_data"
    },
    {
     "data": {
      "text/plain": [
       "<function __main__.f_plot_df_fixed_l(df, labels_lst, bkgnd_lst, l, r1, mode='relative')>"
      ]
     },
     "execution_count": 62,
     "metadata": {},
     "output_type": "execute_result"
    }
   ],
   "source": [
    "interact(f_plot_df_fixed_l,df=fixed(df),\n",
    "                labels_lst=SelectMultiple(options=df.label.values),\n",
    "                bkgnd_lst=SelectMultiple(options=df.label.values),\n",
    "                l=ToggleButtons(options=np.arange(7)),\n",
    "                r1=IntSlider(min=0,max=18,step=1),mode=['absolute'])\n"
   ]
  },
  {
   "cell_type": "code",
   "execution_count": 45,
   "metadata": {},
   "outputs": [],
   "source": [
    "# # fname='/global/cfs/cdirs/m3363/vayyar/cosmogan_data/3ptfnc_stored_results/img_9-corr_2d_val_0.8.npy'\n",
    "# fname='/global/cfs/cdirs/m3363/vayyar/cosmogan_data/3ptfnc_stored_results/3pt_corr_0_3d_dset1.npy'\n",
    "# fname='/global/cfs/cdirs/m3363/vayyar/cosmogan_data/3ptfnc_stored_results/img_idx_0_3d_dset1.npy'\n",
    "# a1=np.load(fname)\n",
    "# a1.shape"
   ]
  },
  {
   "cell_type": "code",
   "execution_count": null,
   "metadata": {},
   "outputs": [],
   "source": [
    "# a1.shape"
   ]
  },
  {
   "cell_type": "code",
   "execution_count": null,
   "metadata": {},
   "outputs": [],
   "source": [
    "fname='/global/cfs/cdirs/m3363/vayyar/cosmogan_data/raw_data/3d_data/dataset1_smoothing_const_params_64cube_100k/val.npy'\n",
    "fname='/global/cfs/cdirs/m3363/vayyar/cosmogan_data/3ptfnc_stored_results/2d_4sigma-values/3pt_corr_0_1.1.npy'\n",
    "a1=np.load(fname,mmap_mode='r')\n"
   ]
  },
  {
   "cell_type": "code",
   "execution_count": 29,
   "metadata": {},
   "outputs": [],
   "source": [
    "f1='/global/cfs/cdirs/m3363/vayyar/cosmogan_data/3ptfnc_stored_results/img_idx_0_val_3d_64cube-knl.npy'\n",
    "f2='/global/cfs/cdirs/m3363/vayyar/cosmogan_data/3ptfnc_stored_results/img_idx_0_val_3d_64cube-sigma0.8.npy'"
   ]
  },
  {
   "cell_type": "code",
   "execution_count": 51,
   "metadata": {},
   "outputs": [],
   "source": [
    "a1=np.load(f1,allow_pickle=True).astype(float)\n",
    "a2=np.load(f2,allow_pickle=True).astype(float)"
   ]
  },
  {
   "cell_type": "code",
   "execution_count": 52,
   "metadata": {},
   "outputs": [
    {
     "data": {
      "text/plain": [
       "False"
      ]
     },
     "execution_count": 52,
     "metadata": {},
     "output_type": "execute_result"
    }
   ],
   "source": [
    "np.array_equal(a1,a2)"
   ]
  },
  {
   "cell_type": "code",
   "execution_count": 53,
   "metadata": {},
   "outputs": [
    {
     "data": {
      "text/plain": [
       "True"
      ]
     },
     "execution_count": 53,
     "metadata": {},
     "output_type": "execute_result"
    }
   ],
   "source": [
    "np.allclose(a1,a2)"
   ]
  },
  {
   "cell_type": "code",
   "execution_count": 5,
   "metadata": {},
   "outputs": [
    {
     "name": "stdout",
     "output_type": "stream",
     "text": [
      "/global/cfs/cdirs/m3363/vayyar/cosmogan_data/results_from_other_code/pytorch/results/3d_cGAN/20210617_204752_cgan_bs32_nodes8_lr0.0001-vary_fm50/images/inference_label-0.5_epoch-42_step-24720.npy\n"
     ]
    }
   ],
   "source": [
    "ls /global/cfs/cdirs/m3363/vayyar/cosmogan_data/results_from_other_code/pytorch/results/3d_cGAN/20210617_204752_cgan_bs32_nodes8_lr0.0001-vary_fm50/images/inference_label-0.5_epoch-42_step-24720.npy"
   ]
  },
  {
   "cell_type": "code",
   "execution_count": 162,
   "metadata": {},
   "outputs": [],
   "source": []
  },
  {
   "cell_type": "code",
   "execution_count": 166,
   "metadata": {},
   "outputs": [
    {
     "data": {
      "application/vnd.jupyter.widget-view+json": {
       "model_id": "fffad692e7e749d495f3f93fade39958",
       "version_major": 2,
       "version_minor": 0
      },
      "text/plain": [
       "Canvas(toolbar=Toolbar(toolitems=[('Home', 'Reset original view', 'home', 'home'), ('Back', 'Back to previous …"
      ]
     },
     "metadata": {},
     "output_type": "display_data"
    },
    {
     "data": {
      "text/plain": [
       "[<matplotlib.lines.Line2D at 0x2aaae748cd00>]"
      ]
     },
     "execution_count": 166,
     "metadata": {},
     "output_type": "execute_result"
    }
   ],
   "source": [
    "def f_transform(x):\n",
    "    return 2.*x/(x + 4.) - 1.\n",
    "\n",
    "\n",
    "x=np.arange(1,1000,1)\n",
    "y=f_transform(x)\n",
    "\n",
    "plt.figure()\n",
    "plt.plot(y,marker='o')"
   ]
  },
  {
   "cell_type": "code",
   "execution_count": 197,
   "metadata": {},
   "outputs": [
    {
     "data": {
      "application/vnd.jupyter.widget-view+json": {
       "model_id": "7a1ffe2d3ea749a5a247553842f1c89b",
       "version_major": 2,
       "version_minor": 0
      },
      "text/plain": [
       "Canvas(toolbar=Toolbar(toolitems=[('Home', 'Reset original view', 'home', 'home'), ('Back', 'Back to previous …"
      ]
     },
     "metadata": {},
     "output_type": "display_data"
    },
    {
     "data": {
      "application/vnd.jupyter.widget-view+json": {
       "model_id": "37cfeac55ddc4077be1a1a4381a3229b",
       "version_major": 2,
       "version_minor": 0
      },
      "text/plain": [
       "Canvas(toolbar=Toolbar(toolitems=[('Home', 'Reset original view', 'home', 'home'), ('Back', 'Back to previous …"
      ]
     },
     "metadata": {},
     "output_type": "display_data"
    },
    {
     "data": {
      "text/plain": [
       "[<matplotlib.lines.Line2D at 0x2aaae7e86bb0>]"
      ]
     },
     "execution_count": 197,
     "metadata": {},
     "output_type": "execute_result"
    }
   ],
   "source": [
    "x=np.abs(np.random.normal(0.0,100.0,1000))\n",
    "x0=np.arange(0,1000,1)\n",
    "x=np.exp((-x0/(2*400))**2)\n",
    "y=f_transform(x)\n",
    "\n",
    "\n",
    "plt.figure()\n",
    "plt.plot(y,marker='o',linestyle='')\n",
    "plt.figure()\n",
    "plt.plot(x,marker='o',linestyle='')"
   ]
  }
 ],
 "metadata": {
  "kernelspec": {
   "display_name": "v3",
   "language": "python",
   "name": "v-jpt-3"
  },
  "language_info": {
   "codemirror_mode": {
    "name": "ipython",
    "version": 3
   },
   "file_extension": ".py",
   "mimetype": "text/x-python",
   "name": "python",
   "nbconvert_exporter": "python",
   "pygments_lexer": "ipython3",
   "version": "3.8.6"
  }
 },
 "nbformat": 4,
 "nbformat_minor": 4
}

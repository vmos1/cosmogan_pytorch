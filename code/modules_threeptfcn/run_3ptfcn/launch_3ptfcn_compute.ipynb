{
 "cells": [
  {
   "cell_type": "markdown",
   "metadata": {},
   "source": [
    "# Launch LBANN traing jobs\n",
    "Code to create a batch script for launching jobs on cori GPU\n",
    "\n",
    "Sep 1, 2020"
   ]
  },
  {
   "cell_type": "code",
   "execution_count": 1,
   "metadata": {},
   "outputs": [],
   "source": [
    "import os\n",
    "import glob,time\n",
    "import subprocess as sp\n",
    "import numpy as np\n",
    "\n",
    "import yaml\n"
   ]
  },
  {
   "cell_type": "code",
   "execution_count": 2,
   "metadata": {},
   "outputs": [],
   "source": [
    "from ipywidgets import *"
   ]
  },
  {
   "cell_type": "code",
   "execution_count": 3,
   "metadata": {},
   "outputs": [
    {
     "name": "stdout",
     "output_type": "stream",
     "text": [
      "/global/u1/v/vpa/project/jpt_notebooks/Cosmology/Cosmo_GAN/repositories/cosmogan_pytorch/code/modules_threeptfcn/run_3ptfcn\n"
     ]
    }
   ],
   "source": [
    "start_dir=os.getcwd()\n",
    "print(start_dir)"
   ]
  },
  {
   "cell_type": "markdown",
   "metadata": {},
   "source": [
    "## Define dictionary"
   ]
  },
  {
   "cell_type": "code",
   "execution_count": 39,
   "metadata": {},
   "outputs": [],
   "source": [
    "## Read ref_launch.yaml\n",
    "# main_code_dir=config_dict[facility]['main_code_dir']\n",
    "# dict_pars=config_dict[facility][img_size][run_type]\n",
    "\n",
    "### 64cube\n",
    "dict_pars={'nodes':10, 'queue':'regular','bins':'unenven','time':'0:30:00',\n",
    "           'job_name':'3ptfnc',\n",
    "            'suffix':'inf_20210617_204752_cgan_bs32_nodes8_lr0.0001-vary_fm50_step_42-24720_sigma0.8','num_l':8,'img_slice':64,\n",
    "                 }\n",
    "\n",
    "### 128cube\n",
    "dict_pars={'nodes':30, 'queue':'regular','bins':'unenven','time':'6:00:00',\n",
    "           'job_name':'3ptfnc',\n",
    "            'suffix':'val_3d_128cube_sigma0.5','num_l':8,'img_slice':128,\n",
    "                 }\n",
    "\n",
    "dict_pars['staging_loc']='/global/u1/v/vpa/project/jpt_notebooks/Cosmology/Cosmo_GAN/repositories/cosmogan_pytorch/code/modules_threeptfcn/run_3ptfcn/'\n",
    "dict_pars['code_dir']='/global/u1/v/vpa/project/jpt_notebooks/Cosmology/Cosmo_GAN/repositories/cosmogan_pytorch/code/modules_threeptfcn/run_3ptfcn'\n",
    "dict_pars['cores']=dict_pars['nodes']*32\n"
   ]
  },
  {
   "cell_type": "code",
   "execution_count": 40,
   "metadata": {},
   "outputs": [],
   "source": [
    "### 3dgan 64cube validation\n",
    "# dict_pars['fname']='/global/cfs/cdirs/m3363/vayyar/cosmogan_data/raw_data/3d_data/dataset1_smoothing_const_params_64cube_100k/val.npy'\n",
    "# dict_pars['fname']='/global/cfs/cdirs/m3363/vayyar/cosmogan_data/results_from_other_code/pytorch/results/3d/20210506_175558_64cube_bs8_lr0.0006_nodes8_spec0.1_bestrun/images/gen_img_epoch-124_step-19390.npy'"
   ]
  },
  {
   "cell_type": "code",
   "execution_count": 41,
   "metadata": {},
   "outputs": [],
   "source": [
    "### 3dcgan 64cube\n",
    "sigma=0.5\n",
    "#dict_pars['fname']='/global/cfs/cdirs/m3363/vayyar/cosmogan_data/raw_data/3d_data/dataset2a_3dcgan_4univs_64cube_simple_splicing/norm_1_sig_{0}_train_val.npy'.format(sigma)\n",
    "dict_pars['fname']='/global/cfs/cdirs/m3363/vayyar/cosmogan_data/results_from_other_code/pytorch/results/3d_cGAN/20210617_204752_cgan-64_bs32_nodes1_lr0.0001-vary_fm50_goodrun/images/inference_label-{0}_epoch-42_step-24720.npy'.format(sigma)"
   ]
  },
  {
   "cell_type": "code",
   "execution_count": 42,
   "metadata": {},
   "outputs": [],
   "source": [
    "### 3dgan 128cube validation\n",
    "sigma=0.5\n",
    "dict_pars['fname']='/global/cfs/cdirs/m3363/vayyar/cosmogan_data/raw_data/3d_data/dataset4_smoothing_4univ_cgan_varying_sigma_128cube/norm_1_sig_{0}_train_val.npy'.format(sigma)\n",
    "\n"
   ]
  },
  {
   "cell_type": "code",
   "execution_count": 43,
   "metadata": {},
   "outputs": [],
   "source": [
    "# %%bash -s \"$op_fldr\"\n",
    "# ls $1"
   ]
  },
  {
   "cell_type": "code",
   "execution_count": 44,
   "metadata": {},
   "outputs": [
    {
     "data": {
      "text/plain": [
       "{'nodes': 30,\n",
       " 'queue': 'regular',\n",
       " 'bins': 'unenven',\n",
       " 'time': '6:00:00',\n",
       " 'job_name': '3ptfnc',\n",
       " 'suffix': 'val_3d_128cube_sigma0.5',\n",
       " 'num_l': 8,\n",
       " 'img_slice': 128,\n",
       " 'staging_loc': '/global/u1/v/vpa/project/jpt_notebooks/Cosmology/Cosmo_GAN/repositories/cosmogan_pytorch/code/modules_threeptfcn/run_3ptfcn/',\n",
       " 'code_dir': '/global/u1/v/vpa/project/jpt_notebooks/Cosmology/Cosmo_GAN/repositories/cosmogan_pytorch/code/modules_threeptfcn/run_3ptfcn',\n",
       " 'cores': 960,\n",
       " 'fname': '/global/cfs/cdirs/m3363/vayyar/cosmogan_data/raw_data/3d_data/dataset4_smoothing_4univ_cgan_varying_sigma_128cube/norm_1_sig_0.5_train_val.npy'}"
      ]
     },
     "execution_count": 44,
     "metadata": {},
     "output_type": "execute_result"
    }
   ],
   "source": [
    "dict_pars"
   ]
  },
  {
   "cell_type": "code",
   "execution_count": 45,
   "metadata": {},
   "outputs": [],
   "source": [
    "bash_strg='''#!/bin/bash\n",
    "#################\n",
    "#SBATCH --nodes={nodes}\n",
    "#SBATCH --qos={queue}\n",
    "#SBATCH --output=slurm-%x-%j.out\n",
    "#SBATCH --account=m3363\n",
    "#SBATCH -C haswell\n",
    "#SBATCH --time={time}\n",
    "#SBATCH --job-name={job_name}\n",
    "\n",
    "echo \"--start date\" `date` `date +%s`\n",
    "echo '--hostname ' $HOSTNAME\n",
    "\n",
    "I=$1\n",
    "source /global/common/software/m3035/conda-activate.sh 3.7\n",
    "code_dir={code_dir}\n",
    "fname={fname}\n",
    "\n",
    "srun -n {cores} python $code_dir/3pt_fcn_simple.py -n {num_l} --img_slice {img_slice} -idx $I -f $fname -sfx {suffix}\n",
    "\n",
    "echo \"--end date\" `date` `date +%s`\n",
    "'''.format(**dict_pars)"
   ]
  },
  {
   "cell_type": "code",
   "execution_count": 46,
   "metadata": {},
   "outputs": [
    {
     "name": "stdout",
     "output_type": "stream",
     "text": [
      "/global/u1/v/vpa/project/jpt_notebooks/Cosmology/Cosmo_GAN/repositories/cosmogan_pytorch/code/modules_threeptfcn/run_3ptfcn/batch_3ptcn.sh\n"
     ]
    }
   ],
   "source": [
    "fname='batch_3ptcn.sh'\n",
    "filename=dict_pars['staging_loc']+fname\n",
    "with open (filename,'w') as f:\n",
    "    f.write(bash_strg)\n",
    "print(filename)"
   ]
  },
  {
   "cell_type": "code",
   "execution_count": 47,
   "metadata": {},
   "outputs": [],
   "source": [
    "## Move to staging locations in project space:\n",
    "os.chdir(dict_pars['staging_loc'])"
   ]
  },
  {
   "cell_type": "code",
   "execution_count": 48,
   "metadata": {},
   "outputs": [
    {
     "name": "stdout",
     "output_type": "stream",
     "text": [
      "#!/bin/bash\n",
      "#################\n",
      "#SBATCH --nodes=30\n",
      "#SBATCH --qos=regular\n",
      "#SBATCH --output=slurm-%x-%j.out\n",
      "#SBATCH --account=m3363\n",
      "#SBATCH -C haswell\n",
      "#SBATCH --time=6:00:00\n",
      "#SBATCH --job-name=3ptfnc\n",
      "\n",
      "echo \"--start date\" `date` `date +%s`\n",
      "echo '--hostname ' $HOSTNAME\n",
      "\n",
      "I=$1\n",
      "source /global/common/software/m3035/conda-activate.sh 3.7\n",
      "code_dir=/global/u1/v/vpa/project/jpt_notebooks/Cosmology/Cosmo_GAN/repositories/cosmogan_pytorch/code/modules_threeptfcn/run_3ptfcn\n",
      "fname=/global/cfs/cdirs/m3363/vayyar/cosmogan_data/raw_data/3d_data/dataset4_smoothing_4univ_cgan_varying_sigma_128cube/norm_1_sig_0.5_train_val.npy\n",
      "\n",
      "srun -n 960 python $code_dir/3pt_fcn_simple.py -n 8 --img_slice 128 -idx $I -f $fname -sfx val_3d_128cube_sigma0.5\n",
      "\n",
      "echo \"--end date\" `date` `date +%s`\n"
     ]
    }
   ],
   "source": [
    "%%bash -s \"$filename\" ## Use python variable in bash\n",
    "cat $1\n",
    "chmod +x $1"
   ]
  },
  {
   "cell_type": "markdown",
   "metadata": {},
   "source": [
    "## Submit job to cori GPU"
   ]
  },
  {
   "cell_type": "code",
   "execution_count": 49,
   "metadata": {},
   "outputs": [
    {
     "name": "stdout",
     "output_type": "stream",
     "text": [
      "0\n"
     ]
    }
   ],
   "source": [
    "lst=np.arange(32)\n",
    "# lst=[0,3,6,8,19]\n",
    "lst2=[str(i) for i in lst][0]\n",
    "strg=' '.join(lst2)\n",
    "print(strg)"
   ]
  },
  {
   "cell_type": "code",
   "execution_count": 50,
   "metadata": {
    "tags": []
   },
   "outputs": [
    {
     "name": "stdout",
     "output_type": "stream",
     "text": [
      "Submitted batch job 43738685\n"
     ]
    }
   ],
   "source": [
    "%%bash -s \"$filename\" \"$strg\" ## Use python variable in bash\n",
    "# for i in $2; do echo $i; echo $1; done\n",
    "for i in $2; do sbatch $1 $i; done"
   ]
  },
  {
   "cell_type": "code",
   "execution_count": 15,
   "metadata": {},
   "outputs": [],
   "source": [
    "# fname='/global/cfs/cdirs/m3363/vayyar/cosmogan_data/results_from_other_code/pytorch/results/3d_cGAN/20210617_204752_cgan_bs32_nodes8_lr0.0001-vary_fm50/images/inference_label-0.5_epoch-36_step-21550.npy'\n",
    "# np.load(fname,mmap_mode='r').shape"
   ]
  },
  {
   "cell_type": "code",
   "execution_count": null,
   "metadata": {},
   "outputs": [],
   "source": []
  }
 ],
 "metadata": {
  "kernelspec": {
   "display_name": "v3",
   "language": "python",
   "name": "v-jpt-3"
  },
  "language_info": {
   "codemirror_mode": {
    "name": "ipython",
    "version": 3
   },
   "file_extension": ".py",
   "mimetype": "text/x-python",
   "name": "python",
   "nbconvert_exporter": "python",
   "pygments_lexer": "ipython3",
   "version": "3.8.6"
  }
 },
 "nbformat": 4,
 "nbformat_minor": 4
}

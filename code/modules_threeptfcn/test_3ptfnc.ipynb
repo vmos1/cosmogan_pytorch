{
 "cells": [
  {
   "cell_type": "markdown",
   "metadata": {},
   "source": [
    "# Testing 3pt function computation for 2d GAN output files\n",
    "Jan 19, 2021"
   ]
  },
  {
   "cell_type": "code",
   "execution_count": 5,
   "metadata": {},
   "outputs": [],
   "source": [
    "import numpy as np\n",
    "import os\n",
    "import glob"
   ]
  },
  {
   "cell_type": "code",
   "execution_count": 15,
   "metadata": {},
   "outputs": [],
   "source": [
    "fldr='/global/u1/v/vpa/project/jpt_notebooks/Cosmology/Cosmo_GAN/repositories/lbann_cosmogan/3_analysis/nbody_kit/tests_local/data_stored_results/test/'"
   ]
  },
  {
   "cell_type": "code",
   "execution_count": null,
   "metadata": {},
   "outputs": [],
   "source": []
  },
  {
   "cell_type": "code",
   "execution_count": 21,
   "metadata": {},
   "outputs": [],
   "source": [
    "def f_concat_temp_files(num_batches,save_location,file_prefix):\n",
    "    '''\n",
    "    Function to concatenate temp files to create the full file.\n",
    "    Steps: get data from temp files, stack numpy arrays and delete temp files\n",
    "    '''\n",
    "    if num_batches<1:\n",
    "        print('zero temp files',num_batches)\n",
    "        return 0\n",
    "    \n",
    "    x = np.vstack([np.expand_dims(np.load(save_location+'%s_%s-corr'%(file_prefix,count)+'.npy'),axis=0) for count in np.arange(num_batches)])\n",
    "    print(x.shape)\n",
    "    \n",
    "    # Delete temp files\n",
    "    for count in np.arange(num_batches):\n",
    "        f1='%s_%s-corr'%(file_prefix,count)+'.npy'\n",
    "        os.remove(save_location+f1)\n",
    "    print(\"Deleted temp files\")\n",
    "    \n",
    "    return x"
   ]
  },
  {
   "cell_type": "code",
   "execution_count": 24,
   "metadata": {},
   "outputs": [
    {
     "name": "stdout",
     "output_type": "stream",
     "text": [
      "(20, 6, 18, 18)\n",
      "Deleted temp files\n"
     ]
    }
   ],
   "source": [
    "x=f_concat_temp_files(20,fldr,'img')"
   ]
  },
  {
   "cell_type": "code",
   "execution_count": 5,
   "metadata": {},
   "outputs": [],
   "source": [
    "fname='/global/cfs/cdirs/m3363/vayyar/cosmogan_data/results_from_other_code/pytorch/results/128sq/3ptfnc_stored_results/3pt_corr_sigma_0.5.npy'"
   ]
  },
  {
   "cell_type": "code",
   "execution_count": 6,
   "metadata": {},
   "outputs": [
    {
     "data": {
      "text/plain": [
       "(50, 6, 18, 18)"
      ]
     },
     "execution_count": 6,
     "metadata": {},
     "output_type": "execute_result"
    }
   ],
   "source": [
    "np.load(fname).shape"
   ]
  },
  {
   "cell_type": "code",
   "execution_count": 4,
   "metadata": {},
   "outputs": [
    {
     "data": {
      "text/plain": [
       "'/global/u1/v/vpa/project/jpt_notebooks/Cosmology/Cosmo_GAN/repositories/cosmogan_pytorch/code/1_basic_GAN/2_analysis/3ptfcn'"
      ]
     },
     "execution_count": 4,
     "metadata": {},
     "output_type": "execute_result"
    }
   ],
   "source": [
    "pwd"
   ]
  },
  {
   "cell_type": "code",
   "execution_count": 8,
   "metadata": {},
   "outputs": [],
   "source": [
    "fldr='/gpfs/alpine/ast153/proj-shared/venkitesh/Cosmogan/data/results_pytorch/3ptfcn_tests/*.npy'"
   ]
  },
  {
   "cell_type": "code",
   "execution_count": 10,
   "metadata": {},
   "outputs": [],
   "source": [
    "files_lst=glob.glob(fldr)"
   ]
  },
  {
   "cell_type": "code",
   "execution_count": 11,
   "metadata": {},
   "outputs": [
    {
     "data": {
      "text/plain": [
       "['/gpfs/alpine/ast153/proj-shared/venkitesh/Cosmogan/data/results_pytorch/3ptfcn_tests/img_0-l12_1core.npy',\n",
       " '/gpfs/alpine/ast153/proj-shared/venkitesh/Cosmogan/data/results_pytorch/3ptfcn_tests/img_0-l12_8cores.npy',\n",
       " '/gpfs/alpine/ast153/proj-shared/venkitesh/Cosmogan/data/results_pytorch/3ptfcn_tests/img_0-1core.npy',\n",
       " '/gpfs/alpine/ast153/proj-shared/venkitesh/Cosmogan/data/results_pytorch/3ptfcn_tests/img_0-l12_16cores.npy',\n",
       " '/gpfs/alpine/ast153/proj-shared/venkitesh/Cosmogan/data/results_pytorch/3ptfcn_tests/img_0-4parallel.npy',\n",
       " '/gpfs/alpine/ast153/proj-shared/venkitesh/Cosmogan/data/results_pytorch/3ptfcn_tests/img_0-l12_4cores.npy']"
      ]
     },
     "execution_count": 11,
     "metadata": {},
     "output_type": "execute_result"
    }
   ],
   "source": [
    "files_lst"
   ]
  },
  {
   "cell_type": "code",
   "execution_count": 12,
   "metadata": {},
   "outputs": [
    {
     "data": {
      "text/plain": [
       "('/gpfs/alpine/ast153/proj-shared/venkitesh/Cosmogan/data/results_pytorch/3ptfcn_tests/img_0-1core.npy',\n",
       " '/gpfs/alpine/ast153/proj-shared/venkitesh/Cosmogan/data/results_pytorch/3ptfcn_tests/img_0-4parallel.npy')"
      ]
     },
     "execution_count": 12,
     "metadata": {},
     "output_type": "execute_result"
    }
   ],
   "source": [
    "f1=files_lst[2];f2=files_lst[4]\n",
    "f1,f2"
   ]
  },
  {
   "cell_type": "code",
   "execution_count": 34,
   "metadata": {},
   "outputs": [],
   "source": [
    "f1=files_lst[0];f2=files_lst[5]"
   ]
  },
  {
   "cell_type": "code",
   "execution_count": 35,
   "metadata": {},
   "outputs": [
    {
     "data": {
      "text/plain": [
       "((12, 8, 8), (12, 8, 8))"
      ]
     },
     "execution_count": 35,
     "metadata": {},
     "output_type": "execute_result"
    }
   ],
   "source": [
    "a1=np.load(f1);a2=np.load(f2);\n",
    "a1.shape,a2.shape"
   ]
  },
  {
   "cell_type": "code",
   "execution_count": 36,
   "metadata": {},
   "outputs": [
    {
     "data": {
      "text/plain": [
       "True"
      ]
     },
     "execution_count": 36,
     "metadata": {},
     "output_type": "execute_result"
    }
   ],
   "source": [
    "np.allclose(a1,a2)"
   ]
  },
  {
   "cell_type": "code",
   "execution_count": 27,
   "metadata": {},
   "outputs": [],
   "source": [
    "for i in range(a1.shape[0]):\n",
    "    for j in range(a1.shape[1]):\n",
    "        for k in range(a1.shape[2]):\n",
    "            if not np.isclose(a1[i,j,k],a2[i,j,k]): \n",
    "                print(i,j,k,a1[i,j,k],a2[i,j,k])\n"
   ]
  },
  {
   "cell_type": "code",
   "execution_count": null,
   "metadata": {},
   "outputs": [],
   "source": []
  }
 ],
 "metadata": {
  "kernelspec": {
   "display_name": "OLCF-base",
   "language": "python",
   "name": "python3"
  },
  "language_info": {
   "codemirror_mode": {
    "name": "ipython",
    "version": 3
   },
   "file_extension": ".py",
   "mimetype": "text/x-python",
   "name": "python",
   "nbconvert_exporter": "python",
   "pygments_lexer": "ipython3",
   "version": "3.8.8"
  }
 },
 "nbformat": 4,
 "nbformat_minor": 4
}

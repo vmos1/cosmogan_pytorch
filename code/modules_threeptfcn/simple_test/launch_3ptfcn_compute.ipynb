{
 "cells": [
  {
   "cell_type": "markdown",
   "metadata": {},
   "source": [
    "# Launch LBANN traing jobs\n",
    "Code to create a batch script for launching jobs on cori GPU\n",
    "\n",
    "Sep 1, 2020"
   ]
  },
  {
   "cell_type": "code",
   "execution_count": 1,
   "metadata": {},
   "outputs": [],
   "source": [
    "import os\n",
    "import glob,time\n",
    "import subprocess as sp\n",
    "import numpy as np\n",
    "\n",
    "import yaml\n"
   ]
  },
  {
   "cell_type": "code",
   "execution_count": 2,
   "metadata": {},
   "outputs": [],
   "source": [
    "from ipywidgets import *"
   ]
  },
  {
   "cell_type": "code",
   "execution_count": 3,
   "metadata": {},
   "outputs": [
    {
     "name": "stdout",
     "output_type": "stream",
     "text": [
      "/global/u1/v/vpa/project/jpt_notebooks/Cosmology/Cosmo_GAN/repositories/cosmogan_pytorch/code/modules_threeptfcn/simple_test\n"
     ]
    }
   ],
   "source": [
    "start_dir=os.getcwd()\n",
    "print(start_dir)"
   ]
  },
  {
   "cell_type": "markdown",
   "metadata": {},
   "source": [
    "## Define dictionary"
   ]
  },
  {
   "cell_type": "code",
   "execution_count": 15,
   "metadata": {},
   "outputs": [],
   "source": [
    "## Read ref_launch.yaml\n",
    "# main_code_dir=config_dict[facility]['main_code_dir']\n",
    "# dict_pars=config_dict[facility][img_size][run_type]\n",
    "dict_pars={'nodes':10, 'queue':'regular','bins':'unenven','cores':64,'time':'0:30:00',\n",
    "           'job_name':'3ptfnc',\n",
    "            'suffix':'inf_20210617_204752_cgan_bs32_nodes8_lr0.0001-vary_fm50_step_42-24720_sigma0.5','num_l':8,'img_slice':64,\n",
    "                 }\n",
    "\n",
    "dict_pars['staging_loc']='/global/u1/v/vpa/project/jpt_notebooks/Cosmology/Cosmo_GAN/repositories/cosmogan_pytorch/code/modules_threeptfcn/simple_test/'\n",
    "dict_pars['code_dir']='/global/u1/v/vpa/project/jpt_notebooks/Cosmology/Cosmo_GAN/repositories/cosmogan_pytorch/code/modules_threeptfcn/simple_test'\n",
    "dict_pars['cores']=dict_pars['nodes']*64"
   ]
  },
  {
   "cell_type": "code",
   "execution_count": 16,
   "metadata": {},
   "outputs": [],
   "source": [
    "### 3dgan 64cube\n",
    "# dict_pars['fname']='/global/cfs/cdirs/m3363/vayyar/cosmogan_data/raw_data/3d_data/dataset1_smoothing_const_params_64cube_100k/val.npy'\n",
    "# dict_pars['fname']='/global/cfs/cdirs/m3363/vayyar/cosmogan_data/results_from_other_code/pytorch/results/3d/20210506_175558_64cube_bs8_lr0.0006_nodes8_spec0.1_bestrun/images/gen_img_epoch-124_step-19390.npy'\n",
    "# dict_pars['fname']='/global/cfs/cdirs/m3363/vayyar/cosmogan_data/results_from_other_code/pytorch/results/3d/20210506_175558_64cube_bs8_lr0.0006_nodes8_spec0.1_bestrun/images/gen_img_epoch-118_step-18560.npy'\n"
   ]
  },
  {
   "cell_type": "code",
   "execution_count": 17,
   "metadata": {},
   "outputs": [],
   "source": [
    "### 3dcgan 64cube\n",
    "sigma=0.5\n",
    "#dict_pars['fname']='/global/cfs/cdirs/m3363/vayyar/cosmogan_data/raw_data/3d_data/dataset2a_3dcgan_4univs_64cube_simple_splicing/norm_1_sig_{0}_train_val.npy'.format(sigma)\n",
    "\n",
    "dict_pars['fname']='20210617_204752_cgan_bs32_nodes8_lr0.0001-vary_fm50/images/inference_label-{0}_epoch-42_step-24720.npy'.format(sigma)"
   ]
  },
  {
   "cell_type": "code",
   "execution_count": 18,
   "metadata": {},
   "outputs": [],
   "source": [
    "# %%bash -s \"$op_fldr\"\n",
    "# ls $1"
   ]
  },
  {
   "cell_type": "code",
   "execution_count": 19,
   "metadata": {},
   "outputs": [
    {
     "data": {
      "text/plain": [
       "{'nodes': 10,\n",
       " 'queue': 'regular',\n",
       " 'bins': 'unenven',\n",
       " 'cores': 640,\n",
       " 'time': '0:30:00',\n",
       " 'job_name': '3ptfnc',\n",
       " 'suffix': 'inf_20210617_204752_cgan_bs32_nodes8_lr0.0001-vary_fm50_step_42-24720_sigma0.5',\n",
       " 'num_l': 8,\n",
       " 'img_slice': 64,\n",
       " 'staging_loc': '/global/u1/v/vpa/project/jpt_notebooks/Cosmology/Cosmo_GAN/repositories/cosmogan_pytorch/code/modules_threeptfcn/simple_test/',\n",
       " 'code_dir': '/global/u1/v/vpa/project/jpt_notebooks/Cosmology/Cosmo_GAN/repositories/cosmogan_pytorch/code/modules_threeptfcn/simple_test',\n",
       " 'fname': '20210617_204752_cgan_bs32_nodes8_lr0.0001-vary_fm50/images/inference_label-0.5_epoch-42_step-24720.npy'}"
      ]
     },
     "execution_count": 19,
     "metadata": {},
     "output_type": "execute_result"
    }
   ],
   "source": [
    "dict_pars"
   ]
  },
  {
   "cell_type": "code",
   "execution_count": 20,
   "metadata": {},
   "outputs": [],
   "source": [
    "bash_strg='''#!/bin/bash\n",
    "#################\n",
    "#SBATCH --nodes={nodes}\n",
    "#SBATCH --qos={queue}\n",
    "#SBATCH --output=slurm-%x-%j.out\n",
    "#SBATCH --account=m3363\n",
    "#SBATCH -C haswell\n",
    "#SBATCH --time={time}\n",
    "#SBATCH --job-name={job_name}\n",
    "\n",
    "echo \"--start date\" `date` `date +%s`\n",
    "echo '--hostname ' $HOSTNAME\n",
    "\n",
    "I=$1\n",
    "source /global/common/software/m3035/conda-activate.sh 3.7\n",
    "code_dir={code_dir}\n",
    "fname={fname}\n",
    "\n",
    "srun -n {cores} python $code_dir/3pt_fcn_simple.py -n {num_l} --img_slice {img_slice} -idx $I -f $fname -sfx {suffix}\n",
    "\n",
    "echo \"--end date\" `date` `date +%s`\n",
    "'''.format(**dict_pars)"
   ]
  },
  {
   "cell_type": "code",
   "execution_count": 21,
   "metadata": {},
   "outputs": [
    {
     "name": "stdout",
     "output_type": "stream",
     "text": [
      "/global/u1/v/vpa/project/jpt_notebooks/Cosmology/Cosmo_GAN/repositories/cosmogan_pytorch/code/modules_threeptfcn/simple_test/batch_3ptcn.sh\n"
     ]
    }
   ],
   "source": [
    "fname='batch_3ptcn.sh'\n",
    "filename=dict_pars['staging_loc']+fname\n",
    "with open (filename,'w') as f:\n",
    "    f.write(bash_strg)\n",
    "print(filename)"
   ]
  },
  {
   "cell_type": "code",
   "execution_count": 22,
   "metadata": {},
   "outputs": [],
   "source": [
    "## Move to staging locations in project space:\n",
    "os.chdir(dict_pars['staging_loc'])"
   ]
  },
  {
   "cell_type": "code",
   "execution_count": 23,
   "metadata": {},
   "outputs": [
    {
     "name": "stdout",
     "output_type": "stream",
     "text": [
      "#!/bin/bash\n",
      "#################\n",
      "#SBATCH --nodes=10\n",
      "#SBATCH --qos=regular\n",
      "#SBATCH --output=slurm-%x-%j.out\n",
      "#SBATCH --account=m3363\n",
      "#SBATCH -C haswell\n",
      "#SBATCH --time=0:30:00\n",
      "#SBATCH --job-name=3ptfnc\n",
      "\n",
      "echo \"--start date\" `date` `date +%s`\n",
      "echo '--hostname ' $HOSTNAME\n",
      "\n",
      "I=$1\n",
      "source /global/common/software/m3035/conda-activate.sh 3.7\n",
      "code_dir=/global/u1/v/vpa/project/jpt_notebooks/Cosmology/Cosmo_GAN/repositories/cosmogan_pytorch/code/modules_threeptfcn/simple_test\n",
      "fname=20210617_204752_cgan_bs32_nodes8_lr0.0001-vary_fm50/images/inference_label-0.5_epoch-42_step-24720.npy\n",
      "\n",
      "srun -n 640 python $code_dir/3pt_fcn_simple.py -n 8 --img_slice 64 -idx $I -f $fname -sfx inf_20210617_204752_cgan_bs32_nodes8_lr0.0001-vary_fm50_step_42-24720_sigma0.5\n",
      "\n",
      "echo \"--end date\" `date` `date +%s`\n"
     ]
    }
   ],
   "source": [
    "%%bash -s \"$filename\" ## Use python variable in bash\n",
    "cat $1\n",
    "chmod +x $1"
   ]
  },
  {
   "cell_type": "markdown",
   "metadata": {},
   "source": [
    "## Submit job to cori GPU"
   ]
  },
  {
   "cell_type": "code",
   "execution_count": 24,
   "metadata": {},
   "outputs": [
    {
     "name": "stdout",
     "output_type": "stream",
     "text": [
      "0 1 2 3 4 5 6 7 8 9 10 11 12 13 14 15 16 17 18 19 20 21 22 23 24 25 26 27 28 29 30 31 32 33 34 35 36 37 38 39 40 41 42 43 44 45 46 47 48 49 50 51 52 53 54 55 56 57 58 59 60 61 62 63 64 65 66 67 68 69 70 71 72 73 74 75 76 77 78 79 80 81 82 83 84 85 86 87 88 89 90 91 92 93 94 95 96 97 98 99 100 101 102 103 104 105 106 107 108 109 110 111 112 113 114 115 116 117 118 119 120 121 122 123 124 125 126 127\n"
     ]
    }
   ],
   "source": [
    "lst=np.arange(128)\n",
    "# lst=[0,3,6,8,19]\n",
    "lst2=[str(i) for i in lst]\n",
    "strg=' '.join(lst2)\n",
    "print(strg)"
   ]
  },
  {
   "cell_type": "code",
   "execution_count": 25,
   "metadata": {
    "tags": []
   },
   "outputs": [
    {
     "name": "stdout",
     "output_type": "stream",
     "text": [
      "Submitted batch job 43642957\n",
      "Submitted batch job 43642958\n",
      "Submitted batch job 43642959\n",
      "Submitted batch job 43642960\n",
      "Submitted batch job 43642961\n",
      "Submitted batch job 43642962\n",
      "Submitted batch job 43642963\n",
      "Submitted batch job 43642964\n",
      "Submitted batch job 43642965\n",
      "Submitted batch job 43642966\n",
      "Submitted batch job 43642967\n",
      "Submitted batch job 43642968\n",
      "Submitted batch job 43642969\n",
      "Submitted batch job 43642970\n",
      "Submitted batch job 43642971\n",
      "Submitted batch job 43642972\n",
      "Submitted batch job 43642973\n",
      "Submitted batch job 43642974\n",
      "Submitted batch job 43642975\n",
      "Submitted batch job 43642976\n",
      "Submitted batch job 43642977\n",
      "Submitted batch job 43642978\n",
      "Submitted batch job 43642979\n",
      "Submitted batch job 43642980\n",
      "Submitted batch job 43642981\n",
      "Submitted batch job 43642982\n",
      "Submitted batch job 43642983\n",
      "Submitted batch job 43642984\n",
      "Submitted batch job 43642985\n",
      "Submitted batch job 43642986\n",
      "Submitted batch job 43642987\n",
      "Submitted batch job 43642988\n",
      "Submitted batch job 43642989\n",
      "Submitted batch job 43642990\n",
      "Submitted batch job 43642991\n",
      "Submitted batch job 43642992\n",
      "Submitted batch job 43642993\n",
      "Submitted batch job 43642994\n",
      "Submitted batch job 43642995\n",
      "Submitted batch job 43642996\n",
      "Submitted batch job 43642997\n",
      "Submitted batch job 43642998\n",
      "Submitted batch job 43642999\n",
      "Submitted batch job 43643000\n",
      "Submitted batch job 43643001\n",
      "Submitted batch job 43643002\n",
      "Submitted batch job 43643003\n",
      "Submitted batch job 43643004\n",
      "Submitted batch job 43643005\n",
      "Submitted batch job 43643006\n",
      "Submitted batch job 43643007\n",
      "Submitted batch job 43643008\n",
      "Submitted batch job 43643009\n",
      "Submitted batch job 43643010\n",
      "Submitted batch job 43643011\n",
      "Submitted batch job 43643012\n",
      "Submitted batch job 43643013\n",
      "Submitted batch job 43643014\n",
      "Submitted batch job 43643015\n",
      "Submitted batch job 43643016\n",
      "Submitted batch job 43643017\n",
      "Submitted batch job 43643018\n",
      "Submitted batch job 43643019\n",
      "Submitted batch job 43643020\n",
      "Submitted batch job 43643022\n",
      "Submitted batch job 43643023\n",
      "Submitted batch job 43643024\n",
      "Submitted batch job 43643025\n",
      "Submitted batch job 43643026\n",
      "Submitted batch job 43643027\n",
      "Submitted batch job 43643028\n",
      "Submitted batch job 43643029\n",
      "Submitted batch job 43643030\n",
      "Submitted batch job 43643031\n",
      "Submitted batch job 43643032\n",
      "Submitted batch job 43643033\n",
      "Submitted batch job 43643034\n",
      "Submitted batch job 43643035\n",
      "Submitted batch job 43643036\n",
      "Submitted batch job 43643037\n",
      "Submitted batch job 43643038\n",
      "Submitted batch job 43643039\n",
      "Submitted batch job 43643040\n",
      "Submitted batch job 43643041\n",
      "Submitted batch job 43643042\n",
      "Submitted batch job 43643043\n",
      "Submitted batch job 43643044\n",
      "Submitted batch job 43643045\n",
      "Submitted batch job 43643046\n",
      "Submitted batch job 43643047\n",
      "Submitted batch job 43643048\n",
      "Submitted batch job 43643049\n",
      "Submitted batch job 43643050\n",
      "Submitted batch job 43643051\n",
      "Submitted batch job 43643052\n",
      "Submitted batch job 43643053\n",
      "Submitted batch job 43643054\n",
      "Submitted batch job 43643055\n",
      "Submitted batch job 43643056\n",
      "Submitted batch job 43643057\n",
      "Submitted batch job 43643058\n",
      "Submitted batch job 43643059\n",
      "Submitted batch job 43643061\n",
      "Submitted batch job 43643062\n",
      "Submitted batch job 43643063\n",
      "Submitted batch job 43643064\n",
      "Submitted batch job 43643065\n",
      "Submitted batch job 43643066\n",
      "Submitted batch job 43643067\n",
      "Submitted batch job 43643068\n",
      "Submitted batch job 43643069\n",
      "Submitted batch job 43643070\n",
      "Submitted batch job 43643071\n",
      "Submitted batch job 43643072\n",
      "Submitted batch job 43643073\n",
      "Submitted batch job 43643074\n",
      "Submitted batch job 43643075\n",
      "Submitted batch job 43643076\n",
      "Submitted batch job 43643077\n",
      "Submitted batch job 43643078\n",
      "Submitted batch job 43643079\n",
      "Submitted batch job 43643080\n",
      "Submitted batch job 43643081\n",
      "Submitted batch job 43643082\n",
      "Submitted batch job 43643083\n",
      "Submitted batch job 43643084\n",
      "Submitted batch job 43643085\n",
      "Submitted batch job 43643086\n"
     ]
    }
   ],
   "source": [
    "%%bash -s \"$filename\" \"$strg\" ## Use python variable in bash\n",
    "# for i in $2; do echo $i; echo $1; done\n",
    "for i in $2; do sbatch $1 $i; done"
   ]
  },
  {
   "cell_type": "code",
   "execution_count": 4,
   "metadata": {},
   "outputs": [
    {
     "data": {
      "text/plain": [
       "(128, 1, 64, 64, 64)"
      ]
     },
     "execution_count": 4,
     "metadata": {},
     "output_type": "execute_result"
    }
   ],
   "source": [
    "fname='/global/cfs/cdirs/m3363/vayyar/cosmogan_data/results_from_other_code/pytorch/results/3d_cGAN/20210617_204752_cgan_bs32_nodes8_lr0.0001-vary_fm50/images/inference_label-0.5_epoch-36_step-21550.npy'\n",
    "np.load(fname,mmap_mode='r').shape"
   ]
  },
  {
   "cell_type": "code",
   "execution_count": null,
   "metadata": {},
   "outputs": [],
   "source": []
  }
 ],
 "metadata": {
  "kernelspec": {
   "display_name": "v3",
   "language": "python",
   "name": "v-jpt-3"
  },
  "language_info": {
   "codemirror_mode": {
    "name": "ipython",
    "version": 3
   },
   "file_extension": ".py",
   "mimetype": "text/x-python",
   "name": "python",
   "nbconvert_exporter": "python",
   "pygments_lexer": "ipython3",
   "version": "3.8.6"
  }
 },
 "nbformat": 4,
 "nbformat_minor": 4
}

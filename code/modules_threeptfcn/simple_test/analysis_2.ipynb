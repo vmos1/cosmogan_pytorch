{
 "cells": [
  {
   "cell_type": "markdown",
   "metadata": {},
   "source": [
    "# Analyze correlator results\n",
    "Dec 10, 2020"
   ]
  },
  {
   "cell_type": "code",
   "execution_count": 1,
   "metadata": {},
   "outputs": [],
   "source": [
    "import numpy as np\n",
    "import pandas as pd\n",
    "import matplotlib.pyplot as plt\n",
    "\n",
    "import os\n",
    "import sys\n",
    "import glob"
   ]
  },
  {
   "cell_type": "code",
   "execution_count": 2,
   "metadata": {},
   "outputs": [],
   "source": [
    "%matplotlib widget"
   ]
  },
  {
   "cell_type": "code",
   "execution_count": 3,
   "metadata": {},
   "outputs": [],
   "source": [
    "from ipywidgets import *"
   ]
  },
  {
   "cell_type": "code",
   "execution_count": 4,
   "metadata": {},
   "outputs": [
    {
     "name": "stdout",
     "output_type": "stream",
     "text": [
      "img_all_gathered_run124-19390_3d_64cube.npy\n",
      "img_all_gathered_val_3d_64cube.npy\n",
      "img_idx_0_run124-19390_3d_64cube.npy\n",
      "img_idx_0_val_3d_64cube.npy\n",
      "img_idx_10_val_3d_64cube.npy\n",
      "img_idx_19_run124-19390_3d_64cube.npy\n",
      "img_idx_1_run124-19390_3d_64cube.npy\n",
      "img_idx_1_val_3d_64cube.npy\n",
      "img_idx_20_run124-19390_3d_64cube.npy\n",
      "img_idx_3_run124-19390_3d_64cube.npy\n",
      "img_idx_3_val_3d_64cube.npy\n",
      "img_idx_5_val_3d_64cube.npy\n",
      "img_idx_6_run124-19390_3d_64cube.npy\n",
      "img_idx_7_val_3d_64cube.npy\n",
      "img_idx_8_run124-19390_3d_64cube.npy\n",
      "img_idx_9_val_3d_64cube.npy\n"
     ]
    }
   ],
   "source": [
    "ls /global/cfs/cdirs/m3363/vayyar/cosmogan_data/3ptfnc_stored_results/3dgan_64cube/slice_64/"
   ]
  },
  {
   "cell_type": "code",
   "execution_count": 5,
   "metadata": {},
   "outputs": [],
   "source": [
    "# data_dir='data_stored_results/results_3d_corr6_idx64_1000img/'\n",
    "# data_dir='data_stored_results/results_3d_corr6_idx32_1000img/'\n",
    "\n",
    "data_dir='/global/cfs/cdirs/m3363/vayyar/cosmogan_data/3ptfnc_stored_results/3dgan_64cube/slice_32/'\n"
   ]
  },
  {
   "cell_type": "code",
   "execution_count": 7,
   "metadata": {
    "tags": []
   },
   "outputs": [
    {
     "name": "stdout",
     "output_type": "stream",
     "text": [
      "193\n",
      "(193, 8, 8, 8)\n"
     ]
    }
   ],
   "source": [
    "### Gather data into single file\n",
    "flist=glob.glob(data_dir+'img_idx_*_val*.npy')\n",
    "print(len(flist))\n",
    "\n",
    "a1=np.stack([np.load(i) for i in flist])\n",
    "print(a1.shape)\n",
    "# np.save(data_dir+'img_all_gathered_val_3d_64cube',a1)\n",
    "\n",
    "# flist=glob.glob(data_dir+'img_idx_*_run124-19390*.npy')\n",
    "# print(len(flist))\n",
    "# a2=np.stack([np.load(i) for i in flist])\n",
    "# print(a2.shape)\n",
    "# # np.save(data_dir+'img_all_gathered_run124-19390_3d_64cube',a2)\n",
    "\n",
    "\n",
    "# flist=glob.glob(data_dir+'img_idx_*_run118-18560*.npy')\n",
    "# print(len(flist))\n",
    "# a3=np.stack([np.load(i) for i in flist])\n",
    "# print(a3.shape)\n",
    "# # np.save(data_dir+'img_all_gathered_run118-18560_3d_64cube',a3)"
   ]
  },
  {
   "cell_type": "code",
   "execution_count": null,
   "metadata": {
    "tags": []
   },
   "outputs": [],
   "source": [
    "flist=glob.glob(data_dir+'*gathered*.npy')\n",
    "print(flist)\n"
   ]
  },
  {
   "cell_type": "code",
   "execution_count": null,
   "metadata": {
    "tags": []
   },
   "outputs": [],
   "source": [
    "cols=['fname','label','data','fle']\n",
    "df=pd.DataFrame(columns=cols)\n",
    "\n",
    "for count,fname in enumerate(flist):\n",
    "    dict1={}\n",
    "    idx,name=fname.split('/')[-1].split('_')[2],fname.split('/')[-1].split('_')[3]\n",
    "    label=name+'_'+idx\n",
    "    print(label)\n",
    "    val=np.load(fname)\n",
    "    print(val.shape)\n",
    "    if len(val.shape)==3: val=np.expand_dims(val,axis=0)\n",
    "    dict1={'label':label,'data':val,'fle':fname.split('/')[-1],'fname':fname}\n",
    "    df=df.append(dict1,ignore_index=True)\n"
   ]
  },
  {
   "cell_type": "code",
   "execution_count": null,
   "metadata": {},
   "outputs": [],
   "source": [
    "# df"
   ]
  },
  {
   "cell_type": "code",
   "execution_count": null,
   "metadata": {
    "tags": []
   },
   "outputs": [],
   "source": [
    "labels_lst=list(df.label.values)\n",
    "# labels_lst"
   ]
  },
  {
   "cell_type": "code",
   "execution_count": null,
   "metadata": {
    "tags": []
   },
   "outputs": [],
   "source": [
    "df[['label','fle']]"
   ]
  },
  {
   "cell_type": "markdown",
   "metadata": {},
   "source": [
    "## Plot fixed r1,r2"
   ]
  },
  {
   "cell_type": "code",
   "execution_count": null,
   "metadata": {
    "jupyter": {
     "source_hidden": true
    },
    "tags": []
   },
   "outputs": [],
   "source": [
    "def f_get_corrs_fixed_r(arr,r1,r2):\n",
    "    '''Get correlator values for given r1 and r2 '''    \n",
    "    num_imgs=arr.shape[0]\n",
    "    num_corrs=arr.shape[1]\n",
    "    \n",
    "    ### Pick r1,r2\n",
    "    arr=arr[:,:,r1,r2].astype(float)\n",
    "    # Avg over different images for fixed correlator\n",
    "    mean=np.array([np.mean(arr[:,i]) for i in range(num_corrs)])\n",
    "    err=np.array([np.std(arr[:,i])/np.sqrt(num_imgs) for i in range(num_corrs)])\n",
    "    \n",
    "    return mean,err\n",
    "\n",
    "def f_plot_fixed_rs(corrs_arr_lst,labels_lst,r1,r2,mode='relative'):\n",
    "    ''' mode =['absolute','relative']'''\n",
    "    \n",
    "    mean_ref,err_ref=f_get_corrs_fixed_r(corrs_arr_lst[0],r1,r2)\n",
    "    \n",
    "    plt.figure()\n",
    "    for arr,label in zip(corrs_arr_lst,labels_lst):\n",
    "        mean,err=f_get_corrs_fixed_r(arr,r1,r2)\n",
    "        if mode=='relative':\n",
    "            x,y,yerr=np.arange(len(mean)),mean/mean_ref,(mean/mean_ref)*np.sqrt((err/mean)**2 + (err_ref/mean_ref)**2)\n",
    "        else : \n",
    "            x,y,yerr=np.arange(len(mean)),mean,err\n",
    "        plt.errorbar(x,y,yerr,marker='o',label=label)\n",
    "    #     plt.plot(x,y,marker='o',label=str(i))\n",
    "        print(y/yerr)\n",
    "    plt.legend()\n",
    "    plt.xlabel('l')\n",
    "    plt.ylabel('3ptfc')\n",
    "    plt.title('3ptfc values for fixed {0}-{1} for different l values'.format(r1,r2))\n",
    "\n",
    "def f_get_corrs_fixed_l(arr,l,r1):\n",
    "    '''Get correlator values for given l and r1 '''    \n",
    "    num_imgs=arr.shape[0]\n",
    "    num_corrs=arr.shape[3]\n",
    "    print(arr.shape)\n",
    "    \n",
    "    ### Pick l,r1\n",
    "    arr=arr[:,l,r1,:].astype(float)\n",
    "\n",
    "    # Avg over different images for fixed correlator\n",
    "    mean=np.array([np.mean(arr[:,i]) for i in range(num_corrs)])\n",
    "    err=np.array([np.std(arr[:,i])/np.sqrt(num_imgs) for i in range(num_corrs)])\n",
    "    \n",
    "    return mean,err\n",
    "\n",
    "\n",
    "def f_plot_fixed_l(corrs_arr_lst,labels_lst,l,r1,mode='relative'):\n",
    "    ''' mode =['absolute','relative']'''\n",
    "    \n",
    "\n",
    "    mean_ref,err_ref=f_get_corrs_fixed_l(corrs_arr_lst[0],l,r1)\n",
    "\n",
    "    plt.figure()\n",
    "    for arr,label in zip(corrs_arr_lst,labels_lst):\n",
    "        mean,err=f_get_corrs_fixed_l(arr,l,r1)\n",
    "        \n",
    "        print(label,type(label))\n",
    "\n",
    "        if mode=='relative':\n",
    "            x,y,yerr=np.arange(len(mean)),mean/mean_ref,(mean/mean_ref)*np.sqrt((err/mean)**2 + (err_ref/mean_ref)**2)\n",
    "        else : \n",
    "            x,y,yerr=np.arange(len(mean)),mean,err\n",
    "        plt.errorbar(x,y,yerr,marker='o',label=label)\n",
    "    #     plt.plot(x,y,marker='o',label=str(i))\n",
    "#         print(y/yerr)\n",
    "\n",
    "    plt.xticks(x)\n",
    "    plt.xlabel('r2')\n",
    "    plt.legend()\n",
    "    plt.title('3ptfc values for fixed l={0} and r1: {1} for different r2 values'.format(l,r1))\n",
    "\n",
    "# f_plot_fixed_l(corr_lst,['a1','a2'],l=3,r1=3,mode='relative')\n",
    "# f_plot_fixed_rs(corr_lst,['a1','a2','a3'],r1=1,r2=4,mode='relative')\n"
   ]
  },
  {
   "cell_type": "code",
   "execution_count": null,
   "metadata": {
    "jupyter": {
     "source_hidden": true
    },
    "tags": []
   },
   "outputs": [],
   "source": [
    "\n",
    "def f_plot_df_fixed_l(df,labels_lst,bkgnd_lst,l,r1,mode='relative'):\n",
    "    ''' mode =['absolute','relative']'''\n",
    "    \n",
    "    mean_ref,err_ref=f_get_corrs_fixed_l(df.data.values[0],l,r1)\n",
    "    \n",
    "    plt.figure()\n",
    "    \n",
    "    df_temp=df[df.label.isin(labels_lst)]\n",
    "    for i,row in df_temp.iterrows():\n",
    "        arr=row.data\n",
    "        label=row.label\n",
    "        mean,err=f_get_corrs_fixed_l(arr,l,r1)\n",
    "\n",
    "        if mode=='relative':\n",
    "            x,y,yerr=np.arange(len(mean)),mean/mean_ref,(mean/mean_ref)*np.sqrt((err/mean)**2 + (err_ref/mean_ref)**2)\n",
    "        else : \n",
    "            x,y,yerr=np.arange(len(mean)),mean,err\n",
    "        plt.errorbar(x,y,yerr,marker='o',label=label)\n",
    "    #     plt.plot(x,y,marker='o',label=str(i))\n",
    "    \n",
    "    df_temp=df[df.label.isin(bkgnd_lst)]\n",
    "    for i,row in df_temp.iterrows():\n",
    "        arr=row.data\n",
    "        label=row.label\n",
    "        mean,err=f_get_corrs_fixed_l(arr,l,r1)\n",
    "        if mode=='relative':\n",
    "            x,y,yerr=np.arange(len(mean)),mean/mean_ref,(mean/mean_ref)*np.sqrt((err/mean)**2 + (err_ref/mean_ref)**2)\n",
    "        else : \n",
    "            x,y,yerr=np.arange(len(mean)),mean,err\n",
    "        plt.errorbar(x,y,yerr,label=label,linestyle='--')\n",
    "       \n",
    "    plt.xticks(x)\n",
    "    plt.xlabel('r2')\n",
    "    plt.ylabel('3ptfc')\n",
    "    plt.legend()\n",
    "    plt.title('3ptfc values for fixed l={0} and r1: {1} for different r2 values'.format(l,r1))\n",
    "\n",
    "def f_plot_df_fixed_rs(df,labels_lst,bkgnd_lst,r1,r2,mode='relative'):\n",
    "    ''' mode =['absolute','relative']'''\n",
    "    \n",
    "    mean_ref,err_ref=f_get_corrs_fixed_r(df.data.values[0],r1,r2)\n",
    "    \n",
    "    plt.figure()\n",
    "    \n",
    "    df_temp=df[df.label.isin(labels_lst)]\n",
    "    for i,row in df_temp.iterrows():\n",
    "        arr=row.data\n",
    "        label=row.label\n",
    "        mean,err=f_get_corrs_fixed_r(arr,r1,r2)\n",
    "        if mode=='relative':\n",
    "            x,y,yerr=np.arange(len(mean)),mean/mean_ref,(mean/mean_ref)*np.sqrt((err/mean)**2 + (err_ref/mean_ref)**2)\n",
    "        else : \n",
    "            x,y,yerr=np.arange(len(mean)),mean,err\n",
    "        plt.errorbar(x,y,yerr,marker='o',label=label)\n",
    "    #     plt.plot(x,y,marker='o',label=str(i))\n",
    "    \n",
    "    df_temp=df[df.label.isin(bkgnd_lst)]\n",
    "    for i,row in df_temp.iterrows():\n",
    "        arr=row.data\n",
    "        label=row.label\n",
    "        mean,err=f_get_corrs_fixed_r(arr,r1,r2)\n",
    "        if mode=='relative':\n",
    "            x,y,yerr=np.arange(len(mean)),mean/mean_ref,(mean/mean_ref)*np.sqrt((err/mean)**2 + (err_ref/mean_ref)**2)\n",
    "        else : \n",
    "            x,y,yerr=np.arange(len(mean)),mean,err\n",
    "        plt.errorbar(x,y,yerr,label=label,linestyle='--')\n",
    "    \n",
    "    plt.legend()\n",
    "    plt.xlabel('l')\n",
    "    plt.ylabel('3ptfc')\n",
    "    plt.title('3ptfc values for fixed {0}-{1} for different l values'.format(r1,r2))\n",
    "    \n",
    "# f_plot_df_fixed_rs(df,labels_lst[1:],labels_lst,r1=1,r2=3,mode='absolute')\n",
    "# f_plot_df_fixed_l(df,labels_lst[:1],labels_lst,l=1,r1=1,mode='absolute')"
   ]
  },
  {
   "cell_type": "code",
   "execution_count": null,
   "metadata": {},
   "outputs": [],
   "source": [
    "# df.label.values, labels_lst"
   ]
  },
  {
   "cell_type": "code",
   "execution_count": null,
   "metadata": {},
   "outputs": [],
   "source": [
    "# # labels=['0__0_2d_val_0.5', '3__0_2d_val_0.5','7__0_2d_val_test0.5',\n",
    "# #         '1__0_2d_val_1.1', '4__0_2d_val_1.1', '8__0_2d_pred1.1_13-31770',\n",
    "# # #         '2__0_2d_pred0.65_14-34640', '6__0_2d_val_0.65', \n",
    "# # #          '5__0_2d_val_0.8',\n",
    "# #        ]\n",
    "# labels=df.label.values\n",
    "# df_temp=df[df.label.isin(labels)]\n",
    "# img_lst=df_temp.data.values.tolist()\n",
    "# labels_lst=df_temp.label.values.tolist()\n",
    "# # labels_lst=['a','b','c','d']\n",
    "# print(labels_lst)\n",
    "# f_plot_fixed_l(img_lst,labels_lst,l=3,r1=3,mode='absolute')"
   ]
  },
  {
   "cell_type": "code",
   "execution_count": null,
   "metadata": {},
   "outputs": [],
   "source": [
    "interact(f_plot_df_fixed_rs,df=fixed(df),\n",
    "                labels_lst=SelectMultiple(options=df.label.values),\n",
    "                bkgnd_lst=SelectMultiple(options=df.label.values),\n",
    "                r1=IntSlider(min=0,max=19,step=1),r2=IntSlider(min=0,max=19,step=1),\n",
    "                mode=['absolute'])\n"
   ]
  },
  {
   "cell_type": "code",
   "execution_count": null,
   "metadata": {},
   "outputs": [],
   "source": [
    "interact(f_plot_df_fixed_l,df=fixed(df),\n",
    "                labels_lst=SelectMultiple(options=df.label.values),\n",
    "                bkgnd_lst=SelectMultiple(options=df.label.values),\n",
    "                l=ToggleButtons(options=np.arange(7)),\n",
    "                r1=IntSlider(min=0,max=18,step=1),mode=['absolute'])\n"
   ]
  },
  {
   "cell_type": "code",
   "execution_count": null,
   "metadata": {},
   "outputs": [],
   "source": [
    "# fname='/global/cfs/cdirs/m3363/vayyar/cosmogan_data/3ptfnc_stored_results/img_9-corr_2d_val_0.8.npy'\n",
    "fname='/global/cfs/cdirs/m3363/vayyar/cosmogan_data/3ptfnc_stored_results/3pt_corr_0_3d_dset1.npy'\n",
    "fname='/global/cfs/cdirs/m3363/vayyar/cosmogan_data/3ptfnc_stored_results/img_idx_0_3d_dset1.npy'\n",
    "a1=np.load(fname)\n",
    "a1.shape"
   ]
  },
  {
   "cell_type": "code",
   "execution_count": null,
   "metadata": {},
   "outputs": [],
   "source": [
    "# a1.shape"
   ]
  },
  {
   "cell_type": "code",
   "execution_count": null,
   "metadata": {},
   "outputs": [],
   "source": [
    "fname='/global/cfs/cdirs/m3363/vayyar/cosmogan_data/raw_data/3d_data/dataset1_smoothing_const_params_64cube_100k/val.npy'\n",
    "fname='/global/cfs/cdirs/m3363/vayyar/cosmogan_data/3ptfnc_stored_results/2d_4sigma-values/3pt_corr_0_1.1.npy'\n",
    "a1=np.load(fname,mmap_mode='r')\n"
   ]
  },
  {
   "cell_type": "code",
   "execution_count": null,
   "metadata": {},
   "outputs": [],
   "source": [
    "a1.shape"
   ]
  },
  {
   "cell_type": "code",
   "execution_count": null,
   "metadata": {},
   "outputs": [],
   "source": [
    "a1[0,:].shape"
   ]
  },
  {
   "cell_type": "code",
   "execution_count": null,
   "metadata": {},
   "outputs": [],
   "source": []
  }
 ],
 "metadata": {
  "kernelspec": {
   "display_name": "v3",
   "language": "python",
   "name": "v-jpt-3"
  },
  "language_info": {
   "codemirror_mode": {
    "name": "ipython",
    "version": 3
   },
   "file_extension": ".py",
   "mimetype": "text/x-python",
   "name": "python",
   "nbconvert_exporter": "python",
   "pygments_lexer": "ipython3",
   "version": "3.8.6"
  }
 },
 "nbformat": 4,
 "nbformat_minor": 4
}

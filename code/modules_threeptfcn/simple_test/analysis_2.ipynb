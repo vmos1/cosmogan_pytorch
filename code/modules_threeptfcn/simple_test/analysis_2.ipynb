{
 "cells": [
  {
   "cell_type": "markdown",
   "metadata": {},
   "source": [
    "# Analyze correlator results\n",
    "Dec 10, 2020"
   ]
  },
  {
   "cell_type": "code",
   "execution_count": 1,
   "metadata": {},
   "outputs": [],
   "source": [
    "import numpy as np\n",
    "import pandas as pd\n",
    "import matplotlib.pyplot as plt\n",
    "\n",
    "import os\n",
    "import sys\n",
    "import glob"
   ]
  },
  {
   "cell_type": "code",
   "execution_count": 2,
   "metadata": {},
   "outputs": [],
   "source": [
    "%matplotlib widget"
   ]
  },
  {
   "cell_type": "code",
   "execution_count": 3,
   "metadata": {},
   "outputs": [],
   "source": [
    "from ipywidgets import *"
   ]
  },
  {
   "cell_type": "code",
   "execution_count": 4,
   "metadata": {},
   "outputs": [
    {
     "name": "stdout",
     "output_type": "stream",
     "text": [
      "\u001b[0m\u001b[01;34m2d_4sigma-values\u001b[0m/  \u001b[01;34m3d_4sigma-values\u001b[0m/  README.md  \u001b[01;34mtest_3d\u001b[0m/\n"
     ]
    }
   ],
   "source": [
    "ls /global/cfs/cdirs/m3363/vayyar/cosmogan_data/3ptfnc_stored_results/"
   ]
  },
  {
   "cell_type": "code",
   "execution_count": 5,
   "metadata": {},
   "outputs": [],
   "source": [
    "# data_dir='data_stored_results/results_3d_corr6_idx64_1000img/'\n",
    "# data_dir='data_stored_results/results_3d_corr6_idx32_1000img/'\n",
    "\n",
    "data_dir='/global/cfs/cdirs/m3363/vayyar/cosmogan_data/3ptfnc_stored_results/'\n"
   ]
  },
  {
   "cell_type": "code",
   "execution_count": 24,
   "metadata": {},
   "outputs": [],
   "source": [
    "flist=['3pt_corr_0_0.5.npy','3pt_corr_0_0.65.npy','3pt_corr_0_0.8.npy','3pt_corr_0_1.1.npy']\n",
    "flist=glob.glob(data_dir+'*.npy')\n",
    "flist+=glob.glob(data_dir+'*/*.npy')"
   ]
  },
  {
   "cell_type": "code",
   "execution_count": 7,
   "metadata": {},
   "outputs": [],
   "source": [
    "# flist=['/global/cfs/cdirs/m3363/vayyar/cosmogan_data/3ptfnc_stored_results/3pt_corr_0_2d_val_0.8.npy']"
   ]
  },
  {
   "cell_type": "code",
   "execution_count": 6,
   "metadata": {},
   "outputs": [
    {
     "data": {
      "text/plain": [
       "['/global/cfs/cdirs/m3363/vayyar/cosmogan_data/3ptfnc_stored_results/test_3d/img_idx_70_3d_dset1.npy',\n",
       " '/global/cfs/cdirs/m3363/vayyar/cosmogan_data/3ptfnc_stored_results/test_3d/img_idx_7_3d_dset1.npy',\n",
       " '/global/cfs/cdirs/m3363/vayyar/cosmogan_data/3ptfnc_stored_results/test_3d/img_idx_0_3d_dset1.npy',\n",
       " '/global/cfs/cdirs/m3363/vayyar/cosmogan_data/3ptfnc_stored_results/test_3d/img_idx_10_3d_dset1.npy',\n",
       " '/global/cfs/cdirs/m3363/vayyar/cosmogan_data/3ptfnc_stored_results/test_3d/img_idx_100_3d_dset1.npy']"
      ]
     },
     "execution_count": 6,
     "metadata": {},
     "output_type": "execute_result"
    }
   ],
   "source": [
    "flist=glob.glob(data_dir+'test_3d/img*.npy')\n",
    "flist"
   ]
  },
  {
   "cell_type": "code",
   "execution_count": 20,
   "metadata": {},
   "outputs": [],
   "source": [
    "lst=[]\n",
    "for i in [2,3,4]:\n",
    "    arr=np.load(flist[i])\n",
    "    lst.append(arr)\n",
    "a1=np.stack(lst)\n",
    "\n",
    "\n",
    "lst=[]\n",
    "for i in [0,1]:\n",
    "    arr=np.load(flist[i])\n",
    "    lst.append(arr)\n",
    "a2=np.stack(lst)"
   ]
  },
  {
   "cell_type": "code",
   "execution_count": 21,
   "metadata": {},
   "outputs": [
    {
     "data": {
      "text/plain": [
       "((3, 8, 8, 8), (2, 8, 8, 8))"
      ]
     },
     "execution_count": 21,
     "metadata": {},
     "output_type": "execute_result"
    }
   ],
   "source": [
    "a1.shape,a2.shape"
   ]
  },
  {
   "cell_type": "code",
   "execution_count": 15,
   "metadata": {},
   "outputs": [],
   "source": [
    "cols=['fname','label','data','fle']\n",
    "df=pd.DataFrame(columns=cols)\n",
    "\n",
    "for count,fname in enumerate(flist):\n",
    "    dict1={}\n",
    "#     label=str(count)+'_'+str(fname.split('/')[-1].split('.npy')[0].split('corr')[-1])\n",
    "    label=str(count)+'_'+str(fname.split('/')[-1].split('_')[-1].split('.npy')[0])\n",
    "    sigma=fname.split('/')[-1].split('_')[-1].split('.npy')[0].split('-')[-1]\n",
    "    val=np.load(fname)\n",
    "    dict1={'label':label,'data':val,'sigma':sigma,'fle':fname.split('/')[-1],'fname':fname}\n",
    "    df=df.append(dict1,ignore_index=True)\n"
   ]
  },
  {
   "cell_type": "code",
   "execution_count": 16,
   "metadata": {},
   "outputs": [
    {
     "data": {
      "text/plain": [
       "array(['img_idx_70_3d_dset1.npy', 'img_idx_7_3d_dset1.npy',\n",
       "       'img_idx_0_3d_dset1.npy', 'img_idx_10_3d_dset1.npy',\n",
       "       'img_idx_100_3d_dset1.npy', '3pt_corr_0_1.1.npy',\n",
       "       '3pt_corr_0_0.65.npy', '3pt_corr_0_0.8.npy', '3pt_corr_0_0.5.npy',\n",
       "       '3pt_corr_0_1.1.npy', '3pt_corr_0_0.8.npy', '3pt_corr_0_0.5.npy'],\n",
       "      dtype=object)"
      ]
     },
     "execution_count": 16,
     "metadata": {},
     "output_type": "execute_result"
    }
   ],
   "source": [
    "df.fle.values"
   ]
  },
  {
   "cell_type": "code",
   "execution_count": 17,
   "metadata": {},
   "outputs": [
    {
     "data": {
      "text/html": [
       "<div>\n",
       "<style scoped>\n",
       "    .dataframe tbody tr th:only-of-type {\n",
       "        vertical-align: middle;\n",
       "    }\n",
       "\n",
       "    .dataframe tbody tr th {\n",
       "        vertical-align: top;\n",
       "    }\n",
       "\n",
       "    .dataframe thead th {\n",
       "        text-align: right;\n",
       "    }\n",
       "</style>\n",
       "<table border=\"1\" class=\"dataframe\">\n",
       "  <thead>\n",
       "    <tr style=\"text-align: right;\">\n",
       "      <th></th>\n",
       "      <th>label</th>\n",
       "      <th>fle</th>\n",
       "      <th>sigma</th>\n",
       "    </tr>\n",
       "  </thead>\n",
       "  <tbody>\n",
       "    <tr>\n",
       "      <th>0</th>\n",
       "      <td>0_dset1</td>\n",
       "      <td>img_idx_70_3d_dset1.npy</td>\n",
       "      <td>dset1</td>\n",
       "    </tr>\n",
       "    <tr>\n",
       "      <th>1</th>\n",
       "      <td>1_dset1</td>\n",
       "      <td>img_idx_7_3d_dset1.npy</td>\n",
       "      <td>dset1</td>\n",
       "    </tr>\n",
       "    <tr>\n",
       "      <th>2</th>\n",
       "      <td>2_dset1</td>\n",
       "      <td>img_idx_0_3d_dset1.npy</td>\n",
       "      <td>dset1</td>\n",
       "    </tr>\n",
       "    <tr>\n",
       "      <th>3</th>\n",
       "      <td>3_dset1</td>\n",
       "      <td>img_idx_10_3d_dset1.npy</td>\n",
       "      <td>dset1</td>\n",
       "    </tr>\n",
       "    <tr>\n",
       "      <th>4</th>\n",
       "      <td>4_dset1</td>\n",
       "      <td>img_idx_100_3d_dset1.npy</td>\n",
       "      <td>dset1</td>\n",
       "    </tr>\n",
       "    <tr>\n",
       "      <th>5</th>\n",
       "      <td>5_1.1</td>\n",
       "      <td>3pt_corr_0_1.1.npy</td>\n",
       "      <td>1.1</td>\n",
       "    </tr>\n",
       "    <tr>\n",
       "      <th>6</th>\n",
       "      <td>6_0.65</td>\n",
       "      <td>3pt_corr_0_0.65.npy</td>\n",
       "      <td>0.65</td>\n",
       "    </tr>\n",
       "    <tr>\n",
       "      <th>7</th>\n",
       "      <td>7_0.8</td>\n",
       "      <td>3pt_corr_0_0.8.npy</td>\n",
       "      <td>0.8</td>\n",
       "    </tr>\n",
       "    <tr>\n",
       "      <th>8</th>\n",
       "      <td>8_0.5</td>\n",
       "      <td>3pt_corr_0_0.5.npy</td>\n",
       "      <td>0.5</td>\n",
       "    </tr>\n",
       "    <tr>\n",
       "      <th>9</th>\n",
       "      <td>9_1.1</td>\n",
       "      <td>3pt_corr_0_1.1.npy</td>\n",
       "      <td>1.1</td>\n",
       "    </tr>\n",
       "    <tr>\n",
       "      <th>10</th>\n",
       "      <td>10_0.8</td>\n",
       "      <td>3pt_corr_0_0.8.npy</td>\n",
       "      <td>0.8</td>\n",
       "    </tr>\n",
       "    <tr>\n",
       "      <th>11</th>\n",
       "      <td>11_0.5</td>\n",
       "      <td>3pt_corr_0_0.5.npy</td>\n",
       "      <td>0.5</td>\n",
       "    </tr>\n",
       "  </tbody>\n",
       "</table>\n",
       "</div>"
      ],
      "text/plain": [
       "      label                       fle  sigma\n",
       "0   0_dset1   img_idx_70_3d_dset1.npy  dset1\n",
       "1   1_dset1    img_idx_7_3d_dset1.npy  dset1\n",
       "2   2_dset1    img_idx_0_3d_dset1.npy  dset1\n",
       "3   3_dset1   img_idx_10_3d_dset1.npy  dset1\n",
       "4   4_dset1  img_idx_100_3d_dset1.npy  dset1\n",
       "5     5_1.1        3pt_corr_0_1.1.npy    1.1\n",
       "6    6_0.65       3pt_corr_0_0.65.npy   0.65\n",
       "7     7_0.8        3pt_corr_0_0.8.npy    0.8\n",
       "8     8_0.5        3pt_corr_0_0.5.npy    0.5\n",
       "9     9_1.1        3pt_corr_0_1.1.npy    1.1\n",
       "10   10_0.8        3pt_corr_0_0.8.npy    0.8\n",
       "11   11_0.5        3pt_corr_0_0.5.npy    0.5"
      ]
     },
     "execution_count": 17,
     "metadata": {},
     "output_type": "execute_result"
    }
   ],
   "source": [
    "df[['label','fle','sigma']]"
   ]
  },
  {
   "cell_type": "markdown",
   "metadata": {},
   "source": [
    "## Plot fixed r1,r2"
   ]
  },
  {
   "cell_type": "code",
   "execution_count": 18,
   "metadata": {},
   "outputs": [],
   "source": [
    "def f_get_corrs_fixed_r(arr,r1,r2):\n",
    "    '''Get correlator values for given r1 and r2 '''    \n",
    "    num_imgs=arr.shape[0]\n",
    "    num_corrs=arr.shape[1]\n",
    "    \n",
    "    ### Pick r1,r2\n",
    "    arr=arr[:,:,r1,r2].astype(float)\n",
    "    # Avg over different images for fixed correlator\n",
    "    mean=np.array([np.mean(arr[:,i]) for i in range(num_corrs)])\n",
    "    err=np.array([np.std(arr[:,i])/np.sqrt(num_imgs) for i in range(num_corrs)])\n",
    "    \n",
    "    return mean,err\n",
    "\n",
    "def f_plot_fixed_rs(corrs_arr_lst,labels_lst,r1,r2,mode='relative'):\n",
    "    ''' mode =['absolute','relative']'''\n",
    "    \n",
    "    \n",
    "    mean_ref,err_ref=f_get_corrs_fixed_r(corrs_arr_lst[0],r1,r2)\n",
    "    \n",
    "    plt.figure()\n",
    "    for arr,label in zip(corrs_arr_lst,labels_lst):\n",
    "        mean,err=f_get_corrs_fixed_r(arr,r1,r2)\n",
    "        if mode=='relative':\n",
    "            x,y,yerr=np.arange(len(mean)),mean/mean_ref,(mean/mean_ref)*np.sqrt((err/mean)**2 + (err_ref/mean_ref)**2)\n",
    "        else : \n",
    "            x,y,yerr=np.arange(len(mean)),mean,err\n",
    "        plt.errorbar(x,y,yerr,marker='o',label=label)\n",
    "    #     plt.plot(x,y,marker='o',label=str(i))\n",
    "        print(y/yerr)\n",
    "    plt.legend()\n",
    "    plt.xlabel('l')\n",
    "    plt.ylabel('3ptfc')\n",
    "    plt.title('3ptfc values for fixed {0}-{1} for different l values'.format(r1,r2))\n",
    "\n",
    "def f_get_corrs_fixed_l(arr,l,r1):\n",
    "    '''Get correlator values for given l and r1 '''    \n",
    "    num_imgs=arr.shape[0]\n",
    "    num_corrs=arr.shape[3]\n",
    "    print(arr.shape)\n",
    "    \n",
    "    ### Pick l,r1\n",
    "    arr=arr[:,l,r1,:].astype(float)\n",
    "\n",
    "    # Avg over different images for fixed correlator\n",
    "    mean=np.array([np.mean(arr[:,i]) for i in range(num_corrs)])\n",
    "    err=np.array([np.std(arr[:,i])/np.sqrt(num_imgs) for i in range(num_corrs)])\n",
    "    \n",
    "    return mean,err\n",
    "\n",
    "\n",
    "def f_plot_fixed_l(corrs_arr_lst,labels_lst,l,r1,mode='relative'):\n",
    "    ''' mode =['absolute','relative']'''\n",
    "    \n",
    "\n",
    "    mean_ref,err_ref=f_get_corrs_fixed_l(corrs_arr_lst[0],l,r1)\n",
    "\n",
    "    plt.figure()\n",
    "    for arr,label in zip(corrs_arr_lst,labels_lst):\n",
    "        mean,err=f_get_corrs_fixed_l(arr,l,r1)\n",
    "        \n",
    "        print(label,type(label))\n",
    "\n",
    "        if mode=='relative':\n",
    "            x,y,yerr=np.arange(len(mean)),mean/mean_ref,(mean/mean_ref)*np.sqrt((err/mean)**2 + (err_ref/mean_ref)**2)\n",
    "        else : \n",
    "            x,y,yerr=np.arange(len(mean)),mean,err\n",
    "        plt.errorbar(x,y,yerr,marker='o',label=label)\n",
    "    #     plt.plot(x,y,marker='o',label=str(i))\n",
    "#         print(y/yerr)\n",
    "\n",
    "    plt.xticks(x)\n",
    "    plt.xlabel('r2')\n",
    "    plt.legend()\n",
    "    plt.title('3ptfc values for fixed l={0} and r1: {1} for different r2 values'.format(l,r1))\n",
    "\n",
    "# f_plot_fixed_l(corr_lst,['a1','a2'],l=3,r1=3,mode='relative')\n",
    "# f_plot_fixed_rs(corr_lst,['a1','a2','a3'],r1=1,r2=4,mode='relative')\n"
   ]
  },
  {
   "cell_type": "code",
   "execution_count": 19,
   "metadata": {},
   "outputs": [],
   "source": [
    "\n",
    "def f_plot_df_fixed_l(df,labels_lst,bkgnd_lst,l,r1,mode='relative'):\n",
    "    ''' mode =['absolute','relative']'''\n",
    "    \n",
    "    mean_ref,err_ref=f_get_corrs_fixed_l(df.data.values[0],l,r1)\n",
    "    \n",
    "    plt.figure()\n",
    "    \n",
    "    df_temp=df[df.label.isin(labels_lst)]\n",
    "    for i,row in df_temp.iterrows():\n",
    "        arr=row.data\n",
    "        label=row.label\n",
    "        mean,err=f_get_corrs_fixed_l(arr,l,r1)\n",
    "\n",
    "        if mode=='relative':\n",
    "            x,y,yerr=np.arange(len(mean)),mean/mean_ref,(mean/mean_ref)*np.sqrt((err/mean)**2 + (err_ref/mean_ref)**2)\n",
    "        else : \n",
    "            x,y,yerr=np.arange(len(mean)),mean,err\n",
    "        plt.errorbar(x,y,yerr,marker='o',label=label)\n",
    "    #     plt.plot(x,y,marker='o',label=str(i))\n",
    "    \n",
    "    df_temp=df[df.label.isin(bkgnd_lst)]\n",
    "    for i,row in df_temp.iterrows():\n",
    "        arr=row.data\n",
    "        label=row.label\n",
    "        mean,err=f_get_corrs_fixed_l(arr,l,r1)\n",
    "        if mode=='relative':\n",
    "            x,y,yerr=np.arange(len(mean)),mean/mean_ref,(mean/mean_ref)*np.sqrt((err/mean)**2 + (err_ref/mean_ref)**2)\n",
    "        else : \n",
    "            x,y,yerr=np.arange(len(mean)),mean,err\n",
    "        plt.errorbar(x,y,yerr,label=label,linestyle='--')\n",
    "       \n",
    "    plt.xticks(x)\n",
    "    plt.xlabel('r2')\n",
    "    plt.ylabel('3ptfc')\n",
    "    plt.legend()\n",
    "    plt.title('3ptfc values for fixed l={0} and r1: {1} for different r2 values'.format(l,r1))\n",
    "\n",
    "def f_plot_df_fixed_rs(df,labels_lst,bkgnd_lst,r1,r2,mode='relative'):\n",
    "    ''' mode =['absolute','relative']'''\n",
    "    \n",
    "    mean_ref,err_ref=f_get_corrs_fixed_r(df.data.values[0],r1,r2)\n",
    "    \n",
    "    plt.figure()\n",
    "    \n",
    "    df_temp=df[df.label.isin(labels_lst)]\n",
    "    for i,row in df_temp.iterrows():\n",
    "        arr=row.data\n",
    "        label=row.label\n",
    "        mean,err=f_get_corrs_fixed_r(arr,r1,r2)\n",
    "        if mode=='relative':\n",
    "            x,y,yerr=np.arange(len(mean)),mean/mean_ref,(mean/mean_ref)*np.sqrt((err/mean)**2 + (err_ref/mean_ref)**2)\n",
    "        else : \n",
    "            x,y,yerr=np.arange(len(mean)),mean,err\n",
    "        plt.errorbar(x,y,yerr,marker='o',label=label)\n",
    "    #     plt.plot(x,y,marker='o',label=str(i))\n",
    "    \n",
    "    df_temp=df[df.label.isin(bkgnd_lst)]\n",
    "    for i,row in df_temp.iterrows():\n",
    "        arr=row.data\n",
    "        label=row.label\n",
    "        mean,err=f_get_corrs_fixed_r(arr,r1,r2)\n",
    "        if mode=='relative':\n",
    "            x,y,yerr=np.arange(len(mean)),mean/mean_ref,(mean/mean_ref)*np.sqrt((err/mean)**2 + (err_ref/mean_ref)**2)\n",
    "        else : \n",
    "            x,y,yerr=np.arange(len(mean)),mean,err\n",
    "        plt.errorbar(x,y,yerr,label=label,linestyle='--')\n",
    "    \n",
    "    plt.legend()\n",
    "    plt.xlabel('l')\n",
    "    plt.ylabel('3ptfc')\n",
    "    plt.title('3ptfc values for fixed {0}-{1} for different l values'.format(r1,r2))\n",
    "    \n",
    "# f_plot_df_fixed_rs(df,labels_lst[:1],labels_lst,r1=1,r2=3,mode='absolute')\n",
    "# f_plot_df_fixed_l(df,labels_lst[:1],labels_lst,l=1,r1=1,mode='absolute')"
   ]
  },
  {
   "cell_type": "code",
   "execution_count": 20,
   "metadata": {},
   "outputs": [],
   "source": [
    "# # labels=['0__0_2d_val_0.5', '3__0_2d_val_0.5','7__0_2d_val_test0.5',\n",
    "# #         '1__0_2d_val_1.1', '4__0_2d_val_1.1', '8__0_2d_pred1.1_13-31770',\n",
    "# # #         '2__0_2d_pred0.65_14-34640', '6__0_2d_val_0.65', \n",
    "# # #          '5__0_2d_val_0.8',\n",
    "# #        ]\n",
    "# labels=df.label.values\n",
    "# df_temp=df[df.label.isin(labels)]\n",
    "# img_lst=df_temp.data.values.tolist()\n",
    "# labels_lst=df_temp.label.values.tolist()\n",
    "# # labels_lst=['a','b','c','d']\n",
    "# print(labels_lst)\n",
    "# f_plot_fixed_l(img_lst,labels_lst,l=3,r1=3,mode='absolute')"
   ]
  },
  {
   "cell_type": "code",
   "execution_count": 22,
   "metadata": {},
   "outputs": [
    {
     "data": {
      "application/vnd.jupyter.widget-view+json": {
       "model_id": "9e71d414f4d14021944f18ca59615c8e",
       "version_major": 2,
       "version_minor": 0
      },
      "text/plain": [
       "interactive(children=(SelectMultiple(description='labels_lst', options=('0_dset1', '1_dset1', '2_dset1', '3_ds…"
      ]
     },
     "metadata": {},
     "output_type": "display_data"
    },
    {
     "data": {
      "text/plain": [
       "<function __main__.f_plot_df_fixed_rs(df, labels_lst, bkgnd_lst, r1, r2, mode='relative')>"
      ]
     },
     "execution_count": 22,
     "metadata": {},
     "output_type": "execute_result"
    }
   ],
   "source": [
    "interact(f_plot_df_fixed_rs,df=fixed(df),\n",
    "                labels_lst=SelectMultiple(options=df.label.values),\n",
    "                bkgnd_lst=SelectMultiple(options=df.label.values),\n",
    "                r1=IntSlider(min=0,max=19,step=1),r2=IntSlider(min=0,max=19,step=1),\n",
    "                mode=['absolute'])\n"
   ]
  },
  {
   "cell_type": "code",
   "execution_count": 19,
   "metadata": {},
   "outputs": [
    {
     "data": {
      "application/vnd.jupyter.widget-view+json": {
       "model_id": "686cc5278cd046abb321f067bf09caec",
       "version_major": 2,
       "version_minor": 0
      },
      "text/plain": [
       "interactive(children=(SelectMultiple(description='labels_lst', options=('0_val-0.5', '1_val-0.65', '2_val-0.8'…"
      ]
     },
     "metadata": {},
     "output_type": "display_data"
    },
    {
     "data": {
      "text/plain": [
       "<function __main__.f_plot_df_fixed_l(df, labels_lst, bkgnd_lst, l, r1, mode='relative')>"
      ]
     },
     "execution_count": 19,
     "metadata": {},
     "output_type": "execute_result"
    }
   ],
   "source": [
    "interact(f_plot_df_fixed_l,df=fixed(df),\n",
    "                labels_lst=SelectMultiple(options=df.label.values),\n",
    "                bkgnd_lst=SelectMultiple(options=df.label.values),\n",
    "                l=ToggleButtons(options=np.arange(6)),\n",
    "                r1=IntSlider(min=0,max=18,step=1),mode=['absolute'])\n"
   ]
  },
  {
   "cell_type": "code",
   "execution_count": 31,
   "metadata": {},
   "outputs": [
    {
     "data": {
      "text/plain": [
       "(8, 8, 8)"
      ]
     },
     "execution_count": 31,
     "metadata": {},
     "output_type": "execute_result"
    }
   ],
   "source": [
    "# fname='/global/cfs/cdirs/m3363/vayyar/cosmogan_data/3ptfnc_stored_results/img_9-corr_2d_val_0.8.npy'\n",
    "fname='/global/cfs/cdirs/m3363/vayyar/cosmogan_data/3ptfnc_stored_results/3pt_corr_0_3d_dset1.npy'\n",
    "fname='/global/cfs/cdirs/m3363/vayyar/cosmogan_data/3ptfnc_stored_results/img_idx_0_3d_dset1.npy'\n",
    "a1=np.load(fname)\n",
    "a1.shape"
   ]
  },
  {
   "cell_type": "code",
   "execution_count": 40,
   "metadata": {},
   "outputs": [],
   "source": [
    "# a1.shape"
   ]
  },
  {
   "cell_type": "code",
   "execution_count": 32,
   "metadata": {},
   "outputs": [],
   "source": [
    "fname='/global/cfs/cdirs/m3363/vayyar/cosmogan_data/raw_data/3d_data/dataset1_smoothing_const_params_64cube_100k/val.npy'\n",
    "fname='/global/cfs/cdirs/m3363/vayyar/cosmogan_data/3ptfnc_stored_results/2d_4sigma-values/3pt_corr_0_1.1.npy'\n",
    "a1=np.load(fname,mmap_mode='r')\n"
   ]
  },
  {
   "cell_type": "code",
   "execution_count": 33,
   "metadata": {},
   "outputs": [
    {
     "data": {
      "text/plain": [
       "(90, 6, 18, 18)"
      ]
     },
     "execution_count": 33,
     "metadata": {},
     "output_type": "execute_result"
    }
   ],
   "source": [
    "a1.shape"
   ]
  },
  {
   "cell_type": "code",
   "execution_count": 11,
   "metadata": {},
   "outputs": [
    {
     "data": {
      "text/plain": [
       "(1, 64, 64, 64)"
      ]
     },
     "execution_count": 11,
     "metadata": {},
     "output_type": "execute_result"
    }
   ],
   "source": [
    "a1[0,:].shape"
   ]
  },
  {
   "cell_type": "code",
   "execution_count": null,
   "metadata": {},
   "outputs": [],
   "source": []
  }
 ],
 "metadata": {
  "kernelspec": {
   "display_name": "v3",
   "language": "python",
   "name": "v-jpt-3"
  },
  "language_info": {
   "codemirror_mode": {
    "name": "ipython",
    "version": 3
   },
   "file_extension": ".py",
   "mimetype": "text/x-python",
   "name": "python",
   "nbconvert_exporter": "python",
   "pygments_lexer": "ipython3",
   "version": "3.8.6"
  }
 },
 "nbformat": 4,
 "nbformat_minor": 4
}

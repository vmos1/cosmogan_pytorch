{
 "cells": [
  {
   "cell_type": "markdown",
   "metadata": {},
   "source": [
    "# Analyze results for 3D CGAN\n",
    "Feb 22, 2021"
   ]
  },
  {
   "cell_type": "code",
   "execution_count": 1,
   "metadata": {},
   "outputs": [],
   "source": [
    "import     numpy as np\n",
    "import matplotlib.pyplot as plt\n",
    "import pandas as pd\n",
    "\n",
    "import subprocess as sp\n",
    "import sys\n",
    "import os\n",
    "import glob\n",
    "import pickle \n",
    "\n",
    "from matplotlib.colors import LogNorm, PowerNorm, Normalize\n",
    "import seaborn as sns\n",
    "from functools import reduce"
   ]
  },
  {
   "cell_type": "code",
   "execution_count": 2,
   "metadata": {},
   "outputs": [],
   "source": [
    "from ipywidgets import *"
   ]
  },
  {
   "cell_type": "code",
   "execution_count": 3,
   "metadata": {},
   "outputs": [],
   "source": [
    "%matplotlib widget"
   ]
  },
  {
   "cell_type": "code",
   "execution_count": 4,
   "metadata": {},
   "outputs": [],
   "source": [
    "sys.path.append('/global/u1/v/vpa/project/jpt_notebooks/Cosmology/Cosmo_GAN/repositories/cosmogan_pytorch/code/modules_image_analysis/')\n",
    "from modules_img_analysis import *"
   ]
  },
  {
   "cell_type": "code",
   "execution_count": 5,
   "metadata": {},
   "outputs": [],
   "source": [
    "sys.path.append('/global/u1/v/vpa/project/jpt_notebooks/Cosmology/Cosmo_GAN/repositories/cosmogan_pytorch/code/5_3d_cgan/1_main_code/')\n",
    "import post_analysis_pandas as post\n"
   ]
  },
  {
   "cell_type": "code",
   "execution_count": 6,
   "metadata": {},
   "outputs": [],
   "source": [
    "### Transformation functions for image pixel values\n",
    "def f_transform(x):\n",
    "    return 2.*x/(x + 4.) - 1.\n",
    "\n",
    "def f_invtransform(s):\n",
    "    return 4.*(1. + s)/(1. - s)\n"
   ]
  },
  {
   "cell_type": "markdown",
   "metadata": {},
   "source": [
    "### Read validation data"
   ]
  },
  {
   "cell_type": "code",
   "execution_count": 7,
   "metadata": {},
   "outputs": [
    {
     "name": "stdout",
     "output_type": "stream",
     "text": [
      "/global/cfs/cdirs/m3363/vayyar/cosmogan_data/raw_data/3d_data/dataset2a_3dcgan_4univs_64cube_simple_splicing/norm_1_sig_0.5_train_val.npy\n",
      "/global/cfs/cdirs/m3363/vayyar/cosmogan_data/raw_data/3d_data/dataset2a_3dcgan_4univs_64cube_simple_splicing/norm_1_sig_0.65_train_val.npy\n",
      "/global/cfs/cdirs/m3363/vayyar/cosmogan_data/raw_data/3d_data/dataset2a_3dcgan_4univs_64cube_simple_splicing/norm_1_sig_0.8_train_val.npy\n",
      "/global/cfs/cdirs/m3363/vayyar/cosmogan_data/raw_data/3d_data/dataset2a_3dcgan_4univs_64cube_simple_splicing/norm_1_sig_1.1_train_val.npy\n"
     ]
    }
   ],
   "source": [
    "# bins=np.concatenate([np.array([-0.5]),np.arange(0.5,20.5,1),np.arange(20.5,100.5,5),np.arange(100.5,1000.5,50),np.array([2000])]) #bin edges to use\n",
    "bins=np.concatenate([np.array([-0.5]),np.arange(0.5,100.5,5),np.arange(100.5,300.5,20),np.arange(300.5,1000.5,50),np.array([2000])]) #bin edges to use\n",
    "\n",
    "bins=f_transform(bins)   ### scale to (-1,1)\n",
    "# ### Extract validation data\n",
    "sigma_lst=[0.5,0.65,0.8,1.1]\n",
    "labels_lst=range(len(sigma_lst))\n",
    "bkgnd_dict={}\n",
    "num_bkgnd=200\n",
    "\n",
    "for label in labels_lst:\n",
    "    fname='/global/cfs/cdirs/m3363/vayyar/cosmogan_data/raw_data/3d_data/dataset2a_3dcgan_4univs_64cube_simple_splicing/norm_1_sig_{0}_train_val.npy'.format(sigma_lst[label])\n",
    "    print(fname)\n",
    "    samples=np.load(fname,mmap_mode='r')[-num_bkgnd:][:,0,:,:]\n",
    "    \n",
    "    dict_val=post.f_compute_hist_spect(samples,bins)\n",
    "    bkgnd_dict[str(sigma_lst[label])]=dict_val\n",
    "    del samples"
   ]
  },
  {
   "cell_type": "markdown",
   "metadata": {},
   "source": [
    "## Read data"
   ]
  },
  {
   "cell_type": "code",
   "execution_count": 8,
   "metadata": {},
   "outputs": [],
   "source": [
    "# main_dir='/global/cfs/cdirs/m3363/vayyar/cosmogan_data/results_from_other_code/pytorch/results/128sq/'\n",
    "# results_dir=main_dir+'20201002_064327'"
   ]
  },
  {
   "cell_type": "code",
   "execution_count": 9,
   "metadata": {},
   "outputs": [],
   "source": [
    "dict1={'64':'/global/cfs/cdirs/m3363/vayyar/cosmogan_data/results_from_other_code/pytorch/results/3d_cGAN/',\n",
    "      '512':'/global/cfs/cdirs/m3363/vayyar/cosmogan_data/results_from_other_code/pytorch/results/3d_cGAN/'}\n",
    "\n",
    "u=interactive(lambda x: dict1[x], x=Select(options=dict1.keys()))\n",
    "# display(u)\n"
   ]
  },
  {
   "cell_type": "code",
   "execution_count": 11,
   "metadata": {},
   "outputs": [
    {
     "data": {
      "application/vnd.jupyter.widget-view+json": {
       "model_id": "dadcca980b1d47c19d08f8511a8acbc8",
       "version_major": 2,
       "version_minor": 0
      },
      "text/plain": [
       "interactive(children=(Dropdown(description='x', options=('20210223_210217_3dcgan_predict_0.8_m2', '20210227_05…"
      ]
     },
     "metadata": {},
     "output_type": "display_data"
    }
   ],
   "source": [
    "# parent_dir=u.result\n",
    "parent_dir=dict1['64']\n",
    "dir_lst=[i.split('/')[-1] for i in glob.glob(parent_dir+'2021*')]\n",
    "w=interactive(lambda x: x, x=Dropdown(options=dir_lst))\n",
    "display(w)"
   ]
  },
  {
   "cell_type": "code",
   "execution_count": 12,
   "metadata": {},
   "outputs": [
    {
     "name": "stdout",
     "output_type": "stream",
     "text": [
      "/global/cfs/cdirs/m3363/vayyar/cosmogan_data/results_from_other_code/pytorch/results/3d_cGAN/20210309_200006_3dcgan_predict_0.65_m2\n"
     ]
    }
   ],
   "source": [
    "result=w.result\n",
    "result_dir=parent_dir+result\n",
    "print(result_dir)"
   ]
  },
  {
   "cell_type": "markdown",
   "metadata": {},
   "source": [
    "## Plot Losses"
   ]
  },
  {
   "cell_type": "code",
   "execution_count": 13,
   "metadata": {},
   "outputs": [],
   "source": [
    "df_metrics=pd.read_pickle(result_dir+'/df_metrics.pkle').astype(np.float64)\n"
   ]
  },
  {
   "cell_type": "code",
   "execution_count": 14,
   "metadata": {},
   "outputs": [
    {
     "data": {
      "text/html": [
       "<div>\n",
       "<style scoped>\n",
       "    .dataframe tbody tr th:only-of-type {\n",
       "        vertical-align: middle;\n",
       "    }\n",
       "\n",
       "    .dataframe tbody tr th {\n",
       "        vertical-align: top;\n",
       "    }\n",
       "\n",
       "    .dataframe thead th {\n",
       "        text-align: right;\n",
       "    }\n",
       "</style>\n",
       "<table border=\"1\" class=\"dataframe\">\n",
       "  <thead>\n",
       "    <tr style=\"text-align: right;\">\n",
       "      <th></th>\n",
       "      <th>step</th>\n",
       "      <th>epoch</th>\n",
       "      <th>Dreal</th>\n",
       "      <th>Dfake</th>\n",
       "      <th>Dfull</th>\n",
       "      <th>G_adv</th>\n",
       "      <th>G_full</th>\n",
       "      <th>spec_loss</th>\n",
       "      <th>hist_loss</th>\n",
       "      <th>spec_chi</th>\n",
       "      <th>hist_chi</th>\n",
       "      <th>D(x)</th>\n",
       "      <th>D_G_z1</th>\n",
       "      <th>D_G_z2</th>\n",
       "      <th>time</th>\n",
       "    </tr>\n",
       "  </thead>\n",
       "  <tbody>\n",
       "    <tr>\n",
       "      <th>42174</th>\n",
       "      <td>42174.0</td>\n",
       "      <td>8.0</td>\n",
       "      <td>0.167716</td>\n",
       "      <td>0.144436</td>\n",
       "      <td>0.312152</td>\n",
       "      <td>3.123097</td>\n",
       "      <td>110.863625</td>\n",
       "      <td>107.740524</td>\n",
       "      <td>-0.198246</td>\n",
       "      <td>110.833054</td>\n",
       "      <td>0.074876</td>\n",
       "      <td>3.977784</td>\n",
       "      <td>-3.179225</td>\n",
       "      <td>-3.069629</td>\n",
       "      <td>0.444174</td>\n",
       "    </tr>\n",
       "    <tr>\n",
       "      <th>42175</th>\n",
       "      <td>42175.0</td>\n",
       "      <td>8.0</td>\n",
       "      <td>0.137182</td>\n",
       "      <td>0.183805</td>\n",
       "      <td>0.320987</td>\n",
       "      <td>6.201644</td>\n",
       "      <td>115.113647</td>\n",
       "      <td>108.912003</td>\n",
       "      <td>-0.060912</td>\n",
       "      <td>108.550056</td>\n",
       "      <td>0.853538</td>\n",
       "      <td>4.130019</td>\n",
       "      <td>-2.229486</td>\n",
       "      <td>-6.199295</td>\n",
       "      <td>0.440786</td>\n",
       "    </tr>\n",
       "    <tr>\n",
       "      <th>42176</th>\n",
       "      <td>42176.0</td>\n",
       "      <td>8.0</td>\n",
       "      <td>0.149297</td>\n",
       "      <td>0.154920</td>\n",
       "      <td>0.304217</td>\n",
       "      <td>5.532454</td>\n",
       "      <td>115.181160</td>\n",
       "      <td>109.648705</td>\n",
       "      <td>0.034498</td>\n",
       "      <td>109.046814</td>\n",
       "      <td>0.048767</td>\n",
       "      <td>3.135159</td>\n",
       "      <td>-5.434539</td>\n",
       "      <td>-5.527760</td>\n",
       "      <td>0.442113</td>\n",
       "    </tr>\n",
       "    <tr>\n",
       "      <th>42177</th>\n",
       "      <td>42177.0</td>\n",
       "      <td>8.0</td>\n",
       "      <td>0.152173</td>\n",
       "      <td>0.143449</td>\n",
       "      <td>0.295622</td>\n",
       "      <td>3.958974</td>\n",
       "      <td>114.134972</td>\n",
       "      <td>110.175995</td>\n",
       "      <td>0.056996</td>\n",
       "      <td>108.034409</td>\n",
       "      <td>-0.012792</td>\n",
       "      <td>3.690227</td>\n",
       "      <td>-4.867984</td>\n",
       "      <td>-3.934968</td>\n",
       "      <td>0.440030</td>\n",
       "    </tr>\n",
       "    <tr>\n",
       "      <th>42178</th>\n",
       "      <td>42178.0</td>\n",
       "      <td>8.0</td>\n",
       "      <td>0.177096</td>\n",
       "      <td>0.116655</td>\n",
       "      <td>0.293751</td>\n",
       "      <td>4.194742</td>\n",
       "      <td>116.571449</td>\n",
       "      <td>112.376709</td>\n",
       "      <td>-0.251165</td>\n",
       "      <td>108.035934</td>\n",
       "      <td>-0.076118</td>\n",
       "      <td>4.084338</td>\n",
       "      <td>-3.006944</td>\n",
       "      <td>-4.172380</td>\n",
       "      <td>0.446037</td>\n",
       "    </tr>\n",
       "    <tr>\n",
       "      <th>42179</th>\n",
       "      <td>42179.0</td>\n",
       "      <td>8.0</td>\n",
       "      <td>0.200175</td>\n",
       "      <td>0.176478</td>\n",
       "      <td>0.376653</td>\n",
       "      <td>4.720345</td>\n",
       "      <td>111.374382</td>\n",
       "      <td>106.654037</td>\n",
       "      <td>0.183944</td>\n",
       "      <td>107.338791</td>\n",
       "      <td>-0.094771</td>\n",
       "      <td>3.722203</td>\n",
       "      <td>-3.014214</td>\n",
       "      <td>-4.708409</td>\n",
       "      <td>0.438840</td>\n",
       "    </tr>\n",
       "    <tr>\n",
       "      <th>42180</th>\n",
       "      <td>42180.0</td>\n",
       "      <td>8.0</td>\n",
       "      <td>0.209232</td>\n",
       "      <td>0.146993</td>\n",
       "      <td>0.356225</td>\n",
       "      <td>4.338779</td>\n",
       "      <td>109.090210</td>\n",
       "      <td>104.751434</td>\n",
       "      <td>0.222613</td>\n",
       "      <td>105.626541</td>\n",
       "      <td>0.580116</td>\n",
       "      <td>3.847753</td>\n",
       "      <td>-4.059111</td>\n",
       "      <td>-4.317606</td>\n",
       "      <td>0.442672</td>\n",
       "    </tr>\n",
       "    <tr>\n",
       "      <th>42181</th>\n",
       "      <td>42181.0</td>\n",
       "      <td>8.0</td>\n",
       "      <td>0.149167</td>\n",
       "      <td>0.120724</td>\n",
       "      <td>0.269891</td>\n",
       "      <td>4.291422</td>\n",
       "      <td>112.800957</td>\n",
       "      <td>108.509537</td>\n",
       "      <td>0.333497</td>\n",
       "      <td>108.668434</td>\n",
       "      <td>0.435596</td>\n",
       "      <td>3.474184</td>\n",
       "      <td>-3.202874</td>\n",
       "      <td>-4.271730</td>\n",
       "      <td>0.442397</td>\n",
       "    </tr>\n",
       "    <tr>\n",
       "      <th>42182</th>\n",
       "      <td>42182.0</td>\n",
       "      <td>8.0</td>\n",
       "      <td>0.162860</td>\n",
       "      <td>0.117658</td>\n",
       "      <td>0.280518</td>\n",
       "      <td>4.281157</td>\n",
       "      <td>114.774017</td>\n",
       "      <td>110.492859</td>\n",
       "      <td>0.253269</td>\n",
       "      <td>108.603165</td>\n",
       "      <td>1.131474</td>\n",
       "      <td>3.287461</td>\n",
       "      <td>-3.426367</td>\n",
       "      <td>-4.258962</td>\n",
       "      <td>0.466042</td>\n",
       "    </tr>\n",
       "    <tr>\n",
       "      <th>42183</th>\n",
       "      <td>NaN</td>\n",
       "      <td>NaN</td>\n",
       "      <td>NaN</td>\n",
       "      <td>NaN</td>\n",
       "      <td>NaN</td>\n",
       "      <td>NaN</td>\n",
       "      <td>NaN</td>\n",
       "      <td>NaN</td>\n",
       "      <td>NaN</td>\n",
       "      <td>108.712822</td>\n",
       "      <td>0.443179</td>\n",
       "      <td>NaN</td>\n",
       "      <td>NaN</td>\n",
       "      <td>NaN</td>\n",
       "      <td>NaN</td>\n",
       "    </tr>\n",
       "  </tbody>\n",
       "</table>\n",
       "</div>"
      ],
      "text/plain": [
       "          step  epoch     Dreal     Dfake     Dfull     G_adv      G_full  \\\n",
       "42174  42174.0    8.0  0.167716  0.144436  0.312152  3.123097  110.863625   \n",
       "42175  42175.0    8.0  0.137182  0.183805  0.320987  6.201644  115.113647   \n",
       "42176  42176.0    8.0  0.149297  0.154920  0.304217  5.532454  115.181160   \n",
       "42177  42177.0    8.0  0.152173  0.143449  0.295622  3.958974  114.134972   \n",
       "42178  42178.0    8.0  0.177096  0.116655  0.293751  4.194742  116.571449   \n",
       "42179  42179.0    8.0  0.200175  0.176478  0.376653  4.720345  111.374382   \n",
       "42180  42180.0    8.0  0.209232  0.146993  0.356225  4.338779  109.090210   \n",
       "42181  42181.0    8.0  0.149167  0.120724  0.269891  4.291422  112.800957   \n",
       "42182  42182.0    8.0  0.162860  0.117658  0.280518  4.281157  114.774017   \n",
       "42183      NaN    NaN       NaN       NaN       NaN       NaN         NaN   \n",
       "\n",
       "        spec_loss  hist_loss    spec_chi  hist_chi      D(x)    D_G_z1  \\\n",
       "42174  107.740524  -0.198246  110.833054  0.074876  3.977784 -3.179225   \n",
       "42175  108.912003  -0.060912  108.550056  0.853538  4.130019 -2.229486   \n",
       "42176  109.648705   0.034498  109.046814  0.048767  3.135159 -5.434539   \n",
       "42177  110.175995   0.056996  108.034409 -0.012792  3.690227 -4.867984   \n",
       "42178  112.376709  -0.251165  108.035934 -0.076118  4.084338 -3.006944   \n",
       "42179  106.654037   0.183944  107.338791 -0.094771  3.722203 -3.014214   \n",
       "42180  104.751434   0.222613  105.626541  0.580116  3.847753 -4.059111   \n",
       "42181  108.509537   0.333497  108.668434  0.435596  3.474184 -3.202874   \n",
       "42182  110.492859   0.253269  108.603165  1.131474  3.287461 -3.426367   \n",
       "42183         NaN        NaN  108.712822  0.443179       NaN       NaN   \n",
       "\n",
       "         D_G_z2      time  \n",
       "42174 -3.069629  0.444174  \n",
       "42175 -6.199295  0.440786  \n",
       "42176 -5.527760  0.442113  \n",
       "42177 -3.934968  0.440030  \n",
       "42178 -4.172380  0.446037  \n",
       "42179 -4.708409  0.438840  \n",
       "42180 -4.317606  0.442672  \n",
       "42181 -4.271730  0.442397  \n",
       "42182 -4.258962  0.466042  \n",
       "42183       NaN       NaN  "
      ]
     },
     "execution_count": 14,
     "metadata": {},
     "output_type": "execute_result"
    }
   ],
   "source": [
    "df_metrics.tail(10)"
   ]
  },
  {
   "cell_type": "code",
   "execution_count": 15,
   "metadata": {},
   "outputs": [
    {
     "data": {
      "application/vnd.jupyter.widget-view+json": {
       "model_id": "b4409449da654680b605aee5a8f8f906",
       "version_major": 2,
       "version_minor": 0
      },
      "text/plain": [
       "interactive(children=(SelectMultiple(description='col_list', options=('step', 'epoch', 'Dreal', 'Dfake', 'Dful…"
      ]
     },
     "metadata": {},
     "output_type": "display_data"
    },
    {
     "data": {
      "text/plain": [
       "<function __main__.f_plot_metrics(df, col_list)>"
      ]
     },
     "execution_count": 15,
     "metadata": {},
     "output_type": "execute_result"
    }
   ],
   "source": [
    "def f_plot_metrics(df,col_list):\n",
    "    \n",
    "    plt.figure()\n",
    "    for key in col_list:\n",
    "        plt.plot(df_metrics[key],label=key,marker='*',linestyle='')\n",
    "    plt.legend()\n",
    "    \n",
    "#     col_list=list(col_list)\n",
    "#     df.plot(kind='line',x='step',y=col_list)\n",
    "    \n",
    "# f_plot_metrics(df_metrics,['spec_chi','hist_chi'])\n",
    "\n",
    "interact_manual(f_plot_metrics,df=fixed(df_metrics), col_list=SelectMultiple(options=df_metrics.columns.values))"
   ]
  },
  {
   "cell_type": "code",
   "execution_count": 17,
   "metadata": {},
   "outputs": [
    {
     "name": "stdout",
     "output_type": "stream",
     "text": [
      "-0.9067538738250733\n"
     ]
    },
    {
     "data": {
      "text/html": [
       "<div>\n",
       "<style scoped>\n",
       "    .dataframe tbody tr th:only-of-type {\n",
       "        vertical-align: middle;\n",
       "    }\n",
       "\n",
       "    .dataframe tbody tr th {\n",
       "        vertical-align: top;\n",
       "    }\n",
       "\n",
       "    .dataframe thead th {\n",
       "        text-align: right;\n",
       "    }\n",
       "</style>\n",
       "<table border=\"1\" class=\"dataframe\">\n",
       "  <thead>\n",
       "    <tr style=\"text-align: right;\">\n",
       "      <th></th>\n",
       "      <th>step</th>\n",
       "      <th>epoch</th>\n",
       "      <th>Dreal</th>\n",
       "      <th>Dfake</th>\n",
       "      <th>Dfull</th>\n",
       "      <th>G_adv</th>\n",
       "      <th>G_full</th>\n",
       "      <th>spec_loss</th>\n",
       "      <th>hist_loss</th>\n",
       "      <th>spec_chi</th>\n",
       "      <th>hist_chi</th>\n",
       "      <th>D(x)</th>\n",
       "      <th>D_G_z1</th>\n",
       "      <th>D_G_z2</th>\n",
       "      <th>time</th>\n",
       "    </tr>\n",
       "  </thead>\n",
       "  <tbody>\n",
       "    <tr>\n",
       "      <th>40558</th>\n",
       "      <td>40558.0</td>\n",
       "      <td>8.0</td>\n",
       "      <td>0.132478</td>\n",
       "      <td>0.187254</td>\n",
       "      <td>0.319731</td>\n",
       "      <td>6.746446</td>\n",
       "      <td>115.549171</td>\n",
       "      <td>108.802727</td>\n",
       "      <td>-0.723210</td>\n",
       "      <td>109.847122</td>\n",
       "      <td>-2.324598</td>\n",
       "      <td>2.724129</td>\n",
       "      <td>-6.359318</td>\n",
       "      <td>-6.744827</td>\n",
       "      <td>0.471375</td>\n",
       "    </tr>\n",
       "    <tr>\n",
       "      <th>40562</th>\n",
       "      <td>40562.0</td>\n",
       "      <td>8.0</td>\n",
       "      <td>0.175614</td>\n",
       "      <td>0.147250</td>\n",
       "      <td>0.322863</td>\n",
       "      <td>4.069386</td>\n",
       "      <td>114.584091</td>\n",
       "      <td>110.514702</td>\n",
       "      <td>-1.451975</td>\n",
       "      <td>109.452179</td>\n",
       "      <td>-2.305127</td>\n",
       "      <td>3.575622</td>\n",
       "      <td>-3.998980</td>\n",
       "      <td>-4.049746</td>\n",
       "      <td>0.473290</td>\n",
       "    </tr>\n",
       "    <tr>\n",
       "      <th>33553</th>\n",
       "      <td>33553.0</td>\n",
       "      <td>7.0</td>\n",
       "      <td>0.168974</td>\n",
       "      <td>0.200229</td>\n",
       "      <td>0.369203</td>\n",
       "      <td>6.509551</td>\n",
       "      <td>116.814972</td>\n",
       "      <td>110.305420</td>\n",
       "      <td>-0.911502</td>\n",
       "      <td>109.785095</td>\n",
       "      <td>-2.272750</td>\n",
       "      <td>2.696006</td>\n",
       "      <td>-6.338140</td>\n",
       "      <td>-6.507777</td>\n",
       "      <td>0.476615</td>\n",
       "    </tr>\n",
       "    <tr>\n",
       "      <th>34330</th>\n",
       "      <td>34330.0</td>\n",
       "      <td>7.0</td>\n",
       "      <td>0.149098</td>\n",
       "      <td>0.125781</td>\n",
       "      <td>0.274880</td>\n",
       "      <td>3.619483</td>\n",
       "      <td>115.330429</td>\n",
       "      <td>111.710945</td>\n",
       "      <td>-1.237876</td>\n",
       "      <td>109.753532</td>\n",
       "      <td>-2.270606</td>\n",
       "      <td>3.406135</td>\n",
       "      <td>-3.168069</td>\n",
       "      <td>-3.586084</td>\n",
       "      <td>0.460814</td>\n",
       "    </tr>\n",
       "    <tr>\n",
       "      <th>31229</th>\n",
       "      <td>31229.0</td>\n",
       "      <td>6.0</td>\n",
       "      <td>0.172381</td>\n",
       "      <td>0.151311</td>\n",
       "      <td>0.323692</td>\n",
       "      <td>4.210439</td>\n",
       "      <td>112.901123</td>\n",
       "      <td>108.690681</td>\n",
       "      <td>-0.906113</td>\n",
       "      <td>109.604248</td>\n",
       "      <td>-2.259225</td>\n",
       "      <td>3.695278</td>\n",
       "      <td>-3.130236</td>\n",
       "      <td>-4.192879</td>\n",
       "      <td>0.447018</td>\n",
       "    </tr>\n",
       "    <tr>\n",
       "      <th>40524</th>\n",
       "      <td>40524.0</td>\n",
       "      <td>8.0</td>\n",
       "      <td>0.167132</td>\n",
       "      <td>0.154666</td>\n",
       "      <td>0.321797</td>\n",
       "      <td>4.752157</td>\n",
       "      <td>113.093857</td>\n",
       "      <td>108.341698</td>\n",
       "      <td>-1.086549</td>\n",
       "      <td>108.918808</td>\n",
       "      <td>-2.251692</td>\n",
       "      <td>3.409426</td>\n",
       "      <td>-2.943850</td>\n",
       "      <td>-4.742093</td>\n",
       "      <td>0.469023</td>\n",
       "    </tr>\n",
       "    <tr>\n",
       "      <th>36728</th>\n",
       "      <td>36728.0</td>\n",
       "      <td>7.0</td>\n",
       "      <td>0.185567</td>\n",
       "      <td>0.146407</td>\n",
       "      <td>0.331975</td>\n",
       "      <td>3.861784</td>\n",
       "      <td>111.937027</td>\n",
       "      <td>108.075241</td>\n",
       "      <td>-0.439015</td>\n",
       "      <td>109.643478</td>\n",
       "      <td>-2.244315</td>\n",
       "      <td>4.146925</td>\n",
       "      <td>-3.530289</td>\n",
       "      <td>-3.835701</td>\n",
       "      <td>0.461702</td>\n",
       "    </tr>\n",
       "    <tr>\n",
       "      <th>34319</th>\n",
       "      <td>34319.0</td>\n",
       "      <td>7.0</td>\n",
       "      <td>0.199543</td>\n",
       "      <td>0.163012</td>\n",
       "      <td>0.362555</td>\n",
       "      <td>5.033240</td>\n",
       "      <td>116.070259</td>\n",
       "      <td>111.037018</td>\n",
       "      <td>-0.524088</td>\n",
       "      <td>107.853500</td>\n",
       "      <td>-2.241580</td>\n",
       "      <td>5.981313</td>\n",
       "      <td>-4.209482</td>\n",
       "      <td>-5.025881</td>\n",
       "      <td>0.551857</td>\n",
       "    </tr>\n",
       "    <tr>\n",
       "      <th>38900</th>\n",
       "      <td>38900.0</td>\n",
       "      <td>8.0</td>\n",
       "      <td>0.195646</td>\n",
       "      <td>0.146350</td>\n",
       "      <td>0.341996</td>\n",
       "      <td>3.539005</td>\n",
       "      <td>113.092621</td>\n",
       "      <td>109.553619</td>\n",
       "      <td>-0.580611</td>\n",
       "      <td>108.901672</td>\n",
       "      <td>-2.228121</td>\n",
       "      <td>3.604151</td>\n",
       "      <td>-3.708694</td>\n",
       "      <td>-3.507765</td>\n",
       "      <td>0.502798</td>\n",
       "    </tr>\n",
       "    <tr>\n",
       "      <th>35483</th>\n",
       "      <td>35483.0</td>\n",
       "      <td>7.0</td>\n",
       "      <td>0.137304</td>\n",
       "      <td>0.138348</td>\n",
       "      <td>0.275652</td>\n",
       "      <td>5.395416</td>\n",
       "      <td>114.045074</td>\n",
       "      <td>108.649658</td>\n",
       "      <td>-0.128622</td>\n",
       "      <td>109.848801</td>\n",
       "      <td>-2.225577</td>\n",
       "      <td>3.102691</td>\n",
       "      <td>-2.806516</td>\n",
       "      <td>-5.389395</td>\n",
       "      <td>0.528692</td>\n",
       "    </tr>\n",
       "  </tbody>\n",
       "</table>\n",
       "</div>"
      ],
      "text/plain": [
       "          step  epoch     Dreal     Dfake     Dfull     G_adv      G_full  \\\n",
       "40558  40558.0    8.0  0.132478  0.187254  0.319731  6.746446  115.549171   \n",
       "40562  40562.0    8.0  0.175614  0.147250  0.322863  4.069386  114.584091   \n",
       "33553  33553.0    7.0  0.168974  0.200229  0.369203  6.509551  116.814972   \n",
       "34330  34330.0    7.0  0.149098  0.125781  0.274880  3.619483  115.330429   \n",
       "31229  31229.0    6.0  0.172381  0.151311  0.323692  4.210439  112.901123   \n",
       "40524  40524.0    8.0  0.167132  0.154666  0.321797  4.752157  113.093857   \n",
       "36728  36728.0    7.0  0.185567  0.146407  0.331975  3.861784  111.937027   \n",
       "34319  34319.0    7.0  0.199543  0.163012  0.362555  5.033240  116.070259   \n",
       "38900  38900.0    8.0  0.195646  0.146350  0.341996  3.539005  113.092621   \n",
       "35483  35483.0    7.0  0.137304  0.138348  0.275652  5.395416  114.045074   \n",
       "\n",
       "        spec_loss  hist_loss    spec_chi  hist_chi      D(x)    D_G_z1  \\\n",
       "40558  108.802727  -0.723210  109.847122 -2.324598  2.724129 -6.359318   \n",
       "40562  110.514702  -1.451975  109.452179 -2.305127  3.575622 -3.998980   \n",
       "33553  110.305420  -0.911502  109.785095 -2.272750  2.696006 -6.338140   \n",
       "34330  111.710945  -1.237876  109.753532 -2.270606  3.406135 -3.168069   \n",
       "31229  108.690681  -0.906113  109.604248 -2.259225  3.695278 -3.130236   \n",
       "40524  108.341698  -1.086549  108.918808 -2.251692  3.409426 -2.943850   \n",
       "36728  108.075241  -0.439015  109.643478 -2.244315  4.146925 -3.530289   \n",
       "34319  111.037018  -0.524088  107.853500 -2.241580  5.981313 -4.209482   \n",
       "38900  109.553619  -0.580611  108.901672 -2.228121  3.604151 -3.708694   \n",
       "35483  108.649658  -0.128622  109.848801 -2.225577  3.102691 -2.806516   \n",
       "\n",
       "         D_G_z2      time  \n",
       "40558 -6.744827  0.471375  \n",
       "40562 -4.049746  0.473290  \n",
       "33553 -6.507777  0.476615  \n",
       "34330 -3.586084  0.460814  \n",
       "31229 -4.192879  0.447018  \n",
       "40524 -4.742093  0.469023  \n",
       "36728 -3.835701  0.461702  \n",
       "34319 -5.025881  0.551857  \n",
       "38900 -3.507765  0.502798  \n",
       "35483 -5.389395  0.528692  "
      ]
     },
     "execution_count": 17,
     "metadata": {},
     "output_type": "execute_result"
    }
   ],
   "source": [
    "\n",
    "chi=df_metrics.quantile(q=0.2,axis=0)['hist_chi']\n",
    "print(chi)\n",
    "df_metrics[(df_metrics['hist_chi']<=chi)&(df_metrics.epoch>1)].sort_values(by=['hist_chi']).head(10)"
   ]
  },
  {
   "cell_type": "code",
   "execution_count": 18,
   "metadata": {},
   "outputs": [],
   "source": [
    "# display(df_metrics.sort_values(by=['hist_chi']).head(8))\n",
    "# display(df_metrics.sort_values(by=['spec_chi']).head(8))"
   ]
  },
  {
   "cell_type": "markdown",
   "metadata": {},
   "source": [
    "<!-- ### Read validation data -->"
   ]
  },
  {
   "cell_type": "markdown",
   "metadata": {},
   "source": [
    "## Read stored chi-squares for images"
   ]
  },
  {
   "cell_type": "code",
   "execution_count": 19,
   "metadata": {},
   "outputs": [],
   "source": [
    "## Get sigma list from saved files\n",
    "flist=glob.glob(result_dir+'/df_processed*')\n",
    "sigma_lst=[i.split('/')[-1].split('df_processed_')[-1].split('.pkle')[0] for i in flist]\n",
    "sigma_lst.sort() ### Sorting is important for labels to match !!\n",
    "\n",
    "labels_lst=np.arange(len(sigma_lst))"
   ]
  },
  {
   "cell_type": "code",
   "execution_count": 20,
   "metadata": {},
   "outputs": [
    {
     "data": {
      "text/plain": [
       "(['0.5', '0.8', '1.1'], array([0, 1, 2]))"
      ]
     },
     "execution_count": 20,
     "metadata": {},
     "output_type": "execute_result"
    }
   ],
   "source": [
    "sigma_lst,labels_lst"
   ]
  },
  {
   "cell_type": "code",
   "execution_count": 21,
   "metadata": {},
   "outputs": [],
   "source": [
    "### Create a merged dataframe\n",
    "\n",
    "df_list=[]\n",
    "for label in labels_lst:\n",
    "    df=pd.read_pickle(result_dir+'/df_processed_{0}.pkle'.format(str(sigma_lst[label])))\n",
    "    df[['epoch','step']]=df[['epoch','step']].astype(int)\n",
    "    df['label']=df.epoch.astype(str)+'-'+df.step.astype(str) # Add label column for plotting\n",
    "    df_list.append(df)\n",
    "\n",
    "for i,df in enumerate(df_list):\n",
    "    df1=df.add_suffix('_'+str(i))\n",
    "    # renaming the columns to be joined on\n",
    "    keys=['epoch','step','img_type','label']\n",
    "    rename_cols_dict={key+'_'+str(i):key for key in keys}\n",
    "#     print(rename_cols_dict)\n",
    "    df1.rename(columns=rename_cols_dict,inplace=True) \n",
    "    df_list[i]=df1\n",
    "    \n",
    "df_merged=reduce(lambda x, y : pd.merge(x, y, on = ['step','epoch','img_type','label']), df_list)\n",
    "\n",
    "### Get sum of all 4 classes for 3 types of chi-squares\n",
    "for chi_type in ['chi_1','chi_spec1','chi_1c']:\n",
    "    keys=[chi_type+'_'+str(label) for label in labels_lst]\n",
    "#     display(df_merged[keys].sum(axis=1))\n",
    "    df_merged['sum_'+chi_type]=df_merged[keys].sum(axis=1)\n",
    "del df_list\n",
    "\n"
   ]
  },
  {
   "cell_type": "code",
   "execution_count": 22,
   "metadata": {},
   "outputs": [],
   "source": [
    "\n",
    "def f_plot_hist_spec(df,param_labels,sigma_lst,steps_list,bkg_dict,plot_type):\n",
    "\n",
    "    img_size=64\n",
    "    assert plot_type in ['hist','spec','grid','spec_relative'],\"Invalid mode %s\"%(plot_type)\n",
    "\n",
    "    if plot_type in ['hist','spec','spec_relative']:     fig=plt.figure(figsize=(6,6))\n",
    "    for par_label in param_labels:\n",
    "        df=df[df.step.isin(steps_list)]\n",
    "#         print(df.shape)\n",
    "        idx=sigma_lst.index(par_label)\n",
    "        suffix='_%s'%(idx)\n",
    "        dict_bkg=bkg_dict[str(par_label)]\n",
    "        \n",
    "        for (i,row),marker in zip(df.iterrows(),itertools.cycle('>^*sDHPdpx_')):\n",
    "            label=row.label+'_'+str(par_label)\n",
    "            if plot_type=='hist':\n",
    "                x1=row['hist_bin_centers'+suffix]\n",
    "                y1=row['hist_val'+suffix]\n",
    "                yerr1=row['hist_err'+suffix]\n",
    "                x1=f_invtransform(x1)\n",
    "                \n",
    "                plt.errorbar(x1,y1,yerr1,marker=marker,markersize=5,linestyle='',label=label)\n",
    "            if plot_type=='spec':\n",
    "                y2=row['spec_val'+suffix]\n",
    "                yerr2=row['spec_sdev'+suffix]/np.sqrt(row['num_imgs'+suffix])\n",
    "                x2=np.arange(len(y2))\n",
    "\n",
    "                plt.fill_between(x2, y2 - yerr2, y2 + yerr2, alpha=0.4)\n",
    "                plt.plot(x2, y2, marker=marker, linestyle=':',label=label)\n",
    "\n",
    "            if plot_type=='spec_relative':\n",
    "\n",
    "                y2=row['spec_val'+suffix]\n",
    "                yerr2=row['spec_sdev'+suffix]\n",
    "                x2=np.arange(len(y2))\n",
    "\n",
    "                ### Reference spectrum\n",
    "                y1,yerr1=dict_bkg['spec_val'],dict_bkg['spec_sdev']\n",
    "                y=y2/y1\n",
    "                ## Variance is sum of variance of both variables, since they are uncorrelated\n",
    "\n",
    "                # delta_r= |r| * sqrt(delta_a/a)^2 +(\\delta_b/b)^2) / \\sqrt(N)\n",
    "                yerr=(np.abs(y))*np.sqrt((yerr1/y1)**2+(yerr2/y2)**2)/np.sqrt(row['num_imgs'+suffix])\n",
    "                \n",
    "                plt.fill_between(x2, y - yerr, y + yerr, alpha=0.4)\n",
    "                plt.plot(x2, y, marker=marker, linestyle=':',label=label)\n",
    "\n",
    "            if plot_type=='grid':\n",
    "                images=np.load(row.fname)[:,:,:,0]\n",
    "                print(images.shape)\n",
    "                f_plot_grid(images[:18],cols=6,fig_size=(10,5))\n",
    "            \n",
    "        ### Plot reference data\n",
    "        if plot_type=='hist':\n",
    "            x,y,yerr=dict_bkg['hist_bin_centers'],dict_bkg['hist_val'],dict_bkg['hist_err']\n",
    "            x=f_invtransform(x)\n",
    "            plt.errorbar(x, y,yerr,color='k',linestyle='-',label='bkgnd')   \n",
    "            plt.title('Pixel Intensity Histogram')\n",
    "            plt.xscale('symlog',linthreshx=50)\n",
    "        \n",
    "        if plot_type=='spec':\n",
    "            y,yerr=dict_bkg['spec_val'],dict_bkg['spec_sdev']/np.sqrt(num_bkgnd)\n",
    "            x=np.arange(len(y))\n",
    "            plt.fill_between(x, y - yerr, y + yerr, color='k',alpha=0.8)\n",
    "            plt.title('Spectrum')\n",
    "            plt.xlim(0,img_size/2)\n",
    "\n",
    "        if plot_type=='spec_relative':\n",
    "            plt.axhline(y=1.0,color='k',linestyle='-.')\n",
    "            plt.title(\"Relative spectrum\")\n",
    "            plt.xlim(0,img_size/2)\n",
    "            plt.ylim(0.5,2)\n",
    "\n",
    "    if plot_type in ['hist','spec']:     \n",
    "        plt.yscale('log')\n",
    "    plt.legend(bbox_to_anchor=(0.3, 0.75),ncol=2, fancybox=True, shadow=True,prop={'size':6})\n",
    "\n",
    "\n",
    "# f_plot_hist_spec(df_merged,[sigma_lst[-1]],sigma_lst,[best_step[0]],bkgnd_dict,'hist')"
   ]
  },
  {
   "cell_type": "markdown",
   "metadata": {},
   "source": [
    "### Slice best steps"
   ]
  },
  {
   "cell_type": "code",
   "execution_count": 23,
   "metadata": {},
   "outputs": [],
   "source": [
    "def f_slice_merged_df(df,cutoff=0.2,sort_col='chi_1',col_mode='all',label='all',params_lst=[0,1,2],head=10,epoch_range=[0,None],use_sum=True,display_flag=False):\n",
    "    ''' View dataframe after slicing\n",
    "    '''\n",
    "\n",
    "    if epoch_range[1]==None: epoch_range[1]=df.max()['epoch']\n",
    "    df=df[(df.epoch<=epoch_range[1])&(df.epoch>=epoch_range[0])]\n",
    "\n",
    "    ######### Apply cutoff to keep reasonable chi1 and chispec1\n",
    "    #### Add chi-square columns to use\n",
    "    chi_cols=[]\n",
    "    if use_sum: ## Add sum chi-square columns\n",
    "        for j in ['chi_1','chi_spec1','chi_1c']: chi_cols.append('sum_'+j)\n",
    "        \n",
    "    if label=='all': ### Add chi-squares for all labels\n",
    "        for j in ['chi_1','chi_spec1','chi_1c']:\n",
    "            for idx,i in enumerate(params_lst): chi_cols.append(j+'_'+str(idx))\n",
    "    else: ## Add chi-square for specific label\n",
    "        assert label in params_lst, \"label %s is not in %s\"%(label,params_lst)\n",
    "        label_idx=params_lst.index(label)\n",
    "        print(label_idx)\n",
    "        for j in ['chi_1','chi_spec1','chi_1c']: chi_cols.append(j+'_'+str(label_idx))\n",
    "#     print(chi_cols)\n",
    "    q_dict=dict(df_merged.quantile(q=cutoff,axis=0)[chi_cols])\n",
    "    # print(q_dict)\n",
    "    strg=['%s < %s'%(key,q_dict[key]) for key in chi_cols ]\n",
    "    query=\" & \".join(strg)\n",
    "    # print(query)\n",
    "    df=df.query(query)\n",
    "    \n",
    "    # Sort dataframe\n",
    "    df1=df[df.epoch>0].sort_values(by=sort_col)\n",
    "    chis=[i for i in df_merged.columns if 'chi' in i]\n",
    "    col_list=['label']+chis+['epoch','step']\n",
    "    if (col_mode=='short'): \n",
    "        col_list=['label']+[i for i in df_merged.columns if i.startswith('sum')]\n",
    "        col_list=['label']+chi_cols\n",
    "    df2=df1.head(head)[col_list]\n",
    "    \n",
    "    if display_flag: display(df2) # Display df\n",
    "    \n",
    "    return df2\n",
    "\n",
    "# f_slice_merged_df(df_merged,cutoff=0.3,sort_col='sum_chi_1',label=0.65,params_lst=[0.5,0.65,0.8,1.1],use_sum=True,head=2000,display_flag=False,epoch_range=[7,None])"
   ]
  },
  {
   "cell_type": "code",
   "execution_count": 24,
   "metadata": {},
   "outputs": [
    {
     "data": {
      "application/vnd.jupyter.widget-view+json": {
       "model_id": "659c8af81a5c46028b4eb1e37fcd86e4",
       "version_major": 2,
       "version_minor": 0
      },
      "text/plain": [
       "interactive(children=(FloatSlider(value=0.3, description='cutoff', max=1.0, step=0.01), Dropdown(description='…"
      ]
     },
     "metadata": {},
     "output_type": "display_data"
    }
   ],
   "source": [
    "cols_to_sort=np.unique([i for i in df_merged.columns for j in ['chi_1_','chi_spec1_'] if ((i.startswith(j)) or (i.startswith('sum')))])\n",
    "\n",
    "w=interactive(f_slice_merged_df,df=fixed(df_merged),\n",
    "cutoff=widgets.FloatSlider(value=0.3, min=0, max=1.0, step=0.01), \n",
    "col_mode=['all','short'], display_flag=widgets.Checkbox(value=False),\n",
    "use_sum=widgets.Checkbox(value=True),\n",
    "label=ToggleButtons(options=['all']+sigma_lst), params_lst=fixed(sigma_lst),\n",
    "head=widgets.IntSlider(value=10,min=1,max=20,step=1),\n",
    "epoch_range=widgets.IntRangeSlider(value=[0,np.max(df.epoch.values)],min=0,max=np.max(df.epoch.values),step=1),\n",
    "sort_col=cols_to_sort\n",
    ")\n",
    "display(w)"
   ]
  },
  {
   "cell_type": "code",
   "execution_count": 25,
   "metadata": {},
   "outputs": [],
   "source": [
    "df_sliced=w.result\n",
    "# df_sliced"
   ]
  },
  {
   "cell_type": "code",
   "execution_count": 26,
   "metadata": {},
   "outputs": [
    {
     "name": "stdout",
     "output_type": "stream",
     "text": [
      "[36130 37350 37500 37820 40790 41370 41770 42870 44300 45790]\n"
     ]
    },
    {
     "data": {
      "text/plain": [
       "array([36130, 37350, 37500, 37820, 40790, 41370, 41770, 42870, 44300,\n",
       "       45790])"
      ]
     },
     "execution_count": 26,
     "metadata": {},
     "output_type": "execute_result"
    }
   ],
   "source": [
    "best_step=[]\n",
    "\n",
    "best_step.append(f_slice_merged_df(df_merged,cutoff=0.9,sort_col='sum_chi_1',label='all',use_sum=True,head=4,display_flag=False,epoch_range=[7,None],params_lst=sigma_lst).step.values)\n",
    "best_step.append(f_slice_merged_df(df_merged,cutoff=0.9,sort_col='sum_chi_spec1',label='all',use_sum=True,head=4,display_flag=False,epoch_range=[7,None],params_lst=sigma_lst).step.values)\n",
    "best_step.append(f_slice_merged_df(df_merged,cutoff=0.9,sort_col='sum_chi_1c',label='all',use_sum=True,head=2,display_flag=False,epoch_range=[7,None],params_lst=sigma_lst).step.values)\n",
    "\n",
    "# best_step.append([46669,34281])\n",
    "best_step=np.unique([i for j in best_step for i in j])\n",
    "print(best_step)\n",
    "best_step"
   ]
  },
  {
   "cell_type": "code",
   "execution_count": 27,
   "metadata": {},
   "outputs": [],
   "source": [
    "# best_step=[6176]\n",
    "# best_step= [32300, 35810, 36020, 37030, 38640, 42480, 43850]\n",
    "\n",
    "# best_step=np.arange(40130,40135).astype(int)"
   ]
  },
  {
   "cell_type": "code",
   "execution_count": null,
   "metadata": {},
   "outputs": [],
   "source": []
  },
  {
   "cell_type": "code",
   "execution_count": 28,
   "metadata": {},
   "outputs": [
    {
     "name": "stdout",
     "output_type": "stream",
     "text": [
      "(10, 61)\n",
      "[(7, 36130), (7, 37350), (8, 37500), (8, 37820), (8, 40790), (8, 41370), (8, 41770), (9, 42870), (9, 44300), (9, 45790)]\n"
     ]
    }
   ],
   "source": [
    "df_best=df_merged[df_merged.step.isin(best_step)]\n",
    "print(df_best.shape)\n",
    "print([(df_best[df_best.step==step].epoch.values[0],df_best[df_best.step==step].step.values[0]) for step in best_step])\n",
    "# print([(df_best.loc[idx].epoch,df_best.loc[idx].step) for idx in best_idx])"
   ]
  },
  {
   "cell_type": "code",
   "execution_count": 29,
   "metadata": {},
   "outputs": [
    {
     "data": {
      "text/html": [
       "<div>\n",
       "<style scoped>\n",
       "    .dataframe tbody tr th:only-of-type {\n",
       "        vertical-align: middle;\n",
       "    }\n",
       "\n",
       "    .dataframe tbody tr th {\n",
       "        vertical-align: top;\n",
       "    }\n",
       "\n",
       "    .dataframe thead th {\n",
       "        text-align: right;\n",
       "    }\n",
       "</style>\n",
       "<table border=\"1\" class=\"dataframe\">\n",
       "  <thead>\n",
       "    <tr style=\"text-align: right;\">\n",
       "      <th></th>\n",
       "      <th>label</th>\n",
       "      <th>sum_chi_1</th>\n",
       "      <th>sum_chi_spec1</th>\n",
       "      <th>sum_chi_1c</th>\n",
       "    </tr>\n",
       "  </thead>\n",
       "  <tbody>\n",
       "    <tr>\n",
       "      <th>3612</th>\n",
       "      <td>7-36130</td>\n",
       "      <td>0.283439</td>\n",
       "      <td>29.608761</td>\n",
       "      <td>0.003751</td>\n",
       "    </tr>\n",
       "    <tr>\n",
       "      <th>3734</th>\n",
       "      <td>7-37350</td>\n",
       "      <td>0.112545</td>\n",
       "      <td>21.431770</td>\n",
       "      <td>0.009122</td>\n",
       "    </tr>\n",
       "    <tr>\n",
       "      <th>3749</th>\n",
       "      <td>8-37500</td>\n",
       "      <td>0.252598</td>\n",
       "      <td>21.074777</td>\n",
       "      <td>0.003458</td>\n",
       "    </tr>\n",
       "    <tr>\n",
       "      <th>3781</th>\n",
       "      <td>8-37820</td>\n",
       "      <td>0.114074</td>\n",
       "      <td>28.493671</td>\n",
       "      <td>0.013794</td>\n",
       "    </tr>\n",
       "    <tr>\n",
       "      <th>4078</th>\n",
       "      <td>8-40790</td>\n",
       "      <td>0.082683</td>\n",
       "      <td>25.700527</td>\n",
       "      <td>0.006913</td>\n",
       "    </tr>\n",
       "    <tr>\n",
       "      <th>4136</th>\n",
       "      <td>8-41370</td>\n",
       "      <td>0.671015</td>\n",
       "      <td>16.361825</td>\n",
       "      <td>0.053157</td>\n",
       "    </tr>\n",
       "    <tr>\n",
       "      <th>4176</th>\n",
       "      <td>8-41770</td>\n",
       "      <td>0.448458</td>\n",
       "      <td>16.070034</td>\n",
       "      <td>0.008436</td>\n",
       "    </tr>\n",
       "    <tr>\n",
       "      <th>4286</th>\n",
       "      <td>9-42870</td>\n",
       "      <td>0.339939</td>\n",
       "      <td>15.848809</td>\n",
       "      <td>0.010587</td>\n",
       "    </tr>\n",
       "    <tr>\n",
       "      <th>4429</th>\n",
       "      <td>9-44300</td>\n",
       "      <td>0.089749</td>\n",
       "      <td>22.711669</td>\n",
       "      <td>0.007462</td>\n",
       "    </tr>\n",
       "    <tr>\n",
       "      <th>4578</th>\n",
       "      <td>9-45790</td>\n",
       "      <td>0.562333</td>\n",
       "      <td>16.485714</td>\n",
       "      <td>0.018261</td>\n",
       "    </tr>\n",
       "  </tbody>\n",
       "</table>\n",
       "</div>"
      ],
      "text/plain": [
       "        label  sum_chi_1  sum_chi_spec1  sum_chi_1c\n",
       "3612  7-36130   0.283439      29.608761    0.003751\n",
       "3734  7-37350   0.112545      21.431770    0.009122\n",
       "3749  8-37500   0.252598      21.074777    0.003458\n",
       "3781  8-37820   0.114074      28.493671    0.013794\n",
       "4078  8-40790   0.082683      25.700527    0.006913\n",
       "4136  8-41370   0.671015      16.361825    0.053157\n",
       "4176  8-41770   0.448458      16.070034    0.008436\n",
       "4286  9-42870   0.339939      15.848809    0.010587\n",
       "4429  9-44300   0.089749      22.711669    0.007462\n",
       "4578  9-45790   0.562333      16.485714    0.018261"
      ]
     },
     "execution_count": 29,
     "metadata": {},
     "output_type": "execute_result"
    }
   ],
   "source": [
    "col_list=['label']+[i for i in df_merged.columns if i.startswith('sum')]\n",
    "\n",
    "df_best[col_list]"
   ]
  },
  {
   "cell_type": "markdown",
   "metadata": {},
   "source": [
    "### Interactive plot"
   ]
  },
  {
   "cell_type": "code",
   "execution_count": 30,
   "metadata": {},
   "outputs": [
    {
     "data": {
      "application/vnd.jupyter.widget-view+json": {
       "model_id": "943783e8c01f422aa692781b3b209acf",
       "version_major": 2,
       "version_minor": 0
      },
      "text/plain": [
       "interactive(children=(SelectMultiple(description='param_labels', options=('0.5', '0.8', '1.1'), value=()), Sel…"
      ]
     },
     "metadata": {},
     "output_type": "display_data"
    },
    {
     "data": {
      "text/plain": [
       "<function __main__.f_plot_hist_spec(df, param_labels, sigma_lst, steps_list, bkg_dict, plot_type)>"
      ]
     },
     "execution_count": 30,
     "metadata": {},
     "output_type": "execute_result"
    }
   ],
   "source": [
    "interact_manual(f_plot_hist_spec,df=fixed(df_merged),\n",
    "                param_labels=SelectMultiple(options=sigma_lst),sigma_lst=fixed(sigma_lst),\n",
    "                steps_list=SelectMultiple(options=best_step),\n",
    "                bkg_dict=fixed(bkgnd_dict),plot_type=ToggleButtons(options=['hist','spec','grid','spec_relative']))"
   ]
  },
  {
   "cell_type": "code",
   "execution_count": null,
   "metadata": {},
   "outputs": [],
   "source": [
    "# ### Check deterministic\n",
    "# main_dir='/global/cfs/cdirs/m3363/vayyar/cosmogan_data/results_from_other_code/pytorch/results/128sq/'\n",
    "# epoch,step=0,230\n",
    "# f1='20210113_185116_cgan_predict_0.65_m2/images/gen_img_label-0.5_epoch-{0}_step-{1}.npy'.format(epoch,step)\n",
    "# f2='20210113_092234_cgan_predict_0.65_m2/images/gen_img_label-0.5_epoch-{0}_step-{1}.npy'.format(epoch,step)\n",
    "\n",
    "# epoch,step=3,20\n",
    "# f1='20210114_191648_nb_test/images/gen_img_label-0.5_epoch-{0}_step-{1}.npy'.format(epoch,step)\n",
    "# f2='20210114_193009_nb_test/images/gen_img_label-0.5_epoch-{0}_step-{1}.npy'.format(epoch,step)\n",
    "\n",
    "# a1=np.load(main_dir+f1)\n",
    "# a2=np.load(main_dir+f2)\n",
    "# # print(a1.shape,a2.shape)\n",
    "\n",
    "# print(np.mean(a1),np.mean(a2))\n",
    "# print(np.max(a1),np.max(a2))"
   ]
  },
  {
   "cell_type": "markdown",
   "metadata": {},
   "source": [
    "### Delete unwanted stored models\n",
    "(Since deterministic runs aren't working well )"
   ]
  },
  {
   "cell_type": "code",
   "execution_count": 113,
   "metadata": {},
   "outputs": [
    {
     "name": "stdout",
     "output_type": "stream",
     "text": [
      "/global/cfs/cdirs/m3363/vayyar/cosmogan_data/results_from_other_code/pytorch/results/3d_cGAN/20210227_050213_3dcgan_predict_0.65_m2\n"
     ]
    },
    {
     "data": {
      "text/plain": [
       "3742"
      ]
     },
     "execution_count": 113,
     "metadata": {},
     "output_type": "execute_result"
    }
   ],
   "source": [
    "# fldr='/global/cfs/cdirs/m3363/vayyar/cosmogan_data/results_from_other_code/pytorch/results/128sq/20210119_134802_cgan_predict_0.65_m2/models'\n",
    "fldr=result_dir\n",
    "print(fldr)\n",
    "flist=glob.glob(fldr+'/models/checkpoint_*.tar')\n",
    "len(flist)"
   ]
  },
  {
   "cell_type": "code",
   "execution_count": null,
   "metadata": {},
   "outputs": [],
   "source": []
  },
  {
   "cell_type": "code",
   "execution_count": 31,
   "metadata": {},
   "outputs": [],
   "source": [
    "# # Delete unwanted stored images\n",
    "# for i in flist:\n",
    "#     try:\n",
    "#         step=int(i.split('/')[-1].split('_')[-1].split('.')[0])\n",
    "#         if step not in best_step:\n",
    "# #             print(\"Found\")\n",
    "# #             print(step)\n",
    "#             os.remove(i)\n",
    "#             pass\n",
    "#         else: \n",
    "#             print(step)\n",
    "# #             print(i)\n",
    "#     except Exception as e:\n",
    "# #         print(e)\n",
    "# #         print(i)\n",
    "#         pass"
   ]
  },
  {
   "cell_type": "code",
   "execution_count": 118,
   "metadata": {},
   "outputs": [
    {
     "data": {
      "text/plain": [
       "array([27600, 30950, 42620, 43830, 50440, 58320, 58330, 59500, 64670,\n",
       "       65600])"
      ]
     },
     "execution_count": 118,
     "metadata": {},
     "output_type": "execute_result"
    }
   ],
   "source": [
    "best_step"
   ]
  },
  {
   "cell_type": "code",
   "execution_count": 119,
   "metadata": {},
   "outputs": [
    {
     "data": {
      "text/plain": [
       "(14376, 1, 64, 64, 64)"
      ]
     },
     "execution_count": 119,
     "metadata": {},
     "output_type": "execute_result"
    }
   ],
   "source": [
    "np.load('/global/cfs/cdirs/m3363/vayyar/cosmogan_data/raw_data/3d_data/dataset2a_3dcgan_4univs_64cube_simple_splicing/norm_1_sig_0.5_train_val.npy',mmap_mode='r').shape"
   ]
  },
  {
   "cell_type": "code",
   "execution_count": null,
   "metadata": {},
   "outputs": [],
   "source": []
  }
 ],
 "metadata": {
  "kernelspec": {
   "display_name": "v3",
   "language": "python",
   "name": "v-jpt-3"
  },
  "language_info": {
   "codemirror_mode": {
    "name": "ipython",
    "version": 3
   },
   "file_extension": ".py",
   "mimetype": "text/x-python",
   "name": "python",
   "nbconvert_exporter": "python",
   "pygments_lexer": "ipython3",
   "version": "3.8.6"
  }
 },
 "nbformat": 4,
 "nbformat_minor": 4
}

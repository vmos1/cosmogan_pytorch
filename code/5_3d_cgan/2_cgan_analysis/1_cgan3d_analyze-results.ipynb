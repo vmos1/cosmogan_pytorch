{
 "cells": [
  {
   "cell_type": "markdown",
   "metadata": {},
   "source": [
    "# Analyze results for 3D CGAN\n",
    "Feb 22, 2021"
   ]
  },
  {
   "cell_type": "code",
   "execution_count": 1,
   "metadata": {},
   "outputs": [],
   "source": [
    "import     numpy as np\n",
    "import matplotlib.pyplot as plt\n",
    "import pandas as pd\n",
    "\n",
    "import subprocess as sp\n",
    "import sys\n",
    "import os\n",
    "import glob\n",
    "import pickle \n",
    "\n",
    "from matplotlib.colors import LogNorm, PowerNorm, Normalize\n",
    "import seaborn as sns\n",
    "from functools import reduce"
   ]
  },
  {
   "cell_type": "code",
   "execution_count": 2,
   "metadata": {},
   "outputs": [],
   "source": [
    "from ipywidgets import *"
   ]
  },
  {
   "cell_type": "code",
   "execution_count": 3,
   "metadata": {},
   "outputs": [],
   "source": [
    "%matplotlib widget"
   ]
  },
  {
   "cell_type": "code",
   "execution_count": 4,
   "metadata": {},
   "outputs": [],
   "source": [
    "sys.path.append('/global/u1/v/vpa/project/jpt_notebooks/Cosmology/Cosmo_GAN/repositories/cosmogan_pytorch/code/modules_image_analysis/')\n",
    "from modules_img_analysis import *"
   ]
  },
  {
   "cell_type": "code",
   "execution_count": 5,
   "metadata": {},
   "outputs": [],
   "source": [
    "sys.path.append('/global/u1/v/vpa/project/jpt_notebooks/Cosmology/Cosmo_GAN/repositories/cosmogan_pytorch/code/5_3d_cgan/1_main_code/')\n",
    "import post_analysis_pandas as post\n"
   ]
  },
  {
   "cell_type": "code",
   "execution_count": 6,
   "metadata": {},
   "outputs": [],
   "source": [
    "### Transformation functions for image pixel values\n",
    "def f_transform(x):\n",
    "    return 2.*x/(x + 4.) - 1.\n",
    "\n",
    "def f_invtransform(s):\n",
    "    return 4.*(1. + s)/(1. - s)\n"
   ]
  },
  {
   "cell_type": "markdown",
   "metadata": {},
   "source": [
    "## Read data"
   ]
  },
  {
   "cell_type": "code",
   "execution_count": 7,
   "metadata": {},
   "outputs": [],
   "source": [
    "# main_dir='/global/cfs/cdirs/m3363/vayyar/cosmogan_data/results_from_other_code/pytorch/results/128sq/'\n",
    "# results_dir=main_dir+'20201002_064327'"
   ]
  },
  {
   "cell_type": "code",
   "execution_count": 8,
   "metadata": {},
   "outputs": [],
   "source": [
    "dict1={'64':'/global/cfs/cdirs/m3363/vayyar/cosmogan_data/results_from_other_code/pytorch/results/3d_cGAN/',\n",
    "      '512':'/global/cfs/cdirs/m3363/vayyar/cosmogan_data/results_from_other_code/pytorch/results/3d_cGAN/'}\n",
    "\n",
    "u=interactive(lambda x: dict1[x], x=Select(options=dict1.keys()))\n",
    "# display(u)\n"
   ]
  },
  {
   "cell_type": "code",
   "execution_count": 9,
   "metadata": {},
   "outputs": [
    {
     "data": {
      "application/vnd.jupyter.widget-view+json": {
       "model_id": "ee41e68fc1fc49898673f5ed8eb94e51",
       "version_major": 2,
       "version_minor": 0
      },
      "text/plain": [
       "interactive(children=(Dropdown(description='x', options=('20210223_210217_3dcgan_predict_0.8_m2', '20210225_07…"
      ]
     },
     "metadata": {},
     "output_type": "display_data"
    }
   ],
   "source": [
    "# parent_dir=u.result\n",
    "parent_dir=dict1['64']\n",
    "dir_lst=[i.split('/')[-1] for i in glob.glob(parent_dir+'202102*')]\n",
    "w=interactive(lambda x: x, x=Dropdown(options=dir_lst))\n",
    "display(w)"
   ]
  },
  {
   "cell_type": "code",
   "execution_count": 10,
   "metadata": {},
   "outputs": [
    {
     "name": "stdout",
     "output_type": "stream",
     "text": [
      "/global/cfs/cdirs/m3363/vayyar/cosmogan_data/results_from_other_code/pytorch/results/3d_cGAN/20210225_074719_3dcgan_predict_0.8_m2\n"
     ]
    }
   ],
   "source": [
    "result=w.result\n",
    "result_dir=parent_dir+result\n",
    "print(result_dir)"
   ]
  },
  {
   "cell_type": "markdown",
   "metadata": {},
   "source": [
    "### Read validation data"
   ]
  },
  {
   "cell_type": "code",
   "execution_count": 11,
   "metadata": {},
   "outputs": [
    {
     "name": "stdout",
     "output_type": "stream",
     "text": [
      "/global/cfs/cdirs/m3363/vayyar/cosmogan_data/raw_data/3d_data/dataset2a_3dcgan_4univs_64cube_simple_splicing/norm_1_sig_0.5_train_val.npy\n",
      "/global/cfs/cdirs/m3363/vayyar/cosmogan_data/raw_data/3d_data/dataset2a_3dcgan_4univs_64cube_simple_splicing/norm_1_sig_0.65_train_val.npy\n",
      "/global/cfs/cdirs/m3363/vayyar/cosmogan_data/raw_data/3d_data/dataset2a_3dcgan_4univs_64cube_simple_splicing/norm_1_sig_0.8_train_val.npy\n",
      "/global/cfs/cdirs/m3363/vayyar/cosmogan_data/raw_data/3d_data/dataset2a_3dcgan_4univs_64cube_simple_splicing/norm_1_sig_1.1_train_val.npy\n"
     ]
    }
   ],
   "source": [
    "# bins=np.concatenate([np.array([-0.5]),np.arange(0.5,20.5,1),np.arange(20.5,100.5,5),np.arange(100.5,1000.5,50),np.array([2000])]) #bin edges to use\n",
    "bins=np.concatenate([np.array([-0.5]),np.arange(0.5,100.5,5),np.arange(100.5,300.5,20),np.arange(300.5,1000.5,50),np.array([2000])]) #bin edges to use\n",
    "\n",
    "bins=f_transform(bins)   ### scale to (-1,1)\n",
    "# ### Extract validation data\n",
    "sigma_lst=[0.5,0.65,0.8,1.1]\n",
    "labels_lst=range(len(sigma_lst))\n",
    "bkgnd_dict={}\n",
    "num_bkgnd=200\n",
    "\n",
    "for label in labels_lst:\n",
    "    fname='/global/cfs/cdirs/m3363/vayyar/cosmogan_data/raw_data/3d_data/dataset2a_3dcgan_4univs_64cube_simple_splicing/norm_1_sig_{0}_train_val.npy'.format(sigma_lst[label])\n",
    "    print(fname)\n",
    "    samples=np.load(fname,mmap_mode='r')[-num_bkgnd:][:,0,:,:]\n",
    "    \n",
    "    dict_val=post.f_compute_hist_spect(samples,bins)\n",
    "    bkgnd_dict[str(sigma_lst[label])]=dict_val\n",
    "    del samples"
   ]
  },
  {
   "cell_type": "markdown",
   "metadata": {},
   "source": [
    "## Plot Losses"
   ]
  },
  {
   "cell_type": "code",
   "execution_count": 12,
   "metadata": {},
   "outputs": [],
   "source": [
    "df_metrics=pd.read_pickle(result_dir+'/df_metrics.pkle').astype(np.float64)\n"
   ]
  },
  {
   "cell_type": "code",
   "execution_count": 13,
   "metadata": {},
   "outputs": [
    {
     "data": {
      "text/html": [
       "<div>\n",
       "<style scoped>\n",
       "    .dataframe tbody tr th:only-of-type {\n",
       "        vertical-align: middle;\n",
       "    }\n",
       "\n",
       "    .dataframe tbody tr th {\n",
       "        vertical-align: top;\n",
       "    }\n",
       "\n",
       "    .dataframe thead th {\n",
       "        text-align: right;\n",
       "    }\n",
       "</style>\n",
       "<table border=\"1\" class=\"dataframe\">\n",
       "  <thead>\n",
       "    <tr style=\"text-align: right;\">\n",
       "      <th></th>\n",
       "      <th>step</th>\n",
       "      <th>epoch</th>\n",
       "      <th>Dreal</th>\n",
       "      <th>Dfake</th>\n",
       "      <th>Dfull</th>\n",
       "      <th>G_adv</th>\n",
       "      <th>G_full</th>\n",
       "      <th>spec_loss</th>\n",
       "      <th>hist_loss</th>\n",
       "      <th>spec_chi</th>\n",
       "      <th>hist_chi</th>\n",
       "      <th>D(x)</th>\n",
       "      <th>D_G_z1</th>\n",
       "      <th>D_G_z2</th>\n",
       "      <th>time</th>\n",
       "    </tr>\n",
       "  </thead>\n",
       "  <tbody>\n",
       "    <tr>\n",
       "      <th>22890</th>\n",
       "      <td>22890.0</td>\n",
       "      <td>16.0</td>\n",
       "      <td>0.170773</td>\n",
       "      <td>0.155942</td>\n",
       "      <td>0.326714</td>\n",
       "      <td>4.355669</td>\n",
       "      <td>111.091843</td>\n",
       "      <td>106.736176</td>\n",
       "      <td>0.283838</td>\n",
       "      <td>108.032593</td>\n",
       "      <td>-1.066127</td>\n",
       "      <td>2.761060</td>\n",
       "      <td>-4.556146</td>\n",
       "      <td>-4.341282</td>\n",
       "      <td>0.472990</td>\n",
       "    </tr>\n",
       "    <tr>\n",
       "      <th>22891</th>\n",
       "      <td>22891.0</td>\n",
       "      <td>16.0</td>\n",
       "      <td>0.163468</td>\n",
       "      <td>0.138140</td>\n",
       "      <td>0.301608</td>\n",
       "      <td>3.318585</td>\n",
       "      <td>111.332047</td>\n",
       "      <td>108.013458</td>\n",
       "      <td>-0.007816</td>\n",
       "      <td>107.530121</td>\n",
       "      <td>0.949249</td>\n",
       "      <td>3.455162</td>\n",
       "      <td>-3.131439</td>\n",
       "      <td>-3.276182</td>\n",
       "      <td>0.470116</td>\n",
       "    </tr>\n",
       "    <tr>\n",
       "      <th>22892</th>\n",
       "      <td>22892.0</td>\n",
       "      <td>16.0</td>\n",
       "      <td>0.205446</td>\n",
       "      <td>0.179188</td>\n",
       "      <td>0.384634</td>\n",
       "      <td>5.108718</td>\n",
       "      <td>115.716438</td>\n",
       "      <td>110.607719</td>\n",
       "      <td>-0.667771</td>\n",
       "      <td>107.333862</td>\n",
       "      <td>0.246292</td>\n",
       "      <td>4.422631</td>\n",
       "      <td>-2.419253</td>\n",
       "      <td>-5.102188</td>\n",
       "      <td>0.491178</td>\n",
       "    </tr>\n",
       "    <tr>\n",
       "      <th>22893</th>\n",
       "      <td>22893.0</td>\n",
       "      <td>16.0</td>\n",
       "      <td>0.204373</td>\n",
       "      <td>0.164580</td>\n",
       "      <td>0.368952</td>\n",
       "      <td>4.109865</td>\n",
       "      <td>112.206032</td>\n",
       "      <td>108.096169</td>\n",
       "      <td>-0.130669</td>\n",
       "      <td>107.339508</td>\n",
       "      <td>-0.994630</td>\n",
       "      <td>3.056815</td>\n",
       "      <td>-4.151659</td>\n",
       "      <td>-4.092369</td>\n",
       "      <td>0.442336</td>\n",
       "    </tr>\n",
       "    <tr>\n",
       "      <th>22894</th>\n",
       "      <td>22894.0</td>\n",
       "      <td>16.0</td>\n",
       "      <td>0.115787</td>\n",
       "      <td>0.129314</td>\n",
       "      <td>0.245101</td>\n",
       "      <td>3.678994</td>\n",
       "      <td>111.125740</td>\n",
       "      <td>107.446747</td>\n",
       "      <td>-0.306052</td>\n",
       "      <td>107.426392</td>\n",
       "      <td>-1.994740</td>\n",
       "      <td>3.684429</td>\n",
       "      <td>-3.095815</td>\n",
       "      <td>-3.645679</td>\n",
       "      <td>0.440514</td>\n",
       "    </tr>\n",
       "    <tr>\n",
       "      <th>22895</th>\n",
       "      <td>22895.0</td>\n",
       "      <td>16.0</td>\n",
       "      <td>0.196722</td>\n",
       "      <td>0.130881</td>\n",
       "      <td>0.327603</td>\n",
       "      <td>4.229585</td>\n",
       "      <td>108.305702</td>\n",
       "      <td>104.076118</td>\n",
       "      <td>-0.246560</td>\n",
       "      <td>105.421234</td>\n",
       "      <td>-0.348954</td>\n",
       "      <td>3.841180</td>\n",
       "      <td>-2.923417</td>\n",
       "      <td>-4.203938</td>\n",
       "      <td>0.460933</td>\n",
       "    </tr>\n",
       "    <tr>\n",
       "      <th>22896</th>\n",
       "      <td>22896.0</td>\n",
       "      <td>16.0</td>\n",
       "      <td>0.168453</td>\n",
       "      <td>0.156472</td>\n",
       "      <td>0.324925</td>\n",
       "      <td>4.566082</td>\n",
       "      <td>107.116646</td>\n",
       "      <td>102.550560</td>\n",
       "      <td>-0.271735</td>\n",
       "      <td>104.276237</td>\n",
       "      <td>-0.776511</td>\n",
       "      <td>3.334511</td>\n",
       "      <td>-3.401171</td>\n",
       "      <td>-4.553700</td>\n",
       "      <td>0.443253</td>\n",
       "    </tr>\n",
       "    <tr>\n",
       "      <th>22897</th>\n",
       "      <td>22897.0</td>\n",
       "      <td>16.0</td>\n",
       "      <td>0.150566</td>\n",
       "      <td>0.153203</td>\n",
       "      <td>0.303769</td>\n",
       "      <td>3.977250</td>\n",
       "      <td>109.850464</td>\n",
       "      <td>105.873215</td>\n",
       "      <td>-0.827015</td>\n",
       "      <td>112.372086</td>\n",
       "      <td>-0.271676</td>\n",
       "      <td>3.685678</td>\n",
       "      <td>-3.827696</td>\n",
       "      <td>-3.957547</td>\n",
       "      <td>0.443211</td>\n",
       "    </tr>\n",
       "    <tr>\n",
       "      <th>22898</th>\n",
       "      <td>22898.0</td>\n",
       "      <td>16.0</td>\n",
       "      <td>0.133070</td>\n",
       "      <td>0.140326</td>\n",
       "      <td>0.273395</td>\n",
       "      <td>4.500356</td>\n",
       "      <td>110.652527</td>\n",
       "      <td>106.152168</td>\n",
       "      <td>-0.465766</td>\n",
       "      <td>105.015167</td>\n",
       "      <td>-1.630581</td>\n",
       "      <td>4.214002</td>\n",
       "      <td>-2.821028</td>\n",
       "      <td>-4.488461</td>\n",
       "      <td>0.444627</td>\n",
       "    </tr>\n",
       "    <tr>\n",
       "      <th>22899</th>\n",
       "      <td>NaN</td>\n",
       "      <td>NaN</td>\n",
       "      <td>NaN</td>\n",
       "      <td>NaN</td>\n",
       "      <td>NaN</td>\n",
       "      <td>NaN</td>\n",
       "      <td>NaN</td>\n",
       "      <td>NaN</td>\n",
       "      <td>NaN</td>\n",
       "      <td>108.090714</td>\n",
       "      <td>0.195977</td>\n",
       "      <td>NaN</td>\n",
       "      <td>NaN</td>\n",
       "      <td>NaN</td>\n",
       "      <td>NaN</td>\n",
       "    </tr>\n",
       "  </tbody>\n",
       "</table>\n",
       "</div>"
      ],
      "text/plain": [
       "          step  epoch     Dreal     Dfake     Dfull     G_adv      G_full  \\\n",
       "22890  22890.0   16.0  0.170773  0.155942  0.326714  4.355669  111.091843   \n",
       "22891  22891.0   16.0  0.163468  0.138140  0.301608  3.318585  111.332047   \n",
       "22892  22892.0   16.0  0.205446  0.179188  0.384634  5.108718  115.716438   \n",
       "22893  22893.0   16.0  0.204373  0.164580  0.368952  4.109865  112.206032   \n",
       "22894  22894.0   16.0  0.115787  0.129314  0.245101  3.678994  111.125740   \n",
       "22895  22895.0   16.0  0.196722  0.130881  0.327603  4.229585  108.305702   \n",
       "22896  22896.0   16.0  0.168453  0.156472  0.324925  4.566082  107.116646   \n",
       "22897  22897.0   16.0  0.150566  0.153203  0.303769  3.977250  109.850464   \n",
       "22898  22898.0   16.0  0.133070  0.140326  0.273395  4.500356  110.652527   \n",
       "22899      NaN    NaN       NaN       NaN       NaN       NaN         NaN   \n",
       "\n",
       "        spec_loss  hist_loss    spec_chi  hist_chi      D(x)    D_G_z1  \\\n",
       "22890  106.736176   0.283838  108.032593 -1.066127  2.761060 -4.556146   \n",
       "22891  108.013458  -0.007816  107.530121  0.949249  3.455162 -3.131439   \n",
       "22892  110.607719  -0.667771  107.333862  0.246292  4.422631 -2.419253   \n",
       "22893  108.096169  -0.130669  107.339508 -0.994630  3.056815 -4.151659   \n",
       "22894  107.446747  -0.306052  107.426392 -1.994740  3.684429 -3.095815   \n",
       "22895  104.076118  -0.246560  105.421234 -0.348954  3.841180 -2.923417   \n",
       "22896  102.550560  -0.271735  104.276237 -0.776511  3.334511 -3.401171   \n",
       "22897  105.873215  -0.827015  112.372086 -0.271676  3.685678 -3.827696   \n",
       "22898  106.152168  -0.465766  105.015167 -1.630581  4.214002 -2.821028   \n",
       "22899         NaN        NaN  108.090714  0.195977       NaN       NaN   \n",
       "\n",
       "         D_G_z2      time  \n",
       "22890 -4.341282  0.472990  \n",
       "22891 -3.276182  0.470116  \n",
       "22892 -5.102188  0.491178  \n",
       "22893 -4.092369  0.442336  \n",
       "22894 -3.645679  0.440514  \n",
       "22895 -4.203938  0.460933  \n",
       "22896 -4.553700  0.443253  \n",
       "22897 -3.957547  0.443211  \n",
       "22898 -4.488461  0.444627  \n",
       "22899       NaN       NaN  "
      ]
     },
     "execution_count": 13,
     "metadata": {},
     "output_type": "execute_result"
    }
   ],
   "source": [
    "df_metrics.tail(10)"
   ]
  },
  {
   "cell_type": "code",
   "execution_count": 14,
   "metadata": {},
   "outputs": [
    {
     "data": {
      "application/vnd.jupyter.widget-view+json": {
       "model_id": "09475de94f3049d5a9db9ca8fda3c38d",
       "version_major": 2,
       "version_minor": 0
      },
      "text/plain": [
       "interactive(children=(SelectMultiple(description='col_list', options=('step', 'epoch', 'Dreal', 'Dfake', 'Dful…"
      ]
     },
     "metadata": {},
     "output_type": "display_data"
    },
    {
     "data": {
      "text/plain": [
       "<function __main__.f_plot_metrics(df, col_list)>"
      ]
     },
     "execution_count": 14,
     "metadata": {},
     "output_type": "execute_result"
    }
   ],
   "source": [
    "def f_plot_metrics(df,col_list):\n",
    "    \n",
    "    plt.figure()\n",
    "    for key in col_list:\n",
    "        plt.plot(df_metrics[key],label=key,marker='*',linestyle='')\n",
    "    plt.legend()\n",
    "    \n",
    "#     col_list=list(col_list)\n",
    "#     df.plot(kind='line',x='step',y=col_list)\n",
    "    \n",
    "# f_plot_metrics(df_metrics,['spec_chi','hist_chi'])\n",
    "\n",
    "interact_manual(f_plot_metrics,df=fixed(df_metrics), col_list=SelectMultiple(options=df_metrics.columns.values))"
   ]
  },
  {
   "cell_type": "code",
   "execution_count": 15,
   "metadata": {},
   "outputs": [
    {
     "name": "stdout",
     "output_type": "stream",
     "text": [
      "-0.5464233636856078\n"
     ]
    },
    {
     "data": {
      "text/html": [
       "<div>\n",
       "<style scoped>\n",
       "    .dataframe tbody tr th:only-of-type {\n",
       "        vertical-align: middle;\n",
       "    }\n",
       "\n",
       "    .dataframe tbody tr th {\n",
       "        vertical-align: top;\n",
       "    }\n",
       "\n",
       "    .dataframe thead th {\n",
       "        text-align: right;\n",
       "    }\n",
       "</style>\n",
       "<table border=\"1\" class=\"dataframe\">\n",
       "  <thead>\n",
       "    <tr style=\"text-align: right;\">\n",
       "      <th></th>\n",
       "      <th>step</th>\n",
       "      <th>epoch</th>\n",
       "      <th>Dreal</th>\n",
       "      <th>Dfake</th>\n",
       "      <th>Dfull</th>\n",
       "      <th>G_adv</th>\n",
       "      <th>G_full</th>\n",
       "      <th>spec_loss</th>\n",
       "      <th>hist_loss</th>\n",
       "      <th>spec_chi</th>\n",
       "      <th>hist_chi</th>\n",
       "      <th>D(x)</th>\n",
       "      <th>D_G_z1</th>\n",
       "      <th>D_G_z2</th>\n",
       "      <th>time</th>\n",
       "    </tr>\n",
       "  </thead>\n",
       "  <tbody>\n",
       "    <tr>\n",
       "      <th>20479</th>\n",
       "      <td>20479.0</td>\n",
       "      <td>15.0</td>\n",
       "      <td>0.194882</td>\n",
       "      <td>0.149417</td>\n",
       "      <td>0.344299</td>\n",
       "      <td>4.647122</td>\n",
       "      <td>113.344246</td>\n",
       "      <td>108.697121</td>\n",
       "      <td>-0.261158</td>\n",
       "      <td>107.703903</td>\n",
       "      <td>-2.263754</td>\n",
       "      <td>3.080519</td>\n",
       "      <td>-2.886374</td>\n",
       "      <td>-4.636130</td>\n",
       "      <td>0.488648</td>\n",
       "    </tr>\n",
       "    <tr>\n",
       "      <th>20284</th>\n",
       "      <td>20284.0</td>\n",
       "      <td>15.0</td>\n",
       "      <td>0.207555</td>\n",
       "      <td>0.247833</td>\n",
       "      <td>0.455389</td>\n",
       "      <td>8.946778</td>\n",
       "      <td>115.330521</td>\n",
       "      <td>106.383743</td>\n",
       "      <td>-0.927597</td>\n",
       "      <td>106.326881</td>\n",
       "      <td>-2.208540</td>\n",
       "      <td>2.003335</td>\n",
       "      <td>-9.028324</td>\n",
       "      <td>-8.946526</td>\n",
       "      <td>0.475863</td>\n",
       "    </tr>\n",
       "    <tr>\n",
       "      <th>16308</th>\n",
       "      <td>16308.0</td>\n",
       "      <td>12.0</td>\n",
       "      <td>0.136783</td>\n",
       "      <td>0.148649</td>\n",
       "      <td>0.285432</td>\n",
       "      <td>3.212811</td>\n",
       "      <td>109.792259</td>\n",
       "      <td>106.579445</td>\n",
       "      <td>-0.510839</td>\n",
       "      <td>107.613495</td>\n",
       "      <td>-2.192902</td>\n",
       "      <td>4.512747</td>\n",
       "      <td>-3.241188</td>\n",
       "      <td>-3.167338</td>\n",
       "      <td>0.515501</td>\n",
       "    </tr>\n",
       "    <tr>\n",
       "      <th>22154</th>\n",
       "      <td>22154.0</td>\n",
       "      <td>16.0</td>\n",
       "      <td>0.190720</td>\n",
       "      <td>0.115094</td>\n",
       "      <td>0.305814</td>\n",
       "      <td>4.021050</td>\n",
       "      <td>112.486969</td>\n",
       "      <td>108.465919</td>\n",
       "      <td>-0.312746</td>\n",
       "      <td>108.225754</td>\n",
       "      <td>-2.167952</td>\n",
       "      <td>2.606951</td>\n",
       "      <td>-3.486716</td>\n",
       "      <td>-3.995826</td>\n",
       "      <td>0.497632</td>\n",
       "    </tr>\n",
       "    <tr>\n",
       "      <th>20228</th>\n",
       "      <td>20228.0</td>\n",
       "      <td>15.0</td>\n",
       "      <td>0.151513</td>\n",
       "      <td>0.120019</td>\n",
       "      <td>0.271532</td>\n",
       "      <td>3.791568</td>\n",
       "      <td>111.069672</td>\n",
       "      <td>107.278107</td>\n",
       "      <td>-0.885460</td>\n",
       "      <td>107.753944</td>\n",
       "      <td>-2.166844</td>\n",
       "      <td>3.514057</td>\n",
       "      <td>-3.242470</td>\n",
       "      <td>-3.763641</td>\n",
       "      <td>0.445143</td>\n",
       "    </tr>\n",
       "    <tr>\n",
       "      <th>19915</th>\n",
       "      <td>19915.0</td>\n",
       "      <td>14.0</td>\n",
       "      <td>0.190406</td>\n",
       "      <td>0.138620</td>\n",
       "      <td>0.329026</td>\n",
       "      <td>2.776831</td>\n",
       "      <td>107.537842</td>\n",
       "      <td>104.761009</td>\n",
       "      <td>-0.188297</td>\n",
       "      <td>107.389359</td>\n",
       "      <td>-2.161999</td>\n",
       "      <td>2.691357</td>\n",
       "      <td>-4.286679</td>\n",
       "      <td>-2.698691</td>\n",
       "      <td>0.458028</td>\n",
       "    </tr>\n",
       "    <tr>\n",
       "      <th>17906</th>\n",
       "      <td>17906.0</td>\n",
       "      <td>13.0</td>\n",
       "      <td>0.239950</td>\n",
       "      <td>0.156516</td>\n",
       "      <td>0.396466</td>\n",
       "      <td>3.520439</td>\n",
       "      <td>110.921272</td>\n",
       "      <td>107.400833</td>\n",
       "      <td>-0.183650</td>\n",
       "      <td>107.621605</td>\n",
       "      <td>-2.158205</td>\n",
       "      <td>2.010710</td>\n",
       "      <td>-4.169433</td>\n",
       "      <td>-3.488382</td>\n",
       "      <td>0.478290</td>\n",
       "    </tr>\n",
       "    <tr>\n",
       "      <th>21808</th>\n",
       "      <td>21808.0</td>\n",
       "      <td>16.0</td>\n",
       "      <td>0.173337</td>\n",
       "      <td>0.148868</td>\n",
       "      <td>0.322206</td>\n",
       "      <td>3.593410</td>\n",
       "      <td>108.205299</td>\n",
       "      <td>104.611893</td>\n",
       "      <td>-0.434509</td>\n",
       "      <td>107.167465</td>\n",
       "      <td>-2.109396</td>\n",
       "      <td>3.928618</td>\n",
       "      <td>-3.400418</td>\n",
       "      <td>-3.563205</td>\n",
       "      <td>0.491893</td>\n",
       "    </tr>\n",
       "    <tr>\n",
       "      <th>18224</th>\n",
       "      <td>18224.0</td>\n",
       "      <td>13.0</td>\n",
       "      <td>0.153804</td>\n",
       "      <td>0.181759</td>\n",
       "      <td>0.335563</td>\n",
       "      <td>5.938213</td>\n",
       "      <td>110.947380</td>\n",
       "      <td>105.009171</td>\n",
       "      <td>-0.741735</td>\n",
       "      <td>106.867950</td>\n",
       "      <td>-2.099717</td>\n",
       "      <td>4.459793</td>\n",
       "      <td>-2.750250</td>\n",
       "      <td>-5.935330</td>\n",
       "      <td>0.472329</td>\n",
       "    </tr>\n",
       "    <tr>\n",
       "      <th>18687</th>\n",
       "      <td>18687.0</td>\n",
       "      <td>13.0</td>\n",
       "      <td>0.181951</td>\n",
       "      <td>0.127851</td>\n",
       "      <td>0.309802</td>\n",
       "      <td>4.419914</td>\n",
       "      <td>113.808144</td>\n",
       "      <td>109.388229</td>\n",
       "      <td>-1.001797</td>\n",
       "      <td>107.487106</td>\n",
       "      <td>-2.090995</td>\n",
       "      <td>3.977407</td>\n",
       "      <td>-3.518488</td>\n",
       "      <td>-4.405125</td>\n",
       "      <td>0.438766</td>\n",
       "    </tr>\n",
       "  </tbody>\n",
       "</table>\n",
       "</div>"
      ],
      "text/plain": [
       "          step  epoch     Dreal     Dfake     Dfull     G_adv      G_full  \\\n",
       "20479  20479.0   15.0  0.194882  0.149417  0.344299  4.647122  113.344246   \n",
       "20284  20284.0   15.0  0.207555  0.247833  0.455389  8.946778  115.330521   \n",
       "16308  16308.0   12.0  0.136783  0.148649  0.285432  3.212811  109.792259   \n",
       "22154  22154.0   16.0  0.190720  0.115094  0.305814  4.021050  112.486969   \n",
       "20228  20228.0   15.0  0.151513  0.120019  0.271532  3.791568  111.069672   \n",
       "19915  19915.0   14.0  0.190406  0.138620  0.329026  2.776831  107.537842   \n",
       "17906  17906.0   13.0  0.239950  0.156516  0.396466  3.520439  110.921272   \n",
       "21808  21808.0   16.0  0.173337  0.148868  0.322206  3.593410  108.205299   \n",
       "18224  18224.0   13.0  0.153804  0.181759  0.335563  5.938213  110.947380   \n",
       "18687  18687.0   13.0  0.181951  0.127851  0.309802  4.419914  113.808144   \n",
       "\n",
       "        spec_loss  hist_loss    spec_chi  hist_chi      D(x)    D_G_z1  \\\n",
       "20479  108.697121  -0.261158  107.703903 -2.263754  3.080519 -2.886374   \n",
       "20284  106.383743  -0.927597  106.326881 -2.208540  2.003335 -9.028324   \n",
       "16308  106.579445  -0.510839  107.613495 -2.192902  4.512747 -3.241188   \n",
       "22154  108.465919  -0.312746  108.225754 -2.167952  2.606951 -3.486716   \n",
       "20228  107.278107  -0.885460  107.753944 -2.166844  3.514057 -3.242470   \n",
       "19915  104.761009  -0.188297  107.389359 -2.161999  2.691357 -4.286679   \n",
       "17906  107.400833  -0.183650  107.621605 -2.158205  2.010710 -4.169433   \n",
       "21808  104.611893  -0.434509  107.167465 -2.109396  3.928618 -3.400418   \n",
       "18224  105.009171  -0.741735  106.867950 -2.099717  4.459793 -2.750250   \n",
       "18687  109.388229  -1.001797  107.487106 -2.090995  3.977407 -3.518488   \n",
       "\n",
       "         D_G_z2      time  \n",
       "20479 -4.636130  0.488648  \n",
       "20284 -8.946526  0.475863  \n",
       "16308 -3.167338  0.515501  \n",
       "22154 -3.995826  0.497632  \n",
       "20228 -3.763641  0.445143  \n",
       "19915 -2.698691  0.458028  \n",
       "17906 -3.488382  0.478290  \n",
       "21808 -3.563205  0.491893  \n",
       "18224 -5.935330  0.472329  \n",
       "18687 -4.405125  0.438766  "
      ]
     },
     "execution_count": 15,
     "metadata": {},
     "output_type": "execute_result"
    }
   ],
   "source": [
    "\n",
    "chi=df_metrics.quantile(q=0.2,axis=0)['hist_chi']\n",
    "print(chi)\n",
    "df_metrics[(df_metrics['hist_chi']<=chi)&(df_metrics.epoch>1)].sort_values(by=['hist_chi']).head(10)"
   ]
  },
  {
   "cell_type": "code",
   "execution_count": 16,
   "metadata": {},
   "outputs": [],
   "source": [
    "# display(df_metrics.sort_values(by=['hist_chi']).head(8))\n",
    "# display(df_metrics.sort_values(by=['spec_chi']).head(8))"
   ]
  },
  {
   "cell_type": "markdown",
   "metadata": {},
   "source": [
    "<!-- ### Read validation data -->"
   ]
  },
  {
   "cell_type": "markdown",
   "metadata": {},
   "source": [
    "## Read stored chi-squares for images"
   ]
  },
  {
   "cell_type": "code",
   "execution_count": 17,
   "metadata": {},
   "outputs": [],
   "source": [
    "## Get sigma list from saved files\n",
    "flist=glob.glob(result_dir+'/df_processed*')\n",
    "sigma_lst=[i.split('/')[-1].split('df_processed_')[-1].split('.pkle')[0] for i in flist]\n",
    "sigma_lst.sort() ### Sorting is important for labels to match !!\n",
    "\n",
    "labels_lst=np.arange(len(sigma_lst))"
   ]
  },
  {
   "cell_type": "code",
   "execution_count": 18,
   "metadata": {},
   "outputs": [
    {
     "data": {
      "text/plain": [
       "(['0.5', '0.65', '1.1'], array([0, 1, 2]))"
      ]
     },
     "execution_count": 18,
     "metadata": {},
     "output_type": "execute_result"
    }
   ],
   "source": [
    "sigma_lst,labels_lst"
   ]
  },
  {
   "cell_type": "code",
   "execution_count": 19,
   "metadata": {},
   "outputs": [],
   "source": [
    "### Create a merged dataframe\n",
    "\n",
    "df_list=[]\n",
    "for label in labels_lst:\n",
    "    df=pd.read_pickle(result_dir+'/df_processed_{0}.pkle'.format(str(sigma_lst[label])))\n",
    "    df[['epoch','step']]=df[['epoch','step']].astype(int)\n",
    "    df['label']=df.epoch.astype(str)+'-'+df.step.astype(str) # Add label column for plotting\n",
    "    df_list.append(df)\n",
    "\n",
    "for i,df in enumerate(df_list):\n",
    "    df1=df.add_suffix('_'+str(i))\n",
    "    # renaming the columns to be joined on\n",
    "    keys=['epoch','step','img_type','label']\n",
    "    rename_cols_dict={key+'_'+str(i):key for key in keys}\n",
    "#     print(rename_cols_dict)\n",
    "    df1.rename(columns=rename_cols_dict,inplace=True) \n",
    "    df_list[i]=df1\n",
    "    \n",
    "df_merged=reduce(lambda x, y : pd.merge(x, y, on = ['step','epoch','img_type','label']), df_list)\n",
    "\n",
    "### Get sum of all 4 classes for 3 types of chi-squares\n",
    "for chi_type in ['chi_1','chi_spec1','chi_1c']:\n",
    "    keys=[chi_type+'_'+str(label) for label in labels_lst]\n",
    "#     display(df_merged[keys].sum(axis=1))\n",
    "    df_merged['sum_'+chi_type]=df_merged[keys].sum(axis=1)\n",
    "del df_list\n",
    "\n"
   ]
  },
  {
   "cell_type": "code",
   "execution_count": 20,
   "metadata": {},
   "outputs": [],
   "source": [
    "\n",
    "def f_plot_hist_spec(df,param_labels,sigma_lst,steps_list,bkg_dict,plot_type):\n",
    "\n",
    "    img_size=64\n",
    "    assert plot_type in ['hist','spec','grid','spec_relative'],\"Invalid mode %s\"%(plot_type)\n",
    "\n",
    "    if plot_type in ['hist','spec','spec_relative']:     fig=plt.figure(figsize=(6,6))\n",
    "    for par_label in param_labels:\n",
    "        df=df[df.step.isin(steps_list)]\n",
    "#         print(df.shape)\n",
    "        idx=sigma_lst.index(par_label)\n",
    "        suffix='_%s'%(idx)\n",
    "        dict_bkg=bkg_dict[str(par_label)]\n",
    "        \n",
    "        for (i,row),marker in zip(df.iterrows(),itertools.cycle('>^*sDHPdpx_')):\n",
    "            label=row.label+'_'+str(par_label)\n",
    "            if plot_type=='hist':\n",
    "                x1=row['hist_bin_centers'+suffix]\n",
    "                y1=row['hist_val'+suffix]\n",
    "                yerr1=row['hist_err'+suffix]\n",
    "                x1=f_invtransform(x1)\n",
    "                \n",
    "                plt.errorbar(x1,y1,yerr1,marker=marker,markersize=5,linestyle='',label=label)\n",
    "            if plot_type=='spec':\n",
    "                y2=row['spec_val'+suffix]\n",
    "                yerr2=row['spec_sdev'+suffix]/np.sqrt(row['num_imgs'+suffix])\n",
    "                x2=np.arange(len(y2))\n",
    "\n",
    "                plt.fill_between(x2, y2 - yerr2, y2 + yerr2, alpha=0.4)\n",
    "                plt.plot(x2, y2, marker=marker, linestyle=':',label=label)\n",
    "\n",
    "            if plot_type=='spec_relative':\n",
    "\n",
    "                y2=row['spec_val'+suffix]\n",
    "                yerr2=row['spec_sdev'+suffix]\n",
    "                x2=np.arange(len(y2))\n",
    "\n",
    "                ### Reference spectrum\n",
    "                y1,yerr1=dict_bkg['spec_val'],dict_bkg['spec_sdev']\n",
    "                y=y2/y1\n",
    "                ## Variance is sum of variance of both variables, since they are uncorrelated\n",
    "\n",
    "                # delta_r= |r| * sqrt(delta_a/a)^2 +(\\delta_b/b)^2) / \\sqrt(N)\n",
    "                yerr=(np.abs(y))*np.sqrt((yerr1/y1)**2+(yerr2/y2)**2)/np.sqrt(row['num_imgs'+suffix])\n",
    "                \n",
    "                plt.fill_between(x2, y - yerr, y + yerr, alpha=0.4)\n",
    "                plt.plot(x2, y, marker=marker, linestyle=':',label=label)\n",
    "\n",
    "            if plot_type=='grid':\n",
    "                images=np.load(row['fname'+suffix])[:,0,:,:]\n",
    "                f_plot_grid(images[:18],cols=6,fig_size=(10,5))\n",
    "            \n",
    "        ### Plot reference data\n",
    "        if plot_type=='hist':\n",
    "            x,y,yerr=dict_bkg['hist_bin_centers'],dict_bkg['hist_val'],dict_bkg['hist_err']\n",
    "            x=f_invtransform(x)\n",
    "            plt.errorbar(x, y,yerr,color='k',linestyle='-',label='bkgnd')   \n",
    "            plt.title('Pixel Intensity Histogram')\n",
    "            plt.xscale('symlog',linthreshx=50)\n",
    "        \n",
    "        if plot_type=='spec':\n",
    "            y,yerr=dict_bkg['spec_val'],dict_bkg['spec_sdev']/np.sqrt(num_bkgnd)\n",
    "            x=np.arange(len(y))\n",
    "            plt.fill_between(x, y - yerr, y + yerr, color='k',alpha=0.8)\n",
    "            plt.title('Spectrum')\n",
    "            plt.xlim(0,img_size/2)\n",
    "\n",
    "        if plot_type=='spec_relative':\n",
    "            plt.axhline(y=1.0,color='k',linestyle='-.')\n",
    "            plt.title(\"Relative spectrum\")\n",
    "            plt.xlim(0,img_size/2)\n",
    "            plt.ylim(0.5,2)\n",
    "\n",
    "    if plot_type in ['hist','spec']:     \n",
    "        plt.yscale('log')\n",
    "    plt.legend(bbox_to_anchor=(0.3, 0.75),ncol=2, fancybox=True, shadow=True,prop={'size':6})\n",
    "\n",
    "\n",
    "# f_plot_hist_spec(df_merged,[sigma_lst[-1]],sigma_lst,[best_step[0]],bkgnd_dict,'hist')"
   ]
  },
  {
   "cell_type": "markdown",
   "metadata": {},
   "source": [
    "### Slice best steps"
   ]
  },
  {
   "cell_type": "code",
   "execution_count": 21,
   "metadata": {},
   "outputs": [],
   "source": [
    "def f_slice_merged_df(df,cutoff=0.2,sort_col='chi_1',col_mode='all',label='all',params_lst=[0,1,2],head=10,epoch_range=[0,None],use_sum=True,display_flag=False):\n",
    "    ''' View dataframe after slicing\n",
    "    '''\n",
    "\n",
    "    if epoch_range[1]==None: epoch_range[1]=df.max()['epoch']\n",
    "    df=df[(df.epoch<=epoch_range[1])&(df.epoch>=epoch_range[0])]\n",
    "\n",
    "    ######### Apply cutoff to keep reasonable chi1 and chispec1\n",
    "    #### Add chi-square columns to use\n",
    "    chi_cols=[]\n",
    "    if use_sum: ## Add sum chi-square columns\n",
    "        for j in ['chi_1','chi_spec1','chi_1c']: chi_cols.append('sum_'+j)\n",
    "        \n",
    "    if label=='all': ### Add chi-squares for all labels\n",
    "        for j in ['chi_1','chi_spec1','chi_1c']:\n",
    "            for idx,i in enumerate(params_lst): chi_cols.append(j+'_'+str(idx))\n",
    "    else: ## Add chi-square for specific label\n",
    "        assert label in params_lst, \"label %s is not in %s\"%(label,params_lst)\n",
    "        label_idx=params_lst.index(label)\n",
    "        print(label_idx)\n",
    "        for j in ['chi_1','chi_spec1','chi_1c']: chi_cols.append(j+'_'+str(label_idx))\n",
    "#     print(chi_cols)\n",
    "    q_dict=dict(df_merged.quantile(q=cutoff,axis=0)[chi_cols])\n",
    "    # print(q_dict)\n",
    "    strg=['%s < %s'%(key,q_dict[key]) for key in chi_cols ]\n",
    "    query=\" & \".join(strg)\n",
    "    # print(query)\n",
    "    df=df.query(query)\n",
    "    \n",
    "    # Sort dataframe\n",
    "    df1=df[df.epoch>0].sort_values(by=sort_col)\n",
    "    chis=[i for i in df_merged.columns if 'chi' in i]\n",
    "    col_list=['label']+chis+['epoch','step']\n",
    "    if (col_mode=='short'): \n",
    "        col_list=['label']+[i for i in df_merged.columns if i.startswith('sum')]\n",
    "        col_list=['label']+chi_cols\n",
    "    df2=df1.head(head)[col_list]\n",
    "    \n",
    "    if display_flag: display(df2) # Display df\n",
    "    \n",
    "    return df2\n",
    "\n",
    "# f_slice_merged_df(df_merged,cutoff=0.3,sort_col='sum_chi_1',label=0.65,params_lst=[0.5,0.65,0.8,1.1],use_sum=True,head=2000,display_flag=False,epoch_range=[7,None])"
   ]
  },
  {
   "cell_type": "code",
   "execution_count": 22,
   "metadata": {},
   "outputs": [
    {
     "data": {
      "application/vnd.jupyter.widget-view+json": {
       "model_id": "8f2ab2fd0b854bfe9d3544e0f9f851f3",
       "version_major": 2,
       "version_minor": 0
      },
      "text/plain": [
       "interactive(children=(FloatSlider(value=0.3, description='cutoff', max=1.0, step=0.01), Dropdown(description='…"
      ]
     },
     "metadata": {},
     "output_type": "display_data"
    }
   ],
   "source": [
    "cols_to_sort=np.unique([i for i in df_merged.columns for j in ['chi_1_','chi_spec1_'] if ((i.startswith(j)) or (i.startswith('sum')))])\n",
    "\n",
    "w=interactive(f_slice_merged_df,df=fixed(df_merged),\n",
    "cutoff=widgets.FloatSlider(value=0.3, min=0, max=1.0, step=0.01), \n",
    "col_mode=['all','short'], display_flag=widgets.Checkbox(value=False),\n",
    "use_sum=widgets.Checkbox(value=True),\n",
    "label=ToggleButtons(options=['all']+sigma_lst), params_lst=fixed(sigma_lst),\n",
    "head=widgets.IntSlider(value=10,min=1,max=20,step=1),\n",
    "epoch_range=widgets.IntRangeSlider(value=[0,np.max(df.epoch.values)],min=0,max=np.max(df.epoch.values),step=1),\n",
    "sort_col=cols_to_sort\n",
    ")\n",
    "display(w)"
   ]
  },
  {
   "cell_type": "code",
   "execution_count": 23,
   "metadata": {},
   "outputs": [],
   "source": [
    "df_sliced=w.result\n",
    "# df_sliced"
   ]
  },
  {
   "cell_type": "code",
   "execution_count": 24,
   "metadata": {},
   "outputs": [
    {
     "name": "stdout",
     "output_type": "stream",
     "text": [
      "[17910 20080]\n"
     ]
    },
    {
     "data": {
      "text/plain": [
       "array([17910, 20080])"
      ]
     },
     "execution_count": 24,
     "metadata": {},
     "output_type": "execute_result"
    }
   ],
   "source": [
    "best_step=[]\n",
    "\n",
    "best_step.append(f_slice_merged_df(df_merged,cutoff=0.8,sort_col='sum_chi_1',label='all',use_sum=True,head=4,display_flag=False,epoch_range=[7,None],params_lst=sigma_lst).step.values)\n",
    "best_step.append(f_slice_merged_df(df_merged,cutoff=0.8,sort_col='sum_chi_spec1',label='all',use_sum=True,head=4,display_flag=False,epoch_range=[7,None],params_lst=sigma_lst).step.values)\n",
    "best_step.append(f_slice_merged_df(df_merged,cutoff=0.8,sort_col='sum_chi_1c',label='all',use_sum=True,head=2,display_flag=False,epoch_range=[7,None],params_lst=sigma_lst).step.values)\n",
    "\n",
    "# best_step.append([46669,34281])\n",
    "best_step=np.unique([i for j in best_step for i in j])\n",
    "print(best_step)\n",
    "best_step"
   ]
  },
  {
   "cell_type": "code",
   "execution_count": 25,
   "metadata": {},
   "outputs": [],
   "source": [
    "# best_step=[6176]\n",
    "# best_step= [32300, 35810, 36020, 37030, 38640, 42480, 43850]\n",
    "\n",
    "# best_step=np.arange(40130,40135).astype(int)"
   ]
  },
  {
   "cell_type": "code",
   "execution_count": null,
   "metadata": {},
   "outputs": [],
   "source": []
  },
  {
   "cell_type": "code",
   "execution_count": 26,
   "metadata": {},
   "outputs": [
    {
     "name": "stdout",
     "output_type": "stream",
     "text": [
      "(2, 61)\n",
      "[(13, 17910), (14, 20080)]\n"
     ]
    }
   ],
   "source": [
    "df_best=df_merged[df_merged.step.isin(best_step)]\n",
    "print(df_best.shape)\n",
    "print([(df_best[df_best.step==step].epoch.values[0],df_best[df_best.step==step].step.values[0]) for step in best_step])\n",
    "# print([(df_best.loc[idx].epoch,df_best.loc[idx].step) for idx in best_idx])"
   ]
  },
  {
   "cell_type": "code",
   "execution_count": 27,
   "metadata": {},
   "outputs": [
    {
     "data": {
      "text/html": [
       "<div>\n",
       "<style scoped>\n",
       "    .dataframe tbody tr th:only-of-type {\n",
       "        vertical-align: middle;\n",
       "    }\n",
       "\n",
       "    .dataframe tbody tr th {\n",
       "        vertical-align: top;\n",
       "    }\n",
       "\n",
       "    .dataframe thead th {\n",
       "        text-align: right;\n",
       "    }\n",
       "</style>\n",
       "<table border=\"1\" class=\"dataframe\">\n",
       "  <thead>\n",
       "    <tr style=\"text-align: right;\">\n",
       "      <th></th>\n",
       "      <th>label</th>\n",
       "      <th>sum_chi_1</th>\n",
       "      <th>sum_chi_spec1</th>\n",
       "      <th>sum_chi_1c</th>\n",
       "    </tr>\n",
       "  </thead>\n",
       "  <tbody>\n",
       "    <tr>\n",
       "      <th>1790</th>\n",
       "      <td>13-17910</td>\n",
       "      <td>0.390352</td>\n",
       "      <td>29.806820</td>\n",
       "      <td>0.010376</td>\n",
       "    </tr>\n",
       "    <tr>\n",
       "      <th>2007</th>\n",
       "      <td>14-20080</td>\n",
       "      <td>0.259827</td>\n",
       "      <td>19.494502</td>\n",
       "      <td>0.014235</td>\n",
       "    </tr>\n",
       "  </tbody>\n",
       "</table>\n",
       "</div>"
      ],
      "text/plain": [
       "         label  sum_chi_1  sum_chi_spec1  sum_chi_1c\n",
       "1790  13-17910   0.390352      29.806820    0.010376\n",
       "2007  14-20080   0.259827      19.494502    0.014235"
      ]
     },
     "execution_count": 27,
     "metadata": {},
     "output_type": "execute_result"
    }
   ],
   "source": [
    "col_list=['label']+[i for i in df_merged.columns if i.startswith('sum')]\n",
    "\n",
    "df_best[col_list]"
   ]
  },
  {
   "cell_type": "markdown",
   "metadata": {},
   "source": [
    "### Interactive plot"
   ]
  },
  {
   "cell_type": "code",
   "execution_count": 28,
   "metadata": {},
   "outputs": [
    {
     "data": {
      "application/vnd.jupyter.widget-view+json": {
       "model_id": "7a59805a35334e5bacd0849bbc10dfbc",
       "version_major": 2,
       "version_minor": 0
      },
      "text/plain": [
       "interactive(children=(SelectMultiple(description='param_labels', options=('0.5', '0.65', '1.1'), value=()), Se…"
      ]
     },
     "metadata": {},
     "output_type": "display_data"
    },
    {
     "data": {
      "text/plain": [
       "<function __main__.f_plot_hist_spec(df, param_labels, sigma_lst, steps_list, bkg_dict, plot_type)>"
      ]
     },
     "execution_count": 28,
     "metadata": {},
     "output_type": "execute_result"
    }
   ],
   "source": [
    "interact_manual(f_plot_hist_spec,df=fixed(df_merged),\n",
    "                param_labels=SelectMultiple(options=sigma_lst),sigma_lst=fixed(sigma_lst),\n",
    "                steps_list=SelectMultiple(options=best_step),\n",
    "                bkg_dict=fixed(bkgnd_dict),plot_type=ToggleButtons(options=['hist','spec','grid','spec_relative']))"
   ]
  },
  {
   "cell_type": "code",
   "execution_count": 29,
   "metadata": {},
   "outputs": [],
   "source": [
    "# ### Check deterministic\n",
    "# main_dir='/global/cfs/cdirs/m3363/vayyar/cosmogan_data/results_from_other_code/pytorch/results/128sq/'\n",
    "# epoch,step=0,230\n",
    "# f1='20210113_185116_cgan_predict_0.65_m2/images/gen_img_label-0.5_epoch-{0}_step-{1}.npy'.format(epoch,step)\n",
    "# f2='20210113_092234_cgan_predict_0.65_m2/images/gen_img_label-0.5_epoch-{0}_step-{1}.npy'.format(epoch,step)\n",
    "\n",
    "# epoch,step=3,20\n",
    "# f1='20210114_191648_nb_test/images/gen_img_label-0.5_epoch-{0}_step-{1}.npy'.format(epoch,step)\n",
    "# f2='20210114_193009_nb_test/images/gen_img_label-0.5_epoch-{0}_step-{1}.npy'.format(epoch,step)\n",
    "\n",
    "# a1=np.load(main_dir+f1)\n",
    "# a2=np.load(main_dir+f2)\n",
    "# # print(a1.shape,a2.shape)\n",
    "\n",
    "# print(np.mean(a1),np.mean(a2))\n",
    "# print(np.max(a1),np.max(a2))"
   ]
  },
  {
   "cell_type": "markdown",
   "metadata": {},
   "source": [
    "### Delete unwanted stored models\n",
    "(Since deterministic runs aren't working well )"
   ]
  },
  {
   "cell_type": "code",
   "execution_count": null,
   "metadata": {},
   "outputs": [],
   "source": [
    "# fldr='/global/cfs/cdirs/m3363/vayyar/cosmogan_data/results_from_other_code/pytorch/results/128sq/20210119_134802_cgan_predict_0.65_m2/models'\n",
    "fldr=result_dir\n",
    "print(fldr)\n",
    "flist=glob.glob(fldr+'/models/checkpoint_*.tar')\n",
    "len(flist)"
   ]
  },
  {
   "cell_type": "code",
   "execution_count": null,
   "metadata": {},
   "outputs": [],
   "source": [
    "# # Delete unwanted stored images\n",
    "# for i in flist:\n",
    "#     try:\n",
    "#         step=int(i.split('/')[-1].split('_')[-1].split('.')[0])\n",
    "#         if step not in best_step:\n",
    "# #             print(\"Found\")\n",
    "# #             print(step)\n",
    "# #             os.remove(i)\n",
    "#             pass\n",
    "#         else: \n",
    "#             print(step)\n",
    "#             print(i)\n",
    "#     except Exception as e:\n",
    "# #         print(e)\n",
    "# #         print(i)\n",
    "#         pass"
   ]
  },
  {
   "cell_type": "code",
   "execution_count": null,
   "metadata": {},
   "outputs": [],
   "source": [
    "best_step"
   ]
  }
 ],
 "metadata": {
  "kernelspec": {
   "display_name": "v3",
   "language": "python",
   "name": "v-jpt-3"
  },
  "language_info": {
   "codemirror_mode": {
    "name": "ipython",
    "version": 3
   },
   "file_extension": ".py",
   "mimetype": "text/x-python",
   "name": "python",
   "nbconvert_exporter": "python",
   "pygments_lexer": "ipython3",
   "version": "3.8.6"
  }
 },
 "nbformat": 4,
 "nbformat_minor": 4
}

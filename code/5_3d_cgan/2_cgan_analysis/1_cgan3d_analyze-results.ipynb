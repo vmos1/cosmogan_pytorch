{
 "cells": [
  {
   "cell_type": "markdown",
   "metadata": {},
   "source": [
    "# Analyze results for 3D CGAN\n",
    "Feb 22, 2021"
   ]
  },
  {
   "cell_type": "code",
   "execution_count": 1,
   "metadata": {},
   "outputs": [],
   "source": [
    "import     numpy as np\n",
    "import matplotlib.pyplot as plt\n",
    "import pandas as pd\n",
    "\n",
    "import subprocess as sp\n",
    "import sys\n",
    "import os\n",
    "import glob\n",
    "import pickle \n",
    "\n",
    "from matplotlib.colors import LogNorm, PowerNorm, Normalize\n",
    "import seaborn as sns\n",
    "from functools import reduce"
   ]
  },
  {
   "cell_type": "code",
   "execution_count": 2,
   "metadata": {},
   "outputs": [],
   "source": [
    "from ipywidgets import *"
   ]
  },
  {
   "cell_type": "code",
   "execution_count": 3,
   "metadata": {},
   "outputs": [],
   "source": [
    "%matplotlib widget"
   ]
  },
  {
   "cell_type": "code",
   "execution_count": 4,
   "metadata": {},
   "outputs": [],
   "source": [
    "sys.path.append('/global/u1/v/vpa/project/jpt_notebooks/Cosmology/Cosmo_GAN/repositories/cosmogan_pytorch/code/modules_image_analysis/')\n",
    "from modules_img_analysis import *"
   ]
  },
  {
   "cell_type": "code",
   "execution_count": 5,
   "metadata": {},
   "outputs": [],
   "source": [
    "sys.path.append('/global/u1/v/vpa/project/jpt_notebooks/Cosmology/Cosmo_GAN/repositories/cosmogan_pytorch/code/5_3d_cgan/1_main_code/')\n",
    "import post_analysis_pandas as post\n"
   ]
  },
  {
   "cell_type": "code",
   "execution_count": 6,
   "metadata": {},
   "outputs": [],
   "source": [
    "### Transformation functions for image pixel values\n",
    "def f_transform(x):\n",
    "    return 2.*x/(x + 4.) - 1.\n",
    "\n",
    "def f_invtransform(s):\n",
    "    return 4.*(1. + s)/(1. - s)\n"
   ]
  },
  {
   "cell_type": "markdown",
   "metadata": {},
   "source": [
    "### Read validation data"
   ]
  },
  {
   "cell_type": "code",
   "execution_count": 7,
   "metadata": {},
   "outputs": [
    {
     "name": "stdout",
     "output_type": "stream",
     "text": [
      "/global/cfs/cdirs/m3363/vayyar/cosmogan_data/raw_data/3d_data/dataset2a_3dcgan_4univs_64cube_simple_splicing/norm_1_sig_0.5_train_val.npy\n",
      "/global/cfs/cdirs/m3363/vayyar/cosmogan_data/raw_data/3d_data/dataset2a_3dcgan_4univs_64cube_simple_splicing/norm_1_sig_0.65_train_val.npy\n",
      "/global/cfs/cdirs/m3363/vayyar/cosmogan_data/raw_data/3d_data/dataset2a_3dcgan_4univs_64cube_simple_splicing/norm_1_sig_0.8_train_val.npy\n",
      "/global/cfs/cdirs/m3363/vayyar/cosmogan_data/raw_data/3d_data/dataset2a_3dcgan_4univs_64cube_simple_splicing/norm_1_sig_1.1_train_val.npy\n"
     ]
    }
   ],
   "source": [
    "# bins=np.concatenate([np.array([-0.5]),np.arange(0.5,20.5,1),np.arange(20.5,100.5,5),np.arange(100.5,1000.5,50),np.array([2000])]) #bin edges to use\n",
    "bins=np.concatenate([np.array([-0.5]),np.arange(0.5,100.5,5),np.arange(100.5,300.5,20),np.arange(300.5,1000.5,50),np.array([2000])]) #bin edges to use\n",
    "\n",
    "bins=f_transform(bins)   ### scale to (-1,1)\n",
    "# ### Extract validation data\n",
    "sigma_lst=[0.5,0.65,0.8,1.1]\n",
    "labels_lst=range(len(sigma_lst))\n",
    "bkgnd_dict={}\n",
    "num_bkgnd=200\n",
    "\n",
    "for label in labels_lst:\n",
    "    fname='/global/cfs/cdirs/m3363/vayyar/cosmogan_data/raw_data/3d_data/dataset2a_3dcgan_4univs_64cube_simple_splicing/norm_1_sig_{0}_train_val.npy'.format(sigma_lst[label])\n",
    "    print(fname)\n",
    "    samples=np.load(fname,mmap_mode='r')[-num_bkgnd:][:,0,:,:]\n",
    "    \n",
    "    dict_val=post.f_compute_hist_spect(samples,bins)\n",
    "    bkgnd_dict[str(sigma_lst[label])]=dict_val\n",
    "    del samples"
   ]
  },
  {
   "cell_type": "markdown",
   "metadata": {},
   "source": [
    "## Read data"
   ]
  },
  {
   "cell_type": "code",
   "execution_count": 8,
   "metadata": {},
   "outputs": [],
   "source": [
    "# main_dir='/global/cfs/cdirs/m3363/vayyar/cosmogan_data/results_from_other_code/pytorch/results/128sq/'\n",
    "# results_dir=main_dir+'20201002_064327'"
   ]
  },
  {
   "cell_type": "code",
   "execution_count": 9,
   "metadata": {},
   "outputs": [],
   "source": [
    "dict1={'64':'/global/cfs/cdirs/m3363/vayyar/cosmogan_data/results_from_other_code/pytorch/results/3d_cGAN/',\n",
    "      '512':'/global/cfs/cdirs/m3363/vayyar/cosmogan_data/results_from_other_code/pytorch/results/3d_cGAN/'}\n",
    "\n",
    "u=interactive(lambda x: dict1[x], x=Select(options=dict1.keys()))\n",
    "# display(u)\n"
   ]
  },
  {
   "cell_type": "code",
   "execution_count": 10,
   "metadata": {},
   "outputs": [
    {
     "data": {
      "application/vnd.jupyter.widget-view+json": {
       "model_id": "3675714be0684e0896f53ef00c46ee48",
       "version_major": 2,
       "version_minor": 0
      },
      "text/plain": [
       "interactive(children=(Dropdown(description='x', options=('20210223_210217_3dcgan_predict_0.8_m2', '20210417_83…"
      ]
     },
     "metadata": {},
     "output_type": "display_data"
    }
   ],
   "source": [
    "# parent_dir=u.result\n",
    "parent_dir=dict1['64']\n",
    "dir_lst=[i.split('/')[-1] for i in glob.glob(parent_dir+'2021*')]\n",
    "w=interactive(lambda x: x, x=Dropdown(options=dir_lst))\n",
    "display(w)"
   ]
  },
  {
   "cell_type": "code",
   "execution_count": 11,
   "metadata": {},
   "outputs": [
    {
     "name": "stdout",
     "output_type": "stream",
     "text": [
      "/global/cfs/cdirs/m3363/vayyar/cosmogan_data/results_from_other_code/pytorch/results/3d_cGAN/20210417_83132_train\n"
     ]
    }
   ],
   "source": [
    "result=w.result\n",
    "result_dir=parent_dir+result\n",
    "print(result_dir)"
   ]
  },
  {
   "cell_type": "markdown",
   "metadata": {},
   "source": [
    "## Plot Losses"
   ]
  },
  {
   "cell_type": "code",
   "execution_count": 12,
   "metadata": {},
   "outputs": [],
   "source": [
    "df_metrics=pd.read_pickle(result_dir+'/df_metrics.pkle').astype(np.float64)\n"
   ]
  },
  {
   "cell_type": "code",
   "execution_count": 13,
   "metadata": {},
   "outputs": [
    {
     "data": {
      "text/html": [
       "<div>\n",
       "<style scoped>\n",
       "    .dataframe tbody tr th:only-of-type {\n",
       "        vertical-align: middle;\n",
       "    }\n",
       "\n",
       "    .dataframe tbody tr th {\n",
       "        vertical-align: top;\n",
       "    }\n",
       "\n",
       "    .dataframe thead th {\n",
       "        text-align: right;\n",
       "    }\n",
       "</style>\n",
       "<table border=\"1\" class=\"dataframe\">\n",
       "  <thead>\n",
       "    <tr style=\"text-align: right;\">\n",
       "      <th></th>\n",
       "      <th>step</th>\n",
       "      <th>epoch</th>\n",
       "      <th>Dreal</th>\n",
       "      <th>Dfake</th>\n",
       "      <th>Dfull</th>\n",
       "      <th>G_adv</th>\n",
       "      <th>G_full</th>\n",
       "      <th>spec_loss</th>\n",
       "      <th>hist_loss</th>\n",
       "      <th>spec_chi</th>\n",
       "      <th>hist_chi</th>\n",
       "      <th>gp_loss</th>\n",
       "      <th>fm_loss</th>\n",
       "      <th>D(x)</th>\n",
       "      <th>D_G_z1</th>\n",
       "      <th>D_G_z2</th>\n",
       "      <th>time</th>\n",
       "    </tr>\n",
       "  </thead>\n",
       "  <tbody>\n",
       "    <tr>\n",
       "      <th>371</th>\n",
       "      <td>371.0</td>\n",
       "      <td>19.0</td>\n",
       "      <td>0.199596</td>\n",
       "      <td>0.152639</td>\n",
       "      <td>0.352234</td>\n",
       "      <td>4.484216</td>\n",
       "      <td>77.067612</td>\n",
       "      <td>72.583397</td>\n",
       "      <td>-0.471264</td>\n",
       "      <td>73.284920</td>\n",
       "      <td>-0.409979</td>\n",
       "      <td>NaN</td>\n",
       "      <td>NaN</td>\n",
       "      <td>3.482550</td>\n",
       "      <td>-3.711505</td>\n",
       "      <td>-4.471950</td>\n",
       "      <td>0.786783</td>\n",
       "    </tr>\n",
       "    <tr>\n",
       "      <th>372</th>\n",
       "      <td>372.0</td>\n",
       "      <td>19.0</td>\n",
       "      <td>0.117810</td>\n",
       "      <td>0.153068</td>\n",
       "      <td>0.270878</td>\n",
       "      <td>3.655792</td>\n",
       "      <td>73.350098</td>\n",
       "      <td>69.694305</td>\n",
       "      <td>-0.734962</td>\n",
       "      <td>71.519379</td>\n",
       "      <td>-0.587382</td>\n",
       "      <td>NaN</td>\n",
       "      <td>NaN</td>\n",
       "      <td>3.609508</td>\n",
       "      <td>-3.052129</td>\n",
       "      <td>-3.628520</td>\n",
       "      <td>0.782176</td>\n",
       "    </tr>\n",
       "    <tr>\n",
       "      <th>373</th>\n",
       "      <td>373.0</td>\n",
       "      <td>19.0</td>\n",
       "      <td>0.193253</td>\n",
       "      <td>0.136837</td>\n",
       "      <td>0.330091</td>\n",
       "      <td>3.492659</td>\n",
       "      <td>76.964806</td>\n",
       "      <td>73.472145</td>\n",
       "      <td>-0.477187</td>\n",
       "      <td>69.838806</td>\n",
       "      <td>-0.781809</td>\n",
       "      <td>NaN</td>\n",
       "      <td>NaN</td>\n",
       "      <td>3.672970</td>\n",
       "      <td>-3.325343</td>\n",
       "      <td>-3.461363</td>\n",
       "      <td>0.782550</td>\n",
       "    </tr>\n",
       "    <tr>\n",
       "      <th>374</th>\n",
       "      <td>374.0</td>\n",
       "      <td>19.0</td>\n",
       "      <td>0.185342</td>\n",
       "      <td>0.554608</td>\n",
       "      <td>0.739950</td>\n",
       "      <td>9.619604</td>\n",
       "      <td>78.600182</td>\n",
       "      <td>68.980576</td>\n",
       "      <td>-0.854531</td>\n",
       "      <td>70.816467</td>\n",
       "      <td>-0.813236</td>\n",
       "      <td>NaN</td>\n",
       "      <td>NaN</td>\n",
       "      <td>4.111964</td>\n",
       "      <td>-0.322273</td>\n",
       "      <td>-9.619518</td>\n",
       "      <td>0.787276</td>\n",
       "    </tr>\n",
       "    <tr>\n",
       "      <th>375</th>\n",
       "      <td>375.0</td>\n",
       "      <td>19.0</td>\n",
       "      <td>0.899325</td>\n",
       "      <td>0.292190</td>\n",
       "      <td>1.191516</td>\n",
       "      <td>8.254401</td>\n",
       "      <td>79.202980</td>\n",
       "      <td>70.948578</td>\n",
       "      <td>-0.699103</td>\n",
       "      <td>70.226166</td>\n",
       "      <td>-0.689657</td>\n",
       "      <td>NaN</td>\n",
       "      <td>NaN</td>\n",
       "      <td>-0.166657</td>\n",
       "      <td>-8.362399</td>\n",
       "      <td>-8.254133</td>\n",
       "      <td>0.788724</td>\n",
       "    </tr>\n",
       "    <tr>\n",
       "      <th>376</th>\n",
       "      <td>376.0</td>\n",
       "      <td>19.0</td>\n",
       "      <td>0.175931</td>\n",
       "      <td>0.209177</td>\n",
       "      <td>0.385108</td>\n",
       "      <td>5.757905</td>\n",
       "      <td>75.844444</td>\n",
       "      <td>70.086540</td>\n",
       "      <td>-0.579995</td>\n",
       "      <td>70.458084</td>\n",
       "      <td>-0.595573</td>\n",
       "      <td>NaN</td>\n",
       "      <td>NaN</td>\n",
       "      <td>2.939071</td>\n",
       "      <td>-6.821099</td>\n",
       "      <td>-5.754425</td>\n",
       "      <td>0.782827</td>\n",
       "    </tr>\n",
       "    <tr>\n",
       "      <th>377</th>\n",
       "      <td>377.0</td>\n",
       "      <td>19.0</td>\n",
       "      <td>0.215505</td>\n",
       "      <td>0.151355</td>\n",
       "      <td>0.366860</td>\n",
       "      <td>3.768818</td>\n",
       "      <td>74.878403</td>\n",
       "      <td>71.109589</td>\n",
       "      <td>-0.501173</td>\n",
       "      <td>70.457008</td>\n",
       "      <td>-0.547722</td>\n",
       "      <td>NaN</td>\n",
       "      <td>NaN</td>\n",
       "      <td>4.727272</td>\n",
       "      <td>-4.803219</td>\n",
       "      <td>-3.742311</td>\n",
       "      <td>0.783514</td>\n",
       "    </tr>\n",
       "    <tr>\n",
       "      <th>378</th>\n",
       "      <td>378.0</td>\n",
       "      <td>19.0</td>\n",
       "      <td>0.246706</td>\n",
       "      <td>0.289783</td>\n",
       "      <td>0.536489</td>\n",
       "      <td>5.468278</td>\n",
       "      <td>75.506134</td>\n",
       "      <td>70.037857</td>\n",
       "      <td>-0.473871</td>\n",
       "      <td>71.907227</td>\n",
       "      <td>-0.454970</td>\n",
       "      <td>NaN</td>\n",
       "      <td>NaN</td>\n",
       "      <td>5.784480</td>\n",
       "      <td>-1.449222</td>\n",
       "      <td>-5.463923</td>\n",
       "      <td>0.789883</td>\n",
       "    </tr>\n",
       "    <tr>\n",
       "      <th>379</th>\n",
       "      <td>379.0</td>\n",
       "      <td>19.0</td>\n",
       "      <td>0.138402</td>\n",
       "      <td>0.162568</td>\n",
       "      <td>0.300970</td>\n",
       "      <td>5.768815</td>\n",
       "      <td>76.430748</td>\n",
       "      <td>70.661934</td>\n",
       "      <td>-0.643543</td>\n",
       "      <td>70.582085</td>\n",
       "      <td>-0.553609</td>\n",
       "      <td>NaN</td>\n",
       "      <td>NaN</td>\n",
       "      <td>4.719500</td>\n",
       "      <td>-4.357688</td>\n",
       "      <td>-5.765564</td>\n",
       "      <td>0.783520</td>\n",
       "    </tr>\n",
       "    <tr>\n",
       "      <th>380</th>\n",
       "      <td>NaN</td>\n",
       "      <td>NaN</td>\n",
       "      <td>NaN</td>\n",
       "      <td>NaN</td>\n",
       "      <td>NaN</td>\n",
       "      <td>NaN</td>\n",
       "      <td>NaN</td>\n",
       "      <td>NaN</td>\n",
       "      <td>NaN</td>\n",
       "      <td>72.481384</td>\n",
       "      <td>-0.568249</td>\n",
       "      <td>NaN</td>\n",
       "      <td>NaN</td>\n",
       "      <td>NaN</td>\n",
       "      <td>NaN</td>\n",
       "      <td>NaN</td>\n",
       "      <td>NaN</td>\n",
       "    </tr>\n",
       "  </tbody>\n",
       "</table>\n",
       "</div>"
      ],
      "text/plain": [
       "      step  epoch     Dreal     Dfake     Dfull     G_adv     G_full  \\\n",
       "371  371.0   19.0  0.199596  0.152639  0.352234  4.484216  77.067612   \n",
       "372  372.0   19.0  0.117810  0.153068  0.270878  3.655792  73.350098   \n",
       "373  373.0   19.0  0.193253  0.136837  0.330091  3.492659  76.964806   \n",
       "374  374.0   19.0  0.185342  0.554608  0.739950  9.619604  78.600182   \n",
       "375  375.0   19.0  0.899325  0.292190  1.191516  8.254401  79.202980   \n",
       "376  376.0   19.0  0.175931  0.209177  0.385108  5.757905  75.844444   \n",
       "377  377.0   19.0  0.215505  0.151355  0.366860  3.768818  74.878403   \n",
       "378  378.0   19.0  0.246706  0.289783  0.536489  5.468278  75.506134   \n",
       "379  379.0   19.0  0.138402  0.162568  0.300970  5.768815  76.430748   \n",
       "380    NaN    NaN       NaN       NaN       NaN       NaN        NaN   \n",
       "\n",
       "     spec_loss  hist_loss   spec_chi  hist_chi  gp_loss  fm_loss      D(x)  \\\n",
       "371  72.583397  -0.471264  73.284920 -0.409979      NaN      NaN  3.482550   \n",
       "372  69.694305  -0.734962  71.519379 -0.587382      NaN      NaN  3.609508   \n",
       "373  73.472145  -0.477187  69.838806 -0.781809      NaN      NaN  3.672970   \n",
       "374  68.980576  -0.854531  70.816467 -0.813236      NaN      NaN  4.111964   \n",
       "375  70.948578  -0.699103  70.226166 -0.689657      NaN      NaN -0.166657   \n",
       "376  70.086540  -0.579995  70.458084 -0.595573      NaN      NaN  2.939071   \n",
       "377  71.109589  -0.501173  70.457008 -0.547722      NaN      NaN  4.727272   \n",
       "378  70.037857  -0.473871  71.907227 -0.454970      NaN      NaN  5.784480   \n",
       "379  70.661934  -0.643543  70.582085 -0.553609      NaN      NaN  4.719500   \n",
       "380        NaN        NaN  72.481384 -0.568249      NaN      NaN       NaN   \n",
       "\n",
       "       D_G_z1    D_G_z2      time  \n",
       "371 -3.711505 -4.471950  0.786783  \n",
       "372 -3.052129 -3.628520  0.782176  \n",
       "373 -3.325343 -3.461363  0.782550  \n",
       "374 -0.322273 -9.619518  0.787276  \n",
       "375 -8.362399 -8.254133  0.788724  \n",
       "376 -6.821099 -5.754425  0.782827  \n",
       "377 -4.803219 -3.742311  0.783514  \n",
       "378 -1.449222 -5.463923  0.789883  \n",
       "379 -4.357688 -5.765564  0.783520  \n",
       "380       NaN       NaN       NaN  "
      ]
     },
     "execution_count": 13,
     "metadata": {},
     "output_type": "execute_result"
    }
   ],
   "source": [
    "df_metrics.tail(10)"
   ]
  },
  {
   "cell_type": "code",
   "execution_count": 14,
   "metadata": {},
   "outputs": [
    {
     "data": {
      "application/vnd.jupyter.widget-view+json": {
       "model_id": "05aeda7987c24334975f19821ae6d012",
       "version_major": 2,
       "version_minor": 0
      },
      "text/plain": [
       "interactive(children=(SelectMultiple(description='col_list', options=('step', 'epoch', 'Dreal', 'Dfake', 'Dful…"
      ]
     },
     "metadata": {},
     "output_type": "display_data"
    },
    {
     "data": {
      "text/plain": [
       "<function __main__.f_plot_metrics(df, col_list)>"
      ]
     },
     "execution_count": 14,
     "metadata": {},
     "output_type": "execute_result"
    }
   ],
   "source": [
    "def f_plot_metrics(df,col_list):\n",
    "    \n",
    "    plt.figure()\n",
    "    for key in col_list:\n",
    "        plt.plot(df_metrics[key],label=key,marker='*',linestyle='')\n",
    "    plt.legend()\n",
    "    \n",
    "#     col_list=list(col_list)\n",
    "#     df.plot(kind='line',x='step',y=col_list)\n",
    "    \n",
    "# f_plot_metrics(df_metrics,['spec_chi','hist_chi'])\n",
    "\n",
    "interact_manual(f_plot_metrics,df=fixed(df_metrics), col_list=SelectMultiple(options=df_metrics.columns.values))"
   ]
  },
  {
   "cell_type": "code",
   "execution_count": 16,
   "metadata": {},
   "outputs": [
    {
     "name": "stdout",
     "output_type": "stream",
     "text": [
      "-0.9493226528167724\n"
     ]
    },
    {
     "data": {
      "text/html": [
       "<div>\n",
       "<style scoped>\n",
       "    .dataframe tbody tr th:only-of-type {\n",
       "        vertical-align: middle;\n",
       "    }\n",
       "\n",
       "    .dataframe tbody tr th {\n",
       "        vertical-align: top;\n",
       "    }\n",
       "\n",
       "    .dataframe thead th {\n",
       "        text-align: right;\n",
       "    }\n",
       "</style>\n",
       "<table border=\"1\" class=\"dataframe\">\n",
       "  <thead>\n",
       "    <tr style=\"text-align: right;\">\n",
       "      <th></th>\n",
       "      <th>step</th>\n",
       "      <th>epoch</th>\n",
       "      <th>Dreal</th>\n",
       "      <th>Dfake</th>\n",
       "      <th>Dfull</th>\n",
       "      <th>G_adv</th>\n",
       "      <th>G_full</th>\n",
       "      <th>spec_loss</th>\n",
       "      <th>hist_loss</th>\n",
       "      <th>spec_chi</th>\n",
       "      <th>hist_chi</th>\n",
       "      <th>gp_loss</th>\n",
       "      <th>fm_loss</th>\n",
       "      <th>D(x)</th>\n",
       "      <th>D_G_z1</th>\n",
       "      <th>D_G_z2</th>\n",
       "      <th>time</th>\n",
       "    </tr>\n",
       "  </thead>\n",
       "  <tbody>\n",
       "    <tr>\n",
       "      <th>196</th>\n",
       "      <td>196.0</td>\n",
       "      <td>10.0</td>\n",
       "      <td>0.255672</td>\n",
       "      <td>0.166384</td>\n",
       "      <td>0.422056</td>\n",
       "      <td>3.873117</td>\n",
       "      <td>74.567390</td>\n",
       "      <td>70.694275</td>\n",
       "      <td>-1.102573</td>\n",
       "      <td>70.489426</td>\n",
       "      <td>-1.441371</td>\n",
       "      <td>NaN</td>\n",
       "      <td>NaN</td>\n",
       "      <td>2.698059</td>\n",
       "      <td>-4.758949</td>\n",
       "      <td>-3.848714</td>\n",
       "      <td>0.794774</td>\n",
       "    </tr>\n",
       "    <tr>\n",
       "      <th>251</th>\n",
       "      <td>251.0</td>\n",
       "      <td>13.0</td>\n",
       "      <td>0.244835</td>\n",
       "      <td>0.149475</td>\n",
       "      <td>0.394310</td>\n",
       "      <td>5.994916</td>\n",
       "      <td>78.235580</td>\n",
       "      <td>72.240662</td>\n",
       "      <td>-1.211641</td>\n",
       "      <td>71.676880</td>\n",
       "      <td>-1.399980</td>\n",
       "      <td>NaN</td>\n",
       "      <td>NaN</td>\n",
       "      <td>4.016761</td>\n",
       "      <td>-2.543374</td>\n",
       "      <td>-5.992193</td>\n",
       "      <td>0.790036</td>\n",
       "    </tr>\n",
       "    <tr>\n",
       "      <th>197</th>\n",
       "      <td>197.0</td>\n",
       "      <td>10.0</td>\n",
       "      <td>0.167268</td>\n",
       "      <td>0.130952</td>\n",
       "      <td>0.298220</td>\n",
       "      <td>3.039218</td>\n",
       "      <td>74.236282</td>\n",
       "      <td>71.197067</td>\n",
       "      <td>-1.290503</td>\n",
       "      <td>70.334488</td>\n",
       "      <td>-1.386512</td>\n",
       "      <td>NaN</td>\n",
       "      <td>NaN</td>\n",
       "      <td>4.282423</td>\n",
       "      <td>-2.911951</td>\n",
       "      <td>-2.982840</td>\n",
       "      <td>0.793895</td>\n",
       "    </tr>\n",
       "    <tr>\n",
       "      <th>254</th>\n",
       "      <td>254.0</td>\n",
       "      <td>13.0</td>\n",
       "      <td>1.533864</td>\n",
       "      <td>0.188706</td>\n",
       "      <td>1.722569</td>\n",
       "      <td>6.870433</td>\n",
       "      <td>78.022621</td>\n",
       "      <td>71.152191</td>\n",
       "      <td>-1.342464</td>\n",
       "      <td>70.776665</td>\n",
       "      <td>-1.383763</td>\n",
       "      <td>NaN</td>\n",
       "      <td>NaN</td>\n",
       "      <td>-0.933267</td>\n",
       "      <td>-6.077430</td>\n",
       "      <td>-6.869147</td>\n",
       "      <td>0.797087</td>\n",
       "    </tr>\n",
       "    <tr>\n",
       "      <th>260</th>\n",
       "      <td>260.0</td>\n",
       "      <td>13.0</td>\n",
       "      <td>0.289823</td>\n",
       "      <td>1.395278</td>\n",
       "      <td>1.685101</td>\n",
       "      <td>8.081047</td>\n",
       "      <td>80.255989</td>\n",
       "      <td>72.174942</td>\n",
       "      <td>-1.265628</td>\n",
       "      <td>69.996452</td>\n",
       "      <td>-1.377975</td>\n",
       "      <td>NaN</td>\n",
       "      <td>NaN</td>\n",
       "      <td>5.306680</td>\n",
       "      <td>1.148370</td>\n",
       "      <td>-8.080603</td>\n",
       "      <td>0.792945</td>\n",
       "    </tr>\n",
       "    <tr>\n",
       "      <th>255</th>\n",
       "      <td>255.0</td>\n",
       "      <td>13.0</td>\n",
       "      <td>0.542144</td>\n",
       "      <td>0.196026</td>\n",
       "      <td>0.738170</td>\n",
       "      <td>1.812387</td>\n",
       "      <td>73.534164</td>\n",
       "      <td>71.721779</td>\n",
       "      <td>-1.114525</td>\n",
       "      <td>70.515656</td>\n",
       "      <td>-1.372329</td>\n",
       "      <td>NaN</td>\n",
       "      <td>NaN</td>\n",
       "      <td>1.318543</td>\n",
       "      <td>-2.358688</td>\n",
       "      <td>-1.624998</td>\n",
       "      <td>0.794924</td>\n",
       "    </tr>\n",
       "    <tr>\n",
       "      <th>259</th>\n",
       "      <td>259.0</td>\n",
       "      <td>13.0</td>\n",
       "      <td>0.264219</td>\n",
       "      <td>0.143264</td>\n",
       "      <td>0.407483</td>\n",
       "      <td>2.229663</td>\n",
       "      <td>73.036148</td>\n",
       "      <td>70.806488</td>\n",
       "      <td>-1.200136</td>\n",
       "      <td>70.261444</td>\n",
       "      <td>-1.360811</td>\n",
       "      <td>NaN</td>\n",
       "      <td>NaN</td>\n",
       "      <td>3.648841</td>\n",
       "      <td>-2.715520</td>\n",
       "      <td>-2.107554</td>\n",
       "      <td>0.795797</td>\n",
       "    </tr>\n",
       "    <tr>\n",
       "      <th>195</th>\n",
       "      <td>195.0</td>\n",
       "      <td>10.0</td>\n",
       "      <td>0.213229</td>\n",
       "      <td>0.147960</td>\n",
       "      <td>0.361190</td>\n",
       "      <td>6.326405</td>\n",
       "      <td>80.506004</td>\n",
       "      <td>74.179596</td>\n",
       "      <td>-1.134458</td>\n",
       "      <td>70.536980</td>\n",
       "      <td>-1.333313</td>\n",
       "      <td>NaN</td>\n",
       "      <td>NaN</td>\n",
       "      <td>2.082888</td>\n",
       "      <td>-5.753618</td>\n",
       "      <td>-6.323950</td>\n",
       "      <td>0.798387</td>\n",
       "    </tr>\n",
       "    <tr>\n",
       "      <th>277</th>\n",
       "      <td>277.0</td>\n",
       "      <td>14.0</td>\n",
       "      <td>0.178513</td>\n",
       "      <td>0.208458</td>\n",
       "      <td>0.386971</td>\n",
       "      <td>4.306799</td>\n",
       "      <td>74.513046</td>\n",
       "      <td>70.206245</td>\n",
       "      <td>-1.189903</td>\n",
       "      <td>70.895844</td>\n",
       "      <td>-1.332344</td>\n",
       "      <td>NaN</td>\n",
       "      <td>NaN</td>\n",
       "      <td>5.199939</td>\n",
       "      <td>-1.785031</td>\n",
       "      <td>-4.289037</td>\n",
       "      <td>0.803953</td>\n",
       "    </tr>\n",
       "    <tr>\n",
       "      <th>256</th>\n",
       "      <td>256.0</td>\n",
       "      <td>13.0</td>\n",
       "      <td>0.202685</td>\n",
       "      <td>1.434445</td>\n",
       "      <td>1.637130</td>\n",
       "      <td>8.601116</td>\n",
       "      <td>78.797638</td>\n",
       "      <td>70.196526</td>\n",
       "      <td>-1.526126</td>\n",
       "      <td>70.486290</td>\n",
       "      <td>-1.312529</td>\n",
       "      <td>NaN</td>\n",
       "      <td>NaN</td>\n",
       "      <td>3.307754</td>\n",
       "      <td>1.196354</td>\n",
       "      <td>-8.600885</td>\n",
       "      <td>0.808109</td>\n",
       "    </tr>\n",
       "  </tbody>\n",
       "</table>\n",
       "</div>"
      ],
      "text/plain": [
       "      step  epoch     Dreal     Dfake     Dfull     G_adv     G_full  \\\n",
       "196  196.0   10.0  0.255672  0.166384  0.422056  3.873117  74.567390   \n",
       "251  251.0   13.0  0.244835  0.149475  0.394310  5.994916  78.235580   \n",
       "197  197.0   10.0  0.167268  0.130952  0.298220  3.039218  74.236282   \n",
       "254  254.0   13.0  1.533864  0.188706  1.722569  6.870433  78.022621   \n",
       "260  260.0   13.0  0.289823  1.395278  1.685101  8.081047  80.255989   \n",
       "255  255.0   13.0  0.542144  0.196026  0.738170  1.812387  73.534164   \n",
       "259  259.0   13.0  0.264219  0.143264  0.407483  2.229663  73.036148   \n",
       "195  195.0   10.0  0.213229  0.147960  0.361190  6.326405  80.506004   \n",
       "277  277.0   14.0  0.178513  0.208458  0.386971  4.306799  74.513046   \n",
       "256  256.0   13.0  0.202685  1.434445  1.637130  8.601116  78.797638   \n",
       "\n",
       "     spec_loss  hist_loss   spec_chi  hist_chi  gp_loss  fm_loss      D(x)  \\\n",
       "196  70.694275  -1.102573  70.489426 -1.441371      NaN      NaN  2.698059   \n",
       "251  72.240662  -1.211641  71.676880 -1.399980      NaN      NaN  4.016761   \n",
       "197  71.197067  -1.290503  70.334488 -1.386512      NaN      NaN  4.282423   \n",
       "254  71.152191  -1.342464  70.776665 -1.383763      NaN      NaN -0.933267   \n",
       "260  72.174942  -1.265628  69.996452 -1.377975      NaN      NaN  5.306680   \n",
       "255  71.721779  -1.114525  70.515656 -1.372329      NaN      NaN  1.318543   \n",
       "259  70.806488  -1.200136  70.261444 -1.360811      NaN      NaN  3.648841   \n",
       "195  74.179596  -1.134458  70.536980 -1.333313      NaN      NaN  2.082888   \n",
       "277  70.206245  -1.189903  70.895844 -1.332344      NaN      NaN  5.199939   \n",
       "256  70.196526  -1.526126  70.486290 -1.312529      NaN      NaN  3.307754   \n",
       "\n",
       "       D_G_z1    D_G_z2      time  \n",
       "196 -4.758949 -3.848714  0.794774  \n",
       "251 -2.543374 -5.992193  0.790036  \n",
       "197 -2.911951 -2.982840  0.793895  \n",
       "254 -6.077430 -6.869147  0.797087  \n",
       "260  1.148370 -8.080603  0.792945  \n",
       "255 -2.358688 -1.624998  0.794924  \n",
       "259 -2.715520 -2.107554  0.795797  \n",
       "195 -5.753618 -6.323950  0.798387  \n",
       "277 -1.785031 -4.289037  0.803953  \n",
       "256  1.196354 -8.600885  0.808109  "
      ]
     },
     "execution_count": 16,
     "metadata": {},
     "output_type": "execute_result"
    }
   ],
   "source": [
    "\n",
    "chi=df_metrics.quantile(q=0.2,axis=0)['hist_chi']\n",
    "print(chi)\n",
    "df_metrics[(df_metrics['hist_chi']<=chi)&(df_metrics.epoch>1)].sort_values(by=['hist_chi']).head(10)"
   ]
  },
  {
   "cell_type": "code",
   "execution_count": 17,
   "metadata": {},
   "outputs": [],
   "source": [
    "# display(df_metrics.sort_values(by=['hist_chi']).head(8))\n",
    "# display(df_metrics.sort_values(by=['spec_chi']).head(8))"
   ]
  },
  {
   "cell_type": "markdown",
   "metadata": {},
   "source": [
    "<!-- ### Read validation data -->"
   ]
  },
  {
   "cell_type": "markdown",
   "metadata": {},
   "source": [
    "## Read stored chi-squares for images"
   ]
  },
  {
   "cell_type": "code",
   "execution_count": 18,
   "metadata": {},
   "outputs": [],
   "source": [
    "## Get sigma list from saved files\n",
    "flist=glob.glob(result_dir+'/df_processed*')\n",
    "sigma_lst=[i.split('/')[-1].split('df_processed_')[-1].split('.pkle')[0] for i in flist]\n",
    "sigma_lst.sort() ### Sorting is important for labels to match !!\n",
    "\n",
    "labels_lst=np.arange(len(sigma_lst))"
   ]
  },
  {
   "cell_type": "code",
   "execution_count": 19,
   "metadata": {},
   "outputs": [
    {
     "data": {
      "text/plain": [
       "(['0.5', '0.8', '1.1'], array([0, 1, 2]))"
      ]
     },
     "execution_count": 19,
     "metadata": {},
     "output_type": "execute_result"
    }
   ],
   "source": [
    "sigma_lst,labels_lst"
   ]
  },
  {
   "cell_type": "code",
   "execution_count": 20,
   "metadata": {},
   "outputs": [],
   "source": [
    "### Create a merged dataframe\n",
    "\n",
    "df_list=[]\n",
    "for label in labels_lst:\n",
    "    df=pd.read_pickle(result_dir+'/df_processed_{0}.pkle'.format(str(sigma_lst[label])))\n",
    "    df[['epoch','step']]=df[['epoch','step']].astype(int)\n",
    "    df['label']=df.epoch.astype(str)+'-'+df.step.astype(str) # Add label column for plotting\n",
    "    df_list.append(df)\n",
    "\n",
    "for i,df in enumerate(df_list):\n",
    "    df1=df.add_suffix('_'+str(i))\n",
    "    # renaming the columns to be joined on\n",
    "    keys=['epoch','step','img_type','label']\n",
    "    rename_cols_dict={key+'_'+str(i):key for key in keys}\n",
    "#     print(rename_cols_dict)\n",
    "    df1.rename(columns=rename_cols_dict,inplace=True) \n",
    "    df_list[i]=df1\n",
    "    \n",
    "df_merged=reduce(lambda x, y : pd.merge(x, y, on = ['step','epoch','img_type','label']), df_list)\n",
    "\n",
    "### Get sum of all 4 classes for 3 types of chi-squares\n",
    "for chi_type in ['chi_1','chi_spec1','chi_1c']:\n",
    "    keys=[chi_type+'_'+str(label) for label in labels_lst]\n",
    "#     display(df_merged[keys].sum(axis=1))\n",
    "    df_merged['sum_'+chi_type]=df_merged[keys].sum(axis=1)\n",
    "del df_list\n",
    "\n"
   ]
  },
  {
   "cell_type": "code",
   "execution_count": 21,
   "metadata": {},
   "outputs": [],
   "source": [
    "\n",
    "def f_plot_hist_spec(df,param_labels,sigma_lst,steps_list,bkg_dict,plot_type):\n",
    "\n",
    "    img_size=64\n",
    "    assert plot_type in ['hist','spec','grid','spec_relative'],\"Invalid mode %s\"%(plot_type)\n",
    "\n",
    "    if plot_type in ['hist','spec','spec_relative']:     fig=plt.figure(figsize=(6,6))\n",
    "    for par_label in param_labels:\n",
    "        df=df[df.step.isin(steps_list)]\n",
    "#         print(df.shape)\n",
    "        idx=sigma_lst.index(par_label)\n",
    "        suffix='_%s'%(idx)\n",
    "        dict_bkg=bkg_dict[str(par_label)]\n",
    "        \n",
    "        for (i,row),marker in zip(df.iterrows(),itertools.cycle('>^*sDHPdpx_')):\n",
    "            label=row.label+'_'+str(par_label)\n",
    "            if plot_type=='hist':\n",
    "                x1=row['hist_bin_centers'+suffix]\n",
    "                y1=row['hist_val'+suffix]\n",
    "                yerr1=row['hist_err'+suffix]\n",
    "                x1=f_invtransform(x1)\n",
    "                \n",
    "                plt.errorbar(x1,y1,yerr1,marker=marker,markersize=5,linestyle='',label=label)\n",
    "            if plot_type=='spec':\n",
    "                y2=row['spec_val'+suffix]\n",
    "                yerr2=row['spec_sdev'+suffix]/np.sqrt(row['num_imgs'+suffix])\n",
    "                x2=np.arange(len(y2))\n",
    "\n",
    "                plt.fill_between(x2, y2 - yerr2, y2 + yerr2, alpha=0.4)\n",
    "                plt.plot(x2, y2, marker=marker, linestyle=':',label=label)\n",
    "\n",
    "            if plot_type=='spec_relative':\n",
    "\n",
    "                y2=row['spec_val'+suffix]\n",
    "                yerr2=row['spec_sdev'+suffix]\n",
    "                x2=np.arange(len(y2))\n",
    "\n",
    "                ### Reference spectrum\n",
    "                y1,yerr1=dict_bkg['spec_val'],dict_bkg['spec_sdev']\n",
    "                y=y2/y1\n",
    "                ## Variance is sum of variance of both variables, since they are uncorrelated\n",
    "\n",
    "                # delta_r= |r| * sqrt(delta_a/a)^2 +(\\delta_b/b)^2) / \\sqrt(N)\n",
    "                yerr=(np.abs(y))*np.sqrt((yerr1/y1)**2+(yerr2/y2)**2)/np.sqrt(row['num_imgs'+suffix])\n",
    "                \n",
    "                plt.fill_between(x2, y - yerr, y + yerr, alpha=0.4)\n",
    "                plt.plot(x2, y, marker=marker, linestyle=':',label=label)\n",
    "\n",
    "            if plot_type=='grid':\n",
    "                images=np.load(row.fname)[:,:,:,0]\n",
    "                print(images.shape)\n",
    "                f_plot_grid(images[:18],cols=6,fig_size=(10,5))\n",
    "            \n",
    "        ### Plot reference data\n",
    "        if plot_type=='hist':\n",
    "            x,y,yerr=dict_bkg['hist_bin_centers'],dict_bkg['hist_val'],dict_bkg['hist_err']\n",
    "            x=f_invtransform(x)\n",
    "            plt.errorbar(x, y,yerr,color='k',linestyle='-',label='bkgnd')   \n",
    "            plt.title('Pixel Intensity Histogram')\n",
    "            plt.xscale('symlog',linthreshx=50)\n",
    "        \n",
    "        if plot_type=='spec':\n",
    "            y,yerr=dict_bkg['spec_val'],dict_bkg['spec_sdev']/np.sqrt(num_bkgnd)\n",
    "            x=np.arange(len(y))\n",
    "            plt.fill_between(x, y - yerr, y + yerr, color='k',alpha=0.8)\n",
    "            plt.title('Spectrum')\n",
    "            plt.xlim(0,img_size/2)\n",
    "\n",
    "        if plot_type=='spec_relative':\n",
    "            plt.axhline(y=1.0,color='k',linestyle='-.')\n",
    "            plt.title(\"Relative spectrum\")\n",
    "            plt.xlim(0,img_size/2)\n",
    "            plt.ylim(0.5,2)\n",
    "\n",
    "    if plot_type in ['hist','spec']:     \n",
    "        plt.yscale('log')\n",
    "    plt.legend(bbox_to_anchor=(0.3, 0.75),ncol=2, fancybox=True, shadow=True,prop={'size':6})\n",
    "\n",
    "\n",
    "# f_plot_hist_spec(df_merged,[sigma_lst[-1]],sigma_lst,[best_step[0]],bkgnd_dict,'hist')"
   ]
  },
  {
   "cell_type": "markdown",
   "metadata": {},
   "source": [
    "### Slice best steps"
   ]
  },
  {
   "cell_type": "code",
   "execution_count": 22,
   "metadata": {},
   "outputs": [],
   "source": [
    "def f_slice_merged_df(df,cutoff=0.2,sort_col='chi_1',col_mode='all',label='all',params_lst=[0,1,2],head=10,epoch_range=[0,None],use_sum=True,display_flag=False):\n",
    "    ''' View dataframe after slicing\n",
    "    '''\n",
    "\n",
    "    if epoch_range[1]==None: epoch_range[1]=df.max()['epoch']\n",
    "    df=df[(df.epoch<=epoch_range[1])&(df.epoch>=epoch_range[0])]\n",
    "\n",
    "    ######### Apply cutoff to keep reasonable chi1 and chispec1\n",
    "    #### Add chi-square columns to use\n",
    "    chi_cols=[]\n",
    "    if use_sum: ## Add sum chi-square columns\n",
    "        for j in ['chi_1','chi_spec1','chi_1c']: chi_cols.append('sum_'+j)\n",
    "        \n",
    "    if label=='all': ### Add chi-squares for all labels\n",
    "        for j in ['chi_1','chi_spec1','chi_1c']:\n",
    "            for idx,i in enumerate(params_lst): chi_cols.append(j+'_'+str(idx))\n",
    "    else: ## Add chi-square for specific label\n",
    "        assert label in params_lst, \"label %s is not in %s\"%(label,params_lst)\n",
    "        label_idx=params_lst.index(label)\n",
    "        print(label_idx)\n",
    "        for j in ['chi_1','chi_spec1','chi_1c']: chi_cols.append(j+'_'+str(label_idx))\n",
    "#     print(chi_cols)\n",
    "    q_dict=dict(df_merged.quantile(q=cutoff,axis=0)[chi_cols])\n",
    "    # print(q_dict)\n",
    "    strg=['%s < %s'%(key,q_dict[key]) for key in chi_cols ]\n",
    "    query=\" & \".join(strg)\n",
    "    # print(query)\n",
    "    df=df.query(query)\n",
    "    \n",
    "    # Sort dataframe\n",
    "    df1=df[df.epoch>0].sort_values(by=sort_col)\n",
    "    chis=[i for i in df_merged.columns if 'chi' in i]\n",
    "    col_list=['label']+chis+['epoch','step']\n",
    "    if (col_mode=='short'): \n",
    "        col_list=['label']+[i for i in df_merged.columns if i.startswith('sum')]\n",
    "        col_list=['label']+chi_cols\n",
    "    df2=df1.head(head)[col_list]\n",
    "    \n",
    "    if display_flag: display(df2) # Display df\n",
    "    \n",
    "    return df2\n",
    "\n",
    "# f_slice_merged_df(df_merged,cutoff=0.3,sort_col='sum_chi_1',label=0.65,params_lst=[0.5,0.65,0.8,1.1],use_sum=True,head=2000,display_flag=False,epoch_range=[7,None])"
   ]
  },
  {
   "cell_type": "code",
   "execution_count": 23,
   "metadata": {},
   "outputs": [
    {
     "data": {
      "application/vnd.jupyter.widget-view+json": {
       "model_id": "be62aba19238420297c83942de89da4a",
       "version_major": 2,
       "version_minor": 0
      },
      "text/plain": [
       "interactive(children=(FloatSlider(value=0.3, description='cutoff', max=1.0, step=0.01), Dropdown(description='…"
      ]
     },
     "metadata": {},
     "output_type": "display_data"
    }
   ],
   "source": [
    "cols_to_sort=np.unique([i for i in df_merged.columns for j in ['chi_1_','chi_spec1_'] if ((i.startswith(j)) or (i.startswith('sum')))])\n",
    "\n",
    "w=interactive(f_slice_merged_df,df=fixed(df_merged),\n",
    "cutoff=widgets.FloatSlider(value=0.3, min=0, max=1.0, step=0.01), \n",
    "col_mode=['all','short'], display_flag=widgets.Checkbox(value=False),\n",
    "use_sum=widgets.Checkbox(value=True),\n",
    "label=ToggleButtons(options=['all']+sigma_lst), params_lst=fixed(sigma_lst),\n",
    "head=widgets.IntSlider(value=10,min=1,max=20,step=1),\n",
    "epoch_range=widgets.IntRangeSlider(value=[0,np.max(df.epoch.values)],min=0,max=np.max(df.epoch.values),step=1),\n",
    "sort_col=cols_to_sort\n",
    ")\n",
    "display(w)"
   ]
  },
  {
   "cell_type": "code",
   "execution_count": 24,
   "metadata": {},
   "outputs": [],
   "source": [
    "df_sliced=w.result\n",
    "# df_sliced"
   ]
  },
  {
   "cell_type": "code",
   "execution_count": 25,
   "metadata": {},
   "outputs": [
    {
     "name": "stdout",
     "output_type": "stream",
     "text": [
      "[150 220 280 320 350 360 370 380]\n"
     ]
    },
    {
     "data": {
      "text/plain": [
       "array([150, 220, 280, 320, 350, 360, 370, 380])"
      ]
     },
     "execution_count": 25,
     "metadata": {},
     "output_type": "execute_result"
    }
   ],
   "source": [
    "best_step=[]\n",
    "\n",
    "best_step.append(f_slice_merged_df(df_merged,cutoff=0.9,sort_col='sum_chi_1',label='all',use_sum=True,head=4,display_flag=False,epoch_range=[7,None],params_lst=sigma_lst).step.values)\n",
    "best_step.append(f_slice_merged_df(df_merged,cutoff=0.9,sort_col='sum_chi_spec1',label='all',use_sum=True,head=4,display_flag=False,epoch_range=[7,None],params_lst=sigma_lst).step.values)\n",
    "best_step.append(f_slice_merged_df(df_merged,cutoff=0.9,sort_col='sum_chi_1c',label='all',use_sum=True,head=2,display_flag=False,epoch_range=[7,None],params_lst=sigma_lst).step.values)\n",
    "\n",
    "# best_step.append([46669,34281])\n",
    "best_step=np.unique([i for j in best_step for i in j])\n",
    "print(best_step)\n",
    "best_step"
   ]
  },
  {
   "cell_type": "code",
   "execution_count": 26,
   "metadata": {},
   "outputs": [],
   "source": [
    "# best_step=[6176]\n",
    "# best_step= [32300, 35810, 36020, 37030, 38640, 42480, 43850]\n",
    "\n",
    "# best_step=np.arange(40130,40135).astype(int)"
   ]
  },
  {
   "cell_type": "code",
   "execution_count": null,
   "metadata": {},
   "outputs": [],
   "source": []
  },
  {
   "cell_type": "code",
   "execution_count": 27,
   "metadata": {},
   "outputs": [
    {
     "name": "stdout",
     "output_type": "stream",
     "text": [
      "(8, 61)\n",
      "[(7, 150), (11, 220), (14, 280), (16, 320), (18, 350), (18, 360), (19, 370), (19, 380)]\n"
     ]
    }
   ],
   "source": [
    "df_best=df_merged[df_merged.step.isin(best_step)]\n",
    "print(df_best.shape)\n",
    "print([(df_best[df_best.step==step].epoch.values[0],df_best[df_best.step==step].step.values[0]) for step in best_step])\n",
    "# print([(df_best.loc[idx].epoch,df_best.loc[idx].step) for idx in best_idx])"
   ]
  },
  {
   "cell_type": "code",
   "execution_count": 28,
   "metadata": {},
   "outputs": [
    {
     "data": {
      "text/html": [
       "<div>\n",
       "<style scoped>\n",
       "    .dataframe tbody tr th:only-of-type {\n",
       "        vertical-align: middle;\n",
       "    }\n",
       "\n",
       "    .dataframe tbody tr th {\n",
       "        vertical-align: top;\n",
       "    }\n",
       "\n",
       "    .dataframe thead th {\n",
       "        text-align: right;\n",
       "    }\n",
       "</style>\n",
       "<table border=\"1\" class=\"dataframe\">\n",
       "  <thead>\n",
       "    <tr style=\"text-align: right;\">\n",
       "      <th></th>\n",
       "      <th>label</th>\n",
       "      <th>sum_chi_1</th>\n",
       "      <th>sum_chi_spec1</th>\n",
       "      <th>sum_chi_1c</th>\n",
       "    </tr>\n",
       "  </thead>\n",
       "  <tbody>\n",
       "    <tr>\n",
       "      <th>14</th>\n",
       "      <td>7-150</td>\n",
       "      <td>0.565518</td>\n",
       "      <td>4608.142089</td>\n",
       "      <td>0.0</td>\n",
       "    </tr>\n",
       "    <tr>\n",
       "      <th>21</th>\n",
       "      <td>11-220</td>\n",
       "      <td>0.594530</td>\n",
       "      <td>887.058494</td>\n",
       "      <td>0.0</td>\n",
       "    </tr>\n",
       "    <tr>\n",
       "      <th>27</th>\n",
       "      <td>14-280</td>\n",
       "      <td>0.507987</td>\n",
       "      <td>6175.550881</td>\n",
       "      <td>0.0</td>\n",
       "    </tr>\n",
       "    <tr>\n",
       "      <th>31</th>\n",
       "      <td>16-320</td>\n",
       "      <td>0.417079</td>\n",
       "      <td>1092.575674</td>\n",
       "      <td>0.0</td>\n",
       "    </tr>\n",
       "    <tr>\n",
       "      <th>34</th>\n",
       "      <td>18-350</td>\n",
       "      <td>0.509773</td>\n",
       "      <td>887.085584</td>\n",
       "      <td>0.0</td>\n",
       "    </tr>\n",
       "    <tr>\n",
       "      <th>35</th>\n",
       "      <td>18-360</td>\n",
       "      <td>0.457323</td>\n",
       "      <td>862.883473</td>\n",
       "      <td>0.0</td>\n",
       "    </tr>\n",
       "    <tr>\n",
       "      <th>36</th>\n",
       "      <td>19-370</td>\n",
       "      <td>1.991047</td>\n",
       "      <td>751.086385</td>\n",
       "      <td>0.0</td>\n",
       "    </tr>\n",
       "    <tr>\n",
       "      <th>37</th>\n",
       "      <td>19-380</td>\n",
       "      <td>0.539789</td>\n",
       "      <td>612.233053</td>\n",
       "      <td>0.0</td>\n",
       "    </tr>\n",
       "  </tbody>\n",
       "</table>\n",
       "</div>"
      ],
      "text/plain": [
       "     label  sum_chi_1  sum_chi_spec1  sum_chi_1c\n",
       "14   7-150   0.565518    4608.142089         0.0\n",
       "21  11-220   0.594530     887.058494         0.0\n",
       "27  14-280   0.507987    6175.550881         0.0\n",
       "31  16-320   0.417079    1092.575674         0.0\n",
       "34  18-350   0.509773     887.085584         0.0\n",
       "35  18-360   0.457323     862.883473         0.0\n",
       "36  19-370   1.991047     751.086385         0.0\n",
       "37  19-380   0.539789     612.233053         0.0"
      ]
     },
     "execution_count": 28,
     "metadata": {},
     "output_type": "execute_result"
    }
   ],
   "source": [
    "col_list=['label']+[i for i in df_merged.columns if i.startswith('sum')]\n",
    "\n",
    "df_best[col_list]"
   ]
  },
  {
   "cell_type": "markdown",
   "metadata": {},
   "source": [
    "### Interactive plot"
   ]
  },
  {
   "cell_type": "code",
   "execution_count": 29,
   "metadata": {},
   "outputs": [
    {
     "data": {
      "application/vnd.jupyter.widget-view+json": {
       "model_id": "6ff0781bdec84de993d4ebda7e76feef",
       "version_major": 2,
       "version_minor": 0
      },
      "text/plain": [
       "interactive(children=(SelectMultiple(description='param_labels', options=('0.5', '0.8', '1.1'), value=()), Sel…"
      ]
     },
     "metadata": {},
     "output_type": "display_data"
    },
    {
     "data": {
      "text/plain": [
       "<function __main__.f_plot_hist_spec(df, param_labels, sigma_lst, steps_list, bkg_dict, plot_type)>"
      ]
     },
     "execution_count": 29,
     "metadata": {},
     "output_type": "execute_result"
    }
   ],
   "source": [
    "interact_manual(f_plot_hist_spec,df=fixed(df_merged),\n",
    "                param_labels=SelectMultiple(options=sigma_lst),sigma_lst=fixed(sigma_lst),\n",
    "                steps_list=SelectMultiple(options=best_step),\n",
    "                bkg_dict=fixed(bkgnd_dict),plot_type=ToggleButtons(options=['hist','spec','grid','spec_relative']))"
   ]
  },
  {
   "cell_type": "code",
   "execution_count": null,
   "metadata": {},
   "outputs": [],
   "source": [
    "# ### Check deterministic\n",
    "# main_dir='/global/cfs/cdirs/m3363/vayyar/cosmogan_data/results_from_other_code/pytorch/results/128sq/'\n",
    "# epoch,step=0,230\n",
    "# f1='20210113_185116_cgan_predict_0.65_m2/images/gen_img_label-0.5_epoch-{0}_step-{1}.npy'.format(epoch,step)\n",
    "# f2='20210113_092234_cgan_predict_0.65_m2/images/gen_img_label-0.5_epoch-{0}_step-{1}.npy'.format(epoch,step)\n",
    "\n",
    "# epoch,step=3,20\n",
    "# f1='20210114_191648_nb_test/images/gen_img_label-0.5_epoch-{0}_step-{1}.npy'.format(epoch,step)\n",
    "# f2='20210114_193009_nb_test/images/gen_img_label-0.5_epoch-{0}_step-{1}.npy'.format(epoch,step)\n",
    "\n",
    "# a1=np.load(main_dir+f1)\n",
    "# a2=np.load(main_dir+f2)\n",
    "# # print(a1.shape,a2.shape)\n",
    "\n",
    "# print(np.mean(a1),np.mean(a2))\n",
    "# print(np.max(a1),np.max(a2))"
   ]
  },
  {
   "cell_type": "markdown",
   "metadata": {},
   "source": [
    "### Delete unwanted stored models\n",
    "(Since deterministic runs aren't working well )"
   ]
  },
  {
   "cell_type": "code",
   "execution_count": 113,
   "metadata": {},
   "outputs": [
    {
     "name": "stdout",
     "output_type": "stream",
     "text": [
      "/global/cfs/cdirs/m3363/vayyar/cosmogan_data/results_from_other_code/pytorch/results/3d_cGAN/20210227_050213_3dcgan_predict_0.65_m2\n"
     ]
    },
    {
     "data": {
      "text/plain": [
       "3742"
      ]
     },
     "execution_count": 113,
     "metadata": {},
     "output_type": "execute_result"
    }
   ],
   "source": [
    "# fldr='/global/cfs/cdirs/m3363/vayyar/cosmogan_data/results_from_other_code/pytorch/results/128sq/20210119_134802_cgan_predict_0.65_m2/models'\n",
    "fldr=result_dir\n",
    "print(fldr)\n",
    "flist=glob.glob(fldr+'/models/checkpoint_*.tar')\n",
    "len(flist)"
   ]
  },
  {
   "cell_type": "code",
   "execution_count": null,
   "metadata": {},
   "outputs": [],
   "source": []
  },
  {
   "cell_type": "code",
   "execution_count": 31,
   "metadata": {},
   "outputs": [],
   "source": [
    "# # Delete unwanted stored images\n",
    "# for i in flist:\n",
    "#     try:\n",
    "#         step=int(i.split('/')[-1].split('_')[-1].split('.')[0])\n",
    "#         if step not in best_step:\n",
    "# #             print(\"Found\")\n",
    "# #             print(step)\n",
    "#             os.remove(i)\n",
    "#             pass\n",
    "#         else: \n",
    "#             print(step)\n",
    "# #             print(i)\n",
    "#     except Exception as e:\n",
    "# #         print(e)\n",
    "# #         print(i)\n",
    "#         pass"
   ]
  },
  {
   "cell_type": "code",
   "execution_count": 118,
   "metadata": {},
   "outputs": [
    {
     "data": {
      "text/plain": [
       "array([27600, 30950, 42620, 43830, 50440, 58320, 58330, 59500, 64670,\n",
       "       65600])"
      ]
     },
     "execution_count": 118,
     "metadata": {},
     "output_type": "execute_result"
    }
   ],
   "source": [
    "best_step"
   ]
  },
  {
   "cell_type": "code",
   "execution_count": 34,
   "metadata": {},
   "outputs": [
    {
     "data": {
      "text/plain": [
       "(70656, 1, 64, 64, 64)"
      ]
     },
     "execution_count": 34,
     "metadata": {},
     "output_type": "execute_result"
    }
   ],
   "source": [
    "np.load('/global/cfs/cdirs/m3363/vayyar/cosmogan_data/raw_data/3d_data/dataset2a_3dcgan_4univs_64cube_simple_splicing/norm_1_sig_0.5_train_val.npy',mmap_mode='r').shape\n",
    "\n"
   ]
  },
  {
   "cell_type": "code",
   "execution_count": 33,
   "metadata": {},
   "outputs": [
    {
     "name": "stdout",
     "output_type": "stream",
     "text": [
      "70G\t/global/cfs/cdirs/m3363/vayyar/cosmogan_data/raw_data/3d_data/dataset2a_3dcgan_4univs_64cube_simple_splicing/norm_1_sig_0.5_train_val.npy\n"
     ]
    }
   ],
   "source": [
    "! du -hs  /global/cfs/cdirs/m3363/vayyar/cosmogan_data/raw_data/3d_data/dataset2a_3dcgan_4univs_64cube_simple_splicing/norm_1_sig_0.5_train_val.npy"
   ]
  },
  {
   "cell_type": "code",
   "execution_count": null,
   "metadata": {},
   "outputs": [],
   "source": []
  }
 ],
 "metadata": {
  "kernelspec": {
   "display_name": "v3",
   "language": "python",
   "name": "v-jpt-3"
  },
  "language_info": {
   "codemirror_mode": {
    "name": "ipython",
    "version": 3
   },
   "file_extension": ".py",
   "mimetype": "text/x-python",
   "name": "python",
   "nbconvert_exporter": "python",
   "pygments_lexer": "ipython3",
   "version": "3.8.6"
  }
 },
 "nbformat": 4,
 "nbformat_minor": 4
}

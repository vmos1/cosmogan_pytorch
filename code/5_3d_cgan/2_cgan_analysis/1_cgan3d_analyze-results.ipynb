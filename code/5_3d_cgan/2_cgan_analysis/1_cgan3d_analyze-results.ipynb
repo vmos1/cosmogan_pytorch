{
 "cells": [
  {
   "cell_type": "markdown",
   "metadata": {},
   "source": [
    "# Analyze results for 3D CGAN\n",
    "Feb 22, 2021"
   ]
  },
  {
   "cell_type": "code",
   "execution_count": 1,
   "metadata": {},
   "outputs": [],
   "source": [
    "import     numpy as np\n",
    "import matplotlib.pyplot as plt\n",
    "import pandas as pd\n",
    "\n",
    "import subprocess as sp\n",
    "import sys\n",
    "import os\n",
    "import glob\n",
    "import pickle \n",
    "\n",
    "from matplotlib.colors import LogNorm, PowerNorm, Normalize\n",
    "import seaborn as sns\n",
    "from functools import reduce"
   ]
  },
  {
   "cell_type": "code",
   "execution_count": 2,
   "metadata": {},
   "outputs": [],
   "source": [
    "from ipywidgets import *"
   ]
  },
  {
   "cell_type": "code",
   "execution_count": 3,
   "metadata": {},
   "outputs": [],
   "source": [
    "%matplotlib widget"
   ]
  },
  {
   "cell_type": "code",
   "execution_count": 4,
   "metadata": {},
   "outputs": [],
   "source": [
    "sys.path.append('/global/u1/v/vpa/project/jpt_notebooks/Cosmology/Cosmo_GAN/repositories/cosmogan_pytorch/code/modules_image_analysis/')\n",
    "from modules_img_analysis import *"
   ]
  },
  {
   "cell_type": "code",
   "execution_count": 5,
   "metadata": {},
   "outputs": [],
   "source": [
    "sys.path.append('/global/u1/v/vpa/project/jpt_notebooks/Cosmology/Cosmo_GAN/repositories/cosmogan_pytorch/code/5_3d_cgan/1_main_code/')\n",
    "import post_analysis_pandas as post\n"
   ]
  },
  {
   "cell_type": "code",
   "execution_count": 6,
   "metadata": {},
   "outputs": [],
   "source": [
    "### Transformation functions for image pixel values\n",
    "def f_transform(x):\n",
    "    return 2.*x/(x + 4.) - 1.\n",
    "\n",
    "def f_invtransform(s):\n",
    "    return 4.*(1. + s)/(1. - s)\n"
   ]
  },
  {
   "cell_type": "markdown",
   "metadata": {},
   "source": [
    "### Read validation data"
   ]
  },
  {
   "cell_type": "code",
   "execution_count": 7,
   "metadata": {},
   "outputs": [
    {
     "name": "stdout",
     "output_type": "stream",
     "text": [
      "/global/cfs/cdirs/m3363/vayyar/cosmogan_data/raw_data/3d_data/dataset2a_3dcgan_4univs_64cube_simple_splicing/norm_1_sig_0.5_train_val.npy\n",
      "/global/cfs/cdirs/m3363/vayyar/cosmogan_data/raw_data/3d_data/dataset2a_3dcgan_4univs_64cube_simple_splicing/norm_1_sig_0.65_train_val.npy\n",
      "/global/cfs/cdirs/m3363/vayyar/cosmogan_data/raw_data/3d_data/dataset2a_3dcgan_4univs_64cube_simple_splicing/norm_1_sig_0.8_train_val.npy\n",
      "/global/cfs/cdirs/m3363/vayyar/cosmogan_data/raw_data/3d_data/dataset2a_3dcgan_4univs_64cube_simple_splicing/norm_1_sig_1.1_train_val.npy\n"
     ]
    }
   ],
   "source": [
    "# bins=np.concatenate([np.array([-0.5]),np.arange(0.5,20.5,1),np.arange(20.5,100.5,5),np.arange(100.5,1000.5,50),np.array([2000])]) #bin edges to use\n",
    "bins=np.concatenate([np.array([-0.5]),np.arange(0.5,100.5,5),np.arange(100.5,300.5,20),np.arange(300.5,1000.5,50),np.array([2000])]) #bin edges to use\n",
    "\n",
    "bins=f_transform(bins)   ### scale to (-1,1)\n",
    "# ### Extract validation data\n",
    "sigma_lst=[0.5,0.65,0.8,1.1]\n",
    "labels_lst=range(len(sigma_lst))\n",
    "bkgnd_dict={}\n",
    "num_bkgnd=200\n",
    "\n",
    "for label in labels_lst:\n",
    "    fname='/global/cfs/cdirs/m3363/vayyar/cosmogan_data/raw_data/3d_data/dataset2a_3dcgan_4univs_64cube_simple_splicing/norm_1_sig_{0}_train_val.npy'.format(sigma_lst[label])\n",
    "    print(fname)\n",
    "    samples=np.load(fname,mmap_mode='r')[-num_bkgnd:][:,0,:,:]\n",
    "    \n",
    "    dict_val=post.f_compute_hist_spect(samples,bins)\n",
    "    bkgnd_dict[str(sigma_lst[label])]=dict_val\n",
    "    del samples"
   ]
  },
  {
   "cell_type": "markdown",
   "metadata": {},
   "source": [
    "## Read data"
   ]
  },
  {
   "cell_type": "code",
   "execution_count": 8,
   "metadata": {},
   "outputs": [],
   "source": [
    "# main_dir='/global/cfs/cdirs/m3363/vayyar/cosmogan_data/results_from_other_code/pytorch/results/128sq/'\n",
    "# results_dir=main_dir+'20201002_064327'"
   ]
  },
  {
   "cell_type": "code",
   "execution_count": 9,
   "metadata": {},
   "outputs": [],
   "source": [
    "dict1={'64':'/global/cfs/cdirs/m3363/vayyar/cosmogan_data/results_from_other_code/pytorch/results/3d_cGAN/',\n",
    "      '512':'/global/cfs/cdirs/m3363/vayyar/cosmogan_data/results_from_other_code/pytorch/results/3d_cGAN/'}\n",
    "\n",
    "u=interactive(lambda x: dict1[x], x=Select(options=dict1.keys()))\n",
    "# display(u)\n"
   ]
  },
  {
   "cell_type": "code",
   "execution_count": 115,
   "metadata": {},
   "outputs": [
    {
     "data": {
      "application/vnd.jupyter.widget-view+json": {
       "model_id": "d132654b5de044f5ae2768d86b7547d9",
       "version_major": 2,
       "version_minor": 0
      },
      "text/plain": [
       "interactive(children=(Dropdown(description='x', options=('20210522_132418_cgan_bs16_nodes8_lrg0.001_lrd0.0008-…"
      ]
     },
     "metadata": {},
     "output_type": "display_data"
    }
   ],
   "source": [
    "# parent_dir=u.result\n",
    "img_size=64\n",
    "parent_dir=dict1[str(img_size)]\n",
    "dir_lst=[i.split('/')[-1] for i in glob.glob(parent_dir+'20210522*')]\n",
    "n=interactive(lambda x: x, x=Dropdown(options=dir_lst))\n",
    "display(n)"
   ]
  },
  {
   "cell_type": "code",
   "execution_count": 116,
   "metadata": {},
   "outputs": [
    {
     "name": "stdout",
     "output_type": "stream",
     "text": [
      "/global/cfs/cdirs/m3363/vayyar/cosmogan_data/results_from_other_code/pytorch/results/3d_cGAN/20210522_131524_cgan_bs16_nodes8_lrg0.0006_lrdfastvary\n"
     ]
    }
   ],
   "source": [
    "result=n.result\n",
    "result_dir=parent_dir+result\n",
    "print(result_dir)"
   ]
  },
  {
   "cell_type": "markdown",
   "metadata": {},
   "source": [
    "## Plot Losses"
   ]
  },
  {
   "cell_type": "code",
   "execution_count": 117,
   "metadata": {},
   "outputs": [],
   "source": [
    "df_metrics=pd.read_pickle(result_dir+'/df_metrics.pkle').astype(np.float64)\n"
   ]
  },
  {
   "cell_type": "code",
   "execution_count": 118,
   "metadata": {},
   "outputs": [
    {
     "data": {
      "text/html": [
       "<div>\n",
       "<style scoped>\n",
       "    .dataframe tbody tr th:only-of-type {\n",
       "        vertical-align: middle;\n",
       "    }\n",
       "\n",
       "    .dataframe tbody tr th {\n",
       "        vertical-align: top;\n",
       "    }\n",
       "\n",
       "    .dataframe thead th {\n",
       "        text-align: right;\n",
       "    }\n",
       "</style>\n",
       "<table border=\"1\" class=\"dataframe\">\n",
       "  <thead>\n",
       "    <tr style=\"text-align: right;\">\n",
       "      <th></th>\n",
       "      <th>step</th>\n",
       "      <th>epoch</th>\n",
       "      <th>Dreal</th>\n",
       "      <th>Dfake</th>\n",
       "      <th>Dfull</th>\n",
       "      <th>G_adv</th>\n",
       "      <th>G_full</th>\n",
       "      <th>spec_loss</th>\n",
       "      <th>hist_loss</th>\n",
       "      <th>spec_chi</th>\n",
       "      <th>hist_chi</th>\n",
       "      <th>gp_loss</th>\n",
       "      <th>fm_loss</th>\n",
       "      <th>D(x)</th>\n",
       "      <th>D_G_z1</th>\n",
       "      <th>D_G_z2</th>\n",
       "      <th>time</th>\n",
       "      <th>lr_d</th>\n",
       "      <th>lr_g</th>\n",
       "    </tr>\n",
       "  </thead>\n",
       "  <tbody>\n",
       "    <tr>\n",
       "      <th>11079</th>\n",
       "      <td>11079.0</td>\n",
       "      <td>197.0</td>\n",
       "      <td>0.406919</td>\n",
       "      <td>0.371854</td>\n",
       "      <td>0.778773</td>\n",
       "      <td>2.135406</td>\n",
       "      <td>12.963502</td>\n",
       "      <td>10.828095</td>\n",
       "      <td>-1.185276</td>\n",
       "      <td>10.629362</td>\n",
       "      <td>-1.175706</td>\n",
       "      <td>NaN</td>\n",
       "      <td>NaN</td>\n",
       "      <td>1.331362</td>\n",
       "      <td>-1.129142</td>\n",
       "      <td>-2.007334</td>\n",
       "      <td>0.444079</td>\n",
       "      <td>0.00004</td>\n",
       "      <td>0.0006</td>\n",
       "    </tr>\n",
       "    <tr>\n",
       "      <th>11080</th>\n",
       "      <td>11080.0</td>\n",
       "      <td>197.0</td>\n",
       "      <td>0.472108</td>\n",
       "      <td>0.569317</td>\n",
       "      <td>1.041425</td>\n",
       "      <td>2.005569</td>\n",
       "      <td>12.838379</td>\n",
       "      <td>10.832809</td>\n",
       "      <td>-1.400416</td>\n",
       "      <td>10.722671</td>\n",
       "      <td>-1.269081</td>\n",
       "      <td>NaN</td>\n",
       "      <td>NaN</td>\n",
       "      <td>0.615901</td>\n",
       "      <td>-0.323966</td>\n",
       "      <td>-1.850593</td>\n",
       "      <td>0.440787</td>\n",
       "      <td>0.00004</td>\n",
       "      <td>0.0006</td>\n",
       "    </tr>\n",
       "    <tr>\n",
       "      <th>11081</th>\n",
       "      <td>11081.0</td>\n",
       "      <td>197.0</td>\n",
       "      <td>0.338529</td>\n",
       "      <td>0.253648</td>\n",
       "      <td>0.592177</td>\n",
       "      <td>2.073723</td>\n",
       "      <td>13.133642</td>\n",
       "      <td>11.059919</td>\n",
       "      <td>-1.457560</td>\n",
       "      <td>10.844055</td>\n",
       "      <td>-0.690477</td>\n",
       "      <td>NaN</td>\n",
       "      <td>NaN</td>\n",
       "      <td>1.271036</td>\n",
       "      <td>-2.331362</td>\n",
       "      <td>-1.929295</td>\n",
       "      <td>0.449408</td>\n",
       "      <td>0.00004</td>\n",
       "      <td>0.0006</td>\n",
       "    </tr>\n",
       "    <tr>\n",
       "      <th>11082</th>\n",
       "      <td>11082.0</td>\n",
       "      <td>197.0</td>\n",
       "      <td>0.372193</td>\n",
       "      <td>0.694848</td>\n",
       "      <td>1.067041</td>\n",
       "      <td>1.585080</td>\n",
       "      <td>12.396170</td>\n",
       "      <td>10.811090</td>\n",
       "      <td>-1.379457</td>\n",
       "      <td>10.810658</td>\n",
       "      <td>-1.408473</td>\n",
       "      <td>NaN</td>\n",
       "      <td>NaN</td>\n",
       "      <td>1.457948</td>\n",
       "      <td>-0.095829</td>\n",
       "      <td>-1.341202</td>\n",
       "      <td>0.459472</td>\n",
       "      <td>0.00004</td>\n",
       "      <td>0.0006</td>\n",
       "    </tr>\n",
       "    <tr>\n",
       "      <th>11083</th>\n",
       "      <td>11083.0</td>\n",
       "      <td>197.0</td>\n",
       "      <td>0.417400</td>\n",
       "      <td>0.612792</td>\n",
       "      <td>1.030191</td>\n",
       "      <td>2.126894</td>\n",
       "      <td>12.913522</td>\n",
       "      <td>10.786628</td>\n",
       "      <td>-1.278333</td>\n",
       "      <td>10.751689</td>\n",
       "      <td>-1.369067</td>\n",
       "      <td>NaN</td>\n",
       "      <td>NaN</td>\n",
       "      <td>0.921324</td>\n",
       "      <td>-0.193074</td>\n",
       "      <td>-1.996867</td>\n",
       "      <td>0.442693</td>\n",
       "      <td>0.00004</td>\n",
       "      <td>0.0006</td>\n",
       "    </tr>\n",
       "    <tr>\n",
       "      <th>11084</th>\n",
       "      <td>11084.0</td>\n",
       "      <td>197.0</td>\n",
       "      <td>0.465965</td>\n",
       "      <td>0.479044</td>\n",
       "      <td>0.945009</td>\n",
       "      <td>7.075733</td>\n",
       "      <td>17.996677</td>\n",
       "      <td>10.920944</td>\n",
       "      <td>-1.255563</td>\n",
       "      <td>10.794947</td>\n",
       "      <td>-0.574218</td>\n",
       "      <td>NaN</td>\n",
       "      <td>NaN</td>\n",
       "      <td>0.819885</td>\n",
       "      <td>-7.567165</td>\n",
       "      <td>-7.074821</td>\n",
       "      <td>0.447957</td>\n",
       "      <td>0.00004</td>\n",
       "      <td>0.0006</td>\n",
       "    </tr>\n",
       "    <tr>\n",
       "      <th>11085</th>\n",
       "      <td>11085.0</td>\n",
       "      <td>197.0</td>\n",
       "      <td>0.307076</td>\n",
       "      <td>0.293280</td>\n",
       "      <td>0.600356</td>\n",
       "      <td>2.884227</td>\n",
       "      <td>13.595289</td>\n",
       "      <td>10.711062</td>\n",
       "      <td>-1.266851</td>\n",
       "      <td>10.806120</td>\n",
       "      <td>-1.411294</td>\n",
       "      <td>NaN</td>\n",
       "      <td>NaN</td>\n",
       "      <td>1.328422</td>\n",
       "      <td>-3.925170</td>\n",
       "      <td>-2.823571</td>\n",
       "      <td>0.458752</td>\n",
       "      <td>0.00004</td>\n",
       "      <td>0.0006</td>\n",
       "    </tr>\n",
       "    <tr>\n",
       "      <th>11086</th>\n",
       "      <td>11086.0</td>\n",
       "      <td>197.0</td>\n",
       "      <td>0.219198</td>\n",
       "      <td>1.191715</td>\n",
       "      <td>1.410913</td>\n",
       "      <td>0.663207</td>\n",
       "      <td>11.540732</td>\n",
       "      <td>10.877525</td>\n",
       "      <td>-1.305923</td>\n",
       "      <td>10.871281</td>\n",
       "      <td>-1.212746</td>\n",
       "      <td>NaN</td>\n",
       "      <td>NaN</td>\n",
       "      <td>2.117906</td>\n",
       "      <td>0.901195</td>\n",
       "      <td>0.099046</td>\n",
       "      <td>0.441489</td>\n",
       "      <td>0.00004</td>\n",
       "      <td>0.0006</td>\n",
       "    </tr>\n",
       "    <tr>\n",
       "      <th>11087</th>\n",
       "      <td>11087.0</td>\n",
       "      <td>197.0</td>\n",
       "      <td>0.262737</td>\n",
       "      <td>1.573598</td>\n",
       "      <td>1.836335</td>\n",
       "      <td>0.879393</td>\n",
       "      <td>12.014519</td>\n",
       "      <td>11.135126</td>\n",
       "      <td>-1.301882</td>\n",
       "      <td>10.815722</td>\n",
       "      <td>-1.416501</td>\n",
       "      <td>NaN</td>\n",
       "      <td>NaN</td>\n",
       "      <td>2.209718</td>\n",
       "      <td>1.412734</td>\n",
       "      <td>-0.299628</td>\n",
       "      <td>0.448666</td>\n",
       "      <td>0.00004</td>\n",
       "      <td>0.0006</td>\n",
       "    </tr>\n",
       "    <tr>\n",
       "      <th>11088</th>\n",
       "      <td>NaN</td>\n",
       "      <td>NaN</td>\n",
       "      <td>NaN</td>\n",
       "      <td>NaN</td>\n",
       "      <td>NaN</td>\n",
       "      <td>NaN</td>\n",
       "      <td>NaN</td>\n",
       "      <td>NaN</td>\n",
       "      <td>NaN</td>\n",
       "      <td>10.872341</td>\n",
       "      <td>-0.815674</td>\n",
       "      <td>NaN</td>\n",
       "      <td>NaN</td>\n",
       "      <td>NaN</td>\n",
       "      <td>NaN</td>\n",
       "      <td>NaN</td>\n",
       "      <td>NaN</td>\n",
       "      <td>NaN</td>\n",
       "      <td>NaN</td>\n",
       "    </tr>\n",
       "  </tbody>\n",
       "</table>\n",
       "</div>"
      ],
      "text/plain": [
       "          step  epoch     Dreal     Dfake     Dfull     G_adv     G_full  \\\n",
       "11079  11079.0  197.0  0.406919  0.371854  0.778773  2.135406  12.963502   \n",
       "11080  11080.0  197.0  0.472108  0.569317  1.041425  2.005569  12.838379   \n",
       "11081  11081.0  197.0  0.338529  0.253648  0.592177  2.073723  13.133642   \n",
       "11082  11082.0  197.0  0.372193  0.694848  1.067041  1.585080  12.396170   \n",
       "11083  11083.0  197.0  0.417400  0.612792  1.030191  2.126894  12.913522   \n",
       "11084  11084.0  197.0  0.465965  0.479044  0.945009  7.075733  17.996677   \n",
       "11085  11085.0  197.0  0.307076  0.293280  0.600356  2.884227  13.595289   \n",
       "11086  11086.0  197.0  0.219198  1.191715  1.410913  0.663207  11.540732   \n",
       "11087  11087.0  197.0  0.262737  1.573598  1.836335  0.879393  12.014519   \n",
       "11088      NaN    NaN       NaN       NaN       NaN       NaN        NaN   \n",
       "\n",
       "       spec_loss  hist_loss   spec_chi  hist_chi  gp_loss  fm_loss      D(x)  \\\n",
       "11079  10.828095  -1.185276  10.629362 -1.175706      NaN      NaN  1.331362   \n",
       "11080  10.832809  -1.400416  10.722671 -1.269081      NaN      NaN  0.615901   \n",
       "11081  11.059919  -1.457560  10.844055 -0.690477      NaN      NaN  1.271036   \n",
       "11082  10.811090  -1.379457  10.810658 -1.408473      NaN      NaN  1.457948   \n",
       "11083  10.786628  -1.278333  10.751689 -1.369067      NaN      NaN  0.921324   \n",
       "11084  10.920944  -1.255563  10.794947 -0.574218      NaN      NaN  0.819885   \n",
       "11085  10.711062  -1.266851  10.806120 -1.411294      NaN      NaN  1.328422   \n",
       "11086  10.877525  -1.305923  10.871281 -1.212746      NaN      NaN  2.117906   \n",
       "11087  11.135126  -1.301882  10.815722 -1.416501      NaN      NaN  2.209718   \n",
       "11088        NaN        NaN  10.872341 -0.815674      NaN      NaN       NaN   \n",
       "\n",
       "         D_G_z1    D_G_z2      time     lr_d    lr_g  \n",
       "11079 -1.129142 -2.007334  0.444079  0.00004  0.0006  \n",
       "11080 -0.323966 -1.850593  0.440787  0.00004  0.0006  \n",
       "11081 -2.331362 -1.929295  0.449408  0.00004  0.0006  \n",
       "11082 -0.095829 -1.341202  0.459472  0.00004  0.0006  \n",
       "11083 -0.193074 -1.996867  0.442693  0.00004  0.0006  \n",
       "11084 -7.567165 -7.074821  0.447957  0.00004  0.0006  \n",
       "11085 -3.925170 -2.823571  0.458752  0.00004  0.0006  \n",
       "11086  0.901195  0.099046  0.441489  0.00004  0.0006  \n",
       "11087  1.412734 -0.299628  0.448666  0.00004  0.0006  \n",
       "11088       NaN       NaN       NaN      NaN     NaN  "
      ]
     },
     "execution_count": 118,
     "metadata": {},
     "output_type": "execute_result"
    }
   ],
   "source": [
    "df_metrics.tail(10)"
   ]
  },
  {
   "cell_type": "code",
   "execution_count": 119,
   "metadata": {},
   "outputs": [
    {
     "data": {
      "application/vnd.jupyter.widget-view+json": {
       "model_id": "43edf3fb56104afa9a51d3014b353e64",
       "version_major": 2,
       "version_minor": 0
      },
      "text/plain": [
       "interactive(children=(SelectMultiple(description='col_list', options=('step', 'epoch', 'Dreal', 'Dfake', 'Dful…"
      ]
     },
     "metadata": {},
     "output_type": "display_data"
    },
    {
     "data": {
      "text/plain": [
       "<function __main__.f_plot_metrics(df, col_list)>"
      ]
     },
     "execution_count": 119,
     "metadata": {},
     "output_type": "execute_result"
    }
   ],
   "source": [
    "def f_plot_metrics(df,col_list):\n",
    "    \n",
    "    plt.figure()\n",
    "    for key in col_list:\n",
    "        plt.plot(df_metrics[key],label=key,marker='*',linestyle='')\n",
    "    plt.legend()\n",
    "    \n",
    "#     col_list=list(col_list)\n",
    "#     df.plot(kind='line',x='step',y=col_list)\n",
    "    \n",
    "# f_plot_metrics(df_metrics,['spec_chi','hist_chi'])\n",
    "\n",
    "interact_manual(f_plot_metrics,df=fixed(df_metrics), col_list=SelectMultiple(options=df_metrics.columns.values))"
   ]
  },
  {
   "cell_type": "code",
   "execution_count": 120,
   "metadata": {},
   "outputs": [
    {
     "name": "stdout",
     "output_type": "stream",
     "text": [
      "-0.9391710758209229\n"
     ]
    },
    {
     "data": {
      "text/html": [
       "<div>\n",
       "<style scoped>\n",
       "    .dataframe tbody tr th:only-of-type {\n",
       "        vertical-align: middle;\n",
       "    }\n",
       "\n",
       "    .dataframe tbody tr th {\n",
       "        vertical-align: top;\n",
       "    }\n",
       "\n",
       "    .dataframe thead th {\n",
       "        text-align: right;\n",
       "    }\n",
       "</style>\n",
       "<table border=\"1\" class=\"dataframe\">\n",
       "  <thead>\n",
       "    <tr style=\"text-align: right;\">\n",
       "      <th></th>\n",
       "      <th>step</th>\n",
       "      <th>epoch</th>\n",
       "      <th>Dreal</th>\n",
       "      <th>Dfake</th>\n",
       "      <th>Dfull</th>\n",
       "      <th>G_adv</th>\n",
       "      <th>G_full</th>\n",
       "      <th>spec_loss</th>\n",
       "      <th>hist_loss</th>\n",
       "      <th>spec_chi</th>\n",
       "      <th>hist_chi</th>\n",
       "      <th>gp_loss</th>\n",
       "      <th>fm_loss</th>\n",
       "      <th>D(x)</th>\n",
       "      <th>D_G_z1</th>\n",
       "      <th>D_G_z2</th>\n",
       "      <th>time</th>\n",
       "      <th>lr_d</th>\n",
       "      <th>lr_g</th>\n",
       "    </tr>\n",
       "  </thead>\n",
       "  <tbody>\n",
       "    <tr>\n",
       "      <th>3214</th>\n",
       "      <td>3214.0</td>\n",
       "      <td>57.0</td>\n",
       "      <td>0.218780</td>\n",
       "      <td>0.690482</td>\n",
       "      <td>0.909262</td>\n",
       "      <td>2.525027</td>\n",
       "      <td>13.603393</td>\n",
       "      <td>11.078365</td>\n",
       "      <td>-1.879678</td>\n",
       "      <td>10.867907</td>\n",
       "      <td>-2.159179</td>\n",
       "      <td>NaN</td>\n",
       "      <td>NaN</td>\n",
       "      <td>2.663863</td>\n",
       "      <td>-0.055021</td>\n",
       "      <td>-2.437088</td>\n",
       "      <td>0.451147</td>\n",
       "      <td>0.000134</td>\n",
       "      <td>0.0006</td>\n",
       "    </tr>\n",
       "    <tr>\n",
       "      <th>3212</th>\n",
       "      <td>3212.0</td>\n",
       "      <td>57.0</td>\n",
       "      <td>1.707513</td>\n",
       "      <td>0.319976</td>\n",
       "      <td>2.027489</td>\n",
       "      <td>4.347625</td>\n",
       "      <td>inf</td>\n",
       "      <td>inf</td>\n",
       "      <td>-2.051127</td>\n",
       "      <td>inf</td>\n",
       "      <td>-2.151670</td>\n",
       "      <td>NaN</td>\n",
       "      <td>NaN</td>\n",
       "      <td>-1.610014</td>\n",
       "      <td>-4.615372</td>\n",
       "      <td>-4.329040</td>\n",
       "      <td>0.443319</td>\n",
       "      <td>0.000134</td>\n",
       "      <td>0.0006</td>\n",
       "    </tr>\n",
       "    <tr>\n",
       "      <th>3215</th>\n",
       "      <td>3215.0</td>\n",
       "      <td>57.0</td>\n",
       "      <td>0.302060</td>\n",
       "      <td>0.322790</td>\n",
       "      <td>0.624850</td>\n",
       "      <td>3.644988</td>\n",
       "      <td>14.556562</td>\n",
       "      <td>10.911574</td>\n",
       "      <td>-1.975480</td>\n",
       "      <td>10.863314</td>\n",
       "      <td>-2.149198</td>\n",
       "      <td>NaN</td>\n",
       "      <td>NaN</td>\n",
       "      <td>1.743183</td>\n",
       "      <td>-1.368822</td>\n",
       "      <td>-3.615209</td>\n",
       "      <td>0.437673</td>\n",
       "      <td>0.000134</td>\n",
       "      <td>0.0006</td>\n",
       "    </tr>\n",
       "    <tr>\n",
       "      <th>3282</th>\n",
       "      <td>3282.0</td>\n",
       "      <td>58.0</td>\n",
       "      <td>1.144485</td>\n",
       "      <td>0.364402</td>\n",
       "      <td>1.508887</td>\n",
       "      <td>3.552139</td>\n",
       "      <td>14.391981</td>\n",
       "      <td>10.839842</td>\n",
       "      <td>-1.111423</td>\n",
       "      <td>10.834923</td>\n",
       "      <td>-2.122886</td>\n",
       "      <td>NaN</td>\n",
       "      <td>NaN</td>\n",
       "      <td>-0.762849</td>\n",
       "      <td>-4.451970</td>\n",
       "      <td>-3.506846</td>\n",
       "      <td>0.445822</td>\n",
       "      <td>0.000134</td>\n",
       "      <td>0.0006</td>\n",
       "    </tr>\n",
       "    <tr>\n",
       "      <th>3213</th>\n",
       "      <td>3213.0</td>\n",
       "      <td>57.0</td>\n",
       "      <td>0.551579</td>\n",
       "      <td>0.280019</td>\n",
       "      <td>0.831598</td>\n",
       "      <td>1.159247</td>\n",
       "      <td>inf</td>\n",
       "      <td>inf</td>\n",
       "      <td>-2.030472</td>\n",
       "      <td>10.412300</td>\n",
       "      <td>-2.088067</td>\n",
       "      <td>NaN</td>\n",
       "      <td>NaN</td>\n",
       "      <td>0.568851</td>\n",
       "      <td>-1.850258</td>\n",
       "      <td>-0.764983</td>\n",
       "      <td>0.441304</td>\n",
       "      <td>0.000134</td>\n",
       "      <td>0.0006</td>\n",
       "    </tr>\n",
       "    <tr>\n",
       "      <th>3211</th>\n",
       "      <td>3211.0</td>\n",
       "      <td>57.0</td>\n",
       "      <td>0.297058</td>\n",
       "      <td>0.343863</td>\n",
       "      <td>0.640920</td>\n",
       "      <td>4.548644</td>\n",
       "      <td>inf</td>\n",
       "      <td>inf</td>\n",
       "      <td>-2.092921</td>\n",
       "      <td>inf</td>\n",
       "      <td>-2.054823</td>\n",
       "      <td>NaN</td>\n",
       "      <td>NaN</td>\n",
       "      <td>1.934735</td>\n",
       "      <td>-1.248289</td>\n",
       "      <td>-4.535163</td>\n",
       "      <td>0.446680</td>\n",
       "      <td>0.000134</td>\n",
       "      <td>0.0006</td>\n",
       "    </tr>\n",
       "    <tr>\n",
       "      <th>4382</th>\n",
       "      <td>4382.0</td>\n",
       "      <td>78.0</td>\n",
       "      <td>0.287102</td>\n",
       "      <td>0.450732</td>\n",
       "      <td>0.737834</td>\n",
       "      <td>4.639947</td>\n",
       "      <td>15.804961</td>\n",
       "      <td>11.165014</td>\n",
       "      <td>-1.714051</td>\n",
       "      <td>11.085281</td>\n",
       "      <td>-2.011658</td>\n",
       "      <td>NaN</td>\n",
       "      <td>NaN</td>\n",
       "      <td>1.655361</td>\n",
       "      <td>-0.708505</td>\n",
       "      <td>-4.627468</td>\n",
       "      <td>0.440938</td>\n",
       "      <td>0.000134</td>\n",
       "      <td>0.0006</td>\n",
       "    </tr>\n",
       "    <tr>\n",
       "      <th>3251</th>\n",
       "      <td>3251.0</td>\n",
       "      <td>58.0</td>\n",
       "      <td>0.433340</td>\n",
       "      <td>0.589427</td>\n",
       "      <td>1.022768</td>\n",
       "      <td>4.489675</td>\n",
       "      <td>15.668472</td>\n",
       "      <td>11.178798</td>\n",
       "      <td>-1.976291</td>\n",
       "      <td>10.998434</td>\n",
       "      <td>-1.975018</td>\n",
       "      <td>NaN</td>\n",
       "      <td>NaN</td>\n",
       "      <td>1.001907</td>\n",
       "      <td>-0.309334</td>\n",
       "      <td>-4.475820</td>\n",
       "      <td>0.455865</td>\n",
       "      <td>0.000134</td>\n",
       "      <td>0.0006</td>\n",
       "    </tr>\n",
       "    <tr>\n",
       "      <th>3210</th>\n",
       "      <td>3210.0</td>\n",
       "      <td>57.0</td>\n",
       "      <td>0.218795</td>\n",
       "      <td>1.717921</td>\n",
       "      <td>1.936715</td>\n",
       "      <td>1.270407</td>\n",
       "      <td>12.068134</td>\n",
       "      <td>10.797727</td>\n",
       "      <td>-1.892179</td>\n",
       "      <td>10.617457</td>\n",
       "      <td>-1.974880</td>\n",
       "      <td>NaN</td>\n",
       "      <td>NaN</td>\n",
       "      <td>2.770600</td>\n",
       "      <td>1.525498</td>\n",
       "      <td>-0.892788</td>\n",
       "      <td>0.444050</td>\n",
       "      <td>0.000134</td>\n",
       "      <td>0.0006</td>\n",
       "    </tr>\n",
       "    <tr>\n",
       "      <th>3216</th>\n",
       "      <td>3216.0</td>\n",
       "      <td>57.0</td>\n",
       "      <td>0.670050</td>\n",
       "      <td>0.188332</td>\n",
       "      <td>0.858382</td>\n",
       "      <td>2.427691</td>\n",
       "      <td>13.534242</td>\n",
       "      <td>11.106550</td>\n",
       "      <td>-1.733698</td>\n",
       "      <td>10.748598</td>\n",
       "      <td>-1.960212</td>\n",
       "      <td>NaN</td>\n",
       "      <td>NaN</td>\n",
       "      <td>0.359628</td>\n",
       "      <td>-3.234297</td>\n",
       "      <td>-2.319757</td>\n",
       "      <td>0.448091</td>\n",
       "      <td>0.000134</td>\n",
       "      <td>0.0006</td>\n",
       "    </tr>\n",
       "  </tbody>\n",
       "</table>\n",
       "</div>"
      ],
      "text/plain": [
       "        step  epoch     Dreal     Dfake     Dfull     G_adv     G_full  \\\n",
       "3214  3214.0   57.0  0.218780  0.690482  0.909262  2.525027  13.603393   \n",
       "3212  3212.0   57.0  1.707513  0.319976  2.027489  4.347625        inf   \n",
       "3215  3215.0   57.0  0.302060  0.322790  0.624850  3.644988  14.556562   \n",
       "3282  3282.0   58.0  1.144485  0.364402  1.508887  3.552139  14.391981   \n",
       "3213  3213.0   57.0  0.551579  0.280019  0.831598  1.159247        inf   \n",
       "3211  3211.0   57.0  0.297058  0.343863  0.640920  4.548644        inf   \n",
       "4382  4382.0   78.0  0.287102  0.450732  0.737834  4.639947  15.804961   \n",
       "3251  3251.0   58.0  0.433340  0.589427  1.022768  4.489675  15.668472   \n",
       "3210  3210.0   57.0  0.218795  1.717921  1.936715  1.270407  12.068134   \n",
       "3216  3216.0   57.0  0.670050  0.188332  0.858382  2.427691  13.534242   \n",
       "\n",
       "      spec_loss  hist_loss   spec_chi  hist_chi  gp_loss  fm_loss      D(x)  \\\n",
       "3214  11.078365  -1.879678  10.867907 -2.159179      NaN      NaN  2.663863   \n",
       "3212        inf  -2.051127        inf -2.151670      NaN      NaN -1.610014   \n",
       "3215  10.911574  -1.975480  10.863314 -2.149198      NaN      NaN  1.743183   \n",
       "3282  10.839842  -1.111423  10.834923 -2.122886      NaN      NaN -0.762849   \n",
       "3213        inf  -2.030472  10.412300 -2.088067      NaN      NaN  0.568851   \n",
       "3211        inf  -2.092921        inf -2.054823      NaN      NaN  1.934735   \n",
       "4382  11.165014  -1.714051  11.085281 -2.011658      NaN      NaN  1.655361   \n",
       "3251  11.178798  -1.976291  10.998434 -1.975018      NaN      NaN  1.001907   \n",
       "3210  10.797727  -1.892179  10.617457 -1.974880      NaN      NaN  2.770600   \n",
       "3216  11.106550  -1.733698  10.748598 -1.960212      NaN      NaN  0.359628   \n",
       "\n",
       "        D_G_z1    D_G_z2      time      lr_d    lr_g  \n",
       "3214 -0.055021 -2.437088  0.451147  0.000134  0.0006  \n",
       "3212 -4.615372 -4.329040  0.443319  0.000134  0.0006  \n",
       "3215 -1.368822 -3.615209  0.437673  0.000134  0.0006  \n",
       "3282 -4.451970 -3.506846  0.445822  0.000134  0.0006  \n",
       "3213 -1.850258 -0.764983  0.441304  0.000134  0.0006  \n",
       "3211 -1.248289 -4.535163  0.446680  0.000134  0.0006  \n",
       "4382 -0.708505 -4.627468  0.440938  0.000134  0.0006  \n",
       "3251 -0.309334 -4.475820  0.455865  0.000134  0.0006  \n",
       "3210  1.525498 -0.892788  0.444050  0.000134  0.0006  \n",
       "3216 -3.234297 -2.319757  0.448091  0.000134  0.0006  "
      ]
     },
     "execution_count": 120,
     "metadata": {},
     "output_type": "execute_result"
    }
   ],
   "source": [
    "\n",
    "chi=df_metrics.quantile(q=0.2,axis=0)['hist_chi']\n",
    "print(chi)\n",
    "df_metrics[(df_metrics['hist_chi']<=chi)&(df_metrics.epoch>1)].sort_values(by=['hist_chi']).head(10)"
   ]
  },
  {
   "cell_type": "code",
   "execution_count": 121,
   "metadata": {},
   "outputs": [],
   "source": [
    "# display(df_metrics.sort_values(by=['hist_chi']).head(8))\n",
    "# display(df_metrics.sort_values(by=['spec_chi']).head(8))"
   ]
  },
  {
   "cell_type": "markdown",
   "metadata": {},
   "source": [
    "<!-- ### Read validation data -->"
   ]
  },
  {
   "cell_type": "markdown",
   "metadata": {},
   "source": [
    "## Read stored chi-squares for images"
   ]
  },
  {
   "cell_type": "code",
   "execution_count": 122,
   "metadata": {},
   "outputs": [],
   "source": [
    "## Get sigma list from saved files\n",
    "flist=glob.glob(result_dir+'/df_processed*')\n",
    "sigma_lst=[i.split('/')[-1].split('df_processed_')[-1].split('.pkle')[0] for i in flist]\n",
    "sigma_lst.sort() ### Sorting is important for labels to match !!\n",
    "\n",
    "labels_lst=np.arange(len(sigma_lst))"
   ]
  },
  {
   "cell_type": "code",
   "execution_count": 123,
   "metadata": {},
   "outputs": [
    {
     "data": {
      "text/plain": [
       "(['0.5', '0.8', '1.1'], array([0, 1, 2]))"
      ]
     },
     "execution_count": 123,
     "metadata": {},
     "output_type": "execute_result"
    }
   ],
   "source": [
    "sigma_lst,labels_lst"
   ]
  },
  {
   "cell_type": "code",
   "execution_count": 124,
   "metadata": {},
   "outputs": [],
   "source": [
    "### Create a merged dataframe\n",
    "\n",
    "df_list=[]\n",
    "for label in labels_lst:\n",
    "    df=pd.read_pickle(result_dir+'/df_processed_{0}.pkle'.format(str(sigma_lst[label])))\n",
    "    df[['epoch','step']]=df[['epoch','step']].astype(int)\n",
    "    df['label']=df.epoch.astype(str)+'-'+df.step.astype(str) # Add label column for plotting\n",
    "    df_list.append(df)\n",
    "\n",
    "for i,df in enumerate(df_list):\n",
    "    df1=df.add_suffix('_'+str(i))\n",
    "    # renaming the columns to be joined on\n",
    "    keys=['epoch','step','img_type','label']\n",
    "    rename_cols_dict={key+'_'+str(i):key for key in keys}\n",
    "#     print(rename_cols_dict)\n",
    "    df1.rename(columns=rename_cols_dict,inplace=True) \n",
    "    df_list[i]=df1\n",
    "    \n",
    "df_merged=reduce(lambda x, y : pd.merge(x, y, on = ['step','epoch','img_type','label']), df_list)\n",
    "\n",
    "### Get sum of all 4 classes for 3 types of chi-squares\n",
    "for chi_type in ['chi_1','chi_spec1','chi_1b']:\n",
    "    keys=[chi_type+'_'+str(label) for label in labels_lst]\n",
    "#     display(df_merged[keys].sum(axis=1))\n",
    "    df_merged['sum_'+chi_type]=df_merged[keys].sum(axis=1)\n",
    "del df_list\n",
    "\n"
   ]
  },
  {
   "cell_type": "markdown",
   "metadata": {},
   "source": [
    "### Slice best steps"
   ]
  },
  {
   "cell_type": "code",
   "execution_count": 125,
   "metadata": {},
   "outputs": [],
   "source": [
    "def f_slice_merged_df(df,cutoff=0.2,sort_col='chi_1',col_mode='all',label='all',params_lst=[0,1,2],head=10,epoch_range=[0,None],use_sum=True,display_flag=False):\n",
    "    ''' View dataframe after slicing\n",
    "    '''\n",
    "\n",
    "    if epoch_range[1]==None: epoch_range[1]=df.max()['epoch']\n",
    "    df=df[(df.epoch<=epoch_range[1])&(df.epoch>=epoch_range[0])]\n",
    "\n",
    "    ######### Apply cutoff to keep reasonable chi1 and chispec1\n",
    "    #### Add chi-square columns to use\n",
    "    chi_cols=[]\n",
    "    if use_sum: ## Add sum chi-square columns\n",
    "        for j in ['chi_1','chi_spec1','chi_1b']: chi_cols.append('sum_'+j)\n",
    "        \n",
    "    if label=='all': ### Add chi-squares for all labels\n",
    "        for j in ['chi_1','chi_spec1','chi_1b']:\n",
    "            for idx,i in enumerate(params_lst): chi_cols.append(j+'_'+str(idx))\n",
    "    else: ## Add chi-square for specific label\n",
    "        assert label in params_lst, \"label %s is not in %s\"%(label,params_lst)\n",
    "        label_idx=params_lst.index(label)\n",
    "        print(label_idx)\n",
    "        for j in ['chi_1','chi_spec1','chi_1b']: chi_cols.append(j+'_'+str(label_idx))\n",
    "#     print(chi_cols)\n",
    "    q_dict=dict(df_merged.quantile(q=cutoff,axis=0)[chi_cols])\n",
    "    # print(q_dict)\n",
    "    strg=['%s < %s'%(key,q_dict[key]) for key in chi_cols ]\n",
    "    query=\" & \".join(strg)\n",
    "    # print(query)\n",
    "    df=df.query(query)\n",
    "    \n",
    "    # Sort dataframe\n",
    "    df1=df[df.epoch>0].sort_values(by=sort_col)\n",
    "    chis=[i for i in df_merged.columns if 'chi' in i]\n",
    "    col_list=['label']+chis+['epoch','step']\n",
    "    if (col_mode=='short'): \n",
    "        col_list=['label']+[i for i in df_merged.columns if i.startswith('sum')]\n",
    "        col_list=['label']+chi_cols\n",
    "    df2=df1.head(head)[col_list]\n",
    "    \n",
    "    if display_flag: display(df2) # Display df\n",
    "    \n",
    "    return df2\n",
    "\n",
    "# f_slice_merged_df(df_merged,cutoff=0.3,sort_col='sum_chi_1',label=0.65,params_lst=[0.5,0.65,0.8,1.1],use_sum=True,head=2000,display_flag=False,epoch_range=[7,None])"
   ]
  },
  {
   "cell_type": "code",
   "execution_count": 126,
   "metadata": {},
   "outputs": [
    {
     "data": {
      "application/vnd.jupyter.widget-view+json": {
       "model_id": "bd07aede24014317825e4f46330f0745",
       "version_major": 2,
       "version_minor": 0
      },
      "text/plain": [
       "interactive(children=(FloatSlider(value=0.3, description='cutoff', max=1.0, step=0.01), Dropdown(description='…"
      ]
     },
     "metadata": {},
     "output_type": "display_data"
    }
   ],
   "source": [
    "cols_to_sort=np.unique([i for i in df_merged.columns for j in ['chi_1_','chi_spec1_'] if ((i.startswith(j)) or (i.startswith('sum')))])\n",
    "\n",
    "w=interactive(f_slice_merged_df,df=fixed(df_merged),\n",
    "cutoff=widgets.FloatSlider(value=0.3, min=0, max=1.0, step=0.01), \n",
    "col_mode=['all','short'], display_flag=widgets.Checkbox(value=False),\n",
    "use_sum=widgets.Checkbox(value=True),\n",
    "label=ToggleButtons(options=['all']+sigma_lst), params_lst=fixed(sigma_lst),\n",
    "head=widgets.IntSlider(value=10,min=1,max=20,step=1),\n",
    "epoch_range=widgets.IntRangeSlider(value=[0,np.max(df.epoch.values)],min=0,max=np.max(df.epoch.values),step=1),\n",
    "sort_col=cols_to_sort\n",
    ")\n",
    "display(w)"
   ]
  },
  {
   "cell_type": "code",
   "execution_count": 127,
   "metadata": {},
   "outputs": [
    {
     "data": {
      "text/plain": [
       "[]"
      ]
     },
     "execution_count": 127,
     "metadata": {},
     "output_type": "execute_result"
    }
   ],
   "source": [
    "df_sliced=w.result\n",
    "[int(i.split('-')[1]) for i in df_sliced.label.values]\n",
    "\n",
    "\n",
    "# df_sliced"
   ]
  },
  {
   "cell_type": "code",
   "execution_count": 134,
   "metadata": {},
   "outputs": [
    {
     "name": "stdout",
     "output_type": "stream",
     "text": [
      "[ 1330  2310  3810  5350  9380  9560  9600  9640 10530 10740]\n"
     ]
    },
    {
     "data": {
      "text/plain": [
       "array([ 1330,  2310,  3810,  5350,  9380,  9560,  9600,  9640, 10530,\n",
       "       10740])"
      ]
     },
     "execution_count": 134,
     "metadata": {},
     "output_type": "execute_result"
    }
   ],
   "source": [
    "best_step=[]\n",
    "df_test=df_merged.copy()\n",
    "# df_test=df_merged[df_merged.epoch<50]\n",
    "cut_off=1.0\n",
    "\n",
    "best_step.append(f_slice_merged_df(df_test,cutoff=cut_off,sort_col='sum_chi_1',label='all',use_sum=True,head=4,display_flag=False,epoch_range=[7,None],params_lst=sigma_lst).step.values)\n",
    "best_step.append(f_slice_merged_df(df_test,cutoff=cut_off,sort_col='sum_chi_spec1',label='all',use_sum=True,head=4,display_flag=False,epoch_range=[7,None],params_lst=sigma_lst).step.values)\n",
    "best_step.append(f_slice_merged_df(df_test,cutoff=cut_off,sort_col='sum_chi_1b',label='all',use_sum=True,head=2,display_flag=False,epoch_range=[7,None],params_lst=sigma_lst).step.values)\n",
    "\n",
    "# best_step.append([46669,34281])\n",
    "best_step=np.unique([i for j in best_step for i in j])\n",
    "print(best_step)\n",
    "best_step"
   ]
  },
  {
   "cell_type": "code",
   "execution_count": 135,
   "metadata": {},
   "outputs": [],
   "source": [
    "# best_step=[6176]\n",
    "# best_step= [32300, 35810, 36020, 37030, 38640, 42480, 43850]\n",
    "# best_step=[int(i.split('-')[1]) for i in df_sliced.label.values]\n",
    "# best_step=np.arange(40130,40135).astype(int)"
   ]
  },
  {
   "cell_type": "code",
   "execution_count": 136,
   "metadata": {},
   "outputs": [
    {
     "name": "stdout",
     "output_type": "stream",
     "text": [
      "(10, 61)\n",
      "[(23, 1330), (41, 2310), (68, 3810), (95, 5350), (167, 9380), (170, 9560), (171, 9600), (172, 9640), (188, 10530), (191, 10740)]\n"
     ]
    }
   ],
   "source": [
    "df_best=df_merged[df_merged.step.isin(best_step)]\n",
    "print(df_best.shape)\n",
    "print([(df_best[df_best.step==step].epoch.values[0],df_best[df_best.step==step].step.values[0]) for step in best_step])\n",
    "# print([(df_best.loc[idx].epoch,df_best.loc[idx].step) for idx in best_idx])"
   ]
  },
  {
   "cell_type": "code",
   "execution_count": 137,
   "metadata": {},
   "outputs": [
    {
     "data": {
      "text/html": [
       "<div>\n",
       "<style scoped>\n",
       "    .dataframe tbody tr th:only-of-type {\n",
       "        vertical-align: middle;\n",
       "    }\n",
       "\n",
       "    .dataframe tbody tr th {\n",
       "        vertical-align: top;\n",
       "    }\n",
       "\n",
       "    .dataframe thead th {\n",
       "        text-align: right;\n",
       "    }\n",
       "</style>\n",
       "<table border=\"1\" class=\"dataframe\">\n",
       "  <thead>\n",
       "    <tr style=\"text-align: right;\">\n",
       "      <th></th>\n",
       "      <th>label</th>\n",
       "      <th>sum_chi_1</th>\n",
       "      <th>sum_chi_spec1</th>\n",
       "      <th>sum_chi_1b</th>\n",
       "    </tr>\n",
       "  </thead>\n",
       "  <tbody>\n",
       "    <tr>\n",
       "      <th>132</th>\n",
       "      <td>23-1330</td>\n",
       "      <td>0.147043</td>\n",
       "      <td>35.381978</td>\n",
       "      <td>0.023543</td>\n",
       "    </tr>\n",
       "    <tr>\n",
       "      <th>230</th>\n",
       "      <td>41-2310</td>\n",
       "      <td>0.159559</td>\n",
       "      <td>32.963848</td>\n",
       "      <td>0.050912</td>\n",
       "    </tr>\n",
       "    <tr>\n",
       "      <th>380</th>\n",
       "      <td>68-3810</td>\n",
       "      <td>0.159609</td>\n",
       "      <td>77.926795</td>\n",
       "      <td>0.115910</td>\n",
       "    </tr>\n",
       "    <tr>\n",
       "      <th>534</th>\n",
       "      <td>95-5350</td>\n",
       "      <td>0.157396</td>\n",
       "      <td>16.123480</td>\n",
       "      <td>0.029945</td>\n",
       "    </tr>\n",
       "    <tr>\n",
       "      <th>937</th>\n",
       "      <td>167-9380</td>\n",
       "      <td>0.322683</td>\n",
       "      <td>5.177577</td>\n",
       "      <td>0.017075</td>\n",
       "    </tr>\n",
       "    <tr>\n",
       "      <th>955</th>\n",
       "      <td>170-9560</td>\n",
       "      <td>0.484459</td>\n",
       "      <td>2.840307</td>\n",
       "      <td>0.137319</td>\n",
       "    </tr>\n",
       "    <tr>\n",
       "      <th>959</th>\n",
       "      <td>171-9600</td>\n",
       "      <td>0.415399</td>\n",
       "      <td>3.122166</td>\n",
       "      <td>0.030195</td>\n",
       "    </tr>\n",
       "    <tr>\n",
       "      <th>963</th>\n",
       "      <td>172-9640</td>\n",
       "      <td>0.416364</td>\n",
       "      <td>2.733556</td>\n",
       "      <td>0.060723</td>\n",
       "    </tr>\n",
       "    <tr>\n",
       "      <th>1052</th>\n",
       "      <td>188-10530</td>\n",
       "      <td>0.341138</td>\n",
       "      <td>3.227009</td>\n",
       "      <td>0.081146</td>\n",
       "    </tr>\n",
       "    <tr>\n",
       "      <th>1073</th>\n",
       "      <td>191-10740</td>\n",
       "      <td>0.273392</td>\n",
       "      <td>5.326543</td>\n",
       "      <td>0.018531</td>\n",
       "    </tr>\n",
       "  </tbody>\n",
       "</table>\n",
       "</div>"
      ],
      "text/plain": [
       "          label  sum_chi_1  sum_chi_spec1  sum_chi_1b\n",
       "132     23-1330   0.147043      35.381978    0.023543\n",
       "230     41-2310   0.159559      32.963848    0.050912\n",
       "380     68-3810   0.159609      77.926795    0.115910\n",
       "534     95-5350   0.157396      16.123480    0.029945\n",
       "937    167-9380   0.322683       5.177577    0.017075\n",
       "955    170-9560   0.484459       2.840307    0.137319\n",
       "959    171-9600   0.415399       3.122166    0.030195\n",
       "963    172-9640   0.416364       2.733556    0.060723\n",
       "1052  188-10530   0.341138       3.227009    0.081146\n",
       "1073  191-10740   0.273392       5.326543    0.018531"
      ]
     },
     "execution_count": 137,
     "metadata": {},
     "output_type": "execute_result"
    }
   ],
   "source": [
    "col_list=['label']+[i for i in df_merged.columns if i.startswith('sum')]\n",
    "df_best[col_list]"
   ]
  },
  {
   "cell_type": "markdown",
   "metadata": {},
   "source": [
    "### Interactive plot"
   ]
  },
  {
   "cell_type": "code",
   "execution_count": 138,
   "metadata": {
    "jupyter": {
     "source_hidden": true
    },
    "tags": []
   },
   "outputs": [],
   "source": [
    "\n",
    "def f_plot_hist_spec(df,param_labels,sigma_lst,steps_list,bkg_dict,plot_type,img_size):\n",
    "\n",
    "    assert plot_type in ['hist','spec','grid','spec_relative'],\"Invalid mode %s\"%(plot_type)\n",
    "\n",
    "    if plot_type in ['hist','spec','spec_relative']:     fig=plt.figure(figsize=(6,6))\n",
    "    for par_label in param_labels:\n",
    "        df=df[df.step.isin(steps_list)]\n",
    "#         print(df.shape)\n",
    "        idx=sigma_lst.index(par_label)\n",
    "        suffix='_%s'%(idx)\n",
    "        dict_bkg=bkg_dict[str(par_label)]\n",
    "        \n",
    "        for (i,row),marker in zip(df.iterrows(),itertools.cycle('>^*sDHPdpx_')):\n",
    "            label=row.label+'_'+str(par_label)\n",
    "            if plot_type=='hist':\n",
    "                x1=row['hist_bin_centers'+suffix]\n",
    "                y1=row['hist_val'+suffix]\n",
    "                yerr1=row['hist_err'+suffix]\n",
    "                x1=f_invtransform(x1)\n",
    "                \n",
    "                plt.errorbar(x1,y1,yerr1,marker=marker,markersize=5,linestyle='',label=label)\n",
    "            if plot_type=='spec':\n",
    "                y2=row['spec_val'+suffix]\n",
    "                yerr2=row['spec_sdev'+suffix]/np.sqrt(row['num_imgs'+suffix])\n",
    "                x2=np.arange(len(y2))\n",
    "\n",
    "                plt.fill_between(x2, y2 - yerr2, y2 + yerr2, alpha=0.4)\n",
    "                plt.plot(x2, y2, marker=marker, linestyle=':',label=label)\n",
    "\n",
    "            if plot_type=='spec_relative':\n",
    "\n",
    "                y2=row['spec_val'+suffix]\n",
    "                yerr2=row['spec_sdev'+suffix]\n",
    "                x2=np.arange(len(y2))\n",
    "\n",
    "                ### Reference spectrum\n",
    "                y1,yerr1=dict_bkg['spec_val'],dict_bkg['spec_sdev']\n",
    "                y=y2/y1\n",
    "                ## Variance is sum of variance of both variables, since they are uncorrelated\n",
    "\n",
    "                # delta_r= |r| * sqrt(delta_a/a)^2 +(\\delta_b/b)^2) / \\sqrt(N)\n",
    "                yerr=(np.abs(y))*np.sqrt((yerr1/y1)**2+(yerr2/y2)**2)/np.sqrt(row['num_imgs'+suffix])\n",
    "                \n",
    "                plt.fill_between(x2, y - yerr, y + yerr, alpha=0.4)\n",
    "                plt.plot(x2, y, marker=marker, linestyle=':',label=label)\n",
    "\n",
    "            if plot_type=='grid':\n",
    "                images=np.load(row['fname'+suffix])[:,0,:,:,0]\n",
    "                print(images.shape)\n",
    "                f_plot_grid(images[:8],cols=4,fig_size=(8,4))\n",
    "            \n",
    "        ### Plot reference data\n",
    "        if plot_type=='hist':\n",
    "            x,y,yerr=dict_bkg['hist_bin_centers'],dict_bkg['hist_val'],dict_bkg['hist_err']\n",
    "            x=f_invtransform(x)\n",
    "            plt.errorbar(x, y,yerr,color='k',linestyle='-',label='bkgnd')   \n",
    "            plt.title('Pixel Intensity Histogram')\n",
    "            plt.xscale('symlog',linthreshx=50)\n",
    "        \n",
    "        if plot_type=='spec':\n",
    "            y,yerr=dict_bkg['spec_val'],dict_bkg['spec_sdev']/np.sqrt(num_bkgnd)\n",
    "            x=np.arange(len(y))\n",
    "            plt.fill_between(x, y - yerr, y + yerr, color='k',alpha=0.8)\n",
    "            plt.title('Spectrum')\n",
    "            plt.xlim(0,img_size/2)\n",
    "\n",
    "        if plot_type=='spec_relative':\n",
    "            plt.axhline(y=1.0,color='k',linestyle='-.')\n",
    "            plt.title(\"Relative spectrum\")\n",
    "            plt.xlim(0,img_size/2)\n",
    "            plt.ylim(0.5,2)\n",
    "\n",
    "    if plot_type in ['hist','spec']:     \n",
    "        plt.yscale('log')\n",
    "    plt.legend(bbox_to_anchor=(0.3, 0.75),ncol=2, fancybox=True, shadow=True,prop={'size':6})\n",
    "\n",
    "\n",
    "# f_plot_hist_spec(df_merged,[sigma_lst[-1]],sigma_lst,[best_step[0]],bkgnd_dict,'hist')"
   ]
  },
  {
   "cell_type": "code",
   "execution_count": 139,
   "metadata": {},
   "outputs": [
    {
     "data": {
      "application/vnd.jupyter.widget-view+json": {
       "model_id": "dd4671f0dae541509de980c41987c425",
       "version_major": 2,
       "version_minor": 0
      },
      "text/plain": [
       "interactive(children=(SelectMultiple(description='param_labels', options=('0.5', '0.8', '1.1'), value=()), Sel…"
      ]
     },
     "metadata": {},
     "output_type": "display_data"
    },
    {
     "data": {
      "text/plain": [
       "<function __main__.f_plot_hist_spec(df, param_labels, sigma_lst, steps_list, bkg_dict, plot_type, img_size)>"
      ]
     },
     "execution_count": 139,
     "metadata": {},
     "output_type": "execute_result"
    }
   ],
   "source": [
    "interact_manual(f_plot_hist_spec,df=fixed(df_merged),\n",
    "                param_labels=SelectMultiple(options=sigma_lst),sigma_lst=fixed(sigma_lst),\n",
    "                steps_list=SelectMultiple(options=best_step),\n",
    "                img_size=fixed(img_size),\n",
    "                bkg_dict=fixed(bkgnd_dict),plot_type=ToggleButtons(options=['hist','spec','grid','spec_relative']))"
   ]
  },
  {
   "cell_type": "code",
   "execution_count": null,
   "metadata": {},
   "outputs": [],
   "source": []
  },
  {
   "cell_type": "code",
   "execution_count": 67,
   "metadata": {},
   "outputs": [],
   "source": [
    "# ### Check deterministic\n",
    "# main_dir='/global/cfs/cdirs/m3363/vayyar/cosmogan_data/results_from_other_code/pytorch/results/128sq/'\n",
    "# epoch,step=0,230\n",
    "# f1='20210113_185116_cgan_predict_0.65_m2/images/gen_img_label-0.5_epoch-{0}_step-{1}.npy'.format(epoch,step)\n",
    "# f2='20210113_092234_cgan_predict_0.65_m2/images/gen_img_label-0.5_epoch-{0}_step-{1}.npy'.format(epoch,step)\n",
    "\n",
    "# epoch,step=3,20\n",
    "# f1='20210114_191648_nb_test/images/gen_img_label-0.5_epoch-{0}_step-{1}.npy'.format(epoch,step)\n",
    "# f2='20210114_193009_nb_test/images/gen_img_label-0.5_epoch-{0}_step-{1}.npy'.format(epoch,step)\n",
    "\n",
    "# a1=np.load(main_dir+f1)\n",
    "# a2=np.load(main_dir+f2)\n",
    "# # print(a1.shape,a2.shape)\n",
    "\n",
    "# print(np.mean(a1),np.mean(a2))\n",
    "# print(np.max(a1),np.max(a2))"
   ]
  },
  {
   "cell_type": "markdown",
   "metadata": {},
   "source": [
    "### Delete unwanted stored models\n",
    "(Since deterministic runs aren't working well )"
   ]
  },
  {
   "cell_type": "code",
   "execution_count": 68,
   "metadata": {},
   "outputs": [],
   "source": [
    "# # fldr='/global/cfs/cdirs/m3363/vayyar/cosmogan_data/results_from_other_code/pytorch/results/128sq/20210119_134802_cgan_predict_0.65_m2/models'\n",
    "# fldr=result_dir\n",
    "# print(fldr)\n",
    "# flist=glob.glob(fldr+'/models/checkpoint_*.tar')\n",
    "# len(flist)"
   ]
  },
  {
   "cell_type": "code",
   "execution_count": 69,
   "metadata": {},
   "outputs": [],
   "source": [
    "# # Delete unwanted stored images\n",
    "# for i in flist:\n",
    "#     try:\n",
    "#         step=int(i.split('/')[-1].split('_')[-1].split('.')[0])\n",
    "#         if step not in best_step:\n",
    "# #             print(\"Found\")\n",
    "# #             print(step)\n",
    "#             os.remove(i)\n",
    "#             pass\n",
    "#         else: \n",
    "#             print(step)\n",
    "# #             print(i)\n",
    "#     except Exception as e:\n",
    "# #         print(e)\n",
    "# #         print(i)\n",
    "#         pass"
   ]
  },
  {
   "cell_type": "code",
   "execution_count": 70,
   "metadata": {},
   "outputs": [
    {
     "data": {
      "text/plain": [
       "array([ 980, 1020, 1040, 1280, 1330, 1340, 1410, 1760, 2070, 2310])"
      ]
     },
     "execution_count": 70,
     "metadata": {},
     "output_type": "execute_result"
    }
   ],
   "source": [
    "best_step"
   ]
  },
  {
   "cell_type": "code",
   "execution_count": 71,
   "metadata": {},
   "outputs": [],
   "source": [
    "# ! du -hs  /global/cfs/cdirs/m3363/vayyar/cosmogan_data/raw_data/3d_data/dataset2a_3dcgan_4univs_64cube_simple_splicing/norm_1_sig_0.5_train_val.npy"
   ]
  },
  {
   "cell_type": "code",
   "execution_count": null,
   "metadata": {},
   "outputs": [],
   "source": []
  }
 ],
 "metadata": {
  "kernelspec": {
   "display_name": "v3",
   "language": "python",
   "name": "v-jpt-3"
  },
  "language_info": {
   "codemirror_mode": {
    "name": "ipython",
    "version": 3
   },
   "file_extension": ".py",
   "mimetype": "text/x-python",
   "name": "python",
   "nbconvert_exporter": "python",
   "pygments_lexer": "ipython3",
   "version": "3.8.6"
  }
 },
 "nbformat": 4,
 "nbformat_minor": 4
}

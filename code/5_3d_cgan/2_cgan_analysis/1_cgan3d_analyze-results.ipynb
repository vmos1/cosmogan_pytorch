{
 "cells": [
  {
   "cell_type": "markdown",
   "metadata": {},
   "source": [
    "# Analyze results for 3D CGAN\n",
    "Feb 22, 2021"
   ]
  },
  {
   "cell_type": "code",
   "execution_count": 1,
   "metadata": {},
   "outputs": [],
   "source": [
    "import     numpy as np\n",
    "import matplotlib.pyplot as plt\n",
    "import pandas as pd\n",
    "\n",
    "import subprocess as sp\n",
    "import sys\n",
    "import os\n",
    "import glob\n",
    "import pickle \n",
    "\n",
    "from matplotlib.colors import LogNorm, PowerNorm, Normalize\n",
    "import seaborn as sns\n",
    "from functools import reduce"
   ]
  },
  {
   "cell_type": "code",
   "execution_count": 2,
   "metadata": {},
   "outputs": [],
   "source": [
    "from ipywidgets import *"
   ]
  },
  {
   "cell_type": "code",
   "execution_count": 3,
   "metadata": {},
   "outputs": [],
   "source": [
    "%matplotlib widget"
   ]
  },
  {
   "cell_type": "code",
   "execution_count": 4,
   "metadata": {},
   "outputs": [],
   "source": [
    "sys.path.append('/global/u1/v/vpa/project/jpt_notebooks/Cosmology/Cosmo_GAN/repositories/cosmogan_pytorch/code/modules_image_analysis/')\n",
    "from modules_img_analysis import *"
   ]
  },
  {
   "cell_type": "code",
   "execution_count": 5,
   "metadata": {},
   "outputs": [],
   "source": [
    "sys.path.append('/global/u1/v/vpa/project/jpt_notebooks/Cosmology/Cosmo_GAN/repositories/cosmogan_pytorch/code/5_3d_cgan/1_main_code/')\n",
    "import post_analysis_pandas as post\n"
   ]
  },
  {
   "cell_type": "code",
   "execution_count": 6,
   "metadata": {},
   "outputs": [],
   "source": [
    "### Transformation functions for image pixel values\n",
    "def f_transform(x):\n",
    "    return 2.*x/(x + 4.) - 1.\n",
    "\n",
    "def f_invtransform(s):\n",
    "    return 4.*(1. + s)/(1. - s)\n"
   ]
  },
  {
   "cell_type": "markdown",
   "metadata": {},
   "source": [
    "### Read validation data"
   ]
  },
  {
   "cell_type": "code",
   "execution_count": 7,
   "metadata": {},
   "outputs": [
    {
     "name": "stdout",
     "output_type": "stream",
     "text": [
      "/global/cfs/cdirs/m3363/vayyar/cosmogan_data/raw_data/3d_data/dataset2a_3dcgan_4univs_64cube_simple_splicing/norm_1_sig_0.5_train_val.npy\n",
      "/global/cfs/cdirs/m3363/vayyar/cosmogan_data/raw_data/3d_data/dataset2a_3dcgan_4univs_64cube_simple_splicing/norm_1_sig_0.65_train_val.npy\n",
      "/global/cfs/cdirs/m3363/vayyar/cosmogan_data/raw_data/3d_data/dataset2a_3dcgan_4univs_64cube_simple_splicing/norm_1_sig_0.8_train_val.npy\n",
      "/global/cfs/cdirs/m3363/vayyar/cosmogan_data/raw_data/3d_data/dataset2a_3dcgan_4univs_64cube_simple_splicing/norm_1_sig_1.1_train_val.npy\n"
     ]
    }
   ],
   "source": [
    "# bins=np.concatenate([np.array([-0.5]),np.arange(0.5,20.5,1),np.arange(20.5,100.5,5),np.arange(100.5,1000.5,50),np.array([2000])]) #bin edges to use\n",
    "bins=np.concatenate([np.array([-0.5]),np.arange(0.5,100.5,5),np.arange(100.5,300.5,20),np.arange(300.5,1000.5,50),np.array([2000])]) #bin edges to use\n",
    "\n",
    "bins=f_transform(bins)   ### scale to (-1,1)\n",
    "# ### Extract validation data\n",
    "sigma_lst=[0.5,0.65,0.8,1.1]\n",
    "labels_lst=range(len(sigma_lst))\n",
    "bkgnd_dict={}\n",
    "num_bkgnd=200\n",
    "\n",
    "for label in labels_lst:\n",
    "    fname='/global/cfs/cdirs/m3363/vayyar/cosmogan_data/raw_data/3d_data/dataset2a_3dcgan_4univs_64cube_simple_splicing/norm_1_sig_{0}_train_val.npy'.format(sigma_lst[label])\n",
    "    print(fname)\n",
    "    samples=np.load(fname,mmap_mode='r')[-num_bkgnd:][:,0,:,:]\n",
    "    \n",
    "    dict_val=post.f_compute_hist_spect(samples,bins)\n",
    "    bkgnd_dict[str(sigma_lst[label])]=dict_val\n",
    "    del samples"
   ]
  },
  {
   "cell_type": "markdown",
   "metadata": {},
   "source": [
    "## Read data"
   ]
  },
  {
   "cell_type": "code",
   "execution_count": 8,
   "metadata": {},
   "outputs": [],
   "source": [
    "# main_dir='/global/cfs/cdirs/m3363/vayyar/cosmogan_data/results_from_other_code/pytorch/results/128sq/'\n",
    "# results_dir=main_dir+'20201002_064327'"
   ]
  },
  {
   "cell_type": "code",
   "execution_count": 9,
   "metadata": {},
   "outputs": [],
   "source": [
    "dict1={'64':'/global/cfs/cdirs/m3363/vayyar/cosmogan_data/results_from_other_code/pytorch/results/3d_cGAN/',\n",
    "      '512':'/global/cfs/cdirs/m3363/vayyar/cosmogan_data/results_from_other_code/pytorch/results/3d_cGAN/'}\n",
    "\n",
    "u=interactive(lambda x: dict1[x], x=Select(options=dict1.keys()))\n",
    "# display(u)\n"
   ]
  },
  {
   "cell_type": "code",
   "execution_count": 68,
   "metadata": {},
   "outputs": [
    {
     "data": {
      "application/vnd.jupyter.widget-view+json": {
       "model_id": "ac92b06c63314404bb3e7c8857a23708",
       "version_major": 2,
       "version_minor": 0
      },
      "text/plain": [
       "interactive(children=(Dropdown(description='x', options=('20210509_30022_cgan_bs32_lr0.00003_nodes2_spec1.0', …"
      ]
     },
     "metadata": {},
     "output_type": "display_data"
    }
   ],
   "source": [
    "# parent_dir=u.result\n",
    "img_size=64\n",
    "parent_dir=dict1[str(img_size)]\n",
    "dir_lst=[i.split('/')[-1] for i in glob.glob(parent_dir+'2021*')]\n",
    "n=interactive(lambda x: x, x=Dropdown(options=dir_lst))\n",
    "display(n)"
   ]
  },
  {
   "cell_type": "code",
   "execution_count": 69,
   "metadata": {},
   "outputs": [
    {
     "name": "stdout",
     "output_type": "stream",
     "text": [
      "/global/cfs/cdirs/m3363/vayyar/cosmogan_data/results_from_other_code/pytorch/results/3d_cGAN/20210519_81818_cgan_bs16_lr0.001_nodes8_spec0.1_lrg0.001fixed_lrd-fastfall_good-results\n"
     ]
    }
   ],
   "source": [
    "result=n.result\n",
    "result_dir=parent_dir+result\n",
    "print(result_dir)"
   ]
  },
  {
   "cell_type": "markdown",
   "metadata": {},
   "source": [
    "## Plot Losses"
   ]
  },
  {
   "cell_type": "code",
   "execution_count": 70,
   "metadata": {},
   "outputs": [],
   "source": [
    "df_metrics=pd.read_pickle(result_dir+'/df_metrics.pkle').astype(np.float64)\n"
   ]
  },
  {
   "cell_type": "code",
   "execution_count": 71,
   "metadata": {},
   "outputs": [
    {
     "data": {
      "text/html": [
       "<div>\n",
       "<style scoped>\n",
       "    .dataframe tbody tr th:only-of-type {\n",
       "        vertical-align: middle;\n",
       "    }\n",
       "\n",
       "    .dataframe tbody tr th {\n",
       "        vertical-align: top;\n",
       "    }\n",
       "\n",
       "    .dataframe thead th {\n",
       "        text-align: right;\n",
       "    }\n",
       "</style>\n",
       "<table border=\"1\" class=\"dataframe\">\n",
       "  <thead>\n",
       "    <tr style=\"text-align: right;\">\n",
       "      <th></th>\n",
       "      <th>step</th>\n",
       "      <th>epoch</th>\n",
       "      <th>Dreal</th>\n",
       "      <th>Dfake</th>\n",
       "      <th>Dfull</th>\n",
       "      <th>G_adv</th>\n",
       "      <th>G_full</th>\n",
       "      <th>spec_loss</th>\n",
       "      <th>hist_loss</th>\n",
       "      <th>spec_chi</th>\n",
       "      <th>hist_chi</th>\n",
       "      <th>gp_loss</th>\n",
       "      <th>fm_loss</th>\n",
       "      <th>D(x)</th>\n",
       "      <th>D_G_z1</th>\n",
       "      <th>D_G_z2</th>\n",
       "      <th>time</th>\n",
       "      <th>lr_d</th>\n",
       "      <th>lr_g</th>\n",
       "    </tr>\n",
       "  </thead>\n",
       "  <tbody>\n",
       "    <tr>\n",
       "      <th>11135</th>\n",
       "      <td>11135.0</td>\n",
       "      <td>198.0</td>\n",
       "      <td>0.313004</td>\n",
       "      <td>0.792459</td>\n",
       "      <td>1.105463</td>\n",
       "      <td>1.821980</td>\n",
       "      <td>12.773796</td>\n",
       "      <td>10.951817</td>\n",
       "      <td>-1.339392</td>\n",
       "      <td>10.780916</td>\n",
       "      <td>-1.732129</td>\n",
       "      <td>NaN</td>\n",
       "      <td>NaN</td>\n",
       "      <td>1.589145</td>\n",
       "      <td>0.221057</td>\n",
       "      <td>-1.633208</td>\n",
       "      <td>0.446085</td>\n",
       "      <td>0.00004</td>\n",
       "      <td>0.001</td>\n",
       "    </tr>\n",
       "    <tr>\n",
       "      <th>11136</th>\n",
       "      <td>11136.0</td>\n",
       "      <td>198.0</td>\n",
       "      <td>1.240935</td>\n",
       "      <td>0.439798</td>\n",
       "      <td>1.680733</td>\n",
       "      <td>1.758961</td>\n",
       "      <td>12.709692</td>\n",
       "      <td>10.950731</td>\n",
       "      <td>-1.076253</td>\n",
       "      <td>10.752852</td>\n",
       "      <td>-1.479661</td>\n",
       "      <td>NaN</td>\n",
       "      <td>NaN</td>\n",
       "      <td>-0.972229</td>\n",
       "      <td>-0.721548</td>\n",
       "      <td>-1.562589</td>\n",
       "      <td>0.441227</td>\n",
       "      <td>0.00004</td>\n",
       "      <td>0.001</td>\n",
       "    </tr>\n",
       "    <tr>\n",
       "      <th>11137</th>\n",
       "      <td>11137.0</td>\n",
       "      <td>198.0</td>\n",
       "      <td>0.989422</td>\n",
       "      <td>0.240334</td>\n",
       "      <td>1.229756</td>\n",
       "      <td>2.109740</td>\n",
       "      <td>13.459494</td>\n",
       "      <td>11.349754</td>\n",
       "      <td>-1.915864</td>\n",
       "      <td>11.025854</td>\n",
       "      <td>-0.502558</td>\n",
       "      <td>NaN</td>\n",
       "      <td>NaN</td>\n",
       "      <td>-0.467275</td>\n",
       "      <td>-3.382426</td>\n",
       "      <td>-1.958330</td>\n",
       "      <td>0.446410</td>\n",
       "      <td>0.00004</td>\n",
       "      <td>0.001</td>\n",
       "    </tr>\n",
       "    <tr>\n",
       "      <th>11138</th>\n",
       "      <td>11138.0</td>\n",
       "      <td>198.0</td>\n",
       "      <td>0.475840</td>\n",
       "      <td>1.261708</td>\n",
       "      <td>1.737548</td>\n",
       "      <td>0.643845</td>\n",
       "      <td>11.481295</td>\n",
       "      <td>10.837450</td>\n",
       "      <td>-1.109342</td>\n",
       "      <td>11.041001</td>\n",
       "      <td>-2.024842</td>\n",
       "      <td>NaN</td>\n",
       "      <td>NaN</td>\n",
       "      <td>0.644260</td>\n",
       "      <td>1.020962</td>\n",
       "      <td>0.126962</td>\n",
       "      <td>0.451397</td>\n",
       "      <td>0.00004</td>\n",
       "      <td>0.001</td>\n",
       "    </tr>\n",
       "    <tr>\n",
       "      <th>11139</th>\n",
       "      <td>11139.0</td>\n",
       "      <td>198.0</td>\n",
       "      <td>0.454224</td>\n",
       "      <td>0.433245</td>\n",
       "      <td>0.887468</td>\n",
       "      <td>1.872421</td>\n",
       "      <td>12.630818</td>\n",
       "      <td>10.758397</td>\n",
       "      <td>-1.309486</td>\n",
       "      <td>10.944353</td>\n",
       "      <td>-1.104355</td>\n",
       "      <td>NaN</td>\n",
       "      <td>NaN</td>\n",
       "      <td>1.271975</td>\n",
       "      <td>-0.693325</td>\n",
       "      <td>-1.690527</td>\n",
       "      <td>0.445293</td>\n",
       "      <td>0.00004</td>\n",
       "      <td>0.001</td>\n",
       "    </tr>\n",
       "    <tr>\n",
       "      <th>11140</th>\n",
       "      <td>11140.0</td>\n",
       "      <td>198.0</td>\n",
       "      <td>0.761594</td>\n",
       "      <td>0.705534</td>\n",
       "      <td>1.467129</td>\n",
       "      <td>1.340603</td>\n",
       "      <td>12.267957</td>\n",
       "      <td>10.927354</td>\n",
       "      <td>-1.502202</td>\n",
       "      <td>10.895038</td>\n",
       "      <td>-1.134294</td>\n",
       "      <td>NaN</td>\n",
       "      <td>NaN</td>\n",
       "      <td>0.011960</td>\n",
       "      <td>0.016573</td>\n",
       "      <td>-0.993889</td>\n",
       "      <td>0.447725</td>\n",
       "      <td>0.00004</td>\n",
       "      <td>0.001</td>\n",
       "    </tr>\n",
       "    <tr>\n",
       "      <th>11141</th>\n",
       "      <td>11141.0</td>\n",
       "      <td>198.0</td>\n",
       "      <td>0.617991</td>\n",
       "      <td>1.519812</td>\n",
       "      <td>2.137803</td>\n",
       "      <td>1.010338</td>\n",
       "      <td>11.670246</td>\n",
       "      <td>10.659908</td>\n",
       "      <td>-1.346353</td>\n",
       "      <td>10.902574</td>\n",
       "      <td>-1.447592</td>\n",
       "      <td>NaN</td>\n",
       "      <td>NaN</td>\n",
       "      <td>0.115736</td>\n",
       "      <td>1.378831</td>\n",
       "      <td>-0.434655</td>\n",
       "      <td>0.446635</td>\n",
       "      <td>0.00004</td>\n",
       "      <td>0.001</td>\n",
       "    </tr>\n",
       "    <tr>\n",
       "      <th>11142</th>\n",
       "      <td>11142.0</td>\n",
       "      <td>198.0</td>\n",
       "      <td>1.105637</td>\n",
       "      <td>0.539011</td>\n",
       "      <td>1.644648</td>\n",
       "      <td>1.327956</td>\n",
       "      <td>12.361921</td>\n",
       "      <td>11.033966</td>\n",
       "      <td>-1.731195</td>\n",
       "      <td>10.554852</td>\n",
       "      <td>-1.070734</td>\n",
       "      <td>NaN</td>\n",
       "      <td>NaN</td>\n",
       "      <td>-0.623228</td>\n",
       "      <td>-0.526829</td>\n",
       "      <td>-0.992547</td>\n",
       "      <td>0.454102</td>\n",
       "      <td>0.00004</td>\n",
       "      <td>0.001</td>\n",
       "    </tr>\n",
       "    <tr>\n",
       "      <th>11143</th>\n",
       "      <td>11143.0</td>\n",
       "      <td>198.0</td>\n",
       "      <td>0.671285</td>\n",
       "      <td>0.255302</td>\n",
       "      <td>0.926587</td>\n",
       "      <td>2.207064</td>\n",
       "      <td>13.341923</td>\n",
       "      <td>11.134859</td>\n",
       "      <td>-1.527375</td>\n",
       "      <td>10.950363</td>\n",
       "      <td>-2.013900</td>\n",
       "      <td>NaN</td>\n",
       "      <td>NaN</td>\n",
       "      <td>0.007713</td>\n",
       "      <td>-3.090224</td>\n",
       "      <td>-2.086445</td>\n",
       "      <td>0.442512</td>\n",
       "      <td>0.00004</td>\n",
       "      <td>0.001</td>\n",
       "    </tr>\n",
       "    <tr>\n",
       "      <th>11144</th>\n",
       "      <td>NaN</td>\n",
       "      <td>NaN</td>\n",
       "      <td>NaN</td>\n",
       "      <td>NaN</td>\n",
       "      <td>NaN</td>\n",
       "      <td>NaN</td>\n",
       "      <td>NaN</td>\n",
       "      <td>NaN</td>\n",
       "      <td>NaN</td>\n",
       "      <td>10.987511</td>\n",
       "      <td>-1.813194</td>\n",
       "      <td>NaN</td>\n",
       "      <td>NaN</td>\n",
       "      <td>NaN</td>\n",
       "      <td>NaN</td>\n",
       "      <td>NaN</td>\n",
       "      <td>NaN</td>\n",
       "      <td>NaN</td>\n",
       "      <td>NaN</td>\n",
       "    </tr>\n",
       "  </tbody>\n",
       "</table>\n",
       "</div>"
      ],
      "text/plain": [
       "          step  epoch     Dreal     Dfake     Dfull     G_adv     G_full  \\\n",
       "11135  11135.0  198.0  0.313004  0.792459  1.105463  1.821980  12.773796   \n",
       "11136  11136.0  198.0  1.240935  0.439798  1.680733  1.758961  12.709692   \n",
       "11137  11137.0  198.0  0.989422  0.240334  1.229756  2.109740  13.459494   \n",
       "11138  11138.0  198.0  0.475840  1.261708  1.737548  0.643845  11.481295   \n",
       "11139  11139.0  198.0  0.454224  0.433245  0.887468  1.872421  12.630818   \n",
       "11140  11140.0  198.0  0.761594  0.705534  1.467129  1.340603  12.267957   \n",
       "11141  11141.0  198.0  0.617991  1.519812  2.137803  1.010338  11.670246   \n",
       "11142  11142.0  198.0  1.105637  0.539011  1.644648  1.327956  12.361921   \n",
       "11143  11143.0  198.0  0.671285  0.255302  0.926587  2.207064  13.341923   \n",
       "11144      NaN    NaN       NaN       NaN       NaN       NaN        NaN   \n",
       "\n",
       "       spec_loss  hist_loss   spec_chi  hist_chi  gp_loss  fm_loss      D(x)  \\\n",
       "11135  10.951817  -1.339392  10.780916 -1.732129      NaN      NaN  1.589145   \n",
       "11136  10.950731  -1.076253  10.752852 -1.479661      NaN      NaN -0.972229   \n",
       "11137  11.349754  -1.915864  11.025854 -0.502558      NaN      NaN -0.467275   \n",
       "11138  10.837450  -1.109342  11.041001 -2.024842      NaN      NaN  0.644260   \n",
       "11139  10.758397  -1.309486  10.944353 -1.104355      NaN      NaN  1.271975   \n",
       "11140  10.927354  -1.502202  10.895038 -1.134294      NaN      NaN  0.011960   \n",
       "11141  10.659908  -1.346353  10.902574 -1.447592      NaN      NaN  0.115736   \n",
       "11142  11.033966  -1.731195  10.554852 -1.070734      NaN      NaN -0.623228   \n",
       "11143  11.134859  -1.527375  10.950363 -2.013900      NaN      NaN  0.007713   \n",
       "11144        NaN        NaN  10.987511 -1.813194      NaN      NaN       NaN   \n",
       "\n",
       "         D_G_z1    D_G_z2      time     lr_d   lr_g  \n",
       "11135  0.221057 -1.633208  0.446085  0.00004  0.001  \n",
       "11136 -0.721548 -1.562589  0.441227  0.00004  0.001  \n",
       "11137 -3.382426 -1.958330  0.446410  0.00004  0.001  \n",
       "11138  1.020962  0.126962  0.451397  0.00004  0.001  \n",
       "11139 -0.693325 -1.690527  0.445293  0.00004  0.001  \n",
       "11140  0.016573 -0.993889  0.447725  0.00004  0.001  \n",
       "11141  1.378831 -0.434655  0.446635  0.00004  0.001  \n",
       "11142 -0.526829 -0.992547  0.454102  0.00004  0.001  \n",
       "11143 -3.090224 -2.086445  0.442512  0.00004  0.001  \n",
       "11144       NaN       NaN       NaN      NaN    NaN  "
      ]
     },
     "execution_count": 71,
     "metadata": {},
     "output_type": "execute_result"
    }
   ],
   "source": [
    "df_metrics.tail(10)"
   ]
  },
  {
   "cell_type": "code",
   "execution_count": 72,
   "metadata": {},
   "outputs": [
    {
     "data": {
      "application/vnd.jupyter.widget-view+json": {
       "model_id": "dbc9aab43f6c4243b90cd55c39f4815d",
       "version_major": 2,
       "version_minor": 0
      },
      "text/plain": [
       "interactive(children=(SelectMultiple(description='col_list', options=('step', 'epoch', 'Dreal', 'Dfake', 'Dful…"
      ]
     },
     "metadata": {},
     "output_type": "display_data"
    },
    {
     "data": {
      "text/plain": [
       "<function __main__.f_plot_metrics(df, col_list)>"
      ]
     },
     "execution_count": 72,
     "metadata": {},
     "output_type": "execute_result"
    }
   ],
   "source": [
    "def f_plot_metrics(df,col_list):\n",
    "    \n",
    "    plt.figure()\n",
    "    for key in col_list:\n",
    "        plt.plot(df_metrics[key],label=key,marker='*',linestyle='')\n",
    "    plt.legend()\n",
    "    \n",
    "#     col_list=list(col_list)\n",
    "#     df.plot(kind='line',x='step',y=col_list)\n",
    "    \n",
    "# f_plot_metrics(df_metrics,['spec_chi','hist_chi'])\n",
    "\n",
    "interact_manual(f_plot_metrics,df=fixed(df_metrics), col_list=SelectMultiple(options=df_metrics.columns.values))"
   ]
  },
  {
   "cell_type": "code",
   "execution_count": 73,
   "metadata": {},
   "outputs": [
    {
     "name": "stdout",
     "output_type": "stream",
     "text": [
      "-1.549947237968445\n"
     ]
    },
    {
     "data": {
      "text/html": [
       "<div>\n",
       "<style scoped>\n",
       "    .dataframe tbody tr th:only-of-type {\n",
       "        vertical-align: middle;\n",
       "    }\n",
       "\n",
       "    .dataframe tbody tr th {\n",
       "        vertical-align: top;\n",
       "    }\n",
       "\n",
       "    .dataframe thead th {\n",
       "        text-align: right;\n",
       "    }\n",
       "</style>\n",
       "<table border=\"1\" class=\"dataframe\">\n",
       "  <thead>\n",
       "    <tr style=\"text-align: right;\">\n",
       "      <th></th>\n",
       "      <th>step</th>\n",
       "      <th>epoch</th>\n",
       "      <th>Dreal</th>\n",
       "      <th>Dfake</th>\n",
       "      <th>Dfull</th>\n",
       "      <th>G_adv</th>\n",
       "      <th>G_full</th>\n",
       "      <th>spec_loss</th>\n",
       "      <th>hist_loss</th>\n",
       "      <th>spec_chi</th>\n",
       "      <th>hist_chi</th>\n",
       "      <th>gp_loss</th>\n",
       "      <th>fm_loss</th>\n",
       "      <th>D(x)</th>\n",
       "      <th>D_G_z1</th>\n",
       "      <th>D_G_z2</th>\n",
       "      <th>time</th>\n",
       "      <th>lr_d</th>\n",
       "      <th>lr_g</th>\n",
       "    </tr>\n",
       "  </thead>\n",
       "  <tbody>\n",
       "    <tr>\n",
       "      <th>10497</th>\n",
       "      <td>10497.0</td>\n",
       "      <td>187.0</td>\n",
       "      <td>0.324436</td>\n",
       "      <td>2.153802</td>\n",
       "      <td>2.478238</td>\n",
       "      <td>0.257307</td>\n",
       "      <td>11.209203</td>\n",
       "      <td>10.951897</td>\n",
       "      <td>-2.362013</td>\n",
       "      <td>11.018742</td>\n",
       "      <td>-2.468393</td>\n",
       "      <td>NaN</td>\n",
       "      <td>NaN</td>\n",
       "      <td>1.531428</td>\n",
       "      <td>2.165398</td>\n",
       "      <td>1.285086</td>\n",
       "      <td>0.444990</td>\n",
       "      <td>0.00004</td>\n",
       "      <td>0.001</td>\n",
       "    </tr>\n",
       "    <tr>\n",
       "      <th>9922</th>\n",
       "      <td>9922.0</td>\n",
       "      <td>177.0</td>\n",
       "      <td>0.572389</td>\n",
       "      <td>0.678252</td>\n",
       "      <td>1.250641</td>\n",
       "      <td>1.186734</td>\n",
       "      <td>12.262208</td>\n",
       "      <td>11.075474</td>\n",
       "      <td>-1.886291</td>\n",
       "      <td>10.721121</td>\n",
       "      <td>-2.459720</td>\n",
       "      <td>NaN</td>\n",
       "      <td>NaN</td>\n",
       "      <td>0.358609</td>\n",
       "      <td>-0.074545</td>\n",
       "      <td>-0.786401</td>\n",
       "      <td>0.445319</td>\n",
       "      <td>0.00004</td>\n",
       "      <td>0.001</td>\n",
       "    </tr>\n",
       "    <tr>\n",
       "      <th>6188</th>\n",
       "      <td>6188.0</td>\n",
       "      <td>110.0</td>\n",
       "      <td>0.349315</td>\n",
       "      <td>0.423108</td>\n",
       "      <td>0.772424</td>\n",
       "      <td>3.498863</td>\n",
       "      <td>13.578798</td>\n",
       "      <td>10.079935</td>\n",
       "      <td>-1.211259</td>\n",
       "      <td>11.009881</td>\n",
       "      <td>-2.440436</td>\n",
       "      <td>NaN</td>\n",
       "      <td>NaN</td>\n",
       "      <td>1.294411</td>\n",
       "      <td>-0.887915</td>\n",
       "      <td>-3.465864</td>\n",
       "      <td>0.442240</td>\n",
       "      <td>0.00009</td>\n",
       "      <td>0.001</td>\n",
       "    </tr>\n",
       "    <tr>\n",
       "      <th>10508</th>\n",
       "      <td>10508.0</td>\n",
       "      <td>187.0</td>\n",
       "      <td>0.526376</td>\n",
       "      <td>1.480592</td>\n",
       "      <td>2.006968</td>\n",
       "      <td>0.787382</td>\n",
       "      <td>11.735760</td>\n",
       "      <td>10.948378</td>\n",
       "      <td>-2.068357</td>\n",
       "      <td>11.063896</td>\n",
       "      <td>-2.427352</td>\n",
       "      <td>NaN</td>\n",
       "      <td>NaN</td>\n",
       "      <td>0.276149</td>\n",
       "      <td>1.325454</td>\n",
       "      <td>-0.168932</td>\n",
       "      <td>0.448021</td>\n",
       "      <td>0.00004</td>\n",
       "      <td>0.001</td>\n",
       "    </tr>\n",
       "    <tr>\n",
       "      <th>9892</th>\n",
       "      <td>9892.0</td>\n",
       "      <td>176.0</td>\n",
       "      <td>1.571626</td>\n",
       "      <td>0.444025</td>\n",
       "      <td>2.015651</td>\n",
       "      <td>1.264159</td>\n",
       "      <td>12.074624</td>\n",
       "      <td>10.810465</td>\n",
       "      <td>-1.942179</td>\n",
       "      <td>11.029819</td>\n",
       "      <td>-2.426187</td>\n",
       "      <td>NaN</td>\n",
       "      <td>NaN</td>\n",
       "      <td>-1.295260</td>\n",
       "      <td>-0.703645</td>\n",
       "      <td>-0.924432</td>\n",
       "      <td>0.444392</td>\n",
       "      <td>0.00004</td>\n",
       "      <td>0.001</td>\n",
       "    </tr>\n",
       "    <tr>\n",
       "      <th>9981</th>\n",
       "      <td>9981.0</td>\n",
       "      <td>178.0</td>\n",
       "      <td>0.428658</td>\n",
       "      <td>0.716878</td>\n",
       "      <td>1.145536</td>\n",
       "      <td>1.664160</td>\n",
       "      <td>12.655025</td>\n",
       "      <td>10.990866</td>\n",
       "      <td>-1.779632</td>\n",
       "      <td>10.852466</td>\n",
       "      <td>-2.422980</td>\n",
       "      <td>NaN</td>\n",
       "      <td>NaN</td>\n",
       "      <td>0.894101</td>\n",
       "      <td>0.025851</td>\n",
       "      <td>-1.437397</td>\n",
       "      <td>0.451680</td>\n",
       "      <td>0.00004</td>\n",
       "      <td>0.001</td>\n",
       "    </tr>\n",
       "    <tr>\n",
       "      <th>9928</th>\n",
       "      <td>9928.0</td>\n",
       "      <td>177.0</td>\n",
       "      <td>0.484838</td>\n",
       "      <td>0.552420</td>\n",
       "      <td>1.037258</td>\n",
       "      <td>1.899941</td>\n",
       "      <td>13.130940</td>\n",
       "      <td>11.230999</td>\n",
       "      <td>-1.821091</td>\n",
       "      <td>10.761759</td>\n",
       "      <td>-2.401294</td>\n",
       "      <td>NaN</td>\n",
       "      <td>NaN</td>\n",
       "      <td>0.483910</td>\n",
       "      <td>-0.471852</td>\n",
       "      <td>-1.723740</td>\n",
       "      <td>0.450147</td>\n",
       "      <td>0.00004</td>\n",
       "      <td>0.001</td>\n",
       "    </tr>\n",
       "    <tr>\n",
       "      <th>9931</th>\n",
       "      <td>9931.0</td>\n",
       "      <td>177.0</td>\n",
       "      <td>0.952291</td>\n",
       "      <td>0.455625</td>\n",
       "      <td>1.407916</td>\n",
       "      <td>1.257586</td>\n",
       "      <td>12.218225</td>\n",
       "      <td>10.960640</td>\n",
       "      <td>-2.223888</td>\n",
       "      <td>10.845905</td>\n",
       "      <td>-2.398090</td>\n",
       "      <td>NaN</td>\n",
       "      <td>NaN</td>\n",
       "      <td>-0.394847</td>\n",
       "      <td>-0.695548</td>\n",
       "      <td>-0.890896</td>\n",
       "      <td>0.441786</td>\n",
       "      <td>0.00004</td>\n",
       "      <td>0.001</td>\n",
       "    </tr>\n",
       "    <tr>\n",
       "      <th>10644</th>\n",
       "      <td>10644.0</td>\n",
       "      <td>190.0</td>\n",
       "      <td>1.570574</td>\n",
       "      <td>0.834440</td>\n",
       "      <td>2.405013</td>\n",
       "      <td>0.866930</td>\n",
       "      <td>11.945860</td>\n",
       "      <td>11.078930</td>\n",
       "      <td>-1.988745</td>\n",
       "      <td>10.383966</td>\n",
       "      <td>-2.397722</td>\n",
       "      <td>NaN</td>\n",
       "      <td>NaN</td>\n",
       "      <td>-1.288165</td>\n",
       "      <td>0.284969</td>\n",
       "      <td>-0.227020</td>\n",
       "      <td>0.446629</td>\n",
       "      <td>0.00004</td>\n",
       "      <td>0.001</td>\n",
       "    </tr>\n",
       "    <tr>\n",
       "      <th>9987</th>\n",
       "      <td>9987.0</td>\n",
       "      <td>178.0</td>\n",
       "      <td>0.516333</td>\n",
       "      <td>0.389363</td>\n",
       "      <td>0.905696</td>\n",
       "      <td>2.242390</td>\n",
       "      <td>12.397406</td>\n",
       "      <td>10.155015</td>\n",
       "      <td>-2.198404</td>\n",
       "      <td>11.034639</td>\n",
       "      <td>-2.396781</td>\n",
       "      <td>NaN</td>\n",
       "      <td>NaN</td>\n",
       "      <td>0.895970</td>\n",
       "      <td>-0.869919</td>\n",
       "      <td>-2.121511</td>\n",
       "      <td>0.440464</td>\n",
       "      <td>0.00004</td>\n",
       "      <td>0.001</td>\n",
       "    </tr>\n",
       "  </tbody>\n",
       "</table>\n",
       "</div>"
      ],
      "text/plain": [
       "          step  epoch     Dreal     Dfake     Dfull     G_adv     G_full  \\\n",
       "10497  10497.0  187.0  0.324436  2.153802  2.478238  0.257307  11.209203   \n",
       "9922    9922.0  177.0  0.572389  0.678252  1.250641  1.186734  12.262208   \n",
       "6188    6188.0  110.0  0.349315  0.423108  0.772424  3.498863  13.578798   \n",
       "10508  10508.0  187.0  0.526376  1.480592  2.006968  0.787382  11.735760   \n",
       "9892    9892.0  176.0  1.571626  0.444025  2.015651  1.264159  12.074624   \n",
       "9981    9981.0  178.0  0.428658  0.716878  1.145536  1.664160  12.655025   \n",
       "9928    9928.0  177.0  0.484838  0.552420  1.037258  1.899941  13.130940   \n",
       "9931    9931.0  177.0  0.952291  0.455625  1.407916  1.257586  12.218225   \n",
       "10644  10644.0  190.0  1.570574  0.834440  2.405013  0.866930  11.945860   \n",
       "9987    9987.0  178.0  0.516333  0.389363  0.905696  2.242390  12.397406   \n",
       "\n",
       "       spec_loss  hist_loss   spec_chi  hist_chi  gp_loss  fm_loss      D(x)  \\\n",
       "10497  10.951897  -2.362013  11.018742 -2.468393      NaN      NaN  1.531428   \n",
       "9922   11.075474  -1.886291  10.721121 -2.459720      NaN      NaN  0.358609   \n",
       "6188   10.079935  -1.211259  11.009881 -2.440436      NaN      NaN  1.294411   \n",
       "10508  10.948378  -2.068357  11.063896 -2.427352      NaN      NaN  0.276149   \n",
       "9892   10.810465  -1.942179  11.029819 -2.426187      NaN      NaN -1.295260   \n",
       "9981   10.990866  -1.779632  10.852466 -2.422980      NaN      NaN  0.894101   \n",
       "9928   11.230999  -1.821091  10.761759 -2.401294      NaN      NaN  0.483910   \n",
       "9931   10.960640  -2.223888  10.845905 -2.398090      NaN      NaN -0.394847   \n",
       "10644  11.078930  -1.988745  10.383966 -2.397722      NaN      NaN -1.288165   \n",
       "9987   10.155015  -2.198404  11.034639 -2.396781      NaN      NaN  0.895970   \n",
       "\n",
       "         D_G_z1    D_G_z2      time     lr_d   lr_g  \n",
       "10497  2.165398  1.285086  0.444990  0.00004  0.001  \n",
       "9922  -0.074545 -0.786401  0.445319  0.00004  0.001  \n",
       "6188  -0.887915 -3.465864  0.442240  0.00009  0.001  \n",
       "10508  1.325454 -0.168932  0.448021  0.00004  0.001  \n",
       "9892  -0.703645 -0.924432  0.444392  0.00004  0.001  \n",
       "9981   0.025851 -1.437397  0.451680  0.00004  0.001  \n",
       "9928  -0.471852 -1.723740  0.450147  0.00004  0.001  \n",
       "9931  -0.695548 -0.890896  0.441786  0.00004  0.001  \n",
       "10644  0.284969 -0.227020  0.446629  0.00004  0.001  \n",
       "9987  -0.869919 -2.121511  0.440464  0.00004  0.001  "
      ]
     },
     "execution_count": 73,
     "metadata": {},
     "output_type": "execute_result"
    }
   ],
   "source": [
    "\n",
    "chi=df_metrics.quantile(q=0.2,axis=0)['hist_chi']\n",
    "print(chi)\n",
    "df_metrics[(df_metrics['hist_chi']<=chi)&(df_metrics.epoch>1)].sort_values(by=['hist_chi']).head(10)"
   ]
  },
  {
   "cell_type": "code",
   "execution_count": 74,
   "metadata": {},
   "outputs": [],
   "source": [
    "# display(df_metrics.sort_values(by=['hist_chi']).head(8))\n",
    "# display(df_metrics.sort_values(by=['spec_chi']).head(8))"
   ]
  },
  {
   "cell_type": "markdown",
   "metadata": {},
   "source": [
    "<!-- ### Read validation data -->"
   ]
  },
  {
   "cell_type": "markdown",
   "metadata": {},
   "source": [
    "## Read stored chi-squares for images"
   ]
  },
  {
   "cell_type": "code",
   "execution_count": 75,
   "metadata": {},
   "outputs": [],
   "source": [
    "## Get sigma list from saved files\n",
    "flist=glob.glob(result_dir+'/df_processed*')\n",
    "sigma_lst=[i.split('/')[-1].split('df_processed_')[-1].split('.pkle')[0] for i in flist]\n",
    "sigma_lst.sort() ### Sorting is important for labels to match !!\n",
    "\n",
    "labels_lst=np.arange(len(sigma_lst))"
   ]
  },
  {
   "cell_type": "code",
   "execution_count": 76,
   "metadata": {},
   "outputs": [
    {
     "data": {
      "text/plain": [
       "(['0.5', '0.8', '1.1'], array([0, 1, 2]))"
      ]
     },
     "execution_count": 76,
     "metadata": {},
     "output_type": "execute_result"
    }
   ],
   "source": [
    "sigma_lst,labels_lst"
   ]
  },
  {
   "cell_type": "code",
   "execution_count": 77,
   "metadata": {},
   "outputs": [],
   "source": [
    "### Create a merged dataframe\n",
    "\n",
    "df_list=[]\n",
    "for label in labels_lst:\n",
    "    df=pd.read_pickle(result_dir+'/df_processed_{0}.pkle'.format(str(sigma_lst[label])))\n",
    "    df[['epoch','step']]=df[['epoch','step']].astype(int)\n",
    "    df['label']=df.epoch.astype(str)+'-'+df.step.astype(str) # Add label column for plotting\n",
    "    df_list.append(df)\n",
    "\n",
    "for i,df in enumerate(df_list):\n",
    "    df1=df.add_suffix('_'+str(i))\n",
    "    # renaming the columns to be joined on\n",
    "    keys=['epoch','step','img_type','label']\n",
    "    rename_cols_dict={key+'_'+str(i):key for key in keys}\n",
    "#     print(rename_cols_dict)\n",
    "    df1.rename(columns=rename_cols_dict,inplace=True) \n",
    "    df_list[i]=df1\n",
    "    \n",
    "df_merged=reduce(lambda x, y : pd.merge(x, y, on = ['step','epoch','img_type','label']), df_list)\n",
    "\n",
    "### Get sum of all 4 classes for 3 types of chi-squares\n",
    "for chi_type in ['chi_1','chi_spec1','chi_1c']:\n",
    "    keys=[chi_type+'_'+str(label) for label in labels_lst]\n",
    "#     display(df_merged[keys].sum(axis=1))\n",
    "    df_merged['sum_'+chi_type]=df_merged[keys].sum(axis=1)\n",
    "del df_list\n",
    "\n"
   ]
  },
  {
   "cell_type": "markdown",
   "metadata": {},
   "source": [
    "### Slice best steps"
   ]
  },
  {
   "cell_type": "code",
   "execution_count": 78,
   "metadata": {},
   "outputs": [],
   "source": [
    "def f_slice_merged_df(df,cutoff=0.2,sort_col='chi_1',col_mode='all',label='all',params_lst=[0,1,2],head=10,epoch_range=[0,None],use_sum=True,display_flag=False):\n",
    "    ''' View dataframe after slicing\n",
    "    '''\n",
    "\n",
    "    if epoch_range[1]==None: epoch_range[1]=df.max()['epoch']\n",
    "    df=df[(df.epoch<=epoch_range[1])&(df.epoch>=epoch_range[0])]\n",
    "\n",
    "    ######### Apply cutoff to keep reasonable chi1 and chispec1\n",
    "    #### Add chi-square columns to use\n",
    "    chi_cols=[]\n",
    "    if use_sum: ## Add sum chi-square columns\n",
    "        for j in ['chi_1','chi_spec1','chi_1c']: chi_cols.append('sum_'+j)\n",
    "        \n",
    "    if label=='all': ### Add chi-squares for all labels\n",
    "        for j in ['chi_1','chi_spec1','chi_1c']:\n",
    "            for idx,i in enumerate(params_lst): chi_cols.append(j+'_'+str(idx))\n",
    "    else: ## Add chi-square for specific label\n",
    "        assert label in params_lst, \"label %s is not in %s\"%(label,params_lst)\n",
    "        label_idx=params_lst.index(label)\n",
    "        print(label_idx)\n",
    "        for j in ['chi_1','chi_spec1','chi_1c']: chi_cols.append(j+'_'+str(label_idx))\n",
    "#     print(chi_cols)\n",
    "    q_dict=dict(df_merged.quantile(q=cutoff,axis=0)[chi_cols])\n",
    "    # print(q_dict)\n",
    "    strg=['%s < %s'%(key,q_dict[key]) for key in chi_cols ]\n",
    "    query=\" & \".join(strg)\n",
    "    # print(query)\n",
    "    df=df.query(query)\n",
    "    \n",
    "    # Sort dataframe\n",
    "    df1=df[df.epoch>0].sort_values(by=sort_col)\n",
    "    chis=[i for i in df_merged.columns if 'chi' in i]\n",
    "    col_list=['label']+chis+['epoch','step']\n",
    "    if (col_mode=='short'): \n",
    "        col_list=['label']+[i for i in df_merged.columns if i.startswith('sum')]\n",
    "        col_list=['label']+chi_cols\n",
    "    df2=df1.head(head)[col_list]\n",
    "    \n",
    "    if display_flag: display(df2) # Display df\n",
    "    \n",
    "    return df2\n",
    "\n",
    "# f_slice_merged_df(df_merged,cutoff=0.3,sort_col='sum_chi_1',label=0.65,params_lst=[0.5,0.65,0.8,1.1],use_sum=True,head=2000,display_flag=False,epoch_range=[7,None])"
   ]
  },
  {
   "cell_type": "code",
   "execution_count": 79,
   "metadata": {},
   "outputs": [
    {
     "data": {
      "application/vnd.jupyter.widget-view+json": {
       "model_id": "909be3bedef642acbd8814d673a3e5af",
       "version_major": 2,
       "version_minor": 0
      },
      "text/plain": [
       "interactive(children=(FloatSlider(value=0.3, description='cutoff', max=1.0, step=0.01), Dropdown(description='…"
      ]
     },
     "metadata": {},
     "output_type": "display_data"
    }
   ],
   "source": [
    "cols_to_sort=np.unique([i for i in df_merged.columns for j in ['chi_1_','chi_spec1_'] if ((i.startswith(j)) or (i.startswith('sum')))])\n",
    "\n",
    "w=interactive(f_slice_merged_df,df=fixed(df_merged),\n",
    "cutoff=widgets.FloatSlider(value=0.3, min=0, max=1.0, step=0.01), \n",
    "col_mode=['all','short'], display_flag=widgets.Checkbox(value=False),\n",
    "use_sum=widgets.Checkbox(value=True),\n",
    "label=ToggleButtons(options=['all']+sigma_lst), params_lst=fixed(sigma_lst),\n",
    "head=widgets.IntSlider(value=10,min=1,max=20,step=1),\n",
    "epoch_range=widgets.IntRangeSlider(value=[0,np.max(df.epoch.values)],min=0,max=np.max(df.epoch.values),step=1),\n",
    "sort_col=cols_to_sort\n",
    ")\n",
    "display(w)"
   ]
  },
  {
   "cell_type": "code",
   "execution_count": 80,
   "metadata": {},
   "outputs": [],
   "source": [
    "df_sliced=w.result\n",
    "# df_sliced"
   ]
  },
  {
   "cell_type": "code",
   "execution_count": 81,
   "metadata": {},
   "outputs": [
    {
     "name": "stdout",
     "output_type": "stream",
     "text": [
      "[ 4370  5090  5700  8680  9690  9840 10480 10530 10630 11190]\n"
     ]
    },
    {
     "data": {
      "text/plain": [
       "array([ 4370,  5090,  5700,  8680,  9690,  9840, 10480, 10530, 10630,\n",
       "       11190])"
      ]
     },
     "execution_count": 81,
     "metadata": {},
     "output_type": "execute_result"
    }
   ],
   "source": [
    "best_step=[]\n",
    "df_test=df_merged.copy()\n",
    "df_test=df_merged[df_merged.epoch>30]\n",
    "cut_off=1.0\n",
    "\n",
    "best_step.append(f_slice_merged_df(df_test,cutoff=cut_off,sort_col='sum_chi_1',label='all',use_sum=True,head=4,display_flag=False,epoch_range=[7,None],params_lst=sigma_lst).step.values)\n",
    "best_step.append(f_slice_merged_df(df_test,cutoff=cut_off,sort_col='sum_chi_spec1',label='all',use_sum=True,head=4,display_flag=False,epoch_range=[7,None],params_lst=sigma_lst).step.values)\n",
    "best_step.append(f_slice_merged_df(df_test,cutoff=cut_off,sort_col='sum_chi_1c',label='all',use_sum=True,head=2,display_flag=False,epoch_range=[7,None],params_lst=sigma_lst).step.values)\n",
    "\n",
    "# best_step.append([46669,34281])\n",
    "best_step=np.unique([i for j in best_step for i in j])\n",
    "print(best_step)\n",
    "best_step"
   ]
  },
  {
   "cell_type": "code",
   "execution_count": 82,
   "metadata": {},
   "outputs": [],
   "source": [
    "# best_step=[6176]\n",
    "# best_step= [32300, 35810, 36020, 37030, 38640, 42480, 43850]\n",
    "\n",
    "# best_step=np.arange(40130,40135).astype(int)"
   ]
  },
  {
   "cell_type": "code",
   "execution_count": 83,
   "metadata": {},
   "outputs": [
    {
     "name": "stdout",
     "output_type": "stream",
     "text": [
      "(10, 61)\n",
      "[(78, 4370), (90, 5090), (101, 5700), (154, 8680), (173, 9690), (175, 9840), (187, 10480), (188, 10530), (189, 10630), (199, 11190)]\n"
     ]
    }
   ],
   "source": [
    "df_best=df_merged[df_merged.step.isin(best_step)]\n",
    "print(df_best.shape)\n",
    "print([(df_best[df_best.step==step].epoch.values[0],df_best[df_best.step==step].step.values[0]) for step in best_step])\n",
    "# print([(df_best.loc[idx].epoch,df_best.loc[idx].step) for idx in best_idx])"
   ]
  },
  {
   "cell_type": "code",
   "execution_count": 84,
   "metadata": {},
   "outputs": [
    {
     "data": {
      "text/html": [
       "<div>\n",
       "<style scoped>\n",
       "    .dataframe tbody tr th:only-of-type {\n",
       "        vertical-align: middle;\n",
       "    }\n",
       "\n",
       "    .dataframe tbody tr th {\n",
       "        vertical-align: top;\n",
       "    }\n",
       "\n",
       "    .dataframe thead th {\n",
       "        text-align: right;\n",
       "    }\n",
       "</style>\n",
       "<table border=\"1\" class=\"dataframe\">\n",
       "  <thead>\n",
       "    <tr style=\"text-align: right;\">\n",
       "      <th></th>\n",
       "      <th>label</th>\n",
       "      <th>sum_chi_1</th>\n",
       "      <th>sum_chi_spec1</th>\n",
       "      <th>sum_chi_1c</th>\n",
       "    </tr>\n",
       "  </thead>\n",
       "  <tbody>\n",
       "    <tr>\n",
       "      <th>436</th>\n",
       "      <td>78-4370</td>\n",
       "      <td>0.138414</td>\n",
       "      <td>13.356240</td>\n",
       "      <td>0.000000</td>\n",
       "    </tr>\n",
       "    <tr>\n",
       "      <th>508</th>\n",
       "      <td>90-5090</td>\n",
       "      <td>0.108019</td>\n",
       "      <td>13.409004</td>\n",
       "      <td>0.000007</td>\n",
       "    </tr>\n",
       "    <tr>\n",
       "      <th>569</th>\n",
       "      <td>101-5700</td>\n",
       "      <td>0.336777</td>\n",
       "      <td>11.197672</td>\n",
       "      <td>0.000000</td>\n",
       "    </tr>\n",
       "    <tr>\n",
       "      <th>867</th>\n",
       "      <td>154-8680</td>\n",
       "      <td>0.105560</td>\n",
       "      <td>2.504004</td>\n",
       "      <td>0.000000</td>\n",
       "    </tr>\n",
       "    <tr>\n",
       "      <th>968</th>\n",
       "      <td>173-9690</td>\n",
       "      <td>0.372565</td>\n",
       "      <td>1.054965</td>\n",
       "      <td>0.000025</td>\n",
       "    </tr>\n",
       "    <tr>\n",
       "      <th>983</th>\n",
       "      <td>175-9840</td>\n",
       "      <td>0.134805</td>\n",
       "      <td>2.684235</td>\n",
       "      <td>0.000000</td>\n",
       "    </tr>\n",
       "    <tr>\n",
       "      <th>1047</th>\n",
       "      <td>187-10480</td>\n",
       "      <td>0.535727</td>\n",
       "      <td>0.788848</td>\n",
       "      <td>0.000024</td>\n",
       "    </tr>\n",
       "    <tr>\n",
       "      <th>1052</th>\n",
       "      <td>188-10530</td>\n",
       "      <td>0.485444</td>\n",
       "      <td>1.080422</td>\n",
       "      <td>0.000000</td>\n",
       "    </tr>\n",
       "    <tr>\n",
       "      <th>1062</th>\n",
       "      <td>189-10630</td>\n",
       "      <td>0.414105</td>\n",
       "      <td>1.074163</td>\n",
       "      <td>0.000000</td>\n",
       "    </tr>\n",
       "    <tr>\n",
       "      <th>1118</th>\n",
       "      <td>199-11190</td>\n",
       "      <td>0.385651</td>\n",
       "      <td>2.658584</td>\n",
       "      <td>0.000000</td>\n",
       "    </tr>\n",
       "  </tbody>\n",
       "</table>\n",
       "</div>"
      ],
      "text/plain": [
       "          label  sum_chi_1  sum_chi_spec1  sum_chi_1c\n",
       "436     78-4370   0.138414      13.356240    0.000000\n",
       "508     90-5090   0.108019      13.409004    0.000007\n",
       "569    101-5700   0.336777      11.197672    0.000000\n",
       "867    154-8680   0.105560       2.504004    0.000000\n",
       "968    173-9690   0.372565       1.054965    0.000025\n",
       "983    175-9840   0.134805       2.684235    0.000000\n",
       "1047  187-10480   0.535727       0.788848    0.000024\n",
       "1052  188-10530   0.485444       1.080422    0.000000\n",
       "1062  189-10630   0.414105       1.074163    0.000000\n",
       "1118  199-11190   0.385651       2.658584    0.000000"
      ]
     },
     "execution_count": 84,
     "metadata": {},
     "output_type": "execute_result"
    }
   ],
   "source": [
    "col_list=['label']+[i for i in df_merged.columns if i.startswith('sum')]\n",
    "df_best[col_list]"
   ]
  },
  {
   "cell_type": "markdown",
   "metadata": {},
   "source": [
    "### Interactive plot"
   ]
  },
  {
   "cell_type": "code",
   "execution_count": 95,
   "metadata": {},
   "outputs": [],
   "source": [
    "\n",
    "def f_plot_hist_spec(df,param_labels,sigma_lst,steps_list,bkg_dict,plot_type,img_size):\n",
    "\n",
    "    assert plot_type in ['hist','spec','grid','spec_relative'],\"Invalid mode %s\"%(plot_type)\n",
    "\n",
    "    if plot_type in ['hist','spec','spec_relative']:     fig=plt.figure(figsize=(6,6))\n",
    "    for par_label in param_labels:\n",
    "        df=df[df.step.isin(steps_list)]\n",
    "#         print(df.shape)\n",
    "        idx=sigma_lst.index(par_label)\n",
    "        suffix='_%s'%(idx)\n",
    "        dict_bkg=bkg_dict[str(par_label)]\n",
    "        \n",
    "        for (i,row),marker in zip(df.iterrows(),itertools.cycle('>^*sDHPdpx_')):\n",
    "            label=row.label+'_'+str(par_label)\n",
    "            if plot_type=='hist':\n",
    "                x1=row['hist_bin_centers'+suffix]\n",
    "                y1=row['hist_val'+suffix]\n",
    "                yerr1=row['hist_err'+suffix]\n",
    "                x1=f_invtransform(x1)\n",
    "                \n",
    "                plt.errorbar(x1,y1,yerr1,marker=marker,markersize=5,linestyle='',label=label)\n",
    "            if plot_type=='spec':\n",
    "                y2=row['spec_val'+suffix]\n",
    "                yerr2=row['spec_sdev'+suffix]/np.sqrt(row['num_imgs'+suffix])\n",
    "                x2=np.arange(len(y2))\n",
    "\n",
    "                plt.fill_between(x2, y2 - yerr2, y2 + yerr2, alpha=0.4)\n",
    "                plt.plot(x2, y2, marker=marker, linestyle=':',label=label)\n",
    "\n",
    "            if plot_type=='spec_relative':\n",
    "\n",
    "                y2=row['spec_val'+suffix]\n",
    "                yerr2=row['spec_sdev'+suffix]\n",
    "                x2=np.arange(len(y2))\n",
    "\n",
    "                ### Reference spectrum\n",
    "                y1,yerr1=dict_bkg['spec_val'],dict_bkg['spec_sdev']\n",
    "                y=y2/y1\n",
    "                ## Variance is sum of variance of both variables, since they are uncorrelated\n",
    "\n",
    "                # delta_r= |r| * sqrt(delta_a/a)^2 +(\\delta_b/b)^2) / \\sqrt(N)\n",
    "                yerr=(np.abs(y))*np.sqrt((yerr1/y1)**2+(yerr2/y2)**2)/np.sqrt(row['num_imgs'+suffix])\n",
    "                \n",
    "                plt.fill_between(x2, y - yerr, y + yerr, alpha=0.4)\n",
    "                plt.plot(x2, y, marker=marker, linestyle=':',label=label)\n",
    "\n",
    "            if plot_type=='grid':\n",
    "                images=np.load(row['fname'+suffix])[:,0,:,:,0]\n",
    "                print(images.shape)\n",
    "                f_plot_grid(images[:8],cols=4,fig_size=(8,4))\n",
    "            \n",
    "        ### Plot reference data\n",
    "        if plot_type=='hist':\n",
    "            x,y,yerr=dict_bkg['hist_bin_centers'],dict_bkg['hist_val'],dict_bkg['hist_err']\n",
    "            x=f_invtransform(x)\n",
    "            plt.errorbar(x, y,yerr,color='k',linestyle='-',label='bkgnd')   \n",
    "            plt.title('Pixel Intensity Histogram')\n",
    "            plt.xscale('symlog',linthreshx=50)\n",
    "        \n",
    "        if plot_type=='spec':\n",
    "            y,yerr=dict_bkg['spec_val'],dict_bkg['spec_sdev']/np.sqrt(num_bkgnd)\n",
    "            x=np.arange(len(y))\n",
    "            plt.fill_between(x, y - yerr, y + yerr, color='k',alpha=0.8)\n",
    "            plt.title('Spectrum')\n",
    "            plt.xlim(0,img_size/2)\n",
    "\n",
    "        if plot_type=='spec_relative':\n",
    "            plt.axhline(y=1.0,color='k',linestyle='-.')\n",
    "            plt.title(\"Relative spectrum\")\n",
    "            plt.xlim(0,img_size/2)\n",
    "            plt.ylim(0.5,2)\n",
    "\n",
    "    if plot_type in ['hist','spec']:     \n",
    "        plt.yscale('log')\n",
    "    plt.legend(bbox_to_anchor=(0.3, 0.75),ncol=2, fancybox=True, shadow=True,prop={'size':6})\n",
    "\n",
    "\n",
    "# f_plot_hist_spec(df_merged,[sigma_lst[-1]],sigma_lst,[best_step[0]],bkgnd_dict,'hist')"
   ]
  },
  {
   "cell_type": "code",
   "execution_count": 96,
   "metadata": {},
   "outputs": [
    {
     "data": {
      "application/vnd.jupyter.widget-view+json": {
       "model_id": "0254e7cfa56248bd8d6425324e34a852",
       "version_major": 2,
       "version_minor": 0
      },
      "text/plain": [
       "interactive(children=(SelectMultiple(description='param_labels', options=('0.5', '0.8', '1.1'), value=()), Sel…"
      ]
     },
     "metadata": {},
     "output_type": "display_data"
    },
    {
     "data": {
      "text/plain": [
       "<function __main__.f_plot_hist_spec(df, param_labels, sigma_lst, steps_list, bkg_dict, plot_type, img_size)>"
      ]
     },
     "execution_count": 96,
     "metadata": {},
     "output_type": "execute_result"
    }
   ],
   "source": [
    "interact_manual(f_plot_hist_spec,df=fixed(df_merged),\n",
    "                param_labels=SelectMultiple(options=sigma_lst),sigma_lst=fixed(sigma_lst),\n",
    "                steps_list=SelectMultiple(options=best_step),\n",
    "                img_size=fixed(img_size),\n",
    "                bkg_dict=fixed(bkgnd_dict),plot_type=ToggleButtons(options=['hist','spec','grid','spec_relative']))"
   ]
  },
  {
   "cell_type": "code",
   "execution_count": null,
   "metadata": {},
   "outputs": [],
   "source": []
  },
  {
   "cell_type": "code",
   "execution_count": 52,
   "metadata": {},
   "outputs": [],
   "source": [
    "# ### Check deterministic\n",
    "# main_dir='/global/cfs/cdirs/m3363/vayyar/cosmogan_data/results_from_other_code/pytorch/results/128sq/'\n",
    "# epoch,step=0,230\n",
    "# f1='20210113_185116_cgan_predict_0.65_m2/images/gen_img_label-0.5_epoch-{0}_step-{1}.npy'.format(epoch,step)\n",
    "# f2='20210113_092234_cgan_predict_0.65_m2/images/gen_img_label-0.5_epoch-{0}_step-{1}.npy'.format(epoch,step)\n",
    "\n",
    "# epoch,step=3,20\n",
    "# f1='20210114_191648_nb_test/images/gen_img_label-0.5_epoch-{0}_step-{1}.npy'.format(epoch,step)\n",
    "# f2='20210114_193009_nb_test/images/gen_img_label-0.5_epoch-{0}_step-{1}.npy'.format(epoch,step)\n",
    "\n",
    "# a1=np.load(main_dir+f1)\n",
    "# a2=np.load(main_dir+f2)\n",
    "# # print(a1.shape,a2.shape)\n",
    "\n",
    "# print(np.mean(a1),np.mean(a2))\n",
    "# print(np.max(a1),np.max(a2))"
   ]
  },
  {
   "cell_type": "markdown",
   "metadata": {},
   "source": [
    "### Delete unwanted stored models\n",
    "(Since deterministic runs aren't working well )"
   ]
  },
  {
   "cell_type": "code",
   "execution_count": 30,
   "metadata": {},
   "outputs": [
    {
     "name": "stdout",
     "output_type": "stream",
     "text": [
      "/global/cfs/cdirs/m3363/vayyar/cosmogan_data/results_from_other_code/pytorch/results/3d_cGAN/20210509_30022_cgan_bs32_lr0.00003_nodes2_spec1.0\n"
     ]
    },
    {
     "data": {
      "text/plain": [
       "3"
      ]
     },
     "execution_count": 30,
     "metadata": {},
     "output_type": "execute_result"
    }
   ],
   "source": [
    "# fldr='/global/cfs/cdirs/m3363/vayyar/cosmogan_data/results_from_other_code/pytorch/results/128sq/20210119_134802_cgan_predict_0.65_m2/models'\n",
    "fldr=result_dir\n",
    "print(fldr)\n",
    "flist=glob.glob(fldr+'/models/checkpoint_*.tar')\n",
    "len(flist)"
   ]
  },
  {
   "cell_type": "code",
   "execution_count": null,
   "metadata": {},
   "outputs": [],
   "source": []
  },
  {
   "cell_type": "code",
   "execution_count": 31,
   "metadata": {},
   "outputs": [],
   "source": [
    "# # Delete unwanted stored images\n",
    "# for i in flist:\n",
    "#     try:\n",
    "#         step=int(i.split('/')[-1].split('_')[-1].split('.')[0])\n",
    "#         if step not in best_step:\n",
    "# #             print(\"Found\")\n",
    "# #             print(step)\n",
    "#             os.remove(i)\n",
    "#             pass\n",
    "#         else: \n",
    "#             print(step)\n",
    "# #             print(i)\n",
    "#     except Exception as e:\n",
    "# #         print(e)\n",
    "# #         print(i)\n",
    "#         pass"
   ]
  },
  {
   "cell_type": "code",
   "execution_count": 118,
   "metadata": {},
   "outputs": [
    {
     "data": {
      "text/plain": [
       "array([27600, 30950, 42620, 43830, 50440, 58320, 58330, 59500, 64670,\n",
       "       65600])"
      ]
     },
     "execution_count": 118,
     "metadata": {},
     "output_type": "execute_result"
    }
   ],
   "source": [
    "best_step"
   ]
  },
  {
   "cell_type": "code",
   "execution_count": 34,
   "metadata": {},
   "outputs": [
    {
     "data": {
      "text/plain": [
       "(70656, 1, 64, 64, 64)"
      ]
     },
     "execution_count": 34,
     "metadata": {},
     "output_type": "execute_result"
    }
   ],
   "source": [
    "np.load('/global/cfs/cdirs/m3363/vayyar/cosmogan_data/raw_data/3d_data/dataset2a_3dcgan_4univs_64cube_simple_splicing/norm_1_sig_0.5_train_val.npy',mmap_mode='r').shape\n",
    "\n"
   ]
  },
  {
   "cell_type": "code",
   "execution_count": 33,
   "metadata": {},
   "outputs": [
    {
     "name": "stdout",
     "output_type": "stream",
     "text": [
      "70G\t/global/cfs/cdirs/m3363/vayyar/cosmogan_data/raw_data/3d_data/dataset2a_3dcgan_4univs_64cube_simple_splicing/norm_1_sig_0.5_train_val.npy\n"
     ]
    }
   ],
   "source": [
    "! du -hs  /global/cfs/cdirs/m3363/vayyar/cosmogan_data/raw_data/3d_data/dataset2a_3dcgan_4univs_64cube_simple_splicing/norm_1_sig_0.5_train_val.npy"
   ]
  },
  {
   "cell_type": "code",
   "execution_count": null,
   "metadata": {},
   "outputs": [],
   "source": []
  }
 ],
 "metadata": {
  "kernelspec": {
   "display_name": "v3",
   "language": "python",
   "name": "v-jpt-3"
  },
  "language_info": {
   "codemirror_mode": {
    "name": "ipython",
    "version": 3
   },
   "file_extension": ".py",
   "mimetype": "text/x-python",
   "name": "python",
   "nbconvert_exporter": "python",
   "pygments_lexer": "ipython3",
   "version": "3.8.6"
  }
 },
 "nbformat": 4,
 "nbformat_minor": 4
}

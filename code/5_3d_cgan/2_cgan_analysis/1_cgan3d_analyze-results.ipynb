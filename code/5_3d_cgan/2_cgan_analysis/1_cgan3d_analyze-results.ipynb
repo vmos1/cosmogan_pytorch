{
 "cells": [
  {
   "cell_type": "markdown",
   "metadata": {},
   "source": [
    "# Analyze results for 3D CGAN\n",
    "Feb 22, 2021"
   ]
  },
  {
   "cell_type": "code",
   "execution_count": 1,
   "metadata": {},
   "outputs": [],
   "source": [
    "import     numpy as np\n",
    "import matplotlib.pyplot as plt\n",
    "import pandas as pd\n",
    "\n",
    "import subprocess as sp\n",
    "import sys\n",
    "import os\n",
    "import glob\n",
    "import pickle \n",
    "\n",
    "from matplotlib.colors import LogNorm, PowerNorm, Normalize\n",
    "import seaborn as sns\n",
    "from functools import reduce"
   ]
  },
  {
   "cell_type": "code",
   "execution_count": 2,
   "metadata": {},
   "outputs": [],
   "source": [
    "from ipywidgets import *"
   ]
  },
  {
   "cell_type": "code",
   "execution_count": 3,
   "metadata": {},
   "outputs": [],
   "source": [
    "%matplotlib widget"
   ]
  },
  {
   "cell_type": "code",
   "execution_count": 4,
   "metadata": {},
   "outputs": [],
   "source": [
    "sys.path.append('/global/u1/v/vpa/project/jpt_notebooks/Cosmology/Cosmo_GAN/repositories/cosmogan_pytorch/code/modules_image_analysis/')\n",
    "from modules_img_analysis import *"
   ]
  },
  {
   "cell_type": "code",
   "execution_count": 5,
   "metadata": {},
   "outputs": [],
   "source": [
    "sys.path.append('/global/u1/v/vpa/project/jpt_notebooks/Cosmology/Cosmo_GAN/repositories/cosmogan_pytorch/code/5_3d_cgan/1_main_code/')\n",
    "import post_analysis_pandas as post\n"
   ]
  },
  {
   "cell_type": "code",
   "execution_count": 6,
   "metadata": {},
   "outputs": [],
   "source": [
    "### Transformation functions for image pixel values\n",
    "def f_transform(x):\n",
    "    return 2.*x/(x + 4.) - 1.\n",
    "\n",
    "def f_invtransform(s):\n",
    "    return 4.*(1. + s)/(1. - s)\n"
   ]
  },
  {
   "cell_type": "markdown",
   "metadata": {},
   "source": [
    "### Read validation data"
   ]
  },
  {
   "cell_type": "code",
   "execution_count": 7,
   "metadata": {},
   "outputs": [
    {
     "name": "stdout",
     "output_type": "stream",
     "text": [
      "/global/cfs/cdirs/m3363/vayyar/cosmogan_data/raw_data/3d_data/dataset2a_3dcgan_4univs_64cube_simple_splicing/norm_1_sig_0.5_train_val.npy\n",
      "/global/cfs/cdirs/m3363/vayyar/cosmogan_data/raw_data/3d_data/dataset2a_3dcgan_4univs_64cube_simple_splicing/norm_1_sig_0.65_train_val.npy\n",
      "/global/cfs/cdirs/m3363/vayyar/cosmogan_data/raw_data/3d_data/dataset2a_3dcgan_4univs_64cube_simple_splicing/norm_1_sig_0.8_train_val.npy\n",
      "/global/cfs/cdirs/m3363/vayyar/cosmogan_data/raw_data/3d_data/dataset2a_3dcgan_4univs_64cube_simple_splicing/norm_1_sig_1.1_train_val.npy\n"
     ]
    }
   ],
   "source": [
    "# bins=np.concatenate([np.array([-0.5]),np.arange(0.5,20.5,1),np.arange(20.5,100.5,5),np.arange(100.5,1000.5,50),np.array([2000])]) #bin edges to use\n",
    "bins=np.concatenate([np.array([-0.5]),np.arange(0.5,100.5,5),np.arange(100.5,300.5,20),np.arange(300.5,1000.5,50),np.array([2000])]) #bin edges to use\n",
    "\n",
    "bins=f_transform(bins)   ### scale to (-1,1)\n",
    "# ### Extract validation data\n",
    "sigma_lst=[0.5,0.65,0.8,1.1]\n",
    "labels_lst=range(len(sigma_lst))\n",
    "bkgnd_dict={}\n",
    "num_bkgnd=200\n",
    "\n",
    "for label in labels_lst:\n",
    "    fname='/global/cfs/cdirs/m3363/vayyar/cosmogan_data/raw_data/3d_data/dataset2a_3dcgan_4univs_64cube_simple_splicing/norm_1_sig_{0}_train_val.npy'.format(sigma_lst[label])\n",
    "    print(fname)\n",
    "    samples=np.load(fname,mmap_mode='r')[-num_bkgnd:][:,0,:,:]\n",
    "    \n",
    "    dict_val=post.f_compute_hist_spect(samples,bins)\n",
    "    bkgnd_dict[str(sigma_lst[label])]=dict_val\n",
    "    del samples"
   ]
  },
  {
   "cell_type": "markdown",
   "metadata": {},
   "source": [
    "## Read data"
   ]
  },
  {
   "cell_type": "code",
   "execution_count": 8,
   "metadata": {},
   "outputs": [],
   "source": [
    "# main_dir='/global/cfs/cdirs/m3363/vayyar/cosmogan_data/results_from_other_code/pytorch/results/128sq/'\n",
    "# results_dir=main_dir+'20201002_064327'"
   ]
  },
  {
   "cell_type": "code",
   "execution_count": 9,
   "metadata": {},
   "outputs": [],
   "source": [
    "dict1={'64':'/global/cfs/cdirs/m3363/vayyar/cosmogan_data/results_from_other_code/pytorch/results/3d_cGAN/',\n",
    "      '512':'/global/cfs/cdirs/m3363/vayyar/cosmogan_data/results_from_other_code/pytorch/results/3d_cGAN/'}\n",
    "\n",
    "u=interactive(lambda x: dict1[x], x=Select(options=dict1.keys()))\n",
    "# display(u)\n"
   ]
  },
  {
   "cell_type": "code",
   "execution_count": 10,
   "metadata": {},
   "outputs": [
    {
     "data": {
      "application/vnd.jupyter.widget-view+json": {
       "model_id": "e526ee6791d34d6cbb9b0a6639156d88",
       "version_major": 2,
       "version_minor": 0
      },
      "text/plain": [
       "interactive(children=(Dropdown(description='x', options=('20210602_112153_cgan_bs32_nodes8_lrd-4x-lrg_cori', '…"
      ]
     },
     "metadata": {},
     "output_type": "display_data"
    }
   ],
   "source": [
    "# parent_dir=u.result\n",
    "img_size=64\n",
    "parent_dir=dict1[str(img_size)]\n",
    "dir_lst=[i.split('/')[-1] for i in glob.glob(parent_dir+'202106*')]\n",
    "n=interactive(lambda x: x, x=Dropdown(options=dir_lst))\n",
    "display(n)"
   ]
  },
  {
   "cell_type": "code",
   "execution_count": 13,
   "metadata": {},
   "outputs": [
    {
     "name": "stdout",
     "output_type": "stream",
     "text": [
      "/global/cfs/cdirs/m3363/vayyar/cosmogan_data/results_from_other_code/pytorch/results/3d_cGAN/20210604_83635_cgan_bs32_one_sigma_fm50\n"
     ]
    }
   ],
   "source": [
    "result=n.result\n",
    "result_dir=parent_dir+result\n",
    "print(result_dir)"
   ]
  },
  {
   "cell_type": "markdown",
   "metadata": {},
   "source": [
    "## Plot Losses"
   ]
  },
  {
   "cell_type": "code",
   "execution_count": 14,
   "metadata": {},
   "outputs": [],
   "source": [
    "df_metrics=pd.read_pickle(result_dir+'/df_metrics.pkle').astype(np.float64)\n"
   ]
  },
  {
   "cell_type": "code",
   "execution_count": 15,
   "metadata": {},
   "outputs": [
    {
     "data": {
      "text/html": [
       "<div>\n",
       "<style scoped>\n",
       "    .dataframe tbody tr th:only-of-type {\n",
       "        vertical-align: middle;\n",
       "    }\n",
       "\n",
       "    .dataframe tbody tr th {\n",
       "        vertical-align: top;\n",
       "    }\n",
       "\n",
       "    .dataframe thead th {\n",
       "        text-align: right;\n",
       "    }\n",
       "</style>\n",
       "<table border=\"1\" class=\"dataframe\">\n",
       "  <thead>\n",
       "    <tr style=\"text-align: right;\">\n",
       "      <th></th>\n",
       "      <th>step</th>\n",
       "      <th>epoch</th>\n",
       "      <th>Dreal</th>\n",
       "      <th>Dfake</th>\n",
       "      <th>Dfull</th>\n",
       "      <th>G_adv</th>\n",
       "      <th>G_full</th>\n",
       "      <th>spec_loss</th>\n",
       "      <th>hist_loss</th>\n",
       "      <th>spec_chi</th>\n",
       "      <th>hist_chi</th>\n",
       "      <th>gp_loss</th>\n",
       "      <th>fm_loss</th>\n",
       "      <th>D(x)</th>\n",
       "      <th>D_G_z1</th>\n",
       "      <th>D_G_z2</th>\n",
       "      <th>time</th>\n",
       "      <th>lr_d</th>\n",
       "      <th>lr_g</th>\n",
       "    </tr>\n",
       "  </thead>\n",
       "  <tbody>\n",
       "    <tr>\n",
       "      <th>14616</th>\n",
       "      <td>14616.0</td>\n",
       "      <td>74.0</td>\n",
       "      <td>0.163425</td>\n",
       "      <td>0.162767</td>\n",
       "      <td>0.326192</td>\n",
       "      <td>7.110500</td>\n",
       "      <td>17.256004</td>\n",
       "      <td>10.108232</td>\n",
       "      <td>-2.476089</td>\n",
       "      <td>10.191000</td>\n",
       "      <td>-2.581252</td>\n",
       "      <td>NaN</td>\n",
       "      <td>0.037273</td>\n",
       "      <td>5.094093</td>\n",
       "      <td>-2.296142</td>\n",
       "      <td>-7.109322</td>\n",
       "      <td>0.840397</td>\n",
       "      <td>0.0003</td>\n",
       "      <td>0.0003</td>\n",
       "    </tr>\n",
       "    <tr>\n",
       "      <th>14617</th>\n",
       "      <td>14617.0</td>\n",
       "      <td>74.0</td>\n",
       "      <td>0.227649</td>\n",
       "      <td>0.239927</td>\n",
       "      <td>0.467577</td>\n",
       "      <td>6.465944</td>\n",
       "      <td>16.088387</td>\n",
       "      <td>9.611173</td>\n",
       "      <td>-2.377214</td>\n",
       "      <td>9.507700</td>\n",
       "      <td>-2.589424</td>\n",
       "      <td>NaN</td>\n",
       "      <td>0.011271</td>\n",
       "      <td>1.976056</td>\n",
       "      <td>-8.263744</td>\n",
       "      <td>-6.463514</td>\n",
       "      <td>0.950702</td>\n",
       "      <td>0.0003</td>\n",
       "      <td>0.0003</td>\n",
       "    </tr>\n",
       "    <tr>\n",
       "      <th>14618</th>\n",
       "      <td>14618.0</td>\n",
       "      <td>74.0</td>\n",
       "      <td>0.162622</td>\n",
       "      <td>0.153352</td>\n",
       "      <td>0.315974</td>\n",
       "      <td>1.448273</td>\n",
       "      <td>11.121192</td>\n",
       "      <td>9.664487</td>\n",
       "      <td>-2.274162</td>\n",
       "      <td>9.859291</td>\n",
       "      <td>-2.320463</td>\n",
       "      <td>NaN</td>\n",
       "      <td>0.008431</td>\n",
       "      <td>3.078114</td>\n",
       "      <td>-5.271169</td>\n",
       "      <td>-1.072964</td>\n",
       "      <td>0.830425</td>\n",
       "      <td>0.0003</td>\n",
       "      <td>0.0003</td>\n",
       "    </tr>\n",
       "    <tr>\n",
       "      <th>14619</th>\n",
       "      <td>14619.0</td>\n",
       "      <td>74.0</td>\n",
       "      <td>0.193037</td>\n",
       "      <td>0.197964</td>\n",
       "      <td>0.391001</td>\n",
       "      <td>5.558798</td>\n",
       "      <td>15.525793</td>\n",
       "      <td>9.911776</td>\n",
       "      <td>-2.318534</td>\n",
       "      <td>9.776885</td>\n",
       "      <td>-2.394229</td>\n",
       "      <td>NaN</td>\n",
       "      <td>0.055219</td>\n",
       "      <td>6.363031</td>\n",
       "      <td>-2.363111</td>\n",
       "      <td>-5.553361</td>\n",
       "      <td>0.838091</td>\n",
       "      <td>0.0003</td>\n",
       "      <td>0.0003</td>\n",
       "    </tr>\n",
       "    <tr>\n",
       "      <th>14620</th>\n",
       "      <td>14620.0</td>\n",
       "      <td>74.0</td>\n",
       "      <td>0.193762</td>\n",
       "      <td>0.507095</td>\n",
       "      <td>0.700857</td>\n",
       "      <td>5.750935</td>\n",
       "      <td>15.745203</td>\n",
       "      <td>9.910597</td>\n",
       "      <td>-2.363880</td>\n",
       "      <td>9.594062</td>\n",
       "      <td>-2.498516</td>\n",
       "      <td>NaN</td>\n",
       "      <td>0.083671</td>\n",
       "      <td>4.481438</td>\n",
       "      <td>-0.646052</td>\n",
       "      <td>-5.747014</td>\n",
       "      <td>0.830706</td>\n",
       "      <td>0.0003</td>\n",
       "      <td>0.0003</td>\n",
       "    </tr>\n",
       "    <tr>\n",
       "      <th>14621</th>\n",
       "      <td>14621.0</td>\n",
       "      <td>74.0</td>\n",
       "      <td>0.419020</td>\n",
       "      <td>0.342489</td>\n",
       "      <td>0.761509</td>\n",
       "      <td>7.664938</td>\n",
       "      <td>17.061621</td>\n",
       "      <td>9.375630</td>\n",
       "      <td>-2.432142</td>\n",
       "      <td>9.690890</td>\n",
       "      <td>-2.544742</td>\n",
       "      <td>NaN</td>\n",
       "      <td>0.021052</td>\n",
       "      <td>0.912610</td>\n",
       "      <td>-9.051634</td>\n",
       "      <td>-7.664269</td>\n",
       "      <td>0.829730</td>\n",
       "      <td>0.0003</td>\n",
       "      <td>0.0003</td>\n",
       "    </tr>\n",
       "    <tr>\n",
       "      <th>14622</th>\n",
       "      <td>14622.0</td>\n",
       "      <td>74.0</td>\n",
       "      <td>0.177910</td>\n",
       "      <td>0.148006</td>\n",
       "      <td>0.325917</td>\n",
       "      <td>3.942081</td>\n",
       "      <td>14.039697</td>\n",
       "      <td>10.080689</td>\n",
       "      <td>-2.594457</td>\n",
       "      <td>10.287899</td>\n",
       "      <td>-2.698795</td>\n",
       "      <td>NaN</td>\n",
       "      <td>0.016927</td>\n",
       "      <td>3.043290</td>\n",
       "      <td>-3.295249</td>\n",
       "      <td>-3.771947</td>\n",
       "      <td>0.846259</td>\n",
       "      <td>0.0003</td>\n",
       "      <td>0.0003</td>\n",
       "    </tr>\n",
       "    <tr>\n",
       "      <th>14623</th>\n",
       "      <td>14623.0</td>\n",
       "      <td>74.0</td>\n",
       "      <td>0.176704</td>\n",
       "      <td>0.200298</td>\n",
       "      <td>0.377003</td>\n",
       "      <td>0.256165</td>\n",
       "      <td>10.550514</td>\n",
       "      <td>10.274771</td>\n",
       "      <td>-2.546224</td>\n",
       "      <td>10.604451</td>\n",
       "      <td>-2.786977</td>\n",
       "      <td>NaN</td>\n",
       "      <td>0.019578</td>\n",
       "      <td>5.097417</td>\n",
       "      <td>-6.124789</td>\n",
       "      <td>1.515178</td>\n",
       "      <td>0.831895</td>\n",
       "      <td>0.0003</td>\n",
       "      <td>0.0003</td>\n",
       "    </tr>\n",
       "    <tr>\n",
       "      <th>14624</th>\n",
       "      <td>14624.0</td>\n",
       "      <td>74.0</td>\n",
       "      <td>0.109593</td>\n",
       "      <td>2.592685</td>\n",
       "      <td>2.702278</td>\n",
       "      <td>1.779594</td>\n",
       "      <td>11.921734</td>\n",
       "      <td>10.135334</td>\n",
       "      <td>-2.011703</td>\n",
       "      <td>9.767878</td>\n",
       "      <td>-2.562945</td>\n",
       "      <td>NaN</td>\n",
       "      <td>0.006806</td>\n",
       "      <td>4.244514</td>\n",
       "      <td>2.514503</td>\n",
       "      <td>-1.497553</td>\n",
       "      <td>0.838698</td>\n",
       "      <td>0.0003</td>\n",
       "      <td>0.0003</td>\n",
       "    </tr>\n",
       "    <tr>\n",
       "      <th>14625</th>\n",
       "      <td>NaN</td>\n",
       "      <td>NaN</td>\n",
       "      <td>NaN</td>\n",
       "      <td>NaN</td>\n",
       "      <td>NaN</td>\n",
       "      <td>NaN</td>\n",
       "      <td>NaN</td>\n",
       "      <td>NaN</td>\n",
       "      <td>NaN</td>\n",
       "      <td>10.215855</td>\n",
       "      <td>-2.239290</td>\n",
       "      <td>NaN</td>\n",
       "      <td>NaN</td>\n",
       "      <td>NaN</td>\n",
       "      <td>NaN</td>\n",
       "      <td>NaN</td>\n",
       "      <td>NaN</td>\n",
       "      <td>NaN</td>\n",
       "      <td>NaN</td>\n",
       "    </tr>\n",
       "  </tbody>\n",
       "</table>\n",
       "</div>"
      ],
      "text/plain": [
       "          step  epoch     Dreal     Dfake     Dfull     G_adv     G_full  \\\n",
       "14616  14616.0   74.0  0.163425  0.162767  0.326192  7.110500  17.256004   \n",
       "14617  14617.0   74.0  0.227649  0.239927  0.467577  6.465944  16.088387   \n",
       "14618  14618.0   74.0  0.162622  0.153352  0.315974  1.448273  11.121192   \n",
       "14619  14619.0   74.0  0.193037  0.197964  0.391001  5.558798  15.525793   \n",
       "14620  14620.0   74.0  0.193762  0.507095  0.700857  5.750935  15.745203   \n",
       "14621  14621.0   74.0  0.419020  0.342489  0.761509  7.664938  17.061621   \n",
       "14622  14622.0   74.0  0.177910  0.148006  0.325917  3.942081  14.039697   \n",
       "14623  14623.0   74.0  0.176704  0.200298  0.377003  0.256165  10.550514   \n",
       "14624  14624.0   74.0  0.109593  2.592685  2.702278  1.779594  11.921734   \n",
       "14625      NaN    NaN       NaN       NaN       NaN       NaN        NaN   \n",
       "\n",
       "       spec_loss  hist_loss   spec_chi  hist_chi  gp_loss   fm_loss      D(x)  \\\n",
       "14616  10.108232  -2.476089  10.191000 -2.581252      NaN  0.037273  5.094093   \n",
       "14617   9.611173  -2.377214   9.507700 -2.589424      NaN  0.011271  1.976056   \n",
       "14618   9.664487  -2.274162   9.859291 -2.320463      NaN  0.008431  3.078114   \n",
       "14619   9.911776  -2.318534   9.776885 -2.394229      NaN  0.055219  6.363031   \n",
       "14620   9.910597  -2.363880   9.594062 -2.498516      NaN  0.083671  4.481438   \n",
       "14621   9.375630  -2.432142   9.690890 -2.544742      NaN  0.021052  0.912610   \n",
       "14622  10.080689  -2.594457  10.287899 -2.698795      NaN  0.016927  3.043290   \n",
       "14623  10.274771  -2.546224  10.604451 -2.786977      NaN  0.019578  5.097417   \n",
       "14624  10.135334  -2.011703   9.767878 -2.562945      NaN  0.006806  4.244514   \n",
       "14625        NaN        NaN  10.215855 -2.239290      NaN       NaN       NaN   \n",
       "\n",
       "         D_G_z1    D_G_z2      time    lr_d    lr_g  \n",
       "14616 -2.296142 -7.109322  0.840397  0.0003  0.0003  \n",
       "14617 -8.263744 -6.463514  0.950702  0.0003  0.0003  \n",
       "14618 -5.271169 -1.072964  0.830425  0.0003  0.0003  \n",
       "14619 -2.363111 -5.553361  0.838091  0.0003  0.0003  \n",
       "14620 -0.646052 -5.747014  0.830706  0.0003  0.0003  \n",
       "14621 -9.051634 -7.664269  0.829730  0.0003  0.0003  \n",
       "14622 -3.295249 -3.771947  0.846259  0.0003  0.0003  \n",
       "14623 -6.124789  1.515178  0.831895  0.0003  0.0003  \n",
       "14624  2.514503 -1.497553  0.838698  0.0003  0.0003  \n",
       "14625       NaN       NaN       NaN     NaN     NaN  "
      ]
     },
     "execution_count": 15,
     "metadata": {},
     "output_type": "execute_result"
    }
   ],
   "source": [
    "df_metrics.tail(10)"
   ]
  },
  {
   "cell_type": "code",
   "execution_count": 16,
   "metadata": {},
   "outputs": [
    {
     "data": {
      "application/vnd.jupyter.widget-view+json": {
       "model_id": "c258bc37b78d48d58b18319286c2e49f",
       "version_major": 2,
       "version_minor": 0
      },
      "text/plain": [
       "interactive(children=(SelectMultiple(description='col_list', options=('step', 'epoch', 'Dreal', 'Dfake', 'Dful…"
      ]
     },
     "metadata": {},
     "output_type": "display_data"
    },
    {
     "data": {
      "text/plain": [
       "<function __main__.f_plot_metrics(df, col_list)>"
      ]
     },
     "execution_count": 16,
     "metadata": {},
     "output_type": "execute_result"
    }
   ],
   "source": [
    "def f_plot_metrics(df,col_list):\n",
    "    \n",
    "    plt.figure()\n",
    "    for key in col_list:\n",
    "        plt.plot(df_metrics[key],label=key,marker='*',linestyle='')\n",
    "    plt.legend()\n",
    "    \n",
    "#     col_list=list(col_list)\n",
    "#     df.plot(kind='line',x='step',y=col_list)\n",
    "    \n",
    "# f_plot_metrics(df_metrics,['spec_chi','hist_chi'])\n",
    "\n",
    "interact_manual(f_plot_metrics,df=fixed(df_metrics), col_list=SelectMultiple(options=df_metrics.columns.values))"
   ]
  },
  {
   "cell_type": "code",
   "execution_count": 17,
   "metadata": {},
   "outputs": [
    {
     "name": "stdout",
     "output_type": "stream",
     "text": [
      "-2.715826320648193\n"
     ]
    },
    {
     "data": {
      "text/html": [
       "<div>\n",
       "<style scoped>\n",
       "    .dataframe tbody tr th:only-of-type {\n",
       "        vertical-align: middle;\n",
       "    }\n",
       "\n",
       "    .dataframe tbody tr th {\n",
       "        vertical-align: top;\n",
       "    }\n",
       "\n",
       "    .dataframe thead th {\n",
       "        text-align: right;\n",
       "    }\n",
       "</style>\n",
       "<table border=\"1\" class=\"dataframe\">\n",
       "  <thead>\n",
       "    <tr style=\"text-align: right;\">\n",
       "      <th></th>\n",
       "      <th>step</th>\n",
       "      <th>epoch</th>\n",
       "      <th>Dreal</th>\n",
       "      <th>Dfake</th>\n",
       "      <th>Dfull</th>\n",
       "      <th>G_adv</th>\n",
       "      <th>G_full</th>\n",
       "      <th>spec_loss</th>\n",
       "      <th>hist_loss</th>\n",
       "      <th>spec_chi</th>\n",
       "      <th>hist_chi</th>\n",
       "      <th>gp_loss</th>\n",
       "      <th>fm_loss</th>\n",
       "      <th>D(x)</th>\n",
       "      <th>D_G_z1</th>\n",
       "      <th>D_G_z2</th>\n",
       "      <th>time</th>\n",
       "      <th>lr_d</th>\n",
       "      <th>lr_g</th>\n",
       "    </tr>\n",
       "  </thead>\n",
       "  <tbody>\n",
       "    <tr>\n",
       "      <th>1941</th>\n",
       "      <td>1941.0</td>\n",
       "      <td>9.0</td>\n",
       "      <td>4.864244</td>\n",
       "      <td>0.297447</td>\n",
       "      <td>5.161691</td>\n",
       "      <td>9.358401</td>\n",
       "      <td>19.553679</td>\n",
       "      <td>10.141461</td>\n",
       "      <td>-2.835402</td>\n",
       "      <td>10.205624</td>\n",
       "      <td>-2.911902</td>\n",
       "      <td>NaN</td>\n",
       "      <td>0.053816</td>\n",
       "      <td>-5.001018</td>\n",
       "      <td>-10.356451</td>\n",
       "      <td>-9.358299</td>\n",
       "      <td>0.830841</td>\n",
       "      <td>0.0003</td>\n",
       "      <td>0.0003</td>\n",
       "    </tr>\n",
       "    <tr>\n",
       "      <th>2124</th>\n",
       "      <td>2124.0</td>\n",
       "      <td>10.0</td>\n",
       "      <td>0.157632</td>\n",
       "      <td>0.154037</td>\n",
       "      <td>0.311670</td>\n",
       "      <td>2.197455</td>\n",
       "      <td>12.466912</td>\n",
       "      <td>10.254763</td>\n",
       "      <td>-2.857650</td>\n",
       "      <td>10.395768</td>\n",
       "      <td>-2.894762</td>\n",
       "      <td>NaN</td>\n",
       "      <td>0.014695</td>\n",
       "      <td>2.702075</td>\n",
       "      <td>-3.918577</td>\n",
       "      <td>-1.917560</td>\n",
       "      <td>0.830348</td>\n",
       "      <td>0.0003</td>\n",
       "      <td>0.0003</td>\n",
       "    </tr>\n",
       "    <tr>\n",
       "      <th>7752</th>\n",
       "      <td>7752.0</td>\n",
       "      <td>39.0</td>\n",
       "      <td>2.753385</td>\n",
       "      <td>0.351305</td>\n",
       "      <td>3.104690</td>\n",
       "      <td>8.819856</td>\n",
       "      <td>18.827103</td>\n",
       "      <td>9.931425</td>\n",
       "      <td>-2.769124</td>\n",
       "      <td>10.156279</td>\n",
       "      <td>-2.889277</td>\n",
       "      <td>NaN</td>\n",
       "      <td>0.075821</td>\n",
       "      <td>-2.773867</td>\n",
       "      <td>-10.000975</td>\n",
       "      <td>-8.819625</td>\n",
       "      <td>0.838208</td>\n",
       "      <td>0.0003</td>\n",
       "      <td>0.0003</td>\n",
       "    </tr>\n",
       "    <tr>\n",
       "      <th>3693</th>\n",
       "      <td>3693.0</td>\n",
       "      <td>18.0</td>\n",
       "      <td>0.157653</td>\n",
       "      <td>0.097684</td>\n",
       "      <td>0.255337</td>\n",
       "      <td>1.456220</td>\n",
       "      <td>11.382221</td>\n",
       "      <td>9.921953</td>\n",
       "      <td>-2.799109</td>\n",
       "      <td>9.925952</td>\n",
       "      <td>-2.880562</td>\n",
       "      <td>NaN</td>\n",
       "      <td>0.004047</td>\n",
       "      <td>2.135876</td>\n",
       "      <td>-4.453858</td>\n",
       "      <td>-0.998251</td>\n",
       "      <td>0.845273</td>\n",
       "      <td>0.0003</td>\n",
       "      <td>0.0003</td>\n",
       "    </tr>\n",
       "    <tr>\n",
       "      <th>8864</th>\n",
       "      <td>8864.0</td>\n",
       "      <td>45.0</td>\n",
       "      <td>0.168825</td>\n",
       "      <td>0.941661</td>\n",
       "      <td>1.110486</td>\n",
       "      <td>2.773468</td>\n",
       "      <td>12.759365</td>\n",
       "      <td>9.978475</td>\n",
       "      <td>-2.450536</td>\n",
       "      <td>9.969208</td>\n",
       "      <td>-2.878495</td>\n",
       "      <td>NaN</td>\n",
       "      <td>0.007423</td>\n",
       "      <td>5.003273</td>\n",
       "      <td>0.378776</td>\n",
       "      <td>-2.685034</td>\n",
       "      <td>0.831964</td>\n",
       "      <td>0.0003</td>\n",
       "      <td>0.0003</td>\n",
       "    </tr>\n",
       "    <tr>\n",
       "      <th>7327</th>\n",
       "      <td>7327.0</td>\n",
       "      <td>37.0</td>\n",
       "      <td>0.245219</td>\n",
       "      <td>0.107465</td>\n",
       "      <td>0.352684</td>\n",
       "      <td>0.618919</td>\n",
       "      <td>10.854164</td>\n",
       "      <td>10.191792</td>\n",
       "      <td>-2.709495</td>\n",
       "      <td>10.201346</td>\n",
       "      <td>-2.877967</td>\n",
       "      <td>NaN</td>\n",
       "      <td>0.043453</td>\n",
       "      <td>2.004811</td>\n",
       "      <td>-3.969222</td>\n",
       "      <td>0.370540</td>\n",
       "      <td>0.836601</td>\n",
       "      <td>0.0003</td>\n",
       "      <td>0.0003</td>\n",
       "    </tr>\n",
       "    <tr>\n",
       "      <th>1924</th>\n",
       "      <td>1924.0</td>\n",
       "      <td>9.0</td>\n",
       "      <td>0.322634</td>\n",
       "      <td>0.198274</td>\n",
       "      <td>0.520908</td>\n",
       "      <td>3.298715</td>\n",
       "      <td>13.496175</td>\n",
       "      <td>10.153954</td>\n",
       "      <td>-2.747692</td>\n",
       "      <td>10.307126</td>\n",
       "      <td>-2.870085</td>\n",
       "      <td>NaN</td>\n",
       "      <td>0.043506</td>\n",
       "      <td>1.162940</td>\n",
       "      <td>-5.727649</td>\n",
       "      <td>-3.253475</td>\n",
       "      <td>0.825282</td>\n",
       "      <td>0.0003</td>\n",
       "      <td>0.0003</td>\n",
       "    </tr>\n",
       "    <tr>\n",
       "      <th>2085</th>\n",
       "      <td>2085.0</td>\n",
       "      <td>10.0</td>\n",
       "      <td>0.137566</td>\n",
       "      <td>0.152996</td>\n",
       "      <td>0.290563</td>\n",
       "      <td>1.630681</td>\n",
       "      <td>11.631979</td>\n",
       "      <td>9.981521</td>\n",
       "      <td>-2.322797</td>\n",
       "      <td>10.106077</td>\n",
       "      <td>-2.869423</td>\n",
       "      <td>NaN</td>\n",
       "      <td>0.019778</td>\n",
       "      <td>3.095285</td>\n",
       "      <td>-5.567228</td>\n",
       "      <td>-1.216979</td>\n",
       "      <td>0.832889</td>\n",
       "      <td>0.0003</td>\n",
       "      <td>0.0003</td>\n",
       "    </tr>\n",
       "    <tr>\n",
       "      <th>1934</th>\n",
       "      <td>1934.0</td>\n",
       "      <td>9.0</td>\n",
       "      <td>0.204255</td>\n",
       "      <td>0.193427</td>\n",
       "      <td>0.397683</td>\n",
       "      <td>2.236791</td>\n",
       "      <td>11.905966</td>\n",
       "      <td>9.654873</td>\n",
       "      <td>-2.189991</td>\n",
       "      <td>10.013351</td>\n",
       "      <td>-2.869032</td>\n",
       "      <td>NaN</td>\n",
       "      <td>0.014302</td>\n",
       "      <td>1.968796</td>\n",
       "      <td>-5.039560</td>\n",
       "      <td>-2.104618</td>\n",
       "      <td>0.834435</td>\n",
       "      <td>0.0003</td>\n",
       "      <td>0.0003</td>\n",
       "    </tr>\n",
       "    <tr>\n",
       "      <th>7854</th>\n",
       "      <td>7854.0</td>\n",
       "      <td>40.0</td>\n",
       "      <td>1.182131</td>\n",
       "      <td>0.251852</td>\n",
       "      <td>1.433983</td>\n",
       "      <td>4.481801</td>\n",
       "      <td>14.466347</td>\n",
       "      <td>9.983042</td>\n",
       "      <td>-2.620981</td>\n",
       "      <td>10.125233</td>\n",
       "      <td>-2.868113</td>\n",
       "      <td>NaN</td>\n",
       "      <td>0.001504</td>\n",
       "      <td>-0.699320</td>\n",
       "      <td>-6.168132</td>\n",
       "      <td>-4.459468</td>\n",
       "      <td>0.829162</td>\n",
       "      <td>0.0003</td>\n",
       "      <td>0.0003</td>\n",
       "    </tr>\n",
       "  </tbody>\n",
       "</table>\n",
       "</div>"
      ],
      "text/plain": [
       "        step  epoch     Dreal     Dfake     Dfull     G_adv     G_full  \\\n",
       "1941  1941.0    9.0  4.864244  0.297447  5.161691  9.358401  19.553679   \n",
       "2124  2124.0   10.0  0.157632  0.154037  0.311670  2.197455  12.466912   \n",
       "7752  7752.0   39.0  2.753385  0.351305  3.104690  8.819856  18.827103   \n",
       "3693  3693.0   18.0  0.157653  0.097684  0.255337  1.456220  11.382221   \n",
       "8864  8864.0   45.0  0.168825  0.941661  1.110486  2.773468  12.759365   \n",
       "7327  7327.0   37.0  0.245219  0.107465  0.352684  0.618919  10.854164   \n",
       "1924  1924.0    9.0  0.322634  0.198274  0.520908  3.298715  13.496175   \n",
       "2085  2085.0   10.0  0.137566  0.152996  0.290563  1.630681  11.631979   \n",
       "1934  1934.0    9.0  0.204255  0.193427  0.397683  2.236791  11.905966   \n",
       "7854  7854.0   40.0  1.182131  0.251852  1.433983  4.481801  14.466347   \n",
       "\n",
       "      spec_loss  hist_loss   spec_chi  hist_chi  gp_loss   fm_loss      D(x)  \\\n",
       "1941  10.141461  -2.835402  10.205624 -2.911902      NaN  0.053816 -5.001018   \n",
       "2124  10.254763  -2.857650  10.395768 -2.894762      NaN  0.014695  2.702075   \n",
       "7752   9.931425  -2.769124  10.156279 -2.889277      NaN  0.075821 -2.773867   \n",
       "3693   9.921953  -2.799109   9.925952 -2.880562      NaN  0.004047  2.135876   \n",
       "8864   9.978475  -2.450536   9.969208 -2.878495      NaN  0.007423  5.003273   \n",
       "7327  10.191792  -2.709495  10.201346 -2.877967      NaN  0.043453  2.004811   \n",
       "1924  10.153954  -2.747692  10.307126 -2.870085      NaN  0.043506  1.162940   \n",
       "2085   9.981521  -2.322797  10.106077 -2.869423      NaN  0.019778  3.095285   \n",
       "1934   9.654873  -2.189991  10.013351 -2.869032      NaN  0.014302  1.968796   \n",
       "7854   9.983042  -2.620981  10.125233 -2.868113      NaN  0.001504 -0.699320   \n",
       "\n",
       "         D_G_z1    D_G_z2      time    lr_d    lr_g  \n",
       "1941 -10.356451 -9.358299  0.830841  0.0003  0.0003  \n",
       "2124  -3.918577 -1.917560  0.830348  0.0003  0.0003  \n",
       "7752 -10.000975 -8.819625  0.838208  0.0003  0.0003  \n",
       "3693  -4.453858 -0.998251  0.845273  0.0003  0.0003  \n",
       "8864   0.378776 -2.685034  0.831964  0.0003  0.0003  \n",
       "7327  -3.969222  0.370540  0.836601  0.0003  0.0003  \n",
       "1924  -5.727649 -3.253475  0.825282  0.0003  0.0003  \n",
       "2085  -5.567228 -1.216979  0.832889  0.0003  0.0003  \n",
       "1934  -5.039560 -2.104618  0.834435  0.0003  0.0003  \n",
       "7854  -6.168132 -4.459468  0.829162  0.0003  0.0003  "
      ]
     },
     "execution_count": 17,
     "metadata": {},
     "output_type": "execute_result"
    }
   ],
   "source": [
    "\n",
    "chi=df_metrics.quantile(q=0.2,axis=0)['hist_chi']\n",
    "print(chi)\n",
    "df_metrics[(df_metrics['hist_chi']<=chi)&(df_metrics.epoch>1)].sort_values(by=['hist_chi']).head(10)"
   ]
  },
  {
   "cell_type": "code",
   "execution_count": 18,
   "metadata": {},
   "outputs": [],
   "source": [
    "# display(df_metrics.sort_values(by=['hist_chi']).head(8))\n",
    "# display(df_metrics.sort_values(by=['spec_chi']).head(8))"
   ]
  },
  {
   "cell_type": "markdown",
   "metadata": {},
   "source": [
    "<!-- ### Read validation data -->"
   ]
  },
  {
   "cell_type": "markdown",
   "metadata": {},
   "source": [
    "## Read stored chi-squares for images"
   ]
  },
  {
   "cell_type": "code",
   "execution_count": 19,
   "metadata": {},
   "outputs": [],
   "source": [
    "## Get sigma list from saved files\n",
    "flist=glob.glob(result_dir+'/df_processed*')\n",
    "sigma_lst=[i.split('/')[-1].split('df_processed_')[-1].split('.pkle')[0] for i in flist]\n",
    "sigma_lst.sort() ### Sorting is important for labels to match !!\n",
    "\n",
    "labels_lst=np.arange(len(sigma_lst))"
   ]
  },
  {
   "cell_type": "code",
   "execution_count": 20,
   "metadata": {},
   "outputs": [
    {
     "data": {
      "text/plain": [
       "(['0.5'], array([0]))"
      ]
     },
     "execution_count": 20,
     "metadata": {},
     "output_type": "execute_result"
    }
   ],
   "source": [
    "sigma_lst,labels_lst"
   ]
  },
  {
   "cell_type": "code",
   "execution_count": 21,
   "metadata": {},
   "outputs": [],
   "source": [
    "### Create a merged dataframe\n",
    "\n",
    "df_list=[]\n",
    "for label in labels_lst:\n",
    "    df=pd.read_pickle(result_dir+'/df_processed_{0}.pkle'.format(str(sigma_lst[label])))\n",
    "    df[['epoch','step']]=df[['epoch','step']].astype(int)\n",
    "    df['label']=df.epoch.astype(str)+'-'+df.step.astype(str) # Add label column for plotting\n",
    "    df_list.append(df)\n",
    "\n",
    "for i,df in enumerate(df_list):\n",
    "    df1=df.add_suffix('_'+str(i))\n",
    "    # renaming the columns to be joined on\n",
    "    keys=['epoch','step','img_type','label']\n",
    "    rename_cols_dict={key+'_'+str(i):key for key in keys}\n",
    "#     print(rename_cols_dict)\n",
    "    df1.rename(columns=rename_cols_dict,inplace=True) \n",
    "    df_list[i]=df1\n",
    "    \n",
    "df_merged=reduce(lambda x, y : pd.merge(x, y, on = ['step','epoch','img_type','label']), df_list)\n",
    "\n",
    "### Get sum of all 4 classes for 3 types of chi-squares\n",
    "for chi_type in ['chi_1','chi_spec1','chi_1b']:\n",
    "    keys=[chi_type+'_'+str(label) for label in labels_lst]\n",
    "#     display(df_merged[keys].sum(axis=1))\n",
    "    df_merged['sum_'+chi_type]=df_merged[keys].sum(axis=1)\n",
    "del df_list\n",
    "\n"
   ]
  },
  {
   "cell_type": "markdown",
   "metadata": {},
   "source": [
    "### Slice best steps"
   ]
  },
  {
   "cell_type": "code",
   "execution_count": 22,
   "metadata": {},
   "outputs": [],
   "source": [
    "def f_slice_merged_df(df,cutoff=0.2,sort_col='chi_1',col_mode='all',label='all',params_lst=[0,1,2],head=10,epoch_range=[0,None],use_sum=True,display_flag=False):\n",
    "    ''' View dataframe after slicing\n",
    "    '''\n",
    "\n",
    "    if epoch_range[1]==None: epoch_range[1]=df.max()['epoch']\n",
    "    df=df[(df.epoch<=epoch_range[1])&(df.epoch>=epoch_range[0])]\n",
    "\n",
    "    ######### Apply cutoff to keep reasonable chi1 and chispec1\n",
    "    #### Add chi-square columns to use\n",
    "    chi_cols=[]\n",
    "    if use_sum: ## Add sum chi-square columns\n",
    "        for j in ['chi_1','chi_spec1','chi_1b']: chi_cols.append('sum_'+j)\n",
    "        \n",
    "    if label=='all': ### Add chi-squares for all labels\n",
    "        for j in ['chi_1','chi_spec1','chi_1b']:\n",
    "            for idx,i in enumerate(params_lst): chi_cols.append(j+'_'+str(idx))\n",
    "    else: ## Add chi-square for specific label\n",
    "        assert label in params_lst, \"label %s is not in %s\"%(label,params_lst)\n",
    "        label_idx=params_lst.index(label)\n",
    "        print(label_idx)\n",
    "        for j in ['chi_1','chi_spec1','chi_1b']: chi_cols.append(j+'_'+str(label_idx))\n",
    "#     print(chi_cols)\n",
    "    q_dict=dict(df_merged.quantile(q=cutoff,axis=0)[chi_cols])\n",
    "    # print(q_dict)\n",
    "    strg=['%s < %s'%(key,q_dict[key]) for key in chi_cols ]\n",
    "    query=\" & \".join(strg)\n",
    "    # print(query)\n",
    "    df=df.query(query)\n",
    "    \n",
    "    # Sort dataframe\n",
    "    df1=df[df.epoch>0].sort_values(by=sort_col)\n",
    "    chis=[i for i in df_merged.columns if 'chi' in i]\n",
    "    col_list=['label']+chis+['epoch','step']\n",
    "    if (col_mode=='short'): \n",
    "        col_list=['label']+[i for i in df_merged.columns if i.startswith('sum')]\n",
    "        col_list=['label']+chi_cols\n",
    "    df2=df1.head(head)[col_list]\n",
    "    \n",
    "    if display_flag: display(df2) # Display df\n",
    "    \n",
    "    return df2\n",
    "\n",
    "# f_slice_merged_df(df_merged,cutoff=0.3,sort_col='sum_chi_1',label=0.65,params_lst=[0.5,0.65,0.8,1.1],use_sum=True,head=2000,display_flag=False,epoch_range=[7,None])"
   ]
  },
  {
   "cell_type": "code",
   "execution_count": 23,
   "metadata": {},
   "outputs": [
    {
     "data": {
      "application/vnd.jupyter.widget-view+json": {
       "model_id": "8388cb4ce2284e33baed9f66f98ce0d0",
       "version_major": 2,
       "version_minor": 0
      },
      "text/plain": [
       "interactive(children=(FloatSlider(value=0.3, description='cutoff', max=1.0, step=0.01), Dropdown(description='…"
      ]
     },
     "metadata": {},
     "output_type": "display_data"
    }
   ],
   "source": [
    "cols_to_sort=np.unique([i for i in df_merged.columns for j in ['chi_1_','chi_spec1_'] if ((i.startswith(j)) or (i.startswith('sum')))])\n",
    "\n",
    "w=interactive(f_slice_merged_df,df=fixed(df_merged),\n",
    "cutoff=widgets.FloatSlider(value=0.3, min=0, max=1.0, step=0.01), \n",
    "col_mode=['all','short'], display_flag=widgets.Checkbox(value=False),\n",
    "use_sum=widgets.Checkbox(value=True),\n",
    "label=ToggleButtons(options=['all']+sigma_lst), params_lst=fixed(sigma_lst),\n",
    "head=widgets.IntSlider(value=10,min=1,max=20,step=1),\n",
    "epoch_range=widgets.IntRangeSlider(value=[0,np.max(df.epoch.values)],min=0,max=np.max(df.epoch.values),step=1),\n",
    "sort_col=cols_to_sort\n",
    ")\n",
    "display(w)"
   ]
  },
  {
   "cell_type": "code",
   "execution_count": 24,
   "metadata": {},
   "outputs": [
    {
     "data": {
      "text/plain": [
       "[]"
      ]
     },
     "execution_count": 24,
     "metadata": {},
     "output_type": "execute_result"
    }
   ],
   "source": [
    "df_sliced=w.result\n",
    "[int(i.split('-')[1]) for i in df_sliced.label.values]\n",
    "\n",
    "\n",
    "# df_sliced"
   ]
  },
  {
   "cell_type": "code",
   "execution_count": 25,
   "metadata": {},
   "outputs": [
    {
     "name": "stdout",
     "output_type": "stream",
     "text": [
      "[ 6690  9710  9870  9990 13310 13680 13830 14160 14760 14770]\n"
     ]
    },
    {
     "data": {
      "text/plain": [
       "array([ 6690,  9710,  9870,  9990, 13310, 13680, 13830, 14160, 14760,\n",
       "       14770])"
      ]
     },
     "execution_count": 25,
     "metadata": {},
     "output_type": "execute_result"
    }
   ],
   "source": [
    "best_step=[]\n",
    "df_test=df_merged.copy()\n",
    "df_test=df_merged[(df_merged.epoch<80)&(df_merged.epoch>30)]\n",
    "cut_off=1.0\n",
    "\n",
    "best_step.append(f_slice_merged_df(df_test,cutoff=cut_off,sort_col='sum_chi_1',label='all',use_sum=True,head=4,display_flag=False,epoch_range=[7,None],params_lst=sigma_lst).step.values)\n",
    "best_step.append(f_slice_merged_df(df_test,cutoff=cut_off,sort_col='sum_chi_spec1',label='all',use_sum=True,head=4,display_flag=False,epoch_range=[7,None],params_lst=sigma_lst).step.values)\n",
    "best_step.append(f_slice_merged_df(df_test,cutoff=cut_off,sort_col='sum_chi_1b',label='all',use_sum=True,head=2,display_flag=False,epoch_range=[7,None],params_lst=sigma_lst).step.values)\n",
    "\n",
    "# best_step.append([46669,34281])\n",
    "best_step=np.unique([i for j in best_step for i in j])\n",
    "print(best_step)\n",
    "best_step"
   ]
  },
  {
   "cell_type": "code",
   "execution_count": 26,
   "metadata": {},
   "outputs": [],
   "source": [
    "# best_step=[6176]\n",
    "# best_step= [32300, 35810, 36020, 37030, 38640, 42480, 43850]\n",
    "# best_step=[int(i.split('-')[1]) for i in df_sliced.label.values]\n",
    "# best_step=np.arange(40130,40135).astype(int)"
   ]
  },
  {
   "cell_type": "code",
   "execution_count": 27,
   "metadata": {},
   "outputs": [
    {
     "name": "stdout",
     "output_type": "stream",
     "text": [
      "(10, 25)\n",
      "[(34, 6690), (49, 9710), (50, 9870), (51, 9990), (68, 13310), (70, 13680), (70, 13830), (72, 14160), (75, 14760), (75, 14770)]\n"
     ]
    }
   ],
   "source": [
    "df_best=df_merged[df_merged.step.isin(best_step)]\n",
    "print(df_best.shape)\n",
    "print([(df_best[df_best.step==step].epoch.values[0],df_best[df_best.step==step].step.values[0]) for step in best_step])\n",
    "# print([(df_best.loc[idx].epoch,df_best.loc[idx].step) for idx in best_idx])"
   ]
  },
  {
   "cell_type": "code",
   "execution_count": 28,
   "metadata": {},
   "outputs": [
    {
     "data": {
      "text/html": [
       "<div>\n",
       "<style scoped>\n",
       "    .dataframe tbody tr th:only-of-type {\n",
       "        vertical-align: middle;\n",
       "    }\n",
       "\n",
       "    .dataframe tbody tr th {\n",
       "        vertical-align: top;\n",
       "    }\n",
       "\n",
       "    .dataframe thead th {\n",
       "        text-align: right;\n",
       "    }\n",
       "</style>\n",
       "<table border=\"1\" class=\"dataframe\">\n",
       "  <thead>\n",
       "    <tr style=\"text-align: right;\">\n",
       "      <th></th>\n",
       "      <th>label</th>\n",
       "      <th>sum_chi_1</th>\n",
       "      <th>sum_chi_spec1</th>\n",
       "      <th>sum_chi_1b</th>\n",
       "    </tr>\n",
       "  </thead>\n",
       "  <tbody>\n",
       "    <tr>\n",
       "      <th>668</th>\n",
       "      <td>34-6690</td>\n",
       "      <td>0.008135</td>\n",
       "      <td>0.944172</td>\n",
       "      <td>0.000030</td>\n",
       "    </tr>\n",
       "    <tr>\n",
       "      <th>970</th>\n",
       "      <td>49-9710</td>\n",
       "      <td>0.038059</td>\n",
       "      <td>1.225773</td>\n",
       "      <td>0.000027</td>\n",
       "    </tr>\n",
       "    <tr>\n",
       "      <th>986</th>\n",
       "      <td>50-9870</td>\n",
       "      <td>0.030496</td>\n",
       "      <td>2.093266</td>\n",
       "      <td>0.000027</td>\n",
       "    </tr>\n",
       "    <tr>\n",
       "      <th>998</th>\n",
       "      <td>51-9990</td>\n",
       "      <td>0.008375</td>\n",
       "      <td>1.035174</td>\n",
       "      <td>0.000029</td>\n",
       "    </tr>\n",
       "    <tr>\n",
       "      <th>1330</th>\n",
       "      <td>68-13310</td>\n",
       "      <td>0.022117</td>\n",
       "      <td>0.241428</td>\n",
       "      <td>0.000035</td>\n",
       "    </tr>\n",
       "    <tr>\n",
       "      <th>1367</th>\n",
       "      <td>70-13680</td>\n",
       "      <td>0.007979</td>\n",
       "      <td>0.498810</td>\n",
       "      <td>0.000030</td>\n",
       "    </tr>\n",
       "    <tr>\n",
       "      <th>1382</th>\n",
       "      <td>70-13830</td>\n",
       "      <td>0.006720</td>\n",
       "      <td>0.428467</td>\n",
       "      <td>0.000027</td>\n",
       "    </tr>\n",
       "    <tr>\n",
       "      <th>1415</th>\n",
       "      <td>72-14160</td>\n",
       "      <td>0.031602</td>\n",
       "      <td>0.269356</td>\n",
       "      <td>0.000039</td>\n",
       "    </tr>\n",
       "    <tr>\n",
       "      <th>1475</th>\n",
       "      <td>75-14760</td>\n",
       "      <td>0.031242</td>\n",
       "      <td>0.273656</td>\n",
       "      <td>0.000030</td>\n",
       "    </tr>\n",
       "    <tr>\n",
       "      <th>1476</th>\n",
       "      <td>75-14770</td>\n",
       "      <td>0.015834</td>\n",
       "      <td>0.222392</td>\n",
       "      <td>0.000028</td>\n",
       "    </tr>\n",
       "  </tbody>\n",
       "</table>\n",
       "</div>"
      ],
      "text/plain": [
       "         label  sum_chi_1  sum_chi_spec1  sum_chi_1b\n",
       "668    34-6690   0.008135       0.944172    0.000030\n",
       "970    49-9710   0.038059       1.225773    0.000027\n",
       "986    50-9870   0.030496       2.093266    0.000027\n",
       "998    51-9990   0.008375       1.035174    0.000029\n",
       "1330  68-13310   0.022117       0.241428    0.000035\n",
       "1367  70-13680   0.007979       0.498810    0.000030\n",
       "1382  70-13830   0.006720       0.428467    0.000027\n",
       "1415  72-14160   0.031602       0.269356    0.000039\n",
       "1475  75-14760   0.031242       0.273656    0.000030\n",
       "1476  75-14770   0.015834       0.222392    0.000028"
      ]
     },
     "execution_count": 28,
     "metadata": {},
     "output_type": "execute_result"
    }
   ],
   "source": [
    "col_list=['label']+[i for i in df_merged.columns if i.startswith('sum')]\n",
    "df_best[col_list]"
   ]
  },
  {
   "cell_type": "markdown",
   "metadata": {},
   "source": [
    "### Interactive plot"
   ]
  },
  {
   "cell_type": "code",
   "execution_count": 29,
   "metadata": {
    "jupyter": {
     "source_hidden": true
    },
    "tags": []
   },
   "outputs": [],
   "source": [
    "\n",
    "def f_plot_hist_spec(df,param_labels,sigma_lst,steps_list,bkg_dict,plot_type,img_size):\n",
    "\n",
    "    assert plot_type in ['hist','spec','grid','spec_relative'],\"Invalid mode %s\"%(plot_type)\n",
    "\n",
    "    if plot_type in ['hist','spec','spec_relative']:     fig=plt.figure(figsize=(6,6))\n",
    "    for par_label in param_labels:\n",
    "        df=df[df.step.isin(steps_list)]\n",
    "#         print(df.shape)\n",
    "        idx=sigma_lst.index(par_label)\n",
    "        suffix='_%s'%(idx)\n",
    "        dict_bkg=bkg_dict[str(par_label)]\n",
    "        \n",
    "        for (i,row),marker in zip(df.iterrows(),itertools.cycle('>^*sDHPdpx_')):\n",
    "            label=row.label+'_'+str(par_label)\n",
    "            if plot_type=='hist':\n",
    "                x1=row['hist_bin_centers'+suffix]\n",
    "                y1=row['hist_val'+suffix]\n",
    "                yerr1=row['hist_err'+suffix]\n",
    "                x1=f_invtransform(x1)\n",
    "                \n",
    "                plt.errorbar(x1,y1,yerr1,marker=marker,markersize=5,linestyle='',label=label)\n",
    "            if plot_type=='spec':\n",
    "                y2=row['spec_val'+suffix]\n",
    "                yerr2=row['spec_sdev'+suffix]/np.sqrt(row['num_imgs'+suffix])\n",
    "                x2=np.arange(len(y2))\n",
    "\n",
    "                plt.fill_between(x2, y2 - yerr2, y2 + yerr2, alpha=0.4)\n",
    "                plt.plot(x2, y2, marker=marker, linestyle=':',label=label)\n",
    "\n",
    "            if plot_type=='spec_relative':\n",
    "\n",
    "                y2=row['spec_val'+suffix]\n",
    "                yerr2=row['spec_sdev'+suffix]\n",
    "                x2=np.arange(len(y2))\n",
    "\n",
    "                ### Reference spectrum\n",
    "                y1,yerr1=dict_bkg['spec_val'],dict_bkg['spec_sdev']\n",
    "                y=y2/y1\n",
    "                ## Variance is sum of variance of both variables, since they are uncorrelated\n",
    "\n",
    "                # delta_r= |r| * sqrt(delta_a/a)^2 +(\\delta_b/b)^2) / \\sqrt(N)\n",
    "                yerr=(np.abs(y))*np.sqrt((yerr1/y1)**2+(yerr2/y2)**2)/np.sqrt(row['num_imgs'+suffix])\n",
    "                \n",
    "                plt.fill_between(x2, y - yerr, y + yerr, alpha=0.4)\n",
    "                plt.plot(x2, y, marker=marker, linestyle=':',label=label)\n",
    "\n",
    "            if plot_type=='grid':\n",
    "                images=np.load(row['fname'+suffix])[:,0,:,:,0]\n",
    "                print(images.shape)\n",
    "                f_plot_grid(images[:8],cols=4,fig_size=(8,4))\n",
    "            \n",
    "        ### Plot reference data\n",
    "        if plot_type=='hist':\n",
    "            x,y,yerr=dict_bkg['hist_bin_centers'],dict_bkg['hist_val'],dict_bkg['hist_err']\n",
    "            x=f_invtransform(x)\n",
    "            plt.errorbar(x, y,yerr,color='k',linestyle='-',label='bkgnd')   \n",
    "            plt.title('Pixel Intensity Histogram')\n",
    "            plt.xscale('symlog',linthreshx=50)\n",
    "        \n",
    "        if plot_type=='spec':\n",
    "            y,yerr=dict_bkg['spec_val'],dict_bkg['spec_sdev']/np.sqrt(num_bkgnd)\n",
    "            x=np.arange(len(y))\n",
    "            plt.fill_between(x, y - yerr, y + yerr, color='k',alpha=0.8)\n",
    "            plt.title('Spectrum')\n",
    "            plt.xlim(0,img_size/2)\n",
    "\n",
    "        if plot_type=='spec_relative':\n",
    "            plt.axhline(y=1.0,color='k',linestyle='-.')\n",
    "            plt.title(\"Relative spectrum\")\n",
    "            plt.xlim(0,img_size/2)\n",
    "            plt.ylim(0.5,2)\n",
    "\n",
    "    if plot_type in ['hist','spec']:     \n",
    "        plt.yscale('log')\n",
    "    plt.legend(bbox_to_anchor=(0.3, 0.75),ncol=2, fancybox=True, shadow=True,prop={'size':6})\n",
    "\n",
    "\n",
    "# f_plot_hist_spec(df_merged,[sigma_lst[-1]],sigma_lst,[best_step[0]],bkgnd_dict,'hist')"
   ]
  },
  {
   "cell_type": "code",
   "execution_count": 30,
   "metadata": {},
   "outputs": [
    {
     "data": {
      "application/vnd.jupyter.widget-view+json": {
       "model_id": "d27cfe4de7d94a3f9fe64b3da3156f18",
       "version_major": 2,
       "version_minor": 0
      },
      "text/plain": [
       "interactive(children=(SelectMultiple(description='param_labels', options=('0.5',), value=()), SelectMultiple(d…"
      ]
     },
     "metadata": {},
     "output_type": "display_data"
    },
    {
     "data": {
      "text/plain": [
       "<function __main__.f_plot_hist_spec(df, param_labels, sigma_lst, steps_list, bkg_dict, plot_type, img_size)>"
      ]
     },
     "execution_count": 30,
     "metadata": {},
     "output_type": "execute_result"
    }
   ],
   "source": [
    "interact_manual(f_plot_hist_spec,df=fixed(df_merged),\n",
    "                param_labels=SelectMultiple(options=sigma_lst),sigma_lst=fixed(sigma_lst),\n",
    "                steps_list=SelectMultiple(options=best_step),\n",
    "                img_size=fixed(img_size),\n",
    "                bkg_dict=fixed(bkgnd_dict),plot_type=ToggleButtons(options=['hist','spec','grid','spec_relative']))"
   ]
  },
  {
   "cell_type": "code",
   "execution_count": null,
   "metadata": {},
   "outputs": [],
   "source": []
  },
  {
   "cell_type": "markdown",
   "metadata": {},
   "source": [
    "### Delete unwanted stored models\n",
    "(Since deterministic runs aren't working well )"
   ]
  },
  {
   "cell_type": "code",
   "execution_count": 68,
   "metadata": {},
   "outputs": [],
   "source": [
    "# # fldr='/global/cfs/cdirs/m3363/vayyar/cosmogan_data/results_from_other_code/pytorch/results/128sq/20210119_134802_cgan_predict_0.65_m2/models'\n",
    "# fldr=result_dir\n",
    "# print(fldr)\n",
    "# flist=glob.glob(fldr+'/models/checkpoint_*.tar')\n",
    "# len(flist)"
   ]
  },
  {
   "cell_type": "code",
   "execution_count": 69,
   "metadata": {},
   "outputs": [],
   "source": [
    "# # Delete unwanted stored images\n",
    "# for i in flist:\n",
    "#     try:\n",
    "#         step=int(i.split('/')[-1].split('_')[-1].split('.')[0])\n",
    "#         if step not in best_step:\n",
    "# #             print(\"Found\")\n",
    "# #             print(step)\n",
    "#             os.remove(i)\n",
    "#             pass\n",
    "#         else: \n",
    "#             print(step)\n",
    "# #             print(i)\n",
    "#     except Exception as e:\n",
    "# #         print(e)\n",
    "# #         print(i)\n",
    "#         pass"
   ]
  },
  {
   "cell_type": "code",
   "execution_count": 70,
   "metadata": {},
   "outputs": [
    {
     "data": {
      "text/plain": [
       "array([ 980, 1020, 1040, 1280, 1330, 1340, 1410, 1760, 2070, 2310])"
      ]
     },
     "execution_count": 70,
     "metadata": {},
     "output_type": "execute_result"
    }
   ],
   "source": [
    "best_step"
   ]
  },
  {
   "cell_type": "code",
   "execution_count": 71,
   "metadata": {},
   "outputs": [],
   "source": [
    "# ! du -hs  /global/cfs/cdirs/m3363/vayyar/cosmogan_data/raw_data/3d_data/dataset2a_3dcgan_4univs_64cube_simple_splicing/norm_1_sig_0.5_train_val.npy"
   ]
  },
  {
   "cell_type": "code",
   "execution_count": null,
   "metadata": {},
   "outputs": [],
   "source": []
  }
 ],
 "metadata": {
  "kernelspec": {
   "display_name": "v3",
   "language": "python",
   "name": "v-jpt-3"
  },
  "language_info": {
   "codemirror_mode": {
    "name": "ipython",
    "version": 3
   },
   "file_extension": ".py",
   "mimetype": "text/x-python",
   "name": "python",
   "nbconvert_exporter": "python",
   "pygments_lexer": "ipython3",
   "version": "3.8.6"
  }
 },
 "nbformat": 4,
 "nbformat_minor": 4
}

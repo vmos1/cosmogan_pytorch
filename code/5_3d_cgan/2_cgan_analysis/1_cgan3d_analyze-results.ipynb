{
 "cells": [
  {
   "cell_type": "markdown",
   "metadata": {},
   "source": [
    "# Analyze results for 3D CGAN\n",
    "Feb 22, 2021"
   ]
  },
  {
   "cell_type": "code",
   "execution_count": 64,
   "metadata": {},
   "outputs": [],
   "source": [
    "import     numpy as np\n",
    "import matplotlib.pyplot as plt\n",
    "import pandas as pd\n",
    "\n",
    "import subprocess as sp\n",
    "import sys\n",
    "import os\n",
    "import glob\n",
    "import pickle \n",
    "\n",
    "from matplotlib.colors import LogNorm, PowerNorm, Normalize\n",
    "import seaborn as sns\n",
    "from functools import reduce"
   ]
  },
  {
   "cell_type": "code",
   "execution_count": 65,
   "metadata": {},
   "outputs": [],
   "source": [
    "from ipywidgets import *"
   ]
  },
  {
   "cell_type": "code",
   "execution_count": 66,
   "metadata": {},
   "outputs": [],
   "source": [
    "%matplotlib widget"
   ]
  },
  {
   "cell_type": "code",
   "execution_count": 67,
   "metadata": {},
   "outputs": [],
   "source": [
    "sys.path.append('/global/u1/v/vpa/project/jpt_notebooks/Cosmology/Cosmo_GAN/repositories/cosmogan_pytorch/code/modules_image_analysis/')\n",
    "from modules_img_analysis import *"
   ]
  },
  {
   "cell_type": "code",
   "execution_count": 68,
   "metadata": {},
   "outputs": [],
   "source": [
    "sys.path.append('/global/u1/v/vpa/project/jpt_notebooks/Cosmology/Cosmo_GAN/repositories/cosmogan_pytorch/code/5_3d_cgan/1_main_code/')\n",
    "import post_analysis_pandas as post\n"
   ]
  },
  {
   "cell_type": "code",
   "execution_count": 69,
   "metadata": {},
   "outputs": [],
   "source": [
    "### Transformation functions for image pixel values\n",
    "def f_transform(x):\n",
    "    return 2.*x/(x + 4.) - 1.\n",
    "\n",
    "def f_invtransform(s):\n",
    "    return 4.*(1. + s)/(1. - s)\n"
   ]
  },
  {
   "cell_type": "markdown",
   "metadata": {},
   "source": [
    "### Read validation data"
   ]
  },
  {
   "cell_type": "code",
   "execution_count": 70,
   "metadata": {},
   "outputs": [
    {
     "name": "stdout",
     "output_type": "stream",
     "text": [
      "/global/cfs/cdirs/m3363/vayyar/cosmogan_data/raw_data/3d_data/dataset2a_3dcgan_4univs_64cube_simple_splicing/norm_1_sig_0.5_train_val.npy\n",
      "/global/cfs/cdirs/m3363/vayyar/cosmogan_data/raw_data/3d_data/dataset2a_3dcgan_4univs_64cube_simple_splicing/norm_1_sig_0.65_train_val.npy\n",
      "/global/cfs/cdirs/m3363/vayyar/cosmogan_data/raw_data/3d_data/dataset2a_3dcgan_4univs_64cube_simple_splicing/norm_1_sig_0.8_train_val.npy\n",
      "/global/cfs/cdirs/m3363/vayyar/cosmogan_data/raw_data/3d_data/dataset2a_3dcgan_4univs_64cube_simple_splicing/norm_1_sig_1.1_train_val.npy\n"
     ]
    }
   ],
   "source": [
    "# bins=np.concatenate([np.array([-0.5]),np.arange(0.5,20.5,1),np.arange(20.5,100.5,5),np.arange(100.5,1000.5,50),np.array([2000])]) #bin edges to use\n",
    "bins=np.concatenate([np.array([-0.5]),np.arange(0.5,100.5,5),np.arange(100.5,300.5,20),np.arange(300.5,1000.5,50),np.array([2000])]) #bin edges to use\n",
    "\n",
    "bins=f_transform(bins)   ### scale to (-1,1)\n",
    "# ### Extract validation data\n",
    "sigma_lst=[0.5,0.65,0.8,1.1]\n",
    "labels_lst=range(len(sigma_lst))\n",
    "bkgnd_dict={}\n",
    "num_bkgnd=200\n",
    "\n",
    "for label in labels_lst:\n",
    "    fname='/global/cfs/cdirs/m3363/vayyar/cosmogan_data/raw_data/3d_data/dataset2a_3dcgan_4univs_64cube_simple_splicing/norm_1_sig_{0}_train_val.npy'.format(sigma_lst[label])\n",
    "    print(fname)\n",
    "    samples=np.load(fname,mmap_mode='r')[-num_bkgnd:][:,0,:,:]\n",
    "    \n",
    "    dict_val=post.f_compute_hist_spect(samples,bins)\n",
    "    bkgnd_dict[str(sigma_lst[label])]=dict_val\n",
    "    del samples"
   ]
  },
  {
   "cell_type": "markdown",
   "metadata": {},
   "source": [
    "## Read data"
   ]
  },
  {
   "cell_type": "code",
   "execution_count": 71,
   "metadata": {},
   "outputs": [],
   "source": [
    "# main_dir='/global/cfs/cdirs/m3363/vayyar/cosmogan_data/results_from_other_code/pytorch/results/128sq/'\n",
    "# results_dir=main_dir+'20201002_064327'"
   ]
  },
  {
   "cell_type": "code",
   "execution_count": 72,
   "metadata": {},
   "outputs": [],
   "source": [
    "dict1={'64':'/global/cfs/cdirs/m3363/vayyar/cosmogan_data/results_from_other_code/pytorch/results/3d_cGAN/',\n",
    "      '512':'/global/cfs/cdirs/m3363/vayyar/cosmogan_data/results_from_other_code/pytorch/results/3d_cGAN/'}\n",
    "\n",
    "u=interactive(lambda x: dict1[x], x=Select(options=dict1.keys()))\n",
    "# display(u)\n"
   ]
  },
  {
   "cell_type": "code",
   "execution_count": 73,
   "metadata": {},
   "outputs": [
    {
     "data": {
      "application/vnd.jupyter.widget-view+json": {
       "model_id": "56f0c04eb184481684569c05a2a67de9",
       "version_major": 2,
       "version_minor": 0
      },
      "text/plain": [
       "interactive(children=(Dropdown(description='x', options=('20210223_210217_3dcgan_predict_0.8_m2', '20210225_20…"
      ]
     },
     "metadata": {},
     "output_type": "display_data"
    }
   ],
   "source": [
    "# parent_dir=u.result\n",
    "parent_dir=dict1['64']\n",
    "dir_lst=[i.split('/')[-1] for i in glob.glob(parent_dir+'202102*')]\n",
    "w=interactive(lambda x: x, x=Dropdown(options=dir_lst))\n",
    "display(w)"
   ]
  },
  {
   "cell_type": "code",
   "execution_count": 74,
   "metadata": {},
   "outputs": [
    {
     "name": "stdout",
     "output_type": "stream",
     "text": [
      "/global/cfs/cdirs/m3363/vayyar/cosmogan_data/results_from_other_code/pytorch/results/3d_cGAN/20210227_050213_3dcgan_predict_0.65_m2\n"
     ]
    }
   ],
   "source": [
    "result=w.result\n",
    "result_dir=parent_dir+result\n",
    "print(result_dir)"
   ]
  },
  {
   "cell_type": "markdown",
   "metadata": {},
   "source": [
    "## Plot Losses"
   ]
  },
  {
   "cell_type": "code",
   "execution_count": 75,
   "metadata": {},
   "outputs": [],
   "source": [
    "df_metrics=pd.read_pickle(result_dir+'/df_metrics.pkle').astype(np.float64)\n"
   ]
  },
  {
   "cell_type": "code",
   "execution_count": 76,
   "metadata": {},
   "outputs": [
    {
     "data": {
      "text/html": [
       "<div>\n",
       "<style scoped>\n",
       "    .dataframe tbody tr th:only-of-type {\n",
       "        vertical-align: middle;\n",
       "    }\n",
       "\n",
       "    .dataframe tbody tr th {\n",
       "        vertical-align: top;\n",
       "    }\n",
       "\n",
       "    .dataframe thead th {\n",
       "        text-align: right;\n",
       "    }\n",
       "</style>\n",
       "<table border=\"1\" class=\"dataframe\">\n",
       "  <thead>\n",
       "    <tr style=\"text-align: right;\">\n",
       "      <th></th>\n",
       "      <th>step</th>\n",
       "      <th>epoch</th>\n",
       "      <th>Dreal</th>\n",
       "      <th>Dfake</th>\n",
       "      <th>Dfull</th>\n",
       "      <th>G_adv</th>\n",
       "      <th>G_full</th>\n",
       "      <th>spec_loss</th>\n",
       "      <th>hist_loss</th>\n",
       "      <th>spec_chi</th>\n",
       "      <th>hist_chi</th>\n",
       "      <th>D(x)</th>\n",
       "      <th>D_G_z1</th>\n",
       "      <th>D_G_z2</th>\n",
       "      <th>time</th>\n",
       "    </tr>\n",
       "  </thead>\n",
       "  <tbody>\n",
       "    <tr>\n",
       "      <th>67341</th>\n",
       "      <td>67341.0</td>\n",
       "      <td>49.0</td>\n",
       "      <td>0.156118</td>\n",
       "      <td>0.148114</td>\n",
       "      <td>0.304232</td>\n",
       "      <td>3.482937</td>\n",
       "      <td>111.945435</td>\n",
       "      <td>108.462494</td>\n",
       "      <td>-0.442317</td>\n",
       "      <td>108.139931</td>\n",
       "      <td>-0.488237</td>\n",
       "      <td>3.793265</td>\n",
       "      <td>-3.367856</td>\n",
       "      <td>-3.450812</td>\n",
       "      <td>0.518365</td>\n",
       "    </tr>\n",
       "    <tr>\n",
       "      <th>67342</th>\n",
       "      <td>67342.0</td>\n",
       "      <td>49.0</td>\n",
       "      <td>0.109853</td>\n",
       "      <td>0.132423</td>\n",
       "      <td>0.242277</td>\n",
       "      <td>3.965339</td>\n",
       "      <td>112.274101</td>\n",
       "      <td>108.308762</td>\n",
       "      <td>-0.261318</td>\n",
       "      <td>107.195915</td>\n",
       "      <td>-0.814009</td>\n",
       "      <td>3.696232</td>\n",
       "      <td>-3.085463</td>\n",
       "      <td>-3.945446</td>\n",
       "      <td>0.516710</td>\n",
       "    </tr>\n",
       "    <tr>\n",
       "      <th>67343</th>\n",
       "      <td>67343.0</td>\n",
       "      <td>49.0</td>\n",
       "      <td>0.138316</td>\n",
       "      <td>0.141367</td>\n",
       "      <td>0.279684</td>\n",
       "      <td>3.926706</td>\n",
       "      <td>110.151787</td>\n",
       "      <td>106.225082</td>\n",
       "      <td>-0.385670</td>\n",
       "      <td>106.280052</td>\n",
       "      <td>-0.543033</td>\n",
       "      <td>3.453577</td>\n",
       "      <td>-3.307747</td>\n",
       "      <td>-3.906112</td>\n",
       "      <td>0.497142</td>\n",
       "    </tr>\n",
       "    <tr>\n",
       "      <th>67344</th>\n",
       "      <td>67344.0</td>\n",
       "      <td>49.0</td>\n",
       "      <td>0.128451</td>\n",
       "      <td>0.142791</td>\n",
       "      <td>0.271242</td>\n",
       "      <td>2.863164</td>\n",
       "      <td>109.803337</td>\n",
       "      <td>106.940170</td>\n",
       "      <td>-0.453996</td>\n",
       "      <td>106.952103</td>\n",
       "      <td>-0.521182</td>\n",
       "      <td>2.970235</td>\n",
       "      <td>-3.632308</td>\n",
       "      <td>-2.799794</td>\n",
       "      <td>0.499532</td>\n",
       "    </tr>\n",
       "    <tr>\n",
       "      <th>67345</th>\n",
       "      <td>67345.0</td>\n",
       "      <td>49.0</td>\n",
       "      <td>0.126615</td>\n",
       "      <td>0.181449</td>\n",
       "      <td>0.308064</td>\n",
       "      <td>5.506667</td>\n",
       "      <td>111.329330</td>\n",
       "      <td>105.822662</td>\n",
       "      <td>-0.117044</td>\n",
       "      <td>107.134361</td>\n",
       "      <td>0.063623</td>\n",
       "      <td>4.096053</td>\n",
       "      <td>-2.325142</td>\n",
       "      <td>-5.502391</td>\n",
       "      <td>0.542141</td>\n",
       "    </tr>\n",
       "    <tr>\n",
       "      <th>67346</th>\n",
       "      <td>67346.0</td>\n",
       "      <td>49.0</td>\n",
       "      <td>0.157101</td>\n",
       "      <td>0.156469</td>\n",
       "      <td>0.313570</td>\n",
       "      <td>4.870490</td>\n",
       "      <td>112.470329</td>\n",
       "      <td>107.599838</td>\n",
       "      <td>-0.321778</td>\n",
       "      <td>107.913025</td>\n",
       "      <td>0.156020</td>\n",
       "      <td>3.298939</td>\n",
       "      <td>-5.057765</td>\n",
       "      <td>-4.861575</td>\n",
       "      <td>0.504071</td>\n",
       "    </tr>\n",
       "    <tr>\n",
       "      <th>67347</th>\n",
       "      <td>67347.0</td>\n",
       "      <td>49.0</td>\n",
       "      <td>0.132959</td>\n",
       "      <td>0.142505</td>\n",
       "      <td>0.275464</td>\n",
       "      <td>3.220198</td>\n",
       "      <td>112.018547</td>\n",
       "      <td>108.798347</td>\n",
       "      <td>-0.321858</td>\n",
       "      <td>107.663956</td>\n",
       "      <td>0.081704</td>\n",
       "      <td>3.699559</td>\n",
       "      <td>-4.067840</td>\n",
       "      <td>-3.173584</td>\n",
       "      <td>0.525678</td>\n",
       "    </tr>\n",
       "    <tr>\n",
       "      <th>67348</th>\n",
       "      <td>67348.0</td>\n",
       "      <td>49.0</td>\n",
       "      <td>0.155534</td>\n",
       "      <td>0.177702</td>\n",
       "      <td>0.333236</td>\n",
       "      <td>5.634856</td>\n",
       "      <td>114.666641</td>\n",
       "      <td>109.031784</td>\n",
       "      <td>-0.116069</td>\n",
       "      <td>106.397987</td>\n",
       "      <td>0.064157</td>\n",
       "      <td>4.152534</td>\n",
       "      <td>-2.328207</td>\n",
       "      <td>-5.630915</td>\n",
       "      <td>0.492672</td>\n",
       "    </tr>\n",
       "    <tr>\n",
       "      <th>67349</th>\n",
       "      <td>67349.0</td>\n",
       "      <td>49.0</td>\n",
       "      <td>0.106288</td>\n",
       "      <td>0.170729</td>\n",
       "      <td>0.277016</td>\n",
       "      <td>5.575987</td>\n",
       "      <td>113.576813</td>\n",
       "      <td>108.000824</td>\n",
       "      <td>-0.425292</td>\n",
       "      <td>107.321632</td>\n",
       "      <td>-0.888086</td>\n",
       "      <td>3.468798</td>\n",
       "      <td>-5.436711</td>\n",
       "      <td>-5.571213</td>\n",
       "      <td>0.505218</td>\n",
       "    </tr>\n",
       "    <tr>\n",
       "      <th>67350</th>\n",
       "      <td>NaN</td>\n",
       "      <td>NaN</td>\n",
       "      <td>NaN</td>\n",
       "      <td>NaN</td>\n",
       "      <td>NaN</td>\n",
       "      <td>NaN</td>\n",
       "      <td>NaN</td>\n",
       "      <td>NaN</td>\n",
       "      <td>NaN</td>\n",
       "      <td>109.919640</td>\n",
       "      <td>-0.773152</td>\n",
       "      <td>NaN</td>\n",
       "      <td>NaN</td>\n",
       "      <td>NaN</td>\n",
       "      <td>NaN</td>\n",
       "    </tr>\n",
       "  </tbody>\n",
       "</table>\n",
       "</div>"
      ],
      "text/plain": [
       "          step  epoch     Dreal     Dfake     Dfull     G_adv      G_full  \\\n",
       "67341  67341.0   49.0  0.156118  0.148114  0.304232  3.482937  111.945435   \n",
       "67342  67342.0   49.0  0.109853  0.132423  0.242277  3.965339  112.274101   \n",
       "67343  67343.0   49.0  0.138316  0.141367  0.279684  3.926706  110.151787   \n",
       "67344  67344.0   49.0  0.128451  0.142791  0.271242  2.863164  109.803337   \n",
       "67345  67345.0   49.0  0.126615  0.181449  0.308064  5.506667  111.329330   \n",
       "67346  67346.0   49.0  0.157101  0.156469  0.313570  4.870490  112.470329   \n",
       "67347  67347.0   49.0  0.132959  0.142505  0.275464  3.220198  112.018547   \n",
       "67348  67348.0   49.0  0.155534  0.177702  0.333236  5.634856  114.666641   \n",
       "67349  67349.0   49.0  0.106288  0.170729  0.277016  5.575987  113.576813   \n",
       "67350      NaN    NaN       NaN       NaN       NaN       NaN         NaN   \n",
       "\n",
       "        spec_loss  hist_loss    spec_chi  hist_chi      D(x)    D_G_z1  \\\n",
       "67341  108.462494  -0.442317  108.139931 -0.488237  3.793265 -3.367856   \n",
       "67342  108.308762  -0.261318  107.195915 -0.814009  3.696232 -3.085463   \n",
       "67343  106.225082  -0.385670  106.280052 -0.543033  3.453577 -3.307747   \n",
       "67344  106.940170  -0.453996  106.952103 -0.521182  2.970235 -3.632308   \n",
       "67345  105.822662  -0.117044  107.134361  0.063623  4.096053 -2.325142   \n",
       "67346  107.599838  -0.321778  107.913025  0.156020  3.298939 -5.057765   \n",
       "67347  108.798347  -0.321858  107.663956  0.081704  3.699559 -4.067840   \n",
       "67348  109.031784  -0.116069  106.397987  0.064157  4.152534 -2.328207   \n",
       "67349  108.000824  -0.425292  107.321632 -0.888086  3.468798 -5.436711   \n",
       "67350         NaN        NaN  109.919640 -0.773152       NaN       NaN   \n",
       "\n",
       "         D_G_z2      time  \n",
       "67341 -3.450812  0.518365  \n",
       "67342 -3.945446  0.516710  \n",
       "67343 -3.906112  0.497142  \n",
       "67344 -2.799794  0.499532  \n",
       "67345 -5.502391  0.542141  \n",
       "67346 -4.861575  0.504071  \n",
       "67347 -3.173584  0.525678  \n",
       "67348 -5.630915  0.492672  \n",
       "67349 -5.571213  0.505218  \n",
       "67350       NaN       NaN  "
      ]
     },
     "execution_count": 76,
     "metadata": {},
     "output_type": "execute_result"
    }
   ],
   "source": [
    "df_metrics.tail(10)"
   ]
  },
  {
   "cell_type": "code",
   "execution_count": 77,
   "metadata": {},
   "outputs": [
    {
     "data": {
      "application/vnd.jupyter.widget-view+json": {
       "model_id": "7216b12fc0614bf58c3c39beb1be2e35",
       "version_major": 2,
       "version_minor": 0
      },
      "text/plain": [
       "interactive(children=(SelectMultiple(description='col_list', options=('step', 'epoch', 'Dreal', 'Dfake', 'Dful…"
      ]
     },
     "metadata": {},
     "output_type": "display_data"
    },
    {
     "data": {
      "text/plain": [
       "<function __main__.f_plot_metrics(df, col_list)>"
      ]
     },
     "execution_count": 77,
     "metadata": {},
     "output_type": "execute_result"
    }
   ],
   "source": [
    "def f_plot_metrics(df,col_list):\n",
    "    \n",
    "    plt.figure()\n",
    "    for key in col_list:\n",
    "        plt.plot(df_metrics[key],label=key,marker='*',linestyle='')\n",
    "    plt.legend()\n",
    "    \n",
    "#     col_list=list(col_list)\n",
    "#     df.plot(kind='line',x='step',y=col_list)\n",
    "    \n",
    "# f_plot_metrics(df_metrics,['spec_chi','hist_chi'])\n",
    "\n",
    "interact_manual(f_plot_metrics,df=fixed(df_metrics), col_list=SelectMultiple(options=df_metrics.columns.values))"
   ]
  },
  {
   "cell_type": "code",
   "execution_count": 78,
   "metadata": {},
   "outputs": [
    {
     "name": "stdout",
     "output_type": "stream",
     "text": [
      "-1.3490444421768188\n"
     ]
    },
    {
     "data": {
      "text/html": [
       "<div>\n",
       "<style scoped>\n",
       "    .dataframe tbody tr th:only-of-type {\n",
       "        vertical-align: middle;\n",
       "    }\n",
       "\n",
       "    .dataframe tbody tr th {\n",
       "        vertical-align: top;\n",
       "    }\n",
       "\n",
       "    .dataframe thead th {\n",
       "        text-align: right;\n",
       "    }\n",
       "</style>\n",
       "<table border=\"1\" class=\"dataframe\">\n",
       "  <thead>\n",
       "    <tr style=\"text-align: right;\">\n",
       "      <th></th>\n",
       "      <th>step</th>\n",
       "      <th>epoch</th>\n",
       "      <th>Dreal</th>\n",
       "      <th>Dfake</th>\n",
       "      <th>Dfull</th>\n",
       "      <th>G_adv</th>\n",
       "      <th>G_full</th>\n",
       "      <th>spec_loss</th>\n",
       "      <th>hist_loss</th>\n",
       "      <th>spec_chi</th>\n",
       "      <th>hist_chi</th>\n",
       "      <th>D(x)</th>\n",
       "      <th>D_G_z1</th>\n",
       "      <th>D_G_z2</th>\n",
       "      <th>time</th>\n",
       "    </tr>\n",
       "  </thead>\n",
       "  <tbody>\n",
       "    <tr>\n",
       "      <th>57761</th>\n",
       "      <td>57761.0</td>\n",
       "      <td>42.0</td>\n",
       "      <td>0.148994</td>\n",
       "      <td>0.137105</td>\n",
       "      <td>0.286099</td>\n",
       "      <td>3.992824</td>\n",
       "      <td>109.888618</td>\n",
       "      <td>105.895798</td>\n",
       "      <td>-1.713227</td>\n",
       "      <td>108.614792</td>\n",
       "      <td>-2.577394</td>\n",
       "      <td>3.096658</td>\n",
       "      <td>-2.991325</td>\n",
       "      <td>-3.972713</td>\n",
       "      <td>0.462246</td>\n",
       "    </tr>\n",
       "    <tr>\n",
       "      <th>51767</th>\n",
       "      <td>51767.0</td>\n",
       "      <td>38.0</td>\n",
       "      <td>0.139329</td>\n",
       "      <td>0.132224</td>\n",
       "      <td>0.271553</td>\n",
       "      <td>4.056891</td>\n",
       "      <td>112.532043</td>\n",
       "      <td>108.475151</td>\n",
       "      <td>-1.925579</td>\n",
       "      <td>109.068878</td>\n",
       "      <td>-2.559478</td>\n",
       "      <td>3.740458</td>\n",
       "      <td>-3.400756</td>\n",
       "      <td>-4.037302</td>\n",
       "      <td>0.469805</td>\n",
       "    </tr>\n",
       "    <tr>\n",
       "      <th>61628</th>\n",
       "      <td>61628.0</td>\n",
       "      <td>45.0</td>\n",
       "      <td>0.166746</td>\n",
       "      <td>0.166290</td>\n",
       "      <td>0.333036</td>\n",
       "      <td>4.223664</td>\n",
       "      <td>112.337486</td>\n",
       "      <td>108.113823</td>\n",
       "      <td>-2.153617</td>\n",
       "      <td>109.370346</td>\n",
       "      <td>-2.557570</td>\n",
       "      <td>3.433569</td>\n",
       "      <td>-2.894193</td>\n",
       "      <td>-4.207905</td>\n",
       "      <td>0.541233</td>\n",
       "    </tr>\n",
       "    <tr>\n",
       "      <th>61611</th>\n",
       "      <td>61611.0</td>\n",
       "      <td>45.0</td>\n",
       "      <td>0.142531</td>\n",
       "      <td>0.186677</td>\n",
       "      <td>0.329209</td>\n",
       "      <td>6.068652</td>\n",
       "      <td>115.103165</td>\n",
       "      <td>109.034515</td>\n",
       "      <td>-2.125532</td>\n",
       "      <td>109.564293</td>\n",
       "      <td>-2.522994</td>\n",
       "      <td>4.246599</td>\n",
       "      <td>-2.061249</td>\n",
       "      <td>-6.066096</td>\n",
       "      <td>0.549664</td>\n",
       "    </tr>\n",
       "    <tr>\n",
       "      <th>51769</th>\n",
       "      <td>51769.0</td>\n",
       "      <td>38.0</td>\n",
       "      <td>0.259960</td>\n",
       "      <td>0.132622</td>\n",
       "      <td>0.392583</td>\n",
       "      <td>3.777370</td>\n",
       "      <td>110.760124</td>\n",
       "      <td>106.982758</td>\n",
       "      <td>-1.841927</td>\n",
       "      <td>108.812904</td>\n",
       "      <td>-2.520010</td>\n",
       "      <td>3.191755</td>\n",
       "      <td>-3.325062</td>\n",
       "      <td>-3.745019</td>\n",
       "      <td>0.467042</td>\n",
       "    </tr>\n",
       "    <tr>\n",
       "      <th>41963</th>\n",
       "      <td>41963.0</td>\n",
       "      <td>31.0</td>\n",
       "      <td>0.110635</td>\n",
       "      <td>0.118655</td>\n",
       "      <td>0.229291</td>\n",
       "      <td>4.670769</td>\n",
       "      <td>113.709496</td>\n",
       "      <td>109.038727</td>\n",
       "      <td>-0.720874</td>\n",
       "      <td>109.528412</td>\n",
       "      <td>-2.518847</td>\n",
       "      <td>4.082439</td>\n",
       "      <td>-3.374731</td>\n",
       "      <td>-4.658276</td>\n",
       "      <td>0.535960</td>\n",
       "    </tr>\n",
       "    <tr>\n",
       "      <th>52354</th>\n",
       "      <td>52354.0</td>\n",
       "      <td>38.0</td>\n",
       "      <td>0.217338</td>\n",
       "      <td>0.153826</td>\n",
       "      <td>0.371164</td>\n",
       "      <td>3.185548</td>\n",
       "      <td>110.476944</td>\n",
       "      <td>107.291397</td>\n",
       "      <td>-1.575383</td>\n",
       "      <td>109.051994</td>\n",
       "      <td>-2.518464</td>\n",
       "      <td>2.943043</td>\n",
       "      <td>-3.885588</td>\n",
       "      <td>-3.139442</td>\n",
       "      <td>0.479537</td>\n",
       "    </tr>\n",
       "    <tr>\n",
       "      <th>53374</th>\n",
       "      <td>53374.0</td>\n",
       "      <td>39.0</td>\n",
       "      <td>0.162265</td>\n",
       "      <td>0.154714</td>\n",
       "      <td>0.316978</td>\n",
       "      <td>3.847303</td>\n",
       "      <td>112.276215</td>\n",
       "      <td>108.428909</td>\n",
       "      <td>-1.077739</td>\n",
       "      <td>109.332817</td>\n",
       "      <td>-2.512703</td>\n",
       "      <td>3.287806</td>\n",
       "      <td>-3.534106</td>\n",
       "      <td>-3.823246</td>\n",
       "      <td>0.475777</td>\n",
       "    </tr>\n",
       "    <tr>\n",
       "      <th>51896</th>\n",
       "      <td>51896.0</td>\n",
       "      <td>38.0</td>\n",
       "      <td>0.152291</td>\n",
       "      <td>0.133256</td>\n",
       "      <td>0.285547</td>\n",
       "      <td>3.967165</td>\n",
       "      <td>111.075348</td>\n",
       "      <td>107.108185</td>\n",
       "      <td>-1.994942</td>\n",
       "      <td>108.432281</td>\n",
       "      <td>-2.510559</td>\n",
       "      <td>3.542818</td>\n",
       "      <td>-3.589303</td>\n",
       "      <td>-3.946110</td>\n",
       "      <td>0.482049</td>\n",
       "    </tr>\n",
       "    <tr>\n",
       "      <th>61627</th>\n",
       "      <td>61627.0</td>\n",
       "      <td>45.0</td>\n",
       "      <td>0.134835</td>\n",
       "      <td>0.138505</td>\n",
       "      <td>0.273340</td>\n",
       "      <td>3.853326</td>\n",
       "      <td>113.611565</td>\n",
       "      <td>109.758240</td>\n",
       "      <td>-2.099251</td>\n",
       "      <td>109.541901</td>\n",
       "      <td>-2.505042</td>\n",
       "      <td>3.507229</td>\n",
       "      <td>-3.388855</td>\n",
       "      <td>-3.829710</td>\n",
       "      <td>0.513114</td>\n",
       "    </tr>\n",
       "  </tbody>\n",
       "</table>\n",
       "</div>"
      ],
      "text/plain": [
       "          step  epoch     Dreal     Dfake     Dfull     G_adv      G_full  \\\n",
       "57761  57761.0   42.0  0.148994  0.137105  0.286099  3.992824  109.888618   \n",
       "51767  51767.0   38.0  0.139329  0.132224  0.271553  4.056891  112.532043   \n",
       "61628  61628.0   45.0  0.166746  0.166290  0.333036  4.223664  112.337486   \n",
       "61611  61611.0   45.0  0.142531  0.186677  0.329209  6.068652  115.103165   \n",
       "51769  51769.0   38.0  0.259960  0.132622  0.392583  3.777370  110.760124   \n",
       "41963  41963.0   31.0  0.110635  0.118655  0.229291  4.670769  113.709496   \n",
       "52354  52354.0   38.0  0.217338  0.153826  0.371164  3.185548  110.476944   \n",
       "53374  53374.0   39.0  0.162265  0.154714  0.316978  3.847303  112.276215   \n",
       "51896  51896.0   38.0  0.152291  0.133256  0.285547  3.967165  111.075348   \n",
       "61627  61627.0   45.0  0.134835  0.138505  0.273340  3.853326  113.611565   \n",
       "\n",
       "        spec_loss  hist_loss    spec_chi  hist_chi      D(x)    D_G_z1  \\\n",
       "57761  105.895798  -1.713227  108.614792 -2.577394  3.096658 -2.991325   \n",
       "51767  108.475151  -1.925579  109.068878 -2.559478  3.740458 -3.400756   \n",
       "61628  108.113823  -2.153617  109.370346 -2.557570  3.433569 -2.894193   \n",
       "61611  109.034515  -2.125532  109.564293 -2.522994  4.246599 -2.061249   \n",
       "51769  106.982758  -1.841927  108.812904 -2.520010  3.191755 -3.325062   \n",
       "41963  109.038727  -0.720874  109.528412 -2.518847  4.082439 -3.374731   \n",
       "52354  107.291397  -1.575383  109.051994 -2.518464  2.943043 -3.885588   \n",
       "53374  108.428909  -1.077739  109.332817 -2.512703  3.287806 -3.534106   \n",
       "51896  107.108185  -1.994942  108.432281 -2.510559  3.542818 -3.589303   \n",
       "61627  109.758240  -2.099251  109.541901 -2.505042  3.507229 -3.388855   \n",
       "\n",
       "         D_G_z2      time  \n",
       "57761 -3.972713  0.462246  \n",
       "51767 -4.037302  0.469805  \n",
       "61628 -4.207905  0.541233  \n",
       "61611 -6.066096  0.549664  \n",
       "51769 -3.745019  0.467042  \n",
       "41963 -4.658276  0.535960  \n",
       "52354 -3.139442  0.479537  \n",
       "53374 -3.823246  0.475777  \n",
       "51896 -3.946110  0.482049  \n",
       "61627 -3.829710  0.513114  "
      ]
     },
     "execution_count": 78,
     "metadata": {},
     "output_type": "execute_result"
    }
   ],
   "source": [
    "\n",
    "chi=df_metrics.quantile(q=0.2,axis=0)['hist_chi']\n",
    "print(chi)\n",
    "df_metrics[(df_metrics['hist_chi']<=chi)&(df_metrics.epoch>1)].sort_values(by=['hist_chi']).head(10)"
   ]
  },
  {
   "cell_type": "code",
   "execution_count": 79,
   "metadata": {},
   "outputs": [],
   "source": [
    "# display(df_metrics.sort_values(by=['hist_chi']).head(8))\n",
    "# display(df_metrics.sort_values(by=['spec_chi']).head(8))"
   ]
  },
  {
   "cell_type": "markdown",
   "metadata": {},
   "source": [
    "<!-- ### Read validation data -->"
   ]
  },
  {
   "cell_type": "markdown",
   "metadata": {},
   "source": [
    "## Read stored chi-squares for images"
   ]
  },
  {
   "cell_type": "code",
   "execution_count": 82,
   "metadata": {},
   "outputs": [],
   "source": [
    "## Get sigma list from saved files\n",
    "flist=glob.glob(result_dir+'/df_processed*')\n",
    "sigma_lst=[i.split('/')[-1].split('df_processed_')[-1].split('.pkle')[0] for i in flist]\n",
    "sigma_lst.sort() ### Sorting is important for labels to match !!\n",
    "\n",
    "labels_lst=np.arange(len(sigma_lst))"
   ]
  },
  {
   "cell_type": "code",
   "execution_count": 83,
   "metadata": {},
   "outputs": [
    {
     "data": {
      "text/plain": [
       "(['0.5', '0.8', '1.1'], array([0, 1, 2]))"
      ]
     },
     "execution_count": 83,
     "metadata": {},
     "output_type": "execute_result"
    }
   ],
   "source": [
    "sigma_lst,labels_lst"
   ]
  },
  {
   "cell_type": "code",
   "execution_count": 84,
   "metadata": {},
   "outputs": [],
   "source": [
    "### Create a merged dataframe\n",
    "\n",
    "df_list=[]\n",
    "for label in labels_lst:\n",
    "    df=pd.read_pickle(result_dir+'/df_processed_{0}.pkle'.format(str(sigma_lst[label])))\n",
    "    df[['epoch','step']]=df[['epoch','step']].astype(int)\n",
    "    df['label']=df.epoch.astype(str)+'-'+df.step.astype(str) # Add label column for plotting\n",
    "    df_list.append(df)\n",
    "\n",
    "for i,df in enumerate(df_list):\n",
    "    df1=df.add_suffix('_'+str(i))\n",
    "    # renaming the columns to be joined on\n",
    "    keys=['epoch','step','img_type','label']\n",
    "    rename_cols_dict={key+'_'+str(i):key for key in keys}\n",
    "#     print(rename_cols_dict)\n",
    "    df1.rename(columns=rename_cols_dict,inplace=True) \n",
    "    df_list[i]=df1\n",
    "    \n",
    "df_merged=reduce(lambda x, y : pd.merge(x, y, on = ['step','epoch','img_type','label']), df_list)\n",
    "\n",
    "### Get sum of all 4 classes for 3 types of chi-squares\n",
    "for chi_type in ['chi_1','chi_spec1','chi_1c']:\n",
    "    keys=[chi_type+'_'+str(label) for label in labels_lst]\n",
    "#     display(df_merged[keys].sum(axis=1))\n",
    "    df_merged['sum_'+chi_type]=df_merged[keys].sum(axis=1)\n",
    "del df_list\n",
    "\n"
   ]
  },
  {
   "cell_type": "code",
   "execution_count": 94,
   "metadata": {},
   "outputs": [],
   "source": [
    "\n",
    "def f_plot_hist_spec(df,param_labels,sigma_lst,steps_list,bkg_dict,plot_type):\n",
    "\n",
    "    img_size=64\n",
    "    assert plot_type in ['hist','spec','grid','spec_relative'],\"Invalid mode %s\"%(plot_type)\n",
    "\n",
    "    if plot_type in ['hist','spec','spec_relative']:     fig=plt.figure(figsize=(6,6))\n",
    "    for par_label in param_labels:\n",
    "        df=df[df.step.isin(steps_list)]\n",
    "#         print(df.shape)\n",
    "        idx=sigma_lst.index(par_label)\n",
    "        suffix='_%s'%(idx)\n",
    "        dict_bkg=bkg_dict[str(par_label)]\n",
    "        \n",
    "        for (i,row),marker in zip(df.iterrows(),itertools.cycle('>^*sDHPdpx_')):\n",
    "            label=row.label+'_'+str(par_label)\n",
    "            if plot_type=='hist':\n",
    "                x1=row['hist_bin_centers'+suffix]\n",
    "                y1=row['hist_val'+suffix]\n",
    "                yerr1=row['hist_err'+suffix]\n",
    "                x1=f_invtransform(x1)\n",
    "                \n",
    "                plt.errorbar(x1,y1,yerr1,marker=marker,markersize=5,linestyle='',label=label)\n",
    "            if plot_type=='spec':\n",
    "                y2=row['spec_val'+suffix]\n",
    "                yerr2=row['spec_sdev'+suffix]/np.sqrt(row['num_imgs'+suffix])\n",
    "                x2=np.arange(len(y2))\n",
    "\n",
    "                plt.fill_between(x2, y2 - yerr2, y2 + yerr2, alpha=0.4)\n",
    "                plt.plot(x2, y2, marker=marker, linestyle=':',label=label)\n",
    "\n",
    "            if plot_type=='spec_relative':\n",
    "\n",
    "                y2=row['spec_val'+suffix]\n",
    "                yerr2=row['spec_sdev'+suffix]\n",
    "                x2=np.arange(len(y2))\n",
    "\n",
    "                ### Reference spectrum\n",
    "                y1,yerr1=dict_bkg['spec_val'],dict_bkg['spec_sdev']\n",
    "                y=y2/y1\n",
    "                ## Variance is sum of variance of both variables, since they are uncorrelated\n",
    "\n",
    "                # delta_r= |r| * sqrt(delta_a/a)^2 +(\\delta_b/b)^2) / \\sqrt(N)\n",
    "                yerr=(np.abs(y))*np.sqrt((yerr1/y1)**2+(yerr2/y2)**2)/np.sqrt(row['num_imgs'+suffix])\n",
    "                \n",
    "                plt.fill_between(x2, y - yerr, y + yerr, alpha=0.4)\n",
    "                plt.plot(x2, y, marker=marker, linestyle=':',label=label)\n",
    "\n",
    "            if plot_type=='grid':\n",
    "                images=np.load(row.fname)[:,:,:,0]\n",
    "                print(images.shape)\n",
    "                f_plot_grid(images[:18],cols=6,fig_size=(10,5))\n",
    "            \n",
    "        ### Plot reference data\n",
    "        if plot_type=='hist':\n",
    "            x,y,yerr=dict_bkg['hist_bin_centers'],dict_bkg['hist_val'],dict_bkg['hist_err']\n",
    "            x=f_invtransform(x)\n",
    "            plt.errorbar(x, y,yerr,color='k',linestyle='-',label='bkgnd')   \n",
    "            plt.title('Pixel Intensity Histogram')\n",
    "            plt.xscale('symlog',linthreshx=50)\n",
    "        \n",
    "        if plot_type=='spec':\n",
    "            y,yerr=dict_bkg['spec_val'],dict_bkg['spec_sdev']/np.sqrt(num_bkgnd)\n",
    "            x=np.arange(len(y))\n",
    "            plt.fill_between(x, y - yerr, y + yerr, color='k',alpha=0.8)\n",
    "            plt.title('Spectrum')\n",
    "            plt.xlim(0,img_size/2)\n",
    "\n",
    "        if plot_type=='spec_relative':\n",
    "            plt.axhline(y=1.0,color='k',linestyle='-.')\n",
    "            plt.title(\"Relative spectrum\")\n",
    "            plt.xlim(0,img_size/2)\n",
    "            plt.ylim(0.5,2)\n",
    "\n",
    "    if plot_type in ['hist','spec']:     \n",
    "        plt.yscale('log')\n",
    "    plt.legend(bbox_to_anchor=(0.3, 0.75),ncol=2, fancybox=True, shadow=True,prop={'size':6})\n",
    "\n",
    "\n",
    "# f_plot_hist_spec(df_merged,[sigma_lst[-1]],sigma_lst,[best_step[0]],bkgnd_dict,'hist')"
   ]
  },
  {
   "cell_type": "markdown",
   "metadata": {},
   "source": [
    "### Slice best steps"
   ]
  },
  {
   "cell_type": "code",
   "execution_count": 95,
   "metadata": {},
   "outputs": [],
   "source": [
    "def f_slice_merged_df(df,cutoff=0.2,sort_col='chi_1',col_mode='all',label='all',params_lst=[0,1,2],head=10,epoch_range=[0,None],use_sum=True,display_flag=False):\n",
    "    ''' View dataframe after slicing\n",
    "    '''\n",
    "\n",
    "    if epoch_range[1]==None: epoch_range[1]=df.max()['epoch']\n",
    "    df=df[(df.epoch<=epoch_range[1])&(df.epoch>=epoch_range[0])]\n",
    "\n",
    "    ######### Apply cutoff to keep reasonable chi1 and chispec1\n",
    "    #### Add chi-square columns to use\n",
    "    chi_cols=[]\n",
    "    if use_sum: ## Add sum chi-square columns\n",
    "        for j in ['chi_1','chi_spec1','chi_1c']: chi_cols.append('sum_'+j)\n",
    "        \n",
    "    if label=='all': ### Add chi-squares for all labels\n",
    "        for j in ['chi_1','chi_spec1','chi_1c']:\n",
    "            for idx,i in enumerate(params_lst): chi_cols.append(j+'_'+str(idx))\n",
    "    else: ## Add chi-square for specific label\n",
    "        assert label in params_lst, \"label %s is not in %s\"%(label,params_lst)\n",
    "        label_idx=params_lst.index(label)\n",
    "        print(label_idx)\n",
    "        for j in ['chi_1','chi_spec1','chi_1c']: chi_cols.append(j+'_'+str(label_idx))\n",
    "#     print(chi_cols)\n",
    "    q_dict=dict(df_merged.quantile(q=cutoff,axis=0)[chi_cols])\n",
    "    # print(q_dict)\n",
    "    strg=['%s < %s'%(key,q_dict[key]) for key in chi_cols ]\n",
    "    query=\" & \".join(strg)\n",
    "    # print(query)\n",
    "    df=df.query(query)\n",
    "    \n",
    "    # Sort dataframe\n",
    "    df1=df[df.epoch>0].sort_values(by=sort_col)\n",
    "    chis=[i for i in df_merged.columns if 'chi' in i]\n",
    "    col_list=['label']+chis+['epoch','step']\n",
    "    if (col_mode=='short'): \n",
    "        col_list=['label']+[i for i in df_merged.columns if i.startswith('sum')]\n",
    "        col_list=['label']+chi_cols\n",
    "    df2=df1.head(head)[col_list]\n",
    "    \n",
    "    if display_flag: display(df2) # Display df\n",
    "    \n",
    "    return df2\n",
    "\n",
    "# f_slice_merged_df(df_merged,cutoff=0.3,sort_col='sum_chi_1',label=0.65,params_lst=[0.5,0.65,0.8,1.1],use_sum=True,head=2000,display_flag=False,epoch_range=[7,None])"
   ]
  },
  {
   "cell_type": "code",
   "execution_count": 96,
   "metadata": {},
   "outputs": [
    {
     "data": {
      "application/vnd.jupyter.widget-view+json": {
       "model_id": "10e98c9a72ec44eb8340a152f352256d",
       "version_major": 2,
       "version_minor": 0
      },
      "text/plain": [
       "interactive(children=(FloatSlider(value=0.3, description='cutoff', max=1.0, step=0.01), Dropdown(description='…"
      ]
     },
     "metadata": {},
     "output_type": "display_data"
    }
   ],
   "source": [
    "cols_to_sort=np.unique([i for i in df_merged.columns for j in ['chi_1_','chi_spec1_'] if ((i.startswith(j)) or (i.startswith('sum')))])\n",
    "\n",
    "w=interactive(f_slice_merged_df,df=fixed(df_merged),\n",
    "cutoff=widgets.FloatSlider(value=0.3, min=0, max=1.0, step=0.01), \n",
    "col_mode=['all','short'], display_flag=widgets.Checkbox(value=False),\n",
    "use_sum=widgets.Checkbox(value=True),\n",
    "label=ToggleButtons(options=['all']+sigma_lst), params_lst=fixed(sigma_lst),\n",
    "head=widgets.IntSlider(value=10,min=1,max=20,step=1),\n",
    "epoch_range=widgets.IntRangeSlider(value=[0,np.max(df.epoch.values)],min=0,max=np.max(df.epoch.values),step=1),\n",
    "sort_col=cols_to_sort\n",
    ")\n",
    "display(w)"
   ]
  },
  {
   "cell_type": "code",
   "execution_count": 97,
   "metadata": {},
   "outputs": [],
   "source": [
    "df_sliced=w.result\n",
    "# df_sliced"
   ]
  },
  {
   "cell_type": "code",
   "execution_count": 108,
   "metadata": {},
   "outputs": [
    {
     "name": "stdout",
     "output_type": "stream",
     "text": [
      "[27600 30950 42620 43830 50440 58320 58330 59500 64670 65600]\n"
     ]
    },
    {
     "data": {
      "text/plain": [
       "array([27600, 30950, 42620, 43830, 50440, 58320, 58330, 59500, 64670,\n",
       "       65600])"
      ]
     },
     "execution_count": 108,
     "metadata": {},
     "output_type": "execute_result"
    }
   ],
   "source": [
    "best_step=[]\n",
    "\n",
    "best_step.append(f_slice_merged_df(df_merged,cutoff=0.9,sort_col='sum_chi_1',label='all',use_sum=True,head=4,display_flag=False,epoch_range=[7,None],params_lst=sigma_lst).step.values)\n",
    "best_step.append(f_slice_merged_df(df_merged,cutoff=0.9,sort_col='sum_chi_spec1',label='all',use_sum=True,head=4,display_flag=False,epoch_range=[7,None],params_lst=sigma_lst).step.values)\n",
    "best_step.append(f_slice_merged_df(df_merged,cutoff=0.9,sort_col='sum_chi_1c',label='all',use_sum=True,head=2,display_flag=False,epoch_range=[7,None],params_lst=sigma_lst).step.values)\n",
    "\n",
    "# best_step.append([46669,34281])\n",
    "best_step=np.unique([i for j in best_step for i in j])\n",
    "print(best_step)\n",
    "best_step"
   ]
  },
  {
   "cell_type": "code",
   "execution_count": 109,
   "metadata": {},
   "outputs": [],
   "source": [
    "# best_step=[6176]\n",
    "# best_step= [32300, 35810, 36020, 37030, 38640, 42480, 43850]\n",
    "\n",
    "# best_step=np.arange(40130,40135).astype(int)"
   ]
  },
  {
   "cell_type": "code",
   "execution_count": null,
   "metadata": {},
   "outputs": [],
   "source": []
  },
  {
   "cell_type": "code",
   "execution_count": 110,
   "metadata": {},
   "outputs": [
    {
     "name": "stdout",
     "output_type": "stream",
     "text": [
      "(10, 61)\n",
      "[(20, 27600), (22, 30950), (31, 42620), (32, 43830), (37, 50440), (43, 58320), (43, 58330), (44, 59500), (48, 64670), (48, 65600)]\n"
     ]
    }
   ],
   "source": [
    "df_best=df_merged[df_merged.step.isin(best_step)]\n",
    "print(df_best.shape)\n",
    "print([(df_best[df_best.step==step].epoch.values[0],df_best[df_best.step==step].step.values[0]) for step in best_step])\n",
    "# print([(df_best.loc[idx].epoch,df_best.loc[idx].step) for idx in best_idx])"
   ]
  },
  {
   "cell_type": "code",
   "execution_count": 111,
   "metadata": {},
   "outputs": [
    {
     "data": {
      "text/html": [
       "<div>\n",
       "<style scoped>\n",
       "    .dataframe tbody tr th:only-of-type {\n",
       "        vertical-align: middle;\n",
       "    }\n",
       "\n",
       "    .dataframe tbody tr th {\n",
       "        vertical-align: top;\n",
       "    }\n",
       "\n",
       "    .dataframe thead th {\n",
       "        text-align: right;\n",
       "    }\n",
       "</style>\n",
       "<table border=\"1\" class=\"dataframe\">\n",
       "  <thead>\n",
       "    <tr style=\"text-align: right;\">\n",
       "      <th></th>\n",
       "      <th>label</th>\n",
       "      <th>sum_chi_1</th>\n",
       "      <th>sum_chi_spec1</th>\n",
       "      <th>sum_chi_1c</th>\n",
       "    </tr>\n",
       "  </thead>\n",
       "  <tbody>\n",
       "    <tr>\n",
       "      <th>2759</th>\n",
       "      <td>20-27600</td>\n",
       "      <td>0.254456</td>\n",
       "      <td>22.434903</td>\n",
       "      <td>0.002421</td>\n",
       "    </tr>\n",
       "    <tr>\n",
       "      <th>3094</th>\n",
       "      <td>22-30950</td>\n",
       "      <td>0.088541</td>\n",
       "      <td>20.076100</td>\n",
       "      <td>0.046300</td>\n",
       "    </tr>\n",
       "    <tr>\n",
       "      <th>4262</th>\n",
       "      <td>31-42620</td>\n",
       "      <td>0.050784</td>\n",
       "      <td>19.675746</td>\n",
       "      <td>0.005717</td>\n",
       "    </tr>\n",
       "    <tr>\n",
       "      <th>4383</th>\n",
       "      <td>32-43830</td>\n",
       "      <td>0.081891</td>\n",
       "      <td>18.407630</td>\n",
       "      <td>0.005420</td>\n",
       "    </tr>\n",
       "    <tr>\n",
       "      <th>5044</th>\n",
       "      <td>37-50440</td>\n",
       "      <td>0.058981</td>\n",
       "      <td>21.908821</td>\n",
       "      <td>0.008988</td>\n",
       "    </tr>\n",
       "    <tr>\n",
       "      <th>5833</th>\n",
       "      <td>43-58320</td>\n",
       "      <td>0.206540</td>\n",
       "      <td>12.504562</td>\n",
       "      <td>0.020564</td>\n",
       "    </tr>\n",
       "    <tr>\n",
       "      <th>5834</th>\n",
       "      <td>43-58330</td>\n",
       "      <td>0.298110</td>\n",
       "      <td>13.698965</td>\n",
       "      <td>0.007691</td>\n",
       "    </tr>\n",
       "    <tr>\n",
       "      <th>5951</th>\n",
       "      <td>44-59500</td>\n",
       "      <td>0.604574</td>\n",
       "      <td>13.098999</td>\n",
       "      <td>0.015755</td>\n",
       "    </tr>\n",
       "    <tr>\n",
       "      <th>6468</th>\n",
       "      <td>48-64670</td>\n",
       "      <td>0.486883</td>\n",
       "      <td>16.524098</td>\n",
       "      <td>0.002573</td>\n",
       "    </tr>\n",
       "    <tr>\n",
       "      <th>6561</th>\n",
       "      <td>48-65600</td>\n",
       "      <td>0.681249</td>\n",
       "      <td>13.732368</td>\n",
       "      <td>0.302913</td>\n",
       "    </tr>\n",
       "  </tbody>\n",
       "</table>\n",
       "</div>"
      ],
      "text/plain": [
       "         label  sum_chi_1  sum_chi_spec1  sum_chi_1c\n",
       "2759  20-27600   0.254456      22.434903    0.002421\n",
       "3094  22-30950   0.088541      20.076100    0.046300\n",
       "4262  31-42620   0.050784      19.675746    0.005717\n",
       "4383  32-43830   0.081891      18.407630    0.005420\n",
       "5044  37-50440   0.058981      21.908821    0.008988\n",
       "5833  43-58320   0.206540      12.504562    0.020564\n",
       "5834  43-58330   0.298110      13.698965    0.007691\n",
       "5951  44-59500   0.604574      13.098999    0.015755\n",
       "6468  48-64670   0.486883      16.524098    0.002573\n",
       "6561  48-65600   0.681249      13.732368    0.302913"
      ]
     },
     "execution_count": 111,
     "metadata": {},
     "output_type": "execute_result"
    }
   ],
   "source": [
    "col_list=['label']+[i for i in df_merged.columns if i.startswith('sum')]\n",
    "\n",
    "df_best[col_list]"
   ]
  },
  {
   "cell_type": "markdown",
   "metadata": {},
   "source": [
    "### Interactive plot"
   ]
  },
  {
   "cell_type": "code",
   "execution_count": 112,
   "metadata": {},
   "outputs": [
    {
     "data": {
      "application/vnd.jupyter.widget-view+json": {
       "model_id": "a98632714bcb4ff0bc5af6478c0e1b4f",
       "version_major": 2,
       "version_minor": 0
      },
      "text/plain": [
       "interactive(children=(SelectMultiple(description='param_labels', options=('0.5', '0.8', '1.1'), value=()), Sel…"
      ]
     },
     "metadata": {},
     "output_type": "display_data"
    },
    {
     "data": {
      "text/plain": [
       "<function __main__.f_plot_hist_spec(df, param_labels, sigma_lst, steps_list, bkg_dict, plot_type)>"
      ]
     },
     "execution_count": 112,
     "metadata": {},
     "output_type": "execute_result"
    }
   ],
   "source": [
    "interact_manual(f_plot_hist_spec,df=fixed(df_merged),\n",
    "                param_labels=SelectMultiple(options=sigma_lst),sigma_lst=fixed(sigma_lst),\n",
    "                steps_list=SelectMultiple(options=best_step),\n",
    "                bkg_dict=fixed(bkgnd_dict),plot_type=ToggleButtons(options=['hist','spec','grid','spec_relative']))"
   ]
  },
  {
   "cell_type": "code",
   "execution_count": null,
   "metadata": {},
   "outputs": [],
   "source": [
    "# ### Check deterministic\n",
    "# main_dir='/global/cfs/cdirs/m3363/vayyar/cosmogan_data/results_from_other_code/pytorch/results/128sq/'\n",
    "# epoch,step=0,230\n",
    "# f1='20210113_185116_cgan_predict_0.65_m2/images/gen_img_label-0.5_epoch-{0}_step-{1}.npy'.format(epoch,step)\n",
    "# f2='20210113_092234_cgan_predict_0.65_m2/images/gen_img_label-0.5_epoch-{0}_step-{1}.npy'.format(epoch,step)\n",
    "\n",
    "# epoch,step=3,20\n",
    "# f1='20210114_191648_nb_test/images/gen_img_label-0.5_epoch-{0}_step-{1}.npy'.format(epoch,step)\n",
    "# f2='20210114_193009_nb_test/images/gen_img_label-0.5_epoch-{0}_step-{1}.npy'.format(epoch,step)\n",
    "\n",
    "# a1=np.load(main_dir+f1)\n",
    "# a2=np.load(main_dir+f2)\n",
    "# # print(a1.shape,a2.shape)\n",
    "\n",
    "# print(np.mean(a1),np.mean(a2))\n",
    "# print(np.max(a1),np.max(a2))"
   ]
  },
  {
   "cell_type": "markdown",
   "metadata": {},
   "source": [
    "### Delete unwanted stored models\n",
    "(Since deterministic runs aren't working well )"
   ]
  },
  {
   "cell_type": "code",
   "execution_count": 113,
   "metadata": {},
   "outputs": [
    {
     "name": "stdout",
     "output_type": "stream",
     "text": [
      "/global/cfs/cdirs/m3363/vayyar/cosmogan_data/results_from_other_code/pytorch/results/3d_cGAN/20210227_050213_3dcgan_predict_0.65_m2\n"
     ]
    },
    {
     "data": {
      "text/plain": [
       "3742"
      ]
     },
     "execution_count": 113,
     "metadata": {},
     "output_type": "execute_result"
    }
   ],
   "source": [
    "# fldr='/global/cfs/cdirs/m3363/vayyar/cosmogan_data/results_from_other_code/pytorch/results/128sq/20210119_134802_cgan_predict_0.65_m2/models'\n",
    "fldr=result_dir\n",
    "print(fldr)\n",
    "flist=glob.glob(fldr+'/models/checkpoint_*.tar')\n",
    "len(flist)"
   ]
  },
  {
   "cell_type": "code",
   "execution_count": null,
   "metadata": {},
   "outputs": [],
   "source": []
  },
  {
   "cell_type": "code",
   "execution_count": 117,
   "metadata": {},
   "outputs": [
    {
     "name": "stdout",
     "output_type": "stream",
     "text": [
      "42620\n",
      "30950\n",
      "50440\n",
      "65600\n",
      "43830\n",
      "58330\n",
      "58320\n"
     ]
    }
   ],
   "source": [
    "# Delete unwanted stored images\n",
    "for i in flist:\n",
    "    try:\n",
    "        step=int(i.split('/')[-1].split('_')[-1].split('.')[0])\n",
    "        if step not in best_step:\n",
    "#             print(\"Found\")\n",
    "#             print(step)\n",
    "            os.remove(i)\n",
    "            pass\n",
    "        else: \n",
    "            print(step)\n",
    "#             print(i)\n",
    "    except Exception as e:\n",
    "#         print(e)\n",
    "#         print(i)\n",
    "        pass"
   ]
  },
  {
   "cell_type": "code",
   "execution_count": 118,
   "metadata": {},
   "outputs": [
    {
     "data": {
      "text/plain": [
       "array([27600, 30950, 42620, 43830, 50440, 58320, 58330, 59500, 64670,\n",
       "       65600])"
      ]
     },
     "execution_count": 118,
     "metadata": {},
     "output_type": "execute_result"
    }
   ],
   "source": [
    "best_step"
   ]
  },
  {
   "cell_type": "code",
   "execution_count": 119,
   "metadata": {},
   "outputs": [
    {
     "data": {
      "text/plain": [
       "(14376, 1, 64, 64, 64)"
      ]
     },
     "execution_count": 119,
     "metadata": {},
     "output_type": "execute_result"
    }
   ],
   "source": [
    "np.load('/global/cfs/cdirs/m3363/vayyar/cosmogan_data/raw_data/3d_data/dataset2a_3dcgan_4univs_64cube_simple_splicing/norm_1_sig_0.5_train_val.npy',mmap_mode='r').shape"
   ]
  },
  {
   "cell_type": "code",
   "execution_count": null,
   "metadata": {},
   "outputs": [],
   "source": []
  }
 ],
 "metadata": {
  "kernelspec": {
   "display_name": "v3",
   "language": "python",
   "name": "v-jpt-3"
  },
  "language_info": {
   "codemirror_mode": {
    "name": "ipython",
    "version": 3
   },
   "file_extension": ".py",
   "mimetype": "text/x-python",
   "name": "python",
   "nbconvert_exporter": "python",
   "pygments_lexer": "ipython3",
   "version": "3.8.6"
  }
 },
 "nbformat": 4,
 "nbformat_minor": 4
}

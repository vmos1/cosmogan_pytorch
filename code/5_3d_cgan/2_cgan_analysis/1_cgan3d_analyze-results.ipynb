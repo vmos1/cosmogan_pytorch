{
 "cells": [
  {
   "cell_type": "markdown",
   "metadata": {},
   "source": [
    "# Analyze results for 3D CGAN\n",
    "Feb 22, 2021"
   ]
  },
  {
   "cell_type": "code",
   "execution_count": 48,
   "metadata": {},
   "outputs": [],
   "source": [
    "import numpy as np\n",
    "import matplotlib.pyplot as plt\n",
    "import pandas as pd\n",
    "\n",
    "import subprocess as sp\n",
    "import sys\n",
    "import os\n",
    "import glob\n",
    "import pickle \n",
    "\n",
    "from matplotlib.colors import LogNorm, PowerNorm, Normalize\n",
    "import seaborn as sns\n",
    "from functools import reduce"
   ]
  },
  {
   "cell_type": "code",
   "execution_count": 49,
   "metadata": {},
   "outputs": [],
   "source": [
    "from ipywidgets import *"
   ]
  },
  {
   "cell_type": "code",
   "execution_count": 50,
   "metadata": {},
   "outputs": [],
   "source": [
    "%matplotlib widget"
   ]
  },
  {
   "cell_type": "code",
   "execution_count": 51,
   "metadata": {},
   "outputs": [],
   "source": [
    "sys.path.append('/global/u1/v/vpa/project/jpt_notebooks/Cosmology/Cosmo_GAN/repositories/cosmogan_pytorch/code/modules_image_analysis/')\n",
    "from modules_img_analysis import *"
   ]
  },
  {
   "cell_type": "code",
   "execution_count": 52,
   "metadata": {},
   "outputs": [],
   "source": [
    "sys.path.append('/global/u1/v/vpa/project/jpt_notebooks/Cosmology/Cosmo_GAN/repositories/cosmogan_pytorch/code/5_3d_cgan/1_main_code/')\n",
    "import post_analysis_pandas as post\n"
   ]
  },
  {
   "cell_type": "code",
   "execution_count": 53,
   "metadata": {},
   "outputs": [],
   "source": [
    "### Transformation functions for image pixel values\n",
    "def f_transform(x):\n",
    "    return 2.*x/(x + 4.) - 1.\n",
    "\n",
    "def f_invtransform(s):\n",
    "    return 4.*(1. + s)/(1. - s)\n"
   ]
  },
  {
   "cell_type": "markdown",
   "metadata": {},
   "source": [
    "### Read validation data"
   ]
  },
  {
   "cell_type": "code",
   "execution_count": 54,
   "metadata": {},
   "outputs": [
    {
     "name": "stdout",
     "output_type": "stream",
     "text": [
      "/global/cfs/cdirs/m3363/vayyar/cosmogan_data/raw_data/3d_data/dataset2a_3dcgan_4univs_64cube_simple_splicing/norm_1_sig_0.5_train_val.npy\n",
      "/global/cfs/cdirs/m3363/vayyar/cosmogan_data/raw_data/3d_data/dataset2a_3dcgan_4univs_64cube_simple_splicing/norm_1_sig_0.65_train_val.npy\n",
      "/global/cfs/cdirs/m3363/vayyar/cosmogan_data/raw_data/3d_data/dataset2a_3dcgan_4univs_64cube_simple_splicing/norm_1_sig_0.8_train_val.npy\n",
      "/global/cfs/cdirs/m3363/vayyar/cosmogan_data/raw_data/3d_data/dataset2a_3dcgan_4univs_64cube_simple_splicing/norm_1_sig_1.1_train_val.npy\n"
     ]
    }
   ],
   "source": [
    "# bins=np.concatenate([np.array([-0.5]),np.arange(0.5,20.5,1),np.arange(20.5,100.5,5),np.arange(100.5,1000.5,50),np.array([2000])]) #bin edges to use\n",
    "bins=np.concatenate([np.array([-0.5]),np.arange(0.5,100.5,5),np.arange(100.5,300.5,20),np.arange(300.5,1000.5,50),np.array([2000])]) #bin edges to use\n",
    "\n",
    "bins=f_transform(bins)   ### scale to (-1,1)\n",
    "# ### Extract validation data\n",
    "sigma_lst=[0.5,0.65,0.8,1.1]\n",
    "labels_lst=range(len(sigma_lst))\n",
    "bkgnd_dict={}\n",
    "num_bkgnd=200\n",
    "\n",
    "for label in labels_lst:\n",
    "    fname='/global/cfs/cdirs/m3363/vayyar/cosmogan_data/raw_data/3d_data/dataset2a_3dcgan_4univs_64cube_simple_splicing/norm_1_sig_{0}_train_val.npy'.format(sigma_lst[label])\n",
    "    print(fname)\n",
    "    samples=np.load(fname,mmap_mode='r')[-num_bkgnd:][:,0,:,:]\n",
    "    \n",
    "    dict_val=post.f_compute_hist_spect(samples,bins)\n",
    "    bkgnd_dict[str(sigma_lst[label])]=dict_val\n",
    "    del samples"
   ]
  },
  {
   "cell_type": "markdown",
   "metadata": {},
   "source": [
    "## Read data"
   ]
  },
  {
   "cell_type": "code",
   "execution_count": 55,
   "metadata": {},
   "outputs": [],
   "source": [
    "# main_dir='/global/cfs/cdirs/m3363/vayyar/cosmogan_data/results_from_other_code/pytorch/results/128sq/'\n",
    "# results_dir=main_dir+'20201002_064327'"
   ]
  },
  {
   "cell_type": "code",
   "execution_count": 56,
   "metadata": {},
   "outputs": [],
   "source": [
    "dict1={'64':'/global/cfs/cdirs/m3363/vayyar/cosmogan_data/results_from_other_code/pytorch/results/3d_cGAN/',\n",
    "      '512':'/global/cfs/cdirs/m3363/vayyar/cosmogan_data/results_from_other_code/pytorch/results/3d_cGAN/'}\n",
    "\n",
    "u=interactive(lambda x: dict1[x], x=Select(options=dict1.keys()))\n",
    "# display(u)\n"
   ]
  },
  {
   "cell_type": "code",
   "execution_count": 57,
   "metadata": {},
   "outputs": [
    {
     "data": {
      "application/vnd.jupyter.widget-view+json": {
       "model_id": "9e199124301141ad9a74bb8483172238",
       "version_major": 2,
       "version_minor": 0
      },
      "text/plain": [
       "interactive(children=(Dropdown(description='x', options=('20210603_212437_cgan_bs32_one_sigma', '20210615_1546…"
      ]
     },
     "metadata": {},
     "output_type": "display_data"
    }
   ],
   "source": [
    "# parent_dir=u.result\n",
    "img_size=64\n",
    "parent_dir=dict1[str(img_size)]\n",
    "dir_lst=[i.split('/')[-1] for i in glob.glob(parent_dir+'202106*')]\n",
    "n=interactive(lambda x: x, x=Dropdown(options=dir_lst))\n",
    "display(n)"
   ]
  },
  {
   "cell_type": "code",
   "execution_count": 58,
   "metadata": {},
   "outputs": [
    {
     "name": "stdout",
     "output_type": "stream",
     "text": [
      "/global/cfs/cdirs/m3363/vayyar/cosmogan_data/results_from_other_code/pytorch/results/3d_cGAN/20210615_72613_cgan_bs32_nodes8_lr0.0001\n"
     ]
    }
   ],
   "source": [
    "result=n.result\n",
    "result_dir=parent_dir+result\n",
    "print(result_dir)"
   ]
  },
  {
   "cell_type": "markdown",
   "metadata": {},
   "source": [
    "## Plot Losses"
   ]
  },
  {
   "cell_type": "code",
   "execution_count": 59,
   "metadata": {},
   "outputs": [],
   "source": [
    "df_metrics=pd.read_pickle(result_dir+'/df_metrics.pkle').astype(np.float64)\n"
   ]
  },
  {
   "cell_type": "code",
   "execution_count": 60,
   "metadata": {},
   "outputs": [
    {
     "data": {
      "text/html": [
       "<div>\n",
       "<style scoped>\n",
       "    .dataframe tbody tr th:only-of-type {\n",
       "        vertical-align: middle;\n",
       "    }\n",
       "\n",
       "    .dataframe tbody tr th {\n",
       "        vertical-align: top;\n",
       "    }\n",
       "\n",
       "    .dataframe thead th {\n",
       "        text-align: right;\n",
       "    }\n",
       "</style>\n",
       "<table border=\"1\" class=\"dataframe\">\n",
       "  <thead>\n",
       "    <tr style=\"text-align: right;\">\n",
       "      <th></th>\n",
       "      <th>step</th>\n",
       "      <th>epoch</th>\n",
       "      <th>Dreal</th>\n",
       "      <th>Dfake</th>\n",
       "      <th>Dfull</th>\n",
       "      <th>G_adv</th>\n",
       "      <th>G_full</th>\n",
       "      <th>spec_loss</th>\n",
       "      <th>hist_loss</th>\n",
       "      <th>spec_chi</th>\n",
       "      <th>hist_chi</th>\n",
       "      <th>gp_loss</th>\n",
       "      <th>fm_loss</th>\n",
       "      <th>D(x)</th>\n",
       "      <th>D_G_z1</th>\n",
       "      <th>D_G_z2</th>\n",
       "      <th>time</th>\n",
       "      <th>lr_d</th>\n",
       "      <th>lr_g</th>\n",
       "    </tr>\n",
       "  </thead>\n",
       "  <tbody>\n",
       "    <tr>\n",
       "      <th>27486</th>\n",
       "      <td>27486.0</td>\n",
       "      <td>46.0</td>\n",
       "      <td>0.194410</td>\n",
       "      <td>0.182606</td>\n",
       "      <td>0.377016</td>\n",
       "      <td>3.580573</td>\n",
       "      <td>14.262688</td>\n",
       "      <td>10.631268</td>\n",
       "      <td>-3.016407</td>\n",
       "      <td>10.893211</td>\n",
       "      <td>-3.120590</td>\n",
       "      <td>NaN</td>\n",
       "      <td>0.050847</td>\n",
       "      <td>2.609994</td>\n",
       "      <td>-3.117037</td>\n",
       "      <td>-3.528220</td>\n",
       "      <td>0.797029</td>\n",
       "      <td>0.0001</td>\n",
       "      <td>0.0001</td>\n",
       "    </tr>\n",
       "    <tr>\n",
       "      <th>27487</th>\n",
       "      <td>27487.0</td>\n",
       "      <td>46.0</td>\n",
       "      <td>0.209247</td>\n",
       "      <td>0.284529</td>\n",
       "      <td>0.493776</td>\n",
       "      <td>4.510659</td>\n",
       "      <td>15.370657</td>\n",
       "      <td>10.793213</td>\n",
       "      <td>-2.738630</td>\n",
       "      <td>10.843349</td>\n",
       "      <td>-3.134540</td>\n",
       "      <td>NaN</td>\n",
       "      <td>0.066785</td>\n",
       "      <td>2.526457</td>\n",
       "      <td>-2.094594</td>\n",
       "      <td>-4.486389</td>\n",
       "      <td>0.795881</td>\n",
       "      <td>0.0001</td>\n",
       "      <td>0.0001</td>\n",
       "    </tr>\n",
       "    <tr>\n",
       "      <th>27488</th>\n",
       "      <td>27488.0</td>\n",
       "      <td>46.0</td>\n",
       "      <td>0.378111</td>\n",
       "      <td>0.143041</td>\n",
       "      <td>0.521152</td>\n",
       "      <td>2.010068</td>\n",
       "      <td>12.566529</td>\n",
       "      <td>10.543454</td>\n",
       "      <td>-2.858341</td>\n",
       "      <td>10.917457</td>\n",
       "      <td>-2.763858</td>\n",
       "      <td>NaN</td>\n",
       "      <td>0.013007</td>\n",
       "      <td>1.628345</td>\n",
       "      <td>-3.510679</td>\n",
       "      <td>-1.719032</td>\n",
       "      <td>0.806680</td>\n",
       "      <td>0.0001</td>\n",
       "      <td>0.0001</td>\n",
       "    </tr>\n",
       "    <tr>\n",
       "      <th>27489</th>\n",
       "      <td>27489.0</td>\n",
       "      <td>46.0</td>\n",
       "      <td>0.091162</td>\n",
       "      <td>0.793402</td>\n",
       "      <td>0.884565</td>\n",
       "      <td>7.973291</td>\n",
       "      <td>18.644222</td>\n",
       "      <td>10.449753</td>\n",
       "      <td>-2.870340</td>\n",
       "      <td>10.899463</td>\n",
       "      <td>-2.962454</td>\n",
       "      <td>NaN</td>\n",
       "      <td>0.221178</td>\n",
       "      <td>3.811656</td>\n",
       "      <td>-0.304857</td>\n",
       "      <td>-7.972461</td>\n",
       "      <td>0.795642</td>\n",
       "      <td>0.0001</td>\n",
       "      <td>0.0001</td>\n",
       "    </tr>\n",
       "    <tr>\n",
       "      <th>27490</th>\n",
       "      <td>27490.0</td>\n",
       "      <td>46.0</td>\n",
       "      <td>1.213423</td>\n",
       "      <td>0.124106</td>\n",
       "      <td>1.337530</td>\n",
       "      <td>1.919021</td>\n",
       "      <td>12.980719</td>\n",
       "      <td>10.938882</td>\n",
       "      <td>-2.837388</td>\n",
       "      <td>10.870173</td>\n",
       "      <td>-2.807936</td>\n",
       "      <td>NaN</td>\n",
       "      <td>0.122816</td>\n",
       "      <td>-0.777643</td>\n",
       "      <td>-6.253441</td>\n",
       "      <td>-1.483245</td>\n",
       "      <td>0.796403</td>\n",
       "      <td>0.0001</td>\n",
       "      <td>0.0001</td>\n",
       "    </tr>\n",
       "    <tr>\n",
       "      <th>27491</th>\n",
       "      <td>27491.0</td>\n",
       "      <td>46.0</td>\n",
       "      <td>0.186339</td>\n",
       "      <td>0.739184</td>\n",
       "      <td>0.925523</td>\n",
       "      <td>7.614573</td>\n",
       "      <td>18.838276</td>\n",
       "      <td>10.819044</td>\n",
       "      <td>-2.924260</td>\n",
       "      <td>10.828911</td>\n",
       "      <td>-2.883365</td>\n",
       "      <td>NaN</td>\n",
       "      <td>0.404659</td>\n",
       "      <td>5.062234</td>\n",
       "      <td>-0.127313</td>\n",
       "      <td>-7.613245</td>\n",
       "      <td>0.801788</td>\n",
       "      <td>0.0001</td>\n",
       "      <td>0.0001</td>\n",
       "    </tr>\n",
       "    <tr>\n",
       "      <th>27492</th>\n",
       "      <td>27492.0</td>\n",
       "      <td>46.0</td>\n",
       "      <td>0.295783</td>\n",
       "      <td>0.186297</td>\n",
       "      <td>0.482080</td>\n",
       "      <td>4.377316</td>\n",
       "      <td>15.403568</td>\n",
       "      <td>10.922866</td>\n",
       "      <td>-2.653668</td>\n",
       "      <td>10.840702</td>\n",
       "      <td>-3.029319</td>\n",
       "      <td>NaN</td>\n",
       "      <td>0.103387</td>\n",
       "      <td>1.803356</td>\n",
       "      <td>-4.786760</td>\n",
       "      <td>-4.344218</td>\n",
       "      <td>0.967158</td>\n",
       "      <td>0.0001</td>\n",
       "      <td>0.0001</td>\n",
       "    </tr>\n",
       "    <tr>\n",
       "      <th>27493</th>\n",
       "      <td>27493.0</td>\n",
       "      <td>46.0</td>\n",
       "      <td>0.210103</td>\n",
       "      <td>0.319318</td>\n",
       "      <td>0.529420</td>\n",
       "      <td>2.781960</td>\n",
       "      <td>13.302665</td>\n",
       "      <td>10.503109</td>\n",
       "      <td>-2.990581</td>\n",
       "      <td>10.904605</td>\n",
       "      <td>-2.637160</td>\n",
       "      <td>NaN</td>\n",
       "      <td>0.017596</td>\n",
       "      <td>2.495938</td>\n",
       "      <td>-2.492212</td>\n",
       "      <td>-2.680229</td>\n",
       "      <td>0.796417</td>\n",
       "      <td>0.0001</td>\n",
       "      <td>0.0001</td>\n",
       "    </tr>\n",
       "    <tr>\n",
       "      <th>27494</th>\n",
       "      <td>27494.0</td>\n",
       "      <td>46.0</td>\n",
       "      <td>0.136478</td>\n",
       "      <td>0.275233</td>\n",
       "      <td>0.411710</td>\n",
       "      <td>4.291684</td>\n",
       "      <td>15.216784</td>\n",
       "      <td>10.746889</td>\n",
       "      <td>-2.285213</td>\n",
       "      <td>10.763627</td>\n",
       "      <td>-3.059857</td>\n",
       "      <td>NaN</td>\n",
       "      <td>0.178210</td>\n",
       "      <td>2.788497</td>\n",
       "      <td>-1.821008</td>\n",
       "      <td>-4.238590</td>\n",
       "      <td>0.801380</td>\n",
       "      <td>0.0001</td>\n",
       "      <td>0.0001</td>\n",
       "    </tr>\n",
       "    <tr>\n",
       "      <th>27495</th>\n",
       "      <td>NaN</td>\n",
       "      <td>NaN</td>\n",
       "      <td>NaN</td>\n",
       "      <td>NaN</td>\n",
       "      <td>NaN</td>\n",
       "      <td>NaN</td>\n",
       "      <td>NaN</td>\n",
       "      <td>NaN</td>\n",
       "      <td>NaN</td>\n",
       "      <td>10.735743</td>\n",
       "      <td>-2.345409</td>\n",
       "      <td>NaN</td>\n",
       "      <td>NaN</td>\n",
       "      <td>NaN</td>\n",
       "      <td>NaN</td>\n",
       "      <td>NaN</td>\n",
       "      <td>NaN</td>\n",
       "      <td>NaN</td>\n",
       "      <td>NaN</td>\n",
       "    </tr>\n",
       "  </tbody>\n",
       "</table>\n",
       "</div>"
      ],
      "text/plain": [
       "          step  epoch     Dreal     Dfake     Dfull     G_adv     G_full  \\\n",
       "27486  27486.0   46.0  0.194410  0.182606  0.377016  3.580573  14.262688   \n",
       "27487  27487.0   46.0  0.209247  0.284529  0.493776  4.510659  15.370657   \n",
       "27488  27488.0   46.0  0.378111  0.143041  0.521152  2.010068  12.566529   \n",
       "27489  27489.0   46.0  0.091162  0.793402  0.884565  7.973291  18.644222   \n",
       "27490  27490.0   46.0  1.213423  0.124106  1.337530  1.919021  12.980719   \n",
       "27491  27491.0   46.0  0.186339  0.739184  0.925523  7.614573  18.838276   \n",
       "27492  27492.0   46.0  0.295783  0.186297  0.482080  4.377316  15.403568   \n",
       "27493  27493.0   46.0  0.210103  0.319318  0.529420  2.781960  13.302665   \n",
       "27494  27494.0   46.0  0.136478  0.275233  0.411710  4.291684  15.216784   \n",
       "27495      NaN    NaN       NaN       NaN       NaN       NaN        NaN   \n",
       "\n",
       "       spec_loss  hist_loss   spec_chi  hist_chi  gp_loss   fm_loss      D(x)  \\\n",
       "27486  10.631268  -3.016407  10.893211 -3.120590      NaN  0.050847  2.609994   \n",
       "27487  10.793213  -2.738630  10.843349 -3.134540      NaN  0.066785  2.526457   \n",
       "27488  10.543454  -2.858341  10.917457 -2.763858      NaN  0.013007  1.628345   \n",
       "27489  10.449753  -2.870340  10.899463 -2.962454      NaN  0.221178  3.811656   \n",
       "27490  10.938882  -2.837388  10.870173 -2.807936      NaN  0.122816 -0.777643   \n",
       "27491  10.819044  -2.924260  10.828911 -2.883365      NaN  0.404659  5.062234   \n",
       "27492  10.922866  -2.653668  10.840702 -3.029319      NaN  0.103387  1.803356   \n",
       "27493  10.503109  -2.990581  10.904605 -2.637160      NaN  0.017596  2.495938   \n",
       "27494  10.746889  -2.285213  10.763627 -3.059857      NaN  0.178210  2.788497   \n",
       "27495        NaN        NaN  10.735743 -2.345409      NaN       NaN       NaN   \n",
       "\n",
       "         D_G_z1    D_G_z2      time    lr_d    lr_g  \n",
       "27486 -3.117037 -3.528220  0.797029  0.0001  0.0001  \n",
       "27487 -2.094594 -4.486389  0.795881  0.0001  0.0001  \n",
       "27488 -3.510679 -1.719032  0.806680  0.0001  0.0001  \n",
       "27489 -0.304857 -7.972461  0.795642  0.0001  0.0001  \n",
       "27490 -6.253441 -1.483245  0.796403  0.0001  0.0001  \n",
       "27491 -0.127313 -7.613245  0.801788  0.0001  0.0001  \n",
       "27492 -4.786760 -4.344218  0.967158  0.0001  0.0001  \n",
       "27493 -2.492212 -2.680229  0.796417  0.0001  0.0001  \n",
       "27494 -1.821008 -4.238590  0.801380  0.0001  0.0001  \n",
       "27495       NaN       NaN       NaN     NaN     NaN  "
      ]
     },
     "execution_count": 60,
     "metadata": {},
     "output_type": "execute_result"
    }
   ],
   "source": [
    "df_metrics.tail(10)"
   ]
  },
  {
   "cell_type": "code",
   "execution_count": 61,
   "metadata": {},
   "outputs": [
    {
     "data": {
      "application/vnd.jupyter.widget-view+json": {
       "model_id": "5841eb3e181d4a8eb75cf7aef219486d",
       "version_major": 2,
       "version_minor": 0
      },
      "text/plain": [
       "interactive(children=(SelectMultiple(description='col_list', options=('step', 'epoch', 'Dreal', 'Dfake', 'Dful…"
      ]
     },
     "metadata": {},
     "output_type": "display_data"
    },
    {
     "data": {
      "text/plain": [
       "<function __main__.f_plot_metrics(df, col_list)>"
      ]
     },
     "execution_count": 61,
     "metadata": {},
     "output_type": "execute_result"
    }
   ],
   "source": [
    "def f_plot_metrics(df,col_list):\n",
    "    \n",
    "    plt.figure()\n",
    "    for key in col_list:\n",
    "        plt.plot(df_metrics[key],label=key,marker='*',linestyle='')\n",
    "    plt.legend()\n",
    "    \n",
    "#     col_list=list(col_list)\n",
    "#     df.plot(kind='line',x='step',y=col_list)\n",
    "    \n",
    "# f_plot_metrics(df_metrics,['spec_chi','hist_chi'])\n",
    "\n",
    "interact_manual(f_plot_metrics,df=fixed(df_metrics), col_list=SelectMultiple(options=df_metrics.columns.values))"
   ]
  },
  {
   "cell_type": "code",
   "execution_count": 62,
   "metadata": {},
   "outputs": [
    {
     "name": "stdout",
     "output_type": "stream",
     "text": [
      "-2.8445246696472166\n"
     ]
    },
    {
     "data": {
      "text/html": [
       "<div>\n",
       "<style scoped>\n",
       "    .dataframe tbody tr th:only-of-type {\n",
       "        vertical-align: middle;\n",
       "    }\n",
       "\n",
       "    .dataframe tbody tr th {\n",
       "        vertical-align: top;\n",
       "    }\n",
       "\n",
       "    .dataframe thead th {\n",
       "        text-align: right;\n",
       "    }\n",
       "</style>\n",
       "<table border=\"1\" class=\"dataframe\">\n",
       "  <thead>\n",
       "    <tr style=\"text-align: right;\">\n",
       "      <th></th>\n",
       "      <th>step</th>\n",
       "      <th>epoch</th>\n",
       "      <th>Dreal</th>\n",
       "      <th>Dfake</th>\n",
       "      <th>Dfull</th>\n",
       "      <th>G_adv</th>\n",
       "      <th>G_full</th>\n",
       "      <th>spec_loss</th>\n",
       "      <th>hist_loss</th>\n",
       "      <th>spec_chi</th>\n",
       "      <th>hist_chi</th>\n",
       "      <th>gp_loss</th>\n",
       "      <th>fm_loss</th>\n",
       "      <th>D(x)</th>\n",
       "      <th>D_G_z1</th>\n",
       "      <th>D_G_z2</th>\n",
       "      <th>time</th>\n",
       "      <th>lr_d</th>\n",
       "      <th>lr_g</th>\n",
       "    </tr>\n",
       "  </thead>\n",
       "  <tbody>\n",
       "    <tr>\n",
       "      <th>20101</th>\n",
       "      <td>20101.0</td>\n",
       "      <td>34.0</td>\n",
       "      <td>0.155313</td>\n",
       "      <td>0.232857</td>\n",
       "      <td>0.388170</td>\n",
       "      <td>3.554605</td>\n",
       "      <td>13.940955</td>\n",
       "      <td>10.371447</td>\n",
       "      <td>-2.504447</td>\n",
       "      <td>10.688822</td>\n",
       "      <td>-3.207338</td>\n",
       "      <td>NaN</td>\n",
       "      <td>0.014903</td>\n",
       "      <td>2.912478</td>\n",
       "      <td>-2.054922</td>\n",
       "      <td>-3.470988</td>\n",
       "      <td>0.822406</td>\n",
       "      <td>0.0001</td>\n",
       "      <td>0.0001</td>\n",
       "    </tr>\n",
       "    <tr>\n",
       "      <th>17930</th>\n",
       "      <td>17930.0</td>\n",
       "      <td>30.0</td>\n",
       "      <td>0.428393</td>\n",
       "      <td>0.197344</td>\n",
       "      <td>0.625736</td>\n",
       "      <td>1.592858</td>\n",
       "      <td>12.160315</td>\n",
       "      <td>10.521114</td>\n",
       "      <td>-2.758138</td>\n",
       "      <td>10.794972</td>\n",
       "      <td>-3.200840</td>\n",
       "      <td>NaN</td>\n",
       "      <td>0.046342</td>\n",
       "      <td>1.342657</td>\n",
       "      <td>-3.563299</td>\n",
       "      <td>-1.238908</td>\n",
       "      <td>0.800900</td>\n",
       "      <td>0.0001</td>\n",
       "      <td>0.0001</td>\n",
       "    </tr>\n",
       "    <tr>\n",
       "      <th>16683</th>\n",
       "      <td>16683.0</td>\n",
       "      <td>28.0</td>\n",
       "      <td>0.798749</td>\n",
       "      <td>0.205819</td>\n",
       "      <td>1.004568</td>\n",
       "      <td>1.828169</td>\n",
       "      <td>12.518588</td>\n",
       "      <td>10.565465</td>\n",
       "      <td>-3.113181</td>\n",
       "      <td>10.805401</td>\n",
       "      <td>-3.200561</td>\n",
       "      <td>NaN</td>\n",
       "      <td>0.124955</td>\n",
       "      <td>0.134789</td>\n",
       "      <td>-5.237815</td>\n",
       "      <td>-1.523185</td>\n",
       "      <td>0.805733</td>\n",
       "      <td>0.0001</td>\n",
       "      <td>0.0001</td>\n",
       "    </tr>\n",
       "    <tr>\n",
       "      <th>21882</th>\n",
       "      <td>21882.0</td>\n",
       "      <td>37.0</td>\n",
       "      <td>0.203487</td>\n",
       "      <td>0.207249</td>\n",
       "      <td>0.410736</td>\n",
       "      <td>3.518780</td>\n",
       "      <td>13.798141</td>\n",
       "      <td>10.203991</td>\n",
       "      <td>-2.883409</td>\n",
       "      <td>10.875271</td>\n",
       "      <td>-3.200276</td>\n",
       "      <td>NaN</td>\n",
       "      <td>0.075370</td>\n",
       "      <td>2.152968</td>\n",
       "      <td>-2.586048</td>\n",
       "      <td>-3.431159</td>\n",
       "      <td>0.796641</td>\n",
       "      <td>0.0001</td>\n",
       "      <td>0.0001</td>\n",
       "    </tr>\n",
       "    <tr>\n",
       "      <th>19201</th>\n",
       "      <td>19201.0</td>\n",
       "      <td>32.0</td>\n",
       "      <td>0.312851</td>\n",
       "      <td>0.164393</td>\n",
       "      <td>0.477244</td>\n",
       "      <td>3.266400</td>\n",
       "      <td>14.043891</td>\n",
       "      <td>10.733799</td>\n",
       "      <td>-3.163961</td>\n",
       "      <td>10.672949</td>\n",
       "      <td>-3.198747</td>\n",
       "      <td>NaN</td>\n",
       "      <td>0.043693</td>\n",
       "      <td>1.372746</td>\n",
       "      <td>-4.617942</td>\n",
       "      <td>-3.176208</td>\n",
       "      <td>0.802557</td>\n",
       "      <td>0.0001</td>\n",
       "      <td>0.0001</td>\n",
       "    </tr>\n",
       "    <tr>\n",
       "      <th>16667</th>\n",
       "      <td>16667.0</td>\n",
       "      <td>28.0</td>\n",
       "      <td>0.174609</td>\n",
       "      <td>0.223220</td>\n",
       "      <td>0.397829</td>\n",
       "      <td>3.688473</td>\n",
       "      <td>14.499527</td>\n",
       "      <td>10.774700</td>\n",
       "      <td>-3.057875</td>\n",
       "      <td>10.610172</td>\n",
       "      <td>-3.197617</td>\n",
       "      <td>NaN</td>\n",
       "      <td>0.036354</td>\n",
       "      <td>2.343224</td>\n",
       "      <td>-2.704945</td>\n",
       "      <td>-3.641310</td>\n",
       "      <td>0.823524</td>\n",
       "      <td>0.0001</td>\n",
       "      <td>0.0001</td>\n",
       "    </tr>\n",
       "    <tr>\n",
       "      <th>22947</th>\n",
       "      <td>22947.0</td>\n",
       "      <td>39.0</td>\n",
       "      <td>0.379136</td>\n",
       "      <td>0.128221</td>\n",
       "      <td>0.507357</td>\n",
       "      <td>2.669623</td>\n",
       "      <td>13.388300</td>\n",
       "      <td>10.717468</td>\n",
       "      <td>-2.991698</td>\n",
       "      <td>10.874660</td>\n",
       "      <td>-3.195428</td>\n",
       "      <td>NaN</td>\n",
       "      <td>0.001208</td>\n",
       "      <td>1.020273</td>\n",
       "      <td>-4.660522</td>\n",
       "      <td>-2.440012</td>\n",
       "      <td>0.792551</td>\n",
       "      <td>0.0001</td>\n",
       "      <td>0.0001</td>\n",
       "    </tr>\n",
       "    <tr>\n",
       "      <th>19470</th>\n",
       "      <td>19470.0</td>\n",
       "      <td>33.0</td>\n",
       "      <td>0.139573</td>\n",
       "      <td>0.436256</td>\n",
       "      <td>0.575829</td>\n",
       "      <td>5.775671</td>\n",
       "      <td>16.332632</td>\n",
       "      <td>10.434393</td>\n",
       "      <td>-2.534965</td>\n",
       "      <td>10.851583</td>\n",
       "      <td>-3.193240</td>\n",
       "      <td>NaN</td>\n",
       "      <td>0.122568</td>\n",
       "      <td>3.683841</td>\n",
       "      <td>-0.976994</td>\n",
       "      <td>-5.761801</td>\n",
       "      <td>0.812853</td>\n",
       "      <td>0.0001</td>\n",
       "      <td>0.0001</td>\n",
       "    </tr>\n",
       "    <tr>\n",
       "      <th>27324</th>\n",
       "      <td>27324.0</td>\n",
       "      <td>46.0</td>\n",
       "      <td>0.197761</td>\n",
       "      <td>0.648955</td>\n",
       "      <td>0.846715</td>\n",
       "      <td>6.665246</td>\n",
       "      <td>17.710907</td>\n",
       "      <td>10.696257</td>\n",
       "      <td>-3.109828</td>\n",
       "      <td>10.750160</td>\n",
       "      <td>-3.190571</td>\n",
       "      <td>NaN</td>\n",
       "      <td>0.349403</td>\n",
       "      <td>5.299510</td>\n",
       "      <td>-0.522144</td>\n",
       "      <td>-6.660387</td>\n",
       "      <td>0.802492</td>\n",
       "      <td>0.0001</td>\n",
       "      <td>0.0001</td>\n",
       "    </tr>\n",
       "    <tr>\n",
       "      <th>20099</th>\n",
       "      <td>20099.0</td>\n",
       "      <td>34.0</td>\n",
       "      <td>0.191910</td>\n",
       "      <td>0.463462</td>\n",
       "      <td>0.655373</td>\n",
       "      <td>5.292958</td>\n",
       "      <td>15.969780</td>\n",
       "      <td>10.637912</td>\n",
       "      <td>-2.948456</td>\n",
       "      <td>10.778494</td>\n",
       "      <td>-3.186701</td>\n",
       "      <td>NaN</td>\n",
       "      <td>0.038910</td>\n",
       "      <td>2.993037</td>\n",
       "      <td>-1.350151</td>\n",
       "      <td>-5.284689</td>\n",
       "      <td>0.815620</td>\n",
       "      <td>0.0001</td>\n",
       "      <td>0.0001</td>\n",
       "    </tr>\n",
       "  </tbody>\n",
       "</table>\n",
       "</div>"
      ],
      "text/plain": [
       "          step  epoch     Dreal     Dfake     Dfull     G_adv     G_full  \\\n",
       "20101  20101.0   34.0  0.155313  0.232857  0.388170  3.554605  13.940955   \n",
       "17930  17930.0   30.0  0.428393  0.197344  0.625736  1.592858  12.160315   \n",
       "16683  16683.0   28.0  0.798749  0.205819  1.004568  1.828169  12.518588   \n",
       "21882  21882.0   37.0  0.203487  0.207249  0.410736  3.518780  13.798141   \n",
       "19201  19201.0   32.0  0.312851  0.164393  0.477244  3.266400  14.043891   \n",
       "16667  16667.0   28.0  0.174609  0.223220  0.397829  3.688473  14.499527   \n",
       "22947  22947.0   39.0  0.379136  0.128221  0.507357  2.669623  13.388300   \n",
       "19470  19470.0   33.0  0.139573  0.436256  0.575829  5.775671  16.332632   \n",
       "27324  27324.0   46.0  0.197761  0.648955  0.846715  6.665246  17.710907   \n",
       "20099  20099.0   34.0  0.191910  0.463462  0.655373  5.292958  15.969780   \n",
       "\n",
       "       spec_loss  hist_loss   spec_chi  hist_chi  gp_loss   fm_loss      D(x)  \\\n",
       "20101  10.371447  -2.504447  10.688822 -3.207338      NaN  0.014903  2.912478   \n",
       "17930  10.521114  -2.758138  10.794972 -3.200840      NaN  0.046342  1.342657   \n",
       "16683  10.565465  -3.113181  10.805401 -3.200561      NaN  0.124955  0.134789   \n",
       "21882  10.203991  -2.883409  10.875271 -3.200276      NaN  0.075370  2.152968   \n",
       "19201  10.733799  -3.163961  10.672949 -3.198747      NaN  0.043693  1.372746   \n",
       "16667  10.774700  -3.057875  10.610172 -3.197617      NaN  0.036354  2.343224   \n",
       "22947  10.717468  -2.991698  10.874660 -3.195428      NaN  0.001208  1.020273   \n",
       "19470  10.434393  -2.534965  10.851583 -3.193240      NaN  0.122568  3.683841   \n",
       "27324  10.696257  -3.109828  10.750160 -3.190571      NaN  0.349403  5.299510   \n",
       "20099  10.637912  -2.948456  10.778494 -3.186701      NaN  0.038910  2.993037   \n",
       "\n",
       "         D_G_z1    D_G_z2      time    lr_d    lr_g  \n",
       "20101 -2.054922 -3.470988  0.822406  0.0001  0.0001  \n",
       "17930 -3.563299 -1.238908  0.800900  0.0001  0.0001  \n",
       "16683 -5.237815 -1.523185  0.805733  0.0001  0.0001  \n",
       "21882 -2.586048 -3.431159  0.796641  0.0001  0.0001  \n",
       "19201 -4.617942 -3.176208  0.802557  0.0001  0.0001  \n",
       "16667 -2.704945 -3.641310  0.823524  0.0001  0.0001  \n",
       "22947 -4.660522 -2.440012  0.792551  0.0001  0.0001  \n",
       "19470 -0.976994 -5.761801  0.812853  0.0001  0.0001  \n",
       "27324 -0.522144 -6.660387  0.802492  0.0001  0.0001  \n",
       "20099 -1.350151 -5.284689  0.815620  0.0001  0.0001  "
      ]
     },
     "execution_count": 62,
     "metadata": {},
     "output_type": "execute_result"
    }
   ],
   "source": [
    "\n",
    "chi=df_metrics.quantile(q=0.2,axis=0)['hist_chi']\n",
    "print(chi)\n",
    "df_metrics[(df_metrics['hist_chi']<=chi)&(df_metrics.epoch>1)].sort_values(by=['hist_chi']).head(10)"
   ]
  },
  {
   "cell_type": "code",
   "execution_count": 63,
   "metadata": {},
   "outputs": [],
   "source": [
    "# display(df_metrics.sort_values(by=['hist_chi']).head(8))\n",
    "# display(df_metrics.sort_values(by=['spec_chi']).head(8))"
   ]
  },
  {
   "cell_type": "markdown",
   "metadata": {},
   "source": [
    "<!-- ### Read validation data -->"
   ]
  },
  {
   "cell_type": "markdown",
   "metadata": {},
   "source": [
    "## Read stored chi-squares for images"
   ]
  },
  {
   "cell_type": "code",
   "execution_count": 64,
   "metadata": {},
   "outputs": [],
   "source": [
    "## Get sigma list from saved files\n",
    "flist=glob.glob(result_dir+'/df_processed*')\n",
    "sigma_lst=[i.split('/')[-1].split('df_processed_')[-1].split('.pkle')[0] for i in flist]\n",
    "sigma_lst.sort() ### Sorting is important for labels to match !!\n",
    "\n",
    "labels_lst=np.arange(len(sigma_lst))"
   ]
  },
  {
   "cell_type": "code",
   "execution_count": 65,
   "metadata": {},
   "outputs": [
    {
     "data": {
      "text/plain": [
       "(['0.5', '0.8', '1.1'], array([0, 1, 2]))"
      ]
     },
     "execution_count": 65,
     "metadata": {},
     "output_type": "execute_result"
    }
   ],
   "source": [
    "sigma_lst,labels_lst"
   ]
  },
  {
   "cell_type": "code",
   "execution_count": 66,
   "metadata": {
    "tags": []
   },
   "outputs": [],
   "source": [
    "### Create a merged dataframe\n",
    "\n",
    "df_list=[]\n",
    "for label in labels_lst:\n",
    "    df=pd.read_pickle(result_dir+'/df_processed_{0}.pkle'.format(str(sigma_lst[label])))\n",
    "    df[['epoch','step']]=df[['epoch','step']].astype(int)\n",
    "    df['label']=df.epoch.astype(str)+'-'+df.step.astype(str) # Add label column for plotting\n",
    "    df_list.append(df)\n",
    "\n",
    "for i,df in enumerate(df_list):\n",
    "    df1=df.add_suffix('_'+str(i))\n",
    "    # renaming the columns to be joined on\n",
    "    keys=['epoch','step','img_type','label']\n",
    "    rename_cols_dict={key+'_'+str(i):key for key in keys}\n",
    "#     print(rename_cols_dict)\n",
    "    df1.rename(columns=rename_cols_dict,inplace=True) \n",
    "    df_list[i]=df1\n",
    "    \n",
    "df_merged=reduce(lambda x, y : pd.merge(x, y, on = ['step','epoch','img_type','label']), df_list)\n",
    "\n",
    "### Get sum of all 4 classes for 3 types of chi-squares\n",
    "for chi_type in ['chi_1','chi_spec1','chi_1b']:\n",
    "    keys=[chi_type+'_'+str(label) for label in labels_lst]\n",
    "#     display(df_merged[keys].sum(axis=1))\n",
    "    df_merged['sum_'+chi_type]=df_merged[keys].sum(axis=1)\n",
    "del df_list\n"
   ]
  },
  {
   "cell_type": "markdown",
   "metadata": {},
   "source": [
    "### Slice best steps"
   ]
  },
  {
   "cell_type": "code",
   "execution_count": 67,
   "metadata": {},
   "outputs": [],
   "source": [
    "def f_slice_merged_df(df,cutoff=0.2,sort_col='chi_1',col_mode='all',label='all',params_lst=[0,1,2],head=10,epoch_range=[0,None],use_sum=True,display_flag=False):\n",
    "    ''' View dataframe after slicing\n",
    "    '''\n",
    "\n",
    "    if epoch_range[1]==None: epoch_range[1]=df.max()['epoch']\n",
    "    df=df[(df.epoch<=epoch_range[1])&(df.epoch>=epoch_range[0])]\n",
    "\n",
    "    ######### Apply cutoff to keep reasonable chi1 and chispec1\n",
    "    #### Add chi-square columns to use\n",
    "    chi_cols=[]\n",
    "    if use_sum: ## Add sum chi-square columns\n",
    "        for j in ['chi_1','chi_spec1','chi_1b']: chi_cols.append('sum_'+j)\n",
    "        \n",
    "    if label=='all': ### Add chi-squares for all labels\n",
    "        for j in ['chi_1','chi_spec1','chi_1b']:\n",
    "            for idx,i in enumerate(params_lst): chi_cols.append(j+'_'+str(idx))\n",
    "    else: ## Add chi-square for specific label\n",
    "        assert label in params_lst, \"label %s is not in %s\"%(label,params_lst)\n",
    "        label_idx=params_lst.index(label)\n",
    "        print(label_idx)\n",
    "        for j in ['chi_1','chi_spec1','chi_1b']: chi_cols.append(j+'_'+str(label_idx))\n",
    "#     print(chi_cols)\n",
    "    q_dict=dict(df_merged.quantile(q=cutoff,axis=0)[chi_cols])\n",
    "    # print(q_dict)\n",
    "    strg=['%s < %s'%(key,q_dict[key]) for key in chi_cols ]\n",
    "    query=\" & \".join(strg)\n",
    "    # print(query)\n",
    "    df=df.query(query)\n",
    "    \n",
    "    # Sort dataframe\n",
    "    df1=df[df.epoch>0].sort_values(by=sort_col)\n",
    "    chis=[i for i in df_merged.columns if 'chi' in i]\n",
    "    col_list=['label']+chis+['epoch','step']\n",
    "    if (col_mode=='short'): \n",
    "        col_list=['label']+[i for i in df_merged.columns if i.startswith('sum')]\n",
    "        col_list=['label']+chi_cols\n",
    "    df2=df1.head(head)[col_list]\n",
    "    \n",
    "    if display_flag: display(df2) # Display df\n",
    "    \n",
    "    return df2\n",
    "\n",
    "# f_slice_merged_df(df_merged,cutoff=0.3,sort_col='sum_chi_1',label=0.65,params_lst=[0.5,0.65,0.8,1.1],use_sum=True,head=2000,display_flag=False,epoch_range=[7,None])"
   ]
  },
  {
   "cell_type": "code",
   "execution_count": 68,
   "metadata": {},
   "outputs": [
    {
     "data": {
      "application/vnd.jupyter.widget-view+json": {
       "model_id": "255b0a251e4b485ab146bf57c965c1f5",
       "version_major": 2,
       "version_minor": 0
      },
      "text/plain": [
       "interactive(children=(FloatSlider(value=0.3, description='cutoff', max=1.0, step=0.01), Dropdown(description='…"
      ]
     },
     "metadata": {},
     "output_type": "display_data"
    }
   ],
   "source": [
    "cols_to_sort=np.unique([i for i in df_merged.columns for j in ['chi_1_','chi_spec1_'] if ((i.startswith(j)) or (i.startswith('sum')))])\n",
    "\n",
    "w=interactive(f_slice_merged_df,df=fixed(df_merged),\n",
    "cutoff=widgets.FloatSlider(value=0.3, min=0, max=1.0, step=0.01), \n",
    "col_mode=['all','short'], display_flag=widgets.Checkbox(value=False),\n",
    "use_sum=widgets.Checkbox(value=True),\n",
    "label=ToggleButtons(options=['all']+sigma_lst), params_lst=fixed(sigma_lst),\n",
    "head=widgets.IntSlider(value=10,min=1,max=20,step=1),\n",
    "epoch_range=widgets.IntRangeSlider(value=[0,np.max(df.epoch.values)],min=0,max=np.max(df.epoch.values),step=1),\n",
    "sort_col=cols_to_sort\n",
    ")\n",
    "display(w)"
   ]
  },
  {
   "cell_type": "code",
   "execution_count": 87,
   "metadata": {},
   "outputs": [
    {
     "data": {
      "text/plain": [
       "[]"
      ]
     },
     "execution_count": 87,
     "metadata": {},
     "output_type": "execute_result"
    }
   ],
   "source": [
    "df_sliced=w.result\n",
    "[int(i.split('-')[1]) for i in df_sliced.label.values]\n",
    "\n",
    "# df_sliced"
   ]
  },
  {
   "cell_type": "code",
   "execution_count": 81,
   "metadata": {},
   "outputs": [
    {
     "name": "stdout",
     "output_type": "stream",
     "text": [
      "[ 8500 10090 12610 12830 14090 14520 25520 25840 26040 26190]\n"
     ]
    },
    {
     "data": {
      "text/plain": [
       "array([ 8500, 10090, 12610, 12830, 14090, 14520, 25520, 25840, 26040,\n",
       "       26190])"
      ]
     },
     "execution_count": 81,
     "metadata": {},
     "output_type": "execute_result"
    }
   ],
   "source": [
    "best_step=[]\n",
    "df_test=df_merged.copy()\n",
    "df_test=df_merged[(df_merged.epoch<5000)&(df_merged.epoch>5)]\n",
    "cut_off=1.0\n",
    "\n",
    "best_step.append(f_slice_merged_df(df_test,cutoff=cut_off,sort_col='sum_chi_1',label='all',use_sum=True,head=4,display_flag=False,epoch_range=[7,None],params_lst=sigma_lst).step.values)\n",
    "best_step.append(f_slice_merged_df(df_test,cutoff=cut_off,sort_col='sum_chi_spec1',label='all',use_sum=True,head=4,display_flag=False,epoch_range=[7,None],params_lst=sigma_lst).step.values)\n",
    "best_step.append(f_slice_merged_df(df_test,cutoff=cut_off,sort_col='sum_chi_1b',label='all',use_sum=True,head=2,display_flag=False,epoch_range=[7,None],params_lst=sigma_lst).step.values)\n",
    "\n",
    "# best_step.append([46669,34281])\n",
    "best_step=np.unique([i for j in best_step for i in j])\n",
    "print(best_step)\n",
    "best_step"
   ]
  },
  {
   "cell_type": "code",
   "execution_count": 83,
   "metadata": {},
   "outputs": [],
   "source": [
    "# best_step=[6176]\n",
    "best_step= [23985,24570,25155,25740,26325,26910,27495]\n",
    "# best_step=[int(i.split('-')[1]) for i in df_sliced.label.values]\n",
    "# best_step=np.arange(40130,40135).astype(int)"
   ]
  },
  {
   "cell_type": "code",
   "execution_count": 84,
   "metadata": {
    "collapsed": true,
    "jupyter": {
     "outputs_hidden": true
    },
    "tags": []
   },
   "outputs": [
    {
     "name": "stdout",
     "output_type": "stream",
     "text": [
      "(3, 61)\n"
     ]
    },
    {
     "ename": "IndexError",
     "evalue": "index 0 is out of bounds for axis 0 with size 0",
     "output_type": "error",
     "traceback": [
      "\u001b[0;31m---------------------------------------------------------------------------\u001b[0m",
      "\u001b[0;31mIndexError\u001b[0m                                Traceback (most recent call last)",
      "\u001b[0;32m<ipython-input-84-dafe9c033770>\u001b[0m in \u001b[0;36m<module>\u001b[0;34m\u001b[0m\n\u001b[1;32m      1\u001b[0m \u001b[0mdf_best\u001b[0m\u001b[0;34m=\u001b[0m\u001b[0mdf_merged\u001b[0m\u001b[0;34m[\u001b[0m\u001b[0mdf_merged\u001b[0m\u001b[0;34m.\u001b[0m\u001b[0mstep\u001b[0m\u001b[0;34m.\u001b[0m\u001b[0misin\u001b[0m\u001b[0;34m(\u001b[0m\u001b[0mbest_step\u001b[0m\u001b[0;34m)\u001b[0m\u001b[0;34m]\u001b[0m\u001b[0;34m\u001b[0m\u001b[0;34m\u001b[0m\u001b[0m\n\u001b[1;32m      2\u001b[0m \u001b[0mprint\u001b[0m\u001b[0;34m(\u001b[0m\u001b[0mdf_best\u001b[0m\u001b[0;34m.\u001b[0m\u001b[0mshape\u001b[0m\u001b[0;34m)\u001b[0m\u001b[0;34m\u001b[0m\u001b[0;34m\u001b[0m\u001b[0m\n\u001b[0;32m----> 3\u001b[0;31m \u001b[0mprint\u001b[0m\u001b[0;34m(\u001b[0m\u001b[0;34m[\u001b[0m\u001b[0;34m(\u001b[0m\u001b[0mdf_best\u001b[0m\u001b[0;34m[\u001b[0m\u001b[0mdf_best\u001b[0m\u001b[0;34m.\u001b[0m\u001b[0mstep\u001b[0m\u001b[0;34m==\u001b[0m\u001b[0mstep\u001b[0m\u001b[0;34m]\u001b[0m\u001b[0;34m.\u001b[0m\u001b[0mepoch\u001b[0m\u001b[0;34m.\u001b[0m\u001b[0mvalues\u001b[0m\u001b[0;34m[\u001b[0m\u001b[0;36m0\u001b[0m\u001b[0;34m]\u001b[0m\u001b[0;34m,\u001b[0m\u001b[0mdf_best\u001b[0m\u001b[0;34m[\u001b[0m\u001b[0mdf_best\u001b[0m\u001b[0;34m.\u001b[0m\u001b[0mstep\u001b[0m\u001b[0;34m==\u001b[0m\u001b[0mstep\u001b[0m\u001b[0;34m]\u001b[0m\u001b[0;34m.\u001b[0m\u001b[0mstep\u001b[0m\u001b[0;34m.\u001b[0m\u001b[0mvalues\u001b[0m\u001b[0;34m[\u001b[0m\u001b[0;36m0\u001b[0m\u001b[0;34m]\u001b[0m\u001b[0;34m)\u001b[0m \u001b[0;32mfor\u001b[0m \u001b[0mstep\u001b[0m \u001b[0;32min\u001b[0m \u001b[0mbest_step\u001b[0m\u001b[0;34m]\u001b[0m\u001b[0;34m)\u001b[0m\u001b[0;34m\u001b[0m\u001b[0;34m\u001b[0m\u001b[0m\n\u001b[0m\u001b[1;32m      4\u001b[0m \u001b[0;31m# print([(df_best.loc[idx].epoch,df_best.loc[idx].step) for idx in best_idx])\u001b[0m\u001b[0;34m\u001b[0m\u001b[0;34m\u001b[0m\u001b[0;34m\u001b[0m\u001b[0m\n",
      "\u001b[0;32m<ipython-input-84-dafe9c033770>\u001b[0m in \u001b[0;36m<listcomp>\u001b[0;34m(.0)\u001b[0m\n\u001b[1;32m      1\u001b[0m \u001b[0mdf_best\u001b[0m\u001b[0;34m=\u001b[0m\u001b[0mdf_merged\u001b[0m\u001b[0;34m[\u001b[0m\u001b[0mdf_merged\u001b[0m\u001b[0;34m.\u001b[0m\u001b[0mstep\u001b[0m\u001b[0;34m.\u001b[0m\u001b[0misin\u001b[0m\u001b[0;34m(\u001b[0m\u001b[0mbest_step\u001b[0m\u001b[0;34m)\u001b[0m\u001b[0;34m]\u001b[0m\u001b[0;34m\u001b[0m\u001b[0;34m\u001b[0m\u001b[0m\n\u001b[1;32m      2\u001b[0m \u001b[0mprint\u001b[0m\u001b[0;34m(\u001b[0m\u001b[0mdf_best\u001b[0m\u001b[0;34m.\u001b[0m\u001b[0mshape\u001b[0m\u001b[0;34m)\u001b[0m\u001b[0;34m\u001b[0m\u001b[0;34m\u001b[0m\u001b[0m\n\u001b[0;32m----> 3\u001b[0;31m \u001b[0mprint\u001b[0m\u001b[0;34m(\u001b[0m\u001b[0;34m[\u001b[0m\u001b[0;34m(\u001b[0m\u001b[0mdf_best\u001b[0m\u001b[0;34m[\u001b[0m\u001b[0mdf_best\u001b[0m\u001b[0;34m.\u001b[0m\u001b[0mstep\u001b[0m\u001b[0;34m==\u001b[0m\u001b[0mstep\u001b[0m\u001b[0;34m]\u001b[0m\u001b[0;34m.\u001b[0m\u001b[0mepoch\u001b[0m\u001b[0;34m.\u001b[0m\u001b[0mvalues\u001b[0m\u001b[0;34m[\u001b[0m\u001b[0;36m0\u001b[0m\u001b[0;34m]\u001b[0m\u001b[0;34m,\u001b[0m\u001b[0mdf_best\u001b[0m\u001b[0;34m[\u001b[0m\u001b[0mdf_best\u001b[0m\u001b[0;34m.\u001b[0m\u001b[0mstep\u001b[0m\u001b[0;34m==\u001b[0m\u001b[0mstep\u001b[0m\u001b[0;34m]\u001b[0m\u001b[0;34m.\u001b[0m\u001b[0mstep\u001b[0m\u001b[0;34m.\u001b[0m\u001b[0mvalues\u001b[0m\u001b[0;34m[\u001b[0m\u001b[0;36m0\u001b[0m\u001b[0;34m]\u001b[0m\u001b[0;34m)\u001b[0m \u001b[0;32mfor\u001b[0m \u001b[0mstep\u001b[0m \u001b[0;32min\u001b[0m \u001b[0mbest_step\u001b[0m\u001b[0;34m]\u001b[0m\u001b[0;34m)\u001b[0m\u001b[0;34m\u001b[0m\u001b[0;34m\u001b[0m\u001b[0m\n\u001b[0m\u001b[1;32m      4\u001b[0m \u001b[0;31m# print([(df_best.loc[idx].epoch,df_best.loc[idx].step) for idx in best_idx])\u001b[0m\u001b[0;34m\u001b[0m\u001b[0;34m\u001b[0m\u001b[0;34m\u001b[0m\u001b[0m\n",
      "\u001b[0;31mIndexError\u001b[0m: index 0 is out of bounds for axis 0 with size 0"
     ]
    }
   ],
   "source": [
    "df_best=df_merged[df_merged.step.isin(best_step)]\n",
    "print(df_best.shape)\n",
    "print([(df_best[df_best.step==step].epoch.values[0],df_best[df_best.step==step].step.values[0]) for step in best_step])\n",
    "# print([(df_best.loc[idx].epoch,df_best.loc[idx].step) for idx in best_idx])"
   ]
  },
  {
   "cell_type": "code",
   "execution_count": 88,
   "metadata": {},
   "outputs": [
    {
     "data": {
      "text/html": [
       "<div>\n",
       "<style scoped>\n",
       "    .dataframe tbody tr th:only-of-type {\n",
       "        vertical-align: middle;\n",
       "    }\n",
       "\n",
       "    .dataframe tbody tr th {\n",
       "        vertical-align: top;\n",
       "    }\n",
       "\n",
       "    .dataframe thead th {\n",
       "        text-align: right;\n",
       "    }\n",
       "</style>\n",
       "<table border=\"1\" class=\"dataframe\">\n",
       "  <thead>\n",
       "    <tr style=\"text-align: right;\">\n",
       "      <th></th>\n",
       "      <th>label</th>\n",
       "      <th>sum_chi_1</th>\n",
       "      <th>sum_chi_spec1</th>\n",
       "      <th>sum_chi_1b</th>\n",
       "    </tr>\n",
       "  </thead>\n",
       "  <tbody>\n",
       "    <tr>\n",
       "      <th>2456</th>\n",
       "      <td>41-24570</td>\n",
       "      <td>0.865809</td>\n",
       "      <td>1.944062</td>\n",
       "      <td>0.757087</td>\n",
       "    </tr>\n",
       "    <tr>\n",
       "      <th>2573</th>\n",
       "      <td>43-25740</td>\n",
       "      <td>0.905713</td>\n",
       "      <td>1.761174</td>\n",
       "      <td>0.805013</td>\n",
       "    </tr>\n",
       "    <tr>\n",
       "      <th>2690</th>\n",
       "      <td>45-26910</td>\n",
       "      <td>0.817943</td>\n",
       "      <td>1.745933</td>\n",
       "      <td>0.706278</td>\n",
       "    </tr>\n",
       "  </tbody>\n",
       "</table>\n",
       "</div>"
      ],
      "text/plain": [
       "         label  sum_chi_1  sum_chi_spec1  sum_chi_1b\n",
       "2456  41-24570   0.865809       1.944062    0.757087\n",
       "2573  43-25740   0.905713       1.761174    0.805013\n",
       "2690  45-26910   0.817943       1.745933    0.706278"
      ]
     },
     "execution_count": 88,
     "metadata": {},
     "output_type": "execute_result"
    }
   ],
   "source": [
    "col_list=['label']+[i for i in df_merged.columns if i.startswith('sum')]\n",
    "df_best[col_list]"
   ]
  },
  {
   "cell_type": "markdown",
   "metadata": {},
   "source": [
    "### Interactive plot"
   ]
  },
  {
   "cell_type": "code",
   "execution_count": 91,
   "metadata": {
    "jupyter": {
     "source_hidden": true
    },
    "tags": []
   },
   "outputs": [],
   "source": [
    "\n",
    "def f_plot_hist_spec(df,param_labels,sigma_lst,steps_list,bkg_dict,plot_type,img_size):\n",
    "\n",
    "    assert plot_type in ['hist','spec','grid','spec_relative'],\"Invalid mode %s\"%(plot_type)\n",
    "\n",
    "    if plot_type in ['hist','spec','spec_relative']:     fig=plt.figure(figsize=(6,6))\n",
    "    for par_label in param_labels:\n",
    "        df=df[df.step.isin(steps_list)]\n",
    "#         print(df.shape)\n",
    "        idx=sigma_lst.index(par_label)\n",
    "        suffix='_%s'%(idx)\n",
    "        dict_bkg=bkg_dict[str(par_label)]\n",
    "        \n",
    "        for (i,row),marker in zip(df.iterrows(),itertools.cycle('>^*sDHPdpx_')):\n",
    "            label=row.label+'_'+str(par_label)\n",
    "            if plot_type=='hist':\n",
    "                x1=row['hist_bin_centers'+suffix]\n",
    "                y1=row['hist_val'+suffix]\n",
    "                yerr1=row['hist_err'+suffix]\n",
    "                x1=f_invtransform(x1)\n",
    "                \n",
    "                plt.errorbar(x1,y1,yerr1,marker=marker,markersize=5,linestyle='',label=label)\n",
    "            if plot_type=='spec':\n",
    "                y2=row['spec_val'+suffix]\n",
    "                yerr2=row['spec_sdev'+suffix]/np.sqrt(row['num_imgs'+suffix])\n",
    "                x2=np.arange(len(y2))\n",
    "\n",
    "                plt.fill_between(x2, y2 - yerr2, y2 + yerr2, alpha=0.4)\n",
    "                plt.plot(x2, y2, marker=marker, linestyle=':',label=label)\n",
    "\n",
    "            if plot_type=='spec_relative':\n",
    "\n",
    "                y2=row['spec_val'+suffix]\n",
    "                yerr2=row['spec_sdev'+suffix]\n",
    "                x2=np.arange(len(y2))\n",
    "\n",
    "                ### Reference spectrum\n",
    "                y1,yerr1=dict_bkg['spec_val'],dict_bkg['spec_sdev']\n",
    "                y=y2/y1\n",
    "                ## Variance is sum of variance of both variables, since they are uncorrelated\n",
    "\n",
    "                # delta_r= |r| * sqrt(delta_a/a)^2 +(\\delta_b/b)^2) / \\sqrt(N)\n",
    "                yerr=(np.abs(y))*np.sqrt((yerr1/y1)**2+(yerr2/y2)**2)/np.sqrt(row['num_imgs'+suffix])\n",
    "                \n",
    "                plt.fill_between(x2, y - yerr, y + yerr, alpha=0.4)\n",
    "                plt.plot(x2, y, marker=marker, linestyle=':',label=label)\n",
    "\n",
    "            if plot_type=='grid':\n",
    "                images=np.load(row['fname'+suffix])[:,0,:,:,0]\n",
    "                print(images.shape)\n",
    "                f_plot_grid(images[:8],cols=4,fig_size=(8,4))\n",
    "            \n",
    "        ### Plot reference data\n",
    "        if plot_type=='hist':\n",
    "            x,y,yerr=dict_bkg['hist_bin_centers'],dict_bkg['hist_val'],dict_bkg['hist_err']\n",
    "            x=f_invtransform(x)\n",
    "            plt.errorbar(x, y,yerr,color='k',linestyle='-',label='bkgnd')   \n",
    "            plt.title('Pixel Intensity Histogram')\n",
    "            plt.xscale('symlog',linthreshx=50)\n",
    "        \n",
    "        if plot_type=='spec':\n",
    "            y,yerr=dict_bkg['spec_val'],dict_bkg['spec_sdev']/np.sqrt(num_bkgnd)\n",
    "            x=np.arange(len(y))\n",
    "            plt.fill_between(x, y - yerr, y + yerr, color='k',alpha=0.8)\n",
    "            plt.title('Spectrum')\n",
    "            plt.xlim(0,img_size/2)\n",
    "\n",
    "        if plot_type=='spec_relative':\n",
    "            plt.axhline(y=1.0,color='k',linestyle='-.')\n",
    "            plt.title(\"Relative spectrum\")\n",
    "            plt.xlim(0,img_size/2)\n",
    "            plt.ylim(0.5,2)\n",
    "\n",
    "    if plot_type in ['hist','spec']:     \n",
    "        plt.yscale('log')\n",
    "    plt.legend(bbox_to_anchor=(0.3, 0.75),ncol=2, fancybox=True, shadow=True,prop={'size':6})\n",
    "\n",
    "\n",
    "# f_plot_hist_spec(df_merged,[sigma_lst[-1]],sigma_lst,[best_step[0]],bkgnd_dict,'hist')"
   ]
  },
  {
   "cell_type": "code",
   "execution_count": 97,
   "metadata": {},
   "outputs": [
    {
     "data": {
      "application/vnd.jupyter.widget-view+json": {
       "model_id": "2ee94d40020f4c89b1eee96bc4745664",
       "version_major": 2,
       "version_minor": 0
      },
      "text/plain": [
       "interactive(children=(SelectMultiple(description='param_labels', options=('0.5', '0.8', '1.1'), value=()), Sel…"
      ]
     },
     "metadata": {},
     "output_type": "display_data"
    },
    {
     "data": {
      "text/plain": [
       "<function __main__.f_plot_hist_spec(df, param_labels, sigma_lst, steps_list, bkg_dict, plot_type, img_size)>"
      ]
     },
     "execution_count": 97,
     "metadata": {},
     "output_type": "execute_result"
    }
   ],
   "source": [
    "interact_manual(f_plot_hist_spec,df=fixed(df_best),\n",
    "                param_labels=SelectMultiple(options=sigma_lst),sigma_lst=fixed(sigma_lst),\n",
    "                steps_list=SelectMultiple(options=df_best.step.values),\n",
    "                img_size=fixed(img_size),\n",
    "                bkg_dict=fixed(bkgnd_dict),plot_type=ToggleButtons(options=['hist','spec','grid','spec_relative']))"
   ]
  },
  {
   "cell_type": "code",
   "execution_count": 95,
   "metadata": {},
   "outputs": [
    {
     "data": {
      "text/plain": [
       "[23985, 24570, 25155, 25740, 26325, 26910, 27495]"
      ]
     },
     "execution_count": 95,
     "metadata": {},
     "output_type": "execute_result"
    }
   ],
   "source": [
    "best_step"
   ]
  },
  {
   "cell_type": "markdown",
   "metadata": {},
   "source": [
    "### Delete unwanted stored models\n",
    "(Since deterministic runs aren't working well )"
   ]
  },
  {
   "cell_type": "code",
   "execution_count": 68,
   "metadata": {},
   "outputs": [],
   "source": [
    "# # fldr='/global/cfs/cdirs/m3363/vayyar/cosmogan_data/results_from_other_code/pytorch/results/128sq/20210119_134802_cgan_predict_0.65_m2/models'\n",
    "# fldr=result_dir\n",
    "# print(fldr)\n",
    "# flist=glob.glob(fldr+'/models/checkpoint_*.tar')\n",
    "# len(flist)"
   ]
  },
  {
   "cell_type": "code",
   "execution_count": 69,
   "metadata": {},
   "outputs": [],
   "source": [
    "# # Delete unwanted stored images\n",
    "# for i in flist:\n",
    "#     try:\n",
    "#         step=int(i.split('/')[-1].split('_')[-1].split('.')[0])\n",
    "#         if step not in best_step:\n",
    "# #             print(\"Found\")\n",
    "# #             print(step)\n",
    "#             os.remove(i)\n",
    "#             pass\n",
    "#         else: \n",
    "#             print(step)\n",
    "# #             print(i)\n",
    "#     except Exception as e:\n",
    "# #         print(e)\n",
    "# #         print(i)\n",
    "#         pass"
   ]
  },
  {
   "cell_type": "code",
   "execution_count": 80,
   "metadata": {},
   "outputs": [
    {
     "data": {
      "text/plain": [
       "array([2380, 2470, 2480, 2490, 2760, 2870, 2880, 2930, 2950])"
      ]
     },
     "execution_count": 80,
     "metadata": {},
     "output_type": "execute_result"
    }
   ],
   "source": [
    "best_step"
   ]
  },
  {
   "cell_type": "code",
   "execution_count": 71,
   "metadata": {},
   "outputs": [],
   "source": [
    "# ! du -hs  /global/cfs/cdirs/m3363/vayyar/cosmogan_data/raw_data/3d_data/dataset2a_3dcgan_4univs_64cube_simple_splicing/norm_1_sig_0.5_train_val.npy"
   ]
  },
  {
   "cell_type": "code",
   "execution_count": null,
   "metadata": {},
   "outputs": [],
   "source": []
  }
 ],
 "metadata": {
  "kernelspec": {
   "display_name": "v3",
   "language": "python",
   "name": "v-jpt-3"
  },
  "language_info": {
   "codemirror_mode": {
    "name": "ipython",
    "version": 3
   },
   "file_extension": ".py",
   "mimetype": "text/x-python",
   "name": "python",
   "nbconvert_exporter": "python",
   "pygments_lexer": "ipython3",
   "version": "3.8.6"
  }
 },
 "nbformat": 4,
 "nbformat_minor": 4
}

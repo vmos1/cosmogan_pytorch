{
 "cells": [
  {
   "cell_type": "markdown",
   "metadata": {},
   "source": [
    "# Analyze results for 3D CGAN\n",
    "Feb 22, 2021"
   ]
  },
  {
   "cell_type": "code",
   "execution_count": 1,
   "metadata": {},
   "outputs": [],
   "source": [
    "import numpy as np\n",
    "import matplotlib.pyplot as plt\n",
    "import pandas as pd\n",
    "\n",
    "import subprocess as sp\n",
    "import sys\n",
    "import os\n",
    "import glob\n",
    "import pickle \n",
    "\n",
    "from matplotlib.colors import LogNorm, PowerNorm, Normalize\n",
    "import seaborn as sns\n",
    "from functools import reduce"
   ]
  },
  {
   "cell_type": "code",
   "execution_count": 2,
   "metadata": {},
   "outputs": [],
   "source": [
    "from ipywidgets import *"
   ]
  },
  {
   "cell_type": "code",
   "execution_count": 3,
   "metadata": {},
   "outputs": [],
   "source": [
    "%matplotlib widget"
   ]
  },
  {
   "cell_type": "code",
   "execution_count": 4,
   "metadata": {},
   "outputs": [],
   "source": [
    "sys.path.append('/global/u1/v/vpa/project/jpt_notebooks/Cosmology/Cosmo_GAN/repositories/cosmogan_pytorch/code/modules_image_analysis/')\n",
    "from modules_img_analysis import *"
   ]
  },
  {
   "cell_type": "code",
   "execution_count": 5,
   "metadata": {},
   "outputs": [],
   "source": [
    "sys.path.append('/global/u1/v/vpa/project/jpt_notebooks/Cosmology/Cosmo_GAN/repositories/cosmogan_pytorch/code/5_3d_cgan/1_main_code/')\n",
    "import post_analysis_pandas as post\n"
   ]
  },
  {
   "cell_type": "code",
   "execution_count": 6,
   "metadata": {},
   "outputs": [],
   "source": [
    "### Transformation functions for image pixel values\n",
    "def f_transform(x):\n",
    "    return 2.*x/(x + 4.) - 1.\n",
    "\n",
    "def f_invtransform(s):\n",
    "    return 4.*(1. + s)/(1. - s)\n"
   ]
  },
  {
   "cell_type": "markdown",
   "metadata": {},
   "source": [
    "### Read validation data"
   ]
  },
  {
   "cell_type": "code",
   "execution_count": 7,
   "metadata": {},
   "outputs": [
    {
     "name": "stdout",
     "output_type": "stream",
     "text": [
      "/global/cfs/cdirs/m3363/vayyar/cosmogan_data/raw_data/3d_data/dataset2a_3dcgan_4univs_64cube_simple_splicing/norm_1_sig_0.5_train_val.npy\n",
      "/global/cfs/cdirs/m3363/vayyar/cosmogan_data/raw_data/3d_data/dataset2a_3dcgan_4univs_64cube_simple_splicing/norm_1_sig_0.65_train_val.npy\n",
      "/global/cfs/cdirs/m3363/vayyar/cosmogan_data/raw_data/3d_data/dataset2a_3dcgan_4univs_64cube_simple_splicing/norm_1_sig_0.8_train_val.npy\n",
      "/global/cfs/cdirs/m3363/vayyar/cosmogan_data/raw_data/3d_data/dataset2a_3dcgan_4univs_64cube_simple_splicing/norm_1_sig_1.1_train_val.npy\n"
     ]
    }
   ],
   "source": [
    "# bins=np.concatenate([np.array([-0.5]),np.arange(0.5,20.5,1),np.arange(20.5,100.5,5),np.arange(100.5,1000.5,50),np.array([2000])]) #bin edges to use\n",
    "bins=np.concatenate([np.array([-0.5]),np.arange(0.5,100.5,5),np.arange(100.5,300.5,20),np.arange(300.5,1000.5,50),np.array([2000])]) #bin edges to use\n",
    "\n",
    "bins=f_transform(bins)   ### scale to (-1,1)\n",
    "# ### Extract validation data\n",
    "sigma_lst=[0.5,0.65,0.8,1.1]\n",
    "labels_lst=range(len(sigma_lst))\n",
    "bkgnd_dict={}\n",
    "num_bkgnd=200\n",
    "\n",
    "for label in labels_lst:\n",
    "    fname='/global/cfs/cdirs/m3363/vayyar/cosmogan_data/raw_data/3d_data/dataset2a_3dcgan_4univs_64cube_simple_splicing/norm_1_sig_{0}_train_val.npy'.format(sigma_lst[label])\n",
    "    print(fname)\n",
    "    samples=np.load(fname,mmap_mode='r')[-num_bkgnd:][:,0,:,:]\n",
    "    \n",
    "    dict_val=post.f_compute_hist_spect(samples,bins)\n",
    "    bkgnd_dict[str(sigma_lst[label])]=dict_val\n",
    "    del samples"
   ]
  },
  {
   "cell_type": "markdown",
   "metadata": {},
   "source": [
    "## Read data"
   ]
  },
  {
   "cell_type": "code",
   "execution_count": 8,
   "metadata": {},
   "outputs": [],
   "source": [
    "# main_dir='/global/cfs/cdirs/m3363/vayyar/cosmogan_data/results_from_other_code/pytorch/results/128sq/'\n",
    "# results_dir=main_dir+'20201002_064327'"
   ]
  },
  {
   "cell_type": "code",
   "execution_count": 9,
   "metadata": {},
   "outputs": [],
   "source": [
    "dict1={'64':'/global/cfs/cdirs/m3363/vayyar/cosmogan_data/results_from_other_code/pytorch/results/3d_cGAN/',\n",
    "      '512':'/global/cfs/cdirs/m3363/vayyar/cosmogan_data/results_from_other_code/pytorch/results/3d_cGAN/'}\n",
    "\n",
    "u=interactive(lambda x: dict1[x], x=Select(options=dict1.keys()))\n",
    "# display(u)\n"
   ]
  },
  {
   "cell_type": "code",
   "execution_count": 10,
   "metadata": {},
   "outputs": [
    {
     "data": {
      "application/vnd.jupyter.widget-view+json": {
       "model_id": "420de68e7a6f414db9ec9f1433ea4d50",
       "version_major": 2,
       "version_minor": 0
      },
      "text/plain": [
       "interactive(children=(Dropdown(description='x', options=('20210620_113852_cgan_bs32_nodes8_lr0.0001-vary_fm50_…"
      ]
     },
     "metadata": {},
     "output_type": "display_data"
    }
   ],
   "source": [
    "# parent_dir=u.result\n",
    "img_size=64\n",
    "parent_dir=dict1[str(img_size)]\n",
    "dir_lst=[i.split('/')[-1] for i in glob.glob(parent_dir+'202106*')]\n",
    "n=interactive(lambda x: x, x=Dropdown(options=dir_lst))\n",
    "display(n)"
   ]
  },
  {
   "cell_type": "code",
   "execution_count": 72,
   "metadata": {},
   "outputs": [
    {
     "name": "stdout",
     "output_type": "stream",
     "text": [
      "/global/cfs/cdirs/m3363/vayyar/cosmogan_data/results_from_other_code/pytorch/results/3d_cGAN/20210619_224213_cgan_bs32_nodes8_lr0.0001-vary_fm50\n"
     ]
    }
   ],
   "source": [
    "result=n.result\n",
    "result_dir=parent_dir+result\n",
    "print(result_dir)"
   ]
  },
  {
   "cell_type": "markdown",
   "metadata": {},
   "source": [
    "## Plot Losses"
   ]
  },
  {
   "cell_type": "code",
   "execution_count": 73,
   "metadata": {},
   "outputs": [],
   "source": [
    "df_metrics=pd.read_pickle(result_dir+'/df_metrics.pkle').astype(np.float64)\n"
   ]
  },
  {
   "cell_type": "code",
   "execution_count": 74,
   "metadata": {},
   "outputs": [
    {
     "data": {
      "text/html": [
       "<div>\n",
       "<style scoped>\n",
       "    .dataframe tbody tr th:only-of-type {\n",
       "        vertical-align: middle;\n",
       "    }\n",
       "\n",
       "    .dataframe tbody tr th {\n",
       "        vertical-align: top;\n",
       "    }\n",
       "\n",
       "    .dataframe thead th {\n",
       "        text-align: right;\n",
       "    }\n",
       "</style>\n",
       "<table border=\"1\" class=\"dataframe\">\n",
       "  <thead>\n",
       "    <tr style=\"text-align: right;\">\n",
       "      <th></th>\n",
       "      <th>step</th>\n",
       "      <th>epoch</th>\n",
       "      <th>Dreal</th>\n",
       "      <th>Dfake</th>\n",
       "      <th>Dfull</th>\n",
       "      <th>G_adv</th>\n",
       "      <th>G_full</th>\n",
       "      <th>spec_loss</th>\n",
       "      <th>hist_loss</th>\n",
       "      <th>spec_chi</th>\n",
       "      <th>hist_chi</th>\n",
       "      <th>gp_loss</th>\n",
       "      <th>fm_loss</th>\n",
       "      <th>D(x)</th>\n",
       "      <th>D_G_z1</th>\n",
       "      <th>D_G_z2</th>\n",
       "      <th>time</th>\n",
       "      <th>lr_d</th>\n",
       "      <th>lr_g</th>\n",
       "    </tr>\n",
       "  </thead>\n",
       "  <tbody>\n",
       "    <tr>\n",
       "      <th>37431</th>\n",
       "      <td>37431.0</td>\n",
       "      <td>63.0</td>\n",
       "      <td>0.235034</td>\n",
       "      <td>0.232714</td>\n",
       "      <td>0.467747</td>\n",
       "      <td>3.255831</td>\n",
       "      <td>13.668125</td>\n",
       "      <td>10.399620</td>\n",
       "      <td>-3.108395</td>\n",
       "      <td>10.810431</td>\n",
       "      <td>-2.597854</td>\n",
       "      <td>NaN</td>\n",
       "      <td>0.012675</td>\n",
       "      <td>2.987896</td>\n",
       "      <td>-2.858304</td>\n",
       "      <td>-3.189602</td>\n",
       "      <td>0.793974</td>\n",
       "      <td>0.000006</td>\n",
       "      <td>0.000006</td>\n",
       "    </tr>\n",
       "    <tr>\n",
       "      <th>37432</th>\n",
       "      <td>37432.0</td>\n",
       "      <td>63.0</td>\n",
       "      <td>0.181642</td>\n",
       "      <td>0.143099</td>\n",
       "      <td>0.324741</td>\n",
       "      <td>2.814492</td>\n",
       "      <td>13.428387</td>\n",
       "      <td>10.566786</td>\n",
       "      <td>-2.846118</td>\n",
       "      <td>10.882505</td>\n",
       "      <td>-2.873352</td>\n",
       "      <td>NaN</td>\n",
       "      <td>0.047109</td>\n",
       "      <td>2.161906</td>\n",
       "      <td>-2.859251</td>\n",
       "      <td>-2.713832</td>\n",
       "      <td>0.786009</td>\n",
       "      <td>0.000006</td>\n",
       "      <td>0.000006</td>\n",
       "    </tr>\n",
       "    <tr>\n",
       "      <th>37433</th>\n",
       "      <td>37433.0</td>\n",
       "      <td>63.0</td>\n",
       "      <td>0.112397</td>\n",
       "      <td>0.166939</td>\n",
       "      <td>0.279336</td>\n",
       "      <td>3.196909</td>\n",
       "      <td>13.591529</td>\n",
       "      <td>10.370832</td>\n",
       "      <td>-2.994292</td>\n",
       "      <td>10.839382</td>\n",
       "      <td>-2.746268</td>\n",
       "      <td>NaN</td>\n",
       "      <td>0.023787</td>\n",
       "      <td>3.720149</td>\n",
       "      <td>-2.854005</td>\n",
       "      <td>-3.125091</td>\n",
       "      <td>0.790214</td>\n",
       "      <td>0.000006</td>\n",
       "      <td>0.000006</td>\n",
       "    </tr>\n",
       "    <tr>\n",
       "      <th>37434</th>\n",
       "      <td>37434.0</td>\n",
       "      <td>63.0</td>\n",
       "      <td>0.130117</td>\n",
       "      <td>0.158906</td>\n",
       "      <td>0.289023</td>\n",
       "      <td>3.211007</td>\n",
       "      <td>13.767612</td>\n",
       "      <td>10.552769</td>\n",
       "      <td>-3.113134</td>\n",
       "      <td>10.865761</td>\n",
       "      <td>-2.736638</td>\n",
       "      <td>NaN</td>\n",
       "      <td>0.003836</td>\n",
       "      <td>3.377064</td>\n",
       "      <td>-2.684884</td>\n",
       "      <td>-3.152395</td>\n",
       "      <td>0.787756</td>\n",
       "      <td>0.000006</td>\n",
       "      <td>0.000006</td>\n",
       "    </tr>\n",
       "    <tr>\n",
       "      <th>37435</th>\n",
       "      <td>37435.0</td>\n",
       "      <td>63.0</td>\n",
       "      <td>0.208673</td>\n",
       "      <td>0.116374</td>\n",
       "      <td>0.325048</td>\n",
       "      <td>3.026676</td>\n",
       "      <td>13.570823</td>\n",
       "      <td>10.520730</td>\n",
       "      <td>-2.825980</td>\n",
       "      <td>10.885996</td>\n",
       "      <td>-2.769790</td>\n",
       "      <td>NaN</td>\n",
       "      <td>0.023417</td>\n",
       "      <td>2.464508</td>\n",
       "      <td>-3.265838</td>\n",
       "      <td>-2.945090</td>\n",
       "      <td>0.789535</td>\n",
       "      <td>0.000006</td>\n",
       "      <td>0.000006</td>\n",
       "    </tr>\n",
       "    <tr>\n",
       "      <th>37436</th>\n",
       "      <td>37436.0</td>\n",
       "      <td>63.0</td>\n",
       "      <td>0.206783</td>\n",
       "      <td>0.123580</td>\n",
       "      <td>0.330362</td>\n",
       "      <td>2.933946</td>\n",
       "      <td>13.425792</td>\n",
       "      <td>10.482430</td>\n",
       "      <td>-3.005218</td>\n",
       "      <td>10.812387</td>\n",
       "      <td>-2.672103</td>\n",
       "      <td>NaN</td>\n",
       "      <td>0.009415</td>\n",
       "      <td>2.741296</td>\n",
       "      <td>-2.859067</td>\n",
       "      <td>-2.851160</td>\n",
       "      <td>0.786281</td>\n",
       "      <td>0.000006</td>\n",
       "      <td>0.000006</td>\n",
       "    </tr>\n",
       "    <tr>\n",
       "      <th>37437</th>\n",
       "      <td>37437.0</td>\n",
       "      <td>63.0</td>\n",
       "      <td>0.187609</td>\n",
       "      <td>0.188728</td>\n",
       "      <td>0.376337</td>\n",
       "      <td>2.986371</td>\n",
       "      <td>13.622642</td>\n",
       "      <td>10.491955</td>\n",
       "      <td>-3.132936</td>\n",
       "      <td>10.798526</td>\n",
       "      <td>-2.794070</td>\n",
       "      <td>NaN</td>\n",
       "      <td>0.144316</td>\n",
       "      <td>2.978965</td>\n",
       "      <td>-2.376906</td>\n",
       "      <td>-2.913350</td>\n",
       "      <td>0.786684</td>\n",
       "      <td>0.000006</td>\n",
       "      <td>0.000006</td>\n",
       "    </tr>\n",
       "    <tr>\n",
       "      <th>37438</th>\n",
       "      <td>37438.0</td>\n",
       "      <td>63.0</td>\n",
       "      <td>0.210208</td>\n",
       "      <td>0.199168</td>\n",
       "      <td>0.409376</td>\n",
       "      <td>3.191043</td>\n",
       "      <td>13.541048</td>\n",
       "      <td>10.342420</td>\n",
       "      <td>-2.963267</td>\n",
       "      <td>10.805973</td>\n",
       "      <td>-2.967496</td>\n",
       "      <td>NaN</td>\n",
       "      <td>0.007586</td>\n",
       "      <td>2.843654</td>\n",
       "      <td>-2.967982</td>\n",
       "      <td>-3.130363</td>\n",
       "      <td>0.787575</td>\n",
       "      <td>0.000006</td>\n",
       "      <td>0.000006</td>\n",
       "    </tr>\n",
       "    <tr>\n",
       "      <th>37439</th>\n",
       "      <td>37439.0</td>\n",
       "      <td>63.0</td>\n",
       "      <td>0.235315</td>\n",
       "      <td>0.204188</td>\n",
       "      <td>0.439503</td>\n",
       "      <td>2.998589</td>\n",
       "      <td>13.780254</td>\n",
       "      <td>10.744900</td>\n",
       "      <td>-2.622908</td>\n",
       "      <td>10.799562</td>\n",
       "      <td>-2.869864</td>\n",
       "      <td>NaN</td>\n",
       "      <td>0.036766</td>\n",
       "      <td>2.398518</td>\n",
       "      <td>-3.589211</td>\n",
       "      <td>-2.925466</td>\n",
       "      <td>0.789683</td>\n",
       "      <td>0.000006</td>\n",
       "      <td>0.000006</td>\n",
       "    </tr>\n",
       "    <tr>\n",
       "      <th>37440</th>\n",
       "      <td>NaN</td>\n",
       "      <td>NaN</td>\n",
       "      <td>NaN</td>\n",
       "      <td>NaN</td>\n",
       "      <td>NaN</td>\n",
       "      <td>NaN</td>\n",
       "      <td>NaN</td>\n",
       "      <td>NaN</td>\n",
       "      <td>NaN</td>\n",
       "      <td>10.852632</td>\n",
       "      <td>-2.517478</td>\n",
       "      <td>NaN</td>\n",
       "      <td>NaN</td>\n",
       "      <td>NaN</td>\n",
       "      <td>NaN</td>\n",
       "      <td>NaN</td>\n",
       "      <td>NaN</td>\n",
       "      <td>NaN</td>\n",
       "      <td>NaN</td>\n",
       "    </tr>\n",
       "  </tbody>\n",
       "</table>\n",
       "</div>"
      ],
      "text/plain": [
       "          step  epoch     Dreal     Dfake     Dfull     G_adv     G_full  \\\n",
       "37431  37431.0   63.0  0.235034  0.232714  0.467747  3.255831  13.668125   \n",
       "37432  37432.0   63.0  0.181642  0.143099  0.324741  2.814492  13.428387   \n",
       "37433  37433.0   63.0  0.112397  0.166939  0.279336  3.196909  13.591529   \n",
       "37434  37434.0   63.0  0.130117  0.158906  0.289023  3.211007  13.767612   \n",
       "37435  37435.0   63.0  0.208673  0.116374  0.325048  3.026676  13.570823   \n",
       "37436  37436.0   63.0  0.206783  0.123580  0.330362  2.933946  13.425792   \n",
       "37437  37437.0   63.0  0.187609  0.188728  0.376337  2.986371  13.622642   \n",
       "37438  37438.0   63.0  0.210208  0.199168  0.409376  3.191043  13.541048   \n",
       "37439  37439.0   63.0  0.235315  0.204188  0.439503  2.998589  13.780254   \n",
       "37440      NaN    NaN       NaN       NaN       NaN       NaN        NaN   \n",
       "\n",
       "       spec_loss  hist_loss   spec_chi  hist_chi  gp_loss   fm_loss      D(x)  \\\n",
       "37431  10.399620  -3.108395  10.810431 -2.597854      NaN  0.012675  2.987896   \n",
       "37432  10.566786  -2.846118  10.882505 -2.873352      NaN  0.047109  2.161906   \n",
       "37433  10.370832  -2.994292  10.839382 -2.746268      NaN  0.023787  3.720149   \n",
       "37434  10.552769  -3.113134  10.865761 -2.736638      NaN  0.003836  3.377064   \n",
       "37435  10.520730  -2.825980  10.885996 -2.769790      NaN  0.023417  2.464508   \n",
       "37436  10.482430  -3.005218  10.812387 -2.672103      NaN  0.009415  2.741296   \n",
       "37437  10.491955  -3.132936  10.798526 -2.794070      NaN  0.144316  2.978965   \n",
       "37438  10.342420  -2.963267  10.805973 -2.967496      NaN  0.007586  2.843654   \n",
       "37439  10.744900  -2.622908  10.799562 -2.869864      NaN  0.036766  2.398518   \n",
       "37440        NaN        NaN  10.852632 -2.517478      NaN       NaN       NaN   \n",
       "\n",
       "         D_G_z1    D_G_z2      time      lr_d      lr_g  \n",
       "37431 -2.858304 -3.189602  0.793974  0.000006  0.000006  \n",
       "37432 -2.859251 -2.713832  0.786009  0.000006  0.000006  \n",
       "37433 -2.854005 -3.125091  0.790214  0.000006  0.000006  \n",
       "37434 -2.684884 -3.152395  0.787756  0.000006  0.000006  \n",
       "37435 -3.265838 -2.945090  0.789535  0.000006  0.000006  \n",
       "37436 -2.859067 -2.851160  0.786281  0.000006  0.000006  \n",
       "37437 -2.376906 -2.913350  0.786684  0.000006  0.000006  \n",
       "37438 -2.967982 -3.130363  0.787575  0.000006  0.000006  \n",
       "37439 -3.589211 -2.925466  0.789683  0.000006  0.000006  \n",
       "37440       NaN       NaN       NaN       NaN       NaN  "
      ]
     },
     "execution_count": 74,
     "metadata": {},
     "output_type": "execute_result"
    }
   ],
   "source": [
    "df_metrics.tail(10)"
   ]
  },
  {
   "cell_type": "code",
   "execution_count": 75,
   "metadata": {},
   "outputs": [
    {
     "data": {
      "application/vnd.jupyter.widget-view+json": {
       "model_id": "83b5be1e42fc4f8682e6df207cc4b9b7",
       "version_major": 2,
       "version_minor": 0
      },
      "text/plain": [
       "interactive(children=(SelectMultiple(description='col_list', options=('step', 'epoch', 'Dreal', 'Dfake', 'Dful…"
      ]
     },
     "metadata": {},
     "output_type": "display_data"
    },
    {
     "data": {
      "text/plain": [
       "<function __main__.f_plot_metrics(df, col_list)>"
      ]
     },
     "execution_count": 75,
     "metadata": {},
     "output_type": "execute_result"
    }
   ],
   "source": [
    "def f_plot_metrics(df,col_list):\n",
    "    \n",
    "    plt.figure()\n",
    "    for key in col_list:\n",
    "        plt.plot(df_metrics[key],label=key,marker='*',linestyle='')\n",
    "    plt.legend()\n",
    "    \n",
    "#     col_list=list(col_list)\n",
    "#     df.plot(kind='line',x='step',y=col_list)\n",
    "    \n",
    "# f_plot_metrics(df_metrics,['spec_chi','hist_chi'])\n",
    "\n",
    "interact_manual(f_plot_metrics,df=fixed(df_metrics), col_list=SelectMultiple(options=df_metrics.columns.values))"
   ]
  },
  {
   "cell_type": "code",
   "execution_count": 76,
   "metadata": {},
   "outputs": [
    {
     "name": "stdout",
     "output_type": "stream",
     "text": [
      "-2.9145259857177734\n"
     ]
    },
    {
     "data": {
      "text/html": [
       "<div>\n",
       "<style scoped>\n",
       "    .dataframe tbody tr th:only-of-type {\n",
       "        vertical-align: middle;\n",
       "    }\n",
       "\n",
       "    .dataframe tbody tr th {\n",
       "        vertical-align: top;\n",
       "    }\n",
       "\n",
       "    .dataframe thead th {\n",
       "        text-align: right;\n",
       "    }\n",
       "</style>\n",
       "<table border=\"1\" class=\"dataframe\">\n",
       "  <thead>\n",
       "    <tr style=\"text-align: right;\">\n",
       "      <th></th>\n",
       "      <th>step</th>\n",
       "      <th>epoch</th>\n",
       "      <th>Dreal</th>\n",
       "      <th>Dfake</th>\n",
       "      <th>Dfull</th>\n",
       "      <th>G_adv</th>\n",
       "      <th>G_full</th>\n",
       "      <th>spec_loss</th>\n",
       "      <th>hist_loss</th>\n",
       "      <th>spec_chi</th>\n",
       "      <th>hist_chi</th>\n",
       "      <th>gp_loss</th>\n",
       "      <th>fm_loss</th>\n",
       "      <th>D(x)</th>\n",
       "      <th>D_G_z1</th>\n",
       "      <th>D_G_z2</th>\n",
       "      <th>time</th>\n",
       "      <th>lr_d</th>\n",
       "      <th>lr_g</th>\n",
       "    </tr>\n",
       "  </thead>\n",
       "  <tbody>\n",
       "    <tr>\n",
       "      <th>15046</th>\n",
       "      <td>15046.0</td>\n",
       "      <td>25.0</td>\n",
       "      <td>0.230558</td>\n",
       "      <td>0.207576</td>\n",
       "      <td>0.438134</td>\n",
       "      <td>2.932430</td>\n",
       "      <td>13.527962</td>\n",
       "      <td>10.582875</td>\n",
       "      <td>-2.997287</td>\n",
       "      <td>10.673954</td>\n",
       "      <td>-3.238003</td>\n",
       "      <td>NaN</td>\n",
       "      <td>0.012656</td>\n",
       "      <td>2.078210</td>\n",
       "      <td>-3.272564</td>\n",
       "      <td>-2.842322</td>\n",
       "      <td>0.787944</td>\n",
       "      <td>0.000050</td>\n",
       "      <td>0.000050</td>\n",
       "    </tr>\n",
       "    <tr>\n",
       "      <th>15749</th>\n",
       "      <td>15749.0</td>\n",
       "      <td>26.0</td>\n",
       "      <td>0.161982</td>\n",
       "      <td>1.013336</td>\n",
       "      <td>1.175318</td>\n",
       "      <td>8.525791</td>\n",
       "      <td>19.441900</td>\n",
       "      <td>10.719789</td>\n",
       "      <td>-3.100010</td>\n",
       "      <td>10.729021</td>\n",
       "      <td>-3.236508</td>\n",
       "      <td>NaN</td>\n",
       "      <td>0.196322</td>\n",
       "      <td>5.998387</td>\n",
       "      <td>0.219498</td>\n",
       "      <td>-8.525433</td>\n",
       "      <td>0.787826</td>\n",
       "      <td>0.000050</td>\n",
       "      <td>0.000050</td>\n",
       "    </tr>\n",
       "    <tr>\n",
       "      <th>17557</th>\n",
       "      <td>17557.0</td>\n",
       "      <td>30.0</td>\n",
       "      <td>0.117966</td>\n",
       "      <td>0.191804</td>\n",
       "      <td>0.309770</td>\n",
       "      <td>3.115794</td>\n",
       "      <td>13.783837</td>\n",
       "      <td>10.627157</td>\n",
       "      <td>-3.202205</td>\n",
       "      <td>10.683758</td>\n",
       "      <td>-3.235552</td>\n",
       "      <td>NaN</td>\n",
       "      <td>0.040886</td>\n",
       "      <td>3.053597</td>\n",
       "      <td>-2.703843</td>\n",
       "      <td>-3.040881</td>\n",
       "      <td>0.790611</td>\n",
       "      <td>0.000025</td>\n",
       "      <td>0.000025</td>\n",
       "    </tr>\n",
       "    <tr>\n",
       "      <th>17207</th>\n",
       "      <td>17207.0</td>\n",
       "      <td>29.0</td>\n",
       "      <td>0.224839</td>\n",
       "      <td>0.159016</td>\n",
       "      <td>0.383855</td>\n",
       "      <td>3.134042</td>\n",
       "      <td>13.814713</td>\n",
       "      <td>10.586383</td>\n",
       "      <td>-2.556893</td>\n",
       "      <td>10.737841</td>\n",
       "      <td>-3.232087</td>\n",
       "      <td>NaN</td>\n",
       "      <td>0.094289</td>\n",
       "      <td>2.060948</td>\n",
       "      <td>-3.544134</td>\n",
       "      <td>-3.040227</td>\n",
       "      <td>0.787281</td>\n",
       "      <td>0.000050</td>\n",
       "      <td>0.000050</td>\n",
       "    </tr>\n",
       "    <tr>\n",
       "      <th>13130</th>\n",
       "      <td>13130.0</td>\n",
       "      <td>22.0</td>\n",
       "      <td>0.160659</td>\n",
       "      <td>0.125126</td>\n",
       "      <td>0.285785</td>\n",
       "      <td>3.334771</td>\n",
       "      <td>14.020349</td>\n",
       "      <td>10.643251</td>\n",
       "      <td>-2.570519</td>\n",
       "      <td>10.700977</td>\n",
       "      <td>-3.229923</td>\n",
       "      <td>NaN</td>\n",
       "      <td>0.042326</td>\n",
       "      <td>2.780260</td>\n",
       "      <td>-3.333513</td>\n",
       "      <td>-3.225606</td>\n",
       "      <td>0.795081</td>\n",
       "      <td>0.000050</td>\n",
       "      <td>0.000050</td>\n",
       "    </tr>\n",
       "    <tr>\n",
       "      <th>13208</th>\n",
       "      <td>13208.0</td>\n",
       "      <td>22.0</td>\n",
       "      <td>0.267253</td>\n",
       "      <td>0.137652</td>\n",
       "      <td>0.404905</td>\n",
       "      <td>3.583318</td>\n",
       "      <td>14.988206</td>\n",
       "      <td>11.203830</td>\n",
       "      <td>-2.619559</td>\n",
       "      <td>10.568878</td>\n",
       "      <td>-3.229175</td>\n",
       "      <td>NaN</td>\n",
       "      <td>0.201058</td>\n",
       "      <td>2.011998</td>\n",
       "      <td>-4.088627</td>\n",
       "      <td>-3.534831</td>\n",
       "      <td>0.784907</td>\n",
       "      <td>0.000050</td>\n",
       "      <td>0.000050</td>\n",
       "    </tr>\n",
       "    <tr>\n",
       "      <th>15521</th>\n",
       "      <td>15521.0</td>\n",
       "      <td>26.0</td>\n",
       "      <td>0.205813</td>\n",
       "      <td>0.140176</td>\n",
       "      <td>0.345989</td>\n",
       "      <td>3.473957</td>\n",
       "      <td>14.028960</td>\n",
       "      <td>10.544765</td>\n",
       "      <td>-2.979441</td>\n",
       "      <td>10.745359</td>\n",
       "      <td>-3.229048</td>\n",
       "      <td>NaN</td>\n",
       "      <td>0.010238</td>\n",
       "      <td>2.592885</td>\n",
       "      <td>-2.814688</td>\n",
       "      <td>-3.388710</td>\n",
       "      <td>0.788644</td>\n",
       "      <td>0.000050</td>\n",
       "      <td>0.000050</td>\n",
       "    </tr>\n",
       "    <tr>\n",
       "      <th>15236</th>\n",
       "      <td>15236.0</td>\n",
       "      <td>26.0</td>\n",
       "      <td>0.145862</td>\n",
       "      <td>0.222336</td>\n",
       "      <td>0.368198</td>\n",
       "      <td>4.612967</td>\n",
       "      <td>15.167688</td>\n",
       "      <td>10.389866</td>\n",
       "      <td>-2.874555</td>\n",
       "      <td>10.754705</td>\n",
       "      <td>-3.228173</td>\n",
       "      <td>NaN</td>\n",
       "      <td>0.164855</td>\n",
       "      <td>3.635245</td>\n",
       "      <td>-1.934153</td>\n",
       "      <td>-4.586347</td>\n",
       "      <td>0.796990</td>\n",
       "      <td>0.000050</td>\n",
       "      <td>0.000050</td>\n",
       "    </tr>\n",
       "    <tr>\n",
       "      <th>14638</th>\n",
       "      <td>14638.0</td>\n",
       "      <td>25.0</td>\n",
       "      <td>0.112755</td>\n",
       "      <td>0.224206</td>\n",
       "      <td>0.336961</td>\n",
       "      <td>3.313110</td>\n",
       "      <td>13.808804</td>\n",
       "      <td>10.482378</td>\n",
       "      <td>-2.958272</td>\n",
       "      <td>10.972198</td>\n",
       "      <td>-3.225848</td>\n",
       "      <td>NaN</td>\n",
       "      <td>0.013315</td>\n",
       "      <td>3.609493</td>\n",
       "      <td>-2.031829</td>\n",
       "      <td>-3.247351</td>\n",
       "      <td>0.785878</td>\n",
       "      <td>0.000050</td>\n",
       "      <td>0.000050</td>\n",
       "    </tr>\n",
       "    <tr>\n",
       "      <th>15358</th>\n",
       "      <td>15358.0</td>\n",
       "      <td>26.0</td>\n",
       "      <td>0.131761</td>\n",
       "      <td>0.250865</td>\n",
       "      <td>0.382625</td>\n",
       "      <td>4.488227</td>\n",
       "      <td>15.139226</td>\n",
       "      <td>10.567974</td>\n",
       "      <td>-2.365833</td>\n",
       "      <td>10.749254</td>\n",
       "      <td>-3.225713</td>\n",
       "      <td>NaN</td>\n",
       "      <td>0.083025</td>\n",
       "      <td>3.368795</td>\n",
       "      <td>-1.847109</td>\n",
       "      <td>-4.468691</td>\n",
       "      <td>0.786973</td>\n",
       "      <td>0.000050</td>\n",
       "      <td>0.000050</td>\n",
       "    </tr>\n",
       "  </tbody>\n",
       "</table>\n",
       "</div>"
      ],
      "text/plain": [
       "          step  epoch     Dreal     Dfake     Dfull     G_adv     G_full  \\\n",
       "15046  15046.0   25.0  0.230558  0.207576  0.438134  2.932430  13.527962   \n",
       "15749  15749.0   26.0  0.161982  1.013336  1.175318  8.525791  19.441900   \n",
       "17557  17557.0   30.0  0.117966  0.191804  0.309770  3.115794  13.783837   \n",
       "17207  17207.0   29.0  0.224839  0.159016  0.383855  3.134042  13.814713   \n",
       "13130  13130.0   22.0  0.160659  0.125126  0.285785  3.334771  14.020349   \n",
       "13208  13208.0   22.0  0.267253  0.137652  0.404905  3.583318  14.988206   \n",
       "15521  15521.0   26.0  0.205813  0.140176  0.345989  3.473957  14.028960   \n",
       "15236  15236.0   26.0  0.145862  0.222336  0.368198  4.612967  15.167688   \n",
       "14638  14638.0   25.0  0.112755  0.224206  0.336961  3.313110  13.808804   \n",
       "15358  15358.0   26.0  0.131761  0.250865  0.382625  4.488227  15.139226   \n",
       "\n",
       "       spec_loss  hist_loss   spec_chi  hist_chi  gp_loss   fm_loss      D(x)  \\\n",
       "15046  10.582875  -2.997287  10.673954 -3.238003      NaN  0.012656  2.078210   \n",
       "15749  10.719789  -3.100010  10.729021 -3.236508      NaN  0.196322  5.998387   \n",
       "17557  10.627157  -3.202205  10.683758 -3.235552      NaN  0.040886  3.053597   \n",
       "17207  10.586383  -2.556893  10.737841 -3.232087      NaN  0.094289  2.060948   \n",
       "13130  10.643251  -2.570519  10.700977 -3.229923      NaN  0.042326  2.780260   \n",
       "13208  11.203830  -2.619559  10.568878 -3.229175      NaN  0.201058  2.011998   \n",
       "15521  10.544765  -2.979441  10.745359 -3.229048      NaN  0.010238  2.592885   \n",
       "15236  10.389866  -2.874555  10.754705 -3.228173      NaN  0.164855  3.635245   \n",
       "14638  10.482378  -2.958272  10.972198 -3.225848      NaN  0.013315  3.609493   \n",
       "15358  10.567974  -2.365833  10.749254 -3.225713      NaN  0.083025  3.368795   \n",
       "\n",
       "         D_G_z1    D_G_z2      time      lr_d      lr_g  \n",
       "15046 -3.272564 -2.842322  0.787944  0.000050  0.000050  \n",
       "15749  0.219498 -8.525433  0.787826  0.000050  0.000050  \n",
       "17557 -2.703843 -3.040881  0.790611  0.000025  0.000025  \n",
       "17207 -3.544134 -3.040227  0.787281  0.000050  0.000050  \n",
       "13130 -3.333513 -3.225606  0.795081  0.000050  0.000050  \n",
       "13208 -4.088627 -3.534831  0.784907  0.000050  0.000050  \n",
       "15521 -2.814688 -3.388710  0.788644  0.000050  0.000050  \n",
       "15236 -1.934153 -4.586347  0.796990  0.000050  0.000050  \n",
       "14638 -2.031829 -3.247351  0.785878  0.000050  0.000050  \n",
       "15358 -1.847109 -4.468691  0.786973  0.000050  0.000050  "
      ]
     },
     "execution_count": 76,
     "metadata": {},
     "output_type": "execute_result"
    }
   ],
   "source": [
    "\n",
    "chi=df_metrics.quantile(q=0.2,axis=0)['hist_chi']\n",
    "print(chi)\n",
    "df_metrics[(df_metrics['hist_chi']<=chi)&(df_metrics.epoch>1)].sort_values(by=['hist_chi']).head(10)"
   ]
  },
  {
   "cell_type": "code",
   "execution_count": 77,
   "metadata": {},
   "outputs": [],
   "source": [
    "# display(df_metrics.sort_values(by=['hist_chi']).head(8))\n",
    "# display(df_metrics.sort_values(by=['spec_chi']).head(8))"
   ]
  },
  {
   "cell_type": "markdown",
   "metadata": {},
   "source": [
    "<!-- ### Read validation data -->"
   ]
  },
  {
   "cell_type": "markdown",
   "metadata": {},
   "source": [
    "## Read stored chi-squares for images"
   ]
  },
  {
   "cell_type": "code",
   "execution_count": 78,
   "metadata": {},
   "outputs": [],
   "source": [
    "## Get sigma list from saved files\n",
    "flist=glob.glob(result_dir+'/df_processed*')\n",
    "sigma_lst=[i.split('/')[-1].split('df_processed_')[-1].split('.pkle')[0] for i in flist]\n",
    "sigma_lst.sort() ### Sorting is important for labels to match !!\n",
    "\n",
    "labels_lst=np.arange(len(sigma_lst))"
   ]
  },
  {
   "cell_type": "code",
   "execution_count": 79,
   "metadata": {},
   "outputs": [
    {
     "data": {
      "text/plain": [
       "(['0.5', '0.8', '1.1'], array([0, 1, 2]))"
      ]
     },
     "execution_count": 79,
     "metadata": {},
     "output_type": "execute_result"
    }
   ],
   "source": [
    "sigma_lst,labels_lst"
   ]
  },
  {
   "cell_type": "code",
   "execution_count": 80,
   "metadata": {
    "tags": []
   },
   "outputs": [],
   "source": [
    "### Create a merged dataframe\n",
    "\n",
    "df_list=[]\n",
    "for label in labels_lst:\n",
    "    df=pd.read_pickle(result_dir+'/df_processed_{0}.pkle'.format(str(sigma_lst[label])))\n",
    "    df[['epoch','step']]=df[['epoch','step']].astype(int)\n",
    "    df['label']=df.epoch.astype(str)+'-'+df.step.astype(str) # Add label column for plotting\n",
    "    df_list.append(df)\n",
    "\n",
    "for i,df in enumerate(df_list):\n",
    "    df1=df.add_suffix('_'+str(i))\n",
    "    # renaming the columns to be joined on\n",
    "    keys=['epoch','step','img_type','label']\n",
    "    rename_cols_dict={key+'_'+str(i):key for key in keys}\n",
    "#     print(rename_cols_dict)\n",
    "    df1.rename(columns=rename_cols_dict,inplace=True) \n",
    "    df_list[i]=df1\n",
    "    \n",
    "df_merged=reduce(lambda x, y : pd.merge(x, y, on = ['step','epoch','img_type','label']), df_list)\n",
    "\n",
    "### Get sum of all 4 classes for 3 types of chi-squares\n",
    "for chi_type in ['chi_1','chi_spec1','chi_1b']:\n",
    "    keys=[chi_type+'_'+str(label) for label in labels_lst]\n",
    "#     display(df_merged[keys].sum(axis=1))\n",
    "    df_merged['sum_'+chi_type]=df_merged[keys].sum(axis=1)\n",
    "del df_list\n"
   ]
  },
  {
   "cell_type": "markdown",
   "metadata": {},
   "source": [
    "### Slice best steps"
   ]
  },
  {
   "cell_type": "code",
   "execution_count": 81,
   "metadata": {},
   "outputs": [],
   "source": [
    "def f_slice_merged_df(df,cutoff=0.2,sort_col='chi_1',col_mode='all',label='all',params_lst=[0,1,2],head=10,epoch_range=[0,None],use_sum=True,display_flag=False):\n",
    "    ''' View dataframe after slicing\n",
    "    '''\n",
    "\n",
    "    if epoch_range[1]==None: epoch_range[1]=df.max()['epoch']\n",
    "    df=df[(df.epoch<=epoch_range[1])&(df.epoch>=epoch_range[0])]\n",
    "\n",
    "    ######### Apply cutoff to keep reasonable chi1 and chispec1\n",
    "    #### Add chi-square columns to use\n",
    "    chi_cols=[]\n",
    "    if use_sum: ## Add sum chi-square columns\n",
    "        for j in ['chi_1','chi_spec1','chi_1b']: chi_cols.append('sum_'+j)\n",
    "        \n",
    "    if label=='all': ### Add chi-squares for all labels\n",
    "        for j in ['chi_1','chi_spec1','chi_1b']:\n",
    "            for idx,i in enumerate(params_lst): chi_cols.append(j+'_'+str(idx))\n",
    "    else: ## Add chi-square for specific label\n",
    "        assert label in params_lst, \"label %s is not in %s\"%(label,params_lst)\n",
    "        label_idx=params_lst.index(label)\n",
    "        print(label_idx)\n",
    "        for j in ['chi_1','chi_spec1','chi_1b']: chi_cols.append(j+'_'+str(label_idx))\n",
    "#     print(chi_cols)\n",
    "    q_dict=dict(df_merged.quantile(q=cutoff,axis=0)[chi_cols])\n",
    "    # print(q_dict)\n",
    "    strg=['%s < %s'%(key,q_dict[key]) for key in chi_cols ]\n",
    "    query=\" & \".join(strg)\n",
    "    # print(query)\n",
    "    df=df.query(query)\n",
    "    \n",
    "    # Sort dataframe\n",
    "    df1=df[df.epoch>0].sort_values(by=sort_col)\n",
    "    chis=[i for i in df_merged.columns if 'chi' in i]\n",
    "    col_list=['label']+chis+['epoch','step']\n",
    "    if (col_mode=='short'): \n",
    "        col_list=['label']+[i for i in df_merged.columns if i.startswith('sum')]\n",
    "        col_list=['label']+chi_cols\n",
    "    df2=df1.head(head)[col_list]\n",
    "    \n",
    "    if display_flag: display(df2) # Display df\n",
    "    \n",
    "    return df2\n",
    "\n",
    "# f_slice_merged_df(df_merged,cutoff=0.3,sort_col='sum_chi_1',label=0.65,params_lst=[0.5,0.65,0.8,1.1],use_sum=True,head=2000,display_flag=False,epoch_range=[7,None])"
   ]
  },
  {
   "cell_type": "code",
   "execution_count": 82,
   "metadata": {},
   "outputs": [
    {
     "data": {
      "application/vnd.jupyter.widget-view+json": {
       "model_id": "1dfd8a83c41145cd93247c23a70c21f3",
       "version_major": 2,
       "version_minor": 0
      },
      "text/plain": [
       "interactive(children=(FloatSlider(value=0.3, description='cutoff', max=1.0, step=0.01), Dropdown(description='…"
      ]
     },
     "metadata": {},
     "output_type": "display_data"
    }
   ],
   "source": [
    "cols_to_sort=np.unique([i for i in df_merged.columns for j in ['chi_1_','chi_spec1_'] if ((i.startswith(j)) or (i.startswith('sum')))])\n",
    "\n",
    "w=interactive(f_slice_merged_df,df=fixed(df_merged),\n",
    "cutoff=widgets.FloatSlider(value=0.3, min=0, max=1.0, step=0.01), \n",
    "col_mode=['all','short'], display_flag=widgets.Checkbox(value=False),\n",
    "use_sum=widgets.Checkbox(value=True),\n",
    "label=ToggleButtons(options=['all']+sigma_lst), params_lst=fixed(sigma_lst),\n",
    "head=widgets.IntSlider(value=10,min=1,max=20,step=1),\n",
    "epoch_range=widgets.IntRangeSlider(value=[0,np.max(df.epoch.values)],min=0,max=np.max(df.epoch.values),step=1),\n",
    "sort_col=cols_to_sort\n",
    ")\n",
    "display(w)"
   ]
  },
  {
   "cell_type": "code",
   "execution_count": 83,
   "metadata": {},
   "outputs": [
    {
     "data": {
      "text/plain": [
       "[]"
      ]
     },
     "execution_count": 83,
     "metadata": {},
     "output_type": "execute_result"
    }
   ],
   "source": [
    "df_sliced=w.result\n",
    "[int(i.split('-')[1]) for i in df_sliced.label.values]\n",
    "\n",
    "# df_sliced"
   ]
  },
  {
   "cell_type": "code",
   "execution_count": 101,
   "metadata": {},
   "outputs": [
    {
     "name": "stdout",
     "output_type": "stream",
     "text": [
      "[32220 32640 32730 33080 34380 34400 34460 37810]\n"
     ]
    },
    {
     "data": {
      "text/plain": [
       "array([32220, 32640, 32730, 33080, 34380, 34400, 34460, 37810])"
      ]
     },
     "execution_count": 101,
     "metadata": {},
     "output_type": "execute_result"
    }
   ],
   "source": [
    "best_step=[]\n",
    "df_test=df_merged.copy()\n",
    "df_test=df_merged[(df_merged.epoch<5000)&(df_merged.epoch>50)]\n",
    "cut_off=1.0\n",
    "\n",
    "best_step.append(f_slice_merged_df(df_test,cutoff=cut_off,sort_col='sum_chi_1',label='all',use_sum=True,head=4,display_flag=False,epoch_range=[7,None],params_lst=sigma_lst).step.values)\n",
    "best_step.append(f_slice_merged_df(df_test,cutoff=cut_off,sort_col='sum_chi_spec1',label='all',use_sum=True,head=4,display_flag=False,epoch_range=[7,None],params_lst=sigma_lst).step.values)\n",
    "best_step.append(f_slice_merged_df(df_test,cutoff=cut_off,sort_col='sum_chi_1b',label='all',use_sum=True,head=2,display_flag=False,epoch_range=[7,None],params_lst=sigma_lst).step.values)\n",
    "\n",
    "# best_step.append([46669,34281])\n",
    "best_step=np.unique([i for j in best_step for i in j])\n",
    "print(best_step)\n",
    "best_step"
   ]
  },
  {
   "cell_type": "code",
   "execution_count": 102,
   "metadata": {},
   "outputs": [],
   "source": [
    "# best_step=[6176]\n",
    "# best_step= [23985,24570,25155,25740,26325,26910,27495]\n",
    "# best_step=[int(i.split('-')[1]) for i in df_sliced.label.values]\n",
    "# best_step=np.arange(40130,40135).astype(int)"
   ]
  },
  {
   "cell_type": "code",
   "execution_count": 103,
   "metadata": {
    "tags": []
   },
   "outputs": [
    {
     "name": "stdout",
     "output_type": "stream",
     "text": [
      "(8, 61)\n",
      "[(55, 32220), (55, 32640), (55, 32730), (56, 33080), (58, 34380), (58, 34400), (58, 34460), (64, 37810)]\n"
     ]
    }
   ],
   "source": [
    "df_best=df_merged[df_merged.step.isin(best_step)]\n",
    "print(df_best.shape)\n",
    "print([(df_best[df_best.step==step].epoch.values[0],df_best[df_best.step==step].step.values[0]) for step in best_step])\n",
    "# print([(df_best.loc[idx].epoch,df_best.loc[idx].step) for idx in best_idx])"
   ]
  },
  {
   "cell_type": "code",
   "execution_count": 104,
   "metadata": {},
   "outputs": [
    {
     "data": {
      "text/html": [
       "<div>\n",
       "<style scoped>\n",
       "    .dataframe tbody tr th:only-of-type {\n",
       "        vertical-align: middle;\n",
       "    }\n",
       "\n",
       "    .dataframe tbody tr th {\n",
       "        vertical-align: top;\n",
       "    }\n",
       "\n",
       "    .dataframe thead th {\n",
       "        text-align: right;\n",
       "    }\n",
       "</style>\n",
       "<table border=\"1\" class=\"dataframe\">\n",
       "  <thead>\n",
       "    <tr style=\"text-align: right;\">\n",
       "      <th></th>\n",
       "      <th>label</th>\n",
       "      <th>sum_chi_1</th>\n",
       "      <th>sum_chi_spec1</th>\n",
       "      <th>sum_chi_1b</th>\n",
       "    </tr>\n",
       "  </thead>\n",
       "  <tbody>\n",
       "    <tr>\n",
       "      <th>3221</th>\n",
       "      <td>55-32220</td>\n",
       "      <td>0.771336</td>\n",
       "      <td>1.126871</td>\n",
       "      <td>0.687382</td>\n",
       "    </tr>\n",
       "    <tr>\n",
       "      <th>3263</th>\n",
       "      <td>55-32640</td>\n",
       "      <td>0.688749</td>\n",
       "      <td>1.400893</td>\n",
       "      <td>0.547141</td>\n",
       "    </tr>\n",
       "    <tr>\n",
       "      <th>3272</th>\n",
       "      <td>55-32730</td>\n",
       "      <td>0.553809</td>\n",
       "      <td>1.545479</td>\n",
       "      <td>0.478267</td>\n",
       "    </tr>\n",
       "    <tr>\n",
       "      <th>3307</th>\n",
       "      <td>56-33080</td>\n",
       "      <td>0.710590</td>\n",
       "      <td>1.557728</td>\n",
       "      <td>0.608751</td>\n",
       "    </tr>\n",
       "    <tr>\n",
       "      <th>3437</th>\n",
       "      <td>58-34380</td>\n",
       "      <td>2.024703</td>\n",
       "      <td>0.794535</td>\n",
       "      <td>1.893098</td>\n",
       "    </tr>\n",
       "    <tr>\n",
       "      <th>3439</th>\n",
       "      <td>58-34400</td>\n",
       "      <td>2.833897</td>\n",
       "      <td>0.800463</td>\n",
       "      <td>2.655702</td>\n",
       "    </tr>\n",
       "    <tr>\n",
       "      <th>3445</th>\n",
       "      <td>58-34460</td>\n",
       "      <td>3.070578</td>\n",
       "      <td>0.810841</td>\n",
       "      <td>2.931690</td>\n",
       "    </tr>\n",
       "    <tr>\n",
       "      <th>3780</th>\n",
       "      <td>64-37810</td>\n",
       "      <td>1.381727</td>\n",
       "      <td>0.800364</td>\n",
       "      <td>1.306743</td>\n",
       "    </tr>\n",
       "  </tbody>\n",
       "</table>\n",
       "</div>"
      ],
      "text/plain": [
       "         label  sum_chi_1  sum_chi_spec1  sum_chi_1b\n",
       "3221  55-32220   0.771336       1.126871    0.687382\n",
       "3263  55-32640   0.688749       1.400893    0.547141\n",
       "3272  55-32730   0.553809       1.545479    0.478267\n",
       "3307  56-33080   0.710590       1.557728    0.608751\n",
       "3437  58-34380   2.024703       0.794535    1.893098\n",
       "3439  58-34400   2.833897       0.800463    2.655702\n",
       "3445  58-34460   3.070578       0.810841    2.931690\n",
       "3780  64-37810   1.381727       0.800364    1.306743"
      ]
     },
     "execution_count": 104,
     "metadata": {},
     "output_type": "execute_result"
    }
   ],
   "source": [
    "col_list=['label']+[i for i in df_merged.columns if i.startswith('sum')]\n",
    "df_best[col_list]"
   ]
  },
  {
   "cell_type": "markdown",
   "metadata": {},
   "source": [
    "### Interactive plot"
   ]
  },
  {
   "cell_type": "code",
   "execution_count": 105,
   "metadata": {
    "jupyter": {
     "source_hidden": true
    },
    "tags": []
   },
   "outputs": [],
   "source": [
    "\n",
    "def f_plot_hist_spec(df,param_labels,sigma_lst,steps_list,bkg_dict,plot_type,img_size):\n",
    "\n",
    "    assert plot_type in ['hist','spec','grid','spec_relative'],\"Invalid mode %s\"%(plot_type)\n",
    "\n",
    "    if plot_type in ['hist','spec','spec_relative']:     fig=plt.figure(figsize=(6,6))\n",
    "    for par_label in param_labels:\n",
    "        df=df[df.step.isin(steps_list)]\n",
    "#         print(df.shape)\n",
    "        idx=sigma_lst.index(par_label)\n",
    "        suffix='_%s'%(idx)\n",
    "        dict_bkg=bkg_dict[str(par_label)]\n",
    "        \n",
    "        for (i,row),marker in zip(df.iterrows(),itertools.cycle('>^*sDHPdpx_')):\n",
    "            label=row.label+'_'+str(par_label)\n",
    "            if plot_type=='hist':\n",
    "                x1=row['hist_bin_centers'+suffix]\n",
    "                y1=row['hist_val'+suffix]\n",
    "                yerr1=row['hist_err'+suffix]\n",
    "                x1=f_invtransform(x1)\n",
    "                \n",
    "                plt.errorbar(x1,y1,yerr1,marker=marker,markersize=5,linestyle='',label=label)\n",
    "            if plot_type=='spec':\n",
    "                y2=row['spec_val'+suffix]\n",
    "                yerr2=row['spec_sdev'+suffix]/np.sqrt(row['num_imgs'+suffix])\n",
    "                x2=np.arange(len(y2))\n",
    "\n",
    "                plt.fill_between(x2, y2 - yerr2, y2 + yerr2, alpha=0.4)\n",
    "                plt.plot(x2, y2, marker=marker, linestyle=':',label=label)\n",
    "\n",
    "            if plot_type=='spec_relative':\n",
    "\n",
    "                y2=row['spec_val'+suffix]\n",
    "                yerr2=row['spec_sdev'+suffix]\n",
    "                x2=np.arange(len(y2))\n",
    "\n",
    "                ### Reference spectrum\n",
    "                y1,yerr1=dict_bkg['spec_val'],dict_bkg['spec_sdev']\n",
    "                y=y2/y1\n",
    "                ## Variance is sum of variance of both variables, since they are uncorrelated\n",
    "\n",
    "                # delta_r= |r| * sqrt(delta_a/a)^2 +(\\delta_b/b)^2) / \\sqrt(N)\n",
    "                yerr=(np.abs(y))*np.sqrt((yerr1/y1)**2+(yerr2/y2)**2)/np.sqrt(row['num_imgs'+suffix])\n",
    "                \n",
    "                plt.fill_between(x2, y - yerr, y + yerr, alpha=0.4)\n",
    "                plt.plot(x2, y, marker=marker, linestyle=':',label=label)\n",
    "\n",
    "            if plot_type=='grid':\n",
    "                images=np.load(row['fname'+suffix])[:,0,:,:,0]\n",
    "                print(images.shape)\n",
    "                f_plot_grid(images[:8],cols=4,fig_size=(8,4))\n",
    "            \n",
    "        ### Plot reference data\n",
    "        if plot_type=='hist':\n",
    "            x,y,yerr=dict_bkg['hist_bin_centers'],dict_bkg['hist_val'],dict_bkg['hist_err']\n",
    "            x=f_invtransform(x)\n",
    "            plt.errorbar(x, y,yerr,color='k',linestyle='-',label='bkgnd')   \n",
    "            plt.title('Pixel Intensity Histogram')\n",
    "            plt.xscale('symlog',linthreshx=50)\n",
    "        \n",
    "        if plot_type=='spec':\n",
    "            y,yerr=dict_bkg['spec_val'],dict_bkg['spec_sdev']/np.sqrt(num_bkgnd)\n",
    "            x=np.arange(len(y))\n",
    "            plt.fill_between(x, y - yerr, y + yerr, color='k',alpha=0.8)\n",
    "            plt.title('Spectrum')\n",
    "            plt.xlim(0,img_size/2)\n",
    "\n",
    "        if plot_type=='spec_relative':\n",
    "            plt.axhline(y=1.0,color='k',linestyle='-.')\n",
    "            plt.title(\"Relative spectrum\")\n",
    "            plt.xlim(0,img_size/2)\n",
    "            plt.ylim(0.5,2)\n",
    "\n",
    "    if plot_type in ['hist','spec']:     \n",
    "        plt.yscale('log')\n",
    "    plt.legend(bbox_to_anchor=(0.3, 0.75),ncol=2, fancybox=True, shadow=True,prop={'size':6})\n",
    "\n",
    "\n",
    "# f_plot_hist_spec(df_merged,[sigma_lst[-1]],sigma_lst,[best_step[0]],bkgnd_dict,'hist')"
   ]
  },
  {
   "cell_type": "code",
   "execution_count": 106,
   "metadata": {},
   "outputs": [
    {
     "data": {
      "application/vnd.jupyter.widget-view+json": {
       "model_id": "7d59d6c4b61748e9bf0e0dd3bcd16caf",
       "version_major": 2,
       "version_minor": 0
      },
      "text/plain": [
       "interactive(children=(SelectMultiple(description='param_labels', options=('0.5', '0.8', '1.1'), value=()), Sel…"
      ]
     },
     "metadata": {},
     "output_type": "display_data"
    },
    {
     "data": {
      "text/plain": [
       "<function __main__.f_plot_hist_spec(df, param_labels, sigma_lst, steps_list, bkg_dict, plot_type, img_size)>"
      ]
     },
     "execution_count": 106,
     "metadata": {},
     "output_type": "execute_result"
    }
   ],
   "source": [
    "interact_manual(f_plot_hist_spec,df=fixed(df_best),\n",
    "                param_labels=SelectMultiple(options=sigma_lst),sigma_lst=fixed(sigma_lst),\n",
    "                steps_list=SelectMultiple(options=df_best.step.values),\n",
    "                img_size=fixed(img_size),\n",
    "                bkg_dict=fixed(bkgnd_dict),plot_type=ToggleButtons(options=['hist','spec','grid','spec_relative']))"
   ]
  },
  {
   "cell_type": "code",
   "execution_count": 65,
   "metadata": {},
   "outputs": [
    {
     "data": {
      "text/plain": [
       "array([30180, 32110, 32530, 32540, 32590, 32600, 32940, 33380])"
      ]
     },
     "execution_count": 65,
     "metadata": {},
     "output_type": "execute_result"
    }
   ],
   "source": [
    "best_step"
   ]
  },
  {
   "cell_type": "code",
   "execution_count": null,
   "metadata": {},
   "outputs": [],
   "source": []
  },
  {
   "cell_type": "code",
   "execution_count": null,
   "metadata": {},
   "outputs": [],
   "source": [
    "sigma=0.5\n",
    "fname='/global/cfs/cdirs/m3363/vayyar/cosmogan_data/raw_data/3d_data/dataset2a_3dcgan_4univs_64cube_simple_splicing/norm_1_sig_{0}_train_val.npy'.format(sigma)\n",
    "a1=np.load(fname,mmap_mode='r')[-100:]\n",
    "a1.shape\n",
    "\n",
    "images=a1[:,0,:,:,0]\n",
    "f_plot_grid(images[:8],cols=4,fig_size=(8,4))\n"
   ]
  },
  {
   "cell_type": "markdown",
   "metadata": {},
   "source": [
    "### Delete unwanted stored models\n",
    "(Since deterministic runs aren't working well )"
   ]
  },
  {
   "cell_type": "code",
   "execution_count": null,
   "metadata": {},
   "outputs": [],
   "source": [
    "# # fldr='/global/cfs/cdirs/m3363/vayyar/cosmogan_data/results_from_other_code/pytorch/results/128sq/20210119_134802_cgan_predict_0.65_m2/models'\n",
    "# fldr=result_dir\n",
    "# print(fldr)\n",
    "# flist=glob.glob(fldr+'/models/checkpoint_*.tar')\n",
    "# len(flist)"
   ]
  },
  {
   "cell_type": "code",
   "execution_count": null,
   "metadata": {},
   "outputs": [],
   "source": [
    "# # Delete unwanted stored images\n",
    "# for i in flist:\n",
    "#     try:\n",
    "#         step=int(i.split('/')[-1].split('_')[-1].split('.')[0])\n",
    "#         if step not in best_step:\n",
    "# #             print(\"Found\")\n",
    "# #             print(step)\n",
    "#             os.remove(i)\n",
    "#             pass\n",
    "#         else: \n",
    "#             print(step)\n",
    "# #             print(i)\n",
    "#     except Exception as e:\n",
    "# #         print(e)\n",
    "# #         print(i)\n",
    "#         pass"
   ]
  },
  {
   "cell_type": "code",
   "execution_count": null,
   "metadata": {},
   "outputs": [],
   "source": [
    "best_step"
   ]
  },
  {
   "cell_type": "code",
   "execution_count": null,
   "metadata": {},
   "outputs": [],
   "source": [
    "# ! du -hs  /global/cfs/cdirs/m3363/vayyar/cosmogan_data/raw_data/3d_data/dataset2a_3dcgan_4univs_64cube_simple_splicing/norm_1_sig_0.5_train_val.npy"
   ]
  },
  {
   "cell_type": "code",
   "execution_count": null,
   "metadata": {},
   "outputs": [],
   "source": []
  }
 ],
 "metadata": {
  "kernelspec": {
   "display_name": "v3",
   "language": "python",
   "name": "v-jpt-3"
  },
  "language_info": {
   "codemirror_mode": {
    "name": "ipython",
    "version": 3
   },
   "file_extension": ".py",
   "mimetype": "text/x-python",
   "name": "python",
   "nbconvert_exporter": "python",
   "pygments_lexer": "ipython3",
   "version": "3.8.6"
  }
 },
 "nbformat": 4,
 "nbformat_minor": 4
}

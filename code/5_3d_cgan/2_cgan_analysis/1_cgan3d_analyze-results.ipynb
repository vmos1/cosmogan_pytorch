{
 "cells": [
  {
   "cell_type": "markdown",
   "metadata": {},
   "source": [
    "# Analyze results for 3D CGAN\n",
    "Feb 22, 2021"
   ]
  },
  {
   "cell_type": "code",
   "execution_count": 1,
   "metadata": {},
   "outputs": [],
   "source": [
    "import     numpy as np\n",
    "import matplotlib.pyplot as plt\n",
    "import pandas as pd\n",
    "\n",
    "import subprocess as sp\n",
    "import sys\n",
    "import os\n",
    "import glob\n",
    "import pickle \n",
    "\n",
    "from matplotlib.colors import LogNorm, PowerNorm, Normalize\n",
    "import seaborn as sns\n",
    "from functools import reduce"
   ]
  },
  {
   "cell_type": "code",
   "execution_count": 2,
   "metadata": {},
   "outputs": [],
   "source": [
    "from ipywidgets import *"
   ]
  },
  {
   "cell_type": "code",
   "execution_count": 3,
   "metadata": {},
   "outputs": [],
   "source": [
    "%matplotlib widget"
   ]
  },
  {
   "cell_type": "code",
   "execution_count": 4,
   "metadata": {},
   "outputs": [],
   "source": [
    "sys.path.append('/global/u1/v/vpa/project/jpt_notebooks/Cosmology/Cosmo_GAN/repositories/cosmogan_pytorch/code/modules_image_analysis/')\n",
    "from modules_img_analysis import *"
   ]
  },
  {
   "cell_type": "code",
   "execution_count": 5,
   "metadata": {},
   "outputs": [],
   "source": [
    "sys.path.append('/global/u1/v/vpa/project/jpt_notebooks/Cosmology/Cosmo_GAN/repositories/cosmogan_pytorch/code/5_3d_cgan/1_main_code/')\n",
    "import post_analysis_pandas as post\n"
   ]
  },
  {
   "cell_type": "code",
   "execution_count": 6,
   "metadata": {},
   "outputs": [],
   "source": [
    "### Transformation functions for image pixel values\n",
    "def f_transform(x):\n",
    "    return 2.*x/(x + 4.) - 1.\n",
    "\n",
    "def f_invtransform(s):\n",
    "    return 4.*(1. + s)/(1. - s)\n"
   ]
  },
  {
   "cell_type": "markdown",
   "metadata": {},
   "source": [
    "### Read validation data"
   ]
  },
  {
   "cell_type": "code",
   "execution_count": 7,
   "metadata": {},
   "outputs": [
    {
     "name": "stdout",
     "output_type": "stream",
     "text": [
      "/global/cfs/cdirs/m3363/vayyar/cosmogan_data/raw_data/3d_data/dataset2a_3dcgan_4univs_64cube_simple_splicing/norm_1_sig_0.5_train_val.npy\n",
      "/global/cfs/cdirs/m3363/vayyar/cosmogan_data/raw_data/3d_data/dataset2a_3dcgan_4univs_64cube_simple_splicing/norm_1_sig_0.65_train_val.npy\n",
      "/global/cfs/cdirs/m3363/vayyar/cosmogan_data/raw_data/3d_data/dataset2a_3dcgan_4univs_64cube_simple_splicing/norm_1_sig_0.8_train_val.npy\n",
      "/global/cfs/cdirs/m3363/vayyar/cosmogan_data/raw_data/3d_data/dataset2a_3dcgan_4univs_64cube_simple_splicing/norm_1_sig_1.1_train_val.npy\n"
     ]
    }
   ],
   "source": [
    "# bins=np.concatenate([np.array([-0.5]),np.arange(0.5,20.5,1),np.arange(20.5,100.5,5),np.arange(100.5,1000.5,50),np.array([2000])]) #bin edges to use\n",
    "bins=np.concatenate([np.array([-0.5]),np.arange(0.5,100.5,5),np.arange(100.5,300.5,20),np.arange(300.5,1000.5,50),np.array([2000])]) #bin edges to use\n",
    "\n",
    "bins=f_transform(bins)   ### scale to (-1,1)\n",
    "# ### Extract validation data\n",
    "sigma_lst=[0.5,0.65,0.8,1.1]\n",
    "labels_lst=range(len(sigma_lst))\n",
    "bkgnd_dict={}\n",
    "num_bkgnd=200\n",
    "\n",
    "for label in labels_lst:\n",
    "    fname='/global/cfs/cdirs/m3363/vayyar/cosmogan_data/raw_data/3d_data/dataset2a_3dcgan_4univs_64cube_simple_splicing/norm_1_sig_{0}_train_val.npy'.format(sigma_lst[label])\n",
    "    print(fname)\n",
    "    samples=np.load(fname,mmap_mode='r')[-num_bkgnd:][:,0,:,:]\n",
    "    \n",
    "    dict_val=post.f_compute_hist_spect(samples,bins)\n",
    "    bkgnd_dict[str(sigma_lst[label])]=dict_val\n",
    "    del samples"
   ]
  },
  {
   "cell_type": "markdown",
   "metadata": {},
   "source": [
    "## Read data"
   ]
  },
  {
   "cell_type": "code",
   "execution_count": 8,
   "metadata": {},
   "outputs": [],
   "source": [
    "# main_dir='/global/cfs/cdirs/m3363/vayyar/cosmogan_data/results_from_other_code/pytorch/results/128sq/'\n",
    "# results_dir=main_dir+'20201002_064327'"
   ]
  },
  {
   "cell_type": "code",
   "execution_count": 9,
   "metadata": {},
   "outputs": [],
   "source": [
    "dict1={'64':'/global/cfs/cdirs/m3363/vayyar/cosmogan_data/results_from_other_code/pytorch/results/3d_cGAN/',\n",
    "      '512':'/global/cfs/cdirs/m3363/vayyar/cosmogan_data/results_from_other_code/pytorch/results/3d_cGAN/'}\n",
    "\n",
    "u=interactive(lambda x: dict1[x], x=Select(options=dict1.keys()))\n",
    "# display(u)\n"
   ]
  },
  {
   "cell_type": "code",
   "execution_count": 111,
   "metadata": {},
   "outputs": [
    {
     "data": {
      "application/vnd.jupyter.widget-view+json": {
       "model_id": "32b07d6af2da413f977056218922a075",
       "version_major": 2,
       "version_minor": 0
      },
      "text/plain": [
       "interactive(children=(Dropdown(description='x', options=('20210602_112153_cgan_bs32_nodes8_lrd-4x-lrg_cori', '…"
      ]
     },
     "metadata": {},
     "output_type": "display_data"
    }
   ],
   "source": [
    "# parent_dir=u.result\n",
    "img_size=64\n",
    "parent_dir=dict1[str(img_size)]\n",
    "dir_lst=[i.split('/')[-1] for i in glob.glob(parent_dir+'202106*')]\n",
    "n=interactive(lambda x: x, x=Dropdown(options=dir_lst))\n",
    "display(n)"
   ]
  },
  {
   "cell_type": "code",
   "execution_count": 93,
   "metadata": {},
   "outputs": [
    {
     "name": "stdout",
     "output_type": "stream",
     "text": [
      "/global/cfs/cdirs/m3363/vayyar/cosmogan_data/results_from_other_code/pytorch/results/3d_cGAN/20210612_53501_cgan_bs32_nodes8_lr0.00005_flip0.04\n"
     ]
    }
   ],
   "source": [
    "result=n.result\n",
    "result_dir=parent_dir+result\n",
    "print(result_dir)"
   ]
  },
  {
   "cell_type": "markdown",
   "metadata": {},
   "source": [
    "## Plot Losses"
   ]
  },
  {
   "cell_type": "code",
   "execution_count": 94,
   "metadata": {},
   "outputs": [],
   "source": [
    "df_metrics=pd.read_pickle(result_dir+'/df_metrics.pkle').astype(np.float64)\n"
   ]
  },
  {
   "cell_type": "code",
   "execution_count": 95,
   "metadata": {},
   "outputs": [
    {
     "data": {
      "text/html": [
       "<div>\n",
       "<style scoped>\n",
       "    .dataframe tbody tr th:only-of-type {\n",
       "        vertical-align: middle;\n",
       "    }\n",
       "\n",
       "    .dataframe tbody tr th {\n",
       "        vertical-align: top;\n",
       "    }\n",
       "\n",
       "    .dataframe thead th {\n",
       "        text-align: right;\n",
       "    }\n",
       "</style>\n",
       "<table border=\"1\" class=\"dataframe\">\n",
       "  <thead>\n",
       "    <tr style=\"text-align: right;\">\n",
       "      <th></th>\n",
       "      <th>step</th>\n",
       "      <th>epoch</th>\n",
       "      <th>Dreal</th>\n",
       "      <th>Dfake</th>\n",
       "      <th>Dfull</th>\n",
       "      <th>G_adv</th>\n",
       "      <th>G_full</th>\n",
       "      <th>spec_loss</th>\n",
       "      <th>hist_loss</th>\n",
       "      <th>spec_chi</th>\n",
       "      <th>hist_chi</th>\n",
       "      <th>gp_loss</th>\n",
       "      <th>fm_loss</th>\n",
       "      <th>D(x)</th>\n",
       "      <th>D_G_z1</th>\n",
       "      <th>D_G_z2</th>\n",
       "      <th>time</th>\n",
       "      <th>lr_d</th>\n",
       "      <th>lr_g</th>\n",
       "    </tr>\n",
       "  </thead>\n",
       "  <tbody>\n",
       "    <tr>\n",
       "      <th>43671</th>\n",
       "      <td>43671.0</td>\n",
       "      <td>111.0</td>\n",
       "      <td>0.318829</td>\n",
       "      <td>0.303009</td>\n",
       "      <td>0.621838</td>\n",
       "      <td>3.519458</td>\n",
       "      <td>14.040463</td>\n",
       "      <td>10.521006</td>\n",
       "      <td>-1.106989</td>\n",
       "      <td>10.972569</td>\n",
       "      <td>-0.752909</td>\n",
       "      <td>NaN</td>\n",
       "      <td>NaN</td>\n",
       "      <td>3.334220</td>\n",
       "      <td>-1.630826</td>\n",
       "      <td>-3.488183</td>\n",
       "      <td>0.816336</td>\n",
       "      <td>0.00005</td>\n",
       "      <td>0.00005</td>\n",
       "    </tr>\n",
       "    <tr>\n",
       "      <th>43672</th>\n",
       "      <td>43672.0</td>\n",
       "      <td>111.0</td>\n",
       "      <td>0.263595</td>\n",
       "      <td>0.242448</td>\n",
       "      <td>0.506043</td>\n",
       "      <td>2.379697</td>\n",
       "      <td>13.261274</td>\n",
       "      <td>10.881577</td>\n",
       "      <td>-0.962934</td>\n",
       "      <td>10.866310</td>\n",
       "      <td>-0.333487</td>\n",
       "      <td>NaN</td>\n",
       "      <td>NaN</td>\n",
       "      <td>2.392757</td>\n",
       "      <td>-3.149477</td>\n",
       "      <td>-2.272293</td>\n",
       "      <td>0.816177</td>\n",
       "      <td>0.00005</td>\n",
       "      <td>0.00005</td>\n",
       "    </tr>\n",
       "    <tr>\n",
       "      <th>43673</th>\n",
       "      <td>43673.0</td>\n",
       "      <td>111.0</td>\n",
       "      <td>0.228147</td>\n",
       "      <td>0.302792</td>\n",
       "      <td>0.530939</td>\n",
       "      <td>3.484014</td>\n",
       "      <td>14.474964</td>\n",
       "      <td>10.990951</td>\n",
       "      <td>-1.102265</td>\n",
       "      <td>10.711983</td>\n",
       "      <td>-1.960234</td>\n",
       "      <td>NaN</td>\n",
       "      <td>NaN</td>\n",
       "      <td>3.221458</td>\n",
       "      <td>-1.679749</td>\n",
       "      <td>-3.449893</td>\n",
       "      <td>0.823886</td>\n",
       "      <td>0.00005</td>\n",
       "      <td>0.00005</td>\n",
       "    </tr>\n",
       "    <tr>\n",
       "      <th>43674</th>\n",
       "      <td>43674.0</td>\n",
       "      <td>111.0</td>\n",
       "      <td>0.333146</td>\n",
       "      <td>0.246364</td>\n",
       "      <td>0.579510</td>\n",
       "      <td>2.374342</td>\n",
       "      <td>13.360243</td>\n",
       "      <td>10.985901</td>\n",
       "      <td>-1.053504</td>\n",
       "      <td>10.659225</td>\n",
       "      <td>-0.697895</td>\n",
       "      <td>NaN</td>\n",
       "      <td>NaN</td>\n",
       "      <td>1.647095</td>\n",
       "      <td>-2.920045</td>\n",
       "      <td>-2.274472</td>\n",
       "      <td>0.825847</td>\n",
       "      <td>0.00005</td>\n",
       "      <td>0.00005</td>\n",
       "    </tr>\n",
       "    <tr>\n",
       "      <th>43675</th>\n",
       "      <td>43675.0</td>\n",
       "      <td>111.0</td>\n",
       "      <td>0.247850</td>\n",
       "      <td>0.371873</td>\n",
       "      <td>0.619723</td>\n",
       "      <td>2.963512</td>\n",
       "      <td>13.826906</td>\n",
       "      <td>10.863395</td>\n",
       "      <td>-0.897421</td>\n",
       "      <td>10.818029</td>\n",
       "      <td>-1.245132</td>\n",
       "      <td>NaN</td>\n",
       "      <td>NaN</td>\n",
       "      <td>2.822947</td>\n",
       "      <td>-0.980948</td>\n",
       "      <td>-2.909804</td>\n",
       "      <td>1.231663</td>\n",
       "      <td>0.00005</td>\n",
       "      <td>0.00005</td>\n",
       "    </tr>\n",
       "    <tr>\n",
       "      <th>43676</th>\n",
       "      <td>43676.0</td>\n",
       "      <td>111.0</td>\n",
       "      <td>0.241592</td>\n",
       "      <td>0.236062</td>\n",
       "      <td>0.477654</td>\n",
       "      <td>3.865725</td>\n",
       "      <td>14.507313</td>\n",
       "      <td>10.641588</td>\n",
       "      <td>-0.859987</td>\n",
       "      <td>10.836946</td>\n",
       "      <td>-0.640455</td>\n",
       "      <td>NaN</td>\n",
       "      <td>NaN</td>\n",
       "      <td>2.550183</td>\n",
       "      <td>-2.602520</td>\n",
       "      <td>-3.832752</td>\n",
       "      <td>0.828683</td>\n",
       "      <td>0.00005</td>\n",
       "      <td>0.00005</td>\n",
       "    </tr>\n",
       "    <tr>\n",
       "      <th>43677</th>\n",
       "      <td>43677.0</td>\n",
       "      <td>111.0</td>\n",
       "      <td>0.222268</td>\n",
       "      <td>0.193150</td>\n",
       "      <td>0.415418</td>\n",
       "      <td>2.724044</td>\n",
       "      <td>13.489674</td>\n",
       "      <td>10.765630</td>\n",
       "      <td>-0.865307</td>\n",
       "      <td>10.629910</td>\n",
       "      <td>-1.554411</td>\n",
       "      <td>NaN</td>\n",
       "      <td>NaN</td>\n",
       "      <td>2.296212</td>\n",
       "      <td>-3.065671</td>\n",
       "      <td>-2.537486</td>\n",
       "      <td>0.814426</td>\n",
       "      <td>0.00005</td>\n",
       "      <td>0.00005</td>\n",
       "    </tr>\n",
       "    <tr>\n",
       "      <th>43678</th>\n",
       "      <td>43678.0</td>\n",
       "      <td>111.0</td>\n",
       "      <td>0.281605</td>\n",
       "      <td>0.371361</td>\n",
       "      <td>0.652965</td>\n",
       "      <td>3.486801</td>\n",
       "      <td>14.348454</td>\n",
       "      <td>10.861653</td>\n",
       "      <td>-1.200452</td>\n",
       "      <td>10.765371</td>\n",
       "      <td>-0.385043</td>\n",
       "      <td>NaN</td>\n",
       "      <td>NaN</td>\n",
       "      <td>3.395519</td>\n",
       "      <td>-1.556582</td>\n",
       "      <td>-3.417605</td>\n",
       "      <td>0.817196</td>\n",
       "      <td>0.00005</td>\n",
       "      <td>0.00005</td>\n",
       "    </tr>\n",
       "    <tr>\n",
       "      <th>43679</th>\n",
       "      <td>43679.0</td>\n",
       "      <td>111.0</td>\n",
       "      <td>0.272899</td>\n",
       "      <td>0.402497</td>\n",
       "      <td>0.675396</td>\n",
       "      <td>4.895792</td>\n",
       "      <td>15.260708</td>\n",
       "      <td>10.364916</td>\n",
       "      <td>-0.518926</td>\n",
       "      <td>10.742283</td>\n",
       "      <td>-1.552619</td>\n",
       "      <td>NaN</td>\n",
       "      <td>NaN</td>\n",
       "      <td>2.732631</td>\n",
       "      <td>-2.403809</td>\n",
       "      <td>-4.886451</td>\n",
       "      <td>0.819530</td>\n",
       "      <td>0.00005</td>\n",
       "      <td>0.00005</td>\n",
       "    </tr>\n",
       "    <tr>\n",
       "      <th>43680</th>\n",
       "      <td>NaN</td>\n",
       "      <td>NaN</td>\n",
       "      <td>NaN</td>\n",
       "      <td>NaN</td>\n",
       "      <td>NaN</td>\n",
       "      <td>NaN</td>\n",
       "      <td>NaN</td>\n",
       "      <td>NaN</td>\n",
       "      <td>NaN</td>\n",
       "      <td>10.943514</td>\n",
       "      <td>0.594371</td>\n",
       "      <td>NaN</td>\n",
       "      <td>NaN</td>\n",
       "      <td>NaN</td>\n",
       "      <td>NaN</td>\n",
       "      <td>NaN</td>\n",
       "      <td>NaN</td>\n",
       "      <td>NaN</td>\n",
       "      <td>NaN</td>\n",
       "    </tr>\n",
       "  </tbody>\n",
       "</table>\n",
       "</div>"
      ],
      "text/plain": [
       "          step  epoch     Dreal     Dfake     Dfull     G_adv     G_full  \\\n",
       "43671  43671.0  111.0  0.318829  0.303009  0.621838  3.519458  14.040463   \n",
       "43672  43672.0  111.0  0.263595  0.242448  0.506043  2.379697  13.261274   \n",
       "43673  43673.0  111.0  0.228147  0.302792  0.530939  3.484014  14.474964   \n",
       "43674  43674.0  111.0  0.333146  0.246364  0.579510  2.374342  13.360243   \n",
       "43675  43675.0  111.0  0.247850  0.371873  0.619723  2.963512  13.826906   \n",
       "43676  43676.0  111.0  0.241592  0.236062  0.477654  3.865725  14.507313   \n",
       "43677  43677.0  111.0  0.222268  0.193150  0.415418  2.724044  13.489674   \n",
       "43678  43678.0  111.0  0.281605  0.371361  0.652965  3.486801  14.348454   \n",
       "43679  43679.0  111.0  0.272899  0.402497  0.675396  4.895792  15.260708   \n",
       "43680      NaN    NaN       NaN       NaN       NaN       NaN        NaN   \n",
       "\n",
       "       spec_loss  hist_loss   spec_chi  hist_chi  gp_loss  fm_loss      D(x)  \\\n",
       "43671  10.521006  -1.106989  10.972569 -0.752909      NaN      NaN  3.334220   \n",
       "43672  10.881577  -0.962934  10.866310 -0.333487      NaN      NaN  2.392757   \n",
       "43673  10.990951  -1.102265  10.711983 -1.960234      NaN      NaN  3.221458   \n",
       "43674  10.985901  -1.053504  10.659225 -0.697895      NaN      NaN  1.647095   \n",
       "43675  10.863395  -0.897421  10.818029 -1.245132      NaN      NaN  2.822947   \n",
       "43676  10.641588  -0.859987  10.836946 -0.640455      NaN      NaN  2.550183   \n",
       "43677  10.765630  -0.865307  10.629910 -1.554411      NaN      NaN  2.296212   \n",
       "43678  10.861653  -1.200452  10.765371 -0.385043      NaN      NaN  3.395519   \n",
       "43679  10.364916  -0.518926  10.742283 -1.552619      NaN      NaN  2.732631   \n",
       "43680        NaN        NaN  10.943514  0.594371      NaN      NaN       NaN   \n",
       "\n",
       "         D_G_z1    D_G_z2      time     lr_d     lr_g  \n",
       "43671 -1.630826 -3.488183  0.816336  0.00005  0.00005  \n",
       "43672 -3.149477 -2.272293  0.816177  0.00005  0.00005  \n",
       "43673 -1.679749 -3.449893  0.823886  0.00005  0.00005  \n",
       "43674 -2.920045 -2.274472  0.825847  0.00005  0.00005  \n",
       "43675 -0.980948 -2.909804  1.231663  0.00005  0.00005  \n",
       "43676 -2.602520 -3.832752  0.828683  0.00005  0.00005  \n",
       "43677 -3.065671 -2.537486  0.814426  0.00005  0.00005  \n",
       "43678 -1.556582 -3.417605  0.817196  0.00005  0.00005  \n",
       "43679 -2.403809 -4.886451  0.819530  0.00005  0.00005  \n",
       "43680       NaN       NaN       NaN      NaN      NaN  "
      ]
     },
     "execution_count": 95,
     "metadata": {},
     "output_type": "execute_result"
    }
   ],
   "source": [
    "df_metrics.tail(10)"
   ]
  },
  {
   "cell_type": "code",
   "execution_count": 96,
   "metadata": {},
   "outputs": [
    {
     "data": {
      "application/vnd.jupyter.widget-view+json": {
       "model_id": "baac478f60024a92b029f5a65d19660c",
       "version_major": 2,
       "version_minor": 0
      },
      "text/plain": [
       "interactive(children=(SelectMultiple(description='col_list', options=('step', 'epoch', 'Dreal', 'Dfake', 'Dful…"
      ]
     },
     "metadata": {},
     "output_type": "display_data"
    },
    {
     "data": {
      "text/plain": [
       "<function __main__.f_plot_metrics(df, col_list)>"
      ]
     },
     "execution_count": 96,
     "metadata": {},
     "output_type": "execute_result"
    }
   ],
   "source": [
    "def f_plot_metrics(df,col_list):\n",
    "    \n",
    "    plt.figure()\n",
    "    for key in col_list:\n",
    "        plt.plot(df_metrics[key],label=key,marker='*',linestyle='')\n",
    "    plt.legend()\n",
    "    \n",
    "#     col_list=list(col_list)\n",
    "#     df.plot(kind='line',x='step',y=col_list)\n",
    "    \n",
    "# f_plot_metrics(df_metrics,['spec_chi','hist_chi'])\n",
    "\n",
    "interact_manual(f_plot_metrics,df=fixed(df_metrics), col_list=SelectMultiple(options=df_metrics.columns.values))"
   ]
  },
  {
   "cell_type": "code",
   "execution_count": 97,
   "metadata": {},
   "outputs": [
    {
     "name": "stdout",
     "output_type": "stream",
     "text": [
      "-1.673356294631958\n"
     ]
    },
    {
     "data": {
      "text/html": [
       "<div>\n",
       "<style scoped>\n",
       "    .dataframe tbody tr th:only-of-type {\n",
       "        vertical-align: middle;\n",
       "    }\n",
       "\n",
       "    .dataframe tbody tr th {\n",
       "        vertical-align: top;\n",
       "    }\n",
       "\n",
       "    .dataframe thead th {\n",
       "        text-align: right;\n",
       "    }\n",
       "</style>\n",
       "<table border=\"1\" class=\"dataframe\">\n",
       "  <thead>\n",
       "    <tr style=\"text-align: right;\">\n",
       "      <th></th>\n",
       "      <th>step</th>\n",
       "      <th>epoch</th>\n",
       "      <th>Dreal</th>\n",
       "      <th>Dfake</th>\n",
       "      <th>Dfull</th>\n",
       "      <th>G_adv</th>\n",
       "      <th>G_full</th>\n",
       "      <th>spec_loss</th>\n",
       "      <th>hist_loss</th>\n",
       "      <th>spec_chi</th>\n",
       "      <th>hist_chi</th>\n",
       "      <th>gp_loss</th>\n",
       "      <th>fm_loss</th>\n",
       "      <th>D(x)</th>\n",
       "      <th>D_G_z1</th>\n",
       "      <th>D_G_z2</th>\n",
       "      <th>time</th>\n",
       "      <th>lr_d</th>\n",
       "      <th>lr_g</th>\n",
       "    </tr>\n",
       "  </thead>\n",
       "  <tbody>\n",
       "    <tr>\n",
       "      <th>41771</th>\n",
       "      <td>41771.0</td>\n",
       "      <td>107.0</td>\n",
       "      <td>0.220692</td>\n",
       "      <td>0.253266</td>\n",
       "      <td>0.473957</td>\n",
       "      <td>3.006192</td>\n",
       "      <td>13.817712</td>\n",
       "      <td>10.811520</td>\n",
       "      <td>-1.627646</td>\n",
       "      <td>10.986653</td>\n",
       "      <td>-2.592528</td>\n",
       "      <td>NaN</td>\n",
       "      <td>NaN</td>\n",
       "      <td>2.381757</td>\n",
       "      <td>-3.725949</td>\n",
       "      <td>-2.952429</td>\n",
       "      <td>0.808542</td>\n",
       "      <td>0.00005</td>\n",
       "      <td>0.00005</td>\n",
       "    </tr>\n",
       "    <tr>\n",
       "      <th>35955</th>\n",
       "      <td>35955.0</td>\n",
       "      <td>92.0</td>\n",
       "      <td>0.248095</td>\n",
       "      <td>0.239929</td>\n",
       "      <td>0.488024</td>\n",
       "      <td>3.421347</td>\n",
       "      <td>14.069175</td>\n",
       "      <td>10.647828</td>\n",
       "      <td>-2.000538</td>\n",
       "      <td>10.894821</td>\n",
       "      <td>-2.576934</td>\n",
       "      <td>NaN</td>\n",
       "      <td>NaN</td>\n",
       "      <td>3.053997</td>\n",
       "      <td>-2.429219</td>\n",
       "      <td>-3.378518</td>\n",
       "      <td>0.810100</td>\n",
       "      <td>0.00005</td>\n",
       "      <td>0.00005</td>\n",
       "    </tr>\n",
       "    <tr>\n",
       "      <th>42754</th>\n",
       "      <td>42754.0</td>\n",
       "      <td>109.0</td>\n",
       "      <td>0.250487</td>\n",
       "      <td>0.263809</td>\n",
       "      <td>0.514296</td>\n",
       "      <td>1.814631</td>\n",
       "      <td>12.750223</td>\n",
       "      <td>10.935592</td>\n",
       "      <td>-2.161186</td>\n",
       "      <td>10.836419</td>\n",
       "      <td>-2.564394</td>\n",
       "      <td>NaN</td>\n",
       "      <td>NaN</td>\n",
       "      <td>2.912495</td>\n",
       "      <td>-4.098901</td>\n",
       "      <td>-1.624334</td>\n",
       "      <td>0.812428</td>\n",
       "      <td>0.00005</td>\n",
       "      <td>0.00005</td>\n",
       "    </tr>\n",
       "    <tr>\n",
       "      <th>33882</th>\n",
       "      <td>33882.0</td>\n",
       "      <td>86.0</td>\n",
       "      <td>0.255042</td>\n",
       "      <td>0.258456</td>\n",
       "      <td>0.513498</td>\n",
       "      <td>3.443581</td>\n",
       "      <td>14.464773</td>\n",
       "      <td>11.021193</td>\n",
       "      <td>-1.908682</td>\n",
       "      <td>10.885277</td>\n",
       "      <td>-2.554000</td>\n",
       "      <td>NaN</td>\n",
       "      <td>NaN</td>\n",
       "      <td>2.010169</td>\n",
       "      <td>-2.482928</td>\n",
       "      <td>-3.408261</td>\n",
       "      <td>0.810578</td>\n",
       "      <td>0.00005</td>\n",
       "      <td>0.00005</td>\n",
       "    </tr>\n",
       "    <tr>\n",
       "      <th>41837</th>\n",
       "      <td>41837.0</td>\n",
       "      <td>107.0</td>\n",
       "      <td>0.251898</td>\n",
       "      <td>0.345496</td>\n",
       "      <td>0.597394</td>\n",
       "      <td>3.759007</td>\n",
       "      <td>14.733820</td>\n",
       "      <td>10.974813</td>\n",
       "      <td>-2.278311</td>\n",
       "      <td>10.921285</td>\n",
       "      <td>-2.553401</td>\n",
       "      <td>NaN</td>\n",
       "      <td>NaN</td>\n",
       "      <td>3.486486</td>\n",
       "      <td>-1.158022</td>\n",
       "      <td>-3.734771</td>\n",
       "      <td>0.810116</td>\n",
       "      <td>0.00005</td>\n",
       "      <td>0.00005</td>\n",
       "    </tr>\n",
       "    <tr>\n",
       "      <th>41704</th>\n",
       "      <td>41704.0</td>\n",
       "      <td>106.0</td>\n",
       "      <td>0.210241</td>\n",
       "      <td>0.270424</td>\n",
       "      <td>0.480666</td>\n",
       "      <td>3.345160</td>\n",
       "      <td>14.344476</td>\n",
       "      <td>10.999315</td>\n",
       "      <td>-2.555598</td>\n",
       "      <td>10.878332</td>\n",
       "      <td>-2.536507</td>\n",
       "      <td>NaN</td>\n",
       "      <td>NaN</td>\n",
       "      <td>2.602914</td>\n",
       "      <td>-2.638203</td>\n",
       "      <td>-3.302731</td>\n",
       "      <td>0.820801</td>\n",
       "      <td>0.00005</td>\n",
       "      <td>0.00005</td>\n",
       "    </tr>\n",
       "    <tr>\n",
       "      <th>39484</th>\n",
       "      <td>39484.0</td>\n",
       "      <td>101.0</td>\n",
       "      <td>0.224994</td>\n",
       "      <td>0.232713</td>\n",
       "      <td>0.457707</td>\n",
       "      <td>4.800020</td>\n",
       "      <td>15.653059</td>\n",
       "      <td>10.853039</td>\n",
       "      <td>-1.915586</td>\n",
       "      <td>10.947978</td>\n",
       "      <td>-2.526517</td>\n",
       "      <td>NaN</td>\n",
       "      <td>NaN</td>\n",
       "      <td>3.407122</td>\n",
       "      <td>-2.190091</td>\n",
       "      <td>-4.791103</td>\n",
       "      <td>0.819979</td>\n",
       "      <td>0.00005</td>\n",
       "      <td>0.00005</td>\n",
       "    </tr>\n",
       "    <tr>\n",
       "      <th>42195</th>\n",
       "      <td>42195.0</td>\n",
       "      <td>108.0</td>\n",
       "      <td>0.267216</td>\n",
       "      <td>0.298859</td>\n",
       "      <td>0.566075</td>\n",
       "      <td>3.583951</td>\n",
       "      <td>14.448964</td>\n",
       "      <td>10.865013</td>\n",
       "      <td>-2.348733</td>\n",
       "      <td>10.971653</td>\n",
       "      <td>-2.516841</td>\n",
       "      <td>NaN</td>\n",
       "      <td>NaN</td>\n",
       "      <td>3.494272</td>\n",
       "      <td>-2.187831</td>\n",
       "      <td>-3.544945</td>\n",
       "      <td>0.811680</td>\n",
       "      <td>0.00005</td>\n",
       "      <td>0.00005</td>\n",
       "    </tr>\n",
       "    <tr>\n",
       "      <th>35970</th>\n",
       "      <td>35970.0</td>\n",
       "      <td>92.0</td>\n",
       "      <td>0.250923</td>\n",
       "      <td>0.569374</td>\n",
       "      <td>0.820297</td>\n",
       "      <td>3.418886</td>\n",
       "      <td>14.251717</td>\n",
       "      <td>10.832830</td>\n",
       "      <td>-1.697180</td>\n",
       "      <td>10.947025</td>\n",
       "      <td>-2.516136</td>\n",
       "      <td>NaN</td>\n",
       "      <td>NaN</td>\n",
       "      <td>3.701435</td>\n",
       "      <td>-0.697213</td>\n",
       "      <td>-3.383328</td>\n",
       "      <td>0.812885</td>\n",
       "      <td>0.00005</td>\n",
       "      <td>0.00005</td>\n",
       "    </tr>\n",
       "    <tr>\n",
       "      <th>32068</th>\n",
       "      <td>32068.0</td>\n",
       "      <td>82.0</td>\n",
       "      <td>0.286375</td>\n",
       "      <td>0.225300</td>\n",
       "      <td>0.511675</td>\n",
       "      <td>1.303991</td>\n",
       "      <td>12.131109</td>\n",
       "      <td>10.827119</td>\n",
       "      <td>-2.180778</td>\n",
       "      <td>10.948125</td>\n",
       "      <td>-2.503262</td>\n",
       "      <td>NaN</td>\n",
       "      <td>NaN</td>\n",
       "      <td>2.677010</td>\n",
       "      <td>-3.070865</td>\n",
       "      <td>-0.974098</td>\n",
       "      <td>0.815901</td>\n",
       "      <td>0.00005</td>\n",
       "      <td>0.00005</td>\n",
       "    </tr>\n",
       "  </tbody>\n",
       "</table>\n",
       "</div>"
      ],
      "text/plain": [
       "          step  epoch     Dreal     Dfake     Dfull     G_adv     G_full  \\\n",
       "41771  41771.0  107.0  0.220692  0.253266  0.473957  3.006192  13.817712   \n",
       "35955  35955.0   92.0  0.248095  0.239929  0.488024  3.421347  14.069175   \n",
       "42754  42754.0  109.0  0.250487  0.263809  0.514296  1.814631  12.750223   \n",
       "33882  33882.0   86.0  0.255042  0.258456  0.513498  3.443581  14.464773   \n",
       "41837  41837.0  107.0  0.251898  0.345496  0.597394  3.759007  14.733820   \n",
       "41704  41704.0  106.0  0.210241  0.270424  0.480666  3.345160  14.344476   \n",
       "39484  39484.0  101.0  0.224994  0.232713  0.457707  4.800020  15.653059   \n",
       "42195  42195.0  108.0  0.267216  0.298859  0.566075  3.583951  14.448964   \n",
       "35970  35970.0   92.0  0.250923  0.569374  0.820297  3.418886  14.251717   \n",
       "32068  32068.0   82.0  0.286375  0.225300  0.511675  1.303991  12.131109   \n",
       "\n",
       "       spec_loss  hist_loss   spec_chi  hist_chi  gp_loss  fm_loss      D(x)  \\\n",
       "41771  10.811520  -1.627646  10.986653 -2.592528      NaN      NaN  2.381757   \n",
       "35955  10.647828  -2.000538  10.894821 -2.576934      NaN      NaN  3.053997   \n",
       "42754  10.935592  -2.161186  10.836419 -2.564394      NaN      NaN  2.912495   \n",
       "33882  11.021193  -1.908682  10.885277 -2.554000      NaN      NaN  2.010169   \n",
       "41837  10.974813  -2.278311  10.921285 -2.553401      NaN      NaN  3.486486   \n",
       "41704  10.999315  -2.555598  10.878332 -2.536507      NaN      NaN  2.602914   \n",
       "39484  10.853039  -1.915586  10.947978 -2.526517      NaN      NaN  3.407122   \n",
       "42195  10.865013  -2.348733  10.971653 -2.516841      NaN      NaN  3.494272   \n",
       "35970  10.832830  -1.697180  10.947025 -2.516136      NaN      NaN  3.701435   \n",
       "32068  10.827119  -2.180778  10.948125 -2.503262      NaN      NaN  2.677010   \n",
       "\n",
       "         D_G_z1    D_G_z2      time     lr_d     lr_g  \n",
       "41771 -3.725949 -2.952429  0.808542  0.00005  0.00005  \n",
       "35955 -2.429219 -3.378518  0.810100  0.00005  0.00005  \n",
       "42754 -4.098901 -1.624334  0.812428  0.00005  0.00005  \n",
       "33882 -2.482928 -3.408261  0.810578  0.00005  0.00005  \n",
       "41837 -1.158022 -3.734771  0.810116  0.00005  0.00005  \n",
       "41704 -2.638203 -3.302731  0.820801  0.00005  0.00005  \n",
       "39484 -2.190091 -4.791103  0.819979  0.00005  0.00005  \n",
       "42195 -2.187831 -3.544945  0.811680  0.00005  0.00005  \n",
       "35970 -0.697213 -3.383328  0.812885  0.00005  0.00005  \n",
       "32068 -3.070865 -0.974098  0.815901  0.00005  0.00005  "
      ]
     },
     "execution_count": 97,
     "metadata": {},
     "output_type": "execute_result"
    }
   ],
   "source": [
    "\n",
    "chi=df_metrics.quantile(q=0.2,axis=0)['hist_chi']\n",
    "print(chi)\n",
    "df_metrics[(df_metrics['hist_chi']<=chi)&(df_metrics.epoch>1)].sort_values(by=['hist_chi']).head(10)"
   ]
  },
  {
   "cell_type": "code",
   "execution_count": 98,
   "metadata": {},
   "outputs": [],
   "source": [
    "# display(df_metrics.sort_values(by=['hist_chi']).head(8))\n",
    "# display(df_metrics.sort_values(by=['spec_chi']).head(8))"
   ]
  },
  {
   "cell_type": "markdown",
   "metadata": {},
   "source": [
    "<!-- ### Read validation data -->"
   ]
  },
  {
   "cell_type": "markdown",
   "metadata": {},
   "source": [
    "## Read stored chi-squares for images"
   ]
  },
  {
   "cell_type": "code",
   "execution_count": 99,
   "metadata": {},
   "outputs": [],
   "source": [
    "## Get sigma list from saved files\n",
    "flist=glob.glob(result_dir+'/df_processed*')\n",
    "sigma_lst=[i.split('/')[-1].split('df_processed_')[-1].split('.pkle')[0] for i in flist]\n",
    "sigma_lst.sort() ### Sorting is important for labels to match !!\n",
    "\n",
    "labels_lst=np.arange(len(sigma_lst))"
   ]
  },
  {
   "cell_type": "code",
   "execution_count": 100,
   "metadata": {},
   "outputs": [
    {
     "data": {
      "text/plain": [
       "(['0.5', '1.1'], array([0, 1]))"
      ]
     },
     "execution_count": 100,
     "metadata": {},
     "output_type": "execute_result"
    }
   ],
   "source": [
    "sigma_lst,labels_lst"
   ]
  },
  {
   "cell_type": "code",
   "execution_count": 101,
   "metadata": {
    "tags": []
   },
   "outputs": [],
   "source": [
    "### Create a merged dataframe\n",
    "\n",
    "df_list=[]\n",
    "for label in labels_lst:\n",
    "    df=pd.read_pickle(result_dir+'/df_processed_{0}.pkle'.format(str(sigma_lst[label])))\n",
    "    df[['epoch','step']]=df[['epoch','step']].astype(int)\n",
    "    df['label']=df.epoch.astype(str)+'-'+df.step.astype(str) # Add label column for plotting\n",
    "    df_list.append(df)\n",
    "\n",
    "for i,df in enumerate(df_list):\n",
    "    df1=df.add_suffix('_'+str(i))\n",
    "    # renaming the columns to be joined on\n",
    "    keys=['epoch','step','img_type','label']\n",
    "    rename_cols_dict={key+'_'+str(i):key for key in keys}\n",
    "#     print(rename_cols_dict)\n",
    "    df1.rename(columns=rename_cols_dict,inplace=True) \n",
    "    df_list[i]=df1\n",
    "    \n",
    "df_merged=reduce(lambda x, y : pd.merge(x, y, on = ['step','epoch','img_type','label']), df_list)\n",
    "\n",
    "### Get sum of all 4 classes for 3 types of chi-squares\n",
    "for chi_type in ['chi_1','chi_spec1','chi_1b']:\n",
    "    keys=[chi_type+'_'+str(label) for label in labels_lst]\n",
    "#     display(df_merged[keys].sum(axis=1))\n",
    "    df_merged['sum_'+chi_type]=df_merged[keys].sum(axis=1)\n",
    "del df_list\n"
   ]
  },
  {
   "cell_type": "markdown",
   "metadata": {},
   "source": [
    "### Slice best steps"
   ]
  },
  {
   "cell_type": "code",
   "execution_count": 102,
   "metadata": {},
   "outputs": [],
   "source": [
    "def f_slice_merged_df(df,cutoff=0.2,sort_col='chi_1',col_mode='all',label='all',params_lst=[0,1,2],head=10,epoch_range=[0,None],use_sum=True,display_flag=False):\n",
    "    ''' View dataframe after slicing\n",
    "    '''\n",
    "\n",
    "    if epoch_range[1]==None: epoch_range[1]=df.max()['epoch']\n",
    "    df=df[(df.epoch<=epoch_range[1])&(df.epoch>=epoch_range[0])]\n",
    "\n",
    "    ######### Apply cutoff to keep reasonable chi1 and chispec1\n",
    "    #### Add chi-square columns to use\n",
    "    chi_cols=[]\n",
    "    if use_sum: ## Add sum chi-square columns\n",
    "        for j in ['chi_1','chi_spec1','chi_1b']: chi_cols.append('sum_'+j)\n",
    "        \n",
    "    if label=='all': ### Add chi-squares for all labels\n",
    "        for j in ['chi_1','chi_spec1','chi_1b']:\n",
    "            for idx,i in enumerate(params_lst): chi_cols.append(j+'_'+str(idx))\n",
    "    else: ## Add chi-square for specific label\n",
    "        assert label in params_lst, \"label %s is not in %s\"%(label,params_lst)\n",
    "        label_idx=params_lst.index(label)\n",
    "        print(label_idx)\n",
    "        for j in ['chi_1','chi_spec1','chi_1b']: chi_cols.append(j+'_'+str(label_idx))\n",
    "#     print(chi_cols)\n",
    "    q_dict=dict(df_merged.quantile(q=cutoff,axis=0)[chi_cols])\n",
    "    # print(q_dict)\n",
    "    strg=['%s < %s'%(key,q_dict[key]) for key in chi_cols ]\n",
    "    query=\" & \".join(strg)\n",
    "    # print(query)\n",
    "    df=df.query(query)\n",
    "    \n",
    "    # Sort dataframe\n",
    "    df1=df[df.epoch>0].sort_values(by=sort_col)\n",
    "    chis=[i for i in df_merged.columns if 'chi' in i]\n",
    "    col_list=['label']+chis+['epoch','step']\n",
    "    if (col_mode=='short'): \n",
    "        col_list=['label']+[i for i in df_merged.columns if i.startswith('sum')]\n",
    "        col_list=['label']+chi_cols\n",
    "    df2=df1.head(head)[col_list]\n",
    "    \n",
    "    if display_flag: display(df2) # Display df\n",
    "    \n",
    "    return df2\n",
    "\n",
    "# f_slice_merged_df(df_merged,cutoff=0.3,sort_col='sum_chi_1',label=0.65,params_lst=[0.5,0.65,0.8,1.1],use_sum=True,head=2000,display_flag=False,epoch_range=[7,None])"
   ]
  },
  {
   "cell_type": "code",
   "execution_count": 103,
   "metadata": {},
   "outputs": [
    {
     "data": {
      "application/vnd.jupyter.widget-view+json": {
       "model_id": "1a16119930dc41b69168b7c554c7ca55",
       "version_major": 2,
       "version_minor": 0
      },
      "text/plain": [
       "interactive(children=(FloatSlider(value=0.3, description='cutoff', max=1.0, step=0.01), Dropdown(description='…"
      ]
     },
     "metadata": {},
     "output_type": "display_data"
    }
   ],
   "source": [
    "cols_to_sort=np.unique([i for i in df_merged.columns for j in ['chi_1_','chi_spec1_'] if ((i.startswith(j)) or (i.startswith('sum')))])\n",
    "\n",
    "w=interactive(f_slice_merged_df,df=fixed(df_merged),\n",
    "cutoff=widgets.FloatSlider(value=0.3, min=0, max=1.0, step=0.01), \n",
    "col_mode=['all','short'], display_flag=widgets.Checkbox(value=False),\n",
    "use_sum=widgets.Checkbox(value=True),\n",
    "label=ToggleButtons(options=['all']+sigma_lst), params_lst=fixed(sigma_lst),\n",
    "head=widgets.IntSlider(value=10,min=1,max=20,step=1),\n",
    "epoch_range=widgets.IntRangeSlider(value=[0,np.max(df.epoch.values)],min=0,max=np.max(df.epoch.values),step=1),\n",
    "sort_col=cols_to_sort\n",
    ")\n",
    "display(w)"
   ]
  },
  {
   "cell_type": "code",
   "execution_count": 104,
   "metadata": {},
   "outputs": [
    {
     "data": {
      "text/plain": [
       "[]"
      ]
     },
     "execution_count": 104,
     "metadata": {},
     "output_type": "execute_result"
    }
   ],
   "source": [
    "df_sliced=w.result\n",
    "[int(i.split('-')[1]) for i in df_sliced.label.values]\n",
    "\n",
    "# df_sliced"
   ]
  },
  {
   "cell_type": "code",
   "execution_count": 105,
   "metadata": {},
   "outputs": [
    {
     "name": "stdout",
     "output_type": "stream",
     "text": [
      "[14040 28070 34880 35690 36810 39040 39450 41020 41470 43970]\n"
     ]
    },
    {
     "data": {
      "text/plain": [
       "array([14040, 28070, 34880, 35690, 36810, 39040, 39450, 41020, 41470,\n",
       "       43970])"
      ]
     },
     "execution_count": 105,
     "metadata": {},
     "output_type": "execute_result"
    }
   ],
   "source": [
    "best_step=[]\n",
    "df_test=df_merged.copy()\n",
    "df_test=df_merged[(df_merged.epoch<5000)&(df_merged.epoch>30)]\n",
    "cut_off=1.0\n",
    "\n",
    "best_step.append(f_slice_merged_df(df_test,cutoff=cut_off,sort_col='sum_chi_1',label='all',use_sum=True,head=4,display_flag=False,epoch_range=[7,None],params_lst=sigma_lst).step.values)\n",
    "best_step.append(f_slice_merged_df(df_test,cutoff=cut_off,sort_col='sum_chi_spec1',label='all',use_sum=True,head=4,display_flag=False,epoch_range=[7,None],params_lst=sigma_lst).step.values)\n",
    "best_step.append(f_slice_merged_df(df_test,cutoff=cut_off,sort_col='sum_chi_1b',label='all',use_sum=True,head=2,display_flag=False,epoch_range=[7,None],params_lst=sigma_lst).step.values)\n",
    "\n",
    "# best_step.append([46669,34281])\n",
    "best_step=np.unique([i for j in best_step for i in j])\n",
    "print(best_step)\n",
    "best_step"
   ]
  },
  {
   "cell_type": "code",
   "execution_count": 106,
   "metadata": {},
   "outputs": [],
   "source": [
    "# best_step=[6176]\n",
    "# best_step= [32300, 35810, 36020, 37030, 38640, 42480, 43850]\n",
    "# best_step=[int(i.split('-')[1]) for i in df_sliced.label.values]\n",
    "# best_step=np.arange(40130,40135).astype(int)"
   ]
  },
  {
   "cell_type": "code",
   "execution_count": 107,
   "metadata": {},
   "outputs": [
    {
     "name": "stdout",
     "output_type": "stream",
     "text": [
      "(10, 43)\n",
      "[(35, 14040), (71, 28070), (89, 34880), (91, 35690), (94, 36810), (100, 39040), (101, 39450), (105, 41020), (106, 41470), (112, 43970)]\n"
     ]
    }
   ],
   "source": [
    "df_best=df_merged[df_merged.step.isin(best_step)]\n",
    "print(df_best.shape)\n",
    "print([(df_best[df_best.step==step].epoch.values[0],df_best[df_best.step==step].step.values[0]) for step in best_step])\n",
    "# print([(df_best.loc[idx].epoch,df_best.loc[idx].step) for idx in best_idx])"
   ]
  },
  {
   "cell_type": "code",
   "execution_count": 108,
   "metadata": {},
   "outputs": [
    {
     "data": {
      "text/html": [
       "<div>\n",
       "<style scoped>\n",
       "    .dataframe tbody tr th:only-of-type {\n",
       "        vertical-align: middle;\n",
       "    }\n",
       "\n",
       "    .dataframe tbody tr th {\n",
       "        vertical-align: top;\n",
       "    }\n",
       "\n",
       "    .dataframe thead th {\n",
       "        text-align: right;\n",
       "    }\n",
       "</style>\n",
       "<table border=\"1\" class=\"dataframe\">\n",
       "  <thead>\n",
       "    <tr style=\"text-align: right;\">\n",
       "      <th></th>\n",
       "      <th>label</th>\n",
       "      <th>sum_chi_1</th>\n",
       "      <th>sum_chi_spec1</th>\n",
       "      <th>sum_chi_1b</th>\n",
       "    </tr>\n",
       "  </thead>\n",
       "  <tbody>\n",
       "    <tr>\n",
       "      <th>1403</th>\n",
       "      <td>35-14040</td>\n",
       "      <td>0.073865</td>\n",
       "      <td>2.414076</td>\n",
       "      <td>0.020988</td>\n",
       "    </tr>\n",
       "    <tr>\n",
       "      <th>2806</th>\n",
       "      <td>71-28070</td>\n",
       "      <td>0.075867</td>\n",
       "      <td>2.781348</td>\n",
       "      <td>0.024204</td>\n",
       "    </tr>\n",
       "    <tr>\n",
       "      <th>3487</th>\n",
       "      <td>89-34880</td>\n",
       "      <td>0.171663</td>\n",
       "      <td>1.362446</td>\n",
       "      <td>0.062072</td>\n",
       "    </tr>\n",
       "    <tr>\n",
       "      <th>3568</th>\n",
       "      <td>91-35690</td>\n",
       "      <td>0.090440</td>\n",
       "      <td>2.150512</td>\n",
       "      <td>0.014484</td>\n",
       "    </tr>\n",
       "    <tr>\n",
       "      <th>3680</th>\n",
       "      <td>94-36810</td>\n",
       "      <td>0.066127</td>\n",
       "      <td>3.502750</td>\n",
       "      <td>0.024625</td>\n",
       "    </tr>\n",
       "    <tr>\n",
       "      <th>3903</th>\n",
       "      <td>100-39040</td>\n",
       "      <td>0.468794</td>\n",
       "      <td>1.466319</td>\n",
       "      <td>0.137633</td>\n",
       "    </tr>\n",
       "    <tr>\n",
       "      <th>3944</th>\n",
       "      <td>101-39450</td>\n",
       "      <td>0.091779</td>\n",
       "      <td>2.215426</td>\n",
       "      <td>0.015781</td>\n",
       "    </tr>\n",
       "    <tr>\n",
       "      <th>4101</th>\n",
       "      <td>105-41020</td>\n",
       "      <td>0.074136</td>\n",
       "      <td>2.920079</td>\n",
       "      <td>0.017712</td>\n",
       "    </tr>\n",
       "    <tr>\n",
       "      <th>4146</th>\n",
       "      <td>106-41470</td>\n",
       "      <td>0.157583</td>\n",
       "      <td>1.583374</td>\n",
       "      <td>0.065543</td>\n",
       "    </tr>\n",
       "    <tr>\n",
       "      <th>4396</th>\n",
       "      <td>112-43970</td>\n",
       "      <td>0.218502</td>\n",
       "      <td>1.642082</td>\n",
       "      <td>0.024023</td>\n",
       "    </tr>\n",
       "  </tbody>\n",
       "</table>\n",
       "</div>"
      ],
      "text/plain": [
       "          label  sum_chi_1  sum_chi_spec1  sum_chi_1b\n",
       "1403   35-14040   0.073865       2.414076    0.020988\n",
       "2806   71-28070   0.075867       2.781348    0.024204\n",
       "3487   89-34880   0.171663       1.362446    0.062072\n",
       "3568   91-35690   0.090440       2.150512    0.014484\n",
       "3680   94-36810   0.066127       3.502750    0.024625\n",
       "3903  100-39040   0.468794       1.466319    0.137633\n",
       "3944  101-39450   0.091779       2.215426    0.015781\n",
       "4101  105-41020   0.074136       2.920079    0.017712\n",
       "4146  106-41470   0.157583       1.583374    0.065543\n",
       "4396  112-43970   0.218502       1.642082    0.024023"
      ]
     },
     "execution_count": 108,
     "metadata": {},
     "output_type": "execute_result"
    }
   ],
   "source": [
    "col_list=['label']+[i for i in df_merged.columns if i.startswith('sum')]\n",
    "df_best[col_list]"
   ]
  },
  {
   "cell_type": "markdown",
   "metadata": {},
   "source": [
    "### Interactive plot"
   ]
  },
  {
   "cell_type": "code",
   "execution_count": 109,
   "metadata": {
    "jupyter": {
     "source_hidden": true
    },
    "tags": []
   },
   "outputs": [],
   "source": [
    "\n",
    "def f_plot_hist_spec(df,param_labels,sigma_lst,steps_list,bkg_dict,plot_type,img_size):\n",
    "\n",
    "    assert plot_type in ['hist','spec','grid','spec_relative'],\"Invalid mode %s\"%(plot_type)\n",
    "\n",
    "    if plot_type in ['hist','spec','spec_relative']:     fig=plt.figure(figsize=(6,6))\n",
    "    for par_label in param_labels:\n",
    "        df=df[df.step.isin(steps_list)]\n",
    "#         print(df.shape)\n",
    "        idx=sigma_lst.index(par_label)\n",
    "        suffix='_%s'%(idx)\n",
    "        dict_bkg=bkg_dict[str(par_label)]\n",
    "        \n",
    "        for (i,row),marker in zip(df.iterrows(),itertools.cycle('>^*sDHPdpx_')):\n",
    "            label=row.label+'_'+str(par_label)\n",
    "            if plot_type=='hist':\n",
    "                x1=row['hist_bin_centers'+suffix]\n",
    "                y1=row['hist_val'+suffix]\n",
    "                yerr1=row['hist_err'+suffix]\n",
    "                x1=f_invtransform(x1)\n",
    "                \n",
    "                plt.errorbar(x1,y1,yerr1,marker=marker,markersize=5,linestyle='',label=label)\n",
    "            if plot_type=='spec':\n",
    "                y2=row['spec_val'+suffix]\n",
    "                yerr2=row['spec_sdev'+suffix]/np.sqrt(row['num_imgs'+suffix])\n",
    "                x2=np.arange(len(y2))\n",
    "\n",
    "                plt.fill_between(x2, y2 - yerr2, y2 + yerr2, alpha=0.4)\n",
    "                plt.plot(x2, y2, marker=marker, linestyle=':',label=label)\n",
    "\n",
    "            if plot_type=='spec_relative':\n",
    "\n",
    "                y2=row['spec_val'+suffix]\n",
    "                yerr2=row['spec_sdev'+suffix]\n",
    "                x2=np.arange(len(y2))\n",
    "\n",
    "                ### Reference spectrum\n",
    "                y1,yerr1=dict_bkg['spec_val'],dict_bkg['spec_sdev']\n",
    "                y=y2/y1\n",
    "                ## Variance is sum of variance of both variables, since they are uncorrelated\n",
    "\n",
    "                # delta_r= |r| * sqrt(delta_a/a)^2 +(\\delta_b/b)^2) / \\sqrt(N)\n",
    "                yerr=(np.abs(y))*np.sqrt((yerr1/y1)**2+(yerr2/y2)**2)/np.sqrt(row['num_imgs'+suffix])\n",
    "                \n",
    "                plt.fill_between(x2, y - yerr, y + yerr, alpha=0.4)\n",
    "                plt.plot(x2, y, marker=marker, linestyle=':',label=label)\n",
    "\n",
    "            if plot_type=='grid':\n",
    "                images=np.load(row['fname'+suffix])[:,0,:,:,0]\n",
    "                print(images.shape)\n",
    "                f_plot_grid(images[:8],cols=4,fig_size=(8,4))\n",
    "            \n",
    "        ### Plot reference data\n",
    "        if plot_type=='hist':\n",
    "            x,y,yerr=dict_bkg['hist_bin_centers'],dict_bkg['hist_val'],dict_bkg['hist_err']\n",
    "            x=f_invtransform(x)\n",
    "            plt.errorbar(x, y,yerr,color='k',linestyle='-',label='bkgnd')   \n",
    "            plt.title('Pixel Intensity Histogram')\n",
    "            plt.xscale('symlog',linthreshx=50)\n",
    "        \n",
    "        if plot_type=='spec':\n",
    "            y,yerr=dict_bkg['spec_val'],dict_bkg['spec_sdev']/np.sqrt(num_bkgnd)\n",
    "            x=np.arange(len(y))\n",
    "            plt.fill_between(x, y - yerr, y + yerr, color='k',alpha=0.8)\n",
    "            plt.title('Spectrum')\n",
    "            plt.xlim(0,img_size/2)\n",
    "\n",
    "        if plot_type=='spec_relative':\n",
    "            plt.axhline(y=1.0,color='k',linestyle='-.')\n",
    "            plt.title(\"Relative spectrum\")\n",
    "            plt.xlim(0,img_size/2)\n",
    "            plt.ylim(0.5,2)\n",
    "\n",
    "    if plot_type in ['hist','spec']:     \n",
    "        plt.yscale('log')\n",
    "    plt.legend(bbox_to_anchor=(0.3, 0.75),ncol=2, fancybox=True, shadow=True,prop={'size':6})\n",
    "\n",
    "\n",
    "# f_plot_hist_spec(df_merged,[sigma_lst[-1]],sigma_lst,[best_step[0]],bkgnd_dict,'hist')"
   ]
  },
  {
   "cell_type": "code",
   "execution_count": 110,
   "metadata": {},
   "outputs": [
    {
     "data": {
      "application/vnd.jupyter.widget-view+json": {
       "model_id": "715c5b5d65eb4af4a26e2215c5884fb3",
       "version_major": 2,
       "version_minor": 0
      },
      "text/plain": [
       "interactive(children=(SelectMultiple(description='param_labels', options=('0.5', '1.1'), value=()), SelectMult…"
      ]
     },
     "metadata": {},
     "output_type": "display_data"
    },
    {
     "data": {
      "text/plain": [
       "<function __main__.f_plot_hist_spec(df, param_labels, sigma_lst, steps_list, bkg_dict, plot_type, img_size)>"
      ]
     },
     "execution_count": 110,
     "metadata": {},
     "output_type": "execute_result"
    }
   ],
   "source": [
    "interact_manual(f_plot_hist_spec,df=fixed(df_merged),\n",
    "                param_labels=SelectMultiple(options=sigma_lst),sigma_lst=fixed(sigma_lst),\n",
    "                steps_list=SelectMultiple(options=best_step),\n",
    "                img_size=fixed(img_size),\n",
    "                bkg_dict=fixed(bkgnd_dict),plot_type=ToggleButtons(options=['hist','spec','grid','spec_relative']))"
   ]
  },
  {
   "cell_type": "code",
   "execution_count": null,
   "metadata": {},
   "outputs": [],
   "source": []
  },
  {
   "cell_type": "markdown",
   "metadata": {},
   "source": [
    "### Delete unwanted stored models\n",
    "(Since deterministic runs aren't working well )"
   ]
  },
  {
   "cell_type": "code",
   "execution_count": 68,
   "metadata": {},
   "outputs": [],
   "source": [
    "# # fldr='/global/cfs/cdirs/m3363/vayyar/cosmogan_data/results_from_other_code/pytorch/results/128sq/20210119_134802_cgan_predict_0.65_m2/models'\n",
    "# fldr=result_dir\n",
    "# print(fldr)\n",
    "# flist=glob.glob(fldr+'/models/checkpoint_*.tar')\n",
    "# len(flist)"
   ]
  },
  {
   "cell_type": "code",
   "execution_count": 69,
   "metadata": {},
   "outputs": [],
   "source": [
    "# # Delete unwanted stored images\n",
    "# for i in flist:\n",
    "#     try:\n",
    "#         step=int(i.split('/')[-1].split('_')[-1].split('.')[0])\n",
    "#         if step not in best_step:\n",
    "# #             print(\"Found\")\n",
    "# #             print(step)\n",
    "#             os.remove(i)\n",
    "#             pass\n",
    "#         else: \n",
    "#             print(step)\n",
    "# #             print(i)\n",
    "#     except Exception as e:\n",
    "# #         print(e)\n",
    "# #         print(i)\n",
    "#         pass"
   ]
  },
  {
   "cell_type": "code",
   "execution_count": 80,
   "metadata": {},
   "outputs": [
    {
     "data": {
      "text/plain": [
       "array([2380, 2470, 2480, 2490, 2760, 2870, 2880, 2930, 2950])"
      ]
     },
     "execution_count": 80,
     "metadata": {},
     "output_type": "execute_result"
    }
   ],
   "source": [
    "best_step"
   ]
  },
  {
   "cell_type": "code",
   "execution_count": 71,
   "metadata": {},
   "outputs": [],
   "source": [
    "# ! du -hs  /global/cfs/cdirs/m3363/vayyar/cosmogan_data/raw_data/3d_data/dataset2a_3dcgan_4univs_64cube_simple_splicing/norm_1_sig_0.5_train_val.npy"
   ]
  },
  {
   "cell_type": "code",
   "execution_count": null,
   "metadata": {},
   "outputs": [],
   "source": []
  }
 ],
 "metadata": {
  "kernelspec": {
   "display_name": "v3",
   "language": "python",
   "name": "v-jpt-3"
  },
  "language_info": {
   "codemirror_mode": {
    "name": "ipython",
    "version": 3
   },
   "file_extension": ".py",
   "mimetype": "text/x-python",
   "name": "python",
   "nbconvert_exporter": "python",
   "pygments_lexer": "ipython3",
   "version": "3.8.6"
  }
 },
 "nbformat": 4,
 "nbformat_minor": 4
}

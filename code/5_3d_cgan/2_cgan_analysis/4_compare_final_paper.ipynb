{
 "cells": [
  {
   "cell_type": "markdown",
   "metadata": {},
   "source": [
    "## Compare results for multiple results"
   ]
  },
  {
   "cell_type": "code",
   "execution_count": 1,
   "metadata": {},
   "outputs": [],
   "source": [
    "import numpy as np\n",
    "import matplotlib.pyplot as plt\n",
    "import seaborn as sns\n",
    "import pandas as pd\n",
    "\n",
    "import subprocess as sp\n",
    "import os\n",
    "import glob\n",
    "import sys\n",
    "\n",
    "import itertools\n",
    "import time\n",
    "\n",
    "from ipywidgets import *"
   ]
  },
  {
   "cell_type": "code",
   "execution_count": 2,
   "metadata": {},
   "outputs": [],
   "source": [
    "%matplotlib widget"
   ]
  },
  {
   "cell_type": "code",
   "execution_count": 3,
   "metadata": {},
   "outputs": [],
   "source": [
    "sys.path.append('/global/u1/v/vpa/project/jpt_notebooks/Cosmology/Cosmo_GAN/repositories/cosmogan_pytorch/code/modules_image_analysis/')\n",
    "from modules_img_analysis import *"
   ]
  },
  {
   "cell_type": "code",
   "execution_count": 4,
   "metadata": {},
   "outputs": [],
   "source": [
    "### Transformation functions for image pixel values\n",
    "def f_transform(x):\n",
    "    return 2.*x/(x + 4. + 1e-8) - 1.\n",
    "\n",
    "def f_invtransform(s):\n",
    "    return 4.*(1. + s)/(1. - s + 1e-8)"
   ]
  },
  {
   "cell_type": "code",
   "execution_count": 5,
   "metadata": {},
   "outputs": [],
   "source": [
    "def f_compute_hist_spect(sample,bins):\n",
    "    ''' Compute pixel intensity histograms and radial spectrum for 2D arrays\n",
    "    Input : Image arrays and bins\n",
    "    Output: dictionary with 5 arrays : Histogram values, errors and bin centers, Spectrum values and errors.\n",
    "    '''\n",
    "    ### Compute pixel histogram for row\n",
    "    gen_hist,gen_err,hist_bins=f_batch_histogram(sample,bins=bins,norm=True,hist_range=None)\n",
    "    ### Compute spectrum for row\n",
    "    spec,spec_sdev=f_plot_spectrum_3d(sample,plot=False)\n",
    "\n",
    "    dict1={'hist_val':gen_hist,'hist_err':gen_err,'hist_bin_centers':hist_bins,'spec_val':spec,'spec_sdev':spec_sdev }\n",
    "    return dict1\n",
    "\n",
    "\n",
    "def f_compute_chisqr(dict_val,dict_sample,img_size):\n",
    "    '''\n",
    "    Compute chi-square values for sample w.r.t input images\n",
    "    Input: 2 dictionaries with 4 keys for histogram and spectrum values and errors\n",
    "    '''\n",
    "    ### !!Both pixel histograms MUST have same bins and normalization!\n",
    "    ### Compute chi-sqr\n",
    "    ### Used in keras code : np.sum(np.divide(np.power(valhist - samphist, 2.0), valhist))\n",
    "    ###  chi_sqr :: sum((Obs-Val)^2/(Val))\n",
    "    \n",
    "    chisqr_dict={}\n",
    "    \n",
    "    try: \n",
    "        val_dr=dict_val['hist_val'].copy()\n",
    "        val_dr[val_dr<=0.]=1.0    ### Avoiding division by zero for zero bins\n",
    "\n",
    "        sq_diff=(dict_val['hist_val']-dict_sample['hist_val'])**2\n",
    "\n",
    "        size=len(dict_val['hist_val'])\n",
    "        l1,l2=int(size*0.3),int(size*0.7)\n",
    "        keys=['chi_1a','chi_1b','chi_1c','chi_1']\n",
    "        \n",
    "        for (key,start,end) in zip(keys,[0,l1,l2,0],[l1,l2,None,None]):  # 4 lists : small, medium, large pixel values and full \n",
    "            chisqr_dict.update({key:np.sum(np.divide(sq_diff[start:end],val_dr[start:end]))})\n",
    "\n",
    "        idx=None  # Choosing the number of histograms to use. Eg : -5 to skip last 5 bins\n",
    "    #     chisqr_dict.update({'chi_sqr1':})\n",
    "\n",
    "        chisqr_dict.update({'chi_2':np.sum(np.divide(sq_diff[:idx],1.0))}) ## chi-sqr without denominator division\n",
    "        chisqr_dict.update({'chi_imgvar':np.sum(dict_sample['hist_err'][:idx])/np.sum(dict_val['hist_err'][:idx])}) ## measures total spread in histograms wrt to input data\n",
    "\n",
    "        idx=img_size\n",
    "        spec_diff=(dict_val['spec_val']-dict_sample['spec_val'])**2\n",
    "        ### computing the spectral loss chi-square\n",
    "        chisqr_dict.update({'chi_spec1':np.sum(spec_diff[:idx]/dict_sample['spec_val'][:idx]**2)})\n",
    "\n",
    "        ### computing the spectral loss chi-square\n",
    "        chisqr_dict.update({'chi_spec2':np.sum(spec_diff[:idx]/dict_sample['spec_sdev'][:idx]**2)})\n",
    "        \n",
    "        spec_loss=1.0*np.log(np.mean((dict_val['spec_val'][:idx]-dict_sample['spec_val'][:idx])**2))+1.0*np.log(np.mean((dict_val['spec_sdev'][:idx]-dict_sample['spec_sdev'][:idx])**2))\n",
    "        chisqr_dict.update({'chi_spec3':spec_loss})\n",
    "    \n",
    "    except Exception as e: \n",
    "        print(e)\n",
    "        \n",
    "        keys=['chi_1a','chi_1b','chi_1c','chi_1','chi_2','chi_imgvar','chi_spec1','chi_spec2']\n",
    "        chisqr_dict=dict.fromkeys(keys,np.nan)\n",
    "        pass\n",
    "    \n",
    "    return chisqr_dict\n",
    "    "
   ]
  },
  {
   "cell_type": "code",
   "execution_count": 6,
   "metadata": {},
   "outputs": [],
   "source": [
    "# img_size=64\n",
    "img_size=128"
   ]
  },
  {
   "cell_type": "code",
   "execution_count": 7,
   "metadata": {},
   "outputs": [],
   "source": [
    "val_data_dict={'64':'/global/cfs/cdirs/m3363/vayyar/cosmogan_data/raw_data/3d_data/dataset2a_3dcgan_4univs_64cube_simple_splicing',\n",
    "              '128':'/global/cfs/cdirs/m3363/vayyar/cosmogan_data/raw_data/3d_data/dataset4_smoothing_4univ_cgan_varying_sigma_128cube'}"
   ]
  },
  {
   "cell_type": "code",
   "execution_count": 8,
   "metadata": {},
   "outputs": [
    {
     "name": "stdout",
     "output_type": "stream",
     "text": [
      "/global/cfs/cdirs/m3363/vayyar/cosmogan_data/raw_data/3d_data/dataset4_smoothing_4univ_cgan_varying_sigma_128cube/norm_1_sig_0.5_train_val.npy\n",
      "/global/cfs/cdirs/m3363/vayyar/cosmogan_data/raw_data/3d_data/dataset4_smoothing_4univ_cgan_varying_sigma_128cube/norm_1_sig_0.65_train_val.npy\n",
      "/global/cfs/cdirs/m3363/vayyar/cosmogan_data/raw_data/3d_data/dataset4_smoothing_4univ_cgan_varying_sigma_128cube/norm_1_sig_0.8_train_val.npy\n",
      "/global/cfs/cdirs/m3363/vayyar/cosmogan_data/raw_data/3d_data/dataset4_smoothing_4univ_cgan_varying_sigma_128cube/norm_1_sig_1.1_train_val.npy\n"
     ]
    }
   ],
   "source": [
    "### Read validation data\n",
    "# bins=np.concatenate([np.array([-0.5]),np.arange(0.5,20.5,1),np.arange(20.5,100.5,5),np.arange(100.5,1000.5,50),np.array([2000])]) #bin edges to use\n",
    "bins=np.concatenate([np.array([-0.5]),np.arange(0.5,100.5,5),np.arange(100.5,300.5,20),np.arange(300.5,1000.5,50),np.array([2000])]) #bin edges to use\n",
    "bins=f_transform(bins)   ### scale to (-1,1)\n",
    "\n",
    "bkgnd_dict={}\n",
    "num_bkgnd=100\n",
    "sigma_lst=[0.5,0.65,0.8,1.1]\n",
    "labels_lst=[0,1,2,3]\n",
    "### Extract validation data   \n",
    "for label in labels_lst:\n",
    "    fname=val_data_dict[str(img_size)]+'/norm_1_sig_{0}_train_val.npy'.format(sigma_lst[label])\n",
    "    print(fname)\n",
    "    samples=np.load(fname,mmap_mode='r')[-num_bkgnd:][:,0,:,:,:]\n",
    "    \n",
    "    dict_val=f_compute_hist_spect(samples,bins)\n",
    "    bkgnd_dict[str(sigma_lst[label])]=dict_val\n",
    "# del samples\n"
   ]
  },
  {
   "cell_type": "code",
   "execution_count": 9,
   "metadata": {},
   "outputs": [],
   "source": [
    "df_runs=pd.DataFrame([])"
   ]
  },
  {
   "cell_type": "code",
   "execution_count": null,
   "metadata": {},
   "outputs": [
    {
     "name": "stdout",
     "output_type": "stream",
     "text": [
      "/global/cfs/cdirs/m3363/vayyar/cosmogan_data/raw_data/3d_data/dataset4_smoothing_4univ_cgan_varying_sigma_128cube/norm_1_sig_0.5_train_val.npy\n"
     ]
    }
   ],
   "source": [
    "### bkgnd: Get bkgnd chi-squares for different sigma wrt one standard sigma \n",
    "lst=[0.5,0.65,0.8,1.1]\n",
    "param_label=0.65\n",
    "for count,run in enumerate(lst):\n",
    "    num=100\n",
    "    fname=val_data_dict[str(img_size)]+'/norm_1_sig_{0}_train_val.npy'.format(run)\n",
    "    print(fname)    \n",
    "    samples=np.load(fname,mmap_mode='r')[1000:1000+num][:,0,:,:,:]\n",
    "    dict1={'label':'ref_%s'%(run),'fname':''}\n",
    "    dict1['num_imgs']=num\n",
    "\n",
    "    ### Compute spectrum and histograms\n",
    "    dict_sample=f_compute_hist_spect(samples,bins)\n",
    "    ### Compute chi squares\n",
    "    dict_chisqrs=f_compute_chisqr(bkgnd_dict[str(param_label)],dict_sample,img_size)\n",
    "    \n",
    "    dict1.update(dict_sample)\n",
    "    dict1.update(dict_chisqrs)\n",
    "    \n",
    "    df_runs=df_runs.append(dict1,ignore_index=True)\n"
   ]
  },
  {
   "cell_type": "markdown",
   "metadata": {},
   "source": [
    "### Add pytorch runs"
   ]
  },
  {
   "cell_type": "code",
   "execution_count": null,
   "metadata": {
    "tags": []
   },
   "outputs": [],
   "source": [
    "## Pytorch code\n",
    "### Load images\n",
    "\n",
    "# Run 1\n",
    "parent_dir='/global/cfs/cdirs/m3363/vayyar/cosmogan_data/results_from_other_code/pytorch/results/3d_cGAN/'\n",
    "fldr='20210628_73858_cgan_128_nodes1_lr0.0002_fm0_goodrun/'\n",
    "#     lst=[ (96, 22640), (97, 22720), (98, 23030), (101, 23830), (101, 23840), (106, 24970), (106, 24990), (106, 25000)]\n",
    "lst=[23830, 23840, 24970, 24990, 25000, 22640, 22720, 23030]\n",
    "prefix='pred_run1'\n",
    "\n",
    "parent_dir+=fldr\n",
    "\n",
    "# Prediction images \n",
    "\n",
    "for param_label in sigma_lst:\n",
    "    prefix+='_%s_'%(param_label)    \n",
    "    for count,run in enumerate(lst):\n",
    "        step=run\n",
    "        key=prefix+'{0}'.format(step)\n",
    "        print(key)\n",
    "        fname=glob.glob(parent_dir+'images/'+'inference_*label-{0}_*_step-{1}.npy'.format(param_label,step))[0]\n",
    "        dict1={'label':key,'fname':fname}\n",
    "        images=np.load(dict1['fname'])     ### No transform needed here\n",
    "\n",
    "        images=images[:,0,:,:,:]\n",
    "        print(images.shape)\n",
    "        print(np.max(images),np.min(images))\n",
    "\n",
    "        dict1['num_imgs']=images.shape[0]\n",
    "        ### Compute spectrum and histograms\n",
    "        dict_sample=f_compute_hist_spect(images,bins)\n",
    "        ### Compute chi squares\n",
    "        dict_chisqrs=f_compute_chisqr(bkgnd_dict[str(param_label)],dict_sample,img_size)\n",
    "\n",
    "        dict1.update(dict_sample)\n",
    "        dict1.update(dict_chisqrs)\n",
    "        del(images)\n",
    "        df_runs=df_runs.append(dict1,ignore_index=True)"
   ]
  },
  {
   "cell_type": "code",
   "execution_count": null,
   "metadata": {},
   "outputs": [],
   "source": [
    "# Run 2\n",
    "parent_dir='/global/cfs/cdirs/m3363/vayyar/cosmogan_data/results_from_other_code/pytorch/results/3d_cGAN/'\n",
    "fldr='20210703_50233_cgan_128_nodes1_lr0.0002_vary_fm0_goodrun/'\n",
    "lst=[18120, 18700, 18960, 18970, 19360, 19680]\n",
    "prefix='pred_run2'\n",
    "\n",
    "parent_dir+=fldr\n",
    "\n",
    "# Prediction images \n",
    "\n",
    "for param_label in sigma_lst:\n",
    "    prefix+='_%s_'%(param_label)    \n",
    "    for count,run in enumerate(lst):\n",
    "        step=run\n",
    "        key=prefix+'{0}'.format(step)\n",
    "        print(key)\n",
    "        fname=glob.glob(parent_dir+'images/'+'inference_*label-{0}_*_step-{1}.npy'.format(param_label,step))[0]\n",
    "        dict1={'label':key,'fname':fname}\n",
    "        images=np.load(dict1['fname'])     ### No transform needed here\n",
    "\n",
    "        images=images[:,0,:,:,:]\n",
    "        print(images.shape)\n",
    "        print(np.max(images),np.min(images))\n",
    "\n",
    "        dict1['num_imgs']=images.shape[0]\n",
    "        ### Compute spectrum and histograms\n",
    "        dict_sample=f_compute_hist_spect(images,bins)\n",
    "        ### Compute chi squares\n",
    "        dict_chisqrs=f_compute_chisqr(bkgnd_dict[str(param_label)],dict_sample,img_size)\n",
    "\n",
    "        dict1.update(dict_sample)\n",
    "        dict1.update(dict_chisqrs)\n",
    "        del(images)\n",
    "        df_runs=df_runs.append(dict1,ignore_index=True)"
   ]
  },
  {
   "cell_type": "code",
   "execution_count": null,
   "metadata": {},
   "outputs": [],
   "source": [
    "# Run 3\n",
    "parent_dir='/global/cfs/cdirs/m3363/vayyar/cosmogan_data/results_from_other_code/pytorch/results/3d_cGAN/'\n",
    "fldr='20210723_72050_cgan_128_nodes1_lr0.00002_finetune/'\n",
    "lst=[2170, 2180, 2400, 3880, 5070]\n",
    "prefix='pred_run3'\n",
    "\n",
    "parent_dir+=fldr\n",
    "\n",
    "# Prediction images \n",
    "\n",
    "for param_label in sigma_lst:\n",
    "    prefix+='_%s_'%(param_label)    \n",
    "    for count,run in enumerate(lst):\n",
    "        step=run\n",
    "        key=prefix+'{0}'.format(step)\n",
    "        print(key)\n",
    "        fname=glob.glob(parent_dir+'images/'+'inference_*label-{0}_*_step-{1}.npy'.format(param_label,step))[0]\n",
    "        dict1={'label':key,'fname':fname}\n",
    "        images=np.load(dict1['fname'])     ### No transform needed here\n",
    "\n",
    "        images=images[:,0,:,:,:]\n",
    "        print(images.shape)\n",
    "        print(np.max(images),np.min(images))\n",
    "\n",
    "        dict1['num_imgs']=images.shape[0]\n",
    "        ### Compute spectrum and histograms\n",
    "        dict_sample=f_compute_hist_spect(images,bins)\n",
    "        ### Compute chi squares\n",
    "        dict_chisqrs=f_compute_chisqr(bkgnd_dict[str(param_label)],dict_sample,img_size)\n",
    "\n",
    "        dict1.update(dict_sample)\n",
    "        dict1.update(dict_chisqrs)\n",
    "        del(images)\n",
    "        df_runs=df_runs.append(dict1,ignore_index=True)"
   ]
  },
  {
   "cell_type": "code",
   "execution_count": null,
   "metadata": {},
   "outputs": [],
   "source": [
    "# Run 4\n",
    "parent_dir='/global/cfs/cdirs/m3363/vayyar/cosmogan_data/results_from_other_code/pytorch/results/3d_cGAN/'\n",
    "fldr='20210723_74424_cgan_128_nodes1_lr0.000002_finetune/'\n",
    "lst=[1650, 1740, 1770, 1870, 1950, 2570, 4180]\n",
    "prefix='pred_run4'\n",
    "\n",
    "parent_dir+=fldr\n",
    "\n",
    "# Prediction images \n",
    "\n",
    "for param_label in sigma_lst:\n",
    "    prefix+='_%s_'%(param_label)    \n",
    "    for count,run in enumerate(lst):\n",
    "        step=run\n",
    "        key=prefix+'{0}'.format(step)\n",
    "        print(key)\n",
    "        fname=glob.glob(parent_dir+'images/'+'inference_*label-{0}_*_step-{1}.npy'.format(param_label,step))[0]\n",
    "        dict1={'label':key,'fname':fname}\n",
    "        images=np.load(dict1['fname'])     ### No transform needed here\n",
    "\n",
    "        images=images[:,0,:,:,:]\n",
    "        print(images.shape)\n",
    "        print(np.max(images),np.min(images))\n",
    "\n",
    "        dict1['num_imgs']=images.shape[0]\n",
    "        ### Compute spectrum and histograms\n",
    "        dict_sample=f_compute_hist_spect(images,bins)\n",
    "        ### Compute chi squares\n",
    "        dict_chisqrs=f_compute_chisqr(bkgnd_dict[str(param_label)],dict_sample,img_size)\n",
    "\n",
    "        dict1.update(dict_sample)\n",
    "        dict1.update(dict_chisqrs)\n",
    "        del(images)\n",
    "        df_runs=df_runs.append(dict1,ignore_index=True)"
   ]
  },
  {
   "cell_type": "code",
   "execution_count": null,
   "metadata": {},
   "outputs": [],
   "source": [
    "# Run 5\n",
    "parent_dir='/global/cfs/cdirs/m3363/vayyar/cosmogan_data/results_from_other_code/pytorch/results/3d_cGAN/'\n",
    "fldr='20210726_173009_cgan_128_nodes1_lr0.000002_finetune/'\n",
    "lst=[1740, 1950, 2580, 3010, 5590, 6800]\n",
    "prefix='pred_run5'\n",
    "\n",
    "parent_dir+=fldr\n",
    "\n",
    "# Prediction images \n",
    "\n",
    "for param_label in sigma_lst:\n",
    "    prefix+='_%s_'%(param_label)    \n",
    "    for count,run in enumerate(lst):\n",
    "        step=run\n",
    "        key=prefix+'{0}'.format(step)\n",
    "        print(key)\n",
    "        fname=glob.glob(parent_dir+'images/'+'inference_*label-{0}_*_step-{1}.npy'.format(param_label,step))[0]\n",
    "        dict1={'label':key,'fname':fname}\n",
    "        images=np.load(dict1['fname'])     ### No transform needed here\n",
    "\n",
    "        images=images[:,0,:,:,:]\n",
    "        print(images.shape)\n",
    "        print(np.max(images),np.min(images))\n",
    "\n",
    "        dict1['num_imgs']=images.shape[0]\n",
    "        ### Compute spectrum and histograms\n",
    "        dict_sample=f_compute_hist_spect(images,bins)\n",
    "        ### Compute chi squares\n",
    "        dict_chisqrs=f_compute_chisqr(bkgnd_dict[str(param_label)],dict_sample,img_size)\n",
    "\n",
    "        dict1.update(dict_sample)\n",
    "        dict1.update(dict_chisqrs)\n",
    "        del(images)\n",
    "        df_runs=df_runs.append(dict1,ignore_index=True)"
   ]
  },
  {
   "cell_type": "code",
   "execution_count": null,
   "metadata": {
    "tags": []
   },
   "outputs": [],
   "source": [
    "# # Train images \n",
    "# for param_label in sigma_lst:\n",
    "#     prefix='train_%s_'%(param_label)\n",
    "# #     lst=[(101, 23830), (106, 25000)]\n",
    "#     lst=[23830,25000]\n",
    "#     for count,run in enumerate(lst):\n",
    "#         step=run\n",
    "#         key=prefix+'{0}'.format(step)\n",
    "#         print(key)\n",
    "#         try: \n",
    "#             fname=glob.glob(parent_dir+'images/'+'gen_img_label-{0}_*_step-{1}.npy'.format(param_label,step))[0]\n",
    "#             dict1={'label':key,'fname':fname}\n",
    "#             images=np.load(dict1['fname'])     ### No transform needed here\n",
    "\n",
    "#             images=images[:,0,:,:,:]\n",
    "#             print(images.shape)\n",
    "#             print(np.max(images),np.min(images))\n",
    "\n",
    "#             dict1['num_imgs']=images.shape[0]\n",
    "#             ### Compute spectrum and histograms\n",
    "#             dict_sample=f_compute_hist_spect(images,bins)\n",
    "#             ### Compute chi squares\n",
    "#             dict_chisqrs=f_compute_chisqr(bkgnd_dict[str(param_label)],dict_sample,img_size)\n",
    "\n",
    "#             dict1.update(dict_sample)\n",
    "#             dict1.update(dict_chisqrs)\n",
    "#             del(images)\n",
    "#             df_runs=df_runs.append(dict1,ignore_index=True)\n",
    "#         except: \n",
    "#             pass"
   ]
  },
  {
   "cell_type": "code",
   "execution_count": null,
   "metadata": {},
   "outputs": [],
   "source": [
    "df_runs.columns"
   ]
  },
  {
   "cell_type": "code",
   "execution_count": null,
   "metadata": {},
   "outputs": [],
   "source": [
    "col_list=['label', 'chi_1', 'chi_1a', 'chi_spec1', 'chi_spec3','chi_1b', 'chi_1c', 'chi_2','chi_imgvar', 'chi_spec2', 'hist_bin_centers', 'hist_err', 'hist_val','spec_sdev', 'spec_val','num_imgs','fname']\n",
    "\n",
    "df_runs=df_runs.reindex(columns=col_list)\n"
   ]
  },
  {
   "cell_type": "code",
   "execution_count": null,
   "metadata": {
    "tags": []
   },
   "outputs": [],
   "source": [
    "df_runs"
   ]
  },
  {
   "cell_type": "markdown",
   "metadata": {},
   "source": [
    "### Compare chi-squares"
   ]
  },
  {
   "cell_type": "code",
   "execution_count": null,
   "metadata": {},
   "outputs": [],
   "source": [
    "chi_keys=['label','chi_1','chi_spec1', 'num_imgs', 'chi_1a', 'chi_1b', 'chi_1c', 'chi_2','chi_imgvar', 'chi_spec2','chi_spec3']\n",
    "df_runs[chi_keys]"
   ]
  },
  {
   "cell_type": "markdown",
   "metadata": {},
   "source": [
    "## Plot"
   ]
  },
  {
   "cell_type": "code",
   "execution_count": null,
   "metadata": {
    "tags": []
   },
   "outputs": [],
   "source": [
    "def f_plot_hist_spec(df,dict_bkg,plot_type,img_size):\n",
    "\n",
    "    assert plot_type in ['hist','spec','spec_relative','grid'],\"Invalid mode %s\"%(plot_type)\n",
    "\n",
    "    if plot_type in ['hist','spec','spec_relative']:     fig=plt.figure(figsize=(6,6))\n",
    "    \n",
    "    for (i,row),marker in zip(df.iterrows(),itertools.cycle('>^*sDHPdpx_')):\n",
    "        label=row.label\n",
    "        if plot_type=='hist':\n",
    "            x1=row.hist_bin_centers\n",
    "            y1=row.hist_val\n",
    "            yerr1=row.hist_err\n",
    "            x1=f_invtransform(x1)\n",
    "            \n",
    "            plt.errorbar(x1,y1,yerr1,marker=marker,markersize=5,linestyle='',label=label)\n",
    "        if plot_type=='spec':\n",
    "            \n",
    "            y2=row.spec_val\n",
    "#             yerr2=row.spec_sdev/np.sqrt(row.num_imgs)\n",
    "            yerr2=row.spec_sdev\n",
    "\n",
    "            x2=np.arange(len(y2))\n",
    "            \n",
    "            plt.fill_between(x2, y2 - yerr2, y2 + yerr2, alpha=0.4)\n",
    "            plt.plot(x2, y2, marker=marker, linestyle=':',label=label)\n",
    "\n",
    "        if plot_type=='spec_relative':\n",
    "            \n",
    "            y2=row.spec_val\n",
    "            yerr2=row.spec_sdev\n",
    "            x2=np.arange(len(y2))\n",
    "            \n",
    "            ### Reference spectrum\n",
    "            y1,yerr1=dict_bkg['spec_val'],dict_bkg['spec_sdev']\n",
    "            y=y2/(1.0*y1)\n",
    "            ## Variance is sum of variance of both variables, since they are uncorrelated\n",
    "            \n",
    "            # delta_r=sqrt(\\delta_c2 ^ 2/ c1^2 + \\delta_c1^2 * c_2^2 / c_1^4)\n",
    "            yerr=(np.abs(y))*np.sqrt((yerr1/y1)**2+(yerr2/y2)**2)/np.sqrt(row.num_imgs)\n",
    "    \n",
    "            plt.fill_between(x2, y - yerr, y + yerr, alpha=0.4)\n",
    "            plt.plot(x2, y, marker=marker, linestyle=':',label=label)\n",
    "            plt.xlim(0,img_size/2)\n",
    "            plt.legend()\n",
    "            plt.title(\"relative spectrum\")\n",
    "        if plot_type=='grid':\n",
    "            images=np.load(row.fname)[:,0,:,:,0]\n",
    "            f_plot_grid(images[:8],cols=4,fig_size=(8,4))\n",
    "\n",
    "            \n",
    "    ### Plot input data\n",
    "    if plot_type=='hist':\n",
    "        x,y,yerr=dict_bkg['hist_bin_centers'],dict_bkg['hist_val'],dict_bkg['hist_err']\n",
    "        x=f_invtransform(x)\n",
    "        plt.errorbar(x, y,yerr,color='k',linestyle='-',label='bkgnd')   \n",
    "        plt.title('Pixel Intensity Histogram')\n",
    "        plt.xscale('symlog',linthreshx=50)\n",
    "        \n",
    "    if plot_type=='spec':\n",
    "#         y,yerr=dict_bkg['spec_val'],dict_bkg['spec_sdev']/np.sqrt(num_bkgnd)\n",
    "        y,yerr=dict_bkg['spec_val'],dict_bkg['spec_sdev']\n",
    "\n",
    "        x=np.arange(len(y))\n",
    "        plt.fill_between(x, y - yerr, y + yerr, color='k',alpha=0.8)\n",
    "        plt.title('Spectrum')\n",
    "        plt.xlim(0,img_size/2)\n",
    "\n",
    "\n",
    "    if plot_type=='spec_relative':\n",
    "        plt.axhline(y=1.0,color='k',linestyle='-.')\n",
    "        plt.title(\"relative spectrum\")\n",
    "        plt.xlim(0,img_size/2)\n",
    "        plt.ylim(0.5,2)    \n",
    "    \n",
    "    if plot_type in ['hist','spec']:     \n",
    "        plt.yscale('log')\n",
    "    plt.legend(bbox_to_anchor=(0.5, 0.75),ncol=2, fancybox=True, shadow=True,prop={'size':6})\n",
    "\n",
    "    \n",
    "\n",
    "# f_plot_hist_spec(df_runs,dict_val,'hist')\n",
    "# f_plot_hist_spec(df_runs,dict_val,'spec')\n",
    "# f_plot_hist_spec(df_runs,dict_val,'spec_relative')\n",
    "# f_plot_hist_spec(df_best,dict_val,'grid')\n"
   ]
  },
  {
   "cell_type": "code",
   "execution_count": null,
   "metadata": {},
   "outputs": [],
   "source": [
    "# Define the reference \n",
    "param_label=0.65\n",
    "dict_val=bkgnd_dict[str(param_label)]"
   ]
  },
  {
   "cell_type": "code",
   "execution_count": null,
   "metadata": {},
   "outputs": [],
   "source": [
    "def f_widget_compare(df,labels_list,bkgnd,plot_type):\n",
    "    df_temp=df[df.label.isin(labels_list)]\n",
    "    f_plot_hist_spec(df_temp,dict_val,plot_type,img_size)\n",
    "\n",
    "interact_manual(f_widget_compare,df=fixed(df_runs),\n",
    "                labels_list=SelectMultiple(options=df_runs.label.values), \n",
    "                img_size=fixed(img_size),\n",
    "                bkgnd=fixed(dict_val),plot_type=ToggleButtons(options=['hist','spec','spec_relative','grid']))"
   ]
  },
  {
   "cell_type": "code",
   "execution_count": null,
   "metadata": {},
   "outputs": [],
   "source": [
    "col_list=['label','chi_1','chi_spec1','num_imgs','chi_2','chi_spec2']\n",
    "df_runs[col_list]"
   ]
  },
  {
   "cell_type": "markdown",
   "metadata": {},
   "source": [
    "### Test "
   ]
  },
  {
   "cell_type": "code",
   "execution_count": null,
   "metadata": {},
   "outputs": [],
   "source": [
    "df_runs.fname.values"
   ]
  },
  {
   "cell_type": "code",
   "execution_count": null,
   "metadata": {},
   "outputs": [],
   "source": [
    "# fname='/global/cfs/cdirs/m3363/vayyar/cosmogan_data/results_from_other_code/pytorch/results/128sq/20210112_191125_cgan_predict_1.1_m2/images/inference_spec_label-1.1_epoch-11_step-25999.npy'\n",
    "# a1=np.load(fname)\n",
    "# print(a1.shape)"
   ]
  },
  {
   "cell_type": "code",
   "execution_count": null,
   "metadata": {},
   "outputs": [],
   "source": [
    "fname='/global/cfs/cdirs/m3363/vayyar/cosmogan_data/raw_data/128_square/dataset_5_4univ_cgan/norm_1_sig_1.1_train_val.npy'\n",
    "val_arr=np.load(fname)[:2000][:,0,:,:]\n",
    "print(val_arr.shape)"
   ]
  },
  {
   "cell_type": "code",
   "execution_count": null,
   "metadata": {},
   "outputs": [],
   "source": [
    "f_pixel_intensity(f_invtransform(a1),normalize=True)\n",
    "plt.xscale('symlog',linthreshx=50)\n",
    "\n",
    "\n",
    "# img_lst=[a1]\n",
    "# f_compare_pixel_intensity(img_lst,label_lst=['a1'],bkgnd_arr=val_arr)\n"
   ]
  },
  {
   "cell_type": "code",
   "execution_count": null,
   "metadata": {},
   "outputs": [],
   "source": [
    "val_arr=val_arr[:,0,:,:]"
   ]
  },
  {
   "cell_type": "code",
   "execution_count": null,
   "metadata": {},
   "outputs": [],
   "source": [
    "img_lst=[a1,val_arr]\n",
    "f_compare_spectrum(img_lst=img_lst,label_lst=['a1'],bkgnd_arr=val_arr)\n"
   ]
  },
  {
   "cell_type": "markdown",
   "metadata": {},
   "source": [
    "### Test histogram"
   ]
  },
  {
   "cell_type": "code",
   "execution_count": null,
   "metadata": {},
   "outputs": [],
   "source": [
    "fname='/global/cfs/cdirs/m3363/vayyar/cosmogan_data/raw_data/128_square/dataset_5_4univ_cgan/norm_1_sig_0.5_train_val.npy'\n",
    "print(fname)\n",
    "samples=np.load(fname,mmap_mode='r')[-1000:][:,0,:,:]\n",
    "print(samples.shape)"
   ]
  }
 ],
 "metadata": {
  "kernelspec": {
   "display_name": "v3",
   "language": "python",
   "name": "v-jpt-3"
  },
  "language_info": {
   "codemirror_mode": {
    "name": "ipython",
    "version": 3
   },
   "file_extension": ".py",
   "mimetype": "text/x-python",
   "name": "python",
   "nbconvert_exporter": "python",
   "pygments_lexer": "ipython3",
   "version": "3.8.6"
  }
 },
 "nbformat": 4,
 "nbformat_minor": 4
}

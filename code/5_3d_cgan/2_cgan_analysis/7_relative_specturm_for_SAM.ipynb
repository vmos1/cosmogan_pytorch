{
 "cells": [
  {
   "cell_type": "markdown",
   "metadata": {},
   "source": [
    "# Test post compute 3D"
   ]
  },
  {
   "cell_type": "code",
   "execution_count": 1,
   "metadata": {},
   "outputs": [],
   "source": [
    "import numpy as np\n",
    "import matplotlib.pyplot as plt\n",
    "\n",
    "import subprocess as sp\n",
    "import sys\n",
    "import os\n",
    "import glob\n",
    "import pickle \n",
    "import itertools\n",
    "\n",
    "from matplotlib.colors import LogNorm, PowerNorm, Normalize\n",
    "from ipywidgets import *"
   ]
  },
  {
   "cell_type": "code",
   "execution_count": 2,
   "metadata": {},
   "outputs": [],
   "source": [
    "%matplotlib widget"
   ]
  },
  {
   "cell_type": "code",
   "execution_count": 3,
   "metadata": {},
   "outputs": [],
   "source": [
    "### Transformation functions for image pixel values\n",
    "def f_transform(x):\n",
    "    return 2.*x/(x + 4.) - 1.\n",
    "\n",
    "def f_invtransform(s):\n",
    "    return 4.*(1. + s)/(1. - s)\n"
   ]
  },
  {
   "cell_type": "markdown",
   "metadata": {},
   "source": [
    "### Spectral modules"
   ]
  },
  {
   "cell_type": "code",
   "execution_count": 4,
   "metadata": {},
   "outputs": [],
   "source": [
    "## numpy code\n",
    "def f_radial_profile_3d(data, center=(None,None)):\n",
    "    ''' Module to compute radial profile of a 2D image '''\n",
    "    \n",
    "    z, y, x = np.indices((data.shape)) # Get a grid of x and y values\n",
    "    \n",
    "    center=[]\n",
    "    if not center:\n",
    "        center = np.array([(x.max()-x.min())/2.0, (y.max()-y.min())/2.0, (z.max()-z.min())/2.0]) # compute centers\n",
    "        \n",
    "    # get radial values of every pair of points\n",
    "    r = np.sqrt((x - center[0])**2 + (y - center[1])**2+ + (z - center[2])**2)\n",
    "    r = r.astype(np.int)\n",
    "    \n",
    "    # Compute histogram of r values\n",
    "    tbin = np.bincount(r.ravel(), data.ravel())\n",
    "    nr = np.bincount(r.ravel()) \n",
    "    radialprofile = tbin / nr\n",
    "    \n",
    "    return radialprofile[1:-1]\n",
    "\n",
    "def f_compute_spectrum_3d(arr):\n",
    "    '''\n",
    "    compute spectrum for a 3D image\n",
    "    '''\n",
    "#     GLOBAL_MEAN=1.0\n",
    "#     arr=((arr - GLOBAL_MEAN)/GLOBAL_MEAN)\n",
    "    y1=np.fft.fftn(arr)\n",
    "    y1=np.fft.fftshift(y1)\n",
    "#     print(y1.shape)\n",
    "    y2=abs(y1)**2\n",
    "    z1=f_radial_profile_3d(y2)\n",
    "    return(z1)\n",
    "   \n",
    "def f_batch_spectrum_3d(arr):\n",
    "    batch_pk=np.array([f_compute_spectrum_3d(i) for i in arr])\n",
    "    return batch_pk\n",
    "\n",
    "### Code ###\n",
    "def f_image_spectrum_3d(x,num_channels):\n",
    "    '''\n",
    "    Compute spectrum when image has a channel index\n",
    "    Data has to be in the form (batch,channel,x,y)\n",
    "    '''\n",
    "    mean=[[] for i in range(num_channels)]    \n",
    "    sdev=[[] for i in range(num_channels)]    \n",
    "\n",
    "    num=x.shape[0]\n",
    "    for i in range(num_channels):\n",
    "        arr=x[:,i,:,:,:]\n",
    "        # print(i,arr.shape)\n",
    "        batch_pk=f_batch_spectrum_3d(arr)\n",
    "#         print(batch_pk)\n",
    "        mean[i]=np.mean(batch_pk,axis=0)\n",
    "        sdev[i]=np.var(batch_pk,axis=0)\n",
    "    mean=np.array(mean)\n",
    "    sdev=np.sqrt(np.array(sdev)/num)\n",
    "    return mean,sdev\n"
   ]
  },
  {
   "cell_type": "markdown",
   "metadata": {},
   "source": [
    "### Read data"
   ]
  },
  {
   "cell_type": "code",
   "execution_count": 5,
   "metadata": {},
   "outputs": [
    {
     "name": "stdout",
     "output_type": "stream",
     "text": [
      "(8, 1, 128, 128, 128) (8, 1, 128, 128, 128)\n"
     ]
    }
   ],
   "source": [
    "# f1='/global/cfs/cdirs/m3363/vayyar/cosmogan_data/results_from_other_code/pytorch/results/3d_cGAN/20210723_72050_cgan_128_nodes1_lr0.00002_finetune/images/gen_img_label-0.5_epoch-17_step-4000.npy'\n",
    "f1='/global/cfs/cdirs/m3363/vayyar/cosmogan_data/results_from_other_code/pytorch/results/3d_cGAN/20210723_72050_cgan_128_nodes1_lr0.00002_finetune/images/inference_label-0.5_epoch-10_step-2400.npy'\n",
    "# f2='/global/cfs/cdirs/m3363/vayyar/cosmogan_data/results_from_other_code/pytorch/results/3d_cGAN/20210723_72050_cgan_128_nodes1_lr0.00002_finetune/images/gen_img_label-0.5_epoch-10_step-2360.npy'\n",
    "f2='/global/cfs/cdirs/m3363/vayyar/cosmogan_data/results_from_other_code/pytorch/results/3d_cGAN/20210723_72050_cgan_128_nodes1_lr0.00002_finetune/images/inference_label-0.5_epoch-21_step-5070.npy'\n",
    "\n",
    "a1=np.load(f1,mmap_mode='r')[:8,0,:,:,:]\n",
    "a2=np.load(f2,mmap_mode='r')[:8,0,:,:,:]\n",
    "\n",
    "# Input arrays are 4 D  (samples,x,y,z). Need to convert to 5D (samples, channels,x,y,z)\n",
    "\n",
    "a1=np.expand_dims(a1,axis=1) # Convert 4D to 5D array\n",
    "a2=np.expand_dims(a2,axis=1) # Convert 4D to 5D array\n",
    "print(a1.shape,a2.shape)"
   ]
  },
  {
   "cell_type": "code",
   "execution_count": 6,
   "metadata": {},
   "outputs": [
    {
     "data": {
      "text/plain": [
       "(0.9977463, 0.992662)"
      ]
     },
     "execution_count": 6,
     "metadata": {},
     "output_type": "execute_result"
    }
   ],
   "source": [
    "np.max(a1),np.max(a2)"
   ]
  },
  {
   "cell_type": "markdown",
   "metadata": {},
   "source": [
    "Starting with a 5D array, compute the power spectrum.\n",
    "5D array -> (samples, channel, x ,y ,z)"
   ]
  },
  {
   "cell_type": "markdown",
   "metadata": {},
   "source": [
    "## Computing the power spectrum"
   ]
  },
  {
   "cell_type": "code",
   "execution_count": 7,
   "metadata": {},
   "outputs": [
    {
     "name": "stdout",
     "output_type": "stream",
     "text": [
      "(108,) (108,)\n"
     ]
    }
   ],
   "source": [
    "y1,y1err=f_image_spectrum_3d(a1,1)\n",
    "y2,y2err=f_image_spectrum_3d(a2,1)\n",
    "\n",
    "## Convert 2D numpy array to 1D numpy array\n",
    "y1=y1[0,:]\n",
    "y1err=y1err[0,:]\n",
    "\n",
    "y2=y2[0,:]\n",
    "y2err=y2err[0,:]\n",
    "\n",
    "print(y1.shape,y2.shape)"
   ]
  },
  {
   "cell_type": "markdown",
   "metadata": {
    "tags": []
   },
   "source": [
    "##  Plot power spectrum"
   ]
  },
  {
   "cell_type": "code",
   "execution_count": 8,
   "metadata": {},
   "outputs": [
    {
     "data": {
      "application/vnd.jupyter.widget-view+json": {
       "model_id": "6fb33a34aebc4b2fb6a8daf3e22b81b7",
       "version_major": 2,
       "version_minor": 0
      },
      "text/html": [
       "\n",
       "            <div style=\"display: inline-block;\">\n",
       "                <div class=\"jupyter-widgets widget-label\" style=\"text-align: center;\">\n",
       "                    Figure\n",
       "                </div>\n",
       "                <img src='data:image/png;base64,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' width=640.0/>\n",
       "            </div>\n",
       "        "
      ],
      "text/plain": [
       "Canvas(toolbar=Toolbar(toolitems=[('Home', 'Reset original view', 'home', 'home'), ('Back', 'Back to previous …"
      ]
     },
     "metadata": {},
     "output_type": "display_data"
    }
   ],
   "source": [
    "# Actual plot\n",
    "size=y1.shape[0]\n",
    "x=np.arange(0,size)\n",
    "# y1=1.0/x**(4)\n",
    "# y1err=[1e-6 for i in y1]\n",
    "\n",
    "# y2=1.05/x**4+np.random.normal(0,1e-5,len(x))\n",
    "# y2err=[1e-6 for i in y2]\n",
    "\n",
    "plt.figure()\n",
    "plt.errorbar(x,y1,y1err,marker='',linestyle='-.',label='gnd')\n",
    "plt.errorbar(x,y2,y2err,marker='o',linestyle='',label='val')\n",
    "\n",
    "plt.yscale('log')\n",
    "plt.legend(loc='best')\n",
    "plt.show()"
   ]
  },
  {
   "cell_type": "markdown",
   "metadata": {
    "tags": []
   },
   "source": [
    "## Relative power spectrum"
   ]
  },
  {
   "cell_type": "code",
   "execution_count": 9,
   "metadata": {},
   "outputs": [
    {
     "data": {
      "text/plain": [
       "<matplotlib.lines.Line2D at 0x155529955790>"
      ]
     },
     "execution_count": 9,
     "metadata": {},
     "output_type": "execute_result"
    },
    {
     "data": {
      "application/vnd.jupyter.widget-view+json": {
       "model_id": "2ec9878fcc8045edbd8b9bf80955e76f",
       "version_major": 2,
       "version_minor": 0
      },
      "text/html": [
       "\n",
       "            <div style=\"display: inline-block;\">\n",
       "                <div class=\"jupyter-widgets widget-label\" style=\"text-align: center;\">\n",
       "                    Figure\n",
       "                </div>\n",
       "                <img src='data:image/png;base64,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' width=640.0/>\n",
       "            </div>\n",
       "        "
      ],
      "text/plain": [
       "Canvas(toolbar=Toolbar(toolitems=[('Home', 'Reset original view', 'home', 'home'), ('Back', 'Back to previous …"
      ]
     },
     "metadata": {},
     "output_type": "display_data"
    }
   ],
   "source": [
    "# Relative plot\n",
    "\n",
    "plt.figure()\n",
    "y=y2/(1.0*y1)\n",
    "## Variance is sum of variance of both variables, since they are uncorrelated\n",
    "\n",
    "# delta_r=sqrt(\\delta_c2 ^ 2/ c1^2 + \\delta_c1^2 * c_2^2 / c_1^4)\n",
    "yerr=(np.abs(y))*np.sqrt((y1err/y1)**2+(y2err/y2)**2)/np.sqrt(size)\n",
    "\n",
    "plt.fill_between(x, y - yerr, y + yerr, alpha=0.4)\n",
    "plt.plot(x, y, marker='*', linestyle=':',label='a')\n",
    "plt.xlim(0,50)\n",
    "\n",
    "plt.axhline(y=1.0,color='k',linestyle='-.')"
   ]
  },
  {
   "cell_type": "code",
   "execution_count": 10,
   "metadata": {},
   "outputs": [],
   "source": [
    "# ! jupyter nbconvert --to script 7_relative_specturm_for_SAM.ipynb"
   ]
  },
  {
   "cell_type": "code",
   "execution_count": null,
   "metadata": {},
   "outputs": [],
   "source": []
  },
  {
   "cell_type": "code",
   "execution_count": null,
   "metadata": {},
   "outputs": [],
   "source": []
  }
 ],
 "metadata": {
  "kernelspec": {
   "display_name": "v3",
   "language": "python",
   "name": "v-jpt-3"
  },
  "language_info": {
   "codemirror_mode": {
    "name": "ipython",
    "version": 3
   },
   "file_extension": ".py",
   "mimetype": "text/x-python",
   "name": "python",
   "nbconvert_exporter": "python",
   "pygments_lexer": "ipython3",
   "version": "3.8.6"
  }
 },
 "nbformat": 4,
 "nbformat_minor": 4
}

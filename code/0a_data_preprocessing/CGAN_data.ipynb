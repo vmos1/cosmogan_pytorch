{
 "cells": [
  {
   "cell_type": "markdown",
   "metadata": {},
   "source": [
    "# Get data for cGAN\n",
    "Nov 10, 2020"
   ]
  },
  {
   "cell_type": "code",
   "execution_count": 1,
   "metadata": {},
   "outputs": [],
   "source": [
    "import numpy as np\n",
    "import matplotlib.pyplot as plt\n",
    "import pandas as pd\n",
    "import sys\n",
    "import os\n",
    "import glob\n"
   ]
  },
  {
   "cell_type": "markdown",
   "metadata": {},
   "source": [
    "5_Og=0.45_Sg=0.5_H0=100.0 \\\n",
    "22_Og=0.15_Sg=0.8_H0=100.0 \\\n",
    "24_Og=0.15_Sg=1.1_H0=100.0 \\\n",
    "26_Og=0.15_Sg=0.5_H0=100.0 \n",
    "\n",
    "Nov 11, 2020 \\\n",
    "Fix H_0=70.0, Omega_m = 0.3 \\\n",
    "Sigma_8=0.5, 0.8, 1.1 \n",
    "\n",
    "Nov 12, 2020 \\\n",
    "H_0=70.0 \\\n",
    "Omega_m= 0.15,0.3, Sigma_8 = 0.5,0.8, 1.1 \n"
   ]
  },
  {
   "cell_type": "code",
   "execution_count": 12,
   "metadata": {},
   "outputs": [
    {
     "data": {
      "text/plain": [
       "['/global/cfs/cdirs/m3363/vayyar/cosmogan_data/raw_data/128_square/dataset_3_different_universes_6k/Om0.15_Sg0.5_H70.0.npy',\n",
       " '/global/cfs/cdirs/m3363/vayyar/cosmogan_data/raw_data/128_square/dataset_3_different_universes_6k/Om0.15_Sg0.8_H70.0.npy',\n",
       " '/global/cfs/cdirs/m3363/vayyar/cosmogan_data/raw_data/128_square/dataset_3_different_universes_6k/Om0.15_Sg1.1_H70.0.npy',\n",
       " '/global/cfs/cdirs/m3363/vayyar/cosmogan_data/raw_data/128_square/dataset_3_different_universes_6k/Om0.3_Sg0.5_H70.0.npy',\n",
       " '/global/cfs/cdirs/m3363/vayyar/cosmogan_data/raw_data/128_square/dataset_3_different_universes_6k/Om0.3_Sg0.8_H70.0.npy',\n",
       " '/global/cfs/cdirs/m3363/vayyar/cosmogan_data/raw_data/128_square/dataset_3_different_universes_6k/Om0.3_Sg1.1_H70.0.npy']"
      ]
     },
     "execution_count": 12,
     "metadata": {},
     "output_type": "execute_result"
    }
   ],
   "source": [
    "main_dir='/global/cfs/cdirs/m3363/vayyar/cosmogan_data/raw_data/128_square/dataset_3_different_universes_6k/'\n",
    "save_loc='/global/cfs/cdirs/m3363/vayyar/cosmogan_data/raw_data/128_square/dataset_4_four_universes_6k_cnn/'\n",
    "# dict1={'omega':[0.45,0.15,0.15,0.15],'sigma':[0.5,0.8,1.1,0.5],'H0':[100.0,100.0,100.0,100.0]}\n",
    "# dict1={'omega':np.ones(3)*0.3,'sigma':[0.5,0.8,1.1],'H0':np.ones(3)*70.0}\n",
    "dict1={'omega':[0.15,0.15,0.15,0.3,0.3,0.3],'sigma':[0.5,0.8,1.1,0.5,0.8,1.1],'H0':np.ones(6)*70.0}\n",
    "n_classes=len(dict1['omega'])\n",
    "flist=[glob.glob(main_dir+'Om{0}_Sg{1}_H{2}.npy'.format(dict1['omega'][i],dict1['sigma'][i],dict1['H0'][i]))[0]for i in range(n_classes)]\n",
    "flist\n"
   ]
  },
  {
   "cell_type": "code",
   "execution_count": 13,
   "metadata": {},
   "outputs": [
    {
     "name": "stdout",
     "output_type": "stream",
     "text": [
      "0\n",
      "6144\n",
      "12288\n",
      "18432\n",
      "24576\n",
      "30720\n",
      "(36864, 1, 128, 128) (36864,) (36864,)\n"
     ]
    }
   ],
   "source": [
    "## Initialize \n",
    "data_id=[]\n",
    "data_y=[]\n",
    "data_x=[]\n",
    "ID=0\n",
    "\n",
    "for fname,label in zip(flist,np.arange(n_classes)):\n",
    "    print(ID)\n",
    "    a1=np.load(fname)\n",
    "    size=a1.shape[0]\n",
    "    data_id=data_id+list(range(ID,ID+size))\n",
    "    data_y=data_y+[label for i in range(size)]\n",
    "    data_x+=list(a1)\n",
    "    ID+=size\n",
    "\n",
    "    \n",
    "# Convert to numpy arrays \n",
    "data_x=np.array(data_x).transpose(0,3,1,2)\n",
    "data_y=np.array(data_y)\n",
    "data_id=np.array(data_id)\n",
    "print(data_x.shape,data_y.shape,data_id.shape)\n",
    "\n",
    "\n",
    "# ## Save files\n",
    "# save_loc='/global/cfs/cdirs/m3363/vayyar/cosmogan_data/raw_data/128_square/dataset_4_four_universes_6k_cnn/'\n",
    "# np.save(save_loc+'data_id.npy',data_id)\n",
    "# np.save(save_loc+'data_x.npy',data_x)\n",
    "# np.save(save_loc+'data_y.npy',data_y)\n",
    "\n",
    "cols=['ID','label','img']\n",
    "df=pd.DataFrame(columns=cols)\n",
    "\n",
    "df['ID']=data_id\n",
    "df['label']=data_y\n",
    "df['img']=[np.array(i) for i in data_x]\n",
    "\n",
    "df.to_pickle(save_loc+'/df_data.pkle')"
   ]
  },
  {
   "cell_type": "code",
   "execution_count": null,
   "metadata": {},
   "outputs": [],
   "source": []
  },
  {
   "cell_type": "code",
   "execution_count": null,
   "metadata": {},
   "outputs": [],
   "source": []
  },
  {
   "cell_type": "code",
   "execution_count": null,
   "metadata": {},
   "outputs": [],
   "source": []
  },
  {
   "cell_type": "code",
   "execution_count": null,
   "metadata": {},
   "outputs": [],
   "source": []
  }
 ],
 "metadata": {
  "kernelspec": {
   "display_name": "v3",
   "language": "python",
   "name": "v-jpt-3"
  },
  "language_info": {
   "codemirror_mode": {
    "name": "ipython",
    "version": 3
   },
   "file_extension": ".py",
   "mimetype": "text/x-python",
   "name": "python",
   "nbconvert_exporter": "python",
   "pygments_lexer": "ipython3",
   "version": "3.8.6"
  }
 },
 "nbformat": 4,
 "nbformat_minor": 4
}

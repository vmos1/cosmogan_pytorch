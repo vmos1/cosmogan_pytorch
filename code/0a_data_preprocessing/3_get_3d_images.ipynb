{
 "cells": [
  {
   "cell_type": "markdown",
   "metadata": {},
   "source": [
    "## Code to save a few 3D images from the dataset\n",
    "Oct 15, 2020"
   ]
  },
  {
   "cell_type": "code",
   "execution_count": 1,
   "metadata": {},
   "outputs": [],
   "source": [
    "import numpy as np\n",
    "import h5py\n",
    "import os\n",
    "\n",
    "import glob\n",
    "import time\n",
    "\n",
    "from scipy.ndimage import gaussian_filter   ### For gausian filter"
   ]
  },
  {
   "cell_type": "code",
   "execution_count": 2,
   "metadata": {},
   "outputs": [
    {
     "data": {
      "text/plain": [
       "200"
      ]
     },
     "execution_count": 2,
     "metadata": {},
     "output_type": "execute_result"
    }
   ],
   "source": [
    "### Location of hdf5 files\n",
    "data_dir='/global/project/projectdirs/m3363/www/cosmoUniverse_2019_08_const/'\n",
    "### Extract list of hdf5 files\n",
    "f_list=glob.glob(data_dir+'*.hdf5')\n",
    "len(f_list)"
   ]
  },
  {
   "cell_type": "code",
   "execution_count": 10,
   "metadata": {},
   "outputs": [
    {
     "name": "stdout",
     "output_type": "stream",
     "text": [
      "10\n",
      "(10, 512, 512, 512)\n"
     ]
    }
   ],
   "source": [
    "slices = []\n",
    "\n",
    "for fname in f_list[:10]:\n",
    "    with h5py.File(fname, 'r') as inputdata:\n",
    "        img_arr=np.array(inputdata['full'])\n",
    "        slices.append(img_arr[:,:,:,0])\n",
    "        \n",
    "print(len(slices))\n",
    "slices=np.array(slices)\n",
    "print(slices.shape)"
   ]
  },
  {
   "cell_type": "code",
   "execution_count": 12,
   "metadata": {},
   "outputs": [],
   "source": [
    "### Save 3D images to file\n",
    "np.save('3d_images_10.npy',slices)"
   ]
  },
  {
   "cell_type": "code",
   "execution_count": null,
   "metadata": {},
   "outputs": [],
   "source": []
  }
 ],
 "metadata": {
  "kernelspec": {
   "display_name": "v3",
   "language": "python",
   "name": "v-jpt-3"
  },
  "language_info": {
   "codemirror_mode": {
    "name": "ipython",
    "version": 3
   },
   "file_extension": ".py",
   "mimetype": "text/x-python",
   "name": "python",
   "nbconvert_exporter": "python",
   "pygments_lexer": "ipython3",
   "version": "3.8.6"
  }
 },
 "nbformat": 4,
 "nbformat_minor": 4
}

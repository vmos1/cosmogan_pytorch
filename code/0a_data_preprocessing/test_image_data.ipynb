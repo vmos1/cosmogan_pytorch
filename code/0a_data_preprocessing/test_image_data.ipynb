{
 "cells": [
  {
   "cell_type": "markdown",
   "metadata": {},
   "source": [
    "## Code to test image dimensions\n",
    "Jan 27, 2021"
   ]
  },
  {
   "cell_type": "code",
   "execution_count": 1,
   "metadata": {},
   "outputs": [],
   "source": [
    "import numpy as np\n",
    "import time\n",
    "import glob"
   ]
  },
  {
   "cell_type": "code",
   "execution_count": null,
   "metadata": {},
   "outputs": [],
   "source": [
    "fname='/global/cfs/cdirs/m3363/vayyar/cosmogan_data/raw_data/3d_data/dataset4_smoothing_const_params_128cube/full_with_smoothing_1.npy'\n",
    "fname='/global/cfs/cdirs/m3363/vayyar/cosmogan_data/raw_data/3d_data/dataset4_smoothing_const_params_128cube/norm_1_train_val.npy'\n",
    "# fname='/global/cfs/cdirs/m3363/vayyar/cosmogan_data/raw_data/128_square/dataset_5_4univ_cgan/Om0.3_Sg0.5_H70.0.npy'\n",
    "a1=np.load(fname,mmap_mode='r')\n",
    "print(a1.shape)"
   ]
  },
  {
   "cell_type": "code",
   "execution_count": 3,
   "metadata": {},
   "outputs": [
    {
     "data": {
      "text/plain": [
       "(12288, 1, 128, 128)"
      ]
     },
     "execution_count": 3,
     "metadata": {},
     "output_type": "execute_result"
    }
   ],
   "source": [
    "fname='/global/cfs/cdirs/m3363/vayyar/cosmogan_data/raw_data/128_square/dataset_3_different_universes_6k/Om0.3_Sg1.1_H70.0.npy'\n",
    "a1=np.load(fname)\n",
    "a1.shape"
   ]
  },
  {
   "cell_type": "code",
   "execution_count": 2,
   "metadata": {},
   "outputs": [
    {
     "data": {
      "text/plain": [
       "(5001, 1, 256, 256, 256)"
      ]
     },
     "execution_count": 2,
     "metadata": {},
     "output_type": "execute_result"
    }
   ],
   "source": [
    "main_dir='/global/cfs/cdirs/m3363/www/transfer_data_livermore/256cube_dataset/'\n",
    "fname=main_dir+'norm_1_train_val_350.npy'\n",
    "a1=np.load(fname,mmap_mode='r')\n",
    "print(a1.shape)\n",
    "\n",
    "f1=main_dir+'train_normed.npy'\n",
    "np.save(f1,a1[:4000])\n",
    "f2=main_dir+'val_normed.npy'\n",
    "np.save(f2,a1[4000:])"
   ]
  },
  {
   "cell_type": "code",
   "execution_count": 8,
   "metadata": {},
   "outputs": [
    {
     "name": "stdout",
     "output_type": "stream",
     "text": [
      "(626, 1, 512, 512, 512)\n"
     ]
    }
   ],
   "source": [
    "main_dir='/global/cfs/cdirs/m3363/www/transfer_data_livermore/512cube_dataset/'\n",
    "fname=main_dir+'norm_1_train_val_600.npy'\n",
    "a1=np.load(fname,mmap_mode='r')\n",
    "print(a1.shape)"
   ]
  },
  {
   "cell_type": "code",
   "execution_count": 9,
   "metadata": {},
   "outputs": [],
   "source": [
    "f1=main_dir+'train_normed.npy'\n",
    "np.save(f1,a1[:550])\n",
    "f2=main_dir+'val_normed.npy'\n",
    "np.save(f2,a1[550:])"
   ]
  },
  {
   "cell_type": "code",
   "execution_count": null,
   "metadata": {},
   "outputs": [],
   "source": [
    "fname='/global/cfs/cdirs/m3363/www/transfer_data_livermore/512cube_dataset/norm_1_train_val_400.npy'\n",
    "np.load(fname,mmap_mode='r').shape"
   ]
  }
 ],
 "metadata": {
  "kernelspec": {
   "display_name": "v3",
   "language": "python",
   "name": "v-jpt-3"
  },
  "language_info": {
   "codemirror_mode": {
    "name": "ipython",
    "version": 3
   },
   "file_extension": ".py",
   "mimetype": "text/x-python",
   "name": "python",
   "nbconvert_exporter": "python",
   "pygments_lexer": "ipython3",
   "version": "3.8.6"
  }
 },
 "nbformat": 4,
 "nbformat_minor": 4
}

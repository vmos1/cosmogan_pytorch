{
 "cells": [
  {
   "cell_type": "markdown",
   "metadata": {},
   "source": [
    "# Code to create smaller images by down-sampling data.\n",
    "For example, going from 512 square images to 128 by summing up blocks of pixels\n",
    "Feb 18, 2021"
   ]
  },
  {
   "cell_type": "code",
   "execution_count": 2,
   "metadata": {},
   "outputs": [],
   "source": [
    "import numpy as np\n",
    "import pandas as pd\n",
    "import h5py\n",
    "import os\n",
    "\n",
    "import glob\n",
    "import time\n",
    "\n",
    "from scipy.ndimage import gaussian_filter   ### For gausian filter"
   ]
  },
  {
   "cell_type": "code",
   "execution_count": 49,
   "metadata": {},
   "outputs": [
    {
     "name": "stdout",
     "output_type": "stream",
     "text": [
      "2\n",
      "(3, 3, 3)\n"
     ]
    }
   ],
   "source": [
    "ip_x,ip_y,ip_z=6,6,6 ## Sizes of input image\n",
    "op_x,op_y,op_z=3,3,3 ## Sizes of output image\n",
    "print(step_x)\n",
    "\n",
    "op_img=np.zeros(shape=(op_x,op_y,op_z),dtype=float)\n",
    "print(op_img.shape)\n"
   ]
  },
  {
   "cell_type": "code",
   "execution_count": 50,
   "metadata": {},
   "outputs": [
    {
     "data": {
      "text/plain": [
       "(6, 6, 6)"
      ]
     },
     "execution_count": 50,
     "metadata": {},
     "output_type": "execute_result"
    }
   ],
   "source": [
    "img=np.arange(ip_x*ip_y*ip_z).reshape(ip_x,ip_y,ip_z)\n",
    "img.shape"
   ]
  },
  {
   "cell_type": "code",
   "execution_count": 54,
   "metadata": {},
   "outputs": [],
   "source": [
    "def f_get_blocked_image(ip_img,op_img):\n",
    "    \n",
    "    step_x,step_y,step_z=ip_x//op_x,ip_y//op_y,ip_z//op_z\n",
    "    for i in range(0,op_x):\n",
    "        for j in range(0,op_y):\n",
    "            for k in range(0,op_z):\n",
    "                op_img[i,j,k]=ip_img[(i*step_x):((i+1)*step_x),(j*step_y):((j+1)*step_y),(k*step_z):((k+1)*step_z)].sum()\n",
    "\n",
    "    return op_img"
   ]
  },
  {
   "cell_type": "code",
   "execution_count": 56,
   "metadata": {},
   "outputs": [
    {
     "data": {
      "text/plain": [
       "(3, 3, 3)"
      ]
     },
     "execution_count": 56,
     "metadata": {},
     "output_type": "execute_result"
    }
   ],
   "source": [
    "f_get_blocked_image(img,op_img).shape"
   ]
  },
  {
   "cell_type": "code",
   "execution_count": null,
   "metadata": {},
   "outputs": [],
   "source": []
  },
  {
   "cell_type": "code",
   "execution_count": 3,
   "metadata": {},
   "outputs": [
    {
     "name": "stdout",
     "output_type": "stream",
     "text": [
      "(1000, 1, 64, 64, 64)\n"
     ]
    }
   ],
   "source": [
    "fname='/global/cfs/cdirs/m3363/vayyar/cosmogan_data/raw_data/3d_data/dataset5_3dcgan_4univs_64cube_simple_splicing/'\n",
    "# fname+='Om0.3_Sg0.5_H70.0.npy'\n",
    "fname+='norm_1_sig_0.5_train_val.npy'\n",
    "fname='/global/cfs/cdirs/m3363/vayyar/cosmogan_data/raw_data/3d_data/dataset1_smoothing_const_params_64cube_100k/val.npy'\n",
    "a1=np.load(fname)\n",
    "print(a1.shape)"
   ]
  },
  {
   "cell_type": "code",
   "execution_count": 4,
   "metadata": {},
   "outputs": [
    {
     "data": {
      "text/plain": [
       "901.12585"
      ]
     },
     "execution_count": 4,
     "metadata": {},
     "output_type": "execute_result"
    }
   ],
   "source": [
    "np.max(a1)"
   ]
  },
  {
   "cell_type": "code",
   "execution_count": null,
   "metadata": {},
   "outputs": [],
   "source": []
  }
 ],
 "metadata": {
  "kernelspec": {
   "display_name": "v3",
   "language": "python",
   "name": "v-jpt-3"
  },
  "language_info": {
   "codemirror_mode": {
    "name": "ipython",
    "version": 3
   },
   "file_extension": ".py",
   "mimetype": "text/x-python",
   "name": "python",
   "nbconvert_exporter": "python",
   "pygments_lexer": "ipython3",
   "version": "3.8.6"
  }
 },
 "nbformat": 4,
 "nbformat_minor": 4
}

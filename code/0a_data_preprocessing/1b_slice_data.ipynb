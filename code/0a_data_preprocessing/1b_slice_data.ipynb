{
 "cells": [
  {
   "cell_type": "markdown",
   "metadata": {},
   "source": [
    "# Code to extract slices from hdf5 data files\n",
    "\n",
    "April 7, 2020 Added slicing along x,y,z axes \\\n",
    "June 9, 2020: Adding gaussian smoothing  "
   ]
  },
  {
   "cell_type": "code",
   "execution_count": 1,
   "metadata": {},
   "outputs": [],
   "source": [
    "import numpy as np\n",
    "import h5py\n",
    "import os\n",
    "\n",
    "import glob\n",
    "import argparse\n",
    "import time\n",
    "\n",
    "from scipy.ndimage import gaussian_filter   ### For gausian filter"
   ]
  },
  {
   "cell_type": "markdown",
   "metadata": {},
   "source": [
    "### Read in list of file"
   ]
  },
  {
   "cell_type": "code",
   "execution_count": 2,
   "metadata": {},
   "outputs": [
    {
     "data": {
      "text/plain": [
       "200"
      ]
     },
     "execution_count": 2,
     "metadata": {},
     "output_type": "execute_result"
    }
   ],
   "source": [
    "### Location of hdf5 files\n",
    "data_dir='/global/project/projectdirs/m3363/www/cosmoUniverse_2019_08_const/'\n",
    "### Extract list of hdf5 files\n",
    "f_list=glob.glob(data_dir+'*.hdf5')\n",
    "len(f_list)\n"
   ]
  },
  {
   "cell_type": "code",
   "execution_count": 9,
   "metadata": {},
   "outputs": [],
   "source": [
    "\n",
    "def f_get_slices_all_axes(f_list,smoothing=False,splice_interval=8):\n",
    "    '''\n",
    "    Get 2D slices of 512^3 images along all 3 axes\n",
    "    splice_interval is the spacing between layers \n",
    "    '''\n",
    "    \n",
    "    slices = []\n",
    "    img_dim = 128\n",
    "    perside = 512//img_dim\n",
    "    \n",
    "    for fname in f_list:\n",
    "        with h5py.File(fname, 'r') as inputdata:\n",
    "            img_arr=np.array(inputdata['full'])\n",
    "            if smoothing: img_arr=gaussian_filter(img_arr,sigma=0.5,mode='wrap') ### Implement Gaussian smoothing\n",
    "            for i1 in range(perside):\n",
    "                for i2 in range(perside):\n",
    "                    # Select slices along planes : xy,yz, zx, for redshift=0 \n",
    "                    # (128 * 128 images from 512 x 512 images-> 16 images)\n",
    "                    ## yz axis: \n",
    "                    data = img_arr[::splice_interval, i1*img_dim:(i1+1)*img_dim, i2*img_dim:(i2+1)*img_dim, 0]\n",
    "                    data2=np.transpose(data,(0,1,2)) ### Transpose to get array in the form (samples,128,128)\n",
    "                    np.random.shuffle(data2) ### Shuffle samples (along first axis)\n",
    "                    slices.append(np.expand_dims(data2, axis=-1))\n",
    "\n",
    "                    ## xy axis: \n",
    "                    data = img_arr[i1*img_dim:(i1+1)*img_dim,i2*img_dim:(i2+1)*img_dim,::splice_interval,0]\n",
    "                    data2=np.transpose(data,(2,0,1)) ### Transpose to get array in the form (samples,128,128)\n",
    "                    np.random.shuffle(data2) ### Shuffle samples (along first axis)\n",
    "                    slices.append(np.expand_dims(data2, axis=-1))      \n",
    "\n",
    "                    ## xz axis: \n",
    "                    data = img_arr[i1*img_dim:(i1+1)*img_dim,::splice_interval,i2*img_dim:(i2+1)*img_dim,0]\n",
    "                    data2=np.transpose(data,(1,0,2))  ### Transpose to get array in the form (samples,128,128)\n",
    "                    np.random.shuffle(data2) ### Shuffle samples (along first axis)\n",
    "                    slices.append(np.expand_dims(data2, axis=-1))\n",
    "\n",
    "        print('Sliced %s'%fname)\n",
    "    slices = np.concatenate(slices)\n",
    "    print(slices.shape)\n",
    "    \n",
    "    return slices\n",
    "\n",
    "# slices=f_get_slices_all_axes(f_list[:2],smoothing=False,splice_interval=4)"
   ]
  },
  {
   "cell_type": "code",
   "execution_count": null,
   "metadata": {},
   "outputs": [],
   "source": [
    "# np.vsplit(data,data.shape[0])[0].shape"
   ]
  },
  {
   "cell_type": "code",
   "execution_count": 22,
   "metadata": {},
   "outputs": [
    {
     "name": "stdout",
     "output_type": "stream",
     "text": [
      "Sliced /global/project/projectdirs/m3363/www/cosmoUniverse_2019_08_const/univ_ics_2019-03_a11625921.hdf5\n",
      "Sliced /global/project/projectdirs/m3363/www/cosmoUniverse_2019_08_const/univ_ics_2019-03_a8101968.hdf5\n",
      "(6144, 128, 128, 1)\n",
      "Time taken 6.215606451034546\n"
     ]
    }
   ],
   "source": [
    "t1=time.time()\n",
    "slices=f_get_slices_all_axes(f_list[:2],smoothing=False,splice_interval=8)\n",
    "t2=time.time()\n",
    "print('Time taken',t2-t1)"
   ]
  },
  {
   "cell_type": "code",
   "execution_count": null,
   "metadata": {},
   "outputs": [],
   "source": []
  },
  {
   "cell_type": "code",
   "execution_count": null,
   "metadata": {},
   "outputs": [],
   "source": [
    "# ### Save data to files\n",
    "\n",
    "# ### Location to store the .npy files generated by this code\n",
    "# des_dir='/global/cfs/cdirs/m3363/vayyar/cosmogan_data/raw_data/temp/'\n",
    "# file_prefix='large_dataset'\n",
    "\n",
    "# train_index=np.int(0.90*len(slices))\n",
    "# train = slices[:train_index]\n",
    "# val = slices[train_index:]\n",
    "\n",
    "# train_fname = dest_dir+file_prefix+'_train.npy'\n",
    "# print('Saving file %s'%train_fname)\n",
    "# print('shape='+str(train.shape))\n",
    "# np.save(train_fname, train)\n",
    "\n",
    "# val_fname = dest_dir+file_prefix+'_val.npy'\n",
    "# print('Saving file %s'%val_fname)\n",
    "# print('shape='+str(val.shape))\n",
    "# np.save(val_fname, val)"
   ]
  },
  {
   "cell_type": "code",
   "execution_count": 3,
   "metadata": {},
   "outputs": [
    {
     "name": "stdout",
     "output_type": "stream",
     "text": [
      "(3000, 128, 128, 1) <class 'numpy.int16'>\n"
     ]
    }
   ],
   "source": [
    "# fname='/global/cfs/cdirs/m3363/vayyar/cosmogan_data/raw_data/dataset_2_smooothing_200k/full_with_smoothing_1.npy'\n",
    "fname='/global/cfs/cdirs/m3363/vayyar/cosmogan_data/raw_data/dataset_2_smooothing_200k/val.npy'\n",
    "a1=np.load(fname)\n",
    "print(a1.shape,type(a1[0,0,0,0]))"
   ]
  },
  {
   "cell_type": "code",
   "execution_count": null,
   "metadata": {},
   "outputs": [],
   "source": []
  }
 ],
 "metadata": {
  "kernelspec": {
   "display_name": "v3",
   "language": "python",
   "name": "v-jpt-3"
  },
  "language_info": {
   "codemirror_mode": {
    "name": "ipython",
    "version": 3
   },
   "file_extension": ".py",
   "mimetype": "text/x-python",
   "name": "python",
   "nbconvert_exporter": "python",
   "pygments_lexer": "ipython3",
   "version": "3.8.6"
  }
 },
 "nbformat": 4,
 "nbformat_minor": 4
}

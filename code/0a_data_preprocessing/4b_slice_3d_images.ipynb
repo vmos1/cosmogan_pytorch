{
 "cells": [
  {
   "cell_type": "markdown",
   "metadata": {},
   "source": [
    "## Code to save a few 3D images from the dataset\n",
    "Oct 15, 2020"
   ]
  },
  {
   "cell_type": "code",
   "execution_count": 1,
   "metadata": {},
   "outputs": [],
   "source": [
    "import numpy as np\n",
    "import h5py\n",
    "import os\n",
    "\n",
    "import glob\n",
    "import time\n",
    "\n",
    "from scipy.ndimage import gaussian_filter   ### For gausian filter"
   ]
  },
  {
   "cell_type": "code",
   "execution_count": 2,
   "metadata": {},
   "outputs": [
    {
     "data": {
      "text/plain": [
       "200"
      ]
     },
     "execution_count": 2,
     "metadata": {},
     "output_type": "execute_result"
    }
   ],
   "source": [
    "### Location of hdf5 files\n",
    "data_dir='/global/project/projectdirs/m3363/www/cosmoUniverse_2019_08_const/'\n",
    "### Extract list of hdf5 files\n",
    "f_list=glob.glob(data_dir+'*.hdf5')\n",
    "len(f_list)\n"
   ]
  },
  {
   "cell_type": "code",
   "execution_count": 3,
   "metadata": {},
   "outputs": [],
   "source": [
    "def f_get_slices_3d(f_list,smoothing=False,img_dim=32):\n",
    "    '''\n",
    "    Get 3D slices of 512^3 images \n",
    "    '''\n",
    "    \n",
    "    slices = []\n",
    "    img_size=512\n",
    "    \n",
    "    for fname in f_list:\n",
    "        with h5py.File(fname, 'r') as inputdata:\n",
    "            img_arr=np.array(inputdata['full'])\n",
    "            if smoothing: img_arr=gaussian_filter(img_arr,sigma=0.5,mode='wrap') ### Implement Gaussian smoothing\n",
    "            for i1 in range(0,img_size,img_dim):\n",
    "                for i2 in range(0,img_size,img_dim):\n",
    "                    for i3 in range(0,img_size,img_dim):\n",
    "#                         print(i1,i2,i3)\n",
    "                        data = img_arr[i1:i1+img_dim,i2:i2+img_dim ,i3:i3+img_dim, 0]\n",
    "                        slices.append(np.expand_dims(data, axis=0))\n",
    "\n",
    "        print('Sliced %s'%fname)\n",
    "    slices_arr = np.concatenate(slices)\n",
    "    np.random.shuffle(slices_arr) ### Shuffle samples (along first axis)\n",
    "    print(slices_arr.shape)\n",
    "    \n",
    "    return slices_arr"
   ]
  },
  {
   "cell_type": "code",
   "execution_count": null,
   "metadata": {},
   "outputs": [],
   "source": []
  },
  {
   "cell_type": "code",
   "execution_count": null,
   "metadata": {},
   "outputs": [],
   "source": [
    "smoothing=False\n",
    "img_dim=64\n",
    "slices = []\n",
    "img_size=512\n",
    "#     perside = img_size//img_dim # eg: 512//128 = 4\n",
    "\n",
    "for fname in f_list[:2]:\n",
    "    with h5py.File(fname, 'r') as inputdata:\n",
    "        img_arr=np.array(inputdata['full'])\n",
    "        if smoothing: img_arr=gaussian_filter(img_arr,sigma=0.5,mode='wrap') ### Implement Gaussian smoothing\n",
    "        for i1 in range(0,img_size,img_dim):\n",
    "            for i2 in range(0,img_size,img_dim):\n",
    "                for i3 in range(0,img_size,img_dim):\n",
    "#                         print(i1,i2,i3)\n",
    "                    data = img_arr[i1:i1+img_dim,i2:i2+img_dim ,i3:i3+img_dim, 0]\n",
    "                    slices.append(np.expand_dims(data, axis=0))\n",
    "\n",
    "    print('Sliced %s'%fname)\n",
    "slices_arr = np.concatenate(slices)\n",
    "np.random.shuffle(slices_arr) ### Shuffle samples (along first axis)\n",
    "print(slices_arr.shape)"
   ]
  },
  {
   "cell_type": "code",
   "execution_count": null,
   "metadata": {},
   "outputs": [],
   "source": [
    "%timeit np.concatenate(slices)\n",
    "%timeit np.vstack(slices)"
   ]
  },
  {
   "cell_type": "code",
   "execution_count": 4,
   "metadata": {},
   "outputs": [
    {
     "name": "stdout",
     "output_type": "stream",
     "text": [
      "Sliced /global/project/projectdirs/m3363/www/cosmoUniverse_2019_08_const/univ_ics_2019-03_a11625921.hdf5\n",
      "Sliced /global/project/projectdirs/m3363/www/cosmoUniverse_2019_08_const/univ_ics_2019-03_a8101968.hdf5\n",
      "(1024, 64, 64, 64)\n",
      "Time taken 3.7824184894561768\n"
     ]
    }
   ],
   "source": [
    "t1=time.time()\n",
    "slices=f_get_slices_3d(f_list[:2],smoothing=False,img_dim=64)\n",
    "t2=time.time()\n",
    "print('Time taken',t2-t1)"
   ]
  },
  {
   "cell_type": "code",
   "execution_count": null,
   "metadata": {},
   "outputs": [],
   "source": [
    "# ### Save 3D images to file\n",
    "# save_loc=''\n",
    "# slices=np.expand_dims(slices,axis=1)## Add channel index\n",
    "# np.save('3d_images_10.npy',slices)"
   ]
  },
  {
   "cell_type": "code",
   "execution_count": 7,
   "metadata": {},
   "outputs": [
    {
     "ename": "ValueError",
     "evalue": "cannot reshape array of size 12046534656 into shape (101251,64,1,64,64)",
     "output_type": "error",
     "traceback": [
      "\u001b[0;31m---------------------------------------------------------------------------\u001b[0m",
      "\u001b[0;31mValueError\u001b[0m                                Traceback (most recent call last)",
      "\u001b[0;32m<ipython-input-7-e310e2009ae8>\u001b[0m in \u001b[0;36m<module>\u001b[0;34m\u001b[0m\n\u001b[1;32m      1\u001b[0m \u001b[0mfname\u001b[0m\u001b[0;34m=\u001b[0m\u001b[0;34m'/global/cfs/cdirs/m3363/vayyar/cosmogan_data/raw_data/3d_data/norm_1_train_val.npy'\u001b[0m\u001b[0;34m\u001b[0m\u001b[0;34m\u001b[0m\u001b[0m\n\u001b[0;32m----> 2\u001b[0;31m \u001b[0ma1\u001b[0m\u001b[0;34m=\u001b[0m\u001b[0mnp\u001b[0m\u001b[0;34m.\u001b[0m\u001b[0mload\u001b[0m\u001b[0;34m(\u001b[0m\u001b[0mfname\u001b[0m\u001b[0;34m)\u001b[0m\u001b[0;34m\u001b[0m\u001b[0;34m\u001b[0m\u001b[0m\n\u001b[0m",
      "\u001b[0;32m~/.conda/envs/v3/lib/python3.8/site-packages/numpy/lib/npyio.py\u001b[0m in \u001b[0;36mload\u001b[0;34m(file, mmap_mode, allow_pickle, fix_imports, encoding)\u001b[0m\n\u001b[1;32m    437\u001b[0m                 \u001b[0;32mreturn\u001b[0m \u001b[0mformat\u001b[0m\u001b[0;34m.\u001b[0m\u001b[0mopen_memmap\u001b[0m\u001b[0;34m(\u001b[0m\u001b[0mfile\u001b[0m\u001b[0;34m,\u001b[0m \u001b[0mmode\u001b[0m\u001b[0;34m=\u001b[0m\u001b[0mmmap_mode\u001b[0m\u001b[0;34m)\u001b[0m\u001b[0;34m\u001b[0m\u001b[0;34m\u001b[0m\u001b[0m\n\u001b[1;32m    438\u001b[0m             \u001b[0;32melse\u001b[0m\u001b[0;34m:\u001b[0m\u001b[0;34m\u001b[0m\u001b[0;34m\u001b[0m\u001b[0m\n\u001b[0;32m--> 439\u001b[0;31m                 return format.read_array(fid, allow_pickle=allow_pickle,\n\u001b[0m\u001b[1;32m    440\u001b[0m                                          pickle_kwargs=pickle_kwargs)\n\u001b[1;32m    441\u001b[0m         \u001b[0;32melse\u001b[0m\u001b[0;34m:\u001b[0m\u001b[0;34m\u001b[0m\u001b[0;34m\u001b[0m\u001b[0m\n",
      "\u001b[0;32m~/.conda/envs/v3/lib/python3.8/site-packages/numpy/lib/format.py\u001b[0m in \u001b[0;36mread_array\u001b[0;34m(fp, allow_pickle, pickle_kwargs)\u001b[0m\n\u001b[1;32m    769\u001b[0m             \u001b[0marray\u001b[0m \u001b[0;34m=\u001b[0m \u001b[0marray\u001b[0m\u001b[0;34m.\u001b[0m\u001b[0mtranspose\u001b[0m\u001b[0;34m(\u001b[0m\u001b[0;34m)\u001b[0m\u001b[0;34m\u001b[0m\u001b[0;34m\u001b[0m\u001b[0m\n\u001b[1;32m    770\u001b[0m         \u001b[0;32melse\u001b[0m\u001b[0;34m:\u001b[0m\u001b[0;34m\u001b[0m\u001b[0;34m\u001b[0m\u001b[0m\n\u001b[0;32m--> 771\u001b[0;31m             \u001b[0marray\u001b[0m\u001b[0;34m.\u001b[0m\u001b[0mshape\u001b[0m \u001b[0;34m=\u001b[0m \u001b[0mshape\u001b[0m\u001b[0;34m\u001b[0m\u001b[0;34m\u001b[0m\u001b[0m\n\u001b[0m\u001b[1;32m    772\u001b[0m \u001b[0;34m\u001b[0m\u001b[0m\n\u001b[1;32m    773\u001b[0m     \u001b[0;32mreturn\u001b[0m \u001b[0marray\u001b[0m\u001b[0;34m\u001b[0m\u001b[0;34m\u001b[0m\u001b[0m\n",
      "\u001b[0;31mValueError\u001b[0m: cannot reshape array of size 12046534656 into shape (101251,64,1,64,64)"
     ]
    }
   ],
   "source": [
    "fname='/global/cfs/cdirs/m3363/vayyar/cosmogan_data/raw_data/3d_data/norm_1_train_val.npy'\n",
    "a1=np.load(fname)"
   ]
  },
  {
   "cell_type": "code",
   "execution_count": null,
   "metadata": {},
   "outputs": [],
   "source": [
    "print(a1.shape)"
   ]
  },
  {
   "cell_type": "code",
   "execution_count": 8,
   "metadata": {},
   "outputs": [
    {
     "data": {
      "text/plain": [
       "4.851498446862017"
      ]
     },
     "execution_count": 8,
     "metadata": {},
     "output_type": "execute_result"
    }
   ],
   "source": [
    "101251*64*64*64/5470957568"
   ]
  },
  {
   "cell_type": "code",
   "execution_count": null,
   "metadata": {},
   "outputs": [],
   "source": []
  }
 ],
 "metadata": {
  "kernelspec": {
   "display_name": "v3",
   "language": "python",
   "name": "v-jpt-3"
  },
  "language_info": {
   "codemirror_mode": {
    "name": "ipython",
    "version": 3
   },
   "file_extension": ".py",
   "mimetype": "text/x-python",
   "name": "python",
   "nbconvert_exporter": "python",
   "pygments_lexer": "ipython3",
   "version": "3.8.6"
  }
 },
 "nbformat": 4,
 "nbformat_minor": 4
}

{
 "cells": [
  {
   "cell_type": "markdown",
   "metadata": {},
   "source": [
    "# Launch LBANN traing jobs\n",
    "Code to create a batch script for launching jobs on cori GPU\n",
    "\n",
    "Sep 1, 2020"
   ]
  },
  {
   "cell_type": "code",
   "execution_count": 1,
   "metadata": {},
   "outputs": [],
   "source": [
    "import os\n",
    "import glob,time\n",
    "import subprocess as sp\n",
    "import numpy as np\n",
    "\n",
    "import yaml\n"
   ]
  },
  {
   "cell_type": "code",
   "execution_count": 2,
   "metadata": {},
   "outputs": [
    {
     "name": "stdout",
     "output_type": "stream",
     "text": [
      "/global/u1/v/vpa/project/jpt_notebooks/Cosmology/Cosmo_GAN/repositories/cosmogan_pytorch/code/1_basic_GAN/new_run_scripts\n"
     ]
    }
   ],
   "source": [
    "start_dir=os.getcwd()\n",
    "print(start_dir)"
   ]
  },
  {
   "cell_type": "markdown",
   "metadata": {},
   "source": [
    "## Define machine and code "
   ]
  },
  {
   "cell_type": "code",
   "execution_count": 3,
   "metadata": {},
   "outputs": [],
   "source": [
    "facility='cori'\n",
    "img_size=128\n",
    "run_type='2dgan'\n",
    "assert facility in ['cori','summit'], \"Error%s\"%(facility)\n",
    "assert img_size in [128,512]\n",
    "assert run_type in ['2dgan','2dcgan','3dgan','3dcgan']"
   ]
  },
  {
   "cell_type": "markdown",
   "metadata": {},
   "source": [
    "## Read ref_launch.yaml and define dictionary"
   ]
  },
  {
   "cell_type": "code",
   "execution_count": 4,
   "metadata": {},
   "outputs": [],
   "source": [
    "launch_cfile=start_dir+'/ref_launch.yaml'\n",
    "\n",
    "with open(launch_cfile) as f:\n",
    "    config_dict= yaml.load(f, Loader=yaml.SafeLoader)"
   ]
  },
  {
   "cell_type": "code",
   "execution_count": 28,
   "metadata": {},
   "outputs": [
    {
     "name": "stdout",
     "output_type": "stream",
     "text": [
      "{'install_loc': '/global/cfs/cdirs/m3363/lbann/tom_lbann_install_20210223', 'spack_loc': '/global/cfs/cdirs/m3363/lbann/tom_spack', 'code_dir': '/global/u1/v/vpa/project/jpt_notebooks/Cosmology/Cosmo_GAN/repositories/cosmogan_pytorch/code/1_basic_GAN/1_main_code/DDP_new_loss/', 'config': 'config_2dgan.yaml', 'staging_loc': '/global/cfs/cdirs/m3363/vayyar/cosmogan_data/results_from_other_code/pytorch/results/', 'nodes': 1, 'gpus_per_node': 8, 'time': '4:00:00', 'job_name': 'ddp_1node_2_basic_loss', 'cpus_per_node': 80}\n"
     ]
    }
   ],
   "source": [
    "## Read ref_launch.yaml\n",
    "dict_pars=config_dict[machine][img_size]\n",
    "dict_pars.update({'nodes':1,'gpus_per_node':8,'time':'4:00:00','job_name':'ddp_1node_2_basic_loss'})\n",
    "\n",
    "print(dict_pars)\n"
   ]
  },
  {
   "cell_type": "code",
   "execution_count": null,
   "metadata": {},
   "outputs": [],
   "source": [
    "cori_strg='''\n",
    "#!/bin/bash\n",
    "#################\n",
    "#SBATCH --nodes={nodes}\n",
    "#SBATCH --qos=regular\n",
    "#SBATCH --output=slurm-%x-%j.out\n",
    "#SBATCH --constraint=gpu\n",
    "#SBATCH --account=m3363\n",
    "#SBATCH --ntasks-per-node={gpus_per_node}\n",
    "#SBATCH --cpus-per-task=10\n",
    "#SBATCH --gpus-per-task=1\n",
    "#SBATCH --time={time}\n",
    "#SBATCH --job-name={job_name}\n",
    "\n",
    "echo \"--start date\" `date` `date +%s`\n",
    "echo '--hostname ' $HOSTNAME\n",
    "\n",
    "#nGPU_per_node=$SLURM_GPUS_PER_TASK \n",
    "\n",
    "### Initial setup\n",
    "module load cgpu\n",
    "module load pytorch/v1.6.0-gpu\n",
    "#conda activate v3\n",
    "\n",
    "N=${SLURM_NNODES}\n",
    "nprocspn=${SLURM_NTASKS_PER_NODE}\n",
    "G=$[ $N * $nprocspn ]\n",
    "echo S:`hostname` G=$G  N=$N\n",
    "export MASTER_ADDR=`hostname --ip-address`\n",
    "echo S:use MASTER_ADDR=$MASTER_ADDR\n",
    "\n",
    "### Run the main code\n",
    "code_dir={code_dir}\n",
    "\n",
    "export CMD=\" python -u $code_dir/main.py --config $code_dir/config_2dgan.yaml --facility cori --ddp\"\n",
    "srun -n $G bash -c ' ${CMD} '\n",
    "\n",
    "echo \"--end date\" `date` `date +%s`\n",
    "'''\n"
   ]
  },
  {
   "cell_type": "code",
   "execution_count": null,
   "metadata": {},
   "outputs": [],
   "source": [
    "summit_strg='''\n",
    "#!/bin/bash\n",
    "# Begin LSF directives\n",
    "#BSUB -P AST153\n",
    "#BSUB -J {job_name} \n",
    "#BSUB -o lsf-2dgan.%J\n",
    "#BSUB -W {time}\n",
    "#BSUB -nnodes {nodes}\n",
    "#BSUB -alloc_flags \"nvme smt4\"\n",
    "# End LSF directives and begin shell commands\n",
    "\n",
    "NODES=$(cat ${LSB_DJOB_HOSTFILE} | sort | uniq | grep -v login | grep -v batch | wc -l)\n",
    "\n",
    "module load open-ce\n",
    "# add this 2 lines to run inside conda with my privately compiled Apex\n",
    "module load gcc/8\n",
    "conda activate cloned_env\n",
    "\n",
    "export OMP_NUM_THREADS=1\n",
    "export NCCL_DEBUG=INFO\n",
    "\n",
    "config=bs1024-smt\n",
    "ver=S  # train.py version\n",
    "jobId=${LSB_JOBID}\n",
    "\n",
    "code_dir={code_dir}\n",
    "config_file=$code_dir/'config_2dgan_summit.yaml'\n",
    "\n",
    "CMD=\" python -u $code_dir/main.py --config config_file --facility summit --ddp \"\n",
    "echo \"S:CMD=$CMD\"\n",
    "\n",
    "SMPIARGS=\"--smpiargs \"off\"\"\n",
    "jsrun -n${NODES} -a6 -c42 -g6 -r1 $SMPIARGS --bind=proportional-packed:7 --launch_distribution=packed ./launchSummit.sh \"$CMD\"\n",
    "'''"
   ]
  },
  {
   "cell_type": "code",
   "execution_count": 30,
   "metadata": {},
   "outputs": [],
   "source": [
    "# Build bash string\n",
    "if machine=='cori':\n",
    "    bash_strg=cori_strg.format(**dict_pars)\n",
    "elif machine=='summit':\n",
    "    bash_strg=summit_strg.format(**dict_pars)\n"
   ]
  },
  {
   "cell_type": "code",
   "execution_count": null,
   "metadata": {},
   "outputs": [],
   "source": []
  },
  {
   "cell_type": "code",
   "execution_count": 31,
   "metadata": {},
   "outputs": [
    {
     "name": "stdout",
     "output_type": "stream",
     "text": [
      "/global/cfs/cdirs/m3363/vayyar/cosmogan_data/results_from_other_code/pytorch/results/batch_train_ddptest.sh\n"
     ]
    }
   ],
   "source": [
    "fname='batch_train_ddptest.sh'\n",
    "filename=dict_pars['staging_loc']+fname\n",
    "with open (filename,'w') as f:\n",
    "    f.write(bash_strg)\n",
    "print(filename)"
   ]
  },
  {
   "cell_type": "code",
   "execution_count": 32,
   "metadata": {},
   "outputs": [],
   "source": [
    "### Move to staging locations in project space:\n",
    "# os.chdir(dict_pars['staging_loc'])"
   ]
  },
  {
   "cell_type": "code",
   "execution_count": 33,
   "metadata": {},
   "outputs": [
    {
     "name": "stdout",
     "output_type": "stream",
     "text": [
      "#!/bin/bash\n",
      "#################\n",
      "#SBATCH --nodes=1\n",
      "#SBATCH --qos=regular\n",
      "#SBATCH --output=slurm-%x-%j.out\n",
      "#SBATCH --constraint=gpu\n",
      "#SBATCH --account=m3363\n",
      "#SBATCH --ntasks-per-node=1\n",
      "#SBATCH --cpus-per-task=80\n",
      "#SBATCH --gpus-per-task=8\n",
      "#SBATCH --time=4:00:00\n",
      "#SBATCH --job-name=ddp_1node_2_basic_loss\n",
      "\n",
      "echo \"--start date\" `date` `date +%s`\n",
      "echo '--hostname ' $HOSTNAME\n",
      "\n",
      "### Initial setup\n",
      "module load cgpu\n",
      "module load pytorch/v1.6.0-gpu  \n",
      "\n",
      "### Run the main code\n",
      "code_dir=/global/u1/v/vpa/project/jpt_notebooks/Cosmology/Cosmo_GAN/repositories/cosmogan_pytorch/code/1_basic_GAN/1_main_code/DDP_new_loss/\n",
      "\n",
      "srun -n1 python -m torch.distributed.launch --nproc_per_node=8 $code_dir/main.py --config $code_dir/config_2dgan.yaml\n",
      "echo \"--end date\" `date` `date +%s`\n",
      "    "
     ]
    }
   ],
   "source": [
    "%%bash -s \"$filename\" ## Use python variable in bash\n",
    "cat $1\n",
    "chmod +x $1"
   ]
  },
  {
   "cell_type": "markdown",
   "metadata": {},
   "source": [
    "## Submit job to cori GPU"
   ]
  },
  {
   "cell_type": "code",
   "execution_count": 34,
   "metadata": {},
   "outputs": [],
   "source": [
    "# %%bash -s \"$filename\" ## Use python variable in bash\n",
    "# module load cgpu\n",
    "# sbatch $1"
   ]
  },
  {
   "cell_type": "code",
   "execution_count": null,
   "metadata": {},
   "outputs": [],
   "source": []
  },
  {
   "cell_type": "code",
   "execution_count": null,
   "metadata": {},
   "outputs": [],
   "source": []
  },
  {
   "cell_type": "code",
   "execution_count": 35,
   "metadata": {},
   "outputs": [
    {
     "data": {
      "text/plain": [
       "3125.0"
      ]
     },
     "execution_count": 35,
     "metadata": {},
     "output_type": "execute_result"
    }
   ],
   "source": [
    "200000*0.25/(16)"
   ]
  },
  {
   "cell_type": "code",
   "execution_count": null,
   "metadata": {},
   "outputs": [],
   "source": []
  }
 ],
 "metadata": {
  "kernelspec": {
   "display_name": "v3",
   "language": "python",
   "name": "v-jpt-3"
  },
  "language_info": {
   "codemirror_mode": {
    "name": "ipython",
    "version": 3
   },
   "file_extension": ".py",
   "mimetype": "text/x-python",
   "name": "python",
   "nbconvert_exporter": "python",
   "pygments_lexer": "ipython3",
   "version": "3.8.6"
  }
 },
 "nbformat": 4,
 "nbformat_minor": 4
}

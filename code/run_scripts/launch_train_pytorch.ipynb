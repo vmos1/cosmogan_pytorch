{
 "cells": [
  {
   "cell_type": "markdown",
   "metadata": {},
   "source": [
    "# Launch LBANN traing jobs\n",
    "Code to create a batch script for launching jobs on cori GPU\n",
    "\n",
    "Sep 1, 2020"
   ]
  },
  {
   "cell_type": "code",
   "execution_count": 1,
   "metadata": {},
   "outputs": [],
   "source": [
    "import os\n",
    "import glob,time\n",
    "import subprocess as sp\n",
    "import numpy as np\n",
    "\n",
    "import yaml\n"
   ]
  },
  {
   "cell_type": "code",
   "execution_count": 29,
   "metadata": {},
   "outputs": [
    {
     "name": "stdout",
     "output_type": "stream",
     "text": [
      "/autofs/nccs-svm1_home1/venkitesh/projects/cosmogan/cosmogan_pytorch/code/run_scripts\n"
     ]
    }
   ],
   "source": [
    "start_dir=os.getcwd()\n",
    "print(start_dir)"
   ]
  },
  {
   "cell_type": "markdown",
   "metadata": {},
   "source": [
    "## Define machine and code "
   ]
  },
  {
   "cell_type": "code",
   "execution_count": 111,
   "metadata": {},
   "outputs": [],
   "source": [
    "facility='summit'\n",
    "img_size=128\n",
    "run_type='2dgan'\n",
    "assert facility in ['cori','summit'], \"Error%s\"%(facility)\n",
    "assert img_size in [64,128,512]\n",
    "assert run_type in ['2dgan','2dcgan','3dgan','3dcgan']"
   ]
  },
  {
   "cell_type": "markdown",
   "metadata": {},
   "source": [
    "## Read ref_launch.yaml and define dictionary"
   ]
  },
  {
   "cell_type": "code",
   "execution_count": 112,
   "metadata": {},
   "outputs": [
    {
     "name": "stdout",
     "output_type": "stream",
     "text": [
      "{'code_dir': 'code/1_basic_GAN/1_main_code/DDP_new_loss', 'config': 'config_2dgan_summit.yaml', 'val_file': '/gpfs/alpine/ast153/proj-shared/venkitesh/Cosmogan/data/raw_data/2d_data/128_square/dataset_2_smoothing_200k/norm_1_train_val.npy'}\n",
      "{'code_dir': '/autofs/nccs-svm1_home1/venkitesh/projects/cosmogan/cosmogan_pytorch/code/1_basic_GAN/1_main_code/DDP_new_loss', 'config': 'config_2dgan_summit.yaml', 'val_file': '/gpfs/alpine/ast153/proj-shared/venkitesh/Cosmogan/data/raw_data/2d_data/128_square/dataset_2_smoothing_200k/norm_1_train_val.npy', 'nodes': 2, 'gpus_per_node': 8, 'time': '4:00:00', 'job_name': 'ddp_3dgan', 'staging_loc': '/gpfs/alpine/ast153/proj-shared/venkitesh/Cosmogan/data/results_pytorch/'}\n"
     ]
    }
   ],
   "source": [
    "## Read ref_launch.yaml\n",
    "# start_dir='/global/u1/v/vpa/project/jpt_notebooks/Cosmology/Cosmo_GAN/repositories/cosmogan_pytorch/code/run_scripts'\n",
    "launch_cfile=start_dir+'/ref_launch.yaml'\n",
    "\n",
    "with open(launch_cfile) as f:\n",
    "    config_dict= yaml.load(f, Loader=yaml.SafeLoader)\n",
    "\n",
    "main_code_dir=config_dict[facility]['main_code_dir']\n",
    "dict_pars=config_dict[facility][img_size][run_type]\n",
    "print(dict_pars)\n",
    "dict_pars.update({'nodes':2,'gpus_per_node':8,'time':'4:00:00','job_name':'ddp_3dgan'})\n",
    "\n",
    "dict_pars['code_dir']=main_code_dir+dict_pars['code_dir']\n",
    "dict_pars['staging_loc']=config_dict[facility]['staging_loc']\n",
    "print(dict_pars)\n",
    "staging_loc=dict_pars['staging_loc']"
   ]
  },
  {
   "cell_type": "code",
   "execution_count": 113,
   "metadata": {},
   "outputs": [],
   "source": [
    "cori_strg='''#!/bin/bash\n",
    "#################\n",
    "#SBATCH --nodes={nodes}\n",
    "#SBATCH --qos=regular\n",
    "#SBATCH --output=slurm-%x-%j.out\n",
    "#SBATCH --constraint=gpu\n",
    "#SBATCH --account=m3363\n",
    "#SBATCH --ntasks-per-node={gpus_per_node}\n",
    "#SBATCH --cpus-per-task=10\n",
    "#SBATCH --gpus-per-task=1\n",
    "#SBATCH --time={time}\n",
    "#SBATCH --job-name={job_name}\n",
    "\n",
    "echo \"--start date\" `date` `date +%s`\n",
    "echo '--hostname ' $HOSTNAME\n",
    "\n",
    "#nGPU_per_node=$SLURM_GPUS_PER_TASK \n",
    "\n",
    "### Initial setup\n",
    "module load cgpu\n",
    "module load pytorch/v1.6.0-gpu\n",
    "#conda activate v3\n",
    "\n",
    "N=${{SLURM_NNODES}}\n",
    "nprocspn=${{SLURM_NTASKS_PER_NODE}}\n",
    "G=$[ $N * $nprocspn ]\n",
    "echo S:`hostname` G=$G  N=$N\n",
    "export MASTER_ADDR=`hostname --ip-address`\n",
    "echo S:use MASTER_ADDR=$MASTER_ADDR\n",
    "\n",
    "### Run the main code\n",
    "code_dir={code_dir}\n",
    "\n",
    "export CMD=\" python -u $code_dir/main.py --config $code_dir/{config} --facility cori --ddp\"\n",
    "srun -n $G bash -c ' ${{CMD}} '\n",
    "\n",
    "echo \"--end date\" `date` `date +%s`\n",
    "'''\n",
    "\n",
    "summit_strg='''#!/bin/bash\n",
    "# Begin LSF directives\n",
    "#BSUB -P AST153\n",
    "#BSUB -J {job_name} \n",
    "#BSUB -o lsf-{job_name}.%J\n",
    "#BSUB -W {time}\n",
    "#BSUB -nnodes {nodes}\n",
    "#BSUB -alloc_flags \"nvme smt4\"\n",
    "# End LSF directives and begin shell commands\n",
    "\n",
    "NODES=$(cat ${{LSB_DJOB_HOSTFILE}} | sort | uniq | grep -v login | grep -v batch | wc -l)\n",
    "\n",
    "module load open-ce\n",
    "# add this 2 lines to run inside conda with my privately compiled Apex\n",
    "module load gcc/8\n",
    "conda activate cloned_env\n",
    "\n",
    "export OMP_NUM_THREADS=1\n",
    "export NCCL_DEBUG=INFO\n",
    "\n",
    "config=bs1024-smt\n",
    "ver=S  # train.py version\n",
    "jobId=${{LSB_JOBID}}\n",
    "\n",
    "code_dir={code_dir}\n",
    "config_file=$code_dir/{config}\n",
    "\n",
    "CMD=\" python -u $code_dir/main.py --config $config_file --facility summit --ddp \"\n",
    "echo \"S:CMD=$CMD\"\n",
    "\n",
    "SMPIARGS=\"--smpiargs \"off\"\"\n",
    "jsrun -n${{NODES}} -a6 -c42 -g6 -r1 $SMPIARGS --bind=proportional-packed:7 --launch_distribution=packed ./launchSummit.sh \"$CMD\"\n",
    "'''"
   ]
  },
  {
   "cell_type": "code",
   "execution_count": 114,
   "metadata": {},
   "outputs": [],
   "source": [
    "# Build bash string\n",
    "if facility=='cori':\n",
    "    bash_strg=cori_strg.format(**dict_pars)\n",
    "elif facility=='summit':\n",
    "    bash_strg=summit_strg.format(**dict_pars)\n"
   ]
  },
  {
   "cell_type": "code",
   "execution_count": 115,
   "metadata": {},
   "outputs": [
    {
     "name": "stdout",
     "output_type": "stream",
     "text": [
      "/gpfs/alpine/ast153/proj-shared/venkitesh/Cosmogan/data/results_pytorch/batch_train_2dgan.sh\n"
     ]
    }
   ],
   "source": [
    "fname='batch_train_{0}.sh'.format(run_type)\n",
    "filename=dict_pars['staging_loc']+fname\n",
    "with open (filename,'w') as f:\n",
    "    f.write(bash_strg)\n",
    "print(filename)"
   ]
  },
  {
   "cell_type": "code",
   "execution_count": 116,
   "metadata": {},
   "outputs": [],
   "source": [
    "### Move to staging locations in project space:\n",
    "# os.chdir(dict_pars['staging_loc'])"
   ]
  },
  {
   "cell_type": "code",
   "execution_count": 117,
   "metadata": {},
   "outputs": [
    {
     "name": "stdout",
     "output_type": "stream",
     "text": [
      "#!/bin/bash\n",
      "# Begin LSF directives\n",
      "#BSUB -P AST153\n",
      "#BSUB -J ddp_3dgan \n",
      "#BSUB -o lsf-ddp_3dgan.%J\n",
      "#BSUB -W 4:00:00\n",
      "#BSUB -nnodes 2\n",
      "#BSUB -alloc_flags \"nvme smt4\"\n",
      "# End LSF directives and begin shell commands\n",
      "\n",
      "NODES=$(cat ${LSB_DJOB_HOSTFILE} | sort | uniq | grep -v login | grep -v batch | wc -l)\n",
      "\n",
      "module load open-ce\n",
      "# add this 2 lines to run inside conda with my privately compiled Apex\n",
      "module load gcc/8\n",
      "conda activate cloned_env\n",
      "\n",
      "export OMP_NUM_THREADS=1\n",
      "export NCCL_DEBUG=INFO\n",
      "\n",
      "config=bs1024-smt\n",
      "ver=S  # train.py version\n",
      "jobId=${LSB_JOBID}\n",
      "\n",
      "code_dir=/autofs/nccs-svm1_home1/venkitesh/projects/cosmogan/cosmogan_pytorch/code/1_basic_GAN/1_main_code/DDP_new_loss\n",
      "config_file=$code_dir/config_2dgan_summit.yaml\n",
      "\n",
      "CMD=\" python -u $code_dir/main.py --config $config_file --facility summit --ddp \"\n",
      "echo \"S:CMD=$CMD\"\n",
      "\n",
      "SMPIARGS=\"--smpiargs \"off\"\"\n",
      "jsrun -n${NODES} -a6 -c42 -g6 -r1 $SMPIARGS --bind=proportional-packed:7 --launch_distribution=packed ./launchSummit.sh \"$CMD\"\n"
     ]
    }
   ],
   "source": [
    "%%bash -s \"$filename\" ## Use python variable in bash\n",
    "cat $1\n",
    "chmod +x $1"
   ]
  },
  {
   "cell_type": "markdown",
   "metadata": {},
   "source": [
    "## Submit job to cori GPU"
   ]
  },
  {
   "cell_type": "code",
   "execution_count": 118,
   "metadata": {},
   "outputs": [],
   "source": [
    "# %%bash -s \"$filename\" ## Use python variable in bash\n",
    "# module load cgpu\n",
    "# sbatch $1"
   ]
  },
  {
   "cell_type": "code",
   "execution_count": null,
   "metadata": {},
   "outputs": [],
   "source": []
  },
  {
   "cell_type": "code",
   "execution_count": null,
   "metadata": {},
   "outputs": [],
   "source": []
  }
 ],
 "metadata": {
  "kernelspec": {
   "display_name": "OLCF-base",
   "language": "python",
   "name": "python3"
  },
  "language_info": {
   "codemirror_mode": {
    "name": "ipython",
    "version": 3
   },
   "file_extension": ".py",
   "mimetype": "text/x-python",
   "name": "python",
   "nbconvert_exporter": "python",
   "pygments_lexer": "ipython3",
   "version": "3.8.8"
  }
 },
 "nbformat": 4,
 "nbformat_minor": 4
}

{
 "cells": [
  {
   "cell_type": "markdown",
   "metadata": {},
   "source": [
    "# Launch LBANN traing jobs\n",
    "Code to create a batch script for launching jobs on cori GPU\n",
    "\n",
    "Sep 1, 2020"
   ]
  },
  {
   "cell_type": "code",
   "execution_count": 1,
   "metadata": {},
   "outputs": [],
   "source": [
    "import os\n",
    "import glob,time\n",
    "import subprocess as sp\n",
    "import numpy as np\n",
    "\n",
    "import yaml\n"
   ]
  },
  {
   "cell_type": "code",
   "execution_count": 2,
   "metadata": {},
   "outputs": [],
   "source": [
    "from ipywidgets import *"
   ]
  },
  {
   "cell_type": "code",
   "execution_count": 3,
   "metadata": {},
   "outputs": [
    {
     "name": "stdout",
     "output_type": "stream",
     "text": [
      "/global/u1/v/vpa/project/jpt_notebooks/Cosmology/Cosmo_GAN/repositories/cosmogan_pytorch/code/run_scripts\n"
     ]
    }
   ],
   "source": [
    "start_dir=os.getcwd()\n",
    "print(start_dir)"
   ]
  },
  {
   "cell_type": "markdown",
   "metadata": {},
   "source": [
    "## Define machine and code "
   ]
  },
  {
   "cell_type": "code",
   "execution_count": 4,
   "metadata": {},
   "outputs": [],
   "source": [
    "# facility='cori'\n",
    "# img_size=64\n",
    "# run_type='3dgan'\n",
    "# assert facility in ['cori','summit'], \"Error%s\"%(facility)\n",
    "# assert img_size in [64,128,512]\n",
    "# assert run_type in ['2dgan','2dcgan','3dgan','3dcgan']"
   ]
  },
  {
   "cell_type": "code",
   "execution_count": 5,
   "metadata": {},
   "outputs": [
    {
     "data": {
      "application/vnd.jupyter.widget-view+json": {
       "model_id": "c2eb83417d2b42ad9e017e1080f4c577",
       "version_major": 2,
       "version_minor": 0
      },
      "text/plain": [
       "interactive(children=(ToggleButtons(description='facility', options=('cori', 'summit'), value='cori'), ToggleB…"
      ]
     },
     "metadata": {},
     "output_type": "display_data"
    }
   ],
   "source": [
    "def f(facility,img_size,run_type): return facility,img_size,run_type\n",
    "w=interactive(f,\n",
    "                facility=ToggleButtons(options=['cori','summit']),\n",
    "                img_size=ToggleButtons(options=[64,128,512]),\n",
    "                run_type=ToggleButtons(options=['2dgan','2dcgan','3dgan','3dcgan']) )\n",
    "display(w)"
   ]
  },
  {
   "cell_type": "code",
   "execution_count": 28,
   "metadata": {},
   "outputs": [
    {
     "name": "stdout",
     "output_type": "stream",
     "text": [
      "cori 128 2dcgan\n"
     ]
    }
   ],
   "source": [
    "result=w.result\n",
    "facility,img_size,run_type=result\n",
    "print(facility,img_size,run_type)"
   ]
  },
  {
   "cell_type": "markdown",
   "metadata": {},
   "source": [
    "## Read ref_launch.yaml and define dictionary"
   ]
  },
  {
   "cell_type": "code",
   "execution_count": 29,
   "metadata": {},
   "outputs": [],
   "source": [
    "# start_dir='/global/u1/v/vpa/project/jpt_notebooks/Cosmology/Cosmo_GAN/repositories/cosmogan_pytorch/code/run_scripts'\n",
    "launch_cfile=start_dir+'/ref_launch.yaml'\n",
    "\n",
    "with open(launch_cfile) as f:\n",
    "    config_dict= yaml.load(f, Loader=yaml.SafeLoader)"
   ]
  },
  {
   "cell_type": "code",
   "execution_count": 30,
   "metadata": {},
   "outputs": [
    {
     "name": "stdout",
     "output_type": "stream",
     "text": [
      "{'code_dir': '/global/u1/v/vpa/project/jpt_notebooks/Cosmology/Cosmo_GAN/repositories/cosmogan_pytorch/code/3_cond_GAN/1_main_code/DDP', 'op_dir': '128sq/', 'config': 'config_2d_cgan.yaml', 'val_file': '/global/cfs/cdirs/m3363/vayyar/cosmogan_data/raw_data/128_square/dataset_5_4univ_cgan/', 'nodes': 1, 'job_name': 'analysis_2dcgan', 'queue': 'debug', 'bins': 'unenven', 'cores': 64, 'time': '00:30:00', 'staging_loc': '/global/cfs/cdirs/m3363/vayyar/cosmogan_data/results_from_other_code/pytorch/results/'}\n"
     ]
    }
   ],
   "source": [
    "## Read ref_launch.yaml\n",
    "main_code_dir=config_dict[facility]['main_code_dir']\n",
    "dict_pars=config_dict[facility][img_size][run_type]\n",
    "dict_pars.update({'nodes':1,'job_name':'analysis_'+run_type,\n",
    "                 'queue':'debug','bins':'unenven','cores':64,'time':'00:30:00'})\n",
    "\n",
    "dict_pars['code_dir']=main_code_dir+dict_pars['code_dir']\n",
    "dict_pars['staging_loc']=config_dict[facility]['staging_loc']\n",
    "print(dict_pars)\n",
    "staging_loc=dict_pars['staging_loc']\n",
    "op_fldr=dict_pars['staging_loc']+dict_pars['op_dir']\n",
    "op_fldr"
   ]
  },
  {
   "cell_type": "code",
   "execution_count": 32,
   "metadata": {},
   "outputs": [
    {
     "name": "stdout",
     "output_type": "stream",
     "text": [
      "20210205_062936_cgan_predict_0.65_m2\n",
      "20210205_063709_cgan_predict_1.1_m2\n",
      "20210205_120608_cgan_predict_0.5_m2\n",
      "20210205_122504_cgan_predict_0.8_m2\n",
      "20210209_075831_lambda2.0\n",
      "20210408_064020_old_gan_lambda2.0\n",
      "20210408_161912_train_newloss_noddpcode_works\n",
      "20210411_063412_ddp_code_notusingddp\n",
      "20210414_102623_single_gpu_fmloss_80\n",
      "20210414_154956_1node_8_fmloss\n",
      "20210414_182903_cgan_ddp_1node_2\n",
      "20210414_82846_2nodes_16_fmloss\n",
      "20210415_140527_gclip1.0\n",
      "20210415_151529_noclip\n",
      "20210415_170935_optD_infront\n",
      "20210415_180935_cgan_optD_infront\n",
      "20210415_205808_cgan_bs64_60epochs\n",
      "20210416_215540_2dgan_fm1.0\n",
      "20210416_220730_2dcgan_nofm\n",
      "20210419_131244_2dgan\n",
      "20210419_131246_2d_cgan\n",
      "simple_gan_best_runs\n"
     ]
    }
   ],
   "source": [
    "%%bash -s \"$op_fldr\"\n",
    "ls $1"
   ]
  },
  {
   "cell_type": "code",
   "execution_count": 33,
   "metadata": {},
   "outputs": [],
   "source": [
    "ip_folder='20210419_131246_2d_cgan'\n",
    "\n",
    "dict_pars['ip_folder']=dict_pars['staging_loc']+dict_pars['op_dir']+ip_folder"
   ]
  },
  {
   "cell_type": "code",
   "execution_count": 34,
   "metadata": {},
   "outputs": [],
   "source": [
    "bash_strg='''#!/bin/bash\n",
    "#################\n",
    "#SBATCH --nodes=1\n",
    "#SBATCH --qos={queue}\n",
    "#SBATCH --output=slurm-%x-%j.out\n",
    "#SBATCH --account=m3363\n",
    "#SBATCH -C haswell\n",
    "#SBATCH --time={time}\n",
    "#SBATCH --job-name={job_name}\n",
    "\n",
    "echo \"--start date\" `date` `date +%s`\n",
    "echo '--hostname ' $HOSTNAME\n",
    "\n",
    "conda activate v3\n",
    "code_dir={code_dir}\n",
    "\n",
    "python $code_dir/../post_analysis_pandas.py -f {ip_folder}  -v {val_file} -c {cores} -bin {bins}\n",
    "conda deactivate\n",
    "echo \"--end date\" `date` `date +%s`\n",
    "'''.format(**dict_pars)"
   ]
  },
  {
   "cell_type": "code",
   "execution_count": 35,
   "metadata": {},
   "outputs": [
    {
     "name": "stdout",
     "output_type": "stream",
     "text": [
      "/global/cfs/cdirs/m3363/vayyar/cosmogan_data/results_from_other_code/pytorch/results/batch_analysis_2dcgan.sh\n"
     ]
    }
   ],
   "source": [
    "fname='batch_analysis_{0}.sh'.format(run_type)\n",
    "filename=dict_pars['staging_loc']+fname\n",
    "with open (filename,'w') as f:\n",
    "    f.write(bash_strg)\n",
    "print(filename)"
   ]
  },
  {
   "cell_type": "code",
   "execution_count": 36,
   "metadata": {},
   "outputs": [],
   "source": [
    "## Move to staging locations in project space:\n",
    "os.chdir(dict_pars['staging_loc'])"
   ]
  },
  {
   "cell_type": "code",
   "execution_count": 37,
   "metadata": {},
   "outputs": [
    {
     "name": "stdout",
     "output_type": "stream",
     "text": [
      "#!/bin/bash\n",
      "#################\n",
      "#SBATCH --nodes=1\n",
      "#SBATCH --qos=debug\n",
      "#SBATCH --output=slurm-%x-%j.out\n",
      "#SBATCH --account=m3363\n",
      "#SBATCH -C haswell\n",
      "#SBATCH --time=00:30:00\n",
      "#SBATCH --job-name=analysis_2dcgan\n",
      "\n",
      "echo \"--start date\" `date` `date +%s`\n",
      "echo '--hostname ' $HOSTNAME\n",
      "\n",
      "conda activate v3\n",
      "code_dir=/global/u1/v/vpa/project/jpt_notebooks/Cosmology/Cosmo_GAN/repositories/cosmogan_pytorch/code/3_cond_GAN/1_main_code/DDP\n",
      "\n",
      "python $code_dir/../post_analysis_pandas.py -f /global/cfs/cdirs/m3363/vayyar/cosmogan_data/results_from_other_code/pytorch/results/128sq/20210419_131246_2d_cgan  -v /global/cfs/cdirs/m3363/vayyar/cosmogan_data/raw_data/128_square/dataset_5_4univ_cgan/ -c 64 -bin unenven\n",
      "conda deactivate\n",
      "echo \"--end date\" `date` `date +%s`\n"
     ]
    }
   ],
   "source": [
    "%%bash -s \"$filename\" ## Use python variable in bash\n",
    "cat $1\n",
    "chmod +x $1"
   ]
  },
  {
   "cell_type": "markdown",
   "metadata": {},
   "source": [
    "## Submit job to cori GPU"
   ]
  },
  {
   "cell_type": "code",
   "execution_count": 38,
   "metadata": {},
   "outputs": [
    {
     "name": "stdout",
     "output_type": "stream",
     "text": [
      "Submitted batch job 41752547\n"
     ]
    }
   ],
   "source": [
    "%%bash -s \"$filename\" ## Use python variable in bash\n",
    "# module load cgpu\n",
    "sbatch $1"
   ]
  },
  {
   "cell_type": "code",
   "execution_count": 27,
   "metadata": {},
   "outputs": [
    {
     "data": {
      "text/plain": [
       "'/global/cfs/cdirs/m3363/vayyar/cosmogan_data/results_from_other_code/pytorch/results'"
      ]
     },
     "execution_count": 27,
     "metadata": {},
     "output_type": "execute_result"
    }
   ],
   "source": [
    "pwd"
   ]
  },
  {
   "cell_type": "code",
   "execution_count": null,
   "metadata": {},
   "outputs": [],
   "source": []
  },
  {
   "cell_type": "code",
   "execution_count": null,
   "metadata": {},
   "outputs": [],
   "source": []
  }
 ],
 "metadata": {
  "kernelspec": {
   "display_name": "v3",
   "language": "python",
   "name": "v-jpt-3"
  },
  "language_info": {
   "codemirror_mode": {
    "name": "ipython",
    "version": 3
   },
   "file_extension": ".py",
   "mimetype": "text/x-python",
   "name": "python",
   "nbconvert_exporter": "python",
   "pygments_lexer": "ipython3",
   "version": "3.8.6"
  }
 },
 "nbformat": 4,
 "nbformat_minor": 4
}

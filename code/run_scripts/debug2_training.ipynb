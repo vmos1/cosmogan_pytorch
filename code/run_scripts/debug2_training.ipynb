{
 "cells": [
  {
   "cell_type": "markdown",
   "metadata": {},
   "source": [
    "# Debug training\n",
    "May 19, 2021"
   ]
  },
  {
   "cell_type": "code",
   "execution_count": 1,
   "metadata": {},
   "outputs": [],
   "source": [
    "import     numpy as np\n",
    "import matplotlib.pyplot as plt\n",
    "import pandas as pd\n",
    "\n",
    "import subprocess as sp\n",
    "import sys\n",
    "import os\n",
    "import glob\n",
    "import pickle \n",
    "\n",
    "from matplotlib.colors import LogNorm, PowerNorm, Normalize\n",
    "import seaborn as sns\n",
    "from functools import reduce\n",
    "\n",
    "import socket"
   ]
  },
  {
   "cell_type": "code",
   "execution_count": 2,
   "metadata": {},
   "outputs": [],
   "source": [
    "from ipywidgets import *"
   ]
  },
  {
   "cell_type": "code",
   "execution_count": 3,
   "metadata": {},
   "outputs": [],
   "source": [
    "%matplotlib widget"
   ]
  },
  {
   "cell_type": "code",
   "execution_count": 4,
   "metadata": {},
   "outputs": [],
   "source": [
    "base_dict={'cori':'/global/u1/v/vpa/project/jpt_notebooks/Cosmology/Cosmo_GAN/repositories/cosmogan_pytorch/',\n",
    "         'summit':'/autofs/nccs-svm1_home1/venkitesh/projects/cosmogan/cosmogan_pytorch/'}\n",
    "facility='cori' if socket.gethostname()[:4]=='cori' else 'summit'\n",
    "\n",
    "base_dir=base_dict[facility]"
   ]
  },
  {
   "cell_type": "code",
   "execution_count": 5,
   "metadata": {},
   "outputs": [],
   "source": [
    "sys.path.append(base_dir+'/code/modules_image_analysis/')\n",
    "from modules_img_analysis import *\n",
    "# sys.path.append(base_dir+'/code/5_3d_cgan/1_main_code/')\n",
    "# import post_analysis_pandas as post"
   ]
  },
  {
   "cell_type": "code",
   "execution_count": 6,
   "metadata": {},
   "outputs": [],
   "source": [
    "### Transformation functions for image pixel values\n",
    "def f_transform(x):\n",
    "    return 2.*x/(x + 4.) - 1.\n",
    "\n",
    "def f_invtransform(s):\n",
    "    return 4.*(1. + s)/(1. - s)\n"
   ]
  },
  {
   "cell_type": "markdown",
   "metadata": {},
   "source": [
    "## Read data"
   ]
  },
  {
   "cell_type": "code",
   "execution_count": 7,
   "metadata": {},
   "outputs": [],
   "source": [
    "dict1={'cori':{\n",
    "'2d':'/global/cfs/cdirs/m3363/vayyar/cosmogan_data/results_from_other_code/pytorch/results/128_square/',\n",
    "'3d':'/global/cfs/cdirs/m3363/vayyar/cosmogan_data/results_from_other_code/pytorch/results/3D/',\n",
    "'3d_cgan':'/global/cfs/cdirs/m3363/vayyar/cosmogan_data/results_from_other_code/pytorch/results/3d_cGAN/'},\n",
    "'summit':{'2d':'/gpfs/alpine/ast153/proj-shared/venkitesh/Cosmogan/data/results_pytorch/2d/',\n",
    "          '3d':'/gpfs/alpine/ast153/proj-shared/venkitesh/Cosmogan/data/results_pytorch/3d/'}}"
   ]
  },
  {
   "cell_type": "code",
   "execution_count": 8,
   "metadata": {},
   "outputs": [
    {
     "data": {
      "application/vnd.jupyter.widget-view+json": {
       "model_id": "688b1d6efebe4458a1bbc8962ff8de81",
       "version_major": 2,
       "version_minor": 0
      },
      "text/plain": [
       "interactive(children=(Dropdown(description='x', options=('20210602_112153_cgan_bs32_nodes8_lrd-4x-lrg_cori',),…"
      ]
     },
     "metadata": {},
     "output_type": "display_data"
    }
   ],
   "source": [
    "# parent_dir=u.result\n",
    "parent_dir=dict1[facility]['3d_cgan']\n",
    "dir_lst=[i.split('/')[-1] for i in glob.glob(parent_dir+'202106*')]\n",
    "dir_lst\n",
    "w=interactive(lambda x: x, x=Dropdown(options=dir_lst))\n",
    "display(w)"
   ]
  },
  {
   "cell_type": "code",
   "execution_count": 9,
   "metadata": {},
   "outputs": [
    {
     "name": "stdout",
     "output_type": "stream",
     "text": [
      "/global/cfs/cdirs/m3363/vayyar/cosmogan_data/results_from_other_code/pytorch/results/3d_cGAN/20210602_112153_cgan_bs32_nodes8_lrd-4x-lrg_cori\n"
     ]
    }
   ],
   "source": [
    "result=w.result\n",
    "result_dir=parent_dir+result\n",
    "print(result_dir)"
   ]
  },
  {
   "cell_type": "markdown",
   "metadata": {},
   "source": [
    "## Plot Losses"
   ]
  },
  {
   "cell_type": "code",
   "execution_count": 10,
   "metadata": {},
   "outputs": [
    {
     "data": {
      "application/vnd.jupyter.widget-view+json": {
       "model_id": "5cfff3f0fcca43feb5aede811174dc87",
       "version_major": 2,
       "version_minor": 0
      },
      "text/plain": [
       "Canvas(toolbar=Toolbar(toolitems=[('Home', 'Reset original view', 'home', 'home'), ('Back', 'Back to previous …"
      ]
     },
     "metadata": {},
     "output_type": "display_data"
    }
   ],
   "source": [
    "df_metrics=pd.read_pickle(result_dir+'/df_metrics.pkle').astype(np.float64)\n",
    "# df_metrics.tail(10)\n",
    "def f_plot_metrics(df,col_list):\n",
    "    \n",
    "    plt.figure()\n",
    "    for key in col_list:\n",
    "        plt.plot(df_metrics[key],label=key,marker='*',linestyle='')\n",
    "    plt.legend()\n",
    "    \n",
    "#     col_list=list(col_list)\n",
    "#     df.plot(kind='line',x='step',y=col_list)\n",
    "\n",
    "f_plot_metrics(df_metrics,['hist_chi'])"
   ]
  },
  {
   "cell_type": "code",
   "execution_count": 11,
   "metadata": {},
   "outputs": [
    {
     "data": {
      "application/vnd.jupyter.widget-view+json": {
       "model_id": "beb2f3c685894f088141f81709b8ea09",
       "version_major": 2,
       "version_minor": 0
      },
      "text/plain": [
       "Canvas(toolbar=Toolbar(toolitems=[('Home', 'Reset original view', 'home', 'home'), ('Back', 'Back to previous …"
      ]
     },
     "metadata": {},
     "output_type": "display_data"
    }
   ],
   "source": [
    "f_plot_metrics(df_metrics,['lr_d','lr_g'])"
   ]
  },
  {
   "cell_type": "code",
   "execution_count": 12,
   "metadata": {},
   "outputs": [
    {
     "data": {
      "application/vnd.jupyter.widget-view+json": {
       "model_id": "4878879fe2e14680ac61608ef23a5b65",
       "version_major": 2,
       "version_minor": 0
      },
      "text/plain": [
       "interactive(children=(SelectMultiple(description='col_list', options=('step', 'epoch', 'Dreal', 'Dfake', 'Dful…"
      ]
     },
     "metadata": {},
     "output_type": "display_data"
    },
    {
     "data": {
      "text/plain": [
       "<function __main__.f_plot_metrics(df, col_list)>"
      ]
     },
     "execution_count": 12,
     "metadata": {},
     "output_type": "execute_result"
    }
   ],
   "source": [
    "interact_manual(f_plot_metrics,df=fixed(df_metrics), col_list=SelectMultiple(options=df_metrics.columns.values))"
   ]
  },
  {
   "cell_type": "code",
   "execution_count": 13,
   "metadata": {},
   "outputs": [
    {
     "data": {
      "text/html": [
       "<div>\n",
       "<style scoped>\n",
       "    .dataframe tbody tr th:only-of-type {\n",
       "        vertical-align: middle;\n",
       "    }\n",
       "\n",
       "    .dataframe tbody tr th {\n",
       "        vertical-align: top;\n",
       "    }\n",
       "\n",
       "    .dataframe thead th {\n",
       "        text-align: right;\n",
       "    }\n",
       "</style>\n",
       "<table border=\"1\" class=\"dataframe\">\n",
       "  <thead>\n",
       "    <tr style=\"text-align: right;\">\n",
       "      <th></th>\n",
       "      <th>step</th>\n",
       "      <th>epoch</th>\n",
       "      <th>Dreal</th>\n",
       "      <th>Dfake</th>\n",
       "      <th>Dfull</th>\n",
       "      <th>G_adv</th>\n",
       "      <th>G_full</th>\n",
       "      <th>spec_loss</th>\n",
       "      <th>hist_loss</th>\n",
       "      <th>spec_chi</th>\n",
       "      <th>hist_chi</th>\n",
       "      <th>gp_loss</th>\n",
       "      <th>fm_loss</th>\n",
       "      <th>D(x)</th>\n",
       "      <th>D_G_z1</th>\n",
       "      <th>D_G_z2</th>\n",
       "      <th>time</th>\n",
       "      <th>lr_d</th>\n",
       "      <th>lr_g</th>\n",
       "    </tr>\n",
       "  </thead>\n",
       "  <tbody>\n",
       "  </tbody>\n",
       "</table>\n",
       "</div>"
      ],
      "text/plain": [
       "Empty DataFrame\n",
       "Columns: [step, epoch, Dreal, Dfake, Dfull, G_adv, G_full, spec_loss, hist_loss, spec_chi, hist_chi, gp_loss, fm_loss, D(x), D_G_z1, D_G_z2, time, lr_d, lr_g]\n",
       "Index: []"
      ]
     },
     "execution_count": 13,
     "metadata": {},
     "output_type": "execute_result"
    }
   ],
   "source": [
    "df_metrics[(df_metrics.lr_d>=6.69e-04) ]"
   ]
  },
  {
   "cell_type": "code",
   "execution_count": 14,
   "metadata": {},
   "outputs": [
    {
     "data": {
      "application/vnd.jupyter.widget-view+json": {
       "model_id": "ed06b0c0407b4a69a39033020ced5322",
       "version_major": 2,
       "version_minor": 0
      },
      "text/plain": [
       "Canvas(toolbar=Toolbar(toolitems=[('Home', 'Reset original view', 'home', 'home'), ('Back', 'Back to previous …"
      ]
     },
     "metadata": {},
     "output_type": "display_data"
    },
    {
     "data": {
      "text/plain": [
       "<AxesSubplot:xlabel='step', ylabel='[lr_d]'>"
      ]
     },
     "execution_count": 14,
     "metadata": {},
     "output_type": "execute_result"
    }
   ],
   "source": [
    "df_metrics.plot(kind='scatter',x='step',y=['lr_d'])"
   ]
  },
  {
   "cell_type": "code",
   "execution_count": 15,
   "metadata": {},
   "outputs": [
    {
     "data": {
      "text/plain": [
       "(array([1.e-05,    nan]), array([2.5e-06,     nan]))"
      ]
     },
     "execution_count": 15,
     "metadata": {},
     "output_type": "execute_result"
    }
   ],
   "source": [
    "np.unique(df_metrics.lr_d.values),np.unique(df_metrics.lr_g.values)\n",
    "\n",
    "# display(df_metrics.sort_values(by=['hist_chi']).head(8))\n",
    "# display(df_metrics.sort_values(by=['spec_chi']).head(8))"
   ]
  },
  {
   "cell_type": "markdown",
   "metadata": {},
   "source": [
    "## Calculating learn rates"
   ]
  },
  {
   "cell_type": "code",
   "execution_count": 16,
   "metadata": {},
   "outputs": [
    {
     "name": "stdout",
     "output_type": "stream",
     "text": [
      "0.5743491774985174 0.3298769776932235\n"
     ]
    },
    {
     "data": {
      "text/plain": [
       "[(0.000459479341998814, 10),\n",
       " (0.0002639015821545788, 40),\n",
       " (0.00015157165665103975, 60),\n",
       " (8.705505632961239e-05, 70),\n",
       " (4.9999999999999975e-05, 80),\n",
       " (2.8717458874925857e-05, 100)]"
      ]
     },
     "execution_count": 16,
     "metadata": {},
     "output_type": "execute_result"
    }
   ],
   "source": [
    "Nsteps=5;Lf=0.00005;Li=0.0008\n",
    "Lambda=(Lf/Li)**(1.0/Nsteps)\n",
    "print(Lambda,Lambda**2)\n",
    "\n",
    "lst=[10,40,60,70,80,100]\n",
    "# lst=range(1,11)\n",
    "[(Li*Lambda**(count+1),i) for count,i in enumerate(lst)]"
   ]
  },
  {
   "cell_type": "code",
   "execution_count": 17,
   "metadata": {},
   "outputs": [
    {
     "data": {
      "text/plain": [
       "[(0.001, 10),\n",
       " (0.00025, 40),\n",
       " (6.25e-05, 60),\n",
       " (1.5625e-05, 70),\n",
       " (3.90625e-06, 80),\n",
       " (9.765625e-07, 100),\n",
       " (2.44140625e-07, 140),\n",
       " (6.103515625e-08, 180)]"
      ]
     },
     "execution_count": 17,
     "metadata": {},
     "output_type": "execute_result"
    }
   ],
   "source": [
    "Lambda=0.25;Li=0.004\n",
    "lst=[10,40,60,70,80,100,140,180]\n",
    "# lst=range(1,11)\n",
    "[(Li*Lambda**(count+1),i) for count,i in enumerate(lst)]"
   ]
  },
  {
   "cell_type": "markdown",
   "metadata": {},
   "source": [
    "## Grid plot of images"
   ]
  },
  {
   "cell_type": "code",
   "execution_count": 18,
   "metadata": {
    "tags": []
   },
   "outputs": [
    {
     "name": "stdout",
     "output_type": "stream",
     "text": [
      "21830 22050 21850 22020 22080 21670 21840 21980 22160 22140 21980 22010 21730 21890 21940 21940 22110 21820 21820 21780 22050 21710 22000 22020 21970 22090 21680 21990 22130 22050 21730 21860 22190 21810 21960 21820 21800 22040 21910 21880 22010 21990 21900 22080 22060 21930 21790 21660 22110 21680 22020 21940 21930 22100 22070 22230 21930 21760 22100 22190 21740 21670 21700 22030 21830 22160 21710 21760 22140 21810 21650 22180 22220 21790 22160 21870 21840 22230 22000 22070 22130 22040 21870 21900 22060 22200 21980 21970 21650 22180 22090 21920 22150 22190 21960 21740 22200 21900 21700 21950 22150 21780 22120 21860 21830 21750 21690 21990 22070 21750 21840 22200 21750 22030 21660 21720 22110 22100 21690 21950 21890 22170 22210 22230 21860 22220 21710 21890 21950 21770 21770 21800 21800 22120 22180 22080 22090 22040 22150 21810 21660 22000 22120 21690 22010 21850 21780 22210 22170 21910 21920 21880 21730 21920 21720 22060 22170 21960 21880 21670 22140 22210 22030 21970 21760 21910 21680 21740 21870 21650 22220 21770 22130 21790 21720 21700 21850\n"
     ]
    }
   ],
   "source": [
    "epoch=37\n",
    "flist=glob.glob(result_dir+'/images/gen_img*_epoch-{0}_step*'.format(epoch))\n",
    "steps_list=[fname.split('/')[-1].split('step-')[-1].split('.')[0] for fname in flist]\n",
    "\n",
    "print(*steps_list)"
   ]
  },
  {
   "cell_type": "code",
   "execution_count": 35,
   "metadata": {
    "collapsed": true,
    "jupyter": {
     "outputs_hidden": true
    },
    "tags": []
   },
   "outputs": [
    {
     "data": {
      "text/plain": [
       "['21830',\n",
       " '22050',\n",
       " '21850',\n",
       " '22020',\n",
       " '22080',\n",
       " '21670',\n",
       " '21840',\n",
       " '21980',\n",
       " '22160',\n",
       " '22140',\n",
       " '21980',\n",
       " '22010',\n",
       " '21730',\n",
       " '21890',\n",
       " '21940',\n",
       " '21940',\n",
       " '22110',\n",
       " '21820',\n",
       " '21820',\n",
       " '21780',\n",
       " '22050',\n",
       " '21710',\n",
       " '22000',\n",
       " '22020',\n",
       " '21970',\n",
       " '22090',\n",
       " '21680',\n",
       " '21990',\n",
       " '22130',\n",
       " '22050',\n",
       " '21730',\n",
       " '21860',\n",
       " '22190',\n",
       " '21810',\n",
       " '21960',\n",
       " '21820',\n",
       " '21800',\n",
       " '22040',\n",
       " '21910',\n",
       " '21880',\n",
       " '22010',\n",
       " '21990',\n",
       " '21900',\n",
       " '22080',\n",
       " '22060',\n",
       " '21930',\n",
       " '21790',\n",
       " '21660',\n",
       " '22110',\n",
       " '21680',\n",
       " '22020',\n",
       " '21940',\n",
       " '21930',\n",
       " '22100',\n",
       " '22070',\n",
       " '22230',\n",
       " '21930',\n",
       " '21760',\n",
       " '22100',\n",
       " '22190',\n",
       " '21740',\n",
       " '21670',\n",
       " '21700',\n",
       " '22030',\n",
       " '21830',\n",
       " '22160',\n",
       " '21710',\n",
       " '21760',\n",
       " '22140',\n",
       " '21810',\n",
       " '21650',\n",
       " '22180',\n",
       " '22220',\n",
       " '21790',\n",
       " '22160',\n",
       " '21870',\n",
       " '21840',\n",
       " '22230',\n",
       " '22000',\n",
       " '22070',\n",
       " '22130',\n",
       " '22040',\n",
       " '21870',\n",
       " '21900',\n",
       " '22060',\n",
       " '22200',\n",
       " '21980',\n",
       " '21970',\n",
       " '21650',\n",
       " '22180',\n",
       " '22090',\n",
       " '21920',\n",
       " '22150',\n",
       " '22190',\n",
       " '21960',\n",
       " '21740',\n",
       " '22200',\n",
       " '21900',\n",
       " '21700',\n",
       " '21950',\n",
       " '22150',\n",
       " '21780',\n",
       " '22120',\n",
       " '21860',\n",
       " '21830',\n",
       " '21750',\n",
       " '21690',\n",
       " '21990',\n",
       " '22070',\n",
       " '21750',\n",
       " '21840',\n",
       " '22200',\n",
       " '21750',\n",
       " '22030',\n",
       " '21660',\n",
       " '21720',\n",
       " '22110',\n",
       " '22100',\n",
       " '21690',\n",
       " '21950',\n",
       " '21890',\n",
       " '22170',\n",
       " '22210',\n",
       " '22230',\n",
       " '21860',\n",
       " '22220',\n",
       " '21710',\n",
       " '21890',\n",
       " '21950',\n",
       " '21770',\n",
       " '21770',\n",
       " '21800',\n",
       " '21800',\n",
       " '22120',\n",
       " '22180',\n",
       " '22080',\n",
       " '22090',\n",
       " '22040',\n",
       " '22150',\n",
       " '21810',\n",
       " '21660',\n",
       " '22000',\n",
       " '22120',\n",
       " '21690',\n",
       " '22010',\n",
       " '21850',\n",
       " '21780',\n",
       " '22210',\n",
       " '22170',\n",
       " '21910',\n",
       " '21920',\n",
       " '21880',\n",
       " '21730',\n",
       " '21920',\n",
       " '21720',\n",
       " '22060',\n",
       " '22170',\n",
       " '21960',\n",
       " '21880',\n",
       " '21670',\n",
       " '22140',\n",
       " '22210',\n",
       " '22030',\n",
       " '21970',\n",
       " '21760',\n",
       " '21910',\n",
       " '21680',\n",
       " '21740',\n",
       " '21870',\n",
       " '21650',\n",
       " '22220',\n",
       " '21770',\n",
       " '22130',\n",
       " '21790',\n",
       " '21720',\n",
       " '21700',\n",
       " '21850']"
      ]
     },
     "execution_count": 35,
     "metadata": {},
     "output_type": "execute_result"
    }
   ],
   "source": [
    "steps_list"
   ]
  },
  {
   "cell_type": "code",
   "execution_count": 47,
   "metadata": {
    "tags": []
   },
   "outputs": [
    {
     "data": {
      "text/plain": [
       "'/gpfs/alpine/ast153/proj-shared/venkitesh/Cosmogan/data/results_pytorch/3d/20210519_81818_cgan_bs16_lr0.001_nodes8_spec0.1/images/gen_img_label-0.5_epoch-170_step-9550.npy'"
      ]
     },
     "execution_count": 47,
     "metadata": {},
     "output_type": "execute_result"
    }
   ],
   "source": [
    "# fname=flist[0]\n",
    "# fname,fname.split('/')[-1].split('step-')[-1].split('.')[0]\n",
    "\n",
    "step=9550\n",
    "fname=glob.glob(result_dir+'/images/gen_img_*_epoch-{0}_step-{1}.npy'.format(epoch,step))[0]\n",
    "fname"
   ]
  },
  {
   "cell_type": "code",
   "execution_count": 48,
   "metadata": {},
   "outputs": [
    {
     "name": "stdout",
     "output_type": "stream",
     "text": [
      "(32, 64, 64, 64)\n",
      "2 4\n"
     ]
    },
    {
     "data": {
      "application/vnd.jupyter.widget-view+json": {
       "model_id": "8960147260fc405e971a432345281acb",
       "version_major": 2,
       "version_minor": 0
      },
      "text/plain": [
       "Canvas(toolbar=Toolbar(toolitems=[('Home', 'Reset original view', 'home', 'home'), ('Back', 'Back to previous …"
      ]
     },
     "metadata": {},
     "output_type": "display_data"
    }
   ],
   "source": [
    "images=np.load(fname)[:,0,:,:]\n",
    "print(images.shape)\n",
    "f_plot_grid(images[:8,:,:,0],cols=4,fig_size=(8,4))"
   ]
  },
  {
   "cell_type": "code",
   "execution_count": 19,
   "metadata": {},
   "outputs": [
    {
     "data": {
      "application/vnd.jupyter.widget-view+json": {
       "model_id": "485fec9a4bcd4f34a3c8bde009b25d0e",
       "version_major": 2,
       "version_minor": 0
      },
      "text/plain": [
       "interactive(children=(Dropdown(description='epoch', options=(0.0, 1.0, 2.0, 3.0, 4.0, 5.0, 6.0, 7.0, 8.0, 9.0,…"
      ]
     },
     "metadata": {},
     "output_type": "display_data"
    }
   ],
   "source": [
    "epochs_list=np.unique(df_metrics.epoch.values)[:-1]\n",
    "def f2(epoch): \n",
    "    flist=glob.glob(result_dir+'/images/gen_img*_epoch-{0}*'.format(int(epoch)))\n",
    "#     print(flist)\n",
    "    steps_list=[fname.split('/')[-1].split('step-')[-1].split('.')[0] for fname in flist]\n",
    "#     steps_list=df_metrics[df_metrics.epoch==epoch].step.values\n",
    "    return steps_list\n",
    "\n",
    "w2=interactive(f2,epoch=Dropdown(options=epochs_list) )\n",
    "display(w2)\n"
   ]
  },
  {
   "cell_type": "code",
   "execution_count": 20,
   "metadata": {},
   "outputs": [],
   "source": [
    "result=w2.result\n",
    "steps_list=result"
   ]
  },
  {
   "cell_type": "code",
   "execution_count": 21,
   "metadata": {},
   "outputs": [
    {
     "data": {
      "application/vnd.jupyter.widget-view+json": {
       "model_id": "a697b5a4560e4f7a8e105d933c5ea797",
       "version_major": 2,
       "version_minor": 0
      },
      "text/plain": [
       "interactive(children=(SelectMultiple(description='steps', options=('41110', '41380', '40980', '41060', '41090'…"
      ]
     },
     "metadata": {},
     "output_type": "display_data"
    },
    {
     "data": {
      "text/plain": [
       "<function __main__.f3(steps)>"
      ]
     },
     "execution_count": 21,
     "metadata": {},
     "output_type": "execute_result"
    }
   ],
   "source": [
    "def f3(steps):     \n",
    "    for step in steps:\n",
    "        \n",
    "        fname=glob.glob(result_dir+'/images/gen_img_*step-{0}.npy'.format(step))[0]\n",
    "#         print(fname)\n",
    "\n",
    "        images=np.load(fname)[:,0,:,:]\n",
    "#         print(images.shape)\n",
    "        f_plot_grid(images[:8,:,:,0],cols=4,fig_size=(8,4))\n",
    "\n",
    "# w3=interactive(f3,step=Dropdown(options=steps_list))\n",
    "# display(w3)\n",
    "\n",
    "interact(f3,steps=SelectMultiple(options=steps_list))\n"
   ]
  },
  {
   "cell_type": "code",
   "execution_count": null,
   "metadata": {},
   "outputs": [],
   "source": []
  },
  {
   "cell_type": "code",
   "execution_count": null,
   "metadata": {},
   "outputs": [],
   "source": []
  }
 ],
 "metadata": {
  "kernelspec": {
   "display_name": "v3",
   "language": "python",
   "name": "v-jpt-3"
  },
  "language_info": {
   "codemirror_mode": {
    "name": "ipython",
    "version": 3
   },
   "file_extension": ".py",
   "mimetype": "text/x-python",
   "name": "python",
   "nbconvert_exporter": "python",
   "pygments_lexer": "ipython3",
   "version": "3.8.6"
  }
 },
 "nbformat": 4,
 "nbformat_minor": 4
}

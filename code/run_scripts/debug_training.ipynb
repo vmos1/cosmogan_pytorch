{
 "cells": [
  {
   "cell_type": "markdown",
   "metadata": {},
   "source": [
    "# Debug training\n",
    "May 19, 2021"
   ]
  },
  {
   "cell_type": "code",
   "execution_count": 5,
   "metadata": {},
   "outputs": [],
   "source": [
    "import     numpy as np\n",
    "import matplotlib.pyplot as plt\n",
    "import pandas as pd\n",
    "\n",
    "import subprocess as sp\n",
    "import sys\n",
    "import os\n",
    "import glob\n",
    "import pickle \n",
    "\n",
    "from matplotlib.colors import LogNorm, PowerNorm, Normalize\n",
    "import seaborn as sns\n",
    "from functools import reduce\n",
    "\n",
    "import socket"
   ]
  },
  {
   "cell_type": "code",
   "execution_count": 6,
   "metadata": {},
   "outputs": [],
   "source": [
    "from ipywidgets import *"
   ]
  },
  {
   "cell_type": "code",
   "execution_count": 7,
   "metadata": {},
   "outputs": [],
   "source": [
    "%matplotlib widget"
   ]
  },
  {
   "cell_type": "code",
   "execution_count": 11,
   "metadata": {},
   "outputs": [],
   "source": [
    "base_dict={'cori':'/global/u1/v/vpa/project/jpt_notebooks/Cosmology/Cosmo_GAN/repositories/cosmogan_pytorch/',\n",
    "         'summit':'/autofs/nccs-svm1_home1/venkitesh/projects/cosmogan/cosmogan_pytorch/'}\n",
    "facility='cori' if socket.gethostname()[:4]=='cori' else 'summit'\n",
    "\n",
    "base_dir=base_dict[facility]"
   ]
  },
  {
   "cell_type": "code",
   "execution_count": 12,
   "metadata": {},
   "outputs": [],
   "source": [
    "sys.path.append(base_dir+'/code/modules_image_analysis/')\n",
    "from modules_img_analysis import *\n",
    "# sys.path.append(base_dir+'/code/5_3d_cgan/1_main_code/')\n",
    "# import post_analysis_pandas as post"
   ]
  },
  {
   "cell_type": "code",
   "execution_count": 15,
   "metadata": {},
   "outputs": [],
   "source": [
    "### Transformation functions for image pixel values\n",
    "def f_transform(x):\n",
    "    return 2.*x/(x + 4.) - 1.\n",
    "\n",
    "def f_invtransform(s):\n",
    "    return 4.*(1. + s)/(1. - s)\n"
   ]
  },
  {
   "cell_type": "markdown",
   "metadata": {},
   "source": [
    "## Read data"
   ]
  },
  {
   "cell_type": "code",
   "execution_count": 28,
   "metadata": {},
   "outputs": [],
   "source": [
    "dict1={'cori':{\n",
    "'2d':'/global/cfs/cdirs/m3363/vayyar/cosmogan_data/results_from_other_code/pytorch/results/128_square/',\n",
    "'3d':'/global/cfs/cdirs/m3363/vayyar/cosmogan_data/results_from_other_code/pytorch/results/3D/',\n",
    "'3d_cgan':'/global/cfs/cdirs/m3363/vayyar/cosmogan_data/results_from_other_code/pytorch/results/3d_cGAN/'},\n",
    "'summit':{'2d':'/gpfs/alpine/ast153/proj-shared/venkitesh/Cosmogan/data/results_pytorch/2d/',\n",
    "          '3d':'/gpfs/alpine/ast153/proj-shared/venkitesh/Cosmogan/data/results_pytorch/3d/'}}"
   ]
  },
  {
   "cell_type": "code",
   "execution_count": 48,
   "metadata": {},
   "outputs": [
    {
     "data": {
      "application/vnd.jupyter.widget-view+json": {
       "model_id": "8556c870810a4b2d9ae965d2bcabffe6",
       "version_major": 2,
       "version_minor": 0
      },
      "text/plain": [
       "interactive(children=(Dropdown(description='x', options=('20210506_180924_cgan_bs8_lr0.0001_nodes8', '20210506…"
      ]
     },
     "metadata": {},
     "output_type": "display_data"
    }
   ],
   "source": [
    "# parent_dir=u.result\n",
    "parent_dir=dict1[facility]['3d']\n",
    "dir_lst=[i.split('/')[-1] for i in glob.glob(parent_dir+'20210506*')]\n",
    "dir_lst\n",
    "w=interactive(lambda x: x, x=Dropdown(options=dir_lst))\n",
    "display(w)"
   ]
  },
  {
   "cell_type": "code",
   "execution_count": 55,
   "metadata": {},
   "outputs": [
    {
     "name": "stdout",
     "output_type": "stream",
     "text": [
      "/gpfs/alpine/ast153/proj-shared/venkitesh/Cosmogan/data/results_pytorch/3d/20210506_92216_bs8_lr0.0003_nodes8_spec0.1\n"
     ]
    }
   ],
   "source": [
    "result=w.result\n",
    "result_dir=parent_dir+result\n",
    "print(result_dir)"
   ]
  },
  {
   "cell_type": "markdown",
   "metadata": {},
   "source": [
    "## Plot Losses"
   ]
  },
  {
   "cell_type": "code",
   "execution_count": 56,
   "metadata": {},
   "outputs": [
    {
     "data": {
      "application/vnd.jupyter.widget-view+json": {
       "model_id": "11b565dffecd4ca88fc572f4f0b7e8e7",
       "version_major": 2,
       "version_minor": 0
      },
      "text/plain": [
       "Canvas(toolbar=Toolbar(toolitems=[('Home', 'Reset original view', 'home', 'home'), ('Back', 'Back to previous …"
      ]
     },
     "metadata": {},
     "output_type": "display_data"
    }
   ],
   "source": [
    "df_metrics=pd.read_pickle(result_dir+'/df_metrics.pkle').astype(np.float64)\n",
    "# df_metrics.tail(10)\n",
    "def f_plot_metrics(df,col_list):\n",
    "    \n",
    "    plt.figure()\n",
    "    for key in col_list:\n",
    "        plt.plot(df_metrics[key],label=key,marker='*',linestyle='')\n",
    "    plt.legend()\n",
    "    \n",
    "#     col_list=list(col_list)\n",
    "#     df.plot(kind='line',x='step',y=col_list)\n",
    "    \n",
    "f_plot_metrics(df_metrics,['hist_chi'])"
   ]
  },
  {
   "cell_type": "code",
   "execution_count": 57,
   "metadata": {},
   "outputs": [
    {
     "data": {
      "application/vnd.jupyter.widget-view+json": {
       "model_id": "6888b185a9214c27ba1b99c1ed88d501",
       "version_major": 2,
       "version_minor": 0
      },
      "text/plain": [
       "Canvas(toolbar=Toolbar(toolitems=[('Home', 'Reset original view', 'home', 'home'), ('Back', 'Back to previous …"
      ]
     },
     "metadata": {},
     "output_type": "display_data"
    }
   ],
   "source": [
    "f_plot_metrics(df_metrics,['hist_chi'])"
   ]
  },
  {
   "cell_type": "code",
   "execution_count": 47,
   "metadata": {},
   "outputs": [
    {
     "data": {
      "application/vnd.jupyter.widget-view+json": {
       "model_id": "cc27fdf8eea342f9916f9079109db095",
       "version_major": 2,
       "version_minor": 0
      },
      "text/plain": [
       "interactive(children=(SelectMultiple(description='col_list', options=('step', 'epoch', 'Dreal', 'Dfake', 'Dful…"
      ]
     },
     "metadata": {},
     "output_type": "display_data"
    },
    {
     "data": {
      "text/plain": [
       "<function __main__.f_plot_metrics(df, col_list)>"
      ]
     },
     "execution_count": 47,
     "metadata": {},
     "output_type": "execute_result"
    }
   ],
   "source": [
    "interact_manual(f_plot_metrics,df=fixed(df_metrics), col_list=SelectMultiple(options=df_metrics.columns.values))"
   ]
  },
  {
   "cell_type": "code",
   "execution_count": 39,
   "metadata": {},
   "outputs": [
    {
     "name": "stdout",
     "output_type": "stream",
     "text": [
      "-0.6433697462081909\n"
     ]
    },
    {
     "data": {
      "text/html": [
       "<div>\n",
       "<style scoped>\n",
       "    .dataframe tbody tr th:only-of-type {\n",
       "        vertical-align: middle;\n",
       "    }\n",
       "\n",
       "    .dataframe tbody tr th {\n",
       "        vertical-align: top;\n",
       "    }\n",
       "\n",
       "    .dataframe thead th {\n",
       "        text-align: right;\n",
       "    }\n",
       "</style>\n",
       "<table border=\"1\" class=\"dataframe\">\n",
       "  <thead>\n",
       "    <tr style=\"text-align: right;\">\n",
       "      <th></th>\n",
       "      <th>step</th>\n",
       "      <th>epoch</th>\n",
       "      <th>Dreal</th>\n",
       "      <th>Dfake</th>\n",
       "      <th>Dfull</th>\n",
       "      <th>G_adv</th>\n",
       "      <th>G_full</th>\n",
       "      <th>spec_loss</th>\n",
       "      <th>hist_loss</th>\n",
       "      <th>spec_chi</th>\n",
       "      <th>hist_chi</th>\n",
       "      <th>gp_loss</th>\n",
       "      <th>fm_loss</th>\n",
       "      <th>D(x)</th>\n",
       "      <th>D_G_z1</th>\n",
       "      <th>D_G_z2</th>\n",
       "      <th>time</th>\n",
       "      <th>lr_d</th>\n",
       "      <th>lr_g</th>\n",
       "    </tr>\n",
       "  </thead>\n",
       "  <tbody>\n",
       "    <tr>\n",
       "      <th>1957</th>\n",
       "      <td>1957.0</td>\n",
       "      <td>34.0</td>\n",
       "      <td>0.582845</td>\n",
       "      <td>0.591623</td>\n",
       "      <td>1.174469</td>\n",
       "      <td>1.124525</td>\n",
       "      <td>12.263165</td>\n",
       "      <td>11.138640</td>\n",
       "      <td>-2.028793</td>\n",
       "      <td>10.966629</td>\n",
       "      <td>-2.365599</td>\n",
       "      <td>NaN</td>\n",
       "      <td>NaN</td>\n",
       "      <td>0.276990</td>\n",
       "      <td>-0.234158</td>\n",
       "      <td>-0.721033</td>\n",
       "      <td>0.441149</td>\n",
       "      <td>0.000063</td>\n",
       "      <td>0.001</td>\n",
       "    </tr>\n",
       "    <tr>\n",
       "      <th>1646</th>\n",
       "      <td>1646.0</td>\n",
       "      <td>29.0</td>\n",
       "      <td>0.609501</td>\n",
       "      <td>0.783546</td>\n",
       "      <td>1.393047</td>\n",
       "      <td>1.207010</td>\n",
       "      <td>12.007258</td>\n",
       "      <td>10.800249</td>\n",
       "      <td>-2.239850</td>\n",
       "      <td>10.890207</td>\n",
       "      <td>-2.337214</td>\n",
       "      <td>NaN</td>\n",
       "      <td>NaN</td>\n",
       "      <td>0.177379</td>\n",
       "      <td>0.227939</td>\n",
       "      <td>-0.847258</td>\n",
       "      <td>0.441106</td>\n",
       "      <td>0.000063</td>\n",
       "      <td>0.001</td>\n",
       "    </tr>\n",
       "    <tr>\n",
       "      <th>1958</th>\n",
       "      <td>1958.0</td>\n",
       "      <td>34.0</td>\n",
       "      <td>0.631028</td>\n",
       "      <td>0.548303</td>\n",
       "      <td>1.179331</td>\n",
       "      <td>1.014080</td>\n",
       "      <td>11.881619</td>\n",
       "      <td>10.867539</td>\n",
       "      <td>-2.171142</td>\n",
       "      <td>10.919251</td>\n",
       "      <td>-2.316198</td>\n",
       "      <td>NaN</td>\n",
       "      <td>NaN</td>\n",
       "      <td>0.143202</td>\n",
       "      <td>-0.359142</td>\n",
       "      <td>-0.539608</td>\n",
       "      <td>0.453881</td>\n",
       "      <td>0.000063</td>\n",
       "      <td>0.001</td>\n",
       "    </tr>\n",
       "    <tr>\n",
       "      <th>1642</th>\n",
       "      <td>1642.0</td>\n",
       "      <td>29.0</td>\n",
       "      <td>0.620963</td>\n",
       "      <td>0.898771</td>\n",
       "      <td>1.519734</td>\n",
       "      <td>0.991110</td>\n",
       "      <td>12.240129</td>\n",
       "      <td>11.249020</td>\n",
       "      <td>-1.449931</td>\n",
       "      <td>11.059259</td>\n",
       "      <td>-2.235673</td>\n",
       "      <td>NaN</td>\n",
       "      <td>NaN</td>\n",
       "      <td>0.148012</td>\n",
       "      <td>0.360469</td>\n",
       "      <td>-0.492904</td>\n",
       "      <td>0.446036</td>\n",
       "      <td>0.000063</td>\n",
       "      <td>0.001</td>\n",
       "    </tr>\n",
       "    <tr>\n",
       "      <th>1631</th>\n",
       "      <td>1631.0</td>\n",
       "      <td>29.0</td>\n",
       "      <td>0.799103</td>\n",
       "      <td>0.769290</td>\n",
       "      <td>1.568393</td>\n",
       "      <td>0.854081</td>\n",
       "      <td>11.927874</td>\n",
       "      <td>11.073793</td>\n",
       "      <td>-2.308673</td>\n",
       "      <td>11.032211</td>\n",
       "      <td>-2.174651</td>\n",
       "      <td>NaN</td>\n",
       "      <td>NaN</td>\n",
       "      <td>-0.226182</td>\n",
       "      <td>0.166255</td>\n",
       "      <td>-0.272185</td>\n",
       "      <td>0.439907</td>\n",
       "      <td>0.000063</td>\n",
       "      <td>0.001</td>\n",
       "    </tr>\n",
       "    <tr>\n",
       "      <th>1629</th>\n",
       "      <td>1629.0</td>\n",
       "      <td>29.0</td>\n",
       "      <td>0.780051</td>\n",
       "      <td>0.689749</td>\n",
       "      <td>1.469800</td>\n",
       "      <td>0.815378</td>\n",
       "      <td>11.869556</td>\n",
       "      <td>11.054178</td>\n",
       "      <td>-1.666847</td>\n",
       "      <td>11.009417</td>\n",
       "      <td>-2.163078</td>\n",
       "      <td>NaN</td>\n",
       "      <td>NaN</td>\n",
       "      <td>-0.182881</td>\n",
       "      <td>-0.049058</td>\n",
       "      <td>-0.208323</td>\n",
       "      <td>0.459869</td>\n",
       "      <td>0.000063</td>\n",
       "      <td>0.001</td>\n",
       "    </tr>\n",
       "    <tr>\n",
       "      <th>1632</th>\n",
       "      <td>1632.0</td>\n",
       "      <td>29.0</td>\n",
       "      <td>1.229822</td>\n",
       "      <td>0.488797</td>\n",
       "      <td>1.718619</td>\n",
       "      <td>1.306310</td>\n",
       "      <td>12.586250</td>\n",
       "      <td>11.279940</td>\n",
       "      <td>-1.708414</td>\n",
       "      <td>11.009107</td>\n",
       "      <td>-2.147297</td>\n",
       "      <td>NaN</td>\n",
       "      <td>NaN</td>\n",
       "      <td>-0.934408</td>\n",
       "      <td>-0.819219</td>\n",
       "      <td>-0.962700</td>\n",
       "      <td>0.441525</td>\n",
       "      <td>0.000063</td>\n",
       "      <td>0.001</td>\n",
       "    </tr>\n",
       "    <tr>\n",
       "      <th>1641</th>\n",
       "      <td>1641.0</td>\n",
       "      <td>29.0</td>\n",
       "      <td>0.984981</td>\n",
       "      <td>0.883943</td>\n",
       "      <td>1.868924</td>\n",
       "      <td>0.569914</td>\n",
       "      <td>11.555775</td>\n",
       "      <td>10.985861</td>\n",
       "      <td>-2.343367</td>\n",
       "      <td>11.113537</td>\n",
       "      <td>-2.143418</td>\n",
       "      <td>NaN</td>\n",
       "      <td>NaN</td>\n",
       "      <td>-0.578710</td>\n",
       "      <td>0.401400</td>\n",
       "      <td>0.288029</td>\n",
       "      <td>0.444127</td>\n",
       "      <td>0.000063</td>\n",
       "      <td>0.001</td>\n",
       "    </tr>\n",
       "    <tr>\n",
       "      <th>1650</th>\n",
       "      <td>1650.0</td>\n",
       "      <td>29.0</td>\n",
       "      <td>0.735438</td>\n",
       "      <td>0.530645</td>\n",
       "      <td>1.266083</td>\n",
       "      <td>1.031423</td>\n",
       "      <td>12.100069</td>\n",
       "      <td>11.068645</td>\n",
       "      <td>-1.789464</td>\n",
       "      <td>11.007469</td>\n",
       "      <td>-2.141961</td>\n",
       "      <td>NaN</td>\n",
       "      <td>NaN</td>\n",
       "      <td>-0.022347</td>\n",
       "      <td>-0.416478</td>\n",
       "      <td>-0.580665</td>\n",
       "      <td>0.456040</td>\n",
       "      <td>0.000063</td>\n",
       "      <td>0.001</td>\n",
       "    </tr>\n",
       "    <tr>\n",
       "      <th>1981</th>\n",
       "      <td>1981.0</td>\n",
       "      <td>35.0</td>\n",
       "      <td>0.491810</td>\n",
       "      <td>0.721422</td>\n",
       "      <td>1.213232</td>\n",
       "      <td>1.373123</td>\n",
       "      <td>12.295521</td>\n",
       "      <td>10.922398</td>\n",
       "      <td>-1.715687</td>\n",
       "      <td>10.929399</td>\n",
       "      <td>-2.136034</td>\n",
       "      <td>NaN</td>\n",
       "      <td>NaN</td>\n",
       "      <td>0.621560</td>\n",
       "      <td>-0.033147</td>\n",
       "      <td>-1.068286</td>\n",
       "      <td>0.435850</td>\n",
       "      <td>0.000063</td>\n",
       "      <td>0.001</td>\n",
       "    </tr>\n",
       "  </tbody>\n",
       "</table>\n",
       "</div>"
      ],
      "text/plain": [
       "        step  epoch     Dreal     Dfake     Dfull     G_adv     G_full  \\\n",
       "1957  1957.0   34.0  0.582845  0.591623  1.174469  1.124525  12.263165   \n",
       "1646  1646.0   29.0  0.609501  0.783546  1.393047  1.207010  12.007258   \n",
       "1958  1958.0   34.0  0.631028  0.548303  1.179331  1.014080  11.881619   \n",
       "1642  1642.0   29.0  0.620963  0.898771  1.519734  0.991110  12.240129   \n",
       "1631  1631.0   29.0  0.799103  0.769290  1.568393  0.854081  11.927874   \n",
       "1629  1629.0   29.0  0.780051  0.689749  1.469800  0.815378  11.869556   \n",
       "1632  1632.0   29.0  1.229822  0.488797  1.718619  1.306310  12.586250   \n",
       "1641  1641.0   29.0  0.984981  0.883943  1.868924  0.569914  11.555775   \n",
       "1650  1650.0   29.0  0.735438  0.530645  1.266083  1.031423  12.100069   \n",
       "1981  1981.0   35.0  0.491810  0.721422  1.213232  1.373123  12.295521   \n",
       "\n",
       "      spec_loss  hist_loss   spec_chi  hist_chi  gp_loss  fm_loss      D(x)  \\\n",
       "1957  11.138640  -2.028793  10.966629 -2.365599      NaN      NaN  0.276990   \n",
       "1646  10.800249  -2.239850  10.890207 -2.337214      NaN      NaN  0.177379   \n",
       "1958  10.867539  -2.171142  10.919251 -2.316198      NaN      NaN  0.143202   \n",
       "1642  11.249020  -1.449931  11.059259 -2.235673      NaN      NaN  0.148012   \n",
       "1631  11.073793  -2.308673  11.032211 -2.174651      NaN      NaN -0.226182   \n",
       "1629  11.054178  -1.666847  11.009417 -2.163078      NaN      NaN -0.182881   \n",
       "1632  11.279940  -1.708414  11.009107 -2.147297      NaN      NaN -0.934408   \n",
       "1641  10.985861  -2.343367  11.113537 -2.143418      NaN      NaN -0.578710   \n",
       "1650  11.068645  -1.789464  11.007469 -2.141961      NaN      NaN -0.022347   \n",
       "1981  10.922398  -1.715687  10.929399 -2.136034      NaN      NaN  0.621560   \n",
       "\n",
       "        D_G_z1    D_G_z2      time      lr_d   lr_g  \n",
       "1957 -0.234158 -0.721033  0.441149  0.000063  0.001  \n",
       "1646  0.227939 -0.847258  0.441106  0.000063  0.001  \n",
       "1958 -0.359142 -0.539608  0.453881  0.000063  0.001  \n",
       "1642  0.360469 -0.492904  0.446036  0.000063  0.001  \n",
       "1631  0.166255 -0.272185  0.439907  0.000063  0.001  \n",
       "1629 -0.049058 -0.208323  0.459869  0.000063  0.001  \n",
       "1632 -0.819219 -0.962700  0.441525  0.000063  0.001  \n",
       "1641  0.401400  0.288029  0.444127  0.000063  0.001  \n",
       "1650 -0.416478 -0.580665  0.456040  0.000063  0.001  \n",
       "1981 -0.033147 -1.068286  0.435850  0.000063  0.001  "
      ]
     },
     "execution_count": 39,
     "metadata": {},
     "output_type": "execute_result"
    }
   ],
   "source": [
    "\n",
    "chi=df_metrics.quantile(q=0.2,axis=0)['hist_chi']\n",
    "print(chi)\n",
    "df_metrics[(df_metrics['hist_chi']<=chi)&(df_metrics.epoch>1)].sort_values(by=['hist_chi']).head(10)"
   ]
  },
  {
   "cell_type": "code",
   "execution_count": 42,
   "metadata": {},
   "outputs": [
    {
     "data": {
      "text/html": [
       "<div>\n",
       "<style scoped>\n",
       "    .dataframe tbody tr th:only-of-type {\n",
       "        vertical-align: middle;\n",
       "    }\n",
       "\n",
       "    .dataframe tbody tr th {\n",
       "        vertical-align: top;\n",
       "    }\n",
       "\n",
       "    .dataframe thead th {\n",
       "        text-align: right;\n",
       "    }\n",
       "</style>\n",
       "<table border=\"1\" class=\"dataframe\">\n",
       "  <thead>\n",
       "    <tr style=\"text-align: right;\">\n",
       "      <th></th>\n",
       "      <th>step</th>\n",
       "      <th>epoch</th>\n",
       "      <th>Dreal</th>\n",
       "      <th>Dfake</th>\n",
       "      <th>Dfull</th>\n",
       "      <th>G_adv</th>\n",
       "      <th>G_full</th>\n",
       "      <th>spec_loss</th>\n",
       "      <th>hist_loss</th>\n",
       "      <th>spec_chi</th>\n",
       "      <th>hist_chi</th>\n",
       "      <th>gp_loss</th>\n",
       "      <th>fm_loss</th>\n",
       "      <th>D(x)</th>\n",
       "      <th>D_G_z1</th>\n",
       "      <th>D_G_z2</th>\n",
       "      <th>time</th>\n",
       "      <th>lr_d</th>\n",
       "      <th>lr_g</th>\n",
       "    </tr>\n",
       "  </thead>\n",
       "  <tbody>\n",
       "    <tr>\n",
       "      <th>1957</th>\n",
       "      <td>1957.0</td>\n",
       "      <td>34.0</td>\n",
       "      <td>0.582845</td>\n",
       "      <td>0.591623</td>\n",
       "      <td>1.174469</td>\n",
       "      <td>1.124525</td>\n",
       "      <td>12.263165</td>\n",
       "      <td>11.138640</td>\n",
       "      <td>-2.028793</td>\n",
       "      <td>10.966629</td>\n",
       "      <td>-2.365599</td>\n",
       "      <td>NaN</td>\n",
       "      <td>NaN</td>\n",
       "      <td>0.276990</td>\n",
       "      <td>-0.234158</td>\n",
       "      <td>-0.721033</td>\n",
       "      <td>0.441149</td>\n",
       "      <td>0.000063</td>\n",
       "      <td>0.001</td>\n",
       "    </tr>\n",
       "    <tr>\n",
       "      <th>1646</th>\n",
       "      <td>1646.0</td>\n",
       "      <td>29.0</td>\n",
       "      <td>0.609501</td>\n",
       "      <td>0.783546</td>\n",
       "      <td>1.393047</td>\n",
       "      <td>1.207010</td>\n",
       "      <td>12.007258</td>\n",
       "      <td>10.800249</td>\n",
       "      <td>-2.239850</td>\n",
       "      <td>10.890207</td>\n",
       "      <td>-2.337214</td>\n",
       "      <td>NaN</td>\n",
       "      <td>NaN</td>\n",
       "      <td>0.177379</td>\n",
       "      <td>0.227939</td>\n",
       "      <td>-0.847258</td>\n",
       "      <td>0.441106</td>\n",
       "      <td>0.000063</td>\n",
       "      <td>0.001</td>\n",
       "    </tr>\n",
       "    <tr>\n",
       "      <th>1958</th>\n",
       "      <td>1958.0</td>\n",
       "      <td>34.0</td>\n",
       "      <td>0.631028</td>\n",
       "      <td>0.548303</td>\n",
       "      <td>1.179331</td>\n",
       "      <td>1.014080</td>\n",
       "      <td>11.881619</td>\n",
       "      <td>10.867539</td>\n",
       "      <td>-2.171142</td>\n",
       "      <td>10.919251</td>\n",
       "      <td>-2.316198</td>\n",
       "      <td>NaN</td>\n",
       "      <td>NaN</td>\n",
       "      <td>0.143202</td>\n",
       "      <td>-0.359142</td>\n",
       "      <td>-0.539608</td>\n",
       "      <td>0.453881</td>\n",
       "      <td>0.000063</td>\n",
       "      <td>0.001</td>\n",
       "    </tr>\n",
       "    <tr>\n",
       "      <th>1642</th>\n",
       "      <td>1642.0</td>\n",
       "      <td>29.0</td>\n",
       "      <td>0.620963</td>\n",
       "      <td>0.898771</td>\n",
       "      <td>1.519734</td>\n",
       "      <td>0.991110</td>\n",
       "      <td>12.240129</td>\n",
       "      <td>11.249020</td>\n",
       "      <td>-1.449931</td>\n",
       "      <td>11.059259</td>\n",
       "      <td>-2.235673</td>\n",
       "      <td>NaN</td>\n",
       "      <td>NaN</td>\n",
       "      <td>0.148012</td>\n",
       "      <td>0.360469</td>\n",
       "      <td>-0.492904</td>\n",
       "      <td>0.446036</td>\n",
       "      <td>0.000063</td>\n",
       "      <td>0.001</td>\n",
       "    </tr>\n",
       "    <tr>\n",
       "      <th>1631</th>\n",
       "      <td>1631.0</td>\n",
       "      <td>29.0</td>\n",
       "      <td>0.799103</td>\n",
       "      <td>0.769290</td>\n",
       "      <td>1.568393</td>\n",
       "      <td>0.854081</td>\n",
       "      <td>11.927874</td>\n",
       "      <td>11.073793</td>\n",
       "      <td>-2.308673</td>\n",
       "      <td>11.032211</td>\n",
       "      <td>-2.174651</td>\n",
       "      <td>NaN</td>\n",
       "      <td>NaN</td>\n",
       "      <td>-0.226182</td>\n",
       "      <td>0.166255</td>\n",
       "      <td>-0.272185</td>\n",
       "      <td>0.439907</td>\n",
       "      <td>0.000063</td>\n",
       "      <td>0.001</td>\n",
       "    </tr>\n",
       "    <tr>\n",
       "      <th>1629</th>\n",
       "      <td>1629.0</td>\n",
       "      <td>29.0</td>\n",
       "      <td>0.780051</td>\n",
       "      <td>0.689749</td>\n",
       "      <td>1.469800</td>\n",
       "      <td>0.815378</td>\n",
       "      <td>11.869556</td>\n",
       "      <td>11.054178</td>\n",
       "      <td>-1.666847</td>\n",
       "      <td>11.009417</td>\n",
       "      <td>-2.163078</td>\n",
       "      <td>NaN</td>\n",
       "      <td>NaN</td>\n",
       "      <td>-0.182881</td>\n",
       "      <td>-0.049058</td>\n",
       "      <td>-0.208323</td>\n",
       "      <td>0.459869</td>\n",
       "      <td>0.000063</td>\n",
       "      <td>0.001</td>\n",
       "    </tr>\n",
       "    <tr>\n",
       "      <th>1632</th>\n",
       "      <td>1632.0</td>\n",
       "      <td>29.0</td>\n",
       "      <td>1.229822</td>\n",
       "      <td>0.488797</td>\n",
       "      <td>1.718619</td>\n",
       "      <td>1.306310</td>\n",
       "      <td>12.586250</td>\n",
       "      <td>11.279940</td>\n",
       "      <td>-1.708414</td>\n",
       "      <td>11.009107</td>\n",
       "      <td>-2.147297</td>\n",
       "      <td>NaN</td>\n",
       "      <td>NaN</td>\n",
       "      <td>-0.934408</td>\n",
       "      <td>-0.819219</td>\n",
       "      <td>-0.962700</td>\n",
       "      <td>0.441525</td>\n",
       "      <td>0.000063</td>\n",
       "      <td>0.001</td>\n",
       "    </tr>\n",
       "    <tr>\n",
       "      <th>1641</th>\n",
       "      <td>1641.0</td>\n",
       "      <td>29.0</td>\n",
       "      <td>0.984981</td>\n",
       "      <td>0.883943</td>\n",
       "      <td>1.868924</td>\n",
       "      <td>0.569914</td>\n",
       "      <td>11.555775</td>\n",
       "      <td>10.985861</td>\n",
       "      <td>-2.343367</td>\n",
       "      <td>11.113537</td>\n",
       "      <td>-2.143418</td>\n",
       "      <td>NaN</td>\n",
       "      <td>NaN</td>\n",
       "      <td>-0.578710</td>\n",
       "      <td>0.401400</td>\n",
       "      <td>0.288029</td>\n",
       "      <td>0.444127</td>\n",
       "      <td>0.000063</td>\n",
       "      <td>0.001</td>\n",
       "    </tr>\n",
       "  </tbody>\n",
       "</table>\n",
       "</div>"
      ],
      "text/plain": [
       "        step  epoch     Dreal     Dfake     Dfull     G_adv     G_full  \\\n",
       "1957  1957.0   34.0  0.582845  0.591623  1.174469  1.124525  12.263165   \n",
       "1646  1646.0   29.0  0.609501  0.783546  1.393047  1.207010  12.007258   \n",
       "1958  1958.0   34.0  0.631028  0.548303  1.179331  1.014080  11.881619   \n",
       "1642  1642.0   29.0  0.620963  0.898771  1.519734  0.991110  12.240129   \n",
       "1631  1631.0   29.0  0.799103  0.769290  1.568393  0.854081  11.927874   \n",
       "1629  1629.0   29.0  0.780051  0.689749  1.469800  0.815378  11.869556   \n",
       "1632  1632.0   29.0  1.229822  0.488797  1.718619  1.306310  12.586250   \n",
       "1641  1641.0   29.0  0.984981  0.883943  1.868924  0.569914  11.555775   \n",
       "\n",
       "      spec_loss  hist_loss   spec_chi  hist_chi  gp_loss  fm_loss      D(x)  \\\n",
       "1957  11.138640  -2.028793  10.966629 -2.365599      NaN      NaN  0.276990   \n",
       "1646  10.800249  -2.239850  10.890207 -2.337214      NaN      NaN  0.177379   \n",
       "1958  10.867539  -2.171142  10.919251 -2.316198      NaN      NaN  0.143202   \n",
       "1642  11.249020  -1.449931  11.059259 -2.235673      NaN      NaN  0.148012   \n",
       "1631  11.073793  -2.308673  11.032211 -2.174651      NaN      NaN -0.226182   \n",
       "1629  11.054178  -1.666847  11.009417 -2.163078      NaN      NaN -0.182881   \n",
       "1632  11.279940  -1.708414  11.009107 -2.147297      NaN      NaN -0.934408   \n",
       "1641  10.985861  -2.343367  11.113537 -2.143418      NaN      NaN -0.578710   \n",
       "\n",
       "        D_G_z1    D_G_z2      time      lr_d   lr_g  \n",
       "1957 -0.234158 -0.721033  0.441149  0.000063  0.001  \n",
       "1646  0.227939 -0.847258  0.441106  0.000063  0.001  \n",
       "1958 -0.359142 -0.539608  0.453881  0.000063  0.001  \n",
       "1642  0.360469 -0.492904  0.446036  0.000063  0.001  \n",
       "1631  0.166255 -0.272185  0.439907  0.000063  0.001  \n",
       "1629 -0.049058 -0.208323  0.459869  0.000063  0.001  \n",
       "1632 -0.819219 -0.962700  0.441525  0.000063  0.001  \n",
       "1641  0.401400  0.288029  0.444127  0.000063  0.001  "
      ]
     },
     "metadata": {},
     "output_type": "display_data"
    }
   ],
   "source": [
    "display(df_metrics.sort_values(by=['hist_chi']).head(8))\n",
    "# display(df_metrics.sort_values(by=['spec_chi']).head(8))"
   ]
  },
  {
   "cell_type": "markdown",
   "metadata": {},
   "source": [
    "## Grid plot of images"
   ]
  },
  {
   "cell_type": "code",
   "execution_count": 111,
   "metadata": {
    "tags": []
   },
   "outputs": [
    {
     "name": "stdout",
     "output_type": "stream",
     "text": [
      "15660 15720 15610 15630 15650 15740 15710 15670 15730 15640 15680 15690 15700 15750 15620\n"
     ]
    }
   ],
   "source": [
    "epoch=100\n",
    "flist=glob.glob(result_dir+'/images/gen_img_epoch-{0}_step*'.format(epoch))\n",
    "steps_list=[fname.split('/')[-1].split('step-')[-1].split('.')[0] for fname in flist]\n",
    "\n",
    "print(*steps_list)"
   ]
  },
  {
   "cell_type": "code",
   "execution_count": 106,
   "metadata": {
    "tags": []
   },
   "outputs": [
    {
     "data": {
      "text/plain": [
       "'/gpfs/alpine/ast153/proj-shared/venkitesh/Cosmogan/data/results_pytorch/3d/20210506_92216_bs8_lr0.0003_nodes8_spec0.1/images/gen_img_epoch-5_step-800.npy'"
      ]
     },
     "execution_count": 106,
     "metadata": {},
     "output_type": "execute_result"
    }
   ],
   "source": [
    "# fname=flist[0]\n",
    "# fname,fname.split('/')[-1].split('step-')[-1].split('.')[0]\n",
    "\n",
    "epoch,step=5,800\n",
    "fname=glob.glob(result_dir+'/images/gen_img_epoch-{0}_step-{1}.npy'.format(epoch,step))[0]\n",
    "fname"
   ]
  },
  {
   "cell_type": "code",
   "execution_count": 107,
   "metadata": {},
   "outputs": [
    {
     "name": "stdout",
     "output_type": "stream",
     "text": [
      "(32, 64, 64, 64)\n",
      "2 4\n"
     ]
    },
    {
     "data": {
      "application/vnd.jupyter.widget-view+json": {
       "model_id": "1358bddce71742889050b70c03869171",
       "version_major": 2,
       "version_minor": 0
      },
      "text/plain": [
       "Canvas(toolbar=Toolbar(toolitems=[('Home', 'Reset original view', 'home', 'home'), ('Back', 'Back to previous …"
      ]
     },
     "metadata": {},
     "output_type": "display_data"
    }
   ],
   "source": [
    "images=np.load(fname)[:,0,:,:]\n",
    "print(images.shape)\n",
    "f_plot_grid(images[:8,:,:,0],cols=4,fig_size=(8,4))"
   ]
  },
  {
   "cell_type": "code",
   "execution_count": null,
   "metadata": {},
   "outputs": [],
   "source": []
  }
 ],
 "metadata": {
  "kernelspec": {
   "display_name": "OLCF-base",
   "language": "python",
   "name": "python3"
  },
  "language_info": {
   "codemirror_mode": {
    "name": "ipython",
    "version": 3
   },
   "file_extension": ".py",
   "mimetype": "text/x-python",
   "name": "python",
   "nbconvert_exporter": "python",
   "pygments_lexer": "ipython3",
   "version": "3.8.8"
  }
 },
 "nbformat": 4,
 "nbformat_minor": 4
}

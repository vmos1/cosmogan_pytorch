{
 "cells": [
  {
   "cell_type": "markdown",
   "metadata": {},
   "source": [
    "# Debug training\n",
    "May 19, 2021"
   ]
  },
  {
   "cell_type": "code",
   "execution_count": 49,
   "metadata": {
    "tags": []
   },
   "outputs": [],
   "source": [
    "import     numpy as np\n",
    "import matplotlib.pyplot as plt\n",
    "import pandas as pd\n",
    "\n",
    "import subprocess as sp\n",
    "import sys\n",
    "import os\n",
    "import glob\n",
    "import pickle \n",
    "\n",
    "from matplotlib.colors import LogNorm, PowerNorm, Normalize\n",
    "import seaborn as sns\n",
    "from functools import reduce\n",
    "\n",
    "import socket"
   ]
  },
  {
   "cell_type": "code",
   "execution_count": 50,
   "metadata": {},
   "outputs": [],
   "source": [
    "from ipywidgets import *"
   ]
  },
  {
   "cell_type": "code",
   "execution_count": 51,
   "metadata": {},
   "outputs": [],
   "source": [
    "%matplotlib widget"
   ]
  },
  {
   "cell_type": "code",
   "execution_count": 52,
   "metadata": {},
   "outputs": [],
   "source": [
    "base_dict={'cori':'/global/u1/v/vpa/project/jpt_notebooks/Cosmology/Cosmo_GAN/repositories/cosmogan_pytorch/',\n",
    "         'summit':'/autofs/nccs-svm1_home1/venkitesh/projects/cosmogan/cosmogan_pytorch/'}\n",
    "facility='cori' if socket.gethostname()[:4]=='cori' else 'summit'\n",
    "\n",
    "base_dir=base_dict[facility]"
   ]
  },
  {
   "cell_type": "code",
   "execution_count": 53,
   "metadata": {},
   "outputs": [],
   "source": [
    "sys.path.append(base_dir+'/code/modules_image_analysis/')\n",
    "from modules_img_analysis import *\n",
    "# sys.path.append(base_dir+'/code/5_3d_cgan/1_main_code/')\n",
    "# import post_analysis_pandas as post"
   ]
  },
  {
   "cell_type": "code",
   "execution_count": 54,
   "metadata": {},
   "outputs": [],
   "source": [
    "### Transformation functions for image pixel values\n",
    "def f_transform(x):\n",
    "    return 2.*x/(x + 4.) - 1.\n",
    "\n",
    "def f_invtransform(s):\n",
    "    return 4.*(1. + s)/(1. - s)\n"
   ]
  },
  {
   "cell_type": "markdown",
   "metadata": {},
   "source": [
    "## Read data"
   ]
  },
  {
   "cell_type": "code",
   "execution_count": 55,
   "metadata": {},
   "outputs": [],
   "source": [
    "dict1={'cori':{\n",
    "'2d':'/global/cfs/cdirs/m3363/vayyar/cosmogan_data/results_from_other_code/pytorch/results/128sq/',\n",
    "'3d':'/global/cfs/cdirs/m3363/vayyar/cosmogan_data/results_from_other_code/pytorch/results/3D/',\n",
    "'3d_cgan':'/global/cfs/cdirs/m3363/vayyar/cosmogan_data/results_from_other_code/pytorch/results/3d_cGAN/'},\n",
    "'summit':{'2d':'/gpfs/alpine/ast153/proj-shared/venkitesh/Cosmogan/data/results_pytorch/2d/',\n",
    "          '3d':'/gpfs/alpine/ast153/proj-shared/venkitesh/Cosmogan/data/results_pytorch/3d/',\n",
    "          '3d_cgan':'/gpfs/alpine/ast153/proj-shared/venkitesh/Cosmogan/data/results_pytorch/3d/'}}"
   ]
  },
  {
   "cell_type": "code",
   "execution_count": 69,
   "metadata": {},
   "outputs": [
    {
     "data": {
      "application/vnd.jupyter.widget-view+json": {
       "model_id": "0f8c8590e9cf481f91dd7d84e4b100b2",
       "version_major": 2,
       "version_minor": 0
      },
      "text/plain": [
       "interactive(children=(Dropdown(description='x', options=('20210620_113852_cgan_bs32_nodes8_lr0.0001-vary_fm50_…"
      ]
     },
     "metadata": {},
     "output_type": "display_data"
    }
   ],
   "source": [
    "# parent_dir=u.result\n",
    "parent_dir=dict1[facility]['3d_cgan']\n",
    "dir_lst=[i.split('/')[-1] for i in glob.glob(parent_dir+'202106*')]\n",
    "dir_lst\n",
    "w=interactive(lambda x: x, x=Dropdown(options=dir_lst))\n",
    "display(w)"
   ]
  },
  {
   "cell_type": "code",
   "execution_count": 72,
   "metadata": {},
   "outputs": [
    {
     "name": "stdout",
     "output_type": "stream",
     "text": [
      "/global/cfs/cdirs/m3363/vayyar/cosmogan_data/results_from_other_code/pytorch/results/3d_cGAN/20210620_63445_cgan_bs32_nodes8_lr0.0001-vary_fm50_spec0.05\n"
     ]
    }
   ],
   "source": [
    "result=w.result\n",
    "result_dir=parent_dir+result\n",
    "print(result_dir)"
   ]
  },
  {
   "cell_type": "markdown",
   "metadata": {},
   "source": [
    "## Plot Losses"
   ]
  },
  {
   "cell_type": "code",
   "execution_count": 73,
   "metadata": {},
   "outputs": [
    {
     "data": {
      "application/vnd.jupyter.widget-view+json": {
       "model_id": "99dfe3c0c34047c994ee306a67a3eca5",
       "version_major": 2,
       "version_minor": 0
      },
      "text/plain": [
       "Canvas(toolbar=Toolbar(toolitems=[('Home', 'Reset original view', 'home', 'home'), ('Back', 'Back to previous …"
      ]
     },
     "metadata": {},
     "output_type": "display_data"
    }
   ],
   "source": [
    "df_metrics=pd.read_pickle(result_dir+'/df_metrics.pkle').astype(np.float64)\n",
    "# df_metrics.tail(10)\n",
    "def f_plot_metrics(df,col_list):\n",
    "    \n",
    "    plt.figure()\n",
    "    for key in col_list:\n",
    "        plt.plot(df_metrics[key],label=key,marker='*',linestyle='')\n",
    "    plt.legend()\n",
    "    \n",
    "#     col_list=list(col_list)\n",
    "#     df.plot(kind='line',x='step',y=col_list)\n",
    "\n",
    "f_plot_metrics(df_metrics,['hist_chi'])"
   ]
  },
  {
   "cell_type": "code",
   "execution_count": 74,
   "metadata": {},
   "outputs": [],
   "source": [
    "# f_plot_metrics(df_metrics,['lr_d','lr_g'])"
   ]
  },
  {
   "cell_type": "code",
   "execution_count": 75,
   "metadata": {},
   "outputs": [
    {
     "data": {
      "application/vnd.jupyter.widget-view+json": {
       "model_id": "e1d1e8f8f4e0466bb7d9c4596d2e6a8c",
       "version_major": 2,
       "version_minor": 0
      },
      "text/plain": [
       "interactive(children=(SelectMultiple(description='col_list', options=('step', 'epoch', 'Dreal', 'Dfake', 'Dful…"
      ]
     },
     "metadata": {},
     "output_type": "display_data"
    },
    {
     "data": {
      "text/plain": [
       "<function __main__.f_plot_metrics(df, col_list)>"
      ]
     },
     "execution_count": 75,
     "metadata": {},
     "output_type": "execute_result"
    }
   ],
   "source": [
    "interact_manual(f_plot_metrics,df=fixed(df_metrics), col_list=SelectMultiple(options=df_metrics.columns.values))"
   ]
  },
  {
   "cell_type": "code",
   "execution_count": 76,
   "metadata": {},
   "outputs": [],
   "source": [
    "# df_metrics[(df_metrics.lr_d>=6.69e-04) ]"
   ]
  },
  {
   "cell_type": "code",
   "execution_count": 62,
   "metadata": {},
   "outputs": [],
   "source": [
    "# df_metrics.plot(kind='scatter',x='step',y=['lr_d'])"
   ]
  },
  {
   "cell_type": "code",
   "execution_count": 63,
   "metadata": {},
   "outputs": [
    {
     "data": {
      "text/plain": [
       "(array([6.25e-06, 1.25e-05, 2.50e-05, 5.00e-05, 1.00e-04,      nan]),\n",
       " array([6.25e-06, 1.25e-05, 2.50e-05, 5.00e-05, 1.00e-04,      nan]))"
      ]
     },
     "execution_count": 63,
     "metadata": {},
     "output_type": "execute_result"
    }
   ],
   "source": [
    "np.unique(df_metrics.lr_d.values),np.unique(df_metrics.lr_g.values)\n",
    "\n",
    "# display(df_metrics.sort_values(by=['hist_chi']).head(8))\n",
    "# display(df_metrics.sort_values(by=['spec_chi']).head(8))"
   ]
  },
  {
   "cell_type": "markdown",
   "metadata": {},
   "source": [
    "## Calculating learn rates"
   ]
  },
  {
   "cell_type": "code",
   "execution_count": 64,
   "metadata": {},
   "outputs": [],
   "source": [
    "# Nsteps=5;Lf=0.00005;Li=0.0008\n",
    "# Lambda=(Lf/Li)**(1.0/Nsteps)\n",
    "# print(Lambda,Lambda**2)\n",
    "\n",
    "# lst=[10,40,60,70,80,100]\n",
    "# # lst=range(1,11)\n",
    "# [(Li*Lambda**(count+1),i) for count,i in enumerate(lst)]"
   ]
  },
  {
   "cell_type": "code",
   "execution_count": 65,
   "metadata": {
    "tags": []
   },
   "outputs": [],
   "source": [
    "# Lambda=0.25;Li=0.004\n",
    "# lst=[10,40,60,70,80,100,140,180]\n",
    "# # lst=range(1,11)\n",
    "# [(Li*Lambda**(count+1),i) for count,i in enumerate(lst)]"
   ]
  },
  {
   "cell_type": "markdown",
   "metadata": {},
   "source": [
    "## Grid plot of images"
   ]
  },
  {
   "cell_type": "code",
   "execution_count": 66,
   "metadata": {},
   "outputs": [
    {
     "data": {
      "application/vnd.jupyter.widget-view+json": {
       "model_id": "82a2aeff9ae547298915c3bb379d4592",
       "version_major": 2,
       "version_minor": 0
      },
      "text/plain": [
       "interactive(children=(Dropdown(description='epoch', options=(0.0, 1.0, 2.0, 3.0, 4.0, 5.0, 6.0, 7.0, 8.0, 9.0,…"
      ]
     },
     "metadata": {},
     "output_type": "display_data"
    }
   ],
   "source": [
    "epochs_list=np.unique(df_metrics.epoch.values)[:-1]\n",
    "def f2(epoch): \n",
    "    flist=glob.glob(result_dir+'/images/gen_img*_epoch-{0}*'.format(int(epoch)))\n",
    "#     print(flist)\n",
    "    steps_list=[fname.split('/')[-1].split('step-')[-1].split('.')[0] for fname in flist]\n",
    "#     steps_list=df_metrics[df_metrics.epoch==epoch].step.values\n",
    "    return steps_list\n",
    "\n",
    "w2=interactive(f2,epoch=Dropdown(options=epochs_list) )\n",
    "display(w2)\n"
   ]
  },
  {
   "cell_type": "code",
   "execution_count": 68,
   "metadata": {},
   "outputs": [
    {
     "data": {
      "application/vnd.jupyter.widget-view+json": {
       "model_id": "bf8c27af29cd4914a2401a04743c3c14",
       "version_major": 2,
       "version_minor": 0
      },
      "text/plain": [
       "interactive(children=(SelectMultiple(description='steps', options=('37030', '37420', '37210', '37130', '37180'…"
      ]
     },
     "metadata": {},
     "output_type": "display_data"
    },
    {
     "data": {
      "text/plain": [
       "<function __main__.f3(steps)>"
      ]
     },
     "execution_count": 68,
     "metadata": {},
     "output_type": "execute_result"
    }
   ],
   "source": [
    "result=w2.result\n",
    "steps_list=result\n",
    "\n",
    "def f3(steps):     \n",
    "    for step in steps:\n",
    "        \n",
    "        fname=glob.glob(result_dir+'/images/gen_img_*step-{0}.npy'.format(step))[0]\n",
    "#         print(fname)\n",
    "\n",
    "        images=np.load(fname)[:,0,:,:]\n",
    "#         print(images.shape)\n",
    "        f_plot_grid(images[:8,:,:,0],cols=4,fig_size=(8,4))\n",
    "\n",
    "interact(f3,steps=SelectMultiple(options=steps_list))\n"
   ]
  },
  {
   "cell_type": "code",
   "execution_count": null,
   "metadata": {},
   "outputs": [],
   "source": []
  },
  {
   "cell_type": "code",
   "execution_count": null,
   "metadata": {},
   "outputs": [],
   "source": []
  }
 ],
 "metadata": {
  "kernelspec": {
   "display_name": "v3",
   "language": "python",
   "name": "v-jpt-3"
  },
  "language_info": {
   "codemirror_mode": {
    "name": "ipython",
    "version": 3
   },
   "file_extension": ".py",
   "mimetype": "text/x-python",
   "name": "python",
   "nbconvert_exporter": "python",
   "pygments_lexer": "ipython3",
   "version": "3.8.6"
  }
 },
 "nbformat": 4,
 "nbformat_minor": 4
}

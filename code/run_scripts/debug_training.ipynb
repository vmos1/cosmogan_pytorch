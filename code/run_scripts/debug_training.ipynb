{
 "cells": [
  {
   "cell_type": "markdown",
   "metadata": {},
   "source": [
    "# Debug training\n",
    "May 19, 2021"
   ]
  },
  {
   "cell_type": "code",
   "execution_count": 1,
   "metadata": {},
   "outputs": [],
   "source": [
    "import     numpy as np\n",
    "import matplotlib.pyplot as plt\n",
    "import pandas as pd\n",
    "\n",
    "import subprocess as sp\n",
    "import sys\n",
    "import os\n",
    "import glob\n",
    "import pickle \n",
    "\n",
    "from matplotlib.colors import LogNorm, PowerNorm, Normalize\n",
    "import seaborn as sns\n",
    "from functools import reduce\n",
    "\n",
    "import socket"
   ]
  },
  {
   "cell_type": "code",
   "execution_count": 2,
   "metadata": {},
   "outputs": [],
   "source": [
    "from ipywidgets import *"
   ]
  },
  {
   "cell_type": "code",
   "execution_count": 3,
   "metadata": {},
   "outputs": [],
   "source": [
    "%matplotlib widget"
   ]
  },
  {
   "cell_type": "code",
   "execution_count": 4,
   "metadata": {},
   "outputs": [],
   "source": [
    "base_dict={'cori':'/global/u1/v/vpa/project/jpt_notebooks/Cosmology/Cosmo_GAN/repositories/cosmogan_pytorch/',\n",
    "         'summit':'/autofs/nccs-svm1_home1/venkitesh/projects/cosmogan/cosmogan_pytorch/'}\n",
    "facility='cori' if socket.gethostname()[:4]=='cori' else 'summit'\n",
    "\n",
    "base_dir=base_dict[facility]"
   ]
  },
  {
   "cell_type": "code",
   "execution_count": 5,
   "metadata": {},
   "outputs": [],
   "source": [
    "sys.path.append(base_dir+'/code/modules_image_analysis/')\n",
    "from modules_img_analysis import *\n",
    "# sys.path.append(base_dir+'/code/5_3d_cgan/1_main_code/')\n",
    "# import post_analysis_pandas as post"
   ]
  },
  {
   "cell_type": "code",
   "execution_count": 6,
   "metadata": {},
   "outputs": [],
   "source": [
    "### Transformation functions for image pixel values\n",
    "def f_transform(x):\n",
    "    return 2.*x/(x + 4.) - 1.\n",
    "\n",
    "def f_invtransform(s):\n",
    "    return 4.*(1. + s)/(1. - s)\n"
   ]
  },
  {
   "cell_type": "markdown",
   "metadata": {},
   "source": [
    "## Read data"
   ]
  },
  {
   "cell_type": "code",
   "execution_count": 7,
   "metadata": {},
   "outputs": [],
   "source": [
    "dict1={'cori':{\n",
    "'2d':'/global/cfs/cdirs/m3363/vayyar/cosmogan_data/results_from_other_code/pytorch/results/128_square/',\n",
    "'3d':'/global/cfs/cdirs/m3363/vayyar/cosmogan_data/results_from_other_code/pytorch/results/3D/',\n",
    "'3d_cgan':'/global/cfs/cdirs/m3363/vayyar/cosmogan_data/results_from_other_code/pytorch/results/3d_cGAN/'},\n",
    "'summit':{'2d':'/gpfs/alpine/ast153/proj-shared/venkitesh/Cosmogan/data/results_pytorch/2d/',\n",
    "          '3d':'/gpfs/alpine/ast153/proj-shared/venkitesh/Cosmogan/data/results_pytorch/3d/'}}"
   ]
  },
  {
   "cell_type": "code",
   "execution_count": 9,
   "metadata": {},
   "outputs": [
    {
     "data": {
      "application/vnd.jupyter.widget-view+json": {
       "model_id": "25a3233aaa7c42a78b32160caa9dac8f",
       "version_major": 2,
       "version_minor": 0
      },
      "text/plain": [
       "interactive(children=(Dropdown(description='x', options=('20210522_132418_cgan_bs16_nodes8_lrg0.001_lrd0.0008-…"
      ]
     },
     "metadata": {},
     "output_type": "display_data"
    }
   ],
   "source": [
    "# parent_dir=u.result\n",
    "parent_dir=dict1[facility]['3d']\n",
    "dir_lst=[i.split('/')[-1] for i in glob.glob(parent_dir+'20210522*')]\n",
    "dir_lst\n",
    "w=interactive(lambda x: x, x=Dropdown(options=dir_lst))\n",
    "display(w)"
   ]
  },
  {
   "cell_type": "code",
   "execution_count": 10,
   "metadata": {},
   "outputs": [
    {
     "name": "stdout",
     "output_type": "stream",
     "text": [
      "/gpfs/alpine/ast153/proj-shared/venkitesh/Cosmogan/data/results_pytorch/3d/20210522_132418_cgan_bs16_nodes8_lrg0.001_lrd0.0008-fastvary\n"
     ]
    }
   ],
   "source": [
    "result=w.result\n",
    "result_dir=parent_dir+result\n",
    "print(result_dir)"
   ]
  },
  {
   "cell_type": "markdown",
   "metadata": {},
   "source": [
    "## Plot Losses"
   ]
  },
  {
   "cell_type": "code",
   "execution_count": 11,
   "metadata": {},
   "outputs": [
    {
     "data": {
      "application/vnd.jupyter.widget-view+json": {
       "model_id": "869048dcca214f41987ffd8cdd041efd",
       "version_major": 2,
       "version_minor": 0
      },
      "text/plain": [
       "Canvas(toolbar=Toolbar(toolitems=[('Home', 'Reset original view', 'home', 'home'), ('Back', 'Back to previous …"
      ]
     },
     "metadata": {},
     "output_type": "display_data"
    }
   ],
   "source": [
    "df_metrics=pd.read_pickle(result_dir+'/df_metrics.pkle').astype(np.float64)\n",
    "# df_metrics.tail(10)\n",
    "def f_plot_metrics(df,col_list):\n",
    "    \n",
    "    plt.figure()\n",
    "    for key in col_list:\n",
    "        plt.plot(df_metrics[key],label=key,marker='*',linestyle='')\n",
    "    plt.legend()\n",
    "    \n",
    "#     col_list=list(col_list)\n",
    "#     df.plot(kind='line',x='step',y=col_list)\n",
    "\n",
    "f_plot_metrics(df_metrics,['hist_chi'])"
   ]
  },
  {
   "cell_type": "code",
   "execution_count": 12,
   "metadata": {},
   "outputs": [
    {
     "data": {
      "application/vnd.jupyter.widget-view+json": {
       "model_id": "6f437edbe41a4302877e84436a8433db",
       "version_major": 2,
       "version_minor": 0
      },
      "text/plain": [
       "Canvas(toolbar=Toolbar(toolitems=[('Home', 'Reset original view', 'home', 'home'), ('Back', 'Back to previous …"
      ]
     },
     "metadata": {},
     "output_type": "display_data"
    }
   ],
   "source": [
    "f_plot_metrics(df_metrics,['lr_d','lr_g'])"
   ]
  },
  {
   "cell_type": "code",
   "execution_count": 13,
   "metadata": {},
   "outputs": [
    {
     "data": {
      "application/vnd.jupyter.widget-view+json": {
       "model_id": "1333737c427e45e287c5b1c1260f48ab",
       "version_major": 2,
       "version_minor": 0
      },
      "text/plain": [
       "interactive(children=(SelectMultiple(description='col_list', options=('step', 'epoch', 'Dreal', 'Dfake', 'Dful…"
      ]
     },
     "metadata": {},
     "output_type": "display_data"
    },
    {
     "data": {
      "text/plain": [
       "<function __main__.f_plot_metrics(df, col_list)>"
      ]
     },
     "execution_count": 13,
     "metadata": {},
     "output_type": "execute_result"
    }
   ],
   "source": [
    "interact_manual(f_plot_metrics,df=fixed(df_metrics), col_list=SelectMultiple(options=df_metrics.columns.values))"
   ]
  },
  {
   "cell_type": "code",
   "execution_count": 14,
   "metadata": {},
   "outputs": [
    {
     "data": {
      "text/html": [
       "<div>\n",
       "<style scoped>\n",
       "    .dataframe tbody tr th:only-of-type {\n",
       "        vertical-align: middle;\n",
       "    }\n",
       "\n",
       "    .dataframe tbody tr th {\n",
       "        vertical-align: top;\n",
       "    }\n",
       "\n",
       "    .dataframe thead th {\n",
       "        text-align: right;\n",
       "    }\n",
       "</style>\n",
       "<table border=\"1\" class=\"dataframe\">\n",
       "  <thead>\n",
       "    <tr style=\"text-align: right;\">\n",
       "      <th></th>\n",
       "      <th>step</th>\n",
       "      <th>epoch</th>\n",
       "      <th>Dreal</th>\n",
       "      <th>Dfake</th>\n",
       "      <th>Dfull</th>\n",
       "      <th>G_adv</th>\n",
       "      <th>G_full</th>\n",
       "      <th>spec_loss</th>\n",
       "      <th>hist_loss</th>\n",
       "      <th>spec_chi</th>\n",
       "      <th>hist_chi</th>\n",
       "      <th>gp_loss</th>\n",
       "      <th>fm_loss</th>\n",
       "      <th>D(x)</th>\n",
       "      <th>D_G_z1</th>\n",
       "      <th>D_G_z2</th>\n",
       "      <th>time</th>\n",
       "      <th>lr_d</th>\n",
       "      <th>lr_g</th>\n",
       "    </tr>\n",
       "  </thead>\n",
       "  <tbody>\n",
       "    <tr>\n",
       "      <th>0</th>\n",
       "      <td>0.0</td>\n",
       "      <td>0.0</td>\n",
       "      <td>0.684328</td>\n",
       "      <td>0.744878</td>\n",
       "      <td>1.429206</td>\n",
       "      <td>14.985600</td>\n",
       "      <td>26.546993</td>\n",
       "      <td>11.561393</td>\n",
       "      <td>1.649161</td>\n",
       "      <td>NaN</td>\n",
       "      <td>NaN</td>\n",
       "      <td>NaN</td>\n",
       "      <td>NaN</td>\n",
       "      <td>0.031475</td>\n",
       "      <td>0.102772</td>\n",
       "      <td>-14.985594</td>\n",
       "      <td>14.688859</td>\n",
       "      <td>0.0008</td>\n",
       "      <td>0.001</td>\n",
       "    </tr>\n",
       "    <tr>\n",
       "      <th>1</th>\n",
       "      <td>1.0</td>\n",
       "      <td>0.0</td>\n",
       "      <td>0.336497</td>\n",
       "      <td>5.654778</td>\n",
       "      <td>5.991275</td>\n",
       "      <td>23.825830</td>\n",
       "      <td>34.785828</td>\n",
       "      <td>10.959996</td>\n",
       "      <td>1.042977</td>\n",
       "      <td>inf</td>\n",
       "      <td>1.078888</td>\n",
       "      <td>NaN</td>\n",
       "      <td>NaN</td>\n",
       "      <td>4.616751</td>\n",
       "      <td>6.047825</td>\n",
       "      <td>-23.825830</td>\n",
       "      <td>0.452803</td>\n",
       "      <td>0.0008</td>\n",
       "      <td>0.001</td>\n",
       "    </tr>\n",
       "    <tr>\n",
       "      <th>2</th>\n",
       "      <td>2.0</td>\n",
       "      <td>0.0</td>\n",
       "      <td>19.139462</td>\n",
       "      <td>1.121398</td>\n",
       "      <td>20.260859</td>\n",
       "      <td>8.199556</td>\n",
       "      <td>inf</td>\n",
       "      <td>inf</td>\n",
       "      <td>0.875772</td>\n",
       "      <td>inf</td>\n",
       "      <td>1.073260</td>\n",
       "      <td>NaN</td>\n",
       "      <td>NaN</td>\n",
       "      <td>-20.943382</td>\n",
       "      <td>-21.892569</td>\n",
       "      <td>-8.198584</td>\n",
       "      <td>0.656637</td>\n",
       "      <td>0.0008</td>\n",
       "      <td>0.001</td>\n",
       "    </tr>\n",
       "    <tr>\n",
       "      <th>3</th>\n",
       "      <td>3.0</td>\n",
       "      <td>0.0</td>\n",
       "      <td>7.172502</td>\n",
       "      <td>0.407760</td>\n",
       "      <td>7.580261</td>\n",
       "      <td>0.003163</td>\n",
       "      <td>inf</td>\n",
       "      <td>inf</td>\n",
       "      <td>1.003720</td>\n",
       "      <td>inf</td>\n",
       "      <td>1.059141</td>\n",
       "      <td>NaN</td>\n",
       "      <td>NaN</td>\n",
       "      <td>-7.679461</td>\n",
       "      <td>-7.321924</td>\n",
       "      <td>7.211850</td>\n",
       "      <td>0.422542</td>\n",
       "      <td>0.0008</td>\n",
       "      <td>0.001</td>\n",
       "    </tr>\n",
       "    <tr>\n",
       "      <th>4</th>\n",
       "      <td>4.0</td>\n",
       "      <td>0.0</td>\n",
       "      <td>0.225813</td>\n",
       "      <td>6.585375</td>\n",
       "      <td>6.811188</td>\n",
       "      <td>0.083722</td>\n",
       "      <td>inf</td>\n",
       "      <td>inf</td>\n",
       "      <td>0.944587</td>\n",
       "      <td>inf</td>\n",
       "      <td>1.002694</td>\n",
       "      <td>NaN</td>\n",
       "      <td>NaN</td>\n",
       "      <td>7.258518</td>\n",
       "      <td>7.137567</td>\n",
       "      <td>2.589293</td>\n",
       "      <td>0.456555</td>\n",
       "      <td>0.0008</td>\n",
       "      <td>0.001</td>\n",
       "    </tr>\n",
       "    <tr>\n",
       "      <th>...</th>\n",
       "      <td>...</td>\n",
       "      <td>...</td>\n",
       "      <td>...</td>\n",
       "      <td>...</td>\n",
       "      <td>...</td>\n",
       "      <td>...</td>\n",
       "      <td>...</td>\n",
       "      <td>...</td>\n",
       "      <td>...</td>\n",
       "      <td>...</td>\n",
       "      <td>...</td>\n",
       "      <td>...</td>\n",
       "      <td>...</td>\n",
       "      <td>...</td>\n",
       "      <td>...</td>\n",
       "      <td>...</td>\n",
       "      <td>...</td>\n",
       "      <td>...</td>\n",
       "      <td>...</td>\n",
       "    </tr>\n",
       "    <tr>\n",
       "      <th>525</th>\n",
       "      <td>525.0</td>\n",
       "      <td>9.0</td>\n",
       "      <td>0.241629</td>\n",
       "      <td>0.233197</td>\n",
       "      <td>0.474826</td>\n",
       "      <td>10.148956</td>\n",
       "      <td>21.414413</td>\n",
       "      <td>11.265456</td>\n",
       "      <td>1.253028</td>\n",
       "      <td>10.962863</td>\n",
       "      <td>1.022404</td>\n",
       "      <td>NaN</td>\n",
       "      <td>NaN</td>\n",
       "      <td>2.510684</td>\n",
       "      <td>-1.878741</td>\n",
       "      <td>-10.148359</td>\n",
       "      <td>0.437776</td>\n",
       "      <td>0.0008</td>\n",
       "      <td>0.001</td>\n",
       "    </tr>\n",
       "    <tr>\n",
       "      <th>526</th>\n",
       "      <td>526.0</td>\n",
       "      <td>9.0</td>\n",
       "      <td>2.776093</td>\n",
       "      <td>0.702280</td>\n",
       "      <td>3.478373</td>\n",
       "      <td>7.032230</td>\n",
       "      <td>18.239979</td>\n",
       "      <td>11.207748</td>\n",
       "      <td>1.450263</td>\n",
       "      <td>10.987443</td>\n",
       "      <td>1.106873</td>\n",
       "      <td>NaN</td>\n",
       "      <td>NaN</td>\n",
       "      <td>-2.978030</td>\n",
       "      <td>-9.320860</td>\n",
       "      <td>-7.025029</td>\n",
       "      <td>0.454145</td>\n",
       "      <td>0.0008</td>\n",
       "      <td>0.001</td>\n",
       "    </tr>\n",
       "    <tr>\n",
       "      <th>527</th>\n",
       "      <td>527.0</td>\n",
       "      <td>9.0</td>\n",
       "      <td>0.516433</td>\n",
       "      <td>0.358227</td>\n",
       "      <td>0.874660</td>\n",
       "      <td>0.477100</td>\n",
       "      <td>11.842767</td>\n",
       "      <td>11.365666</td>\n",
       "      <td>1.751478</td>\n",
       "      <td>11.012884</td>\n",
       "      <td>1.530485</td>\n",
       "      <td>NaN</td>\n",
       "      <td>NaN</td>\n",
       "      <td>0.614733</td>\n",
       "      <td>-5.732837</td>\n",
       "      <td>0.874437</td>\n",
       "      <td>0.472343</td>\n",
       "      <td>0.0008</td>\n",
       "      <td>0.001</td>\n",
       "    </tr>\n",
       "    <tr>\n",
       "      <th>528</th>\n",
       "      <td>528.0</td>\n",
       "      <td>9.0</td>\n",
       "      <td>0.557273</td>\n",
       "      <td>2.949306</td>\n",
       "      <td>3.506579</td>\n",
       "      <td>0.631434</td>\n",
       "      <td>11.958301</td>\n",
       "      <td>11.326866</td>\n",
       "      <td>1.989422</td>\n",
       "      <td>11.040251</td>\n",
       "      <td>1.789453</td>\n",
       "      <td>NaN</td>\n",
       "      <td>NaN</td>\n",
       "      <td>4.975990</td>\n",
       "      <td>2.880639</td>\n",
       "      <td>0.409925</td>\n",
       "      <td>0.442258</td>\n",
       "      <td>0.0008</td>\n",
       "      <td>0.001</td>\n",
       "    </tr>\n",
       "    <tr>\n",
       "      <th>529</th>\n",
       "      <td>529.0</td>\n",
       "      <td>9.0</td>\n",
       "      <td>0.413890</td>\n",
       "      <td>2.166983</td>\n",
       "      <td>2.580873</td>\n",
       "      <td>4.083023</td>\n",
       "      <td>15.180902</td>\n",
       "      <td>11.097879</td>\n",
       "      <td>2.395262</td>\n",
       "      <td>11.073009</td>\n",
       "      <td>2.478205</td>\n",
       "      <td>NaN</td>\n",
       "      <td>NaN</td>\n",
       "      <td>3.901716</td>\n",
       "      <td>2.119097</td>\n",
       "      <td>-3.994792</td>\n",
       "      <td>0.452536</td>\n",
       "      <td>0.0008</td>\n",
       "      <td>0.001</td>\n",
       "    </tr>\n",
       "  </tbody>\n",
       "</table>\n",
       "<p>530 rows × 19 columns</p>\n",
       "</div>"
      ],
      "text/plain": [
       "      step  epoch      Dreal     Dfake      Dfull      G_adv     G_full  \\\n",
       "0      0.0    0.0   0.684328  0.744878   1.429206  14.985600  26.546993   \n",
       "1      1.0    0.0   0.336497  5.654778   5.991275  23.825830  34.785828   \n",
       "2      2.0    0.0  19.139462  1.121398  20.260859   8.199556        inf   \n",
       "3      3.0    0.0   7.172502  0.407760   7.580261   0.003163        inf   \n",
       "4      4.0    0.0   0.225813  6.585375   6.811188   0.083722        inf   \n",
       "..     ...    ...        ...       ...        ...        ...        ...   \n",
       "525  525.0    9.0   0.241629  0.233197   0.474826  10.148956  21.414413   \n",
       "526  526.0    9.0   2.776093  0.702280   3.478373   7.032230  18.239979   \n",
       "527  527.0    9.0   0.516433  0.358227   0.874660   0.477100  11.842767   \n",
       "528  528.0    9.0   0.557273  2.949306   3.506579   0.631434  11.958301   \n",
       "529  529.0    9.0   0.413890  2.166983   2.580873   4.083023  15.180902   \n",
       "\n",
       "     spec_loss  hist_loss   spec_chi  hist_chi  gp_loss  fm_loss       D(x)  \\\n",
       "0    11.561393   1.649161        NaN       NaN      NaN      NaN   0.031475   \n",
       "1    10.959996   1.042977        inf  1.078888      NaN      NaN   4.616751   \n",
       "2          inf   0.875772        inf  1.073260      NaN      NaN -20.943382   \n",
       "3          inf   1.003720        inf  1.059141      NaN      NaN  -7.679461   \n",
       "4          inf   0.944587        inf  1.002694      NaN      NaN   7.258518   \n",
       "..         ...        ...        ...       ...      ...      ...        ...   \n",
       "525  11.265456   1.253028  10.962863  1.022404      NaN      NaN   2.510684   \n",
       "526  11.207748   1.450263  10.987443  1.106873      NaN      NaN  -2.978030   \n",
       "527  11.365666   1.751478  11.012884  1.530485      NaN      NaN   0.614733   \n",
       "528  11.326866   1.989422  11.040251  1.789453      NaN      NaN   4.975990   \n",
       "529  11.097879   2.395262  11.073009  2.478205      NaN      NaN   3.901716   \n",
       "\n",
       "        D_G_z1     D_G_z2       time    lr_d   lr_g  \n",
       "0     0.102772 -14.985594  14.688859  0.0008  0.001  \n",
       "1     6.047825 -23.825830   0.452803  0.0008  0.001  \n",
       "2   -21.892569  -8.198584   0.656637  0.0008  0.001  \n",
       "3    -7.321924   7.211850   0.422542  0.0008  0.001  \n",
       "4     7.137567   2.589293   0.456555  0.0008  0.001  \n",
       "..         ...        ...        ...     ...    ...  \n",
       "525  -1.878741 -10.148359   0.437776  0.0008  0.001  \n",
       "526  -9.320860  -7.025029   0.454145  0.0008  0.001  \n",
       "527  -5.732837   0.874437   0.472343  0.0008  0.001  \n",
       "528   2.880639   0.409925   0.442258  0.0008  0.001  \n",
       "529   2.119097  -3.994792   0.452536  0.0008  0.001  \n",
       "\n",
       "[530 rows x 19 columns]"
      ]
     },
     "execution_count": 14,
     "metadata": {},
     "output_type": "execute_result"
    }
   ],
   "source": [
    "df_metrics[(df_metrics.lr_d>=6.69e-04) ]"
   ]
  },
  {
   "cell_type": "code",
   "execution_count": 20,
   "metadata": {},
   "outputs": [
    {
     "data": {
      "application/vnd.jupyter.widget-view+json": {
       "model_id": "0b7b3c57cea9484fa6ee4155cba0882d",
       "version_major": 2,
       "version_minor": 0
      },
      "text/plain": [
       "Canvas(toolbar=Toolbar(toolitems=[('Home', 'Reset original view', 'home', 'home'), ('Back', 'Back to previous …"
      ]
     },
     "metadata": {},
     "output_type": "display_data"
    },
    {
     "data": {
      "text/plain": [
       "<AxesSubplot:xlabel='step', ylabel='[lr_d]'>"
      ]
     },
     "execution_count": 20,
     "metadata": {},
     "output_type": "execute_result"
    }
   ],
   "source": [
    "df_metrics.plot(kind='scatter',x='step',y=['lr_d'])"
   ]
  },
  {
   "cell_type": "code",
   "execution_count": 16,
   "metadata": {},
   "outputs": [
    {
     "data": {
      "text/plain": [
       "(array([5.e-05, 1.e-04, 2.e-04, 4.e-04, 8.e-04,    nan]),\n",
       " array([0.001,   nan]))"
      ]
     },
     "execution_count": 16,
     "metadata": {},
     "output_type": "execute_result"
    }
   ],
   "source": [
    "np.unique(df_metrics.lr_d.values),np.unique(df_metrics.lr_g.values)\n",
    "\n",
    "# display(df_metrics.sort_values(by=['hist_chi']).head(8))\n",
    "# display(df_metrics.sort_values(by=['spec_chi']).head(8))"
   ]
  },
  {
   "cell_type": "markdown",
   "metadata": {},
   "source": [
    "## Calculating learn rates"
   ]
  },
  {
   "cell_type": "code",
   "execution_count": 17,
   "metadata": {},
   "outputs": [
    {
     "name": "stdout",
     "output_type": "stream",
     "text": [
      "0.5743491774985174 0.3298769776932235\n"
     ]
    },
    {
     "data": {
      "text/plain": [
       "[(0.000459479341998814, 10),\n",
       " (0.0002639015821545788, 40),\n",
       " (0.00015157165665103975, 60),\n",
       " (8.705505632961239e-05, 70),\n",
       " (4.9999999999999975e-05, 80),\n",
       " (2.8717458874925857e-05, 100)]"
      ]
     },
     "execution_count": 17,
     "metadata": {},
     "output_type": "execute_result"
    }
   ],
   "source": [
    "Nsteps=5;Lf=0.00005;Li=0.0008\n",
    "Lambda=(Lf/Li)**(1.0/Nsteps)\n",
    "print(Lambda,Lambda**2)\n",
    "\n",
    "lst=[10,40,60,70,80,100]\n",
    "# lst=range(1,11)\n",
    "[(Li*Lambda**(count+1),i) for count,i in enumerate(lst)]"
   ]
  },
  {
   "cell_type": "code",
   "execution_count": 19,
   "metadata": {},
   "outputs": [
    {
     "data": {
      "text/plain": [
       "[(0.001, 10),\n",
       " (0.00025, 40),\n",
       " (6.25e-05, 60),\n",
       " (1.5625e-05, 70),\n",
       " (3.90625e-06, 80),\n",
       " (9.765625e-07, 100),\n",
       " (2.44140625e-07, 140),\n",
       " (6.103515625e-08, 180)]"
      ]
     },
     "execution_count": 19,
     "metadata": {},
     "output_type": "execute_result"
    }
   ],
   "source": [
    "Lambda=0.25;Li=0.004\n",
    "lst=[10,40,60,70,80,100,140,180]\n",
    "# lst=range(1,11)\n",
    "[(Li*Lambda**(count+1),i) for count,i in enumerate(lst)]"
   ]
  },
  {
   "cell_type": "markdown",
   "metadata": {},
   "source": [
    "## Grid plot of images"
   ]
  },
  {
   "cell_type": "code",
   "execution_count": 46,
   "metadata": {
    "tags": []
   },
   "outputs": [
    {
     "name": "stdout",
     "output_type": "stream",
     "text": [
      "9530 9540 9540 9540 9550 9530 9570 9570 9530 9560 9560 9550 9570 9550 9560\n"
     ]
    }
   ],
   "source": [
    "epoch=170\n",
    "flist=glob.glob(result_dir+'/images/gen_img*_epoch-{0}_step*'.format(epoch))\n",
    "steps_list=[fname.split('/')[-1].split('step-')[-1].split('.')[0] for fname in flist]\n",
    "\n",
    "print(*steps_list)"
   ]
  },
  {
   "cell_type": "code",
   "execution_count": 47,
   "metadata": {
    "tags": []
   },
   "outputs": [
    {
     "data": {
      "text/plain": [
       "'/gpfs/alpine/ast153/proj-shared/venkitesh/Cosmogan/data/results_pytorch/3d/20210519_81818_cgan_bs16_lr0.001_nodes8_spec0.1/images/gen_img_label-0.5_epoch-170_step-9550.npy'"
      ]
     },
     "execution_count": 47,
     "metadata": {},
     "output_type": "execute_result"
    }
   ],
   "source": [
    "# fname=flist[0]\n",
    "# fname,fname.split('/')[-1].split('step-')[-1].split('.')[0]\n",
    "\n",
    "step=9550\n",
    "fname=glob.glob(result_dir+'/images/gen_img_*_epoch-{0}_step-{1}.npy'.format(epoch,step))[0]\n",
    "fname"
   ]
  },
  {
   "cell_type": "code",
   "execution_count": 48,
   "metadata": {},
   "outputs": [
    {
     "name": "stdout",
     "output_type": "stream",
     "text": [
      "(32, 64, 64, 64)\n",
      "2 4\n"
     ]
    },
    {
     "data": {
      "application/vnd.jupyter.widget-view+json": {
       "model_id": "8960147260fc405e971a432345281acb",
       "version_major": 2,
       "version_minor": 0
      },
      "text/plain": [
       "Canvas(toolbar=Toolbar(toolitems=[('Home', 'Reset original view', 'home', 'home'), ('Back', 'Back to previous …"
      ]
     },
     "metadata": {},
     "output_type": "display_data"
    }
   ],
   "source": [
    "images=np.load(fname)[:,0,:,:]\n",
    "print(images.shape)\n",
    "f_plot_grid(images[:8,:,:,0],cols=4,fig_size=(8,4))"
   ]
  },
  {
   "cell_type": "code",
   "execution_count": null,
   "metadata": {},
   "outputs": [],
   "source": []
  }
 ],
 "metadata": {
  "kernelspec": {
   "display_name": "OLCF-base",
   "language": "python",
   "name": "python3"
  },
  "language_info": {
   "codemirror_mode": {
    "name": "ipython",
    "version": 3
   },
   "file_extension": ".py",
   "mimetype": "text/x-python",
   "name": "python",
   "nbconvert_exporter": "python",
   "pygments_lexer": "ipython3",
   "version": "3.8.8"
  }
 },
 "nbformat": 4,
 "nbformat_minor": 4
}

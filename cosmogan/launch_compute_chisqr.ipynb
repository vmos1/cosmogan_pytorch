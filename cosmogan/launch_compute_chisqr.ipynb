{
 "cells": [
  {
   "cell_type": "markdown",
   "metadata": {},
   "source": [
    "# Launch post-run analysis jobs\n",
    "Code to create a batch script for launching jobs on cori\n",
    "Sep 1, 2020"
   ]
  },
  {
   "cell_type": "code",
   "execution_count": 1,
   "metadata": {},
   "outputs": [],
   "source": [
    "import os\n",
    "import glob\n",
    "import time\n",
    "import subprocess as sp\n",
    "import numpy as np"
   ]
  },
  {
   "cell_type": "code",
   "execution_count": 2,
   "metadata": {},
   "outputs": [
    {
     "name": "stdout",
     "output_type": "stream",
     "text": [
      "/global/u1/v/vpa/project/jpt_notebooks/Cosmology/Cosmo_GAN/repositories/cosmogan_pytorch/cosmogan\n"
     ]
    }
   ],
   "source": [
    "curr_dir=os.getcwd()\n",
    "print(curr_dir)"
   ]
  },
  {
   "cell_type": "code",
   "execution_count": 3,
   "metadata": {},
   "outputs": [],
   "source": [
    "val_files={'128':'/global/cfs/cdirs/m3363/vayyar/cosmogan_data/raw_data/128_square/dataset_2_smoothing_200k/norm_1_train_val.npy',\n",
    "          '512':'/global/cfs/cdirs/m3363/vayyar/cosmogan_data/raw_data/512_square/dataset1_smoothing_single_universe/norm_1_train_val.npy'\n",
    "}"
   ]
  },
  {
   "cell_type": "code",
   "execution_count": 4,
   "metadata": {},
   "outputs": [],
   "source": [
    "results_loc='/global/cfs/cdirs/m3363/vayyar/cosmogan_data/results_from_other_code/pytorch/results/128sq/'"
   ]
  },
  {
   "cell_type": "code",
   "execution_count": 5,
   "metadata": {},
   "outputs": [
    {
     "name": "stdout",
     "output_type": "stream",
     "text": [
      "\u001b[0m\u001b[01;34m20201002_064327\u001b[0m/\n",
      "\u001b[01;34m20201002_073628\u001b[0m/\n",
      "\u001b[01;34m20201029_153017_with_spec_loss\u001b[0m/\n",
      "\u001b[01;34m20201029_160206_full_loss\u001b[0m/\n",
      "\u001b[01;34m20201029_180105_no_adv_loss\u001b[0m/\n",
      "\u001b[01;34m20201030_214933_full_loss\u001b[0m/\n",
      "\u001b[01;34m20201107_180222_full_loss_b64_no-invtransform\u001b[0m/\n",
      "\u001b[01;34m20201110_072035_full_loss_b64_with-invtransform\u001b[0m/\n",
      "\u001b[01;34m20201111_084016_full_loss_b64_run1\u001b[0m/\n",
      "\u001b[01;34m20201111_101540_full_loss_b64_run2\u001b[0m/\n",
      "\u001b[01;34m20201111_164010_full_loss_b64_lr0.002_run1\u001b[0m/\n",
      "\u001b[01;34m20201112_074401_full_loss_b64_lr0.002_run2\u001b[0m/\n"
     ]
    }
   ],
   "source": [
    "ls /global/cfs/cdirs/m3363/vayyar/cosmogan_data/results_from_other_code/pytorch/results/128sq/"
   ]
  },
  {
   "cell_type": "code",
   "execution_count": 6,
   "metadata": {},
   "outputs": [],
   "source": [
    "# glob.glob(results_loc+'*')"
   ]
  },
  {
   "cell_type": "code",
   "execution_count": 15,
   "metadata": {},
   "outputs": [],
   "source": [
    "ip_folder='20201111_164010_full_loss_b64_lr0.002_run1'"
   ]
  },
  {
   "cell_type": "code",
   "execution_count": 16,
   "metadata": {},
   "outputs": [
    {
     "name": "stdout",
     "output_type": "stream",
     "text": [
      "{'job_name': 'analysis_128', 'queue': 'debug', 'time': '00:30:00', 'val_file': '/global/cfs/cdirs/m3363/vayyar/cosmogan_data/raw_data/128_square/dataset_2_smoothing_200k/norm_1_train_val.npy', 'ip_folder': '/global/cfs/cdirs/m3363/vayyar/cosmogan_data/results_from_other_code/pytorch/results/128sq/20201111_164010_full_loss_b64_lr0.002_run1'}\n"
     ]
    }
   ],
   "source": [
    "### Default dictionary\n",
    "img_size=128\n",
    "dict_pars={'job_name':'analysis_128', 'queue':'debug',\n",
    "           'time':'00:30:00'}\n",
    "\n",
    "dict_pars['val_file']=val_files[str(img_size)]\n",
    "dict_pars['ip_folder']=results_loc+ip_folder\n",
    "\n",
    "print(dict_pars)"
   ]
  },
  {
   "cell_type": "code",
   "execution_count": 17,
   "metadata": {},
   "outputs": [],
   "source": [
    "assert os.path.isdir(dict_pars['ip_folder'])"
   ]
  },
  {
   "cell_type": "code",
   "execution_count": 18,
   "metadata": {},
   "outputs": [],
   "source": [
    "bash_strg='''#!/bin/bash\n",
    "#################\n",
    "#SBATCH --nodes=1\n",
    "#SBATCH --qos={queue}\n",
    "#SBATCH --output=slurm-%x-%j.out\n",
    "#SBATCH --account=m3363\n",
    "#SBATCH -C haswell\n",
    "#SBATCH --time={time}\n",
    "#SBATCH --job-name={job_name}\n",
    "\n",
    "echo \"--start date\" `date` `date +%s`\n",
    "echo '--hostname ' $HOSTNAME\n",
    "\n",
    "conda activate v3\n",
    "code_dir='/global/homes/v/vpa/project/jpt_notebooks/Cosmology/Cosmo_GAN/repositories/cosmogan_pytorch/cosmogan/1_main_code'\n",
    "\n",
    "python $code_dir/post_analysis_pandas.py -f {ip_folder}  -v {val_file}\n",
    "conda deactivate\n",
    "echo \"--end date\" `date` `date +%s`\n",
    "'''.format(**dict_pars)"
   ]
  },
  {
   "cell_type": "code",
   "execution_count": 19,
   "metadata": {},
   "outputs": [],
   "source": [
    "# bash_strg"
   ]
  },
  {
   "cell_type": "code",
   "execution_count": 20,
   "metadata": {},
   "outputs": [
    {
     "name": "stdout",
     "output_type": "stream",
     "text": [
      "/global/cfs/cdirs/m3363/vayyar/cosmogan_data/results_from_other_code/pytorch/results/batch_analysis.sh\n"
     ]
    }
   ],
   "source": [
    "### Write bash file\n",
    "staging_loc='/global/cfs/cdirs/m3363/vayyar/cosmogan_data/results_from_other_code/pytorch/results/'\n",
    "fname='batch_analysis.sh'\n",
    "filename=staging_loc+fname\n",
    "print(filename)\n",
    "with open (filename,'w') as f:\n",
    "    f.write(bash_strg)"
   ]
  },
  {
   "cell_type": "code",
   "execution_count": 21,
   "metadata": {},
   "outputs": [],
   "source": [
    "### Move to staging locations in project space:\n",
    "os.chdir(staging_loc)"
   ]
  },
  {
   "cell_type": "code",
   "execution_count": 22,
   "metadata": {},
   "outputs": [
    {
     "name": "stdout",
     "output_type": "stream",
     "text": [
      "#!/bin/bash\n",
      "#################\n",
      "#SBATCH --nodes=1\n",
      "#SBATCH --qos=debug\n",
      "#SBATCH --output=slurm-%x-%j.out\n",
      "#SBATCH --account=m3363\n",
      "#SBATCH -C haswell\n",
      "#SBATCH --time=00:30:00\n",
      "#SBATCH --job-name=analysis_128\n",
      "\n",
      "echo \"--start date\" `date` `date +%s`\n",
      "echo '--hostname ' $HOSTNAME\n",
      "\n",
      "conda activate v3\n",
      "code_dir='/global/homes/v/vpa/project/jpt_notebooks/Cosmology/Cosmo_GAN/repositories/cosmogan_pytorch/cosmogan/1_main_code'\n",
      "\n",
      "python $code_dir/post_analysis_pandas.py -f /global/cfs/cdirs/m3363/vayyar/cosmogan_data/results_from_other_code/pytorch/results/128sq/20201111_164010_full_loss_b64_lr0.002_run1  -v /global/cfs/cdirs/m3363/vayyar/cosmogan_data/raw_data/128_square/dataset_2_smoothing_200k/norm_1_train_val.npy\n",
      "conda deactivate\n",
      "echo \"--end date\" `date` `date +%s`\n"
     ]
    }
   ],
   "source": [
    "%%bash -s \"$filename\" ## Use python variable in bash\n",
    "cat $1\n",
    "chmod +x $1"
   ]
  },
  {
   "cell_type": "markdown",
   "metadata": {},
   "source": [
    "### Submit jobs to cori queue"
   ]
  },
  {
   "cell_type": "code",
   "execution_count": 23,
   "metadata": {},
   "outputs": [
    {
     "name": "stdout",
     "output_type": "stream",
     "text": [
      "Submitted batch job 36193494\n"
     ]
    }
   ],
   "source": [
    "%%bash -s \"$filename\" ## Use python variable in bash\n",
    "sbatch $1"
   ]
  },
  {
   "cell_type": "code",
   "execution_count": null,
   "metadata": {},
   "outputs": [],
   "source": []
  }
 ],
 "metadata": {
  "kernelspec": {
   "display_name": "v3",
   "language": "python",
   "name": "v-jpt-3"
  },
  "language_info": {
   "codemirror_mode": {
    "name": "ipython",
    "version": 3
   },
   "file_extension": ".py",
   "mimetype": "text/x-python",
   "name": "python",
   "nbconvert_exporter": "python",
   "pygments_lexer": "ipython3",
   "version": "3.8.6"
  }
 },
 "nbformat": 4,
 "nbformat_minor": 4
}
